{
 "cells": [
  {
   "cell_type": "code",
   "execution_count": 9,
   "id": "71b31707-5f82-4725-8b7c-2c3b85c023f8",
   "metadata": {},
   "outputs": [
    {
     "name": "stderr",
     "output_type": "stream",
     "text": [
      "C:\\Users\\negin\\anaconda3\\Lib\\site-packages\\urllib3\\connectionpool.py:1099: InsecureRequestWarning: Unverified HTTPS request is being made to host 'jobinja.ir'. Adding certificate verification is strongly advised. See: https://urllib3.readthedocs.io/en/latest/advanced-usage.html#tls-warnings\n",
      "  warnings.warn(\n",
      "C:\\Users\\negin\\anaconda3\\Lib\\site-packages\\urllib3\\connectionpool.py:1099: InsecureRequestWarning: Unverified HTTPS request is being made to host 'jobinja.ir'. Adding certificate verification is strongly advised. See: https://urllib3.readthedocs.io/en/latest/advanced-usage.html#tls-warnings\n",
      "  warnings.warn(\n",
      "C:\\Users\\negin\\anaconda3\\Lib\\site-packages\\urllib3\\connectionpool.py:1099: InsecureRequestWarning: Unverified HTTPS request is being made to host 'jobinja.ir'. Adding certificate verification is strongly advised. See: https://urllib3.readthedocs.io/en/latest/advanced-usage.html#tls-warnings\n",
      "  warnings.warn(\n"
     ]
    },
    {
     "name": "stdout",
     "output_type": "stream",
     "text": [
      "URL: https://jobinja.ir/jobs?filters%5Bjob_categories%5D%5B%5D=%D8%AA%D8%B1%D8%A8%DB%8C%D8%AA+%D8%A8%D8%AF%D9%86%DB%8C\n",
      "Content Snippet: استخدام مربی بدنسازی | استخدام کارشناس ورزش و سلامت\n",
      " | جابینجاامکان جدید:همین حالا رزومه خود را در کمتر از ۱۰ دقیقه بسازید،برو به رزومه‌سازJobinja | جابینجا | استخدام، آگهی استخدام، کاریابی، استخدامی جدید، بازار کار، نیازمندیها، ساخت رزومه رایگان، کار و استخدام دولتی، اشتغال، جستجوگر حرفه ای استخدام و شغلخانهجستجوی مشاغلرزومه‌ساز۵۰ شرکت برتربخش کارفرمایانورود کارجوثبت‌نام کارجوورود کارجوثبت‌نام کارجو۱جابینجا چطور به استخدام شدن من کمک می‌کند؟مشاهدهمشاهده بیشترجستجودرخواست‌های مننشان‌شده‌هاآگهی‌های پیشنهادیاز آگهی‌های جدید باخبر شوبهترین فرصت های شغلی در جابینجاهمه‌ی استان‌هاتهرانخراسان رضویاصفهانالبرزفارسقمآذربایجان شرقیمازندرانگیلانخوزستانکرمانیزدقزوینمرکزیهرمزگانگلستانزنجانآذربایجان غربیبوشهرسیستان و بلوچستانسمنانکرمانشاههمداناردبیللرستانکردستانخراسان شمالیخراسان جنوبیچهارمحال بختیاریایلامکهکیلویه و بویراحمدهمه‌ی دسته‌بندی‌هاتربیت بدنیفروش و بازاریابیوب،‌ برنامه‌نویسی و نرم‌افزارمالی و حسابداریمسئول دفتر، اجرائی و اداریتولید و مدیریت محتوادیجیتال مارکتینگپشتیبانی و امور مشتریانطراحیI\n",
      "\n"
     ]
    },
    {
     "name": "stderr",
     "output_type": "stream",
     "text": [
      "C:\\Users\\negin\\anaconda3\\Lib\\site-packages\\urllib3\\connectionpool.py:1099: InsecureRequestWarning: Unverified HTTPS request is being made to host 'jobinja.ir'. Adding certificate verification is strongly advised. See: https://urllib3.readthedocs.io/en/latest/advanced-usage.html#tls-warnings\n",
      "  warnings.warn(\n",
      "C:\\Users\\negin\\anaconda3\\Lib\\site-packages\\urllib3\\connectionpool.py:1099: InsecureRequestWarning: Unverified HTTPS request is being made to host 'jobinja.ir'. Adding certificate verification is strongly advised. See: https://urllib3.readthedocs.io/en/latest/advanced-usage.html#tls-warnings\n",
      "  warnings.warn(\n"
     ]
    },
    {
     "name": "stdout",
     "output_type": "stream",
     "text": [
      "URL: https://jobinja.ir/jobs?filters%5Blocations%5D%5B%5D=%D8%AE%D8%B1%D8%A7%D8%B3%D8%A7%D9%86+%D8%B4%D9%85%D8%A7%D9%84%DB%8C\n",
      "Content Snippet: آگهی استخدام خراسان شمالی | استخدام خراسان شمالی | کاریابی خراسان شمالی\n",
      " | جابینجاامکان جدید:همین حالا رزومه خود را در کمتر از ۱۰ دقیقه بسازید،برو به رزومه‌سازJobinja | جابینجا | استخدام، آگهی استخدام، کاریابی، استخدامی جدید، بازار کار، نیازمندیها، ساخت رزومه رایگان، کار و استخدام دولتی، اشتغال، جستجوگر حرفه ای استخدام و شغلخانهجستجوی مشاغلرزومه‌ساز۵۰ شرکت برتربخش کارفرمایانورود کارجوثبت‌نام کارجوورود کارجوثبت‌نام کارجو۱جابینجا چطور به استخدام شدن من کمک می‌کند؟مشاهدهمشاهده بیشترجستجودرخواست‌های مننشان‌شده‌هاآگهی‌های پیشنهادیاز آگهی‌های جدید باخبر شوبهترین فرصت های شغلی در جابینجاهمه‌ی استان‌هاخراسان شمالیتهرانخراسان رضویاصفهانالبرزفارسقمآذربایجان شرقیمازندرانگیلانخوزستانکرمانیزدقزوینمرکزیهرمزگانگلستانزنجانآذربایجان غربیبوشهرسیستان و بلوچستانسمنانکرمانشاههمداناردبیللرستانکردستانخراسان جنوبیچهارمحال بختیاریایلامکهکیلویه و بویراحمدهمه‌ی دسته‌بندی‌هافروش و بازاریابیوب،‌ برنامه‌نویسی و نرم‌افزارمالی و حسابداریمسئول دفتر، اجرائی و اداریتولید و مدیریت محتوادیجیتال مارکتینگپشتیبانی و امور مشت\n",
      "\n"
     ]
    },
    {
     "name": "stderr",
     "output_type": "stream",
     "text": [
      "C:\\Users\\negin\\anaconda3\\Lib\\site-packages\\urllib3\\connectionpool.py:1099: InsecureRequestWarning: Unverified HTTPS request is being made to host 'jobinja.ir'. Adding certificate verification is strongly advised. See: https://urllib3.readthedocs.io/en/latest/advanced-usage.html#tls-warnings\n",
      "  warnings.warn(\n"
     ]
    },
    {
     "name": "stdout",
     "output_type": "stream",
     "text": [
      "URL: https://jobinja.ir/jobs?filters%5Bkeywords%5D%5B0%5D=%D8%A7%D8%AF%D9%85%DB%8C%D9%86%DB%8C\n",
      "Content Snippet: فرصت های شغلی ادمینی\n",
      " | جابینجاامکان جدید:همین حالا رزومه خود را در کمتر از ۱۰ دقیقه بسازید،برو به رزومه‌سازJobinja | جابینجا | استخدام، آگهی استخدام، کاریابی، استخدامی جدید، بازار کار، نیازمندیها، ساخت رزومه رایگان، کار و استخدام دولتی، اشتغال، جستجوگر حرفه ای استخدام و شغلخانهجستجوی مشاغلرزومه‌ساز۵۰ شرکت برتربخش کارفرمایانورود کارجوثبت‌نام کارجوورود کارجوثبت‌نام کارجو۱جابینجا چطور به استخدام شدن من کمک می‌کند؟مشاهدهمشاهده بیشترجستجودرخواست‌های مننشان‌شده‌هاآگهی‌های پیشنهادیاز آگهی‌های جدید باخبر شوبهترین فرصت های شغلی در جابینجاهمه‌ی استان‌هاتهرانخراسان رضویاصفهانالبرزفارسقمآذربایجان شرقیمازندرانگیلانخوزستانکرمانیزدقزوینمرکزیهرمزگانگلستانزنجانآذربایجان غربیبوشهرسیستان و بلوچستانسمنانکرمانشاههمداناردبیللرستانکردستانخراسان شمالیخراسان جنوبیچهارمحال بختیاریایلامکهکیلویه و بویراحمدهمه‌ی دسته‌بندی‌هافروش و بازاریابیوب،‌ برنامه‌نویسی و نرم‌افزارمالی و حسابداریمسئول دفتر، اجرائی و اداریتولید و مدیریت محتوادیجیتال مارکتینگپشتیبانی و امور مشتریانطراحیIT / DevOps / Serverمهندسی صنایع و مدیریت \n",
      "\n"
     ]
    },
    {
     "name": "stderr",
     "output_type": "stream",
     "text": [
      "C:\\Users\\negin\\anaconda3\\Lib\\site-packages\\urllib3\\connectionpool.py:1099: InsecureRequestWarning: Unverified HTTPS request is being made to host 'jobinja.ir'. Adding certificate verification is strongly advised. See: https://urllib3.readthedocs.io/en/latest/advanced-usage.html#tls-warnings\n",
      "  warnings.warn(\n"
     ]
    },
    {
     "name": "stdout",
     "output_type": "stream",
     "text": [
      "URL: https://jobinja.ir/jobs?filters%5Bkeywords%5D%5B0%5D=react\n",
      "Content Snippet: فرصت های شغلی react\n",
      " | جابینجاامکان جدید:همین حالا رزومه خود را در کمتر از ۱۰ دقیقه بسازید،برو به رزومه‌سازJobinja | جابینجا | استخدام، آگهی استخدام، کاریابی، استخدامی جدید، بازار کار، نیازمندیها، ساخت رزومه رایگان، کار و استخدام دولتی، اشتغال، جستجوگر حرفه ای استخدام و شغلخانهجستجوی مشاغلرزومه‌ساز۵۰ شرکت برتربخش کارفرمایانورود کارجوثبت‌نام کارجوورود کارجوثبت‌نام کارجو۱جابینجا چطور به استخدام شدن من کمک می‌کند؟مشاهدهمشاهده بیشترجستجودرخواست‌های مننشان‌شده‌هاآگهی‌های پیشنهادیاز آگهی‌های جدید باخبر شوبهترین فرصت های شغلی در جابینجاهمه‌ی استان‌هاتهرانخراسان رضویاصفهانالبرزفارسقمآذربایجان شرقیمازندرانگیلانخوزستانکرمانیزدقزوینمرکزیهرمزگانگلستانزنجانآذربایجان غربیبوشهرسیستان و بلوچستانسمنانکرمانشاههمداناردبیللرستانکردستانخراسان شمالیخراسان جنوبیچهارمحال بختیاریایلامکهکیلویه و بویراحمدهمه‌ی دسته‌بندی‌هافروش و بازاریابیوب،‌ برنامه‌نویسی و نرم‌افزارمالی و حسابداریمسئول دفتر، اجرائی و اداریتولید و مدیریت محتوادیجیتال مارکتینگپشتیبانی و امور مشتریانطراحیIT / DevOps / Serverمهندسی صنایع و مدیریت ص\n",
      "\n"
     ]
    },
    {
     "name": "stderr",
     "output_type": "stream",
     "text": [
      "C:\\Users\\negin\\anaconda3\\Lib\\site-packages\\urllib3\\connectionpool.py:1099: InsecureRequestWarning: Unverified HTTPS request is being made to host 'jobinja.ir'. Adding certificate verification is strongly advised. See: https://urllib3.readthedocs.io/en/latest/advanced-usage.html#tls-warnings\n",
      "  warnings.warn(\n"
     ]
    },
    {
     "name": "stdout",
     "output_type": "stream",
     "text": [
      "URL: https://jobinja.ir/companies/banimode\n",
      "Content Snippet: استخدام در شرکت بانی مد، آگهی های استخدام Banimode | جابینجاامکان جدید:همین حالا رزومه خود را در کمتر از ۱۰ دقیقه بسازید،برو به رزومه‌سازJobinja | جابینجا | استخدام، آگهی استخدام، کاریابی، استخدامی جدید، بازار کار، نیازمندیها، ساخت رزومه رایگان، کار و استخدام دولتی، اشتغال، جستجوگر حرفه ای استخدام و شغلخانهجستجوی مشاغلرزومه‌ساز۵۰ شرکت برتربخش کارفرمایانورود کارجوثبت‌نام کارجوورود کارجوثبت‌نام کارجو۱جابینجا چطور به استخدام شدن من کمک می‌کند؟مشاهدهمشاهده بیشتربانی مد|Banimodeتاسیس در  ۱۳۹۳خرده‌فروشی، عمده‌فروشی و فروشگاه‌های زنجیره‌ای۲۰۱ تا ۵۰۰ نفرbanimode.comدر یک نگاهمعرفیفرصت‌های شغلی۱۸شرکت بانی مد در زمینه مد، پوشاک و لوازم آرایشی و بهداشتی فعالیت دارد.موقعیت مکانیتهران، تهراناعضای شرکتعبدالله طاهریمدیرعاملهدف ما در شرکت بانی مد تیم سازی است، تیمی با انگیزه، خلاق و فعال. تمام تلاش ما در این مجموعه ایجاد فرصتی برابر جهت یادگیری، رشد و توسعه می باشد.لیلا عبادیمدیر ارتباط با مشتریانبانی مد همیشه تلاش خود را می‌کند تا کارمندانی شاد پرورش دهد و تعادلی میان زندگی فردی و حرفه‌ای ایجاد کند.ف\n",
      "\n"
     ]
    },
    {
     "name": "stderr",
     "output_type": "stream",
     "text": [
      "C:\\Users\\negin\\anaconda3\\Lib\\site-packages\\urllib3\\connectionpool.py:1099: InsecureRequestWarning: Unverified HTTPS request is being made to host 'jobinja.ir'. Adding certificate verification is strongly advised. See: https://urllib3.readthedocs.io/en/latest/advanced-usage.html#tls-warnings\n",
      "  warnings.warn(\n"
     ]
    },
    {
     "name": "stdout",
     "output_type": "stream",
     "text": [
      "URL: https://jobinja.ir/jobs?filters%5Bkeywords%5D%5B0%5D=%D8%A8%D8%B1%D9%86%D8%A7%D9%85%D9%87+%D9%86%D9%88%DB%8C%D8%B3%DB%8C\n",
      "Content Snippet: فرصت های شغلی برنامه نویسی\n",
      " | جابینجاامکان جدید:همین حالا رزومه خود را در کمتر از ۱۰ دقیقه بسازید،برو به رزومه‌سازJobinja | جابینجا | استخدام، آگهی استخدام، کاریابی، استخدامی جدید، بازار کار، نیازمندیها، ساخت رزومه رایگان، کار و استخدام دولتی، اشتغال، جستجوگر حرفه ای استخدام و شغلخانهجستجوی مشاغلرزومه‌ساز۵۰ شرکت برتربخش کارفرمایانورود کارجوثبت‌نام کارجوورود کارجوثبت‌نام کارجو۱جابینجا چطور به استخدام شدن من کمک می‌کند؟مشاهدهمشاهده بیشترجستجودرخواست‌های مننشان‌شده‌هاآگهی‌های پیشنهادیاز آگهی‌های جدید باخبر شوبهترین فرصت های شغلی در جابینجاهمه‌ی استان‌هاتهرانخراسان رضویاصفهانالبرزفارسقمآذربایجان شرقیمازندرانگیلانخوزستانکرمانیزدقزوینمرکزیهرمزگانگلستانزنجانآذربایجان غربیبوشهرسیستان و بلوچستانسمنانکرمانشاههمداناردبیللرستانکردستانخراسان شمالیخراسان جنوبیچهارمحال بختیاریایلامکهکیلویه و بویراحمدهمه‌ی دسته‌بندی‌هافروش و بازاریابیوب،‌ برنامه‌نویسی و نرم‌افزارمالی و حسابداریمسئول دفتر، اجرائی و اداریتولید و مدیریت محتوادیجیتال مارکتینگپشتیبانی و امور مشتریانطراحیIT / DevOps / Serverمهندسی صنایع و م\n",
      "\n"
     ]
    },
    {
     "name": "stderr",
     "output_type": "stream",
     "text": [
      "C:\\Users\\negin\\anaconda3\\Lib\\site-packages\\urllib3\\connectionpool.py:1099: InsecureRequestWarning: Unverified HTTPS request is being made to host 'jobinja.ir'. Adding certificate verification is strongly advised. See: https://urllib3.readthedocs.io/en/latest/advanced-usage.html#tls-warnings\n",
      "  warnings.warn(\n"
     ]
    },
    {
     "name": "stdout",
     "output_type": "stream",
     "text": [
      "URL: https://jobinja.ir/companies/golrang-industrial-group\n",
      "Content Snippet: استخدام در شرکت گلرنگ سیستم، آگهی های استخدام Golrang System | جابینجاامکان جدید:همین حالا رزومه خود را در کمتر از ۱۰ دقیقه بسازید،برو به رزومه‌سازJobinja | جابینجا | استخدام، آگهی استخدام، کاریابی، استخدامی جدید، بازار کار، نیازمندیها، ساخت رزومه رایگان، کار و استخدام دولتی، اشتغال، جستجوگر حرفه ای استخدام و شغلخانهجستجوی مشاغلرزومه‌ساز۵۰ شرکت برتربخش کارفرمایانورود کارجوثبت‌نام کارجوورود کارجوثبت‌نام کارجو۱جابینجا چطور به استخدام شدن من کمک می‌کند؟مشاهدهمشاهده بیشترگلرنگ سیستم|Golrang Systemتاسیس در  ۱۳۹۵کامپیوتر، فناوری اطلاعات و اینترنت۲۰۱ تا ۵۰۰ نفرwww.golrangsystem.com/در یک نگاهمعرفیفرصت‌های شغلی۱۴تمام اعضای خانواده بزرگ گلرنگ در تلاش هستند تا با اعتماد و همکاری متقابل به ارزش‌های سازمانی دست یابند.موقعیت مکانیتهران، تهراناعضای شرکتمنا شریفیمدیر منابع انسانیدر گلرنگ سیستم همیشه حس خوب شکوفایی افراد است که باعث بالا رفتن رضایت شغلی سرمایه‌ی انسانی می‌شود. ما بر این باوریم که منابع انسانی ما ارزشمندترین دارایی‌های ما هستند و پیشرفت شرکت در گرو رشد، آرامش و رضایت درونی همکاران ماست\n",
      "\n"
     ]
    },
    {
     "name": "stderr",
     "output_type": "stream",
     "text": [
      "C:\\Users\\negin\\anaconda3\\Lib\\site-packages\\urllib3\\connectionpool.py:1099: InsecureRequestWarning: Unverified HTTPS request is being made to host 'jobinja.ir'. Adding certificate verification is strongly advised. See: https://urllib3.readthedocs.io/en/latest/advanced-usage.html#tls-warnings\n",
      "  warnings.warn(\n"
     ]
    },
    {
     "name": "stdout",
     "output_type": "stream",
     "text": [
      "URL: https://jobinja.ir/how-to\n",
      "Content Snippet: جابینجا به چه شکلی به استخدام شدن من کمک می‌کنه؟ | جابینجاامکان جدید:همین حالا رزومه خود را در کمتر از ۱۰ دقیقه بسازید،برو به رزومه‌سازJobinja | جابینجا | استخدام، آگهی استخدام، کاریابی، استخدامی جدید، بازار کار، نیازمندیها، ساخت رزومه رایگان، کار و استخدام دولتی، اشتغال، جستجوگر حرفه ای استخدام و شغلخانهجستجوی مشاغلرزومه‌ساز۵۰ شرکت برتربخش کارفرمایانورود کارجوثبت‌نام کارجوورود کارجوثبت‌نام کارجو۱جابینجا چطور به استخدام شدن من کمک می‌کند؟مشاهدهمشاهده بیشترجستجودرخواست‌های مننشان‌شده‌هاآگهی‌های پیشنهادیاز آگهی‌های جدید باخبر شوجابینجا به چه شکلی به استخدام شدن\n",
      "                                من\n",
      "                                کمک می‌کنه؟رایگان۱ثبت‌نام به عنوان کارجوقبل از هرکاری شما باید به عنوان کارجو در سرویس استخدامی جابینجا ثبت نام کنید، با ثبت‌نام کردن ما اطلاعات بیشتری از شما داریم و بر اساس همین می‌تونیم سرویس‌های بهتری رو به شما ارائه بدیم.ثبت‌نام به عنوان کارجو۲جستجو در آگهی‌های استخدام و ارسال رزومهبا جستجو در آگهی‌های استخدام بیش از ۳۰۰۰ شرکت معتبر ایرانی می‌تونید رزومتون رو \n",
      "\n"
     ]
    },
    {
     "name": "stderr",
     "output_type": "stream",
     "text": [
      "C:\\Users\\negin\\anaconda3\\Lib\\site-packages\\urllib3\\connectionpool.py:1099: InsecureRequestWarning: Unverified HTTPS request is being made to host 'jobinja.ir'. Adding certificate verification is strongly advised. See: https://urllib3.readthedocs.io/en/latest/advanced-usage.html#tls-warnings\n",
      "  warnings.warn(\n",
      "C:\\Users\\negin\\anaconda3\\Lib\\site-packages\\urllib3\\connectionpool.py:1099: InsecureRequestWarning: Unverified HTTPS request is being made to host 'jobinja.ir'. Adding certificate verification is strongly advised. See: https://urllib3.readthedocs.io/en/latest/advanced-usage.html#tls-warnings\n",
      "  warnings.warn(\n"
     ]
    },
    {
     "name": "stdout",
     "output_type": "stream",
     "text": [
      "URL: https://jobinja.ir/jobs?filters%5Blocations%5D%5B%5D=%D8%B2%D9%86%D8%AC%D8%A7%D9%86\n",
      "Content Snippet: استخدام زنجان | کاریابی زنجان | آگهی استخدام زنجان\n",
      " | جابینجاامکان جدید:همین حالا رزومه خود را در کمتر از ۱۰ دقیقه بسازید،برو به رزومه‌سازJobinja | جابینجا | استخدام، آگهی استخدام، کاریابی، استخدامی جدید، بازار کار، نیازمندیها، ساخت رزومه رایگان، کار و استخدام دولتی، اشتغال، جستجوگر حرفه ای استخدام و شغلخانهجستجوی مشاغلرزومه‌ساز۵۰ شرکت برتربخش کارفرمایانورود کارجوثبت‌نام کارجوورود کارجوثبت‌نام کارجو۱جابینجا چطور به استخدام شدن من کمک می‌کند؟مشاهدهمشاهده بیشترجستجودرخواست‌های مننشان‌شده‌هاآگهی‌های پیشنهادیاز آگهی‌های جدید باخبر شوبهترین فرصت های شغلی در جابینجاهمه‌ی استان‌هازنجانتهرانخراسان رضویاصفهانالبرزفارسقمآذربایجان شرقیمازندرانگیلانخوزستانکرمانیزدقزوینمرکزیهرمزگانگلستانآذربایجان غربیبوشهرسیستان و بلوچستانسمنانکرمانشاههمداناردبیللرستانکردستانخراسان شمالیخراسان جنوبیچهارمحال بختیاریایلامکهکیلویه و بویراحمدهمه‌ی دسته‌بندی‌هافروش و بازاریابیوب،‌ برنامه‌نویسی و نرم‌افزارمالی و حسابداریمسئول دفتر، اجرائی و اداریتولید و مدیریت محتوادیجیتال مارکتینگپشتیبانی و امور مشتریانطراحیIT / DevOps \n",
      "\n"
     ]
    },
    {
     "name": "stderr",
     "output_type": "stream",
     "text": [
      "C:\\Users\\negin\\anaconda3\\Lib\\site-packages\\urllib3\\connectionpool.py:1099: InsecureRequestWarning: Unverified HTTPS request is being made to host 'jobinja.ir'. Adding certificate verification is strongly advised. See: https://urllib3.readthedocs.io/en/latest/advanced-usage.html#tls-warnings\n",
      "  warnings.warn(\n",
      "C:\\Users\\negin\\anaconda3\\Lib\\site-packages\\urllib3\\connectionpool.py:1099: InsecureRequestWarning: Unverified HTTPS request is being made to host 'jobinja.ir'. Adding certificate verification is strongly advised. See: https://urllib3.readthedocs.io/en/latest/advanced-usage.html#tls-warnings\n",
      "  warnings.warn(\n"
     ]
    },
    {
     "name": "stdout",
     "output_type": "stream",
     "text": [
      "URL: https://jobinja.ir/jobs?filters%5Bjob_categories%5D%5B%5D=%D8%B7%D8%B1%D8%A7%D8%AD%DB%8C\n",
      "Content Snippet: استخدام طراحی\n",
      " | جابینجاامکان جدید:همین حالا رزومه خود را در کمتر از ۱۰ دقیقه بسازید،برو به رزومه‌سازJobinja | جابینجا | استخدام، آگهی استخدام، کاریابی، استخدامی جدید، بازار کار، نیازمندیها، ساخت رزومه رایگان، کار و استخدام دولتی، اشتغال، جستجوگر حرفه ای استخدام و شغلخانهجستجوی مشاغلرزومه‌ساز۵۰ شرکت برتربخش کارفرمایانورود کارجوثبت‌نام کارجوورود کارجوثبت‌نام کارجو۱جابینجا چطور به استخدام شدن من کمک می‌کند؟مشاهدهمشاهده بیشترجستجودرخواست‌های مننشان‌شده‌هاآگهی‌های پیشنهادیاز آگهی‌های جدید باخبر شوبهترین فرصت های شغلی در جابینجاهمه‌ی استان‌هاتهرانخراسان رضویاصفهانالبرزفارسقمآذربایجان شرقیمازندرانگیلانخوزستانکرمانیزدقزوینمرکزیهرمزگانگلستانزنجانآذربایجان غربیبوشهرسیستان و بلوچستانسمنانکرمانشاههمداناردبیللرستانکردستانخراسان شمالیخراسان جنوبیچهارمحال بختیاریایلامکهکیلویه و بویراحمدهمه‌ی دسته‌بندی‌هاطراحیفروش و بازاریابیوب،‌ برنامه‌نویسی و نرم‌افزارمالی و حسابداریمسئول دفتر، اجرائی و اداریتولید و مدیریت محتوادیجیتال مارکتینگپشتیبانی و امور مشتریانIT / DevOps / Serverمهندسی صنایع و مدیریت صنعتیکا\n",
      "\n"
     ]
    },
    {
     "name": "stderr",
     "output_type": "stream",
     "text": [
      "C:\\Users\\negin\\anaconda3\\Lib\\site-packages\\urllib3\\connectionpool.py:1099: InsecureRequestWarning: Unverified HTTPS request is being made to host 'jobinja.ir'. Adding certificate verification is strongly advised. See: https://urllib3.readthedocs.io/en/latest/advanced-usage.html#tls-warnings\n",
      "  warnings.warn(\n",
      "C:\\Users\\negin\\anaconda3\\Lib\\site-packages\\urllib3\\connectionpool.py:1099: InsecureRequestWarning: Unverified HTTPS request is being made to host 'jobinja.ir'. Adding certificate verification is strongly advised. See: https://urllib3.readthedocs.io/en/latest/advanced-usage.html#tls-warnings\n",
      "  warnings.warn(\n"
     ]
    },
    {
     "name": "stdout",
     "output_type": "stream",
     "text": [
      "URL: https://jobinja.ir/jobs?filters%5Bjob_categories%5D%5B%5D=%D9%85%D9%87%D9%86%D8%AF%D8%B3%DB%8C+%D9%86%D8%B3%D8%A7%D8%AC%DB%8C%D8%8C+%D8%B7%D8%B1%D8%A7%D8%AD%DB%8C+%D9%BE%D8%A7%D8%B1%DA%86%D9%87+%D9%88+%D9%84%D8%A8%D8%A7%D8%B3\n",
      "Content Snippet: استخدام طراح لباس | استخدام مهندس نساجی\n",
      " | جابینجاامکان جدید:همین حالا رزومه خود را در کمتر از ۱۰ دقیقه بسازید،برو به رزومه‌سازJobinja | جابینجا | استخدام، آگهی استخدام، کاریابی، استخدامی جدید، بازار کار، نیازمندیها، ساخت رزومه رایگان، کار و استخدام دولتی، اشتغال، جستجوگر حرفه ای استخدام و شغلخانهجستجوی مشاغلرزومه‌ساز۵۰ شرکت برتربخش کارفرمایانورود کارجوثبت‌نام کارجوورود کارجوثبت‌نام کارجو۱جابینجا چطور به استخدام شدن من کمک می‌کند؟مشاهدهمشاهده بیشترجستجودرخواست‌های مننشان‌شده‌هاآگهی‌های پیشنهادیاز آگهی‌های جدید باخبر شوبهترین فرصت های شغلی در جابینجاهمه‌ی استان‌هاتهرانخراسان رضویاصفهانالبرزفارسقمآذربایجان شرقیمازندرانگیلانخوزستانکرمانیزدقزوینمرکزیهرمزگانگلستانزنجانآذربایجان غربیبوشهرسیستان و بلوچستانسمنانکرمانشاههمداناردبیللرستانکردستانخراسان شمالیخراسان جنوبیچهارمحال بختیاریایلامکهکیلویه و بویراحمدهمه‌ی دسته‌بندی‌هامهندسی نساجی، طراحی پارچه و لباسفروش و بازاریابیوب،‌ برنامه‌نویسی و نرم‌افزارمالی و حسابداریمسئول دفتر، اجرائی و اداریتولید و مدیریت محتوادیجیتال مارکتینگپشتیبانی و امور مشت\n",
      "\n"
     ]
    },
    {
     "name": "stderr",
     "output_type": "stream",
     "text": [
      "C:\\Users\\negin\\anaconda3\\Lib\\site-packages\\urllib3\\connectionpool.py:1099: InsecureRequestWarning: Unverified HTTPS request is being made to host 'jobinja.ir'. Adding certificate verification is strongly advised. See: https://urllib3.readthedocs.io/en/latest/advanced-usage.html#tls-warnings\n",
      "  warnings.warn(\n"
     ]
    },
    {
     "name": "stdout",
     "output_type": "stream",
     "text": [
      "URL: https://jobinja.ir/companies/ghasedak-samaneh/jobs/A7gZ/%D8%A7%D8%B3%D8%AA%D8%AE%D8%AF%D8%A7%D9%85-%DA%A9%D8%A7%D8%B1%D8%B4%D9%86%D8%A7%D8%B3-%D9%BE%D8%B4%D8%AA%DB%8C%D8%A8%D8%A7%D9%86%DB%8C-%D9%86%D8%B1%D9%85-%D8%A7%D9%81%D8%B2%D8%A7%D8%B1-%D8%AF%D8%B1-%D9%82%D8%A7%D8%B5%D8%AF%DA%A9-%D8%B3%D8%A7%D9%85%D8%A7%D9%86%D9%87?_ref=18\n",
      "Content Snippet: استخدام کارشناس پشتیبانی نرم‌افزار در قاصدک سامانه | جابینجاامکان جدید:همین حالا رزومه خود را در کمتر از ۱۰ دقیقه بسازید،برو به رزومه‌سازJobinja | جابینجا | استخدام، آگهی استخدام، کاریابی، استخدامی جدید، بازار کار، نیازمندیها، ساخت رزومه رایگان، کار و استخدام دولتی، اشتغال، جستجوگر حرفه ای استخدام و شغلخانهجستجوی مشاغلرزومه‌ساز۵۰ شرکت برتربخش کارفرمایانورود کارجوثبت‌نام کارجوورود کارجوثبت‌نام کارجو۱جابینجا چطور به استخدام شدن من کمک می‌کند؟مشاهدهمشاهده بیشترقاصدک سامانه|Ghasedak Samanehکامپیوتر، فناوری اطلاعات و اینترنت۱۱ تا ۵۰ نفرghasedak.comفرصت‌های شغلی۲استخدام کارشناس پشتیبانی نرم‌افزارلطفا برای مشاهده‌ی جزییات و ارسال رزومهیکی از راه‌های زیر را انتخاب کنیدورود / ثبت‌نام با ایمیلimage/svg+xmlbtn_google_light_normal_iosbtn_google_light_normal_iosCreated with Sketch.ورود / ثبت‌نام با گوگل\n",
      "                    (Gmail)ورود / ثبت‌نام با لینکدیناستخدام کارشناس پشتیبانی نرم‌افزار{{ tooltipText }}{{ hoverTitle }}نشان کردنحذف نشاندسته‌بندی شغلیIT / DevOps / Serverموقعیت مکانیتهران\n",
      "          \n",
      "\n"
     ]
    },
    {
     "name": "stderr",
     "output_type": "stream",
     "text": [
      "C:\\Users\\negin\\anaconda3\\Lib\\site-packages\\urllib3\\connectionpool.py:1099: InsecureRequestWarning: Unverified HTTPS request is being made to host 'jobinja.ir'. Adding certificate verification is strongly advised. See: https://urllib3.readthedocs.io/en/latest/advanced-usage.html#tls-warnings\n",
      "  warnings.warn(\n"
     ]
    },
    {
     "name": "stdout",
     "output_type": "stream",
     "text": [
      "URL: https://jobinja.ir\n",
      "Content Snippet: استخدام | آگهی استخدام | سایت کاریابی | جابینجاJobinja | جابینجا | استخدام، آگهی استخدام، کاریابی، استخدامی جدید، بازار کار، نیازمندیها، ساخت رزومه رایگان، کار و استخدام دولتی، اشتغال، جستجوگر حرفه ای استخدام و شغلخانهجستجوی مشاغلرزومه‌ساز۵۰ شرکت برتربخش کارفرمایانورود کارجوثبت‌نام کارجوورود کارجوثبت‌نام کارجو۱جابینجا چطور به استخدام شدن من کمک می‌کند؟مشاهدهمشاهده بیشتر۲۵,۳۹۳آگهی استخدام فعال در۱۰,۹۹۹شرکت ایرانیجابینجا:سامانهکاریابی آنلاین با بیشترین تعداد آگهی استخدام در ایرانهمه‌ی استان‌هاتهرانخراسان رضویاصفهانالبرزفارسقمآذربایجان شرقیمازندرانگیلانخوزستانکرمانیزدقزوینمرکزیهرمزگانگلستانزنجانآذربایجان غربیبوشهرسیستان و بلوچستانسمنانکرمانشاههمداناردبیللرستانکردستانخراسان شمالیخراسان جنوبیچهارمحال بختیاریایلامکهکیلویه و بویراحمدهمه‌ی دسته‌بندی‌هافروش و بازاریابیوب،‌ برنامه‌نویسی و نرم‌افزارمالی و حسابداریمسئول دفتر، اجرائی و اداریتولید و مدیریت محتوادیجیتال مارکتینگپشتیبانی و امور مشتریانطراحیIT / DevOps / Serverمهندسی صنایع و مدیریت صنعتیکارگر ساده، نیروی خدماتیمهندسی برق و الکترونیکمنا\n",
      "\n"
     ]
    },
    {
     "name": "stderr",
     "output_type": "stream",
     "text": [
      "C:\\Users\\negin\\anaconda3\\Lib\\site-packages\\urllib3\\connectionpool.py:1099: InsecureRequestWarning: Unverified HTTPS request is being made to host 'jobinja.ir'. Adding certificate verification is strongly advised. See: https://urllib3.readthedocs.io/en/latest/advanced-usage.html#tls-warnings\n",
      "  warnings.warn(\n"
     ]
    },
    {
     "name": "stdout",
     "output_type": "stream",
     "text": [
      "URL: https://jobinja.ir/companies/alibaba\n",
      "Content Snippet: استخدام در شرکت علی‌بابا، آگهی های استخدام Alibaba Group  | جابینجاامکان جدید:همین حالا رزومه خود را در کمتر از ۱۰ دقیقه بسازید،برو به رزومه‌سازJobinja | جابینجا | استخدام، آگهی استخدام، کاریابی، استخدامی جدید، بازار کار، نیازمندیها، ساخت رزومه رایگان، کار و استخدام دولتی، اشتغال، جستجوگر حرفه ای استخدام و شغلخانهجستجوی مشاغلرزومه‌ساز۵۰ شرکت برتربخش کارفرمایانورود کارجوثبت‌نام کارجوورود کارجوثبت‌نام کارجو۱جابینجا چطور به استخدام شدن من کمک می‌کند؟مشاهدهمشاهده بیشترعلی‌بابا|Alibaba Groupکامپیوتر، فناوری اطلاعات و اینترنت۵۰۱ تا ۱۰۰۰ نفرwww.alibaba.irدر یک نگاهمعرفیفرصت‌های شغلی۲۱در علی‌بابا از صفر خلق می‌کنیم و پای تعهدهایمان می‌ایستیم.موقعیت مکانیتهران، تهراناعضای شرکتمجید حسینی‌نژادبنیان‌گذارعلی‌بابا حس خوب کارکردن, ارزش داشتن و استفاده از خلاقیت است. در علی‌بابا همیشه حس خوب شکوفایی افراد است که باعث بالا رفتن رضایت شغلی سرمایه‌ی انسانی می‌شود. سرمایه‌ی انسانی علی‌بابا با استفاده از خلاقیت‌های خود، همیشه درگیر ساختن بهترین‌ها هستند.نیما قاضیمدیرعاملعلی‌بابا برای من یک فرصت بی‌نظیر شغل\n",
      "\n"
     ]
    },
    {
     "name": "stderr",
     "output_type": "stream",
     "text": [
      "C:\\Users\\negin\\anaconda3\\Lib\\site-packages\\urllib3\\connectionpool.py:1099: InsecureRequestWarning: Unverified HTTPS request is being made to host 'jobinja.ir'. Adding certificate verification is strongly advised. See: https://urllib3.readthedocs.io/en/latest/advanced-usage.html#tls-warnings\n",
      "  warnings.warn(\n"
     ]
    },
    {
     "name": "stdout",
     "output_type": "stream",
     "text": [
      "URL: https://jobinja.ir/companies/nileclinic/jobs/Arsx/%D8%A7%D8%B3%D8%AA%D8%AE%D8%AF%D8%A7%D9%85-%D9%BE%D8%B1%D8%B3%D8%AA%D8%A7%D8%B1-%D8%A2%D9%82%D8%A7-%D8%AF%D8%B1-%DA%A9%D9%84%DB%8C%D9%86%DB%8C%DA%A9-%D9%87%D9%84%DB%8C%D8%A7?_ref=18\n",
      "Content Snippet: استخدام پرستار(آقا) در  کلینیک هلیا  | جابینجاامکان جدید:همین حالا رزومه خود را در کمتر از ۱۰ دقیقه بسازید،برو به رزومه‌سازJobinja | جابینجا | استخدام، آگهی استخدام، کاریابی، استخدامی جدید، بازار کار، نیازمندیها، ساخت رزومه رایگان، کار و استخدام دولتی، اشتغال، جستجوگر حرفه ای استخدام و شغلخانهجستجوی مشاغلرزومه‌ساز۵۰ شرکت برتربخش کارفرمایانورود کارجوثبت‌نام کارجوورود کارجوثبت‌نام کارجو۱جابینجا چطور به استخدام شدن من کمک می‌کند؟مشاهدهمشاهده بیشترکلینیک هلیا|Helia Clinicخدمات درمانی، پزشکی و سلامت۱۱ تا ۵۰ نفرheliaclinic.comفرصت‌های شغلی۶استخدام پرستار(آقا)لطفا برای مشاهده‌ی جزییات و ارسال رزومهیکی از راه‌های زیر را انتخاب کنیدورود / ثبت‌نام با ایمیلimage/svg+xmlbtn_google_light_normal_iosbtn_google_light_normal_iosCreated with Sketch.ورود / ثبت‌نام با گوگل\n",
      "                    (Gmail)ورود / ثبت‌نام با لینکدیناستخدام پرستار(آقا){{ tooltipText }}{{ hoverTitle }}نشان کردنحذف نشاندسته‌بندی شغلیپزشکی،‌ پرستاری و داروییموقعیت مکانیتهران\n",
      "                                                ، تهراننوع \n",
      "\n"
     ]
    },
    {
     "name": "stderr",
     "output_type": "stream",
     "text": [
      "C:\\Users\\negin\\anaconda3\\Lib\\site-packages\\urllib3\\connectionpool.py:1099: InsecureRequestWarning: Unverified HTTPS request is being made to host 'jobinja.ir'. Adding certificate verification is strongly advised. See: https://urllib3.readthedocs.io/en/latest/advanced-usage.html#tls-warnings\n",
      "  warnings.warn(\n"
     ]
    },
    {
     "name": "stdout",
     "output_type": "stream",
     "text": [
      "URL: https://jobinja.ir/companies/snappbox/jobs\n",
      "Content Snippet: فرصت‌های شغلی فعال در اسنپ باکس | Snappbox | جابینجاامکان جدید:همین حالا رزومه خود را در کمتر از ۱۰ دقیقه بسازید،برو به رزومه‌سازJobinja | جابینجا | استخدام، آگهی استخدام، کاریابی، استخدامی جدید، بازار کار، نیازمندیها، ساخت رزومه رایگان، کار و استخدام دولتی، اشتغال، جستجوگر حرفه ای استخدام و شغلخانهجستجوی مشاغلرزومه‌ساز۵۰ شرکت برتربخش کارفرمایانورود کارجوثبت‌نام کارجوورود کارجوثبت‌نام کارجو۱جابینجا چطور به استخدام شدن من کمک می‌کند؟مشاهدهمشاهده بیشتراسنپ باکس|Snappboxتاسیس در  ۱۳۹۶کامپیوتر، فناوری اطلاعات و اینترنت۲۰۱ تا ۵۰۰ نفرsnapp-box.comدر یک نگاهمعرفیفرصت‌های شغلی۱۹معرفی اسنپ باکساسنپ باکس جدیدترین سرویس اپلیکیشن اسنپ (بزرگترین سامانه حمل و نقل هوشمند کشور) تمام شرکتها با هر نوع فعالیت تجاری را به بزرگترین مجموعه از پیک های موتوری در کشور متصل میسازددرحال حاضر، تنها تعداد محدودی از شرکتها به پیکهای ارزان و با کیفیت دسترسی دارند. از طرف دیگر، تعداد زیادی پیک موتوری هستند که به دنبال فعالیت بیشتر بوده اما قادر به یافتن مشتری نیستندما میخواهیم این موضوع را، با استفاده از فناوری هوشمن\n",
      "\n"
     ]
    },
    {
     "name": "stderr",
     "output_type": "stream",
     "text": [
      "C:\\Users\\negin\\anaconda3\\Lib\\site-packages\\urllib3\\connectionpool.py:1099: InsecureRequestWarning: Unverified HTTPS request is being made to host 'jobinja.ir'. Adding certificate verification is strongly advised. See: https://urllib3.readthedocs.io/en/latest/advanced-usage.html#tls-warnings\n",
      "  warnings.warn(\n"
     ]
    },
    {
     "name": "stdout",
     "output_type": "stream",
     "text": [
      "URL: https://jobinja.ir/jobs?filters%5Bkeywords%5D%5B0%5D=%DA%AF%D8%B1%D8%A7%D9%81%DB%8C%D8%B3%D8%AA\n",
      "Content Snippet: فرصت های شغلی گرافیست\n",
      " | جابینجاامکان جدید:همین حالا رزومه خود را در کمتر از ۱۰ دقیقه بسازید،برو به رزومه‌سازJobinja | جابینجا | استخدام، آگهی استخدام، کاریابی، استخدامی جدید، بازار کار، نیازمندیها، ساخت رزومه رایگان، کار و استخدام دولتی، اشتغال، جستجوگر حرفه ای استخدام و شغلخانهجستجوی مشاغلرزومه‌ساز۵۰ شرکت برتربخش کارفرمایانورود کارجوثبت‌نام کارجوورود کارجوثبت‌نام کارجو۱جابینجا چطور به استخدام شدن من کمک می‌کند؟مشاهدهمشاهده بیشترجستجودرخواست‌های مننشان‌شده‌هاآگهی‌های پیشنهادیاز آگهی‌های جدید باخبر شوبهترین فرصت های شغلی در جابینجاهمه‌ی استان‌هاتهرانخراسان رضویاصفهانالبرزفارسقمآذربایجان شرقیمازندرانگیلانخوزستانکرمانیزدقزوینمرکزیهرمزگانگلستانزنجانآذربایجان غربیبوشهرسیستان و بلوچستانسمنانکرمانشاههمداناردبیللرستانکردستانخراسان شمالیخراسان جنوبیچهارمحال بختیاریایلامکهکیلویه و بویراحمدهمه‌ی دسته‌بندی‌هافروش و بازاریابیوب،‌ برنامه‌نویسی و نرم‌افزارمالی و حسابداریمسئول دفتر، اجرائی و اداریتولید و مدیریت محتوادیجیتال مارکتینگپشتیبانی و امور مشتریانطراحیIT / DevOps / Serverمهندسی صنایع و مدیریت\n",
      "\n"
     ]
    },
    {
     "name": "stderr",
     "output_type": "stream",
     "text": [
      "C:\\Users\\negin\\anaconda3\\Lib\\site-packages\\urllib3\\connectionpool.py:1099: InsecureRequestWarning: Unverified HTTPS request is being made to host 'jobinja.ir'. Adding certificate verification is strongly advised. See: https://urllib3.readthedocs.io/en/latest/advanced-usage.html#tls-warnings\n",
      "  warnings.warn(\n",
      "C:\\Users\\negin\\anaconda3\\Lib\\site-packages\\urllib3\\connectionpool.py:1099: InsecureRequestWarning: Unverified HTTPS request is being made to host 'jobinja.ir'. Adding certificate verification is strongly advised. See: https://urllib3.readthedocs.io/en/latest/advanced-usage.html#tls-warnings\n",
      "  warnings.warn(\n"
     ]
    },
    {
     "name": "stdout",
     "output_type": "stream",
     "text": [
      "URL: https://jobinja.ir/jobs?filters%5Blocations%5D%5B%5D=%D9%82%D9%85\n",
      "Content Snippet: استخدام قم | کاریابی قم | آگهی استخدام قم\n",
      " | جابینجاامکان جدید:همین حالا رزومه خود را در کمتر از ۱۰ دقیقه بسازید،برو به رزومه‌سازJobinja | جابینجا | استخدام، آگهی استخدام، کاریابی، استخدامی جدید، بازار کار، نیازمندیها، ساخت رزومه رایگان، کار و استخدام دولتی، اشتغال، جستجوگر حرفه ای استخدام و شغلخانهجستجوی مشاغلرزومه‌ساز۵۰ شرکت برتربخش کارفرمایانورود کارجوثبت‌نام کارجوورود کارجوثبت‌نام کارجو۱جابینجا چطور به استخدام شدن من کمک می‌کند؟مشاهدهمشاهده بیشترجستجودرخواست‌های مننشان‌شده‌هاآگهی‌های پیشنهادیاز آگهی‌های جدید باخبر شوبهترین فرصت های شغلی در جابینجاهمه‌ی استان‌هاقمتهرانخراسان رضویاصفهانالبرزفارسآذربایجان شرقیمازندرانگیلانخوزستانکرمانیزدقزوینمرکزیهرمزگانگلستانزنجانآذربایجان غربیبوشهرسیستان و بلوچستانسمنانکرمانشاههمداناردبیللرستانکردستانخراسان شمالیخراسان جنوبیچهارمحال بختیاریایلامکهکیلویه و بویراحمدهمه‌ی دسته‌بندی‌هافروش و بازاریابیوب،‌ برنامه‌نویسی و نرم‌افزارمالی و حسابداریمسئول دفتر، اجرائی و اداریتولید و مدیریت محتوادیجیتال مارکتینگپشتیبانی و امور مشتریانطراحیIT / DevOps / Serverم\n",
      "\n"
     ]
    },
    {
     "name": "stderr",
     "output_type": "stream",
     "text": [
      "C:\\Users\\negin\\anaconda3\\Lib\\site-packages\\urllib3\\connectionpool.py:1099: InsecureRequestWarning: Unverified HTTPS request is being made to host 'jobinja.ir'. Adding certificate verification is strongly advised. See: https://urllib3.readthedocs.io/en/latest/advanced-usage.html#tls-warnings\n",
      "  warnings.warn(\n",
      "C:\\Users\\negin\\anaconda3\\Lib\\site-packages\\urllib3\\connectionpool.py:1099: InsecureRequestWarning: Unverified HTTPS request is being made to host 'jobinja.ir'. Adding certificate verification is strongly advised. See: https://urllib3.readthedocs.io/en/latest/advanced-usage.html#tls-warnings\n",
      "  warnings.warn(\n"
     ]
    },
    {
     "name": "stdout",
     "output_type": "stream",
     "text": [
      "URL: https://jobinja.ir/jobs?filters%5Blocations%5D%5B%5D=%DA%A9%D8%B1%D9%85%D8%A7%D9%86%D8%B4%D8%A7%D9%87\n",
      "Content Snippet: استخدام کرمانشاه | کاریابی کرمانشاه | آگهی استخدام کرمانشاه\n",
      " | جابینجاامکان جدید:همین حالا رزومه خود را در کمتر از ۱۰ دقیقه بسازید،برو به رزومه‌سازJobinja | جابینجا | استخدام، آگهی استخدام، کاریابی، استخدامی جدید، بازار کار، نیازمندیها، ساخت رزومه رایگان، کار و استخدام دولتی، اشتغال، جستجوگر حرفه ای استخدام و شغلخانهجستجوی مشاغلرزومه‌ساز۵۰ شرکت برتربخش کارفرمایانورود کارجوثبت‌نام کارجوورود کارجوثبت‌نام کارجو۱جابینجا چطور به استخدام شدن من کمک می‌کند؟مشاهدهمشاهده بیشترجستجودرخواست‌های مننشان‌شده‌هاآگهی‌های پیشنهادیاز آگهی‌های جدید باخبر شوبهترین فرصت های شغلی در جابینجاهمه‌ی استان‌هاکرمانشاهتهرانخراسان رضویاصفهانالبرزفارسقمآذربایجان شرقیمازندرانگیلانخوزستانکرمانیزدقزوینمرکزیهرمزگانگلستانزنجانآذربایجان غربیبوشهرسیستان و بلوچستانسمنانهمداناردبیللرستانکردستانخراسان شمالیخراسان جنوبیچهارمحال بختیاریایلامکهکیلویه و بویراحمدهمه‌ی دسته‌بندی‌هافروش و بازاریابیوب،‌ برنامه‌نویسی و نرم‌افزارمالی و حسابداریمسئول دفتر، اجرائی و اداریتولید و مدیریت محتوادیجیتال مارکتینگپشتیبانی و امور مشتریانطراحیIT \n",
      "\n"
     ]
    },
    {
     "name": "stderr",
     "output_type": "stream",
     "text": [
      "C:\\Users\\negin\\anaconda3\\Lib\\site-packages\\urllib3\\connectionpool.py:1099: InsecureRequestWarning: Unverified HTTPS request is being made to host 'jobinja.ir'. Adding certificate verification is strongly advised. See: https://urllib3.readthedocs.io/en/latest/advanced-usage.html#tls-warnings\n",
      "  warnings.warn(\n"
     ]
    },
    {
     "name": "stdout",
     "output_type": "stream",
     "text": [
      "URL: https://jobinja.ir/jobs?filters%5Bkeywords%5D%5B0%5D=%D8%A7%D8%AF%D9%85%DB%8C%D9%86+%D9%BE%D8%A7%D8%B3%D8%AE%DA%AF%D9%88%DB%8C%DB%8C\n",
      "Content Snippet: فرصت های شغلی ادمین پاسخگویی\n",
      " | جابینجاامکان جدید:همین حالا رزومه خود را در کمتر از ۱۰ دقیقه بسازید،برو به رزومه‌سازJobinja | جابینجا | استخدام، آگهی استخدام، کاریابی، استخدامی جدید، بازار کار، نیازمندیها، ساخت رزومه رایگان، کار و استخدام دولتی، اشتغال، جستجوگر حرفه ای استخدام و شغلخانهجستجوی مشاغلرزومه‌ساز۵۰ شرکت برتربخش کارفرمایانورود کارجوثبت‌نام کارجوورود کارجوثبت‌نام کارجو۱جابینجا چطور به استخدام شدن من کمک می‌کند؟مشاهدهمشاهده بیشترجستجودرخواست‌های مننشان‌شده‌هاآگهی‌های پیشنهادیاز آگهی‌های جدید باخبر شوبهترین فرصت های شغلی در جابینجاهمه‌ی استان‌هاتهرانخراسان رضویاصفهانالبرزفارسقمآذربایجان شرقیمازندرانگیلانخوزستانکرمانیزدقزوینمرکزیهرمزگانگلستانزنجانآذربایجان غربیبوشهرسیستان و بلوچستانسمنانکرمانشاههمداناردبیللرستانکردستانخراسان شمالیخراسان جنوبیچهارمحال بختیاریایلامکهکیلویه و بویراحمدهمه‌ی دسته‌بندی‌هافروش و بازاریابیوب،‌ برنامه‌نویسی و نرم‌افزارمالی و حسابداریمسئول دفتر، اجرائی و اداریتولید و مدیریت محتوادیجیتال مارکتینگپشتیبانی و امور مشتریانطراحیIT / DevOps / Serverمهندسی صنایع و\n",
      "\n"
     ]
    },
    {
     "name": "stderr",
     "output_type": "stream",
     "text": [
      "C:\\Users\\negin\\anaconda3\\Lib\\site-packages\\urllib3\\connectionpool.py:1099: InsecureRequestWarning: Unverified HTTPS request is being made to host 'jobinja.ir'. Adding certificate verification is strongly advised. See: https://urllib3.readthedocs.io/en/latest/advanced-usage.html#tls-warnings\n",
      "  warnings.warn(\n",
      "C:\\Users\\negin\\anaconda3\\Lib\\site-packages\\urllib3\\connectionpool.py:1099: InsecureRequestWarning: Unverified HTTPS request is being made to host 'jobinja.ir'. Adding certificate verification is strongly advised. See: https://urllib3.readthedocs.io/en/latest/advanced-usage.html#tls-warnings\n",
      "  warnings.warn(\n"
     ]
    },
    {
     "name": "stdout",
     "output_type": "stream",
     "text": [
      "URL: https://jobinja.ir/jobs?filters%5Bjob_categories%5D%5B%5D=%D9%85%D9%87%D9%86%D8%AF%D8%B3%DB%8C+%D8%B4%DB%8C%D9%85%DB%8C+%D9%88+%D9%86%D9%81%D8%AA\n",
      "Content Snippet: استخدام مهندس شیمی | استخدام کارشناس شیمی\n",
      " | جابینجاامکان جدید:همین حالا رزومه خود را در کمتر از ۱۰ دقیقه بسازید،برو به رزومه‌سازJobinja | جابینجا | استخدام، آگهی استخدام، کاریابی، استخدامی جدید، بازار کار، نیازمندیها، ساخت رزومه رایگان، کار و استخدام دولتی، اشتغال، جستجوگر حرفه ای استخدام و شغلخانهجستجوی مشاغلرزومه‌ساز۵۰ شرکت برتربخش کارفرمایانورود کارجوثبت‌نام کارجوورود کارجوثبت‌نام کارجو۱جابینجا چطور به استخدام شدن من کمک می‌کند؟مشاهدهمشاهده بیشترجستجودرخواست‌های مننشان‌شده‌هاآگهی‌های پیشنهادیاز آگهی‌های جدید باخبر شوبهترین فرصت های شغلی در جابینجاهمه‌ی استان‌هاتهرانخراسان رضویاصفهانالبرزفارسقمآذربایجان شرقیمازندرانگیلانخوزستانکرمانیزدقزوینمرکزیهرمزگانگلستانزنجانآذربایجان غربیبوشهرسیستان و بلوچستانسمنانکرمانشاههمداناردبیللرستانکردستانخراسان شمالیخراسان جنوبیچهارمحال بختیاریایلامکهکیلویه و بویراحمدهمه‌ی دسته‌بندی‌هامهندسی شیمی و نفتفروش و بازاریابیوب،‌ برنامه‌نویسی و نرم‌افزارمالی و حسابداریمسئول دفتر، اجرائی و اداریتولید و مدیریت محتوادیجیتال مارکتینگپشتیبانی و امور مشتریانطراحیIT /\n",
      "\n"
     ]
    },
    {
     "name": "stderr",
     "output_type": "stream",
     "text": [
      "C:\\Users\\negin\\anaconda3\\Lib\\site-packages\\urllib3\\connectionpool.py:1099: InsecureRequestWarning: Unverified HTTPS request is being made to host 'jobinja.ir'. Adding certificate verification is strongly advised. See: https://urllib3.readthedocs.io/en/latest/advanced-usage.html#tls-warnings\n",
      "  warnings.warn(\n",
      "C:\\Users\\negin\\anaconda3\\Lib\\site-packages\\urllib3\\connectionpool.py:1099: InsecureRequestWarning: Unverified HTTPS request is being made to host 'jobinja.ir'. Adding certificate verification is strongly advised. See: https://urllib3.readthedocs.io/en/latest/advanced-usage.html#tls-warnings\n",
      "  warnings.warn(\n"
     ]
    },
    {
     "name": "stdout",
     "output_type": "stream",
     "text": [
      "URL: https://jobinja.ir/jobs?filters%5Bjob_categories%5D%5B%5D=%D9%85%D9%87%D9%86%D8%AF%D8%B3%DB%8C+%D8%B9%D9%85%D8%B1%D8%A7%D9%86+%D9%88+%D9%85%D8%B9%D9%85%D8%A7%D8%B1%DB%8C\n",
      "Content Snippet: استخدام مهندس عمران و معماری\n",
      " | جابینجاامکان جدید:همین حالا رزومه خود را در کمتر از ۱۰ دقیقه بسازید،برو به رزومه‌سازJobinja | جابینجا | استخدام، آگهی استخدام، کاریابی، استخدامی جدید، بازار کار، نیازمندیها، ساخت رزومه رایگان، کار و استخدام دولتی، اشتغال، جستجوگر حرفه ای استخدام و شغلخانهجستجوی مشاغلرزومه‌ساز۵۰ شرکت برتربخش کارفرمایانورود کارجوثبت‌نام کارجوورود کارجوثبت‌نام کارجو۱جابینجا چطور به استخدام شدن من کمک می‌کند؟مشاهدهمشاهده بیشترجستجودرخواست‌های مننشان‌شده‌هاآگهی‌های پیشنهادیاز آگهی‌های جدید باخبر شوبهترین فرصت های شغلی در جابینجاهمه‌ی استان‌هاتهرانخراسان رضویاصفهانالبرزفارسقمآذربایجان شرقیمازندرانگیلانخوزستانکرمانیزدقزوینمرکزیهرمزگانگلستانزنجانآذربایجان غربیبوشهرسیستان و بلوچستانسمنانکرمانشاههمداناردبیللرستانکردستانخراسان شمالیخراسان جنوبیچهارمحال بختیاریایلامکهکیلویه و بویراحمدهمه‌ی دسته‌بندی‌هامهندسی عمران و معماریفروش و بازاریابیوب،‌ برنامه‌نویسی و نرم‌افزارمالی و حسابداریمسئول دفتر، اجرائی و اداریتولید و مدیریت محتوادیجیتال مارکتینگپشتیبانی و امور مشتریانطراحیIT / DevOps /\n",
      "\n"
     ]
    },
    {
     "name": "stderr",
     "output_type": "stream",
     "text": [
      "C:\\Users\\negin\\anaconda3\\Lib\\site-packages\\urllib3\\connectionpool.py:1099: InsecureRequestWarning: Unverified HTTPS request is being made to host 'jobinja.ir'. Adding certificate verification is strongly advised. See: https://urllib3.readthedocs.io/en/latest/advanced-usage.html#tls-warnings\n",
      "  warnings.warn(\n"
     ]
    },
    {
     "name": "stdout",
     "output_type": "stream",
     "text": [
      "URL: https://jobinja.ir/companies/tajhizsanat/jobs/A7gp/%D8%A7%D8%B3%D8%AA%D8%AE%D8%AF%D8%A7%D9%85-%D9%85%D8%AA%D8%B1%D8%AC%D9%85-%D8%B2%D8%A8%D8%A7%D9%86-%D8%A7%D9%86%DA%AF%D9%84%DB%8C%D8%B3%DB%8C-%D8%AF%D8%B1-%D8%AA%D8%AC%D9%87%DB%8C%D8%B2-%D8%B5%D9%86%D8%B9%D8%AA?_ref=18\n",
      "Content Snippet: استخدام مترجم زبان انگلیسی در تجهیز صنعت  | جابینجاامکان جدید:همین حالا رزومه خود را در کمتر از ۱۰ دقیقه بسازید،برو به رزومه‌سازJobinja | جابینجا | استخدام، آگهی استخدام، کاریابی، استخدامی جدید، بازار کار، نیازمندیها، ساخت رزومه رایگان، کار و استخدام دولتی، اشتغال، جستجوگر حرفه ای استخدام و شغلخانهجستجوی مشاغلرزومه‌ساز۵۰ شرکت برتربخش کارفرمایانورود کارجوثبت‌نام کارجوورود کارجوثبت‌نام کارجو۱جابینجا چطور به استخدام شدن من کمک می‌کند؟مشاهدهمشاهده بیشترتجهیز صنعت|Tajhiz Sanatتاسیس در  ۱۳۹۰نفت و گاز۵۱ تا ۲۰۰ نفرtajhiz-sanat.comدر یک نگاهمعرفیفرصت‌های شغلی۳۰استخدام مترجم زبان انگلیسیلطفا برای مشاهده‌ی جزییات و ارسال رزومهیکی از راه‌های زیر را انتخاب کنیدورود / ثبت‌نام با ایمیلimage/svg+xmlbtn_google_light_normal_iosbtn_google_light_normal_iosCreated with Sketch.ورود / ثبت‌نام با گوگل\n",
      "                    (Gmail)ورود / ثبت‌نام با لینکدیناستخدام مترجم زبان انگلیسی{{ tooltipText }}{{ hoverTitle }}نشان کردنحذف نشاندسته‌بندی شغلیترجمهموقعیت مکانیتهران\n",
      "                                              \n",
      "\n"
     ]
    },
    {
     "name": "stderr",
     "output_type": "stream",
     "text": [
      "C:\\Users\\negin\\anaconda3\\Lib\\site-packages\\urllib3\\connectionpool.py:1099: InsecureRequestWarning: Unverified HTTPS request is being made to host 'panel.jobinja.ir'. Adding certificate verification is strongly advised. See: https://urllib3.readthedocs.io/en/latest/advanced-usage.html#tls-warnings\n",
      "  warnings.warn(\n"
     ]
    },
    {
     "name": "stdout",
     "output_type": "stream",
     "text": [
      "URL: https://panel.jobinja.ir/auth/sign-in\n",
      "Content Snippet: ورود به حساب کارفرمایی | جابینجاحساب کارفرمایی ندارید؟ثبت نام کارفرمایانکارفرمایانورود به حساب کارفرماییایمیل یا شماره موبایلرمز عبورورودرمز عبور خود را فراموش کرده‌اید؟فراموشی رمز عبور۰۲۱-۹۱۰۷۱۳۹۴تماس با ما×ساعات کاری:شنبه تا چهارشنبه از ۹:۰۰ تا ۱۷:۳۰ به استثنای تعطیلی‌های رسمی۰۲۱-۹۱۰۷۱۳۹۴شرکت فناوران سرمایه انسانی جاویدان (جابینجا)\n",
      "\n"
     ]
    },
    {
     "name": "stderr",
     "output_type": "stream",
     "text": [
      "C:\\Users\\negin\\anaconda3\\Lib\\site-packages\\urllib3\\connectionpool.py:1099: InsecureRequestWarning: Unverified HTTPS request is being made to host 'jobinja.ir'. Adding certificate verification is strongly advised. See: https://urllib3.readthedocs.io/en/latest/advanced-usage.html#tls-warnings\n",
      "  warnings.warn(\n",
      "C:\\Users\\negin\\anaconda3\\Lib\\site-packages\\urllib3\\connectionpool.py:1099: InsecureRequestWarning: Unverified HTTPS request is being made to host 'jobinja.ir'. Adding certificate verification is strongly advised. See: https://urllib3.readthedocs.io/en/latest/advanced-usage.html#tls-warnings\n",
      "  warnings.warn(\n"
     ]
    },
    {
     "name": "stdout",
     "output_type": "stream",
     "text": [
      "URL: https://jobinja.ir/jobs?filters%5Bjob_categories%5D%5B%5D=IT+%2F+DevOps+%2F+Server\n",
      "Content Snippet: استخدام متخصص امنیت شبکه | استخدام کارشناس شبکه | استخدام help desk | جابینجا\n",
      " | جابینجاامکان جدید:همین حالا رزومه خود را در کمتر از ۱۰ دقیقه بسازید،برو به رزومه‌سازJobinja | جابینجا | استخدام، آگهی استخدام، کاریابی، استخدامی جدید، بازار کار، نیازمندیها، ساخت رزومه رایگان، کار و استخدام دولتی، اشتغال، جستجوگر حرفه ای استخدام و شغلخانهجستجوی مشاغلرزومه‌ساز۵۰ شرکت برتربخش کارفرمایانورود کارجوثبت‌نام کارجوورود کارجوثبت‌نام کارجو۱جابینجا چطور به استخدام شدن من کمک می‌کند؟مشاهدهمشاهده بیشترجستجودرخواست‌های مننشان‌شده‌هاآگهی‌های پیشنهادیاز آگهی‌های جدید باخبر شوبهترین فرصت های شغلی در جابینجاهمه‌ی استان‌هاتهرانخراسان رضویاصفهانالبرزفارسقمآذربایجان شرقیمازندرانگیلانخوزستانکرمانیزدقزوینمرکزیهرمزگانگلستانزنجانآذربایجان غربیبوشهرسیستان و بلوچستانسمنانکرمانشاههمداناردبیللرستانکردستانخراسان شمالیخراسان جنوبیچهارمحال بختیاریایلامکهکیلویه و بویراحمدهمه‌ی دسته‌بندی‌هاIT / DevOps / Serverفروش و بازاریابیوب،‌ برنامه‌نویسی و نرم‌افزارمالی و حسابداریمسئول دفتر، اجرائی و اداریتولید و مدیریت محتوادیجیتال م\n",
      "\n"
     ]
    },
    {
     "name": "stderr",
     "output_type": "stream",
     "text": [
      "C:\\Users\\negin\\anaconda3\\Lib\\site-packages\\urllib3\\connectionpool.py:1099: InsecureRequestWarning: Unverified HTTPS request is being made to host 'jobinja.ir'. Adding certificate verification is strongly advised. See: https://urllib3.readthedocs.io/en/latest/advanced-usage.html#tls-warnings\n",
      "  warnings.warn(\n"
     ]
    },
    {
     "name": "stdout",
     "output_type": "stream",
     "text": [
      "URL: https://jobinja.ir/jobs?filters%5Bkeywords%5D%5B0%5D=%D8%A7%D8%AF%D9%85%DB%8C%D9%86+%D8%AF%D9%88%D8%B1+%DA%A9%D8%A7%D8%B1%DB%8C\n",
      "Content Snippet: فرصت های شغلی ادمین دور کاری\n",
      " | جابینجاامکان جدید:همین حالا رزومه خود را در کمتر از ۱۰ دقیقه بسازید،برو به رزومه‌سازJobinja | جابینجا | استخدام، آگهی استخدام، کاریابی، استخدامی جدید، بازار کار، نیازمندیها، ساخت رزومه رایگان، کار و استخدام دولتی، اشتغال، جستجوگر حرفه ای استخدام و شغلخانهجستجوی مشاغلرزومه‌ساز۵۰ شرکت برتربخش کارفرمایانورود کارجوثبت‌نام کارجوورود کارجوثبت‌نام کارجو۱جابینجا چطور به استخدام شدن من کمک می‌کند؟مشاهدهمشاهده بیشترجستجودرخواست‌های مننشان‌شده‌هاآگهی‌های پیشنهادیاز آگهی‌های جدید باخبر شوبهترین فرصت های شغلی در جابینجاهمه‌ی استان‌هاتهرانخراسان رضویاصفهانالبرزفارسقمآذربایجان شرقیمازندرانگیلانخوزستانکرمانیزدقزوینمرکزیهرمزگانگلستانزنجانآذربایجان غربیبوشهرسیستان و بلوچستانسمنانکرمانشاههمداناردبیللرستانکردستانخراسان شمالیخراسان جنوبیچهارمحال بختیاریایلامکهکیلویه و بویراحمدهمه‌ی دسته‌بندی‌هافروش و بازاریابیوب،‌ برنامه‌نویسی و نرم‌افزارمالی و حسابداریمسئول دفتر، اجرائی و اداریتولید و مدیریت محتوادیجیتال مارکتینگپشتیبانی و امور مشتریانطراحیIT / DevOps / Serverمهندسی صنایع و\n",
      "\n"
     ]
    },
    {
     "name": "stderr",
     "output_type": "stream",
     "text": [
      "C:\\Users\\negin\\anaconda3\\Lib\\site-packages\\urllib3\\connectionpool.py:1099: InsecureRequestWarning: Unverified HTTPS request is being made to host 'jobinja.ir'. Adding certificate verification is strongly advised. See: https://urllib3.readthedocs.io/en/latest/advanced-usage.html#tls-warnings\n",
      "  warnings.warn(\n"
     ]
    },
    {
     "name": "stdout",
     "output_type": "stream",
     "text": [
      "URL: https://jobinja.ir/jobs?filters%5Bkeywords%5D%5B0%5D=%D8%B4%D8%A8%DA%A9%D9%87\n",
      "Content Snippet: فرصت های شغلی شبکه\n",
      " | جابینجاامکان جدید:همین حالا رزومه خود را در کمتر از ۱۰ دقیقه بسازید،برو به رزومه‌سازJobinja | جابینجا | استخدام، آگهی استخدام، کاریابی، استخدامی جدید، بازار کار، نیازمندیها، ساخت رزومه رایگان، کار و استخدام دولتی، اشتغال، جستجوگر حرفه ای استخدام و شغلخانهجستجوی مشاغلرزومه‌ساز۵۰ شرکت برتربخش کارفرمایانورود کارجوثبت‌نام کارجوورود کارجوثبت‌نام کارجو۱جابینجا چطور به استخدام شدن من کمک می‌کند؟مشاهدهمشاهده بیشترجستجودرخواست‌های مننشان‌شده‌هاآگهی‌های پیشنهادیاز آگهی‌های جدید باخبر شوبهترین فرصت های شغلی در جابینجاهمه‌ی استان‌هاتهرانخراسان رضویاصفهانالبرزفارسقمآذربایجان شرقیمازندرانگیلانخوزستانکرمانیزدقزوینمرکزیهرمزگانگلستانزنجانآذربایجان غربیبوشهرسیستان و بلوچستانسمنانکرمانشاههمداناردبیللرستانکردستانخراسان شمالیخراسان جنوبیچهارمحال بختیاریایلامکهکیلویه و بویراحمدهمه‌ی دسته‌بندی‌هافروش و بازاریابیوب،‌ برنامه‌نویسی و نرم‌افزارمالی و حسابداریمسئول دفتر، اجرائی و اداریتولید و مدیریت محتوادیجیتال مارکتینگپشتیبانی و امور مشتریانطراحیIT / DevOps / Serverمهندسی صنایع و مدیریت صن\n",
      "\n"
     ]
    },
    {
     "name": "stderr",
     "output_type": "stream",
     "text": [
      "C:\\Users\\negin\\anaconda3\\Lib\\site-packages\\urllib3\\connectionpool.py:1099: InsecureRequestWarning: Unverified HTTPS request is being made to host 'jobinja.ir'. Adding certificate verification is strongly advised. See: https://urllib3.readthedocs.io/en/latest/advanced-usage.html#tls-warnings\n",
      "  warnings.warn(\n",
      "C:\\Users\\negin\\anaconda3\\Lib\\site-packages\\urllib3\\connectionpool.py:1099: InsecureRequestWarning: Unverified HTTPS request is being made to host 'jobinja.ir'. Adding certificate verification is strongly advised. See: https://urllib3.readthedocs.io/en/latest/advanced-usage.html#tls-warnings\n",
      "  warnings.warn(\n"
     ]
    },
    {
     "name": "stdout",
     "output_type": "stream",
     "text": [
      "URL: https://jobinja.ir/jobs?filters%5Blocations%5D%5B%5D=%DB%8C%D8%B2%D8%AF\n",
      "Content Snippet: استخدام یزد | کاریابی یزد | آگهی استخدام یزد\n",
      " | جابینجاامکان جدید:همین حالا رزومه خود را در کمتر از ۱۰ دقیقه بسازید،برو به رزومه‌سازJobinja | جابینجا | استخدام، آگهی استخدام، کاریابی، استخدامی جدید، بازار کار، نیازمندیها، ساخت رزومه رایگان، کار و استخدام دولتی، اشتغال، جستجوگر حرفه ای استخدام و شغلخانهجستجوی مشاغلرزومه‌ساز۵۰ شرکت برتربخش کارفرمایانورود کارجوثبت‌نام کارجوورود کارجوثبت‌نام کارجو۱جابینجا چطور به استخدام شدن من کمک می‌کند؟مشاهدهمشاهده بیشترجستجودرخواست‌های مننشان‌شده‌هاآگهی‌های پیشنهادیاز آگهی‌های جدید باخبر شوبهترین فرصت های شغلی در جابینجاهمه‌ی استان‌هایزدتهرانخراسان رضویاصفهانالبرزفارسقمآذربایجان شرقیمازندرانگیلانخوزستانکرمانقزوینمرکزیهرمزگانگلستانزنجانآذربایجان غربیبوشهرسیستان و بلوچستانسمنانکرمانشاههمداناردبیللرستانکردستانخراسان شمالیخراسان جنوبیچهارمحال بختیاریایلامکهکیلویه و بویراحمدهمه‌ی دسته‌بندی‌هافروش و بازاریابیوب،‌ برنامه‌نویسی و نرم‌افزارمالی و حسابداریمسئول دفتر، اجرائی و اداریتولید و مدیریت محتوادیجیتال مارکتینگپشتیبانی و امور مشتریانطراحیIT / DevOps / Serv\n",
      "\n"
     ]
    },
    {
     "name": "stderr",
     "output_type": "stream",
     "text": [
      "C:\\Users\\negin\\anaconda3\\Lib\\site-packages\\urllib3\\connectionpool.py:1099: InsecureRequestWarning: Unverified HTTPS request is being made to host 'jobinja.ir'. Adding certificate verification is strongly advised. See: https://urllib3.readthedocs.io/en/latest/advanced-usage.html#tls-warnings\n",
      "  warnings.warn(\n"
     ]
    },
    {
     "name": "stdout",
     "output_type": "stream",
     "text": [
      "URL: https://jobinja.ir/jobs?filters%5Bkeywords%5D%5B0%5D=%D8%AA%D8%A7%DB%8C%D9%BE%DB%8C%D8%B3%D8%AA\n",
      "Content Snippet: فرصت های شغلی تایپیست\n",
      " | جابینجاامکان جدید:همین حالا رزومه خود را در کمتر از ۱۰ دقیقه بسازید،برو به رزومه‌سازJobinja | جابینجا | استخدام، آگهی استخدام، کاریابی، استخدامی جدید، بازار کار، نیازمندیها، ساخت رزومه رایگان، کار و استخدام دولتی، اشتغال، جستجوگر حرفه ای استخدام و شغلخانهجستجوی مشاغلرزومه‌ساز۵۰ شرکت برتربخش کارفرمایانورود کارجوثبت‌نام کارجوورود کارجوثبت‌نام کارجو۱جابینجا چطور به استخدام شدن من کمک می‌کند؟مشاهدهمشاهده بیشترجستجودرخواست‌های مننشان‌شده‌هاآگهی‌های پیشنهادیاز آگهی‌های جدید باخبر شوبهترین فرصت های شغلی در جابینجاهمه‌ی استان‌هاتهرانخراسان رضویاصفهانالبرزفارسقمآذربایجان شرقیمازندرانگیلانخوزستانکرمانیزدقزوینمرکزیهرمزگانگلستانزنجانآذربایجان غربیبوشهرسیستان و بلوچستانسمنانکرمانشاههمداناردبیللرستانکردستانخراسان شمالیخراسان جنوبیچهارمحال بختیاریایلامکهکیلویه و بویراحمدهمه‌ی دسته‌بندی‌هافروش و بازاریابیوب،‌ برنامه‌نویسی و نرم‌افزارمالی و حسابداریمسئول دفتر، اجرائی و اداریتولید و مدیریت محتوادیجیتال مارکتینگپشتیبانی و امور مشتریانطراحیIT / DevOps / Serverمهندسی صنایع و مدیریت\n",
      "\n"
     ]
    },
    {
     "name": "stderr",
     "output_type": "stream",
     "text": [
      "C:\\Users\\negin\\anaconda3\\Lib\\site-packages\\urllib3\\connectionpool.py:1099: InsecureRequestWarning: Unverified HTTPS request is being made to host 'jobinja.ir'. Adding certificate verification is strongly advised. See: https://urllib3.readthedocs.io/en/latest/advanced-usage.html#tls-warnings\n",
      "  warnings.warn(\n",
      "C:\\Users\\negin\\anaconda3\\Lib\\site-packages\\urllib3\\connectionpool.py:1099: InsecureRequestWarning: Unverified HTTPS request is being made to host 'jobinja.ir'. Adding certificate verification is strongly advised. See: https://urllib3.readthedocs.io/en/latest/advanced-usage.html#tls-warnings\n",
      "  warnings.warn(\n"
     ]
    },
    {
     "name": "stdout",
     "output_type": "stream",
     "text": [
      "URL: https://jobinja.ir/jobs?filters%5Bjob_categories%5D%5B%5D=%D8%AA%D8%B1%D8%AC%D9%85%D9%87\n",
      "Content Snippet: استخدام مترجم | استخدام مترجم زبان انگلیسی | استخدام مترجم زیرنویس | جابینجا\n",
      " | جابینجاامکان جدید:همین حالا رزومه خود را در کمتر از ۱۰ دقیقه بسازید،برو به رزومه‌سازJobinja | جابینجا | استخدام، آگهی استخدام، کاریابی، استخدامی جدید، بازار کار، نیازمندیها، ساخت رزومه رایگان، کار و استخدام دولتی، اشتغال، جستجوگر حرفه ای استخدام و شغلخانهجستجوی مشاغلرزومه‌ساز۵۰ شرکت برتربخش کارفرمایانورود کارجوثبت‌نام کارجوورود کارجوثبت‌نام کارجو۱جابینجا چطور به استخدام شدن من کمک می‌کند؟مشاهدهمشاهده بیشترجستجودرخواست‌های مننشان‌شده‌هاآگهی‌های پیشنهادیاز آگهی‌های جدید باخبر شوبهترین فرصت های شغلی در جابینجاهمه‌ی استان‌هاتهرانخراسان رضویاصفهانالبرزفارسقمآذربایجان شرقیمازندرانگیلانخوزستانکرمانیزدقزوینمرکزیهرمزگانگلستانزنجانآذربایجان غربیبوشهرسیستان و بلوچستانسمنانکرمانشاههمداناردبیللرستانکردستانخراسان شمالیخراسان جنوبیچهارمحال بختیاریایلامکهکیلویه و بویراحمدهمه‌ی دسته‌بندی‌هاترجمهفروش و بازاریابیوب،‌ برنامه‌نویسی و نرم‌افزارمالی و حسابداریمسئول دفتر، اجرائی و اداریتولید و مدیریت محتوادیجیتال مارکتینگپشتیبانی \n",
      "\n"
     ]
    },
    {
     "name": "stderr",
     "output_type": "stream",
     "text": [
      "C:\\Users\\negin\\anaconda3\\Lib\\site-packages\\urllib3\\connectionpool.py:1099: InsecureRequestWarning: Unverified HTTPS request is being made to host 'jobinja.ir'. Adding certificate verification is strongly advised. See: https://urllib3.readthedocs.io/en/latest/advanced-usage.html#tls-warnings\n",
      "  warnings.warn(\n",
      "C:\\Users\\negin\\anaconda3\\Lib\\site-packages\\urllib3\\connectionpool.py:1099: InsecureRequestWarning: Unverified HTTPS request is being made to host 'jobinja.ir'. Adding certificate verification is strongly advised. See: https://urllib3.readthedocs.io/en/latest/advanced-usage.html#tls-warnings\n",
      "  warnings.warn(\n"
     ]
    },
    {
     "name": "stdout",
     "output_type": "stream",
     "text": [
      "URL: https://jobinja.ir/jobs?filters%5Blocations%5D%5B%5D=%D9%87%D8%B1%D9%85%D8%B2%DA%AF%D8%A7%D9%86\n",
      "Content Snippet: استخدام هرمزگان | جابینجا\n",
      " | جابینجاامکان جدید:همین حالا رزومه خود را در کمتر از ۱۰ دقیقه بسازید،برو به رزومه‌سازJobinja | جابینجا | استخدام، آگهی استخدام، کاریابی، استخدامی جدید، بازار کار، نیازمندیها، ساخت رزومه رایگان، کار و استخدام دولتی، اشتغال، جستجوگر حرفه ای استخدام و شغلخانهجستجوی مشاغلرزومه‌ساز۵۰ شرکت برتربخش کارفرمایانورود کارجوثبت‌نام کارجوورود کارجوثبت‌نام کارجو۱جابینجا چطور به استخدام شدن من کمک می‌کند؟مشاهدهمشاهده بیشترجستجودرخواست‌های مننشان‌شده‌هاآگهی‌های پیشنهادیاز آگهی‌های جدید باخبر شوبهترین فرصت های شغلی در جابینجاهمه‌ی استان‌هاهرمزگانتهرانخراسان رضویاصفهانالبرزفارسقمآذربایجان شرقیمازندرانگیلانخوزستانکرمانیزدقزوینمرکزیگلستانزنجانآذربایجان غربیبوشهرسیستان و بلوچستانسمنانکرمانشاههمداناردبیللرستانکردستانخراسان شمالیخراسان جنوبیچهارمحال بختیاریایلامکهکیلویه و بویراحمدهمه‌ی دسته‌بندی‌هافروش و بازاریابیوب،‌ برنامه‌نویسی و نرم‌افزارمالی و حسابداریمسئول دفتر، اجرائی و اداریتولید و مدیریت محتوادیجیتال مارکتینگپشتیبانی و امور مشتریانطراحیIT / DevOps / Serverمهندسی صنایع و مد\n",
      "\n"
     ]
    },
    {
     "name": "stderr",
     "output_type": "stream",
     "text": [
      "C:\\Users\\negin\\anaconda3\\Lib\\site-packages\\urllib3\\connectionpool.py:1099: InsecureRequestWarning: Unverified HTTPS request is being made to host 'jobinja.ir'. Adding certificate verification is strongly advised. See: https://urllib3.readthedocs.io/en/latest/advanced-usage.html#tls-warnings\n",
      "  warnings.warn(\n",
      "C:\\Users\\negin\\anaconda3\\Lib\\site-packages\\urllib3\\connectionpool.py:1099: InsecureRequestWarning: Unverified HTTPS request is being made to host 'jobinja.ir'. Adding certificate verification is strongly advised. See: https://urllib3.readthedocs.io/en/latest/advanced-usage.html#tls-warnings\n",
      "  warnings.warn(\n"
     ]
    },
    {
     "name": "stdout",
     "output_type": "stream",
     "text": [
      "URL: https://jobinja.ir/jobs?filters%5Blocations%5D%5B%5D=%D8%A8%D9%88%D8%B4%D9%87%D8%B1\n",
      "Content Snippet: آگهی استخدام بوشهر | کاریابی بوشهر | جابینجا\n",
      " | جابینجاامکان جدید:همین حالا رزومه خود را در کمتر از ۱۰ دقیقه بسازید،برو به رزومه‌سازJobinja | جابینجا | استخدام، آگهی استخدام، کاریابی، استخدامی جدید، بازار کار، نیازمندیها، ساخت رزومه رایگان، کار و استخدام دولتی، اشتغال، جستجوگر حرفه ای استخدام و شغلخانهجستجوی مشاغلرزومه‌ساز۵۰ شرکت برتربخش کارفرمایانورود کارجوثبت‌نام کارجوورود کارجوثبت‌نام کارجو۱جابینجا چطور به استخدام شدن من کمک می‌کند؟مشاهدهمشاهده بیشترجستجودرخواست‌های مننشان‌شده‌هاآگهی‌های پیشنهادیاز آگهی‌های جدید باخبر شوبهترین فرصت های شغلی در جابینجاهمه‌ی استان‌هابوشهرتهرانخراسان رضویاصفهانالبرزفارسقمآذربایجان شرقیمازندرانگیلانخوزستانکرمانیزدقزوینمرکزیهرمزگانگلستانزنجانآذربایجان غربیسیستان و بلوچستانسمنانکرمانشاههمداناردبیللرستانکردستانخراسان شمالیخراسان جنوبیچهارمحال بختیاریایلامکهکیلویه و بویراحمدهمه‌ی دسته‌بندی‌هافروش و بازاریابیوب،‌ برنامه‌نویسی و نرم‌افزارمالی و حسابداریمسئول دفتر، اجرائی و اداریتولید و مدیریت محتوادیجیتال مارکتینگپشتیبانی و امور مشتریانطراحیIT / DevOps / Serv\n",
      "\n"
     ]
    },
    {
     "name": "stderr",
     "output_type": "stream",
     "text": [
      "C:\\Users\\negin\\anaconda3\\Lib\\site-packages\\urllib3\\connectionpool.py:1099: InsecureRequestWarning: Unverified HTTPS request is being made to host 'jobinja.ir'. Adding certificate verification is strongly advised. See: https://urllib3.readthedocs.io/en/latest/advanced-usage.html#tls-warnings\n",
      "  warnings.warn(\n",
      "C:\\Users\\negin\\anaconda3\\Lib\\site-packages\\urllib3\\connectionpool.py:1099: InsecureRequestWarning: Unverified HTTPS request is being made to host 'jobinja.ir'. Adding certificate verification is strongly advised. See: https://urllib3.readthedocs.io/en/latest/advanced-usage.html#tls-warnings\n",
      "  warnings.warn(\n"
     ]
    },
    {
     "name": "stdout",
     "output_type": "stream",
     "text": [
      "URL: https://jobinja.ir/jobs?filters%5Blocations%5D%5B%5D=%D8%A7%D8%B1%D8%AF%D8%A8%DB%8C%D9%84\n",
      "Content Snippet: آگهی استخدام اردبیل | استخدام اردبیل | کاریابی اردبیل | جابینجا\n",
      " | جابینجاامکان جدید:همین حالا رزومه خود را در کمتر از ۱۰ دقیقه بسازید،برو به رزومه‌سازJobinja | جابینجا | استخدام، آگهی استخدام، کاریابی، استخدامی جدید، بازار کار، نیازمندیها، ساخت رزومه رایگان، کار و استخدام دولتی، اشتغال، جستجوگر حرفه ای استخدام و شغلخانهجستجوی مشاغلرزومه‌ساز۵۰ شرکت برتربخش کارفرمایانورود کارجوثبت‌نام کارجوورود کارجوثبت‌نام کارجو۱جابینجا چطور به استخدام شدن من کمک می‌کند؟مشاهدهمشاهده بیشترجستجودرخواست‌های مننشان‌شده‌هاآگهی‌های پیشنهادیاز آگهی‌های جدید باخبر شوبهترین فرصت های شغلی در جابینجاهمه‌ی استان‌هااردبیلتهرانخراسان رضویاصفهانالبرزفارسقمآذربایجان شرقیمازندرانگیلانخوزستانکرمانیزدقزوینمرکزیهرمزگانگلستانزنجانآذربایجان غربیبوشهرسیستان و بلوچستانسمنانکرمانشاههمدانلرستانکردستانخراسان شمالیخراسان جنوبیچهارمحال بختیاریایلامکهکیلویه و بویراحمدهمه‌ی دسته‌بندی‌هافروش و بازاریابیوب،‌ برنامه‌نویسی و نرم‌افزارمالی و حسابداریمسئول دفتر، اجرائی و اداریتولید و مدیریت محتوادیجیتال مارکتینگپشتیبانی و امور مشتریانطراح\n",
      "\n"
     ]
    },
    {
     "name": "stderr",
     "output_type": "stream",
     "text": [
      "C:\\Users\\negin\\anaconda3\\Lib\\site-packages\\urllib3\\connectionpool.py:1099: InsecureRequestWarning: Unverified HTTPS request is being made to host 'jobinja.ir'. Adding certificate verification is strongly advised. See: https://urllib3.readthedocs.io/en/latest/advanced-usage.html#tls-warnings\n",
      "  warnings.warn(\n",
      "C:\\Users\\negin\\anaconda3\\Lib\\site-packages\\urllib3\\connectionpool.py:1099: InsecureRequestWarning: Unverified HTTPS request is being made to host 'jobinja.ir'. Adding certificate verification is strongly advised. See: https://urllib3.readthedocs.io/en/latest/advanced-usage.html#tls-warnings\n",
      "  warnings.warn(\n"
     ]
    },
    {
     "name": "stdout",
     "output_type": "stream",
     "text": [
      "URL: https://jobinja.ir/jobs?filters%5Bjob_categories%5D%5B%5D=%D8%B5%D9%86%D8%A7%DB%8C%D8%B9+%D8%BA%D8%B0%D8%A7%DB%8C%DB%8C\n",
      "Content Snippet: استخدام صنایع غذایی | استخدام مهندس صنایع غذایی | استخدام کارشناس صنایع غذایی\n",
      " | جابینجاامکان جدید:همین حالا رزومه خود را در کمتر از ۱۰ دقیقه بسازید،برو به رزومه‌سازJobinja | جابینجا | استخدام، آگهی استخدام، کاریابی، استخدامی جدید، بازار کار، نیازمندیها، ساخت رزومه رایگان، کار و استخدام دولتی، اشتغال، جستجوگر حرفه ای استخدام و شغلخانهجستجوی مشاغلرزومه‌ساز۵۰ شرکت برتربخش کارفرمایانورود کارجوثبت‌نام کارجوورود کارجوثبت‌نام کارجو۱جابینجا چطور به استخدام شدن من کمک می‌کند؟مشاهدهمشاهده بیشترجستجودرخواست‌های مننشان‌شده‌هاآگهی‌های پیشنهادیاز آگهی‌های جدید باخبر شوبهترین فرصت های شغلی در جابینجاهمه‌ی استان‌هاتهرانخراسان رضویاصفهانالبرزفارسقمآذربایجان شرقیمازندرانگیلانخوزستانکرمانیزدقزوینمرکزیهرمزگانگلستانزنجانآذربایجان غربیبوشهرسیستان و بلوچستانسمنانکرمانشاههمداناردبیللرستانکردستانخراسان شمالیخراسان جنوبیچهارمحال بختیاریایلامکهکیلویه و بویراحمدهمه‌ی دسته‌بندی‌هاصنایع غذاییفروش و بازاریابیوب،‌ برنامه‌نویسی و نرم‌افزارمالی و حسابداریمسئول دفتر، اجرائی و اداریتولید و مدیریت محتوادیجیتال مارکتینگپش\n",
      "\n"
     ]
    },
    {
     "name": "stderr",
     "output_type": "stream",
     "text": [
      "C:\\Users\\negin\\anaconda3\\Lib\\site-packages\\urllib3\\connectionpool.py:1099: InsecureRequestWarning: Unverified HTTPS request is being made to host 'jobinja.ir'. Adding certificate verification is strongly advised. See: https://urllib3.readthedocs.io/en/latest/advanced-usage.html#tls-warnings\n",
      "  warnings.warn(\n",
      "C:\\Users\\negin\\anaconda3\\Lib\\site-packages\\urllib3\\connectionpool.py:1099: InsecureRequestWarning: Unverified HTTPS request is being made to host 'jobinja.ir'. Adding certificate verification is strongly advised. See: https://urllib3.readthedocs.io/en/latest/advanced-usage.html#tls-warnings\n",
      "  warnings.warn(\n"
     ]
    },
    {
     "name": "stdout",
     "output_type": "stream",
     "text": [
      "An error occurred while accessing https://jobinja.ir/jobs?filters%5Bjob_categories%5D%5B%5D=%D8%B1%D9%88%D8%A7%D8%A8%D8%B7+%D8%B9%D9%85%D9%88%D9%85%DB%8C: HTTPSConnectionPool(host='jobinja.ir', port=443): Read timed out. (read timeout=10)\n"
     ]
    },
    {
     "name": "stderr",
     "output_type": "stream",
     "text": [
      "C:\\Users\\negin\\anaconda3\\Lib\\site-packages\\urllib3\\connectionpool.py:1099: InsecureRequestWarning: Unverified HTTPS request is being made to host 'jobinja.ir'. Adding certificate verification is strongly advised. See: https://urllib3.readthedocs.io/en/latest/advanced-usage.html#tls-warnings\n",
      "  warnings.warn(\n",
      "C:\\Users\\negin\\anaconda3\\Lib\\site-packages\\urllib3\\connectionpool.py:1099: InsecureRequestWarning: Unverified HTTPS request is being made to host 'jobinja.ir'. Adding certificate verification is strongly advised. See: https://urllib3.readthedocs.io/en/latest/advanced-usage.html#tls-warnings\n",
      "  warnings.warn(\n"
     ]
    },
    {
     "name": "stdout",
     "output_type": "stream",
     "text": [
      "An error occurred while accessing https://jobinja.ir/jobs?filters%5Bjob_categories%5D%5B%5D=%D9%81%D8%B1%D9%88%D8%B4+%D9%88+%D8%A8%D8%A7%D8%B2%D8%A7%D8%B1%DB%8C%D8%A7%D8%A8%DB%8C: HTTPSConnectionPool(host='jobinja.ir', port=443): Read timed out.\n"
     ]
    },
    {
     "name": "stderr",
     "output_type": "stream",
     "text": [
      "C:\\Users\\negin\\anaconda3\\Lib\\site-packages\\urllib3\\connectionpool.py:1099: InsecureRequestWarning: Unverified HTTPS request is being made to host 'jobinja.ir'. Adding certificate verification is strongly advised. See: https://urllib3.readthedocs.io/en/latest/advanced-usage.html#tls-warnings\n",
      "  warnings.warn(\n",
      "C:\\Users\\negin\\anaconda3\\Lib\\site-packages\\urllib3\\connectionpool.py:1099: InsecureRequestWarning: Unverified HTTPS request is being made to host 'jobinja.ir'. Adding certificate verification is strongly advised. See: https://urllib3.readthedocs.io/en/latest/advanced-usage.html#tls-warnings\n",
      "  warnings.warn(\n"
     ]
    },
    {
     "name": "stdout",
     "output_type": "stream",
     "text": [
      "URL: https://jobinja.ir/jobs?filters%5Blocations%5D%5B%5D=%D8%B3%DB%8C%D8%B3%D8%AA%D8%A7%D9%86+%D9%88+%D8%A8%D9%84%D9%88%DA%86%D8%B3%D8%AA%D8%A7%D9%86\n",
      "Content Snippet: آگهی استخدام سیستان و بلوچستان | استخدام سیستان و بلوچستان | کاریابی سیستان و بلوچستان\n",
      " | جابینجاامکان جدید:همین حالا رزومه خود را در کمتر از ۱۰ دقیقه بسازید،برو به رزومه‌سازJobinja | جابینجا | استخدام، آگهی استخدام، کاریابی، استخدامی جدید، بازار کار، نیازمندیها، ساخت رزومه رایگان، کار و استخدام دولتی، اشتغال، جستجوگر حرفه ای استخدام و شغلخانهجستجوی مشاغلرزومه‌ساز۵۰ شرکت برتربخش کارفرمایانورود کارجوثبت‌نام کارجوورود کارجوثبت‌نام کارجو۱جابینجا چطور به استخدام شدن من کمک می‌کند؟مشاهدهمشاهده بیشترجستجودرخواست‌های مننشان‌شده‌هاآگهی‌های پیشنهادیاز آگهی‌های جدید باخبر شوبهترین فرصت های شغلی در جابینجاهمه‌ی استان‌هاسیستان و بلوچستانتهرانخراسان رضویاصفهانالبرزفارسقمآذربایجان شرقیمازندرانگیلانخوزستانکرمانیزدقزوینمرکزیهرمزگانگلستانزنجانآذربایجان غربیبوشهرسمنانکرمانشاههمداناردبیللرستانکردستانخراسان شمالیخراسان جنوبیچهارمحال بختیاریایلامکهکیلویه و بویراحمدهمه‌ی دسته‌بندی‌هافروش و بازاریابیوب،‌ برنامه‌نویسی و نرم‌افزارمالی و حسابداریمسئول دفتر، اجرائی و اداریتولید و مدیریت محتوادیجیتال مارکتینگپشتی\n",
      "\n"
     ]
    },
    {
     "name": "stderr",
     "output_type": "stream",
     "text": [
      "C:\\Users\\negin\\anaconda3\\Lib\\site-packages\\urllib3\\connectionpool.py:1099: InsecureRequestWarning: Unverified HTTPS request is being made to host 'jobinja.ir'. Adding certificate verification is strongly advised. See: https://urllib3.readthedocs.io/en/latest/advanced-usage.html#tls-warnings\n",
      "  warnings.warn(\n"
     ]
    },
    {
     "name": "stdout",
     "output_type": "stream",
     "text": [
      "URL: https://jobinja.ir/jobs?filters%5Bkeywords%5D%5B0%5D=%D9%88%D8%B1%D8%AF%D9%BE%D8%B1%D8%B3\n",
      "Content Snippet: فرصت های شغلی وردپرس\n",
      " | جابینجاامکان جدید:همین حالا رزومه خود را در کمتر از ۱۰ دقیقه بسازید،برو به رزومه‌سازJobinja | جابینجا | استخدام، آگهی استخدام، کاریابی، استخدامی جدید، بازار کار، نیازمندیها، ساخت رزومه رایگان، کار و استخدام دولتی، اشتغال، جستجوگر حرفه ای استخدام و شغلخانهجستجوی مشاغلرزومه‌ساز۵۰ شرکت برتربخش کارفرمایانورود کارجوثبت‌نام کارجوورود کارجوثبت‌نام کارجو۱جابینجا چطور به استخدام شدن من کمک می‌کند؟مشاهدهمشاهده بیشترجستجودرخواست‌های مننشان‌شده‌هاآگهی‌های پیشنهادیاز آگهی‌های جدید باخبر شوبهترین فرصت های شغلی در جابینجاهمه‌ی استان‌هاتهرانخراسان رضویاصفهانالبرزفارسقمآذربایجان شرقیمازندرانگیلانخوزستانکرمانیزدقزوینمرکزیهرمزگانگلستانزنجانآذربایجان غربیبوشهرسیستان و بلوچستانسمنانکرمانشاههمداناردبیللرستانکردستانخراسان شمالیخراسان جنوبیچهارمحال بختیاریایلامکهکیلویه و بویراحمدهمه‌ی دسته‌بندی‌هافروش و بازاریابیوب،‌ برنامه‌نویسی و نرم‌افزارمالی و حسابداریمسئول دفتر، اجرائی و اداریتولید و مدیریت محتوادیجیتال مارکتینگپشتیبانی و امور مشتریانطراحیIT / DevOps / Serverمهندسی صنایع و مدیریت \n",
      "\n"
     ]
    },
    {
     "name": "stderr",
     "output_type": "stream",
     "text": [
      "C:\\Users\\negin\\anaconda3\\Lib\\site-packages\\urllib3\\connectionpool.py:1099: InsecureRequestWarning: Unverified HTTPS request is being made to host 'jobinja.ir'. Adding certificate verification is strongly advised. See: https://urllib3.readthedocs.io/en/latest/advanced-usage.html#tls-warnings\n",
      "  warnings.warn(\n",
      "C:\\Users\\negin\\anaconda3\\Lib\\site-packages\\urllib3\\connectionpool.py:1099: InsecureRequestWarning: Unverified HTTPS request is being made to host 'jobinja.ir'. Adding certificate verification is strongly advised. See: https://urllib3.readthedocs.io/en/latest/advanced-usage.html#tls-warnings\n",
      "  warnings.warn(\n"
     ]
    },
    {
     "name": "stdout",
     "output_type": "stream",
     "text": [
      "URL: https://jobinja.ir/jobs?filters%5Bjob_categories%5D%5B%5D=%D8%AA%D8%AD%D9%82%DB%8C%D9%82+%D8%A8%D8%A7%D8%B2%D8%A7%D8%B1+%D9%88+%D8%AA%D8%AD%D9%84%DB%8C%D9%84+%D8%A7%D9%82%D8%AA%D8%B5%D8%A7%D8%AF%DB%8C\n",
      "Content Snippet: استخدام تحلیلگر بازار و اقتصاد\n",
      " | جابینجاامکان جدید:همین حالا رزومه خود را در کمتر از ۱۰ دقیقه بسازید،برو به رزومه‌سازJobinja | جابینجا | استخدام، آگهی استخدام، کاریابی، استخدامی جدید، بازار کار، نیازمندیها، ساخت رزومه رایگان، کار و استخدام دولتی، اشتغال، جستجوگر حرفه ای استخدام و شغلخانهجستجوی مشاغلرزومه‌ساز۵۰ شرکت برتربخش کارفرمایانورود کارجوثبت‌نام کارجوورود کارجوثبت‌نام کارجو۱جابینجا چطور به استخدام شدن من کمک می‌کند؟مشاهدهمشاهده بیشترجستجودرخواست‌های مننشان‌شده‌هاآگهی‌های پیشنهادیاز آگهی‌های جدید باخبر شوبهترین فرصت های شغلی در جابینجاهمه‌ی استان‌هاتهرانخراسان رضویاصفهانالبرزفارسقمآذربایجان شرقیمازندرانگیلانخوزستانکرمانیزدقزوینمرکزیهرمزگانگلستانزنجانآذربایجان غربیبوشهرسیستان و بلوچستانسمنانکرمانشاههمداناردبیللرستانکردستانخراسان شمالیخراسان جنوبیچهارمحال بختیاریایلامکهکیلویه و بویراحمدهمه‌ی دسته‌بندی‌هاتحقیق بازار و تحلیل اقتصادیفروش و بازاریابیوب،‌ برنامه‌نویسی و نرم‌افزارمالی و حسابداریمسئول دفتر، اجرائی و اداریتولید و مدیریت محتوادیجیتال مارکتینگپشتیبانی و امور مشتریانطراحیIT / \n",
      "\n"
     ]
    },
    {
     "name": "stderr",
     "output_type": "stream",
     "text": [
      "C:\\Users\\negin\\anaconda3\\Lib\\site-packages\\urllib3\\connectionpool.py:1099: InsecureRequestWarning: Unverified HTTPS request is being made to host 'jobinja.ir'. Adding certificate verification is strongly advised. See: https://urllib3.readthedocs.io/en/latest/advanced-usage.html#tls-warnings\n",
      "  warnings.warn(\n"
     ]
    },
    {
     "name": "stdout",
     "output_type": "stream",
     "text": [
      "URL: https://jobinja.ir/top50\n",
      "Content Snippet: فهرست ۵۰ شرکت برتر ایران برای کار | جابینجاامکان جدید:همین حالا رزومه خود را در کمتر از ۱۰ دقیقه بسازید،برو به رزومه‌سازJobinja | جابینجا | استخدام، آگهی استخدام، کاریابی، استخدامی جدید، بازار کار، نیازمندیها، ساخت رزومه رایگان، کار و استخدام دولتی، اشتغال، جستجوگر حرفه ای استخدام و شغلخانهجستجوی مشاغلرزومه‌ساز۵۰ شرکت برتربخش کارفرمایانورود کارجوثبت‌نام کارجوورود کارجوثبت‌نام کارجو۱جابینجا چطور به استخدام شدن من کمک می‌کند؟مشاهدهمشاهده بیشترفهرست ۵۰ شرکت برتر ایران برای کارپیش از انتخاب شغل و مسیر حرفه‌ای خود، رتبه‌بندی شرکت‌های برتر ایران را در جابینجا مشاهده کنید!این فهرست بر اساس بررسی شاخص‌های مختلف در ۹۰ روز اخیر تهیه شده است.فهرست ۵۰ شرکت برتر ایرانهمه شرکت‌ها۱ویستا سامانه آسا | ASA۹/۶مشاهده صفحه شرکتکامپیوتر، فناوری اطلاعات و اینترنت۵۰۱ تا ۱۰۰۰ نفر۲۲\n",
      "                                                    شغل فعال۱۰محبوبیت میان کارجویان۱۰تعدد و تنوع فرصت‌های شغلی۹بررسی رزومه‌های دریافتیشرکت دانش بنیان آسا از مجموعه ای از افراد پرتلاش و خلاق تشکیل شده که تلاش می‌کنند تا آسا را به یک \n",
      "\n"
     ]
    },
    {
     "name": "stderr",
     "output_type": "stream",
     "text": [
      "C:\\Users\\negin\\anaconda3\\Lib\\site-packages\\urllib3\\connectionpool.py:1099: InsecureRequestWarning: Unverified HTTPS request is being made to host 'jobinja.ir'. Adding certificate verification is strongly advised. See: https://urllib3.readthedocs.io/en/latest/advanced-usage.html#tls-warnings\n",
      "  warnings.warn(\n"
     ]
    },
    {
     "name": "stdout",
     "output_type": "stream",
     "text": [
      "URL: https://jobinja.ir/companies/alibaba/jobs\n",
      "Content Snippet: فرصت‌های شغلی فعال در علی‌بابا | Alibaba Group  | جابینجاامکان جدید:همین حالا رزومه خود را در کمتر از ۱۰ دقیقه بسازید،برو به رزومه‌سازJobinja | جابینجا | استخدام، آگهی استخدام، کاریابی، استخدامی جدید، بازار کار، نیازمندیها، ساخت رزومه رایگان، کار و استخدام دولتی، اشتغال، جستجوگر حرفه ای استخدام و شغلخانهجستجوی مشاغلرزومه‌ساز۵۰ شرکت برتربخش کارفرمایانورود کارجوثبت‌نام کارجوورود کارجوثبت‌نام کارجو۱جابینجا چطور به استخدام شدن من کمک می‌کند؟مشاهدهمشاهده بیشترعلی‌بابا|Alibaba Groupکامپیوتر، فناوری اطلاعات و اینترنت۵۰۱ تا ۱۰۰۰ نفرwww.alibaba.irدر یک نگاهمعرفیفرصت‌های شغلی۲۱معرفی علی‌باباشرکت سفرهای علی‌بابا، یک جمع بزرگ بیش از 800 نفری از افرادی حرفه‌ای و تاثیرگذار است که در جایگاه رهبر بازار گردشگری ایران، با ارائه همه خدمات سفر به‌شکل آنلاین، همسفر مسافران می‌شود. تلاش همه علی‌بابایی‌ها این است که با توانمندسازی جامعه، دسترسی به تجربه شایسته سفر را برای همه ممکن کنند. اینجا هر روز برای ما «روز اول» است و فرصتی برای رشد و یادگیری. در واقع هیچ سقف و محدودیتی برای خودمان قائل نیستیم و علی‌باب\n",
      "\n"
     ]
    },
    {
     "name": "stderr",
     "output_type": "stream",
     "text": [
      "C:\\Users\\negin\\anaconda3\\Lib\\site-packages\\urllib3\\connectionpool.py:1099: InsecureRequestWarning: Unverified HTTPS request is being made to host 'jobinja.ir'. Adding certificate verification is strongly advised. See: https://urllib3.readthedocs.io/en/latest/advanced-usage.html#tls-warnings\n",
      "  warnings.warn(\n",
      "C:\\Users\\negin\\anaconda3\\Lib\\site-packages\\urllib3\\connectionpool.py:1099: InsecureRequestWarning: Unverified HTTPS request is being made to host 'jobinja.ir'. Adding certificate verification is strongly advised. See: https://urllib3.readthedocs.io/en/latest/advanced-usage.html#tls-warnings\n",
      "  warnings.warn(\n"
     ]
    },
    {
     "name": "stdout",
     "output_type": "stream",
     "text": [
      "URL: https://jobinja.ir/jobs?filters%5Bjob_categories%5D%5B%5D=%D8%AA%D9%88%D9%84%DB%8C%D8%AF+%D9%88+%D9%85%D8%AF%DB%8C%D8%B1%DB%8C%D8%AA+%D9%85%D8%AD%D8%AA%D9%88%D8%A7\n",
      "Content Snippet: استخدام تولید کننده و مدیر محتوا\n",
      " | جابینجاامکان جدید:همین حالا رزومه خود را در کمتر از ۱۰ دقیقه بسازید،برو به رزومه‌سازJobinja | جابینجا | استخدام، آگهی استخدام، کاریابی، استخدامی جدید، بازار کار، نیازمندیها، ساخت رزومه رایگان، کار و استخدام دولتی، اشتغال، جستجوگر حرفه ای استخدام و شغلخانهجستجوی مشاغلرزومه‌ساز۵۰ شرکت برتربخش کارفرمایانورود کارجوثبت‌نام کارجوورود کارجوثبت‌نام کارجو۱جابینجا چطور به استخدام شدن من کمک می‌کند؟مشاهدهمشاهده بیشترجستجودرخواست‌های مننشان‌شده‌هاآگهی‌های پیشنهادیاز آگهی‌های جدید باخبر شوبهترین فرصت های شغلی در جابینجاهمه‌ی استان‌هاتهرانخراسان رضویاصفهانالبرزفارسقمآذربایجان شرقیمازندرانگیلانخوزستانکرمانیزدقزوینمرکزیهرمزگانگلستانزنجانآذربایجان غربیبوشهرسیستان و بلوچستانسمنانکرمانشاههمداناردبیللرستانکردستانخراسان شمالیخراسان جنوبیچهارمحال بختیاریایلامکهکیلویه و بویراحمدهمه‌ی دسته‌بندی‌هاتولید و مدیریت محتوافروش و بازاریابیوب،‌ برنامه‌نویسی و نرم‌افزارمالی و حسابداریمسئول دفتر، اجرائی و اداریدیجیتال مارکتینگپشتیبانی و امور مشتریانطراحیIT / DevOps / Serverمهندسی صنا\n",
      "\n"
     ]
    },
    {
     "name": "stderr",
     "output_type": "stream",
     "text": [
      "C:\\Users\\negin\\anaconda3\\Lib\\site-packages\\urllib3\\connectionpool.py:1099: InsecureRequestWarning: Unverified HTTPS request is being made to host 'jobinja.ir'. Adding certificate verification is strongly advised. See: https://urllib3.readthedocs.io/en/latest/advanced-usage.html#tls-warnings\n",
      "  warnings.warn(\n",
      "C:\\Users\\negin\\anaconda3\\Lib\\site-packages\\urllib3\\connectionpool.py:1099: InsecureRequestWarning: Unverified HTTPS request is being made to host 'jobinja.ir'. Adding certificate verification is strongly advised. See: https://urllib3.readthedocs.io/en/latest/advanced-usage.html#tls-warnings\n",
      "  warnings.warn(\n"
     ]
    },
    {
     "name": "stdout",
     "output_type": "stream",
     "text": [
      "URL: https://jobinja.ir/jobs?filters%5Bjob_categories%5D%5B%5D=%D9%85%D9%86%D8%A7%D8%A8%D8%B9+%D8%A7%D9%86%D8%B3%D8%A7%D9%86%DB%8C+%D9%88+%DA%A9%D8%A7%D8%B1%DA%AF%D8%B2%DB%8C%D9%86%DB%8C\n",
      "Content Snippet: آگهی استخدام کارشناس منابع انسانی | استخدام مدیر منابع انسانی (HR) | جابینجا\n",
      " | جابینجاامکان جدید:همین حالا رزومه خود را در کمتر از ۱۰ دقیقه بسازید،برو به رزومه‌سازJobinja | جابینجا | استخدام، آگهی استخدام، کاریابی، استخدامی جدید، بازار کار، نیازمندیها، ساخت رزومه رایگان، کار و استخدام دولتی، اشتغال، جستجوگر حرفه ای استخدام و شغلخانهجستجوی مشاغلرزومه‌ساز۵۰ شرکت برتربخش کارفرمایانورود کارجوثبت‌نام کارجوورود کارجوثبت‌نام کارجو۱جابینجا چطور به استخدام شدن من کمک می‌کند؟مشاهدهمشاهده بیشترجستجودرخواست‌های مننشان‌شده‌هاآگهی‌های پیشنهادیاز آگهی‌های جدید باخبر شوبهترین فرصت های شغلی در جابینجاهمه‌ی استان‌هاتهرانخراسان رضویاصفهانالبرزفارسقمآذربایجان شرقیمازندرانگیلانخوزستانکرمانیزدقزوینمرکزیهرمزگانگلستانزنجانآذربایجان غربیبوشهرسیستان و بلوچستانسمنانکرمانشاههمداناردبیللرستانکردستانخراسان شمالیخراسان جنوبیچهارمحال بختیاریایلامکهکیلویه و بویراحمدهمه‌ی دسته‌بندی‌هامنابع انسانی و کارگزینیفروش و بازاریابیوب،‌ برنامه‌نویسی و نرم‌افزارمالی و حسابداریمسئول دفتر، اجرائی و اداریتولید و مدیریت محتوادیجیتال\n",
      "\n"
     ]
    },
    {
     "name": "stderr",
     "output_type": "stream",
     "text": [
      "C:\\Users\\negin\\anaconda3\\Lib\\site-packages\\urllib3\\connectionpool.py:1099: InsecureRequestWarning: Unverified HTTPS request is being made to host 'jobinja.ir'. Adding certificate verification is strongly advised. See: https://urllib3.readthedocs.io/en/latest/advanced-usage.html#tls-warnings\n",
      "  warnings.warn(\n",
      "C:\\Users\\negin\\anaconda3\\Lib\\site-packages\\urllib3\\connectionpool.py:1099: InsecureRequestWarning: Unverified HTTPS request is being made to host 'jobinja.ir'. Adding certificate verification is strongly advised. See: https://urllib3.readthedocs.io/en/latest/advanced-usage.html#tls-warnings\n",
      "  warnings.warn(\n"
     ]
    },
    {
     "name": "stdout",
     "output_type": "stream",
     "text": [
      "URL: https://jobinja.ir/jobs?filters%5Bjob_categories%5D%5B%5D=%D9%85%D8%A7%D9%84%DB%8C+%D9%88+%D8%AD%D8%B3%D8%A7%D8%A8%D8%AF%D8%A7%D8%B1%DB%8C\n",
      "Content Snippet: استخدام حسابدار | آگهی استخدام حسابدار | استخدام کمک حسابدار\n",
      " | جابینجاامکان جدید:همین حالا رزومه خود را در کمتر از ۱۰ دقیقه بسازید،برو به رزومه‌سازJobinja | جابینجا | استخدام، آگهی استخدام، کاریابی، استخدامی جدید، بازار کار، نیازمندیها، ساخت رزومه رایگان، کار و استخدام دولتی، اشتغال، جستجوگر حرفه ای استخدام و شغلخانهجستجوی مشاغلرزومه‌ساز۵۰ شرکت برتربخش کارفرمایانورود کارجوثبت‌نام کارجوورود کارجوثبت‌نام کارجو۱جابینجا چطور به استخدام شدن من کمک می‌کند؟مشاهدهمشاهده بیشترجستجودرخواست‌های مننشان‌شده‌هاآگهی‌های پیشنهادیاز آگهی‌های جدید باخبر شوبهترین فرصت های شغلی در جابینجاهمه‌ی استان‌هاتهرانخراسان رضویاصفهانالبرزفارسقمآذربایجان شرقیمازندرانگیلانخوزستانکرمانیزدقزوینمرکزیهرمزگانگلستانزنجانآذربایجان غربیبوشهرسیستان و بلوچستانسمنانکرمانشاههمداناردبیللرستانکردستانخراسان شمالیخراسان جنوبیچهارمحال بختیاریایلامکهکیلویه و بویراحمدهمه‌ی دسته‌بندی‌هامالی و حسابداریفروش و بازاریابیوب،‌ برنامه‌نویسی و نرم‌افزارمسئول دفتر، اجرائی و اداریتولید و مدیریت محتوادیجیتال مارکتینگپشتیبانی و امور مشتریانطراحیIT\n",
      "\n"
     ]
    },
    {
     "name": "stderr",
     "output_type": "stream",
     "text": [
      "C:\\Users\\negin\\anaconda3\\Lib\\site-packages\\urllib3\\connectionpool.py:1099: InsecureRequestWarning: Unverified HTTPS request is being made to host 'jobinja.ir'. Adding certificate verification is strongly advised. See: https://urllib3.readthedocs.io/en/latest/advanced-usage.html#tls-warnings\n",
      "  warnings.warn(\n",
      "C:\\Users\\negin\\anaconda3\\Lib\\site-packages\\urllib3\\connectionpool.py:1099: InsecureRequestWarning: Unverified HTTPS request is being made to host 'jobinja.ir'. Adding certificate verification is strongly advised. See: https://urllib3.readthedocs.io/en/latest/advanced-usage.html#tls-warnings\n",
      "  warnings.warn(\n"
     ]
    },
    {
     "name": "stdout",
     "output_type": "stream",
     "text": [
      "URL: https://jobinja.ir/jobs?filters%5Blocations%5D%5B%5D=%D8%A7%DB%8C%D9%84%D8%A7%D9%85\n",
      "Content Snippet: آگهی استخدام ایلام | استخدام ایلام | کاریابی ایلام\n",
      " | جابینجاامکان جدید:همین حالا رزومه خود را در کمتر از ۱۰ دقیقه بسازید،برو به رزومه‌سازJobinja | جابینجا | استخدام، آگهی استخدام، کاریابی، استخدامی جدید، بازار کار، نیازمندیها، ساخت رزومه رایگان، کار و استخدام دولتی، اشتغال، جستجوگر حرفه ای استخدام و شغلخانهجستجوی مشاغلرزومه‌ساز۵۰ شرکت برتربخش کارفرمایانورود کارجوثبت‌نام کارجوورود کارجوثبت‌نام کارجو۱جابینجا چطور به استخدام شدن من کمک می‌کند؟مشاهدهمشاهده بیشترجستجودرخواست‌های مننشان‌شده‌هاآگهی‌های پیشنهادیاز آگهی‌های جدید باخبر شوبهترین فرصت های شغلی در جابینجاهمه‌ی استان‌هاایلامتهرانخراسان رضویاصفهانالبرزفارسقمآذربایجان شرقیمازندرانگیلانخوزستانکرمانیزدقزوینمرکزیهرمزگانگلستانزنجانآذربایجان غربیبوشهرسیستان و بلوچستانسمنانکرمانشاههمداناردبیللرستانکردستانخراسان شمالیخراسان جنوبیچهارمحال بختیاریکهکیلویه و بویراحمدهمه‌ی دسته‌بندی‌هافروش و بازاریابیوب،‌ برنامه‌نویسی و نرم‌افزارمالی و حسابداریمسئول دفتر، اجرائی و اداریتولید و مدیریت محتوادیجیتال مارکتینگپشتیبانی و امور مشتریانطراحیIT / DevOps \n",
      "\n"
     ]
    },
    {
     "name": "stderr",
     "output_type": "stream",
     "text": [
      "C:\\Users\\negin\\anaconda3\\Lib\\site-packages\\urllib3\\connectionpool.py:1099: InsecureRequestWarning: Unverified HTTPS request is being made to host 'www.linkedin.com'. Adding certificate verification is strongly advised. See: https://urllib3.readthedocs.io/en/latest/advanced-usage.html#tls-warnings\n",
      "  warnings.warn(\n"
     ]
    },
    {
     "name": "stdout",
     "output_type": "stream",
     "text": [
      "An error occurred while accessing https://www.linkedin.com/company/10081041: 403 Client Error: Forbidden for url: https://www.linkedin.com/company/10081041\n"
     ]
    },
    {
     "name": "stderr",
     "output_type": "stream",
     "text": [
      "C:\\Users\\negin\\anaconda3\\Lib\\site-packages\\urllib3\\connectionpool.py:1099: InsecureRequestWarning: Unverified HTTPS request is being made to host 'jobinja.ir'. Adding certificate verification is strongly advised. See: https://urllib3.readthedocs.io/en/latest/advanced-usage.html#tls-warnings\n",
      "  warnings.warn(\n"
     ]
    },
    {
     "name": "stdout",
     "output_type": "stream",
     "text": [
      "URL: https://jobinja.ir/jobs?filters%5Bkeywords%5D%5B0%5D=%D8%A7%D8%AF%D9%85%DB%8C%D9%86+%D8%AF%D9%88%D8%B1%DA%A9%D8%A7%D8%B1%DB%8C\n",
      "Content Snippet: فرصت های شغلی ادمین دورکاری\n",
      " | جابینجاامکان جدید:همین حالا رزومه خود را در کمتر از ۱۰ دقیقه بسازید،برو به رزومه‌سازJobinja | جابینجا | استخدام، آگهی استخدام، کاریابی، استخدامی جدید، بازار کار، نیازمندیها، ساخت رزومه رایگان، کار و استخدام دولتی، اشتغال، جستجوگر حرفه ای استخدام و شغلخانهجستجوی مشاغلرزومه‌ساز۵۰ شرکت برتربخش کارفرمایانورود کارجوثبت‌نام کارجوورود کارجوثبت‌نام کارجو۱جابینجا چطور به استخدام شدن من کمک می‌کند؟مشاهدهمشاهده بیشترجستجودرخواست‌های مننشان‌شده‌هاآگهی‌های پیشنهادیاز آگهی‌های جدید باخبر شوبهترین فرصت های شغلی در جابینجاهمه‌ی استان‌هاتهرانخراسان رضویاصفهانالبرزفارسقمآذربایجان شرقیمازندرانگیلانخوزستانکرمانیزدقزوینمرکزیهرمزگانگلستانزنجانآذربایجان غربیبوشهرسیستان و بلوچستانسمنانکرمانشاههمداناردبیللرستانکردستانخراسان شمالیخراسان جنوبیچهارمحال بختیاریایلامکهکیلویه و بویراحمدهمه‌ی دسته‌بندی‌هافروش و بازاریابیوب،‌ برنامه‌نویسی و نرم‌افزارمالی و حسابداریمسئول دفتر، اجرائی و اداریتولید و مدیریت محتوادیجیتال مارکتینگپشتیبانی و امور مشتریانطراحیIT / DevOps / Serverمهندسی صنایع و \n",
      "\n"
     ]
    },
    {
     "name": "stderr",
     "output_type": "stream",
     "text": [
      "C:\\Users\\negin\\anaconda3\\Lib\\site-packages\\urllib3\\connectionpool.py:1099: InsecureRequestWarning: Unverified HTTPS request is being made to host 'jobinja.ir'. Adding certificate verification is strongly advised. See: https://urllib3.readthedocs.io/en/latest/advanced-usage.html#tls-warnings\n",
      "  warnings.warn(\n"
     ]
    },
    {
     "name": "stdout",
     "output_type": "stream",
     "text": [
      "URL: https://jobinja.ir/companies/orchidpharmed/jobs/A7gb/%D8%A7%D8%B3%D8%AA%D8%AE%D8%AF%D8%A7%D9%85-%DA%A9%D8%A7%D8%B1%D8%B4%D9%86%D8%A7%D8%B3-%D8%B3%DB%8C%D8%B3%D8%AA%D9%85-%D9%87%D8%A7-%D9%88-%D8%B1%D9%88%D8%B4-%D9%87%D8%A7-%D8%AF%D8%B1-%D8%A7%D8%B1%DA%A9%DB%8C%D8%AF-%D9%81%D8%A7%D8%B1%D9%85%D8%AF?_ref=18\n",
      "Content Snippet: استخدام کارشناس سیستم ها و روش ها در ارکید فارمد | جابینجاامکان جدید:همین حالا رزومه خود را در کمتر از ۱۰ دقیقه بسازید،برو به رزومه‌سازJobinja | جابینجا | استخدام، آگهی استخدام، کاریابی، استخدامی جدید، بازار کار، نیازمندیها، ساخت رزومه رایگان، کار و استخدام دولتی، اشتغال، جستجوگر حرفه ای استخدام و شغلخانهجستجوی مشاغلرزومه‌ساز۵۰ شرکت برتربخش کارفرمایانورود کارجوثبت‌نام کارجوورود کارجوثبت‌نام کارجو۱جابینجا چطور به استخدام شدن من کمک می‌کند؟مشاهدهمشاهده بیشترارکید فارمد|Orchid Pharmedخدمات درمانی، پزشکی و سلامت۵۰۱ تا ۱۰۰۰ نفرwww.orchidpharmed.comدر یک نگاهمعرفیفرصت‌های شغلی۲۷استخدام کارشناس سیستم ها و روش هالطفا برای مشاهده‌ی جزییات و ارسال رزومهیکی از راه‌های زیر را انتخاب کنیدورود / ثبت‌نام با ایمیلimage/svg+xmlbtn_google_light_normal_iosbtn_google_light_normal_iosCreated with Sketch.ورود / ثبت‌نام با گوگل\n",
      "                    (Gmail)ورود / ثبت‌نام با لینکدیناستخدام کارشناس سیستم ها و روش ها{{ tooltipText }}{{ hoverTitle }}نشان کردنحذف نشاندسته‌بندی شغلیمهندسی صنایع و مدیریت صنعتیموقعیت \n",
      "\n"
     ]
    },
    {
     "name": "stderr",
     "output_type": "stream",
     "text": [
      "C:\\Users\\negin\\anaconda3\\Lib\\site-packages\\urllib3\\connectionpool.py:1099: InsecureRequestWarning: Unverified HTTPS request is being made to host 'jobinja.ir'. Adding certificate verification is strongly advised. See: https://urllib3.readthedocs.io/en/latest/advanced-usage.html#tls-warnings\n",
      "  warnings.warn(\n"
     ]
    },
    {
     "name": "stdout",
     "output_type": "stream",
     "text": [
      "URL: https://jobinja.ir/jobs?filters%5Bkeywords%5D%5B0%5D=%DA%A9%D8%A7%D8%B1%D9%85%D9%86%D8%AF+%D8%A7%D8%AF%D8%A7%D8%B1%DB%8C\n",
      "Content Snippet: فرصت های شغلی کارمند اداری\n",
      " | جابینجاامکان جدید:همین حالا رزومه خود را در کمتر از ۱۰ دقیقه بسازید،برو به رزومه‌سازJobinja | جابینجا | استخدام، آگهی استخدام، کاریابی، استخدامی جدید، بازار کار، نیازمندیها، ساخت رزومه رایگان، کار و استخدام دولتی، اشتغال، جستجوگر حرفه ای استخدام و شغلخانهجستجوی مشاغلرزومه‌ساز۵۰ شرکت برتربخش کارفرمایانورود کارجوثبت‌نام کارجوورود کارجوثبت‌نام کارجو۱جابینجا چطور به استخدام شدن من کمک می‌کند؟مشاهدهمشاهده بیشترجستجودرخواست‌های مننشان‌شده‌هاآگهی‌های پیشنهادیاز آگهی‌های جدید باخبر شوبهترین فرصت های شغلی در جابینجاهمه‌ی استان‌هاتهرانخراسان رضویاصفهانالبرزفارسقمآذربایجان شرقیمازندرانگیلانخوزستانکرمانیزدقزوینمرکزیهرمزگانگلستانزنجانآذربایجان غربیبوشهرسیستان و بلوچستانسمنانکرمانشاههمداناردبیللرستانکردستانخراسان شمالیخراسان جنوبیچهارمحال بختیاریایلامکهکیلویه و بویراحمدهمه‌ی دسته‌بندی‌هافروش و بازاریابیوب،‌ برنامه‌نویسی و نرم‌افزارمالی و حسابداریمسئول دفتر، اجرائی و اداریتولید و مدیریت محتوادیجیتال مارکتینگپشتیبانی و امور مشتریانطراحیIT / DevOps / Serverمهندسی صنایع و م\n",
      "\n"
     ]
    },
    {
     "name": "stderr",
     "output_type": "stream",
     "text": [
      "C:\\Users\\negin\\anaconda3\\Lib\\site-packages\\urllib3\\connectionpool.py:1099: InsecureRequestWarning: Unverified HTTPS request is being made to host 'jobinja.ir'. Adding certificate verification is strongly advised. See: https://urllib3.readthedocs.io/en/latest/advanced-usage.html#tls-warnings\n",
      "  warnings.warn(\n",
      "C:\\Users\\negin\\anaconda3\\Lib\\site-packages\\urllib3\\connectionpool.py:1099: InsecureRequestWarning: Unverified HTTPS request is being made to host 'jobinja.ir'. Adding certificate verification is strongly advised. See: https://urllib3.readthedocs.io/en/latest/advanced-usage.html#tls-warnings\n",
      "  warnings.warn(\n"
     ]
    },
    {
     "name": "stdout",
     "output_type": "stream",
     "text": [
      "URL: https://jobinja.ir/jobs?filters%5Blocations%5D%5B%5D=%D9%87%D9%85%D8%AF%D8%A7%D9%86\n",
      "Content Snippet: کاریابی همدان | استخدامی همدان | آگهی استخدام همدان\n",
      " | جابینجاامکان جدید:همین حالا رزومه خود را در کمتر از ۱۰ دقیقه بسازید،برو به رزومه‌سازJobinja | جابینجا | استخدام، آگهی استخدام، کاریابی، استخدامی جدید، بازار کار، نیازمندیها، ساخت رزومه رایگان، کار و استخدام دولتی، اشتغال، جستجوگر حرفه ای استخدام و شغلخانهجستجوی مشاغلرزومه‌ساز۵۰ شرکت برتربخش کارفرمایانورود کارجوثبت‌نام کارجوورود کارجوثبت‌نام کارجو۱جابینجا چطور به استخدام شدن من کمک می‌کند؟مشاهدهمشاهده بیشترجستجودرخواست‌های مننشان‌شده‌هاآگهی‌های پیشنهادیاز آگهی‌های جدید باخبر شوبهترین فرصت های شغلی در جابینجاهمه‌ی استان‌هاهمدانتهرانخراسان رضویاصفهانالبرزفارسقمآذربایجان شرقیمازندرانگیلانخوزستانکرمانیزدقزوینمرکزیهرمزگانگلستانزنجانآذربایجان غربیبوشهرسیستان و بلوچستانسمنانکرمانشاهاردبیللرستانکردستانخراسان شمالیخراسان جنوبیچهارمحال بختیاریایلامکهکیلویه و بویراحمدهمه‌ی دسته‌بندی‌هافروش و بازاریابیوب،‌ برنامه‌نویسی و نرم‌افزارمالی و حسابداریمسئول دفتر، اجرائی و اداریتولید و مدیریت محتوادیجیتال مارکتینگپشتیبانی و امور مشتریانطراحیIT / DevOps\n",
      "\n"
     ]
    },
    {
     "name": "stderr",
     "output_type": "stream",
     "text": [
      "C:\\Users\\negin\\anaconda3\\Lib\\site-packages\\urllib3\\connectionpool.py:1099: InsecureRequestWarning: Unverified HTTPS request is being made to host 'jobinja.ir'. Adding certificate verification is strongly advised. See: https://urllib3.readthedocs.io/en/latest/advanced-usage.html#tls-warnings\n",
      "  warnings.warn(\n"
     ]
    },
    {
     "name": "stdout",
     "output_type": "stream",
     "text": [
      "URL: https://jobinja.ir/companies/hasin\n",
      "Content Snippet: استخدام در شرکت گروه حصین، آگهی های استخدام Hasin Technology | جابینجاامکان جدید:همین حالا رزومه خود را در کمتر از ۱۰ دقیقه بسازید،برو به رزومه‌سازJobinja | جابینجا | استخدام، آگهی استخدام، کاریابی، استخدامی جدید، بازار کار، نیازمندیها، ساخت رزومه رایگان، کار و استخدام دولتی، اشتغال، جستجوگر حرفه ای استخدام و شغلخانهجستجوی مشاغلرزومه‌ساز۵۰ شرکت برتربخش کارفرمایانورود کارجوثبت‌نام کارجوورود کارجوثبت‌نام کارجو۱جابینجا چطور به استخدام شدن من کمک می‌کند؟مشاهدهمشاهده بیشترگروه حصین|Hasin Technologyتاسیس در  ۱۳۸۳کامپیوتر، فناوری اطلاعات و اینترنت۵۰۱ تا ۱۰۰۰ نفرwww.hasin.irدر یک نگاهمعرفیفرصت‌های شغلی۲۲محیط کاری حصین جاییه که استعدادها شکوفا می‌شن، ایده‌ها به وجود میان و نوآوری هیچ حد و مرزی نمی‌شناسه.موقعیت مکانیتهران، تهراناعضای شرکتکمیل کمالمدیر فنی شرکت مایکتکار کردن با همکا‌رهای حرفه‌ای در محیطی صمیمی و پویا، از ویژگی‌های بارزی است که می‌شه تو حصین تجربه کرد. حصین به همه این فرصت رو می‌ده که نتیجهٔ ایده‌ها و پیشنهادات خلاقانهٔ خود رو در جهت بهبود تجربهٔ کاربری میلیون‌ها نفر مشاهده کنند.م\n",
      "\n"
     ]
    },
    {
     "name": "stderr",
     "output_type": "stream",
     "text": [
      "C:\\Users\\negin\\anaconda3\\Lib\\site-packages\\urllib3\\connectionpool.py:1099: InsecureRequestWarning: Unverified HTTPS request is being made to host 'jobinja.ir'. Adding certificate verification is strongly advised. See: https://urllib3.readthedocs.io/en/latest/advanced-usage.html#tls-warnings\n",
      "  warnings.warn(\n"
     ]
    },
    {
     "name": "stdout",
     "output_type": "stream",
     "text": [
      "URL: https://jobinja.ir/companies/nobitex-1\n",
      "Content Snippet: استخدام در شرکت نوبیتکس، آگهی های استخدام Nobitex | جابینجاامکان جدید:همین حالا رزومه خود را در کمتر از ۱۰ دقیقه بسازید،برو به رزومه‌سازJobinja | جابینجا | استخدام، آگهی استخدام، کاریابی، استخدامی جدید، بازار کار، نیازمندیها، ساخت رزومه رایگان، کار و استخدام دولتی، اشتغال، جستجوگر حرفه ای استخدام و شغلخانهجستجوی مشاغلرزومه‌ساز۵۰ شرکت برتربخش کارفرمایانورود کارجوثبت‌نام کارجوورود کارجوثبت‌نام کارجو۱جابینجا چطور به استخدام شدن من کمک می‌کند؟مشاهدهمشاهده بیشترنوبیتکس|Nobitexتاسیس در  ۱۳۹۶کامپیوتر، فناوری اطلاعات و اینترنت۲۰۱ تا ۵۰۰ نفرnobitex.irدر یک نگاهمعرفیفرصت‌های شغلی۱۰این جا نوبیتکسه: بزرگترین بستر مبادله دارایی‌های دیجیتال در ایران که از سال ۱۳۹۶ شروع به کار کرد. ما تلاش می‌کنیم تا کاربران ایرانی به سادگی دارایی‌های دیجیتال خودشون رو معامله یا نگهداری کننموقعیت مکانیتهران، تهراناعضای شرکتمهدی سیلاویمدیر محصولنوبیتکس به عنوان رهبر بازار رمزارزی ایران، با استفاده از تکنولوژی بلاکچین نه تنها به دنبال خلق ارزش در کشور،‌ بلکه به دنبال نوآوری و حرف تازه در دنیاست. اگه فکر می‌کنی می‌تونی \n",
      "\n"
     ]
    },
    {
     "name": "stderr",
     "output_type": "stream",
     "text": [
      "C:\\Users\\negin\\anaconda3\\Lib\\site-packages\\urllib3\\connectionpool.py:1099: InsecureRequestWarning: Unverified HTTPS request is being made to host 'jobinja.ir'. Adding certificate verification is strongly advised. See: https://urllib3.readthedocs.io/en/latest/advanced-usage.html#tls-warnings\n",
      "  warnings.warn(\n",
      "C:\\Users\\negin\\anaconda3\\Lib\\site-packages\\urllib3\\connectionpool.py:1099: InsecureRequestWarning: Unverified HTTPS request is being made to host 'jobinja.ir'. Adding certificate verification is strongly advised. See: https://urllib3.readthedocs.io/en/latest/advanced-usage.html#tls-warnings\n",
      "  warnings.warn(\n"
     ]
    },
    {
     "name": "stdout",
     "output_type": "stream",
     "text": [
      "URL: https://jobinja.ir/jobs?filters%5Bjob_categories%5D%5B%5D=%D9%85%D8%B3%D8%A6%D9%88%D9%84+%D8%AF%D9%81%D8%AA%D8%B1%D8%8C+%D8%A7%D8%AC%D8%B1%D8%A7%D8%A6%DB%8C+%D9%88+%D8%A7%D8%AF%D8%A7%D8%B1%DB%8C\n",
      "Content Snippet: استخدام منشی | استخدام کارمند دفتری | استخدام کارمند اداری | جابینجا\n",
      " | جابینجاامکان جدید:همین حالا رزومه خود را در کمتر از ۱۰ دقیقه بسازید،برو به رزومه‌سازJobinja | جابینجا | استخدام، آگهی استخدام، کاریابی، استخدامی جدید، بازار کار، نیازمندیها، ساخت رزومه رایگان، کار و استخدام دولتی، اشتغال، جستجوگر حرفه ای استخدام و شغلخانهجستجوی مشاغلرزومه‌ساز۵۰ شرکت برتربخش کارفرمایانورود کارجوثبت‌نام کارجوورود کارجوثبت‌نام کارجو۱جابینجا چطور به استخدام شدن من کمک می‌کند؟مشاهدهمشاهده بیشترجستجودرخواست‌های مننشان‌شده‌هاآگهی‌های پیشنهادیاز آگهی‌های جدید باخبر شوبهترین فرصت های شغلی در جابینجاهمه‌ی استان‌هاتهرانخراسان رضویاصفهانالبرزفارسقمآذربایجان شرقیمازندرانگیلانخوزستانکرمانیزدقزوینمرکزیهرمزگانگلستانزنجانآذربایجان غربیبوشهرسیستان و بلوچستانسمنانکرمانشاههمداناردبیللرستانکردستانخراسان شمالیخراسان جنوبیچهارمحال بختیاریایلامکهکیلویه و بویراحمدهمه‌ی دسته‌بندی‌هامسئول دفتر، اجرائی و اداریفروش و بازاریابیوب،‌ برنامه‌نویسی و نرم‌افزارمالی و حسابداریتولید و مدیریت محتوادیجیتال مارکتینگپشتیبانی و امور مشتریا\n",
      "\n"
     ]
    },
    {
     "name": "stderr",
     "output_type": "stream",
     "text": [
      "C:\\Users\\negin\\anaconda3\\Lib\\site-packages\\urllib3\\connectionpool.py:1099: InsecureRequestWarning: Unverified HTTPS request is being made to host 'jobinja.ir'. Adding certificate verification is strongly advised. See: https://urllib3.readthedocs.io/en/latest/advanced-usage.html#tls-warnings\n",
      "  warnings.warn(\n"
     ]
    },
    {
     "name": "stdout",
     "output_type": "stream",
     "text": [
      "URL: https://jobinja.ir/jobs?filters%5Bkeywords%5D%5B0%5D=%D9%81%D8%B1%D9%88%D8%B4%D9%86%D8%AF%D9%87\n",
      "Content Snippet: فرصت های شغلی فروشنده\n",
      " | جابینجاامکان جدید:همین حالا رزومه خود را در کمتر از ۱۰ دقیقه بسازید،برو به رزومه‌سازJobinja | جابینجا | استخدام، آگهی استخدام، کاریابی، استخدامی جدید، بازار کار، نیازمندیها، ساخت رزومه رایگان، کار و استخدام دولتی، اشتغال، جستجوگر حرفه ای استخدام و شغلخانهجستجوی مشاغلرزومه‌ساز۵۰ شرکت برتربخش کارفرمایانورود کارجوثبت‌نام کارجوورود کارجوثبت‌نام کارجو۱جابینجا چطور به استخدام شدن من کمک می‌کند؟مشاهدهمشاهده بیشترجستجودرخواست‌های مننشان‌شده‌هاآگهی‌های پیشنهادیاز آگهی‌های جدید باخبر شوبهترین فرصت های شغلی در جابینجاهمه‌ی استان‌هاتهرانخراسان رضویاصفهانالبرزفارسقمآذربایجان شرقیمازندرانگیلانخوزستانکرمانیزدقزوینمرکزیهرمزگانگلستانزنجانآذربایجان غربیبوشهرسیستان و بلوچستانسمنانکرمانشاههمداناردبیللرستانکردستانخراسان شمالیخراسان جنوبیچهارمحال بختیاریایلامکهکیلویه و بویراحمدهمه‌ی دسته‌بندی‌هافروش و بازاریابیوب،‌ برنامه‌نویسی و نرم‌افزارمالی و حسابداریمسئول دفتر، اجرائی و اداریتولید و مدیریت محتوادیجیتال مارکتینگپشتیبانی و امور مشتریانطراحیIT / DevOps / Serverمهندسی صنایع و مدیریت\n",
      "\n"
     ]
    },
    {
     "name": "stderr",
     "output_type": "stream",
     "text": [
      "C:\\Users\\negin\\anaconda3\\Lib\\site-packages\\urllib3\\connectionpool.py:1099: InsecureRequestWarning: Unverified HTTPS request is being made to host 'jobinja.ir'. Adding certificate verification is strongly advised. See: https://urllib3.readthedocs.io/en/latest/advanced-usage.html#tls-warnings\n",
      "  warnings.warn(\n"
     ]
    },
    {
     "name": "stdout",
     "output_type": "stream",
     "text": [
      "URL: https://jobinja.ir/jobs?filters%5Bkeywords%5D%5B0%5D=%D8%A8%D8%B1%D9%86%D8%A7%D9%85%D9%87+%D9%86%D9%88%DB%8C%D8%B3\n",
      "Content Snippet: فرصت های شغلی برنامه نویس\n",
      " | جابینجاامکان جدید:همین حالا رزومه خود را در کمتر از ۱۰ دقیقه بسازید،برو به رزومه‌سازJobinja | جابینجا | استخدام، آگهی استخدام، کاریابی، استخدامی جدید، بازار کار، نیازمندیها، ساخت رزومه رایگان، کار و استخدام دولتی، اشتغال، جستجوگر حرفه ای استخدام و شغلخانهجستجوی مشاغلرزومه‌ساز۵۰ شرکت برتربخش کارفرمایانورود کارجوثبت‌نام کارجوورود کارجوثبت‌نام کارجو۱جابینجا چطور به استخدام شدن من کمک می‌کند؟مشاهدهمشاهده بیشترجستجودرخواست‌های مننشان‌شده‌هاآگهی‌های پیشنهادیاز آگهی‌های جدید باخبر شوبهترین فرصت های شغلی در جابینجاهمه‌ی استان‌هاتهرانخراسان رضویاصفهانالبرزفارسقمآذربایجان شرقیمازندرانگیلانخوزستانکرمانیزدقزوینمرکزیهرمزگانگلستانزنجانآذربایجان غربیبوشهرسیستان و بلوچستانسمنانکرمانشاههمداناردبیللرستانکردستانخراسان شمالیخراسان جنوبیچهارمحال بختیاریایلامکهکیلویه و بویراحمدهمه‌ی دسته‌بندی‌هافروش و بازاریابیوب،‌ برنامه‌نویسی و نرم‌افزارمالی و حسابداریمسئول دفتر، اجرائی و اداریتولید و مدیریت محتوادیجیتال مارکتینگپشتیبانی و امور مشتریانطراحیIT / DevOps / Serverمهندسی صنایع و مد\n",
      "\n"
     ]
    },
    {
     "name": "stderr",
     "output_type": "stream",
     "text": [
      "C:\\Users\\negin\\anaconda3\\Lib\\site-packages\\urllib3\\connectionpool.py:1099: InsecureRequestWarning: Unverified HTTPS request is being made to host 'jobinja.ir'. Adding certificate verification is strongly advised. See: https://urllib3.readthedocs.io/en/latest/advanced-usage.html#tls-warnings\n",
      "  warnings.warn(\n"
     ]
    },
    {
     "name": "stdout",
     "output_type": "stream",
     "text": [
      "URL: https://jobinja.ir/jobs?filters%5Bkeywords%5D%5B0%5D=%D8%AD%D8%B3%D8%A7%D8%A8%D8%AF%D8%A7%D8%B1\n",
      "Content Snippet: فرصت های شغلی حسابدار\n",
      " | جابینجاامکان جدید:همین حالا رزومه خود را در کمتر از ۱۰ دقیقه بسازید،برو به رزومه‌سازJobinja | جابینجا | استخدام، آگهی استخدام، کاریابی، استخدامی جدید، بازار کار، نیازمندیها، ساخت رزومه رایگان، کار و استخدام دولتی، اشتغال، جستجوگر حرفه ای استخدام و شغلخانهجستجوی مشاغلرزومه‌ساز۵۰ شرکت برتربخش کارفرمایانورود کارجوثبت‌نام کارجوورود کارجوثبت‌نام کارجو۱جابینجا چطور به استخدام شدن من کمک می‌کند؟مشاهدهمشاهده بیشترجستجودرخواست‌های مننشان‌شده‌هاآگهی‌های پیشنهادیاز آگهی‌های جدید باخبر شوبهترین فرصت های شغلی در جابینجاهمه‌ی استان‌هاتهرانخراسان رضویاصفهانالبرزفارسقمآذربایجان شرقیمازندرانگیلانخوزستانکرمانیزدقزوینمرکزیهرمزگانگلستانزنجانآذربایجان غربیبوشهرسیستان و بلوچستانسمنانکرمانشاههمداناردبیللرستانکردستانخراسان شمالیخراسان جنوبیچهارمحال بختیاریایلامکهکیلویه و بویراحمدهمه‌ی دسته‌بندی‌هافروش و بازاریابیوب،‌ برنامه‌نویسی و نرم‌افزارمالی و حسابداریمسئول دفتر، اجرائی و اداریتولید و مدیریت محتوادیجیتال مارکتینگپشتیبانی و امور مشتریانطراحیIT / DevOps / Serverمهندسی صنایع و مدیریت\n",
      "\n"
     ]
    },
    {
     "name": "stderr",
     "output_type": "stream",
     "text": [
      "C:\\Users\\negin\\anaconda3\\Lib\\site-packages\\urllib3\\connectionpool.py:1099: InsecureRequestWarning: Unverified HTTPS request is being made to host 'jobinja.ir'. Adding certificate verification is strongly advised. See: https://urllib3.readthedocs.io/en/latest/advanced-usage.html#tls-warnings\n",
      "  warnings.warn(\n"
     ]
    },
    {
     "name": "stdout",
     "output_type": "stream",
     "text": [
      "URL: https://jobinja.ir/jobs?filters%5Bkeywords%5D%5B0%5D=%D8%AF%DB%8C%D8%AC%DB%8C+%DA%A9%D8%A7%D9%84%D8%A7\n",
      "Content Snippet: فرصت های شغلی دیجی کالا\n",
      " | جابینجاامکان جدید:همین حالا رزومه خود را در کمتر از ۱۰ دقیقه بسازید،برو به رزومه‌سازJobinja | جابینجا | استخدام، آگهی استخدام، کاریابی، استخدامی جدید، بازار کار، نیازمندیها، ساخت رزومه رایگان، کار و استخدام دولتی، اشتغال، جستجوگر حرفه ای استخدام و شغلخانهجستجوی مشاغلرزومه‌ساز۵۰ شرکت برتربخش کارفرمایانورود کارجوثبت‌نام کارجوورود کارجوثبت‌نام کارجو۱جابینجا چطور به استخدام شدن من کمک می‌کند؟مشاهدهمشاهده بیشترجستجودرخواست‌های مننشان‌شده‌هاآگهی‌های پیشنهادیاز آگهی‌های جدید باخبر شوبهترین فرصت های شغلی در جابینجاهمه‌ی استان‌هاتهرانخراسان رضویاصفهانالبرزفارسقمآذربایجان شرقیمازندرانگیلانخوزستانکرمانیزدقزوینمرکزیهرمزگانگلستانزنجانآذربایجان غربیبوشهرسیستان و بلوچستانسمنانکرمانشاههمداناردبیللرستانکردستانخراسان شمالیخراسان جنوبیچهارمحال بختیاریایلامکهکیلویه و بویراحمدهمه‌ی دسته‌بندی‌هافروش و بازاریابیوب،‌ برنامه‌نویسی و نرم‌افزارمالی و حسابداریمسئول دفتر، اجرائی و اداریتولید و مدیریت محتوادیجیتال مارکتینگپشتیبانی و امور مشتریانطراحیIT / DevOps / Serverمهندسی صنایع و مدیر\n",
      "\n"
     ]
    },
    {
     "name": "stderr",
     "output_type": "stream",
     "text": [
      "C:\\Users\\negin\\anaconda3\\Lib\\site-packages\\urllib3\\connectionpool.py:1099: InsecureRequestWarning: Unverified HTTPS request is being made to host 'jobinja.ir'. Adding certificate verification is strongly advised. See: https://urllib3.readthedocs.io/en/latest/advanced-usage.html#tls-warnings\n",
      "  warnings.warn(\n",
      "C:\\Users\\negin\\anaconda3\\Lib\\site-packages\\urllib3\\connectionpool.py:1099: InsecureRequestWarning: Unverified HTTPS request is being made to host 'jobinja.ir'. Adding certificate verification is strongly advised. See: https://urllib3.readthedocs.io/en/latest/advanced-usage.html#tls-warnings\n",
      "  warnings.warn(\n"
     ]
    },
    {
     "name": "stdout",
     "output_type": "stream",
     "text": [
      "URL: https://jobinja.ir/jobs?filters%5Blocations%5D%5B%5D=%DA%A9%D8%B1%D9%85%D8%A7%D9%86\n",
      "Content Snippet: آگهی استخدام کرمان | استخدام کرمان | کاریابی کرمان\n",
      " | جابینجاامکان جدید:همین حالا رزومه خود را در کمتر از ۱۰ دقیقه بسازید،برو به رزومه‌سازJobinja | جابینجا | استخدام، آگهی استخدام، کاریابی، استخدامی جدید، بازار کار، نیازمندیها، ساخت رزومه رایگان، کار و استخدام دولتی، اشتغال، جستجوگر حرفه ای استخدام و شغلخانهجستجوی مشاغلرزومه‌ساز۵۰ شرکت برتربخش کارفرمایانورود کارجوثبت‌نام کارجوورود کارجوثبت‌نام کارجو۱جابینجا چطور به استخدام شدن من کمک می‌کند؟مشاهدهمشاهده بیشترجستجودرخواست‌های مننشان‌شده‌هاآگهی‌های پیشنهادیاز آگهی‌های جدید باخبر شوبهترین فرصت های شغلی در جابینجاهمه‌ی استان‌هاکرمانتهرانخراسان رضویاصفهانالبرزفارسقمآذربایجان شرقیمازندرانگیلانخوزستانیزدقزوینمرکزیهرمزگانگلستانزنجانآذربایجان غربیبوشهرسیستان و بلوچستانسمنانکرمانشاههمداناردبیللرستانکردستانخراسان شمالیخراسان جنوبیچهارمحال بختیاریایلامکهکیلویه و بویراحمدهمه‌ی دسته‌بندی‌هافروش و بازاریابیوب،‌ برنامه‌نویسی و نرم‌افزارمالی و حسابداریمسئول دفتر، اجرائی و اداریتولید و مدیریت محتوادیجیتال مارکتینگپشتیبانی و امور مشتریانطراحیIT / DevOps \n",
      "\n"
     ]
    },
    {
     "name": "stderr",
     "output_type": "stream",
     "text": [
      "C:\\Users\\negin\\anaconda3\\Lib\\site-packages\\urllib3\\connectionpool.py:1099: InsecureRequestWarning: Unverified HTTPS request is being made to host 'jobinja.ir'. Adding certificate verification is strongly advised. See: https://urllib3.readthedocs.io/en/latest/advanced-usage.html#tls-warnings\n",
      "  warnings.warn(\n",
      "C:\\Users\\negin\\anaconda3\\Lib\\site-packages\\urllib3\\connectionpool.py:1099: InsecureRequestWarning: Unverified HTTPS request is being made to host 'jobinja.ir'. Adding certificate verification is strongly advised. See: https://urllib3.readthedocs.io/en/latest/advanced-usage.html#tls-warnings\n",
      "  warnings.warn(\n"
     ]
    },
    {
     "name": "stdout",
     "output_type": "stream",
     "text": [
      "URL: https://jobinja.ir/jobs?filters%5Bjob_categories%5D%5B%5D=%D8%A7%D9%86%D8%A8%D8%A7%D8%B1%D8%AF%D8%A7%D8%B1%DB%8C\n",
      "Content Snippet: استخدام انباردار | آگهی استخدام کمک انباردار\n",
      " | جابینجاامکان جدید:همین حالا رزومه خود را در کمتر از ۱۰ دقیقه بسازید،برو به رزومه‌سازJobinja | جابینجا | استخدام، آگهی استخدام، کاریابی، استخدامی جدید، بازار کار، نیازمندیها، ساخت رزومه رایگان، کار و استخدام دولتی، اشتغال، جستجوگر حرفه ای استخدام و شغلخانهجستجوی مشاغلرزومه‌ساز۵۰ شرکت برتربخش کارفرمایانورود کارجوثبت‌نام کارجوورود کارجوثبت‌نام کارجو۱جابینجا چطور به استخدام شدن من کمک می‌کند؟مشاهدهمشاهده بیشترجستجودرخواست‌های مننشان‌شده‌هاآگهی‌های پیشنهادیاز آگهی‌های جدید باخبر شوبهترین فرصت های شغلی در جابینجاهمه‌ی استان‌هاتهرانخراسان رضویاصفهانالبرزفارسقمآذربایجان شرقیمازندرانگیلانخوزستانکرمانیزدقزوینمرکزیهرمزگانگلستانزنجانآذربایجان غربیبوشهرسیستان و بلوچستانسمنانکرمانشاههمداناردبیللرستانکردستانخراسان شمالیخراسان جنوبیچهارمحال بختیاریایلامکهکیلویه و بویراحمدهمه‌ی دسته‌بندی‌هاانبارداریفروش و بازاریابیوب،‌ برنامه‌نویسی و نرم‌افزارمالی و حسابداریمسئول دفتر، اجرائی و اداریتولید و مدیریت محتوادیجیتال مارکتینگپشتیبانی و امور مشتریانطراحیIT / DevO\n",
      "\n"
     ]
    },
    {
     "name": "stderr",
     "output_type": "stream",
     "text": [
      "C:\\Users\\negin\\anaconda3\\Lib\\site-packages\\urllib3\\connectionpool.py:1099: InsecureRequestWarning: Unverified HTTPS request is being made to host 'jobinja.ir'. Adding certificate verification is strongly advised. See: https://urllib3.readthedocs.io/en/latest/advanced-usage.html#tls-warnings\n",
      "  warnings.warn(\n"
     ]
    },
    {
     "name": "stdout",
     "output_type": "stream",
     "text": [
      "URL: https://jobinja.ir/browsejobs\n",
      "Content Snippet: لیست مشاغل | آگهی کار | جستجوی کار\n",
      " | جابینجاامکان جدید:همین حالا رزومه خود را در کمتر از ۱۰ دقیقه بسازید،برو به رزومه‌سازJobinja | جابینجا | استخدام، آگهی استخدام، کاریابی، استخدامی جدید، بازار کار، نیازمندیها، ساخت رزومه رایگان، کار و استخدام دولتی، اشتغال، جستجوگر حرفه ای استخدام و شغلخانهجستجوی مشاغلرزومه‌ساز۵۰ شرکت برتربخش کارفرمایانورود کارجوثبت‌نام کارجوورود کارجوثبت‌نام کارجو۱جابینجا چطور به استخدام شدن من کمک می‌کند؟مشاهدهمشاهده بیشترلیست مشاغللیست مشاغل بر اساس دسته‌بندی شغلی:وب، برنامه‌نویسی و نرم‌افزارفروش و بازاریابیتولید و مدیریت محتوامالی و حسابداریکارمند دفتری، اجرائی و اداریطراحیپشتیبانی و امور مشتریانمهندسی برق و الکترونیکمهندسی صنایع و مدیریت صنعتیخرید و بازرگانیمنابع انسانی و کارگزینیمهندسی مکانیک و هوافضاآموزشمهندسی عمران و معماریانبارداریمدیر محصولتحقیق بازار و تحلیل اقتصادیتحقیق و توسعهگردشگریترجمهپزشکی، پرستاری و داروییمهندسی شیمی و نفتحمل و نقلروابط عمومیکارشناس حقوقی، وکالتمهندسی معدن و متالورژیصنایع غذاییمدیریت بیمهمهندسی نساجی، طراحی پارچه و لباسمهندسی پزشکی\n",
      "\n"
     ]
    },
    {
     "name": "stderr",
     "output_type": "stream",
     "text": [
      "C:\\Users\\negin\\anaconda3\\Lib\\site-packages\\urllib3\\connectionpool.py:1099: InsecureRequestWarning: Unverified HTTPS request is being made to host 'jobinja.ir'. Adding certificate verification is strongly advised. See: https://urllib3.readthedocs.io/en/latest/advanced-usage.html#tls-warnings\n",
      "  warnings.warn(\n"
     ]
    },
    {
     "name": "stdout",
     "output_type": "stream",
     "text": [
      "URL: https://jobinja.ir/companies/pilakrealestate/jobs/A4Xe/%D8%A7%D8%B3%D8%AA%D8%AE%D8%AF%D8%A7%D9%85-%D9%85%D8%B4%D8%A7%D9%88%D8%B1-%D9%81%D8%B1%D9%88%D8%B4-%D8%A7%D9%85%D9%84%D8%A7%DA%A9-%D8%AF%D8%B1-%D8%A7%D9%85%D9%84%D8%A7%DA%A9-%D8%A8%D9%84%D8%A7%DA%A9?_ref=18\n",
      "Content Snippet: استخدام مشاور فروش املاک در املاک بلاک | جابینجاامکان جدید:همین حالا رزومه خود را در کمتر از ۱۰ دقیقه بسازید،برو به رزومه‌سازJobinja | جابینجا | استخدام، آگهی استخدام، کاریابی، استخدامی جدید، بازار کار، نیازمندیها، ساخت رزومه رایگان، کار و استخدام دولتی، اشتغال، جستجوگر حرفه ای استخدام و شغلخانهجستجوی مشاغلرزومه‌ساز۵۰ شرکت برتربخش کارفرمایانورود کارجوثبت‌نام کارجوورود کارجوثبت‌نام کارجو۱جابینجا چطور به استخدام شدن من کمک می‌کند؟مشاهدهمشاهده بیشتراملاک بلاک|Pilakrealestateاملاک و مستغلات۵۱ تا ۲۰۰ نفرفرصت‌های شغلی۱استخدام مشاور فروش املاکلطفا برای مشاهده‌ی جزییات و ارسال رزومهیکی از راه‌های زیر را انتخاب کنیدورود / ثبت‌نام با ایمیلimage/svg+xmlbtn_google_light_normal_iosbtn_google_light_normal_iosCreated with Sketch.ورود / ثبت‌نام با گوگل\n",
      "                    (Gmail)ورود / ثبت‌نام با لینکدیناستخدام مشاور فروش املاک{{ tooltipText }}{{ hoverTitle }}نشان کردنحذف نشاندسته‌بندی شغلیفروش و بازاریابیموقعیت مکانیتهران\n",
      "                                                ، تهراننوع همکاریتمام وقتحداقل \n",
      "\n",
      "An error occurred while accessing https://twitter.com/Jobinja_ir: ('Connection aborted.', ConnectionResetError(10054, 'An existing connection was forcibly closed by the remote host', None, 10054, None))\n"
     ]
    },
    {
     "name": "stderr",
     "output_type": "stream",
     "text": [
      "C:\\Users\\negin\\anaconda3\\Lib\\site-packages\\urllib3\\connectionpool.py:1099: InsecureRequestWarning: Unverified HTTPS request is being made to host 'jobinja.ir'. Adding certificate verification is strongly advised. See: https://urllib3.readthedocs.io/en/latest/advanced-usage.html#tls-warnings\n",
      "  warnings.warn(\n"
     ]
    },
    {
     "name": "stdout",
     "output_type": "stream",
     "text": [
      "URL: https://jobinja.ir/companies/digipay/jobs\n",
      "Content Snippet: فرصت‌های شغلی فعال در  دیجی‌پی | Digipay | جابینجاامکان جدید:همین حالا رزومه خود را در کمتر از ۱۰ دقیقه بسازید،برو به رزومه‌سازJobinja | جابینجا | استخدام، آگهی استخدام، کاریابی، استخدامی جدید، بازار کار، نیازمندیها، ساخت رزومه رایگان، کار و استخدام دولتی، اشتغال، جستجوگر حرفه ای استخدام و شغلخانهجستجوی مشاغلرزومه‌ساز۵۰ شرکت برتربخش کارفرمایانورود کارجوثبت‌نام کارجوورود کارجوثبت‌نام کارجو۱جابینجا چطور به استخدام شدن من کمک می‌کند؟مشاهدهمشاهده بیشتردیجی‌پی|Digipayتاسیس در  ۱۳۹۷مالی و اعتباری۲۰۱ تا ۵۰۰ نفرwww.mydigipay.comدر یک نگاهمعرفیفرصت‌های شغلی۳۱معرفی  دیجی‌پیدیجی‌پی یک استارتاپ جوان در حوزه پرداخت الکترونیک با مجوز پرداخت‌یاری است که حاصل ادغام استارتاپ هُماپی در هلدینگ دیجی‌کالا است.دیجی‌پی در سال ۱۳۹۷ عضوی از خانواده دیجی‌کالا شد. هدف گروه دیجی‌کالا از ورود به حوزه فینتک، ارائه سرویس‌های پرداخت الکترونیک با پایداری بالا و بهترین تجربه برای مشتری بود. به دنبال تعریف این هدف، مسیر توسعه سرویس‌های دیجی‌پی مشخص شد.محصولات شرکت:-(Smart IPG) درگاه پرداخت هوشمند اینترنتی-(Refund) بازگش\n",
      "\n"
     ]
    },
    {
     "name": "stderr",
     "output_type": "stream",
     "text": [
      "C:\\Users\\negin\\anaconda3\\Lib\\site-packages\\urllib3\\connectionpool.py:1099: InsecureRequestWarning: Unverified HTTPS request is being made to host 'jobinja.ir'. Adding certificate verification is strongly advised. See: https://urllib3.readthedocs.io/en/latest/advanced-usage.html#tls-warnings\n",
      "  warnings.warn(\n"
     ]
    },
    {
     "name": "stdout",
     "output_type": "stream",
     "text": [
      "URL: https://jobinja.ir/companies/entakala\n",
      "Content Snippet: استخدام در شرکت انتاکالا ، آگهی های استخدام Entakala | جابینجاامکان جدید:همین حالا رزومه خود را در کمتر از ۱۰ دقیقه بسازید،برو به رزومه‌سازJobinja | جابینجا | استخدام، آگهی استخدام، کاریابی، استخدامی جدید، بازار کار، نیازمندیها، ساخت رزومه رایگان، کار و استخدام دولتی، اشتغال، جستجوگر حرفه ای استخدام و شغلخانهجستجوی مشاغلرزومه‌ساز۵۰ شرکت برتربخش کارفرمایانورود کارجوثبت‌نام کارجوورود کارجوثبت‌نام کارجو۱جابینجا چطور به استخدام شدن من کمک می‌کند؟مشاهدهمشاهده بیشترانتاکالا|Entakalaتاسیس در  ۱۳۹۷کامپیوتر، فناوری اطلاعات و اینترنت۵۱ تا ۲۰۰ نفرwww.entakala.comدر یک نگاهمعرفیفرصت‌های شغلی۱انتاکالا؛ بازار آنلاین کالاهای صنعتی است که در سال 1397 راه‌اندازی شده است. در انتاکالا خریداران و تامین‌کنندگان کالاهای صنعتی، می‌توانند بدون واسطه با یکدیگر در ارتباط باشند و با شفافیت کامل معاملات خود را انجام دهند.موقعیت مکانیتهران، تهراناعضای شرکتآیدین فتحیرئيس هیات مدیرهما در انتاکالا سعی داریم با پیشرفت روزافزون در حوزه‌های منابع انسانی، دیجیتال مارکتینگ، سخت افزار، مالی، فروش و ... جزو بهترین بستر‌های \n",
      "\n"
     ]
    },
    {
     "name": "stderr",
     "output_type": "stream",
     "text": [
      "C:\\Users\\negin\\anaconda3\\Lib\\site-packages\\urllib3\\connectionpool.py:1099: InsecureRequestWarning: Unverified HTTPS request is being made to host 'jobinja.ir'. Adding certificate verification is strongly advised. See: https://urllib3.readthedocs.io/en/latest/advanced-usage.html#tls-warnings\n",
      "  warnings.warn(\n"
     ]
    },
    {
     "name": "stdout",
     "output_type": "stream",
     "text": [
      "URL: https://jobinja.ir/jobs?filters%5Bkeywords%5D%5B0%5D=%D8%AA%D8%A7%DB%8C%D9%BE\n",
      "Content Snippet: فرصت های شغلی تایپ\n",
      " | جابینجاامکان جدید:همین حالا رزومه خود را در کمتر از ۱۰ دقیقه بسازید،برو به رزومه‌سازJobinja | جابینجا | استخدام، آگهی استخدام، کاریابی، استخدامی جدید، بازار کار، نیازمندیها، ساخت رزومه رایگان، کار و استخدام دولتی، اشتغال، جستجوگر حرفه ای استخدام و شغلخانهجستجوی مشاغلرزومه‌ساز۵۰ شرکت برتربخش کارفرمایانورود کارجوثبت‌نام کارجوورود کارجوثبت‌نام کارجو۱جابینجا چطور به استخدام شدن من کمک می‌کند؟مشاهدهمشاهده بیشترجستجودرخواست‌های مننشان‌شده‌هاآگهی‌های پیشنهادیاز آگهی‌های جدید باخبر شوبهترین فرصت های شغلی در جابینجاهمه‌ی استان‌هاتهرانخراسان رضویاصفهانالبرزفارسقمآذربایجان شرقیمازندرانگیلانخوزستانکرمانیزدقزوینمرکزیهرمزگانگلستانزنجانآذربایجان غربیبوشهرسیستان و بلوچستانسمنانکرمانشاههمداناردبیللرستانکردستانخراسان شمالیخراسان جنوبیچهارمحال بختیاریایلامکهکیلویه و بویراحمدهمه‌ی دسته‌بندی‌هافروش و بازاریابیوب،‌ برنامه‌نویسی و نرم‌افزارمالی و حسابداریمسئول دفتر، اجرائی و اداریتولید و مدیریت محتوادیجیتال مارکتینگپشتیبانی و امور مشتریانطراحیIT / DevOps / Serverمهندسی صنایع و مدیریت صن\n",
      "\n"
     ]
    },
    {
     "name": "stderr",
     "output_type": "stream",
     "text": [
      "C:\\Users\\negin\\anaconda3\\Lib\\site-packages\\urllib3\\connectionpool.py:1099: InsecureRequestWarning: Unverified HTTPS request is being made to host 'blog.jobinja.ir'. Adding certificate verification is strongly advised. See: https://urllib3.readthedocs.io/en/latest/advanced-usage.html#tls-warnings\n",
      "  warnings.warn(\n"
     ]
    },
    {
     "name": "stdout",
     "output_type": "stream",
     "text": [
      "URL: https://blog.jobinja.ir/%d8%aa%da%a9%d9%86%db%8c%da%a9%d9%87%d8%a7%db%8c-%d8%a7%d8%b1%d8%b2%db%8c%d8%a7%d8%a8%db%8c-%d8%b9%d9%85%d9%84%da%a9%d8%b1%d8%af-%da%a9%d8%a7%d8%b1%da%a9%d9%86%d8%a7%d9%86/\n",
      "Content Snippet: تکنیک‌های ارزیابی عملکرد کارکنان - وبلاگ جابینجااشتراک گذاریبا استفاده از روش‌های زیر می‌توانید این صفحه را با دوستان خود به اشتراک بگذارید.کپی لینککارجو ⏷رزومه نویسیمسیر شغلیمصاحبه کاریمهارت های فردیکارفرما ⏷منابع انسانیفضای کاریاخبار جابینجارزومه سازایجاد آگهی جدیدکارجو ⏷رزومه نویسیمسیر شغلیمصاحبه کاریمهارت های فردیکارفرما ⏷منابع انسانیفضای کاریاخبار جابینجارزومه سازایجاد آگهی جدیدParkingGasFoodCoffeeMiscمرا به خاطر بسپارنام کاربری :ایمیل :نام :نام خانوادگیآدرس وب سایت :تاریخ ثبت نام :نقش کاربر:کارفرمامنابع انسانیتکنیک‌های ارزیابی عملکرد کارکنانبازدید 78تیم تولید محتوا18 روز پیشاشتراک گذاریبا استفاده از روش‌های زیر می‌توانید این صفحه را با دوستان خود به اشتراک بگذارید.کپی لینکبدون دیدگاهکارفرمامنابع انسانیتکنیک‌های ارزیابی عملکرد کارکنانهر سازمانی برای دستیابی به موفقیت بلندمدت باید نیروی کار موثر را جذب و حفظ کند. برای حفظ نیروی انسانی باید رضایت شغلی کارکنان بهبود یابد. کسب‌وکارهای پیشرو با استفاده از تکنیک‌های ارزیابی عملکرد کارکنان به‌طور متناسب به نیروهای انسانی پاداش و مزایا می\n",
      "\n"
     ]
    },
    {
     "name": "stderr",
     "output_type": "stream",
     "text": [
      "C:\\Users\\negin\\anaconda3\\Lib\\site-packages\\urllib3\\connectionpool.py:1099: InsecureRequestWarning: Unverified HTTPS request is being made to host 'blog.jobinja.ir'. Adding certificate verification is strongly advised. See: https://urllib3.readthedocs.io/en/latest/advanced-usage.html#tls-warnings\n",
      "  warnings.warn(\n"
     ]
    },
    {
     "name": "stdout",
     "output_type": "stream",
     "text": [
      "URL: https://blog.jobinja.ir/%d8%a2%d9%85%d9%88%d8%b2%d8%b4-%d8%aa%da%a9%d9%86%db%8c%da%a9%d9%87%d8%a7%db%8c-%d9%85%d8%b5%d8%a7%d8%ad%d8%a8%d9%87-%d8%b4%d8%ba%d9%84%db%8c/\n",
      "Content Snippet: آموزش تکنیک‌های مصاحبه شغلی برای مدیران منابع انسانی - وبلاگ جابینجااشتراک گذاریبا استفاده از روش‌های زیر می‌توانید این صفحه را با دوستان خود به اشتراک بگذارید.کپی لینککارجو ⏷رزومه نویسیمسیر شغلیمصاحبه کاریمهارت های فردیکارفرما ⏷منابع انسانیفضای کاریاخبار جابینجارزومه سازایجاد آگهی جدیدکارجو ⏷رزومه نویسیمسیر شغلیمصاحبه کاریمهارت های فردیکارفرما ⏷منابع انسانیفضای کاریاخبار جابینجارزومه سازایجاد آگهی جدیدParkingGasFoodCoffeeMiscمرا به خاطر بسپارنام کاربری :ایمیل :نام :نام خانوادگیآدرس وب سایت :تاریخ ثبت نام :نقش کاربر:کارفرمامنابع انسانیآموزش تکنیک‌های مصاحبه شغلی برای مدیران منابع انسانیبازدید 551تیم تولید محتوا59 روز پیشاشتراک گذاریبا استفاده از روش‌های زیر می‌توانید این صفحه را با دوستان خود به اشتراک بگذارید.کپی لینکبدون دیدگاهکارفرمامنابع انسانیآموزش تکنیک‌های مصاحبه شغلی برای مدیران منابع انسانیجذب و استخدام نیروی انسانی کارآمد از مهمترین وظایف مدیران منابع انسانی است. مدیران واحد HR در هر سازمانی باید بهترین شیوه‌ها را برای مصاحبه شغلی به کار گیرند تا مستعدترین نیروها را شناسایی و\n",
      "\n"
     ]
    },
    {
     "name": "stderr",
     "output_type": "stream",
     "text": [
      "C:\\Users\\negin\\anaconda3\\Lib\\site-packages\\urllib3\\connectionpool.py:1099: InsecureRequestWarning: Unverified HTTPS request is being made to host 'jobinja.ir'. Adding certificate verification is strongly advised. See: https://urllib3.readthedocs.io/en/latest/advanced-usage.html#tls-warnings\n",
      "  warnings.warn(\n"
     ]
    },
    {
     "name": "stdout",
     "output_type": "stream",
     "text": [
      "URL: https://jobinja.ir/jobs?filters%5Bjob_categories%5D%5B%5D=%DA%A9%D8%A7%D8%B1%DA%AF%D8%B1+%D8%B3%D8%A7%D8%AF%D9%87%D8%8C+%D9%86%DB%8C%D8%B1%D9%88%DB%8C+%D8%AE%D8%AF%D9%85%D8%A7%D8%AA%DB%8C\n",
      "Content Snippet: فرصت های شغلی در دسته بندی کارگر ساده، نیروی خدماتی\n",
      " | جابینجاامکان جدید:همین حالا رزومه خود را در کمتر از ۱۰ دقیقه بسازید،برو به رزومه‌سازJobinja | جابینجا | استخدام، آگهی استخدام، کاریابی، استخدامی جدید، بازار کار، نیازمندیها، ساخت رزومه رایگان، کار و استخدام دولتی، اشتغال، جستجوگر حرفه ای استخدام و شغلخانهجستجوی مشاغلرزومه‌ساز۵۰ شرکت برتربخش کارفرمایانورود کارجوثبت‌نام کارجوورود کارجوثبت‌نام کارجو۱جابینجا چطور به استخدام شدن من کمک می‌کند؟مشاهدهمشاهده بیشترجستجودرخواست‌های مننشان‌شده‌هاآگهی‌های پیشنهادیاز آگهی‌های جدید باخبر شوبهترین فرصت های شغلی در جابینجاهمه‌ی استان‌هاتهرانخراسان رضویاصفهانالبرزفارسقمآذربایجان شرقیمازندرانگیلانخوزستانکرمانیزدقزوینمرکزیهرمزگانگلستانزنجانآذربایجان غربیبوشهرسیستان و بلوچستانسمنانکرمانشاههمداناردبیللرستانکردستانخراسان شمالیخراسان جنوبیچهارمحال بختیاریایلامکهکیلویه و بویراحمدهمه‌ی دسته‌بندی‌هاکارگر ساده، نیروی خدماتیفروش و بازاریابیوب،‌ برنامه‌نویسی و نرم‌افزارمالی و حسابداریمسئول دفتر، اجرائی و اداریتولید و مدیریت محتوادیجیتال مارکتینگپشتیبانی و امور\n",
      "\n"
     ]
    },
    {
     "name": "stderr",
     "output_type": "stream",
     "text": [
      "C:\\Users\\negin\\anaconda3\\Lib\\site-packages\\urllib3\\connectionpool.py:1099: InsecureRequestWarning: Unverified HTTPS request is being made to host 'jobinja.ir'. Adding certificate verification is strongly advised. See: https://urllib3.readthedocs.io/en/latest/advanced-usage.html#tls-warnings\n",
      "  warnings.warn(\n"
     ]
    },
    {
     "name": "stdout",
     "output_type": "stream",
     "text": [
      "URL: https://jobinja.ir/companies/ahannet-1\n",
      "Content Snippet: استخدام در شرکت آهن نت، آگهی های استخدام Ahannet | جابینجاامکان جدید:همین حالا رزومه خود را در کمتر از ۱۰ دقیقه بسازید،برو به رزومه‌سازJobinja | جابینجا | استخدام، آگهی استخدام، کاریابی، استخدامی جدید، بازار کار، نیازمندیها، ساخت رزومه رایگان، کار و استخدام دولتی، اشتغال، جستجوگر حرفه ای استخدام و شغلخانهجستجوی مشاغلرزومه‌ساز۵۰ شرکت برتربخش کارفرمایانورود کارجوثبت‌نام کارجوورود کارجوثبت‌نام کارجو۱جابینجا چطور به استخدام شدن من کمک می‌کند؟مشاهدهمشاهده بیشترآهن نت|Ahannetتاسیس در  ۱۳۹۴واردات و صادرات۱۱ تا ۵۰ نفرwww.ahannet.comدر یک نگاهمعرفیفرصت‌های شغلی۷مجموعه آهن نت عرضه کننده مستقیم محصولات فولادی از جمله میلگرد، تیرآهن، هاش سبک و سنگین، انواع ورق های فولادی، انواع پروفیل، نبشی و ناودانی و ... می‌باشد.موقعیت مکانیتهران، تهراناعضای شرکتداریوش زادمهرکارشناس فروشآهن نت همیشه به دنبال رشد بوده همین امر باعث شده نیرو انسانی هم رشد کند.سارا حسینیکارشناس محصولمجموعه شاد و پویا که کار کردن در این جا بسیار لذت بخش می‌باشد.شقایق بنائیانکارشناس محصولدرک عمیق از دغدغه‌های پرسنل و قرار دادن مولفه \n",
      "\n"
     ]
    },
    {
     "name": "stderr",
     "output_type": "stream",
     "text": [
      "C:\\Users\\negin\\anaconda3\\Lib\\site-packages\\urllib3\\connectionpool.py:1099: InsecureRequestWarning: Unverified HTTPS request is being made to host 'jobinja.ir'. Adding certificate verification is strongly advised. See: https://urllib3.readthedocs.io/en/latest/advanced-usage.html#tls-warnings\n",
      "  warnings.warn(\n"
     ]
    },
    {
     "name": "stdout",
     "output_type": "stream",
     "text": [
      "URL: https://jobinja.ir/jobs?filters%5Bkeywords%5D%5B0%5D=%D8%B7%D8%B1%D8%A7%D8%AD+%D8%B3%D8%A7%DB%8C%D8%AA\n",
      "Content Snippet: فرصت های شغلی طراح سایت\n",
      " | جابینجاامکان جدید:همین حالا رزومه خود را در کمتر از ۱۰ دقیقه بسازید،برو به رزومه‌سازJobinja | جابینجا | استخدام، آگهی استخدام، کاریابی، استخدامی جدید، بازار کار، نیازمندیها، ساخت رزومه رایگان، کار و استخدام دولتی، اشتغال، جستجوگر حرفه ای استخدام و شغلخانهجستجوی مشاغلرزومه‌ساز۵۰ شرکت برتربخش کارفرمایانورود کارجوثبت‌نام کارجوورود کارجوثبت‌نام کارجو۱جابینجا چطور به استخدام شدن من کمک می‌کند؟مشاهدهمشاهده بیشترجستجودرخواست‌های مننشان‌شده‌هاآگهی‌های پیشنهادیاز آگهی‌های جدید باخبر شوبهترین فرصت های شغلی در جابینجاهمه‌ی استان‌هاتهرانخراسان رضویاصفهانالبرزفارسقمآذربایجان شرقیمازندرانگیلانخوزستانکرمانیزدقزوینمرکزیهرمزگانگلستانزنجانآذربایجان غربیبوشهرسیستان و بلوچستانسمنانکرمانشاههمداناردبیللرستانکردستانخراسان شمالیخراسان جنوبیچهارمحال بختیاریایلامکهکیلویه و بویراحمدهمه‌ی دسته‌بندی‌هافروش و بازاریابیوب،‌ برنامه‌نویسی و نرم‌افزارمالی و حسابداریمسئول دفتر، اجرائی و اداریتولید و مدیریت محتوادیجیتال مارکتینگپشتیبانی و امور مشتریانطراحیIT / DevOps / Serverمهندسی صنایع و مدیر\n",
      "\n"
     ]
    },
    {
     "name": "stderr",
     "output_type": "stream",
     "text": [
      "C:\\Users\\negin\\anaconda3\\Lib\\site-packages\\urllib3\\connectionpool.py:1099: InsecureRequestWarning: Unverified HTTPS request is being made to host 'jobinja.ir'. Adding certificate verification is strongly advised. See: https://urllib3.readthedocs.io/en/latest/advanced-usage.html#tls-warnings\n",
      "  warnings.warn(\n"
     ]
    },
    {
     "name": "stdout",
     "output_type": "stream",
     "text": [
      "URL: https://jobinja.ir/jobs?filters%5Bkeywords%5D%5B0%5D=%D8%AF%D9%88%D8%B1+%DA%A9%D8%A7%D8%B1%DB%8C\n",
      "Content Snippet: فرصت های شغلی دور کاری\n",
      " | جابینجاامکان جدید:همین حالا رزومه خود را در کمتر از ۱۰ دقیقه بسازید،برو به رزومه‌سازJobinja | جابینجا | استخدام، آگهی استخدام، کاریابی، استخدامی جدید، بازار کار، نیازمندیها، ساخت رزومه رایگان، کار و استخدام دولتی، اشتغال، جستجوگر حرفه ای استخدام و شغلخانهجستجوی مشاغلرزومه‌ساز۵۰ شرکت برتربخش کارفرمایانورود کارجوثبت‌نام کارجوورود کارجوثبت‌نام کارجو۱جابینجا چطور به استخدام شدن من کمک می‌کند؟مشاهدهمشاهده بیشترجستجودرخواست‌های مننشان‌شده‌هاآگهی‌های پیشنهادیاز آگهی‌های جدید باخبر شوبهترین فرصت های شغلی در جابینجاهمه‌ی استان‌هاتهرانخراسان رضویاصفهانالبرزفارسقمآذربایجان شرقیمازندرانگیلانخوزستانکرمانیزدقزوینمرکزیهرمزگانگلستانزنجانآذربایجان غربیبوشهرسیستان و بلوچستانسمنانکرمانشاههمداناردبیللرستانکردستانخراسان شمالیخراسان جنوبیچهارمحال بختیاریایلامکهکیلویه و بویراحمدهمه‌ی دسته‌بندی‌هافروش و بازاریابیوب،‌ برنامه‌نویسی و نرم‌افزارمالی و حسابداریمسئول دفتر، اجرائی و اداریتولید و مدیریت محتوادیجیتال مارکتینگپشتیبانی و امور مشتریانطراحیIT / DevOps / Serverمهندسی صنایع و مدیری\n",
      "\n"
     ]
    },
    {
     "name": "stderr",
     "output_type": "stream",
     "text": [
      "C:\\Users\\negin\\anaconda3\\Lib\\site-packages\\urllib3\\connectionpool.py:1099: InsecureRequestWarning: Unverified HTTPS request is being made to host 'jobinja.ir'. Adding certificate verification is strongly advised. See: https://urllib3.readthedocs.io/en/latest/advanced-usage.html#tls-warnings\n",
      "  warnings.warn(\n",
      "C:\\Users\\negin\\anaconda3\\Lib\\site-packages\\urllib3\\connectionpool.py:1099: InsecureRequestWarning: Unverified HTTPS request is being made to host 'jobinja.ir'. Adding certificate verification is strongly advised. See: https://urllib3.readthedocs.io/en/latest/advanced-usage.html#tls-warnings\n",
      "  warnings.warn(\n"
     ]
    },
    {
     "name": "stdout",
     "output_type": "stream",
     "text": [
      "URL: https://jobinja.ir/jobs?filters%5Bkeywords%5D%5B0%5D=%D8%AA%D9%88%D9%84%DB%8C%D8%AF+%D9%85%D8%AD%D8%AA%D9%88%D8%A7\n",
      "Content Snippet: استخدام تولید محتوا | استخدام کارشناس تولید محتوا و کپی رایتر\n",
      " | جابینجاامکان جدید:همین حالا رزومه خود را در کمتر از ۱۰ دقیقه بسازید،برو به رزومه‌سازJobinja | جابینجا | استخدام، آگهی استخدام، کاریابی، استخدامی جدید، بازار کار، نیازمندیها، ساخت رزومه رایگان، کار و استخدام دولتی، اشتغال، جستجوگر حرفه ای استخدام و شغلخانهجستجوی مشاغلرزومه‌ساز۵۰ شرکت برتربخش کارفرمایانورود کارجوثبت‌نام کارجوورود کارجوثبت‌نام کارجو۱جابینجا چطور به استخدام شدن من کمک می‌کند؟مشاهدهمشاهده بیشترجستجودرخواست‌های مننشان‌شده‌هاآگهی‌های پیشنهادیاز آگهی‌های جدید باخبر شوبهترین فرصت های شغلی در جابینجاهمه‌ی استان‌هاتهرانخراسان رضویاصفهانالبرزفارسقمآذربایجان شرقیمازندرانگیلانخوزستانکرمانیزدقزوینمرکزیهرمزگانگلستانزنجانآذربایجان غربیبوشهرسیستان و بلوچستانسمنانکرمانشاههمداناردبیللرستانکردستانخراسان شمالیخراسان جنوبیچهارمحال بختیاریایلامکهکیلویه و بویراحمدهمه‌ی دسته‌بندی‌هافروش و بازاریابیوب،‌ برنامه‌نویسی و نرم‌افزارمالی و حسابداریمسئول دفتر، اجرائی و اداریتولید و مدیریت محتوادیجیتال مارکتینگپشتیبانی و امور مشتریانطراحیI\n",
      "\n"
     ]
    },
    {
     "name": "stderr",
     "output_type": "stream",
     "text": [
      "C:\\Users\\negin\\anaconda3\\Lib\\site-packages\\urllib3\\connectionpool.py:1099: InsecureRequestWarning: Unverified HTTPS request is being made to host 'jobinja.ir'. Adding certificate verification is strongly advised. See: https://urllib3.readthedocs.io/en/latest/advanced-usage.html#tls-warnings\n",
      "  warnings.warn(\n"
     ]
    },
    {
     "name": "stdout",
     "output_type": "stream",
     "text": [
      "URL: https://jobinja.ir/companies/autokhatib/jobs\n",
      "Content Snippet: فرصت‌های شغلی فعال در اتو خطیب | Autokhatib | جابینجاامکان جدید:همین حالا رزومه خود را در کمتر از ۱۰ دقیقه بسازید،برو به رزومه‌سازJobinja | جابینجا | استخدام، آگهی استخدام، کاریابی، استخدامی جدید، بازار کار، نیازمندیها، ساخت رزومه رایگان، کار و استخدام دولتی، اشتغال، جستجوگر حرفه ای استخدام و شغلخانهجستجوی مشاغلرزومه‌ساز۵۰ شرکت برتربخش کارفرمایانورود کارجوثبت‌نام کارجوورود کارجوثبت‌نام کارجو۱جابینجا چطور به استخدام شدن من کمک می‌کند؟مشاهدهمشاهده بیشتراتو خطیب|Autokhatibتاسیس در  ۱۳۸۸خودروسازی۱۱ تا ۵۰ نفرAutokhatib.irدر یک نگاهمعرفیفرصت‌های شغلی۱۱معرفی اتو خطیبشرکت فراتوسعه خطیب خودرو با بیش از یک دهه سابقه در زمینه فروش خودروهای نقد و اقساط مشغول به فعالیت می‌باشدفرصت‌های شغلی فعال در اتو خطیب|Autokhatibکارشناس حسابداری و مالی(۴ روز پیش)اتو خطیب | Autokhatibتهران، تهرانقرارداد\n",
      "              تمام‌وقت(برای\n",
      "                مشاهده حقوق وارد شوید)ارسال\n",
      "              رزومه{{ tooltipText }}{{ hoverTitle }}نشان کردنحذف نشانادمین CRM(پیام گستر)(۵ روز پیش)اتو خطیب | Autokhatibتهران، تهرانقرارداد\n",
      "\n"
     ]
    },
    {
     "name": "stderr",
     "output_type": "stream",
     "text": [
      "C:\\Users\\negin\\anaconda3\\Lib\\site-packages\\urllib3\\connectionpool.py:1099: InsecureRequestWarning: Unverified HTTPS request is being made to host 'jobinja.ir'. Adding certificate verification is strongly advised. See: https://urllib3.readthedocs.io/en/latest/advanced-usage.html#tls-warnings\n",
      "  warnings.warn(\n"
     ]
    },
    {
     "name": "stdout",
     "output_type": "stream",
     "text": [
      "URL: https://jobinja.ir/jobs?filters%5Bkeywords%5D%5B0%5D=%D8%AF%D9%88%D8%B1%DA%A9%D8%A7%D8%B1%DB%8C\n",
      "Content Snippet: فرصت های شغلی دورکاری\n",
      " | جابینجاامکان جدید:همین حالا رزومه خود را در کمتر از ۱۰ دقیقه بسازید،برو به رزومه‌سازJobinja | جابینجا | استخدام، آگهی استخدام، کاریابی، استخدامی جدید، بازار کار، نیازمندیها، ساخت رزومه رایگان، کار و استخدام دولتی، اشتغال، جستجوگر حرفه ای استخدام و شغلخانهجستجوی مشاغلرزومه‌ساز۵۰ شرکت برتربخش کارفرمایانورود کارجوثبت‌نام کارجوورود کارجوثبت‌نام کارجو۱جابینجا چطور به استخدام شدن من کمک می‌کند؟مشاهدهمشاهده بیشترجستجودرخواست‌های مننشان‌شده‌هاآگهی‌های پیشنهادیاز آگهی‌های جدید باخبر شوبهترین فرصت های شغلی در جابینجاهمه‌ی استان‌هاتهرانخراسان رضویاصفهانالبرزفارسقمآذربایجان شرقیمازندرانگیلانخوزستانکرمانیزدقزوینمرکزیهرمزگانگلستانزنجانآذربایجان غربیبوشهرسیستان و بلوچستانسمنانکرمانشاههمداناردبیللرستانکردستانخراسان شمالیخراسان جنوبیچهارمحال بختیاریایلامکهکیلویه و بویراحمدهمه‌ی دسته‌بندی‌هافروش و بازاریابیوب،‌ برنامه‌نویسی و نرم‌افزارمالی و حسابداریمسئول دفتر، اجرائی و اداریتولید و مدیریت محتوادیجیتال مارکتینگپشتیبانی و امور مشتریانطراحیIT / DevOps / Serverمهندسی صنایع و مدیریت\n",
      "\n"
     ]
    },
    {
     "name": "stderr",
     "output_type": "stream",
     "text": [
      "C:\\Users\\negin\\anaconda3\\Lib\\site-packages\\urllib3\\connectionpool.py:1099: InsecureRequestWarning: Unverified HTTPS request is being made to host 'jobinja.ir'. Adding certificate verification is strongly advised. See: https://urllib3.readthedocs.io/en/latest/advanced-usage.html#tls-warnings\n",
      "  warnings.warn(\n"
     ]
    },
    {
     "name": "stdout",
     "output_type": "stream",
     "text": [
      "URL: https://jobinja.ir/companies/rahyan-teb-saba-rts/jobs/Am07/%D8%A7%D8%B3%D8%AA%D8%AE%D8%AF%D8%A7%D9%85-%DA%A9%D8%A7%D8%B1%D8%B4%D9%86%D8%A7%D8%B3-%D9%81%D9%86%DB%8C-%D9%88-%D9%85%D9%87%D9%86%D8%AF%D8%B3%DB%8C-%D8%A2%D9%82%D8%A7-%D8%AF%D8%B1-%D8%B1%D8%A7%D9%87%DB%8C%D8%A7%D9%86-%D8%B7%D8%A8-%D8%B5%D8%A8%D8%A7?_ref=18\n",
      "Content Snippet: استخدام کارشناس فنی و مهندسی(آقا) در راهیان طب صبا | جابینجاامکان جدید:همین حالا رزومه خود را در کمتر از ۱۰ دقیقه بسازید،برو به رزومه‌سازJobinja | جابینجا | استخدام، آگهی استخدام، کاریابی، استخدامی جدید، بازار کار، نیازمندیها، ساخت رزومه رایگان، کار و استخدام دولتی، اشتغال، جستجوگر حرفه ای استخدام و شغلخانهجستجوی مشاغلرزومه‌ساز۵۰ شرکت برتربخش کارفرمایانورود کارجوثبت‌نام کارجوورود کارجوثبت‌نام کارجو۱جابینجا چطور به استخدام شدن من کمک می‌کند؟مشاهدهمشاهده بیشترراهیان طب صبا|Rahyan Teb Saba(RTS)خدمات درمانی، پزشکی و سلامت۵۱ تا ۲۰۰ نفرrahyanteb.comفرصت‌های شغلی۳استخدام کارشناس فنی و مهندسی(آقا)لطفا برای مشاهده‌ی جزییات و ارسال رزومهیکی از راه‌های زیر را انتخاب کنیدورود / ثبت‌نام با ایمیلimage/svg+xmlbtn_google_light_normal_iosbtn_google_light_normal_iosCreated with Sketch.ورود / ثبت‌نام با گوگل\n",
      "                    (Gmail)ورود / ثبت‌نام با لینکدیناستخدام کارشناس فنی و مهندسی(آقا){{ tooltipText }}{{ hoverTitle }}نشان کردنحذف نشاندسته‌بندی شغلیمهندسی پزشکیموقعیت مکانیتهران\n",
      "                    \n",
      "\n"
     ]
    },
    {
     "name": "stderr",
     "output_type": "stream",
     "text": [
      "C:\\Users\\negin\\anaconda3\\Lib\\site-packages\\urllib3\\connectionpool.py:1099: InsecureRequestWarning: Unverified HTTPS request is being made to host 'jobinja.ir'. Adding certificate verification is strongly advised. See: https://urllib3.readthedocs.io/en/latest/advanced-usage.html#tls-warnings\n",
      "  warnings.warn(\n"
     ]
    },
    {
     "name": "stdout",
     "output_type": "stream",
     "text": [
      "URL: https://jobinja.ir/companies/digipay\n",
      "Content Snippet: استخدام در شرکت  دیجی‌پی، آگهی های استخدام Digipay | جابینجاامکان جدید:همین حالا رزومه خود را در کمتر از ۱۰ دقیقه بسازید،برو به رزومه‌سازJobinja | جابینجا | استخدام، آگهی استخدام، کاریابی، استخدامی جدید، بازار کار، نیازمندیها، ساخت رزومه رایگان، کار و استخدام دولتی، اشتغال، جستجوگر حرفه ای استخدام و شغلخانهجستجوی مشاغلرزومه‌ساز۵۰ شرکت برتربخش کارفرمایانورود کارجوثبت‌نام کارجوورود کارجوثبت‌نام کارجو۱جابینجا چطور به استخدام شدن من کمک می‌کند؟مشاهدهمشاهده بیشتردیجی‌پی|Digipayتاسیس در  ۱۳۹۷مالی و اعتباری۲۰۱ تا ۵۰۰ نفرwww.mydigipay.comدر یک نگاهمعرفیفرصت‌های شغلی۳۱دیجی‌پی از آغاز با هدف فراگیری مالی و دسترس‌پذیرکردن خدمات اقتصاد دیجیتال برای همه‌ی افراد جامعه بر ارائه‌ی راهکارهایی جامع، کاربرپسند و هوشمند برای پاسخ به نیازهای روزمره کاربران تمرکز کرده استموقعیت مکانیتهران، تهراناعضای شرکتامیرحسین پارسا منشواحد مدیریت پروژهدر دیجی‌پی صعود به قله رو تجربه می‌کنی. یه جاهایی توی کار مسیر سخت و چالشی می‌شه ولی هم‌تیمی‌هات همیشه کنارت هستن و کمکت می‌کنن که دسته جمعی به صعود ادامه بدیم. قله نزدیکه\n",
      "\n"
     ]
    },
    {
     "name": "stderr",
     "output_type": "stream",
     "text": [
      "C:\\Users\\negin\\anaconda3\\Lib\\site-packages\\urllib3\\connectionpool.py:1099: InsecureRequestWarning: Unverified HTTPS request is being made to host 'jobinja.ir'. Adding certificate verification is strongly advised. See: https://urllib3.readthedocs.io/en/latest/advanced-usage.html#tls-warnings\n",
      "  warnings.warn(\n",
      "C:\\Users\\negin\\anaconda3\\Lib\\site-packages\\urllib3\\connectionpool.py:1099: InsecureRequestWarning: Unverified HTTPS request is being made to host 'jobinja.ir'. Adding certificate verification is strongly advised. See: https://urllib3.readthedocs.io/en/latest/advanced-usage.html#tls-warnings\n",
      "  warnings.warn(\n"
     ]
    },
    {
     "name": "stdout",
     "output_type": "stream",
     "text": [
      "URL: https://jobinja.ir/jobs?filters%5Blocations%5D%5B%5D=%DA%86%D9%87%D8%A7%D8%B1%D9%85%D8%AD%D8%A7%D9%84+%D8%A8%D8%AE%D8%AA%DB%8C%D8%A7%D8%B1%DB%8C\n",
      "Content Snippet: آگهی استخدام چهارمحال بختیاری | استخدام چهارمحال بختیاری | کاریابی چهارمحال بختیاری\n",
      " | جابینجاامکان جدید:همین حالا رزومه خود را در کمتر از ۱۰ دقیقه بسازید،برو به رزومه‌سازJobinja | جابینجا | استخدام، آگهی استخدام، کاریابی، استخدامی جدید، بازار کار، نیازمندیها، ساخت رزومه رایگان، کار و استخدام دولتی، اشتغال، جستجوگر حرفه ای استخدام و شغلخانهجستجوی مشاغلرزومه‌ساز۵۰ شرکت برتربخش کارفرمایانورود کارجوثبت‌نام کارجوورود کارجوثبت‌نام کارجو۱جابینجا چطور به استخدام شدن من کمک می‌کند؟مشاهدهمشاهده بیشترجستجودرخواست‌های مننشان‌شده‌هاآگهی‌های پیشنهادیاز آگهی‌های جدید باخبر شوبهترین فرصت های شغلی در جابینجاهمه‌ی استان‌هاچهارمحال بختیاریتهرانخراسان رضویاصفهانالبرزفارسقمآذربایجان شرقیمازندرانگیلانخوزستانکرمانیزدقزوینمرکزیهرمزگانگلستانزنجانآذربایجان غربیبوشهرسیستان و بلوچستانسمنانکرمانشاههمداناردبیللرستانکردستانخراسان شمالیخراسان جنوبیایلامکهکیلویه و بویراحمدهمه‌ی دسته‌بندی‌هافروش و بازاریابیوب،‌ برنامه‌نویسی و نرم‌افزارمالی و حسابداریمسئول دفتر، اجرائی و اداریتولید و مدیریت محتوادیجیتال مارکتینگپشتیبان\n",
      "\n"
     ]
    },
    {
     "name": "stderr",
     "output_type": "stream",
     "text": [
      "C:\\Users\\negin\\anaconda3\\Lib\\site-packages\\urllib3\\connectionpool.py:1099: InsecureRequestWarning: Unverified HTTPS request is being made to host 'jobinja.ir'. Adding certificate verification is strongly advised. See: https://urllib3.readthedocs.io/en/latest/advanced-usage.html#tls-warnings\n",
      "  warnings.warn(\n",
      "C:\\Users\\negin\\anaconda3\\Lib\\site-packages\\urllib3\\connectionpool.py:1099: InsecureRequestWarning: Unverified HTTPS request is being made to host 'jobinja.ir'. Adding certificate verification is strongly advised. See: https://urllib3.readthedocs.io/en/latest/advanced-usage.html#tls-warnings\n",
      "  warnings.warn(\n"
     ]
    },
    {
     "name": "stdout",
     "output_type": "stream",
     "text": [
      "URL: https://jobinja.ir/jobs?filters%5Blocations%5D%5B%5D=%D9%82%D8%B2%D9%88%DB%8C%D9%86\n",
      "Content Snippet: استخدامی قزوین | استخدام قزوین | آگهی استخدام قزوین\n",
      " | جابینجاامکان جدید:همین حالا رزومه خود را در کمتر از ۱۰ دقیقه بسازید،برو به رزومه‌سازJobinja | جابینجا | استخدام، آگهی استخدام، کاریابی، استخدامی جدید، بازار کار، نیازمندیها، ساخت رزومه رایگان، کار و استخدام دولتی، اشتغال، جستجوگر حرفه ای استخدام و شغلخانهجستجوی مشاغلرزومه‌ساز۵۰ شرکت برتربخش کارفرمایانورود کارجوثبت‌نام کارجوورود کارجوثبت‌نام کارجو۱جابینجا چطور به استخدام شدن من کمک می‌کند؟مشاهدهمشاهده بیشترجستجودرخواست‌های مننشان‌شده‌هاآگهی‌های پیشنهادیاز آگهی‌های جدید باخبر شوبهترین فرصت های شغلی در جابینجاهمه‌ی استان‌هاقزوینتهرانخراسان رضویاصفهانالبرزفارسقمآذربایجان شرقیمازندرانگیلانخوزستانکرمانیزدمرکزیهرمزگانگلستانزنجانآذربایجان غربیبوشهرسیستان و بلوچستانسمنانکرمانشاههمداناردبیللرستانکردستانخراسان شمالیخراسان جنوبیچهارمحال بختیاریایلامکهکیلویه و بویراحمدهمه‌ی دسته‌بندی‌هافروش و بازاریابیوب،‌ برنامه‌نویسی و نرم‌افزارمالی و حسابداریمسئول دفتر، اجرائی و اداریتولید و مدیریت محتوادیجیتال مارکتینگپشتیبانی و امور مشتریانطراحیIT / DevOps\n",
      "\n"
     ]
    },
    {
     "name": "stderr",
     "output_type": "stream",
     "text": [
      "C:\\Users\\negin\\anaconda3\\Lib\\site-packages\\urllib3\\connectionpool.py:1099: InsecureRequestWarning: Unverified HTTPS request is being made to host 'jobinja.ir'. Adding certificate verification is strongly advised. See: https://urllib3.readthedocs.io/en/latest/advanced-usage.html#tls-warnings\n",
      "  warnings.warn(\n",
      "C:\\Users\\negin\\anaconda3\\Lib\\site-packages\\urllib3\\connectionpool.py:1099: InsecureRequestWarning: Unverified HTTPS request is being made to host 'jobinja.ir'. Adding certificate verification is strongly advised. See: https://urllib3.readthedocs.io/en/latest/advanced-usage.html#tls-warnings\n",
      "  warnings.warn(\n"
     ]
    },
    {
     "name": "stdout",
     "output_type": "stream",
     "text": [
      "URL: https://jobinja.ir/jobs?filters%5Bjob_categories%5D%5B%5D=%D8%AE%D8%A8%D8%B1%E2%80%8C%D9%86%DA%AF%D8%A7%D8%B1%DB%8C\n",
      "Content Snippet: استخدام خبرنگار | استخدام روزنامه نگار | جذب خبرنگار\n",
      " | جابینجاامکان جدید:همین حالا رزومه خود را در کمتر از ۱۰ دقیقه بسازید،برو به رزومه‌سازJobinja | جابینجا | استخدام، آگهی استخدام، کاریابی، استخدامی جدید، بازار کار، نیازمندیها، ساخت رزومه رایگان، کار و استخدام دولتی، اشتغال، جستجوگر حرفه ای استخدام و شغلخانهجستجوی مشاغلرزومه‌ساز۵۰ شرکت برتربخش کارفرمایانورود کارجوثبت‌نام کارجوورود کارجوثبت‌نام کارجو۱جابینجا چطور به استخدام شدن من کمک می‌کند؟مشاهدهمشاهده بیشترجستجودرخواست‌های مننشان‌شده‌هاآگهی‌های پیشنهادیاز آگهی‌های جدید باخبر شوبهترین فرصت های شغلی در جابینجاهمه‌ی استان‌هاتهرانخراسان رضویاصفهانالبرزفارسقمآذربایجان شرقیمازندرانگیلانخوزستانکرمانیزدقزوینمرکزیهرمزگانگلستانزنجانآذربایجان غربیبوشهرسیستان و بلوچستانسمنانکرمانشاههمداناردبیللرستانکردستانخراسان شمالیخراسان جنوبیچهارمحال بختیاریایلامکهکیلویه و بویراحمدهمه‌ی دسته‌بندی‌هاخبر‌نگاریفروش و بازاریابیوب،‌ برنامه‌نویسی و نرم‌افزارمالی و حسابداریمسئول دفتر، اجرائی و اداریتولید و مدیریت محتوادیجیتال مارکتینگپشتیبانی و امور مشتریانطراحیI\n",
      "\n"
     ]
    },
    {
     "name": "stderr",
     "output_type": "stream",
     "text": [
      "C:\\Users\\negin\\anaconda3\\Lib\\site-packages\\urllib3\\connectionpool.py:1099: InsecureRequestWarning: Unverified HTTPS request is being made to host 'jobinja.ir'. Adding certificate verification is strongly advised. See: https://urllib3.readthedocs.io/en/latest/advanced-usage.html#tls-warnings\n",
      "  warnings.warn(\n"
     ]
    },
    {
     "name": "stdout",
     "output_type": "stream",
     "text": [
      "URL: https://jobinja.ir/companies/rajman-information-structures\n",
      "Content Snippet: استخدام در شرکت نقشه و مسیریاب نشان، آگهی های استخدام Neshan Map And Navigator | جابینجاامکان جدید:همین حالا رزومه خود را در کمتر از ۱۰ دقیقه بسازید،برو به رزومه‌سازJobinja | جابینجا | استخدام، آگهی استخدام، کاریابی، استخدامی جدید، بازار کار، نیازمندیها، ساخت رزومه رایگان، کار و استخدام دولتی، اشتغال، جستجوگر حرفه ای استخدام و شغلخانهجستجوی مشاغلرزومه‌ساز۵۰ شرکت برتربخش کارفرمایانورود کارجوثبت‌نام کارجوورود کارجوثبت‌نام کارجو۱جابینجا چطور به استخدام شدن من کمک می‌کند؟مشاهدهمشاهده بیشترنقشه و مسیریاب نشان|Neshan Map And Navigatorتاسیس در  ۱۳۸۴کامپیوتر، فناوری اطلاعات و اینترنت۵۱ تا ۲۰۰ نفرneshan.org/lifeدر یک نگاهمعرفیفرصت‌های شغلی۲در نشان همواره به‌دنبال چالش‌ها و نوآو‌ری‌های تازه هستیم و معتقدیم که توسعه محصولی عالی بدون تیمی فوق‌العاده امکان‌پذیر نیست.موقعیت مکانیخراسان رضوی، مشهداعضای شرکتداوود امینیراهبر مهندسی سرچمن در طول دوران کاریم، جاهای مختلفی بودم و از ابتدای تاسیس شرکت، با این تیم همکاری داشتم. کار کردن در راژمان یه تجربه‌ حرفه‌ای در اختیارت می‌ذاره. اینجا فضایی صمیمی و پوی\n",
      "\n"
     ]
    },
    {
     "name": "stderr",
     "output_type": "stream",
     "text": [
      "C:\\Users\\negin\\anaconda3\\Lib\\site-packages\\urllib3\\connectionpool.py:1099: InsecureRequestWarning: Unverified HTTPS request is being made to host 'jobinja.ir'. Adding certificate verification is strongly advised. See: https://urllib3.readthedocs.io/en/latest/advanced-usage.html#tls-warnings\n",
      "  warnings.warn(\n"
     ]
    },
    {
     "name": "stdout",
     "output_type": "stream",
     "text": [
      "URL: https://jobinja.ir/jobs?filters%5Bkeywords%5D%5B0%5D=django\n",
      "Content Snippet: فرصت های شغلی django\n",
      " | جابینجاامکان جدید:همین حالا رزومه خود را در کمتر از ۱۰ دقیقه بسازید،برو به رزومه‌سازJobinja | جابینجا | استخدام، آگهی استخدام، کاریابی، استخدامی جدید، بازار کار، نیازمندیها، ساخت رزومه رایگان، کار و استخدام دولتی، اشتغال، جستجوگر حرفه ای استخدام و شغلخانهجستجوی مشاغلرزومه‌ساز۵۰ شرکت برتربخش کارفرمایانورود کارجوثبت‌نام کارجوورود کارجوثبت‌نام کارجو۱جابینجا چطور به استخدام شدن من کمک می‌کند؟مشاهدهمشاهده بیشترجستجودرخواست‌های مننشان‌شده‌هاآگهی‌های پیشنهادیاز آگهی‌های جدید باخبر شوبهترین فرصت های شغلی در جابینجاهمه‌ی استان‌هاتهرانخراسان رضویاصفهانالبرزفارسقمآذربایجان شرقیمازندرانگیلانخوزستانکرمانیزدقزوینمرکزیهرمزگانگلستانزنجانآذربایجان غربیبوشهرسیستان و بلوچستانسمنانکرمانشاههمداناردبیللرستانکردستانخراسان شمالیخراسان جنوبیچهارمحال بختیاریایلامکهکیلویه و بویراحمدهمه‌ی دسته‌بندی‌هافروش و بازاریابیوب،‌ برنامه‌نویسی و نرم‌افزارمالی و حسابداریمسئول دفتر، اجرائی و اداریتولید و مدیریت محتوادیجیتال مارکتینگپشتیبانی و امور مشتریانطراحیIT / DevOps / Serverمهندسی صنایع و مدیریت \n",
      "\n"
     ]
    },
    {
     "name": "stderr",
     "output_type": "stream",
     "text": [
      "C:\\Users\\negin\\anaconda3\\Lib\\site-packages\\urllib3\\connectionpool.py:1099: InsecureRequestWarning: Unverified HTTPS request is being made to host 'jobinja.ir'. Adding certificate verification is strongly advised. See: https://urllib3.readthedocs.io/en/latest/advanced-usage.html#tls-warnings\n",
      "  warnings.warn(\n"
     ]
    },
    {
     "name": "stdout",
     "output_type": "stream",
     "text": [
      "URL: https://jobinja.ir/jobs?filters%5Bkeywords%5D%5B0%5D=%D8%AA%D8%AF%D9%88%DB%8C%D9%86%DA%AF%D8%B1\n",
      "Content Snippet: فرصت های شغلی تدوینگر\n",
      " | جابینجاامکان جدید:همین حالا رزومه خود را در کمتر از ۱۰ دقیقه بسازید،برو به رزومه‌سازJobinja | جابینجا | استخدام، آگهی استخدام، کاریابی، استخدامی جدید، بازار کار، نیازمندیها، ساخت رزومه رایگان، کار و استخدام دولتی، اشتغال، جستجوگر حرفه ای استخدام و شغلخانهجستجوی مشاغلرزومه‌ساز۵۰ شرکت برتربخش کارفرمایانورود کارجوثبت‌نام کارجوورود کارجوثبت‌نام کارجو۱جابینجا چطور به استخدام شدن من کمک می‌کند؟مشاهدهمشاهده بیشترجستجودرخواست‌های مننشان‌شده‌هاآگهی‌های پیشنهادیاز آگهی‌های جدید باخبر شوبهترین فرصت های شغلی در جابینجاهمه‌ی استان‌هاتهرانخراسان رضویاصفهانالبرزفارسقمآذربایجان شرقیمازندرانگیلانخوزستانکرمانیزدقزوینمرکزیهرمزگانگلستانزنجانآذربایجان غربیبوشهرسیستان و بلوچستانسمنانکرمانشاههمداناردبیللرستانکردستانخراسان شمالیخراسان جنوبیچهارمحال بختیاریایلامکهکیلویه و بویراحمدهمه‌ی دسته‌بندی‌هافروش و بازاریابیوب،‌ برنامه‌نویسی و نرم‌افزارمالی و حسابداریمسئول دفتر، اجرائی و اداریتولید و مدیریت محتوادیجیتال مارکتینگپشتیبانی و امور مشتریانطراحیIT / DevOps / Serverمهندسی صنایع و مدیریت\n",
      "\n"
     ]
    },
    {
     "name": "stderr",
     "output_type": "stream",
     "text": [
      "C:\\Users\\negin\\anaconda3\\Lib\\site-packages\\urllib3\\connectionpool.py:1099: InsecureRequestWarning: Unverified HTTPS request is being made to host 'jobinja.ir'. Adding certificate verification is strongly advised. See: https://urllib3.readthedocs.io/en/latest/advanced-usage.html#tls-warnings\n",
      "  warnings.warn(\n",
      "C:\\Users\\negin\\anaconda3\\Lib\\site-packages\\urllib3\\connectionpool.py:1099: InsecureRequestWarning: Unverified HTTPS request is being made to host 'jobinja.ir'. Adding certificate verification is strongly advised. See: https://urllib3.readthedocs.io/en/latest/advanced-usage.html#tls-warnings\n",
      "  warnings.warn(\n"
     ]
    },
    {
     "name": "stdout",
     "output_type": "stream",
     "text": [
      "URL: https://jobinja.ir/jobs?filters%5Bjob_categories%5D%5B%5D=%D8%AA%D8%AD%D9%82%DB%8C%D9%82+%D9%88+%D8%AA%D9%88%D8%B3%D8%B9%D9%87\n",
      "Content Snippet: استخدام کارشناس تحقیق و توسعه | استخدام کارشناس R&D\n",
      " | جابینجاامکان جدید:همین حالا رزومه خود را در کمتر از ۱۰ دقیقه بسازید،برو به رزومه‌سازJobinja | جابینجا | استخدام، آگهی استخدام، کاریابی، استخدامی جدید، بازار کار، نیازمندیها، ساخت رزومه رایگان، کار و استخدام دولتی، اشتغال، جستجوگر حرفه ای استخدام و شغلخانهجستجوی مشاغلرزومه‌ساز۵۰ شرکت برتربخش کارفرمایانورود کارجوثبت‌نام کارجوورود کارجوثبت‌نام کارجو۱جابینجا چطور به استخدام شدن من کمک می‌کند؟مشاهدهمشاهده بیشترجستجودرخواست‌های مننشان‌شده‌هاآگهی‌های پیشنهادیاز آگهی‌های جدید باخبر شوبهترین فرصت های شغلی در جابینجاهمه‌ی استان‌هاتهرانخراسان رضویاصفهانالبرزفارسقمآذربایجان شرقیمازندرانگیلانخوزستانکرمانیزدقزوینمرکزیهرمزگانگلستانزنجانآذربایجان غربیبوشهرسیستان و بلوچستانسمنانکرمانشاههمداناردبیللرستانکردستانخراسان شمالیخراسان جنوبیچهارمحال بختیاریایلامکهکیلویه و بویراحمدهمه‌ی دسته‌بندی‌هاتحقیق و توسعهفروش و بازاریابیوب،‌ برنامه‌نویسی و نرم‌افزارمالی و حسابداریمسئول دفتر، اجرائی و اداریتولید و مدیریت محتوادیجیتال مارکتینگپشتیبانی و امور مشتریانطرا\n",
      "\n"
     ]
    },
    {
     "name": "stderr",
     "output_type": "stream",
     "text": [
      "C:\\Users\\negin\\anaconda3\\Lib\\site-packages\\urllib3\\connectionpool.py:1099: InsecureRequestWarning: Unverified HTTPS request is being made to host 'blog.jobinja.ir'. Adding certificate verification is strongly advised. See: https://urllib3.readthedocs.io/en/latest/advanced-usage.html#tls-warnings\n",
      "  warnings.warn(\n"
     ]
    },
    {
     "name": "stdout",
     "output_type": "stream",
     "text": [
      "URL: https://blog.jobinja.ir/%d8%a8%d8%b1%d8%b1%d8%b3%db%8c-%d9%86%d9%82%d8%b4-%d9%85%d9%86%d8%a7%d8%a8%d8%b9-%d8%a7%d9%86%d8%b3%d8%a7%d9%86%db%8c-%d8%af%d8%b1-%d8%aa%d9%88%d8%b3%d8%b9%d9%87-%d8%b3%d8%a7%d8%b2%d9%85%d8%a7%d9%86/\n",
      "Content Snippet: بررسی نقش منابع انسانی در توسعه سازمان - وبلاگ جابینجااشتراک گذاریبا استفاده از روش‌های زیر می‌توانید این صفحه را با دوستان خود به اشتراک بگذارید.کپی لینککارجو ⏷رزومه نویسیمسیر شغلیمصاحبه کاریمهارت های فردیکارفرما ⏷منابع انسانیفضای کاریاخبار جابینجارزومه سازایجاد آگهی جدیدکارجو ⏷رزومه نویسیمسیر شغلیمصاحبه کاریمهارت های فردیکارفرما ⏷منابع انسانیفضای کاریاخبار جابینجارزومه سازایجاد آگهی جدیدParkingGasFoodCoffeeMiscمرا به خاطر بسپارنام کاربری :ایمیل :نام :نام خانوادگیآدرس وب سایت :تاریخ ثبت نام :نقش کاربر:کارفرمامنابع انسانیبررسی نقش منابع انسانی در توسعه سازمانبازدید 4تیم تولید محتواامروزاشتراک گذاریبا استفاده از روش‌های زیر می‌توانید این صفحه را با دوستان خود به اشتراک بگذارید.کپی لینکبدون دیدگاهکارفرمامنابع انسانیبررسی نقش منابع انسانی در توسعه سازماننقش منابع انسانی در توسعه سازمان بر کسی پوشیده نیست. سازمان‌هایی رشد می‌کنند و به موفقیت می‌رسند که سرمایه‌های انسانی مناسبی در اختیار داشته باشند. در مدیریت منابع انسانی (HRM) تلاش می‌شود با ایجاد خط‌مشی‌ها و رویه‌هایی، از پرسنل سازمانی ح\n",
      "\n"
     ]
    },
    {
     "name": "stderr",
     "output_type": "stream",
     "text": [
      "C:\\Users\\negin\\anaconda3\\Lib\\site-packages\\urllib3\\connectionpool.py:1099: InsecureRequestWarning: Unverified HTTPS request is being made to host 'jobinja.ir'. Adding certificate verification is strongly advised. See: https://urllib3.readthedocs.io/en/latest/advanced-usage.html#tls-warnings\n",
      "  warnings.warn(\n",
      "C:\\Users\\negin\\anaconda3\\Lib\\site-packages\\urllib3\\connectionpool.py:1099: InsecureRequestWarning: Unverified HTTPS request is being made to host 'jobinja.ir'. Adding certificate verification is strongly advised. See: https://urllib3.readthedocs.io/en/latest/advanced-usage.html#tls-warnings\n",
      "  warnings.warn(\n"
     ]
    },
    {
     "name": "stdout",
     "output_type": "stream",
     "text": [
      "URL: https://jobinja.ir/jobs?filters%5Bjob_categories%5D%5B%5D=%D8%A2%D9%85%D9%88%D8%B2%D8%B4\n",
      "Content Snippet: استخدام کارشناس آموزش | استخدام مشاور تحصیلی | استخدام مدرس زبان | استخدام معلم\n",
      " | جابینجاامکان جدید:همین حالا رزومه خود را در کمتر از ۱۰ دقیقه بسازید،برو به رزومه‌سازJobinja | جابینجا | استخدام، آگهی استخدام، کاریابی، استخدامی جدید، بازار کار، نیازمندیها، ساخت رزومه رایگان، کار و استخدام دولتی، اشتغال، جستجوگر حرفه ای استخدام و شغلخانهجستجوی مشاغلرزومه‌ساز۵۰ شرکت برتربخش کارفرمایانورود کارجوثبت‌نام کارجوورود کارجوثبت‌نام کارجو۱جابینجا چطور به استخدام شدن من کمک می‌کند؟مشاهدهمشاهده بیشترجستجودرخواست‌های مننشان‌شده‌هاآگهی‌های پیشنهادیاز آگهی‌های جدید باخبر شوبهترین فرصت های شغلی در جابینجاهمه‌ی استان‌هاتهرانخراسان رضویاصفهانالبرزفارسقمآذربایجان شرقیمازندرانگیلانخوزستانکرمانیزدقزوینمرکزیهرمزگانگلستانزنجانآذربایجان غربیبوشهرسیستان و بلوچستانسمنانکرمانشاههمداناردبیللرستانکردستانخراسان شمالیخراسان جنوبیچهارمحال بختیاریایلامکهکیلویه و بویراحمدهمه‌ی دسته‌بندی‌هاآموزشفروش و بازاریابیوب،‌ برنامه‌نویسی و نرم‌افزارمالی و حسابداریمسئول دفتر، اجرائی و اداریتولید و مدیریت محتوادیجیتال مارکتینگپشتیبا\n",
      "\n"
     ]
    },
    {
     "name": "stderr",
     "output_type": "stream",
     "text": [
      "C:\\Users\\negin\\anaconda3\\Lib\\site-packages\\urllib3\\connectionpool.py:1099: InsecureRequestWarning: Unverified HTTPS request is being made to host 'jobinja.ir'. Adding certificate verification is strongly advised. See: https://urllib3.readthedocs.io/en/latest/advanced-usage.html#tls-warnings\n",
      "  warnings.warn(\n",
      "C:\\Users\\negin\\anaconda3\\Lib\\site-packages\\urllib3\\connectionpool.py:1099: InsecureRequestWarning: Unverified HTTPS request is being made to host 'jobinja.ir'. Adding certificate verification is strongly advised. See: https://urllib3.readthedocs.io/en/latest/advanced-usage.html#tls-warnings\n",
      "  warnings.warn(\n"
     ]
    },
    {
     "name": "stdout",
     "output_type": "stream",
     "text": [
      "URL: https://jobinja.ir/jobs?filters%5Bjob_categories%5D%5B%5D=%D8%AD%D9%88%D8%B2%D9%87%E2%80%8C+%D9%85%D9%88%D8%B3%DB%8C%D9%82%DB%8C+%D9%88+%D8%B5%D8%AF%D8%A7\n",
      "Content Snippet: استخدام گوینده | استخدام دوبلور | استخدام آهنگساز و تنظیم کننده\n",
      " | جابینجاامکان جدید:همین حالا رزومه خود را در کمتر از ۱۰ دقیقه بسازید،برو به رزومه‌سازJobinja | جابینجا | استخدام، آگهی استخدام، کاریابی، استخدامی جدید، بازار کار، نیازمندیها، ساخت رزومه رایگان، کار و استخدام دولتی، اشتغال، جستجوگر حرفه ای استخدام و شغلخانهجستجوی مشاغلرزومه‌ساز۵۰ شرکت برتربخش کارفرمایانورود کارجوثبت‌نام کارجوورود کارجوثبت‌نام کارجو۱جابینجا چطور به استخدام شدن من کمک می‌کند؟مشاهدهمشاهده بیشترجستجودرخواست‌های مننشان‌شده‌هاآگهی‌های پیشنهادیاز آگهی‌های جدید باخبر شوبهترین فرصت های شغلی در جابینجاهمه‌ی استان‌هاتهرانخراسان رضویاصفهانالبرزفارسقمآذربایجان شرقیمازندرانگیلانخوزستانکرمانیزدقزوینمرکزیهرمزگانگلستانزنجانآذربایجان غربیبوشهرسیستان و بلوچستانسمنانکرمانشاههمداناردبیللرستانکردستانخراسان شمالیخراسان جنوبیچهارمحال بختیاریایلامکهکیلویه و بویراحمدهمه‌ی دسته‌بندی‌هاحوزه‌ موسیقی و صدافروش و بازاریابیوب،‌ برنامه‌نویسی و نرم‌افزارمالی و حسابداریمسئول دفتر، اجرائی و اداریتولید و مدیریت محتوادیجیتال مارکتینگپشتیبانی \n",
      "\n"
     ]
    },
    {
     "name": "stderr",
     "output_type": "stream",
     "text": [
      "C:\\Users\\negin\\anaconda3\\Lib\\site-packages\\urllib3\\connectionpool.py:1099: InsecureRequestWarning: Unverified HTTPS request is being made to host 'jobinja.ir'. Adding certificate verification is strongly advised. See: https://urllib3.readthedocs.io/en/latest/advanced-usage.html#tls-warnings\n",
      "  warnings.warn(\n"
     ]
    },
    {
     "name": "stdout",
     "output_type": "stream",
     "text": [
      "URL: https://jobinja.ir/jobs\n",
      "Content Snippet: فرصت های شغلی | موقعیت شغلی\n",
      " | جابینجاامکان جدید:همین حالا رزومه خود را در کمتر از ۱۰ دقیقه بسازید،برو به رزومه‌سازJobinja | جابینجا | استخدام، آگهی استخدام، کاریابی، استخدامی جدید، بازار کار، نیازمندیها، ساخت رزومه رایگان، کار و استخدام دولتی، اشتغال، جستجوگر حرفه ای استخدام و شغلخانهجستجوی مشاغلرزومه‌ساز۵۰ شرکت برتربخش کارفرمایانورود کارجوثبت‌نام کارجوورود کارجوثبت‌نام کارجو۱جابینجا چطور به استخدام شدن من کمک می‌کند؟مشاهدهمشاهده بیشترجستجودرخواست‌های مننشان‌شده‌هاآگهی‌های پیشنهادیاز آگهی‌های جدید باخبر شوبهترین فرصت های شغلی در جابینجاهمه‌ی استان‌هاتهرانخراسان رضویاصفهانالبرزفارسقمآذربایجان شرقیمازندرانگیلانخوزستانکرمانیزدقزوینمرکزیهرمزگانگلستانزنجانآذربایجان غربیبوشهرسیستان و بلوچستانسمنانکرمانشاههمداناردبیللرستانکردستانخراسان شمالیخراسان جنوبیچهارمحال بختیاریایلامکهکیلویه و بویراحمدهمه‌ی دسته‌بندی‌هافروش و بازاریابیوب،‌ برنامه‌نویسی و نرم‌افزارمالی و حسابداریمسئول دفتر، اجرائی و اداریتولید و مدیریت محتوادیجیتال مارکتینگپشتیبانی و امور مشتریانطراحیIT / DevOps / Serverمهندسی صنایع و \n",
      "\n"
     ]
    },
    {
     "name": "stderr",
     "output_type": "stream",
     "text": [
      "C:\\Users\\negin\\anaconda3\\Lib\\site-packages\\urllib3\\connectionpool.py:1099: InsecureRequestWarning: Unverified HTTPS request is being made to host 'jobinja.ir'. Adding certificate verification is strongly advised. See: https://urllib3.readthedocs.io/en/latest/advanced-usage.html#tls-warnings\n",
      "  warnings.warn(\n"
     ]
    },
    {
     "name": "stdout",
     "output_type": "stream",
     "text": [
      "URL: https://jobinja.ir/companies/rajman-information-structures/jobs\n",
      "Content Snippet: فرصت‌های شغلی فعال در نقشه و مسیریاب نشان | Neshan Map And Navigator | جابینجاامکان جدید:همین حالا رزومه خود را در کمتر از ۱۰ دقیقه بسازید،برو به رزومه‌سازJobinja | جابینجا | استخدام، آگهی استخدام، کاریابی، استخدامی جدید، بازار کار، نیازمندیها، ساخت رزومه رایگان، کار و استخدام دولتی، اشتغال، جستجوگر حرفه ای استخدام و شغلخانهجستجوی مشاغلرزومه‌ساز۵۰ شرکت برتربخش کارفرمایانورود کارجوثبت‌نام کارجوورود کارجوثبت‌نام کارجو۱جابینجا چطور به استخدام شدن من کمک می‌کند؟مشاهدهمشاهده بیشترنقشه و مسیریاب نشان|Neshan Map And Navigatorتاسیس در  ۱۳۸۴کامپیوتر، فناوری اطلاعات و اینترنت۵۱ تا ۲۰۰ نفرneshan.org/lifeدر یک نگاهمعرفیفرصت‌های شغلی۲معرفی نقشه و مسیریاب نشان«نقشه و مسیریاب نشان»، در پیدا کردن مکان‌ها به شما کمک می‌کنه و بهترین مسیر رسیدن به مقصد رو بهتون نشون می‌ده. شما در طول مسیر می‌تونین از همراهی سخن‌گوهای نشان که به زبان‌های فارسی، ترکی آذری، کردی یا عربی شما رو راهنمایی می‌کنن، استفاده کنین. همچنین می‌تونین از رادیو نشان موسیقی رو که دوست دارین، گوش کنین و از ترافیک لحظه‌ای، مکان دوربین‌های \n",
      "\n"
     ]
    },
    {
     "name": "stderr",
     "output_type": "stream",
     "text": [
      "C:\\Users\\negin\\anaconda3\\Lib\\site-packages\\urllib3\\connectionpool.py:1099: InsecureRequestWarning: Unverified HTTPS request is being made to host 'jobinja.ir'. Adding certificate verification is strongly advised. See: https://urllib3.readthedocs.io/en/latest/advanced-usage.html#tls-warnings\n",
      "  warnings.warn(\n"
     ]
    },
    {
     "name": "stdout",
     "output_type": "stream",
     "text": [
      "URL: https://jobinja.ir/companies/abrnoc\n",
      "Content Snippet: استخدام در شرکت ابرناک، آگهی های استخدام abrNOC | جابینجاامکان جدید:همین حالا رزومه خود را در کمتر از ۱۰ دقیقه بسازید،برو به رزومه‌سازJobinja | جابینجا | استخدام، آگهی استخدام، کاریابی، استخدامی جدید، بازار کار، نیازمندیها، ساخت رزومه رایگان، کار و استخدام دولتی، اشتغال، جستجوگر حرفه ای استخدام و شغلخانهجستجوی مشاغلرزومه‌ساز۵۰ شرکت برتربخش کارفرمایانورود کارجوثبت‌نام کارجوورود کارجوثبت‌نام کارجو۱جابینجا چطور به استخدام شدن من کمک می‌کند؟مشاهدهمشاهده بیشترابرناک|abrNOCتاسیس در  ۱۳۹۹کامپیوتر، فناوری اطلاعات و اینترنت۱۱ تا ۵۰ نفرabrnoc.comدر یک نگاهمعرفیفرصت‌های شغلی۱۷ابرناک به‌عنوان شرکتی مستقل با تجربه حضور در فضای بین‌الملل در بهار ۱۳۹۹ با هدف نوآوری و توسعه نرم افزارهای مبتنی بر ابر فعالیتش را در ایران آغاز کرد.موقعیت مکانیتهران، تهراناعضای شرکتحنان نوذریمدیرعاملچرا محدود به جایی کوچک، وقتی می‌توانیم با هم در بازار جهانی نوآوری کنیم؟پوریا کامیارفردکارشناس پشتیبانی فنیوقتی وارد ابرناک میشی اولین چیزی که به چشم میاد، ارزش تیم بودن و داشتن حمایت برای رسیدن به اهداف و پیشرفت مشترک هست.شیو\n",
      "\n"
     ]
    },
    {
     "name": "stderr",
     "output_type": "stream",
     "text": [
      "C:\\Users\\negin\\anaconda3\\Lib\\site-packages\\urllib3\\connectionpool.py:1099: InsecureRequestWarning: Unverified HTTPS request is being made to host 'jobinja.ir'. Adding certificate verification is strongly advised. See: https://urllib3.readthedocs.io/en/latest/advanced-usage.html#tls-warnings\n",
      "  warnings.warn(\n",
      "C:\\Users\\negin\\anaconda3\\Lib\\site-packages\\urllib3\\connectionpool.py:1099: InsecureRequestWarning: Unverified HTTPS request is being made to host 'jobinja.ir'. Adding certificate verification is strongly advised. See: https://urllib3.readthedocs.io/en/latest/advanced-usage.html#tls-warnings\n",
      "  warnings.warn(\n"
     ]
    },
    {
     "name": "stdout",
     "output_type": "stream",
     "text": [
      "URL: https://jobinja.ir/jobs?filters%5Blocations%5D%5B%5D=%D8%A2%D8%B0%D8%B1%D8%A8%D8%A7%DB%8C%D8%AC%D8%A7%D9%86+%D8%B4%D8%B1%D9%82%DB%8C\n",
      "Content Snippet: آگهی استخدام آذربایجان شرقی | استخدام آذربایجان شرقی | کاریابی آذربایجان شرقی\n",
      " | جابینجاامکان جدید:همین حالا رزومه خود را در کمتر از ۱۰ دقیقه بسازید،برو به رزومه‌سازJobinja | جابینجا | استخدام، آگهی استخدام، کاریابی، استخدامی جدید، بازار کار، نیازمندیها، ساخت رزومه رایگان، کار و استخدام دولتی، اشتغال، جستجوگر حرفه ای استخدام و شغلخانهجستجوی مشاغلرزومه‌ساز۵۰ شرکت برتربخش کارفرمایانورود کارجوثبت‌نام کارجوورود کارجوثبت‌نام کارجو۱جابینجا چطور به استخدام شدن من کمک می‌کند؟مشاهدهمشاهده بیشترجستجودرخواست‌های مننشان‌شده‌هاآگهی‌های پیشنهادیاز آگهی‌های جدید باخبر شوبهترین فرصت های شغلی در جابینجاهمه‌ی استان‌هاآذربایجان شرقیتهرانخراسان رضویاصفهانالبرزفارسقممازندرانگیلانخوزستانکرمانیزدقزوینمرکزیهرمزگانگلستانزنجانآذربایجان غربیبوشهرسیستان و بلوچستانسمنانکرمانشاههمداناردبیللرستانکردستانخراسان شمالیخراسان جنوبیچهارمحال بختیاریایلامکهکیلویه و بویراحمدهمه‌ی دسته‌بندی‌هافروش و بازاریابیوب،‌ برنامه‌نویسی و نرم‌افزارمالی و حسابداریمسئول دفتر، اجرائی و اداریتولید و مدیریت محتوادیجیتال مارکتینگپشتیبانی و ام\n",
      "\n"
     ]
    },
    {
     "name": "stderr",
     "output_type": "stream",
     "text": [
      "C:\\Users\\negin\\anaconda3\\Lib\\site-packages\\urllib3\\connectionpool.py:1099: InsecureRequestWarning: Unverified HTTPS request is being made to host 'jobinja.ir'. Adding certificate verification is strongly advised. See: https://urllib3.readthedocs.io/en/latest/advanced-usage.html#tls-warnings\n",
      "  warnings.warn(\n",
      "C:\\Users\\negin\\anaconda3\\Lib\\site-packages\\urllib3\\connectionpool.py:1099: InsecureRequestWarning: Unverified HTTPS request is being made to host 'jobinja.ir'. Adding certificate verification is strongly advised. See: https://urllib3.readthedocs.io/en/latest/advanced-usage.html#tls-warnings\n",
      "  warnings.warn(\n"
     ]
    },
    {
     "name": "stdout",
     "output_type": "stream",
     "text": [
      "URL: https://jobinja.ir/jobs?filters%5Blocations%5D%5B%5D=%D8%A7%D9%84%D8%A8%D8%B1%D8%B2\n",
      "Content Snippet: استخدام کرج | کاریابی کرج | استخدامی البرز\n",
      " | جابینجاامکان جدید:همین حالا رزومه خود را در کمتر از ۱۰ دقیقه بسازید،برو به رزومه‌سازJobinja | جابینجا | استخدام، آگهی استخدام، کاریابی، استخدامی جدید، بازار کار، نیازمندیها، ساخت رزومه رایگان، کار و استخدام دولتی، اشتغال، جستجوگر حرفه ای استخدام و شغلخانهجستجوی مشاغلرزومه‌ساز۵۰ شرکت برتربخش کارفرمایانورود کارجوثبت‌نام کارجوورود کارجوثبت‌نام کارجو۱جابینجا چطور به استخدام شدن من کمک می‌کند؟مشاهدهمشاهده بیشترجستجودرخواست‌های مننشان‌شده‌هاآگهی‌های پیشنهادیاز آگهی‌های جدید باخبر شوبهترین فرصت های شغلی در جابینجاهمه‌ی استان‌هاالبرزتهرانخراسان رضویاصفهانفارسقمآذربایجان شرقیمازندرانگیلانخوزستانکرمانیزدقزوینمرکزیهرمزگانگلستانزنجانآذربایجان غربیبوشهرسیستان و بلوچستانسمنانکرمانشاههمداناردبیللرستانکردستانخراسان شمالیخراسان جنوبیچهارمحال بختیاریایلامکهکیلویه و بویراحمدهمه‌ی دسته‌بندی‌هافروش و بازاریابیوب،‌ برنامه‌نویسی و نرم‌افزارمالی و حسابداریمسئول دفتر، اجرائی و اداریتولید و مدیریت محتوادیجیتال مارکتینگپشتیبانی و امور مشتریانطراحیIT / DevOps / Server\n",
      "\n"
     ]
    },
    {
     "name": "stderr",
     "output_type": "stream",
     "text": [
      "C:\\Users\\negin\\anaconda3\\Lib\\site-packages\\urllib3\\connectionpool.py:1099: InsecureRequestWarning: Unverified HTTPS request is being made to host 'jobinja.ir'. Adding certificate verification is strongly advised. See: https://urllib3.readthedocs.io/en/latest/advanced-usage.html#tls-warnings\n",
      "  warnings.warn(\n"
     ]
    },
    {
     "name": "stdout",
     "output_type": "stream",
     "text": [
      "URL: https://jobinja.ir/companies/celebon-1/jobs/A7b3/%D8%A7%D8%B3%D8%AA%D8%AE%D8%AF%D8%A7%D9%85-%D9%85%D8%B3%D8%A6%D9%88%D9%84-%DA%86%DB%8C%D8%AF%D9%85%D8%A7%D9%86-%D9%81%D8%B1%D9%88%D8%B4%DA%AF%D8%A7%D9%87%DB%8C-%D8%AE%D8%A7%D9%86%D9%85-%D8%AF%D8%B1-%D8%B3%D9%84%D9%87-%D8%A8%D9%86?_ref=18\n",
      "Content Snippet: استخدام مسئول چیدمان فروشگاهی(خانم) در سله بن | جابینجاامکان جدید:همین حالا رزومه خود را در کمتر از ۱۰ دقیقه بسازید،برو به رزومه‌سازJobinja | جابینجا | استخدام، آگهی استخدام، کاریابی، استخدامی جدید، بازار کار، نیازمندیها، ساخت رزومه رایگان، کار و استخدام دولتی، اشتغال، جستجوگر حرفه ای استخدام و شغلخانهجستجوی مشاغلرزومه‌ساز۵۰ شرکت برتربخش کارفرمایانورود کارجوثبت‌نام کارجوورود کارجوثبت‌نام کارجو۱جابینجا چطور به استخدام شدن من کمک می‌کند؟مشاهدهمشاهده بیشترسله بن|Celebonخرده‌فروشی، عمده‌فروشی و فروشگاه‌های زنجیره‌ای۲۰۱ تا ۵۰۰ نفرcelebon.irفرصت‌های شغلی۴استخدام مسئول چیدمان فروشگاهی(خانم)لطفا برای مشاهده‌ی جزییات و ارسال رزومهیکی از راه‌های زیر را انتخاب کنیدورود / ثبت‌نام با ایمیلimage/svg+xmlbtn_google_light_normal_iosbtn_google_light_normal_iosCreated with Sketch.ورود / ثبت‌نام با گوگل\n",
      "                    (Gmail)ورود / ثبت‌نام با لینکدیناستخدام مسئول چیدمان فروشگاهی(خانم){{ tooltipText }}{{ hoverTitle }}نشان کردنحذف نشاندسته‌بندی شغلیفروش و بازاریابیموقعیت مکانیتهران\n",
      "                    \n",
      "\n"
     ]
    },
    {
     "name": "stderr",
     "output_type": "stream",
     "text": [
      "C:\\Users\\negin\\anaconda3\\Lib\\site-packages\\urllib3\\connectionpool.py:1099: InsecureRequestWarning: Unverified HTTPS request is being made to host 'jobinja.ir'. Adding certificate verification is strongly advised. See: https://urllib3.readthedocs.io/en/latest/advanced-usage.html#tls-warnings\n",
      "  warnings.warn(\n",
      "C:\\Users\\negin\\anaconda3\\Lib\\site-packages\\urllib3\\connectionpool.py:1099: InsecureRequestWarning: Unverified HTTPS request is being made to host 'jobinja.ir'. Adding certificate verification is strongly advised. See: https://urllib3.readthedocs.io/en/latest/advanced-usage.html#tls-warnings\n",
      "  warnings.warn(\n"
     ]
    },
    {
     "name": "stdout",
     "output_type": "stream",
     "text": [
      "URL: https://jobinja.ir/jobs?filters%5Bjob_categories%5D%5B%5D=%D9%85%D9%87%D9%86%D8%AF%D8%B3%DB%8C+%D9%BE%D9%84%DB%8C%D9%85%D8%B1\n",
      "Content Snippet: استخدام کارشناس پلیمر | استخدام مهندس پلیمر | جابینجا\n",
      " | جابینجاامکان جدید:همین حالا رزومه خود را در کمتر از ۱۰ دقیقه بسازید،برو به رزومه‌سازJobinja | جابینجا | استخدام، آگهی استخدام، کاریابی، استخدامی جدید، بازار کار، نیازمندیها، ساخت رزومه رایگان، کار و استخدام دولتی، اشتغال، جستجوگر حرفه ای استخدام و شغلخانهجستجوی مشاغلرزومه‌ساز۵۰ شرکت برتربخش کارفرمایانورود کارجوثبت‌نام کارجوورود کارجوثبت‌نام کارجو۱جابینجا چطور به استخدام شدن من کمک می‌کند؟مشاهدهمشاهده بیشترجستجودرخواست‌های مننشان‌شده‌هاآگهی‌های پیشنهادیاز آگهی‌های جدید باخبر شوبهترین فرصت های شغلی در جابینجاهمه‌ی استان‌هاتهرانخراسان رضویاصفهانالبرزفارسقمآذربایجان شرقیمازندرانگیلانخوزستانکرمانیزدقزوینمرکزیهرمزگانگلستانزنجانآذربایجان غربیبوشهرسیستان و بلوچستانسمنانکرمانشاههمداناردبیللرستانکردستانخراسان شمالیخراسان جنوبیچهارمحال بختیاریایلامکهکیلویه و بویراحمدهمه‌ی دسته‌بندی‌هامهندسی پلیمرفروش و بازاریابیوب،‌ برنامه‌نویسی و نرم‌افزارمالی و حسابداریمسئول دفتر، اجرائی و اداریتولید و مدیریت محتوادیجیتال مارکتینگپشتیبانی و امور مشتریانطر\n",
      "\n"
     ]
    },
    {
     "name": "stderr",
     "output_type": "stream",
     "text": [
      "C:\\Users\\negin\\anaconda3\\Lib\\site-packages\\urllib3\\connectionpool.py:1099: InsecureRequestWarning: Unverified HTTPS request is being made to host 'jobinja.ir'. Adding certificate verification is strongly advised. See: https://urllib3.readthedocs.io/en/latest/advanced-usage.html#tls-warnings\n",
      "  warnings.warn(\n"
     ]
    },
    {
     "name": "stdout",
     "output_type": "stream",
     "text": [
      "URL: https://jobinja.ir/companies/BimeBazar/jobs\n",
      "Content Snippet: فرصت‌های شغلی فعال در بیمه بازار | Bime Bazar | جابینجاامکان جدید:همین حالا رزومه خود را در کمتر از ۱۰ دقیقه بسازید،برو به رزومه‌سازJobinja | جابینجا | استخدام، آگهی استخدام، کاریابی، استخدامی جدید، بازار کار، نیازمندیها، ساخت رزومه رایگان، کار و استخدام دولتی، اشتغال، جستجوگر حرفه ای استخدام و شغلخانهجستجوی مشاغلرزومه‌ساز۵۰ شرکت برتربخش کارفرمایانورود کارجوثبت‌نام کارجوورود کارجوثبت‌نام کارجو۱جابینجا چطور به استخدام شدن من کمک می‌کند؟مشاهدهمشاهده بیشتربیمه بازار|Bime Bazarتاسیس در  ۱۳۹۵کامپیوتر، فناوری اطلاعات و اینترنت۵۱ تا ۲۰۰ نفرbimebazar.comدر یک نگاهمعرفیفرصت‌های شغلی۳۱معرفی بیمه بازاربیمه بازار سامانه مشاوره، مقایسه و خرید آنلاین بیمه است. در وب‌سایت بیمه بازار می‌توانید قیمت انواع بیمه را از تمامی شرکت‌ها استعلام بگیرید، شرایط و پوششها را با هم مقایسه کنید و بیمه مورد نظر خود را آنلاین سفارش دهید. بیمه‌نامه شما در کوتاه‌ترین زمان صادر شده و به آدرس دلخواه شما ارسال می‌شود.فرصت‌های شغلی فعال در بیمه بازار|Bime Bazarمدیر عملیات کسب و کار(۲ روز پیش)بیمه بازار | Bime Bazarتهران، ته\n",
      "\n"
     ]
    },
    {
     "name": "stderr",
     "output_type": "stream",
     "text": [
      "C:\\Users\\negin\\anaconda3\\Lib\\site-packages\\urllib3\\connectionpool.py:1099: InsecureRequestWarning: Unverified HTTPS request is being made to host 'jobinja.ir'. Adding certificate verification is strongly advised. See: https://urllib3.readthedocs.io/en/latest/advanced-usage.html#tls-warnings\n",
      "  warnings.warn(\n"
     ]
    },
    {
     "name": "stdout",
     "output_type": "stream",
     "text": [
      "URL: https://jobinja.ir/jobs?filters%5Bkeywords%5D%5B0%5D=%D8%A7%D8%AF%D9%85%DB%8C%D9%86\n",
      "Content Snippet: فرصت های شغلی ادمین\n",
      " | جابینجاامکان جدید:همین حالا رزومه خود را در کمتر از ۱۰ دقیقه بسازید،برو به رزومه‌سازJobinja | جابینجا | استخدام، آگهی استخدام، کاریابی، استخدامی جدید، بازار کار، نیازمندیها، ساخت رزومه رایگان، کار و استخدام دولتی، اشتغال، جستجوگر حرفه ای استخدام و شغلخانهجستجوی مشاغلرزومه‌ساز۵۰ شرکت برتربخش کارفرمایانورود کارجوثبت‌نام کارجوورود کارجوثبت‌نام کارجو۱جابینجا چطور به استخدام شدن من کمک می‌کند؟مشاهدهمشاهده بیشترجستجودرخواست‌های مننشان‌شده‌هاآگهی‌های پیشنهادیاز آگهی‌های جدید باخبر شوبهترین فرصت های شغلی در جابینجاهمه‌ی استان‌هاتهرانخراسان رضویاصفهانالبرزفارسقمآذربایجان شرقیمازندرانگیلانخوزستانکرمانیزدقزوینمرکزیهرمزگانگلستانزنجانآذربایجان غربیبوشهرسیستان و بلوچستانسمنانکرمانشاههمداناردبیللرستانکردستانخراسان شمالیخراسان جنوبیچهارمحال بختیاریایلامکهکیلویه و بویراحمدهمه‌ی دسته‌بندی‌هافروش و بازاریابیوب،‌ برنامه‌نویسی و نرم‌افزارمالی و حسابداریمسئول دفتر، اجرائی و اداریتولید و مدیریت محتوادیجیتال مارکتینگپشتیبانی و امور مشتریانطراحیIT / DevOps / Serverمهندسی صنایع و مدیریت ص\n",
      "\n"
     ]
    },
    {
     "name": "stderr",
     "output_type": "stream",
     "text": [
      "C:\\Users\\negin\\anaconda3\\Lib\\site-packages\\urllib3\\connectionpool.py:1099: InsecureRequestWarning: Unverified HTTPS request is being made to host 'jobinja.ir'. Adding certificate verification is strongly advised. See: https://urllib3.readthedocs.io/en/latest/advanced-usage.html#tls-warnings\n",
      "  warnings.warn(\n"
     ]
    },
    {
     "name": "stdout",
     "output_type": "stream",
     "text": [
      "URL: https://jobinja.ir/companies/charsoq\n",
      "Content Snippet: استخدام در شرکت چارسوق، آگهی های استخدام Charsoq | جابینجاامکان جدید:همین حالا رزومه خود را در کمتر از ۱۰ دقیقه بسازید،برو به رزومه‌سازJobinja | جابینجا | استخدام، آگهی استخدام، کاریابی، استخدامی جدید، بازار کار، نیازمندیها، ساخت رزومه رایگان، کار و استخدام دولتی، اشتغال، جستجوگر حرفه ای استخدام و شغلخانهجستجوی مشاغلرزومه‌ساز۵۰ شرکت برتربخش کارفرمایانورود کارجوثبت‌نام کارجوورود کارجوثبت‌نام کارجو۱جابینجا چطور به استخدام شدن من کمک می‌کند؟مشاهدهمشاهده بیشترچارسوق|Charsoqتاسیس در  ۱۳۸۷کامپیوتر، فناوری اطلاعات و اینترنت۱۱ تا ۵۰ نفرCharsoq.comدر یک نگاهمعرفیفرصت‌های شغلی۱۰شرکت چارسوق را با محصول نرم افزاری به نام ماریس می شناسند.موقعیت مکانیتهران، تهراناعضای شرکتسید محمد صادق دیباجیبنیان گذار و رئیس هیات مدیرهتحقق گام به گام رویاهای سال 1385عماد کوشامدیر عاملتجربه هم صحبتی با مدیران ارشد بازاریابی و فروش شرکت های موفق در صنعت دارو و برآورده کردن دغدغه آن ها برای رشد اکو سیستم بازاریابی در صنعت سلامت، مهمترین انگیزه است که هر روز با آن به شرکت می آیم.چارسوق محیطی را فراهم کرده که کارکنان در\n",
      "\n"
     ]
    },
    {
     "name": "stderr",
     "output_type": "stream",
     "text": [
      "C:\\Users\\negin\\anaconda3\\Lib\\site-packages\\urllib3\\connectionpool.py:1099: InsecureRequestWarning: Unverified HTTPS request is being made to host 'jobinja.ir'. Adding certificate verification is strongly advised. See: https://urllib3.readthedocs.io/en/latest/advanced-usage.html#tls-warnings\n",
      "  warnings.warn(\n"
     ]
    },
    {
     "name": "stdout",
     "output_type": "stream",
     "text": [
      "URL: https://jobinja.ir/jobs?filters%5Bkeywords%5D%5B0%5D=%D9%85%D8%B4%D8%A7%D9%88%D8%B1+%D8%AA%D8%AD%D8%B5%DB%8C%D9%84%DB%8C\n",
      "Content Snippet: فرصت های شغلی مشاور تحصیلی\n",
      " | جابینجاامکان جدید:همین حالا رزومه خود را در کمتر از ۱۰ دقیقه بسازید،برو به رزومه‌سازJobinja | جابینجا | استخدام، آگهی استخدام، کاریابی، استخدامی جدید، بازار کار، نیازمندیها، ساخت رزومه رایگان، کار و استخدام دولتی، اشتغال، جستجوگر حرفه ای استخدام و شغلخانهجستجوی مشاغلرزومه‌ساز۵۰ شرکت برتربخش کارفرمایانورود کارجوثبت‌نام کارجوورود کارجوثبت‌نام کارجو۱جابینجا چطور به استخدام شدن من کمک می‌کند؟مشاهدهمشاهده بیشترجستجودرخواست‌های مننشان‌شده‌هاآگهی‌های پیشنهادیاز آگهی‌های جدید باخبر شوبهترین فرصت های شغلی در جابینجاهمه‌ی استان‌هاتهرانخراسان رضویاصفهانالبرزفارسقمآذربایجان شرقیمازندرانگیلانخوزستانکرمانیزدقزوینمرکزیهرمزگانگلستانزنجانآذربایجان غربیبوشهرسیستان و بلوچستانسمنانکرمانشاههمداناردبیللرستانکردستانخراسان شمالیخراسان جنوبیچهارمحال بختیاریایلامکهکیلویه و بویراحمدهمه‌ی دسته‌بندی‌هافروش و بازاریابیوب،‌ برنامه‌نویسی و نرم‌افزارمالی و حسابداریمسئول دفتر، اجرائی و اداریتولید و مدیریت محتوادیجیتال مارکتینگپشتیبانی و امور مشتریانطراحیIT / DevOps / Serverمهندسی صنایع و م\n",
      "\n"
     ]
    },
    {
     "name": "stderr",
     "output_type": "stream",
     "text": [
      "C:\\Users\\negin\\anaconda3\\Lib\\site-packages\\urllib3\\connectionpool.py:1099: InsecureRequestWarning: Unverified HTTPS request is being made to host 'jobinja.ir'. Adding certificate verification is strongly advised. See: https://urllib3.readthedocs.io/en/latest/advanced-usage.html#tls-warnings\n",
      "  warnings.warn(\n"
     ]
    },
    {
     "name": "stdout",
     "output_type": "stream",
     "text": [
      "URL: https://jobinja.ir/join/user\n",
      "Content Snippet: ثبت نام کارجو | جابینجاثبت نام کارجو | جابینجاJobinjaکارفرما هستید؟ایجاد حساب کاربریورود کارجوثبت‌‌نام کارجوimage/svg+xmlbtn_google_light_normal_iosbtn_google_light_normal_iosCreated with Sketch.ثبت نام با گوگلثبت نام با لینکدینآدرس ایمیلنام و نام‌ خانوادگیانتخاب رمز عبورتکرار رمز عبورجابینجا چه کمکی به من می‌کنه؟رایگانهمین حالا در جابینجا ثبت‌نام کن و رزومه‌ات رو برای آگهی‌های استخدام شرکت‌های معتبر بفرست.جستجوی در آگهی‌های استخدام ۱۱,۰۰۰ شرکت معتبر و ارسال رزومه با یک کلیکدریافت فرصت‌های شغلیجدیدمرتبط از طریق ایمیل\n",
      "                (Job Alert)رزومه‌ساز استانداردشناخت محیط کار و فرهنگ سازمانی شرکت‌های در حال استخدام\n",
      "\n"
     ]
    },
    {
     "name": "stderr",
     "output_type": "stream",
     "text": [
      "C:\\Users\\negin\\anaconda3\\Lib\\site-packages\\urllib3\\connectionpool.py:1099: InsecureRequestWarning: Unverified HTTPS request is being made to host 'jobinja.ir'. Adding certificate verification is strongly advised. See: https://urllib3.readthedocs.io/en/latest/advanced-usage.html#tls-warnings\n",
      "  warnings.warn(\n"
     ]
    },
    {
     "name": "stdout",
     "output_type": "stream",
     "text": [
      "URL: https://jobinja.ir/jobs?filters%5Bkeywords%5D%5B0%5D=%DA%A9%D8%A7%D8%B1%D8%B4%D9%86%D8%A7%D8%B3+%D9%81%D8%B1%D9%88%D8%B4\n",
      "Content Snippet: فرصت های شغلی کارشناس فروش\n",
      " | جابینجاامکان جدید:همین حالا رزومه خود را در کمتر از ۱۰ دقیقه بسازید،برو به رزومه‌سازJobinja | جابینجا | استخدام، آگهی استخدام، کاریابی، استخدامی جدید، بازار کار، نیازمندیها، ساخت رزومه رایگان، کار و استخدام دولتی، اشتغال، جستجوگر حرفه ای استخدام و شغلخانهجستجوی مشاغلرزومه‌ساز۵۰ شرکت برتربخش کارفرمایانورود کارجوثبت‌نام کارجوورود کارجوثبت‌نام کارجو۱جابینجا چطور به استخدام شدن من کمک می‌کند؟مشاهدهمشاهده بیشترجستجودرخواست‌های مننشان‌شده‌هاآگهی‌های پیشنهادیاز آگهی‌های جدید باخبر شوبهترین فرصت های شغلی در جابینجاهمه‌ی استان‌هاتهرانخراسان رضویاصفهانالبرزفارسقمآذربایجان شرقیمازندرانگیلانخوزستانکرمانیزدقزوینمرکزیهرمزگانگلستانزنجانآذربایجان غربیبوشهرسیستان و بلوچستانسمنانکرمانشاههمداناردبیللرستانکردستانخراسان شمالیخراسان جنوبیچهارمحال بختیاریایلامکهکیلویه و بویراحمدهمه‌ی دسته‌بندی‌هافروش و بازاریابیوب،‌ برنامه‌نویسی و نرم‌افزارمالی و حسابداریمسئول دفتر، اجرائی و اداریتولید و مدیریت محتوادیجیتال مارکتینگپشتیبانی و امور مشتریانطراحیIT / DevOps / Serverمهندسی صنایع و م\n",
      "\n"
     ]
    },
    {
     "name": "stderr",
     "output_type": "stream",
     "text": [
      "C:\\Users\\negin\\anaconda3\\Lib\\site-packages\\urllib3\\connectionpool.py:1099: InsecureRequestWarning: Unverified HTTPS request is being made to host 'jobinja.ir'. Adding certificate verification is strongly advised. See: https://urllib3.readthedocs.io/en/latest/advanced-usage.html#tls-warnings\n",
      "  warnings.warn(\n"
     ]
    },
    {
     "name": "stdout",
     "output_type": "stream",
     "text": [
      "URL: https://jobinja.ir/jobs?filters%5Bkeywords%5D%5B0%5D=%D8%A7%D8%AF%D9%85%DB%8C%D9%86+%D8%A7%DB%8C%D9%86%D8%B3%D8%AA%D8%A7%DA%AF%D8%B1%D8%A7%D9%85\n",
      "Content Snippet: فرصت های شغلی ادمین اینستاگرام\n",
      " | جابینجاامکان جدید:همین حالا رزومه خود را در کمتر از ۱۰ دقیقه بسازید،برو به رزومه‌سازJobinja | جابینجا | استخدام، آگهی استخدام، کاریابی، استخدامی جدید، بازار کار، نیازمندیها، ساخت رزومه رایگان، کار و استخدام دولتی، اشتغال، جستجوگر حرفه ای استخدام و شغلخانهجستجوی مشاغلرزومه‌ساز۵۰ شرکت برتربخش کارفرمایانورود کارجوثبت‌نام کارجوورود کارجوثبت‌نام کارجو۱جابینجا چطور به استخدام شدن من کمک می‌کند؟مشاهدهمشاهده بیشترجستجودرخواست‌های مننشان‌شده‌هاآگهی‌های پیشنهادیاز آگهی‌های جدید باخبر شوبهترین فرصت های شغلی در جابینجاهمه‌ی استان‌هاتهرانخراسان رضویاصفهانالبرزفارسقمآذربایجان شرقیمازندرانگیلانخوزستانکرمانیزدقزوینمرکزیهرمزگانگلستانزنجانآذربایجان غربیبوشهرسیستان و بلوچستانسمنانکرمانشاههمداناردبیللرستانکردستانخراسان شمالیخراسان جنوبیچهارمحال بختیاریایلامکهکیلویه و بویراحمدهمه‌ی دسته‌بندی‌هافروش و بازاریابیوب،‌ برنامه‌نویسی و نرم‌افزارمالی و حسابداریمسئول دفتر، اجرائی و اداریتولید و مدیریت محتوادیجیتال مارکتینگپشتیبانی و امور مشتریانطراحیIT / DevOps / Serverمهندسی صنایع\n",
      "\n"
     ]
    },
    {
     "name": "stderr",
     "output_type": "stream",
     "text": [
      "C:\\Users\\negin\\anaconda3\\Lib\\site-packages\\urllib3\\connectionpool.py:1099: InsecureRequestWarning: Unverified HTTPS request is being made to host 'jobinja.ir'. Adding certificate verification is strongly advised. See: https://urllib3.readthedocs.io/en/latest/advanced-usage.html#tls-warnings\n",
      "  warnings.warn(\n"
     ]
    },
    {
     "name": "stdout",
     "output_type": "stream",
     "text": [
      "URL: https://jobinja.ir/jobs?filters%5Bkeywords%5D%5B0%5D=%D9%85%D8%AF%DB%8C%D8%B1\n",
      "Content Snippet: فرصت های شغلی مدیر\n",
      " | جابینجاامکان جدید:همین حالا رزومه خود را در کمتر از ۱۰ دقیقه بسازید،برو به رزومه‌سازJobinja | جابینجا | استخدام، آگهی استخدام، کاریابی، استخدامی جدید، بازار کار، نیازمندیها، ساخت رزومه رایگان، کار و استخدام دولتی، اشتغال، جستجوگر حرفه ای استخدام و شغلخانهجستجوی مشاغلرزومه‌ساز۵۰ شرکت برتربخش کارفرمایانورود کارجوثبت‌نام کارجوورود کارجوثبت‌نام کارجو۱جابینجا چطور به استخدام شدن من کمک می‌کند؟مشاهدهمشاهده بیشترجستجودرخواست‌های مننشان‌شده‌هاآگهی‌های پیشنهادیاز آگهی‌های جدید باخبر شوبهترین فرصت های شغلی در جابینجاهمه‌ی استان‌هاتهرانخراسان رضویاصفهانالبرزفارسقمآذربایجان شرقیمازندرانگیلانخوزستانکرمانیزدقزوینمرکزیهرمزگانگلستانزنجانآذربایجان غربیبوشهرسیستان و بلوچستانسمنانکرمانشاههمداناردبیللرستانکردستانخراسان شمالیخراسان جنوبیچهارمحال بختیاریایلامکهکیلویه و بویراحمدهمه‌ی دسته‌بندی‌هافروش و بازاریابیوب،‌ برنامه‌نویسی و نرم‌افزارمالی و حسابداریمسئول دفتر، اجرائی و اداریتولید و مدیریت محتوادیجیتال مارکتینگپشتیبانی و امور مشتریانطراحیIT / DevOps / Serverمهندسی صنایع و مدیریت صن\n",
      "\n"
     ]
    },
    {
     "name": "stderr",
     "output_type": "stream",
     "text": [
      "C:\\Users\\negin\\anaconda3\\Lib\\site-packages\\urllib3\\connectionpool.py:1099: InsecureRequestWarning: Unverified HTTPS request is being made to host 'blog.jobinja.ir'. Adding certificate verification is strongly advised. See: https://urllib3.readthedocs.io/en/latest/advanced-usage.html#tls-warnings\n",
      "  warnings.warn(\n"
     ]
    },
    {
     "name": "stdout",
     "output_type": "stream",
     "text": [
      "URL: https://blog.jobinja.ir\n",
      "Content Snippet: صفحه اصلی - وبلاگ جابینجااشتراک گذاریبا استفاده از روش‌های زیر می‌توانید این صفحه را با دوستان خود به اشتراک بگذارید.کپی لینککارجو ⏷رزومه نویسیمسیر شغلیمصاحبه کاریمهارت های فردیکارفرما ⏷منابع انسانیفضای کاریاخبار جابینجارزومه سازایجاد آگهی جدیدکارجو ⏷رزومه نویسیمسیر شغلیمصاحبه کاریمهارت های فردیکارفرما ⏷منابع انسانیفضای کاریاخبار جابینجارزومه سازایجاد آگهی جدیدمرا به خاطر بسپارنام کاربری :ایمیل :نام :نام خانوادگیآدرس وب سایت :تاریخ ثبت نام :نقش کاربر:بررسی نقش منابع انسانی در توسعه سازمانتکنیک‌های ارزیابی عملکرد کارکنانآموزش تکنیک‌های مصاحبه شغلی برای مدیران منابع انسانیآشنایی با بهترین روش‌های جذب و استخدامآخرین مقالاتبررسی نقش منابع انسانی در توسعه سازمان۱ ساعت پیشتکنیک‌های ارزیابی عملکرد کارکنان۳ هفته پیشآموزش تکنیک‌های مصاحبه شغلی برای مدیران منابع انسانی۲ ماه پیشآشنایی با بهترین روش‌های جذب و استخدام۲ ماه پیشرزومه نویسیآموزش کاورلتر و رزومه نویسی۱ سال پیشکاورلتر اختصاصی برای رزومه شخصی شما۱ سال پیشتعیین هدف شغلی: راهنمای کامل۱ سال پیشتدوین رزومه و نکات آن۱ سال پیشمسیر شغلیتعیین هد\n",
      "\n"
     ]
    },
    {
     "name": "stderr",
     "output_type": "stream",
     "text": [
      "C:\\Users\\negin\\anaconda3\\Lib\\site-packages\\urllib3\\connectionpool.py:1099: InsecureRequestWarning: Unverified HTTPS request is being made to host 'jobinja.ir'. Adding certificate verification is strongly advised. See: https://urllib3.readthedocs.io/en/latest/advanced-usage.html#tls-warnings\n",
      "  warnings.warn(\n"
     ]
    },
    {
     "name": "stdout",
     "output_type": "stream",
     "text": [
      "URL: https://jobinja.ir/%D8%A2%DA%AF%D9%87%DB%8C-%D8%A7%D8%B3%D8%AA%D8%AE%D8%AF%D8%A7%D9%85\n",
      "Content Snippet: جذب نیرو | ثبت آگهی استخدام | جابینجاخانهتعرفه‌هابخش کارجویانورود کارفرماثبت نام کارفرماخانهتعرفه‌هاورود کارفرماثبت نام کارفرمابخش کارجویان|ورود کارفرما|ثبت نام کارفرماسریع‌ترین و به‌صرفه‌ترین ابزار استخدامبا درج آگهی استخدام در جابینجا، همین امروز فرصت شغلی شرکت خود را به متخصصان ایرانی اطلاع‌رسانی کنید.٪۶۰تخفیفدرج آگهی استخدامانتشار اولین آگهی با ۶۰٪ تخفیف - ۹۰ هزار تومانانتشار در فهرست فرصت‌های شغلیآگهی شما  ۶۰ روز در فهرست فرصت‌های شغلی سایت جابینجا منتشر می‌شود و در معرض دید میلیون‌ها کارجو قرار می‌گیرد.اطلاع‌رسانی گسترده به کارجویان مرتبطآگهی  شما به کارجویانی که سابقه مرتبط با آن دارند به صورت گسترده از روش‌های مختلف اطلاع‌رسانی می‌شود.گارانتی ۱۰۰٪ رضایت و بازگشت پولبا خیال راحت از امکانات جابینجا استفاده کنید در صورت عدم رضایت، بدون هیچ قید و شرط مبلغ پرداختی را دریافت کنید.جابینجا چه ویژگی‌هایی دارد؟انتشار آگهی استخداممدیریت رزومه‌هاتعیین وضعیت رزومهتیم استخدامجستجو در رزومه‌هانشان کردن رزومه‌یادداشت‌های رزومه‌برند کارفرماییآمار عملکردرزومه‌های پیشنهادیشتابدهی آگهیپشتیبانی درج\n",
      "\n"
     ]
    },
    {
     "name": "stderr",
     "output_type": "stream",
     "text": [
      "C:\\Users\\negin\\anaconda3\\Lib\\site-packages\\urllib3\\connectionpool.py:1099: InsecureRequestWarning: Unverified HTTPS request is being made to host 'jobinja.ir'. Adding certificate verification is strongly advised. See: https://urllib3.readthedocs.io/en/latest/advanced-usage.html#tls-warnings\n",
      "  warnings.warn(\n"
     ]
    },
    {
     "name": "stdout",
     "output_type": "stream",
     "text": [
      "URL: https://jobinja.ir/knowledge/employer-faq/pages/employer-account-faq\n",
      "Content Snippet: سوالات متداول حساب کاربری کارفرمایان | جابینجاامکان جدید:همین حالا رزومه خود را در کمتر از ۱۰ دقیقه بسازید،برو به رزومه‌سازJobinja | جابینجا | استخدام، آگهی استخدام، کاریابی، استخدامی جدید، بازار کار، نیازمندیها، ساخت رزومه رایگان، کار و استخدام دولتی، اشتغال، جستجوگر حرفه ای استخدام و شغلخانهجستجوی مشاغلرزومه‌ساز۵۰ شرکت برتربخش کارفرمایانورود کارجوثبت‌نام کارجوورود کارجوثبت‌نام کارجو۱جابینجا چطور به استخدام شدن من کمک می‌کند؟مشاهدهمشاهده بیشترسوالات متداول کارفرمایانسوالات متداول حساب کاربری کارفرمایانسوالات متداول حساب کاربری کارفرمایانثبت‌نام و ورود به پنل شرکت:۱- اقدامات لازم جهت ایجاد پنل کارفرمایی چیست؟چنانچه در حال جذب نیرو هستید، وارد سایت جابینجا (www.jobinja.ir)\n",
      "                شده و سپس از بخش کارفرمایان گزینه ثبت‌نام کارفرما را انتخاب نمایید و پس از تکمیل اطلاعات، از پنل ایجاد شده برای درج آگهی استخدام استفاده نمایید.۲- چنانچه پنل کارفرمایی شرکت موقتا غیرفعال شده چگونه آن را فعال کنم؟مجموعه شما پنل فعال داخل سایت جابینجا دارد یا پروفایل دیگری که با نام مجموعه شما، تشابه اس\n",
      "\n"
     ]
    },
    {
     "name": "stderr",
     "output_type": "stream",
     "text": [
      "C:\\Users\\negin\\anaconda3\\Lib\\site-packages\\urllib3\\connectionpool.py:1099: InsecureRequestWarning: Unverified HTTPS request is being made to host 'jobinja.ir'. Adding certificate verification is strongly advised. See: https://urllib3.readthedocs.io/en/latest/advanced-usage.html#tls-warnings\n",
      "  warnings.warn(\n",
      "C:\\Users\\negin\\anaconda3\\Lib\\site-packages\\urllib3\\connectionpool.py:1099: InsecureRequestWarning: Unverified HTTPS request is being made to host 'jobinja.ir'. Adding certificate verification is strongly advised. See: https://urllib3.readthedocs.io/en/latest/advanced-usage.html#tls-warnings\n",
      "  warnings.warn(\n"
     ]
    },
    {
     "name": "stdout",
     "output_type": "stream",
     "text": [
      "URL: https://jobinja.ir/jobs?filters%5Bjob_categories%5D%5B%5D=%D8%AF%DB%8C%D8%AC%DB%8C%D8%AA%D8%A7%D9%84+%D9%85%D8%A7%D8%B1%DA%A9%D8%AA%DB%8C%D9%86%DA%AF\n",
      "Content Snippet: استخدام دیجیتال مارکتینگ | آگهی استخدام دیجیتال مارکتینگ (Digital Marketing)\n",
      " | جابینجاامکان جدید:همین حالا رزومه خود را در کمتر از ۱۰ دقیقه بسازید،برو به رزومه‌سازJobinja | جابینجا | استخدام، آگهی استخدام، کاریابی، استخدامی جدید، بازار کار، نیازمندیها، ساخت رزومه رایگان، کار و استخدام دولتی، اشتغال، جستجوگر حرفه ای استخدام و شغلخانهجستجوی مشاغلرزومه‌ساز۵۰ شرکت برتربخش کارفرمایانورود کارجوثبت‌نام کارجوورود کارجوثبت‌نام کارجو۱جابینجا چطور به استخدام شدن من کمک می‌کند؟مشاهدهمشاهده بیشترجستجودرخواست‌های مننشان‌شده‌هاآگهی‌های پیشنهادیاز آگهی‌های جدید باخبر شوبهترین فرصت های شغلی در جابینجاهمه‌ی استان‌هاتهرانخراسان رضویاصفهانالبرزفارسقمآذربایجان شرقیمازندرانگیلانخوزستانکرمانیزدقزوینمرکزیهرمزگانگلستانزنجانآذربایجان غربیبوشهرسیستان و بلوچستانسمنانکرمانشاههمداناردبیللرستانکردستانخراسان شمالیخراسان جنوبیچهارمحال بختیاریایلامکهکیلویه و بویراحمدهمه‌ی دسته‌بندی‌هادیجیتال مارکتینگفروش و بازاریابیوب،‌ برنامه‌نویسی و نرم‌افزارمالی و حسابداریمسئول دفتر، اجرائی و اداریتولید و مدیریت محتواپشتیبانی و امو\n",
      "\n"
     ]
    },
    {
     "name": "stderr",
     "output_type": "stream",
     "text": [
      "C:\\Users\\negin\\anaconda3\\Lib\\site-packages\\urllib3\\connectionpool.py:1099: InsecureRequestWarning: Unverified HTTPS request is being made to host 'jobinja.ir'. Adding certificate verification is strongly advised. See: https://urllib3.readthedocs.io/en/latest/advanced-usage.html#tls-warnings\n",
      "  warnings.warn(\n"
     ]
    },
    {
     "name": "stdout",
     "output_type": "stream",
     "text": [
      "URL: https://jobinja.ir/companies/academy-5/jobs/A7go/%D8%A7%D8%B3%D8%AA%D8%AE%D8%AF%D8%A7%D9%85-%DA%A9%D8%A7%D8%B1%D8%B4%D9%86%D8%A7%D8%B3-%D8%A8%D8%A7%D8%B2%D8%A7%D8%B1%DB%8C%D8%A7%D8%A8%DB%8C-%D9%88-%D9%81%D8%B1%D9%88%D8%B4-%D8%AA%D9%84%D9%81%D9%86%DB%8C-%D8%AF%D8%B1-%D8%A2%DA%A9%D8%A7%D8%AF%D9%85%DB%8C-%D9%85%D9%88%D8%B3%DB%8C%D9%82%DB%8C-%D8%B9%D9%84%DB%8C-%D8%AE%D8%AF%D8%A7%DB%8C%DB%8C?_ref=18\n",
      "Content Snippet: استخدام کارشناس بازاریابی و فروش تلفنی در آکادمی موسیقی علی خدایی | جابینجاامکان جدید:همین حالا رزومه خود را در کمتر از ۱۰ دقیقه بسازید،برو به رزومه‌سازJobinja | جابینجا | استخدام، آگهی استخدام، کاریابی، استخدامی جدید، بازار کار، نیازمندیها، ساخت رزومه رایگان، کار و استخدام دولتی، اشتغال، جستجوگر حرفه ای استخدام و شغلخانهجستجوی مشاغلرزومه‌ساز۵۰ شرکت برتربخش کارفرمایانورود کارجوثبت‌نام کارجوورود کارجوثبت‌نام کارجو۱جابینجا چطور به استخدام شدن من کمک می‌کند؟مشاهدهمشاهده بیشترآکادمی موسیقی علی خدایی|Academy Mosighi Ali Khodaeiآموزش، مدارس و دانشگاه‌ها۱۱ تا ۵۰ نفرalikhodaei.com/فرصت‌های شغلی۳استخدام کارشناس بازاریابی و فروش تلفنیلطفا برای مشاهده‌ی جزییات و ارسال رزومهیکی از راه‌های زیر را انتخاب کنیدورود / ثبت‌نام با ایمیلimage/svg+xmlbtn_google_light_normal_iosbtn_google_light_normal_iosCreated with Sketch.ورود / ثبت‌نام با گوگل\n",
      "                    (Gmail)ورود / ثبت‌نام با لینکدیناستخدام کارشناس بازاریابی و فروش تلفنی{{ tooltipText }}{{ hoverTitle }}نشان کردنحذف نشاندسته‌بندی شغلیفروش و با\n",
      "\n"
     ]
    },
    {
     "name": "stderr",
     "output_type": "stream",
     "text": [
      "C:\\Users\\negin\\anaconda3\\Lib\\site-packages\\urllib3\\connectionpool.py:1099: InsecureRequestWarning: Unverified HTTPS request is being made to host 'jobinja.ir'. Adding certificate verification is strongly advised. See: https://urllib3.readthedocs.io/en/latest/advanced-usage.html#tls-warnings\n",
      "  warnings.warn(\n",
      "C:\\Users\\negin\\anaconda3\\Lib\\site-packages\\urllib3\\connectionpool.py:1099: InsecureRequestWarning: Unverified HTTPS request is being made to host 'jobinja.ir'. Adding certificate verification is strongly advised. See: https://urllib3.readthedocs.io/en/latest/advanced-usage.html#tls-warnings\n",
      "  warnings.warn(\n"
     ]
    },
    {
     "name": "stdout",
     "output_type": "stream",
     "text": [
      "URL: https://jobinja.ir/jobs?filters%5Bjob_categories%5D%5B%5D=%D9%85%D9%87%D9%86%D8%AF%D8%B3%DB%8C+%D9%85%D8%B9%D8%AF%D9%86+%D9%88+%D9%85%D8%AA%D8%A7%D9%84%D9%88%D8%B1%DA%98%DB%8C\n",
      "Content Snippet: استخدام کارشناس متالورژی | استخدام مهندس مواد\t | جابینجا\n",
      " | جابینجاامکان جدید:همین حالا رزومه خود را در کمتر از ۱۰ دقیقه بسازید،برو به رزومه‌سازJobinja | جابینجا | استخدام، آگهی استخدام، کاریابی، استخدامی جدید، بازار کار، نیازمندیها، ساخت رزومه رایگان، کار و استخدام دولتی، اشتغال، جستجوگر حرفه ای استخدام و شغلخانهجستجوی مشاغلرزومه‌ساز۵۰ شرکت برتربخش کارفرمایانورود کارجوثبت‌نام کارجوورود کارجوثبت‌نام کارجو۱جابینجا چطور به استخدام شدن من کمک می‌کند؟مشاهدهمشاهده بیشترجستجودرخواست‌های مننشان‌شده‌هاآگهی‌های پیشنهادیاز آگهی‌های جدید باخبر شوبهترین فرصت های شغلی در جابینجاهمه‌ی استان‌هاتهرانخراسان رضویاصفهانالبرزفارسقمآذربایجان شرقیمازندرانگیلانخوزستانکرمانیزدقزوینمرکزیهرمزگانگلستانزنجانآذربایجان غربیبوشهرسیستان و بلوچستانسمنانکرمانشاههمداناردبیللرستانکردستانخراسان شمالیخراسان جنوبیچهارمحال بختیاریایلامکهکیلویه و بویراحمدهمه‌ی دسته‌بندی‌هامهندسی معدن و متالورژیفروش و بازاریابیوب،‌ برنامه‌نویسی و نرم‌افزارمالی و حسابداریمسئول دفتر، اجرائی و اداریتولید و مدیریت محتوادیجیتال مارکتینگپشتیبانی و ا\n",
      "\n"
     ]
    },
    {
     "name": "stderr",
     "output_type": "stream",
     "text": [
      "C:\\Users\\negin\\anaconda3\\Lib\\site-packages\\urllib3\\connectionpool.py:1099: InsecureRequestWarning: Unverified HTTPS request is being made to host 'jobinja.ir'. Adding certificate verification is strongly advised. See: https://urllib3.readthedocs.io/en/latest/advanced-usage.html#tls-warnings\n",
      "  warnings.warn(\n"
     ]
    },
    {
     "name": "stdout",
     "output_type": "stream",
     "text": [
      "URL: https://jobinja.ir/login/user\n",
      "Content Snippet: ورود کارجو | جابینجاورود کارجو | جابینجاJobinjaکارفرما هستید؟ورود کارجوورود کارجوثبت‌نام کارجوimage/svg+xmlbtn_google_light_normal_iosbtn_google_light_normal_iosCreated with Sketch.ورود با گوگلورود با لینکدینآدرس ایمیلرمز عبورمرا به خاطرت نگه دار!بازیابی رمز عبورجابینجا چه کمکی به من می‌کنه؟رایگانهمین حالا در جابینجا ثبت‌نام کن و رزومه‌ات رو برای آگهی‌های استخدام شرکت‌های معتبر بفرست.جستجوی در آگهی‌های استخدام ۱۱,۰۰۰ شرکت معتبر و ارسال رزومه با یک کلیکدریافت فرصت‌های شغلیجدیدمرتبط از طریق ایمیل\n",
      "                (Job Alert)رزومه‌ساز استانداردشناخت محیط کار و فرهنگ سازمانی شرکت‌های در حال استخدام\n",
      "\n"
     ]
    },
    {
     "name": "stderr",
     "output_type": "stream",
     "text": [
      "C:\\Users\\negin\\anaconda3\\Lib\\site-packages\\urllib3\\connectionpool.py:1099: InsecureRequestWarning: Unverified HTTPS request is being made to host 'jobinja.ir'. Adding certificate verification is strongly advised. See: https://urllib3.readthedocs.io/en/latest/advanced-usage.html#tls-warnings\n",
      "  warnings.warn(\n",
      "C:\\Users\\negin\\anaconda3\\Lib\\site-packages\\urllib3\\connectionpool.py:1099: InsecureRequestWarning: Unverified HTTPS request is being made to host 'jobinja.ir'. Adding certificate verification is strongly advised. See: https://urllib3.readthedocs.io/en/latest/advanced-usage.html#tls-warnings\n",
      "  warnings.warn(\n"
     ]
    },
    {
     "name": "stdout",
     "output_type": "stream",
     "text": [
      "URL: https://jobinja.ir/jobs?filters%5Blocations%5D%5B%5D=%D9%84%D8%B1%D8%B3%D8%AA%D8%A7%D9%86\n",
      "Content Snippet: آگهی استخدام لرستان | استخدام لرستان | کاریابی لرستان\n",
      " | جابینجاامکان جدید:همین حالا رزومه خود را در کمتر از ۱۰ دقیقه بسازید،برو به رزومه‌سازJobinja | جابینجا | استخدام، آگهی استخدام، کاریابی، استخدامی جدید، بازار کار، نیازمندیها، ساخت رزومه رایگان، کار و استخدام دولتی، اشتغال، جستجوگر حرفه ای استخدام و شغلخانهجستجوی مشاغلرزومه‌ساز۵۰ شرکت برتربخش کارفرمایانورود کارجوثبت‌نام کارجوورود کارجوثبت‌نام کارجو۱جابینجا چطور به استخدام شدن من کمک می‌کند؟مشاهدهمشاهده بیشترجستجودرخواست‌های مننشان‌شده‌هاآگهی‌های پیشنهادیاز آگهی‌های جدید باخبر شوبهترین فرصت های شغلی در جابینجاهمه‌ی استان‌هالرستانتهرانخراسان رضویاصفهانالبرزفارسقمآذربایجان شرقیمازندرانگیلانخوزستانکرمانیزدقزوینمرکزیهرمزگانگلستانزنجانآذربایجان غربیبوشهرسیستان و بلوچستانسمنانکرمانشاههمداناردبیلکردستانخراسان شمالیخراسان جنوبیچهارمحال بختیاریایلامکهکیلویه و بویراحمدهمه‌ی دسته‌بندی‌هافروش و بازاریابیوب،‌ برنامه‌نویسی و نرم‌افزارمالی و حسابداریمسئول دفتر، اجرائی و اداریتولید و مدیریت محتوادیجیتال مارکتینگپشتیبانی و امور مشتریانطراحیIT / DevO\n",
      "\n"
     ]
    },
    {
     "name": "stderr",
     "output_type": "stream",
     "text": [
      "C:\\Users\\negin\\anaconda3\\Lib\\site-packages\\urllib3\\connectionpool.py:1099: InsecureRequestWarning: Unverified HTTPS request is being made to host 'jobinja.ir'. Adding certificate verification is strongly advised. See: https://urllib3.readthedocs.io/en/latest/advanced-usage.html#tls-warnings\n",
      "  warnings.warn(\n",
      "C:\\Users\\negin\\anaconda3\\Lib\\site-packages\\urllib3\\connectionpool.py:1099: InsecureRequestWarning: Unverified HTTPS request is being made to host 'jobinja.ir'. Adding certificate verification is strongly advised. See: https://urllib3.readthedocs.io/en/latest/advanced-usage.html#tls-warnings\n",
      "  warnings.warn(\n"
     ]
    },
    {
     "name": "stdout",
     "output_type": "stream",
     "text": [
      "URL: https://jobinja.ir/jobs?filters%5Blocations%5D%5B%5D=%DA%A9%D8%B1%D8%AF%D8%B3%D8%AA%D8%A7%D9%86\n",
      "Content Snippet: استخدام کردستان | کاریابی کردستان | آگهی استخدام کردستان\n",
      " | جابینجاامکان جدید:همین حالا رزومه خود را در کمتر از ۱۰ دقیقه بسازید،برو به رزومه‌سازJobinja | جابینجا | استخدام، آگهی استخدام، کاریابی، استخدامی جدید، بازار کار، نیازمندیها، ساخت رزومه رایگان، کار و استخدام دولتی، اشتغال، جستجوگر حرفه ای استخدام و شغلخانهجستجوی مشاغلرزومه‌ساز۵۰ شرکت برتربخش کارفرمایانورود کارجوثبت‌نام کارجوورود کارجوثبت‌نام کارجو۱جابینجا چطور به استخدام شدن من کمک می‌کند؟مشاهدهمشاهده بیشترجستجودرخواست‌های مننشان‌شده‌هاآگهی‌های پیشنهادیاز آگهی‌های جدید باخبر شوبهترین فرصت های شغلی در جابینجاهمه‌ی استان‌هاکردستانتهرانخراسان رضویاصفهانالبرزفارسقمآذربایجان شرقیمازندرانگیلانخوزستانکرمانیزدقزوینمرکزیهرمزگانگلستانزنجانآذربایجان غربیبوشهرسیستان و بلوچستانسمنانکرمانشاههمداناردبیللرستانخراسان شمالیخراسان جنوبیچهارمحال بختیاریایلامکهکیلویه و بویراحمدهمه‌ی دسته‌بندی‌هافروش و بازاریابیوب،‌ برنامه‌نویسی و نرم‌افزارمالی و حسابداریمسئول دفتر، اجرائی و اداریتولید و مدیریت محتوادیجیتال مارکتینگپشتیبانی و امور مشتریانطراحیIT / D\n",
      "\n"
     ]
    },
    {
     "name": "stderr",
     "output_type": "stream",
     "text": [
      "C:\\Users\\negin\\anaconda3\\Lib\\site-packages\\urllib3\\connectionpool.py:1099: InsecureRequestWarning: Unverified HTTPS request is being made to host 'jobinja.ir'. Adding certificate verification is strongly advised. See: https://urllib3.readthedocs.io/en/latest/advanced-usage.html#tls-warnings\n",
      "  warnings.warn(\n",
      "C:\\Users\\negin\\anaconda3\\Lib\\site-packages\\urllib3\\connectionpool.py:1099: InsecureRequestWarning: Unverified HTTPS request is being made to host 'jobinja.ir'. Adding certificate verification is strongly advised. See: https://urllib3.readthedocs.io/en/latest/advanced-usage.html#tls-warnings\n",
      "  warnings.warn(\n"
     ]
    },
    {
     "name": "stdout",
     "output_type": "stream",
     "text": [
      "URL: https://jobinja.ir/jobs?filters%5Bkeywords%5D%5B0%5D=%D8%B3%D8%A6%D9%88\n",
      "Content Snippet: سئو کار | استخدام کارشناس سئو | استخدام متخصص سئو (seo)\n",
      " | جابینجاامکان جدید:همین حالا رزومه خود را در کمتر از ۱۰ دقیقه بسازید،برو به رزومه‌سازJobinja | جابینجا | استخدام، آگهی استخدام، کاریابی، استخدامی جدید، بازار کار، نیازمندیها، ساخت رزومه رایگان، کار و استخدام دولتی، اشتغال، جستجوگر حرفه ای استخدام و شغلخانهجستجوی مشاغلرزومه‌ساز۵۰ شرکت برتربخش کارفرمایانورود کارجوثبت‌نام کارجوورود کارجوثبت‌نام کارجو۱جابینجا چطور به استخدام شدن من کمک می‌کند؟مشاهدهمشاهده بیشترجستجودرخواست‌های مننشان‌شده‌هاآگهی‌های پیشنهادیاز آگهی‌های جدید باخبر شوبهترین فرصت های شغلی در جابینجاهمه‌ی استان‌هاتهرانخراسان رضویاصفهانالبرزفارسقمآذربایجان شرقیمازندرانگیلانخوزستانکرمانیزدقزوینمرکزیهرمزگانگلستانزنجانآذربایجان غربیبوشهرسیستان و بلوچستانسمنانکرمانشاههمداناردبیللرستانکردستانخراسان شمالیخراسان جنوبیچهارمحال بختیاریایلامکهکیلویه و بویراحمدهمه‌ی دسته‌بندی‌هافروش و بازاریابیوب،‌ برنامه‌نویسی و نرم‌افزارمالی و حسابداریمسئول دفتر، اجرائی و اداریتولید و مدیریت محتوادیجیتال مارکتینگپشتیبانی و امور مشتریانطراحیIT / De\n",
      "\n"
     ]
    },
    {
     "name": "stderr",
     "output_type": "stream",
     "text": [
      "C:\\Users\\negin\\anaconda3\\Lib\\site-packages\\urllib3\\connectionpool.py:1099: InsecureRequestWarning: Unverified HTTPS request is being made to host 'jobinja.ir'. Adding certificate verification is strongly advised. See: https://urllib3.readthedocs.io/en/latest/advanced-usage.html#tls-warnings\n",
      "  warnings.warn(\n"
     ]
    },
    {
     "name": "stdout",
     "output_type": "stream",
     "text": [
      "An error occurred while accessing https://jobinja.ir/telegram: ('Connection aborted.', ConnectionResetError(10054, 'An existing connection was forcibly closed by the remote host', None, 10054, None))\n"
     ]
    },
    {
     "name": "stderr",
     "output_type": "stream",
     "text": [
      "C:\\Users\\negin\\anaconda3\\Lib\\site-packages\\urllib3\\connectionpool.py:1099: InsecureRequestWarning: Unverified HTTPS request is being made to host 'jobinja.ir'. Adding certificate verification is strongly advised. See: https://urllib3.readthedocs.io/en/latest/advanced-usage.html#tls-warnings\n",
      "  warnings.warn(\n"
     ]
    },
    {
     "name": "stdout",
     "output_type": "stream",
     "text": [
      "URL: https://jobinja.ir/jobs?filters%5Bkeywords%5D%5B0%5D=%D9%85%D9%86%D8%B4%DB%8C\n",
      "Content Snippet: فرصت های شغلی منشی\n",
      " | جابینجاامکان جدید:همین حالا رزومه خود را در کمتر از ۱۰ دقیقه بسازید،برو به رزومه‌سازJobinja | جابینجا | استخدام، آگهی استخدام، کاریابی، استخدامی جدید، بازار کار، نیازمندیها، ساخت رزومه رایگان، کار و استخدام دولتی، اشتغال، جستجوگر حرفه ای استخدام و شغلخانهجستجوی مشاغلرزومه‌ساز۵۰ شرکت برتربخش کارفرمایانورود کارجوثبت‌نام کارجوورود کارجوثبت‌نام کارجو۱جابینجا چطور به استخدام شدن من کمک می‌کند؟مشاهدهمشاهده بیشترجستجودرخواست‌های مننشان‌شده‌هاآگهی‌های پیشنهادیاز آگهی‌های جدید باخبر شوبهترین فرصت های شغلی در جابینجاهمه‌ی استان‌هاتهرانخراسان رضویاصفهانالبرزفارسقمآذربایجان شرقیمازندرانگیلانخوزستانکرمانیزدقزوینمرکزیهرمزگانگلستانزنجانآذربایجان غربیبوشهرسیستان و بلوچستانسمنانکرمانشاههمداناردبیللرستانکردستانخراسان شمالیخراسان جنوبیچهارمحال بختیاریایلامکهکیلویه و بویراحمدهمه‌ی دسته‌بندی‌هافروش و بازاریابیوب،‌ برنامه‌نویسی و نرم‌افزارمالی و حسابداریمسئول دفتر، اجرائی و اداریتولید و مدیریت محتوادیجیتال مارکتینگپشتیبانی و امور مشتریانطراحیIT / DevOps / Serverمهندسی صنایع و مدیریت صن\n",
      "\n"
     ]
    },
    {
     "name": "stderr",
     "output_type": "stream",
     "text": [
      "C:\\Users\\negin\\anaconda3\\Lib\\site-packages\\urllib3\\connectionpool.py:1099: InsecureRequestWarning: Unverified HTTPS request is being made to host 'jobinja.ir'. Adding certificate verification is strongly advised. See: https://urllib3.readthedocs.io/en/latest/advanced-usage.html#tls-warnings\n",
      "  warnings.warn(\n",
      "C:\\Users\\negin\\anaconda3\\Lib\\site-packages\\urllib3\\connectionpool.py:1099: InsecureRequestWarning: Unverified HTTPS request is being made to host 'jobinja.ir'. Adding certificate verification is strongly advised. See: https://urllib3.readthedocs.io/en/latest/advanced-usage.html#tls-warnings\n",
      "  warnings.warn(\n"
     ]
    },
    {
     "name": "stdout",
     "output_type": "stream",
     "text": [
      "URL: https://jobinja.ir/jobs?filters%5Blocations%5D%5B%5D=%D8%AA%D9%87%D8%B1%D8%A7%D9%86\n",
      "Content Snippet: آگهی استخدام امروز تهران | کاریابی تهران | استخدام تهران\n",
      " | جابینجاامکان جدید:همین حالا رزومه خود را در کمتر از ۱۰ دقیقه بسازید،برو به رزومه‌سازJobinja | جابینجا | استخدام، آگهی استخدام، کاریابی، استخدامی جدید، بازار کار، نیازمندیها، ساخت رزومه رایگان، کار و استخدام دولتی، اشتغال، جستجوگر حرفه ای استخدام و شغلخانهجستجوی مشاغلرزومه‌ساز۵۰ شرکت برتربخش کارفرمایانورود کارجوثبت‌نام کارجوورود کارجوثبت‌نام کارجو۱جابینجا چطور به استخدام شدن من کمک می‌کند؟مشاهدهمشاهده بیشترجستجودرخواست‌های مننشان‌شده‌هاآگهی‌های پیشنهادیاز آگهی‌های جدید باخبر شوبهترین فرصت های شغلی در جابینجاهمه‌ی استان‌هاتهرانخراسان رضویاصفهانالبرزفارسقمآذربایجان شرقیمازندرانگیلانخوزستانکرمانیزدقزوینمرکزیهرمزگانگلستانزنجانآذربایجان غربیبوشهرسیستان و بلوچستانسمنانکرمانشاههمداناردبیللرستانکردستانخراسان شمالیخراسان جنوبیچهارمحال بختیاریایلامکهکیلویه و بویراحمدهمه‌ی دسته‌بندی‌هافروش و بازاریابیوب،‌ برنامه‌نویسی و نرم‌افزارمالی و حسابداریمسئول دفتر، اجرائی و اداریتولید و مدیریت محتوادیجیتال مارکتینگپشتیبانی و امور مشتریانطراحیIT / D\n",
      "\n"
     ]
    },
    {
     "name": "stderr",
     "output_type": "stream",
     "text": [
      "C:\\Users\\negin\\anaconda3\\Lib\\site-packages\\urllib3\\connectionpool.py:1099: InsecureRequestWarning: Unverified HTTPS request is being made to host 'jobinja.ir'. Adding certificate verification is strongly advised. See: https://urllib3.readthedocs.io/en/latest/advanced-usage.html#tls-warnings\n",
      "  warnings.warn(\n"
     ]
    },
    {
     "name": "stdout",
     "output_type": "stream",
     "text": [
      "URL: https://jobinja.ir/jobs?filters%5Bkeywords%5D%5B0%5D=%D9%BE%D8%A7%DB%8C%D8%AA%D9%88%D9%86\n",
      "Content Snippet: فرصت های شغلی پایتون\n",
      " | جابینجاامکان جدید:همین حالا رزومه خود را در کمتر از ۱۰ دقیقه بسازید،برو به رزومه‌سازJobinja | جابینجا | استخدام، آگهی استخدام، کاریابی، استخدامی جدید، بازار کار، نیازمندیها، ساخت رزومه رایگان، کار و استخدام دولتی، اشتغال، جستجوگر حرفه ای استخدام و شغلخانهجستجوی مشاغلرزومه‌ساز۵۰ شرکت برتربخش کارفرمایانورود کارجوثبت‌نام کارجوورود کارجوثبت‌نام کارجو۱جابینجا چطور به استخدام شدن من کمک می‌کند؟مشاهدهمشاهده بیشترجستجودرخواست‌های مننشان‌شده‌هاآگهی‌های پیشنهادیاز آگهی‌های جدید باخبر شوبهترین فرصت های شغلی در جابینجاهمه‌ی استان‌هاتهرانخراسان رضویاصفهانالبرزفارسقمآذربایجان شرقیمازندرانگیلانخوزستانکرمانیزدقزوینمرکزیهرمزگانگلستانزنجانآذربایجان غربیبوشهرسیستان و بلوچستانسمنانکرمانشاههمداناردبیللرستانکردستانخراسان شمالیخراسان جنوبیچهارمحال بختیاریایلامکهکیلویه و بویراحمدهمه‌ی دسته‌بندی‌هافروش و بازاریابیوب،‌ برنامه‌نویسی و نرم‌افزارمالی و حسابداریمسئول دفتر، اجرائی و اداریتولید و مدیریت محتوادیجیتال مارکتینگپشتیبانی و امور مشتریانطراحیIT / DevOps / Serverمهندسی صنایع و مدیریت \n",
      "\n"
     ]
    },
    {
     "name": "stderr",
     "output_type": "stream",
     "text": [
      "C:\\Users\\negin\\anaconda3\\Lib\\site-packages\\urllib3\\connectionpool.py:1099: InsecureRequestWarning: Unverified HTTPS request is being made to host 'jobinja.ir'. Adding certificate verification is strongly advised. See: https://urllib3.readthedocs.io/en/latest/advanced-usage.html#tls-warnings\n",
      "  warnings.warn(\n"
     ]
    },
    {
     "name": "stdout",
     "output_type": "stream",
     "text": [
      "URL: https://jobinja.ir/companies/arta-vision-raha/jobs\n",
      "Content Snippet: فرصت‌های شغلی فعال در آرتا ویژن رها  | Arta Vision Raha | جابینجاامکان جدید:همین حالا رزومه خود را در کمتر از ۱۰ دقیقه بسازید،برو به رزومه‌سازJobinja | جابینجا | استخدام، آگهی استخدام، کاریابی، استخدامی جدید، بازار کار، نیازمندیها، ساخت رزومه رایگان، کار و استخدام دولتی، اشتغال، جستجوگر حرفه ای استخدام و شغلخانهجستجوی مشاغلرزومه‌ساز۵۰ شرکت برتربخش کارفرمایانورود کارجوثبت‌نام کارجوورود کارجوثبت‌نام کارجو۱جابینجا چطور به استخدام شدن من کمک می‌کند؟مشاهدهمشاهده بیشترآرتا ویژن رها|Arta Vision Rahaکامپیوتر، فناوری اطلاعات و اینترنت۱۱ تا ۵۰ نفرwww.rahaco.netفرصت‌های شغلی۱معرفی آرتا ویژن رهامعرفی شرکت:شرکت دانش بنیان رهاکو، یک شرکت پیشرو و برجسته در حوزه فناوری اطلاعات و ارتباطات است که از سال 1394 فعالیت خود را آغاز کرده و با استفاده از نیروهای جوان، مستعد و پرانرژی، به ارائه راهکارها، محصولات و خدمات با محوریت امنیت، نظارت و مدیریت بر شبکه می‌پردازد.شرکت دانش بنیان رهاکو در زمینه‌های مختلفی از جمله امنیت اطلاعات، تجهیزات شبکه، نرم‌افزارهای مدیریت شبکه و زیرساخت‌های فناوری اطلاعات فعالیت دارد\n",
      "\n"
     ]
    },
    {
     "name": "stderr",
     "output_type": "stream",
     "text": [
      "C:\\Users\\negin\\anaconda3\\Lib\\site-packages\\urllib3\\connectionpool.py:1099: InsecureRequestWarning: Unverified HTTPS request is being made to host 'jobinja.ir'. Adding certificate verification is strongly advised. See: https://urllib3.readthedocs.io/en/latest/advanced-usage.html#tls-warnings\n",
      "  warnings.warn(\n"
     ]
    },
    {
     "name": "stdout",
     "output_type": "stream",
     "text": [
      "URL: https://jobinja.ir/companies/admoon\n",
      "Content Snippet: استخدام در شرکت ادمون، آگهی های استخدام Admoon | جابینجاامکان جدید:همین حالا رزومه خود را در کمتر از ۱۰ دقیقه بسازید،برو به رزومه‌سازJobinja | جابینجا | استخدام، آگهی استخدام، کاریابی، استخدامی جدید، بازار کار، نیازمندیها، ساخت رزومه رایگان، کار و استخدام دولتی، اشتغال، جستجوگر حرفه ای استخدام و شغلخانهجستجوی مشاغلرزومه‌ساز۵۰ شرکت برتربخش کارفرمایانورود کارجوثبت‌نام کارجوورود کارجوثبت‌نام کارجو۱جابینجا چطور به استخدام شدن من کمک می‌کند؟مشاهدهمشاهده بیشترادمون|Admoonتاسیس در  ۱۳۹۷تبلیغات، بازاریابی و برندسازی۱۱ تا ۵۰ نفرadmoon.net/?job=trueدر یک نگاهمعرفیفرصت‌های شغلی۹ادمون به عنوان تیمی متخصص در حوزه بازاریابی دیجیتال با تمرکز ویژه بر گوگل ادز شناخته میشود.موقعیت مکانیتهران، تهراناعضای شرکتعلی حاجی زادهمدیرعاملامکان راهبر بودن و عملکرد موثر راهبری، مهمترین چالشی است که در ادمون تجربه می‌شود. ما متعهد به کارایی و کارآمدی در فضای کسب و کار هستیم و قول‌مان این است که با روراستی برای عامل بودنی در تمامیت باشیم.رضا مهرنیامدیرمحصولخودم یک محصول از محیط کاری پویا و خلاق ادمونم و مسیر شغلی من \n",
      "\n",
      "An error occurred while accessing https://www.instagram.com/myjobinja/: ('Connection aborted.', ConnectionResetError(10054, 'An existing connection was forcibly closed by the remote host', None, 10054, None))\n"
     ]
    },
    {
     "name": "stderr",
     "output_type": "stream",
     "text": [
      "C:\\Users\\negin\\anaconda3\\Lib\\site-packages\\urllib3\\connectionpool.py:1099: InsecureRequestWarning: Unverified HTTPS request is being made to host 'jobinja.ir'. Adding certificate verification is strongly advised. See: https://urllib3.readthedocs.io/en/latest/advanced-usage.html#tls-warnings\n",
      "  warnings.warn(\n",
      "C:\\Users\\negin\\anaconda3\\Lib\\site-packages\\urllib3\\connectionpool.py:1099: InsecureRequestWarning: Unverified HTTPS request is being made to host 'jobinja.ir'. Adding certificate verification is strongly advised. See: https://urllib3.readthedocs.io/en/latest/advanced-usage.html#tls-warnings\n",
      "  warnings.warn(\n"
     ]
    },
    {
     "name": "stdout",
     "output_type": "stream",
     "text": [
      "URL: https://jobinja.ir/jobs?filters%5Bjob_categories%5D%5B%5D=%D9%85%D9%87%D9%86%D8%AF%D8%B3%DB%8C+%D8%B5%D9%86%D8%A7%DB%8C%D8%B9+%D9%88+%D9%85%D8%AF%DB%8C%D8%B1%DB%8C%D8%AA+%D8%B5%D9%86%D8%B9%D8%AA%DB%8C\n",
      "Content Snippet: استخدام مهندس صنايع و مدیریت صنعتی\n",
      " | جابینجاامکان جدید:همین حالا رزومه خود را در کمتر از ۱۰ دقیقه بسازید،برو به رزومه‌سازJobinja | جابینجا | استخدام، آگهی استخدام، کاریابی، استخدامی جدید، بازار کار، نیازمندیها، ساخت رزومه رایگان، کار و استخدام دولتی، اشتغال، جستجوگر حرفه ای استخدام و شغلخانهجستجوی مشاغلرزومه‌ساز۵۰ شرکت برتربخش کارفرمایانورود کارجوثبت‌نام کارجوورود کارجوثبت‌نام کارجو۱جابینجا چطور به استخدام شدن من کمک می‌کند؟مشاهدهمشاهده بیشترجستجودرخواست‌های مننشان‌شده‌هاآگهی‌های پیشنهادیاز آگهی‌های جدید باخبر شوبهترین فرصت های شغلی در جابینجاهمه‌ی استان‌هاتهرانخراسان رضویاصفهانالبرزفارسقمآذربایجان شرقیمازندرانگیلانخوزستانکرمانیزدقزوینمرکزیهرمزگانگلستانزنجانآذربایجان غربیبوشهرسیستان و بلوچستانسمنانکرمانشاههمداناردبیللرستانکردستانخراسان شمالیخراسان جنوبیچهارمحال بختیاریایلامکهکیلویه و بویراحمدهمه‌ی دسته‌بندی‌هامهندسی صنایع و مدیریت صنعتیفروش و بازاریابیوب،‌ برنامه‌نویسی و نرم‌افزارمالی و حسابداریمسئول دفتر، اجرائی و اداریتولید و مدیریت محتوادیجیتال مارکتینگپشتیبانی و امور مشتریانطراحیI\n",
      "\n"
     ]
    },
    {
     "name": "stderr",
     "output_type": "stream",
     "text": [
      "C:\\Users\\negin\\anaconda3\\Lib\\site-packages\\urllib3\\connectionpool.py:1099: InsecureRequestWarning: Unverified HTTPS request is being made to host 'jobinja.ir'. Adding certificate verification is strongly advised. See: https://urllib3.readthedocs.io/en/latest/advanced-usage.html#tls-warnings\n",
      "  warnings.warn(\n"
     ]
    },
    {
     "name": "stdout",
     "output_type": "stream",
     "text": [
      "URL: https://jobinja.ir/jobs?filters%5Bkeywords%5D%5B0%5D=%D8%AD%D8%B3%D8%A7%D8%A8%D8%AF%D8%A7%D8%B1%DB%8C\n",
      "Content Snippet: فرصت های شغلی حسابداری\n",
      " | جابینجاامکان جدید:همین حالا رزومه خود را در کمتر از ۱۰ دقیقه بسازید،برو به رزومه‌سازJobinja | جابینجا | استخدام، آگهی استخدام، کاریابی، استخدامی جدید، بازار کار، نیازمندیها، ساخت رزومه رایگان، کار و استخدام دولتی، اشتغال، جستجوگر حرفه ای استخدام و شغلخانهجستجوی مشاغلرزومه‌ساز۵۰ شرکت برتربخش کارفرمایانورود کارجوثبت‌نام کارجوورود کارجوثبت‌نام کارجو۱جابینجا چطور به استخدام شدن من کمک می‌کند؟مشاهدهمشاهده بیشترجستجودرخواست‌های مننشان‌شده‌هاآگهی‌های پیشنهادیاز آگهی‌های جدید باخبر شوبهترین فرصت های شغلی در جابینجاهمه‌ی استان‌هاتهرانخراسان رضویاصفهانالبرزفارسقمآذربایجان شرقیمازندرانگیلانخوزستانکرمانیزدقزوینمرکزیهرمزگانگلستانزنجانآذربایجان غربیبوشهرسیستان و بلوچستانسمنانکرمانشاههمداناردبیللرستانکردستانخراسان شمالیخراسان جنوبیچهارمحال بختیاریایلامکهکیلویه و بویراحمدهمه‌ی دسته‌بندی‌هافروش و بازاریابیوب،‌ برنامه‌نویسی و نرم‌افزارمالی و حسابداریمسئول دفتر، اجرائی و اداریتولید و مدیریت محتوادیجیتال مارکتینگپشتیبانی و امور مشتریانطراحیIT / DevOps / Serverمهندسی صنایع و مدیری\n",
      "\n"
     ]
    },
    {
     "name": "stderr",
     "output_type": "stream",
     "text": [
      "C:\\Users\\negin\\anaconda3\\Lib\\site-packages\\urllib3\\connectionpool.py:1099: InsecureRequestWarning: Unverified HTTPS request is being made to host 'jobinja.ir'. Adding certificate verification is strongly advised. See: https://urllib3.readthedocs.io/en/latest/advanced-usage.html#tls-warnings\n",
      "  warnings.warn(\n",
      "C:\\Users\\negin\\anaconda3\\Lib\\site-packages\\urllib3\\connectionpool.py:1099: InsecureRequestWarning: Unverified HTTPS request is being made to host 'jobinja.ir'. Adding certificate verification is strongly advised. See: https://urllib3.readthedocs.io/en/latest/advanced-usage.html#tls-warnings\n",
      "  warnings.warn(\n"
     ]
    },
    {
     "name": "stdout",
     "output_type": "stream",
     "text": [
      "URL: https://jobinja.ir/jobs?filters%5Bjob_categories%5D%5B%5D=CEO\n",
      "Content Snippet: استخدام مدیر عامل | استخدام CEO | استخدام مدیر کارخانه\n",
      " | جابینجاامکان جدید:همین حالا رزومه خود را در کمتر از ۱۰ دقیقه بسازید،برو به رزومه‌سازJobinja | جابینجا | استخدام، آگهی استخدام، کاریابی، استخدامی جدید، بازار کار، نیازمندیها، ساخت رزومه رایگان، کار و استخدام دولتی، اشتغال، جستجوگر حرفه ای استخدام و شغلخانهجستجوی مشاغلرزومه‌ساز۵۰ شرکت برتربخش کارفرمایانورود کارجوثبت‌نام کارجوورود کارجوثبت‌نام کارجو۱جابینجا چطور به استخدام شدن من کمک می‌کند؟مشاهدهمشاهده بیشترجستجودرخواست‌های مننشان‌شده‌هاآگهی‌های پیشنهادیاز آگهی‌های جدید باخبر شوبهترین فرصت های شغلی در جابینجاهمه‌ی استان‌هاتهرانخراسان رضویاصفهانالبرزفارسقمآذربایجان شرقیمازندرانگیلانخوزستانکرمانیزدقزوینمرکزیهرمزگانگلستانزنجانآذربایجان غربیبوشهرسیستان و بلوچستانسمنانکرمانشاههمداناردبیللرستانکردستانخراسان شمالیخراسان جنوبیچهارمحال بختیاریایلامکهکیلویه و بویراحمدهمه‌ی دسته‌بندی‌هاCEOفروش و بازاریابیوب،‌ برنامه‌نویسی و نرم‌افزارمالی و حسابداریمسئول دفتر، اجرائی و اداریتولید و مدیریت محتوادیجیتال مارکتینگپشتیبانی و امور مشتریانطراحیIT / \n",
      "\n"
     ]
    },
    {
     "name": "stderr",
     "output_type": "stream",
     "text": [
      "C:\\Users\\negin\\anaconda3\\Lib\\site-packages\\urllib3\\connectionpool.py:1099: InsecureRequestWarning: Unverified HTTPS request is being made to host 'jobinja.ir'. Adding certificate verification is strongly advised. See: https://urllib3.readthedocs.io/en/latest/advanced-usage.html#tls-warnings\n",
      "  warnings.warn(\n"
     ]
    },
    {
     "name": "stdout",
     "output_type": "stream",
     "text": [
      "URL: https://jobinja.ir/jobs?filters%5Bkeywords%5D%5B0%5D=%D8%AF%DB%8C%D8%AC%DB%8C%D8%AA%D8%A7%D9%84+%D9%85%D8%A7%D8%B1%DA%A9%D8%AA%DB%8C%D9%86%DA%AF\n",
      "Content Snippet: فرصت های شغلی دیجیتال مارکتینگ\n",
      " | جابینجاامکان جدید:همین حالا رزومه خود را در کمتر از ۱۰ دقیقه بسازید،برو به رزومه‌سازJobinja | جابینجا | استخدام، آگهی استخدام، کاریابی، استخدامی جدید، بازار کار، نیازمندیها، ساخت رزومه رایگان، کار و استخدام دولتی، اشتغال، جستجوگر حرفه ای استخدام و شغلخانهجستجوی مشاغلرزومه‌ساز۵۰ شرکت برتربخش کارفرمایانورود کارجوثبت‌نام کارجوورود کارجوثبت‌نام کارجو۱جابینجا چطور به استخدام شدن من کمک می‌کند؟مشاهدهمشاهده بیشترجستجودرخواست‌های مننشان‌شده‌هاآگهی‌های پیشنهادیاز آگهی‌های جدید باخبر شوبهترین فرصت های شغلی در جابینجاهمه‌ی استان‌هاتهرانخراسان رضویاصفهانالبرزفارسقمآذربایجان شرقیمازندرانگیلانخوزستانکرمانیزدقزوینمرکزیهرمزگانگلستانزنجانآذربایجان غربیبوشهرسیستان و بلوچستانسمنانکرمانشاههمداناردبیللرستانکردستانخراسان شمالیخراسان جنوبیچهارمحال بختیاریایلامکهکیلویه و بویراحمدهمه‌ی دسته‌بندی‌هافروش و بازاریابیوب،‌ برنامه‌نویسی و نرم‌افزارمالی و حسابداریمسئول دفتر، اجرائی و اداریتولید و مدیریت محتوادیجیتال مارکتینگپشتیبانی و امور مشتریانطراحیIT / DevOps / Serverمهندسی صنایع\n",
      "\n"
     ]
    },
    {
     "name": "stderr",
     "output_type": "stream",
     "text": [
      "C:\\Users\\negin\\anaconda3\\Lib\\site-packages\\urllib3\\connectionpool.py:1099: InsecureRequestWarning: Unverified HTTPS request is being made to host 'jobinja.ir'. Adding certificate verification is strongly advised. See: https://urllib3.readthedocs.io/en/latest/advanced-usage.html#tls-warnings\n",
      "  warnings.warn(\n"
     ]
    },
    {
     "name": "stdout",
     "output_type": "stream",
     "text": [
      "URL: https://jobinja.ir/companies/drsaina/jobs\n",
      "Content Snippet: فرصت‌های شغلی فعال در دکتر ساینا | Dr Saina | جابینجاامکان جدید:همین حالا رزومه خود را در کمتر از ۱۰ دقیقه بسازید،برو به رزومه‌سازJobinja | جابینجا | استخدام، آگهی استخدام، کاریابی، استخدامی جدید، بازار کار، نیازمندیها، ساخت رزومه رایگان، کار و استخدام دولتی، اشتغال، جستجوگر حرفه ای استخدام و شغلخانهجستجوی مشاغلرزومه‌ساز۵۰ شرکت برتربخش کارفرمایانورود کارجوثبت‌نام کارجوورود کارجوثبت‌نام کارجو۱جابینجا چطور به استخدام شدن من کمک می‌کند؟مشاهدهمشاهده بیشتردکتر ساینا|Dr Sainaتاسیس در  ۱۳۹۵خدمات درمانی، پزشکی و سلامت۵۱ تا ۲۰۰ نفرdrsaina.comدر یک نگاهمعرفیفرصت‌های شغلی۱۲معرفی دکتر ساینادکترساینا محصول شرکت دانش بنیان صنعتی نوین فناوران همراه ساینا ستچشم انداز دکترساینا کمک به بشریت برای داشتن زندگی سالم،شاد و طولانی است.هرروزه میلیون‌ها نفر در جهان برای دستیابی به خدمات پزشکی مناسب درحال چالش و تلاش هستند و دکترساینا به دنبال تغییر این مسیر استدکتر ساینا تلاش دارد تا نعمت سلامتی که از مهمترین نعمات است را از طریق افزایش آگاهی‌های بهداشتی و سلامتی در میان انسان‌ها گسترش دهد.دکترساینا اعتقاد دار\n",
      "\n"
     ]
    },
    {
     "name": "stderr",
     "output_type": "stream",
     "text": [
      "C:\\Users\\negin\\anaconda3\\Lib\\site-packages\\urllib3\\connectionpool.py:1099: InsecureRequestWarning: Unverified HTTPS request is being made to host 'jobinja.ir'. Adding certificate verification is strongly advised. See: https://urllib3.readthedocs.io/en/latest/advanced-usage.html#tls-warnings\n",
      "  warnings.warn(\n",
      "C:\\Users\\negin\\anaconda3\\Lib\\site-packages\\urllib3\\connectionpool.py:1099: InsecureRequestWarning: Unverified HTTPS request is being made to host 'jobinja.ir'. Adding certificate verification is strongly advised. See: https://urllib3.readthedocs.io/en/latest/advanced-usage.html#tls-warnings\n",
      "  warnings.warn(\n"
     ]
    },
    {
     "name": "stdout",
     "output_type": "stream",
     "text": [
      "URL: https://jobinja.ir/jobs?filters%5Blocations%5D%5B%5D=%D8%A2%D8%B0%D8%B1%D8%A8%D8%A7%DB%8C%D8%AC%D8%A7%D9%86+%D8%BA%D8%B1%D8%A8%DB%8C\n",
      "Content Snippet: آگهی استخدام آذربایجان غربی | استخدام آذربایجان غربی | کاریابی آذربایجان غربی | جابینجا\n",
      " | جابینجاامکان جدید:همین حالا رزومه خود را در کمتر از ۱۰ دقیقه بسازید،برو به رزومه‌سازJobinja | جابینجا | استخدام، آگهی استخدام، کاریابی، استخدامی جدید، بازار کار، نیازمندیها، ساخت رزومه رایگان، کار و استخدام دولتی، اشتغال، جستجوگر حرفه ای استخدام و شغلخانهجستجوی مشاغلرزومه‌ساز۵۰ شرکت برتربخش کارفرمایانورود کارجوثبت‌نام کارجوورود کارجوثبت‌نام کارجو۱جابینجا چطور به استخدام شدن من کمک می‌کند؟مشاهدهمشاهده بیشترجستجودرخواست‌های مننشان‌شده‌هاآگهی‌های پیشنهادیاز آگهی‌های جدید باخبر شوبهترین فرصت های شغلی در جابینجاهمه‌ی استان‌هاآذربایجان غربیتهرانخراسان رضویاصفهانالبرزفارسقمآذربایجان شرقیمازندرانگیلانخوزستانکرمانیزدقزوینمرکزیهرمزگانگلستانزنجانبوشهرسیستان و بلوچستانسمنانکرمانشاههمداناردبیللرستانکردستانخراسان شمالیخراسان جنوبیچهارمحال بختیاریایلامکهکیلویه و بویراحمدهمه‌ی دسته‌بندی‌هافروش و بازاریابیوب،‌ برنامه‌نویسی و نرم‌افزارمالی و حسابداریمسئول دفتر، اجرائی و اداریتولید و مدیریت محتوادیجیتال مارکتینگپشت\n",
      "\n"
     ]
    },
    {
     "name": "stderr",
     "output_type": "stream",
     "text": [
      "C:\\Users\\negin\\anaconda3\\Lib\\site-packages\\urllib3\\connectionpool.py:1099: InsecureRequestWarning: Unverified HTTPS request is being made to host 'jobinja.ir'. Adding certificate verification is strongly advised. See: https://urllib3.readthedocs.io/en/latest/advanced-usage.html#tls-warnings\n",
      "  warnings.warn(\n"
     ]
    },
    {
     "name": "stdout",
     "output_type": "stream",
     "text": [
      "URL: https://jobinja.ir/jobs?filters%5Bkeywords%5D%5B0%5D=%D8%AA%D9%BE%D8%B3%DB%8C\n",
      "Content Snippet: فرصت های شغلی تپسی\n",
      " | جابینجاامکان جدید:همین حالا رزومه خود را در کمتر از ۱۰ دقیقه بسازید،برو به رزومه‌سازJobinja | جابینجا | استخدام، آگهی استخدام، کاریابی، استخدامی جدید، بازار کار، نیازمندیها، ساخت رزومه رایگان، کار و استخدام دولتی، اشتغال، جستجوگر حرفه ای استخدام و شغلخانهجستجوی مشاغلرزومه‌ساز۵۰ شرکت برتربخش کارفرمایانورود کارجوثبت‌نام کارجوورود کارجوثبت‌نام کارجو۱جابینجا چطور به استخدام شدن من کمک می‌کند؟مشاهدهمشاهده بیشترجستجودرخواست‌های مننشان‌شده‌هاآگهی‌های پیشنهادیاز آگهی‌های جدید باخبر شوبهترین فرصت های شغلی در جابینجاهمه‌ی استان‌هاتهرانخراسان رضویاصفهانالبرزفارسقمآذربایجان شرقیمازندرانگیلانخوزستانکرمانیزدقزوینمرکزیهرمزگانگلستانزنجانآذربایجان غربیبوشهرسیستان و بلوچستانسمنانکرمانشاههمداناردبیللرستانکردستانخراسان شمالیخراسان جنوبیچهارمحال بختیاریایلامکهکیلویه و بویراحمدهمه‌ی دسته‌بندی‌هافروش و بازاریابیوب،‌ برنامه‌نویسی و نرم‌افزارمالی و حسابداریمسئول دفتر، اجرائی و اداریتولید و مدیریت محتوادیجیتال مارکتینگپشتیبانی و امور مشتریانطراحیIT / DevOps / Serverمهندسی صنایع و مدیریت صن\n",
      "\n"
     ]
    },
    {
     "name": "stderr",
     "output_type": "stream",
     "text": [
      "C:\\Users\\negin\\anaconda3\\Lib\\site-packages\\urllib3\\connectionpool.py:1099: InsecureRequestWarning: Unverified HTTPS request is being made to host 'jobinja.ir'. Adding certificate verification is strongly advised. See: https://urllib3.readthedocs.io/en/latest/advanced-usage.html#tls-warnings\n",
      "  warnings.warn(\n",
      "C:\\Users\\negin\\anaconda3\\Lib\\site-packages\\urllib3\\connectionpool.py:1099: InsecureRequestWarning: Unverified HTTPS request is being made to host 'jobinja.ir'. Adding certificate verification is strongly advised. See: https://urllib3.readthedocs.io/en/latest/advanced-usage.html#tls-warnings\n",
      "  warnings.warn(\n"
     ]
    },
    {
     "name": "stdout",
     "output_type": "stream",
     "text": [
      "URL: https://jobinja.ir/jobs?filters%5Blocations%5D%5B%5D=%D9%81%D8%A7%D8%B1%D8%B3\n",
      "Content Snippet: آگهی استخدام فارس | استخدام فارس | کاریابی فارس\n",
      " | جابینجاامکان جدید:همین حالا رزومه خود را در کمتر از ۱۰ دقیقه بسازید،برو به رزومه‌سازJobinja | جابینجا | استخدام، آگهی استخدام، کاریابی، استخدامی جدید، بازار کار، نیازمندیها، ساخت رزومه رایگان، کار و استخدام دولتی، اشتغال، جستجوگر حرفه ای استخدام و شغلخانهجستجوی مشاغلرزومه‌ساز۵۰ شرکت برتربخش کارفرمایانورود کارجوثبت‌نام کارجوورود کارجوثبت‌نام کارجو۱جابینجا چطور به استخدام شدن من کمک می‌کند؟مشاهدهمشاهده بیشترجستجودرخواست‌های مننشان‌شده‌هاآگهی‌های پیشنهادیاز آگهی‌های جدید باخبر شوبهترین فرصت های شغلی در جابینجاهمه‌ی استان‌هافارستهرانخراسان رضویاصفهانالبرزقمآذربایجان شرقیمازندرانگیلانخوزستانکرمانیزدقزوینمرکزیهرمزگانگلستانزنجانآذربایجان غربیبوشهرسیستان و بلوچستانسمنانکرمانشاههمداناردبیللرستانکردستانخراسان شمالیخراسان جنوبیچهارمحال بختیاریایلامکهکیلویه و بویراحمدهمه‌ی دسته‌بندی‌هافروش و بازاریابیوب،‌ برنامه‌نویسی و نرم‌افزارمالی و حسابداریمسئول دفتر، اجرائی و اداریتولید و مدیریت محتوادیجیتال مارکتینگپشتیبانی و امور مشتریانطراحیIT / DevOps / S\n",
      "\n"
     ]
    },
    {
     "name": "stderr",
     "output_type": "stream",
     "text": [
      "C:\\Users\\negin\\anaconda3\\Lib\\site-packages\\urllib3\\connectionpool.py:1099: InsecureRequestWarning: Unverified HTTPS request is being made to host 'jobinja.ir'. Adding certificate verification is strongly advised. See: https://urllib3.readthedocs.io/en/latest/advanced-usage.html#tls-warnings\n",
      "  warnings.warn(\n"
     ]
    },
    {
     "name": "stdout",
     "output_type": "stream",
     "text": [
      "URL: https://jobinja.ir/jobs?filters%5Bkeywords%5D%5B0%5D=%D8%B7%D8%B1%D8%A7%D8%AD+%DA%AF%D8%B1%D8%A7%D9%81%DB%8C%DA%A9\n",
      "Content Snippet: فرصت های شغلی طراح گرافیک\n",
      " | جابینجاامکان جدید:همین حالا رزومه خود را در کمتر از ۱۰ دقیقه بسازید،برو به رزومه‌سازJobinja | جابینجا | استخدام، آگهی استخدام، کاریابی، استخدامی جدید، بازار کار، نیازمندیها، ساخت رزومه رایگان، کار و استخدام دولتی، اشتغال، جستجوگر حرفه ای استخدام و شغلخانهجستجوی مشاغلرزومه‌ساز۵۰ شرکت برتربخش کارفرمایانورود کارجوثبت‌نام کارجوورود کارجوثبت‌نام کارجو۱جابینجا چطور به استخدام شدن من کمک می‌کند؟مشاهدهمشاهده بیشترجستجودرخواست‌های مننشان‌شده‌هاآگهی‌های پیشنهادیاز آگهی‌های جدید باخبر شوبهترین فرصت های شغلی در جابینجاهمه‌ی استان‌هاتهرانخراسان رضویاصفهانالبرزفارسقمآذربایجان شرقیمازندرانگیلانخوزستانکرمانیزدقزوینمرکزیهرمزگانگلستانزنجانآذربایجان غربیبوشهرسیستان و بلوچستانسمنانکرمانشاههمداناردبیللرستانکردستانخراسان شمالیخراسان جنوبیچهارمحال بختیاریایلامکهکیلویه و بویراحمدهمه‌ی دسته‌بندی‌هافروش و بازاریابیوب،‌ برنامه‌نویسی و نرم‌افزارمالی و حسابداریمسئول دفتر، اجرائی و اداریتولید و مدیریت محتوادیجیتال مارکتینگپشتیبانی و امور مشتریانطراحیIT / DevOps / Serverمهندسی صنایع و مد\n",
      "\n"
     ]
    },
    {
     "name": "stderr",
     "output_type": "stream",
     "text": [
      "C:\\Users\\negin\\anaconda3\\Lib\\site-packages\\urllib3\\connectionpool.py:1099: InsecureRequestWarning: Unverified HTTPS request is being made to host 'jobinja.ir'. Adding certificate verification is strongly advised. See: https://urllib3.readthedocs.io/en/latest/advanced-usage.html#tls-warnings\n",
      "  warnings.warn(\n"
     ]
    },
    {
     "name": "stdout",
     "output_type": "stream",
     "text": [
      "URL: https://jobinja.ir/companies/pezeshk24\n",
      "Content Snippet: استخدام در شرکت پزشک24، آگهی های استخدام Pezeshk24 | جابینجاامکان جدید:همین حالا رزومه خود را در کمتر از ۱۰ دقیقه بسازید،برو به رزومه‌سازJobinja | جابینجا | استخدام، آگهی استخدام، کاریابی، استخدامی جدید، بازار کار، نیازمندیها، ساخت رزومه رایگان، کار و استخدام دولتی، اشتغال، جستجوگر حرفه ای استخدام و شغلخانهجستجوی مشاغلرزومه‌ساز۵۰ شرکت برتربخش کارفرمایانورود کارجوثبت‌نام کارجوورود کارجوثبت‌نام کارجو۱جابینجا چطور به استخدام شدن من کمک می‌کند؟مشاهدهمشاهده بیشترپزشک24|Pezeshk24تاسیس در  ۱۳۹۷خدمات درمانی، پزشکی و سلامت۱۱ تا ۵۰ نفرpezeshk24.com/در یک نگاهمعرفیفرصت‌های شغلی۲سال 1397 پزشک 24 رو با هدف معرفی بهترین پزشکان زیبایی به زیباجویان شهرهای مختلف ایران راه اندازی کردیم.موقعیت مکانیخراسان رضوی، مشهداعضای شرکتامیرحسین ارجمندمدیر واحد دیجیتال مارکتینگپزشک 24 فرصت رشد، پیشرفت و یادگیری رو در اختیار همه اعضای تیمش قرار میده. اگر قصد کار کردن در محیطی پویا، دوستانه و امن رو دارین، به تیم ما بپیوندین.میلاد رحیمی رادمدیر فروش و بازاریابیسرمایه پزشک 24 پرسنل بی‌نظیرش هستنتو هم میتونی تو جمع بی‌ن\n",
      "\n"
     ]
    },
    {
     "name": "stderr",
     "output_type": "stream",
     "text": [
      "C:\\Users\\negin\\anaconda3\\Lib\\site-packages\\urllib3\\connectionpool.py:1099: InsecureRequestWarning: Unverified HTTPS request is being made to host 'jobinja.ir'. Adding certificate verification is strongly advised. See: https://urllib3.readthedocs.io/en/latest/advanced-usage.html#tls-warnings\n",
      "  warnings.warn(\n"
     ]
    },
    {
     "name": "stdout",
     "output_type": "stream",
     "text": [
      "URL: https://jobinja.ir/companies/snapp-group-1\n",
      "Content Snippet: استخدام در شرکت گروه اسنپ، آگهی های استخدام Snapp Group | جابینجاامکان جدید:همین حالا رزومه خود را در کمتر از ۱۰ دقیقه بسازید،برو به رزومه‌سازJobinja | جابینجا | استخدام، آگهی استخدام، کاریابی، استخدامی جدید، بازار کار، نیازمندیها، ساخت رزومه رایگان، کار و استخدام دولتی، اشتغال، جستجوگر حرفه ای استخدام و شغلخانهجستجوی مشاغلرزومه‌ساز۵۰ شرکت برتربخش کارفرمایانورود کارجوثبت‌نام کارجوورود کارجوثبت‌نام کارجو۱جابینجا چطور به استخدام شدن من کمک می‌کند؟مشاهدهمشاهده بیشترگروه اسنپ|Snapp Groupتاسیس در  ۲۰۱۳کامپیوتر، فناوری اطلاعات و اینترنتبیش از ۱۰۰۰ نفردر یک نگاهمعرفیفرصت‌های شغلی۴۳گروه اسنپ رو با برندهای آشنای اسنپ، اسنپ فود، اسنپ باکس، اسنپ گروسری، اسنپ تریپ، اسنپ استور، اسنپ ساپلای، اسنپ دکتر، اسنپ کیچن و اسنپ پی و اسنپ شاپ می‌شناسیم.موقعیت مکانیتهران، تهراناعضای شرکتمرضیه رحیمیHR Managerهدف ما در گروه اسنپ به کارگیری ظرفیت‌های دانشی در جهت بهینه‌سازی تلاش‌هاست و این امر رو با تاکید بر ایجاد فضایی باز برای خلق و اجرای ایده‌ها تحقق می‌بخشیم. به نظر من گروه اسنپ میتونه برای شما، همون فضای اید\n",
      "\n"
     ]
    },
    {
     "name": "stderr",
     "output_type": "stream",
     "text": [
      "C:\\Users\\negin\\anaconda3\\Lib\\site-packages\\urllib3\\connectionpool.py:1099: InsecureRequestWarning: Unverified HTTPS request is being made to host 'jobinja.ir'. Adding certificate verification is strongly advised. See: https://urllib3.readthedocs.io/en/latest/advanced-usage.html#tls-warnings\n",
      "  warnings.warn(\n"
     ]
    },
    {
     "name": "stdout",
     "output_type": "stream",
     "text": [
      "URL: https://jobinja.ir/jobs?filters%5Bkeywords%5D%5B0%5D=%D9%81%D8%B1%D8%A7%D9%86%D8%AA+%D8%A7%D9%86%D8%AF\n",
      "Content Snippet: فرصت های شغلی فرانت اند\n",
      " | جابینجاامکان جدید:همین حالا رزومه خود را در کمتر از ۱۰ دقیقه بسازید،برو به رزومه‌سازJobinja | جابینجا | استخدام، آگهی استخدام، کاریابی، استخدامی جدید، بازار کار، نیازمندیها، ساخت رزومه رایگان، کار و استخدام دولتی، اشتغال، جستجوگر حرفه ای استخدام و شغلخانهجستجوی مشاغلرزومه‌ساز۵۰ شرکت برتربخش کارفرمایانورود کارجوثبت‌نام کارجوورود کارجوثبت‌نام کارجو۱جابینجا چطور به استخدام شدن من کمک می‌کند؟مشاهدهمشاهده بیشترجستجودرخواست‌های مننشان‌شده‌هاآگهی‌های پیشنهادیاز آگهی‌های جدید باخبر شوبهترین فرصت های شغلی در جابینجاهمه‌ی استان‌هاتهرانخراسان رضویاصفهانالبرزفارسقمآذربایجان شرقیمازندرانگیلانخوزستانکرمانیزدقزوینمرکزیهرمزگانگلستانزنجانآذربایجان غربیبوشهرسیستان و بلوچستانسمنانکرمانشاههمداناردبیللرستانکردستانخراسان شمالیخراسان جنوبیچهارمحال بختیاریایلامکهکیلویه و بویراحمدهمه‌ی دسته‌بندی‌هافروش و بازاریابیوب،‌ برنامه‌نویسی و نرم‌افزارمالی و حسابداریمسئول دفتر، اجرائی و اداریتولید و مدیریت محتوادیجیتال مارکتینگپشتیبانی و امور مشتریانطراحیIT / DevOps / Serverمهندسی صنایع و مدیر\n",
      "\n"
     ]
    },
    {
     "name": "stderr",
     "output_type": "stream",
     "text": [
      "C:\\Users\\negin\\anaconda3\\Lib\\site-packages\\urllib3\\connectionpool.py:1099: InsecureRequestWarning: Unverified HTTPS request is being made to host 'jobinja.ir'. Adding certificate verification is strongly advised. See: https://urllib3.readthedocs.io/en/latest/advanced-usage.html#tls-warnings\n",
      "  warnings.warn(\n",
      "C:\\Users\\negin\\anaconda3\\Lib\\site-packages\\urllib3\\connectionpool.py:1099: InsecureRequestWarning: Unverified HTTPS request is being made to host 'jobinja.ir'. Adding certificate verification is strongly advised. See: https://urllib3.readthedocs.io/en/latest/advanced-usage.html#tls-warnings\n",
      "  warnings.warn(\n"
     ]
    },
    {
     "name": "stdout",
     "output_type": "stream",
     "text": [
      "URL: https://jobinja.ir/jobs?filters%5Blocations%5D%5B%5D=%D8%B3%D9%85%D9%86%D8%A7%D9%86\n",
      "Content Snippet: استخدام سمنان | کاریابی سمنان | آگهی استخدام سمنان\n",
      " | جابینجاامکان جدید:همین حالا رزومه خود را در کمتر از ۱۰ دقیقه بسازید،برو به رزومه‌سازJobinja | جابینجا | استخدام، آگهی استخدام، کاریابی، استخدامی جدید، بازار کار، نیازمندیها، ساخت رزومه رایگان، کار و استخدام دولتی، اشتغال، جستجوگر حرفه ای استخدام و شغلخانهجستجوی مشاغلرزومه‌ساز۵۰ شرکت برتربخش کارفرمایانورود کارجوثبت‌نام کارجوورود کارجوثبت‌نام کارجو۱جابینجا چطور به استخدام شدن من کمک می‌کند؟مشاهدهمشاهده بیشترجستجودرخواست‌های مننشان‌شده‌هاآگهی‌های پیشنهادیاز آگهی‌های جدید باخبر شوبهترین فرصت های شغلی در جابینجاهمه‌ی استان‌هاسمنانتهرانخراسان رضویاصفهانالبرزفارسقمآذربایجان شرقیمازندرانگیلانخوزستانکرمانیزدقزوینمرکزیهرمزگانگلستانزنجانآذربایجان غربیبوشهرسیستان و بلوچستانکرمانشاههمداناردبیللرستانکردستانخراسان شمالیخراسان جنوبیچهارمحال بختیاریایلامکهکیلویه و بویراحمدهمه‌ی دسته‌بندی‌هافروش و بازاریابیوب،‌ برنامه‌نویسی و نرم‌افزارمالی و حسابداریمسئول دفتر، اجرائی و اداریتولید و مدیریت محتوادیجیتال مارکتینگپشتیبانی و امور مشتریانطراحیIT / DevOps \n",
      "\n"
     ]
    },
    {
     "name": "stderr",
     "output_type": "stream",
     "text": [
      "C:\\Users\\negin\\anaconda3\\Lib\\site-packages\\urllib3\\connectionpool.py:1099: InsecureRequestWarning: Unverified HTTPS request is being made to host 'jobinja.ir'. Adding certificate verification is strongly advised. See: https://urllib3.readthedocs.io/en/latest/advanced-usage.html#tls-warnings\n",
      "  warnings.warn(\n"
     ]
    },
    {
     "name": "stdout",
     "output_type": "stream",
     "text": [
      "URL: https://jobinja.ir/jobs?filters%5Bkeywords%5D%5B0%5D=%D9%BE%D8%A7%D8%B1%D9%87+%D9%88%D9%82%D8%AA\n",
      "Content Snippet: فرصت های شغلی پاره وقت\n",
      " | جابینجاامکان جدید:همین حالا رزومه خود را در کمتر از ۱۰ دقیقه بسازید،برو به رزومه‌سازJobinja | جابینجا | استخدام، آگهی استخدام، کاریابی، استخدامی جدید، بازار کار، نیازمندیها، ساخت رزومه رایگان، کار و استخدام دولتی، اشتغال، جستجوگر حرفه ای استخدام و شغلخانهجستجوی مشاغلرزومه‌ساز۵۰ شرکت برتربخش کارفرمایانورود کارجوثبت‌نام کارجوورود کارجوثبت‌نام کارجو۱جابینجا چطور به استخدام شدن من کمک می‌کند؟مشاهدهمشاهده بیشترجستجودرخواست‌های مننشان‌شده‌هاآگهی‌های پیشنهادیاز آگهی‌های جدید باخبر شوبهترین فرصت های شغلی در جابینجاهمه‌ی استان‌هاتهرانخراسان رضویاصفهانالبرزفارسقمآذربایجان شرقیمازندرانگیلانخوزستانکرمانیزدقزوینمرکزیهرمزگانگلستانزنجانآذربایجان غربیبوشهرسیستان و بلوچستانسمنانکرمانشاههمداناردبیللرستانکردستانخراسان شمالیخراسان جنوبیچهارمحال بختیاریایلامکهکیلویه و بویراحمدهمه‌ی دسته‌بندی‌هافروش و بازاریابیوب،‌ برنامه‌نویسی و نرم‌افزارمالی و حسابداریمسئول دفتر، اجرائی و اداریتولید و مدیریت محتوادیجیتال مارکتینگپشتیبانی و امور مشتریانطراحیIT / DevOps / Serverمهندسی صنایع و مدیری\n",
      "\n"
     ]
    },
    {
     "name": "stderr",
     "output_type": "stream",
     "text": [
      "C:\\Users\\negin\\anaconda3\\Lib\\site-packages\\urllib3\\connectionpool.py:1099: InsecureRequestWarning: Unverified HTTPS request is being made to host 'jobinja.ir'. Adding certificate verification is strongly advised. See: https://urllib3.readthedocs.io/en/latest/advanced-usage.html#tls-warnings\n",
      "  warnings.warn(\n"
     ]
    },
    {
     "name": "stdout",
     "output_type": "stream",
     "text": [
      "URL: https://jobinja.ir/companies/ham-marketing-agency/jobs/A7bK/%D8%A7%D8%B3%D8%AA%D8%AE%D8%AF%D8%A7%D9%85-%DA%A9%D8%A7%D8%B1%D8%B4%D9%86%D8%A7%D8%B3-%D8%B4%D8%A8%DA%A9%D9%87-%D8%A7%D8%AC%D8%AA%D9%85%D8%A7%D8%B9%DB%8C-%D8%AF%D8%B1-%D8%AA%D8%A8%D9%84%DB%8C%D8%BA%D8%A7%D8%AA%DB%8C-%D9%87%D9%85?_ref=18\n",
      "Content Snippet: استخدام کارشناس شبکه اجتماعی در تبلیغاتی هم | جابینجاامکان جدید:همین حالا رزومه خود را در کمتر از ۱۰ دقیقه بسازید،برو به رزومه‌سازJobinja | جابینجا | استخدام، آگهی استخدام، کاریابی، استخدامی جدید، بازار کار، نیازمندیها، ساخت رزومه رایگان، کار و استخدام دولتی، اشتغال، جستجوگر حرفه ای استخدام و شغلخانهجستجوی مشاغلرزومه‌ساز۵۰ شرکت برتربخش کارفرمایانورود کارجوثبت‌نام کارجوورود کارجوثبت‌نام کارجو۱جابینجا چطور به استخدام شدن من کمک می‌کند؟مشاهدهمشاهده بیشترتبلیغاتی هم|Ham Marketing Agencyتبلیغات، بازاریابی و برندسازی۲ - ۱۰ نفرفرصت‌های شغلی۱استخدام کارشناس شبکه اجتماعیلطفا برای مشاهده‌ی جزییات و ارسال رزومهیکی از راه‌های زیر را انتخاب کنیدورود / ثبت‌نام با ایمیلimage/svg+xmlbtn_google_light_normal_iosbtn_google_light_normal_iosCreated with Sketch.ورود / ثبت‌نام با گوگل\n",
      "                    (Gmail)ورود / ثبت‌نام با لینکدیناستخدام کارشناس شبکه اجتماعی{{ tooltipText }}{{ hoverTitle }}نشان کردنحذف نشاندسته‌بندی شغلیدیجیتال مارکتینگموقعیت مکانیتهران\n",
      "                                                ،\n",
      "\n"
     ]
    },
    {
     "name": "stderr",
     "output_type": "stream",
     "text": [
      "C:\\Users\\negin\\anaconda3\\Lib\\site-packages\\urllib3\\connectionpool.py:1099: InsecureRequestWarning: Unverified HTTPS request is being made to host 'jobinja.ir'. Adding certificate verification is strongly advised. See: https://urllib3.readthedocs.io/en/latest/advanced-usage.html#tls-warnings\n",
      "  warnings.warn(\n",
      "C:\\Users\\negin\\anaconda3\\Lib\\site-packages\\urllib3\\connectionpool.py:1099: InsecureRequestWarning: Unverified HTTPS request is being made to host 'jobinja.ir'. Adding certificate verification is strongly advised. See: https://urllib3.readthedocs.io/en/latest/advanced-usage.html#tls-warnings\n",
      "  warnings.warn(\n"
     ]
    },
    {
     "name": "stdout",
     "output_type": "stream",
     "text": [
      "URL: https://jobinja.ir/jobs?filters%5Blocations%5D%5B%5D=%D8%AE%D8%B1%D8%A7%D8%B3%D8%A7%D9%86+%D8%AC%D9%86%D9%88%D8%A8%DB%8C\n",
      "Content Snippet: آگهی استخدام خراسان جنوبی | استخدام خراسان جنوبی | کاریابی خراسان جنوبی\n",
      " | جابینجاامکان جدید:همین حالا رزومه خود را در کمتر از ۱۰ دقیقه بسازید،برو به رزومه‌سازJobinja | جابینجا | استخدام، آگهی استخدام، کاریابی، استخدامی جدید، بازار کار، نیازمندیها، ساخت رزومه رایگان، کار و استخدام دولتی، اشتغال، جستجوگر حرفه ای استخدام و شغلخانهجستجوی مشاغلرزومه‌ساز۵۰ شرکت برتربخش کارفرمایانورود کارجوثبت‌نام کارجوورود کارجوثبت‌نام کارجو۱جابینجا چطور به استخدام شدن من کمک می‌کند؟مشاهدهمشاهده بیشترجستجودرخواست‌های مننشان‌شده‌هاآگهی‌های پیشنهادیاز آگهی‌های جدید باخبر شوبهترین فرصت های شغلی در جابینجاهمه‌ی استان‌هاخراسان جنوبیتهرانخراسان رضویاصفهانالبرزفارسقمآذربایجان شرقیمازندرانگیلانخوزستانکرمانیزدقزوینمرکزیهرمزگانگلستانزنجانآذربایجان غربیبوشهرسیستان و بلوچستانسمنانکرمانشاههمداناردبیللرستانکردستانخراسان شمالیچهارمحال بختیاریایلامکهکیلویه و بویراحمدهمه‌ی دسته‌بندی‌هافروش و بازاریابیوب،‌ برنامه‌نویسی و نرم‌افزارمالی و حسابداریمسئول دفتر، اجرائی و اداریتولید و مدیریت محتوادیجیتال مارکتینگپشتیبانی و امور مشت\n",
      "\n"
     ]
    },
    {
     "name": "stderr",
     "output_type": "stream",
     "text": [
      "C:\\Users\\negin\\anaconda3\\Lib\\site-packages\\urllib3\\connectionpool.py:1099: InsecureRequestWarning: Unverified HTTPS request is being made to host 'jobinja.ir'. Adding certificate verification is strongly advised. See: https://urllib3.readthedocs.io/en/latest/advanced-usage.html#tls-warnings\n",
      "  warnings.warn(\n",
      "C:\\Users\\negin\\anaconda3\\Lib\\site-packages\\urllib3\\connectionpool.py:1099: InsecureRequestWarning: Unverified HTTPS request is being made to host 'jobinja.ir'. Adding certificate verification is strongly advised. See: https://urllib3.readthedocs.io/en/latest/advanced-usage.html#tls-warnings\n",
      "  warnings.warn(\n"
     ]
    },
    {
     "name": "stdout",
     "output_type": "stream",
     "text": [
      "URL: https://jobinja.ir/jobs?filters%5Bjob_categories%5D%5B%5D=%D9%86%DA%AF%D9%87%D8%A8%D8%A7%D9%86\n",
      "Content Snippet: استخدام حراست | استخدام نگهبان\n",
      " | جابینجاامکان جدید:همین حالا رزومه خود را در کمتر از ۱۰ دقیقه بسازید،برو به رزومه‌سازJobinja | جابینجا | استخدام، آگهی استخدام، کاریابی، استخدامی جدید، بازار کار، نیازمندیها، ساخت رزومه رایگان، کار و استخدام دولتی، اشتغال، جستجوگر حرفه ای استخدام و شغلخانهجستجوی مشاغلرزومه‌ساز۵۰ شرکت برتربخش کارفرمایانورود کارجوثبت‌نام کارجوورود کارجوثبت‌نام کارجو۱جابینجا چطور به استخدام شدن من کمک می‌کند؟مشاهدهمشاهده بیشترجستجودرخواست‌های مننشان‌شده‌هاآگهی‌های پیشنهادیاز آگهی‌های جدید باخبر شوبهترین فرصت های شغلی در جابینجاهمه‌ی استان‌هاتهرانخراسان رضویاصفهانالبرزفارسقمآذربایجان شرقیمازندرانگیلانخوزستانکرمانیزدقزوینمرکزیهرمزگانگلستانزنجانآذربایجان غربیبوشهرسیستان و بلوچستانسمنانکرمانشاههمداناردبیللرستانکردستانخراسان شمالیخراسان جنوبیچهارمحال بختیاریایلامکهکیلویه و بویراحمدهمه‌ی دسته‌بندی‌هانگهبانفروش و بازاریابیوب،‌ برنامه‌نویسی و نرم‌افزارمالی و حسابداریمسئول دفتر، اجرائی و اداریتولید و مدیریت محتوادیجیتال مارکتینگپشتیبانی و امور مشتریانطراحیIT / DevOps / Serverمهندسی\n",
      "\n"
     ]
    },
    {
     "name": "stderr",
     "output_type": "stream",
     "text": [
      "C:\\Users\\negin\\anaconda3\\Lib\\site-packages\\urllib3\\connectionpool.py:1099: InsecureRequestWarning: Unverified HTTPS request is being made to host 'jobinja.ir'. Adding certificate verification is strongly advised. See: https://urllib3.readthedocs.io/en/latest/advanced-usage.html#tls-warnings\n",
      "  warnings.warn(\n",
      "C:\\Users\\negin\\anaconda3\\Lib\\site-packages\\urllib3\\connectionpool.py:1099: InsecureRequestWarning: Unverified HTTPS request is being made to host 'jobinja.ir'. Adding certificate verification is strongly advised. See: https://urllib3.readthedocs.io/en/latest/advanced-usage.html#tls-warnings\n",
      "  warnings.warn(\n"
     ]
    },
    {
     "name": "stdout",
     "output_type": "stream",
     "text": [
      "URL: https://jobinja.ir/jobs?filters%5Bjob_categories%5D%5B%5D=%DA%A9%D8%A7%D8%B1%D8%B4%D9%86%D8%A7%D8%B3+%D8%AD%D9%82%D9%88%D9%82%DB%8C%D8%8C%E2%80%8C+%D9%88%DA%A9%D8%A7%D9%84%D8%AA\n",
      "Content Snippet: استخدام وکیل | استخدام مشاور حقوقی | استخدام کارشناس حقوقی\n",
      " | جابینجاامکان جدید:همین حالا رزومه خود را در کمتر از ۱۰ دقیقه بسازید،برو به رزومه‌سازJobinja | جابینجا | استخدام، آگهی استخدام، کاریابی، استخدامی جدید، بازار کار، نیازمندیها، ساخت رزومه رایگان، کار و استخدام دولتی، اشتغال، جستجوگر حرفه ای استخدام و شغلخانهجستجوی مشاغلرزومه‌ساز۵۰ شرکت برتربخش کارفرمایانورود کارجوثبت‌نام کارجوورود کارجوثبت‌نام کارجو۱جابینجا چطور به استخدام شدن من کمک می‌کند؟مشاهدهمشاهده بیشترجستجودرخواست‌های مننشان‌شده‌هاآگهی‌های پیشنهادیاز آگهی‌های جدید باخبر شوبهترین فرصت های شغلی در جابینجاهمه‌ی استان‌هاتهرانخراسان رضویاصفهانالبرزفارسقمآذربایجان شرقیمازندرانگیلانخوزستانکرمانیزدقزوینمرکزیهرمزگانگلستانزنجانآذربایجان غربیبوشهرسیستان و بلوچستانسمنانکرمانشاههمداناردبیللرستانکردستانخراسان شمالیخراسان جنوبیچهارمحال بختیاریایلامکهکیلویه و بویراحمدهمه‌ی دسته‌بندی‌هاکارشناس حقوقی،‌ وکالتفروش و بازاریابیوب،‌ برنامه‌نویسی و نرم‌افزارمالی و حسابداریمسئول دفتر، اجرائی و اداریتولید و مدیریت محتوادیجیتال مارکتینگپشتیبانی و \n",
      "\n"
     ]
    },
    {
     "name": "stderr",
     "output_type": "stream",
     "text": [
      "C:\\Users\\negin\\anaconda3\\Lib\\site-packages\\urllib3\\connectionpool.py:1099: InsecureRequestWarning: Unverified HTTPS request is being made to host 'jobinja.ir'. Adding certificate verification is strongly advised. See: https://urllib3.readthedocs.io/en/latest/advanced-usage.html#tls-warnings\n",
      "  warnings.warn(\n",
      "C:\\Users\\negin\\anaconda3\\Lib\\site-packages\\urllib3\\connectionpool.py:1099: InsecureRequestWarning: Unverified HTTPS request is being made to host 'jobinja.ir'. Adding certificate verification is strongly advised. See: https://urllib3.readthedocs.io/en/latest/advanced-usage.html#tls-warnings\n",
      "  warnings.warn(\n"
     ]
    },
    {
     "name": "stdout",
     "output_type": "stream",
     "text": [
      "URL: https://jobinja.ir/jobs?filters%5Blocations%5D%5B%5D=%DA%AF%DB%8C%D9%84%D8%A7%D9%86\n",
      "Content Snippet: آگهی استخدام گیلان | استخدام گیلان | کاریابی گیلان\n",
      " | جابینجاامکان جدید:همین حالا رزومه خود را در کمتر از ۱۰ دقیقه بسازید،برو به رزومه‌سازJobinja | جابینجا | استخدام، آگهی استخدام، کاریابی، استخدامی جدید، بازار کار، نیازمندیها، ساخت رزومه رایگان، کار و استخدام دولتی، اشتغال، جستجوگر حرفه ای استخدام و شغلخانهجستجوی مشاغلرزومه‌ساز۵۰ شرکت برتربخش کارفرمایانورود کارجوثبت‌نام کارجوورود کارجوثبت‌نام کارجو۱جابینجا چطور به استخدام شدن من کمک می‌کند؟مشاهدهمشاهده بیشترجستجودرخواست‌های مننشان‌شده‌هاآگهی‌های پیشنهادیاز آگهی‌های جدید باخبر شوبهترین فرصت های شغلی در جابینجاهمه‌ی استان‌هاگیلانتهرانخراسان رضویاصفهانالبرزفارسقمآذربایجان شرقیمازندرانخوزستانکرمانیزدقزوینمرکزیهرمزگانگلستانزنجانآذربایجان غربیبوشهرسیستان و بلوچستانسمنانکرمانشاههمداناردبیللرستانکردستانخراسان شمالیخراسان جنوبیچهارمحال بختیاریایلامکهکیلویه و بویراحمدهمه‌ی دسته‌بندی‌هافروش و بازاریابیوب،‌ برنامه‌نویسی و نرم‌افزارمالی و حسابداریمسئول دفتر، اجرائی و اداریتولید و مدیریت محتوادیجیتال مارکتینگپشتیبانی و امور مشتریانطراحیIT / DevOps \n",
      "\n"
     ]
    },
    {
     "name": "stderr",
     "output_type": "stream",
     "text": [
      "C:\\Users\\negin\\anaconda3\\Lib\\site-packages\\urllib3\\connectionpool.py:1099: InsecureRequestWarning: Unverified HTTPS request is being made to host 'jobinja.ir'. Adding certificate verification is strongly advised. See: https://urllib3.readthedocs.io/en/latest/advanced-usage.html#tls-warnings\n",
      "  warnings.warn(\n",
      "C:\\Users\\negin\\anaconda3\\Lib\\site-packages\\urllib3\\connectionpool.py:1099: InsecureRequestWarning: Unverified HTTPS request is being made to host 'jobinja.ir'. Adding certificate verification is strongly advised. See: https://urllib3.readthedocs.io/en/latest/advanced-usage.html#tls-warnings\n",
      "  warnings.warn(\n"
     ]
    },
    {
     "name": "stdout",
     "output_type": "stream",
     "text": [
      "URL: https://jobinja.ir/jobs?filters%5Bjob_categories%5D%5B%5D=%D8%B9%D9%84%D9%88%D9%85+%D8%B2%DB%8C%D8%B3%D8%AA%DB%8C+%D9%88+%D8%A2%D8%B2%D9%85%D8%A7%DB%8C%D8%B4%DA%AF%D8%A7%D9%87%DB%8C\n",
      "Content Snippet: استخدام میکروبیولوژیست | استخدام علوم آزمایشگاهی | استخدام بیوتکنولوژی\n",
      " | جابینجاامکان جدید:همین حالا رزومه خود را در کمتر از ۱۰ دقیقه بسازید،برو به رزومه‌سازJobinja | جابینجا | استخدام، آگهی استخدام، کاریابی، استخدامی جدید، بازار کار، نیازمندیها، ساخت رزومه رایگان، کار و استخدام دولتی، اشتغال، جستجوگر حرفه ای استخدام و شغلخانهجستجوی مشاغلرزومه‌ساز۵۰ شرکت برتربخش کارفرمایانورود کارجوثبت‌نام کارجوورود کارجوثبت‌نام کارجو۱جابینجا چطور به استخدام شدن من کمک می‌کند؟مشاهدهمشاهده بیشترجستجودرخواست‌های مننشان‌شده‌هاآگهی‌های پیشنهادیاز آگهی‌های جدید باخبر شوبهترین فرصت های شغلی در جابینجاهمه‌ی استان‌هاتهرانخراسان رضویاصفهانالبرزفارسقمآذربایجان شرقیمازندرانگیلانخوزستانکرمانیزدقزوینمرکزیهرمزگانگلستانزنجانآذربایجان غربیبوشهرسیستان و بلوچستانسمنانکرمانشاههمداناردبیللرستانکردستانخراسان شمالیخراسان جنوبیچهارمحال بختیاریایلامکهکیلویه و بویراحمدهمه‌ی دسته‌بندی‌هاعلوم زیستی و آزمایشگاهیفروش و بازاریابیوب،‌ برنامه‌نویسی و نرم‌افزارمالی و حسابداریمسئول دفتر، اجرائی و اداریتولید و مدیریت محتوادیجیتال مارکت\n",
      "\n"
     ]
    },
    {
     "name": "stderr",
     "output_type": "stream",
     "text": [
      "C:\\Users\\negin\\anaconda3\\Lib\\site-packages\\urllib3\\connectionpool.py:1099: InsecureRequestWarning: Unverified HTTPS request is being made to host 'jobinja.ir'. Adding certificate verification is strongly advised. See: https://urllib3.readthedocs.io/en/latest/advanced-usage.html#tls-warnings\n",
      "  warnings.warn(\n"
     ]
    },
    {
     "name": "stdout",
     "output_type": "stream",
     "text": [
      "URL: https://jobinja.ir/jobs?filters%5Bkeywords%5D%5B0%5D=python\n",
      "Content Snippet: فرصت های شغلی python\n",
      " | جابینجاامکان جدید:همین حالا رزومه خود را در کمتر از ۱۰ دقیقه بسازید،برو به رزومه‌سازJobinja | جابینجا | استخدام، آگهی استخدام، کاریابی، استخدامی جدید، بازار کار، نیازمندیها، ساخت رزومه رایگان، کار و استخدام دولتی، اشتغال، جستجوگر حرفه ای استخدام و شغلخانهجستجوی مشاغلرزومه‌ساز۵۰ شرکت برتربخش کارفرمایانورود کارجوثبت‌نام کارجوورود کارجوثبت‌نام کارجو۱جابینجا چطور به استخدام شدن من کمک می‌کند؟مشاهدهمشاهده بیشترجستجودرخواست‌های مننشان‌شده‌هاآگهی‌های پیشنهادیاز آگهی‌های جدید باخبر شوبهترین فرصت های شغلی در جابینجاهمه‌ی استان‌هاتهرانخراسان رضویاصفهانالبرزفارسقمآذربایجان شرقیمازندرانگیلانخوزستانکرمانیزدقزوینمرکزیهرمزگانگلستانزنجانآذربایجان غربیبوشهرسیستان و بلوچستانسمنانکرمانشاههمداناردبیللرستانکردستانخراسان شمالیخراسان جنوبیچهارمحال بختیاریایلامکهکیلویه و بویراحمدهمه‌ی دسته‌بندی‌هافروش و بازاریابیوب،‌ برنامه‌نویسی و نرم‌افزارمالی و حسابداریمسئول دفتر، اجرائی و اداریتولید و مدیریت محتوادیجیتال مارکتینگپشتیبانی و امور مشتریانطراحیIT / DevOps / Serverمهندسی صنایع و مدیریت \n",
      "\n"
     ]
    },
    {
     "name": "stderr",
     "output_type": "stream",
     "text": [
      "C:\\Users\\negin\\anaconda3\\Lib\\site-packages\\urllib3\\connectionpool.py:1099: InsecureRequestWarning: Unverified HTTPS request is being made to host 'jobinja.ir'. Adding certificate verification is strongly advised. See: https://urllib3.readthedocs.io/en/latest/advanced-usage.html#tls-warnings\n",
      "  warnings.warn(\n",
      "C:\\Users\\negin\\anaconda3\\Lib\\site-packages\\urllib3\\connectionpool.py:1099: InsecureRequestWarning: Unverified HTTPS request is being made to host 'jobinja.ir'. Adding certificate verification is strongly advised. See: https://urllib3.readthedocs.io/en/latest/advanced-usage.html#tls-warnings\n",
      "  warnings.warn(\n"
     ]
    },
    {
     "name": "stdout",
     "output_type": "stream",
     "text": [
      "URL: https://jobinja.ir/jobs?filters%5Bjob_categories%5D%5B%5D=%D9%87%D8%AA%D9%84%D8%AF%D8%A7%D8%B1%DB%8C\n",
      "Content Snippet: استخدام کارشناس هتلداری | آگهی استخدام هتلداری\n",
      " | جابینجاامکان جدید:همین حالا رزومه خود را در کمتر از ۱۰ دقیقه بسازید،برو به رزومه‌سازJobinja | جابینجا | استخدام، آگهی استخدام، کاریابی، استخدامی جدید، بازار کار، نیازمندیها، ساخت رزومه رایگان، کار و استخدام دولتی، اشتغال، جستجوگر حرفه ای استخدام و شغلخانهجستجوی مشاغلرزومه‌ساز۵۰ شرکت برتربخش کارفرمایانورود کارجوثبت‌نام کارجوورود کارجوثبت‌نام کارجو۱جابینجا چطور به استخدام شدن من کمک می‌کند؟مشاهدهمشاهده بیشترجستجودرخواست‌های مننشان‌شده‌هاآگهی‌های پیشنهادیاز آگهی‌های جدید باخبر شوبهترین فرصت های شغلی در جابینجاهمه‌ی استان‌هاتهرانخراسان رضویاصفهانالبرزفارسقمآذربایجان شرقیمازندرانگیلانخوزستانکرمانیزدقزوینمرکزیهرمزگانگلستانزنجانآذربایجان غربیبوشهرسیستان و بلوچستانسمنانکرمانشاههمداناردبیللرستانکردستانخراسان شمالیخراسان جنوبیچهارمحال بختیاریایلامکهکیلویه و بویراحمدهمه‌ی دسته‌بندی‌هاهتلداریفروش و بازاریابیوب،‌ برنامه‌نویسی و نرم‌افزارمالی و حسابداریمسئول دفتر، اجرائی و اداریتولید و مدیریت محتوادیجیتال مارکتینگپشتیبانی و امور مشتریانطراحیIT / DevO\n",
      "\n"
     ]
    },
    {
     "name": "stderr",
     "output_type": "stream",
     "text": [
      "C:\\Users\\negin\\anaconda3\\Lib\\site-packages\\urllib3\\connectionpool.py:1099: InsecureRequestWarning: Unverified HTTPS request is being made to host 'jobinja.ir'. Adding certificate verification is strongly advised. See: https://urllib3.readthedocs.io/en/latest/advanced-usage.html#tls-warnings\n",
      "  warnings.warn(\n"
     ]
    },
    {
     "name": "stdout",
     "output_type": "stream",
     "text": [
      "URL: https://jobinja.ir/jobs?filters%5Bkeywords%5D%5B0%5D=%D8%A7%D8%AF%DB%8C%D8%AA%D9%88%D8%B1\n",
      "Content Snippet: فرصت های شغلی ادیتور\n",
      " | جابینجاامکان جدید:همین حالا رزومه خود را در کمتر از ۱۰ دقیقه بسازید،برو به رزومه‌سازJobinja | جابینجا | استخدام، آگهی استخدام، کاریابی، استخدامی جدید، بازار کار، نیازمندیها، ساخت رزومه رایگان، کار و استخدام دولتی، اشتغال، جستجوگر حرفه ای استخدام و شغلخانهجستجوی مشاغلرزومه‌ساز۵۰ شرکت برتربخش کارفرمایانورود کارجوثبت‌نام کارجوورود کارجوثبت‌نام کارجو۱جابینجا چطور به استخدام شدن من کمک می‌کند؟مشاهدهمشاهده بیشترجستجودرخواست‌های مننشان‌شده‌هاآگهی‌های پیشنهادیاز آگهی‌های جدید باخبر شوبهترین فرصت های شغلی در جابینجاهمه‌ی استان‌هاتهرانخراسان رضویاصفهانالبرزفارسقمآذربایجان شرقیمازندرانگیلانخوزستانکرمانیزدقزوینمرکزیهرمزگانگلستانزنجانآذربایجان غربیبوشهرسیستان و بلوچستانسمنانکرمانشاههمداناردبیللرستانکردستانخراسان شمالیخراسان جنوبیچهارمحال بختیاریایلامکهکیلویه و بویراحمدهمه‌ی دسته‌بندی‌هافروش و بازاریابیوب،‌ برنامه‌نویسی و نرم‌افزارمالی و حسابداریمسئول دفتر، اجرائی و اداریتولید و مدیریت محتوادیجیتال مارکتینگپشتیبانی و امور مشتریانطراحیIT / DevOps / Serverمهندسی صنایع و مدیریت \n",
      "\n"
     ]
    },
    {
     "name": "stderr",
     "output_type": "stream",
     "text": [
      "C:\\Users\\negin\\anaconda3\\Lib\\site-packages\\urllib3\\connectionpool.py:1099: InsecureRequestWarning: Unverified HTTPS request is being made to host 'jobinja.ir'. Adding certificate verification is strongly advised. See: https://urllib3.readthedocs.io/en/latest/advanced-usage.html#tls-warnings\n",
      "  warnings.warn(\n"
     ]
    },
    {
     "name": "stdout",
     "output_type": "stream",
     "text": [
      "URL: https://jobinja.ir/jobs?filters%5Bkeywords%5D%5B0%5D=%D9%87%D9%88%D8%B4+%D9%85%D8%B5%D9%86%D9%88%D8%B9%DB%8C\n",
      "Content Snippet: فرصت های شغلی هوش مصنوعی\n",
      " | جابینجاامکان جدید:همین حالا رزومه خود را در کمتر از ۱۰ دقیقه بسازید،برو به رزومه‌سازJobinja | جابینجا | استخدام، آگهی استخدام، کاریابی، استخدامی جدید، بازار کار، نیازمندیها، ساخت رزومه رایگان، کار و استخدام دولتی، اشتغال، جستجوگر حرفه ای استخدام و شغلخانهجستجوی مشاغلرزومه‌ساز۵۰ شرکت برتربخش کارفرمایانورود کارجوثبت‌نام کارجوورود کارجوثبت‌نام کارجو۱جابینجا چطور به استخدام شدن من کمک می‌کند؟مشاهدهمشاهده بیشترجستجودرخواست‌های مننشان‌شده‌هاآگهی‌های پیشنهادیاز آگهی‌های جدید باخبر شوبهترین فرصت های شغلی در جابینجاهمه‌ی استان‌هاتهرانخراسان رضویاصفهانالبرزفارسقمآذربایجان شرقیمازندرانگیلانخوزستانکرمانیزدقزوینمرکزیهرمزگانگلستانزنجانآذربایجان غربیبوشهرسیستان و بلوچستانسمنانکرمانشاههمداناردبیللرستانکردستانخراسان شمالیخراسان جنوبیچهارمحال بختیاریایلامکهکیلویه و بویراحمدهمه‌ی دسته‌بندی‌هافروش و بازاریابیوب،‌ برنامه‌نویسی و نرم‌افزارمالی و حسابداریمسئول دفتر، اجرائی و اداریتولید و مدیریت محتوادیجیتال مارکتینگپشتیبانی و امور مشتریانطراحیIT / DevOps / Serverمهندسی صنایع و مدی\n",
      "\n"
     ]
    },
    {
     "name": "stderr",
     "output_type": "stream",
     "text": [
      "C:\\Users\\negin\\anaconda3\\Lib\\site-packages\\urllib3\\connectionpool.py:1099: InsecureRequestWarning: Unverified HTTPS request is being made to host 'jobinja.ir'. Adding certificate verification is strongly advised. See: https://urllib3.readthedocs.io/en/latest/advanced-usage.html#tls-warnings\n",
      "  warnings.warn(\n",
      "C:\\Users\\negin\\anaconda3\\Lib\\site-packages\\urllib3\\connectionpool.py:1099: InsecureRequestWarning: Unverified HTTPS request is being made to host 'jobinja.ir'. Adding certificate verification is strongly advised. See: https://urllib3.readthedocs.io/en/latest/advanced-usage.html#tls-warnings\n",
      "  warnings.warn(\n"
     ]
    },
    {
     "name": "stdout",
     "output_type": "stream",
     "text": [
      "URL: https://jobinja.ir/jobs?filters%5Bjob_categories%5D%5B%5D=%DA%AF%D8%B1%D8%AF%D8%B4%DA%AF%D8%B1%DB%8C\n",
      "Content Snippet: کارشناس امور مهاجرت | استخدام کارمند آژانس مسافرتی | کارشناس امور ویزا | جابینجا\n",
      " | جابینجاامکان جدید:همین حالا رزومه خود را در کمتر از ۱۰ دقیقه بسازید،برو به رزومه‌سازJobinja | جابینجا | استخدام، آگهی استخدام، کاریابی، استخدامی جدید، بازار کار، نیازمندیها، ساخت رزومه رایگان، کار و استخدام دولتی، اشتغال، جستجوگر حرفه ای استخدام و شغلخانهجستجوی مشاغلرزومه‌ساز۵۰ شرکت برتربخش کارفرمایانورود کارجوثبت‌نام کارجوورود کارجوثبت‌نام کارجو۱جابینجا چطور به استخدام شدن من کمک می‌کند؟مشاهدهمشاهده بیشترجستجودرخواست‌های مننشان‌شده‌هاآگهی‌های پیشنهادیاز آگهی‌های جدید باخبر شوبهترین فرصت های شغلی در جابینجاهمه‌ی استان‌هاتهرانخراسان رضویاصفهانالبرزفارسقمآذربایجان شرقیمازندرانگیلانخوزستانکرمانیزدقزوینمرکزیهرمزگانگلستانزنجانآذربایجان غربیبوشهرسیستان و بلوچستانسمنانکرمانشاههمداناردبیللرستانکردستانخراسان شمالیخراسان جنوبیچهارمحال بختیاریایلامکهکیلویه و بویراحمدهمه‌ی دسته‌بندی‌هاگردشگریفروش و بازاریابیوب،‌ برنامه‌نویسی و نرم‌افزارمالی و حسابداریمسئول دفتر، اجرائی و اداریتولید و مدیریت محتوادیجیتال مارکتینگپشت\n",
      "\n"
     ]
    },
    {
     "name": "stderr",
     "output_type": "stream",
     "text": [
      "C:\\Users\\negin\\anaconda3\\Lib\\site-packages\\urllib3\\connectionpool.py:1099: InsecureRequestWarning: Unverified HTTPS request is being made to host 'jobinja.ir'. Adding certificate verification is strongly advised. See: https://urllib3.readthedocs.io/en/latest/advanced-usage.html#tls-warnings\n",
      "  warnings.warn(\n"
     ]
    },
    {
     "name": "stdout",
     "output_type": "stream",
     "text": [
      "URL: https://jobinja.ir/companies/ghadir-design--processing-co/jobs/A7bC/%D8%A7%D8%B3%D8%AA%D8%AE%D8%AF%D8%A7%D9%85-%D8%A8%D8%B1%D9%86%D8%A7%D9%85%D9%87-%D9%86%D9%88%DB%8C%D8%B3-asp-net-core-%D8%AF%D8%B1-%D8%B7%D8%B1%D8%AD-%D9%88-%D9%BE%D8%B1%D8%AF%D8%A7%D8%B2%D8%B4-%D8%BA%D8%AF%DB%8C%D8%B1?_ref=18\n",
      "Content Snippet: استخدام برنامه‌نویس Asp.net Core در طرح و پردازش غدیر | جابینجاامکان جدید:همین حالا رزومه خود را در کمتر از ۱۰ دقیقه بسازید،برو به رزومه‌سازJobinja | جابینجا | استخدام، آگهی استخدام، کاریابی، استخدامی جدید، بازار کار، نیازمندیها، ساخت رزومه رایگان، کار و استخدام دولتی، اشتغال، جستجوگر حرفه ای استخدام و شغلخانهجستجوی مشاغلرزومه‌ساز۵۰ شرکت برتربخش کارفرمایانورود کارجوثبت‌نام کارجوورود کارجوثبت‌نام کارجو۱جابینجا چطور به استخدام شدن من کمک می‌کند؟مشاهدهمشاهده بیشترطرح و پردازش غدیر|Ghadir Design & Processing Coکامپیوتر، فناوری اطلاعات و اینترنت۵۱ تا ۲۰۰ نفرwww.Ghadir.coفرصت‌های شغلی۹استخدام برنامه‌نویس Asp.net Coreلطفا برای مشاهده‌ی جزییات و ارسال رزومهیکی از راه‌های زیر را انتخاب کنیدورود / ثبت‌نام با ایمیلimage/svg+xmlbtn_google_light_normal_iosbtn_google_light_normal_iosCreated with Sketch.ورود / ثبت‌نام با گوگل\n",
      "                    (Gmail)ورود / ثبت‌نام با لینکدیناستخدام برنامه‌نویس Asp.net Core{{ tooltipText }}{{ hoverTitle }}نشان کردنحذف نشاندسته‌بندی شغلیوب،‌ برنامه‌نویسی و نرم‌افزار\n",
      "\n"
     ]
    },
    {
     "name": "stderr",
     "output_type": "stream",
     "text": [
      "C:\\Users\\negin\\anaconda3\\Lib\\site-packages\\urllib3\\connectionpool.py:1099: InsecureRequestWarning: Unverified HTTPS request is being made to host 'jobinja.ir'. Adding certificate verification is strongly advised. See: https://urllib3.readthedocs.io/en/latest/advanced-usage.html#tls-warnings\n",
      "  warnings.warn(\n"
     ]
    },
    {
     "name": "stdout",
     "output_type": "stream",
     "text": [
      "URL: https://jobinja.ir/companies/hamrah-mechanic\n",
      "Content Snippet: استخدام در شرکت همراه مکانیک، آگهی های استخدام Hamrah Mechanic | جابینجاامکان جدید:همین حالا رزومه خود را در کمتر از ۱۰ دقیقه بسازید،برو به رزومه‌سازJobinja | جابینجا | استخدام، آگهی استخدام، کاریابی، استخدامی جدید، بازار کار، نیازمندیها، ساخت رزومه رایگان، کار و استخدام دولتی، اشتغال، جستجوگر حرفه ای استخدام و شغلخانهجستجوی مشاغلرزومه‌ساز۵۰ شرکت برتربخش کارفرمایانورود کارجوثبت‌نام کارجوورود کارجوثبت‌نام کارجو۱جابینجا چطور به استخدام شدن من کمک می‌کند؟مشاهدهمشاهده بیشترهمراه مکانیک|Hamrah Mechanicتاسیس در  ۱۳۹۲خودروسازی۵۱ تا ۲۰۰ نفرwww.hamrah-mechanic.comدر یک نگاهمعرفیفرصت‌های شغلی۱۶همراه‌مکانیک در سال 1392 با ایده خدمت‌رسانی در حوزه خرید، فروش و قیمت‌گذاری خودرو و با شعار «مطمئن بخرید، آسان بفروشید» فعالیت خود را آغاز کرد.موقعیت مکانیتهران، تهراناعضای شرکتسجاد باقریمدیرعاملما در همراه مکانیک داریم محیطی برای یک زندگی حرفه‌ای و متعهدانه می‌سازیم. یعنی تو متعهد به اثر و نتیجه‌ی خودت می‌شی، نه انجام وظایف.زهرا باقریمدیر بازاریابیما توی همراه مکانیک یه خانواده‌ی هدفمندیم. یه تیم پرانگیزه\n",
      "\n"
     ]
    },
    {
     "name": "stderr",
     "output_type": "stream",
     "text": [
      "C:\\Users\\negin\\anaconda3\\Lib\\site-packages\\urllib3\\connectionpool.py:1099: InsecureRequestWarning: Unverified HTTPS request is being made to host 'jobinja.ir'. Adding certificate verification is strongly advised. See: https://urllib3.readthedocs.io/en/latest/advanced-usage.html#tls-warnings\n",
      "  warnings.warn(\n",
      "C:\\Users\\negin\\anaconda3\\Lib\\site-packages\\urllib3\\connectionpool.py:1099: InsecureRequestWarning: Unverified HTTPS request is being made to host 'jobinja.ir'. Adding certificate verification is strongly advised. See: https://urllib3.readthedocs.io/en/latest/advanced-usage.html#tls-warnings\n",
      "  warnings.warn(\n"
     ]
    },
    {
     "name": "stdout",
     "output_type": "stream",
     "text": [
      "URL: https://jobinja.ir/jobs?filters%5Bjob_categories%5D%5B%5D=%D9%85%D9%87%D9%86%D8%AF%D8%B3%DB%8C+%D9%BE%D8%B2%D8%B4%DA%A9%DB%8C\n",
      "Content Snippet: استخدام مهندسی پزشکی | استخدام کارشناس مهندسی پزشکی\n",
      " | جابینجاامکان جدید:همین حالا رزومه خود را در کمتر از ۱۰ دقیقه بسازید،برو به رزومه‌سازJobinja | جابینجا | استخدام، آگهی استخدام، کاریابی، استخدامی جدید، بازار کار، نیازمندیها، ساخت رزومه رایگان، کار و استخدام دولتی، اشتغال، جستجوگر حرفه ای استخدام و شغلخانهجستجوی مشاغلرزومه‌ساز۵۰ شرکت برتربخش کارفرمایانورود کارجوثبت‌نام کارجوورود کارجوثبت‌نام کارجو۱جابینجا چطور به استخدام شدن من کمک می‌کند؟مشاهدهمشاهده بیشترجستجودرخواست‌های مننشان‌شده‌هاآگهی‌های پیشنهادیاز آگهی‌های جدید باخبر شوبهترین فرصت های شغلی در جابینجاهمه‌ی استان‌هاتهرانخراسان رضویاصفهانالبرزفارسقمآذربایجان شرقیمازندرانگیلانخوزستانکرمانیزدقزوینمرکزیهرمزگانگلستانزنجانآذربایجان غربیبوشهرسیستان و بلوچستانسمنانکرمانشاههمداناردبیللرستانکردستانخراسان شمالیخراسان جنوبیچهارمحال بختیاریایلامکهکیلویه و بویراحمدهمه‌ی دسته‌بندی‌هامهندسی پزشکیفروش و بازاریابیوب،‌ برنامه‌نویسی و نرم‌افزارمالی و حسابداریمسئول دفتر، اجرائی و اداریتولید و مدیریت محتوادیجیتال مارکتینگپشتیبانی و امور مشتریانطراح\n",
      "\n"
     ]
    },
    {
     "name": "stderr",
     "output_type": "stream",
     "text": [
      "C:\\Users\\negin\\anaconda3\\Lib\\site-packages\\urllib3\\connectionpool.py:1099: InsecureRequestWarning: Unverified HTTPS request is being made to host 'jobinja.ir'. Adding certificate verification is strongly advised. See: https://urllib3.readthedocs.io/en/latest/advanced-usage.html#tls-warnings\n",
      "  warnings.warn(\n"
     ]
    },
    {
     "name": "stdout",
     "output_type": "stream",
     "text": [
      "URL: https://jobinja.ir/jobs?filters%5Bkeywords%5D%5B0%5D=%D9%BE%D8%B4%D8%AA%DB%8C%D8%A8%D8%A7%D9%86%DB%8C\n",
      "Content Snippet: فرصت های شغلی پشتیبانی\n",
      " | جابینجاامکان جدید:همین حالا رزومه خود را در کمتر از ۱۰ دقیقه بسازید،برو به رزومه‌سازJobinja | جابینجا | استخدام، آگهی استخدام، کاریابی، استخدامی جدید، بازار کار، نیازمندیها، ساخت رزومه رایگان، کار و استخدام دولتی، اشتغال، جستجوگر حرفه ای استخدام و شغلخانهجستجوی مشاغلرزومه‌ساز۵۰ شرکت برتربخش کارفرمایانورود کارجوثبت‌نام کارجوورود کارجوثبت‌نام کارجو۱جابینجا چطور به استخدام شدن من کمک می‌کند؟مشاهدهمشاهده بیشترجستجودرخواست‌های مننشان‌شده‌هاآگهی‌های پیشنهادیاز آگهی‌های جدید باخبر شوبهترین فرصت های شغلی در جابینجاهمه‌ی استان‌هاتهرانخراسان رضویاصفهانالبرزفارسقمآذربایجان شرقیمازندرانگیلانخوزستانکرمانیزدقزوینمرکزیهرمزگانگلستانزنجانآذربایجان غربیبوشهرسیستان و بلوچستانسمنانکرمانشاههمداناردبیللرستانکردستانخراسان شمالیخراسان جنوبیچهارمحال بختیاریایلامکهکیلویه و بویراحمدهمه‌ی دسته‌بندی‌هافروش و بازاریابیوب،‌ برنامه‌نویسی و نرم‌افزارمالی و حسابداریمسئول دفتر، اجرائی و اداریتولید و مدیریت محتوادیجیتال مارکتینگپشتیبانی و امور مشتریانطراحیIT / DevOps / Serverمهندسی صنایع و مدیری\n",
      "\n"
     ]
    },
    {
     "name": "stderr",
     "output_type": "stream",
     "text": [
      "C:\\Users\\negin\\anaconda3\\Lib\\site-packages\\urllib3\\connectionpool.py:1099: InsecureRequestWarning: Unverified HTTPS request is being made to host 'jobinja.ir'. Adding certificate verification is strongly advised. See: https://urllib3.readthedocs.io/en/latest/advanced-usage.html#tls-warnings\n",
      "  warnings.warn(\n"
     ]
    },
    {
     "name": "stdout",
     "output_type": "stream",
     "text": [
      "URL: https://jobinja.ir/knowledge/job-seeker-faq/pages/job-seeker-tos\n",
      "Content Snippet: قوانین و شرایط استفاده کارجویان | جابینجاامکان جدید:همین حالا رزومه خود را در کمتر از ۱۰ دقیقه بسازید،برو به رزومه‌سازJobinja | جابینجا | استخدام، آگهی استخدام، کاریابی، استخدامی جدید، بازار کار، نیازمندیها، ساخت رزومه رایگان، کار و استخدام دولتی، اشتغال، جستجوگر حرفه ای استخدام و شغلخانهجستجوی مشاغلرزومه‌ساز۵۰ شرکت برتربخش کارفرمایانورود کارجوثبت‌نام کارجوورود کارجوثبت‌نام کارجو۱جابینجا چطور به استخدام شدن من کمک می‌کند؟مشاهدهمشاهده بیشترسوالات متداول کارجویانقوانین و شرایط استفاده کارجویانقوانین و شرایط استفاده کارجویانقوانین و شرایط استفاده کاربران کارجوهرگونه استفاده از جابینجا به معنی پذیرفتن شرایط مندرج در این سایت است.جابینجا هیچ توافقی با کاربران خارج از این شرایط ندارد. شرایط زیر مربوط به کسانی است که به هر شکلی در جابینجا پروفایل دارند یا رزومه‌ی خود را در سایت جابینجا منتشر می‌کنند.موارد زیر منجر به عدم انتشار رزومه و پروفایل خواهد شد:مغایرت با قوانین جاری جمهوری اسلامی ایران و عرف جامعه، ناقض حریم شخصی افرادنقص در اطلاعات اولیه (مانند نام و نام خانوادگی، تخصص، شماره تلفن یا\n",
      "\n"
     ]
    },
    {
     "name": "stderr",
     "output_type": "stream",
     "text": [
      "C:\\Users\\negin\\anaconda3\\Lib\\site-packages\\urllib3\\connectionpool.py:1099: InsecureRequestWarning: Unverified HTTPS request is being made to host 'jobinja.ir'. Adding certificate verification is strongly advised. See: https://urllib3.readthedocs.io/en/latest/advanced-usage.html#tls-warnings\n",
      "  warnings.warn(\n"
     ]
    },
    {
     "name": "stdout",
     "output_type": "stream",
     "text": [
      "URL: https://jobinja.ir/%D8%B1%D8%B2%D9%88%D9%85%D9%87-%D8%B3%D8%A7%D8%B2-%D8%A2%D9%86%D9%84%D8%A7%DB%8C%D9%86\n",
      "Content Snippet: رزومه ساز | ساخت رزومه | رزومه ساز آنلاین | جابینجاJobinja | جابینجا | استخدام، آگهی استخدام، کاریابی، استخدامی جدید، بازار کار، نیازمندیها، ساخت رزومه رایگان، کار و استخدام دولتی، اشتغال، جستجوگر حرفه ای استخدام و شغلخانهجستجوی مشاغلرزومه‌ساز۵۰ شرکت برتربخش کارفرمایانورود کارجوثبت‌نام کارجوورود کارجوثبت‌نام کارجو۱جابینجا چطور به استخدام شدن من کمک می‌کند؟مشاهدهمشاهده بیشتربا رزومه ساز رایگان جابینجا،رزومهکاری حرفه ای بسازید!در کمتر از ۱۰ دقیقه یک رزومه‌ی کامل و استاندارد داشته باشیدبرای شروع ایمیل و رمز عبور خود را انتخاب کنیدشروع ساخت رزومهحساب کاربری دارید؟وارد شویدویژگی‌های رزومه‌ساز جابینجابه‌روزرسانی همیشگیشما می‌توانید با یک بار ساختن رزومه در جابینجا آن را برای همیشه به‌روز کنیددر دید کارفرمایانبا داشتن این رزومه\n",
      "                            کارفرمایان شما را راحت‌تر و سریع‌تر پیدا می‌کنندبه اشتراک گذاری رزومهبعد از ساختن این رزومه\n",
      "                            می‌توانید آن را در شبکه‌های اجتماعی به اشتراک بگذاریدپرستو زورقیطراح گرافیکاستفاده از رزومه‌ساز جابینجا برای من تجربه خوب\n",
      "\n"
     ]
    },
    {
     "name": "stderr",
     "output_type": "stream",
     "text": [
      "C:\\Users\\negin\\anaconda3\\Lib\\site-packages\\urllib3\\connectionpool.py:1099: InsecureRequestWarning: Unverified HTTPS request is being made to host 'jobinja.ir'. Adding certificate verification is strongly advised. See: https://urllib3.readthedocs.io/en/latest/advanced-usage.html#tls-warnings\n",
      "  warnings.warn(\n"
     ]
    },
    {
     "name": "stdout",
     "output_type": "stream",
     "text": [
      "URL: https://jobinja.ir/jobs?filters%5Bkeywords%5D%5B0%5D=%DA%A9%D9%85%DA%A9+%D8%AD%D8%B3%D8%A7%D8%A8%D8%AF%D8%A7%D8%B1\n",
      "Content Snippet: فرصت های شغلی کمک حسابدار\n",
      " | جابینجاامکان جدید:همین حالا رزومه خود را در کمتر از ۱۰ دقیقه بسازید،برو به رزومه‌سازJobinja | جابینجا | استخدام، آگهی استخدام، کاریابی، استخدامی جدید، بازار کار، نیازمندیها، ساخت رزومه رایگان، کار و استخدام دولتی، اشتغال، جستجوگر حرفه ای استخدام و شغلخانهجستجوی مشاغلرزومه‌ساز۵۰ شرکت برتربخش کارفرمایانورود کارجوثبت‌نام کارجوورود کارجوثبت‌نام کارجو۱جابینجا چطور به استخدام شدن من کمک می‌کند؟مشاهدهمشاهده بیشترجستجودرخواست‌های مننشان‌شده‌هاآگهی‌های پیشنهادیاز آگهی‌های جدید باخبر شوبهترین فرصت های شغلی در جابینجاهمه‌ی استان‌هاتهرانخراسان رضویاصفهانالبرزفارسقمآذربایجان شرقیمازندرانگیلانخوزستانکرمانیزدقزوینمرکزیهرمزگانگلستانزنجانآذربایجان غربیبوشهرسیستان و بلوچستانسمنانکرمانشاههمداناردبیللرستانکردستانخراسان شمالیخراسان جنوبیچهارمحال بختیاریایلامکهکیلویه و بویراحمدهمه‌ی دسته‌بندی‌هافروش و بازاریابیوب،‌ برنامه‌نویسی و نرم‌افزارمالی و حسابداریمسئول دفتر، اجرائی و اداریتولید و مدیریت محتوادیجیتال مارکتینگپشتیبانی و امور مشتریانطراحیIT / DevOps / Serverمهندسی صنایع و مد\n",
      "\n"
     ]
    },
    {
     "name": "stderr",
     "output_type": "stream",
     "text": [
      "C:\\Users\\negin\\anaconda3\\Lib\\site-packages\\urllib3\\connectionpool.py:1099: InsecureRequestWarning: Unverified HTTPS request is being made to host 'jobinja.ir'. Adding certificate verification is strongly advised. See: https://urllib3.readthedocs.io/en/latest/advanced-usage.html#tls-warnings\n",
      "  warnings.warn(\n"
     ]
    },
    {
     "name": "stdout",
     "output_type": "stream",
     "text": [
      "URL: https://jobinja.ir/companies/kian-iranian-stdg\n",
      "Content Snippet: استخدام در شرکت پیام رسان آیگپ، آگهی های استخدام iGap Messenger | جابینجاامکان جدید:همین حالا رزومه خود را در کمتر از ۱۰ دقیقه بسازید،برو به رزومه‌سازJobinja | جابینجا | استخدام، آگهی استخدام، کاریابی، استخدامی جدید، بازار کار، نیازمندیها، ساخت رزومه رایگان، کار و استخدام دولتی، اشتغال، جستجوگر حرفه ای استخدام و شغلخانهجستجوی مشاغلرزومه‌ساز۵۰ شرکت برتربخش کارفرمایانورود کارجوثبت‌نام کارجوورود کارجوثبت‌نام کارجو۱جابینجا چطور به استخدام شدن من کمک می‌کند؟مشاهدهمشاهده بیشترپیام رسان آیگپ|iGap Messengerتاسیس در  ۱۳۹۷کامپیوتر، فناوری اطلاعات و اینترنت۵۱ تا ۲۰۰ نفرwww.igap.netدر یک نگاهمعرفیفرصت‌های شغلی۶آیگپ متعلق به گروه توسعه فناوری‌های هوشمند کیان ایرانیان می باشد.موقعیت مکانیتهران، تهراناعضای شرکتمحمد دهقانمعاونت پشتیبانیما در آیگپ در تلاش هستیم تا با ایجاد فضای دوستانه و صمیمی در کنار هم بهترین موقعیت شغلی را فراهم کنیم.فرید ایلخانیمدیر تجاریتجربه کار در کیان ایرانیان با رویکرد رشد نیروی انسانی همواره همراه است و همکاران، فارغ ازجایگاه در جهت پیشرفت و توسعه  گام برمی دارند.سعید مظفریمد\n",
      "\n"
     ]
    },
    {
     "name": "stderr",
     "output_type": "stream",
     "text": [
      "C:\\Users\\negin\\anaconda3\\Lib\\site-packages\\urllib3\\connectionpool.py:1099: InsecureRequestWarning: Unverified HTTPS request is being made to host 'jobinja.ir'. Adding certificate verification is strongly advised. See: https://urllib3.readthedocs.io/en/latest/advanced-usage.html#tls-warnings\n",
      "  warnings.warn(\n",
      "C:\\Users\\negin\\anaconda3\\Lib\\site-packages\\urllib3\\connectionpool.py:1099: InsecureRequestWarning: Unverified HTTPS request is being made to host 'jobinja.ir'. Adding certificate verification is strongly advised. See: https://urllib3.readthedocs.io/en/latest/advanced-usage.html#tls-warnings\n",
      "  warnings.warn(\n"
     ]
    },
    {
     "name": "stdout",
     "output_type": "stream",
     "text": [
      "URL: https://jobinja.ir/jobs?filters%5Bjob_categories%5D%5B%5D=HSE\n",
      "Content Snippet: استخدام HSE | استخدام ایمنی و بهداشت حرفه ای\n",
      " | جابینجاامکان جدید:همین حالا رزومه خود را در کمتر از ۱۰ دقیقه بسازید،برو به رزومه‌سازJobinja | جابینجا | استخدام، آگهی استخدام، کاریابی، استخدامی جدید، بازار کار، نیازمندیها، ساخت رزومه رایگان، کار و استخدام دولتی، اشتغال، جستجوگر حرفه ای استخدام و شغلخانهجستجوی مشاغلرزومه‌ساز۵۰ شرکت برتربخش کارفرمایانورود کارجوثبت‌نام کارجوورود کارجوثبت‌نام کارجو۱جابینجا چطور به استخدام شدن من کمک می‌کند؟مشاهدهمشاهده بیشترجستجودرخواست‌های مننشان‌شده‌هاآگهی‌های پیشنهادیاز آگهی‌های جدید باخبر شوبهترین فرصت های شغلی در جابینجاهمه‌ی استان‌هاتهرانخراسان رضویاصفهانالبرزفارسقمآذربایجان شرقیمازندرانگیلانخوزستانکرمانیزدقزوینمرکزیهرمزگانگلستانزنجانآذربایجان غربیبوشهرسیستان و بلوچستانسمنانکرمانشاههمداناردبیللرستانکردستانخراسان شمالیخراسان جنوبیچهارمحال بختیاریایلامکهکیلویه و بویراحمدهمه‌ی دسته‌بندی‌هاHSEفروش و بازاریابیوب،‌ برنامه‌نویسی و نرم‌افزارمالی و حسابداریمسئول دفتر، اجرائی و اداریتولید و مدیریت محتوادیجیتال مارکتینگپشتیبانی و امور مشتریانطراحیIT / DevOps / S\n",
      "\n"
     ]
    },
    {
     "name": "stderr",
     "output_type": "stream",
     "text": [
      "C:\\Users\\negin\\anaconda3\\Lib\\site-packages\\urllib3\\connectionpool.py:1099: InsecureRequestWarning: Unverified HTTPS request is being made to host 'jobinja.ir'. Adding certificate verification is strongly advised. See: https://urllib3.readthedocs.io/en/latest/advanced-usage.html#tls-warnings\n",
      "  warnings.warn(\n",
      "C:\\Users\\negin\\anaconda3\\Lib\\site-packages\\urllib3\\connectionpool.py:1099: InsecureRequestWarning: Unverified HTTPS request is being made to host 'jobinja.ir'. Adding certificate verification is strongly advised. See: https://urllib3.readthedocs.io/en/latest/advanced-usage.html#tls-warnings\n",
      "  warnings.warn(\n"
     ]
    },
    {
     "name": "stdout",
     "output_type": "stream",
     "text": [
      "URL: https://jobinja.ir/jobs?filters%5Bjob_categories%5D%5B%5D=%D8%B1%D8%A7%D9%86%D9%86%D8%AF%D9%87%D8%8C+%D9%BE%DB%8C%DA%A9+%D9%85%D9%88%D8%AA%D9%88%D8%B1%DB%8C\n",
      "Content Snippet: استخدام راننده | استخدام پیک موتوری | استخدام راننده مدیرعامل\n",
      " | جابینجاامکان جدید:همین حالا رزومه خود را در کمتر از ۱۰ دقیقه بسازید،برو به رزومه‌سازJobinja | جابینجا | استخدام، آگهی استخدام، کاریابی، استخدامی جدید، بازار کار، نیازمندیها، ساخت رزومه رایگان، کار و استخدام دولتی، اشتغال، جستجوگر حرفه ای استخدام و شغلخانهجستجوی مشاغلرزومه‌ساز۵۰ شرکت برتربخش کارفرمایانورود کارجوثبت‌نام کارجوورود کارجوثبت‌نام کارجو۱جابینجا چطور به استخدام شدن من کمک می‌کند؟مشاهدهمشاهده بیشترجستجودرخواست‌های مننشان‌شده‌هاآگهی‌های پیشنهادیاز آگهی‌های جدید باخبر شوبهترین فرصت های شغلی در جابینجاهمه‌ی استان‌هاتهرانخراسان رضویاصفهانالبرزفارسقمآذربایجان شرقیمازندرانگیلانخوزستانکرمانیزدقزوینمرکزیهرمزگانگلستانزنجانآذربایجان غربیبوشهرسیستان و بلوچستانسمنانکرمانشاههمداناردبیللرستانکردستانخراسان شمالیخراسان جنوبیچهارمحال بختیاریایلامکهکیلویه و بویراحمدهمه‌ی دسته‌بندی‌هاراننده، پیک موتوریفروش و بازاریابیوب،‌ برنامه‌نویسی و نرم‌افزارمالی و حسابداریمسئول دفتر، اجرائی و اداریتولید و مدیریت محتوادیجیتال مارکتینگپشتیبانی و \n",
      "\n"
     ]
    },
    {
     "name": "stderr",
     "output_type": "stream",
     "text": [
      "C:\\Users\\negin\\anaconda3\\Lib\\site-packages\\urllib3\\connectionpool.py:1099: InsecureRequestWarning: Unverified HTTPS request is being made to host 'jobinja.ir'. Adding certificate verification is strongly advised. See: https://urllib3.readthedocs.io/en/latest/advanced-usage.html#tls-warnings\n",
      "  warnings.warn(\n"
     ]
    },
    {
     "name": "stdout",
     "output_type": "stream",
     "text": [
      "URL: https://jobinja.ir/companies/pezeshk24/jobs\n",
      "Content Snippet: فرصت‌های شغلی فعال در پزشک24 | Pezeshk24 | جابینجاامکان جدید:همین حالا رزومه خود را در کمتر از ۱۰ دقیقه بسازید،برو به رزومه‌سازJobinja | جابینجا | استخدام، آگهی استخدام، کاریابی، استخدامی جدید، بازار کار، نیازمندیها، ساخت رزومه رایگان، کار و استخدام دولتی، اشتغال، جستجوگر حرفه ای استخدام و شغلخانهجستجوی مشاغلرزومه‌ساز۵۰ شرکت برتربخش کارفرمایانورود کارجوثبت‌نام کارجوورود کارجوثبت‌نام کارجو۱جابینجا چطور به استخدام شدن من کمک می‌کند؟مشاهدهمشاهده بیشترپزشک24|Pezeshk24تاسیس در  ۱۳۹۷خدمات درمانی، پزشکی و سلامت۱۱ تا ۵۰ نفرpezeshk24.com/در یک نگاهمعرفیفرصت‌های شغلی۲معرفی پزشک24سال 1397 پزشک 24 رو با هدف معرفی بهترین پزشکان زیبایی به زیباجویان شهرهای مختلف ایران راه اندازی کردیم. ما در پزشک 24 به زیباجویان کمک می‌کنیم تا بر اساس موقعیت مکانی، میزان بودجه و همچنین میزان رضایت مراجعین قبلی بهترین جراح زیبایی، کلینیک و یا دندانپزشک زیبایی رو پیدا کنن ؛اون هم بدون انتظار در صف‌های طولانی!تا امروز زیباجویان سرتاسر کشور چهل و پنج هزار ساعت مشاوره زیبایی با کارشناسان ما داشتن. پزشک 24 به بیش از هفت هز\n",
      "\n"
     ]
    },
    {
     "name": "stderr",
     "output_type": "stream",
     "text": [
      "C:\\Users\\negin\\anaconda3\\Lib\\site-packages\\urllib3\\connectionpool.py:1099: InsecureRequestWarning: Unverified HTTPS request is being made to host 'jobinja.ir'. Adding certificate verification is strongly advised. See: https://urllib3.readthedocs.io/en/latest/advanced-usage.html#tls-warnings\n",
      "  warnings.warn(\n"
     ]
    },
    {
     "name": "stdout",
     "output_type": "stream",
     "text": [
      "URL: https://jobinja.ir/jobs?filters%5Bkeywords%5D%5B0%5D=%D8%B7%D8%B1%D8%A7%D8%AD%DB%8C+%D8%B3%D8%A7%DB%8C%D8%AA\n",
      "Content Snippet: فرصت های شغلی طراحی سایت\n",
      " | جابینجاامکان جدید:همین حالا رزومه خود را در کمتر از ۱۰ دقیقه بسازید،برو به رزومه‌سازJobinja | جابینجا | استخدام، آگهی استخدام، کاریابی، استخدامی جدید، بازار کار، نیازمندیها، ساخت رزومه رایگان، کار و استخدام دولتی، اشتغال، جستجوگر حرفه ای استخدام و شغلخانهجستجوی مشاغلرزومه‌ساز۵۰ شرکت برتربخش کارفرمایانورود کارجوثبت‌نام کارجوورود کارجوثبت‌نام کارجو۱جابینجا چطور به استخدام شدن من کمک می‌کند؟مشاهدهمشاهده بیشترجستجودرخواست‌های مننشان‌شده‌هاآگهی‌های پیشنهادیاز آگهی‌های جدید باخبر شوبهترین فرصت های شغلی در جابینجاهمه‌ی استان‌هاتهرانخراسان رضویاصفهانالبرزفارسقمآذربایجان شرقیمازندرانگیلانخوزستانکرمانیزدقزوینمرکزیهرمزگانگلستانزنجانآذربایجان غربیبوشهرسیستان و بلوچستانسمنانکرمانشاههمداناردبیللرستانکردستانخراسان شمالیخراسان جنوبیچهارمحال بختیاریایلامکهکیلویه و بویراحمدهمه‌ی دسته‌بندی‌هافروش و بازاریابیوب،‌ برنامه‌نویسی و نرم‌افزارمالی و حسابداریمسئول دفتر، اجرائی و اداریتولید و مدیریت محتوادیجیتال مارکتینگپشتیبانی و امور مشتریانطراحیIT / DevOps / Serverمهندسی صنایع و مدی\n",
      "\n"
     ]
    },
    {
     "name": "stderr",
     "output_type": "stream",
     "text": [
      "C:\\Users\\negin\\anaconda3\\Lib\\site-packages\\urllib3\\connectionpool.py:1099: InsecureRequestWarning: Unverified HTTPS request is being made to host 'jobinja.ir'. Adding certificate verification is strongly advised. See: https://urllib3.readthedocs.io/en/latest/advanced-usage.html#tls-warnings\n",
      "  warnings.warn(\n",
      "C:\\Users\\negin\\anaconda3\\Lib\\site-packages\\urllib3\\connectionpool.py:1099: InsecureRequestWarning: Unverified HTTPS request is being made to host 'jobinja.ir'. Adding certificate verification is strongly advised. See: https://urllib3.readthedocs.io/en/latest/advanced-usage.html#tls-warnings\n",
      "  warnings.warn(\n"
     ]
    },
    {
     "name": "stdout",
     "output_type": "stream",
     "text": [
      "URL: https://jobinja.ir/%D8%B3%D9%88%D8%A7%D9%84%D8%A7%D8%AA-%D9%85%D8%AA%D8%AF%D8%A7%D9%88%D9%84-%D8%AF%D8%B1%D8%AC-%D8%A2%DA%AF%D9%87%DB%8C-%D8%A7%D8%B3%D8%AA%D8%AE%D8%AF%D8%A7%D9%85\n",
      "Content Snippet: سوالات متداول کارفرمایان | جابینجاامکان جدید:همین حالا رزومه خود را در کمتر از ۱۰ دقیقه بسازید،برو به رزومه‌سازJobinja | جابینجا | استخدام، آگهی استخدام، کاریابی، استخدامی جدید، بازار کار، نیازمندیها، ساخت رزومه رایگان، کار و استخدام دولتی، اشتغال، جستجوگر حرفه ای استخدام و شغلخانهجستجوی مشاغلرزومه‌ساز۵۰ شرکت برتربخش کارفرمایانورود کارجوثبت‌نام کارجوورود کارجوثبت‌نام کارجو۱جابینجا چطور به استخدام شدن من کمک می‌کند؟مشاهدهمشاهده بیشترسوالات متداول کارفرمایانسوالات متداول حساب کاربری کارفرمایانثبت‌نام و ور...قوانین و شرایط استفاده کارفرمایانهرگونه استفاده از جابینجا به معنی پذیرفتن شرایط مندرج در این سایت است. جابینجا هیچ ت...بخش‌های دانشنامهنمونه رزومه کاریسوالات متداول کارجویانسوالات متداول کارفرمایانکارجویانسوالات متداول کارجویانقوانین و مقررات کارجویانلیست مشاغلآگهی‌های استخدامورود / ثبت‌نام کارجوایمیل‌های اطلاع‌رسانیرزومه‌ساز آنلاینآشنایی با شرکت‌هاکارفرمایانسوالات متداول کارفرمایانقوانین و مقررات کارفرمایاندرج آگهی استخدامورود به بخش کارفرمایانتعرفه‌ی انتشار آگهیسؤالات متداولجابینجا\n",
      "\n"
     ]
    },
    {
     "name": "stderr",
     "output_type": "stream",
     "text": [
      "C:\\Users\\negin\\anaconda3\\Lib\\site-packages\\urllib3\\connectionpool.py:1099: InsecureRequestWarning: Unverified HTTPS request is being made to host 'jobinja.ir'. Adding certificate verification is strongly advised. See: https://urllib3.readthedocs.io/en/latest/advanced-usage.html#tls-warnings\n",
      "  warnings.warn(\n"
     ]
    },
    {
     "name": "stdout",
     "output_type": "stream",
     "text": [
      "URL: https://jobinja.ir/companies/golrang-industrial-group/jobs\n",
      "Content Snippet: فرصت‌های شغلی فعال در گلرنگ سیستم | Golrang System | جابینجاامکان جدید:همین حالا رزومه خود را در کمتر از ۱۰ دقیقه بسازید،برو به رزومه‌سازJobinja | جابینجا | استخدام، آگهی استخدام، کاریابی، استخدامی جدید، بازار کار، نیازمندیها، ساخت رزومه رایگان، کار و استخدام دولتی، اشتغال، جستجوگر حرفه ای استخدام و شغلخانهجستجوی مشاغلرزومه‌ساز۵۰ شرکت برتربخش کارفرمایانورود کارجوثبت‌نام کارجوورود کارجوثبت‌نام کارجو۱جابینجا چطور به استخدام شدن من کمک می‌کند؟مشاهدهمشاهده بیشترگلرنگ سیستم|Golrang Systemتاسیس در  ۱۳۹۵کامپیوتر، فناوری اطلاعات و اینترنت۲۰۱ تا ۵۰۰ نفرwww.golrangsystem.com/در یک نگاهمعرفیفرصت‌های شغلی۱۴معرفی گلرنگ سیستمشرکت گلرنگ سیستم (سهامی خاص) یکی از شرکت‌های گروه صنعتی گلرنگ و فعال در زمینه فن‌آوری‌های دیجیتال، مراکز داده و ارتباطات، سامانه‌های مدیریت منابع سازمانی، داده‌پژوهی و هوش مصنوعی می‌باشد.  هدف این شرکت ارایه‌ی راه‌‌حل‌های فن‌آوری اطلاعات در جهت كمك به خلق ارزش، افزایش بهره‌وري و ارتقا، توانمندسازی و افزایش سود‌آوري گروه صنعتی گلرنگ است و این شرکت با تکیه بر سرمایه‌ی انسانی 400 ن\n",
      "\n"
     ]
    },
    {
     "name": "stderr",
     "output_type": "stream",
     "text": [
      "C:\\Users\\negin\\anaconda3\\Lib\\site-packages\\urllib3\\connectionpool.py:1099: InsecureRequestWarning: Unverified HTTPS request is being made to host 'jobinja.ir'. Adding certificate verification is strongly advised. See: https://urllib3.readthedocs.io/en/latest/advanced-usage.html#tls-warnings\n",
      "  warnings.warn(\n",
      "C:\\Users\\negin\\anaconda3\\Lib\\site-packages\\urllib3\\connectionpool.py:1099: InsecureRequestWarning: Unverified HTTPS request is being made to host 'jobinja.ir'. Adding certificate verification is strongly advised. See: https://urllib3.readthedocs.io/en/latest/advanced-usage.html#tls-warnings\n",
      "  warnings.warn(\n"
     ]
    },
    {
     "name": "stdout",
     "output_type": "stream",
     "text": [
      "URL: https://jobinja.ir/jobs?sort_by=published_at_desc\n",
      "Content Snippet: استخدامی جدید | آگهی استخدام امروز | استخدامی های امروز\n",
      " | جابینجاامکان جدید:همین حالا رزومه خود را در کمتر از ۱۰ دقیقه بسازید،برو به رزومه‌سازJobinja | جابینجا | استخدام، آگهی استخدام، کاریابی، استخدامی جدید، بازار کار، نیازمندیها، ساخت رزومه رایگان، کار و استخدام دولتی، اشتغال، جستجوگر حرفه ای استخدام و شغلخانهجستجوی مشاغلرزومه‌ساز۵۰ شرکت برتربخش کارفرمایانورود کارجوثبت‌نام کارجوورود کارجوثبت‌نام کارجو۱جابینجا چطور به استخدام شدن من کمک می‌کند؟مشاهدهمشاهده بیشترجستجودرخواست‌های مننشان‌شده‌هاآگهی‌های پیشنهادیاز آگهی‌های جدید باخبر شوبهترین فرصت های شغلی در جابینجاهمه‌ی استان‌هاتهرانخراسان رضویاصفهانالبرزفارسقمآذربایجان شرقیمازندرانگیلانخوزستانکرمانیزدقزوینمرکزیهرمزگانگلستانزنجانآذربایجان غربیبوشهرسیستان و بلوچستانسمنانکرمانشاههمداناردبیللرستانکردستانخراسان شمالیخراسان جنوبیچهارمحال بختیاریایلامکهکیلویه و بویراحمدهمه‌ی دسته‌بندی‌هافروش و بازاریابیوب،‌ برنامه‌نویسی و نرم‌افزارمالی و حسابداریمسئول دفتر، اجرائی و اداریتولید و مدیریت محتوادیجیتال مارکتینگپشتیبانی و امور مشتریانطراحیIT / De\n",
      "\n"
     ]
    },
    {
     "name": "stderr",
     "output_type": "stream",
     "text": [
      "C:\\Users\\negin\\anaconda3\\Lib\\site-packages\\urllib3\\connectionpool.py:1099: InsecureRequestWarning: Unverified HTTPS request is being made to host 'jobinja.ir'. Adding certificate verification is strongly advised. See: https://urllib3.readthedocs.io/en/latest/advanced-usage.html#tls-warnings\n",
      "  warnings.warn(\n"
     ]
    },
    {
     "name": "stdout",
     "output_type": "stream",
     "text": [
      "URL: https://jobinja.ir/jobs?filters%5Bkeywords%5D%5B0%5D=%D8%A7%D8%AF%D8%A7%D8%B1%DB%8C\n",
      "Content Snippet: فرصت های شغلی اداری\n",
      " | جابینجاامکان جدید:همین حالا رزومه خود را در کمتر از ۱۰ دقیقه بسازید،برو به رزومه‌سازJobinja | جابینجا | استخدام، آگهی استخدام، کاریابی، استخدامی جدید، بازار کار، نیازمندیها، ساخت رزومه رایگان، کار و استخدام دولتی، اشتغال، جستجوگر حرفه ای استخدام و شغلخانهجستجوی مشاغلرزومه‌ساز۵۰ شرکت برتربخش کارفرمایانورود کارجوثبت‌نام کارجوورود کارجوثبت‌نام کارجو۱جابینجا چطور به استخدام شدن من کمک می‌کند؟مشاهدهمشاهده بیشترجستجودرخواست‌های مننشان‌شده‌هاآگهی‌های پیشنهادیاز آگهی‌های جدید باخبر شوبهترین فرصت های شغلی در جابینجاهمه‌ی استان‌هاتهرانخراسان رضویاصفهانالبرزفارسقمآذربایجان شرقیمازندرانگیلانخوزستانکرمانیزدقزوینمرکزیهرمزگانگلستانزنجانآذربایجان غربیبوشهرسیستان و بلوچستانسمنانکرمانشاههمداناردبیللرستانکردستانخراسان شمالیخراسان جنوبیچهارمحال بختیاریایلامکهکیلویه و بویراحمدهمه‌ی دسته‌بندی‌هافروش و بازاریابیوب،‌ برنامه‌نویسی و نرم‌افزارمالی و حسابداریمسئول دفتر، اجرائی و اداریتولید و مدیریت محتوادیجیتال مارکتینگپشتیبانی و امور مشتریانطراحیIT / DevOps / Serverمهندسی صنایع و مدیریت ص\n",
      "\n"
     ]
    },
    {
     "name": "stderr",
     "output_type": "stream",
     "text": [
      "C:\\Users\\negin\\anaconda3\\Lib\\site-packages\\urllib3\\connectionpool.py:1099: InsecureRequestWarning: Unverified HTTPS request is being made to host 'jobinja.ir'. Adding certificate verification is strongly advised. See: https://urllib3.readthedocs.io/en/latest/advanced-usage.html#tls-warnings\n",
      "  warnings.warn(\n",
      "C:\\Users\\negin\\anaconda3\\Lib\\site-packages\\urllib3\\connectionpool.py:1099: InsecureRequestWarning: Unverified HTTPS request is being made to host 'jobinja.ir'. Adding certificate verification is strongly advised. See: https://urllib3.readthedocs.io/en/latest/advanced-usage.html#tls-warnings\n",
      "  warnings.warn(\n"
     ]
    },
    {
     "name": "stdout",
     "output_type": "stream",
     "text": [
      "URL: https://jobinja.ir/jobs?filters%5Bjob_categories%5D%5B%5D=%D8%AA%DA%A9%D9%86%D8%B3%DB%8C%D9%86+%D9%81%D9%86%DB%8C%D8%8C+%D8%AA%D8%B9%D9%85%DB%8C%D8%B1%DA%A9%D8%A7%D8%B1\n",
      "Content Snippet: استخدام تکنسین فنی تاسیسات | جابینجا\n",
      " | جابینجاامکان جدید:همین حالا رزومه خود را در کمتر از ۱۰ دقیقه بسازید،برو به رزومه‌سازJobinja | جابینجا | استخدام، آگهی استخدام، کاریابی، استخدامی جدید، بازار کار، نیازمندیها، ساخت رزومه رایگان، کار و استخدام دولتی، اشتغال، جستجوگر حرفه ای استخدام و شغلخانهجستجوی مشاغلرزومه‌ساز۵۰ شرکت برتربخش کارفرمایانورود کارجوثبت‌نام کارجوورود کارجوثبت‌نام کارجو۱جابینجا چطور به استخدام شدن من کمک می‌کند؟مشاهدهمشاهده بیشترجستجودرخواست‌های مننشان‌شده‌هاآگهی‌های پیشنهادیاز آگهی‌های جدید باخبر شوبهترین فرصت های شغلی در جابینجاهمه‌ی استان‌هاتهرانخراسان رضویاصفهانالبرزفارسقمآذربایجان شرقیمازندرانگیلانخوزستانکرمانیزدقزوینمرکزیهرمزگانگلستانزنجانآذربایجان غربیبوشهرسیستان و بلوچستانسمنانکرمانشاههمداناردبیللرستانکردستانخراسان شمالیخراسان جنوبیچهارمحال بختیاریایلامکهکیلویه و بویراحمدهمه‌ی دسته‌بندی‌هاتکنسین فنی، تعمیرکارفروش و بازاریابیوب،‌ برنامه‌نویسی و نرم‌افزارمالی و حسابداریمسئول دفتر، اجرائی و اداریتولید و مدیریت محتوادیجیتال مارکتینگپشتیبانی و امور مشتریانطراحیIT / D\n",
      "\n"
     ]
    },
    {
     "name": "stderr",
     "output_type": "stream",
     "text": [
      "C:\\Users\\negin\\anaconda3\\Lib\\site-packages\\urllib3\\connectionpool.py:1099: InsecureRequestWarning: Unverified HTTPS request is being made to host 'jobinja.ir'. Adding certificate verification is strongly advised. See: https://urllib3.readthedocs.io/en/latest/advanced-usage.html#tls-warnings\n",
      "  warnings.warn(\n",
      "C:\\Users\\negin\\anaconda3\\Lib\\site-packages\\urllib3\\connectionpool.py:1099: InsecureRequestWarning: Unverified HTTPS request is being made to host 'jobinja.ir'. Adding certificate verification is strongly advised. See: https://urllib3.readthedocs.io/en/latest/advanced-usage.html#tls-warnings\n",
      "  warnings.warn(\n"
     ]
    },
    {
     "name": "stdout",
     "output_type": "stream",
     "text": [
      "URL: https://jobinja.ir/jobs?filters%5Bjob_categories%5D%5B%5D=%D9%BE%D8%B2%D8%B4%DA%A9%DB%8C%D8%8C%E2%80%8C+%D9%BE%D8%B1%D8%B3%D8%AA%D8%A7%D8%B1%DB%8C+%D9%88+%D8%AF%D8%A7%D8%B1%D9%88%DB%8C%DB%8C\n",
      "Content Snippet: استخدام پرستار | استخدام پزشک عمومی | استخدام روانشناس\n",
      " | جابینجاامکان جدید:همین حالا رزومه خود را در کمتر از ۱۰ دقیقه بسازید،برو به رزومه‌سازJobinja | جابینجا | استخدام، آگهی استخدام، کاریابی، استخدامی جدید، بازار کار، نیازمندیها، ساخت رزومه رایگان، کار و استخدام دولتی، اشتغال، جستجوگر حرفه ای استخدام و شغلخانهجستجوی مشاغلرزومه‌ساز۵۰ شرکت برتربخش کارفرمایانورود کارجوثبت‌نام کارجوورود کارجوثبت‌نام کارجو۱جابینجا چطور به استخدام شدن من کمک می‌کند؟مشاهدهمشاهده بیشترجستجودرخواست‌های مننشان‌شده‌هاآگهی‌های پیشنهادیاز آگهی‌های جدید باخبر شوبهترین فرصت های شغلی در جابینجاهمه‌ی استان‌هاتهرانخراسان رضویاصفهانالبرزفارسقمآذربایجان شرقیمازندرانگیلانخوزستانکرمانیزدقزوینمرکزیهرمزگانگلستانزنجانآذربایجان غربیبوشهرسیستان و بلوچستانسمنانکرمانشاههمداناردبیللرستانکردستانخراسان شمالیخراسان جنوبیچهارمحال بختیاریایلامکهکیلویه و بویراحمدهمه‌ی دسته‌بندی‌هاپزشکی،‌ پرستاری و داروییفروش و بازاریابیوب،‌ برنامه‌نویسی و نرم‌افزارمالی و حسابداریمسئول دفتر، اجرائی و اداریتولید و مدیریت محتوادیجیتال مارکتینگپشتیبانی و ا\n",
      "\n"
     ]
    },
    {
     "name": "stderr",
     "output_type": "stream",
     "text": [
      "C:\\Users\\negin\\anaconda3\\Lib\\site-packages\\urllib3\\connectionpool.py:1099: InsecureRequestWarning: Unverified HTTPS request is being made to host 'jobinja.ir'. Adding certificate verification is strongly advised. See: https://urllib3.readthedocs.io/en/latest/advanced-usage.html#tls-warnings\n",
      "  warnings.warn(\n"
     ]
    },
    {
     "name": "stdout",
     "output_type": "stream",
     "text": [
      "URL: https://jobinja.ir/companies\n",
      "Content Snippet: استخدام شركت ها | جابینجاامکان جدید:همین حالا رزومه خود را در کمتر از ۱۰ دقیقه بسازید،برو به رزومه‌سازJobinja | جابینجا | استخدام، آگهی استخدام، کاریابی، استخدامی جدید، بازار کار، نیازمندیها، ساخت رزومه رایگان، کار و استخدام دولتی، اشتغال، جستجوگر حرفه ای استخدام و شغلخانهجستجوی مشاغلرزومه‌ساز۵۰ شرکت برتربخش کارفرمایانورود کارجوثبت‌نام کارجوورود کارجوثبت‌نام کارجو۱جابینجا چطور به استخدام شدن من کمک می‌کند؟مشاهدهمشاهده بیشترشرکت‌هافهرست۵۰ شرکت برترپول نو|Poolenoتهران، تهرانکامپیوتر، فناوری اطلاعات و اینترنتدر حال استخدامگروه بوران|Booran Groupتهران، تهرانکامپیوتر، فناوری اطلاعات و اینترنتدر حال استخدامپیمان|Paymanتهران، تهرانکامپیوتر، فناوری اطلاعات و اینترنتدر حال استخدامجاباما|Jabamaتهران، تهرانگردشگری و هتل‌هادر حال استخدامگلکسی ویژن|Galaxy Visionتهران، تهرانکامپیوتر، فناوری اطلاعات و اینترنتدر حال استخدامپردازشگران عصر اطلاعات|Mitwelt Data Processorsتهران، تهرانمخابرات و ارتباطات (تلکام)در حال استخداممارجینکس|Marginexتهران، تهرانمالی و اعتباریدر حال استخدامفنحاب|FanHubتهران، بومهنبی\n",
      "\n"
     ]
    },
    {
     "name": "stderr",
     "output_type": "stream",
     "text": [
      "C:\\Users\\negin\\anaconda3\\Lib\\site-packages\\urllib3\\connectionpool.py:1099: InsecureRequestWarning: Unverified HTTPS request is being made to host 'jobinja.ir'. Adding certificate verification is strongly advised. See: https://urllib3.readthedocs.io/en/latest/advanced-usage.html#tls-warnings\n",
      "  warnings.warn(\n"
     ]
    },
    {
     "name": "stdout",
     "output_type": "stream",
     "text": [
      "URL: https://jobinja.ir/companies/autokhatib\n",
      "Content Snippet: استخدام در شرکت اتو خطیب، آگهی های استخدام Autokhatib | جابینجاامکان جدید:همین حالا رزومه خود را در کمتر از ۱۰ دقیقه بسازید،برو به رزومه‌سازJobinja | جابینجا | استخدام، آگهی استخدام، کاریابی، استخدامی جدید، بازار کار، نیازمندیها، ساخت رزومه رایگان، کار و استخدام دولتی، اشتغال، جستجوگر حرفه ای استخدام و شغلخانهجستجوی مشاغلرزومه‌ساز۵۰ شرکت برتربخش کارفرمایانورود کارجوثبت‌نام کارجوورود کارجوثبت‌نام کارجو۱جابینجا چطور به استخدام شدن من کمک می‌کند؟مشاهدهمشاهده بیشتراتو خطیب|Autokhatibتاسیس در  ۱۳۸۸خودروسازی۱۱ تا ۵۰ نفرAutokhatib.irدر یک نگاهمعرفیفرصت‌های شغلی۱۱اتوخطیب با افتخار 12 سال در زمینه فروش خودرو فعالیت صادقانه عضو رسمی اتحادیه نمایشگاه داران خودرو تهران و شمیرانات می باشد.موقعیت مکانیتهران، تهراناعضای شرکتخانم مازیارمدیر داخلیامکان ارتقای شغلی و آموزشنسترن امیریکارشناس فروشمحیط امن کاری و ارتقای شغلی و اجتماعیخانم فاخرکارشناس فروشمحیطی دوستانه و امن و مناسب جهت کار بانوانداشتن فرهنگ سامانی عالی برای کارکنان امروزی دیگر فقط یک گزینه نیست، بلکه به اندازه‌ی حقوق و مزایا برایشان اهمیت \n",
      "\n"
     ]
    },
    {
     "name": "stderr",
     "output_type": "stream",
     "text": [
      "C:\\Users\\negin\\anaconda3\\Lib\\site-packages\\urllib3\\connectionpool.py:1099: InsecureRequestWarning: Unverified HTTPS request is being made to host 'jobinja.ir'. Adding certificate verification is strongly advised. See: https://urllib3.readthedocs.io/en/latest/advanced-usage.html#tls-warnings\n",
      "  warnings.warn(\n",
      "C:\\Users\\negin\\anaconda3\\Lib\\site-packages\\urllib3\\connectionpool.py:1099: InsecureRequestWarning: Unverified HTTPS request is being made to host 'jobinja.ir'. Adding certificate verification is strongly advised. See: https://urllib3.readthedocs.io/en/latest/advanced-usage.html#tls-warnings\n",
      "  warnings.warn(\n"
     ]
    },
    {
     "name": "stdout",
     "output_type": "stream",
     "text": [
      "URL: https://jobinja.ir/jobs?filters%5Bjob_categories%5D%5B%5D=%D8%AD%D9%85%D9%84+%D9%88+%D9%86%D9%82%D9%84\n",
      "Content Snippet: استخدام کارشناس حمل و نقل | استخدام کارشناس لجستیک | جابینجا\n",
      " | جابینجاامکان جدید:همین حالا رزومه خود را در کمتر از ۱۰ دقیقه بسازید،برو به رزومه‌سازJobinja | جابینجا | استخدام، آگهی استخدام، کاریابی، استخدامی جدید، بازار کار، نیازمندیها، ساخت رزومه رایگان، کار و استخدام دولتی، اشتغال، جستجوگر حرفه ای استخدام و شغلخانهجستجوی مشاغلرزومه‌ساز۵۰ شرکت برتربخش کارفرمایانورود کارجوثبت‌نام کارجوورود کارجوثبت‌نام کارجو۱جابینجا چطور به استخدام شدن من کمک می‌کند؟مشاهدهمشاهده بیشترجستجودرخواست‌های مننشان‌شده‌هاآگهی‌های پیشنهادیاز آگهی‌های جدید باخبر شوبهترین فرصت های شغلی در جابینجاهمه‌ی استان‌هاتهرانخراسان رضویاصفهانالبرزفارسقمآذربایجان شرقیمازندرانگیلانخوزستانکرمانیزدقزوینمرکزیهرمزگانگلستانزنجانآذربایجان غربیبوشهرسیستان و بلوچستانسمنانکرمانشاههمداناردبیللرستانکردستانخراسان شمالیخراسان جنوبیچهارمحال بختیاریایلامکهکیلویه و بویراحمدهمه‌ی دسته‌بندی‌هاحمل و نقلفروش و بازاریابیوب،‌ برنامه‌نویسی و نرم‌افزارمالی و حسابداریمسئول دفتر، اجرائی و اداریتولید و مدیریت محتوادیجیتال مارکتینگپشتیبانی و امور مشتری\n",
      "\n"
     ]
    },
    {
     "name": "stderr",
     "output_type": "stream",
     "text": [
      "C:\\Users\\negin\\anaconda3\\Lib\\site-packages\\urllib3\\connectionpool.py:1099: InsecureRequestWarning: Unverified HTTPS request is being made to host 'jobinja.ir'. Adding certificate verification is strongly advised. See: https://urllib3.readthedocs.io/en/latest/advanced-usage.html#tls-warnings\n",
      "  warnings.warn(\n",
      "C:\\Users\\negin\\anaconda3\\Lib\\site-packages\\urllib3\\connectionpool.py:1099: InsecureRequestWarning: Unverified HTTPS request is being made to host 'jobinja.ir'. Adding certificate verification is strongly advised. See: https://urllib3.readthedocs.io/en/latest/advanced-usage.html#tls-warnings\n",
      "  warnings.warn(\n"
     ]
    },
    {
     "name": "stdout",
     "output_type": "stream",
     "text": [
      "URL: https://jobinja.ir/jobs?filters%5Blocations%5D%5B%5D=%D9%85%D8%A7%D8%B2%D9%86%D8%AF%D8%B1%D8%A7%D9%86\n",
      "Content Snippet: استخدام مازندران | کاریابی مازندران | آگهی استخدام مازندران\n",
      " | جابینجاامکان جدید:همین حالا رزومه خود را در کمتر از ۱۰ دقیقه بسازید،برو به رزومه‌سازJobinja | جابینجا | استخدام، آگهی استخدام، کاریابی، استخدامی جدید، بازار کار، نیازمندیها، ساخت رزومه رایگان، کار و استخدام دولتی، اشتغال، جستجوگر حرفه ای استخدام و شغلخانهجستجوی مشاغلرزومه‌ساز۵۰ شرکت برتربخش کارفرمایانورود کارجوثبت‌نام کارجوورود کارجوثبت‌نام کارجو۱جابینجا چطور به استخدام شدن من کمک می‌کند؟مشاهدهمشاهده بیشترجستجودرخواست‌های مننشان‌شده‌هاآگهی‌های پیشنهادیاز آگهی‌های جدید باخبر شوبهترین فرصت های شغلی در جابینجاهمه‌ی استان‌هامازندرانتهرانخراسان رضویاصفهانالبرزفارسقمآذربایجان شرقیگیلانخوزستانکرمانیزدقزوینمرکزیهرمزگانگلستانزنجانآذربایجان غربیبوشهرسیستان و بلوچستانسمنانکرمانشاههمداناردبیللرستانکردستانخراسان شمالیخراسان جنوبیچهارمحال بختیاریایلامکهکیلویه و بویراحمدهمه‌ی دسته‌بندی‌هافروش و بازاریابیوب،‌ برنامه‌نویسی و نرم‌افزارمالی و حسابداریمسئول دفتر، اجرائی و اداریتولید و مدیریت محتوادیجیتال مارکتینگپشتیبانی و امور مشتریانطراحیIT \n",
      "\n"
     ]
    },
    {
     "name": "stderr",
     "output_type": "stream",
     "text": [
      "C:\\Users\\negin\\anaconda3\\Lib\\site-packages\\urllib3\\connectionpool.py:1099: InsecureRequestWarning: Unverified HTTPS request is being made to host 'jobinja.ir'. Adding certificate verification is strongly advised. See: https://urllib3.readthedocs.io/en/latest/advanced-usage.html#tls-warnings\n",
      "  warnings.warn(\n"
     ]
    },
    {
     "name": "stdout",
     "output_type": "stream",
     "text": [
      "URL: https://jobinja.ir/in-press\n",
      "Content Snippet: جابینجا در رسانه‌ها | جابینجاامکان جدید:همین حالا رزومه خود را در کمتر از ۱۰ دقیقه بسازید،برو به رزومه‌سازJobinja | جابینجا | استخدام، آگهی استخدام، کاریابی، استخدامی جدید، بازار کار، نیازمندیها، ساخت رزومه رایگان، کار و استخدام دولتی، اشتغال، جستجوگر حرفه ای استخدام و شغلخانهجستجوی مشاغلرزومه‌ساز۵۰ شرکت برتربخش کارفرمایانورود کارجوثبت‌نام کارجوورود کارجوثبت‌نام کارجو۱جابینجا چطور به استخدام شدن من کمک می‌کند؟مشاهدهمشاهده بیشترجابینجا در رسانه‌هاگزارش اخبار رسمی از فهرست ۵۰ شرکت برتر ایران برای کار(۱۳۹۵/۱۲/۲۳)بازار کار ایران نیز در مسیر رشد خود،‌ بیش از پیش به اهمیت منابع انسانی در موفقیت سازمان واقف شده است و هدف جابینجا از انتشار فهرست شرکت‌های برتر ایران برای کار،‌ تاکید بر تلاش مثبت سازمان‌ها در برندسازی منابع انسانی است.گزارش تکرا از فهرست ۵۰ شرکت برتر ایران برای کار(۱۳۹۵/۱۲/۲۲)با نزدیک شدن به آخرین روزهای سال،‌ جابینجا فهرست ۵۰ شرکت برتر ایران در جذب و استخدام نیرو را در سه ماه پایانی سال ۱۳۹۵منتشر کرده است. این فهرست بر اساس بررسی شاخص‌های مختلف در ۹۰ روز اخیر تهیه شده است و به \n",
      "\n"
     ]
    },
    {
     "name": "stderr",
     "output_type": "stream",
     "text": [
      "C:\\Users\\negin\\anaconda3\\Lib\\site-packages\\urllib3\\connectionpool.py:1099: InsecureRequestWarning: Unverified HTTPS request is being made to host 'jobinja.ir'. Adding certificate verification is strongly advised. See: https://urllib3.readthedocs.io/en/latest/advanced-usage.html#tls-warnings\n",
      "  warnings.warn(\n"
     ]
    },
    {
     "name": "stdout",
     "output_type": "stream",
     "text": [
      "URL: https://jobinja.ir/companies/asa-1\n",
      "Content Snippet: استخدام در شرکت ویستا سامانه آسا، آگهی های استخدام ASA | جابینجاامکان جدید:همین حالا رزومه خود را در کمتر از ۱۰ دقیقه بسازید،برو به رزومه‌سازJobinja | جابینجا | استخدام، آگهی استخدام، کاریابی، استخدامی جدید، بازار کار، نیازمندیها، ساخت رزومه رایگان، کار و استخدام دولتی، اشتغال، جستجوگر حرفه ای استخدام و شغلخانهجستجوی مشاغلرزومه‌ساز۵۰ شرکت برتربخش کارفرمایانورود کارجوثبت‌نام کارجوورود کارجوثبت‌نام کارجو۱جابینجا چطور به استخدام شدن من کمک می‌کند؟مشاهدهمشاهده بیشترویستا سامانه آسا|ASAتاسیس در  ۱۳۹۱کامپیوتر، فناوری اطلاعات و اینترنت۵۰۱ تا ۱۰۰۰ نفرasax.irدر یک نگاهمعرفیفرصت‌های شغلی۲۲شرکت دانش بنیان آسا از مجموعه ای از افراد پرتلاش و خلاق تشکیل شده که تلاش می‌کنند تا آسا را به یک شرکت نرم افزاری در حوزه بازارهای مالی تبدیل کنند.موقعیت مکانیتهران، تهراناعضای شرکتشهروز جعفریمدیر واحد عملیات نرم افزارپیشرفت مداوم .... محیط صمیمی .... چالش های جذاب برای حل کردنسوگند شمستحلیلگر نرم افزاردر آسا با وجود میزان اهمیت پروژه ها و محصولاتی که مسوولیتش را برعهده داریم؛ محیطی پرتلاش، با امید و صمیمی برقر\n",
      "\n"
     ]
    },
    {
     "name": "stderr",
     "output_type": "stream",
     "text": [
      "C:\\Users\\negin\\anaconda3\\Lib\\site-packages\\urllib3\\connectionpool.py:1099: InsecureRequestWarning: Unverified HTTPS request is being made to host 'jobinja.ir'. Adding certificate verification is strongly advised. See: https://urllib3.readthedocs.io/en/latest/advanced-usage.html#tls-warnings\n",
      "  warnings.warn(\n"
     ]
    },
    {
     "name": "stdout",
     "output_type": "stream",
     "text": [
      "URL: https://jobinja.ir/job-alert/landing\n",
      "Content Snippet: جابینجاJobinja | جابینجا | استخدام، آگهی استخدام، کاریابی، استخدامی جدید، بازار کار، نیازمندیها، ساخت رزومه رایگان، کار و استخدام دولتی، اشتغال، جستجوگر حرفه ای استخدام و شغلخانهجستجوی مشاغلرزومه‌ساز۵۰ شرکت برتربخش کارفرمایانورود کارجوثبت‌نام کارجوورود کارجوثبت‌نام کارجو۱جابینجا چطور به استخدام شدن من کمک می‌کند؟مشاهدهمشاهده بیشترفرصت‌های شغلی جدید در ایمیل شما!اولین نفری که برای کارفرمایان رزومه ارسال می‌کند شما باشید. هر هفته فرصت‌های شغلی جدید برای شما ارسال می‌شود.دسته‌بندی شغلی؟هیچ دسته‌بندی شغلی مرتبطی انتخاب نشده است{{ item.text }}عنوان شغلی، مهارت یا کلمات کلیدی(اختیاری)؟نوع قرارداد(اختیاری)؟شهر شغل؟هیچ شهر یا استان مرتبطی انتخاب نشده است.{{ item.text }}ارسال به صورت؟ایمیل شما؟نمی‌خواهم مطلع شومimage/svg+xml\n",
      "\n"
     ]
    },
    {
     "name": "stderr",
     "output_type": "stream",
     "text": [
      "C:\\Users\\negin\\anaconda3\\Lib\\site-packages\\urllib3\\connectionpool.py:1099: InsecureRequestWarning: Unverified HTTPS request is being made to host 'jobinja.ir'. Adding certificate verification is strongly advised. See: https://urllib3.readthedocs.io/en/latest/advanced-usage.html#tls-warnings\n",
      "  warnings.warn(\n"
     ]
    },
    {
     "name": "stdout",
     "output_type": "stream",
     "text": [
      "URL: https://jobinja.ir/jobs?filters%5Bkeywords%5D%5B0%5D=%D8%A7%D8%B3%D9%86%D9%BE\n",
      "Content Snippet: فرصت های شغلی اسنپ\n",
      " | جابینجاامکان جدید:همین حالا رزومه خود را در کمتر از ۱۰ دقیقه بسازید،برو به رزومه‌سازJobinja | جابینجا | استخدام، آگهی استخدام، کاریابی، استخدامی جدید، بازار کار، نیازمندیها، ساخت رزومه رایگان، کار و استخدام دولتی، اشتغال، جستجوگر حرفه ای استخدام و شغلخانهجستجوی مشاغلرزومه‌ساز۵۰ شرکت برتربخش کارفرمایانورود کارجوثبت‌نام کارجوورود کارجوثبت‌نام کارجو۱جابینجا چطور به استخدام شدن من کمک می‌کند؟مشاهدهمشاهده بیشترجستجودرخواست‌های مننشان‌شده‌هاآگهی‌های پیشنهادیاز آگهی‌های جدید باخبر شوبهترین فرصت های شغلی در جابینجاهمه‌ی استان‌هاتهرانخراسان رضویاصفهانالبرزفارسقمآذربایجان شرقیمازندرانگیلانخوزستانکرمانیزدقزوینمرکزیهرمزگانگلستانزنجانآذربایجان غربیبوشهرسیستان و بلوچستانسمنانکرمانشاههمداناردبیللرستانکردستانخراسان شمالیخراسان جنوبیچهارمحال بختیاریایلامکهکیلویه و بویراحمدهمه‌ی دسته‌بندی‌هافروش و بازاریابیوب،‌ برنامه‌نویسی و نرم‌افزارمالی و حسابداریمسئول دفتر، اجرائی و اداریتولید و مدیریت محتوادیجیتال مارکتینگپشتیبانی و امور مشتریانطراحیIT / DevOps / Serverمهندسی صنایع و مدیریت صن\n",
      "\n"
     ]
    },
    {
     "name": "stderr",
     "output_type": "stream",
     "text": [
      "C:\\Users\\negin\\anaconda3\\Lib\\site-packages\\urllib3\\connectionpool.py:1099: InsecureRequestWarning: Unverified HTTPS request is being made to host 'jobinja.ir'. Adding certificate verification is strongly advised. See: https://urllib3.readthedocs.io/en/latest/advanced-usage.html#tls-warnings\n",
      "  warnings.warn(\n",
      "C:\\Users\\negin\\anaconda3\\Lib\\site-packages\\urllib3\\connectionpool.py:1099: InsecureRequestWarning: Unverified HTTPS request is being made to host 'jobinja.ir'. Adding certificate verification is strongly advised. See: https://urllib3.readthedocs.io/en/latest/advanced-usage.html#tls-warnings\n",
      "  warnings.warn(\n"
     ]
    },
    {
     "name": "stdout",
     "output_type": "stream",
     "text": [
      "URL: https://jobinja.ir/jobs?filters%5Bjob_categories%5D%5B%5D=%D8%B4%DB%8C%D9%85%DB%8C%D8%8C+%D8%AF%D8%A7%D8%B1%D9%88%D8%B3%D8%A7%D8%B2%DB%8C\n",
      "Content Snippet: استخدام داروساز | استخدام شیمی دارویی | جابینجا\n",
      " | جابینجاامکان جدید:همین حالا رزومه خود را در کمتر از ۱۰ دقیقه بسازید،برو به رزومه‌سازJobinja | جابینجا | استخدام، آگهی استخدام، کاریابی، استخدامی جدید، بازار کار، نیازمندیها، ساخت رزومه رایگان، کار و استخدام دولتی، اشتغال، جستجوگر حرفه ای استخدام و شغلخانهجستجوی مشاغلرزومه‌ساز۵۰ شرکت برتربخش کارفرمایانورود کارجوثبت‌نام کارجوورود کارجوثبت‌نام کارجو۱جابینجا چطور به استخدام شدن من کمک می‌کند؟مشاهدهمشاهده بیشترجستجودرخواست‌های مننشان‌شده‌هاآگهی‌های پیشنهادیاز آگهی‌های جدید باخبر شوبهترین فرصت های شغلی در جابینجاهمه‌ی استان‌هاتهرانخراسان رضویاصفهانالبرزفارسقمآذربایجان شرقیمازندرانگیلانخوزستانکرمانیزدقزوینمرکزیهرمزگانگلستانزنجانآذربایجان غربیبوشهرسیستان و بلوچستانسمنانکرمانشاههمداناردبیللرستانکردستانخراسان شمالیخراسان جنوبیچهارمحال بختیاریایلامکهکیلویه و بویراحمدهمه‌ی دسته‌بندی‌هاشیمی، داروسازیفروش و بازاریابیوب،‌ برنامه‌نویسی و نرم‌افزارمالی و حسابداریمسئول دفتر، اجرائی و اداریتولید و مدیریت محتوادیجیتال مارکتینگپشتیبانی و امور مشتریانطراحیI\n",
      "\n"
     ]
    },
    {
     "name": "stderr",
     "output_type": "stream",
     "text": [
      "C:\\Users\\negin\\anaconda3\\Lib\\site-packages\\urllib3\\connectionpool.py:1099: InsecureRequestWarning: Unverified HTTPS request is being made to host 'jobinja.ir'. Adding certificate verification is strongly advised. See: https://urllib3.readthedocs.io/en/latest/advanced-usage.html#tls-warnings\n",
      "  warnings.warn(\n",
      "C:\\Users\\negin\\anaconda3\\Lib\\site-packages\\urllib3\\connectionpool.py:1099: InsecureRequestWarning: Unverified HTTPS request is being made to host 'jobinja.ir'. Adding certificate verification is strongly advised. See: https://urllib3.readthedocs.io/en/latest/advanced-usage.html#tls-warnings\n",
      "  warnings.warn(\n"
     ]
    },
    {
     "name": "stdout",
     "output_type": "stream",
     "text": [
      "URL: https://jobinja.ir/jobs?filters%5Blocations%5D%5B%5D=%D8%AE%D8%B1%D8%A7%D8%B3%D8%A7%D9%86+%D8%B1%D8%B6%D9%88%DB%8C\n",
      "Content Snippet: آگهی استخدام خراسان رضوی | استخدام خراسان رضوی | کاریابی خراسان رضوی\n",
      " | جابینجاامکان جدید:همین حالا رزومه خود را در کمتر از ۱۰ دقیقه بسازید،برو به رزومه‌سازJobinja | جابینجا | استخدام، آگهی استخدام، کاریابی، استخدامی جدید، بازار کار، نیازمندیها، ساخت رزومه رایگان، کار و استخدام دولتی، اشتغال، جستجوگر حرفه ای استخدام و شغلخانهجستجوی مشاغلرزومه‌ساز۵۰ شرکت برتربخش کارفرمایانورود کارجوثبت‌نام کارجوورود کارجوثبت‌نام کارجو۱جابینجا چطور به استخدام شدن من کمک می‌کند؟مشاهدهمشاهده بیشترجستجودرخواست‌های مننشان‌شده‌هاآگهی‌های پیشنهادیاز آگهی‌های جدید باخبر شوبهترین فرصت های شغلی در جابینجاهمه‌ی استان‌هاخراسان رضویتهراناصفهانالبرزفارسقمآذربایجان شرقیمازندرانگیلانخوزستانکرمانیزدقزوینمرکزیهرمزگانگلستانزنجانآذربایجان غربیبوشهرسیستان و بلوچستانسمنانکرمانشاههمداناردبیللرستانکردستانخراسان شمالیخراسان جنوبیچهارمحال بختیاریایلامکهکیلویه و بویراحمدهمه‌ی دسته‌بندی‌هافروش و بازاریابیوب،‌ برنامه‌نویسی و نرم‌افزارمالی و حسابداریمسئول دفتر، اجرائی و اداریتولید و مدیریت محتوادیجیتال مارکتینگپشتیبانی و امور مشتریا\n",
      "\n"
     ]
    },
    {
     "name": "stderr",
     "output_type": "stream",
     "text": [
      "C:\\Users\\negin\\anaconda3\\Lib\\site-packages\\urllib3\\connectionpool.py:1099: InsecureRequestWarning: Unverified HTTPS request is being made to host 'jobinja.ir'. Adding certificate verification is strongly advised. See: https://urllib3.readthedocs.io/en/latest/advanced-usage.html#tls-warnings\n",
      "  warnings.warn(\n",
      "C:\\Users\\negin\\anaconda3\\Lib\\site-packages\\urllib3\\connectionpool.py:1099: InsecureRequestWarning: Unverified HTTPS request is being made to host 'jobinja.ir'. Adding certificate verification is strongly advised. See: https://urllib3.readthedocs.io/en/latest/advanced-usage.html#tls-warnings\n",
      "  warnings.warn(\n"
     ]
    },
    {
     "name": "stdout",
     "output_type": "stream",
     "text": [
      "URL: https://jobinja.ir/jobs?filters%5Blocations%5D%5B%5D=%DA%AF%D9%84%D8%B3%D8%AA%D8%A7%D9%86\n",
      "Content Snippet: آگهی استخدام گلستان | استخدام گلستان | کاریابی گلستان | جابینجا\n",
      " | جابینجاامکان جدید:همین حالا رزومه خود را در کمتر از ۱۰ دقیقه بسازید،برو به رزومه‌سازJobinja | جابینجا | استخدام، آگهی استخدام، کاریابی، استخدامی جدید، بازار کار، نیازمندیها، ساخت رزومه رایگان، کار و استخدام دولتی، اشتغال، جستجوگر حرفه ای استخدام و شغلخانهجستجوی مشاغلرزومه‌ساز۵۰ شرکت برتربخش کارفرمایانورود کارجوثبت‌نام کارجوورود کارجوثبت‌نام کارجو۱جابینجا چطور به استخدام شدن من کمک می‌کند؟مشاهدهمشاهده بیشترجستجودرخواست‌های مننشان‌شده‌هاآگهی‌های پیشنهادیاز آگهی‌های جدید باخبر شوبهترین فرصت های شغلی در جابینجاهمه‌ی استان‌هاگلستانتهرانخراسان رضویاصفهانالبرزفارسقمآذربایجان شرقیمازندرانگیلانخوزستانکرمانیزدقزوینمرکزیهرمزگانزنجانآذربایجان غربیبوشهرسیستان و بلوچستانسمنانکرمانشاههمداناردبیللرستانکردستانخراسان شمالیخراسان جنوبیچهارمحال بختیاریایلامکهکیلویه و بویراحمدهمه‌ی دسته‌بندی‌هافروش و بازاریابیوب،‌ برنامه‌نویسی و نرم‌افزارمالی و حسابداریمسئول دفتر، اجرائی و اداریتولید و مدیریت محتوادیجیتال مارکتینگپشتیبانی و امور مشتریانطراح\n",
      "\n"
     ]
    },
    {
     "name": "stderr",
     "output_type": "stream",
     "text": [
      "C:\\Users\\negin\\anaconda3\\Lib\\site-packages\\urllib3\\connectionpool.py:1099: InsecureRequestWarning: Unverified HTTPS request is being made to host 'jobinja.ir'. Adding certificate verification is strongly advised. See: https://urllib3.readthedocs.io/en/latest/advanced-usage.html#tls-warnings\n",
      "  warnings.warn(\n"
     ]
    },
    {
     "name": "stdout",
     "output_type": "stream",
     "text": [
      "URL: https://jobinja.ir/companies/BimeBazar\n",
      "Content Snippet: استخدام در شرکت بیمه بازار، آگهی های استخدام Bime Bazar | جابینجاامکان جدید:همین حالا رزومه خود را در کمتر از ۱۰ دقیقه بسازید،برو به رزومه‌سازJobinja | جابینجا | استخدام، آگهی استخدام، کاریابی، استخدامی جدید، بازار کار، نیازمندیها، ساخت رزومه رایگان، کار و استخدام دولتی، اشتغال، جستجوگر حرفه ای استخدام و شغلخانهجستجوی مشاغلرزومه‌ساز۵۰ شرکت برتربخش کارفرمایانورود کارجوثبت‌نام کارجوورود کارجوثبت‌نام کارجو۱جابینجا چطور به استخدام شدن من کمک می‌کند؟مشاهدهمشاهده بیشتربیمه بازار|Bime Bazarتاسیس در  ۱۳۹۵کامپیوتر، فناوری اطلاعات و اینترنت۵۱ تا ۲۰۰ نفرbimebazar.comدر یک نگاهمعرفیفرصت‌های شغلی۳۱بیمه‌بازار اولین مرجع مقایسه و خرید آنلاین بیمه در کشور است.موقعیت مکانیتهران، تهراناعضای شرکتمحمد کلانتریمدیرعاملبیمه‌بازار یه استارتاپ همواره در حال رشد هست و ما معتقدیم موفقیت زمانی به وجود میاد که همه اجزا در کنار هم توسعه پیدا کنند. ما به دنبال افراد بااستعداد، باانگیزه و مشتاق یادگیری هستیم و سعی می‌کنیم مسیر شغلی خوبی براشون فراهم کنیم.نسیم رشتبرمدیر منابع انسانیبیمه بازار برای ما بیمه بازاری‌ها فق\n",
      "\n"
     ]
    },
    {
     "name": "stderr",
     "output_type": "stream",
     "text": [
      "C:\\Users\\negin\\anaconda3\\Lib\\site-packages\\urllib3\\connectionpool.py:1099: InsecureRequestWarning: Unverified HTTPS request is being made to host 'jobinja.ir'. Adding certificate verification is strongly advised. See: https://urllib3.readthedocs.io/en/latest/advanced-usage.html#tls-warnings\n",
      "  warnings.warn(\n",
      "C:\\Users\\negin\\anaconda3\\Lib\\site-packages\\urllib3\\connectionpool.py:1099: InsecureRequestWarning: Unverified HTTPS request is being made to host 'jobinja.ir'. Adding certificate verification is strongly advised. See: https://urllib3.readthedocs.io/en/latest/advanced-usage.html#tls-warnings\n",
      "  warnings.warn(\n"
     ]
    },
    {
     "name": "stdout",
     "output_type": "stream",
     "text": [
      "URL: https://jobinja.ir/jobs?filters%5Bjob_categories%5D%5B%5D=%D9%85%D9%87%D9%86%D8%AF%D8%B3%DB%8C+%D9%85%DA%A9%D8%A7%D9%86%DB%8C%DA%A9+%D9%88+%D9%87%D9%88%D8%A7%D9%81%D8%B6%D8%A7\n",
      "Content Snippet: استخدام مهندس مکانیک و هوافضا\n",
      " | جابینجاامکان جدید:همین حالا رزومه خود را در کمتر از ۱۰ دقیقه بسازید،برو به رزومه‌سازJobinja | جابینجا | استخدام، آگهی استخدام، کاریابی، استخدامی جدید، بازار کار، نیازمندیها، ساخت رزومه رایگان، کار و استخدام دولتی، اشتغال، جستجوگر حرفه ای استخدام و شغلخانهجستجوی مشاغلرزومه‌ساز۵۰ شرکت برتربخش کارفرمایانورود کارجوثبت‌نام کارجوورود کارجوثبت‌نام کارجو۱جابینجا چطور به استخدام شدن من کمک می‌کند؟مشاهدهمشاهده بیشترجستجودرخواست‌های مننشان‌شده‌هاآگهی‌های پیشنهادیاز آگهی‌های جدید باخبر شوبهترین فرصت های شغلی در جابینجاهمه‌ی استان‌هاتهرانخراسان رضویاصفهانالبرزفارسقمآذربایجان شرقیمازندرانگیلانخوزستانکرمانیزدقزوینمرکزیهرمزگانگلستانزنجانآذربایجان غربیبوشهرسیستان و بلوچستانسمنانکرمانشاههمداناردبیللرستانکردستانخراسان شمالیخراسان جنوبیچهارمحال بختیاریایلامکهکیلویه و بویراحمدهمه‌ی دسته‌بندی‌هامهندسی مکانیک و هوافضافروش و بازاریابیوب،‌ برنامه‌نویسی و نرم‌افزارمالی و حسابداریمسئول دفتر، اجرائی و اداریتولید و مدیریت محتوادیجیتال مارکتینگپشتیبانی و امور مشتریانطراحیIT / DevOps\n",
      "\n"
     ]
    },
    {
     "name": "stderr",
     "output_type": "stream",
     "text": [
      "C:\\Users\\negin\\anaconda3\\Lib\\site-packages\\urllib3\\connectionpool.py:1099: InsecureRequestWarning: Unverified HTTPS request is being made to host 'jobinja.ir'. Adding certificate verification is strongly advised. See: https://urllib3.readthedocs.io/en/latest/advanced-usage.html#tls-warnings\n",
      "  warnings.warn(\n",
      "C:\\Users\\negin\\anaconda3\\Lib\\site-packages\\urllib3\\connectionpool.py:1099: InsecureRequestWarning: Unverified HTTPS request is being made to host 'jobinja.ir'. Adding certificate verification is strongly advised. See: https://urllib3.readthedocs.io/en/latest/advanced-usage.html#tls-warnings\n",
      "  warnings.warn(\n"
     ]
    },
    {
     "name": "stdout",
     "output_type": "stream",
     "text": [
      "URL: https://jobinja.ir/jobs?filters%5Blocations%5D%5B%5D=%D9%85%D8%B1%DA%A9%D8%B2%DB%8C\n",
      "Content Snippet: آگهی استخدام مرکزی | استخدام مرکزی | کاریابی مرکزی\n",
      " | جابینجاامکان جدید:همین حالا رزومه خود را در کمتر از ۱۰ دقیقه بسازید،برو به رزومه‌سازJobinja | جابینجا | استخدام، آگهی استخدام، کاریابی، استخدامی جدید، بازار کار، نیازمندیها، ساخت رزومه رایگان، کار و استخدام دولتی، اشتغال، جستجوگر حرفه ای استخدام و شغلخانهجستجوی مشاغلرزومه‌ساز۵۰ شرکت برتربخش کارفرمایانورود کارجوثبت‌نام کارجوورود کارجوثبت‌نام کارجو۱جابینجا چطور به استخدام شدن من کمک می‌کند؟مشاهدهمشاهده بیشترجستجودرخواست‌های مننشان‌شده‌هاآگهی‌های پیشنهادیاز آگهی‌های جدید باخبر شوبهترین فرصت های شغلی در جابینجاهمه‌ی استان‌هامرکزیتهرانخراسان رضویاصفهانالبرزفارسقمآذربایجان شرقیمازندرانگیلانخوزستانکرمانیزدقزوینهرمزگانگلستانزنجانآذربایجان غربیبوشهرسیستان و بلوچستانسمنانکرمانشاههمداناردبیللرستانکردستانخراسان شمالیخراسان جنوبیچهارمحال بختیاریایلامکهکیلویه و بویراحمدهمه‌ی دسته‌بندی‌هافروش و بازاریابیوب،‌ برنامه‌نویسی و نرم‌افزارمالی و حسابداریمسئول دفتر، اجرائی و اداریتولید و مدیریت محتوادیجیتال مارکتینگپشتیبانی و امور مشتریانطراحیIT / DevOps \n",
      "\n"
     ]
    },
    {
     "name": "stderr",
     "output_type": "stream",
     "text": [
      "C:\\Users\\negin\\anaconda3\\Lib\\site-packages\\urllib3\\connectionpool.py:1099: InsecureRequestWarning: Unverified HTTPS request is being made to host 'jobinja.ir'. Adding certificate verification is strongly advised. See: https://urllib3.readthedocs.io/en/latest/advanced-usage.html#tls-warnings\n",
      "  warnings.warn(\n",
      "C:\\Users\\negin\\anaconda3\\Lib\\site-packages\\urllib3\\connectionpool.py:1099: InsecureRequestWarning: Unverified HTTPS request is being made to host 'jobinja.ir'. Adding certificate verification is strongly advised. See: https://urllib3.readthedocs.io/en/latest/advanced-usage.html#tls-warnings\n",
      "  warnings.warn(\n"
     ]
    },
    {
     "name": "stdout",
     "output_type": "stream",
     "text": [
      "URL: https://jobinja.ir/jobs?filters%5Blocations%5D%5B%5D=%DA%A9%D9%87%DA%A9%DB%8C%D9%84%D9%88%DB%8C%D9%87+%D9%88+%D8%A8%D9%88%DB%8C%D8%B1%D8%A7%D8%AD%D9%85%D8%AF\n",
      "Content Snippet: آگهی استخدام کهگیلویه و بویراحمد | استخدام کهگیلویه و بویراحمد | کاریابی کهگیلویه و بویراحمد\n",
      " | جابینجاامکان جدید:همین حالا رزومه خود را در کمتر از ۱۰ دقیقه بسازید،برو به رزومه‌سازJobinja | جابینجا | استخدام، آگهی استخدام، کاریابی، استخدامی جدید، بازار کار، نیازمندیها، ساخت رزومه رایگان، کار و استخدام دولتی، اشتغال، جستجوگر حرفه ای استخدام و شغلخانهجستجوی مشاغلرزومه‌ساز۵۰ شرکت برتربخش کارفرمایانورود کارجوثبت‌نام کارجوورود کارجوثبت‌نام کارجو۱جابینجا چطور به استخدام شدن من کمک می‌کند؟مشاهدهمشاهده بیشترجستجودرخواست‌های مننشان‌شده‌هاآگهی‌های پیشنهادیاز آگهی‌های جدید باخبر شوبهترین فرصت های شغلی در جابینجاهمه‌ی استان‌هاکهکیلویه و بویراحمدتهرانخراسان رضویاصفهانالبرزفارسقمآذربایجان شرقیمازندرانگیلانخوزستانکرمانیزدقزوینمرکزیهرمزگانگلستانزنجانآذربایجان غربیبوشهرسیستان و بلوچستانسمنانکرمانشاههمداناردبیللرستانکردستانخراسان شمالیخراسان جنوبیچهارمحال بختیاریایلامهمه‌ی دسته‌بندی‌هافروش و بازاریابیوب،‌ برنامه‌نویسی و نرم‌افزارمالی و حسابداریمسئول دفتر، اجرائی و اداریتولید و مدیریت محتوادیجیتال مارکتی\n",
      "\n"
     ]
    },
    {
     "name": "stderr",
     "output_type": "stream",
     "text": [
      "C:\\Users\\negin\\anaconda3\\Lib\\site-packages\\urllib3\\connectionpool.py:1099: InsecureRequestWarning: Unverified HTTPS request is being made to host 'jobinja.ir'. Adding certificate verification is strongly advised. See: https://urllib3.readthedocs.io/en/latest/advanced-usage.html#tls-warnings\n",
      "  warnings.warn(\n"
     ]
    },
    {
     "name": "stdout",
     "output_type": "stream",
     "text": [
      "URL: https://jobinja.ir/jobs?filters%5Bkeywords%5D%5B0%5D=Php\n",
      "Content Snippet: فرصت های شغلی Php\n",
      " | جابینجاامکان جدید:همین حالا رزومه خود را در کمتر از ۱۰ دقیقه بسازید،برو به رزومه‌سازJobinja | جابینجا | استخدام، آگهی استخدام، کاریابی، استخدامی جدید، بازار کار، نیازمندیها، ساخت رزومه رایگان، کار و استخدام دولتی، اشتغال، جستجوگر حرفه ای استخدام و شغلخانهجستجوی مشاغلرزومه‌ساز۵۰ شرکت برتربخش کارفرمایانورود کارجوثبت‌نام کارجوورود کارجوثبت‌نام کارجو۱جابینجا چطور به استخدام شدن من کمک می‌کند؟مشاهدهمشاهده بیشترجستجودرخواست‌های مننشان‌شده‌هاآگهی‌های پیشنهادیاز آگهی‌های جدید باخبر شوبهترین فرصت های شغلی در جابینجاهمه‌ی استان‌هاتهرانخراسان رضویاصفهانالبرزفارسقمآذربایجان شرقیمازندرانگیلانخوزستانکرمانیزدقزوینمرکزیهرمزگانگلستانزنجانآذربایجان غربیبوشهرسیستان و بلوچستانسمنانکرمانشاههمداناردبیللرستانکردستانخراسان شمالیخراسان جنوبیچهارمحال بختیاریایلامکهکیلویه و بویراحمدهمه‌ی دسته‌بندی‌هافروش و بازاریابیوب،‌ برنامه‌نویسی و نرم‌افزارمالی و حسابداریمسئول دفتر، اجرائی و اداریتولید و مدیریت محتوادیجیتال مارکتینگپشتیبانی و امور مشتریانطراحیIT / DevOps / Serverمهندسی صنایع و مدیریت صنع\n",
      "\n"
     ]
    },
    {
     "name": "stderr",
     "output_type": "stream",
     "text": [
      "C:\\Users\\negin\\anaconda3\\Lib\\site-packages\\urllib3\\connectionpool.py:1099: InsecureRequestWarning: Unverified HTTPS request is being made to host 'jobinja.ir'. Adding certificate verification is strongly advised. See: https://urllib3.readthedocs.io/en/latest/advanced-usage.html#tls-warnings\n",
      "  warnings.warn(\n"
     ]
    },
    {
     "name": "stdout",
     "output_type": "stream",
     "text": [
      "URL: https://jobinja.ir/employer\n",
      "Content Snippet: جذب نیرو | ثبت آگهی استخدام | جابینجاخانهتعرفه‌هابخش کارجویانورود کارفرماثبت نام کارفرماخانهتعرفه‌هاورود کارفرماثبت نام کارفرمابخش کارجویان|ورود کارفرما|ثبت نام کارفرماسریع‌ترین و به‌صرفه‌ترین ابزار استخدامبا درج آگهی استخدام در جابینجا، همین امروز فرصت شغلی شرکت خود را به متخصصان ایرانی اطلاع‌رسانی کنید.٪۶۰تخفیفدرج آگهی استخدامانتشار اولین آگهی با ۶۰٪ تخفیف - ۹۰ هزار تومانانتشار در فهرست فرصت‌های شغلیآگهی شما  ۶۰ روز در فهرست فرصت‌های شغلی سایت جابینجا منتشر می‌شود و در معرض دید میلیون‌ها کارجو قرار می‌گیرد.اطلاع‌رسانی گسترده به کارجویان مرتبطآگهی  شما به کارجویانی که سابقه مرتبط با آن دارند به صورت گسترده از روش‌های مختلف اطلاع‌رسانی می‌شود.گارانتی ۱۰۰٪ رضایت و بازگشت پولبا خیال راحت از امکانات جابینجا استفاده کنید در صورت عدم رضایت، بدون هیچ قید و شرط مبلغ پرداختی را دریافت کنید.جابینجا چه ویژگی‌هایی دارد؟انتشار آگهی استخداممدیریت رزومه‌هاتعیین وضعیت رزومهتیم استخدامجستجو در رزومه‌هانشان کردن رزومه‌یادداشت‌های رزومه‌برند کارفرماییآمار عملکردرزومه‌های پیشنهادیشتابدهی آگهیپشتیبانی درج\n",
      "\n"
     ]
    },
    {
     "name": "stderr",
     "output_type": "stream",
     "text": [
      "C:\\Users\\negin\\anaconda3\\Lib\\site-packages\\urllib3\\connectionpool.py:1099: InsecureRequestWarning: Unverified HTTPS request is being made to host 'jobinja.ir'. Adding certificate verification is strongly advised. See: https://urllib3.readthedocs.io/en/latest/advanced-usage.html#tls-warnings\n",
      "  warnings.warn(\n",
      "C:\\Users\\negin\\anaconda3\\Lib\\site-packages\\urllib3\\connectionpool.py:1099: InsecureRequestWarning: Unverified HTTPS request is being made to host 'jobinja.ir'. Adding certificate verification is strongly advised. See: https://urllib3.readthedocs.io/en/latest/advanced-usage.html#tls-warnings\n",
      "  warnings.warn(\n"
     ]
    },
    {
     "name": "stdout",
     "output_type": "stream",
     "text": [
      "URL: https://jobinja.ir/jobs?filters%5Blocations%5D%5B%5D=%D8%A7%D8%B5%D9%81%D9%87%D8%A7%D9%86\n",
      "Content Snippet: استخدام اصفهان | کاریابی اصفهان\n",
      " | جابینجاامکان جدید:همین حالا رزومه خود را در کمتر از ۱۰ دقیقه بسازید،برو به رزومه‌سازJobinja | جابینجا | استخدام، آگهی استخدام، کاریابی، استخدامی جدید، بازار کار، نیازمندیها، ساخت رزومه رایگان، کار و استخدام دولتی، اشتغال، جستجوگر حرفه ای استخدام و شغلخانهجستجوی مشاغلرزومه‌ساز۵۰ شرکت برتربخش کارفرمایانورود کارجوثبت‌نام کارجوورود کارجوثبت‌نام کارجو۱جابینجا چطور به استخدام شدن من کمک می‌کند؟مشاهدهمشاهده بیشترجستجودرخواست‌های مننشان‌شده‌هاآگهی‌های پیشنهادیاز آگهی‌های جدید باخبر شوبهترین فرصت های شغلی در جابینجاهمه‌ی استان‌هااصفهانتهرانخراسان رضویالبرزفارسقمآذربایجان شرقیمازندرانگیلانخوزستانکرمانیزدقزوینمرکزیهرمزگانگلستانزنجانآذربایجان غربیبوشهرسیستان و بلوچستانسمنانکرمانشاههمداناردبیللرستانکردستانخراسان شمالیخراسان جنوبیچهارمحال بختیاریایلامکهکیلویه و بویراحمدهمه‌ی دسته‌بندی‌هافروش و بازاریابیوب،‌ برنامه‌نویسی و نرم‌افزارمالی و حسابداریمسئول دفتر، اجرائی و اداریتولید و مدیریت محتوادیجیتال مارکتینگپشتیبانی و امور مشتریانطراحیIT / DevOps / Serverمهندسی صنای\n",
      "\n"
     ]
    },
    {
     "name": "stderr",
     "output_type": "stream",
     "text": [
      "C:\\Users\\negin\\anaconda3\\Lib\\site-packages\\urllib3\\connectionpool.py:1099: InsecureRequestWarning: Unverified HTTPS request is being made to host 'jobinja.ir'. Adding certificate verification is strongly advised. See: https://urllib3.readthedocs.io/en/latest/advanced-usage.html#tls-warnings\n",
      "  warnings.warn(\n"
     ]
    },
    {
     "name": "stdout",
     "output_type": "stream",
     "text": [
      "URL: https://jobinja.ir/companies/daftareshoma\n",
      "Content Snippet: استخدام در شرکت دفتر شما، آگهی های استخدام Daftareshoma | جابینجاامکان جدید:همین حالا رزومه خود را در کمتر از ۱۰ دقیقه بسازید،برو به رزومه‌سازJobinja | جابینجا | استخدام، آگهی استخدام، کاریابی، استخدامی جدید، بازار کار، نیازمندیها، ساخت رزومه رایگان، کار و استخدام دولتی، اشتغال، جستجوگر حرفه ای استخدام و شغلخانهجستجوی مشاغلرزومه‌ساز۵۰ شرکت برتربخش کارفرمایانورود کارجوثبت‌نام کارجوورود کارجوثبت‌نام کارجو۱جابینجا چطور به استخدام شدن من کمک می‌کند؟مشاهدهمشاهده بیشتردفتر شما|Daftareshomaتاسیس در  ۱۳۸۳کامپیوتر، فناوری اطلاعات و اینترنت۵۱ تا ۲۰۰ نفرdaftareshoma.comدر یک نگاهمعرفیفرصت‌های شغلی۷تیم ما از بخش‌های شبکه، برنامه‌نویسی، فروش، بازاریابی و اپراتوری تشکیل شده است که هر بخش با تخصص منحصر به فرد خود در حوزه مربوطه فعالیت می‌کند.موقعیت مکانیتهران، تهراناعضای شرکتعلی دشتیمدیر عاملکار در کنار دوستان و همکاران خوبم در «دفترشما»، مثل یک رویاست و هر روز بابت این شانس قدردانم.شاهین شوشتریمدیر فنیدر همکاری چند ساله با «دفتر شما»، محیطی سالم، صمیمی و به دور از حاشیه را تجربه کردم.علی دادگرمدیر ا\n",
      "\n"
     ]
    },
    {
     "name": "stderr",
     "output_type": "stream",
     "text": [
      "C:\\Users\\negin\\anaconda3\\Lib\\site-packages\\urllib3\\connectionpool.py:1099: InsecureRequestWarning: Unverified HTTPS request is being made to host 'jobinja.ir'. Adding certificate verification is strongly advised. See: https://urllib3.readthedocs.io/en/latest/advanced-usage.html#tls-warnings\n",
      "  warnings.warn(\n"
     ]
    },
    {
     "name": "stdout",
     "output_type": "stream",
     "text": [
      "URL: https://jobinja.ir/companies/snappbox\n",
      "Content Snippet: استخدام در شرکت اسنپ باکس، آگهی های استخدام Snappbox | جابینجاامکان جدید:همین حالا رزومه خود را در کمتر از ۱۰ دقیقه بسازید،برو به رزومه‌سازJobinja | جابینجا | استخدام، آگهی استخدام، کاریابی، استخدامی جدید، بازار کار، نیازمندیها، ساخت رزومه رایگان، کار و استخدام دولتی، اشتغال، جستجوگر حرفه ای استخدام و شغلخانهجستجوی مشاغلرزومه‌ساز۵۰ شرکت برتربخش کارفرمایانورود کارجوثبت‌نام کارجوورود کارجوثبت‌نام کارجو۱جابینجا چطور به استخدام شدن من کمک می‌کند؟مشاهدهمشاهده بیشتراسنپ باکس|Snappboxتاسیس در  ۱۳۹۶کامپیوتر، فناوری اطلاعات و اینترنت۲۰۱ تا ۵۰۰ نفرsnapp-box.comدر یک نگاهمعرفیفرصت‌های شغلی۱۹مجموعه اسنپ باکس متشکل از جوانانی فعال، خلاق و علاقه مند به پیشرفت و با هدف دستیابی به آرمان‌هایی از جمله محیط زیست سالم و هوایی پاک پا به عرصه رقابت در بازار حمل و نقل و لاجستیک نهاده است.موقعیت مکانیتهران، تهراناعضای شرکتثمر رشیدبیگیمدیرعاملدر اسنپ باکس هر روز یه فکر و برنامه جدید هست برای رشد و موفقیت بیشتر. این یعنی چالش، تجربه و یادگیری در کار که می‌تونه به بهتر بودن و بهتر زندگی کردن کمک کنه . \n",
      "اگر پیشر\n",
      "\n"
     ]
    },
    {
     "name": "stderr",
     "output_type": "stream",
     "text": [
      "C:\\Users\\negin\\anaconda3\\Lib\\site-packages\\urllib3\\connectionpool.py:1099: InsecureRequestWarning: Unverified HTTPS request is being made to host 'jobinja.ir'. Adding certificate verification is strongly advised. See: https://urllib3.readthedocs.io/en/latest/advanced-usage.html#tls-warnings\n",
      "  warnings.warn(\n"
     ]
    },
    {
     "name": "stdout",
     "output_type": "stream",
     "text": [
      "URL: https://jobinja.ir/knowledge/employer-faq/pages/employer-tos\n",
      "Content Snippet: قوانین و شرایط استفاده کارفرمایان | جابینجاامکان جدید:همین حالا رزومه خود را در کمتر از ۱۰ دقیقه بسازید،برو به رزومه‌سازJobinja | جابینجا | استخدام، آگهی استخدام، کاریابی، استخدامی جدید، بازار کار، نیازمندیها، ساخت رزومه رایگان، کار و استخدام دولتی، اشتغال، جستجوگر حرفه ای استخدام و شغلخانهجستجوی مشاغلرزومه‌ساز۵۰ شرکت برتربخش کارفرمایانورود کارجوثبت‌نام کارجوورود کارجوثبت‌نام کارجو۱جابینجا چطور به استخدام شدن من کمک می‌کند؟مشاهدهمشاهده بیشترسوالات متداول کارفرمایانقوانین و شرایط استفاده کارفرمایانقوانین و شرایط استفاده کارفرمایانهرگونه استفاده از جابینجا به معنی پذیرفتن شرایط مندرج در این سایت است. جابینجا هیچ توافقی با کاربران خارج از این شرایط ندارد. شرایط زیر مربوط به کسانی است که به هر شکلی از آگهی‌های منتشر شده‌ جابینجا استفاده می‌کنند.موارد زیر منجر به عدم انتشار آگهی و یا تغییر آن خواهد شد:مغایرت با قوانین جاری جمهوری اسلامی ایران و عرف جامعه، ناقض حریم شخصی افراد، نقص در اطلاعات شرکت (مانند لوگو، شرح فعالیت، آدرس وب‌سایت، شماره تلفن و...)، هر گونه توهین به ادیان رسمی کشور، آداب\n",
      "\n"
     ]
    },
    {
     "name": "stderr",
     "output_type": "stream",
     "text": [
      "C:\\Users\\negin\\anaconda3\\Lib\\site-packages\\urllib3\\connectionpool.py:1099: InsecureRequestWarning: Unverified HTTPS request is being made to host 'jobinja.ir'. Adding certificate verification is strongly advised. See: https://urllib3.readthedocs.io/en/latest/advanced-usage.html#tls-warnings\n",
      "  warnings.warn(\n"
     ]
    },
    {
     "name": "stdout",
     "output_type": "stream",
     "text": [
      "URL: https://jobinja.ir/companies/drsaina\n",
      "Content Snippet: استخدام در شرکت دکتر ساینا، آگهی های استخدام Dr Saina | جابینجاامکان جدید:همین حالا رزومه خود را در کمتر از ۱۰ دقیقه بسازید،برو به رزومه‌سازJobinja | جابینجا | استخدام، آگهی استخدام، کاریابی، استخدامی جدید، بازار کار، نیازمندیها، ساخت رزومه رایگان، کار و استخدام دولتی، اشتغال، جستجوگر حرفه ای استخدام و شغلخانهجستجوی مشاغلرزومه‌ساز۵۰ شرکت برتربخش کارفرمایانورود کارجوثبت‌نام کارجوورود کارجوثبت‌نام کارجو۱جابینجا چطور به استخدام شدن من کمک می‌کند؟مشاهدهمشاهده بیشتردکتر ساینا|Dr Sainaتاسیس در  ۱۳۹۵خدمات درمانی، پزشکی و سلامت۵۱ تا ۲۰۰ نفرdrsaina.comدر یک نگاهمعرفیفرصت‌های شغلی۱۲دکتر ساینا محصول شرکت دانش بنیان صنعتی نوین فناوران همراه ساینا است.موقعیت مکانیتهران، تهراناعضای شرکتمهدی خدادادیمدیر عامل  و بنیانگذاردکتر ساینا جایی است برای خلق آینده افراد خلاق و باهوش. اگر شما هم به دنبال خلق آینده خود هستید، دکترساینا می تواند بستری برای شما ایجاد کند تا بودن و عملکرد شما در زمان حال در مسیر رسیدن به آینده خلق شده مد نظرتان باشد.حسام صالحمدیر ارشد فنیاولین اولویت ما در دکترساینا توسعه فردی خود \n",
      "\n"
     ]
    },
    {
     "name": "stderr",
     "output_type": "stream",
     "text": [
      "C:\\Users\\negin\\anaconda3\\Lib\\site-packages\\urllib3\\connectionpool.py:1099: InsecureRequestWarning: Unverified HTTPS request is being made to host 'jobinja.ir'. Adding certificate verification is strongly advised. See: https://urllib3.readthedocs.io/en/latest/advanced-usage.html#tls-warnings\n",
      "  warnings.warn(\n"
     ]
    },
    {
     "name": "stdout",
     "output_type": "stream",
     "text": [
      "URL: https://jobinja.ir/companies/snapp-group-1/jobs\n",
      "Content Snippet: فرصت‌های شغلی فعال در گروه اسنپ | Snapp Group | جابینجاامکان جدید:همین حالا رزومه خود را در کمتر از ۱۰ دقیقه بسازید،برو به رزومه‌سازJobinja | جابینجا | استخدام، آگهی استخدام، کاریابی، استخدامی جدید، بازار کار، نیازمندیها، ساخت رزومه رایگان، کار و استخدام دولتی، اشتغال، جستجوگر حرفه ای استخدام و شغلخانهجستجوی مشاغلرزومه‌ساز۵۰ شرکت برتربخش کارفرمایانورود کارجوثبت‌نام کارجوورود کارجوثبت‌نام کارجو۱جابینجا چطور به استخدام شدن من کمک می‌کند؟مشاهدهمشاهده بیشترگروه اسنپ|Snapp Groupتاسیس در  ۲۰۱۳کامپیوتر، فناوری اطلاعات و اینترنتبیش از ۱۰۰۰ نفردر یک نگاهمعرفیفرصت‌های شغلی۴۳معرفی گروه اسنپاسنپ گروپ متشکل از فعالترین شرکت‌های اینترنتی (اسنپ، اسنپ فود، اسنپ باکس، اسنپ مارکت، اسنپ تریپ، اسنپ تیکت، اسنپ روم، اسنپ ساپلای، اسنپ دکتر، اسنپ کیچن و اسنپ پی و اسنپ شاپ و اسنپ اکسپرس) در ایران است و عمیقا متعهد به ترویج کارآفرینی و نوآوری در جامعه‌ی آنلاین ایران می‌باشد.ماموریت این گروه سرعت بخشیدن به رشد و موفقیت اقتصاد توسعه یافته بر پایه‌ی اینترنت در سراسر کشور و افزایش کیفیت زندگی مردم از طریق ارائه‌ی ب\n",
      "\n"
     ]
    },
    {
     "name": "stderr",
     "output_type": "stream",
     "text": [
      "C:\\Users\\negin\\anaconda3\\Lib\\site-packages\\urllib3\\connectionpool.py:1099: InsecureRequestWarning: Unverified HTTPS request is being made to host 'jobinja.ir'. Adding certificate verification is strongly advised. See: https://urllib3.readthedocs.io/en/latest/advanced-usage.html#tls-warnings\n",
      "  warnings.warn(\n",
      "C:\\Users\\negin\\anaconda3\\Lib\\site-packages\\urllib3\\connectionpool.py:1099: InsecureRequestWarning: Unverified HTTPS request is being made to host 'jobinja.ir'. Adding certificate verification is strongly advised. See: https://urllib3.readthedocs.io/en/latest/advanced-usage.html#tls-warnings\n",
      "  warnings.warn(\n"
     ]
    },
    {
     "name": "stdout",
     "output_type": "stream",
     "text": [
      "URL: https://jobinja.ir/jobs?filters%5Bjob_categories%5D%5B%5D=%DA%A9%D8%A7%D8%B1%DA%AF%D8%B1+%D9%85%D8%A7%D9%87%D8%B1%D8%8C+%DA%A9%D8%A7%D8%B1%DA%AF%D8%B1+%D8%B5%D9%86%D8%B9%D8%AA%DB%8C\n",
      "Content Snippet: استخدام کارگر ماهر | استخدام کارگر صنعتی | استخدام فنی کار | جابینجا\n",
      " | جابینجاامکان جدید:همین حالا رزومه خود را در کمتر از ۱۰ دقیقه بسازید،برو به رزومه‌سازJobinja | جابینجا | استخدام، آگهی استخدام، کاریابی، استخدامی جدید، بازار کار، نیازمندیها، ساخت رزومه رایگان، کار و استخدام دولتی، اشتغال، جستجوگر حرفه ای استخدام و شغلخانهجستجوی مشاغلرزومه‌ساز۵۰ شرکت برتربخش کارفرمایانورود کارجوثبت‌نام کارجوورود کارجوثبت‌نام کارجو۱جابینجا چطور به استخدام شدن من کمک می‌کند؟مشاهدهمشاهده بیشترجستجودرخواست‌های مننشان‌شده‌هاآگهی‌های پیشنهادیاز آگهی‌های جدید باخبر شوبهترین فرصت های شغلی در جابینجاهمه‌ی استان‌هاتهرانخراسان رضویاصفهانالبرزفارسقمآذربایجان شرقیمازندرانگیلانخوزستانکرمانیزدقزوینمرکزیهرمزگانگلستانزنجانآذربایجان غربیبوشهرسیستان و بلوچستانسمنانکرمانشاههمداناردبیللرستانکردستانخراسان شمالیخراسان جنوبیچهارمحال بختیاریایلامکهکیلویه و بویراحمدهمه‌ی دسته‌بندی‌هاکارگر ماهر، کارگر صنعتیفروش و بازاریابیوب،‌ برنامه‌نویسی و نرم‌افزارمالی و حسابداریمسئول دفتر، اجرائی و اداریتولید و مدیریت محتوادیجیتال مارکتین\n",
      "\n"
     ]
    },
    {
     "name": "stderr",
     "output_type": "stream",
     "text": [
      "C:\\Users\\negin\\anaconda3\\Lib\\site-packages\\urllib3\\connectionpool.py:1099: InsecureRequestWarning: Unverified HTTPS request is being made to host 'jobinja.ir'. Adding certificate verification is strongly advised. See: https://urllib3.readthedocs.io/en/latest/advanced-usage.html#tls-warnings\n",
      "  warnings.warn(\n",
      "C:\\Users\\negin\\anaconda3\\Lib\\site-packages\\urllib3\\connectionpool.py:1099: InsecureRequestWarning: Unverified HTTPS request is being made to host 'jobinja.ir'. Adding certificate verification is strongly advised. See: https://urllib3.readthedocs.io/en/latest/advanced-usage.html#tls-warnings\n",
      "  warnings.warn(\n"
     ]
    },
    {
     "name": "stdout",
     "output_type": "stream",
     "text": [
      "URL: https://jobinja.ir/jobs?filters%5Bjob_categories%5D%5B%5D=%D8%AE%D8%B1%DB%8C%D8%AF+%D9%88+%D8%A8%D8%A7%D8%B2%D8%B1%DA%AF%D8%A7%D9%86%DB%8C\n",
      "Content Snippet: استخدام کارشناس خرید | استخدام کارشناس تدارکات | استخدام کارشناس بازرگانی | جابینجا\n",
      " | جابینجاامکان جدید:همین حالا رزومه خود را در کمتر از ۱۰ دقیقه بسازید،برو به رزومه‌سازJobinja | جابینجا | استخدام، آگهی استخدام، کاریابی، استخدامی جدید، بازار کار، نیازمندیها، ساخت رزومه رایگان، کار و استخدام دولتی، اشتغال، جستجوگر حرفه ای استخدام و شغلخانهجستجوی مشاغلرزومه‌ساز۵۰ شرکت برتربخش کارفرمایانورود کارجوثبت‌نام کارجوورود کارجوثبت‌نام کارجو۱جابینجا چطور به استخدام شدن من کمک می‌کند؟مشاهدهمشاهده بیشترجستجودرخواست‌های مننشان‌شده‌هاآگهی‌های پیشنهادیاز آگهی‌های جدید باخبر شوبهترین فرصت های شغلی در جابینجاهمه‌ی استان‌هاتهرانخراسان رضویاصفهانالبرزفارسقمآذربایجان شرقیمازندرانگیلانخوزستانکرمانیزدقزوینمرکزیهرمزگانگلستانزنجانآذربایجان غربیبوشهرسیستان و بلوچستانسمنانکرمانشاههمداناردبیللرستانکردستانخراسان شمالیخراسان جنوبیچهارمحال بختیاریایلامکهکیلویه و بویراحمدهمه‌ی دسته‌بندی‌هاخرید و بازرگانیفروش و بازاریابیوب،‌ برنامه‌نویسی و نرم‌افزارمالی و حسابداریمسئول دفتر، اجرائی و اداریتولید و مدیریت محتوادیجیتال \n",
      "\n"
     ]
    },
    {
     "name": "stderr",
     "output_type": "stream",
     "text": [
      "C:\\Users\\negin\\anaconda3\\Lib\\site-packages\\urllib3\\connectionpool.py:1099: InsecureRequestWarning: Unverified HTTPS request is being made to host 'jobinja.ir'. Adding certificate verification is strongly advised. See: https://urllib3.readthedocs.io/en/latest/advanced-usage.html#tls-warnings\n",
      "  warnings.warn(\n",
      "C:\\Users\\negin\\anaconda3\\Lib\\site-packages\\urllib3\\connectionpool.py:1099: InsecureRequestWarning: Unverified HTTPS request is being made to host 'jobinja.ir'. Adding certificate verification is strongly advised. See: https://urllib3.readthedocs.io/en/latest/advanced-usage.html#tls-warnings\n",
      "  warnings.warn(\n"
     ]
    },
    {
     "name": "stdout",
     "output_type": "stream",
     "text": [
      "URL: https://jobinja.ir/jobs?filters%5Bjob_categories%5D%5B%5D=%D9%BE%D8%B4%D8%AA%DB%8C%D8%A8%D8%A7%D9%86%DB%8C+%D9%88+%D8%A7%D9%85%D9%88%D8%B1+%D9%85%D8%B4%D8%AA%D8%B1%DB%8C%D8%A7%D9%86\n",
      "Content Snippet: استخدام پشتیبانی و امور مشتریان\n",
      " | جابینجاامکان جدید:همین حالا رزومه خود را در کمتر از ۱۰ دقیقه بسازید،برو به رزومه‌سازJobinja | جابینجا | استخدام، آگهی استخدام، کاریابی، استخدامی جدید، بازار کار، نیازمندیها، ساخت رزومه رایگان، کار و استخدام دولتی، اشتغال، جستجوگر حرفه ای استخدام و شغلخانهجستجوی مشاغلرزومه‌ساز۵۰ شرکت برتربخش کارفرمایانورود کارجوثبت‌نام کارجوورود کارجوثبت‌نام کارجو۱جابینجا چطور به استخدام شدن من کمک می‌کند؟مشاهدهمشاهده بیشترجستجودرخواست‌های مننشان‌شده‌هاآگهی‌های پیشنهادیاز آگهی‌های جدید باخبر شوبهترین فرصت های شغلی در جابینجاهمه‌ی استان‌هاتهرانخراسان رضویاصفهانالبرزفارسقمآذربایجان شرقیمازندرانگیلانخوزستانکرمانیزدقزوینمرکزیهرمزگانگلستانزنجانآذربایجان غربیبوشهرسیستان و بلوچستانسمنانکرمانشاههمداناردبیللرستانکردستانخراسان شمالیخراسان جنوبیچهارمحال بختیاریایلامکهکیلویه و بویراحمدهمه‌ی دسته‌بندی‌هاپشتیبانی و امور مشتریانفروش و بازاریابیوب،‌ برنامه‌نویسی و نرم‌افزارمالی و حسابداریمسئول دفتر، اجرائی و اداریتولید و مدیریت محتوادیجیتال مارکتینگطراحیIT / DevOps / Serverمهندسی صنای\n",
      "\n"
     ]
    },
    {
     "name": "stderr",
     "output_type": "stream",
     "text": [
      "C:\\Users\\negin\\anaconda3\\Lib\\site-packages\\urllib3\\connectionpool.py:1099: InsecureRequestWarning: Unverified HTTPS request is being made to host 'jobinja.ir'. Adding certificate verification is strongly advised. See: https://urllib3.readthedocs.io/en/latest/advanced-usage.html#tls-warnings\n",
      "  warnings.warn(\n"
     ]
    },
    {
     "name": "stdout",
     "output_type": "stream",
     "text": [
      "URL: https://jobinja.ir/jobs?filters%5Bkeywords%5D%5B0%5D=%D9%85%D9%86%D8%A7%D8%A8%D8%B9+%D8%A7%D9%86%D8%B3%D8%A7%D9%86%DB%8C\n",
      "Content Snippet: فرصت های شغلی منابع انسانی\n",
      " | جابینجاامکان جدید:همین حالا رزومه خود را در کمتر از ۱۰ دقیقه بسازید،برو به رزومه‌سازJobinja | جابینجا | استخدام، آگهی استخدام، کاریابی، استخدامی جدید، بازار کار، نیازمندیها، ساخت رزومه رایگان، کار و استخدام دولتی، اشتغال، جستجوگر حرفه ای استخدام و شغلخانهجستجوی مشاغلرزومه‌ساز۵۰ شرکت برتربخش کارفرمایانورود کارجوثبت‌نام کارجوورود کارجوثبت‌نام کارجو۱جابینجا چطور به استخدام شدن من کمک می‌کند؟مشاهدهمشاهده بیشترجستجودرخواست‌های مننشان‌شده‌هاآگهی‌های پیشنهادیاز آگهی‌های جدید باخبر شوبهترین فرصت های شغلی در جابینجاهمه‌ی استان‌هاتهرانخراسان رضویاصفهانالبرزفارسقمآذربایجان شرقیمازندرانگیلانخوزستانکرمانیزدقزوینمرکزیهرمزگانگلستانزنجانآذربایجان غربیبوشهرسیستان و بلوچستانسمنانکرمانشاههمداناردبیللرستانکردستانخراسان شمالیخراسان جنوبیچهارمحال بختیاریایلامکهکیلویه و بویراحمدهمه‌ی دسته‌بندی‌هافروش و بازاریابیوب،‌ برنامه‌نویسی و نرم‌افزارمالی و حسابداریمسئول دفتر، اجرائی و اداریتولید و مدیریت محتوادیجیتال مارکتینگپشتیبانی و امور مشتریانطراحیIT / DevOps / Serverمهندسی صنایع و م\n",
      "\n"
     ]
    },
    {
     "name": "stderr",
     "output_type": "stream",
     "text": [
      "C:\\Users\\negin\\anaconda3\\Lib\\site-packages\\urllib3\\connectionpool.py:1099: InsecureRequestWarning: Unverified HTTPS request is being made to host 'jobinja.ir'. Adding certificate verification is strongly advised. See: https://urllib3.readthedocs.io/en/latest/advanced-usage.html#tls-warnings\n",
      "  warnings.warn(\n"
     ]
    },
    {
     "name": "stdout",
     "output_type": "stream",
     "text": [
      "URL: https://jobinja.ir/companies/entakala/jobs\n",
      "Content Snippet: فرصت‌های شغلی فعال در انتاکالا  | Entakala | جابینجاامکان جدید:همین حالا رزومه خود را در کمتر از ۱۰ دقیقه بسازید،برو به رزومه‌سازJobinja | جابینجا | استخدام، آگهی استخدام، کاریابی، استخدامی جدید، بازار کار، نیازمندیها، ساخت رزومه رایگان، کار و استخدام دولتی، اشتغال، جستجوگر حرفه ای استخدام و شغلخانهجستجوی مشاغلرزومه‌ساز۵۰ شرکت برتربخش کارفرمایانورود کارجوثبت‌نام کارجوورود کارجوثبت‌نام کارجو۱جابینجا چطور به استخدام شدن من کمک می‌کند؟مشاهدهمشاهده بیشترانتاکالا|Entakalaتاسیس در  ۱۳۹۷کامپیوتر، فناوری اطلاعات و اینترنت۵۱ تا ۲۰۰ نفرwww.entakala.comدر یک نگاهمعرفیفرصت‌های شغلی۱معرفی انتاکالاانتاکالا؛ بازار آنلاین کالاهای صنعتی است که در سال 1397 راه‌اندازی شده است. ما می‌خواهیم برای گسترش کار و دانش خود از دیگر متخصصان و تجربیات آن‌ھا استفاده کنیم تا سرعت بیشتری برای رشد و توسعه داشته باشیم و از سوی دیگر، دوست داریم فرصت گسترش توانمندی‌ھا و کسب تجربه را در اختیار ھمکاران تازه خود قرار دهیم.اگر شما ھم می‌خواھید تجربه تازه‌ای در مسیر شغلی‌تان به دست آورید و البته مھارت‌ھای مورد نیاز را برای توس\n",
      "\n"
     ]
    },
    {
     "name": "stderr",
     "output_type": "stream",
     "text": [
      "C:\\Users\\negin\\anaconda3\\Lib\\site-packages\\urllib3\\connectionpool.py:1099: InsecureRequestWarning: Unverified HTTPS request is being made to host 'jobinja.ir'. Adding certificate verification is strongly advised. See: https://urllib3.readthedocs.io/en/latest/advanced-usage.html#tls-warnings\n",
      "  warnings.warn(\n"
     ]
    },
    {
     "name": "stdout",
     "output_type": "stream",
     "text": [
      "URL: https://jobinja.ir/jobs?filters%5Bkeywords%5D%5B0%5D=%D9%85%D8%AA%D8%B1%D8%AC%D9%85\n",
      "Content Snippet: فرصت های شغلی مترجم\n",
      " | جابینجاامکان جدید:همین حالا رزومه خود را در کمتر از ۱۰ دقیقه بسازید،برو به رزومه‌سازJobinja | جابینجا | استخدام، آگهی استخدام، کاریابی، استخدامی جدید، بازار کار، نیازمندیها، ساخت رزومه رایگان، کار و استخدام دولتی، اشتغال، جستجوگر حرفه ای استخدام و شغلخانهجستجوی مشاغلرزومه‌ساز۵۰ شرکت برتربخش کارفرمایانورود کارجوثبت‌نام کارجوورود کارجوثبت‌نام کارجو۱جابینجا چطور به استخدام شدن من کمک می‌کند؟مشاهدهمشاهده بیشترجستجودرخواست‌های مننشان‌شده‌هاآگهی‌های پیشنهادیاز آگهی‌های جدید باخبر شوبهترین فرصت های شغلی در جابینجاهمه‌ی استان‌هاتهرانخراسان رضویاصفهانالبرزفارسقمآذربایجان شرقیمازندرانگیلانخوزستانکرمانیزدقزوینمرکزیهرمزگانگلستانزنجانآذربایجان غربیبوشهرسیستان و بلوچستانسمنانکرمانشاههمداناردبیللرستانکردستانخراسان شمالیخراسان جنوبیچهارمحال بختیاریایلامکهکیلویه و بویراحمدهمه‌ی دسته‌بندی‌هافروش و بازاریابیوب،‌ برنامه‌نویسی و نرم‌افزارمالی و حسابداریمسئول دفتر، اجرائی و اداریتولید و مدیریت محتوادیجیتال مارکتینگپشتیبانی و امور مشتریانطراحیIT / DevOps / Serverمهندسی صنایع و مدیریت ص\n",
      "\n"
     ]
    },
    {
     "name": "stderr",
     "output_type": "stream",
     "text": [
      "C:\\Users\\negin\\anaconda3\\Lib\\site-packages\\urllib3\\connectionpool.py:1099: InsecureRequestWarning: Unverified HTTPS request is being made to host 'jobinja.ir'. Adding certificate verification is strongly advised. See: https://urllib3.readthedocs.io/en/latest/advanced-usage.html#tls-warnings\n",
      "  warnings.warn(\n",
      "C:\\Users\\negin\\anaconda3\\Lib\\site-packages\\urllib3\\connectionpool.py:1099: InsecureRequestWarning: Unverified HTTPS request is being made to host 'jobinja.ir'. Adding certificate verification is strongly advised. See: https://urllib3.readthedocs.io/en/latest/advanced-usage.html#tls-warnings\n",
      "  warnings.warn(\n"
     ]
    },
    {
     "name": "stdout",
     "output_type": "stream",
     "text": [
      "URL: https://jobinja.ir/jobs?filters%5Bjob_categories%5D%5B%5D=%D9%85%D8%AF%DB%8C%D8%B1+%D9%85%D8%AD%D8%B5%D9%88%D9%84\n",
      "Content Snippet: استخدام مدیر محصول | آگهی استخدام مالک محصول\n",
      " | جابینجاامکان جدید:همین حالا رزومه خود را در کمتر از ۱۰ دقیقه بسازید،برو به رزومه‌سازJobinja | جابینجا | استخدام، آگهی استخدام، کاریابی، استخدامی جدید، بازار کار، نیازمندیها، ساخت رزومه رایگان، کار و استخدام دولتی، اشتغال، جستجوگر حرفه ای استخدام و شغلخانهجستجوی مشاغلرزومه‌ساز۵۰ شرکت برتربخش کارفرمایانورود کارجوثبت‌نام کارجوورود کارجوثبت‌نام کارجو۱جابینجا چطور به استخدام شدن من کمک می‌کند؟مشاهدهمشاهده بیشترجستجودرخواست‌های مننشان‌شده‌هاآگهی‌های پیشنهادیاز آگهی‌های جدید باخبر شوبهترین فرصت های شغلی در جابینجاهمه‌ی استان‌هاتهرانخراسان رضویاصفهانالبرزفارسقمآذربایجان شرقیمازندرانگیلانخوزستانکرمانیزدقزوینمرکزیهرمزگانگلستانزنجانآذربایجان غربیبوشهرسیستان و بلوچستانسمنانکرمانشاههمداناردبیللرستانکردستانخراسان شمالیخراسان جنوبیچهارمحال بختیاریایلامکهکیلویه و بویراحمدهمه‌ی دسته‌بندی‌هامدیر محصولفروش و بازاریابیوب،‌ برنامه‌نویسی و نرم‌افزارمالی و حسابداریمسئول دفتر، اجرائی و اداریتولید و مدیریت محتوادیجیتال مارکتینگپشتیبانی و امور مشتریانطراحیIT / Dev\n",
      "\n"
     ]
    },
    {
     "name": "stderr",
     "output_type": "stream",
     "text": [
      "C:\\Users\\negin\\anaconda3\\Lib\\site-packages\\urllib3\\connectionpool.py:1099: InsecureRequestWarning: Unverified HTTPS request is being made to host 'jobinja.ir'. Adding certificate verification is strongly advised. See: https://urllib3.readthedocs.io/en/latest/advanced-usage.html#tls-warnings\n",
      "  warnings.warn(\n",
      "C:\\Users\\negin\\anaconda3\\Lib\\site-packages\\urllib3\\connectionpool.py:1099: InsecureRequestWarning: Unverified HTTPS request is being made to host 'jobinja.ir'. Adding certificate verification is strongly advised. See: https://urllib3.readthedocs.io/en/latest/advanced-usage.html#tls-warnings\n",
      "  warnings.warn(\n"
     ]
    },
    {
     "name": "stdout",
     "output_type": "stream",
     "text": [
      "URL: https://jobinja.ir/jobs?filters%5Bjob_categories%5D%5B%5D=%D8%AD%D9%88%D8%B2%D9%87%E2%80%8C+%D8%B3%DB%8C%D9%86%D9%85%D8%A7+%D9%88+%D8%AA%D8%B5%D9%88%DB%8C%D8%B1\n",
      "Content Snippet: استخدام تصویربردار | استخدام مجری\n",
      " | جابینجاامکان جدید:همین حالا رزومه خود را در کمتر از ۱۰ دقیقه بسازید،برو به رزومه‌سازJobinja | جابینجا | استخدام، آگهی استخدام، کاریابی، استخدامی جدید، بازار کار، نیازمندیها، ساخت رزومه رایگان، کار و استخدام دولتی، اشتغال، جستجوگر حرفه ای استخدام و شغلخانهجستجوی مشاغلرزومه‌ساز۵۰ شرکت برتربخش کارفرمایانورود کارجوثبت‌نام کارجوورود کارجوثبت‌نام کارجو۱جابینجا چطور به استخدام شدن من کمک می‌کند؟مشاهدهمشاهده بیشترجستجودرخواست‌های مننشان‌شده‌هاآگهی‌های پیشنهادیاز آگهی‌های جدید باخبر شوبهترین فرصت های شغلی در جابینجاهمه‌ی استان‌هاتهرانخراسان رضویاصفهانالبرزفارسقمآذربایجان شرقیمازندرانگیلانخوزستانکرمانیزدقزوینمرکزیهرمزگانگلستانزنجانآذربایجان غربیبوشهرسیستان و بلوچستانسمنانکرمانشاههمداناردبیللرستانکردستانخراسان شمالیخراسان جنوبیچهارمحال بختیاریایلامکهکیلویه و بویراحمدهمه‌ی دسته‌بندی‌هاحوزه‌ سینما و تصویرفروش و بازاریابیوب،‌ برنامه‌نویسی و نرم‌افزارمالی و حسابداریمسئول دفتر، اجرائی و اداریتولید و مدیریت محتوادیجیتال مارکتینگپشتیبانی و امور مشتریانطراحیIT / DevOp\n",
      "\n"
     ]
    },
    {
     "name": "stderr",
     "output_type": "stream",
     "text": [
      "C:\\Users\\negin\\anaconda3\\Lib\\site-packages\\urllib3\\connectionpool.py:1099: InsecureRequestWarning: Unverified HTTPS request is being made to host 'jobinja.ir'. Adding certificate verification is strongly advised. See: https://urllib3.readthedocs.io/en/latest/advanced-usage.html#tls-warnings\n",
      "  warnings.warn(\n"
     ]
    },
    {
     "name": "stdout",
     "output_type": "stream",
     "text": [
      "URL: https://jobinja.ir/companies/paklean-1/jobs/A7w8/%D8%A7%D8%B3%D8%AA%D8%AE%D8%AF%D8%A7%D9%85-%DA%A9%D8%A7%D8%B1%D8%B4%D9%86%D8%A7%D8%B3-%D9%BE%D8%B4%D8%AA%DB%8C%D8%A8%D8%A7%D9%86%DB%8C-%D9%88-%D8%A7%D8%B1%D8%AA%D8%A8%D8%A7%D8%B7-%D8%A8%D8%A7-%D9%85%D8%B4%D8%AA%D8%B1%DB%8C%D8%A7%D9%86-%D8%AF%D8%B1-%D9%BE%D8%A7%DA%A9%D9%84%DB%8C%D9%86?_ref=18\n",
      "Content Snippet: استخدام کارشناس پشتیبانی و ارتباط با مشتریان در پاکلین | جابینجاامکان جدید:همین حالا رزومه خود را در کمتر از ۱۰ دقیقه بسازید،برو به رزومه‌سازJobinja | جابینجا | استخدام، آگهی استخدام، کاریابی، استخدامی جدید، بازار کار، نیازمندیها، ساخت رزومه رایگان، کار و استخدام دولتی، اشتغال، جستجوگر حرفه ای استخدام و شغلخانهجستجوی مشاغلرزومه‌ساز۵۰ شرکت برتربخش کارفرمایانورود کارجوثبت‌نام کارجوورود کارجوثبت‌نام کارجو۱جابینجا چطور به استخدام شدن من کمک می‌کند؟مشاهدهمشاهده بیشترپاکلین|Pakleanکامپیوتر، فناوری اطلاعات و اینترنت۱۱ تا ۵۰ نفرpaklean.comفرصت‌های شغلی۳استخدام کارشناس پشتیبانی و ارتباط با مشتریانلطفا برای مشاهده‌ی جزییات و ارسال رزومهیکی از راه‌های زیر را انتخاب کنیدورود / ثبت‌نام با ایمیلimage/svg+xmlbtn_google_light_normal_iosbtn_google_light_normal_iosCreated with Sketch.ورود / ثبت‌نام با گوگل\n",
      "                    (Gmail)ورود / ثبت‌نام با لینکدیناستخدام کارشناس پشتیبانی و ارتباط با مشتریان{{ tooltipText }}{{ hoverTitle }}نشان کردنحذف نشاندسته‌بندی شغلیپشتیبانی و امور مشتریانموقعیت مکانیتهران\n",
      "\n"
     ]
    },
    {
     "name": "stderr",
     "output_type": "stream",
     "text": [
      "C:\\Users\\negin\\anaconda3\\Lib\\site-packages\\urllib3\\connectionpool.py:1099: InsecureRequestWarning: Unverified HTTPS request is being made to host 'jobinja.ir'. Adding certificate verification is strongly advised. See: https://urllib3.readthedocs.io/en/latest/advanced-usage.html#tls-warnings\n",
      "  warnings.warn(\n"
     ]
    },
    {
     "name": "stdout",
     "output_type": "stream",
     "text": [
      "URL: https://jobinja.ir/companies/seodo-1/jobs/A7gO/%D8%A7%D8%B3%D8%AA%D8%AE%D8%AF%D8%A7%D9%85-%DA%A9%D8%A7%D8%B1%D8%B4%D9%86%D8%A7%D8%B3-%D9%81%D8%B1%D9%88%D8%B4-%D8%AF%D8%B1-%D8%A2%DA%98%D8%A7%D9%86%D8%B3-%D8%B3%D8%A6%D9%88%D8%AF%D9%88?_ref=18\n",
      "Content Snippet: استخدام کارشناس فروش در آژانس سئودو | جابینجاامکان جدید:همین حالا رزومه خود را در کمتر از ۱۰ دقیقه بسازید،برو به رزومه‌سازJobinja | جابینجا | استخدام، آگهی استخدام، کاریابی، استخدامی جدید، بازار کار، نیازمندیها، ساخت رزومه رایگان، کار و استخدام دولتی، اشتغال، جستجوگر حرفه ای استخدام و شغلخانهجستجوی مشاغلرزومه‌ساز۵۰ شرکت برتربخش کارفرمایانورود کارجوثبت‌نام کارجوورود کارجوثبت‌نام کارجو۱جابینجا چطور به استخدام شدن من کمک می‌کند؟مشاهدهمشاهده بیشترآژانس سئودو|Seodoتبلیغات، بازاریابی و برندسازی۱۱ تا ۵۰ نفرseodo.agencyفرصت‌های شغلی۱۵استخدام کارشناس فروشلطفا برای مشاهده‌ی جزییات و ارسال رزومهیکی از راه‌های زیر را انتخاب کنیدورود / ثبت‌نام با ایمیلimage/svg+xmlbtn_google_light_normal_iosbtn_google_light_normal_iosCreated with Sketch.ورود / ثبت‌نام با گوگل\n",
      "                    (Gmail)ورود / ثبت‌نام با لینکدیناستخدام کارشناس فروش{{ tooltipText }}{{ hoverTitle }}نشان کردنحذف نشاندسته‌بندی شغلیفروش و بازاریابیموقعیت مکانیتهران\n",
      "                                                ، تهراننوع همکاریتمام وقت\n",
      "\n"
     ]
    },
    {
     "name": "stderr",
     "output_type": "stream",
     "text": [
      "C:\\Users\\negin\\anaconda3\\Lib\\site-packages\\urllib3\\connectionpool.py:1099: InsecureRequestWarning: Unverified HTTPS request is being made to host 'jobinja.ir'. Adding certificate verification is strongly advised. See: https://urllib3.readthedocs.io/en/latest/advanced-usage.html#tls-warnings\n",
      "  warnings.warn(\n"
     ]
    },
    {
     "name": "stdout",
     "output_type": "stream",
     "text": [
      "URL: https://jobinja.ir/jobs?filters%5Bkeywords%5D%5B0%5D=%DA%A9%D8%A7%D8%B1%D8%A2%D9%85%D9%88%D8%B2\n",
      "Content Snippet: فرصت های شغلی کارآموز\n",
      " | جابینجاامکان جدید:همین حالا رزومه خود را در کمتر از ۱۰ دقیقه بسازید،برو به رزومه‌سازJobinja | جابینجا | استخدام، آگهی استخدام، کاریابی، استخدامی جدید، بازار کار، نیازمندیها، ساخت رزومه رایگان، کار و استخدام دولتی، اشتغال، جستجوگر حرفه ای استخدام و شغلخانهجستجوی مشاغلرزومه‌ساز۵۰ شرکت برتربخش کارفرمایانورود کارجوثبت‌نام کارجوورود کارجوثبت‌نام کارجو۱جابینجا چطور به استخدام شدن من کمک می‌کند؟مشاهدهمشاهده بیشترجستجودرخواست‌های مننشان‌شده‌هاآگهی‌های پیشنهادیاز آگهی‌های جدید باخبر شوبهترین فرصت های شغلی در جابینجاهمه‌ی استان‌هاتهرانخراسان رضویاصفهانالبرزفارسقمآذربایجان شرقیمازندرانگیلانخوزستانکرمانیزدقزوینمرکزیهرمزگانگلستانزنجانآذربایجان غربیبوشهرسیستان و بلوچستانسمنانکرمانشاههمداناردبیللرستانکردستانخراسان شمالیخراسان جنوبیچهارمحال بختیاریایلامکهکیلویه و بویراحمدهمه‌ی دسته‌بندی‌هافروش و بازاریابیوب،‌ برنامه‌نویسی و نرم‌افزارمالی و حسابداریمسئول دفتر، اجرائی و اداریتولید و مدیریت محتوادیجیتال مارکتینگپشتیبانی و امور مشتریانطراحیIT / DevOps / Serverمهندسی صنایع و مدیریت\n",
      "\n"
     ]
    },
    {
     "name": "stderr",
     "output_type": "stream",
     "text": [
      "C:\\Users\\negin\\anaconda3\\Lib\\site-packages\\urllib3\\connectionpool.py:1099: InsecureRequestWarning: Unverified HTTPS request is being made to host 'jobinja.ir'. Adding certificate verification is strongly advised. See: https://urllib3.readthedocs.io/en/latest/advanced-usage.html#tls-warnings\n",
      "  warnings.warn(\n",
      "C:\\Users\\negin\\anaconda3\\Lib\\site-packages\\urllib3\\connectionpool.py:1099: InsecureRequestWarning: Unverified HTTPS request is being made to host 'jobinja.ir'. Adding certificate verification is strongly advised. See: https://urllib3.readthedocs.io/en/latest/advanced-usage.html#tls-warnings\n",
      "  warnings.warn(\n"
     ]
    },
    {
     "name": "stdout",
     "output_type": "stream",
     "text": [
      "URL: https://jobinja.ir/jobs?filters%5Bjob_categories%5D%5B%5D=%D9%85%D8%AF%DB%8C%D8%B1%DB%8C%D8%AA+%D8%A8%DB%8C%D9%85%D9%87\n",
      "Content Snippet: استخدام کارشناس بیمه | آگهی استخدام بیمه | استخدام کارشناس صدور بیمه | جابینجا\n",
      " | جابینجاامکان جدید:همین حالا رزومه خود را در کمتر از ۱۰ دقیقه بسازید،برو به رزومه‌سازJobinja | جابینجا | استخدام، آگهی استخدام، کاریابی، استخدامی جدید، بازار کار، نیازمندیها، ساخت رزومه رایگان، کار و استخدام دولتی، اشتغال، جستجوگر حرفه ای استخدام و شغلخانهجستجوی مشاغلرزومه‌ساز۵۰ شرکت برتربخش کارفرمایانورود کارجوثبت‌نام کارجوورود کارجوثبت‌نام کارجو۱جابینجا چطور به استخدام شدن من کمک می‌کند؟مشاهدهمشاهده بیشترجستجودرخواست‌های مننشان‌شده‌هاآگهی‌های پیشنهادیاز آگهی‌های جدید باخبر شوبهترین فرصت های شغلی در جابینجاهمه‌ی استان‌هاتهرانخراسان رضویاصفهانالبرزفارسقمآذربایجان شرقیمازندرانگیلانخوزستانکرمانیزدقزوینمرکزیهرمزگانگلستانزنجانآذربایجان غربیبوشهرسیستان و بلوچستانسمنانکرمانشاههمداناردبیللرستانکردستانخراسان شمالیخراسان جنوبیچهارمحال بختیاریایلامکهکیلویه و بویراحمدهمه‌ی دسته‌بندی‌هامدیریت بیمهفروش و بازاریابیوب،‌ برنامه‌نویسی و نرم‌افزارمالی و حسابداریمسئول دفتر، اجرائی و اداریتولید و مدیریت محتوادیجیتال مارکتینگپ\n",
      "\n"
     ]
    },
    {
     "name": "stderr",
     "output_type": "stream",
     "text": [
      "C:\\Users\\negin\\anaconda3\\Lib\\site-packages\\urllib3\\connectionpool.py:1099: InsecureRequestWarning: Unverified HTTPS request is being made to host 'jobinja.ir'. Adding certificate verification is strongly advised. See: https://urllib3.readthedocs.io/en/latest/advanced-usage.html#tls-warnings\n",
      "  warnings.warn(\n",
      "C:\\Users\\negin\\anaconda3\\Lib\\site-packages\\urllib3\\connectionpool.py:1099: InsecureRequestWarning: Unverified HTTPS request is being made to host 'jobinja.ir'. Adding certificate verification is strongly advised. See: https://urllib3.readthedocs.io/en/latest/advanced-usage.html#tls-warnings\n",
      "  warnings.warn(\n"
     ]
    },
    {
     "name": "stdout",
     "output_type": "stream",
     "text": [
      "URL: https://jobinja.ir/jobs?filters%5Bjob_categories%5D%5B%5D=%D9%85%D9%87%D9%86%D8%AF%D8%B3%DB%8C+%D8%A8%D8%B1%D9%82+%D9%88+%D8%A7%D9%84%DA%A9%D8%AA%D8%B1%D9%88%D9%86%DB%8C%DA%A9\n",
      "Content Snippet: استخدام مهندس برق و الکترونیک\n",
      " | جابینجاامکان جدید:همین حالا رزومه خود را در کمتر از ۱۰ دقیقه بسازید،برو به رزومه‌سازJobinja | جابینجا | استخدام، آگهی استخدام، کاریابی، استخدامی جدید، بازار کار، نیازمندیها، ساخت رزومه رایگان، کار و استخدام دولتی، اشتغال، جستجوگر حرفه ای استخدام و شغلخانهجستجوی مشاغلرزومه‌ساز۵۰ شرکت برتربخش کارفرمایانورود کارجوثبت‌نام کارجوورود کارجوثبت‌نام کارجو۱جابینجا چطور به استخدام شدن من کمک می‌کند؟مشاهدهمشاهده بیشترجستجودرخواست‌های مننشان‌شده‌هاآگهی‌های پیشنهادیاز آگهی‌های جدید باخبر شوبهترین فرصت های شغلی در جابینجاهمه‌ی استان‌هاتهرانخراسان رضویاصفهانالبرزفارسقمآذربایجان شرقیمازندرانگیلانخوزستانکرمانیزدقزوینمرکزیهرمزگانگلستانزنجانآذربایجان غربیبوشهرسیستان و بلوچستانسمنانکرمانشاههمداناردبیللرستانکردستانخراسان شمالیخراسان جنوبیچهارمحال بختیاریایلامکهکیلویه و بویراحمدهمه‌ی دسته‌بندی‌هامهندسی برق و الکترونیکفروش و بازاریابیوب،‌ برنامه‌نویسی و نرم‌افزارمالی و حسابداریمسئول دفتر، اجرائی و اداریتولید و مدیریت محتوادیجیتال مارکتینگپشتیبانی و امور مشتریانطراحیIT / DevOps\n",
      "\n"
     ]
    },
    {
     "name": "stderr",
     "output_type": "stream",
     "text": [
      "C:\\Users\\negin\\anaconda3\\Lib\\site-packages\\urllib3\\connectionpool.py:1099: InsecureRequestWarning: Unverified HTTPS request is being made to host 'jobinja.ir'. Adding certificate verification is strongly advised. See: https://urllib3.readthedocs.io/en/latest/advanced-usage.html#tls-warnings\n",
      "  warnings.warn(\n",
      "C:\\Users\\negin\\anaconda3\\Lib\\site-packages\\urllib3\\connectionpool.py:1099: InsecureRequestWarning: Unverified HTTPS request is being made to host 'jobinja.ir'. Adding certificate verification is strongly advised. See: https://urllib3.readthedocs.io/en/latest/advanced-usage.html#tls-warnings\n",
      "  warnings.warn(\n"
     ]
    },
    {
     "name": "stdout",
     "output_type": "stream",
     "text": [
      "URL: https://jobinja.ir/jobs?filters%5Bjob_categories%5D%5B%5D=%D9%85%D9%87%D9%86%D8%AF%D8%B3%DB%8C+%DA%A9%D8%B4%D8%A7%D9%88%D8%B1%D8%B2%DB%8C\n",
      "Content Snippet: استخدام مهندس کشاورزی | استخدام مهندس آبیاری | استخدام کارشناس باغبانی | جابینجا\n",
      " | جابینجاامکان جدید:همین حالا رزومه خود را در کمتر از ۱۰ دقیقه بسازید،برو به رزومه‌سازJobinja | جابینجا | استخدام، آگهی استخدام، کاریابی، استخدامی جدید، بازار کار، نیازمندیها، ساخت رزومه رایگان، کار و استخدام دولتی، اشتغال، جستجوگر حرفه ای استخدام و شغلخانهجستجوی مشاغلرزومه‌ساز۵۰ شرکت برتربخش کارفرمایانورود کارجوثبت‌نام کارجوورود کارجوثبت‌نام کارجو۱جابینجا چطور به استخدام شدن من کمک می‌کند؟مشاهدهمشاهده بیشترجستجودرخواست‌های مننشان‌شده‌هاآگهی‌های پیشنهادیاز آگهی‌های جدید باخبر شوبهترین فرصت های شغلی در جابینجاهمه‌ی استان‌هاتهرانخراسان رضویاصفهانالبرزفارسقمآذربایجان شرقیمازندرانگیلانخوزستانکرمانیزدقزوینمرکزیهرمزگانگلستانزنجانآذربایجان غربیبوشهرسیستان و بلوچستانسمنانکرمانشاههمداناردبیللرستانکردستانخراسان شمالیخراسان جنوبیچهارمحال بختیاریایلامکهکیلویه و بویراحمدهمه‌ی دسته‌بندی‌هامهندسی کشاورزیفروش و بازاریابیوب،‌ برنامه‌نویسی و نرم‌افزارمالی و حسابداریمسئول دفتر، اجرائی و اداریتولید و مدیریت محتوادیجیتال مارک\n",
      "\n"
     ]
    },
    {
     "name": "stderr",
     "output_type": "stream",
     "text": [
      "C:\\Users\\negin\\anaconda3\\Lib\\site-packages\\urllib3\\connectionpool.py:1099: InsecureRequestWarning: Unverified HTTPS request is being made to host 'jobinja.ir'. Adding certificate verification is strongly advised. See: https://urllib3.readthedocs.io/en/latest/advanced-usage.html#tls-warnings\n",
      "  warnings.warn(\n"
     ]
    },
    {
     "name": "stdout",
     "output_type": "stream",
     "text": [
      "URL: https://jobinja.ir/contact\n",
      "Content Snippet: تماس با ما | جابینجاامکان جدید:همین حالا رزومه خود را در کمتر از ۱۰ دقیقه بسازید،برو به رزومه‌سازJobinja | جابینجا | استخدام، آگهی استخدام، کاریابی، استخدامی جدید، بازار کار، نیازمندیها، ساخت رزومه رایگان، کار و استخدام دولتی، اشتغال، جستجوگر حرفه ای استخدام و شغلخانهجستجوی مشاغلرزومه‌ساز۵۰ شرکت برتربخش کارفرمایانورود کارجوثبت‌نام کارجوورود کارجوثبت‌نام کارجو۱جابینجا چطور به استخدام شدن من کمک می‌کند؟مشاهدهمشاهده بیشترتماس با مااگر سوالی دارید، یک مشکل در وب‌سایت پیدا کرده‌اید و می‌خواهید به ما اطلاع دهید، برای جاب‌اینجا\n",
      "                        پیشنهادی دارید، اگر حتی فقط قصد آشنا شدن با ما را دارید، یک لحظه هم درنگ نکنید! همین حالا با ما\n",
      "                        تماس بگیرید‌ :)hi@jobinja.irایمیل شمافرمت ایمیل صحیح نیست.ایمیل را وارد کنیدشماره موبایل شمافرمت شماره موبایل صحیح نیست.شماره موبایل را وارد کنیدپیام شمامتن پیام را وارد کنید.پیام شما با موفقیت ارسال شد.کارجویانسوالات متداول کارجویانقوانین و مقررات کارجویانلیست مشاغلآگهی‌های استخدامورود / ثبت‌نام کارجوایمیل‌های اطلاع‌رسانیرزومه\n",
      "\n"
     ]
    },
    {
     "name": "stderr",
     "output_type": "stream",
     "text": [
      "C:\\Users\\negin\\anaconda3\\Lib\\site-packages\\urllib3\\connectionpool.py:1099: InsecureRequestWarning: Unverified HTTPS request is being made to host 'jobinja.ir'. Adding certificate verification is strongly advised. See: https://urllib3.readthedocs.io/en/latest/advanced-usage.html#tls-warnings\n",
      "  warnings.warn(\n",
      "C:\\Users\\negin\\anaconda3\\Lib\\site-packages\\urllib3\\connectionpool.py:1099: InsecureRequestWarning: Unverified HTTPS request is being made to host 'jobinja.ir'. Adding certificate verification is strongly advised. See: https://urllib3.readthedocs.io/en/latest/advanced-usage.html#tls-warnings\n",
      "  warnings.warn(\n"
     ]
    },
    {
     "name": "stdout",
     "output_type": "stream",
     "text": [
      "URL: https://jobinja.ir/jobs?filters%5Bjob_categories%5D%5B%5D=%D9%88%D8%A8%D8%8C%E2%80%8C+%D8%A8%D8%B1%D9%86%D8%A7%D9%85%D9%87%E2%80%8C%D9%86%D9%88%DB%8C%D8%B3%DB%8C+%D9%88+%D9%86%D8%B1%D9%85%E2%80%8C%D8%A7%D9%81%D8%B2%D8%A7%D8%B1\n",
      "Content Snippet: استخدام برنامه نویس | استخدام طراح سایت| استخدام برنامه نویس وب\n",
      " | جابینجاامکان جدید:همین حالا رزومه خود را در کمتر از ۱۰ دقیقه بسازید،برو به رزومه‌سازJobinja | جابینجا | استخدام، آگهی استخدام، کاریابی، استخدامی جدید، بازار کار، نیازمندیها، ساخت رزومه رایگان، کار و استخدام دولتی، اشتغال، جستجوگر حرفه ای استخدام و شغلخانهجستجوی مشاغلرزومه‌ساز۵۰ شرکت برتربخش کارفرمایانورود کارجوثبت‌نام کارجوورود کارجوثبت‌نام کارجو۱جابینجا چطور به استخدام شدن من کمک می‌کند؟مشاهدهمشاهده بیشترجستجودرخواست‌های مننشان‌شده‌هاآگهی‌های پیشنهادیاز آگهی‌های جدید باخبر شوبهترین فرصت های شغلی در جابینجاهمه‌ی استان‌هاتهرانخراسان رضویاصفهانالبرزفارسقمآذربایجان شرقیمازندرانگیلانخوزستانکرمانیزدقزوینمرکزیهرمزگانگلستانزنجانآذربایجان غربیبوشهرسیستان و بلوچستانسمنانکرمانشاههمداناردبیللرستانکردستانخراسان شمالیخراسان جنوبیچهارمحال بختیاریایلامکهکیلویه و بویراحمدهمه‌ی دسته‌بندی‌هاوب،‌ برنامه‌نویسی و نرم‌افزارفروش و بازاریابیمالی و حسابداریمسئول دفتر، اجرائی و اداریتولید و مدیریت محتوادیجیتال مارکتینگپشتیبانی و امور مشتریانطراح\n",
      "\n"
     ]
    },
    {
     "name": "stderr",
     "output_type": "stream",
     "text": [
      "C:\\Users\\negin\\anaconda3\\Lib\\site-packages\\urllib3\\connectionpool.py:1099: InsecureRequestWarning: Unverified HTTPS request is being made to host 'jobinja.ir'. Adding certificate verification is strongly advised. See: https://urllib3.readthedocs.io/en/latest/advanced-usage.html#tls-warnings\n",
      "  warnings.warn(\n"
     ]
    },
    {
     "name": "stdout",
     "output_type": "stream",
     "text": [
      "URL: https://jobinja.ir/knowledge/job-seeker-faq/pages/job-seeker-account-faq\n",
      "Content Snippet: سوالات متداول حساب کاربری کارجویان | جابینجاامکان جدید:همین حالا رزومه خود را در کمتر از ۱۰ دقیقه بسازید،برو به رزومه‌سازJobinja | جابینجا | استخدام، آگهی استخدام، کاریابی، استخدامی جدید، بازار کار، نیازمندیها، ساخت رزومه رایگان، کار و استخدام دولتی، اشتغال، جستجوگر حرفه ای استخدام و شغلخانهجستجوی مشاغلرزومه‌ساز۵۰ شرکت برتربخش کارفرمایانورود کارجوثبت‌نام کارجوورود کارجوثبت‌نام کارجو۱جابینجا چطور به استخدام شدن من کمک می‌کند؟مشاهدهمشاهده بیشترسوالات متداول کارجویانسوالات متداول حساب کاربری کارجویانسوالات متداول حساب کاربری کارجویانثبت نام  و ورود به پنل کارجویی:چگونه می‌توانم در جابینجا حساب کاربری ایجاد کنم؟برای ایجاد حساب کاربری وارد سایت jobinja.ir شوید و از نوار بالای صفحه روی قسمت ثبت نام کارجو کلیک نمایید. بعد از وارد کردن آدرس ایمیل، نام و نام خانوادگی و رمز عبور روی گزینه ثبت نام کلیک کنید تا حساب کاربری شما ساخته شود.چگونه می‌توانم وارد حساب کاربری خود شوم؟بعد از ورود به سایت jobinja.ir از نوار بالای صفحه روی قسمت ورود کارجو کلیک نمایید و با وارد کردن آدرس ایمیل و رمز عبور خود \n",
      "\n"
     ]
    },
    {
     "name": "stderr",
     "output_type": "stream",
     "text": [
      "C:\\Users\\negin\\anaconda3\\Lib\\site-packages\\urllib3\\connectionpool.py:1099: InsecureRequestWarning: Unverified HTTPS request is being made to host 'jobinja.ir'. Adding certificate verification is strongly advised. See: https://urllib3.readthedocs.io/en/latest/advanced-usage.html#tls-warnings\n",
      "  warnings.warn(\n"
     ]
    },
    {
     "name": "stdout",
     "output_type": "stream",
     "text": [
      "URL: https://jobinja.ir/companies/admoon/jobs\n",
      "Content Snippet: فرصت‌های شغلی فعال در ادمون | Admoon | جابینجاامکان جدید:همین حالا رزومه خود را در کمتر از ۱۰ دقیقه بسازید،برو به رزومه‌سازJobinja | جابینجا | استخدام، آگهی استخدام، کاریابی، استخدامی جدید، بازار کار، نیازمندیها، ساخت رزومه رایگان، کار و استخدام دولتی، اشتغال، جستجوگر حرفه ای استخدام و شغلخانهجستجوی مشاغلرزومه‌ساز۵۰ شرکت برتربخش کارفرمایانورود کارجوثبت‌نام کارجوورود کارجوثبت‌نام کارجو۱جابینجا چطور به استخدام شدن من کمک می‌کند؟مشاهدهمشاهده بیشترادمون|Admoonتاسیس در  ۱۳۹۷تبلیغات، بازاریابی و برندسازی۱۱ تا ۵۰ نفرadmoon.net/?job=trueدر یک نگاهمعرفیفرصت‌های شغلی۹معرفی ادمونادمون، پلتفرم ارائه دهنده‌ی سرویس تبلیغات گوگل (Google Ads) با هدف جلوگیری از هدر رفت هزینه تبلیغات آنلاین و پیاده سازی راهکار های نتیجه‌بخش روی کمپین های گوگل وارد این عرصه شد و به پشتوانه تجربه‌ی هفت ساله در تبلیغات ‌‌، نبوغ بالای سرمایه انسانی و طراحی ماژول هایی اثربخش برای کمپین های تبلیغاتی داخلی و خارجی تمایز رو هم در داخل ایران و هم عرصه بین‌المللی با کمک تیم قدرتمند خودش رقم زده و به دنبال جذب نیروهای با استعدادی \n",
      "\n"
     ]
    },
    {
     "name": "stderr",
     "output_type": "stream",
     "text": [
      "C:\\Users\\negin\\anaconda3\\Lib\\site-packages\\urllib3\\connectionpool.py:1099: InsecureRequestWarning: Unverified HTTPS request is being made to host 'jobinja.ir'. Adding certificate verification is strongly advised. See: https://urllib3.readthedocs.io/en/latest/advanced-usage.html#tls-warnings\n",
      "  warnings.warn(\n",
      "C:\\Users\\negin\\anaconda3\\Lib\\site-packages\\urllib3\\connectionpool.py:1099: InsecureRequestWarning: Unverified HTTPS request is being made to host 'jobinja.ir'. Adding certificate verification is strongly advised. See: https://urllib3.readthedocs.io/en/latest/advanced-usage.html#tls-warnings\n",
      "  warnings.warn(\n"
     ]
    },
    {
     "name": "stdout",
     "output_type": "stream",
     "text": [
      "URL: https://jobinja.ir/jobs?filters%5Blocations%5D%5B%5D=%D8%AE%D9%88%D8%B2%D8%B3%D8%AA%D8%A7%D9%86\n",
      "Content Snippet: آگهی استخدام خوزستان | استخدام خوزستان | کاریابی خوزستان\n",
      " | جابینجاامکان جدید:همین حالا رزومه خود را در کمتر از ۱۰ دقیقه بسازید،برو به رزومه‌سازJobinja | جابینجا | استخدام، آگهی استخدام، کاریابی، استخدامی جدید، بازار کار، نیازمندیها، ساخت رزومه رایگان، کار و استخدام دولتی، اشتغال، جستجوگر حرفه ای استخدام و شغلخانهجستجوی مشاغلرزومه‌ساز۵۰ شرکت برتربخش کارفرمایانورود کارجوثبت‌نام کارجوورود کارجوثبت‌نام کارجو۱جابینجا چطور به استخدام شدن من کمک می‌کند؟مشاهدهمشاهده بیشترجستجودرخواست‌های مننشان‌شده‌هاآگهی‌های پیشنهادیاز آگهی‌های جدید باخبر شوبهترین فرصت های شغلی در جابینجاهمه‌ی استان‌هاخوزستانتهرانخراسان رضویاصفهانالبرزفارسقمآذربایجان شرقیمازندرانگیلانکرمانیزدقزوینمرکزیهرمزگانگلستانزنجانآذربایجان غربیبوشهرسیستان و بلوچستانسمنانکرمانشاههمداناردبیللرستانکردستانخراسان شمالیخراسان جنوبیچهارمحال بختیاریایلامکهکیلویه و بویراحمدهمه‌ی دسته‌بندی‌هافروش و بازاریابیوب،‌ برنامه‌نویسی و نرم‌افزارمالی و حسابداریمسئول دفتر، اجرائی و اداریتولید و مدیریت محتوادیجیتال مارکتینگپشتیبانی و امور مشتریانطراحیIT / D\n",
      "\n",
      "                                                      url  \\\n",
      "count                                                 197   \n",
      "unique                                                197   \n",
      "top     https://jobinja.ir/jobs?filters%5Bjob_categori...   \n",
      "freq                                                    1   \n",
      "\n",
      "                                          content_snippet job_title job_type  \\\n",
      "count                                                 197       197      197   \n",
      "unique                                                196         1        1   \n",
      "top     جذب نیرو | ثبت آگهی استخدام | جابینجاخانهتعرفه...       N/A      N/A   \n",
      "freq                                                    2       197      197   \n",
      "\n",
      "       job_location company_name contract_type work_experience min_salary  \\\n",
      "count           197          197           197             197        197   \n",
      "unique            1            1             1               1          1   \n",
      "top             N/A          N/A           N/A             N/A        N/A   \n",
      "freq            197          197           197             197        197   \n",
      "\n",
      "       gender education_level  \n",
      "count     197             197  \n",
      "unique      1               1  \n",
      "top       N/A             N/A  \n",
      "freq      197             197  \n",
      "Sorted Data:\n",
      "                                                   url  \\\n",
      "0    https://jobinja.ir/jobs?filters%5Bjob_categori...   \n",
      "1    https://jobinja.ir/jobs?filters%5Blocations%5D...   \n",
      "2    https://jobinja.ir/jobs?filters%5Bkeywords%5D%...   \n",
      "3    https://jobinja.ir/jobs?filters%5Bkeywords%5D%...   \n",
      "4                https://jobinja.ir/companies/banimode   \n",
      "..                                                 ...   \n",
      "192                         https://jobinja.ir/contact   \n",
      "193  https://jobinja.ir/jobs?filters%5Bjob_categori...   \n",
      "194  https://jobinja.ir/knowledge/job-seeker-faq/pa...   \n",
      "195           https://jobinja.ir/companies/admoon/jobs   \n",
      "196  https://jobinja.ir/jobs?filters%5Blocations%5D...   \n",
      "\n",
      "                                       content_snippet job_title job_type  \\\n",
      "0    استخدام مربی بدنسازی | استخدام کارشناس ورزش و ...       N/A      N/A   \n",
      "1    آگهی استخدام خراسان شمالی | استخدام خراسان شما...       N/A      N/A   \n",
      "2    فرصت های شغلی ادمینی\\n | جابینجاامکان جدید:همی...       N/A      N/A   \n",
      "3    فرصت های شغلی react\\n | جابینجاامکان جدید:همین...       N/A      N/A   \n",
      "4    استخدام در شرکت بانی مد، آگهی های استخدام Bani...       N/A      N/A   \n",
      "..                                                 ...       ...      ...   \n",
      "192  تماس با ما | جابینجاامکان جدید:همین حالا رزومه...       N/A      N/A   \n",
      "193  استخدام برنامه نویس | استخدام طراح سایت| استخد...       N/A      N/A   \n",
      "194  سوالات متداول حساب کاربری کارجویان | جابینجاام...       N/A      N/A   \n",
      "195  فرصت‌های شغلی فعال در ادمون | Admoon | جابینجا...       N/A      N/A   \n",
      "196  آگهی استخدام خوزستان | استخدام خوزستان | کاریا...       N/A      N/A   \n",
      "\n",
      "    job_location company_name contract_type work_experience min_salary gender  \\\n",
      "0            N/A          N/A           N/A             N/A        N/A    N/A   \n",
      "1            N/A          N/A           N/A             N/A        N/A    N/A   \n",
      "2            N/A          N/A           N/A             N/A        N/A    N/A   \n",
      "3            N/A          N/A           N/A             N/A        N/A    N/A   \n",
      "4            N/A          N/A           N/A             N/A        N/A    N/A   \n",
      "..           ...          ...           ...             ...        ...    ...   \n",
      "192          N/A          N/A           N/A             N/A        N/A    N/A   \n",
      "193          N/A          N/A           N/A             N/A        N/A    N/A   \n",
      "194          N/A          N/A           N/A             N/A        N/A    N/A   \n",
      "195          N/A          N/A           N/A             N/A        N/A    N/A   \n",
      "196          N/A          N/A           N/A             N/A        N/A    N/A   \n",
      "\n",
      "    education_level  \n",
      "0               N/A  \n",
      "1               N/A  \n",
      "2               N/A  \n",
      "3               N/A  \n",
      "4               N/A  \n",
      "..              ...  \n",
      "192             N/A  \n",
      "193             N/A  \n",
      "194             N/A  \n",
      "195             N/A  \n",
      "196             N/A  \n",
      "\n",
      "[197 rows x 11 columns]\n",
      "Data Matrix:\n",
      "                                                                                                                                                                                                                                                                                                                                                                                                          url                                                                                                                                                                                                                                                                                                                                                                                                                                                                                                                                                                                                                                                                                                                                                                                                                                                                                                                                                                                                                             content_snippet job_title job_type job_location company_name contract_type work_experience min_salary gender education_level\n",
      "                                                                                                                                                                                                                                                                                            https://jobinja.ir/jobs?filters%5Bjob_categories%5D%5B%5D=%D8%AA%D8%B1%D8%A8%DB%8C%D8%AA+%D8%A8%D8%AF%D9%86%DB%8C   استخدام مربی بدنسازی | استخدام کارشناس ورزش و سلامت\\n | جابینجاامکان جدید:همین حالا رزومه خود را در کمتر از ۱۰ دقیقه بسازید،برو به رزومه‌سازJobinja | جابینجا | استخدام، آگهی استخدام، کاریابی، استخدامی جدید، بازار کار، نیازمندیها، ساخت رزومه رایگان، کار و استخدام دولتی، اشتغال، جستجوگر حرفه ای استخدام و شغلخانهجستجوی مشاغلرزومه‌ساز۵۰ شرکت برتربخش کارفرمایانورود کارجوثبت‌نام کارجوورود کارجوثبت‌نام کارجو۱جابینجا چطور به استخدام شدن من کمک می‌کند؟مشاهدهمشاهده بیشترجستجودرخواست‌های مننشان‌شده‌هاآگهی‌های پیشنهادیاز آگهی‌های جدید باخبر شوبهترین فرصت های شغلی در جابینجاهمه‌ی استان‌هاتهرانخراسان رضویاصفهانالبرزفارسقمآذربایجان شرقیمازندرانگیلانخوزستانکرمانیزدقزوینمرکزیهرمزگانگلستانزنجانآذربایجان غربیبوشهرسیستان و بلوچستانسمنانکرمانشاههمداناردبیللرستانکردستانخراسان شمالیخراسان جنوبیچهارمحال بختیاریایلامکهکیلویه و بویراحمدهمه‌ی دسته‌بندی‌هاتربیت بدنیفروش و بازاریابیوب،‌ برنامه‌نویسی و نرم‌افزارمالی و حسابداریمسئول دفتر، اجرائی و اداریتولید و مدیریت محتوادیجیتال مارکتینگپشتیبانی و امور مشتریانطراحیI       N/A      N/A          N/A          N/A           N/A             N/A        N/A    N/A             N/A\n",
      "                                                                                                                                                                                                                                                                                     https://jobinja.ir/jobs?filters%5Blocations%5D%5B%5D=%D8%AE%D8%B1%D8%A7%D8%B3%D8%A7%D9%86+%D8%B4%D9%85%D8%A7%D9%84%DB%8C   آگهی استخدام خراسان شمالی | استخدام خراسان شمالی | کاریابی خراسان شمالی\\n | جابینجاامکان جدید:همین حالا رزومه خود را در کمتر از ۱۰ دقیقه بسازید،برو به رزومه‌سازJobinja | جابینجا | استخدام، آگهی استخدام، کاریابی، استخدامی جدید، بازار کار، نیازمندیها، ساخت رزومه رایگان، کار و استخدام دولتی، اشتغال، جستجوگر حرفه ای استخدام و شغلخانهجستجوی مشاغلرزومه‌ساز۵۰ شرکت برتربخش کارفرمایانورود کارجوثبت‌نام کارجوورود کارجوثبت‌نام کارجو۱جابینجا چطور به استخدام شدن من کمک می‌کند؟مشاهدهمشاهده بیشترجستجودرخواست‌های مننشان‌شده‌هاآگهی‌های پیشنهادیاز آگهی‌های جدید باخبر شوبهترین فرصت های شغلی در جابینجاهمه‌ی استان‌هاخراسان شمالیتهرانخراسان رضویاصفهانالبرزفارسقمآذربایجان شرقیمازندرانگیلانخوزستانکرمانیزدقزوینمرکزیهرمزگانگلستانزنجانآذربایجان غربیبوشهرسیستان و بلوچستانسمنانکرمانشاههمداناردبیللرستانکردستانخراسان جنوبیچهارمحال بختیاریایلامکهکیلویه و بویراحمدهمه‌ی دسته‌بندی‌هافروش و بازاریابیوب،‌ برنامه‌نویسی و نرم‌افزارمالی و حسابداریمسئول دفتر، اجرائی و اداریتولید و مدیریت محتوادیجیتال مارکتینگپشتیبانی و امور مشت       N/A      N/A          N/A          N/A           N/A             N/A        N/A    N/A             N/A\n",
      "                                                                                                                                                                                                                                                                                                                    https://jobinja.ir/jobs?filters%5Bkeywords%5D%5B0%5D=%D8%A7%D8%AF%D9%85%DB%8C%D9%86%DB%8C   فرصت های شغلی ادمینی\\n | جابینجاامکان جدید:همین حالا رزومه خود را در کمتر از ۱۰ دقیقه بسازید،برو به رزومه‌سازJobinja | جابینجا | استخدام، آگهی استخدام، کاریابی، استخدامی جدید، بازار کار، نیازمندیها، ساخت رزومه رایگان، کار و استخدام دولتی، اشتغال، جستجوگر حرفه ای استخدام و شغلخانهجستجوی مشاغلرزومه‌ساز۵۰ شرکت برتربخش کارفرمایانورود کارجوثبت‌نام کارجوورود کارجوثبت‌نام کارجو۱جابینجا چطور به استخدام شدن من کمک می‌کند؟مشاهدهمشاهده بیشترجستجودرخواست‌های مننشان‌شده‌هاآگهی‌های پیشنهادیاز آگهی‌های جدید باخبر شوبهترین فرصت های شغلی در جابینجاهمه‌ی استان‌هاتهرانخراسان رضویاصفهانالبرزفارسقمآذربایجان شرقیمازندرانگیلانخوزستانکرمانیزدقزوینمرکزیهرمزگانگلستانزنجانآذربایجان غربیبوشهرسیستان و بلوچستانسمنانکرمانشاههمداناردبیللرستانکردستانخراسان شمالیخراسان جنوبیچهارمحال بختیاریایلامکهکیلویه و بویراحمدهمه‌ی دسته‌بندی‌هافروش و بازاریابیوب،‌ برنامه‌نویسی و نرم‌افزارمالی و حسابداریمسئول دفتر، اجرائی و اداریتولید و مدیریت محتوادیجیتال مارکتینگپشتیبانی و امور مشتریانطراحیIT / DevOps / Serverمهندسی صنایع و مدیریت        N/A      N/A          N/A          N/A           N/A             N/A        N/A    N/A             N/A\n",
      "                                                                                                                                                                                                                                                                                                                                                   https://jobinja.ir/jobs?filters%5Bkeywords%5D%5B0%5D=react   فرصت های شغلی react\\n | جابینجاامکان جدید:همین حالا رزومه خود را در کمتر از ۱۰ دقیقه بسازید،برو به رزومه‌سازJobinja | جابینجا | استخدام، آگهی استخدام، کاریابی، استخدامی جدید، بازار کار، نیازمندیها، ساخت رزومه رایگان، کار و استخدام دولتی، اشتغال، جستجوگر حرفه ای استخدام و شغلخانهجستجوی مشاغلرزومه‌ساز۵۰ شرکت برتربخش کارفرمایانورود کارجوثبت‌نام کارجوورود کارجوثبت‌نام کارجو۱جابینجا چطور به استخدام شدن من کمک می‌کند؟مشاهدهمشاهده بیشترجستجودرخواست‌های مننشان‌شده‌هاآگهی‌های پیشنهادیاز آگهی‌های جدید باخبر شوبهترین فرصت های شغلی در جابینجاهمه‌ی استان‌هاتهرانخراسان رضویاصفهانالبرزفارسقمآذربایجان شرقیمازندرانگیلانخوزستانکرمانیزدقزوینمرکزیهرمزگانگلستانزنجانآذربایجان غربیبوشهرسیستان و بلوچستانسمنانکرمانشاههمداناردبیللرستانکردستانخراسان شمالیخراسان جنوبیچهارمحال بختیاریایلامکهکیلویه و بویراحمدهمه‌ی دسته‌بندی‌هافروش و بازاریابیوب،‌ برنامه‌نویسی و نرم‌افزارمالی و حسابداریمسئول دفتر، اجرائی و اداریتولید و مدیریت محتوادیجیتال مارکتینگپشتیبانی و امور مشتریانطراحیIT / DevOps / Serverمهندسی صنایع و مدیریت ص       N/A      N/A          N/A          N/A           N/A             N/A        N/A    N/A             N/A\n",
      "                                                                                                                                                                                                                                                                                                                                                                        https://jobinja.ir/companies/banimode    استخدام در شرکت بانی مد، آگهی های استخدام Banimode | جابینجاامکان جدید:همین حالا رزومه خود را در کمتر از ۱۰ دقیقه بسازید،برو به رزومه‌سازJobinja | جابینجا | استخدام، آگهی استخدام، کاریابی، استخدامی جدید، بازار کار، نیازمندیها، ساخت رزومه رایگان، کار و استخدام دولتی، اشتغال، جستجوگر حرفه ای استخدام و شغلخانهجستجوی مشاغلرزومه‌ساز۵۰ شرکت برتربخش کارفرمایانورود کارجوثبت‌نام کارجوورود کارجوثبت‌نام کارجو۱جابینجا چطور به استخدام شدن من کمک می‌کند؟مشاهدهمشاهده بیشتربانی مد|Banimodeتاسیس در  ۱۳۹۳خرده‌فروشی، عمده‌فروشی و فروشگاه‌های زنجیره‌ای۲۰۱ تا ۵۰۰ نفرbanimode.comدر یک نگاهمعرفیفرصت‌های شغلی۱۸شرکت بانی مد در زمینه مد، پوشاک و لوازم آرایشی و بهداشتی فعالیت دارد.موقعیت مکانیتهران، تهراناعضای شرکتعبدالله طاهریمدیرعاملهدف ما در شرکت بانی مد تیم سازی است، تیمی با انگیزه، خلاق و فعال. تمام تلاش ما در این مجموعه ایجاد فرصتی برابر جهت یادگیری، رشد و توسعه می باشد.لیلا عبادیمدیر ارتباط با مشتریانبانی مد همیشه تلاش خود را می‌کند تا کارمندانی شاد پرورش دهد و تعادلی میان زندگی فردی و حرفه‌ای ایجاد کند.ف       N/A      N/A          N/A          N/A           N/A             N/A        N/A    N/A             N/A\n",
      "                                                                                                                                                                                                                                                                                     https://jobinja.ir/jobs?filters%5Bkeywords%5D%5B0%5D=%D8%A8%D8%B1%D9%86%D8%A7%D9%85%D9%87+%D9%86%D9%88%DB%8C%D8%B3%DB%8C   فرصت های شغلی برنامه نویسی\\n | جابینجاامکان جدید:همین حالا رزومه خود را در کمتر از ۱۰ دقیقه بسازید،برو به رزومه‌سازJobinja | جابینجا | استخدام، آگهی استخدام، کاریابی، استخدامی جدید، بازار کار، نیازمندیها، ساخت رزومه رایگان، کار و استخدام دولتی، اشتغال، جستجوگر حرفه ای استخدام و شغلخانهجستجوی مشاغلرزومه‌ساز۵۰ شرکت برتربخش کارفرمایانورود کارجوثبت‌نام کارجوورود کارجوثبت‌نام کارجو۱جابینجا چطور به استخدام شدن من کمک می‌کند؟مشاهدهمشاهده بیشترجستجودرخواست‌های مننشان‌شده‌هاآگهی‌های پیشنهادیاز آگهی‌های جدید باخبر شوبهترین فرصت های شغلی در جابینجاهمه‌ی استان‌هاتهرانخراسان رضویاصفهانالبرزفارسقمآذربایجان شرقیمازندرانگیلانخوزستانکرمانیزدقزوینمرکزیهرمزگانگلستانزنجانآذربایجان غربیبوشهرسیستان و بلوچستانسمنانکرمانشاههمداناردبیللرستانکردستانخراسان شمالیخراسان جنوبیچهارمحال بختیاریایلامکهکیلویه و بویراحمدهمه‌ی دسته‌بندی‌هافروش و بازاریابیوب،‌ برنامه‌نویسی و نرم‌افزارمالی و حسابداریمسئول دفتر، اجرائی و اداریتولید و مدیریت محتوادیجیتال مارکتینگپشتیبانی و امور مشتریانطراحیIT / DevOps / Serverمهندسی صنایع و م       N/A      N/A          N/A          N/A           N/A             N/A        N/A    N/A             N/A\n",
      "                                                                                                                                                                                                                                                                                                                                                        https://jobinja.ir/companies/golrang-industrial-group    استخدام در شرکت گلرنگ سیستم، آگهی های استخدام Golrang System | جابینجاامکان جدید:همین حالا رزومه خود را در کمتر از ۱۰ دقیقه بسازید،برو به رزومه‌سازJobinja | جابینجا | استخدام، آگهی استخدام، کاریابی، استخدامی جدید، بازار کار، نیازمندیها، ساخت رزومه رایگان، کار و استخدام دولتی، اشتغال، جستجوگر حرفه ای استخدام و شغلخانهجستجوی مشاغلرزومه‌ساز۵۰ شرکت برتربخش کارفرمایانورود کارجوثبت‌نام کارجوورود کارجوثبت‌نام کارجو۱جابینجا چطور به استخدام شدن من کمک می‌کند؟مشاهدهمشاهده بیشترگلرنگ سیستم|Golrang Systemتاسیس در  ۱۳۹۵کامپیوتر، فناوری اطلاعات و اینترنت۲۰۱ تا ۵۰۰ نفرwww.golrangsystem.com/در یک نگاهمعرفیفرصت‌های شغلی۱۴تمام اعضای خانواده بزرگ گلرنگ در تلاش هستند تا با اعتماد و همکاری متقابل به ارزش‌های سازمانی دست یابند.موقعیت مکانیتهران، تهراناعضای شرکتمنا شریفیمدیر منابع انسانیدر گلرنگ سیستم همیشه حس خوب شکوفایی افراد است که باعث بالا رفتن رضایت شغلی سرمایه‌ی انسانی می‌شود. ما بر این باوریم که منابع انسانی ما ارزشمندترین دارایی‌های ما هستند و پیشرفت شرکت در گرو رشد، آرامش و رضایت درونی همکاران ماست       N/A      N/A          N/A          N/A           N/A             N/A        N/A    N/A             N/A\n",
      "                                                                                                                                                                                                                                                                                                                                                                                    https://jobinja.ir/how-to  جابینجا به چه شکلی به استخدام شدن من کمک می‌کنه؟ | جابینجاامکان جدید:همین حالا رزومه خود را در کمتر از ۱۰ دقیقه بسازید،برو به رزومه‌سازJobinja | جابینجا | استخدام، آگهی استخدام، کاریابی، استخدامی جدید، بازار کار، نیازمندیها، ساخت رزومه رایگان، کار و استخدام دولتی، اشتغال، جستجوگر حرفه ای استخدام و شغلخانهجستجوی مشاغلرزومه‌ساز۵۰ شرکت برتربخش کارفرمایانورود کارجوثبت‌نام کارجوورود کارجوثبت‌نام کارجو۱جابینجا چطور به استخدام شدن من کمک می‌کند؟مشاهدهمشاهده بیشترجستجودرخواست‌های مننشان‌شده‌هاآگهی‌های پیشنهادیاز آگهی‌های جدید باخبر شوجابینجا به چه شکلی به استخدام شدن\\n                                من\\n                                کمک می‌کنه؟رایگان۱ثبت‌نام به عنوان کارجوقبل از هرکاری شما باید به عنوان کارجو در سرویس استخدامی جابینجا ثبت نام کنید، با ثبت‌نام کردن ما اطلاعات بیشتری از شما داریم و بر اساس همین می‌تونیم سرویس‌های بهتری رو به شما ارائه بدیم.ثبت‌نام به عنوان کارجو۲جستجو در آگهی‌های استخدام و ارسال رزومهبا جستجو در آگهی‌های استخدام بیش از ۳۰۰۰ شرکت معتبر ایرانی می‌تونید رزومتون رو        N/A      N/A          N/A          N/A           N/A             N/A        N/A    N/A             N/A\n",
      "                                                                                                                                                                                                                                                                                                                          https://jobinja.ir/jobs?filters%5Blocations%5D%5B%5D=%D8%B2%D9%86%D8%AC%D8%A7%D9%86   استخدام زنجان | کاریابی زنجان | آگهی استخدام زنجان\\n | جابینجاامکان جدید:همین حالا رزومه خود را در کمتر از ۱۰ دقیقه بسازید،برو به رزومه‌سازJobinja | جابینجا | استخدام، آگهی استخدام، کاریابی، استخدامی جدید، بازار کار، نیازمندیها، ساخت رزومه رایگان، کار و استخدام دولتی، اشتغال، جستجوگر حرفه ای استخدام و شغلخانهجستجوی مشاغلرزومه‌ساز۵۰ شرکت برتربخش کارفرمایانورود کارجوثبت‌نام کارجوورود کارجوثبت‌نام کارجو۱جابینجا چطور به استخدام شدن من کمک می‌کند؟مشاهدهمشاهده بیشترجستجودرخواست‌های مننشان‌شده‌هاآگهی‌های پیشنهادیاز آگهی‌های جدید باخبر شوبهترین فرصت های شغلی در جابینجاهمه‌ی استان‌هازنجانتهرانخراسان رضویاصفهانالبرزفارسقمآذربایجان شرقیمازندرانگیلانخوزستانکرمانیزدقزوینمرکزیهرمزگانگلستانآذربایجان غربیبوشهرسیستان و بلوچستانسمنانکرمانشاههمداناردبیللرستانکردستانخراسان شمالیخراسان جنوبیچهارمحال بختیاریایلامکهکیلویه و بویراحمدهمه‌ی دسته‌بندی‌هافروش و بازاریابیوب،‌ برنامه‌نویسی و نرم‌افزارمالی و حسابداریمسئول دفتر، اجرائی و اداریتولید و مدیریت محتوادیجیتال مارکتینگپشتیبانی و امور مشتریانطراحیIT / DevOps        N/A      N/A          N/A          N/A           N/A             N/A        N/A    N/A             N/A\n",
      "                                                                                                                                                                                                                                                                                                                     https://jobinja.ir/jobs?filters%5Bjob_categories%5D%5B%5D=%D8%B7%D8%B1%D8%A7%D8%AD%DB%8C   استخدام طراحی\\n | جابینجاامکان جدید:همین حالا رزومه خود را در کمتر از ۱۰ دقیقه بسازید،برو به رزومه‌سازJobinja | جابینجا | استخدام، آگهی استخدام، کاریابی، استخدامی جدید، بازار کار، نیازمندیها، ساخت رزومه رایگان، کار و استخدام دولتی، اشتغال، جستجوگر حرفه ای استخدام و شغلخانهجستجوی مشاغلرزومه‌ساز۵۰ شرکت برتربخش کارفرمایانورود کارجوثبت‌نام کارجوورود کارجوثبت‌نام کارجو۱جابینجا چطور به استخدام شدن من کمک می‌کند؟مشاهدهمشاهده بیشترجستجودرخواست‌های مننشان‌شده‌هاآگهی‌های پیشنهادیاز آگهی‌های جدید باخبر شوبهترین فرصت های شغلی در جابینجاهمه‌ی استان‌هاتهرانخراسان رضویاصفهانالبرزفارسقمآذربایجان شرقیمازندرانگیلانخوزستانکرمانیزدقزوینمرکزیهرمزگانگلستانزنجانآذربایجان غربیبوشهرسیستان و بلوچستانسمنانکرمانشاههمداناردبیللرستانکردستانخراسان شمالیخراسان جنوبیچهارمحال بختیاریایلامکهکیلویه و بویراحمدهمه‌ی دسته‌بندی‌هاطراحیفروش و بازاریابیوب،‌ برنامه‌نویسی و نرم‌افزارمالی و حسابداریمسئول دفتر، اجرائی و اداریتولید و مدیریت محتوادیجیتال مارکتینگپشتیبانی و امور مشتریانIT / DevOps / Serverمهندسی صنایع و مدیریت صنعتیکا       N/A      N/A          N/A          N/A           N/A             N/A        N/A    N/A             N/A\n",
      "                                                                                                                                                                            https://jobinja.ir/jobs?filters%5Bjob_categories%5D%5B%5D=%D9%85%D9%87%D9%86%D8%AF%D8%B3%DB%8C+%D9%86%D8%B3%D8%A7%D8%AC%DB%8C%D8%8C+%D8%B7%D8%B1%D8%A7%D8%AD%DB%8C+%D9%BE%D8%A7%D8%B1%DA%86%D9%87+%D9%88+%D9%84%D8%A8%D8%A7%D8%B3   استخدام طراح لباس | استخدام مهندس نساجی\\n | جابینجاامکان جدید:همین حالا رزومه خود را در کمتر از ۱۰ دقیقه بسازید،برو به رزومه‌سازJobinja | جابینجا | استخدام، آگهی استخدام، کاریابی، استخدامی جدید، بازار کار، نیازمندیها، ساخت رزومه رایگان، کار و استخدام دولتی، اشتغال، جستجوگر حرفه ای استخدام و شغلخانهجستجوی مشاغلرزومه‌ساز۵۰ شرکت برتربخش کارفرمایانورود کارجوثبت‌نام کارجوورود کارجوثبت‌نام کارجو۱جابینجا چطور به استخدام شدن من کمک می‌کند؟مشاهدهمشاهده بیشترجستجودرخواست‌های مننشان‌شده‌هاآگهی‌های پیشنهادیاز آگهی‌های جدید باخبر شوبهترین فرصت های شغلی در جابینجاهمه‌ی استان‌هاتهرانخراسان رضویاصفهانالبرزفارسقمآذربایجان شرقیمازندرانگیلانخوزستانکرمانیزدقزوینمرکزیهرمزگانگلستانزنجانآذربایجان غربیبوشهرسیستان و بلوچستانسمنانکرمانشاههمداناردبیللرستانکردستانخراسان شمالیخراسان جنوبیچهارمحال بختیاریایلامکهکیلویه و بویراحمدهمه‌ی دسته‌بندی‌هامهندسی نساجی، طراحی پارچه و لباسفروش و بازاریابیوب،‌ برنامه‌نویسی و نرم‌افزارمالی و حسابداریمسئول دفتر، اجرائی و اداریتولید و مدیریت محتوادیجیتال مارکتینگپشتیبانی و امور مشت       N/A      N/A          N/A          N/A           N/A             N/A        N/A    N/A             N/A\n",
      "                                                                    https://jobinja.ir/companies/ghasedak-samaneh/jobs/A7gZ/%D8%A7%D8%B3%D8%AA%D8%AE%D8%AF%D8%A7%D9%85-%DA%A9%D8%A7%D8%B1%D8%B4%D9%86%D8%A7%D8%B3-%D9%BE%D8%B4%D8%AA%DB%8C%D8%A8%D8%A7%D9%86%DB%8C-%D9%86%D8%B1%D9%85-%D8%A7%D9%81%D8%B2%D8%A7%D8%B1-%D8%AF%D8%B1-%D9%82%D8%A7%D8%B5%D8%AF%DA%A9-%D8%B3%D8%A7%D9%85%D8%A7%D9%86%D9%87?_ref=18  استخدام کارشناس پشتیبانی نرم‌افزار در قاصدک سامانه | جابینجاامکان جدید:همین حالا رزومه خود را در کمتر از ۱۰ دقیقه بسازید،برو به رزومه‌سازJobinja | جابینجا | استخدام، آگهی استخدام، کاریابی، استخدامی جدید، بازار کار، نیازمندیها، ساخت رزومه رایگان، کار و استخدام دولتی، اشتغال، جستجوگر حرفه ای استخدام و شغلخانهجستجوی مشاغلرزومه‌ساز۵۰ شرکت برتربخش کارفرمایانورود کارجوثبت‌نام کارجوورود کارجوثبت‌نام کارجو۱جابینجا چطور به استخدام شدن من کمک می‌کند؟مشاهدهمشاهده بیشترقاصدک سامانه|Ghasedak Samanehکامپیوتر، فناوری اطلاعات و اینترنت۱۱ تا ۵۰ نفرghasedak.comفرصت‌های شغلی۲استخدام کارشناس پشتیبانی نرم‌افزارلطفا برای مشاهده‌ی جزییات و ارسال رزومهیکی از راه‌های زیر را انتخاب کنیدورود / ثبت‌نام با ایمیلimage/svg+xmlbtn_google_light_normal_iosbtn_google_light_normal_iosCreated with Sketch.ورود / ثبت‌نام با گوگل\\n                    (Gmail)ورود / ثبت‌نام با لینکدیناستخدام کارشناس پشتیبانی نرم‌افزار{{ tooltipText }}{{ hoverTitle }}نشان کردنحذف نشاندسته‌بندی شغلیIT / DevOps / Serverموقعیت مکانیتهران\\n                 N/A      N/A          N/A          N/A           N/A             N/A        N/A    N/A             N/A\n",
      "                                                                                                                                                                                                                                                                                                                                                                                           https://jobinja.ir    استخدام | آگهی استخدام | سایت کاریابی | جابینجاJobinja | جابینجا | استخدام، آگهی استخدام، کاریابی، استخدامی جدید، بازار کار، نیازمندیها، ساخت رزومه رایگان، کار و استخدام دولتی، اشتغال، جستجوگر حرفه ای استخدام و شغلخانهجستجوی مشاغلرزومه‌ساز۵۰ شرکت برتربخش کارفرمایانورود کارجوثبت‌نام کارجوورود کارجوثبت‌نام کارجو۱جابینجا چطور به استخدام شدن من کمک می‌کند؟مشاهدهمشاهده بیشتر۲۵,۳۹۳آگهی استخدام فعال در۱۰,۹۹۹شرکت ایرانیجابینجا:سامانهکاریابی آنلاین با بیشترین تعداد آگهی استخدام در ایرانهمه‌ی استان‌هاتهرانخراسان رضویاصفهانالبرزفارسقمآذربایجان شرقیمازندرانگیلانخوزستانکرمانیزدقزوینمرکزیهرمزگانگلستانزنجانآذربایجان غربیبوشهرسیستان و بلوچستانسمنانکرمانشاههمداناردبیللرستانکردستانخراسان شمالیخراسان جنوبیچهارمحال بختیاریایلامکهکیلویه و بویراحمدهمه‌ی دسته‌بندی‌هافروش و بازاریابیوب،‌ برنامه‌نویسی و نرم‌افزارمالی و حسابداریمسئول دفتر، اجرائی و اداریتولید و مدیریت محتوادیجیتال مارکتینگپشتیبانی و امور مشتریانطراحیIT / DevOps / Serverمهندسی صنایع و مدیریت صنعتیکارگر ساده، نیروی خدماتیمهندسی برق و الکترونیکمنا       N/A      N/A          N/A          N/A           N/A             N/A        N/A    N/A             N/A\n",
      "                                                                                                                                                                                                                                                                                                                                                                         https://jobinja.ir/companies/alibaba    استخدام در شرکت علی‌بابا، آگهی های استخدام Alibaba Group  | جابینجاامکان جدید:همین حالا رزومه خود را در کمتر از ۱۰ دقیقه بسازید،برو به رزومه‌سازJobinja | جابینجا | استخدام، آگهی استخدام، کاریابی، استخدامی جدید، بازار کار، نیازمندیها، ساخت رزومه رایگان، کار و استخدام دولتی، اشتغال، جستجوگر حرفه ای استخدام و شغلخانهجستجوی مشاغلرزومه‌ساز۵۰ شرکت برتربخش کارفرمایانورود کارجوثبت‌نام کارجوورود کارجوثبت‌نام کارجو۱جابینجا چطور به استخدام شدن من کمک می‌کند؟مشاهدهمشاهده بیشترعلی‌بابا|Alibaba Groupکامپیوتر، فناوری اطلاعات و اینترنت۵۰۱ تا ۱۰۰۰ نفرwww.alibaba.irدر یک نگاهمعرفیفرصت‌های شغلی۲۱در علی‌بابا از صفر خلق می‌کنیم و پای تعهدهایمان می‌ایستیم.موقعیت مکانیتهران، تهراناعضای شرکتمجید حسینی‌نژادبنیان‌گذارعلی‌بابا حس خوب کارکردن, ارزش داشتن و استفاده از خلاقیت است. در علی‌بابا همیشه حس خوب شکوفایی افراد است که باعث بالا رفتن رضایت شغلی سرمایه‌ی انسانی می‌شود. سرمایه‌ی انسانی علی‌بابا با استفاده از خلاقیت‌های خود، همیشه درگیر ساختن بهترین‌ها هستند.نیما قاضیمدیرعاملعلی‌بابا برای من یک فرصت بی‌نظیر شغل       N/A      N/A          N/A          N/A           N/A             N/A        N/A    N/A             N/A\n",
      "                                                                                                                                                                      https://jobinja.ir/companies/nileclinic/jobs/Arsx/%D8%A7%D8%B3%D8%AA%D8%AE%D8%AF%D8%A7%D9%85-%D9%BE%D8%B1%D8%B3%D8%AA%D8%A7%D8%B1-%D8%A2%D9%82%D8%A7-%D8%AF%D8%B1-%DA%A9%D9%84%DB%8C%D9%86%DB%8C%DA%A9-%D9%87%D9%84%DB%8C%D8%A7?_ref=18  استخدام پرستار(آقا) در  کلینیک هلیا  | جابینجاامکان جدید:همین حالا رزومه خود را در کمتر از ۱۰ دقیقه بسازید،برو به رزومه‌سازJobinja | جابینجا | استخدام، آگهی استخدام، کاریابی، استخدامی جدید، بازار کار، نیازمندیها، ساخت رزومه رایگان، کار و استخدام دولتی، اشتغال، جستجوگر حرفه ای استخدام و شغلخانهجستجوی مشاغلرزومه‌ساز۵۰ شرکت برتربخش کارفرمایانورود کارجوثبت‌نام کارجوورود کارجوثبت‌نام کارجو۱جابینجا چطور به استخدام شدن من کمک می‌کند؟مشاهدهمشاهده بیشترکلینیک هلیا|Helia Clinicخدمات درمانی، پزشکی و سلامت۱۱ تا ۵۰ نفرheliaclinic.comفرصت‌های شغلی۶استخدام پرستار(آقا)لطفا برای مشاهده‌ی جزییات و ارسال رزومهیکی از راه‌های زیر را انتخاب کنیدورود / ثبت‌نام با ایمیلimage/svg+xmlbtn_google_light_normal_iosbtn_google_light_normal_iosCreated with Sketch.ورود / ثبت‌نام با گوگل\\n                    (Gmail)ورود / ثبت‌نام با لینکدیناستخدام پرستار(آقا){{ tooltipText }}{{ hoverTitle }}نشان کردنحذف نشاندسته‌بندی شغلیپزشکی،‌ پرستاری و داروییموقعیت مکانیتهران\\n                                                ، تهراننوع        N/A      N/A          N/A          N/A           N/A             N/A        N/A    N/A             N/A\n",
      "                                                                                                                                                                                                                                                                                                                                                                   https://jobinja.ir/companies/snappbox/jobs    فرصت‌های شغلی فعال در اسنپ باکس | Snappbox | جابینجاامکان جدید:همین حالا رزومه خود را در کمتر از ۱۰ دقیقه بسازید،برو به رزومه‌سازJobinja | جابینجا | استخدام، آگهی استخدام، کاریابی، استخدامی جدید، بازار کار، نیازمندیها، ساخت رزومه رایگان، کار و استخدام دولتی، اشتغال، جستجوگر حرفه ای استخدام و شغلخانهجستجوی مشاغلرزومه‌ساز۵۰ شرکت برتربخش کارفرمایانورود کارجوثبت‌نام کارجوورود کارجوثبت‌نام کارجو۱جابینجا چطور به استخدام شدن من کمک می‌کند؟مشاهدهمشاهده بیشتراسنپ باکس|Snappboxتاسیس در  ۱۳۹۶کامپیوتر، فناوری اطلاعات و اینترنت۲۰۱ تا ۵۰۰ نفرsnapp-box.comدر یک نگاهمعرفیفرصت‌های شغلی۱۹معرفی اسنپ باکساسنپ باکس جدیدترین سرویس اپلیکیشن اسنپ (بزرگترین سامانه حمل و نقل هوشمند کشور) تمام شرکتها با هر نوع فعالیت تجاری را به بزرگترین مجموعه از پیک های موتوری در کشور متصل میسازددرحال حاضر، تنها تعداد محدودی از شرکتها به پیکهای ارزان و با کیفیت دسترسی دارند. از طرف دیگر، تعداد زیادی پیک موتوری هستند که به دنبال فعالیت بیشتر بوده اما قادر به یافتن مشتری نیستندما میخواهیم این موضوع را، با استفاده از فناوری هوشمن       N/A      N/A          N/A          N/A           N/A             N/A        N/A    N/A             N/A\n",
      "                                                                                                                                                                                                                                                                                                              https://jobinja.ir/jobs?filters%5Bkeywords%5D%5B0%5D=%DA%AF%D8%B1%D8%A7%D9%81%DB%8C%D8%B3%D8%AA   فرصت های شغلی گرافیست\\n | جابینجاامکان جدید:همین حالا رزومه خود را در کمتر از ۱۰ دقیقه بسازید،برو به رزومه‌سازJobinja | جابینجا | استخدام، آگهی استخدام، کاریابی، استخدامی جدید، بازار کار، نیازمندیها، ساخت رزومه رایگان، کار و استخدام دولتی، اشتغال، جستجوگر حرفه ای استخدام و شغلخانهجستجوی مشاغلرزومه‌ساز۵۰ شرکت برتربخش کارفرمایانورود کارجوثبت‌نام کارجوورود کارجوثبت‌نام کارجو۱جابینجا چطور به استخدام شدن من کمک می‌کند؟مشاهدهمشاهده بیشترجستجودرخواست‌های مننشان‌شده‌هاآگهی‌های پیشنهادیاز آگهی‌های جدید باخبر شوبهترین فرصت های شغلی در جابینجاهمه‌ی استان‌هاتهرانخراسان رضویاصفهانالبرزفارسقمآذربایجان شرقیمازندرانگیلانخوزستانکرمانیزدقزوینمرکزیهرمزگانگلستانزنجانآذربایجان غربیبوشهرسیستان و بلوچستانسمنانکرمانشاههمداناردبیللرستانکردستانخراسان شمالیخراسان جنوبیچهارمحال بختیاریایلامکهکیلویه و بویراحمدهمه‌ی دسته‌بندی‌هافروش و بازاریابیوب،‌ برنامه‌نویسی و نرم‌افزارمالی و حسابداریمسئول دفتر، اجرائی و اداریتولید و مدیریت محتوادیجیتال مارکتینگپشتیبانی و امور مشتریانطراحیIT / DevOps / Serverمهندسی صنایع و مدیریت       N/A      N/A          N/A          N/A           N/A             N/A        N/A    N/A             N/A\n",
      "                                                                                                                                                                                                                                                                                                                                            https://jobinja.ir/jobs?filters%5Blocations%5D%5B%5D=%D9%82%D9%85   استخدام قم | کاریابی قم | آگهی استخدام قم\\n | جابینجاامکان جدید:همین حالا رزومه خود را در کمتر از ۱۰ دقیقه بسازید،برو به رزومه‌سازJobinja | جابینجا | استخدام، آگهی استخدام، کاریابی، استخدامی جدید، بازار کار، نیازمندیها، ساخت رزومه رایگان، کار و استخدام دولتی، اشتغال، جستجوگر حرفه ای استخدام و شغلخانهجستجوی مشاغلرزومه‌ساز۵۰ شرکت برتربخش کارفرمایانورود کارجوثبت‌نام کارجوورود کارجوثبت‌نام کارجو۱جابینجا چطور به استخدام شدن من کمک می‌کند؟مشاهدهمشاهده بیشترجستجودرخواست‌های مننشان‌شده‌هاآگهی‌های پیشنهادیاز آگهی‌های جدید باخبر شوبهترین فرصت های شغلی در جابینجاهمه‌ی استان‌هاقمتهرانخراسان رضویاصفهانالبرزفارسآذربایجان شرقیمازندرانگیلانخوزستانکرمانیزدقزوینمرکزیهرمزگانگلستانزنجانآذربایجان غربیبوشهرسیستان و بلوچستانسمنانکرمانشاههمداناردبیللرستانکردستانخراسان شمالیخراسان جنوبیچهارمحال بختیاریایلامکهکیلویه و بویراحمدهمه‌ی دسته‌بندی‌هافروش و بازاریابیوب،‌ برنامه‌نویسی و نرم‌افزارمالی و حسابداریمسئول دفتر، اجرائی و اداریتولید و مدیریت محتوادیجیتال مارکتینگپشتیبانی و امور مشتریانطراحیIT / DevOps / Serverم       N/A      N/A          N/A          N/A           N/A             N/A        N/A    N/A             N/A\n",
      "                                                                                                                                                                                                                                                                                                        https://jobinja.ir/jobs?filters%5Blocations%5D%5B%5D=%DA%A9%D8%B1%D9%85%D8%A7%D9%86%D8%B4%D8%A7%D9%87   استخدام کرمانشاه | کاریابی کرمانشاه | آگهی استخدام کرمانشاه\\n | جابینجاامکان جدید:همین حالا رزومه خود را در کمتر از ۱۰ دقیقه بسازید،برو به رزومه‌سازJobinja | جابینجا | استخدام، آگهی استخدام، کاریابی، استخدامی جدید، بازار کار، نیازمندیها، ساخت رزومه رایگان، کار و استخدام دولتی، اشتغال، جستجوگر حرفه ای استخدام و شغلخانهجستجوی مشاغلرزومه‌ساز۵۰ شرکت برتربخش کارفرمایانورود کارجوثبت‌نام کارجوورود کارجوثبت‌نام کارجو۱جابینجا چطور به استخدام شدن من کمک می‌کند؟مشاهدهمشاهده بیشترجستجودرخواست‌های مننشان‌شده‌هاآگهی‌های پیشنهادیاز آگهی‌های جدید باخبر شوبهترین فرصت های شغلی در جابینجاهمه‌ی استان‌هاکرمانشاهتهرانخراسان رضویاصفهانالبرزفارسقمآذربایجان شرقیمازندرانگیلانخوزستانکرمانیزدقزوینمرکزیهرمزگانگلستانزنجانآذربایجان غربیبوشهرسیستان و بلوچستانسمنانهمداناردبیللرستانکردستانخراسان شمالیخراسان جنوبیچهارمحال بختیاریایلامکهکیلویه و بویراحمدهمه‌ی دسته‌بندی‌هافروش و بازاریابیوب،‌ برنامه‌نویسی و نرم‌افزارمالی و حسابداریمسئول دفتر، اجرائی و اداریتولید و مدیریت محتوادیجیتال مارکتینگپشتیبانی و امور مشتریانطراحیIT        N/A      N/A          N/A          N/A           N/A             N/A        N/A    N/A             N/A\n",
      "                                                                                                                                                                                                                                                                         https://jobinja.ir/jobs?filters%5Bkeywords%5D%5B0%5D=%D8%A7%D8%AF%D9%85%DB%8C%D9%86+%D9%BE%D8%A7%D8%B3%D8%AE%DA%AF%D9%88%DB%8C%DB%8C   فرصت های شغلی ادمین پاسخگویی\\n | جابینجاامکان جدید:همین حالا رزومه خود را در کمتر از ۱۰ دقیقه بسازید،برو به رزومه‌سازJobinja | جابینجا | استخدام، آگهی استخدام، کاریابی، استخدامی جدید، بازار کار، نیازمندیها، ساخت رزومه رایگان، کار و استخدام دولتی، اشتغال، جستجوگر حرفه ای استخدام و شغلخانهجستجوی مشاغلرزومه‌ساز۵۰ شرکت برتربخش کارفرمایانورود کارجوثبت‌نام کارجوورود کارجوثبت‌نام کارجو۱جابینجا چطور به استخدام شدن من کمک می‌کند؟مشاهدهمشاهده بیشترجستجودرخواست‌های مننشان‌شده‌هاآگهی‌های پیشنهادیاز آگهی‌های جدید باخبر شوبهترین فرصت های شغلی در جابینجاهمه‌ی استان‌هاتهرانخراسان رضویاصفهانالبرزفارسقمآذربایجان شرقیمازندرانگیلانخوزستانکرمانیزدقزوینمرکزیهرمزگانگلستانزنجانآذربایجان غربیبوشهرسیستان و بلوچستانسمنانکرمانشاههمداناردبیللرستانکردستانخراسان شمالیخراسان جنوبیچهارمحال بختیاریایلامکهکیلویه و بویراحمدهمه‌ی دسته‌بندی‌هافروش و بازاریابیوب،‌ برنامه‌نویسی و نرم‌افزارمالی و حسابداریمسئول دفتر، اجرائی و اداریتولید و مدیریت محتوادیجیتال مارکتینگپشتیبانی و امور مشتریانطراحیIT / DevOps / Serverمهندسی صنایع و       N/A      N/A          N/A          N/A           N/A             N/A        N/A    N/A             N/A\n",
      "                                                                                                                                                                                                                                                            https://jobinja.ir/jobs?filters%5Bjob_categories%5D%5B%5D=%D9%85%D9%87%D9%86%D8%AF%D8%B3%DB%8C+%D8%B4%DB%8C%D9%85%DB%8C+%D9%88+%D9%86%D9%81%D8%AA   استخدام مهندس شیمی | استخدام کارشناس شیمی\\n | جابینجاامکان جدید:همین حالا رزومه خود را در کمتر از ۱۰ دقیقه بسازید،برو به رزومه‌سازJobinja | جابینجا | استخدام، آگهی استخدام، کاریابی، استخدامی جدید، بازار کار، نیازمندیها، ساخت رزومه رایگان، کار و استخدام دولتی، اشتغال، جستجوگر حرفه ای استخدام و شغلخانهجستجوی مشاغلرزومه‌ساز۵۰ شرکت برتربخش کارفرمایانورود کارجوثبت‌نام کارجوورود کارجوثبت‌نام کارجو۱جابینجا چطور به استخدام شدن من کمک می‌کند؟مشاهدهمشاهده بیشترجستجودرخواست‌های مننشان‌شده‌هاآگهی‌های پیشنهادیاز آگهی‌های جدید باخبر شوبهترین فرصت های شغلی در جابینجاهمه‌ی استان‌هاتهرانخراسان رضویاصفهانالبرزفارسقمآذربایجان شرقیمازندرانگیلانخوزستانکرمانیزدقزوینمرکزیهرمزگانگلستانزنجانآذربایجان غربیبوشهرسیستان و بلوچستانسمنانکرمانشاههمداناردبیللرستانکردستانخراسان شمالیخراسان جنوبیچهارمحال بختیاریایلامکهکیلویه و بویراحمدهمه‌ی دسته‌بندی‌هامهندسی شیمی و نفتفروش و بازاریابیوب،‌ برنامه‌نویسی و نرم‌افزارمالی و حسابداریمسئول دفتر، اجرائی و اداریتولید و مدیریت محتوادیجیتال مارکتینگپشتیبانی و امور مشتریانطراحیIT /       N/A      N/A          N/A          N/A           N/A             N/A        N/A    N/A             N/A\n",
      "                                                                                                                                                                                                                                    https://jobinja.ir/jobs?filters%5Bjob_categories%5D%5B%5D=%D9%85%D9%87%D9%86%D8%AF%D8%B3%DB%8C+%D8%B9%D9%85%D8%B1%D8%A7%D9%86+%D9%88+%D9%85%D8%B9%D9%85%D8%A7%D8%B1%DB%8C   استخدام مهندس عمران و معماری\\n | جابینجاامکان جدید:همین حالا رزومه خود را در کمتر از ۱۰ دقیقه بسازید،برو به رزومه‌سازJobinja | جابینجا | استخدام، آگهی استخدام، کاریابی، استخدامی جدید، بازار کار، نیازمندیها، ساخت رزومه رایگان، کار و استخدام دولتی، اشتغال، جستجوگر حرفه ای استخدام و شغلخانهجستجوی مشاغلرزومه‌ساز۵۰ شرکت برتربخش کارفرمایانورود کارجوثبت‌نام کارجوورود کارجوثبت‌نام کارجو۱جابینجا چطور به استخدام شدن من کمک می‌کند؟مشاهدهمشاهده بیشترجستجودرخواست‌های مننشان‌شده‌هاآگهی‌های پیشنهادیاز آگهی‌های جدید باخبر شوبهترین فرصت های شغلی در جابینجاهمه‌ی استان‌هاتهرانخراسان رضویاصفهانالبرزفارسقمآذربایجان شرقیمازندرانگیلانخوزستانکرمانیزدقزوینمرکزیهرمزگانگلستانزنجانآذربایجان غربیبوشهرسیستان و بلوچستانسمنانکرمانشاههمداناردبیللرستانکردستانخراسان شمالیخراسان جنوبیچهارمحال بختیاریایلامکهکیلویه و بویراحمدهمه‌ی دسته‌بندی‌هامهندسی عمران و معماریفروش و بازاریابیوب،‌ برنامه‌نویسی و نرم‌افزارمالی و حسابداریمسئول دفتر، اجرائی و اداریتولید و مدیریت محتوادیجیتال مارکتینگپشتیبانی و امور مشتریانطراحیIT / DevOps /       N/A      N/A          N/A          N/A           N/A             N/A        N/A    N/A             N/A\n",
      "                                                                                                                                https://jobinja.ir/companies/tajhizsanat/jobs/A7gp/%D8%A7%D8%B3%D8%AA%D8%AE%D8%AF%D8%A7%D9%85-%D9%85%D8%AA%D8%B1%D8%AC%D9%85-%D8%B2%D8%A8%D8%A7%D9%86-%D8%A7%D9%86%DA%AF%D9%84%DB%8C%D8%B3%DB%8C-%D8%AF%D8%B1-%D8%AA%D8%AC%D9%87%DB%8C%D8%B2-%D8%B5%D9%86%D8%B9%D8%AA?_ref=18  استخدام مترجم زبان انگلیسی در تجهیز صنعت  | جابینجاامکان جدید:همین حالا رزومه خود را در کمتر از ۱۰ دقیقه بسازید،برو به رزومه‌سازJobinja | جابینجا | استخدام، آگهی استخدام، کاریابی، استخدامی جدید، بازار کار، نیازمندیها، ساخت رزومه رایگان، کار و استخدام دولتی، اشتغال، جستجوگر حرفه ای استخدام و شغلخانهجستجوی مشاغلرزومه‌ساز۵۰ شرکت برتربخش کارفرمایانورود کارجوثبت‌نام کارجوورود کارجوثبت‌نام کارجو۱جابینجا چطور به استخدام شدن من کمک می‌کند؟مشاهدهمشاهده بیشترتجهیز صنعت|Tajhiz Sanatتاسیس در  ۱۳۹۰نفت و گاز۵۱ تا ۲۰۰ نفرtajhiz-sanat.comدر یک نگاهمعرفیفرصت‌های شغلی۳۰استخدام مترجم زبان انگلیسیلطفا برای مشاهده‌ی جزییات و ارسال رزومهیکی از راه‌های زیر را انتخاب کنیدورود / ثبت‌نام با ایمیلimage/svg+xmlbtn_google_light_normal_iosbtn_google_light_normal_iosCreated with Sketch.ورود / ثبت‌نام با گوگل\\n                    (Gmail)ورود / ثبت‌نام با لینکدیناستخدام مترجم زبان انگلیسی{{ tooltipText }}{{ hoverTitle }}نشان کردنحذف نشاندسته‌بندی شغلیترجمهموقعیت مکانیتهران\\n                                                     N/A      N/A          N/A          N/A           N/A             N/A        N/A    N/A             N/A\n",
      "                                                                                                                                                                                                                                                                                                                                                                        https://panel.jobinja.ir/auth/sign-in                                                                                                                                                                                                                                                                                                                                                                                                                                                                                                                                                                                                                                                                                             ورود به حساب کارفرمایی | جابینجاحساب کارفرمایی ندارید؟ثبت نام کارفرمایانکارفرمایانورود به حساب کارفرماییایمیل یا شماره موبایلرمز عبورورودرمز عبور خود را فراموش کرده‌اید؟فراموشی رمز عبور۰۲۱-۹۱۰۷۱۳۹۴تماس با ما×ساعات کاری:شنبه تا چهارشنبه از ۹:۰۰ تا ۱۷:۳۰ به استثنای تعطیلی‌های رسمی۰۲۱-۹۱۰۷۱۳۹۴شرکت فناوران سرمایه انسانی جاویدان (جابینجا)       N/A      N/A          N/A          N/A           N/A             N/A        N/A    N/A             N/A\n",
      "                                                                                                                                                                                                                                                                                                                           https://jobinja.ir/jobs?filters%5Bjob_categories%5D%5B%5D=IT+%2F+DevOps+%2F+Server   استخدام متخصص امنیت شبکه | استخدام کارشناس شبکه | استخدام help desk | جابینجا\\n | جابینجاامکان جدید:همین حالا رزومه خود را در کمتر از ۱۰ دقیقه بسازید،برو به رزومه‌سازJobinja | جابینجا | استخدام، آگهی استخدام، کاریابی، استخدامی جدید، بازار کار، نیازمندیها، ساخت رزومه رایگان، کار و استخدام دولتی، اشتغال، جستجوگر حرفه ای استخدام و شغلخانهجستجوی مشاغلرزومه‌ساز۵۰ شرکت برتربخش کارفرمایانورود کارجوثبت‌نام کارجوورود کارجوثبت‌نام کارجو۱جابینجا چطور به استخدام شدن من کمک می‌کند؟مشاهدهمشاهده بیشترجستجودرخواست‌های مننشان‌شده‌هاآگهی‌های پیشنهادیاز آگهی‌های جدید باخبر شوبهترین فرصت های شغلی در جابینجاهمه‌ی استان‌هاتهرانخراسان رضویاصفهانالبرزفارسقمآذربایجان شرقیمازندرانگیلانخوزستانکرمانیزدقزوینمرکزیهرمزگانگلستانزنجانآذربایجان غربیبوشهرسیستان و بلوچستانسمنانکرمانشاههمداناردبیللرستانکردستانخراسان شمالیخراسان جنوبیچهارمحال بختیاریایلامکهکیلویه و بویراحمدهمه‌ی دسته‌بندی‌هاIT / DevOps / Serverفروش و بازاریابیوب،‌ برنامه‌نویسی و نرم‌افزارمالی و حسابداریمسئول دفتر، اجرائی و اداریتولید و مدیریت محتوادیجیتال م       N/A      N/A          N/A          N/A           N/A             N/A        N/A    N/A             N/A\n",
      "                                                                                                                                                                                                                                                                              https://jobinja.ir/jobs?filters%5Bkeywords%5D%5B0%5D=%D8%A7%D8%AF%D9%85%DB%8C%D9%86+%D8%AF%D9%88%D8%B1+%DA%A9%D8%A7%D8%B1%DB%8C   فرصت های شغلی ادمین دور کاری\\n | جابینجاامکان جدید:همین حالا رزومه خود را در کمتر از ۱۰ دقیقه بسازید،برو به رزومه‌سازJobinja | جابینجا | استخدام، آگهی استخدام، کاریابی، استخدامی جدید، بازار کار، نیازمندیها، ساخت رزومه رایگان، کار و استخدام دولتی، اشتغال، جستجوگر حرفه ای استخدام و شغلخانهجستجوی مشاغلرزومه‌ساز۵۰ شرکت برتربخش کارفرمایانورود کارجوثبت‌نام کارجوورود کارجوثبت‌نام کارجو۱جابینجا چطور به استخدام شدن من کمک می‌کند؟مشاهدهمشاهده بیشترجستجودرخواست‌های مننشان‌شده‌هاآگهی‌های پیشنهادیاز آگهی‌های جدید باخبر شوبهترین فرصت های شغلی در جابینجاهمه‌ی استان‌هاتهرانخراسان رضویاصفهانالبرزفارسقمآذربایجان شرقیمازندرانگیلانخوزستانکرمانیزدقزوینمرکزیهرمزگانگلستانزنجانآذربایجان غربیبوشهرسیستان و بلوچستانسمنانکرمانشاههمداناردبیللرستانکردستانخراسان شمالیخراسان جنوبیچهارمحال بختیاریایلامکهکیلویه و بویراحمدهمه‌ی دسته‌بندی‌هافروش و بازاریابیوب،‌ برنامه‌نویسی و نرم‌افزارمالی و حسابداریمسئول دفتر، اجرائی و اداریتولید و مدیریت محتوادیجیتال مارکتینگپشتیبانی و امور مشتریانطراحیIT / DevOps / Serverمهندسی صنایع و       N/A      N/A          N/A          N/A           N/A             N/A        N/A    N/A             N/A\n",
      "                                                                                                                                                                                                                                                                                                                                https://jobinja.ir/jobs?filters%5Bkeywords%5D%5B0%5D=%D8%B4%D8%A8%DA%A9%D9%87   فرصت های شغلی شبکه\\n | جابینجاامکان جدید:همین حالا رزومه خود را در کمتر از ۱۰ دقیقه بسازید،برو به رزومه‌سازJobinja | جابینجا | استخدام، آگهی استخدام، کاریابی، استخدامی جدید، بازار کار، نیازمندیها، ساخت رزومه رایگان، کار و استخدام دولتی، اشتغال، جستجوگر حرفه ای استخدام و شغلخانهجستجوی مشاغلرزومه‌ساز۵۰ شرکت برتربخش کارفرمایانورود کارجوثبت‌نام کارجوورود کارجوثبت‌نام کارجو۱جابینجا چطور به استخدام شدن من کمک می‌کند؟مشاهدهمشاهده بیشترجستجودرخواست‌های مننشان‌شده‌هاآگهی‌های پیشنهادیاز آگهی‌های جدید باخبر شوبهترین فرصت های شغلی در جابینجاهمه‌ی استان‌هاتهرانخراسان رضویاصفهانالبرزفارسقمآذربایجان شرقیمازندرانگیلانخوزستانکرمانیزدقزوینمرکزیهرمزگانگلستانزنجانآذربایجان غربیبوشهرسیستان و بلوچستانسمنانکرمانشاههمداناردبیللرستانکردستانخراسان شمالیخراسان جنوبیچهارمحال بختیاریایلامکهکیلویه و بویراحمدهمه‌ی دسته‌بندی‌هافروش و بازاریابیوب،‌ برنامه‌نویسی و نرم‌افزارمالی و حسابداریمسئول دفتر، اجرائی و اداریتولید و مدیریت محتوادیجیتال مارکتینگپشتیبانی و امور مشتریانطراحیIT / DevOps / Serverمهندسی صنایع و مدیریت صن       N/A      N/A          N/A          N/A           N/A             N/A        N/A    N/A             N/A\n",
      "                                                                                                                                                                                                                                                                                                                                      https://jobinja.ir/jobs?filters%5Blocations%5D%5B%5D=%DB%8C%D8%B2%D8%AF   استخدام یزد | کاریابی یزد | آگهی استخدام یزد\\n | جابینجاامکان جدید:همین حالا رزومه خود را در کمتر از ۱۰ دقیقه بسازید،برو به رزومه‌سازJobinja | جابینجا | استخدام، آگهی استخدام، کاریابی، استخدامی جدید، بازار کار، نیازمندیها، ساخت رزومه رایگان، کار و استخدام دولتی، اشتغال، جستجوگر حرفه ای استخدام و شغلخانهجستجوی مشاغلرزومه‌ساز۵۰ شرکت برتربخش کارفرمایانورود کارجوثبت‌نام کارجوورود کارجوثبت‌نام کارجو۱جابینجا چطور به استخدام شدن من کمک می‌کند؟مشاهدهمشاهده بیشترجستجودرخواست‌های مننشان‌شده‌هاآگهی‌های پیشنهادیاز آگهی‌های جدید باخبر شوبهترین فرصت های شغلی در جابینجاهمه‌ی استان‌هایزدتهرانخراسان رضویاصفهانالبرزفارسقمآذربایجان شرقیمازندرانگیلانخوزستانکرمانقزوینمرکزیهرمزگانگلستانزنجانآذربایجان غربیبوشهرسیستان و بلوچستانسمنانکرمانشاههمداناردبیللرستانکردستانخراسان شمالیخراسان جنوبیچهارمحال بختیاریایلامکهکیلویه و بویراحمدهمه‌ی دسته‌بندی‌هافروش و بازاریابیوب،‌ برنامه‌نویسی و نرم‌افزارمالی و حسابداریمسئول دفتر، اجرائی و اداریتولید و مدیریت محتوادیجیتال مارکتینگپشتیبانی و امور مشتریانطراحیIT / DevOps / Serv       N/A      N/A          N/A          N/A           N/A             N/A        N/A    N/A             N/A\n",
      "                                                                                                                                                                                                                                                                                                              https://jobinja.ir/jobs?filters%5Bkeywords%5D%5B0%5D=%D8%AA%D8%A7%DB%8C%D9%BE%DB%8C%D8%B3%D8%AA   فرصت های شغلی تایپیست\\n | جابینجاامکان جدید:همین حالا رزومه خود را در کمتر از ۱۰ دقیقه بسازید،برو به رزومه‌سازJobinja | جابینجا | استخدام، آگهی استخدام، کاریابی، استخدامی جدید، بازار کار، نیازمندیها، ساخت رزومه رایگان، کار و استخدام دولتی، اشتغال، جستجوگر حرفه ای استخدام و شغلخانهجستجوی مشاغلرزومه‌ساز۵۰ شرکت برتربخش کارفرمایانورود کارجوثبت‌نام کارجوورود کارجوثبت‌نام کارجو۱جابینجا چطور به استخدام شدن من کمک می‌کند؟مشاهدهمشاهده بیشترجستجودرخواست‌های مننشان‌شده‌هاآگهی‌های پیشنهادیاز آگهی‌های جدید باخبر شوبهترین فرصت های شغلی در جابینجاهمه‌ی استان‌هاتهرانخراسان رضویاصفهانالبرزفارسقمآذربایجان شرقیمازندرانگیلانخوزستانکرمانیزدقزوینمرکزیهرمزگانگلستانزنجانآذربایجان غربیبوشهرسیستان و بلوچستانسمنانکرمانشاههمداناردبیللرستانکردستانخراسان شمالیخراسان جنوبیچهارمحال بختیاریایلامکهکیلویه و بویراحمدهمه‌ی دسته‌بندی‌هافروش و بازاریابیوب،‌ برنامه‌نویسی و نرم‌افزارمالی و حسابداریمسئول دفتر، اجرائی و اداریتولید و مدیریت محتوادیجیتال مارکتینگپشتیبانی و امور مشتریانطراحیIT / DevOps / Serverمهندسی صنایع و مدیریت       N/A      N/A          N/A          N/A           N/A             N/A        N/A    N/A             N/A\n",
      "                                                                                                                                                                                                                                                                                                                     https://jobinja.ir/jobs?filters%5Bjob_categories%5D%5B%5D=%D8%AA%D8%B1%D8%AC%D9%85%D9%87   استخدام مترجم | استخدام مترجم زبان انگلیسی | استخدام مترجم زیرنویس | جابینجا\\n | جابینجاامکان جدید:همین حالا رزومه خود را در کمتر از ۱۰ دقیقه بسازید،برو به رزومه‌سازJobinja | جابینجا | استخدام، آگهی استخدام، کاریابی، استخدامی جدید، بازار کار، نیازمندیها، ساخت رزومه رایگان، کار و استخدام دولتی، اشتغال، جستجوگر حرفه ای استخدام و شغلخانهجستجوی مشاغلرزومه‌ساز۵۰ شرکت برتربخش کارفرمایانورود کارجوثبت‌نام کارجوورود کارجوثبت‌نام کارجو۱جابینجا چطور به استخدام شدن من کمک می‌کند؟مشاهدهمشاهده بیشترجستجودرخواست‌های مننشان‌شده‌هاآگهی‌های پیشنهادیاز آگهی‌های جدید باخبر شوبهترین فرصت های شغلی در جابینجاهمه‌ی استان‌هاتهرانخراسان رضویاصفهانالبرزفارسقمآذربایجان شرقیمازندرانگیلانخوزستانکرمانیزدقزوینمرکزیهرمزگانگلستانزنجانآذربایجان غربیبوشهرسیستان و بلوچستانسمنانکرمانشاههمداناردبیللرستانکردستانخراسان شمالیخراسان جنوبیچهارمحال بختیاریایلامکهکیلویه و بویراحمدهمه‌ی دسته‌بندی‌هاترجمهفروش و بازاریابیوب،‌ برنامه‌نویسی و نرم‌افزارمالی و حسابداریمسئول دفتر، اجرائی و اداریتولید و مدیریت محتوادیجیتال مارکتینگپشتیبانی        N/A      N/A          N/A          N/A           N/A             N/A        N/A    N/A             N/A\n",
      "                                                                                                                                                                                                                                                                                                              https://jobinja.ir/jobs?filters%5Blocations%5D%5B%5D=%D9%87%D8%B1%D9%85%D8%B2%DA%AF%D8%A7%D9%86   استخدام هرمزگان | جابینجا\\n | جابینجاامکان جدید:همین حالا رزومه خود را در کمتر از ۱۰ دقیقه بسازید،برو به رزومه‌سازJobinja | جابینجا | استخدام، آگهی استخدام، کاریابی، استخدامی جدید، بازار کار، نیازمندیها، ساخت رزومه رایگان، کار و استخدام دولتی، اشتغال، جستجوگر حرفه ای استخدام و شغلخانهجستجوی مشاغلرزومه‌ساز۵۰ شرکت برتربخش کارفرمایانورود کارجوثبت‌نام کارجوورود کارجوثبت‌نام کارجو۱جابینجا چطور به استخدام شدن من کمک می‌کند؟مشاهدهمشاهده بیشترجستجودرخواست‌های مننشان‌شده‌هاآگهی‌های پیشنهادیاز آگهی‌های جدید باخبر شوبهترین فرصت های شغلی در جابینجاهمه‌ی استان‌هاهرمزگانتهرانخراسان رضویاصفهانالبرزفارسقمآذربایجان شرقیمازندرانگیلانخوزستانکرمانیزدقزوینمرکزیگلستانزنجانآذربایجان غربیبوشهرسیستان و بلوچستانسمنانکرمانشاههمداناردبیللرستانکردستانخراسان شمالیخراسان جنوبیچهارمحال بختیاریایلامکهکیلویه و بویراحمدهمه‌ی دسته‌بندی‌هافروش و بازاریابیوب،‌ برنامه‌نویسی و نرم‌افزارمالی و حسابداریمسئول دفتر، اجرائی و اداریتولید و مدیریت محتوادیجیتال مارکتینگپشتیبانی و امور مشتریانطراحیIT / DevOps / Serverمهندسی صنایع و مد       N/A      N/A          N/A          N/A           N/A             N/A        N/A    N/A             N/A\n",
      "                                                                                                                                                                                                                                                                                                                          https://jobinja.ir/jobs?filters%5Blocations%5D%5B%5D=%D8%A8%D9%88%D8%B4%D9%87%D8%B1   آگهی استخدام بوشهر | کاریابی بوشهر | جابینجا\\n | جابینجاامکان جدید:همین حالا رزومه خود را در کمتر از ۱۰ دقیقه بسازید،برو به رزومه‌سازJobinja | جابینجا | استخدام، آگهی استخدام، کاریابی، استخدامی جدید، بازار کار، نیازمندیها، ساخت رزومه رایگان، کار و استخدام دولتی، اشتغال، جستجوگر حرفه ای استخدام و شغلخانهجستجوی مشاغلرزومه‌ساز۵۰ شرکت برتربخش کارفرمایانورود کارجوثبت‌نام کارجوورود کارجوثبت‌نام کارجو۱جابینجا چطور به استخدام شدن من کمک می‌کند؟مشاهدهمشاهده بیشترجستجودرخواست‌های مننشان‌شده‌هاآگهی‌های پیشنهادیاز آگهی‌های جدید باخبر شوبهترین فرصت های شغلی در جابینجاهمه‌ی استان‌هابوشهرتهرانخراسان رضویاصفهانالبرزفارسقمآذربایجان شرقیمازندرانگیلانخوزستانکرمانیزدقزوینمرکزیهرمزگانگلستانزنجانآذربایجان غربیسیستان و بلوچستانسمنانکرمانشاههمداناردبیللرستانکردستانخراسان شمالیخراسان جنوبیچهارمحال بختیاریایلامکهکیلویه و بویراحمدهمه‌ی دسته‌بندی‌هافروش و بازاریابیوب،‌ برنامه‌نویسی و نرم‌افزارمالی و حسابداریمسئول دفتر، اجرائی و اداریتولید و مدیریت محتوادیجیتال مارکتینگپشتیبانی و امور مشتریانطراحیIT / DevOps / Serv       N/A      N/A          N/A          N/A           N/A             N/A        N/A    N/A             N/A\n",
      "                                                                                                                                                                                                                                                                                                                    https://jobinja.ir/jobs?filters%5Blocations%5D%5B%5D=%D8%A7%D8%B1%D8%AF%D8%A8%DB%8C%D9%84   آگهی استخدام اردبیل | استخدام اردبیل | کاریابی اردبیل | جابینجا\\n | جابینجاامکان جدید:همین حالا رزومه خود را در کمتر از ۱۰ دقیقه بسازید،برو به رزومه‌سازJobinja | جابینجا | استخدام، آگهی استخدام، کاریابی، استخدامی جدید، بازار کار، نیازمندیها، ساخت رزومه رایگان، کار و استخدام دولتی، اشتغال، جستجوگر حرفه ای استخدام و شغلخانهجستجوی مشاغلرزومه‌ساز۵۰ شرکت برتربخش کارفرمایانورود کارجوثبت‌نام کارجوورود کارجوثبت‌نام کارجو۱جابینجا چطور به استخدام شدن من کمک می‌کند؟مشاهدهمشاهده بیشترجستجودرخواست‌های مننشان‌شده‌هاآگهی‌های پیشنهادیاز آگهی‌های جدید باخبر شوبهترین فرصت های شغلی در جابینجاهمه‌ی استان‌هااردبیلتهرانخراسان رضویاصفهانالبرزفارسقمآذربایجان شرقیمازندرانگیلانخوزستانکرمانیزدقزوینمرکزیهرمزگانگلستانزنجانآذربایجان غربیبوشهرسیستان و بلوچستانسمنانکرمانشاههمدانلرستانکردستانخراسان شمالیخراسان جنوبیچهارمحال بختیاریایلامکهکیلویه و بویراحمدهمه‌ی دسته‌بندی‌هافروش و بازاریابیوب،‌ برنامه‌نویسی و نرم‌افزارمالی و حسابداریمسئول دفتر، اجرائی و اداریتولید و مدیریت محتوادیجیتال مارکتینگپشتیبانی و امور مشتریانطراح       N/A      N/A          N/A          N/A           N/A             N/A        N/A    N/A             N/A\n",
      "                                                                                                                                                                                                                                                                                      https://jobinja.ir/jobs?filters%5Bjob_categories%5D%5B%5D=%D8%B5%D9%86%D8%A7%DB%8C%D8%B9+%D8%BA%D8%B0%D8%A7%DB%8C%DB%8C   استخدام صنایع غذایی | استخدام مهندس صنایع غذایی | استخدام کارشناس صنایع غذایی\\n | جابینجاامکان جدید:همین حالا رزومه خود را در کمتر از ۱۰ دقیقه بسازید،برو به رزومه‌سازJobinja | جابینجا | استخدام، آگهی استخدام، کاریابی، استخدامی جدید، بازار کار، نیازمندیها، ساخت رزومه رایگان، کار و استخدام دولتی، اشتغال، جستجوگر حرفه ای استخدام و شغلخانهجستجوی مشاغلرزومه‌ساز۵۰ شرکت برتربخش کارفرمایانورود کارجوثبت‌نام کارجوورود کارجوثبت‌نام کارجو۱جابینجا چطور به استخدام شدن من کمک می‌کند؟مشاهدهمشاهده بیشترجستجودرخواست‌های مننشان‌شده‌هاآگهی‌های پیشنهادیاز آگهی‌های جدید باخبر شوبهترین فرصت های شغلی در جابینجاهمه‌ی استان‌هاتهرانخراسان رضویاصفهانالبرزفارسقمآذربایجان شرقیمازندرانگیلانخوزستانکرمانیزدقزوینمرکزیهرمزگانگلستانزنجانآذربایجان غربیبوشهرسیستان و بلوچستانسمنانکرمانشاههمداناردبیللرستانکردستانخراسان شمالیخراسان جنوبیچهارمحال بختیاریایلامکهکیلویه و بویراحمدهمه‌ی دسته‌بندی‌هاصنایع غذاییفروش و بازاریابیوب،‌ برنامه‌نویسی و نرم‌افزارمالی و حسابداریمسئول دفتر، اجرائی و اداریتولید و مدیریت محتوادیجیتال مارکتینگپش       N/A      N/A          N/A          N/A           N/A             N/A        N/A    N/A             N/A\n",
      "                                                                                                                                                                                                                                                            https://jobinja.ir/jobs?filters%5Blocations%5D%5B%5D=%D8%B3%DB%8C%D8%B3%D8%AA%D8%A7%D9%86+%D9%88+%D8%A8%D9%84%D9%88%DA%86%D8%B3%D8%AA%D8%A7%D9%86   آگهی استخدام سیستان و بلوچستان | استخدام سیستان و بلوچستان | کاریابی سیستان و بلوچستان\\n | جابینجاامکان جدید:همین حالا رزومه خود را در کمتر از ۱۰ دقیقه بسازید،برو به رزومه‌سازJobinja | جابینجا | استخدام، آگهی استخدام، کاریابی، استخدامی جدید، بازار کار، نیازمندیها، ساخت رزومه رایگان، کار و استخدام دولتی، اشتغال، جستجوگر حرفه ای استخدام و شغلخانهجستجوی مشاغلرزومه‌ساز۵۰ شرکت برتربخش کارفرمایانورود کارجوثبت‌نام کارجوورود کارجوثبت‌نام کارجو۱جابینجا چطور به استخدام شدن من کمک می‌کند؟مشاهدهمشاهده بیشترجستجودرخواست‌های مننشان‌شده‌هاآگهی‌های پیشنهادیاز آگهی‌های جدید باخبر شوبهترین فرصت های شغلی در جابینجاهمه‌ی استان‌هاسیستان و بلوچستانتهرانخراسان رضویاصفهانالبرزفارسقمآذربایجان شرقیمازندرانگیلانخوزستانکرمانیزدقزوینمرکزیهرمزگانگلستانزنجانآذربایجان غربیبوشهرسمنانکرمانشاههمداناردبیللرستانکردستانخراسان شمالیخراسان جنوبیچهارمحال بختیاریایلامکهکیلویه و بویراحمدهمه‌ی دسته‌بندی‌هافروش و بازاریابیوب،‌ برنامه‌نویسی و نرم‌افزارمالی و حسابداریمسئول دفتر، اجرائی و اداریتولید و مدیریت محتوادیجیتال مارکتینگپشتی       N/A      N/A          N/A          N/A           N/A             N/A        N/A    N/A             N/A\n",
      "                                                                                                                                                                                                                                                                                                                    https://jobinja.ir/jobs?filters%5Bkeywords%5D%5B0%5D=%D9%88%D8%B1%D8%AF%D9%BE%D8%B1%D8%B3   فرصت های شغلی وردپرس\\n | جابینجاامکان جدید:همین حالا رزومه خود را در کمتر از ۱۰ دقیقه بسازید،برو به رزومه‌سازJobinja | جابینجا | استخدام، آگهی استخدام، کاریابی، استخدامی جدید، بازار کار، نیازمندیها، ساخت رزومه رایگان، کار و استخدام دولتی، اشتغال، جستجوگر حرفه ای استخدام و شغلخانهجستجوی مشاغلرزومه‌ساز۵۰ شرکت برتربخش کارفرمایانورود کارجوثبت‌نام کارجوورود کارجوثبت‌نام کارجو۱جابینجا چطور به استخدام شدن من کمک می‌کند؟مشاهدهمشاهده بیشترجستجودرخواست‌های مننشان‌شده‌هاآگهی‌های پیشنهادیاز آگهی‌های جدید باخبر شوبهترین فرصت های شغلی در جابینجاهمه‌ی استان‌هاتهرانخراسان رضویاصفهانالبرزفارسقمآذربایجان شرقیمازندرانگیلانخوزستانکرمانیزدقزوینمرکزیهرمزگانگلستانزنجانآذربایجان غربیبوشهرسیستان و بلوچستانسمنانکرمانشاههمداناردبیللرستانکردستانخراسان شمالیخراسان جنوبیچهارمحال بختیاریایلامکهکیلویه و بویراحمدهمه‌ی دسته‌بندی‌هافروش و بازاریابیوب،‌ برنامه‌نویسی و نرم‌افزارمالی و حسابداریمسئول دفتر، اجرائی و اداریتولید و مدیریت محتوادیجیتال مارکتینگپشتیبانی و امور مشتریانطراحیIT / DevOps / Serverمهندسی صنایع و مدیریت        N/A      N/A          N/A          N/A           N/A             N/A        N/A    N/A             N/A\n",
      "                                                                                                                                                                                                     https://jobinja.ir/jobs?filters%5Bjob_categories%5D%5B%5D=%D8%AA%D8%AD%D9%82%DB%8C%D9%82+%D8%A8%D8%A7%D8%B2%D8%A7%D8%B1+%D9%88+%D8%AA%D8%AD%D9%84%DB%8C%D9%84+%D8%A7%D9%82%D8%AA%D8%B5%D8%A7%D8%AF%DB%8C   استخدام تحلیلگر بازار و اقتصاد\\n | جابینجاامکان جدید:همین حالا رزومه خود را در کمتر از ۱۰ دقیقه بسازید،برو به رزومه‌سازJobinja | جابینجا | استخدام، آگهی استخدام، کاریابی، استخدامی جدید، بازار کار، نیازمندیها، ساخت رزومه رایگان، کار و استخدام دولتی، اشتغال، جستجوگر حرفه ای استخدام و شغلخانهجستجوی مشاغلرزومه‌ساز۵۰ شرکت برتربخش کارفرمایانورود کارجوثبت‌نام کارجوورود کارجوثبت‌نام کارجو۱جابینجا چطور به استخدام شدن من کمک می‌کند؟مشاهدهمشاهده بیشترجستجودرخواست‌های مننشان‌شده‌هاآگهی‌های پیشنهادیاز آگهی‌های جدید باخبر شوبهترین فرصت های شغلی در جابینجاهمه‌ی استان‌هاتهرانخراسان رضویاصفهانالبرزفارسقمآذربایجان شرقیمازندرانگیلانخوزستانکرمانیزدقزوینمرکزیهرمزگانگلستانزنجانآذربایجان غربیبوشهرسیستان و بلوچستانسمنانکرمانشاههمداناردبیللرستانکردستانخراسان شمالیخراسان جنوبیچهارمحال بختیاریایلامکهکیلویه و بویراحمدهمه‌ی دسته‌بندی‌هاتحقیق بازار و تحلیل اقتصادیفروش و بازاریابیوب،‌ برنامه‌نویسی و نرم‌افزارمالی و حسابداریمسئول دفتر، اجرائی و اداریتولید و مدیریت محتوادیجیتال مارکتینگپشتیبانی و امور مشتریانطراحیIT /        N/A      N/A          N/A          N/A           N/A             N/A        N/A    N/A             N/A\n",
      "                                                                                                                                                                                                                                                                                                                                                                                     https://jobinja.ir/top50   فهرست ۵۰ شرکت برتر ایران برای کار | جابینجاامکان جدید:همین حالا رزومه خود را در کمتر از ۱۰ دقیقه بسازید،برو به رزومه‌سازJobinja | جابینجا | استخدام، آگهی استخدام، کاریابی، استخدامی جدید، بازار کار، نیازمندیها، ساخت رزومه رایگان، کار و استخدام دولتی، اشتغال، جستجوگر حرفه ای استخدام و شغلخانهجستجوی مشاغلرزومه‌ساز۵۰ شرکت برتربخش کارفرمایانورود کارجوثبت‌نام کارجوورود کارجوثبت‌نام کارجو۱جابینجا چطور به استخدام شدن من کمک می‌کند؟مشاهدهمشاهده بیشترفهرست ۵۰ شرکت برتر ایران برای کارپیش از انتخاب شغل و مسیر حرفه‌ای خود، رتبه‌بندی شرکت‌های برتر ایران را در جابینجا مشاهده کنید!این فهرست بر اساس بررسی شاخص‌های مختلف در ۹۰ روز اخیر تهیه شده است.فهرست ۵۰ شرکت برتر ایرانهمه شرکت‌ها۱ویستا سامانه آسا | ASA۹/۶مشاهده صفحه شرکتکامپیوتر، فناوری اطلاعات و اینترنت۵۰۱ تا ۱۰۰۰ نفر۲۲\\n                                                    شغل فعال۱۰محبوبیت میان کارجویان۱۰تعدد و تنوع فرصت‌های شغلی۹بررسی رزومه‌های دریافتیشرکت دانش بنیان آسا از مجموعه ای از افراد پرتلاش و خلاق تشکیل شده که تلاش می‌کنند تا آسا را به یک        N/A      N/A          N/A          N/A           N/A             N/A        N/A    N/A             N/A\n",
      "                                                                                                                                                                                                                                                                                                                                                                    https://jobinja.ir/companies/alibaba/jobs    فرصت‌های شغلی فعال در علی‌بابا | Alibaba Group  | جابینجاامکان جدید:همین حالا رزومه خود را در کمتر از ۱۰ دقیقه بسازید،برو به رزومه‌سازJobinja | جابینجا | استخدام، آگهی استخدام، کاریابی، استخدامی جدید، بازار کار، نیازمندیها، ساخت رزومه رایگان، کار و استخدام دولتی، اشتغال، جستجوگر حرفه ای استخدام و شغلخانهجستجوی مشاغلرزومه‌ساز۵۰ شرکت برتربخش کارفرمایانورود کارجوثبت‌نام کارجوورود کارجوثبت‌نام کارجو۱جابینجا چطور به استخدام شدن من کمک می‌کند؟مشاهدهمشاهده بیشترعلی‌بابا|Alibaba Groupکامپیوتر، فناوری اطلاعات و اینترنت۵۰۱ تا ۱۰۰۰ نفرwww.alibaba.irدر یک نگاهمعرفیفرصت‌های شغلی۲۱معرفی علی‌باباشرکت سفرهای علی‌بابا، یک جمع بزرگ بیش از 800 نفری از افرادی حرفه‌ای و تاثیرگذار است که در جایگاه رهبر بازار گردشگری ایران، با ارائه همه خدمات سفر به‌شکل آنلاین، همسفر مسافران می‌شود. تلاش همه علی‌بابایی‌ها این است که با توانمندسازی جامعه، دسترسی به تجربه شایسته سفر را برای همه ممکن کنند. اینجا هر روز برای ما «روز اول» است و فرصتی برای رشد و یادگیری. در واقع هیچ سقف و محدودیتی برای خودمان قائل نیستیم و علی‌باب       N/A      N/A          N/A          N/A           N/A             N/A        N/A    N/A             N/A\n",
      "                                                                                                                                                                                                                                          https://jobinja.ir/jobs?filters%5Bjob_categories%5D%5B%5D=%D8%AA%D9%88%D9%84%DB%8C%D8%AF+%D9%88+%D9%85%D8%AF%DB%8C%D8%B1%DB%8C%D8%AA+%D9%85%D8%AD%D8%AA%D9%88%D8%A7   استخدام تولید کننده و مدیر محتوا\\n | جابینجاامکان جدید:همین حالا رزومه خود را در کمتر از ۱۰ دقیقه بسازید،برو به رزومه‌سازJobinja | جابینجا | استخدام، آگهی استخدام، کاریابی، استخدامی جدید، بازار کار، نیازمندیها، ساخت رزومه رایگان، کار و استخدام دولتی، اشتغال، جستجوگر حرفه ای استخدام و شغلخانهجستجوی مشاغلرزومه‌ساز۵۰ شرکت برتربخش کارفرمایانورود کارجوثبت‌نام کارجوورود کارجوثبت‌نام کارجو۱جابینجا چطور به استخدام شدن من کمک می‌کند؟مشاهدهمشاهده بیشترجستجودرخواست‌های مننشان‌شده‌هاآگهی‌های پیشنهادیاز آگهی‌های جدید باخبر شوبهترین فرصت های شغلی در جابینجاهمه‌ی استان‌هاتهرانخراسان رضویاصفهانالبرزفارسقمآذربایجان شرقیمازندرانگیلانخوزستانکرمانیزدقزوینمرکزیهرمزگانگلستانزنجانآذربایجان غربیبوشهرسیستان و بلوچستانسمنانکرمانشاههمداناردبیللرستانکردستانخراسان شمالیخراسان جنوبیچهارمحال بختیاریایلامکهکیلویه و بویراحمدهمه‌ی دسته‌بندی‌هاتولید و مدیریت محتوافروش و بازاریابیوب،‌ برنامه‌نویسی و نرم‌افزارمالی و حسابداریمسئول دفتر، اجرائی و اداریدیجیتال مارکتینگپشتیبانی و امور مشتریانطراحیIT / DevOps / Serverمهندسی صنا       N/A      N/A          N/A          N/A           N/A             N/A        N/A    N/A             N/A\n",
      "                                                                                                                                                                                                                        https://jobinja.ir/jobs?filters%5Bjob_categories%5D%5B%5D=%D9%85%D9%86%D8%A7%D8%A8%D8%B9+%D8%A7%D9%86%D8%B3%D8%A7%D9%86%DB%8C+%D9%88+%DA%A9%D8%A7%D8%B1%DA%AF%D8%B2%DB%8C%D9%86%DB%8C   آگهی استخدام کارشناس منابع انسانی | استخدام مدیر منابع انسانی (HR) | جابینجا\\n | جابینجاامکان جدید:همین حالا رزومه خود را در کمتر از ۱۰ دقیقه بسازید،برو به رزومه‌سازJobinja | جابینجا | استخدام، آگهی استخدام، کاریابی، استخدامی جدید، بازار کار، نیازمندیها، ساخت رزومه رایگان، کار و استخدام دولتی، اشتغال، جستجوگر حرفه ای استخدام و شغلخانهجستجوی مشاغلرزومه‌ساز۵۰ شرکت برتربخش کارفرمایانورود کارجوثبت‌نام کارجوورود کارجوثبت‌نام کارجو۱جابینجا چطور به استخدام شدن من کمک می‌کند؟مشاهدهمشاهده بیشترجستجودرخواست‌های مننشان‌شده‌هاآگهی‌های پیشنهادیاز آگهی‌های جدید باخبر شوبهترین فرصت های شغلی در جابینجاهمه‌ی استان‌هاتهرانخراسان رضویاصفهانالبرزفارسقمآذربایجان شرقیمازندرانگیلانخوزستانکرمانیزدقزوینمرکزیهرمزگانگلستانزنجانآذربایجان غربیبوشهرسیستان و بلوچستانسمنانکرمانشاههمداناردبیللرستانکردستانخراسان شمالیخراسان جنوبیچهارمحال بختیاریایلامکهکیلویه و بویراحمدهمه‌ی دسته‌بندی‌هامنابع انسانی و کارگزینیفروش و بازاریابیوب،‌ برنامه‌نویسی و نرم‌افزارمالی و حسابداریمسئول دفتر، اجرائی و اداریتولید و مدیریت محتوادیجیتال       N/A      N/A          N/A          N/A           N/A             N/A        N/A    N/A             N/A\n",
      "                                                                                                                                                                                                                                                                   https://jobinja.ir/jobs?filters%5Bjob_categories%5D%5B%5D=%D9%85%D8%A7%D9%84%DB%8C+%D9%88+%D8%AD%D8%B3%D8%A7%D8%A8%D8%AF%D8%A7%D8%B1%DB%8C   استخدام حسابدار | آگهی استخدام حسابدار | استخدام کمک حسابدار\\n | جابینجاامکان جدید:همین حالا رزومه خود را در کمتر از ۱۰ دقیقه بسازید،برو به رزومه‌سازJobinja | جابینجا | استخدام، آگهی استخدام، کاریابی، استخدامی جدید، بازار کار، نیازمندیها، ساخت رزومه رایگان، کار و استخدام دولتی، اشتغال، جستجوگر حرفه ای استخدام و شغلخانهجستجوی مشاغلرزومه‌ساز۵۰ شرکت برتربخش کارفرمایانورود کارجوثبت‌نام کارجوورود کارجوثبت‌نام کارجو۱جابینجا چطور به استخدام شدن من کمک می‌کند؟مشاهدهمشاهده بیشترجستجودرخواست‌های مننشان‌شده‌هاآگهی‌های پیشنهادیاز آگهی‌های جدید باخبر شوبهترین فرصت های شغلی در جابینجاهمه‌ی استان‌هاتهرانخراسان رضویاصفهانالبرزفارسقمآذربایجان شرقیمازندرانگیلانخوزستانکرمانیزدقزوینمرکزیهرمزگانگلستانزنجانآذربایجان غربیبوشهرسیستان و بلوچستانسمنانکرمانشاههمداناردبیللرستانکردستانخراسان شمالیخراسان جنوبیچهارمحال بختیاریایلامکهکیلویه و بویراحمدهمه‌ی دسته‌بندی‌هامالی و حسابداریفروش و بازاریابیوب،‌ برنامه‌نویسی و نرم‌افزارمسئول دفتر، اجرائی و اداریتولید و مدیریت محتوادیجیتال مارکتینگپشتیبانی و امور مشتریانطراحیIT       N/A      N/A          N/A          N/A           N/A             N/A        N/A    N/A             N/A\n",
      "                                                                                                                                                                                                                                                                                                                          https://jobinja.ir/jobs?filters%5Blocations%5D%5B%5D=%D8%A7%DB%8C%D9%84%D8%A7%D9%85   آگهی استخدام ایلام | استخدام ایلام | کاریابی ایلام\\n | جابینجاامکان جدید:همین حالا رزومه خود را در کمتر از ۱۰ دقیقه بسازید،برو به رزومه‌سازJobinja | جابینجا | استخدام، آگهی استخدام، کاریابی، استخدامی جدید، بازار کار، نیازمندیها، ساخت رزومه رایگان، کار و استخدام دولتی، اشتغال، جستجوگر حرفه ای استخدام و شغلخانهجستجوی مشاغلرزومه‌ساز۵۰ شرکت برتربخش کارفرمایانورود کارجوثبت‌نام کارجوورود کارجوثبت‌نام کارجو۱جابینجا چطور به استخدام شدن من کمک می‌کند؟مشاهدهمشاهده بیشترجستجودرخواست‌های مننشان‌شده‌هاآگهی‌های پیشنهادیاز آگهی‌های جدید باخبر شوبهترین فرصت های شغلی در جابینجاهمه‌ی استان‌هاایلامتهرانخراسان رضویاصفهانالبرزفارسقمآذربایجان شرقیمازندرانگیلانخوزستانکرمانیزدقزوینمرکزیهرمزگانگلستانزنجانآذربایجان غربیبوشهرسیستان و بلوچستانسمنانکرمانشاههمداناردبیللرستانکردستانخراسان شمالیخراسان جنوبیچهارمحال بختیاریکهکیلویه و بویراحمدهمه‌ی دسته‌بندی‌هافروش و بازاریابیوب،‌ برنامه‌نویسی و نرم‌افزارمالی و حسابداریمسئول دفتر، اجرائی و اداریتولید و مدیریت محتوادیجیتال مارکتینگپشتیبانی و امور مشتریانطراحیIT / DevOps        N/A      N/A          N/A          N/A           N/A             N/A        N/A    N/A             N/A\n",
      "                                                                                                                                                                                                                                                                               https://jobinja.ir/jobs?filters%5Bkeywords%5D%5B0%5D=%D8%A7%D8%AF%D9%85%DB%8C%D9%86+%D8%AF%D9%88%D8%B1%DA%A9%D8%A7%D8%B1%DB%8C   فرصت های شغلی ادمین دورکاری\\n | جابینجاامکان جدید:همین حالا رزومه خود را در کمتر از ۱۰ دقیقه بسازید،برو به رزومه‌سازJobinja | جابینجا | استخدام، آگهی استخدام، کاریابی، استخدامی جدید، بازار کار، نیازمندیها، ساخت رزومه رایگان، کار و استخدام دولتی، اشتغال، جستجوگر حرفه ای استخدام و شغلخانهجستجوی مشاغلرزومه‌ساز۵۰ شرکت برتربخش کارفرمایانورود کارجوثبت‌نام کارجوورود کارجوثبت‌نام کارجو۱جابینجا چطور به استخدام شدن من کمک می‌کند؟مشاهدهمشاهده بیشترجستجودرخواست‌های مننشان‌شده‌هاآگهی‌های پیشنهادیاز آگهی‌های جدید باخبر شوبهترین فرصت های شغلی در جابینجاهمه‌ی استان‌هاتهرانخراسان رضویاصفهانالبرزفارسقمآذربایجان شرقیمازندرانگیلانخوزستانکرمانیزدقزوینمرکزیهرمزگانگلستانزنجانآذربایجان غربیبوشهرسیستان و بلوچستانسمنانکرمانشاههمداناردبیللرستانکردستانخراسان شمالیخراسان جنوبیچهارمحال بختیاریایلامکهکیلویه و بویراحمدهمه‌ی دسته‌بندی‌هافروش و بازاریابیوب،‌ برنامه‌نویسی و نرم‌افزارمالی و حسابداریمسئول دفتر، اجرائی و اداریتولید و مدیریت محتوادیجیتال مارکتینگپشتیبانی و امور مشتریانطراحیIT / DevOps / Serverمهندسی صنایع و        N/A      N/A          N/A          N/A           N/A             N/A        N/A    N/A             N/A\n",
      "                                                                                             https://jobinja.ir/companies/orchidpharmed/jobs/A7gb/%D8%A7%D8%B3%D8%AA%D8%AE%D8%AF%D8%A7%D9%85-%DA%A9%D8%A7%D8%B1%D8%B4%D9%86%D8%A7%D8%B3-%D8%B3%DB%8C%D8%B3%D8%AA%D9%85-%D9%87%D8%A7-%D9%88-%D8%B1%D9%88%D8%B4-%D9%87%D8%A7-%D8%AF%D8%B1-%D8%A7%D8%B1%DA%A9%DB%8C%D8%AF-%D9%81%D8%A7%D8%B1%D9%85%D8%AF?_ref=18   استخدام کارشناس سیستم ها و روش ها در ارکید فارمد | جابینجاامکان جدید:همین حالا رزومه خود را در کمتر از ۱۰ دقیقه بسازید،برو به رزومه‌سازJobinja | جابینجا | استخدام، آگهی استخدام، کاریابی، استخدامی جدید، بازار کار، نیازمندیها، ساخت رزومه رایگان، کار و استخدام دولتی، اشتغال، جستجوگر حرفه ای استخدام و شغلخانهجستجوی مشاغلرزومه‌ساز۵۰ شرکت برتربخش کارفرمایانورود کارجوثبت‌نام کارجوورود کارجوثبت‌نام کارجو۱جابینجا چطور به استخدام شدن من کمک می‌کند؟مشاهدهمشاهده بیشترارکید فارمد|Orchid Pharmedخدمات درمانی، پزشکی و سلامت۵۰۱ تا ۱۰۰۰ نفرwww.orchidpharmed.comدر یک نگاهمعرفیفرصت‌های شغلی۲۷استخدام کارشناس سیستم ها و روش هالطفا برای مشاهده‌ی جزییات و ارسال رزومهیکی از راه‌های زیر را انتخاب کنیدورود / ثبت‌نام با ایمیلimage/svg+xmlbtn_google_light_normal_iosbtn_google_light_normal_iosCreated with Sketch.ورود / ثبت‌نام با گوگل\\n                    (Gmail)ورود / ثبت‌نام با لینکدیناستخدام کارشناس سیستم ها و روش ها{{ tooltipText }}{{ hoverTitle }}نشان کردنحذف نشاندسته‌بندی شغلیمهندسی صنایع و مدیریت صنعتیموقعیت        N/A      N/A          N/A          N/A           N/A             N/A        N/A    N/A             N/A\n",
      "                                                                                                                                                                                                                                                                                     https://jobinja.ir/jobs?filters%5Bkeywords%5D%5B0%5D=%DA%A9%D8%A7%D8%B1%D9%85%D9%86%D8%AF+%D8%A7%D8%AF%D8%A7%D8%B1%DB%8C   فرصت های شغلی کارمند اداری\\n | جابینجاامکان جدید:همین حالا رزومه خود را در کمتر از ۱۰ دقیقه بسازید،برو به رزومه‌سازJobinja | جابینجا | استخدام، آگهی استخدام، کاریابی، استخدامی جدید، بازار کار، نیازمندیها، ساخت رزومه رایگان، کار و استخدام دولتی، اشتغال، جستجوگر حرفه ای استخدام و شغلخانهجستجوی مشاغلرزومه‌ساز۵۰ شرکت برتربخش کارفرمایانورود کارجوثبت‌نام کارجوورود کارجوثبت‌نام کارجو۱جابینجا چطور به استخدام شدن من کمک می‌کند؟مشاهدهمشاهده بیشترجستجودرخواست‌های مننشان‌شده‌هاآگهی‌های پیشنهادیاز آگهی‌های جدید باخبر شوبهترین فرصت های شغلی در جابینجاهمه‌ی استان‌هاتهرانخراسان رضویاصفهانالبرزفارسقمآذربایجان شرقیمازندرانگیلانخوزستانکرمانیزدقزوینمرکزیهرمزگانگلستانزنجانآذربایجان غربیبوشهرسیستان و بلوچستانسمنانکرمانشاههمداناردبیللرستانکردستانخراسان شمالیخراسان جنوبیچهارمحال بختیاریایلامکهکیلویه و بویراحمدهمه‌ی دسته‌بندی‌هافروش و بازاریابیوب،‌ برنامه‌نویسی و نرم‌افزارمالی و حسابداریمسئول دفتر، اجرائی و اداریتولید و مدیریت محتوادیجیتال مارکتینگپشتیبانی و امور مشتریانطراحیIT / DevOps / Serverمهندسی صنایع و م       N/A      N/A          N/A          N/A           N/A             N/A        N/A    N/A             N/A\n",
      "                                                                                                                                                                                                                                                                                                                          https://jobinja.ir/jobs?filters%5Blocations%5D%5B%5D=%D9%87%D9%85%D8%AF%D8%A7%D9%86   کاریابی همدان | استخدامی همدان | آگهی استخدام همدان\\n | جابینجاامکان جدید:همین حالا رزومه خود را در کمتر از ۱۰ دقیقه بسازید،برو به رزومه‌سازJobinja | جابینجا | استخدام، آگهی استخدام، کاریابی، استخدامی جدید، بازار کار، نیازمندیها، ساخت رزومه رایگان، کار و استخدام دولتی، اشتغال، جستجوگر حرفه ای استخدام و شغلخانهجستجوی مشاغلرزومه‌ساز۵۰ شرکت برتربخش کارفرمایانورود کارجوثبت‌نام کارجوورود کارجوثبت‌نام کارجو۱جابینجا چطور به استخدام شدن من کمک می‌کند؟مشاهدهمشاهده بیشترجستجودرخواست‌های مننشان‌شده‌هاآگهی‌های پیشنهادیاز آگهی‌های جدید باخبر شوبهترین فرصت های شغلی در جابینجاهمه‌ی استان‌هاهمدانتهرانخراسان رضویاصفهانالبرزفارسقمآذربایجان شرقیمازندرانگیلانخوزستانکرمانیزدقزوینمرکزیهرمزگانگلستانزنجانآذربایجان غربیبوشهرسیستان و بلوچستانسمنانکرمانشاهاردبیللرستانکردستانخراسان شمالیخراسان جنوبیچهارمحال بختیاریایلامکهکیلویه و بویراحمدهمه‌ی دسته‌بندی‌هافروش و بازاریابیوب،‌ برنامه‌نویسی و نرم‌افزارمالی و حسابداریمسئول دفتر، اجرائی و اداریتولید و مدیریت محتوادیجیتال مارکتینگپشتیبانی و امور مشتریانطراحیIT / DevOps       N/A      N/A          N/A          N/A           N/A             N/A        N/A    N/A             N/A\n",
      "                                                                                                                                                                                                                                                                                                                                                                           https://jobinja.ir/companies/hasin    استخدام در شرکت گروه حصین، آگهی های استخدام Hasin Technology | جابینجاامکان جدید:همین حالا رزومه خود را در کمتر از ۱۰ دقیقه بسازید،برو به رزومه‌سازJobinja | جابینجا | استخدام، آگهی استخدام، کاریابی، استخدامی جدید، بازار کار، نیازمندیها، ساخت رزومه رایگان، کار و استخدام دولتی، اشتغال، جستجوگر حرفه ای استخدام و شغلخانهجستجوی مشاغلرزومه‌ساز۵۰ شرکت برتربخش کارفرمایانورود کارجوثبت‌نام کارجوورود کارجوثبت‌نام کارجو۱جابینجا چطور به استخدام شدن من کمک می‌کند؟مشاهدهمشاهده بیشترگروه حصین|Hasin Technologyتاسیس در  ۱۳۸۳کامپیوتر، فناوری اطلاعات و اینترنت۵۰۱ تا ۱۰۰۰ نفرwww.hasin.irدر یک نگاهمعرفیفرصت‌های شغلی۲۲محیط کاری حصین جاییه که استعدادها شکوفا می‌شن، ایده‌ها به وجود میان و نوآوری هیچ حد و مرزی نمی‌شناسه.موقعیت مکانیتهران، تهراناعضای شرکتکمیل کمالمدیر فنی شرکت مایکتکار کردن با همکا‌رهای حرفه‌ای در محیطی صمیمی و پویا، از ویژگی‌های بارزی است که می‌شه تو حصین تجربه کرد. حصین به همه این فرصت رو می‌ده که نتیجهٔ ایده‌ها و پیشنهادات خلاقانهٔ خود رو در جهت بهبود تجربهٔ کاربری میلیون‌ها نفر مشاهده کنند.م       N/A      N/A          N/A          N/A           N/A             N/A        N/A    N/A             N/A\n",
      "                                                                                                                                                                                                                                                                                                                                                                       https://jobinja.ir/companies/nobitex-1    استخدام در شرکت نوبیتکس، آگهی های استخدام Nobitex | جابینجاامکان جدید:همین حالا رزومه خود را در کمتر از ۱۰ دقیقه بسازید،برو به رزومه‌سازJobinja | جابینجا | استخدام، آگهی استخدام، کاریابی، استخدامی جدید، بازار کار، نیازمندیها، ساخت رزومه رایگان، کار و استخدام دولتی، اشتغال، جستجوگر حرفه ای استخدام و شغلخانهجستجوی مشاغلرزومه‌ساز۵۰ شرکت برتربخش کارفرمایانورود کارجوثبت‌نام کارجوورود کارجوثبت‌نام کارجو۱جابینجا چطور به استخدام شدن من کمک می‌کند؟مشاهدهمشاهده بیشترنوبیتکس|Nobitexتاسیس در  ۱۳۹۶کامپیوتر، فناوری اطلاعات و اینترنت۲۰۱ تا ۵۰۰ نفرnobitex.irدر یک نگاهمعرفیفرصت‌های شغلی۱۰این جا نوبیتکسه: بزرگترین بستر مبادله دارایی‌های دیجیتال در ایران که از سال ۱۳۹۶ شروع به کار کرد. ما تلاش می‌کنیم تا کاربران ایرانی به سادگی دارایی‌های دیجیتال خودشون رو معامله یا نگهداری کننموقعیت مکانیتهران، تهراناعضای شرکتمهدی سیلاویمدیر محصولنوبیتکس به عنوان رهبر بازار رمزارزی ایران، با استفاده از تکنولوژی بلاکچین نه تنها به دنبال خلق ارزش در کشور،‌ بلکه به دنبال نوآوری و حرف تازه در دنیاست. اگه فکر می‌کنی می‌تونی        N/A      N/A          N/A          N/A           N/A             N/A        N/A    N/A             N/A\n",
      "                                                                                                                                                                                                           https://jobinja.ir/jobs?filters%5Bjob_categories%5D%5B%5D=%D9%85%D8%B3%D8%A6%D9%88%D9%84+%D8%AF%D9%81%D8%AA%D8%B1%D8%8C+%D8%A7%D8%AC%D8%B1%D8%A7%D8%A6%DB%8C+%D9%88+%D8%A7%D8%AF%D8%A7%D8%B1%DB%8C   استخدام منشی | استخدام کارمند دفتری | استخدام کارمند اداری | جابینجا\\n | جابینجاامکان جدید:همین حالا رزومه خود را در کمتر از ۱۰ دقیقه بسازید،برو به رزومه‌سازJobinja | جابینجا | استخدام، آگهی استخدام، کاریابی، استخدامی جدید، بازار کار، نیازمندیها، ساخت رزومه رایگان، کار و استخدام دولتی، اشتغال، جستجوگر حرفه ای استخدام و شغلخانهجستجوی مشاغلرزومه‌ساز۵۰ شرکت برتربخش کارفرمایانورود کارجوثبت‌نام کارجوورود کارجوثبت‌نام کارجو۱جابینجا چطور به استخدام شدن من کمک می‌کند؟مشاهدهمشاهده بیشترجستجودرخواست‌های مننشان‌شده‌هاآگهی‌های پیشنهادیاز آگهی‌های جدید باخبر شوبهترین فرصت های شغلی در جابینجاهمه‌ی استان‌هاتهرانخراسان رضویاصفهانالبرزفارسقمآذربایجان شرقیمازندرانگیلانخوزستانکرمانیزدقزوینمرکزیهرمزگانگلستانزنجانآذربایجان غربیبوشهرسیستان و بلوچستانسمنانکرمانشاههمداناردبیللرستانکردستانخراسان شمالیخراسان جنوبیچهارمحال بختیاریایلامکهکیلویه و بویراحمدهمه‌ی دسته‌بندی‌هامسئول دفتر، اجرائی و اداریفروش و بازاریابیوب،‌ برنامه‌نویسی و نرم‌افزارمالی و حسابداریتولید و مدیریت محتوادیجیتال مارکتینگپشتیبانی و امور مشتریا       N/A      N/A          N/A          N/A           N/A             N/A        N/A    N/A             N/A\n",
      "                                                                                                                                                                                                                                                                                                              https://jobinja.ir/jobs?filters%5Bkeywords%5D%5B0%5D=%D9%81%D8%B1%D9%88%D8%B4%D9%86%D8%AF%D9%87   فرصت های شغلی فروشنده\\n | جابینجاامکان جدید:همین حالا رزومه خود را در کمتر از ۱۰ دقیقه بسازید،برو به رزومه‌سازJobinja | جابینجا | استخدام، آگهی استخدام، کاریابی، استخدامی جدید، بازار کار، نیازمندیها، ساخت رزومه رایگان، کار و استخدام دولتی، اشتغال، جستجوگر حرفه ای استخدام و شغلخانهجستجوی مشاغلرزومه‌ساز۵۰ شرکت برتربخش کارفرمایانورود کارجوثبت‌نام کارجوورود کارجوثبت‌نام کارجو۱جابینجا چطور به استخدام شدن من کمک می‌کند؟مشاهدهمشاهده بیشترجستجودرخواست‌های مننشان‌شده‌هاآگهی‌های پیشنهادیاز آگهی‌های جدید باخبر شوبهترین فرصت های شغلی در جابینجاهمه‌ی استان‌هاتهرانخراسان رضویاصفهانالبرزفارسقمآذربایجان شرقیمازندرانگیلانخوزستانکرمانیزدقزوینمرکزیهرمزگانگلستانزنجانآذربایجان غربیبوشهرسیستان و بلوچستانسمنانکرمانشاههمداناردبیللرستانکردستانخراسان شمالیخراسان جنوبیچهارمحال بختیاریایلامکهکیلویه و بویراحمدهمه‌ی دسته‌بندی‌هافروش و بازاریابیوب،‌ برنامه‌نویسی و نرم‌افزارمالی و حسابداریمسئول دفتر، اجرائی و اداریتولید و مدیریت محتوادیجیتال مارکتینگپشتیبانی و امور مشتریانطراحیIT / DevOps / Serverمهندسی صنایع و مدیریت       N/A      N/A          N/A          N/A           N/A             N/A        N/A    N/A             N/A\n",
      "                                                                                                                                                                                                                                                                                           https://jobinja.ir/jobs?filters%5Bkeywords%5D%5B0%5D=%D8%A8%D8%B1%D9%86%D8%A7%D9%85%D9%87+%D9%86%D9%88%DB%8C%D8%B3   فرصت های شغلی برنامه نویس\\n | جابینجاامکان جدید:همین حالا رزومه خود را در کمتر از ۱۰ دقیقه بسازید،برو به رزومه‌سازJobinja | جابینجا | استخدام، آگهی استخدام، کاریابی، استخدامی جدید، بازار کار، نیازمندیها، ساخت رزومه رایگان، کار و استخدام دولتی، اشتغال، جستجوگر حرفه ای استخدام و شغلخانهجستجوی مشاغلرزومه‌ساز۵۰ شرکت برتربخش کارفرمایانورود کارجوثبت‌نام کارجوورود کارجوثبت‌نام کارجو۱جابینجا چطور به استخدام شدن من کمک می‌کند؟مشاهدهمشاهده بیشترجستجودرخواست‌های مننشان‌شده‌هاآگهی‌های پیشنهادیاز آگهی‌های جدید باخبر شوبهترین فرصت های شغلی در جابینجاهمه‌ی استان‌هاتهرانخراسان رضویاصفهانالبرزفارسقمآذربایجان شرقیمازندرانگیلانخوزستانکرمانیزدقزوینمرکزیهرمزگانگلستانزنجانآذربایجان غربیبوشهرسیستان و بلوچستانسمنانکرمانشاههمداناردبیللرستانکردستانخراسان شمالیخراسان جنوبیچهارمحال بختیاریایلامکهکیلویه و بویراحمدهمه‌ی دسته‌بندی‌هافروش و بازاریابیوب،‌ برنامه‌نویسی و نرم‌افزارمالی و حسابداریمسئول دفتر، اجرائی و اداریتولید و مدیریت محتوادیجیتال مارکتینگپشتیبانی و امور مشتریانطراحیIT / DevOps / Serverمهندسی صنایع و مد       N/A      N/A          N/A          N/A           N/A             N/A        N/A    N/A             N/A\n",
      "                                                                                                                                                                                                                                                                                                              https://jobinja.ir/jobs?filters%5Bkeywords%5D%5B0%5D=%D8%AD%D8%B3%D8%A7%D8%A8%D8%AF%D8%A7%D8%B1   فرصت های شغلی حسابدار\\n | جابینجاامکان جدید:همین حالا رزومه خود را در کمتر از ۱۰ دقیقه بسازید،برو به رزومه‌سازJobinja | جابینجا | استخدام، آگهی استخدام، کاریابی، استخدامی جدید، بازار کار، نیازمندیها، ساخت رزومه رایگان، کار و استخدام دولتی، اشتغال، جستجوگر حرفه ای استخدام و شغلخانهجستجوی مشاغلرزومه‌ساز۵۰ شرکت برتربخش کارفرمایانورود کارجوثبت‌نام کارجوورود کارجوثبت‌نام کارجو۱جابینجا چطور به استخدام شدن من کمک می‌کند؟مشاهدهمشاهده بیشترجستجودرخواست‌های مننشان‌شده‌هاآگهی‌های پیشنهادیاز آگهی‌های جدید باخبر شوبهترین فرصت های شغلی در جابینجاهمه‌ی استان‌هاتهرانخراسان رضویاصفهانالبرزفارسقمآذربایجان شرقیمازندرانگیلانخوزستانکرمانیزدقزوینمرکزیهرمزگانگلستانزنجانآذربایجان غربیبوشهرسیستان و بلوچستانسمنانکرمانشاههمداناردبیللرستانکردستانخراسان شمالیخراسان جنوبیچهارمحال بختیاریایلامکهکیلویه و بویراحمدهمه‌ی دسته‌بندی‌هافروش و بازاریابیوب،‌ برنامه‌نویسی و نرم‌افزارمالی و حسابداریمسئول دفتر، اجرائی و اداریتولید و مدیریت محتوادیجیتال مارکتینگپشتیبانی و امور مشتریانطراحیIT / DevOps / Serverمهندسی صنایع و مدیریت       N/A      N/A          N/A          N/A           N/A             N/A        N/A    N/A             N/A\n",
      "                                                                                                                                                                                                                                                                                                       https://jobinja.ir/jobs?filters%5Bkeywords%5D%5B0%5D=%D8%AF%DB%8C%D8%AC%DB%8C+%DA%A9%D8%A7%D9%84%D8%A7   فرصت های شغلی دیجی کالا\\n | جابینجاامکان جدید:همین حالا رزومه خود را در کمتر از ۱۰ دقیقه بسازید،برو به رزومه‌سازJobinja | جابینجا | استخدام، آگهی استخدام، کاریابی، استخدامی جدید، بازار کار، نیازمندیها، ساخت رزومه رایگان، کار و استخدام دولتی، اشتغال، جستجوگر حرفه ای استخدام و شغلخانهجستجوی مشاغلرزومه‌ساز۵۰ شرکت برتربخش کارفرمایانورود کارجوثبت‌نام کارجوورود کارجوثبت‌نام کارجو۱جابینجا چطور به استخدام شدن من کمک می‌کند؟مشاهدهمشاهده بیشترجستجودرخواست‌های مننشان‌شده‌هاآگهی‌های پیشنهادیاز آگهی‌های جدید باخبر شوبهترین فرصت های شغلی در جابینجاهمه‌ی استان‌هاتهرانخراسان رضویاصفهانالبرزفارسقمآذربایجان شرقیمازندرانگیلانخوزستانکرمانیزدقزوینمرکزیهرمزگانگلستانزنجانآذربایجان غربیبوشهرسیستان و بلوچستانسمنانکرمانشاههمداناردبیللرستانکردستانخراسان شمالیخراسان جنوبیچهارمحال بختیاریایلامکهکیلویه و بویراحمدهمه‌ی دسته‌بندی‌هافروش و بازاریابیوب،‌ برنامه‌نویسی و نرم‌افزارمالی و حسابداریمسئول دفتر، اجرائی و اداریتولید و مدیریت محتوادیجیتال مارکتینگپشتیبانی و امور مشتریانطراحیIT / DevOps / Serverمهندسی صنایع و مدیر       N/A      N/A          N/A          N/A           N/A             N/A        N/A    N/A             N/A\n",
      "                                                                                                                                                                                                                                                                                                                          https://jobinja.ir/jobs?filters%5Blocations%5D%5B%5D=%DA%A9%D8%B1%D9%85%D8%A7%D9%86   آگهی استخدام کرمان | استخدام کرمان | کاریابی کرمان\\n | جابینجاامکان جدید:همین حالا رزومه خود را در کمتر از ۱۰ دقیقه بسازید،برو به رزومه‌سازJobinja | جابینجا | استخدام، آگهی استخدام، کاریابی، استخدامی جدید، بازار کار، نیازمندیها، ساخت رزومه رایگان، کار و استخدام دولتی، اشتغال، جستجوگر حرفه ای استخدام و شغلخانهجستجوی مشاغلرزومه‌ساز۵۰ شرکت برتربخش کارفرمایانورود کارجوثبت‌نام کارجوورود کارجوثبت‌نام کارجو۱جابینجا چطور به استخدام شدن من کمک می‌کند؟مشاهدهمشاهده بیشترجستجودرخواست‌های مننشان‌شده‌هاآگهی‌های پیشنهادیاز آگهی‌های جدید باخبر شوبهترین فرصت های شغلی در جابینجاهمه‌ی استان‌هاکرمانتهرانخراسان رضویاصفهانالبرزفارسقمآذربایجان شرقیمازندرانگیلانخوزستانیزدقزوینمرکزیهرمزگانگلستانزنجانآذربایجان غربیبوشهرسیستان و بلوچستانسمنانکرمانشاههمداناردبیللرستانکردستانخراسان شمالیخراسان جنوبیچهارمحال بختیاریایلامکهکیلویه و بویراحمدهمه‌ی دسته‌بندی‌هافروش و بازاریابیوب،‌ برنامه‌نویسی و نرم‌افزارمالی و حسابداریمسئول دفتر، اجرائی و اداریتولید و مدیریت محتوادیجیتال مارکتینگپشتیبانی و امور مشتریانطراحیIT / DevOps        N/A      N/A          N/A          N/A           N/A             N/A        N/A    N/A             N/A\n",
      "                                                                                                                                                                                                                                                                                             https://jobinja.ir/jobs?filters%5Bjob_categories%5D%5B%5D=%D8%A7%D9%86%D8%A8%D8%A7%D8%B1%D8%AF%D8%A7%D8%B1%DB%8C   استخدام انباردار | آگهی استخدام کمک انباردار\\n | جابینجاامکان جدید:همین حالا رزومه خود را در کمتر از ۱۰ دقیقه بسازید،برو به رزومه‌سازJobinja | جابینجا | استخدام، آگهی استخدام، کاریابی، استخدامی جدید، بازار کار، نیازمندیها، ساخت رزومه رایگان، کار و استخدام دولتی، اشتغال، جستجوگر حرفه ای استخدام و شغلخانهجستجوی مشاغلرزومه‌ساز۵۰ شرکت برتربخش کارفرمایانورود کارجوثبت‌نام کارجوورود کارجوثبت‌نام کارجو۱جابینجا چطور به استخدام شدن من کمک می‌کند؟مشاهدهمشاهده بیشترجستجودرخواست‌های مننشان‌شده‌هاآگهی‌های پیشنهادیاز آگهی‌های جدید باخبر شوبهترین فرصت های شغلی در جابینجاهمه‌ی استان‌هاتهرانخراسان رضویاصفهانالبرزفارسقمآذربایجان شرقیمازندرانگیلانخوزستانکرمانیزدقزوینمرکزیهرمزگانگلستانزنجانآذربایجان غربیبوشهرسیستان و بلوچستانسمنانکرمانشاههمداناردبیللرستانکردستانخراسان شمالیخراسان جنوبیچهارمحال بختیاریایلامکهکیلویه و بویراحمدهمه‌ی دسته‌بندی‌هاانبارداریفروش و بازاریابیوب،‌ برنامه‌نویسی و نرم‌افزارمالی و حسابداریمسئول دفتر، اجرائی و اداریتولید و مدیریت محتوادیجیتال مارکتینگپشتیبانی و امور مشتریانطراحیIT / DevO       N/A      N/A          N/A          N/A           N/A             N/A        N/A    N/A             N/A\n",
      "                                                                                                                                                                                                                                                                                                                                                                                https://jobinja.ir/browsejobs   لیست مشاغل | آگهی کار | جستجوی کار\\n | جابینجاامکان جدید:همین حالا رزومه خود را در کمتر از ۱۰ دقیقه بسازید،برو به رزومه‌سازJobinja | جابینجا | استخدام، آگهی استخدام، کاریابی، استخدامی جدید، بازار کار، نیازمندیها، ساخت رزومه رایگان، کار و استخدام دولتی، اشتغال، جستجوگر حرفه ای استخدام و شغلخانهجستجوی مشاغلرزومه‌ساز۵۰ شرکت برتربخش کارفرمایانورود کارجوثبت‌نام کارجوورود کارجوثبت‌نام کارجو۱جابینجا چطور به استخدام شدن من کمک می‌کند؟مشاهدهمشاهده بیشترلیست مشاغللیست مشاغل بر اساس دسته‌بندی شغلی:وب، برنامه‌نویسی و نرم‌افزارفروش و بازاریابیتولید و مدیریت محتوامالی و حسابداریکارمند دفتری، اجرائی و اداریطراحیپشتیبانی و امور مشتریانمهندسی برق و الکترونیکمهندسی صنایع و مدیریت صنعتیخرید و بازرگانیمنابع انسانی و کارگزینیمهندسی مکانیک و هوافضاآموزشمهندسی عمران و معماریانبارداریمدیر محصولتحقیق بازار و تحلیل اقتصادیتحقیق و توسعهگردشگریترجمهپزشکی، پرستاری و داروییمهندسی شیمی و نفتحمل و نقلروابط عمومیکارشناس حقوقی، وکالتمهندسی معدن و متالورژیصنایع غذاییمدیریت بیمهمهندسی نساجی، طراحی پارچه و لباسمهندسی پزشکی       N/A      N/A          N/A          N/A           N/A             N/A        N/A    N/A             N/A\n",
      "                                                                                                                                        https://jobinja.ir/companies/pilakrealestate/jobs/A4Xe/%D8%A7%D8%B3%D8%AA%D8%AE%D8%AF%D8%A7%D9%85-%D9%85%D8%B4%D8%A7%D9%88%D8%B1-%D9%81%D8%B1%D9%88%D8%B4-%D8%A7%D9%85%D9%84%D8%A7%DA%A9-%D8%AF%D8%B1-%D8%A7%D9%85%D9%84%D8%A7%DA%A9-%D8%A8%D9%84%D8%A7%DA%A9?_ref=18  استخدام مشاور فروش املاک در املاک بلاک | جابینجاامکان جدید:همین حالا رزومه خود را در کمتر از ۱۰ دقیقه بسازید،برو به رزومه‌سازJobinja | جابینجا | استخدام، آگهی استخدام، کاریابی، استخدامی جدید، بازار کار، نیازمندیها، ساخت رزومه رایگان، کار و استخدام دولتی، اشتغال، جستجوگر حرفه ای استخدام و شغلخانهجستجوی مشاغلرزومه‌ساز۵۰ شرکت برتربخش کارفرمایانورود کارجوثبت‌نام کارجوورود کارجوثبت‌نام کارجو۱جابینجا چطور به استخدام شدن من کمک می‌کند؟مشاهدهمشاهده بیشتراملاک بلاک|Pilakrealestateاملاک و مستغلات۵۱ تا ۲۰۰ نفرفرصت‌های شغلی۱استخدام مشاور فروش املاکلطفا برای مشاهده‌ی جزییات و ارسال رزومهیکی از راه‌های زیر را انتخاب کنیدورود / ثبت‌نام با ایمیلimage/svg+xmlbtn_google_light_normal_iosbtn_google_light_normal_iosCreated with Sketch.ورود / ثبت‌نام با گوگل\\n                    (Gmail)ورود / ثبت‌نام با لینکدیناستخدام مشاور فروش املاک{{ tooltipText }}{{ hoverTitle }}نشان کردنحذف نشاندسته‌بندی شغلیفروش و بازاریابیموقعیت مکانیتهران\\n                                                ، تهراننوع همکاریتمام وقتحداقل        N/A      N/A          N/A          N/A           N/A             N/A        N/A    N/A             N/A\n",
      "                                                                                                                                                                                                                                                                                                                                                                    https://jobinja.ir/companies/digipay/jobs    فرصت‌های شغلی فعال در  دیجی‌پی | Digipay | جابینجاامکان جدید:همین حالا رزومه خود را در کمتر از ۱۰ دقیقه بسازید،برو به رزومه‌سازJobinja | جابینجا | استخدام، آگهی استخدام، کاریابی، استخدامی جدید، بازار کار، نیازمندیها، ساخت رزومه رایگان، کار و استخدام دولتی، اشتغال، جستجوگر حرفه ای استخدام و شغلخانهجستجوی مشاغلرزومه‌ساز۵۰ شرکت برتربخش کارفرمایانورود کارجوثبت‌نام کارجوورود کارجوثبت‌نام کارجو۱جابینجا چطور به استخدام شدن من کمک می‌کند؟مشاهدهمشاهده بیشتردیجی‌پی|Digipayتاسیس در  ۱۳۹۷مالی و اعتباری۲۰۱ تا ۵۰۰ نفرwww.mydigipay.comدر یک نگاهمعرفیفرصت‌های شغلی۳۱معرفی  دیجی‌پیدیجی‌پی یک استارتاپ جوان در حوزه پرداخت الکترونیک با مجوز پرداخت‌یاری است که حاصل ادغام استارتاپ هُماپی در هلدینگ دیجی‌کالا است.دیجی‌پی در سال ۱۳۹۷ عضوی از خانواده دیجی‌کالا شد. هدف گروه دیجی‌کالا از ورود به حوزه فینتک، ارائه سرویس‌های پرداخت الکترونیک با پایداری بالا و بهترین تجربه برای مشتری بود. به دنبال تعریف این هدف، مسیر توسعه سرویس‌های دیجی‌پی مشخص شد.محصولات شرکت:-(Smart IPG) درگاه پرداخت هوشمند اینترنتی-(Refund) بازگش       N/A      N/A          N/A          N/A           N/A             N/A        N/A    N/A             N/A\n",
      "                                                                                                                                                                                                                                                                                                                                                                        https://jobinja.ir/companies/entakala    استخدام در شرکت انتاکالا ، آگهی های استخدام Entakala | جابینجاامکان جدید:همین حالا رزومه خود را در کمتر از ۱۰ دقیقه بسازید،برو به رزومه‌سازJobinja | جابینجا | استخدام، آگهی استخدام، کاریابی، استخدامی جدید، بازار کار، نیازمندیها، ساخت رزومه رایگان، کار و استخدام دولتی، اشتغال، جستجوگر حرفه ای استخدام و شغلخانهجستجوی مشاغلرزومه‌ساز۵۰ شرکت برتربخش کارفرمایانورود کارجوثبت‌نام کارجوورود کارجوثبت‌نام کارجو۱جابینجا چطور به استخدام شدن من کمک می‌کند؟مشاهدهمشاهده بیشترانتاکالا|Entakalaتاسیس در  ۱۳۹۷کامپیوتر، فناوری اطلاعات و اینترنت۵۱ تا ۲۰۰ نفرwww.entakala.comدر یک نگاهمعرفیفرصت‌های شغلی۱انتاکالا؛ بازار آنلاین کالاهای صنعتی است که در سال 1397 راه‌اندازی شده است. در انتاکالا خریداران و تامین‌کنندگان کالاهای صنعتی، می‌توانند بدون واسطه با یکدیگر در ارتباط باشند و با شفافیت کامل معاملات خود را انجام دهند.موقعیت مکانیتهران، تهراناعضای شرکتآیدین فتحیرئيس هیات مدیرهما در انتاکالا سعی داریم با پیشرفت روزافزون در حوزه‌های منابع انسانی، دیجیتال مارکتینگ، سخت افزار، مالی، فروش و ... جزو بهترین بستر‌های        N/A      N/A          N/A          N/A           N/A             N/A        N/A    N/A             N/A\n",
      "                                                                                                                                                                                                                                                                                                                                https://jobinja.ir/jobs?filters%5Bkeywords%5D%5B0%5D=%D8%AA%D8%A7%DB%8C%D9%BE   فرصت های شغلی تایپ\\n | جابینجاامکان جدید:همین حالا رزومه خود را در کمتر از ۱۰ دقیقه بسازید،برو به رزومه‌سازJobinja | جابینجا | استخدام، آگهی استخدام، کاریابی، استخدامی جدید، بازار کار، نیازمندیها، ساخت رزومه رایگان، کار و استخدام دولتی، اشتغال، جستجوگر حرفه ای استخدام و شغلخانهجستجوی مشاغلرزومه‌ساز۵۰ شرکت برتربخش کارفرمایانورود کارجوثبت‌نام کارجوورود کارجوثبت‌نام کارجو۱جابینجا چطور به استخدام شدن من کمک می‌کند؟مشاهدهمشاهده بیشترجستجودرخواست‌های مننشان‌شده‌هاآگهی‌های پیشنهادیاز آگهی‌های جدید باخبر شوبهترین فرصت های شغلی در جابینجاهمه‌ی استان‌هاتهرانخراسان رضویاصفهانالبرزفارسقمآذربایجان شرقیمازندرانگیلانخوزستانکرمانیزدقزوینمرکزیهرمزگانگلستانزنجانآذربایجان غربیبوشهرسیستان و بلوچستانسمنانکرمانشاههمداناردبیللرستانکردستانخراسان شمالیخراسان جنوبیچهارمحال بختیاریایلامکهکیلویه و بویراحمدهمه‌ی دسته‌بندی‌هافروش و بازاریابیوب،‌ برنامه‌نویسی و نرم‌افزارمالی و حسابداریمسئول دفتر، اجرائی و اداریتولید و مدیریت محتوادیجیتال مارکتینگپشتیبانی و امور مشتریانطراحیIT / DevOps / Serverمهندسی صنایع و مدیریت صن       N/A      N/A          N/A          N/A           N/A             N/A        N/A    N/A             N/A\n",
      "                                                                                                                                                                                                         https://blog.jobinja.ir/%d8%aa%da%a9%d9%86%db%8c%da%a9%d9%87%d8%a7%db%8c-%d8%a7%d8%b1%d8%b2%db%8c%d8%a7%d8%a8%db%8c-%d8%b9%d9%85%d9%84%da%a9%d8%b1%d8%af-%da%a9%d8%a7%d8%b1%da%a9%d9%86%d8%a7%d9%86/    تکنیک‌های ارزیابی عملکرد کارکنان - وبلاگ جابینجااشتراک گذاریبا استفاده از روش‌های زیر می‌توانید این صفحه را با دوستان خود به اشتراک بگذارید.کپی لینککارجو ⏷رزومه نویسیمسیر شغلیمصاحبه کاریمهارت های فردیکارفرما ⏷منابع انسانیفضای کاریاخبار جابینجارزومه سازایجاد آگهی جدیدکارجو ⏷رزومه نویسیمسیر شغلیمصاحبه کاریمهارت های فردیکارفرما ⏷منابع انسانیفضای کاریاخبار جابینجارزومه سازایجاد آگهی جدیدParkingGasFoodCoffeeMiscمرا به خاطر بسپارنام کاربری :ایمیل :نام :نام خانوادگیآدرس وب سایت :تاریخ ثبت نام :نقش کاربر:کارفرمامنابع انسانیتکنیک‌های ارزیابی عملکرد کارکنانبازدید 78تیم تولید محتوا18 روز پیشاشتراک گذاریبا استفاده از روش‌های زیر می‌توانید این صفحه را با دوستان خود به اشتراک بگذارید.کپی لینکبدون دیدگاهکارفرمامنابع انسانیتکنیک‌های ارزیابی عملکرد کارکنانهر سازمانی برای دستیابی به موفقیت بلندمدت باید نیروی کار موثر را جذب و حفظ کند. برای حفظ نیروی انسانی باید رضایت شغلی کارکنان بهبود یابد. کسب‌وکارهای پیشرو با استفاده از تکنیک‌های ارزیابی عملکرد کارکنان به‌طور متناسب به نیروهای انسانی پاداش و مزایا می       N/A      N/A          N/A          N/A           N/A             N/A        N/A    N/A             N/A\n",
      "                                                                                                                                                                                                                                       https://blog.jobinja.ir/%d8%a2%d9%85%d9%88%d8%b2%d8%b4-%d8%aa%da%a9%d9%86%db%8c%da%a9%d9%87%d8%a7%db%8c-%d9%85%d8%b5%d8%a7%d8%ad%d8%a8%d9%87-%d8%b4%d8%ba%d9%84%db%8c/    آموزش تکنیک‌های مصاحبه شغلی برای مدیران منابع انسانی - وبلاگ جابینجااشتراک گذاریبا استفاده از روش‌های زیر می‌توانید این صفحه را با دوستان خود به اشتراک بگذارید.کپی لینککارجو ⏷رزومه نویسیمسیر شغلیمصاحبه کاریمهارت های فردیکارفرما ⏷منابع انسانیفضای کاریاخبار جابینجارزومه سازایجاد آگهی جدیدکارجو ⏷رزومه نویسیمسیر شغلیمصاحبه کاریمهارت های فردیکارفرما ⏷منابع انسانیفضای کاریاخبار جابینجارزومه سازایجاد آگهی جدیدParkingGasFoodCoffeeMiscمرا به خاطر بسپارنام کاربری :ایمیل :نام :نام خانوادگیآدرس وب سایت :تاریخ ثبت نام :نقش کاربر:کارفرمامنابع انسانیآموزش تکنیک‌های مصاحبه شغلی برای مدیران منابع انسانیبازدید 551تیم تولید محتوا59 روز پیشاشتراک گذاریبا استفاده از روش‌های زیر می‌توانید این صفحه را با دوستان خود به اشتراک بگذارید.کپی لینکبدون دیدگاهکارفرمامنابع انسانیآموزش تکنیک‌های مصاحبه شغلی برای مدیران منابع انسانیجذب و استخدام نیروی انسانی کارآمد از مهمترین وظایف مدیران منابع انسانی است. مدیران واحد HR در هر سازمانی باید بهترین شیوه‌ها را برای مصاحبه شغلی به کار گیرند تا مستعدترین نیروها را شناسایی و       N/A      N/A          N/A          N/A           N/A             N/A        N/A    N/A             N/A\n",
      "                                                                                                                                                                                                                  https://jobinja.ir/jobs?filters%5Bjob_categories%5D%5B%5D=%DA%A9%D8%A7%D8%B1%DA%AF%D8%B1+%D8%B3%D8%A7%D8%AF%D9%87%D8%8C+%D9%86%DB%8C%D8%B1%D9%88%DB%8C+%D8%AE%D8%AF%D9%85%D8%A7%D8%AA%DB%8C   فرصت های شغلی در دسته بندی کارگر ساده، نیروی خدماتی\\n | جابینجاامکان جدید:همین حالا رزومه خود را در کمتر از ۱۰ دقیقه بسازید،برو به رزومه‌سازJobinja | جابینجا | استخدام، آگهی استخدام، کاریابی، استخدامی جدید، بازار کار، نیازمندیها، ساخت رزومه رایگان، کار و استخدام دولتی، اشتغال، جستجوگر حرفه ای استخدام و شغلخانهجستجوی مشاغلرزومه‌ساز۵۰ شرکت برتربخش کارفرمایانورود کارجوثبت‌نام کارجوورود کارجوثبت‌نام کارجو۱جابینجا چطور به استخدام شدن من کمک می‌کند؟مشاهدهمشاهده بیشترجستجودرخواست‌های مننشان‌شده‌هاآگهی‌های پیشنهادیاز آگهی‌های جدید باخبر شوبهترین فرصت های شغلی در جابینجاهمه‌ی استان‌هاتهرانخراسان رضویاصفهانالبرزفارسقمآذربایجان شرقیمازندرانگیلانخوزستانکرمانیزدقزوینمرکزیهرمزگانگلستانزنجانآذربایجان غربیبوشهرسیستان و بلوچستانسمنانکرمانشاههمداناردبیللرستانکردستانخراسان شمالیخراسان جنوبیچهارمحال بختیاریایلامکهکیلویه و بویراحمدهمه‌ی دسته‌بندی‌هاکارگر ساده، نیروی خدماتیفروش و بازاریابیوب،‌ برنامه‌نویسی و نرم‌افزارمالی و حسابداریمسئول دفتر، اجرائی و اداریتولید و مدیریت محتوادیجیتال مارکتینگپشتیبانی و امور       N/A      N/A          N/A          N/A           N/A             N/A        N/A    N/A             N/A\n",
      "                                                                                                                                                                                                                                                                                                                                                                       https://jobinja.ir/companies/ahannet-1    استخدام در شرکت آهن نت، آگهی های استخدام Ahannet | جابینجاامکان جدید:همین حالا رزومه خود را در کمتر از ۱۰ دقیقه بسازید،برو به رزومه‌سازJobinja | جابینجا | استخدام، آگهی استخدام، کاریابی، استخدامی جدید، بازار کار، نیازمندیها، ساخت رزومه رایگان، کار و استخدام دولتی، اشتغال، جستجوگر حرفه ای استخدام و شغلخانهجستجوی مشاغلرزومه‌ساز۵۰ شرکت برتربخش کارفرمایانورود کارجوثبت‌نام کارجوورود کارجوثبت‌نام کارجو۱جابینجا چطور به استخدام شدن من کمک می‌کند؟مشاهدهمشاهده بیشترآهن نت|Ahannetتاسیس در  ۱۳۹۴واردات و صادرات۱۱ تا ۵۰ نفرwww.ahannet.comدر یک نگاهمعرفیفرصت‌های شغلی۷مجموعه آهن نت عرضه کننده مستقیم محصولات فولادی از جمله میلگرد، تیرآهن، هاش سبک و سنگین، انواع ورق های فولادی، انواع پروفیل، نبشی و ناودانی و ... می‌باشد.موقعیت مکانیتهران، تهراناعضای شرکتداریوش زادمهرکارشناس فروشآهن نت همیشه به دنبال رشد بوده همین امر باعث شده نیرو انسانی هم رشد کند.سارا حسینیکارشناس محصولمجموعه شاد و پویا که کار کردن در این جا بسیار لذت بخش می‌باشد.شقایق بنائیانکارشناس محصولدرک عمیق از دغدغه‌های پرسنل و قرار دادن مولفه        N/A      N/A          N/A          N/A           N/A             N/A        N/A    N/A             N/A\n",
      "                                                                                                                                                                                                                                                                                                       https://jobinja.ir/jobs?filters%5Bkeywords%5D%5B0%5D=%D8%B7%D8%B1%D8%A7%D8%AD+%D8%B3%D8%A7%DB%8C%D8%AA   فرصت های شغلی طراح سایت\\n | جابینجاامکان جدید:همین حالا رزومه خود را در کمتر از ۱۰ دقیقه بسازید،برو به رزومه‌سازJobinja | جابینجا | استخدام، آگهی استخدام، کاریابی، استخدامی جدید، بازار کار، نیازمندیها، ساخت رزومه رایگان، کار و استخدام دولتی، اشتغال، جستجوگر حرفه ای استخدام و شغلخانهجستجوی مشاغلرزومه‌ساز۵۰ شرکت برتربخش کارفرمایانورود کارجوثبت‌نام کارجوورود کارجوثبت‌نام کارجو۱جابینجا چطور به استخدام شدن من کمک می‌کند؟مشاهدهمشاهده بیشترجستجودرخواست‌های مننشان‌شده‌هاآگهی‌های پیشنهادیاز آگهی‌های جدید باخبر شوبهترین فرصت های شغلی در جابینجاهمه‌ی استان‌هاتهرانخراسان رضویاصفهانالبرزفارسقمآذربایجان شرقیمازندرانگیلانخوزستانکرمانیزدقزوینمرکزیهرمزگانگلستانزنجانآذربایجان غربیبوشهرسیستان و بلوچستانسمنانکرمانشاههمداناردبیللرستانکردستانخراسان شمالیخراسان جنوبیچهارمحال بختیاریایلامکهکیلویه و بویراحمدهمه‌ی دسته‌بندی‌هافروش و بازاریابیوب،‌ برنامه‌نویسی و نرم‌افزارمالی و حسابداریمسئول دفتر، اجرائی و اداریتولید و مدیریت محتوادیجیتال مارکتینگپشتیبانی و امور مشتریانطراحیIT / DevOps / Serverمهندسی صنایع و مدیر       N/A      N/A          N/A          N/A           N/A             N/A        N/A    N/A             N/A\n",
      "                                                                                                                                                                                                                                                                                                             https://jobinja.ir/jobs?filters%5Bkeywords%5D%5B0%5D=%D8%AF%D9%88%D8%B1+%DA%A9%D8%A7%D8%B1%DB%8C   فرصت های شغلی دور کاری\\n | جابینجاامکان جدید:همین حالا رزومه خود را در کمتر از ۱۰ دقیقه بسازید،برو به رزومه‌سازJobinja | جابینجا | استخدام، آگهی استخدام، کاریابی، استخدامی جدید، بازار کار، نیازمندیها، ساخت رزومه رایگان، کار و استخدام دولتی، اشتغال، جستجوگر حرفه ای استخدام و شغلخانهجستجوی مشاغلرزومه‌ساز۵۰ شرکت برتربخش کارفرمایانورود کارجوثبت‌نام کارجوورود کارجوثبت‌نام کارجو۱جابینجا چطور به استخدام شدن من کمک می‌کند؟مشاهدهمشاهده بیشترجستجودرخواست‌های مننشان‌شده‌هاآگهی‌های پیشنهادیاز آگهی‌های جدید باخبر شوبهترین فرصت های شغلی در جابینجاهمه‌ی استان‌هاتهرانخراسان رضویاصفهانالبرزفارسقمآذربایجان شرقیمازندرانگیلانخوزستانکرمانیزدقزوینمرکزیهرمزگانگلستانزنجانآذربایجان غربیبوشهرسیستان و بلوچستانسمنانکرمانشاههمداناردبیللرستانکردستانخراسان شمالیخراسان جنوبیچهارمحال بختیاریایلامکهکیلویه و بویراحمدهمه‌ی دسته‌بندی‌هافروش و بازاریابیوب،‌ برنامه‌نویسی و نرم‌افزارمالی و حسابداریمسئول دفتر، اجرائی و اداریتولید و مدیریت محتوادیجیتال مارکتینگپشتیبانی و امور مشتریانطراحیIT / DevOps / Serverمهندسی صنایع و مدیری       N/A      N/A          N/A          N/A           N/A             N/A        N/A    N/A             N/A\n",
      "                                                                                                                                                                                                                                                                                           https://jobinja.ir/jobs?filters%5Bkeywords%5D%5B0%5D=%D8%AA%D9%88%D9%84%DB%8C%D8%AF+%D9%85%D8%AD%D8%AA%D9%88%D8%A7   استخدام تولید محتوا | استخدام کارشناس تولید محتوا و کپی رایتر\\n | جابینجاامکان جدید:همین حالا رزومه خود را در کمتر از ۱۰ دقیقه بسازید،برو به رزومه‌سازJobinja | جابینجا | استخدام، آگهی استخدام، کاریابی، استخدامی جدید، بازار کار، نیازمندیها، ساخت رزومه رایگان، کار و استخدام دولتی، اشتغال، جستجوگر حرفه ای استخدام و شغلخانهجستجوی مشاغلرزومه‌ساز۵۰ شرکت برتربخش کارفرمایانورود کارجوثبت‌نام کارجوورود کارجوثبت‌نام کارجو۱جابینجا چطور به استخدام شدن من کمک می‌کند؟مشاهدهمشاهده بیشترجستجودرخواست‌های مننشان‌شده‌هاآگهی‌های پیشنهادیاز آگهی‌های جدید باخبر شوبهترین فرصت های شغلی در جابینجاهمه‌ی استان‌هاتهرانخراسان رضویاصفهانالبرزفارسقمآذربایجان شرقیمازندرانگیلانخوزستانکرمانیزدقزوینمرکزیهرمزگانگلستانزنجانآذربایجان غربیبوشهرسیستان و بلوچستانسمنانکرمانشاههمداناردبیللرستانکردستانخراسان شمالیخراسان جنوبیچهارمحال بختیاریایلامکهکیلویه و بویراحمدهمه‌ی دسته‌بندی‌هافروش و بازاریابیوب،‌ برنامه‌نویسی و نرم‌افزارمالی و حسابداریمسئول دفتر، اجرائی و اداریتولید و مدیریت محتوادیجیتال مارکتینگپشتیبانی و امور مشتریانطراحیI       N/A      N/A          N/A          N/A           N/A             N/A        N/A    N/A             N/A\n",
      "                                                                                                                                                                                                                                                                                                                                                                 https://jobinja.ir/companies/autokhatib/jobs فرصت‌های شغلی فعال در اتو خطیب | Autokhatib | جابینجاامکان جدید:همین حالا رزومه خود را در کمتر از ۱۰ دقیقه بسازید،برو به رزومه‌سازJobinja | جابینجا | استخدام، آگهی استخدام، کاریابی، استخدامی جدید، بازار کار، نیازمندیها، ساخت رزومه رایگان، کار و استخدام دولتی، اشتغال، جستجوگر حرفه ای استخدام و شغلخانهجستجوی مشاغلرزومه‌ساز۵۰ شرکت برتربخش کارفرمایانورود کارجوثبت‌نام کارجوورود کارجوثبت‌نام کارجو۱جابینجا چطور به استخدام شدن من کمک می‌کند؟مشاهدهمشاهده بیشتراتو خطیب|Autokhatibتاسیس در  ۱۳۸۸خودروسازی۱۱ تا ۵۰ نفرAutokhatib.irدر یک نگاهمعرفیفرصت‌های شغلی۱۱معرفی اتو خطیبشرکت فراتوسعه خطیب خودرو با بیش از یک دهه سابقه در زمینه فروش خودروهای نقد و اقساط مشغول به فعالیت می‌باشدفرصت‌های شغلی فعال در اتو خطیب|Autokhatibکارشناس حسابداری و مالی(۴ روز پیش)اتو خطیب | Autokhatibتهران، تهرانقرارداد\\n              تمام‌وقت(برای\\n                مشاهده حقوق وارد شوید)ارسال\\n              رزومه{{ tooltipText }}{{ hoverTitle }}نشان کردنحذف نشانادمین CRM(پیام گستر)(۵ روز پیش)اتو خطیب | Autokhatibتهران، تهرانقرارداد       N/A      N/A          N/A          N/A           N/A             N/A        N/A    N/A             N/A\n",
      "                                                                                                                                                                                                                                                                                                              https://jobinja.ir/jobs?filters%5Bkeywords%5D%5B0%5D=%D8%AF%D9%88%D8%B1%DA%A9%D8%A7%D8%B1%DB%8C   فرصت های شغلی دورکاری\\n | جابینجاامکان جدید:همین حالا رزومه خود را در کمتر از ۱۰ دقیقه بسازید،برو به رزومه‌سازJobinja | جابینجا | استخدام، آگهی استخدام، کاریابی، استخدامی جدید، بازار کار، نیازمندیها، ساخت رزومه رایگان، کار و استخدام دولتی، اشتغال، جستجوگر حرفه ای استخدام و شغلخانهجستجوی مشاغلرزومه‌ساز۵۰ شرکت برتربخش کارفرمایانورود کارجوثبت‌نام کارجوورود کارجوثبت‌نام کارجو۱جابینجا چطور به استخدام شدن من کمک می‌کند؟مشاهدهمشاهده بیشترجستجودرخواست‌های مننشان‌شده‌هاآگهی‌های پیشنهادیاز آگهی‌های جدید باخبر شوبهترین فرصت های شغلی در جابینجاهمه‌ی استان‌هاتهرانخراسان رضویاصفهانالبرزفارسقمآذربایجان شرقیمازندرانگیلانخوزستانکرمانیزدقزوینمرکزیهرمزگانگلستانزنجانآذربایجان غربیبوشهرسیستان و بلوچستانسمنانکرمانشاههمداناردبیللرستانکردستانخراسان شمالیخراسان جنوبیچهارمحال بختیاریایلامکهکیلویه و بویراحمدهمه‌ی دسته‌بندی‌هافروش و بازاریابیوب،‌ برنامه‌نویسی و نرم‌افزارمالی و حسابداریمسئول دفتر، اجرائی و اداریتولید و مدیریت محتوادیجیتال مارکتینگپشتیبانی و امور مشتریانطراحیIT / DevOps / Serverمهندسی صنایع و مدیریت       N/A      N/A          N/A          N/A           N/A             N/A        N/A    N/A             N/A\n",
      "                                                                                 https://jobinja.ir/companies/rahyan-teb-saba-rts/jobs/Am07/%D8%A7%D8%B3%D8%AA%D8%AE%D8%AF%D8%A7%D9%85-%DA%A9%D8%A7%D8%B1%D8%B4%D9%86%D8%A7%D8%B3-%D9%81%D9%86%DB%8C-%D9%88-%D9%85%D9%87%D9%86%D8%AF%D8%B3%DB%8C-%D8%A2%D9%82%D8%A7-%D8%AF%D8%B1-%D8%B1%D8%A7%D9%87%DB%8C%D8%A7%D9%86-%D8%B7%D8%A8-%D8%B5%D8%A8%D8%A7?_ref=18  استخدام کارشناس فنی و مهندسی(آقا) در راهیان طب صبا | جابینجاامکان جدید:همین حالا رزومه خود را در کمتر از ۱۰ دقیقه بسازید،برو به رزومه‌سازJobinja | جابینجا | استخدام، آگهی استخدام، کاریابی، استخدامی جدید، بازار کار، نیازمندیها، ساخت رزومه رایگان، کار و استخدام دولتی، اشتغال، جستجوگر حرفه ای استخدام و شغلخانهجستجوی مشاغلرزومه‌ساز۵۰ شرکت برتربخش کارفرمایانورود کارجوثبت‌نام کارجوورود کارجوثبت‌نام کارجو۱جابینجا چطور به استخدام شدن من کمک می‌کند؟مشاهدهمشاهده بیشترراهیان طب صبا|Rahyan Teb Saba(RTS)خدمات درمانی، پزشکی و سلامت۵۱ تا ۲۰۰ نفرrahyanteb.comفرصت‌های شغلی۳استخدام کارشناس فنی و مهندسی(آقا)لطفا برای مشاهده‌ی جزییات و ارسال رزومهیکی از راه‌های زیر را انتخاب کنیدورود / ثبت‌نام با ایمیلimage/svg+xmlbtn_google_light_normal_iosbtn_google_light_normal_iosCreated with Sketch.ورود / ثبت‌نام با گوگل\\n                    (Gmail)ورود / ثبت‌نام با لینکدیناستخدام کارشناس فنی و مهندسی(آقا){{ tooltipText }}{{ hoverTitle }}نشان کردنحذف نشاندسته‌بندی شغلیمهندسی پزشکیموقعیت مکانیتهران\\n                           N/A      N/A          N/A          N/A           N/A             N/A        N/A    N/A             N/A\n",
      "                                                                                                                                                                                                                                                                                                                                                                         https://jobinja.ir/companies/digipay    استخدام در شرکت  دیجی‌پی، آگهی های استخدام Digipay | جابینجاامکان جدید:همین حالا رزومه خود را در کمتر از ۱۰ دقیقه بسازید،برو به رزومه‌سازJobinja | جابینجا | استخدام، آگهی استخدام، کاریابی، استخدامی جدید، بازار کار، نیازمندیها، ساخت رزومه رایگان، کار و استخدام دولتی، اشتغال، جستجوگر حرفه ای استخدام و شغلخانهجستجوی مشاغلرزومه‌ساز۵۰ شرکت برتربخش کارفرمایانورود کارجوثبت‌نام کارجوورود کارجوثبت‌نام کارجو۱جابینجا چطور به استخدام شدن من کمک می‌کند؟مشاهدهمشاهده بیشتردیجی‌پی|Digipayتاسیس در  ۱۳۹۷مالی و اعتباری۲۰۱ تا ۵۰۰ نفرwww.mydigipay.comدر یک نگاهمعرفیفرصت‌های شغلی۳۱دیجی‌پی از آغاز با هدف فراگیری مالی و دسترس‌پذیرکردن خدمات اقتصاد دیجیتال برای همه‌ی افراد جامعه بر ارائه‌ی راهکارهایی جامع، کاربرپسند و هوشمند برای پاسخ به نیازهای روزمره کاربران تمرکز کرده استموقعیت مکانیتهران، تهراناعضای شرکتامیرحسین پارسا منشواحد مدیریت پروژهدر دیجی‌پی صعود به قله رو تجربه می‌کنی. یه جاهایی توی کار مسیر سخت و چالشی می‌شه ولی هم‌تیمی‌هات همیشه کنارت هستن و کمکت می‌کنن که دسته جمعی به صعود ادامه بدیم. قله نزدیکه       N/A      N/A          N/A          N/A           N/A             N/A        N/A    N/A             N/A\n",
      "                                                                                                                                                                                                                                                             https://jobinja.ir/jobs?filters%5Blocations%5D%5B%5D=%DA%86%D9%87%D8%A7%D8%B1%D9%85%D8%AD%D8%A7%D9%84+%D8%A8%D8%AE%D8%AA%DB%8C%D8%A7%D8%B1%DB%8C   آگهی استخدام چهارمحال بختیاری | استخدام چهارمحال بختیاری | کاریابی چهارمحال بختیاری\\n | جابینجاامکان جدید:همین حالا رزومه خود را در کمتر از ۱۰ دقیقه بسازید،برو به رزومه‌سازJobinja | جابینجا | استخدام، آگهی استخدام، کاریابی، استخدامی جدید، بازار کار، نیازمندیها، ساخت رزومه رایگان، کار و استخدام دولتی، اشتغال، جستجوگر حرفه ای استخدام و شغلخانهجستجوی مشاغلرزومه‌ساز۵۰ شرکت برتربخش کارفرمایانورود کارجوثبت‌نام کارجوورود کارجوثبت‌نام کارجو۱جابینجا چطور به استخدام شدن من کمک می‌کند؟مشاهدهمشاهده بیشترجستجودرخواست‌های مننشان‌شده‌هاآگهی‌های پیشنهادیاز آگهی‌های جدید باخبر شوبهترین فرصت های شغلی در جابینجاهمه‌ی استان‌هاچهارمحال بختیاریتهرانخراسان رضویاصفهانالبرزفارسقمآذربایجان شرقیمازندرانگیلانخوزستانکرمانیزدقزوینمرکزیهرمزگانگلستانزنجانآذربایجان غربیبوشهرسیستان و بلوچستانسمنانکرمانشاههمداناردبیللرستانکردستانخراسان شمالیخراسان جنوبیایلامکهکیلویه و بویراحمدهمه‌ی دسته‌بندی‌هافروش و بازاریابیوب،‌ برنامه‌نویسی و نرم‌افزارمالی و حسابداریمسئول دفتر، اجرائی و اداریتولید و مدیریت محتوادیجیتال مارکتینگپشتیبان       N/A      N/A          N/A          N/A           N/A             N/A        N/A    N/A             N/A\n",
      "                                                                                                                                                                                                                                                                                                                          https://jobinja.ir/jobs?filters%5Blocations%5D%5B%5D=%D9%82%D8%B2%D9%88%DB%8C%D9%86   استخدامی قزوین | استخدام قزوین | آگهی استخدام قزوین\\n | جابینجاامکان جدید:همین حالا رزومه خود را در کمتر از ۱۰ دقیقه بسازید،برو به رزومه‌سازJobinja | جابینجا | استخدام، آگهی استخدام، کاریابی، استخدامی جدید، بازار کار، نیازمندیها، ساخت رزومه رایگان، کار و استخدام دولتی، اشتغال، جستجوگر حرفه ای استخدام و شغلخانهجستجوی مشاغلرزومه‌ساز۵۰ شرکت برتربخش کارفرمایانورود کارجوثبت‌نام کارجوورود کارجوثبت‌نام کارجو۱جابینجا چطور به استخدام شدن من کمک می‌کند؟مشاهدهمشاهده بیشترجستجودرخواست‌های مننشان‌شده‌هاآگهی‌های پیشنهادیاز آگهی‌های جدید باخبر شوبهترین فرصت های شغلی در جابینجاهمه‌ی استان‌هاقزوینتهرانخراسان رضویاصفهانالبرزفارسقمآذربایجان شرقیمازندرانگیلانخوزستانکرمانیزدمرکزیهرمزگانگلستانزنجانآذربایجان غربیبوشهرسیستان و بلوچستانسمنانکرمانشاههمداناردبیللرستانکردستانخراسان شمالیخراسان جنوبیچهارمحال بختیاریایلامکهکیلویه و بویراحمدهمه‌ی دسته‌بندی‌هافروش و بازاریابیوب،‌ برنامه‌نویسی و نرم‌افزارمالی و حسابداریمسئول دفتر، اجرائی و اداریتولید و مدیریت محتوادیجیتال مارکتینگپشتیبانی و امور مشتریانطراحیIT / DevOps       N/A      N/A          N/A          N/A           N/A             N/A        N/A    N/A             N/A\n",
      "                                                                                                                                                                                                                                                                                          https://jobinja.ir/jobs?filters%5Bjob_categories%5D%5B%5D=%D8%AE%D8%A8%D8%B1%E2%80%8C%D9%86%DA%AF%D8%A7%D8%B1%DB%8C   استخدام خبرنگار | استخدام روزنامه نگار | جذب خبرنگار\\n | جابینجاامکان جدید:همین حالا رزومه خود را در کمتر از ۱۰ دقیقه بسازید،برو به رزومه‌سازJobinja | جابینجا | استخدام، آگهی استخدام، کاریابی، استخدامی جدید، بازار کار، نیازمندیها، ساخت رزومه رایگان، کار و استخدام دولتی، اشتغال، جستجوگر حرفه ای استخدام و شغلخانهجستجوی مشاغلرزومه‌ساز۵۰ شرکت برتربخش کارفرمایانورود کارجوثبت‌نام کارجوورود کارجوثبت‌نام کارجو۱جابینجا چطور به استخدام شدن من کمک می‌کند؟مشاهدهمشاهده بیشترجستجودرخواست‌های مننشان‌شده‌هاآگهی‌های پیشنهادیاز آگهی‌های جدید باخبر شوبهترین فرصت های شغلی در جابینجاهمه‌ی استان‌هاتهرانخراسان رضویاصفهانالبرزفارسقمآذربایجان شرقیمازندرانگیلانخوزستانکرمانیزدقزوینمرکزیهرمزگانگلستانزنجانآذربایجان غربیبوشهرسیستان و بلوچستانسمنانکرمانشاههمداناردبیللرستانکردستانخراسان شمالیخراسان جنوبیچهارمحال بختیاریایلامکهکیلویه و بویراحمدهمه‌ی دسته‌بندی‌هاخبر‌نگاریفروش و بازاریابیوب،‌ برنامه‌نویسی و نرم‌افزارمالی و حسابداریمسئول دفتر، اجرائی و اداریتولید و مدیریت محتوادیجیتال مارکتینگپشتیبانی و امور مشتریانطراحیI       N/A      N/A          N/A          N/A           N/A             N/A        N/A    N/A             N/A\n",
      "                                                                                                                                                                                                                                                                                                                                                   https://jobinja.ir/companies/rajman-information-structures    استخدام در شرکت نقشه و مسیریاب نشان، آگهی های استخدام Neshan Map And Navigator | جابینجاامکان جدید:همین حالا رزومه خود را در کمتر از ۱۰ دقیقه بسازید،برو به رزومه‌سازJobinja | جابینجا | استخدام، آگهی استخدام، کاریابی، استخدامی جدید، بازار کار، نیازمندیها، ساخت رزومه رایگان، کار و استخدام دولتی، اشتغال، جستجوگر حرفه ای استخدام و شغلخانهجستجوی مشاغلرزومه‌ساز۵۰ شرکت برتربخش کارفرمایانورود کارجوثبت‌نام کارجوورود کارجوثبت‌نام کارجو۱جابینجا چطور به استخدام شدن من کمک می‌کند؟مشاهدهمشاهده بیشترنقشه و مسیریاب نشان|Neshan Map And Navigatorتاسیس در  ۱۳۸۴کامپیوتر، فناوری اطلاعات و اینترنت۵۱ تا ۲۰۰ نفرneshan.org/lifeدر یک نگاهمعرفیفرصت‌های شغلی۲در نشان همواره به‌دنبال چالش‌ها و نوآو‌ری‌های تازه هستیم و معتقدیم که توسعه محصولی عالی بدون تیمی فوق‌العاده امکان‌پذیر نیست.موقعیت مکانیخراسان رضوی، مشهداعضای شرکتداوود امینیراهبر مهندسی سرچمن در طول دوران کاریم، جاهای مختلفی بودم و از ابتدای تاسیس شرکت، با این تیم همکاری داشتم. کار کردن در راژمان یه تجربه‌ حرفه‌ای در اختیارت می‌ذاره. اینجا فضایی صمیمی و پوی       N/A      N/A          N/A          N/A           N/A             N/A        N/A    N/A             N/A\n",
      "                                                                                                                                                                                                                                                                                                                                                  https://jobinja.ir/jobs?filters%5Bkeywords%5D%5B0%5D=django   فرصت های شغلی django\\n | جابینجاامکان جدید:همین حالا رزومه خود را در کمتر از ۱۰ دقیقه بسازید،برو به رزومه‌سازJobinja | جابینجا | استخدام، آگهی استخدام، کاریابی، استخدامی جدید، بازار کار، نیازمندیها، ساخت رزومه رایگان، کار و استخدام دولتی، اشتغال، جستجوگر حرفه ای استخدام و شغلخانهجستجوی مشاغلرزومه‌ساز۵۰ شرکت برتربخش کارفرمایانورود کارجوثبت‌نام کارجوورود کارجوثبت‌نام کارجو۱جابینجا چطور به استخدام شدن من کمک می‌کند؟مشاهدهمشاهده بیشترجستجودرخواست‌های مننشان‌شده‌هاآگهی‌های پیشنهادیاز آگهی‌های جدید باخبر شوبهترین فرصت های شغلی در جابینجاهمه‌ی استان‌هاتهرانخراسان رضویاصفهانالبرزفارسقمآذربایجان شرقیمازندرانگیلانخوزستانکرمانیزدقزوینمرکزیهرمزگانگلستانزنجانآذربایجان غربیبوشهرسیستان و بلوچستانسمنانکرمانشاههمداناردبیللرستانکردستانخراسان شمالیخراسان جنوبیچهارمحال بختیاریایلامکهکیلویه و بویراحمدهمه‌ی دسته‌بندی‌هافروش و بازاریابیوب،‌ برنامه‌نویسی و نرم‌افزارمالی و حسابداریمسئول دفتر، اجرائی و اداریتولید و مدیریت محتوادیجیتال مارکتینگپشتیبانی و امور مشتریانطراحیIT / DevOps / Serverمهندسی صنایع و مدیریت        N/A      N/A          N/A          N/A           N/A             N/A        N/A    N/A             N/A\n",
      "                                                                                                                                                                                                                                                                                                              https://jobinja.ir/jobs?filters%5Bkeywords%5D%5B0%5D=%D8%AA%D8%AF%D9%88%DB%8C%D9%86%DA%AF%D8%B1   فرصت های شغلی تدوینگر\\n | جابینجاامکان جدید:همین حالا رزومه خود را در کمتر از ۱۰ دقیقه بسازید،برو به رزومه‌سازJobinja | جابینجا | استخدام، آگهی استخدام، کاریابی، استخدامی جدید، بازار کار، نیازمندیها، ساخت رزومه رایگان، کار و استخدام دولتی، اشتغال، جستجوگر حرفه ای استخدام و شغلخانهجستجوی مشاغلرزومه‌ساز۵۰ شرکت برتربخش کارفرمایانورود کارجوثبت‌نام کارجوورود کارجوثبت‌نام کارجو۱جابینجا چطور به استخدام شدن من کمک می‌کند؟مشاهدهمشاهده بیشترجستجودرخواست‌های مننشان‌شده‌هاآگهی‌های پیشنهادیاز آگهی‌های جدید باخبر شوبهترین فرصت های شغلی در جابینجاهمه‌ی استان‌هاتهرانخراسان رضویاصفهانالبرزفارسقمآذربایجان شرقیمازندرانگیلانخوزستانکرمانیزدقزوینمرکزیهرمزگانگلستانزنجانآذربایجان غربیبوشهرسیستان و بلوچستانسمنانکرمانشاههمداناردبیللرستانکردستانخراسان شمالیخراسان جنوبیچهارمحال بختیاریایلامکهکیلویه و بویراحمدهمه‌ی دسته‌بندی‌هافروش و بازاریابیوب،‌ برنامه‌نویسی و نرم‌افزارمالی و حسابداریمسئول دفتر، اجرائی و اداریتولید و مدیریت محتوادیجیتال مارکتینگپشتیبانی و امور مشتریانطراحیIT / DevOps / Serverمهندسی صنایع و مدیریت       N/A      N/A          N/A          N/A           N/A             N/A        N/A    N/A             N/A\n",
      "                                                                                                                                                                                                                                                                               https://jobinja.ir/jobs?filters%5Bjob_categories%5D%5B%5D=%D8%AA%D8%AD%D9%82%DB%8C%D9%82+%D9%88+%D8%AA%D9%88%D8%B3%D8%B9%D9%87   استخدام کارشناس تحقیق و توسعه | استخدام کارشناس R&D\\n | جابینجاامکان جدید:همین حالا رزومه خود را در کمتر از ۱۰ دقیقه بسازید،برو به رزومه‌سازJobinja | جابینجا | استخدام، آگهی استخدام، کاریابی، استخدامی جدید، بازار کار، نیازمندیها، ساخت رزومه رایگان، کار و استخدام دولتی، اشتغال، جستجوگر حرفه ای استخدام و شغلخانهجستجوی مشاغلرزومه‌ساز۵۰ شرکت برتربخش کارفرمایانورود کارجوثبت‌نام کارجوورود کارجوثبت‌نام کارجو۱جابینجا چطور به استخدام شدن من کمک می‌کند؟مشاهدهمشاهده بیشترجستجودرخواست‌های مننشان‌شده‌هاآگهی‌های پیشنهادیاز آگهی‌های جدید باخبر شوبهترین فرصت های شغلی در جابینجاهمه‌ی استان‌هاتهرانخراسان رضویاصفهانالبرزفارسقمآذربایجان شرقیمازندرانگیلانخوزستانکرمانیزدقزوینمرکزیهرمزگانگلستانزنجانآذربایجان غربیبوشهرسیستان و بلوچستانسمنانکرمانشاههمداناردبیللرستانکردستانخراسان شمالیخراسان جنوبیچهارمحال بختیاریایلامکهکیلویه و بویراحمدهمه‌ی دسته‌بندی‌هاتحقیق و توسعهفروش و بازاریابیوب،‌ برنامه‌نویسی و نرم‌افزارمالی و حسابداریمسئول دفتر، اجرائی و اداریتولید و مدیریت محتوادیجیتال مارکتینگپشتیبانی و امور مشتریانطرا       N/A      N/A          N/A          N/A           N/A             N/A        N/A    N/A             N/A\n",
      "                                                                                                                                                                              https://blog.jobinja.ir/%d8%a8%d8%b1%d8%b1%d8%b3%db%8c-%d9%86%d9%82%d8%b4-%d9%85%d9%86%d8%a7%d8%a8%d8%b9-%d8%a7%d9%86%d8%b3%d8%a7%d9%86%db%8c-%d8%af%d8%b1-%d8%aa%d9%88%d8%b3%d8%b9%d9%87-%d8%b3%d8%a7%d8%b2%d9%85%d8%a7%d9%86/    بررسی نقش منابع انسانی در توسعه سازمان - وبلاگ جابینجااشتراک گذاریبا استفاده از روش‌های زیر می‌توانید این صفحه را با دوستان خود به اشتراک بگذارید.کپی لینککارجو ⏷رزومه نویسیمسیر شغلیمصاحبه کاریمهارت های فردیکارفرما ⏷منابع انسانیفضای کاریاخبار جابینجارزومه سازایجاد آگهی جدیدکارجو ⏷رزومه نویسیمسیر شغلیمصاحبه کاریمهارت های فردیکارفرما ⏷منابع انسانیفضای کاریاخبار جابینجارزومه سازایجاد آگهی جدیدParkingGasFoodCoffeeMiscمرا به خاطر بسپارنام کاربری :ایمیل :نام :نام خانوادگیآدرس وب سایت :تاریخ ثبت نام :نقش کاربر:کارفرمامنابع انسانیبررسی نقش منابع انسانی در توسعه سازمانبازدید 4تیم تولید محتواامروزاشتراک گذاریبا استفاده از روش‌های زیر می‌توانید این صفحه را با دوستان خود به اشتراک بگذارید.کپی لینکبدون دیدگاهکارفرمامنابع انسانیبررسی نقش منابع انسانی در توسعه سازماننقش منابع انسانی در توسعه سازمان بر کسی پوشیده نیست. سازمان‌هایی رشد می‌کنند و به موفقیت می‌رسند که سرمایه‌های انسانی مناسبی در اختیار داشته باشند. در مدیریت منابع انسانی (HRM) تلاش می‌شود با ایجاد خط‌مشی‌ها و رویه‌هایی، از پرسنل سازمانی ح       N/A      N/A          N/A          N/A           N/A             N/A        N/A    N/A             N/A\n",
      "                                                                                                                                                                                                                                                                                                                     https://jobinja.ir/jobs?filters%5Bjob_categories%5D%5B%5D=%D8%A2%D9%85%D9%88%D8%B2%D8%B4   استخدام کارشناس آموزش | استخدام مشاور تحصیلی | استخدام مدرس زبان | استخدام معلم\\n | جابینجاامکان جدید:همین حالا رزومه خود را در کمتر از ۱۰ دقیقه بسازید،برو به رزومه‌سازJobinja | جابینجا | استخدام، آگهی استخدام، کاریابی، استخدامی جدید، بازار کار، نیازمندیها، ساخت رزومه رایگان، کار و استخدام دولتی، اشتغال، جستجوگر حرفه ای استخدام و شغلخانهجستجوی مشاغلرزومه‌ساز۵۰ شرکت برتربخش کارفرمایانورود کارجوثبت‌نام کارجوورود کارجوثبت‌نام کارجو۱جابینجا چطور به استخدام شدن من کمک می‌کند؟مشاهدهمشاهده بیشترجستجودرخواست‌های مننشان‌شده‌هاآگهی‌های پیشنهادیاز آگهی‌های جدید باخبر شوبهترین فرصت های شغلی در جابینجاهمه‌ی استان‌هاتهرانخراسان رضویاصفهانالبرزفارسقمآذربایجان شرقیمازندرانگیلانخوزستانکرمانیزدقزوینمرکزیهرمزگانگلستانزنجانآذربایجان غربیبوشهرسیستان و بلوچستانسمنانکرمانشاههمداناردبیللرستانکردستانخراسان شمالیخراسان جنوبیچهارمحال بختیاریایلامکهکیلویه و بویراحمدهمه‌ی دسته‌بندی‌هاآموزشفروش و بازاریابیوب،‌ برنامه‌نویسی و نرم‌افزارمالی و حسابداریمسئول دفتر، اجرائی و اداریتولید و مدیریت محتوادیجیتال مارکتینگپشتیبا       N/A      N/A          N/A          N/A           N/A             N/A        N/A    N/A             N/A\n",
      "                                                                                                                                                                                                                                                   https://jobinja.ir/jobs?filters%5Bjob_categories%5D%5B%5D=%D8%AD%D9%88%D8%B2%D9%87%E2%80%8C+%D9%85%D9%88%D8%B3%DB%8C%D9%82%DB%8C+%D9%88+%D8%B5%D8%AF%D8%A7   استخدام گوینده | استخدام دوبلور | استخدام آهنگساز و تنظیم کننده\\n | جابینجاامکان جدید:همین حالا رزومه خود را در کمتر از ۱۰ دقیقه بسازید،برو به رزومه‌سازJobinja | جابینجا | استخدام، آگهی استخدام، کاریابی، استخدامی جدید، بازار کار، نیازمندیها، ساخت رزومه رایگان، کار و استخدام دولتی، اشتغال، جستجوگر حرفه ای استخدام و شغلخانهجستجوی مشاغلرزومه‌ساز۵۰ شرکت برتربخش کارفرمایانورود کارجوثبت‌نام کارجوورود کارجوثبت‌نام کارجو۱جابینجا چطور به استخدام شدن من کمک می‌کند؟مشاهدهمشاهده بیشترجستجودرخواست‌های مننشان‌شده‌هاآگهی‌های پیشنهادیاز آگهی‌های جدید باخبر شوبهترین فرصت های شغلی در جابینجاهمه‌ی استان‌هاتهرانخراسان رضویاصفهانالبرزفارسقمآذربایجان شرقیمازندرانگیلانخوزستانکرمانیزدقزوینمرکزیهرمزگانگلستانزنجانآذربایجان غربیبوشهرسیستان و بلوچستانسمنانکرمانشاههمداناردبیللرستانکردستانخراسان شمالیخراسان جنوبیچهارمحال بختیاریایلامکهکیلویه و بویراحمدهمه‌ی دسته‌بندی‌هاحوزه‌ موسیقی و صدافروش و بازاریابیوب،‌ برنامه‌نویسی و نرم‌افزارمالی و حسابداریمسئول دفتر، اجرائی و اداریتولید و مدیریت محتوادیجیتال مارکتینگپشتیبانی        N/A      N/A          N/A          N/A           N/A             N/A        N/A    N/A             N/A\n",
      "                                                                                                                                                                                                                                                                                                                                                                                      https://jobinja.ir/jobs   فرصت های شغلی | موقعیت شغلی\\n | جابینجاامکان جدید:همین حالا رزومه خود را در کمتر از ۱۰ دقیقه بسازید،برو به رزومه‌سازJobinja | جابینجا | استخدام، آگهی استخدام، کاریابی، استخدامی جدید، بازار کار، نیازمندیها، ساخت رزومه رایگان، کار و استخدام دولتی، اشتغال، جستجوگر حرفه ای استخدام و شغلخانهجستجوی مشاغلرزومه‌ساز۵۰ شرکت برتربخش کارفرمایانورود کارجوثبت‌نام کارجوورود کارجوثبت‌نام کارجو۱جابینجا چطور به استخدام شدن من کمک می‌کند؟مشاهدهمشاهده بیشترجستجودرخواست‌های مننشان‌شده‌هاآگهی‌های پیشنهادیاز آگهی‌های جدید باخبر شوبهترین فرصت های شغلی در جابینجاهمه‌ی استان‌هاتهرانخراسان رضویاصفهانالبرزفارسقمآذربایجان شرقیمازندرانگیلانخوزستانکرمانیزدقزوینمرکزیهرمزگانگلستانزنجانآذربایجان غربیبوشهرسیستان و بلوچستانسمنانکرمانشاههمداناردبیللرستانکردستانخراسان شمالیخراسان جنوبیچهارمحال بختیاریایلامکهکیلویه و بویراحمدهمه‌ی دسته‌بندی‌هافروش و بازاریابیوب،‌ برنامه‌نویسی و نرم‌افزارمالی و حسابداریمسئول دفتر، اجرائی و اداریتولید و مدیریت محتوادیجیتال مارکتینگپشتیبانی و امور مشتریانطراحیIT / DevOps / Serverمهندسی صنایع و        N/A      N/A          N/A          N/A           N/A             N/A        N/A    N/A             N/A\n",
      "                                                                                                                                                                                                                                                                                                                                              https://jobinja.ir/companies/rajman-information-structures/jobs    فرصت‌های شغلی فعال در نقشه و مسیریاب نشان | Neshan Map And Navigator | جابینجاامکان جدید:همین حالا رزومه خود را در کمتر از ۱۰ دقیقه بسازید،برو به رزومه‌سازJobinja | جابینجا | استخدام، آگهی استخدام، کاریابی، استخدامی جدید، بازار کار، نیازمندیها، ساخت رزومه رایگان، کار و استخدام دولتی، اشتغال، جستجوگر حرفه ای استخدام و شغلخانهجستجوی مشاغلرزومه‌ساز۵۰ شرکت برتربخش کارفرمایانورود کارجوثبت‌نام کارجوورود کارجوثبت‌نام کارجو۱جابینجا چطور به استخدام شدن من کمک می‌کند؟مشاهدهمشاهده بیشترنقشه و مسیریاب نشان|Neshan Map And Navigatorتاسیس در  ۱۳۸۴کامپیوتر، فناوری اطلاعات و اینترنت۵۱ تا ۲۰۰ نفرneshan.org/lifeدر یک نگاهمعرفیفرصت‌های شغلی۲معرفی نقشه و مسیریاب نشان«نقشه و مسیریاب نشان»، در پیدا کردن مکان‌ها به شما کمک می‌کنه و بهترین مسیر رسیدن به مقصد رو بهتون نشون می‌ده. شما در طول مسیر می‌تونین از همراهی سخن‌گوهای نشان که به زبان‌های فارسی، ترکی آذری، کردی یا عربی شما رو راهنمایی می‌کنن، استفاده کنین. همچنین می‌تونین از رادیو نشان موسیقی رو که دوست دارین، گوش کنین و از ترافیک لحظه‌ای، مکان دوربین‌های        N/A      N/A          N/A          N/A           N/A             N/A        N/A    N/A             N/A\n",
      "                                                                                                                                                                                                                                                                                                                                                                          https://jobinja.ir/companies/abrnoc    استخدام در شرکت ابرناک، آگهی های استخدام abrNOC | جابینجاامکان جدید:همین حالا رزومه خود را در کمتر از ۱۰ دقیقه بسازید،برو به رزومه‌سازJobinja | جابینجا | استخدام، آگهی استخدام، کاریابی، استخدامی جدید، بازار کار، نیازمندیها، ساخت رزومه رایگان، کار و استخدام دولتی، اشتغال، جستجوگر حرفه ای استخدام و شغلخانهجستجوی مشاغلرزومه‌ساز۵۰ شرکت برتربخش کارفرمایانورود کارجوثبت‌نام کارجوورود کارجوثبت‌نام کارجو۱جابینجا چطور به استخدام شدن من کمک می‌کند؟مشاهدهمشاهده بیشترابرناک|abrNOCتاسیس در  ۱۳۹۹کامپیوتر، فناوری اطلاعات و اینترنت۱۱ تا ۵۰ نفرabrnoc.comدر یک نگاهمعرفیفرصت‌های شغلی۱۷ابرناک به‌عنوان شرکتی مستقل با تجربه حضور در فضای بین‌الملل در بهار ۱۳۹۹ با هدف نوآوری و توسعه نرم افزارهای مبتنی بر ابر فعالیتش را در ایران آغاز کرد.موقعیت مکانیتهران، تهراناعضای شرکتحنان نوذریمدیرعاملچرا محدود به جایی کوچک، وقتی می‌توانیم با هم در بازار جهانی نوآوری کنیم؟پوریا کامیارفردکارشناس پشتیبانی فنیوقتی وارد ابرناک میشی اولین چیزی که به چشم میاد، ارزش تیم بودن و داشتن حمایت برای رسیدن به اهداف و پیشرفت مشترک هست.شیو       N/A      N/A          N/A          N/A           N/A             N/A        N/A    N/A             N/A\n",
      "                                                                                                                                                                                                                                                                         https://jobinja.ir/jobs?filters%5Blocations%5D%5B%5D=%D8%A2%D8%B0%D8%B1%D8%A8%D8%A7%DB%8C%D8%AC%D8%A7%D9%86+%D8%B4%D8%B1%D9%82%DB%8C   آگهی استخدام آذربایجان شرقی | استخدام آذربایجان شرقی | کاریابی آذربایجان شرقی\\n | جابینجاامکان جدید:همین حالا رزومه خود را در کمتر از ۱۰ دقیقه بسازید،برو به رزومه‌سازJobinja | جابینجا | استخدام، آگهی استخدام، کاریابی، استخدامی جدید، بازار کار، نیازمندیها، ساخت رزومه رایگان، کار و استخدام دولتی، اشتغال، جستجوگر حرفه ای استخدام و شغلخانهجستجوی مشاغلرزومه‌ساز۵۰ شرکت برتربخش کارفرمایانورود کارجوثبت‌نام کارجوورود کارجوثبت‌نام کارجو۱جابینجا چطور به استخدام شدن من کمک می‌کند؟مشاهدهمشاهده بیشترجستجودرخواست‌های مننشان‌شده‌هاآگهی‌های پیشنهادیاز آگهی‌های جدید باخبر شوبهترین فرصت های شغلی در جابینجاهمه‌ی استان‌هاآذربایجان شرقیتهرانخراسان رضویاصفهانالبرزفارسقممازندرانگیلانخوزستانکرمانیزدقزوینمرکزیهرمزگانگلستانزنجانآذربایجان غربیبوشهرسیستان و بلوچستانسمنانکرمانشاههمداناردبیللرستانکردستانخراسان شمالیخراسان جنوبیچهارمحال بختیاریایلامکهکیلویه و بویراحمدهمه‌ی دسته‌بندی‌هافروش و بازاریابیوب،‌ برنامه‌نویسی و نرم‌افزارمالی و حسابداریمسئول دفتر، اجرائی و اداریتولید و مدیریت محتوادیجیتال مارکتینگپشتیبانی و ام       N/A      N/A          N/A          N/A           N/A             N/A        N/A    N/A             N/A\n",
      "                                                                                                                                                                                                                                                                                                                          https://jobinja.ir/jobs?filters%5Blocations%5D%5B%5D=%D8%A7%D9%84%D8%A8%D8%B1%D8%B2   استخدام کرج | کاریابی کرج | استخدامی البرز\\n | جابینجاامکان جدید:همین حالا رزومه خود را در کمتر از ۱۰ دقیقه بسازید،برو به رزومه‌سازJobinja | جابینجا | استخدام، آگهی استخدام، کاریابی، استخدامی جدید، بازار کار، نیازمندیها، ساخت رزومه رایگان، کار و استخدام دولتی، اشتغال، جستجوگر حرفه ای استخدام و شغلخانهجستجوی مشاغلرزومه‌ساز۵۰ شرکت برتربخش کارفرمایانورود کارجوثبت‌نام کارجوورود کارجوثبت‌نام کارجو۱جابینجا چطور به استخدام شدن من کمک می‌کند؟مشاهدهمشاهده بیشترجستجودرخواست‌های مننشان‌شده‌هاآگهی‌های پیشنهادیاز آگهی‌های جدید باخبر شوبهترین فرصت های شغلی در جابینجاهمه‌ی استان‌هاالبرزتهرانخراسان رضویاصفهانفارسقمآذربایجان شرقیمازندرانگیلانخوزستانکرمانیزدقزوینمرکزیهرمزگانگلستانزنجانآذربایجان غربیبوشهرسیستان و بلوچستانسمنانکرمانشاههمداناردبیللرستانکردستانخراسان شمالیخراسان جنوبیچهارمحال بختیاریایلامکهکیلویه و بویراحمدهمه‌ی دسته‌بندی‌هافروش و بازاریابیوب،‌ برنامه‌نویسی و نرم‌افزارمالی و حسابداریمسئول دفتر، اجرائی و اداریتولید و مدیریت محتوادیجیتال مارکتینگپشتیبانی و امور مشتریانطراحیIT / DevOps / Server       N/A      N/A          N/A          N/A           N/A             N/A        N/A    N/A             N/A\n",
      "                                                                                                               https://jobinja.ir/companies/celebon-1/jobs/A7b3/%D8%A7%D8%B3%D8%AA%D8%AE%D8%AF%D8%A7%D9%85-%D9%85%D8%B3%D8%A6%D9%88%D9%84-%DA%86%DB%8C%D8%AF%D9%85%D8%A7%D9%86-%D9%81%D8%B1%D9%88%D8%B4%DA%AF%D8%A7%D9%87%DB%8C-%D8%AE%D8%A7%D9%86%D9%85-%D8%AF%D8%B1-%D8%B3%D9%84%D9%87-%D8%A8%D9%86?_ref=18  استخدام مسئول چیدمان فروشگاهی(خانم) در سله بن | جابینجاامکان جدید:همین حالا رزومه خود را در کمتر از ۱۰ دقیقه بسازید،برو به رزومه‌سازJobinja | جابینجا | استخدام، آگهی استخدام، کاریابی، استخدامی جدید، بازار کار، نیازمندیها، ساخت رزومه رایگان، کار و استخدام دولتی، اشتغال، جستجوگر حرفه ای استخدام و شغلخانهجستجوی مشاغلرزومه‌ساز۵۰ شرکت برتربخش کارفرمایانورود کارجوثبت‌نام کارجوورود کارجوثبت‌نام کارجو۱جابینجا چطور به استخدام شدن من کمک می‌کند؟مشاهدهمشاهده بیشترسله بن|Celebonخرده‌فروشی، عمده‌فروشی و فروشگاه‌های زنجیره‌ای۲۰۱ تا ۵۰۰ نفرcelebon.irفرصت‌های شغلی۴استخدام مسئول چیدمان فروشگاهی(خانم)لطفا برای مشاهده‌ی جزییات و ارسال رزومهیکی از راه‌های زیر را انتخاب کنیدورود / ثبت‌نام با ایمیلimage/svg+xmlbtn_google_light_normal_iosbtn_google_light_normal_iosCreated with Sketch.ورود / ثبت‌نام با گوگل\\n                    (Gmail)ورود / ثبت‌نام با لینکدیناستخدام مسئول چیدمان فروشگاهی(خانم){{ tooltipText }}{{ hoverTitle }}نشان کردنحذف نشاندسته‌بندی شغلیفروش و بازاریابیموقعیت مکانیتهران\\n                           N/A      N/A          N/A          N/A           N/A             N/A        N/A    N/A             N/A\n",
      "                                                                                                                                                                                                                                                                                https://jobinja.ir/jobs?filters%5Bjob_categories%5D%5B%5D=%D9%85%D9%87%D9%86%D8%AF%D8%B3%DB%8C+%D9%BE%D9%84%DB%8C%D9%85%D8%B1   استخدام کارشناس پلیمر | استخدام مهندس پلیمر | جابینجا\\n | جابینجاامکان جدید:همین حالا رزومه خود را در کمتر از ۱۰ دقیقه بسازید،برو به رزومه‌سازJobinja | جابینجا | استخدام، آگهی استخدام، کاریابی، استخدامی جدید، بازار کار، نیازمندیها، ساخت رزومه رایگان، کار و استخدام دولتی، اشتغال، جستجوگر حرفه ای استخدام و شغلخانهجستجوی مشاغلرزومه‌ساز۵۰ شرکت برتربخش کارفرمایانورود کارجوثبت‌نام کارجوورود کارجوثبت‌نام کارجو۱جابینجا چطور به استخدام شدن من کمک می‌کند؟مشاهدهمشاهده بیشترجستجودرخواست‌های مننشان‌شده‌هاآگهی‌های پیشنهادیاز آگهی‌های جدید باخبر شوبهترین فرصت های شغلی در جابینجاهمه‌ی استان‌هاتهرانخراسان رضویاصفهانالبرزفارسقمآذربایجان شرقیمازندرانگیلانخوزستانکرمانیزدقزوینمرکزیهرمزگانگلستانزنجانآذربایجان غربیبوشهرسیستان و بلوچستانسمنانکرمانشاههمداناردبیللرستانکردستانخراسان شمالیخراسان جنوبیچهارمحال بختیاریایلامکهکیلویه و بویراحمدهمه‌ی دسته‌بندی‌هامهندسی پلیمرفروش و بازاریابیوب،‌ برنامه‌نویسی و نرم‌افزارمالی و حسابداریمسئول دفتر، اجرائی و اداریتولید و مدیریت محتوادیجیتال مارکتینگپشتیبانی و امور مشتریانطر       N/A      N/A          N/A          N/A           N/A             N/A        N/A    N/A             N/A\n",
      "                                                                                                                                                                                                                                                                                                                                                                  https://jobinja.ir/companies/BimeBazar/jobs    فرصت‌های شغلی فعال در بیمه بازار | Bime Bazar | جابینجاامکان جدید:همین حالا رزومه خود را در کمتر از ۱۰ دقیقه بسازید،برو به رزومه‌سازJobinja | جابینجا | استخدام، آگهی استخدام، کاریابی، استخدامی جدید، بازار کار، نیازمندیها، ساخت رزومه رایگان، کار و استخدام دولتی، اشتغال، جستجوگر حرفه ای استخدام و شغلخانهجستجوی مشاغلرزومه‌ساز۵۰ شرکت برتربخش کارفرمایانورود کارجوثبت‌نام کارجوورود کارجوثبت‌نام کارجو۱جابینجا چطور به استخدام شدن من کمک می‌کند؟مشاهدهمشاهده بیشتربیمه بازار|Bime Bazarتاسیس در  ۱۳۹۵کامپیوتر، فناوری اطلاعات و اینترنت۵۱ تا ۲۰۰ نفرbimebazar.comدر یک نگاهمعرفیفرصت‌های شغلی۳۱معرفی بیمه بازاربیمه بازار سامانه مشاوره، مقایسه و خرید آنلاین بیمه است. در وب‌سایت بیمه بازار می‌توانید قیمت انواع بیمه را از تمامی شرکت‌ها استعلام بگیرید، شرایط و پوششها را با هم مقایسه کنید و بیمه مورد نظر خود را آنلاین سفارش دهید. بیمه‌نامه شما در کوتاه‌ترین زمان صادر شده و به آدرس دلخواه شما ارسال می‌شود.فرصت‌های شغلی فعال در بیمه بازار|Bime Bazarمدیر عملیات کسب و کار(۲ روز پیش)بیمه بازار | Bime Bazarتهران، ته       N/A      N/A          N/A          N/A           N/A             N/A        N/A    N/A             N/A\n",
      "                                                                                                                                                                                                                                                                                                                          https://jobinja.ir/jobs?filters%5Bkeywords%5D%5B0%5D=%D8%A7%D8%AF%D9%85%DB%8C%D9%86   فرصت های شغلی ادمین\\n | جابینجاامکان جدید:همین حالا رزومه خود را در کمتر از ۱۰ دقیقه بسازید،برو به رزومه‌سازJobinja | جابینجا | استخدام، آگهی استخدام، کاریابی، استخدامی جدید، بازار کار، نیازمندیها، ساخت رزومه رایگان، کار و استخدام دولتی، اشتغال، جستجوگر حرفه ای استخدام و شغلخانهجستجوی مشاغلرزومه‌ساز۵۰ شرکت برتربخش کارفرمایانورود کارجوثبت‌نام کارجوورود کارجوثبت‌نام کارجو۱جابینجا چطور به استخدام شدن من کمک می‌کند؟مشاهدهمشاهده بیشترجستجودرخواست‌های مننشان‌شده‌هاآگهی‌های پیشنهادیاز آگهی‌های جدید باخبر شوبهترین فرصت های شغلی در جابینجاهمه‌ی استان‌هاتهرانخراسان رضویاصفهانالبرزفارسقمآذربایجان شرقیمازندرانگیلانخوزستانکرمانیزدقزوینمرکزیهرمزگانگلستانزنجانآذربایجان غربیبوشهرسیستان و بلوچستانسمنانکرمانشاههمداناردبیللرستانکردستانخراسان شمالیخراسان جنوبیچهارمحال بختیاریایلامکهکیلویه و بویراحمدهمه‌ی دسته‌بندی‌هافروش و بازاریابیوب،‌ برنامه‌نویسی و نرم‌افزارمالی و حسابداریمسئول دفتر، اجرائی و اداریتولید و مدیریت محتوادیجیتال مارکتینگپشتیبانی و امور مشتریانطراحیIT / DevOps / Serverمهندسی صنایع و مدیریت ص       N/A      N/A          N/A          N/A           N/A             N/A        N/A    N/A             N/A\n",
      "                                                                                                                                                                                                                                                                                                                                                                         https://jobinja.ir/companies/charsoq    استخدام در شرکت چارسوق، آگهی های استخدام Charsoq | جابینجاامکان جدید:همین حالا رزومه خود را در کمتر از ۱۰ دقیقه بسازید،برو به رزومه‌سازJobinja | جابینجا | استخدام، آگهی استخدام، کاریابی، استخدامی جدید، بازار کار، نیازمندیها، ساخت رزومه رایگان، کار و استخدام دولتی، اشتغال، جستجوگر حرفه ای استخدام و شغلخانهجستجوی مشاغلرزومه‌ساز۵۰ شرکت برتربخش کارفرمایانورود کارجوثبت‌نام کارجوورود کارجوثبت‌نام کارجو۱جابینجا چطور به استخدام شدن من کمک می‌کند؟مشاهدهمشاهده بیشترچارسوق|Charsoqتاسیس در  ۱۳۸۷کامپیوتر، فناوری اطلاعات و اینترنت۱۱ تا ۵۰ نفرCharsoq.comدر یک نگاهمعرفیفرصت‌های شغلی۱۰شرکت چارسوق را با محصول نرم افزاری به نام ماریس می شناسند.موقعیت مکانیتهران، تهراناعضای شرکتسید محمد صادق دیباجیبنیان گذار و رئیس هیات مدیرهتحقق گام به گام رویاهای سال 1385عماد کوشامدیر عاملتجربه هم صحبتی با مدیران ارشد بازاریابی و فروش شرکت های موفق در صنعت دارو و برآورده کردن دغدغه آن ها برای رشد اکو سیستم بازاریابی در صنعت سلامت، مهمترین انگیزه است که هر روز با آن به شرکت می آیم.چارسوق محیطی را فراهم کرده که کارکنان در       N/A      N/A          N/A          N/A           N/A             N/A        N/A    N/A             N/A\n",
      "                                                                                                                                                                                                                                                                                     https://jobinja.ir/jobs?filters%5Bkeywords%5D%5B0%5D=%D9%85%D8%B4%D8%A7%D9%88%D8%B1+%D8%AA%D8%AD%D8%B5%DB%8C%D9%84%DB%8C   فرصت های شغلی مشاور تحصیلی\\n | جابینجاامکان جدید:همین حالا رزومه خود را در کمتر از ۱۰ دقیقه بسازید،برو به رزومه‌سازJobinja | جابینجا | استخدام، آگهی استخدام، کاریابی، استخدامی جدید، بازار کار، نیازمندیها، ساخت رزومه رایگان، کار و استخدام دولتی، اشتغال، جستجوگر حرفه ای استخدام و شغلخانهجستجوی مشاغلرزومه‌ساز۵۰ شرکت برتربخش کارفرمایانورود کارجوثبت‌نام کارجوورود کارجوثبت‌نام کارجو۱جابینجا چطور به استخدام شدن من کمک می‌کند؟مشاهدهمشاهده بیشترجستجودرخواست‌های مننشان‌شده‌هاآگهی‌های پیشنهادیاز آگهی‌های جدید باخبر شوبهترین فرصت های شغلی در جابینجاهمه‌ی استان‌هاتهرانخراسان رضویاصفهانالبرزفارسقمآذربایجان شرقیمازندرانگیلانخوزستانکرمانیزدقزوینمرکزیهرمزگانگلستانزنجانآذربایجان غربیبوشهرسیستان و بلوچستانسمنانکرمانشاههمداناردبیللرستانکردستانخراسان شمالیخراسان جنوبیچهارمحال بختیاریایلامکهکیلویه و بویراحمدهمه‌ی دسته‌بندی‌هافروش و بازاریابیوب،‌ برنامه‌نویسی و نرم‌افزارمالی و حسابداریمسئول دفتر، اجرائی و اداریتولید و مدیریت محتوادیجیتال مارکتینگپشتیبانی و امور مشتریانطراحیIT / DevOps / Serverمهندسی صنایع و م       N/A      N/A          N/A          N/A           N/A             N/A        N/A    N/A             N/A\n",
      "                                                                                                                                                                                                                                                                                                                                                                                 https://jobinja.ir/join/user                                                                                                                                                                                                                                                                                                                                                                                            ثبت نام کارجو | جابینجاثبت نام کارجو | جابینجاJobinjaکارفرما هستید؟ایجاد حساب کاربریورود کارجوثبت‌‌نام کارجوimage/svg+xmlbtn_google_light_normal_iosbtn_google_light_normal_iosCreated with Sketch.ثبت نام با گوگلثبت نام با لینکدینآدرس ایمیلنام و نام‌ خانوادگیانتخاب رمز عبورتکرار رمز عبورجابینجا چه کمکی به من می‌کنه؟رایگانهمین حالا در جابینجا ثبت‌نام کن و رزومه‌ات رو برای آگهی‌های استخدام شرکت‌های معتبر بفرست.جستجوی در آگهی‌های استخدام ۱۱,۰۰۰ شرکت معتبر و ارسال رزومه با یک کلیکدریافت فرصت‌های شغلیجدیدمرتبط از طریق ایمیل\\n                (Job Alert)رزومه‌ساز استانداردشناخت محیط کار و فرهنگ سازمانی شرکت‌های در حال استخدام       N/A      N/A          N/A          N/A           N/A             N/A        N/A    N/A             N/A\n",
      "                                                                                                                                                                                                                                                                                     https://jobinja.ir/jobs?filters%5Bkeywords%5D%5B0%5D=%DA%A9%D8%A7%D8%B1%D8%B4%D9%86%D8%A7%D8%B3+%D9%81%D8%B1%D9%88%D8%B4   فرصت های شغلی کارشناس فروش\\n | جابینجاامکان جدید:همین حالا رزومه خود را در کمتر از ۱۰ دقیقه بسازید،برو به رزومه‌سازJobinja | جابینجا | استخدام، آگهی استخدام، کاریابی، استخدامی جدید، بازار کار، نیازمندیها، ساخت رزومه رایگان، کار و استخدام دولتی، اشتغال، جستجوگر حرفه ای استخدام و شغلخانهجستجوی مشاغلرزومه‌ساز۵۰ شرکت برتربخش کارفرمایانورود کارجوثبت‌نام کارجوورود کارجوثبت‌نام کارجو۱جابینجا چطور به استخدام شدن من کمک می‌کند؟مشاهدهمشاهده بیشترجستجودرخواست‌های مننشان‌شده‌هاآگهی‌های پیشنهادیاز آگهی‌های جدید باخبر شوبهترین فرصت های شغلی در جابینجاهمه‌ی استان‌هاتهرانخراسان رضویاصفهانالبرزفارسقمآذربایجان شرقیمازندرانگیلانخوزستانکرمانیزدقزوینمرکزیهرمزگانگلستانزنجانآذربایجان غربیبوشهرسیستان و بلوچستانسمنانکرمانشاههمداناردبیللرستانکردستانخراسان شمالیخراسان جنوبیچهارمحال بختیاریایلامکهکیلویه و بویراحمدهمه‌ی دسته‌بندی‌هافروش و بازاریابیوب،‌ برنامه‌نویسی و نرم‌افزارمالی و حسابداریمسئول دفتر، اجرائی و اداریتولید و مدیریت محتوادیجیتال مارکتینگپشتیبانی و امور مشتریانطراحیIT / DevOps / Serverمهندسی صنایع و م       N/A      N/A          N/A          N/A           N/A             N/A        N/A    N/A             N/A\n",
      "                                                                                                                                                                                                                                                             https://jobinja.ir/jobs?filters%5Bkeywords%5D%5B0%5D=%D8%A7%D8%AF%D9%85%DB%8C%D9%86+%D8%A7%DB%8C%D9%86%D8%B3%D8%AA%D8%A7%DA%AF%D8%B1%D8%A7%D9%85   فرصت های شغلی ادمین اینستاگرام\\n | جابینجاامکان جدید:همین حالا رزومه خود را در کمتر از ۱۰ دقیقه بسازید،برو به رزومه‌سازJobinja | جابینجا | استخدام، آگهی استخدام، کاریابی، استخدامی جدید، بازار کار، نیازمندیها، ساخت رزومه رایگان، کار و استخدام دولتی، اشتغال، جستجوگر حرفه ای استخدام و شغلخانهجستجوی مشاغلرزومه‌ساز۵۰ شرکت برتربخش کارفرمایانورود کارجوثبت‌نام کارجوورود کارجوثبت‌نام کارجو۱جابینجا چطور به استخدام شدن من کمک می‌کند؟مشاهدهمشاهده بیشترجستجودرخواست‌های مننشان‌شده‌هاآگهی‌های پیشنهادیاز آگهی‌های جدید باخبر شوبهترین فرصت های شغلی در جابینجاهمه‌ی استان‌هاتهرانخراسان رضویاصفهانالبرزفارسقمآذربایجان شرقیمازندرانگیلانخوزستانکرمانیزدقزوینمرکزیهرمزگانگلستانزنجانآذربایجان غربیبوشهرسیستان و بلوچستانسمنانکرمانشاههمداناردبیللرستانکردستانخراسان شمالیخراسان جنوبیچهارمحال بختیاریایلامکهکیلویه و بویراحمدهمه‌ی دسته‌بندی‌هافروش و بازاریابیوب،‌ برنامه‌نویسی و نرم‌افزارمالی و حسابداریمسئول دفتر، اجرائی و اداریتولید و مدیریت محتوادیجیتال مارکتینگپشتیبانی و امور مشتریانطراحیIT / DevOps / Serverمهندسی صنایع       N/A      N/A          N/A          N/A           N/A             N/A        N/A    N/A             N/A\n",
      "                                                                                                                                                                                                                                                                                                                                https://jobinja.ir/jobs?filters%5Bkeywords%5D%5B0%5D=%D9%85%D8%AF%DB%8C%D8%B1   فرصت های شغلی مدیر\\n | جابینجاامکان جدید:همین حالا رزومه خود را در کمتر از ۱۰ دقیقه بسازید،برو به رزومه‌سازJobinja | جابینجا | استخدام، آگهی استخدام، کاریابی، استخدامی جدید، بازار کار، نیازمندیها، ساخت رزومه رایگان، کار و استخدام دولتی، اشتغال، جستجوگر حرفه ای استخدام و شغلخانهجستجوی مشاغلرزومه‌ساز۵۰ شرکت برتربخش کارفرمایانورود کارجوثبت‌نام کارجوورود کارجوثبت‌نام کارجو۱جابینجا چطور به استخدام شدن من کمک می‌کند؟مشاهدهمشاهده بیشترجستجودرخواست‌های مننشان‌شده‌هاآگهی‌های پیشنهادیاز آگهی‌های جدید باخبر شوبهترین فرصت های شغلی در جابینجاهمه‌ی استان‌هاتهرانخراسان رضویاصفهانالبرزفارسقمآذربایجان شرقیمازندرانگیلانخوزستانکرمانیزدقزوینمرکزیهرمزگانگلستانزنجانآذربایجان غربیبوشهرسیستان و بلوچستانسمنانکرمانشاههمداناردبیللرستانکردستانخراسان شمالیخراسان جنوبیچهارمحال بختیاریایلامکهکیلویه و بویراحمدهمه‌ی دسته‌بندی‌هافروش و بازاریابیوب،‌ برنامه‌نویسی و نرم‌افزارمالی و حسابداریمسئول دفتر، اجرائی و اداریتولید و مدیریت محتوادیجیتال مارکتینگپشتیبانی و امور مشتریانطراحیIT / DevOps / Serverمهندسی صنایع و مدیریت صن       N/A      N/A          N/A          N/A           N/A             N/A        N/A    N/A             N/A\n",
      "                                                                                                                                                                                                                                                                                                                                                                                      https://blog.jobinja.ir    صفحه اصلی - وبلاگ جابینجااشتراک گذاریبا استفاده از روش‌های زیر می‌توانید این صفحه را با دوستان خود به اشتراک بگذارید.کپی لینککارجو ⏷رزومه نویسیمسیر شغلیمصاحبه کاریمهارت های فردیکارفرما ⏷منابع انسانیفضای کاریاخبار جابینجارزومه سازایجاد آگهی جدیدکارجو ⏷رزومه نویسیمسیر شغلیمصاحبه کاریمهارت های فردیکارفرما ⏷منابع انسانیفضای کاریاخبار جابینجارزومه سازایجاد آگهی جدیدمرا به خاطر بسپارنام کاربری :ایمیل :نام :نام خانوادگیآدرس وب سایت :تاریخ ثبت نام :نقش کاربر:بررسی نقش منابع انسانی در توسعه سازمانتکنیک‌های ارزیابی عملکرد کارکنانآموزش تکنیک‌های مصاحبه شغلی برای مدیران منابع انسانیآشنایی با بهترین روش‌های جذب و استخدامآخرین مقالاتبررسی نقش منابع انسانی در توسعه سازمان۱ ساعت پیشتکنیک‌های ارزیابی عملکرد کارکنان۳ هفته پیشآموزش تکنیک‌های مصاحبه شغلی برای مدیران منابع انسانی۲ ماه پیشآشنایی با بهترین روش‌های جذب و استخدام۲ ماه پیشرزومه نویسیآموزش کاورلتر و رزومه نویسی۱ سال پیشکاورلتر اختصاصی برای رزومه شخصی شما۱ سال پیشتعیین هدف شغلی: راهنمای کامل۱ سال پیشتدوین رزومه و نکات آن۱ سال پیشمسیر شغلیتعیین هد       N/A      N/A          N/A          N/A           N/A             N/A        N/A    N/A             N/A\n",
      "                                                                                                                                                                                                                                                                                                                       https://jobinja.ir/%D8%A2%DA%AF%D9%87%DB%8C-%D8%A7%D8%B3%D8%AA%D8%AE%D8%AF%D8%A7%D9%85    جذب نیرو | ثبت آگهی استخدام | جابینجاخانهتعرفه‌هابخش کارجویانورود کارفرماثبت نام کارفرماخانهتعرفه‌هاورود کارفرماثبت نام کارفرمابخش کارجویان|ورود کارفرما|ثبت نام کارفرماسریع‌ترین و به‌صرفه‌ترین ابزار استخدامبا درج آگهی استخدام در جابینجا، همین امروز فرصت شغلی شرکت خود را به متخصصان ایرانی اطلاع‌رسانی کنید.٪۶۰تخفیفدرج آگهی استخدامانتشار اولین آگهی با ۶۰٪ تخفیف - ۹۰ هزار تومانانتشار در فهرست فرصت‌های شغلیآگهی شما  ۶۰ روز در فهرست فرصت‌های شغلی سایت جابینجا منتشر می‌شود و در معرض دید میلیون‌ها کارجو قرار می‌گیرد.اطلاع‌رسانی گسترده به کارجویان مرتبطآگهی  شما به کارجویانی که سابقه مرتبط با آن دارند به صورت گسترده از روش‌های مختلف اطلاع‌رسانی می‌شود.گارانتی ۱۰۰٪ رضایت و بازگشت پولبا خیال راحت از امکانات جابینجا استفاده کنید در صورت عدم رضایت، بدون هیچ قید و شرط مبلغ پرداختی را دریافت کنید.جابینجا چه ویژگی‌هایی دارد؟انتشار آگهی استخداممدیریت رزومه‌هاتعیین وضعیت رزومهتیم استخدامجستجو در رزومه‌هانشان کردن رزومه‌یادداشت‌های رزومه‌برند کارفرماییآمار عملکردرزومه‌های پیشنهادیشتابدهی آگهیپشتیبانی درج       N/A      N/A          N/A          N/A           N/A             N/A        N/A    N/A             N/A\n",
      "                                                                                                                                                                                                                                                                                                                                         https://jobinja.ir/knowledge/employer-faq/pages/employer-account-faq  سوالات متداول حساب کاربری کارفرمایان | جابینجاامکان جدید:همین حالا رزومه خود را در کمتر از ۱۰ دقیقه بسازید،برو به رزومه‌سازJobinja | جابینجا | استخدام، آگهی استخدام، کاریابی، استخدامی جدید، بازار کار، نیازمندیها، ساخت رزومه رایگان، کار و استخدام دولتی، اشتغال، جستجوگر حرفه ای استخدام و شغلخانهجستجوی مشاغلرزومه‌ساز۵۰ شرکت برتربخش کارفرمایانورود کارجوثبت‌نام کارجوورود کارجوثبت‌نام کارجو۱جابینجا چطور به استخدام شدن من کمک می‌کند؟مشاهدهمشاهده بیشترسوالات متداول کارفرمایانسوالات متداول حساب کاربری کارفرمایانسوالات متداول حساب کاربری کارفرمایانثبت‌نام و ورود به پنل شرکت:۱- اقدامات لازم جهت ایجاد پنل کارفرمایی چیست؟چنانچه در حال جذب نیرو هستید، وارد سایت جابینجا (www.jobinja.ir)\\r\\n                شده و سپس از بخش کارفرمایان گزینه ثبت‌نام کارفرما را انتخاب نمایید و پس از تکمیل اطلاعات، از پنل ایجاد شده برای درج آگهی استخدام استفاده نمایید.۲- چنانچه پنل کارفرمایی شرکت موقتا غیرفعال شده چگونه آن را فعال کنم؟مجموعه شما پنل فعال داخل سایت جابینجا دارد یا پروفایل دیگری که با نام مجموعه شما، تشابه اس       N/A      N/A          N/A          N/A           N/A             N/A        N/A    N/A             N/A\n",
      "                                                                                                                                                                                                                                                        https://jobinja.ir/jobs?filters%5Bjob_categories%5D%5B%5D=%D8%AF%DB%8C%D8%AC%DB%8C%D8%AA%D8%A7%D9%84+%D9%85%D8%A7%D8%B1%DA%A9%D8%AA%DB%8C%D9%86%DA%AF   استخدام دیجیتال مارکتینگ | آگهی استخدام دیجیتال مارکتینگ (Digital Marketing)\\n | جابینجاامکان جدید:همین حالا رزومه خود را در کمتر از ۱۰ دقیقه بسازید،برو به رزومه‌سازJobinja | جابینجا | استخدام، آگهی استخدام، کاریابی، استخدامی جدید، بازار کار، نیازمندیها، ساخت رزومه رایگان، کار و استخدام دولتی، اشتغال، جستجوگر حرفه ای استخدام و شغلخانهجستجوی مشاغلرزومه‌ساز۵۰ شرکت برتربخش کارفرمایانورود کارجوثبت‌نام کارجوورود کارجوثبت‌نام کارجو۱جابینجا چطور به استخدام شدن من کمک می‌کند؟مشاهدهمشاهده بیشترجستجودرخواست‌های مننشان‌شده‌هاآگهی‌های پیشنهادیاز آگهی‌های جدید باخبر شوبهترین فرصت های شغلی در جابینجاهمه‌ی استان‌هاتهرانخراسان رضویاصفهانالبرزفارسقمآذربایجان شرقیمازندرانگیلانخوزستانکرمانیزدقزوینمرکزیهرمزگانگلستانزنجانآذربایجان غربیبوشهرسیستان و بلوچستانسمنانکرمانشاههمداناردبیللرستانکردستانخراسان شمالیخراسان جنوبیچهارمحال بختیاریایلامکهکیلویه و بویراحمدهمه‌ی دسته‌بندی‌هادیجیتال مارکتینگفروش و بازاریابیوب،‌ برنامه‌نویسی و نرم‌افزارمالی و حسابداریمسئول دفتر، اجرائی و اداریتولید و مدیریت محتواپشتیبانی و امو       N/A      N/A          N/A          N/A           N/A             N/A        N/A    N/A             N/A\n",
      "https://jobinja.ir/companies/academy-5/jobs/A7go/%D8%A7%D8%B3%D8%AA%D8%AE%D8%AF%D8%A7%D9%85-%DA%A9%D8%A7%D8%B1%D8%B4%D9%86%D8%A7%D8%B3-%D8%A8%D8%A7%D8%B2%D8%A7%D8%B1%DB%8C%D8%A7%D8%A8%DB%8C-%D9%88-%D9%81%D8%B1%D9%88%D8%B4-%D8%AA%D9%84%D9%81%D9%86%DB%8C-%D8%AF%D8%B1-%D8%A2%DA%A9%D8%A7%D8%AF%D9%85%DB%8C-%D9%85%D9%88%D8%B3%DB%8C%D9%82%DB%8C-%D8%B9%D9%84%DB%8C-%D8%AE%D8%AF%D8%A7%DB%8C%DB%8C?_ref=18   استخدام کارشناس بازاریابی و فروش تلفنی در آکادمی موسیقی علی خدایی | جابینجاامکان جدید:همین حالا رزومه خود را در کمتر از ۱۰ دقیقه بسازید،برو به رزومه‌سازJobinja | جابینجا | استخدام، آگهی استخدام، کاریابی، استخدامی جدید، بازار کار، نیازمندیها، ساخت رزومه رایگان، کار و استخدام دولتی، اشتغال، جستجوگر حرفه ای استخدام و شغلخانهجستجوی مشاغلرزومه‌ساز۵۰ شرکت برتربخش کارفرمایانورود کارجوثبت‌نام کارجوورود کارجوثبت‌نام کارجو۱جابینجا چطور به استخدام شدن من کمک می‌کند؟مشاهدهمشاهده بیشترآکادمی موسیقی علی خدایی|Academy Mosighi Ali Khodaeiآموزش، مدارس و دانشگاه‌ها۱۱ تا ۵۰ نفرalikhodaei.com/فرصت‌های شغلی۳استخدام کارشناس بازاریابی و فروش تلفنیلطفا برای مشاهده‌ی جزییات و ارسال رزومهیکی از راه‌های زیر را انتخاب کنیدورود / ثبت‌نام با ایمیلimage/svg+xmlbtn_google_light_normal_iosbtn_google_light_normal_iosCreated with Sketch.ورود / ثبت‌نام با گوگل\\n                    (Gmail)ورود / ثبت‌نام با لینکدیناستخدام کارشناس بازاریابی و فروش تلفنی{{ tooltipText }}{{ hoverTitle }}نشان کردنحذف نشاندسته‌بندی شغلیفروش و با       N/A      N/A          N/A          N/A           N/A             N/A        N/A    N/A             N/A\n",
      "                                                                                                                                                                                                                              https://jobinja.ir/jobs?filters%5Bjob_categories%5D%5B%5D=%D9%85%D9%87%D9%86%D8%AF%D8%B3%DB%8C+%D9%85%D8%B9%D8%AF%D9%86+%D9%88+%D9%85%D8%AA%D8%A7%D9%84%D9%88%D8%B1%DA%98%DB%8C  استخدام کارشناس متالورژی | استخدام مهندس مواد\\t | جابینجا\\n | جابینجاامکان جدید:همین حالا رزومه خود را در کمتر از ۱۰ دقیقه بسازید،برو به رزومه‌سازJobinja | جابینجا | استخدام، آگهی استخدام، کاریابی، استخدامی جدید، بازار کار، نیازمندیها، ساخت رزومه رایگان، کار و استخدام دولتی، اشتغال، جستجوگر حرفه ای استخدام و شغلخانهجستجوی مشاغلرزومه‌ساز۵۰ شرکت برتربخش کارفرمایانورود کارجوثبت‌نام کارجوورود کارجوثبت‌نام کارجو۱جابینجا چطور به استخدام شدن من کمک می‌کند؟مشاهدهمشاهده بیشترجستجودرخواست‌های مننشان‌شده‌هاآگهی‌های پیشنهادیاز آگهی‌های جدید باخبر شوبهترین فرصت های شغلی در جابینجاهمه‌ی استان‌هاتهرانخراسان رضویاصفهانالبرزفارسقمآذربایجان شرقیمازندرانگیلانخوزستانکرمانیزدقزوینمرکزیهرمزگانگلستانزنجانآذربایجان غربیبوشهرسیستان و بلوچستانسمنانکرمانشاههمداناردبیللرستانکردستانخراسان شمالیخراسان جنوبیچهارمحال بختیاریایلامکهکیلویه و بویراحمدهمه‌ی دسته‌بندی‌هامهندسی معدن و متالورژیفروش و بازاریابیوب،‌ برنامه‌نویسی و نرم‌افزارمالی و حسابداریمسئول دفتر، اجرائی و اداریتولید و مدیریت محتوادیجیتال مارکتینگپشتیبانی و ا       N/A      N/A          N/A          N/A           N/A             N/A        N/A    N/A             N/A\n",
      "                                                                                                                                                                                                                                                                                                                                                                                https://jobinja.ir/login/user                                                                                                                                                                                                                                                                                                                                                                                                                   ورود کارجو | جابینجاورود کارجو | جابینجاJobinjaکارفرما هستید؟ورود کارجوورود کارجوثبت‌نام کارجوimage/svg+xmlbtn_google_light_normal_iosbtn_google_light_normal_iosCreated with Sketch.ورود با گوگلورود با لینکدینآدرس ایمیلرمز عبورمرا به خاطرت نگه دار!بازیابی رمز عبورجابینجا چه کمکی به من می‌کنه؟رایگانهمین حالا در جابینجا ثبت‌نام کن و رزومه‌ات رو برای آگهی‌های استخدام شرکت‌های معتبر بفرست.جستجوی در آگهی‌های استخدام ۱۱,۰۰۰ شرکت معتبر و ارسال رزومه با یک کلیکدریافت فرصت‌های شغلیجدیدمرتبط از طریق ایمیل\\n                (Job Alert)رزومه‌ساز استانداردشناخت محیط کار و فرهنگ سازمانی شرکت‌های در حال استخدام       N/A      N/A          N/A          N/A           N/A             N/A        N/A    N/A             N/A\n",
      "                                                                                                                                                                                                                                                                                                                    https://jobinja.ir/jobs?filters%5Blocations%5D%5B%5D=%D9%84%D8%B1%D8%B3%D8%AA%D8%A7%D9%86   آگهی استخدام لرستان | استخدام لرستان | کاریابی لرستان\\n | جابینجاامکان جدید:همین حالا رزومه خود را در کمتر از ۱۰ دقیقه بسازید،برو به رزومه‌سازJobinja | جابینجا | استخدام، آگهی استخدام، کاریابی، استخدامی جدید، بازار کار، نیازمندیها، ساخت رزومه رایگان، کار و استخدام دولتی، اشتغال، جستجوگر حرفه ای استخدام و شغلخانهجستجوی مشاغلرزومه‌ساز۵۰ شرکت برتربخش کارفرمایانورود کارجوثبت‌نام کارجوورود کارجوثبت‌نام کارجو۱جابینجا چطور به استخدام شدن من کمک می‌کند؟مشاهدهمشاهده بیشترجستجودرخواست‌های مننشان‌شده‌هاآگهی‌های پیشنهادیاز آگهی‌های جدید باخبر شوبهترین فرصت های شغلی در جابینجاهمه‌ی استان‌هالرستانتهرانخراسان رضویاصفهانالبرزفارسقمآذربایجان شرقیمازندرانگیلانخوزستانکرمانیزدقزوینمرکزیهرمزگانگلستانزنجانآذربایجان غربیبوشهرسیستان و بلوچستانسمنانکرمانشاههمداناردبیلکردستانخراسان شمالیخراسان جنوبیچهارمحال بختیاریایلامکهکیلویه و بویراحمدهمه‌ی دسته‌بندی‌هافروش و بازاریابیوب،‌ برنامه‌نویسی و نرم‌افزارمالی و حسابداریمسئول دفتر، اجرائی و اداریتولید و مدیریت محتوادیجیتال مارکتینگپشتیبانی و امور مشتریانطراحیIT / DevO       N/A      N/A          N/A          N/A           N/A             N/A        N/A    N/A             N/A\n",
      "                                                                                                                                                                                                                                                                                                              https://jobinja.ir/jobs?filters%5Blocations%5D%5B%5D=%DA%A9%D8%B1%D8%AF%D8%B3%D8%AA%D8%A7%D9%86   استخدام کردستان | کاریابی کردستان | آگهی استخدام کردستان\\n | جابینجاامکان جدید:همین حالا رزومه خود را در کمتر از ۱۰ دقیقه بسازید،برو به رزومه‌سازJobinja | جابینجا | استخدام، آگهی استخدام، کاریابی، استخدامی جدید، بازار کار، نیازمندیها، ساخت رزومه رایگان، کار و استخدام دولتی، اشتغال، جستجوگر حرفه ای استخدام و شغلخانهجستجوی مشاغلرزومه‌ساز۵۰ شرکت برتربخش کارفرمایانورود کارجوثبت‌نام کارجوورود کارجوثبت‌نام کارجو۱جابینجا چطور به استخدام شدن من کمک می‌کند؟مشاهدهمشاهده بیشترجستجودرخواست‌های مننشان‌شده‌هاآگهی‌های پیشنهادیاز آگهی‌های جدید باخبر شوبهترین فرصت های شغلی در جابینجاهمه‌ی استان‌هاکردستانتهرانخراسان رضویاصفهانالبرزفارسقمآذربایجان شرقیمازندرانگیلانخوزستانکرمانیزدقزوینمرکزیهرمزگانگلستانزنجانآذربایجان غربیبوشهرسیستان و بلوچستانسمنانکرمانشاههمداناردبیللرستانخراسان شمالیخراسان جنوبیچهارمحال بختیاریایلامکهکیلویه و بویراحمدهمه‌ی دسته‌بندی‌هافروش و بازاریابیوب،‌ برنامه‌نویسی و نرم‌افزارمالی و حسابداریمسئول دفتر، اجرائی و اداریتولید و مدیریت محتوادیجیتال مارکتینگپشتیبانی و امور مشتریانطراحیIT / D       N/A      N/A          N/A          N/A           N/A             N/A        N/A    N/A             N/A\n",
      "                                                                                                                                                                                                                                                                                                                                      https://jobinja.ir/jobs?filters%5Bkeywords%5D%5B0%5D=%D8%B3%D8%A6%D9%88   سئو کار | استخدام کارشناس سئو | استخدام متخصص سئو (seo)\\n | جابینجاامکان جدید:همین حالا رزومه خود را در کمتر از ۱۰ دقیقه بسازید،برو به رزومه‌سازJobinja | جابینجا | استخدام، آگهی استخدام، کاریابی، استخدامی جدید، بازار کار، نیازمندیها، ساخت رزومه رایگان، کار و استخدام دولتی، اشتغال، جستجوگر حرفه ای استخدام و شغلخانهجستجوی مشاغلرزومه‌ساز۵۰ شرکت برتربخش کارفرمایانورود کارجوثبت‌نام کارجوورود کارجوثبت‌نام کارجو۱جابینجا چطور به استخدام شدن من کمک می‌کند؟مشاهدهمشاهده بیشترجستجودرخواست‌های مننشان‌شده‌هاآگهی‌های پیشنهادیاز آگهی‌های جدید باخبر شوبهترین فرصت های شغلی در جابینجاهمه‌ی استان‌هاتهرانخراسان رضویاصفهانالبرزفارسقمآذربایجان شرقیمازندرانگیلانخوزستانکرمانیزدقزوینمرکزیهرمزگانگلستانزنجانآذربایجان غربیبوشهرسیستان و بلوچستانسمنانکرمانشاههمداناردبیللرستانکردستانخراسان شمالیخراسان جنوبیچهارمحال بختیاریایلامکهکیلویه و بویراحمدهمه‌ی دسته‌بندی‌هافروش و بازاریابیوب،‌ برنامه‌نویسی و نرم‌افزارمالی و حسابداریمسئول دفتر، اجرائی و اداریتولید و مدیریت محتوادیجیتال مارکتینگپشتیبانی و امور مشتریانطراحیIT / De       N/A      N/A          N/A          N/A           N/A             N/A        N/A    N/A             N/A\n",
      "                                                                                                                                                                                                                                                                                                                                https://jobinja.ir/jobs?filters%5Bkeywords%5D%5B0%5D=%D9%85%D9%86%D8%B4%DB%8C   فرصت های شغلی منشی\\n | جابینجاامکان جدید:همین حالا رزومه خود را در کمتر از ۱۰ دقیقه بسازید،برو به رزومه‌سازJobinja | جابینجا | استخدام، آگهی استخدام، کاریابی، استخدامی جدید، بازار کار، نیازمندیها، ساخت رزومه رایگان، کار و استخدام دولتی، اشتغال، جستجوگر حرفه ای استخدام و شغلخانهجستجوی مشاغلرزومه‌ساز۵۰ شرکت برتربخش کارفرمایانورود کارجوثبت‌نام کارجوورود کارجوثبت‌نام کارجو۱جابینجا چطور به استخدام شدن من کمک می‌کند؟مشاهدهمشاهده بیشترجستجودرخواست‌های مننشان‌شده‌هاآگهی‌های پیشنهادیاز آگهی‌های جدید باخبر شوبهترین فرصت های شغلی در جابینجاهمه‌ی استان‌هاتهرانخراسان رضویاصفهانالبرزفارسقمآذربایجان شرقیمازندرانگیلانخوزستانکرمانیزدقزوینمرکزیهرمزگانگلستانزنجانآذربایجان غربیبوشهرسیستان و بلوچستانسمنانکرمانشاههمداناردبیللرستانکردستانخراسان شمالیخراسان جنوبیچهارمحال بختیاریایلامکهکیلویه و بویراحمدهمه‌ی دسته‌بندی‌هافروش و بازاریابیوب،‌ برنامه‌نویسی و نرم‌افزارمالی و حسابداریمسئول دفتر، اجرائی و اداریتولید و مدیریت محتوادیجیتال مارکتینگپشتیبانی و امور مشتریانطراحیIT / DevOps / Serverمهندسی صنایع و مدیریت صن       N/A      N/A          N/A          N/A           N/A             N/A        N/A    N/A             N/A\n",
      "                                                                                                                                                                                                                                                                                                                          https://jobinja.ir/jobs?filters%5Blocations%5D%5B%5D=%D8%AA%D9%87%D8%B1%D8%A7%D9%86   آگهی استخدام امروز تهران | کاریابی تهران | استخدام تهران\\n | جابینجاامکان جدید:همین حالا رزومه خود را در کمتر از ۱۰ دقیقه بسازید،برو به رزومه‌سازJobinja | جابینجا | استخدام، آگهی استخدام، کاریابی، استخدامی جدید، بازار کار، نیازمندیها، ساخت رزومه رایگان، کار و استخدام دولتی، اشتغال، جستجوگر حرفه ای استخدام و شغلخانهجستجوی مشاغلرزومه‌ساز۵۰ شرکت برتربخش کارفرمایانورود کارجوثبت‌نام کارجوورود کارجوثبت‌نام کارجو۱جابینجا چطور به استخدام شدن من کمک می‌کند؟مشاهدهمشاهده بیشترجستجودرخواست‌های مننشان‌شده‌هاآگهی‌های پیشنهادیاز آگهی‌های جدید باخبر شوبهترین فرصت های شغلی در جابینجاهمه‌ی استان‌هاتهرانخراسان رضویاصفهانالبرزفارسقمآذربایجان شرقیمازندرانگیلانخوزستانکرمانیزدقزوینمرکزیهرمزگانگلستانزنجانآذربایجان غربیبوشهرسیستان و بلوچستانسمنانکرمانشاههمداناردبیللرستانکردستانخراسان شمالیخراسان جنوبیچهارمحال بختیاریایلامکهکیلویه و بویراحمدهمه‌ی دسته‌بندی‌هافروش و بازاریابیوب،‌ برنامه‌نویسی و نرم‌افزارمالی و حسابداریمسئول دفتر، اجرائی و اداریتولید و مدیریت محتوادیجیتال مارکتینگپشتیبانی و امور مشتریانطراحیIT / D       N/A      N/A          N/A          N/A           N/A             N/A        N/A    N/A             N/A\n",
      "                                                                                                                                                                                                                                                                                                                    https://jobinja.ir/jobs?filters%5Bkeywords%5D%5B0%5D=%D9%BE%D8%A7%DB%8C%D8%AA%D9%88%D9%86   فرصت های شغلی پایتون\\n | جابینجاامکان جدید:همین حالا رزومه خود را در کمتر از ۱۰ دقیقه بسازید،برو به رزومه‌سازJobinja | جابینجا | استخدام، آگهی استخدام، کاریابی، استخدامی جدید، بازار کار، نیازمندیها، ساخت رزومه رایگان، کار و استخدام دولتی، اشتغال، جستجوگر حرفه ای استخدام و شغلخانهجستجوی مشاغلرزومه‌ساز۵۰ شرکت برتربخش کارفرمایانورود کارجوثبت‌نام کارجوورود کارجوثبت‌نام کارجو۱جابینجا چطور به استخدام شدن من کمک می‌کند؟مشاهدهمشاهده بیشترجستجودرخواست‌های مننشان‌شده‌هاآگهی‌های پیشنهادیاز آگهی‌های جدید باخبر شوبهترین فرصت های شغلی در جابینجاهمه‌ی استان‌هاتهرانخراسان رضویاصفهانالبرزفارسقمآذربایجان شرقیمازندرانگیلانخوزستانکرمانیزدقزوینمرکزیهرمزگانگلستانزنجانآذربایجان غربیبوشهرسیستان و بلوچستانسمنانکرمانشاههمداناردبیللرستانکردستانخراسان شمالیخراسان جنوبیچهارمحال بختیاریایلامکهکیلویه و بویراحمدهمه‌ی دسته‌بندی‌هافروش و بازاریابیوب،‌ برنامه‌نویسی و نرم‌افزارمالی و حسابداریمسئول دفتر، اجرائی و اداریتولید و مدیریت محتوادیجیتال مارکتینگپشتیبانی و امور مشتریانطراحیIT / DevOps / Serverمهندسی صنایع و مدیریت        N/A      N/A          N/A          N/A           N/A             N/A        N/A    N/A             N/A\n",
      "                                                                                                                                                                                                                                                                                                                                                           https://jobinja.ir/companies/arta-vision-raha/jobs    فرصت‌های شغلی فعال در آرتا ویژن رها  | Arta Vision Raha | جابینجاامکان جدید:همین حالا رزومه خود را در کمتر از ۱۰ دقیقه بسازید،برو به رزومه‌سازJobinja | جابینجا | استخدام، آگهی استخدام، کاریابی، استخدامی جدید، بازار کار، نیازمندیها، ساخت رزومه رایگان، کار و استخدام دولتی، اشتغال، جستجوگر حرفه ای استخدام و شغلخانهجستجوی مشاغلرزومه‌ساز۵۰ شرکت برتربخش کارفرمایانورود کارجوثبت‌نام کارجوورود کارجوثبت‌نام کارجو۱جابینجا چطور به استخدام شدن من کمک می‌کند؟مشاهدهمشاهده بیشترآرتا ویژن رها|Arta Vision Rahaکامپیوتر، فناوری اطلاعات و اینترنت۱۱ تا ۵۰ نفرwww.rahaco.netفرصت‌های شغلی۱معرفی آرتا ویژن رهامعرفی شرکت:شرکت دانش بنیان رهاکو، یک شرکت پیشرو و برجسته در حوزه فناوری اطلاعات و ارتباطات است که از سال 1394 فعالیت خود را آغاز کرده و با استفاده از نیروهای جوان، مستعد و پرانرژی، به ارائه راهکارها، محصولات و خدمات با محوریت امنیت، نظارت و مدیریت بر شبکه می‌پردازد.شرکت دانش بنیان رهاکو در زمینه‌های مختلفی از جمله امنیت اطلاعات، تجهیزات شبکه، نرم‌افزارهای مدیریت شبکه و زیرساخت‌های فناوری اطلاعات فعالیت دارد       N/A      N/A          N/A          N/A           N/A             N/A        N/A    N/A             N/A\n",
      "                                                                                                                                                                                                                                                                                                                                                                          https://jobinja.ir/companies/admoon    استخدام در شرکت ادمون، آگهی های استخدام Admoon | جابینجاامکان جدید:همین حالا رزومه خود را در کمتر از ۱۰ دقیقه بسازید،برو به رزومه‌سازJobinja | جابینجا | استخدام، آگهی استخدام، کاریابی، استخدامی جدید، بازار کار، نیازمندیها، ساخت رزومه رایگان، کار و استخدام دولتی، اشتغال، جستجوگر حرفه ای استخدام و شغلخانهجستجوی مشاغلرزومه‌ساز۵۰ شرکت برتربخش کارفرمایانورود کارجوثبت‌نام کارجوورود کارجوثبت‌نام کارجو۱جابینجا چطور به استخدام شدن من کمک می‌کند؟مشاهدهمشاهده بیشترادمون|Admoonتاسیس در  ۱۳۹۷تبلیغات، بازاریابی و برندسازی۱۱ تا ۵۰ نفرadmoon.net/?job=trueدر یک نگاهمعرفیفرصت‌های شغلی۹ادمون به عنوان تیمی متخصص در حوزه بازاریابی دیجیتال با تمرکز ویژه بر گوگل ادز شناخته میشود.موقعیت مکانیتهران، تهراناعضای شرکتعلی حاجی زادهمدیرعاملامکان راهبر بودن و عملکرد موثر راهبری، مهمترین چالشی است که در ادمون تجربه می‌شود. ما متعهد به کارایی و کارآمدی در فضای کسب و کار هستیم و قول‌مان این است که با روراستی برای عامل بودنی در تمامیت باشیم.رضا مهرنیامدیرمحصولخودم یک محصول از محیط کاری پویا و خلاق ادمونم و مسیر شغلی من        N/A      N/A          N/A          N/A           N/A             N/A        N/A    N/A             N/A\n",
      "                                                                                                                                                                                                     https://jobinja.ir/jobs?filters%5Bjob_categories%5D%5B%5D=%D9%85%D9%87%D9%86%D8%AF%D8%B3%DB%8C+%D8%B5%D9%86%D8%A7%DB%8C%D8%B9+%D9%88+%D9%85%D8%AF%DB%8C%D8%B1%DB%8C%D8%AA+%D8%B5%D9%86%D8%B9%D8%AA%DB%8C   استخدام مهندس صنايع و مدیریت صنعتی\\n | جابینجاامکان جدید:همین حالا رزومه خود را در کمتر از ۱۰ دقیقه بسازید،برو به رزومه‌سازJobinja | جابینجا | استخدام، آگهی استخدام، کاریابی، استخدامی جدید، بازار کار، نیازمندیها، ساخت رزومه رایگان، کار و استخدام دولتی، اشتغال، جستجوگر حرفه ای استخدام و شغلخانهجستجوی مشاغلرزومه‌ساز۵۰ شرکت برتربخش کارفرمایانورود کارجوثبت‌نام کارجوورود کارجوثبت‌نام کارجو۱جابینجا چطور به استخدام شدن من کمک می‌کند؟مشاهدهمشاهده بیشترجستجودرخواست‌های مننشان‌شده‌هاآگهی‌های پیشنهادیاز آگهی‌های جدید باخبر شوبهترین فرصت های شغلی در جابینجاهمه‌ی استان‌هاتهرانخراسان رضویاصفهانالبرزفارسقمآذربایجان شرقیمازندرانگیلانخوزستانکرمانیزدقزوینمرکزیهرمزگانگلستانزنجانآذربایجان غربیبوشهرسیستان و بلوچستانسمنانکرمانشاههمداناردبیللرستانکردستانخراسان شمالیخراسان جنوبیچهارمحال بختیاریایلامکهکیلویه و بویراحمدهمه‌ی دسته‌بندی‌هامهندسی صنایع و مدیریت صنعتیفروش و بازاریابیوب،‌ برنامه‌نویسی و نرم‌افزارمالی و حسابداریمسئول دفتر، اجرائی و اداریتولید و مدیریت محتوادیجیتال مارکتینگپشتیبانی و امور مشتریانطراحیI       N/A      N/A          N/A          N/A           N/A             N/A        N/A    N/A             N/A\n",
      "                                                                                                                                                                                                                                                                                                        https://jobinja.ir/jobs?filters%5Bkeywords%5D%5B0%5D=%D8%AD%D8%B3%D8%A7%D8%A8%D8%AF%D8%A7%D8%B1%DB%8C   فرصت های شغلی حسابداری\\n | جابینجاامکان جدید:همین حالا رزومه خود را در کمتر از ۱۰ دقیقه بسازید،برو به رزومه‌سازJobinja | جابینجا | استخدام، آگهی استخدام، کاریابی، استخدامی جدید، بازار کار، نیازمندیها، ساخت رزومه رایگان، کار و استخدام دولتی، اشتغال، جستجوگر حرفه ای استخدام و شغلخانهجستجوی مشاغلرزومه‌ساز۵۰ شرکت برتربخش کارفرمایانورود کارجوثبت‌نام کارجوورود کارجوثبت‌نام کارجو۱جابینجا چطور به استخدام شدن من کمک می‌کند؟مشاهدهمشاهده بیشترجستجودرخواست‌های مننشان‌شده‌هاآگهی‌های پیشنهادیاز آگهی‌های جدید باخبر شوبهترین فرصت های شغلی در جابینجاهمه‌ی استان‌هاتهرانخراسان رضویاصفهانالبرزفارسقمآذربایجان شرقیمازندرانگیلانخوزستانکرمانیزدقزوینمرکزیهرمزگانگلستانزنجانآذربایجان غربیبوشهرسیستان و بلوچستانسمنانکرمانشاههمداناردبیللرستانکردستانخراسان شمالیخراسان جنوبیچهارمحال بختیاریایلامکهکیلویه و بویراحمدهمه‌ی دسته‌بندی‌هافروش و بازاریابیوب،‌ برنامه‌نویسی و نرم‌افزارمالی و حسابداریمسئول دفتر، اجرائی و اداریتولید و مدیریت محتوادیجیتال مارکتینگپشتیبانی و امور مشتریانطراحیIT / DevOps / Serverمهندسی صنایع و مدیری       N/A      N/A          N/A          N/A           N/A             N/A        N/A    N/A             N/A\n",
      "                                                                                                                                                                                                                                                                                                                                                https://jobinja.ir/jobs?filters%5Bjob_categories%5D%5B%5D=CEO   استخدام مدیر عامل | استخدام CEO | استخدام مدیر کارخانه\\n | جابینجاامکان جدید:همین حالا رزومه خود را در کمتر از ۱۰ دقیقه بسازید،برو به رزومه‌سازJobinja | جابینجا | استخدام، آگهی استخدام، کاریابی، استخدامی جدید، بازار کار، نیازمندیها، ساخت رزومه رایگان، کار و استخدام دولتی، اشتغال، جستجوگر حرفه ای استخدام و شغلخانهجستجوی مشاغلرزومه‌ساز۵۰ شرکت برتربخش کارفرمایانورود کارجوثبت‌نام کارجوورود کارجوثبت‌نام کارجو۱جابینجا چطور به استخدام شدن من کمک می‌کند؟مشاهدهمشاهده بیشترجستجودرخواست‌های مننشان‌شده‌هاآگهی‌های پیشنهادیاز آگهی‌های جدید باخبر شوبهترین فرصت های شغلی در جابینجاهمه‌ی استان‌هاتهرانخراسان رضویاصفهانالبرزفارسقمآذربایجان شرقیمازندرانگیلانخوزستانکرمانیزدقزوینمرکزیهرمزگانگلستانزنجانآذربایجان غربیبوشهرسیستان و بلوچستانسمنانکرمانشاههمداناردبیللرستانکردستانخراسان شمالیخراسان جنوبیچهارمحال بختیاریایلامکهکیلویه و بویراحمدهمه‌ی دسته‌بندی‌هاCEOفروش و بازاریابیوب،‌ برنامه‌نویسی و نرم‌افزارمالی و حسابداریمسئول دفتر، اجرائی و اداریتولید و مدیریت محتوادیجیتال مارکتینگپشتیبانی و امور مشتریانطراحیIT /        N/A      N/A          N/A          N/A           N/A             N/A        N/A    N/A             N/A\n",
      "                                                                                                                                                                                                                                                             https://jobinja.ir/jobs?filters%5Bkeywords%5D%5B0%5D=%D8%AF%DB%8C%D8%AC%DB%8C%D8%AA%D8%A7%D9%84+%D9%85%D8%A7%D8%B1%DA%A9%D8%AA%DB%8C%D9%86%DA%AF   فرصت های شغلی دیجیتال مارکتینگ\\n | جابینجاامکان جدید:همین حالا رزومه خود را در کمتر از ۱۰ دقیقه بسازید،برو به رزومه‌سازJobinja | جابینجا | استخدام، آگهی استخدام، کاریابی، استخدامی جدید، بازار کار، نیازمندیها، ساخت رزومه رایگان، کار و استخدام دولتی، اشتغال، جستجوگر حرفه ای استخدام و شغلخانهجستجوی مشاغلرزومه‌ساز۵۰ شرکت برتربخش کارفرمایانورود کارجوثبت‌نام کارجوورود کارجوثبت‌نام کارجو۱جابینجا چطور به استخدام شدن من کمک می‌کند؟مشاهدهمشاهده بیشترجستجودرخواست‌های مننشان‌شده‌هاآگهی‌های پیشنهادیاز آگهی‌های جدید باخبر شوبهترین فرصت های شغلی در جابینجاهمه‌ی استان‌هاتهرانخراسان رضویاصفهانالبرزفارسقمآذربایجان شرقیمازندرانگیلانخوزستانکرمانیزدقزوینمرکزیهرمزگانگلستانزنجانآذربایجان غربیبوشهرسیستان و بلوچستانسمنانکرمانشاههمداناردبیللرستانکردستانخراسان شمالیخراسان جنوبیچهارمحال بختیاریایلامکهکیلویه و بویراحمدهمه‌ی دسته‌بندی‌هافروش و بازاریابیوب،‌ برنامه‌نویسی و نرم‌افزارمالی و حسابداریمسئول دفتر، اجرائی و اداریتولید و مدیریت محتوادیجیتال مارکتینگپشتیبانی و امور مشتریانطراحیIT / DevOps / Serverمهندسی صنایع       N/A      N/A          N/A          N/A           N/A             N/A        N/A    N/A             N/A\n",
      "                                                                                                                                                                                                                                                                                                                                                                    https://jobinja.ir/companies/drsaina/jobs    فرصت‌های شغلی فعال در دکتر ساینا | Dr Saina | جابینجاامکان جدید:همین حالا رزومه خود را در کمتر از ۱۰ دقیقه بسازید،برو به رزومه‌سازJobinja | جابینجا | استخدام، آگهی استخدام، کاریابی، استخدامی جدید، بازار کار، نیازمندیها، ساخت رزومه رایگان، کار و استخدام دولتی، اشتغال، جستجوگر حرفه ای استخدام و شغلخانهجستجوی مشاغلرزومه‌ساز۵۰ شرکت برتربخش کارفرمایانورود کارجوثبت‌نام کارجوورود کارجوثبت‌نام کارجو۱جابینجا چطور به استخدام شدن من کمک می‌کند؟مشاهدهمشاهده بیشتردکتر ساینا|Dr Sainaتاسیس در  ۱۳۹۵خدمات درمانی، پزشکی و سلامت۵۱ تا ۲۰۰ نفرdrsaina.comدر یک نگاهمعرفیفرصت‌های شغلی۱۲معرفی دکتر ساینادکترساینا محصول شرکت دانش بنیان صنعتی نوین فناوران همراه ساینا ستچشم انداز دکترساینا کمک به بشریت برای داشتن زندگی سالم،شاد و طولانی است.هرروزه میلیون‌ها نفر در جهان برای دستیابی به خدمات پزشکی مناسب درحال چالش و تلاش هستند و دکترساینا به دنبال تغییر این مسیر استدکتر ساینا تلاش دارد تا نعمت سلامتی که از مهمترین نعمات است را از طریق افزایش آگاهی‌های بهداشتی و سلامتی در میان انسان‌ها گسترش دهد.دکترساینا اعتقاد دار       N/A      N/A          N/A          N/A           N/A             N/A        N/A    N/A             N/A\n",
      "                                                                                                                                                                                                                                                                         https://jobinja.ir/jobs?filters%5Blocations%5D%5B%5D=%D8%A2%D8%B0%D8%B1%D8%A8%D8%A7%DB%8C%D8%AC%D8%A7%D9%86+%D8%BA%D8%B1%D8%A8%DB%8C   آگهی استخدام آذربایجان غربی | استخدام آذربایجان غربی | کاریابی آذربایجان غربی | جابینجا\\n | جابینجاامکان جدید:همین حالا رزومه خود را در کمتر از ۱۰ دقیقه بسازید،برو به رزومه‌سازJobinja | جابینجا | استخدام، آگهی استخدام، کاریابی، استخدامی جدید، بازار کار، نیازمندیها، ساخت رزومه رایگان، کار و استخدام دولتی، اشتغال، جستجوگر حرفه ای استخدام و شغلخانهجستجوی مشاغلرزومه‌ساز۵۰ شرکت برتربخش کارفرمایانورود کارجوثبت‌نام کارجوورود کارجوثبت‌نام کارجو۱جابینجا چطور به استخدام شدن من کمک می‌کند؟مشاهدهمشاهده بیشترجستجودرخواست‌های مننشان‌شده‌هاآگهی‌های پیشنهادیاز آگهی‌های جدید باخبر شوبهترین فرصت های شغلی در جابینجاهمه‌ی استان‌هاآذربایجان غربیتهرانخراسان رضویاصفهانالبرزفارسقمآذربایجان شرقیمازندرانگیلانخوزستانکرمانیزدقزوینمرکزیهرمزگانگلستانزنجانبوشهرسیستان و بلوچستانسمنانکرمانشاههمداناردبیللرستانکردستانخراسان شمالیخراسان جنوبیچهارمحال بختیاریایلامکهکیلویه و بویراحمدهمه‌ی دسته‌بندی‌هافروش و بازاریابیوب،‌ برنامه‌نویسی و نرم‌افزارمالی و حسابداریمسئول دفتر، اجرائی و اداریتولید و مدیریت محتوادیجیتال مارکتینگپشت       N/A      N/A          N/A          N/A           N/A             N/A        N/A    N/A             N/A\n",
      "                                                                                                                                                                                                                                                                                                                                https://jobinja.ir/jobs?filters%5Bkeywords%5D%5B0%5D=%D8%AA%D9%BE%D8%B3%DB%8C   فرصت های شغلی تپسی\\n | جابینجاامکان جدید:همین حالا رزومه خود را در کمتر از ۱۰ دقیقه بسازید،برو به رزومه‌سازJobinja | جابینجا | استخدام، آگهی استخدام، کاریابی، استخدامی جدید، بازار کار، نیازمندیها، ساخت رزومه رایگان، کار و استخدام دولتی، اشتغال، جستجوگر حرفه ای استخدام و شغلخانهجستجوی مشاغلرزومه‌ساز۵۰ شرکت برتربخش کارفرمایانورود کارجوثبت‌نام کارجوورود کارجوثبت‌نام کارجو۱جابینجا چطور به استخدام شدن من کمک می‌کند؟مشاهدهمشاهده بیشترجستجودرخواست‌های مننشان‌شده‌هاآگهی‌های پیشنهادیاز آگهی‌های جدید باخبر شوبهترین فرصت های شغلی در جابینجاهمه‌ی استان‌هاتهرانخراسان رضویاصفهانالبرزفارسقمآذربایجان شرقیمازندرانگیلانخوزستانکرمانیزدقزوینمرکزیهرمزگانگلستانزنجانآذربایجان غربیبوشهرسیستان و بلوچستانسمنانکرمانشاههمداناردبیللرستانکردستانخراسان شمالیخراسان جنوبیچهارمحال بختیاریایلامکهکیلویه و بویراحمدهمه‌ی دسته‌بندی‌هافروش و بازاریابیوب،‌ برنامه‌نویسی و نرم‌افزارمالی و حسابداریمسئول دفتر، اجرائی و اداریتولید و مدیریت محتوادیجیتال مارکتینگپشتیبانی و امور مشتریانطراحیIT / DevOps / Serverمهندسی صنایع و مدیریت صن       N/A      N/A          N/A          N/A           N/A             N/A        N/A    N/A             N/A\n",
      "                                                                                                                                                                                                                                                                                                                                https://jobinja.ir/jobs?filters%5Blocations%5D%5B%5D=%D9%81%D8%A7%D8%B1%D8%B3   آگهی استخدام فارس | استخدام فارس | کاریابی فارس\\n | جابینجاامکان جدید:همین حالا رزومه خود را در کمتر از ۱۰ دقیقه بسازید،برو به رزومه‌سازJobinja | جابینجا | استخدام، آگهی استخدام، کاریابی، استخدامی جدید، بازار کار، نیازمندیها، ساخت رزومه رایگان، کار و استخدام دولتی، اشتغال، جستجوگر حرفه ای استخدام و شغلخانهجستجوی مشاغلرزومه‌ساز۵۰ شرکت برتربخش کارفرمایانورود کارجوثبت‌نام کارجوورود کارجوثبت‌نام کارجو۱جابینجا چطور به استخدام شدن من کمک می‌کند؟مشاهدهمشاهده بیشترجستجودرخواست‌های مننشان‌شده‌هاآگهی‌های پیشنهادیاز آگهی‌های جدید باخبر شوبهترین فرصت های شغلی در جابینجاهمه‌ی استان‌هافارستهرانخراسان رضویاصفهانالبرزقمآذربایجان شرقیمازندرانگیلانخوزستانکرمانیزدقزوینمرکزیهرمزگانگلستانزنجانآذربایجان غربیبوشهرسیستان و بلوچستانسمنانکرمانشاههمداناردبیللرستانکردستانخراسان شمالیخراسان جنوبیچهارمحال بختیاریایلامکهکیلویه و بویراحمدهمه‌ی دسته‌بندی‌هافروش و بازاریابیوب،‌ برنامه‌نویسی و نرم‌افزارمالی و حسابداریمسئول دفتر، اجرائی و اداریتولید و مدیریت محتوادیجیتال مارکتینگپشتیبانی و امور مشتریانطراحیIT / DevOps / S       N/A      N/A          N/A          N/A           N/A             N/A        N/A    N/A             N/A\n",
      "                                                                                                                                                                                                                                                                                           https://jobinja.ir/jobs?filters%5Bkeywords%5D%5B0%5D=%D8%B7%D8%B1%D8%A7%D8%AD+%DA%AF%D8%B1%D8%A7%D9%81%DB%8C%DA%A9   فرصت های شغلی طراح گرافیک\\n | جابینجاامکان جدید:همین حالا رزومه خود را در کمتر از ۱۰ دقیقه بسازید،برو به رزومه‌سازJobinja | جابینجا | استخدام، آگهی استخدام، کاریابی، استخدامی جدید، بازار کار، نیازمندیها، ساخت رزومه رایگان، کار و استخدام دولتی، اشتغال، جستجوگر حرفه ای استخدام و شغلخانهجستجوی مشاغلرزومه‌ساز۵۰ شرکت برتربخش کارفرمایانورود کارجوثبت‌نام کارجوورود کارجوثبت‌نام کارجو۱جابینجا چطور به استخدام شدن من کمک می‌کند؟مشاهدهمشاهده بیشترجستجودرخواست‌های مننشان‌شده‌هاآگهی‌های پیشنهادیاز آگهی‌های جدید باخبر شوبهترین فرصت های شغلی در جابینجاهمه‌ی استان‌هاتهرانخراسان رضویاصفهانالبرزفارسقمآذربایجان شرقیمازندرانگیلانخوزستانکرمانیزدقزوینمرکزیهرمزگانگلستانزنجانآذربایجان غربیبوشهرسیستان و بلوچستانسمنانکرمانشاههمداناردبیللرستانکردستانخراسان شمالیخراسان جنوبیچهارمحال بختیاریایلامکهکیلویه و بویراحمدهمه‌ی دسته‌بندی‌هافروش و بازاریابیوب،‌ برنامه‌نویسی و نرم‌افزارمالی و حسابداریمسئول دفتر، اجرائی و اداریتولید و مدیریت محتوادیجیتال مارکتینگپشتیبانی و امور مشتریانطراحیIT / DevOps / Serverمهندسی صنایع و مد       N/A      N/A          N/A          N/A           N/A             N/A        N/A    N/A             N/A\n",
      "                                                                                                                                                                                                                                                                                                                                                                       https://jobinja.ir/companies/pezeshk24    استخدام در شرکت پزشک24، آگهی های استخدام Pezeshk24 | جابینجاامکان جدید:همین حالا رزومه خود را در کمتر از ۱۰ دقیقه بسازید،برو به رزومه‌سازJobinja | جابینجا | استخدام، آگهی استخدام، کاریابی، استخدامی جدید، بازار کار، نیازمندیها، ساخت رزومه رایگان، کار و استخدام دولتی، اشتغال، جستجوگر حرفه ای استخدام و شغلخانهجستجوی مشاغلرزومه‌ساز۵۰ شرکت برتربخش کارفرمایانورود کارجوثبت‌نام کارجوورود کارجوثبت‌نام کارجو۱جابینجا چطور به استخدام شدن من کمک می‌کند؟مشاهدهمشاهده بیشترپزشک24|Pezeshk24تاسیس در  ۱۳۹۷خدمات درمانی، پزشکی و سلامت۱۱ تا ۵۰ نفرpezeshk24.com/در یک نگاهمعرفیفرصت‌های شغلی۲سال 1397 پزشک 24 رو با هدف معرفی بهترین پزشکان زیبایی به زیباجویان شهرهای مختلف ایران راه اندازی کردیم.موقعیت مکانیخراسان رضوی، مشهداعضای شرکتامیرحسین ارجمندمدیر واحد دیجیتال مارکتینگپزشک 24 فرصت رشد، پیشرفت و یادگیری رو در اختیار همه اعضای تیمش قرار میده. اگر قصد کار کردن در محیطی پویا، دوستانه و امن رو دارین، به تیم ما بپیوندین.میلاد رحیمی رادمدیر فروش و بازاریابیسرمایه پزشک 24 پرسنل بی‌نظیرش هستنتو هم میتونی تو جمع بی‌ن       N/A      N/A          N/A          N/A           N/A             N/A        N/A    N/A             N/A\n",
      "                                                                                                                                                                                                                                                                                                                                                                   https://jobinja.ir/companies/snapp-group-1    استخدام در شرکت گروه اسنپ، آگهی های استخدام Snapp Group | جابینجاامکان جدید:همین حالا رزومه خود را در کمتر از ۱۰ دقیقه بسازید،برو به رزومه‌سازJobinja | جابینجا | استخدام، آگهی استخدام، کاریابی، استخدامی جدید، بازار کار، نیازمندیها، ساخت رزومه رایگان، کار و استخدام دولتی، اشتغال، جستجوگر حرفه ای استخدام و شغلخانهجستجوی مشاغلرزومه‌ساز۵۰ شرکت برتربخش کارفرمایانورود کارجوثبت‌نام کارجوورود کارجوثبت‌نام کارجو۱جابینجا چطور به استخدام شدن من کمک می‌کند؟مشاهدهمشاهده بیشترگروه اسنپ|Snapp Groupتاسیس در  ۲۰۱۳کامپیوتر، فناوری اطلاعات و اینترنتبیش از ۱۰۰۰ نفردر یک نگاهمعرفیفرصت‌های شغلی۴۳گروه اسنپ رو با برندهای آشنای اسنپ، اسنپ فود، اسنپ باکس، اسنپ گروسری، اسنپ تریپ، اسنپ استور، اسنپ ساپلای، اسنپ دکتر، اسنپ کیچن و اسنپ پی و اسنپ شاپ می‌شناسیم.موقعیت مکانیتهران، تهراناعضای شرکتمرضیه رحیمیHR Managerهدف ما در گروه اسنپ به کارگیری ظرفیت‌های دانشی در جهت بهینه‌سازی تلاش‌هاست و این امر رو با تاکید بر ایجاد فضایی باز برای خلق و اجرای ایده‌ها تحقق می‌بخشیم. به نظر من گروه اسنپ میتونه برای شما، همون فضای اید       N/A      N/A          N/A          N/A           N/A             N/A        N/A    N/A             N/A\n",
      "                                                                                                                                                                                                                                                                                                       https://jobinja.ir/jobs?filters%5Bkeywords%5D%5B0%5D=%D9%81%D8%B1%D8%A7%D9%86%D8%AA+%D8%A7%D9%86%D8%AF   فرصت های شغلی فرانت اند\\n | جابینجاامکان جدید:همین حالا رزومه خود را در کمتر از ۱۰ دقیقه بسازید،برو به رزومه‌سازJobinja | جابینجا | استخدام، آگهی استخدام، کاریابی، استخدامی جدید، بازار کار، نیازمندیها، ساخت رزومه رایگان، کار و استخدام دولتی، اشتغال، جستجوگر حرفه ای استخدام و شغلخانهجستجوی مشاغلرزومه‌ساز۵۰ شرکت برتربخش کارفرمایانورود کارجوثبت‌نام کارجوورود کارجوثبت‌نام کارجو۱جابینجا چطور به استخدام شدن من کمک می‌کند؟مشاهدهمشاهده بیشترجستجودرخواست‌های مننشان‌شده‌هاآگهی‌های پیشنهادیاز آگهی‌های جدید باخبر شوبهترین فرصت های شغلی در جابینجاهمه‌ی استان‌هاتهرانخراسان رضویاصفهانالبرزفارسقمآذربایجان شرقیمازندرانگیلانخوزستانکرمانیزدقزوینمرکزیهرمزگانگلستانزنجانآذربایجان غربیبوشهرسیستان و بلوچستانسمنانکرمانشاههمداناردبیللرستانکردستانخراسان شمالیخراسان جنوبیچهارمحال بختیاریایلامکهکیلویه و بویراحمدهمه‌ی دسته‌بندی‌هافروش و بازاریابیوب،‌ برنامه‌نویسی و نرم‌افزارمالی و حسابداریمسئول دفتر، اجرائی و اداریتولید و مدیریت محتوادیجیتال مارکتینگپشتیبانی و امور مشتریانطراحیIT / DevOps / Serverمهندسی صنایع و مدیر       N/A      N/A          N/A          N/A           N/A             N/A        N/A    N/A             N/A\n",
      "                                                                                                                                                                                                                                                                                                                          https://jobinja.ir/jobs?filters%5Blocations%5D%5B%5D=%D8%B3%D9%85%D9%86%D8%A7%D9%86   استخدام سمنان | کاریابی سمنان | آگهی استخدام سمنان\\n | جابینجاامکان جدید:همین حالا رزومه خود را در کمتر از ۱۰ دقیقه بسازید،برو به رزومه‌سازJobinja | جابینجا | استخدام، آگهی استخدام، کاریابی، استخدامی جدید، بازار کار، نیازمندیها، ساخت رزومه رایگان، کار و استخدام دولتی، اشتغال، جستجوگر حرفه ای استخدام و شغلخانهجستجوی مشاغلرزومه‌ساز۵۰ شرکت برتربخش کارفرمایانورود کارجوثبت‌نام کارجوورود کارجوثبت‌نام کارجو۱جابینجا چطور به استخدام شدن من کمک می‌کند؟مشاهدهمشاهده بیشترجستجودرخواست‌های مننشان‌شده‌هاآگهی‌های پیشنهادیاز آگهی‌های جدید باخبر شوبهترین فرصت های شغلی در جابینجاهمه‌ی استان‌هاسمنانتهرانخراسان رضویاصفهانالبرزفارسقمآذربایجان شرقیمازندرانگیلانخوزستانکرمانیزدقزوینمرکزیهرمزگانگلستانزنجانآذربایجان غربیبوشهرسیستان و بلوچستانکرمانشاههمداناردبیللرستانکردستانخراسان شمالیخراسان جنوبیچهارمحال بختیاریایلامکهکیلویه و بویراحمدهمه‌ی دسته‌بندی‌هافروش و بازاریابیوب،‌ برنامه‌نویسی و نرم‌افزارمالی و حسابداریمسئول دفتر، اجرائی و اداریتولید و مدیریت محتوادیجیتال مارکتینگپشتیبانی و امور مشتریانطراحیIT / DevOps        N/A      N/A          N/A          N/A           N/A             N/A        N/A    N/A             N/A\n",
      "                                                                                                                                                                                                                                                                                                             https://jobinja.ir/jobs?filters%5Bkeywords%5D%5B0%5D=%D9%BE%D8%A7%D8%B1%D9%87+%D9%88%D9%82%D8%AA   فرصت های شغلی پاره وقت\\n | جابینجاامکان جدید:همین حالا رزومه خود را در کمتر از ۱۰ دقیقه بسازید،برو به رزومه‌سازJobinja | جابینجا | استخدام، آگهی استخدام، کاریابی، استخدامی جدید، بازار کار، نیازمندیها، ساخت رزومه رایگان، کار و استخدام دولتی، اشتغال، جستجوگر حرفه ای استخدام و شغلخانهجستجوی مشاغلرزومه‌ساز۵۰ شرکت برتربخش کارفرمایانورود کارجوثبت‌نام کارجوورود کارجوثبت‌نام کارجو۱جابینجا چطور به استخدام شدن من کمک می‌کند؟مشاهدهمشاهده بیشترجستجودرخواست‌های مننشان‌شده‌هاآگهی‌های پیشنهادیاز آگهی‌های جدید باخبر شوبهترین فرصت های شغلی در جابینجاهمه‌ی استان‌هاتهرانخراسان رضویاصفهانالبرزفارسقمآذربایجان شرقیمازندرانگیلانخوزستانکرمانیزدقزوینمرکزیهرمزگانگلستانزنجانآذربایجان غربیبوشهرسیستان و بلوچستانسمنانکرمانشاههمداناردبیللرستانکردستانخراسان شمالیخراسان جنوبیچهارمحال بختیاریایلامکهکیلویه و بویراحمدهمه‌ی دسته‌بندی‌هافروش و بازاریابیوب،‌ برنامه‌نویسی و نرم‌افزارمالی و حسابداریمسئول دفتر، اجرائی و اداریتولید و مدیریت محتوادیجیتال مارکتینگپشتیبانی و امور مشتریانطراحیIT / DevOps / Serverمهندسی صنایع و مدیری       N/A      N/A          N/A          N/A           N/A             N/A        N/A    N/A             N/A\n",
      "                                                                                                     https://jobinja.ir/companies/ham-marketing-agency/jobs/A7bK/%D8%A7%D8%B3%D8%AA%D8%AE%D8%AF%D8%A7%D9%85-%DA%A9%D8%A7%D8%B1%D8%B4%D9%86%D8%A7%D8%B3-%D8%B4%D8%A8%DA%A9%D9%87-%D8%A7%D8%AC%D8%AA%D9%85%D8%A7%D8%B9%DB%8C-%D8%AF%D8%B1-%D8%AA%D8%A8%D9%84%DB%8C%D8%BA%D8%A7%D8%AA%DB%8C-%D9%87%D9%85?_ref=18  استخدام کارشناس شبکه اجتماعی در تبلیغاتی هم | جابینجاامکان جدید:همین حالا رزومه خود را در کمتر از ۱۰ دقیقه بسازید،برو به رزومه‌سازJobinja | جابینجا | استخدام، آگهی استخدام، کاریابی، استخدامی جدید، بازار کار، نیازمندیها، ساخت رزومه رایگان، کار و استخدام دولتی، اشتغال، جستجوگر حرفه ای استخدام و شغلخانهجستجوی مشاغلرزومه‌ساز۵۰ شرکت برتربخش کارفرمایانورود کارجوثبت‌نام کارجوورود کارجوثبت‌نام کارجو۱جابینجا چطور به استخدام شدن من کمک می‌کند؟مشاهدهمشاهده بیشترتبلیغاتی هم|Ham Marketing Agencyتبلیغات، بازاریابی و برندسازی۲ - ۱۰ نفرفرصت‌های شغلی۱استخدام کارشناس شبکه اجتماعیلطفا برای مشاهده‌ی جزییات و ارسال رزومهیکی از راه‌های زیر را انتخاب کنیدورود / ثبت‌نام با ایمیلimage/svg+xmlbtn_google_light_normal_iosbtn_google_light_normal_iosCreated with Sketch.ورود / ثبت‌نام با گوگل\\n                    (Gmail)ورود / ثبت‌نام با لینکدیناستخدام کارشناس شبکه اجتماعی{{ tooltipText }}{{ hoverTitle }}نشان کردنحذف نشاندسته‌بندی شغلیدیجیتال مارکتینگموقعیت مکانیتهران\\n                                                ،       N/A      N/A          N/A          N/A           N/A             N/A        N/A    N/A             N/A\n",
      "                                                                                                                                                                                                                                                                                     https://jobinja.ir/jobs?filters%5Blocations%5D%5B%5D=%D8%AE%D8%B1%D8%A7%D8%B3%D8%A7%D9%86+%D8%AC%D9%86%D9%88%D8%A8%DB%8C   آگهی استخدام خراسان جنوبی | استخدام خراسان جنوبی | کاریابی خراسان جنوبی\\n | جابینجاامکان جدید:همین حالا رزومه خود را در کمتر از ۱۰ دقیقه بسازید،برو به رزومه‌سازJobinja | جابینجا | استخدام، آگهی استخدام، کاریابی، استخدامی جدید، بازار کار، نیازمندیها، ساخت رزومه رایگان، کار و استخدام دولتی، اشتغال، جستجوگر حرفه ای استخدام و شغلخانهجستجوی مشاغلرزومه‌ساز۵۰ شرکت برتربخش کارفرمایانورود کارجوثبت‌نام کارجوورود کارجوثبت‌نام کارجو۱جابینجا چطور به استخدام شدن من کمک می‌کند؟مشاهدهمشاهده بیشترجستجودرخواست‌های مننشان‌شده‌هاآگهی‌های پیشنهادیاز آگهی‌های جدید باخبر شوبهترین فرصت های شغلی در جابینجاهمه‌ی استان‌هاخراسان جنوبیتهرانخراسان رضویاصفهانالبرزفارسقمآذربایجان شرقیمازندرانگیلانخوزستانکرمانیزدقزوینمرکزیهرمزگانگلستانزنجانآذربایجان غربیبوشهرسیستان و بلوچستانسمنانکرمانشاههمداناردبیللرستانکردستانخراسان شمالیچهارمحال بختیاریایلامکهکیلویه و بویراحمدهمه‌ی دسته‌بندی‌هافروش و بازاریابیوب،‌ برنامه‌نویسی و نرم‌افزارمالی و حسابداریمسئول دفتر، اجرائی و اداریتولید و مدیریت محتوادیجیتال مارکتینگپشتیبانی و امور مشت       N/A      N/A          N/A          N/A           N/A             N/A        N/A    N/A             N/A\n",
      "                                                                                                                                                                                                                                                                                                               https://jobinja.ir/jobs?filters%5Bjob_categories%5D%5B%5D=%D9%86%DA%AF%D9%87%D8%A8%D8%A7%D9%86   استخدام حراست | استخدام نگهبان\\n | جابینجاامکان جدید:همین حالا رزومه خود را در کمتر از ۱۰ دقیقه بسازید،برو به رزومه‌سازJobinja | جابینجا | استخدام، آگهی استخدام، کاریابی، استخدامی جدید، بازار کار، نیازمندیها، ساخت رزومه رایگان، کار و استخدام دولتی، اشتغال، جستجوگر حرفه ای استخدام و شغلخانهجستجوی مشاغلرزومه‌ساز۵۰ شرکت برتربخش کارفرمایانورود کارجوثبت‌نام کارجوورود کارجوثبت‌نام کارجو۱جابینجا چطور به استخدام شدن من کمک می‌کند؟مشاهدهمشاهده بیشترجستجودرخواست‌های مننشان‌شده‌هاآگهی‌های پیشنهادیاز آگهی‌های جدید باخبر شوبهترین فرصت های شغلی در جابینجاهمه‌ی استان‌هاتهرانخراسان رضویاصفهانالبرزفارسقمآذربایجان شرقیمازندرانگیلانخوزستانکرمانیزدقزوینمرکزیهرمزگانگلستانزنجانآذربایجان غربیبوشهرسیستان و بلوچستانسمنانکرمانشاههمداناردبیللرستانکردستانخراسان شمالیخراسان جنوبیچهارمحال بختیاریایلامکهکیلویه و بویراحمدهمه‌ی دسته‌بندی‌هانگهبانفروش و بازاریابیوب،‌ برنامه‌نویسی و نرم‌افزارمالی و حسابداریمسئول دفتر، اجرائی و اداریتولید و مدیریت محتوادیجیتال مارکتینگپشتیبانی و امور مشتریانطراحیIT / DevOps / Serverمهندسی       N/A      N/A          N/A          N/A           N/A             N/A        N/A    N/A             N/A\n",
      "                                                                                                                                                                                                                            https://jobinja.ir/jobs?filters%5Bjob_categories%5D%5B%5D=%DA%A9%D8%A7%D8%B1%D8%B4%D9%86%D8%A7%D8%B3+%D8%AD%D9%82%D9%88%D9%82%DB%8C%D8%8C%E2%80%8C+%D9%88%DA%A9%D8%A7%D9%84%D8%AA   استخدام وکیل | استخدام مشاور حقوقی | استخدام کارشناس حقوقی\\n | جابینجاامکان جدید:همین حالا رزومه خود را در کمتر از ۱۰ دقیقه بسازید،برو به رزومه‌سازJobinja | جابینجا | استخدام، آگهی استخدام، کاریابی، استخدامی جدید، بازار کار، نیازمندیها، ساخت رزومه رایگان، کار و استخدام دولتی، اشتغال، جستجوگر حرفه ای استخدام و شغلخانهجستجوی مشاغلرزومه‌ساز۵۰ شرکت برتربخش کارفرمایانورود کارجوثبت‌نام کارجوورود کارجوثبت‌نام کارجو۱جابینجا چطور به استخدام شدن من کمک می‌کند؟مشاهدهمشاهده بیشترجستجودرخواست‌های مننشان‌شده‌هاآگهی‌های پیشنهادیاز آگهی‌های جدید باخبر شوبهترین فرصت های شغلی در جابینجاهمه‌ی استان‌هاتهرانخراسان رضویاصفهانالبرزفارسقمآذربایجان شرقیمازندرانگیلانخوزستانکرمانیزدقزوینمرکزیهرمزگانگلستانزنجانآذربایجان غربیبوشهرسیستان و بلوچستانسمنانکرمانشاههمداناردبیللرستانکردستانخراسان شمالیخراسان جنوبیچهارمحال بختیاریایلامکهکیلویه و بویراحمدهمه‌ی دسته‌بندی‌هاکارشناس حقوقی،‌ وکالتفروش و بازاریابیوب،‌ برنامه‌نویسی و نرم‌افزارمالی و حسابداریمسئول دفتر، اجرائی و اداریتولید و مدیریت محتوادیجیتال مارکتینگپشتیبانی و        N/A      N/A          N/A          N/A           N/A             N/A        N/A    N/A             N/A\n",
      "                                                                                                                                                                                                                                                                                                                          https://jobinja.ir/jobs?filters%5Blocations%5D%5B%5D=%DA%AF%DB%8C%D9%84%D8%A7%D9%86   آگهی استخدام گیلان | استخدام گیلان | کاریابی گیلان\\n | جابینجاامکان جدید:همین حالا رزومه خود را در کمتر از ۱۰ دقیقه بسازید،برو به رزومه‌سازJobinja | جابینجا | استخدام، آگهی استخدام، کاریابی، استخدامی جدید، بازار کار، نیازمندیها، ساخت رزومه رایگان، کار و استخدام دولتی، اشتغال، جستجوگر حرفه ای استخدام و شغلخانهجستجوی مشاغلرزومه‌ساز۵۰ شرکت برتربخش کارفرمایانورود کارجوثبت‌نام کارجوورود کارجوثبت‌نام کارجو۱جابینجا چطور به استخدام شدن من کمک می‌کند؟مشاهدهمشاهده بیشترجستجودرخواست‌های مننشان‌شده‌هاآگهی‌های پیشنهادیاز آگهی‌های جدید باخبر شوبهترین فرصت های شغلی در جابینجاهمه‌ی استان‌هاگیلانتهرانخراسان رضویاصفهانالبرزفارسقمآذربایجان شرقیمازندرانخوزستانکرمانیزدقزوینمرکزیهرمزگانگلستانزنجانآذربایجان غربیبوشهرسیستان و بلوچستانسمنانکرمانشاههمداناردبیللرستانکردستانخراسان شمالیخراسان جنوبیچهارمحال بختیاریایلامکهکیلویه و بویراحمدهمه‌ی دسته‌بندی‌هافروش و بازاریابیوب،‌ برنامه‌نویسی و نرم‌افزارمالی و حسابداریمسئول دفتر، اجرائی و اداریتولید و مدیریت محتوادیجیتال مارکتینگپشتیبانی و امور مشتریانطراحیIT / DevOps        N/A      N/A          N/A          N/A           N/A             N/A        N/A    N/A             N/A\n",
      "                                                                                                                                                                                                                        https://jobinja.ir/jobs?filters%5Bjob_categories%5D%5B%5D=%D8%B9%D9%84%D9%88%D9%85+%D8%B2%DB%8C%D8%B3%D8%AA%DB%8C+%D9%88+%D8%A2%D8%B2%D9%85%D8%A7%DB%8C%D8%B4%DA%AF%D8%A7%D9%87%DB%8C   استخدام میکروبیولوژیست | استخدام علوم آزمایشگاهی | استخدام بیوتکنولوژی\\n | جابینجاامکان جدید:همین حالا رزومه خود را در کمتر از ۱۰ دقیقه بسازید،برو به رزومه‌سازJobinja | جابینجا | استخدام، آگهی استخدام، کاریابی، استخدامی جدید، بازار کار، نیازمندیها، ساخت رزومه رایگان، کار و استخدام دولتی، اشتغال، جستجوگر حرفه ای استخدام و شغلخانهجستجوی مشاغلرزومه‌ساز۵۰ شرکت برتربخش کارفرمایانورود کارجوثبت‌نام کارجوورود کارجوثبت‌نام کارجو۱جابینجا چطور به استخدام شدن من کمک می‌کند؟مشاهدهمشاهده بیشترجستجودرخواست‌های مننشان‌شده‌هاآگهی‌های پیشنهادیاز آگهی‌های جدید باخبر شوبهترین فرصت های شغلی در جابینجاهمه‌ی استان‌هاتهرانخراسان رضویاصفهانالبرزفارسقمآذربایجان شرقیمازندرانگیلانخوزستانکرمانیزدقزوینمرکزیهرمزگانگلستانزنجانآذربایجان غربیبوشهرسیستان و بلوچستانسمنانکرمانشاههمداناردبیللرستانکردستانخراسان شمالیخراسان جنوبیچهارمحال بختیاریایلامکهکیلویه و بویراحمدهمه‌ی دسته‌بندی‌هاعلوم زیستی و آزمایشگاهیفروش و بازاریابیوب،‌ برنامه‌نویسی و نرم‌افزارمالی و حسابداریمسئول دفتر، اجرائی و اداریتولید و مدیریت محتوادیجیتال مارکت       N/A      N/A          N/A          N/A           N/A             N/A        N/A    N/A             N/A\n",
      "                                                                                                                                                                                                                                                                                                                                                  https://jobinja.ir/jobs?filters%5Bkeywords%5D%5B0%5D=python   فرصت های شغلی python\\n | جابینجاامکان جدید:همین حالا رزومه خود را در کمتر از ۱۰ دقیقه بسازید،برو به رزومه‌سازJobinja | جابینجا | استخدام، آگهی استخدام، کاریابی، استخدامی جدید، بازار کار، نیازمندیها، ساخت رزومه رایگان، کار و استخدام دولتی، اشتغال، جستجوگر حرفه ای استخدام و شغلخانهجستجوی مشاغلرزومه‌ساز۵۰ شرکت برتربخش کارفرمایانورود کارجوثبت‌نام کارجوورود کارجوثبت‌نام کارجو۱جابینجا چطور به استخدام شدن من کمک می‌کند؟مشاهدهمشاهده بیشترجستجودرخواست‌های مننشان‌شده‌هاآگهی‌های پیشنهادیاز آگهی‌های جدید باخبر شوبهترین فرصت های شغلی در جابینجاهمه‌ی استان‌هاتهرانخراسان رضویاصفهانالبرزفارسقمآذربایجان شرقیمازندرانگیلانخوزستانکرمانیزدقزوینمرکزیهرمزگانگلستانزنجانآذربایجان غربیبوشهرسیستان و بلوچستانسمنانکرمانشاههمداناردبیللرستانکردستانخراسان شمالیخراسان جنوبیچهارمحال بختیاریایلامکهکیلویه و بویراحمدهمه‌ی دسته‌بندی‌هافروش و بازاریابیوب،‌ برنامه‌نویسی و نرم‌افزارمالی و حسابداریمسئول دفتر، اجرائی و اداریتولید و مدیریت محتوادیجیتال مارکتینگپشتیبانی و امور مشتریانطراحیIT / DevOps / Serverمهندسی صنایع و مدیریت        N/A      N/A          N/A          N/A           N/A             N/A        N/A    N/A             N/A\n",
      "                                                                                                                                                                                                                                                                                                         https://jobinja.ir/jobs?filters%5Bjob_categories%5D%5B%5D=%D9%87%D8%AA%D9%84%D8%AF%D8%A7%D8%B1%DB%8C   استخدام کارشناس هتلداری | آگهی استخدام هتلداری\\n | جابینجاامکان جدید:همین حالا رزومه خود را در کمتر از ۱۰ دقیقه بسازید،برو به رزومه‌سازJobinja | جابینجا | استخدام، آگهی استخدام، کاریابی، استخدامی جدید، بازار کار، نیازمندیها، ساخت رزومه رایگان، کار و استخدام دولتی، اشتغال، جستجوگر حرفه ای استخدام و شغلخانهجستجوی مشاغلرزومه‌ساز۵۰ شرکت برتربخش کارفرمایانورود کارجوثبت‌نام کارجوورود کارجوثبت‌نام کارجو۱جابینجا چطور به استخدام شدن من کمک می‌کند؟مشاهدهمشاهده بیشترجستجودرخواست‌های مننشان‌شده‌هاآگهی‌های پیشنهادیاز آگهی‌های جدید باخبر شوبهترین فرصت های شغلی در جابینجاهمه‌ی استان‌هاتهرانخراسان رضویاصفهانالبرزفارسقمآذربایجان شرقیمازندرانگیلانخوزستانکرمانیزدقزوینمرکزیهرمزگانگلستانزنجانآذربایجان غربیبوشهرسیستان و بلوچستانسمنانکرمانشاههمداناردبیللرستانکردستانخراسان شمالیخراسان جنوبیچهارمحال بختیاریایلامکهکیلویه و بویراحمدهمه‌ی دسته‌بندی‌هاهتلداریفروش و بازاریابیوب،‌ برنامه‌نویسی و نرم‌افزارمالی و حسابداریمسئول دفتر، اجرائی و اداریتولید و مدیریت محتوادیجیتال مارکتینگپشتیبانی و امور مشتریانطراحیIT / DevO       N/A      N/A          N/A          N/A           N/A             N/A        N/A    N/A             N/A\n",
      "                                                                                                                                                                                                                                                                                                                    https://jobinja.ir/jobs?filters%5Bkeywords%5D%5B0%5D=%D8%A7%D8%AF%DB%8C%D8%AA%D9%88%D8%B1   فرصت های شغلی ادیتور\\n | جابینجاامکان جدید:همین حالا رزومه خود را در کمتر از ۱۰ دقیقه بسازید،برو به رزومه‌سازJobinja | جابینجا | استخدام، آگهی استخدام، کاریابی، استخدامی جدید، بازار کار، نیازمندیها، ساخت رزومه رایگان، کار و استخدام دولتی، اشتغال، جستجوگر حرفه ای استخدام و شغلخانهجستجوی مشاغلرزومه‌ساز۵۰ شرکت برتربخش کارفرمایانورود کارجوثبت‌نام کارجوورود کارجوثبت‌نام کارجو۱جابینجا چطور به استخدام شدن من کمک می‌کند؟مشاهدهمشاهده بیشترجستجودرخواست‌های مننشان‌شده‌هاآگهی‌های پیشنهادیاز آگهی‌های جدید باخبر شوبهترین فرصت های شغلی در جابینجاهمه‌ی استان‌هاتهرانخراسان رضویاصفهانالبرزفارسقمآذربایجان شرقیمازندرانگیلانخوزستانکرمانیزدقزوینمرکزیهرمزگانگلستانزنجانآذربایجان غربیبوشهرسیستان و بلوچستانسمنانکرمانشاههمداناردبیللرستانکردستانخراسان شمالیخراسان جنوبیچهارمحال بختیاریایلامکهکیلویه و بویراحمدهمه‌ی دسته‌بندی‌هافروش و بازاریابیوب،‌ برنامه‌نویسی و نرم‌افزارمالی و حسابداریمسئول دفتر، اجرائی و اداریتولید و مدیریت محتوادیجیتال مارکتینگپشتیبانی و امور مشتریانطراحیIT / DevOps / Serverمهندسی صنایع و مدیریت        N/A      N/A          N/A          N/A           N/A             N/A        N/A    N/A             N/A\n",
      "                                                                                                                                                                                                                                                                                                 https://jobinja.ir/jobs?filters%5Bkeywords%5D%5B0%5D=%D9%87%D9%88%D8%B4+%D9%85%D8%B5%D9%86%D9%88%D8%B9%DB%8C   فرصت های شغلی هوش مصنوعی\\n | جابینجاامکان جدید:همین حالا رزومه خود را در کمتر از ۱۰ دقیقه بسازید،برو به رزومه‌سازJobinja | جابینجا | استخدام، آگهی استخدام، کاریابی، استخدامی جدید، بازار کار، نیازمندیها، ساخت رزومه رایگان، کار و استخدام دولتی، اشتغال، جستجوگر حرفه ای استخدام و شغلخانهجستجوی مشاغلرزومه‌ساز۵۰ شرکت برتربخش کارفرمایانورود کارجوثبت‌نام کارجوورود کارجوثبت‌نام کارجو۱جابینجا چطور به استخدام شدن من کمک می‌کند؟مشاهدهمشاهده بیشترجستجودرخواست‌های مننشان‌شده‌هاآگهی‌های پیشنهادیاز آگهی‌های جدید باخبر شوبهترین فرصت های شغلی در جابینجاهمه‌ی استان‌هاتهرانخراسان رضویاصفهانالبرزفارسقمآذربایجان شرقیمازندرانگیلانخوزستانکرمانیزدقزوینمرکزیهرمزگانگلستانزنجانآذربایجان غربیبوشهرسیستان و بلوچستانسمنانکرمانشاههمداناردبیللرستانکردستانخراسان شمالیخراسان جنوبیچهارمحال بختیاریایلامکهکیلویه و بویراحمدهمه‌ی دسته‌بندی‌هافروش و بازاریابیوب،‌ برنامه‌نویسی و نرم‌افزارمالی و حسابداریمسئول دفتر، اجرائی و اداریتولید و مدیریت محتوادیجیتال مارکتینگپشتیبانی و امور مشتریانطراحیIT / DevOps / Serverمهندسی صنایع و مدی       N/A      N/A          N/A          N/A           N/A             N/A        N/A    N/A             N/A\n",
      "                                                                                                                                                                                                                                                                                                         https://jobinja.ir/jobs?filters%5Bjob_categories%5D%5B%5D=%DA%AF%D8%B1%D8%AF%D8%B4%DA%AF%D8%B1%DB%8C   کارشناس امور مهاجرت | استخدام کارمند آژانس مسافرتی | کارشناس امور ویزا | جابینجا\\n | جابینجاامکان جدید:همین حالا رزومه خود را در کمتر از ۱۰ دقیقه بسازید،برو به رزومه‌سازJobinja | جابینجا | استخدام، آگهی استخدام، کاریابی، استخدامی جدید، بازار کار، نیازمندیها، ساخت رزومه رایگان، کار و استخدام دولتی، اشتغال، جستجوگر حرفه ای استخدام و شغلخانهجستجوی مشاغلرزومه‌ساز۵۰ شرکت برتربخش کارفرمایانورود کارجوثبت‌نام کارجوورود کارجوثبت‌نام کارجو۱جابینجا چطور به استخدام شدن من کمک می‌کند؟مشاهدهمشاهده بیشترجستجودرخواست‌های مننشان‌شده‌هاآگهی‌های پیشنهادیاز آگهی‌های جدید باخبر شوبهترین فرصت های شغلی در جابینجاهمه‌ی استان‌هاتهرانخراسان رضویاصفهانالبرزفارسقمآذربایجان شرقیمازندرانگیلانخوزستانکرمانیزدقزوینمرکزیهرمزگانگلستانزنجانآذربایجان غربیبوشهرسیستان و بلوچستانسمنانکرمانشاههمداناردبیللرستانکردستانخراسان شمالیخراسان جنوبیچهارمحال بختیاریایلامکهکیلویه و بویراحمدهمه‌ی دسته‌بندی‌هاگردشگریفروش و بازاریابیوب،‌ برنامه‌نویسی و نرم‌افزارمالی و حسابداریمسئول دفتر، اجرائی و اداریتولید و مدیریت محتوادیجیتال مارکتینگپشت       N/A      N/A          N/A          N/A           N/A             N/A        N/A    N/A             N/A\n",
      "                                                                                                       https://jobinja.ir/companies/ghadir-design--processing-co/jobs/A7bC/%D8%A7%D8%B3%D8%AA%D8%AE%D8%AF%D8%A7%D9%85-%D8%A8%D8%B1%D9%86%D8%A7%D9%85%D9%87-%D9%86%D9%88%DB%8C%D8%B3-asp-net-core-%D8%AF%D8%B1-%D8%B7%D8%B1%D8%AD-%D9%88-%D9%BE%D8%B1%D8%AF%D8%A7%D8%B2%D8%B4-%D8%BA%D8%AF%DB%8C%D8%B1?_ref=18   استخدام برنامه‌نویس Asp.net Core در طرح و پردازش غدیر | جابینجاامکان جدید:همین حالا رزومه خود را در کمتر از ۱۰ دقیقه بسازید،برو به رزومه‌سازJobinja | جابینجا | استخدام، آگهی استخدام، کاریابی، استخدامی جدید، بازار کار، نیازمندیها، ساخت رزومه رایگان، کار و استخدام دولتی، اشتغال، جستجوگر حرفه ای استخدام و شغلخانهجستجوی مشاغلرزومه‌ساز۵۰ شرکت برتربخش کارفرمایانورود کارجوثبت‌نام کارجوورود کارجوثبت‌نام کارجو۱جابینجا چطور به استخدام شدن من کمک می‌کند؟مشاهدهمشاهده بیشترطرح و پردازش غدیر|Ghadir Design & Processing Coکامپیوتر، فناوری اطلاعات و اینترنت۵۱ تا ۲۰۰ نفرwww.Ghadir.coفرصت‌های شغلی۹استخدام برنامه‌نویس Asp.net Coreلطفا برای مشاهده‌ی جزییات و ارسال رزومهیکی از راه‌های زیر را انتخاب کنیدورود / ثبت‌نام با ایمیلimage/svg+xmlbtn_google_light_normal_iosbtn_google_light_normal_iosCreated with Sketch.ورود / ثبت‌نام با گوگل\\n                    (Gmail)ورود / ثبت‌نام با لینکدیناستخدام برنامه‌نویس Asp.net Core{{ tooltipText }}{{ hoverTitle }}نشان کردنحذف نشاندسته‌بندی شغلیوب،‌ برنامه‌نویسی و نرم‌افزار       N/A      N/A          N/A          N/A           N/A             N/A        N/A    N/A             N/A\n",
      "                                                                                                                                                                                                                                                                                                                                                                 https://jobinja.ir/companies/hamrah-mechanic    استخدام در شرکت همراه مکانیک، آگهی های استخدام Hamrah Mechanic | جابینجاامکان جدید:همین حالا رزومه خود را در کمتر از ۱۰ دقیقه بسازید،برو به رزومه‌سازJobinja | جابینجا | استخدام، آگهی استخدام، کاریابی، استخدامی جدید، بازار کار، نیازمندیها، ساخت رزومه رایگان، کار و استخدام دولتی، اشتغال، جستجوگر حرفه ای استخدام و شغلخانهجستجوی مشاغلرزومه‌ساز۵۰ شرکت برتربخش کارفرمایانورود کارجوثبت‌نام کارجوورود کارجوثبت‌نام کارجو۱جابینجا چطور به استخدام شدن من کمک می‌کند؟مشاهدهمشاهده بیشترهمراه مکانیک|Hamrah Mechanicتاسیس در  ۱۳۹۲خودروسازی۵۱ تا ۲۰۰ نفرwww.hamrah-mechanic.comدر یک نگاهمعرفیفرصت‌های شغلی۱۶همراه‌مکانیک در سال 1392 با ایده خدمت‌رسانی در حوزه خرید، فروش و قیمت‌گذاری خودرو و با شعار «مطمئن بخرید، آسان بفروشید» فعالیت خود را آغاز کرد.موقعیت مکانیتهران، تهراناعضای شرکتسجاد باقریمدیرعاملما در همراه مکانیک داریم محیطی برای یک زندگی حرفه‌ای و متعهدانه می‌سازیم. یعنی تو متعهد به اثر و نتیجه‌ی خودت می‌شی، نه انجام وظایف.زهرا باقریمدیر بازاریابیما توی همراه مکانیک یه خانواده‌ی هدفمندیم. یه تیم پرانگیزه       N/A      N/A          N/A          N/A           N/A             N/A        N/A    N/A             N/A\n",
      "                                                                                                                                                                                                                                                                                https://jobinja.ir/jobs?filters%5Bjob_categories%5D%5B%5D=%D9%85%D9%87%D9%86%D8%AF%D8%B3%DB%8C+%D9%BE%D8%B2%D8%B4%DA%A9%DB%8C   استخدام مهندسی پزشکی | استخدام کارشناس مهندسی پزشکی\\n | جابینجاامکان جدید:همین حالا رزومه خود را در کمتر از ۱۰ دقیقه بسازید،برو به رزومه‌سازJobinja | جابینجا | استخدام، آگهی استخدام، کاریابی، استخدامی جدید، بازار کار، نیازمندیها، ساخت رزومه رایگان، کار و استخدام دولتی، اشتغال، جستجوگر حرفه ای استخدام و شغلخانهجستجوی مشاغلرزومه‌ساز۵۰ شرکت برتربخش کارفرمایانورود کارجوثبت‌نام کارجوورود کارجوثبت‌نام کارجو۱جابینجا چطور به استخدام شدن من کمک می‌کند؟مشاهدهمشاهده بیشترجستجودرخواست‌های مننشان‌شده‌هاآگهی‌های پیشنهادیاز آگهی‌های جدید باخبر شوبهترین فرصت های شغلی در جابینجاهمه‌ی استان‌هاتهرانخراسان رضویاصفهانالبرزفارسقمآذربایجان شرقیمازندرانگیلانخوزستانکرمانیزدقزوینمرکزیهرمزگانگلستانزنجانآذربایجان غربیبوشهرسیستان و بلوچستانسمنانکرمانشاههمداناردبیللرستانکردستانخراسان شمالیخراسان جنوبیچهارمحال بختیاریایلامکهکیلویه و بویراحمدهمه‌ی دسته‌بندی‌هامهندسی پزشکیفروش و بازاریابیوب،‌ برنامه‌نویسی و نرم‌افزارمالی و حسابداریمسئول دفتر، اجرائی و اداریتولید و مدیریت محتوادیجیتال مارکتینگپشتیبانی و امور مشتریانطراح       N/A      N/A          N/A          N/A           N/A             N/A        N/A    N/A             N/A\n",
      "                                                                                                                                                                                                                                                                                                        https://jobinja.ir/jobs?filters%5Bkeywords%5D%5B0%5D=%D9%BE%D8%B4%D8%AA%DB%8C%D8%A8%D8%A7%D9%86%DB%8C   فرصت های شغلی پشتیبانی\\n | جابینجاامکان جدید:همین حالا رزومه خود را در کمتر از ۱۰ دقیقه بسازید،برو به رزومه‌سازJobinja | جابینجا | استخدام، آگهی استخدام، کاریابی، استخدامی جدید، بازار کار، نیازمندیها، ساخت رزومه رایگان، کار و استخدام دولتی، اشتغال، جستجوگر حرفه ای استخدام و شغلخانهجستجوی مشاغلرزومه‌ساز۵۰ شرکت برتربخش کارفرمایانورود کارجوثبت‌نام کارجوورود کارجوثبت‌نام کارجو۱جابینجا چطور به استخدام شدن من کمک می‌کند؟مشاهدهمشاهده بیشترجستجودرخواست‌های مننشان‌شده‌هاآگهی‌های پیشنهادیاز آگهی‌های جدید باخبر شوبهترین فرصت های شغلی در جابینجاهمه‌ی استان‌هاتهرانخراسان رضویاصفهانالبرزفارسقمآذربایجان شرقیمازندرانگیلانخوزستانکرمانیزدقزوینمرکزیهرمزگانگلستانزنجانآذربایجان غربیبوشهرسیستان و بلوچستانسمنانکرمانشاههمداناردبیللرستانکردستانخراسان شمالیخراسان جنوبیچهارمحال بختیاریایلامکهکیلویه و بویراحمدهمه‌ی دسته‌بندی‌هافروش و بازاریابیوب،‌ برنامه‌نویسی و نرم‌افزارمالی و حسابداریمسئول دفتر، اجرائی و اداریتولید و مدیریت محتوادیجیتال مارکتینگپشتیبانی و امور مشتریانطراحیIT / DevOps / Serverمهندسی صنایع و مدیری       N/A      N/A          N/A          N/A           N/A             N/A        N/A    N/A             N/A\n",
      "                                                                                                                                                                                                                                                                                                                                             https://jobinja.ir/knowledge/job-seeker-faq/pages/job-seeker-tos    قوانین و شرایط استفاده کارجویان | جابینجاامکان جدید:همین حالا رزومه خود را در کمتر از ۱۰ دقیقه بسازید،برو به رزومه‌سازJobinja | جابینجا | استخدام، آگهی استخدام، کاریابی، استخدامی جدید، بازار کار، نیازمندیها، ساخت رزومه رایگان، کار و استخدام دولتی، اشتغال، جستجوگر حرفه ای استخدام و شغلخانهجستجوی مشاغلرزومه‌ساز۵۰ شرکت برتربخش کارفرمایانورود کارجوثبت‌نام کارجوورود کارجوثبت‌نام کارجو۱جابینجا چطور به استخدام شدن من کمک می‌کند؟مشاهدهمشاهده بیشترسوالات متداول کارجویانقوانین و شرایط استفاده کارجویانقوانین و شرایط استفاده کارجویانقوانین و شرایط استفاده کاربران کارجوهرگونه استفاده از جابینجا به معنی پذیرفتن شرایط مندرج در این سایت است.جابینجا هیچ توافقی با کاربران خارج از این شرایط ندارد. شرایط زیر مربوط به کسانی است که به هر شکلی در جابینجا پروفایل دارند یا رزومه‌ی خود را در سایت جابینجا منتشر می‌کنند.موارد زیر منجر به عدم انتشار رزومه و پروفایل خواهد شد:مغایرت با قوانین جاری جمهوری اسلامی ایران و عرف جامعه، ناقض حریم شخصی افرادنقص در اطلاعات اولیه (مانند نام و نام خانوادگی، تخصص، شماره تلفن یا       N/A      N/A          N/A          N/A           N/A             N/A        N/A    N/A             N/A\n",
      "                                                                                                                                                                                                                                                                                                    https://jobinja.ir/%D8%B1%D8%B2%D9%88%D9%85%D9%87-%D8%B3%D8%A7%D8%B2-%D8%A2%D9%86%D9%84%D8%A7%DB%8C%D9%86  رزومه ساز | ساخت رزومه | رزومه ساز آنلاین | جابینجاJobinja | جابینجا | استخدام، آگهی استخدام، کاریابی، استخدامی جدید، بازار کار، نیازمندیها، ساخت رزومه رایگان، کار و استخدام دولتی، اشتغال، جستجوگر حرفه ای استخدام و شغلخانهجستجوی مشاغلرزومه‌ساز۵۰ شرکت برتربخش کارفرمایانورود کارجوثبت‌نام کارجوورود کارجوثبت‌نام کارجو۱جابینجا چطور به استخدام شدن من کمک می‌کند؟مشاهدهمشاهده بیشتربا رزومه ساز رایگان جابینجا،رزومهکاری حرفه ای بسازید!در کمتر از ۱۰ دقیقه یک رزومه‌ی کامل و استاندارد داشته باشیدبرای شروع ایمیل و رمز عبور خود را انتخاب کنیدشروع ساخت رزومهحساب کاربری دارید؟وارد شویدویژگی‌های رزومه‌ساز جابینجابه‌روزرسانی همیشگیشما می‌توانید با یک بار ساختن رزومه در جابینجا آن را برای همیشه به‌روز کنیددر دید کارفرمایانبا داشتن این رزومه\\n                            کارفرمایان شما را راحت‌تر و سریع‌تر پیدا می‌کنندبه اشتراک گذاری رزومهبعد از ساختن این رزومه\\n                            می‌توانید آن را در شبکه‌های اجتماعی به اشتراک بگذاریدپرستو زورقیطراح گرافیکاستفاده از رزومه‌ساز جابینجا برای من تجربه خوب       N/A      N/A          N/A          N/A           N/A             N/A        N/A    N/A             N/A\n",
      "                                                                                                                                                                                                                                                                                           https://jobinja.ir/jobs?filters%5Bkeywords%5D%5B0%5D=%DA%A9%D9%85%DA%A9+%D8%AD%D8%B3%D8%A7%D8%A8%D8%AF%D8%A7%D8%B1   فرصت های شغلی کمک حسابدار\\n | جابینجاامکان جدید:همین حالا رزومه خود را در کمتر از ۱۰ دقیقه بسازید،برو به رزومه‌سازJobinja | جابینجا | استخدام، آگهی استخدام، کاریابی، استخدامی جدید، بازار کار، نیازمندیها، ساخت رزومه رایگان، کار و استخدام دولتی، اشتغال، جستجوگر حرفه ای استخدام و شغلخانهجستجوی مشاغلرزومه‌ساز۵۰ شرکت برتربخش کارفرمایانورود کارجوثبت‌نام کارجوورود کارجوثبت‌نام کارجو۱جابینجا چطور به استخدام شدن من کمک می‌کند؟مشاهدهمشاهده بیشترجستجودرخواست‌های مننشان‌شده‌هاآگهی‌های پیشنهادیاز آگهی‌های جدید باخبر شوبهترین فرصت های شغلی در جابینجاهمه‌ی استان‌هاتهرانخراسان رضویاصفهانالبرزفارسقمآذربایجان شرقیمازندرانگیلانخوزستانکرمانیزدقزوینمرکزیهرمزگانگلستانزنجانآذربایجان غربیبوشهرسیستان و بلوچستانسمنانکرمانشاههمداناردبیللرستانکردستانخراسان شمالیخراسان جنوبیچهارمحال بختیاریایلامکهکیلویه و بویراحمدهمه‌ی دسته‌بندی‌هافروش و بازاریابیوب،‌ برنامه‌نویسی و نرم‌افزارمالی و حسابداریمسئول دفتر، اجرائی و اداریتولید و مدیریت محتوادیجیتال مارکتینگپشتیبانی و امور مشتریانطراحیIT / DevOps / Serverمهندسی صنایع و مد       N/A      N/A          N/A          N/A           N/A             N/A        N/A    N/A             N/A\n",
      "                                                                                                                                                                                                                                                                                                                                                               https://jobinja.ir/companies/kian-iranian-stdg    استخدام در شرکت پیام رسان آیگپ، آگهی های استخدام iGap Messenger | جابینجاامکان جدید:همین حالا رزومه خود را در کمتر از ۱۰ دقیقه بسازید،برو به رزومه‌سازJobinja | جابینجا | استخدام، آگهی استخدام، کاریابی، استخدامی جدید، بازار کار، نیازمندیها، ساخت رزومه رایگان، کار و استخدام دولتی، اشتغال، جستجوگر حرفه ای استخدام و شغلخانهجستجوی مشاغلرزومه‌ساز۵۰ شرکت برتربخش کارفرمایانورود کارجوثبت‌نام کارجوورود کارجوثبت‌نام کارجو۱جابینجا چطور به استخدام شدن من کمک می‌کند؟مشاهدهمشاهده بیشترپیام رسان آیگپ|iGap Messengerتاسیس در  ۱۳۹۷کامپیوتر، فناوری اطلاعات و اینترنت۵۱ تا ۲۰۰ نفرwww.igap.netدر یک نگاهمعرفیفرصت‌های شغلی۶آیگپ متعلق به گروه توسعه فناوری‌های هوشمند کیان ایرانیان می باشد.موقعیت مکانیتهران، تهراناعضای شرکتمحمد دهقانمعاونت پشتیبانیما در آیگپ در تلاش هستیم تا با ایجاد فضای دوستانه و صمیمی در کنار هم بهترین موقعیت شغلی را فراهم کنیم.فرید ایلخانیمدیر تجاریتجربه کار در کیان ایرانیان با رویکرد رشد نیروی انسانی همواره همراه است و همکاران، فارغ ازجایگاه در جهت پیشرفت و توسعه  گام برمی دارند.سعید مظفریمد       N/A      N/A          N/A          N/A           N/A             N/A        N/A    N/A             N/A\n",
      "                                                                                                                                                                                                                                                                                                                                                https://jobinja.ir/jobs?filters%5Bjob_categories%5D%5B%5D=HSE   استخدام HSE | استخدام ایمنی و بهداشت حرفه ای\\n | جابینجاامکان جدید:همین حالا رزومه خود را در کمتر از ۱۰ دقیقه بسازید،برو به رزومه‌سازJobinja | جابینجا | استخدام، آگهی استخدام، کاریابی، استخدامی جدید، بازار کار، نیازمندیها، ساخت رزومه رایگان، کار و استخدام دولتی، اشتغال، جستجوگر حرفه ای استخدام و شغلخانهجستجوی مشاغلرزومه‌ساز۵۰ شرکت برتربخش کارفرمایانورود کارجوثبت‌نام کارجوورود کارجوثبت‌نام کارجو۱جابینجا چطور به استخدام شدن من کمک می‌کند؟مشاهدهمشاهده بیشترجستجودرخواست‌های مننشان‌شده‌هاآگهی‌های پیشنهادیاز آگهی‌های جدید باخبر شوبهترین فرصت های شغلی در جابینجاهمه‌ی استان‌هاتهرانخراسان رضویاصفهانالبرزفارسقمآذربایجان شرقیمازندرانگیلانخوزستانکرمانیزدقزوینمرکزیهرمزگانگلستانزنجانآذربایجان غربیبوشهرسیستان و بلوچستانسمنانکرمانشاههمداناردبیللرستانکردستانخراسان شمالیخراسان جنوبیچهارمحال بختیاریایلامکهکیلویه و بویراحمدهمه‌ی دسته‌بندی‌هاHSEفروش و بازاریابیوب،‌ برنامه‌نویسی و نرم‌افزارمالی و حسابداریمسئول دفتر، اجرائی و اداریتولید و مدیریت محتوادیجیتال مارکتینگپشتیبانی و امور مشتریانطراحیIT / DevOps / S       N/A      N/A          N/A          N/A           N/A             N/A        N/A    N/A             N/A\n",
      "                                                                                                                                                                                                                                                 https://jobinja.ir/jobs?filters%5Bjob_categories%5D%5B%5D=%D8%B1%D8%A7%D9%86%D9%86%D8%AF%D9%87%D8%8C+%D9%BE%DB%8C%DA%A9+%D9%85%D9%88%D8%AA%D9%88%D8%B1%DB%8C   استخدام راننده | استخدام پیک موتوری | استخدام راننده مدیرعامل\\n | جابینجاامکان جدید:همین حالا رزومه خود را در کمتر از ۱۰ دقیقه بسازید،برو به رزومه‌سازJobinja | جابینجا | استخدام، آگهی استخدام، کاریابی، استخدامی جدید، بازار کار، نیازمندیها، ساخت رزومه رایگان، کار و استخدام دولتی، اشتغال، جستجوگر حرفه ای استخدام و شغلخانهجستجوی مشاغلرزومه‌ساز۵۰ شرکت برتربخش کارفرمایانورود کارجوثبت‌نام کارجوورود کارجوثبت‌نام کارجو۱جابینجا چطور به استخدام شدن من کمک می‌کند؟مشاهدهمشاهده بیشترجستجودرخواست‌های مننشان‌شده‌هاآگهی‌های پیشنهادیاز آگهی‌های جدید باخبر شوبهترین فرصت های شغلی در جابینجاهمه‌ی استان‌هاتهرانخراسان رضویاصفهانالبرزفارسقمآذربایجان شرقیمازندرانگیلانخوزستانکرمانیزدقزوینمرکزیهرمزگانگلستانزنجانآذربایجان غربیبوشهرسیستان و بلوچستانسمنانکرمانشاههمداناردبیللرستانکردستانخراسان شمالیخراسان جنوبیچهارمحال بختیاریایلامکهکیلویه و بویراحمدهمه‌ی دسته‌بندی‌هاراننده، پیک موتوریفروش و بازاریابیوب،‌ برنامه‌نویسی و نرم‌افزارمالی و حسابداریمسئول دفتر، اجرائی و اداریتولید و مدیریت محتوادیجیتال مارکتینگپشتیبانی و        N/A      N/A          N/A          N/A           N/A             N/A        N/A    N/A             N/A\n",
      "                                                                                                                                                                                                                                                                                                                                                                  https://jobinja.ir/companies/pezeshk24/jobs    فرصت‌های شغلی فعال در پزشک24 | Pezeshk24 | جابینجاامکان جدید:همین حالا رزومه خود را در کمتر از ۱۰ دقیقه بسازید،برو به رزومه‌سازJobinja | جابینجا | استخدام، آگهی استخدام، کاریابی، استخدامی جدید، بازار کار، نیازمندیها، ساخت رزومه رایگان، کار و استخدام دولتی، اشتغال، جستجوگر حرفه ای استخدام و شغلخانهجستجوی مشاغلرزومه‌ساز۵۰ شرکت برتربخش کارفرمایانورود کارجوثبت‌نام کارجوورود کارجوثبت‌نام کارجو۱جابینجا چطور به استخدام شدن من کمک می‌کند؟مشاهدهمشاهده بیشترپزشک24|Pezeshk24تاسیس در  ۱۳۹۷خدمات درمانی، پزشکی و سلامت۱۱ تا ۵۰ نفرpezeshk24.com/در یک نگاهمعرفیفرصت‌های شغلی۲معرفی پزشک24سال 1397 پزشک 24 رو با هدف معرفی بهترین پزشکان زیبایی به زیباجویان شهرهای مختلف ایران راه اندازی کردیم. ما در پزشک 24 به زیباجویان کمک می‌کنیم تا بر اساس موقعیت مکانی، میزان بودجه و همچنین میزان رضایت مراجعین قبلی بهترین جراح زیبایی، کلینیک و یا دندانپزشک زیبایی رو پیدا کنن ؛اون هم بدون انتظار در صف‌های طولانی!تا امروز زیباجویان سرتاسر کشور چهل و پنج هزار ساعت مشاوره زیبایی با کارشناسان ما داشتن. پزشک 24 به بیش از هفت هز       N/A      N/A          N/A          N/A           N/A             N/A        N/A    N/A             N/A\n",
      "                                                                                                                                                                                                                                                                                                 https://jobinja.ir/jobs?filters%5Bkeywords%5D%5B0%5D=%D8%B7%D8%B1%D8%A7%D8%AD%DB%8C+%D8%B3%D8%A7%DB%8C%D8%AA   فرصت های شغلی طراحی سایت\\n | جابینجاامکان جدید:همین حالا رزومه خود را در کمتر از ۱۰ دقیقه بسازید،برو به رزومه‌سازJobinja | جابینجا | استخدام، آگهی استخدام، کاریابی، استخدامی جدید، بازار کار، نیازمندیها، ساخت رزومه رایگان، کار و استخدام دولتی، اشتغال، جستجوگر حرفه ای استخدام و شغلخانهجستجوی مشاغلرزومه‌ساز۵۰ شرکت برتربخش کارفرمایانورود کارجوثبت‌نام کارجوورود کارجوثبت‌نام کارجو۱جابینجا چطور به استخدام شدن من کمک می‌کند؟مشاهدهمشاهده بیشترجستجودرخواست‌های مننشان‌شده‌هاآگهی‌های پیشنهادیاز آگهی‌های جدید باخبر شوبهترین فرصت های شغلی در جابینجاهمه‌ی استان‌هاتهرانخراسان رضویاصفهانالبرزفارسقمآذربایجان شرقیمازندرانگیلانخوزستانکرمانیزدقزوینمرکزیهرمزگانگلستانزنجانآذربایجان غربیبوشهرسیستان و بلوچستانسمنانکرمانشاههمداناردبیللرستانکردستانخراسان شمالیخراسان جنوبیچهارمحال بختیاریایلامکهکیلویه و بویراحمدهمه‌ی دسته‌بندی‌هافروش و بازاریابیوب،‌ برنامه‌نویسی و نرم‌افزارمالی و حسابداریمسئول دفتر، اجرائی و اداریتولید و مدیریت محتوادیجیتال مارکتینگپشتیبانی و امور مشتریانطراحیIT / DevOps / Serverمهندسی صنایع و مدی       N/A      N/A          N/A          N/A           N/A             N/A        N/A    N/A             N/A\n",
      "                                                                                                                                                                                                                          https://jobinja.ir/%D8%B3%D9%88%D8%A7%D9%84%D8%A7%D8%AA-%D9%85%D8%AA%D8%AF%D8%A7%D9%88%D9%84-%D8%AF%D8%B1%D8%AC-%D8%A2%DA%AF%D9%87%DB%8C-%D8%A7%D8%B3%D8%AA%D8%AE%D8%AF%D8%A7%D9%85    سوالات متداول کارفرمایان | جابینجاامکان جدید:همین حالا رزومه خود را در کمتر از ۱۰ دقیقه بسازید،برو به رزومه‌سازJobinja | جابینجا | استخدام، آگهی استخدام، کاریابی، استخدامی جدید، بازار کار، نیازمندیها، ساخت رزومه رایگان، کار و استخدام دولتی، اشتغال، جستجوگر حرفه ای استخدام و شغلخانهجستجوی مشاغلرزومه‌ساز۵۰ شرکت برتربخش کارفرمایانورود کارجوثبت‌نام کارجوورود کارجوثبت‌نام کارجو۱جابینجا چطور به استخدام شدن من کمک می‌کند؟مشاهدهمشاهده بیشترسوالات متداول کارفرمایانسوالات متداول حساب کاربری کارفرمایانثبت‌نام و ور...قوانین و شرایط استفاده کارفرمایانهرگونه استفاده از جابینجا به معنی پذیرفتن شرایط مندرج در این سایت است. جابینجا هیچ ت...بخش‌های دانشنامهنمونه رزومه کاریسوالات متداول کارجویانسوالات متداول کارفرمایانکارجویانسوالات متداول کارجویانقوانین و مقررات کارجویانلیست مشاغلآگهی‌های استخدامورود / ثبت‌نام کارجوایمیل‌های اطلاع‌رسانیرزومه‌ساز آنلاینآشنایی با شرکت‌هاکارفرمایانسوالات متداول کارفرمایانقوانین و مقررات کارفرمایاندرج آگهی استخدامورود به بخش کارفرمایانتعرفه‌ی انتشار آگهیسؤالات متداولجابینجا       N/A      N/A          N/A          N/A           N/A             N/A        N/A    N/A             N/A\n",
      "                                                                                                                                                                                                                                                                                                                                                   https://jobinja.ir/companies/golrang-industrial-group/jobs    فرصت‌های شغلی فعال در گلرنگ سیستم | Golrang System | جابینجاامکان جدید:همین حالا رزومه خود را در کمتر از ۱۰ دقیقه بسازید،برو به رزومه‌سازJobinja | جابینجا | استخدام، آگهی استخدام، کاریابی، استخدامی جدید، بازار کار، نیازمندیها، ساخت رزومه رایگان، کار و استخدام دولتی، اشتغال، جستجوگر حرفه ای استخدام و شغلخانهجستجوی مشاغلرزومه‌ساز۵۰ شرکت برتربخش کارفرمایانورود کارجوثبت‌نام کارجوورود کارجوثبت‌نام کارجو۱جابینجا چطور به استخدام شدن من کمک می‌کند؟مشاهدهمشاهده بیشترگلرنگ سیستم|Golrang Systemتاسیس در  ۱۳۹۵کامپیوتر، فناوری اطلاعات و اینترنت۲۰۱ تا ۵۰۰ نفرwww.golrangsystem.com/در یک نگاهمعرفیفرصت‌های شغلی۱۴معرفی گلرنگ سیستمشرکت گلرنگ سیستم (سهامی خاص) یکی از شرکت‌های گروه صنعتی گلرنگ و فعال در زمینه فن‌آوری‌های دیجیتال، مراکز داده و ارتباطات، سامانه‌های مدیریت منابع سازمانی، داده‌پژوهی و هوش مصنوعی می‌باشد.  هدف این شرکت ارایه‌ی راه‌‌حل‌های فن‌آوری اطلاعات در جهت كمك به خلق ارزش، افزایش بهره‌وري و ارتقا، توانمندسازی و افزایش سود‌آوري گروه صنعتی گلرنگ است و این شرکت با تکیه بر سرمایه‌ی انسانی 400 ن       N/A      N/A          N/A          N/A           N/A             N/A        N/A    N/A             N/A\n",
      "                                                                                                                                                                                                                                                                                                                                                            https://jobinja.ir/jobs?sort_by=published_at_desc   استخدامی جدید | آگهی استخدام امروز | استخدامی های امروز\\n | جابینجاامکان جدید:همین حالا رزومه خود را در کمتر از ۱۰ دقیقه بسازید،برو به رزومه‌سازJobinja | جابینجا | استخدام، آگهی استخدام، کاریابی، استخدامی جدید، بازار کار، نیازمندیها، ساخت رزومه رایگان، کار و استخدام دولتی، اشتغال، جستجوگر حرفه ای استخدام و شغلخانهجستجوی مشاغلرزومه‌ساز۵۰ شرکت برتربخش کارفرمایانورود کارجوثبت‌نام کارجوورود کارجوثبت‌نام کارجو۱جابینجا چطور به استخدام شدن من کمک می‌کند؟مشاهدهمشاهده بیشترجستجودرخواست‌های مننشان‌شده‌هاآگهی‌های پیشنهادیاز آگهی‌های جدید باخبر شوبهترین فرصت های شغلی در جابینجاهمه‌ی استان‌هاتهرانخراسان رضویاصفهانالبرزفارسقمآذربایجان شرقیمازندرانگیلانخوزستانکرمانیزدقزوینمرکزیهرمزگانگلستانزنجانآذربایجان غربیبوشهرسیستان و بلوچستانسمنانکرمانشاههمداناردبیللرستانکردستانخراسان شمالیخراسان جنوبیچهارمحال بختیاریایلامکهکیلویه و بویراحمدهمه‌ی دسته‌بندی‌هافروش و بازاریابیوب،‌ برنامه‌نویسی و نرم‌افزارمالی و حسابداریمسئول دفتر، اجرائی و اداریتولید و مدیریت محتوادیجیتال مارکتینگپشتیبانی و امور مشتریانطراحیIT / De       N/A      N/A          N/A          N/A           N/A             N/A        N/A    N/A             N/A\n",
      "                                                                                                                                                                                                                                                                                                                          https://jobinja.ir/jobs?filters%5Bkeywords%5D%5B0%5D=%D8%A7%D8%AF%D8%A7%D8%B1%DB%8C   فرصت های شغلی اداری\\n | جابینجاامکان جدید:همین حالا رزومه خود را در کمتر از ۱۰ دقیقه بسازید،برو به رزومه‌سازJobinja | جابینجا | استخدام، آگهی استخدام، کاریابی، استخدامی جدید، بازار کار، نیازمندیها، ساخت رزومه رایگان، کار و استخدام دولتی، اشتغال، جستجوگر حرفه ای استخدام و شغلخانهجستجوی مشاغلرزومه‌ساز۵۰ شرکت برتربخش کارفرمایانورود کارجوثبت‌نام کارجوورود کارجوثبت‌نام کارجو۱جابینجا چطور به استخدام شدن من کمک می‌کند؟مشاهدهمشاهده بیشترجستجودرخواست‌های مننشان‌شده‌هاآگهی‌های پیشنهادیاز آگهی‌های جدید باخبر شوبهترین فرصت های شغلی در جابینجاهمه‌ی استان‌هاتهرانخراسان رضویاصفهانالبرزفارسقمآذربایجان شرقیمازندرانگیلانخوزستانکرمانیزدقزوینمرکزیهرمزگانگلستانزنجانآذربایجان غربیبوشهرسیستان و بلوچستانسمنانکرمانشاههمداناردبیللرستانکردستانخراسان شمالیخراسان جنوبیچهارمحال بختیاریایلامکهکیلویه و بویراحمدهمه‌ی دسته‌بندی‌هافروش و بازاریابیوب،‌ برنامه‌نویسی و نرم‌افزارمالی و حسابداریمسئول دفتر، اجرائی و اداریتولید و مدیریت محتوادیجیتال مارکتینگپشتیبانی و امور مشتریانطراحیIT / DevOps / Serverمهندسی صنایع و مدیریت ص       N/A      N/A          N/A          N/A           N/A             N/A        N/A    N/A             N/A\n",
      "                                                                                                                                                                                                                                     https://jobinja.ir/jobs?filters%5Bjob_categories%5D%5B%5D=%D8%AA%DA%A9%D9%86%D8%B3%DB%8C%D9%86+%D9%81%D9%86%DB%8C%D8%8C+%D8%AA%D8%B9%D9%85%DB%8C%D8%B1%DA%A9%D8%A7%D8%B1   استخدام تکنسین فنی تاسیسات | جابینجا\\n | جابینجاامکان جدید:همین حالا رزومه خود را در کمتر از ۱۰ دقیقه بسازید،برو به رزومه‌سازJobinja | جابینجا | استخدام، آگهی استخدام، کاریابی، استخدامی جدید، بازار کار، نیازمندیها، ساخت رزومه رایگان، کار و استخدام دولتی، اشتغال، جستجوگر حرفه ای استخدام و شغلخانهجستجوی مشاغلرزومه‌ساز۵۰ شرکت برتربخش کارفرمایانورود کارجوثبت‌نام کارجوورود کارجوثبت‌نام کارجو۱جابینجا چطور به استخدام شدن من کمک می‌کند؟مشاهدهمشاهده بیشترجستجودرخواست‌های مننشان‌شده‌هاآگهی‌های پیشنهادیاز آگهی‌های جدید باخبر شوبهترین فرصت های شغلی در جابینجاهمه‌ی استان‌هاتهرانخراسان رضویاصفهانالبرزفارسقمآذربایجان شرقیمازندرانگیلانخوزستانکرمانیزدقزوینمرکزیهرمزگانگلستانزنجانآذربایجان غربیبوشهرسیستان و بلوچستانسمنانکرمانشاههمداناردبیللرستانکردستانخراسان شمالیخراسان جنوبیچهارمحال بختیاریایلامکهکیلویه و بویراحمدهمه‌ی دسته‌بندی‌هاتکنسین فنی، تعمیرکارفروش و بازاریابیوب،‌ برنامه‌نویسی و نرم‌افزارمالی و حسابداریمسئول دفتر، اجرائی و اداریتولید و مدیریت محتوادیجیتال مارکتینگپشتیبانی و امور مشتریانطراحیIT / D       N/A      N/A          N/A          N/A           N/A             N/A        N/A    N/A             N/A\n",
      "                                                                                                                                                                                                               https://jobinja.ir/jobs?filters%5Bjob_categories%5D%5B%5D=%D9%BE%D8%B2%D8%B4%DA%A9%DB%8C%D8%8C%E2%80%8C+%D9%BE%D8%B1%D8%B3%D8%AA%D8%A7%D8%B1%DB%8C+%D9%88+%D8%AF%D8%A7%D8%B1%D9%88%DB%8C%DB%8C   استخدام پرستار | استخدام پزشک عمومی | استخدام روانشناس\\n | جابینجاامکان جدید:همین حالا رزومه خود را در کمتر از ۱۰ دقیقه بسازید،برو به رزومه‌سازJobinja | جابینجا | استخدام، آگهی استخدام، کاریابی، استخدامی جدید، بازار کار، نیازمندیها، ساخت رزومه رایگان، کار و استخدام دولتی، اشتغال، جستجوگر حرفه ای استخدام و شغلخانهجستجوی مشاغلرزومه‌ساز۵۰ شرکت برتربخش کارفرمایانورود کارجوثبت‌نام کارجوورود کارجوثبت‌نام کارجو۱جابینجا چطور به استخدام شدن من کمک می‌کند؟مشاهدهمشاهده بیشترجستجودرخواست‌های مننشان‌شده‌هاآگهی‌های پیشنهادیاز آگهی‌های جدید باخبر شوبهترین فرصت های شغلی در جابینجاهمه‌ی استان‌هاتهرانخراسان رضویاصفهانالبرزفارسقمآذربایجان شرقیمازندرانگیلانخوزستانکرمانیزدقزوینمرکزیهرمزگانگلستانزنجانآذربایجان غربیبوشهرسیستان و بلوچستانسمنانکرمانشاههمداناردبیللرستانکردستانخراسان شمالیخراسان جنوبیچهارمحال بختیاریایلامکهکیلویه و بویراحمدهمه‌ی دسته‌بندی‌هاپزشکی،‌ پرستاری و داروییفروش و بازاریابیوب،‌ برنامه‌نویسی و نرم‌افزارمالی و حسابداریمسئول دفتر، اجرائی و اداریتولید و مدیریت محتوادیجیتال مارکتینگپشتیبانی و ا       N/A      N/A          N/A          N/A           N/A             N/A        N/A    N/A             N/A\n",
      "                                                                                                                                                                                                                                                                                                                                                                                 https://jobinja.ir/companies    استخدام شركت ها | جابینجاامکان جدید:همین حالا رزومه خود را در کمتر از ۱۰ دقیقه بسازید،برو به رزومه‌سازJobinja | جابینجا | استخدام، آگهی استخدام، کاریابی، استخدامی جدید، بازار کار، نیازمندیها، ساخت رزومه رایگان، کار و استخدام دولتی، اشتغال، جستجوگر حرفه ای استخدام و شغلخانهجستجوی مشاغلرزومه‌ساز۵۰ شرکت برتربخش کارفرمایانورود کارجوثبت‌نام کارجوورود کارجوثبت‌نام کارجو۱جابینجا چطور به استخدام شدن من کمک می‌کند؟مشاهدهمشاهده بیشترشرکت‌هافهرست۵۰ شرکت برترپول نو|Poolenoتهران، تهرانکامپیوتر، فناوری اطلاعات و اینترنتدر حال استخدامگروه بوران|Booran Groupتهران، تهرانکامپیوتر، فناوری اطلاعات و اینترنتدر حال استخدامپیمان|Paymanتهران، تهرانکامپیوتر، فناوری اطلاعات و اینترنتدر حال استخدامجاباما|Jabamaتهران، تهرانگردشگری و هتل‌هادر حال استخدامگلکسی ویژن|Galaxy Visionتهران، تهرانکامپیوتر، فناوری اطلاعات و اینترنتدر حال استخدامپردازشگران عصر اطلاعات|Mitwelt Data Processorsتهران، تهرانمخابرات و ارتباطات (تلکام)در حال استخداممارجینکس|Marginexتهران، تهرانمالی و اعتباریدر حال استخدامفنحاب|FanHubتهران، بومهنبی       N/A      N/A          N/A          N/A           N/A             N/A        N/A    N/A             N/A\n",
      "                                                                                                                                                                                                                                                                                                                                                                      https://jobinja.ir/companies/autokhatib    استخدام در شرکت اتو خطیب، آگهی های استخدام Autokhatib | جابینجاامکان جدید:همین حالا رزومه خود را در کمتر از ۱۰ دقیقه بسازید،برو به رزومه‌سازJobinja | جابینجا | استخدام، آگهی استخدام، کاریابی، استخدامی جدید، بازار کار، نیازمندیها، ساخت رزومه رایگان، کار و استخدام دولتی، اشتغال، جستجوگر حرفه ای استخدام و شغلخانهجستجوی مشاغلرزومه‌ساز۵۰ شرکت برتربخش کارفرمایانورود کارجوثبت‌نام کارجوورود کارجوثبت‌نام کارجو۱جابینجا چطور به استخدام شدن من کمک می‌کند؟مشاهدهمشاهده بیشتراتو خطیب|Autokhatibتاسیس در  ۱۳۸۸خودروسازی۱۱ تا ۵۰ نفرAutokhatib.irدر یک نگاهمعرفیفرصت‌های شغلی۱۱اتوخطیب با افتخار 12 سال در زمینه فروش خودرو فعالیت صادقانه عضو رسمی اتحادیه نمایشگاه داران خودرو تهران و شمیرانات می باشد.موقعیت مکانیتهران، تهراناعضای شرکتخانم مازیارمدیر داخلیامکان ارتقای شغلی و آموزشنسترن امیریکارشناس فروشمحیط امن کاری و ارتقای شغلی و اجتماعیخانم فاخرکارشناس فروشمحیطی دوستانه و امن و مناسب جهت کار بانوانداشتن فرهنگ سامانی عالی برای کارکنان امروزی دیگر فقط یک گزینه نیست، بلکه به اندازه‌ی حقوق و مزایا برایشان اهمیت        N/A      N/A          N/A          N/A           N/A             N/A        N/A    N/A             N/A\n",
      "                                                                                                                                                                                                                                                                                                       https://jobinja.ir/jobs?filters%5Bjob_categories%5D%5B%5D=%D8%AD%D9%85%D9%84+%D9%88+%D9%86%D9%82%D9%84   استخدام کارشناس حمل و نقل | استخدام کارشناس لجستیک | جابینجا\\n | جابینجاامکان جدید:همین حالا رزومه خود را در کمتر از ۱۰ دقیقه بسازید،برو به رزومه‌سازJobinja | جابینجا | استخدام، آگهی استخدام، کاریابی، استخدامی جدید، بازار کار، نیازمندیها، ساخت رزومه رایگان، کار و استخدام دولتی، اشتغال، جستجوگر حرفه ای استخدام و شغلخانهجستجوی مشاغلرزومه‌ساز۵۰ شرکت برتربخش کارفرمایانورود کارجوثبت‌نام کارجوورود کارجوثبت‌نام کارجو۱جابینجا چطور به استخدام شدن من کمک می‌کند؟مشاهدهمشاهده بیشترجستجودرخواست‌های مننشان‌شده‌هاآگهی‌های پیشنهادیاز آگهی‌های جدید باخبر شوبهترین فرصت های شغلی در جابینجاهمه‌ی استان‌هاتهرانخراسان رضویاصفهانالبرزفارسقمآذربایجان شرقیمازندرانگیلانخوزستانکرمانیزدقزوینمرکزیهرمزگانگلستانزنجانآذربایجان غربیبوشهرسیستان و بلوچستانسمنانکرمانشاههمداناردبیللرستانکردستانخراسان شمالیخراسان جنوبیچهارمحال بختیاریایلامکهکیلویه و بویراحمدهمه‌ی دسته‌بندی‌هاحمل و نقلفروش و بازاریابیوب،‌ برنامه‌نویسی و نرم‌افزارمالی و حسابداریمسئول دفتر، اجرائی و اداریتولید و مدیریت محتوادیجیتال مارکتینگپشتیبانی و امور مشتری       N/A      N/A          N/A          N/A           N/A             N/A        N/A    N/A             N/A\n",
      "                                                                                                                                                                                                                                                                                                        https://jobinja.ir/jobs?filters%5Blocations%5D%5B%5D=%D9%85%D8%A7%D8%B2%D9%86%D8%AF%D8%B1%D8%A7%D9%86   استخدام مازندران | کاریابی مازندران | آگهی استخدام مازندران\\n | جابینجاامکان جدید:همین حالا رزومه خود را در کمتر از ۱۰ دقیقه بسازید،برو به رزومه‌سازJobinja | جابینجا | استخدام، آگهی استخدام، کاریابی، استخدامی جدید، بازار کار، نیازمندیها، ساخت رزومه رایگان، کار و استخدام دولتی، اشتغال، جستجوگر حرفه ای استخدام و شغلخانهجستجوی مشاغلرزومه‌ساز۵۰ شرکت برتربخش کارفرمایانورود کارجوثبت‌نام کارجوورود کارجوثبت‌نام کارجو۱جابینجا چطور به استخدام شدن من کمک می‌کند؟مشاهدهمشاهده بیشترجستجودرخواست‌های مننشان‌شده‌هاآگهی‌های پیشنهادیاز آگهی‌های جدید باخبر شوبهترین فرصت های شغلی در جابینجاهمه‌ی استان‌هامازندرانتهرانخراسان رضویاصفهانالبرزفارسقمآذربایجان شرقیگیلانخوزستانکرمانیزدقزوینمرکزیهرمزگانگلستانزنجانآذربایجان غربیبوشهرسیستان و بلوچستانسمنانکرمانشاههمداناردبیللرستانکردستانخراسان شمالیخراسان جنوبیچهارمحال بختیاریایلامکهکیلویه و بویراحمدهمه‌ی دسته‌بندی‌هافروش و بازاریابیوب،‌ برنامه‌نویسی و نرم‌افزارمالی و حسابداریمسئول دفتر، اجرائی و اداریتولید و مدیریت محتوادیجیتال مارکتینگپشتیبانی و امور مشتریانطراحیIT        N/A      N/A          N/A          N/A           N/A             N/A        N/A    N/A             N/A\n",
      "                                                                                                                                                                                                                                                                                                                                                                                  https://jobinja.ir/in-press    جابینجا در رسانه‌ها | جابینجاامکان جدید:همین حالا رزومه خود را در کمتر از ۱۰ دقیقه بسازید،برو به رزومه‌سازJobinja | جابینجا | استخدام، آگهی استخدام، کاریابی، استخدامی جدید، بازار کار، نیازمندیها، ساخت رزومه رایگان، کار و استخدام دولتی، اشتغال، جستجوگر حرفه ای استخدام و شغلخانهجستجوی مشاغلرزومه‌ساز۵۰ شرکت برتربخش کارفرمایانورود کارجوثبت‌نام کارجوورود کارجوثبت‌نام کارجو۱جابینجا چطور به استخدام شدن من کمک می‌کند؟مشاهدهمشاهده بیشترجابینجا در رسانه‌هاگزارش اخبار رسمی از فهرست ۵۰ شرکت برتر ایران برای کار(۱۳۹۵/۱۲/۲۳)بازار کار ایران نیز در مسیر رشد خود،‌ بیش از پیش به اهمیت منابع انسانی در موفقیت سازمان واقف شده است و هدف جابینجا از انتشار فهرست شرکت‌های برتر ایران برای کار،‌ تاکید بر تلاش مثبت سازمان‌ها در برندسازی منابع انسانی است.گزارش تکرا از فهرست ۵۰ شرکت برتر ایران برای کار(۱۳۹۵/۱۲/۲۲)با نزدیک شدن به آخرین روزهای سال،‌ جابینجا فهرست ۵۰ شرکت برتر ایران در جذب و استخدام نیرو را در سه ماه پایانی سال ۱۳۹۵منتشر کرده است. این فهرست بر اساس بررسی شاخص‌های مختلف در ۹۰ روز اخیر تهیه شده است و به        N/A      N/A          N/A          N/A           N/A             N/A        N/A    N/A             N/A\n",
      "                                                                                                                                                                                                                                                                                                                                                                           https://jobinja.ir/companies/asa-1    استخدام در شرکت ویستا سامانه آسا، آگهی های استخدام ASA | جابینجاامکان جدید:همین حالا رزومه خود را در کمتر از ۱۰ دقیقه بسازید،برو به رزومه‌سازJobinja | جابینجا | استخدام، آگهی استخدام، کاریابی، استخدامی جدید، بازار کار، نیازمندیها، ساخت رزومه رایگان، کار و استخدام دولتی، اشتغال، جستجوگر حرفه ای استخدام و شغلخانهجستجوی مشاغلرزومه‌ساز۵۰ شرکت برتربخش کارفرمایانورود کارجوثبت‌نام کارجوورود کارجوثبت‌نام کارجو۱جابینجا چطور به استخدام شدن من کمک می‌کند؟مشاهدهمشاهده بیشترویستا سامانه آسا|ASAتاسیس در  ۱۳۹۱کامپیوتر، فناوری اطلاعات و اینترنت۵۰۱ تا ۱۰۰۰ نفرasax.irدر یک نگاهمعرفیفرصت‌های شغلی۲۲شرکت دانش بنیان آسا از مجموعه ای از افراد پرتلاش و خلاق تشکیل شده که تلاش می‌کنند تا آسا را به یک شرکت نرم افزاری در حوزه بازارهای مالی تبدیل کنند.موقعیت مکانیتهران، تهراناعضای شرکتشهروز جعفریمدیر واحد عملیات نرم افزارپیشرفت مداوم .... محیط صمیمی .... چالش های جذاب برای حل کردنسوگند شمستحلیلگر نرم افزاردر آسا با وجود میزان اهمیت پروژه ها و محصولاتی که مسوولیتش را برعهده داریم؛ محیطی پرتلاش، با امید و صمیمی برقر       N/A      N/A          N/A          N/A           N/A             N/A        N/A    N/A             N/A\n",
      "                                                                                                                                                                                                                                                                                                                                                                         https://jobinja.ir/job-alert/landing                                                                                                                                                                                                                                                                                       جابینجاJobinja | جابینجا | استخدام، آگهی استخدام، کاریابی، استخدامی جدید، بازار کار، نیازمندیها، ساخت رزومه رایگان، کار و استخدام دولتی، اشتغال، جستجوگر حرفه ای استخدام و شغلخانهجستجوی مشاغلرزومه‌ساز۵۰ شرکت برتربخش کارفرمایانورود کارجوثبت‌نام کارجوورود کارجوثبت‌نام کارجو۱جابینجا چطور به استخدام شدن من کمک می‌کند؟مشاهدهمشاهده بیشترفرصت‌های شغلی جدید در ایمیل شما!اولین نفری که برای کارفرمایان رزومه ارسال می‌کند شما باشید. هر هفته فرصت‌های شغلی جدید برای شما ارسال می‌شود.دسته‌بندی شغلی؟هیچ دسته‌بندی شغلی مرتبطی انتخاب نشده است{{ item.text }}عنوان شغلی، مهارت یا کلمات کلیدی(اختیاری)؟نوع قرارداد(اختیاری)؟شهر شغل؟هیچ شهر یا استان مرتبطی انتخاب نشده است.{{ item.text }}ارسال به صورت؟ایمیل شما؟نمی‌خواهم مطلع شومimage/svg+xml       N/A      N/A          N/A          N/A           N/A             N/A        N/A    N/A             N/A\n",
      "                                                                                                                                                                                                                                                                                                                                https://jobinja.ir/jobs?filters%5Bkeywords%5D%5B0%5D=%D8%A7%D8%B3%D9%86%D9%BE   فرصت های شغلی اسنپ\\n | جابینجاامکان جدید:همین حالا رزومه خود را در کمتر از ۱۰ دقیقه بسازید،برو به رزومه‌سازJobinja | جابینجا | استخدام، آگهی استخدام، کاریابی، استخدامی جدید، بازار کار، نیازمندیها، ساخت رزومه رایگان، کار و استخدام دولتی، اشتغال، جستجوگر حرفه ای استخدام و شغلخانهجستجوی مشاغلرزومه‌ساز۵۰ شرکت برتربخش کارفرمایانورود کارجوثبت‌نام کارجوورود کارجوثبت‌نام کارجو۱جابینجا چطور به استخدام شدن من کمک می‌کند؟مشاهدهمشاهده بیشترجستجودرخواست‌های مننشان‌شده‌هاآگهی‌های پیشنهادیاز آگهی‌های جدید باخبر شوبهترین فرصت های شغلی در جابینجاهمه‌ی استان‌هاتهرانخراسان رضویاصفهانالبرزفارسقمآذربایجان شرقیمازندرانگیلانخوزستانکرمانیزدقزوینمرکزیهرمزگانگلستانزنجانآذربایجان غربیبوشهرسیستان و بلوچستانسمنانکرمانشاههمداناردبیللرستانکردستانخراسان شمالیخراسان جنوبیچهارمحال بختیاریایلامکهکیلویه و بویراحمدهمه‌ی دسته‌بندی‌هافروش و بازاریابیوب،‌ برنامه‌نویسی و نرم‌افزارمالی و حسابداریمسئول دفتر، اجرائی و اداریتولید و مدیریت محتوادیجیتال مارکتینگپشتیبانی و امور مشتریانطراحیIT / DevOps / Serverمهندسی صنایع و مدیریت صن       N/A      N/A          N/A          N/A           N/A             N/A        N/A    N/A             N/A\n",
      "                                                                                                                                                                                                                                                                    https://jobinja.ir/jobs?filters%5Bjob_categories%5D%5B%5D=%D8%B4%DB%8C%D9%85%DB%8C%D8%8C+%D8%AF%D8%A7%D8%B1%D9%88%D8%B3%D8%A7%D8%B2%DB%8C   استخدام داروساز | استخدام شیمی دارویی | جابینجا\\n | جابینجاامکان جدید:همین حالا رزومه خود را در کمتر از ۱۰ دقیقه بسازید،برو به رزومه‌سازJobinja | جابینجا | استخدام، آگهی استخدام، کاریابی، استخدامی جدید، بازار کار، نیازمندیها، ساخت رزومه رایگان، کار و استخدام دولتی، اشتغال، جستجوگر حرفه ای استخدام و شغلخانهجستجوی مشاغلرزومه‌ساز۵۰ شرکت برتربخش کارفرمایانورود کارجوثبت‌نام کارجوورود کارجوثبت‌نام کارجو۱جابینجا چطور به استخدام شدن من کمک می‌کند؟مشاهدهمشاهده بیشترجستجودرخواست‌های مننشان‌شده‌هاآگهی‌های پیشنهادیاز آگهی‌های جدید باخبر شوبهترین فرصت های شغلی در جابینجاهمه‌ی استان‌هاتهرانخراسان رضویاصفهانالبرزفارسقمآذربایجان شرقیمازندرانگیلانخوزستانکرمانیزدقزوینمرکزیهرمزگانگلستانزنجانآذربایجان غربیبوشهرسیستان و بلوچستانسمنانکرمانشاههمداناردبیللرستانکردستانخراسان شمالیخراسان جنوبیچهارمحال بختیاریایلامکهکیلویه و بویراحمدهمه‌ی دسته‌بندی‌هاشیمی، داروسازیفروش و بازاریابیوب،‌ برنامه‌نویسی و نرم‌افزارمالی و حسابداریمسئول دفتر، اجرائی و اداریتولید و مدیریت محتوادیجیتال مارکتینگپشتیبانی و امور مشتریانطراحیI       N/A      N/A          N/A          N/A           N/A             N/A        N/A    N/A             N/A\n",
      "                                                                                                                                                                                                                                                                                           https://jobinja.ir/jobs?filters%5Blocations%5D%5B%5D=%D8%AE%D8%B1%D8%A7%D8%B3%D8%A7%D9%86+%D8%B1%D8%B6%D9%88%DB%8C   آگهی استخدام خراسان رضوی | استخدام خراسان رضوی | کاریابی خراسان رضوی\\n | جابینجاامکان جدید:همین حالا رزومه خود را در کمتر از ۱۰ دقیقه بسازید،برو به رزومه‌سازJobinja | جابینجا | استخدام، آگهی استخدام، کاریابی، استخدامی جدید، بازار کار، نیازمندیها، ساخت رزومه رایگان، کار و استخدام دولتی، اشتغال، جستجوگر حرفه ای استخدام و شغلخانهجستجوی مشاغلرزومه‌ساز۵۰ شرکت برتربخش کارفرمایانورود کارجوثبت‌نام کارجوورود کارجوثبت‌نام کارجو۱جابینجا چطور به استخدام شدن من کمک می‌کند؟مشاهدهمشاهده بیشترجستجودرخواست‌های مننشان‌شده‌هاآگهی‌های پیشنهادیاز آگهی‌های جدید باخبر شوبهترین فرصت های شغلی در جابینجاهمه‌ی استان‌هاخراسان رضویتهراناصفهانالبرزفارسقمآذربایجان شرقیمازندرانگیلانخوزستانکرمانیزدقزوینمرکزیهرمزگانگلستانزنجانآذربایجان غربیبوشهرسیستان و بلوچستانسمنانکرمانشاههمداناردبیللرستانکردستانخراسان شمالیخراسان جنوبیچهارمحال بختیاریایلامکهکیلویه و بویراحمدهمه‌ی دسته‌بندی‌هافروش و بازاریابیوب،‌ برنامه‌نویسی و نرم‌افزارمالی و حسابداریمسئول دفتر، اجرائی و اداریتولید و مدیریت محتوادیجیتال مارکتینگپشتیبانی و امور مشتریا       N/A      N/A          N/A          N/A           N/A             N/A        N/A    N/A             N/A\n",
      "                                                                                                                                                                                                                                                                                                                    https://jobinja.ir/jobs?filters%5Blocations%5D%5B%5D=%DA%AF%D9%84%D8%B3%D8%AA%D8%A7%D9%86   آگهی استخدام گلستان | استخدام گلستان | کاریابی گلستان | جابینجا\\n | جابینجاامکان جدید:همین حالا رزومه خود را در کمتر از ۱۰ دقیقه بسازید،برو به رزومه‌سازJobinja | جابینجا | استخدام، آگهی استخدام، کاریابی، استخدامی جدید، بازار کار، نیازمندیها، ساخت رزومه رایگان، کار و استخدام دولتی، اشتغال، جستجوگر حرفه ای استخدام و شغلخانهجستجوی مشاغلرزومه‌ساز۵۰ شرکت برتربخش کارفرمایانورود کارجوثبت‌نام کارجوورود کارجوثبت‌نام کارجو۱جابینجا چطور به استخدام شدن من کمک می‌کند؟مشاهدهمشاهده بیشترجستجودرخواست‌های مننشان‌شده‌هاآگهی‌های پیشنهادیاز آگهی‌های جدید باخبر شوبهترین فرصت های شغلی در جابینجاهمه‌ی استان‌هاگلستانتهرانخراسان رضویاصفهانالبرزفارسقمآذربایجان شرقیمازندرانگیلانخوزستانکرمانیزدقزوینمرکزیهرمزگانزنجانآذربایجان غربیبوشهرسیستان و بلوچستانسمنانکرمانشاههمداناردبیللرستانکردستانخراسان شمالیخراسان جنوبیچهارمحال بختیاریایلامکهکیلویه و بویراحمدهمه‌ی دسته‌بندی‌هافروش و بازاریابیوب،‌ برنامه‌نویسی و نرم‌افزارمالی و حسابداریمسئول دفتر، اجرائی و اداریتولید و مدیریت محتوادیجیتال مارکتینگپشتیبانی و امور مشتریانطراح       N/A      N/A          N/A          N/A           N/A             N/A        N/A    N/A             N/A\n",
      "                                                                                                                                                                                                                                                                                                                                                                       https://jobinja.ir/companies/BimeBazar    استخدام در شرکت بیمه بازار، آگهی های استخدام Bime Bazar | جابینجاامکان جدید:همین حالا رزومه خود را در کمتر از ۱۰ دقیقه بسازید،برو به رزومه‌سازJobinja | جابینجا | استخدام، آگهی استخدام، کاریابی، استخدامی جدید، بازار کار، نیازمندیها، ساخت رزومه رایگان، کار و استخدام دولتی، اشتغال، جستجوگر حرفه ای استخدام و شغلخانهجستجوی مشاغلرزومه‌ساز۵۰ شرکت برتربخش کارفرمایانورود کارجوثبت‌نام کارجوورود کارجوثبت‌نام کارجو۱جابینجا چطور به استخدام شدن من کمک می‌کند؟مشاهدهمشاهده بیشتربیمه بازار|Bime Bazarتاسیس در  ۱۳۹۵کامپیوتر، فناوری اطلاعات و اینترنت۵۱ تا ۲۰۰ نفرbimebazar.comدر یک نگاهمعرفیفرصت‌های شغلی۳۱بیمه‌بازار اولین مرجع مقایسه و خرید آنلاین بیمه در کشور است.موقعیت مکانیتهران، تهراناعضای شرکتمحمد کلانتریمدیرعاملبیمه‌بازار یه استارتاپ همواره در حال رشد هست و ما معتقدیم موفقیت زمانی به وجود میاد که همه اجزا در کنار هم توسعه پیدا کنند. ما به دنبال افراد بااستعداد، باانگیزه و مشتاق یادگیری هستیم و سعی می‌کنیم مسیر شغلی خوبی براشون فراهم کنیم.نسیم رشتبرمدیر منابع انسانیبیمه بازار برای ما بیمه بازاری‌ها فق       N/A      N/A          N/A          N/A           N/A             N/A        N/A    N/A             N/A\n",
      "                                                                                                                                                                                                                              https://jobinja.ir/jobs?filters%5Bjob_categories%5D%5B%5D=%D9%85%D9%87%D9%86%D8%AF%D8%B3%DB%8C+%D9%85%DA%A9%D8%A7%D9%86%DB%8C%DA%A9+%D9%88+%D9%87%D9%88%D8%A7%D9%81%D8%B6%D8%A7   استخدام مهندس مکانیک و هوافضا\\n | جابینجاامکان جدید:همین حالا رزومه خود را در کمتر از ۱۰ دقیقه بسازید،برو به رزومه‌سازJobinja | جابینجا | استخدام، آگهی استخدام، کاریابی، استخدامی جدید، بازار کار، نیازمندیها، ساخت رزومه رایگان، کار و استخدام دولتی، اشتغال، جستجوگر حرفه ای استخدام و شغلخانهجستجوی مشاغلرزومه‌ساز۵۰ شرکت برتربخش کارفرمایانورود کارجوثبت‌نام کارجوورود کارجوثبت‌نام کارجو۱جابینجا چطور به استخدام شدن من کمک می‌کند؟مشاهدهمشاهده بیشترجستجودرخواست‌های مننشان‌شده‌هاآگهی‌های پیشنهادیاز آگهی‌های جدید باخبر شوبهترین فرصت های شغلی در جابینجاهمه‌ی استان‌هاتهرانخراسان رضویاصفهانالبرزفارسقمآذربایجان شرقیمازندرانگیلانخوزستانکرمانیزدقزوینمرکزیهرمزگانگلستانزنجانآذربایجان غربیبوشهرسیستان و بلوچستانسمنانکرمانشاههمداناردبیللرستانکردستانخراسان شمالیخراسان جنوبیچهارمحال بختیاریایلامکهکیلویه و بویراحمدهمه‌ی دسته‌بندی‌هامهندسی مکانیک و هوافضافروش و بازاریابیوب،‌ برنامه‌نویسی و نرم‌افزارمالی و حسابداریمسئول دفتر، اجرائی و اداریتولید و مدیریت محتوادیجیتال مارکتینگپشتیبانی و امور مشتریانطراحیIT / DevOps       N/A      N/A          N/A          N/A           N/A             N/A        N/A    N/A             N/A\n",
      "                                                                                                                                                                                                                                                                                                                          https://jobinja.ir/jobs?filters%5Blocations%5D%5B%5D=%D9%85%D8%B1%DA%A9%D8%B2%DB%8C   آگهی استخدام مرکزی | استخدام مرکزی | کاریابی مرکزی\\n | جابینجاامکان جدید:همین حالا رزومه خود را در کمتر از ۱۰ دقیقه بسازید،برو به رزومه‌سازJobinja | جابینجا | استخدام، آگهی استخدام، کاریابی، استخدامی جدید، بازار کار، نیازمندیها، ساخت رزومه رایگان، کار و استخدام دولتی، اشتغال، جستجوگر حرفه ای استخدام و شغلخانهجستجوی مشاغلرزومه‌ساز۵۰ شرکت برتربخش کارفرمایانورود کارجوثبت‌نام کارجوورود کارجوثبت‌نام کارجو۱جابینجا چطور به استخدام شدن من کمک می‌کند؟مشاهدهمشاهده بیشترجستجودرخواست‌های مننشان‌شده‌هاآگهی‌های پیشنهادیاز آگهی‌های جدید باخبر شوبهترین فرصت های شغلی در جابینجاهمه‌ی استان‌هامرکزیتهرانخراسان رضویاصفهانالبرزفارسقمآذربایجان شرقیمازندرانگیلانخوزستانکرمانیزدقزوینهرمزگانگلستانزنجانآذربایجان غربیبوشهرسیستان و بلوچستانسمنانکرمانشاههمداناردبیللرستانکردستانخراسان شمالیخراسان جنوبیچهارمحال بختیاریایلامکهکیلویه و بویراحمدهمه‌ی دسته‌بندی‌هافروش و بازاریابیوب،‌ برنامه‌نویسی و نرم‌افزارمالی و حسابداریمسئول دفتر، اجرائی و اداریتولید و مدیریت محتوادیجیتال مارکتینگپشتیبانی و امور مشتریانطراحیIT / DevOps        N/A      N/A          N/A          N/A           N/A             N/A        N/A    N/A             N/A\n",
      "                                                                                                                                                                                                                                                https://jobinja.ir/jobs?filters%5Blocations%5D%5B%5D=%DA%A9%D9%87%DA%A9%DB%8C%D9%84%D9%88%DB%8C%D9%87+%D9%88+%D8%A8%D9%88%DB%8C%D8%B1%D8%A7%D8%AD%D9%85%D8%AF   آگهی استخدام کهگیلویه و بویراحمد | استخدام کهگیلویه و بویراحمد | کاریابی کهگیلویه و بویراحمد\\n | جابینجاامکان جدید:همین حالا رزومه خود را در کمتر از ۱۰ دقیقه بسازید،برو به رزومه‌سازJobinja | جابینجا | استخدام، آگهی استخدام، کاریابی، استخدامی جدید، بازار کار، نیازمندیها، ساخت رزومه رایگان، کار و استخدام دولتی، اشتغال، جستجوگر حرفه ای استخدام و شغلخانهجستجوی مشاغلرزومه‌ساز۵۰ شرکت برتربخش کارفرمایانورود کارجوثبت‌نام کارجوورود کارجوثبت‌نام کارجو۱جابینجا چطور به استخدام شدن من کمک می‌کند؟مشاهدهمشاهده بیشترجستجودرخواست‌های مننشان‌شده‌هاآگهی‌های پیشنهادیاز آگهی‌های جدید باخبر شوبهترین فرصت های شغلی در جابینجاهمه‌ی استان‌هاکهکیلویه و بویراحمدتهرانخراسان رضویاصفهانالبرزفارسقمآذربایجان شرقیمازندرانگیلانخوزستانکرمانیزدقزوینمرکزیهرمزگانگلستانزنجانآذربایجان غربیبوشهرسیستان و بلوچستانسمنانکرمانشاههمداناردبیللرستانکردستانخراسان شمالیخراسان جنوبیچهارمحال بختیاریایلامهمه‌ی دسته‌بندی‌هافروش و بازاریابیوب،‌ برنامه‌نویسی و نرم‌افزارمالی و حسابداریمسئول دفتر، اجرائی و اداریتولید و مدیریت محتوادیجیتال مارکتی       N/A      N/A          N/A          N/A           N/A             N/A        N/A    N/A             N/A\n",
      "                                                                                                                                                                                                                                                                                                                                                     https://jobinja.ir/jobs?filters%5Bkeywords%5D%5B0%5D=Php   فرصت های شغلی Php\\n | جابینجاامکان جدید:همین حالا رزومه خود را در کمتر از ۱۰ دقیقه بسازید،برو به رزومه‌سازJobinja | جابینجا | استخدام، آگهی استخدام، کاریابی، استخدامی جدید، بازار کار، نیازمندیها، ساخت رزومه رایگان، کار و استخدام دولتی، اشتغال، جستجوگر حرفه ای استخدام و شغلخانهجستجوی مشاغلرزومه‌ساز۵۰ شرکت برتربخش کارفرمایانورود کارجوثبت‌نام کارجوورود کارجوثبت‌نام کارجو۱جابینجا چطور به استخدام شدن من کمک می‌کند؟مشاهدهمشاهده بیشترجستجودرخواست‌های مننشان‌شده‌هاآگهی‌های پیشنهادیاز آگهی‌های جدید باخبر شوبهترین فرصت های شغلی در جابینجاهمه‌ی استان‌هاتهرانخراسان رضویاصفهانالبرزفارسقمآذربایجان شرقیمازندرانگیلانخوزستانکرمانیزدقزوینمرکزیهرمزگانگلستانزنجانآذربایجان غربیبوشهرسیستان و بلوچستانسمنانکرمانشاههمداناردبیللرستانکردستانخراسان شمالیخراسان جنوبیچهارمحال بختیاریایلامکهکیلویه و بویراحمدهمه‌ی دسته‌بندی‌هافروش و بازاریابیوب،‌ برنامه‌نویسی و نرم‌افزارمالی و حسابداریمسئول دفتر، اجرائی و اداریتولید و مدیریت محتوادیجیتال مارکتینگپشتیبانی و امور مشتریانطراحیIT / DevOps / Serverمهندسی صنایع و مدیریت صنع       N/A      N/A          N/A          N/A           N/A             N/A        N/A    N/A             N/A\n",
      "                                                                                                                                                                                                                                                                                                                                                                                  https://jobinja.ir/employer    جذب نیرو | ثبت آگهی استخدام | جابینجاخانهتعرفه‌هابخش کارجویانورود کارفرماثبت نام کارفرماخانهتعرفه‌هاورود کارفرماثبت نام کارفرمابخش کارجویان|ورود کارفرما|ثبت نام کارفرماسریع‌ترین و به‌صرفه‌ترین ابزار استخدامبا درج آگهی استخدام در جابینجا، همین امروز فرصت شغلی شرکت خود را به متخصصان ایرانی اطلاع‌رسانی کنید.٪۶۰تخفیفدرج آگهی استخدامانتشار اولین آگهی با ۶۰٪ تخفیف - ۹۰ هزار تومانانتشار در فهرست فرصت‌های شغلیآگهی شما  ۶۰ روز در فهرست فرصت‌های شغلی سایت جابینجا منتشر می‌شود و در معرض دید میلیون‌ها کارجو قرار می‌گیرد.اطلاع‌رسانی گسترده به کارجویان مرتبطآگهی  شما به کارجویانی که سابقه مرتبط با آن دارند به صورت گسترده از روش‌های مختلف اطلاع‌رسانی می‌شود.گارانتی ۱۰۰٪ رضایت و بازگشت پولبا خیال راحت از امکانات جابینجا استفاده کنید در صورت عدم رضایت، بدون هیچ قید و شرط مبلغ پرداختی را دریافت کنید.جابینجا چه ویژگی‌هایی دارد؟انتشار آگهی استخداممدیریت رزومه‌هاتعیین وضعیت رزومهتیم استخدامجستجو در رزومه‌هانشان کردن رزومه‌یادداشت‌های رزومه‌برند کارفرماییآمار عملکردرزومه‌های پیشنهادیشتابدهی آگهیپشتیبانی درج       N/A      N/A          N/A          N/A           N/A             N/A        N/A    N/A             N/A\n",
      "                                                                                                                                                                                                                                                                                                                    https://jobinja.ir/jobs?filters%5Blocations%5D%5B%5D=%D8%A7%D8%B5%D9%81%D9%87%D8%A7%D9%86   استخدام اصفهان | کاریابی اصفهان\\n | جابینجاامکان جدید:همین حالا رزومه خود را در کمتر از ۱۰ دقیقه بسازید،برو به رزومه‌سازJobinja | جابینجا | استخدام، آگهی استخدام، کاریابی، استخدامی جدید، بازار کار، نیازمندیها، ساخت رزومه رایگان، کار و استخدام دولتی، اشتغال، جستجوگر حرفه ای استخدام و شغلخانهجستجوی مشاغلرزومه‌ساز۵۰ شرکت برتربخش کارفرمایانورود کارجوثبت‌نام کارجوورود کارجوثبت‌نام کارجو۱جابینجا چطور به استخدام شدن من کمک می‌کند؟مشاهدهمشاهده بیشترجستجودرخواست‌های مننشان‌شده‌هاآگهی‌های پیشنهادیاز آگهی‌های جدید باخبر شوبهترین فرصت های شغلی در جابینجاهمه‌ی استان‌هااصفهانتهرانخراسان رضویالبرزفارسقمآذربایجان شرقیمازندرانگیلانخوزستانکرمانیزدقزوینمرکزیهرمزگانگلستانزنجانآذربایجان غربیبوشهرسیستان و بلوچستانسمنانکرمانشاههمداناردبیللرستانکردستانخراسان شمالیخراسان جنوبیچهارمحال بختیاریایلامکهکیلویه و بویراحمدهمه‌ی دسته‌بندی‌هافروش و بازاریابیوب،‌ برنامه‌نویسی و نرم‌افزارمالی و حسابداریمسئول دفتر، اجرائی و اداریتولید و مدیریت محتوادیجیتال مارکتینگپشتیبانی و امور مشتریانطراحیIT / DevOps / Serverمهندسی صنای       N/A      N/A          N/A          N/A           N/A             N/A        N/A    N/A             N/A\n",
      "                                                                                                                                                                                                                                                                                                                                                                    https://jobinja.ir/companies/daftareshoma    استخدام در شرکت دفتر شما، آگهی های استخدام Daftareshoma | جابینجاامکان جدید:همین حالا رزومه خود را در کمتر از ۱۰ دقیقه بسازید،برو به رزومه‌سازJobinja | جابینجا | استخدام، آگهی استخدام، کاریابی، استخدامی جدید، بازار کار، نیازمندیها، ساخت رزومه رایگان، کار و استخدام دولتی، اشتغال، جستجوگر حرفه ای استخدام و شغلخانهجستجوی مشاغلرزومه‌ساز۵۰ شرکت برتربخش کارفرمایانورود کارجوثبت‌نام کارجوورود کارجوثبت‌نام کارجو۱جابینجا چطور به استخدام شدن من کمک می‌کند؟مشاهدهمشاهده بیشتردفتر شما|Daftareshomaتاسیس در  ۱۳۸۳کامپیوتر، فناوری اطلاعات و اینترنت۵۱ تا ۲۰۰ نفرdaftareshoma.comدر یک نگاهمعرفیفرصت‌های شغلی۷تیم ما از بخش‌های شبکه، برنامه‌نویسی، فروش، بازاریابی و اپراتوری تشکیل شده است که هر بخش با تخصص منحصر به فرد خود در حوزه مربوطه فعالیت می‌کند.موقعیت مکانیتهران، تهراناعضای شرکتعلی دشتیمدیر عاملکار در کنار دوستان و همکاران خوبم در «دفترشما»، مثل یک رویاست و هر روز بابت این شانس قدردانم.شاهین شوشتریمدیر فنیدر همکاری چند ساله با «دفتر شما»، محیطی سالم، صمیمی و به دور از حاشیه را تجربه کردم.علی دادگرمدیر ا       N/A      N/A          N/A          N/A           N/A             N/A        N/A    N/A             N/A\n",
      "                                                                                                                                                                                                                                                                                                                                                                        https://jobinja.ir/companies/snappbox  استخدام در شرکت اسنپ باکس، آگهی های استخدام Snappbox | جابینجاامکان جدید:همین حالا رزومه خود را در کمتر از ۱۰ دقیقه بسازید،برو به رزومه‌سازJobinja | جابینجا | استخدام، آگهی استخدام، کاریابی، استخدامی جدید، بازار کار، نیازمندیها، ساخت رزومه رایگان، کار و استخدام دولتی، اشتغال، جستجوگر حرفه ای استخدام و شغلخانهجستجوی مشاغلرزومه‌ساز۵۰ شرکت برتربخش کارفرمایانورود کارجوثبت‌نام کارجوورود کارجوثبت‌نام کارجو۱جابینجا چطور به استخدام شدن من کمک می‌کند؟مشاهدهمشاهده بیشتراسنپ باکس|Snappboxتاسیس در  ۱۳۹۶کامپیوتر، فناوری اطلاعات و اینترنت۲۰۱ تا ۵۰۰ نفرsnapp-box.comدر یک نگاهمعرفیفرصت‌های شغلی۱۹مجموعه اسنپ باکس متشکل از جوانانی فعال، خلاق و علاقه مند به پیشرفت و با هدف دستیابی به آرمان‌هایی از جمله محیط زیست سالم و هوایی پاک پا به عرصه رقابت در بازار حمل و نقل و لاجستیک نهاده است.موقعیت مکانیتهران، تهراناعضای شرکتثمر رشیدبیگیمدیرعاملدر اسنپ باکس هر روز یه فکر و برنامه جدید هست برای رشد و موفقیت بیشتر. این یعنی چالش، تجربه و یادگیری در کار که می‌تونه به بهتر بودن و بهتر زندگی کردن کمک کنه . \\r\\nاگر پیشر       N/A      N/A          N/A          N/A           N/A             N/A        N/A    N/A             N/A\n",
      "                                                                                                                                                                                                                                                                                                                                                 https://jobinja.ir/knowledge/employer-faq/pages/employer-tos    قوانین و شرایط استفاده کارفرمایان | جابینجاامکان جدید:همین حالا رزومه خود را در کمتر از ۱۰ دقیقه بسازید،برو به رزومه‌سازJobinja | جابینجا | استخدام، آگهی استخدام، کاریابی، استخدامی جدید، بازار کار، نیازمندیها، ساخت رزومه رایگان، کار و استخدام دولتی، اشتغال، جستجوگر حرفه ای استخدام و شغلخانهجستجوی مشاغلرزومه‌ساز۵۰ شرکت برتربخش کارفرمایانورود کارجوثبت‌نام کارجوورود کارجوثبت‌نام کارجو۱جابینجا چطور به استخدام شدن من کمک می‌کند؟مشاهدهمشاهده بیشترسوالات متداول کارفرمایانقوانین و شرایط استفاده کارفرمایانقوانین و شرایط استفاده کارفرمایانهرگونه استفاده از جابینجا به معنی پذیرفتن شرایط مندرج در این سایت است. جابینجا هیچ توافقی با کاربران خارج از این شرایط ندارد. شرایط زیر مربوط به کسانی است که به هر شکلی از آگهی‌های منتشر شده‌ جابینجا استفاده می‌کنند.موارد زیر منجر به عدم انتشار آگهی و یا تغییر آن خواهد شد:مغایرت با قوانین جاری جمهوری اسلامی ایران و عرف جامعه، ناقض حریم شخصی افراد، نقص در اطلاعات شرکت (مانند لوگو، شرح فعالیت، آدرس وب‌سایت، شماره تلفن و...)، هر گونه توهین به ادیان رسمی کشور، آداب       N/A      N/A          N/A          N/A           N/A             N/A        N/A    N/A             N/A\n",
      "                                                                                                                                                                                                                                                                                                                                                                         https://jobinja.ir/companies/drsaina    استخدام در شرکت دکتر ساینا، آگهی های استخدام Dr Saina | جابینجاامکان جدید:همین حالا رزومه خود را در کمتر از ۱۰ دقیقه بسازید،برو به رزومه‌سازJobinja | جابینجا | استخدام، آگهی استخدام، کاریابی، استخدامی جدید، بازار کار، نیازمندیها، ساخت رزومه رایگان، کار و استخدام دولتی، اشتغال، جستجوگر حرفه ای استخدام و شغلخانهجستجوی مشاغلرزومه‌ساز۵۰ شرکت برتربخش کارفرمایانورود کارجوثبت‌نام کارجوورود کارجوثبت‌نام کارجو۱جابینجا چطور به استخدام شدن من کمک می‌کند؟مشاهدهمشاهده بیشتردکتر ساینا|Dr Sainaتاسیس در  ۱۳۹۵خدمات درمانی، پزشکی و سلامت۵۱ تا ۲۰۰ نفرdrsaina.comدر یک نگاهمعرفیفرصت‌های شغلی۱۲دکتر ساینا محصول شرکت دانش بنیان صنعتی نوین فناوران همراه ساینا است.موقعیت مکانیتهران، تهراناعضای شرکتمهدی خدادادیمدیر عامل  و بنیانگذاردکتر ساینا جایی است برای خلق آینده افراد خلاق و باهوش. اگر شما هم به دنبال خلق آینده خود هستید، دکترساینا می تواند بستری برای شما ایجاد کند تا بودن و عملکرد شما در زمان حال در مسیر رسیدن به آینده خلق شده مد نظرتان باشد.حسام صالحمدیر ارشد فنیاولین اولویت ما در دکترساینا توسعه فردی خود        N/A      N/A          N/A          N/A           N/A             N/A        N/A    N/A             N/A\n",
      "                                                                                                                                                                                                                                                                                                                                                              https://jobinja.ir/companies/snapp-group-1/jobs    فرصت‌های شغلی فعال در گروه اسنپ | Snapp Group | جابینجاامکان جدید:همین حالا رزومه خود را در کمتر از ۱۰ دقیقه بسازید،برو به رزومه‌سازJobinja | جابینجا | استخدام، آگهی استخدام، کاریابی، استخدامی جدید، بازار کار، نیازمندیها، ساخت رزومه رایگان، کار و استخدام دولتی، اشتغال، جستجوگر حرفه ای استخدام و شغلخانهجستجوی مشاغلرزومه‌ساز۵۰ شرکت برتربخش کارفرمایانورود کارجوثبت‌نام کارجوورود کارجوثبت‌نام کارجو۱جابینجا چطور به استخدام شدن من کمک می‌کند؟مشاهدهمشاهده بیشترگروه اسنپ|Snapp Groupتاسیس در  ۲۰۱۳کامپیوتر، فناوری اطلاعات و اینترنتبیش از ۱۰۰۰ نفردر یک نگاهمعرفیفرصت‌های شغلی۴۳معرفی گروه اسنپاسنپ گروپ متشکل از فعالترین شرکت‌های اینترنتی (اسنپ، اسنپ فود، اسنپ باکس، اسنپ مارکت، اسنپ تریپ، اسنپ تیکت، اسنپ روم، اسنپ ساپلای، اسنپ دکتر، اسنپ کیچن و اسنپ پی و اسنپ شاپ و اسنپ اکسپرس) در ایران است و عمیقا متعهد به ترویج کارآفرینی و نوآوری در جامعه‌ی آنلاین ایران می‌باشد.ماموریت این گروه سرعت بخشیدن به رشد و موفقیت اقتصاد توسعه یافته بر پایه‌ی اینترنت در سراسر کشور و افزایش کیفیت زندگی مردم از طریق ارائه‌ی ب       N/A      N/A          N/A          N/A           N/A             N/A        N/A    N/A             N/A\n",
      "                                                                                                                                                                                                                        https://jobinja.ir/jobs?filters%5Bjob_categories%5D%5B%5D=%DA%A9%D8%A7%D8%B1%DA%AF%D8%B1+%D9%85%D8%A7%D9%87%D8%B1%D8%8C+%DA%A9%D8%A7%D8%B1%DA%AF%D8%B1+%D8%B5%D9%86%D8%B9%D8%AA%DB%8C   استخدام کارگر ماهر | استخدام کارگر صنعتی | استخدام فنی کار | جابینجا\\n | جابینجاامکان جدید:همین حالا رزومه خود را در کمتر از ۱۰ دقیقه بسازید،برو به رزومه‌سازJobinja | جابینجا | استخدام، آگهی استخدام، کاریابی، استخدامی جدید، بازار کار، نیازمندیها، ساخت رزومه رایگان، کار و استخدام دولتی، اشتغال، جستجوگر حرفه ای استخدام و شغلخانهجستجوی مشاغلرزومه‌ساز۵۰ شرکت برتربخش کارفرمایانورود کارجوثبت‌نام کارجوورود کارجوثبت‌نام کارجو۱جابینجا چطور به استخدام شدن من کمک می‌کند؟مشاهدهمشاهده بیشترجستجودرخواست‌های مننشان‌شده‌هاآگهی‌های پیشنهادیاز آگهی‌های جدید باخبر شوبهترین فرصت های شغلی در جابینجاهمه‌ی استان‌هاتهرانخراسان رضویاصفهانالبرزفارسقمآذربایجان شرقیمازندرانگیلانخوزستانکرمانیزدقزوینمرکزیهرمزگانگلستانزنجانآذربایجان غربیبوشهرسیستان و بلوچستانسمنانکرمانشاههمداناردبیللرستانکردستانخراسان شمالیخراسان جنوبیچهارمحال بختیاریایلامکهکیلویه و بویراحمدهمه‌ی دسته‌بندی‌هاکارگر ماهر، کارگر صنعتیفروش و بازاریابیوب،‌ برنامه‌نویسی و نرم‌افزارمالی و حسابداریمسئول دفتر، اجرائی و اداریتولید و مدیریت محتوادیجیتال مارکتین       N/A      N/A          N/A          N/A           N/A             N/A        N/A    N/A             N/A\n",
      "                                                                                                                                                                                                                                                                   https://jobinja.ir/jobs?filters%5Bjob_categories%5D%5B%5D=%D8%AE%D8%B1%DB%8C%D8%AF+%D9%88+%D8%A8%D8%A7%D8%B2%D8%B1%DA%AF%D8%A7%D9%86%DB%8C   استخدام کارشناس خرید | استخدام کارشناس تدارکات | استخدام کارشناس بازرگانی | جابینجا\\n | جابینجاامکان جدید:همین حالا رزومه خود را در کمتر از ۱۰ دقیقه بسازید،برو به رزومه‌سازJobinja | جابینجا | استخدام، آگهی استخدام، کاریابی، استخدامی جدید، بازار کار، نیازمندیها، ساخت رزومه رایگان، کار و استخدام دولتی، اشتغال، جستجوگر حرفه ای استخدام و شغلخانهجستجوی مشاغلرزومه‌ساز۵۰ شرکت برتربخش کارفرمایانورود کارجوثبت‌نام کارجوورود کارجوثبت‌نام کارجو۱جابینجا چطور به استخدام شدن من کمک می‌کند؟مشاهدهمشاهده بیشترجستجودرخواست‌های مننشان‌شده‌هاآگهی‌های پیشنهادیاز آگهی‌های جدید باخبر شوبهترین فرصت های شغلی در جابینجاهمه‌ی استان‌هاتهرانخراسان رضویاصفهانالبرزفارسقمآذربایجان شرقیمازندرانگیلانخوزستانکرمانیزدقزوینمرکزیهرمزگانگلستانزنجانآذربایجان غربیبوشهرسیستان و بلوچستانسمنانکرمانشاههمداناردبیللرستانکردستانخراسان شمالیخراسان جنوبیچهارمحال بختیاریایلامکهکیلویه و بویراحمدهمه‌ی دسته‌بندی‌هاخرید و بازرگانیفروش و بازاریابیوب،‌ برنامه‌نویسی و نرم‌افزارمالی و حسابداریمسئول دفتر، اجرائی و اداریتولید و مدیریت محتوادیجیتال        N/A      N/A          N/A          N/A           N/A             N/A        N/A    N/A             N/A\n",
      "                                                                                                                                                                                                                        https://jobinja.ir/jobs?filters%5Bjob_categories%5D%5B%5D=%D9%BE%D8%B4%D8%AA%DB%8C%D8%A8%D8%A7%D9%86%DB%8C+%D9%88+%D8%A7%D9%85%D9%88%D8%B1+%D9%85%D8%B4%D8%AA%D8%B1%DB%8C%D8%A7%D9%86   استخدام پشتیبانی و امور مشتریان\\n | جابینجاامکان جدید:همین حالا رزومه خود را در کمتر از ۱۰ دقیقه بسازید،برو به رزومه‌سازJobinja | جابینجا | استخدام، آگهی استخدام، کاریابی، استخدامی جدید، بازار کار، نیازمندیها، ساخت رزومه رایگان، کار و استخدام دولتی، اشتغال، جستجوگر حرفه ای استخدام و شغلخانهجستجوی مشاغلرزومه‌ساز۵۰ شرکت برتربخش کارفرمایانورود کارجوثبت‌نام کارجوورود کارجوثبت‌نام کارجو۱جابینجا چطور به استخدام شدن من کمک می‌کند؟مشاهدهمشاهده بیشترجستجودرخواست‌های مننشان‌شده‌هاآگهی‌های پیشنهادیاز آگهی‌های جدید باخبر شوبهترین فرصت های شغلی در جابینجاهمه‌ی استان‌هاتهرانخراسان رضویاصفهانالبرزفارسقمآذربایجان شرقیمازندرانگیلانخوزستانکرمانیزدقزوینمرکزیهرمزگانگلستانزنجانآذربایجان غربیبوشهرسیستان و بلوچستانسمنانکرمانشاههمداناردبیللرستانکردستانخراسان شمالیخراسان جنوبیچهارمحال بختیاریایلامکهکیلویه و بویراحمدهمه‌ی دسته‌بندی‌هاپشتیبانی و امور مشتریانفروش و بازاریابیوب،‌ برنامه‌نویسی و نرم‌افزارمالی و حسابداریمسئول دفتر، اجرائی و اداریتولید و مدیریت محتوادیجیتال مارکتینگطراحیIT / DevOps / Serverمهندسی صنای       N/A      N/A          N/A          N/A           N/A             N/A        N/A    N/A             N/A\n",
      "                                                                                                                                                                                                                                                                                     https://jobinja.ir/jobs?filters%5Bkeywords%5D%5B0%5D=%D9%85%D9%86%D8%A7%D8%A8%D8%B9+%D8%A7%D9%86%D8%B3%D8%A7%D9%86%DB%8C   فرصت های شغلی منابع انسانی\\n | جابینجاامکان جدید:همین حالا رزومه خود را در کمتر از ۱۰ دقیقه بسازید،برو به رزومه‌سازJobinja | جابینجا | استخدام، آگهی استخدام، کاریابی، استخدامی جدید، بازار کار، نیازمندیها، ساخت رزومه رایگان، کار و استخدام دولتی، اشتغال، جستجوگر حرفه ای استخدام و شغلخانهجستجوی مشاغلرزومه‌ساز۵۰ شرکت برتربخش کارفرمایانورود کارجوثبت‌نام کارجوورود کارجوثبت‌نام کارجو۱جابینجا چطور به استخدام شدن من کمک می‌کند؟مشاهدهمشاهده بیشترجستجودرخواست‌های مننشان‌شده‌هاآگهی‌های پیشنهادیاز آگهی‌های جدید باخبر شوبهترین فرصت های شغلی در جابینجاهمه‌ی استان‌هاتهرانخراسان رضویاصفهانالبرزفارسقمآذربایجان شرقیمازندرانگیلانخوزستانکرمانیزدقزوینمرکزیهرمزگانگلستانزنجانآذربایجان غربیبوشهرسیستان و بلوچستانسمنانکرمانشاههمداناردبیللرستانکردستانخراسان شمالیخراسان جنوبیچهارمحال بختیاریایلامکهکیلویه و بویراحمدهمه‌ی دسته‌بندی‌هافروش و بازاریابیوب،‌ برنامه‌نویسی و نرم‌افزارمالی و حسابداریمسئول دفتر، اجرائی و اداریتولید و مدیریت محتوادیجیتال مارکتینگپشتیبانی و امور مشتریانطراحیIT / DevOps / Serverمهندسی صنایع و م       N/A      N/A          N/A          N/A           N/A             N/A        N/A    N/A             N/A\n",
      "                                                                                                                                                                                                                                                                                                                                                                   https://jobinja.ir/companies/entakala/jobs    فرصت‌های شغلی فعال در انتاکالا  | Entakala | جابینجاامکان جدید:همین حالا رزومه خود را در کمتر از ۱۰ دقیقه بسازید،برو به رزومه‌سازJobinja | جابینجا | استخدام، آگهی استخدام، کاریابی، استخدامی جدید، بازار کار، نیازمندیها، ساخت رزومه رایگان، کار و استخدام دولتی، اشتغال، جستجوگر حرفه ای استخدام و شغلخانهجستجوی مشاغلرزومه‌ساز۵۰ شرکت برتربخش کارفرمایانورود کارجوثبت‌نام کارجوورود کارجوثبت‌نام کارجو۱جابینجا چطور به استخدام شدن من کمک می‌کند؟مشاهدهمشاهده بیشترانتاکالا|Entakalaتاسیس در  ۱۳۹۷کامپیوتر، فناوری اطلاعات و اینترنت۵۱ تا ۲۰۰ نفرwww.entakala.comدر یک نگاهمعرفیفرصت‌های شغلی۱معرفی انتاکالاانتاکالا؛ بازار آنلاین کالاهای صنعتی است که در سال 1397 راه‌اندازی شده است. ما می‌خواهیم برای گسترش کار و دانش خود از دیگر متخصصان و تجربیات آن‌ھا استفاده کنیم تا سرعت بیشتری برای رشد و توسعه داشته باشیم و از سوی دیگر، دوست داریم فرصت گسترش توانمندی‌ھا و کسب تجربه را در اختیار ھمکاران تازه خود قرار دهیم.اگر شما ھم می‌خواھید تجربه تازه‌ای در مسیر شغلی‌تان به دست آورید و البته مھارت‌ھای مورد نیاز را برای توس       N/A      N/A          N/A          N/A           N/A             N/A        N/A    N/A             N/A\n",
      "                                                                                                                                                                                                                                                                                                                          https://jobinja.ir/jobs?filters%5Bkeywords%5D%5B0%5D=%D9%85%D8%AA%D8%B1%D8%AC%D9%85   فرصت های شغلی مترجم\\n | جابینجاامکان جدید:همین حالا رزومه خود را در کمتر از ۱۰ دقیقه بسازید،برو به رزومه‌سازJobinja | جابینجا | استخدام، آگهی استخدام، کاریابی، استخدامی جدید، بازار کار، نیازمندیها، ساخت رزومه رایگان، کار و استخدام دولتی، اشتغال، جستجوگر حرفه ای استخدام و شغلخانهجستجوی مشاغلرزومه‌ساز۵۰ شرکت برتربخش کارفرمایانورود کارجوثبت‌نام کارجوورود کارجوثبت‌نام کارجو۱جابینجا چطور به استخدام شدن من کمک می‌کند؟مشاهدهمشاهده بیشترجستجودرخواست‌های مننشان‌شده‌هاآگهی‌های پیشنهادیاز آگهی‌های جدید باخبر شوبهترین فرصت های شغلی در جابینجاهمه‌ی استان‌هاتهرانخراسان رضویاصفهانالبرزفارسقمآذربایجان شرقیمازندرانگیلانخوزستانکرمانیزدقزوینمرکزیهرمزگانگلستانزنجانآذربایجان غربیبوشهرسیستان و بلوچستانسمنانکرمانشاههمداناردبیللرستانکردستانخراسان شمالیخراسان جنوبیچهارمحال بختیاریایلامکهکیلویه و بویراحمدهمه‌ی دسته‌بندی‌هافروش و بازاریابیوب،‌ برنامه‌نویسی و نرم‌افزارمالی و حسابداریمسئول دفتر، اجرائی و اداریتولید و مدیریت محتوادیجیتال مارکتینگپشتیبانی و امور مشتریانطراحیIT / DevOps / Serverمهندسی صنایع و مدیریت ص       N/A      N/A          N/A          N/A           N/A             N/A        N/A    N/A             N/A\n",
      "                                                                                                                                                                                                                                                                                            https://jobinja.ir/jobs?filters%5Bjob_categories%5D%5B%5D=%D9%85%D8%AF%DB%8C%D8%B1+%D9%85%D8%AD%D8%B5%D9%88%D9%84   استخدام مدیر محصول | آگهی استخدام مالک محصول\\n | جابینجاامکان جدید:همین حالا رزومه خود را در کمتر از ۱۰ دقیقه بسازید،برو به رزومه‌سازJobinja | جابینجا | استخدام، آگهی استخدام، کاریابی، استخدامی جدید، بازار کار، نیازمندیها، ساخت رزومه رایگان، کار و استخدام دولتی، اشتغال، جستجوگر حرفه ای استخدام و شغلخانهجستجوی مشاغلرزومه‌ساز۵۰ شرکت برتربخش کارفرمایانورود کارجوثبت‌نام کارجوورود کارجوثبت‌نام کارجو۱جابینجا چطور به استخدام شدن من کمک می‌کند؟مشاهدهمشاهده بیشترجستجودرخواست‌های مننشان‌شده‌هاآگهی‌های پیشنهادیاز آگهی‌های جدید باخبر شوبهترین فرصت های شغلی در جابینجاهمه‌ی استان‌هاتهرانخراسان رضویاصفهانالبرزفارسقمآذربایجان شرقیمازندرانگیلانخوزستانکرمانیزدقزوینمرکزیهرمزگانگلستانزنجانآذربایجان غربیبوشهرسیستان و بلوچستانسمنانکرمانشاههمداناردبیللرستانکردستانخراسان شمالیخراسان جنوبیچهارمحال بختیاریایلامکهکیلویه و بویراحمدهمه‌ی دسته‌بندی‌هامدیر محصولفروش و بازاریابیوب،‌ برنامه‌نویسی و نرم‌افزارمالی و حسابداریمسئول دفتر، اجرائی و اداریتولید و مدیریت محتوادیجیتال مارکتینگپشتیبانی و امور مشتریانطراحیIT / Dev       N/A      N/A          N/A          N/A           N/A             N/A        N/A    N/A             N/A\n",
      "                                                                                                                                                                                                                                             https://jobinja.ir/jobs?filters%5Bjob_categories%5D%5B%5D=%D8%AD%D9%88%D8%B2%D9%87%E2%80%8C+%D8%B3%DB%8C%D9%86%D9%85%D8%A7+%D9%88+%D8%AA%D8%B5%D9%88%DB%8C%D8%B1   استخدام تصویربردار | استخدام مجری\\n | جابینجاامکان جدید:همین حالا رزومه خود را در کمتر از ۱۰ دقیقه بسازید،برو به رزومه‌سازJobinja | جابینجا | استخدام، آگهی استخدام، کاریابی، استخدامی جدید، بازار کار، نیازمندیها، ساخت رزومه رایگان، کار و استخدام دولتی، اشتغال، جستجوگر حرفه ای استخدام و شغلخانهجستجوی مشاغلرزومه‌ساز۵۰ شرکت برتربخش کارفرمایانورود کارجوثبت‌نام کارجوورود کارجوثبت‌نام کارجو۱جابینجا چطور به استخدام شدن من کمک می‌کند؟مشاهدهمشاهده بیشترجستجودرخواست‌های مننشان‌شده‌هاآگهی‌های پیشنهادیاز آگهی‌های جدید باخبر شوبهترین فرصت های شغلی در جابینجاهمه‌ی استان‌هاتهرانخراسان رضویاصفهانالبرزفارسقمآذربایجان شرقیمازندرانگیلانخوزستانکرمانیزدقزوینمرکزیهرمزگانگلستانزنجانآذربایجان غربیبوشهرسیستان و بلوچستانسمنانکرمانشاههمداناردبیللرستانکردستانخراسان شمالیخراسان جنوبیچهارمحال بختیاریایلامکهکیلویه و بویراحمدهمه‌ی دسته‌بندی‌هاحوزه‌ سینما و تصویرفروش و بازاریابیوب،‌ برنامه‌نویسی و نرم‌افزارمالی و حسابداریمسئول دفتر، اجرائی و اداریتولید و مدیریت محتوادیجیتال مارکتینگپشتیبانی و امور مشتریانطراحیIT / DevOp       N/A      N/A          N/A          N/A           N/A             N/A        N/A    N/A             N/A\n",
      "                                                        https://jobinja.ir/companies/paklean-1/jobs/A7w8/%D8%A7%D8%B3%D8%AA%D8%AE%D8%AF%D8%A7%D9%85-%DA%A9%D8%A7%D8%B1%D8%B4%D9%86%D8%A7%D8%B3-%D9%BE%D8%B4%D8%AA%DB%8C%D8%A8%D8%A7%D9%86%DB%8C-%D9%88-%D8%A7%D8%B1%D8%AA%D8%A8%D8%A7%D8%B7-%D8%A8%D8%A7-%D9%85%D8%B4%D8%AA%D8%B1%DB%8C%D8%A7%D9%86-%D8%AF%D8%B1-%D9%BE%D8%A7%DA%A9%D9%84%DB%8C%D9%86?_ref=18   استخدام کارشناس پشتیبانی و ارتباط با مشتریان در پاکلین | جابینجاامکان جدید:همین حالا رزومه خود را در کمتر از ۱۰ دقیقه بسازید،برو به رزومه‌سازJobinja | جابینجا | استخدام، آگهی استخدام، کاریابی، استخدامی جدید، بازار کار، نیازمندیها، ساخت رزومه رایگان، کار و استخدام دولتی، اشتغال، جستجوگر حرفه ای استخدام و شغلخانهجستجوی مشاغلرزومه‌ساز۵۰ شرکت برتربخش کارفرمایانورود کارجوثبت‌نام کارجوورود کارجوثبت‌نام کارجو۱جابینجا چطور به استخدام شدن من کمک می‌کند؟مشاهدهمشاهده بیشترپاکلین|Pakleanکامپیوتر، فناوری اطلاعات و اینترنت۱۱ تا ۵۰ نفرpaklean.comفرصت‌های شغلی۳استخدام کارشناس پشتیبانی و ارتباط با مشتریانلطفا برای مشاهده‌ی جزییات و ارسال رزومهیکی از راه‌های زیر را انتخاب کنیدورود / ثبت‌نام با ایمیلimage/svg+xmlbtn_google_light_normal_iosbtn_google_light_normal_iosCreated with Sketch.ورود / ثبت‌نام با گوگل\\n                    (Gmail)ورود / ثبت‌نام با لینکدیناستخدام کارشناس پشتیبانی و ارتباط با مشتریان{{ tooltipText }}{{ hoverTitle }}نشان کردنحذف نشاندسته‌بندی شغلیپشتیبانی و امور مشتریانموقعیت مکانیتهران       N/A      N/A          N/A          N/A           N/A             N/A        N/A    N/A             N/A\n",
      "                                                                                                                                                             https://jobinja.ir/companies/seodo-1/jobs/A7gO/%D8%A7%D8%B3%D8%AA%D8%AE%D8%AF%D8%A7%D9%85-%DA%A9%D8%A7%D8%B1%D8%B4%D9%86%D8%A7%D8%B3-%D9%81%D8%B1%D9%88%D8%B4-%D8%AF%D8%B1-%D8%A2%DA%98%D8%A7%D9%86%D8%B3-%D8%B3%D8%A6%D9%88%D8%AF%D9%88?_ref=18  استخدام کارشناس فروش در آژانس سئودو | جابینجاامکان جدید:همین حالا رزومه خود را در کمتر از ۱۰ دقیقه بسازید،برو به رزومه‌سازJobinja | جابینجا | استخدام، آگهی استخدام، کاریابی، استخدامی جدید، بازار کار، نیازمندیها، ساخت رزومه رایگان، کار و استخدام دولتی، اشتغال، جستجوگر حرفه ای استخدام و شغلخانهجستجوی مشاغلرزومه‌ساز۵۰ شرکت برتربخش کارفرمایانورود کارجوثبت‌نام کارجوورود کارجوثبت‌نام کارجو۱جابینجا چطور به استخدام شدن من کمک می‌کند؟مشاهدهمشاهده بیشترآژانس سئودو|Seodoتبلیغات، بازاریابی و برندسازی۱۱ تا ۵۰ نفرseodo.agencyفرصت‌های شغلی۱۵استخدام کارشناس فروشلطفا برای مشاهده‌ی جزییات و ارسال رزومهیکی از راه‌های زیر را انتخاب کنیدورود / ثبت‌نام با ایمیلimage/svg+xmlbtn_google_light_normal_iosbtn_google_light_normal_iosCreated with Sketch.ورود / ثبت‌نام با گوگل\\n                    (Gmail)ورود / ثبت‌نام با لینکدیناستخدام کارشناس فروش{{ tooltipText }}{{ hoverTitle }}نشان کردنحذف نشاندسته‌بندی شغلیفروش و بازاریابیموقعیت مکانیتهران\\n                                                ، تهراننوع همکاریتمام وقت       N/A      N/A          N/A          N/A           N/A             N/A        N/A    N/A             N/A\n",
      "                                                                                                                                                                                                                                                                                                              https://jobinja.ir/jobs?filters%5Bkeywords%5D%5B0%5D=%DA%A9%D8%A7%D8%B1%D8%A2%D9%85%D9%88%D8%B2   فرصت های شغلی کارآموز\\n | جابینجاامکان جدید:همین حالا رزومه خود را در کمتر از ۱۰ دقیقه بسازید،برو به رزومه‌سازJobinja | جابینجا | استخدام، آگهی استخدام، کاریابی، استخدامی جدید، بازار کار، نیازمندیها، ساخت رزومه رایگان، کار و استخدام دولتی، اشتغال، جستجوگر حرفه ای استخدام و شغلخانهجستجوی مشاغلرزومه‌ساز۵۰ شرکت برتربخش کارفرمایانورود کارجوثبت‌نام کارجوورود کارجوثبت‌نام کارجو۱جابینجا چطور به استخدام شدن من کمک می‌کند؟مشاهدهمشاهده بیشترجستجودرخواست‌های مننشان‌شده‌هاآگهی‌های پیشنهادیاز آگهی‌های جدید باخبر شوبهترین فرصت های شغلی در جابینجاهمه‌ی استان‌هاتهرانخراسان رضویاصفهانالبرزفارسقمآذربایجان شرقیمازندرانگیلانخوزستانکرمانیزدقزوینمرکزیهرمزگانگلستانزنجانآذربایجان غربیبوشهرسیستان و بلوچستانسمنانکرمانشاههمداناردبیللرستانکردستانخراسان شمالیخراسان جنوبیچهارمحال بختیاریایلامکهکیلویه و بویراحمدهمه‌ی دسته‌بندی‌هافروش و بازاریابیوب،‌ برنامه‌نویسی و نرم‌افزارمالی و حسابداریمسئول دفتر، اجرائی و اداریتولید و مدیریت محتوادیجیتال مارکتینگپشتیبانی و امور مشتریانطراحیIT / DevOps / Serverمهندسی صنایع و مدیریت       N/A      N/A          N/A          N/A           N/A             N/A        N/A    N/A             N/A\n",
      "                                                                                                                                                                                                                                                                                      https://jobinja.ir/jobs?filters%5Bjob_categories%5D%5B%5D=%D9%85%D8%AF%DB%8C%D8%B1%DB%8C%D8%AA+%D8%A8%DB%8C%D9%85%D9%87   استخدام کارشناس بیمه | آگهی استخدام بیمه | استخدام کارشناس صدور بیمه | جابینجا\\n | جابینجاامکان جدید:همین حالا رزومه خود را در کمتر از ۱۰ دقیقه بسازید،برو به رزومه‌سازJobinja | جابینجا | استخدام، آگهی استخدام، کاریابی، استخدامی جدید، بازار کار، نیازمندیها، ساخت رزومه رایگان، کار و استخدام دولتی، اشتغال، جستجوگر حرفه ای استخدام و شغلخانهجستجوی مشاغلرزومه‌ساز۵۰ شرکت برتربخش کارفرمایانورود کارجوثبت‌نام کارجوورود کارجوثبت‌نام کارجو۱جابینجا چطور به استخدام شدن من کمک می‌کند؟مشاهدهمشاهده بیشترجستجودرخواست‌های مننشان‌شده‌هاآگهی‌های پیشنهادیاز آگهی‌های جدید باخبر شوبهترین فرصت های شغلی در جابینجاهمه‌ی استان‌هاتهرانخراسان رضویاصفهانالبرزفارسقمآذربایجان شرقیمازندرانگیلانخوزستانکرمانیزدقزوینمرکزیهرمزگانگلستانزنجانآذربایجان غربیبوشهرسیستان و بلوچستانسمنانکرمانشاههمداناردبیللرستانکردستانخراسان شمالیخراسان جنوبیچهارمحال بختیاریایلامکهکیلویه و بویراحمدهمه‌ی دسته‌بندی‌هامدیریت بیمهفروش و بازاریابیوب،‌ برنامه‌نویسی و نرم‌افزارمالی و حسابداریمسئول دفتر، اجرائی و اداریتولید و مدیریت محتوادیجیتال مارکتینگپ       N/A      N/A          N/A          N/A           N/A             N/A        N/A    N/A             N/A\n",
      "                                                                                                                                                                                                                              https://jobinja.ir/jobs?filters%5Bjob_categories%5D%5B%5D=%D9%85%D9%87%D9%86%D8%AF%D8%B3%DB%8C+%D8%A8%D8%B1%D9%82+%D9%88+%D8%A7%D9%84%DA%A9%D8%AA%D8%B1%D9%88%D9%86%DB%8C%DA%A9   استخدام مهندس برق و الکترونیک\\n | جابینجاامکان جدید:همین حالا رزومه خود را در کمتر از ۱۰ دقیقه بسازید،برو به رزومه‌سازJobinja | جابینجا | استخدام، آگهی استخدام، کاریابی، استخدامی جدید، بازار کار، نیازمندیها، ساخت رزومه رایگان، کار و استخدام دولتی، اشتغال، جستجوگر حرفه ای استخدام و شغلخانهجستجوی مشاغلرزومه‌ساز۵۰ شرکت برتربخش کارفرمایانورود کارجوثبت‌نام کارجوورود کارجوثبت‌نام کارجو۱جابینجا چطور به استخدام شدن من کمک می‌کند؟مشاهدهمشاهده بیشترجستجودرخواست‌های مننشان‌شده‌هاآگهی‌های پیشنهادیاز آگهی‌های جدید باخبر شوبهترین فرصت های شغلی در جابینجاهمه‌ی استان‌هاتهرانخراسان رضویاصفهانالبرزفارسقمآذربایجان شرقیمازندرانگیلانخوزستانکرمانیزدقزوینمرکزیهرمزگانگلستانزنجانآذربایجان غربیبوشهرسیستان و بلوچستانسمنانکرمانشاههمداناردبیللرستانکردستانخراسان شمالیخراسان جنوبیچهارمحال بختیاریایلامکهکیلویه و بویراحمدهمه‌ی دسته‌بندی‌هامهندسی برق و الکترونیکفروش و بازاریابیوب،‌ برنامه‌نویسی و نرم‌افزارمالی و حسابداریمسئول دفتر، اجرائی و اداریتولید و مدیریت محتوادیجیتال مارکتینگپشتیبانی و امور مشتریانطراحیIT / DevOps       N/A      N/A          N/A          N/A           N/A             N/A        N/A    N/A             N/A\n",
      "                                                                                                                                                                                                                                                                    https://jobinja.ir/jobs?filters%5Bjob_categories%5D%5B%5D=%D9%85%D9%87%D9%86%D8%AF%D8%B3%DB%8C+%DA%A9%D8%B4%D8%A7%D9%88%D8%B1%D8%B2%DB%8C   استخدام مهندس کشاورزی | استخدام مهندس آبیاری | استخدام کارشناس باغبانی | جابینجا\\n | جابینجاامکان جدید:همین حالا رزومه خود را در کمتر از ۱۰ دقیقه بسازید،برو به رزومه‌سازJobinja | جابینجا | استخدام، آگهی استخدام، کاریابی، استخدامی جدید، بازار کار، نیازمندیها، ساخت رزومه رایگان، کار و استخدام دولتی، اشتغال، جستجوگر حرفه ای استخدام و شغلخانهجستجوی مشاغلرزومه‌ساز۵۰ شرکت برتربخش کارفرمایانورود کارجوثبت‌نام کارجوورود کارجوثبت‌نام کارجو۱جابینجا چطور به استخدام شدن من کمک می‌کند؟مشاهدهمشاهده بیشترجستجودرخواست‌های مننشان‌شده‌هاآگهی‌های پیشنهادیاز آگهی‌های جدید باخبر شوبهترین فرصت های شغلی در جابینجاهمه‌ی استان‌هاتهرانخراسان رضویاصفهانالبرزفارسقمآذربایجان شرقیمازندرانگیلانخوزستانکرمانیزدقزوینمرکزیهرمزگانگلستانزنجانآذربایجان غربیبوشهرسیستان و بلوچستانسمنانکرمانشاههمداناردبیللرستانکردستانخراسان شمالیخراسان جنوبیچهارمحال بختیاریایلامکهکیلویه و بویراحمدهمه‌ی دسته‌بندی‌هامهندسی کشاورزیفروش و بازاریابیوب،‌ برنامه‌نویسی و نرم‌افزارمالی و حسابداریمسئول دفتر، اجرائی و اداریتولید و مدیریت محتوادیجیتال مارک       N/A      N/A          N/A          N/A           N/A             N/A        N/A    N/A             N/A\n",
      "                                                                                                                                                                                                                                                                                                                                                                                   https://jobinja.ir/contact  تماس با ما | جابینجاامکان جدید:همین حالا رزومه خود را در کمتر از ۱۰ دقیقه بسازید،برو به رزومه‌سازJobinja | جابینجا | استخدام، آگهی استخدام، کاریابی، استخدامی جدید، بازار کار، نیازمندیها، ساخت رزومه رایگان، کار و استخدام دولتی، اشتغال، جستجوگر حرفه ای استخدام و شغلخانهجستجوی مشاغلرزومه‌ساز۵۰ شرکت برتربخش کارفرمایانورود کارجوثبت‌نام کارجوورود کارجوثبت‌نام کارجو۱جابینجا چطور به استخدام شدن من کمک می‌کند؟مشاهدهمشاهده بیشترتماس با مااگر سوالی دارید، یک مشکل در وب‌سایت پیدا کرده‌اید و می‌خواهید به ما اطلاع دهید، برای جاب‌اینجا\\n                        پیشنهادی دارید، اگر حتی فقط قصد آشنا شدن با ما را دارید، یک لحظه هم درنگ نکنید! همین حالا با ما\\n                        تماس بگیرید‌ :)hi@jobinja.irایمیل شمافرمت ایمیل صحیح نیست.ایمیل را وارد کنیدشماره موبایل شمافرمت شماره موبایل صحیح نیست.شماره موبایل را وارد کنیدپیام شمامتن پیام را وارد کنید.پیام شما با موفقیت ارسال شد.کارجویانسوالات متداول کارجویانقوانین و مقررات کارجویانلیست مشاغلآگهی‌های استخدامورود / ثبت‌نام کارجوایمیل‌های اطلاع‌رسانیرزومه       N/A      N/A          N/A          N/A           N/A             N/A        N/A    N/A             N/A\n",
      "                                                                                                                                                                           https://jobinja.ir/jobs?filters%5Bjob_categories%5D%5B%5D=%D9%88%D8%A8%D8%8C%E2%80%8C+%D8%A8%D8%B1%D9%86%D8%A7%D9%85%D9%87%E2%80%8C%D9%86%D9%88%DB%8C%D8%B3%DB%8C+%D9%88+%D9%86%D8%B1%D9%85%E2%80%8C%D8%A7%D9%81%D8%B2%D8%A7%D8%B1   استخدام برنامه نویس | استخدام طراح سایت| استخدام برنامه نویس وب\\n | جابینجاامکان جدید:همین حالا رزومه خود را در کمتر از ۱۰ دقیقه بسازید،برو به رزومه‌سازJobinja | جابینجا | استخدام، آگهی استخدام، کاریابی، استخدامی جدید، بازار کار، نیازمندیها، ساخت رزومه رایگان، کار و استخدام دولتی، اشتغال، جستجوگر حرفه ای استخدام و شغلخانهجستجوی مشاغلرزومه‌ساز۵۰ شرکت برتربخش کارفرمایانورود کارجوثبت‌نام کارجوورود کارجوثبت‌نام کارجو۱جابینجا چطور به استخدام شدن من کمک می‌کند؟مشاهدهمشاهده بیشترجستجودرخواست‌های مننشان‌شده‌هاآگهی‌های پیشنهادیاز آگهی‌های جدید باخبر شوبهترین فرصت های شغلی در جابینجاهمه‌ی استان‌هاتهرانخراسان رضویاصفهانالبرزفارسقمآذربایجان شرقیمازندرانگیلانخوزستانکرمانیزدقزوینمرکزیهرمزگانگلستانزنجانآذربایجان غربیبوشهرسیستان و بلوچستانسمنانکرمانشاههمداناردبیللرستانکردستانخراسان شمالیخراسان جنوبیچهارمحال بختیاریایلامکهکیلویه و بویراحمدهمه‌ی دسته‌بندی‌هاوب،‌ برنامه‌نویسی و نرم‌افزارفروش و بازاریابیمالی و حسابداریمسئول دفتر، اجرائی و اداریتولید و مدیریت محتوادیجیتال مارکتینگپشتیبانی و امور مشتریانطراح       N/A      N/A          N/A          N/A           N/A             N/A        N/A    N/A             N/A\n",
      "                                                                                                                                                                                                                                                                                                                                     https://jobinja.ir/knowledge/job-seeker-faq/pages/job-seeker-account-faq    سوالات متداول حساب کاربری کارجویان | جابینجاامکان جدید:همین حالا رزومه خود را در کمتر از ۱۰ دقیقه بسازید،برو به رزومه‌سازJobinja | جابینجا | استخدام، آگهی استخدام، کاریابی، استخدامی جدید، بازار کار، نیازمندیها، ساخت رزومه رایگان، کار و استخدام دولتی، اشتغال، جستجوگر حرفه ای استخدام و شغلخانهجستجوی مشاغلرزومه‌ساز۵۰ شرکت برتربخش کارفرمایانورود کارجوثبت‌نام کارجوورود کارجوثبت‌نام کارجو۱جابینجا چطور به استخدام شدن من کمک می‌کند؟مشاهدهمشاهده بیشترسوالات متداول کارجویانسوالات متداول حساب کاربری کارجویانسوالات متداول حساب کاربری کارجویانثبت نام  و ورود به پنل کارجویی:چگونه می‌توانم در جابینجا حساب کاربری ایجاد کنم؟برای ایجاد حساب کاربری وارد سایت jobinja.ir شوید و از نوار بالای صفحه روی قسمت ثبت نام کارجو کلیک نمایید. بعد از وارد کردن آدرس ایمیل، نام و نام خانوادگی و رمز عبور روی گزینه ثبت نام کلیک کنید تا حساب کاربری شما ساخته شود.چگونه می‌توانم وارد حساب کاربری خود شوم؟بعد از ورود به سایت jobinja.ir از نوار بالای صفحه روی قسمت ورود کارجو کلیک نمایید و با وارد کردن آدرس ایمیل و رمز عبور خود        N/A      N/A          N/A          N/A           N/A             N/A        N/A    N/A             N/A\n",
      "                                                                                                                                                                                                                                                                                                                                                                     https://jobinja.ir/companies/admoon/jobs    فرصت‌های شغلی فعال در ادمون | Admoon | جابینجاامکان جدید:همین حالا رزومه خود را در کمتر از ۱۰ دقیقه بسازید،برو به رزومه‌سازJobinja | جابینجا | استخدام، آگهی استخدام، کاریابی، استخدامی جدید، بازار کار، نیازمندیها، ساخت رزومه رایگان، کار و استخدام دولتی، اشتغال، جستجوگر حرفه ای استخدام و شغلخانهجستجوی مشاغلرزومه‌ساز۵۰ شرکت برتربخش کارفرمایانورود کارجوثبت‌نام کارجوورود کارجوثبت‌نام کارجو۱جابینجا چطور به استخدام شدن من کمک می‌کند؟مشاهدهمشاهده بیشترادمون|Admoonتاسیس در  ۱۳۹۷تبلیغات، بازاریابی و برندسازی۱۱ تا ۵۰ نفرadmoon.net/?job=trueدر یک نگاهمعرفیفرصت‌های شغلی۹معرفی ادمونادمون، پلتفرم ارائه دهنده‌ی سرویس تبلیغات گوگل (Google Ads) با هدف جلوگیری از هدر رفت هزینه تبلیغات آنلاین و پیاده سازی راهکار های نتیجه‌بخش روی کمپین های گوگل وارد این عرصه شد و به پشتوانه تجربه‌ی هفت ساله در تبلیغات ‌‌، نبوغ بالای سرمایه انسانی و طراحی ماژول هایی اثربخش برای کمپین های تبلیغاتی داخلی و خارجی تمایز رو هم در داخل ایران و هم عرصه بین‌المللی با کمک تیم قدرتمند خودش رقم زده و به دنبال جذب نیروهای با استعدادی        N/A      N/A          N/A          N/A           N/A             N/A        N/A    N/A             N/A\n",
      "                                                                                                                                                                                                                                                                                                              https://jobinja.ir/jobs?filters%5Blocations%5D%5B%5D=%D8%AE%D9%88%D8%B2%D8%B3%D8%AA%D8%A7%D9%86   آگهی استخدام خوزستان | استخدام خوزستان | کاریابی خوزستان\\n | جابینجاامکان جدید:همین حالا رزومه خود را در کمتر از ۱۰ دقیقه بسازید،برو به رزومه‌سازJobinja | جابینجا | استخدام، آگهی استخدام، کاریابی، استخدامی جدید، بازار کار، نیازمندیها، ساخت رزومه رایگان، کار و استخدام دولتی، اشتغال، جستجوگر حرفه ای استخدام و شغلخانهجستجوی مشاغلرزومه‌ساز۵۰ شرکت برتربخش کارفرمایانورود کارجوثبت‌نام کارجوورود کارجوثبت‌نام کارجو۱جابینجا چطور به استخدام شدن من کمک می‌کند؟مشاهدهمشاهده بیشترجستجودرخواست‌های مننشان‌شده‌هاآگهی‌های پیشنهادیاز آگهی‌های جدید باخبر شوبهترین فرصت های شغلی در جابینجاهمه‌ی استان‌هاخوزستانتهرانخراسان رضویاصفهانالبرزفارسقمآذربایجان شرقیمازندرانگیلانکرمانیزدقزوینمرکزیهرمزگانگلستانزنجانآذربایجان غربیبوشهرسیستان و بلوچستانسمنانکرمانشاههمداناردبیللرستانکردستانخراسان شمالیخراسان جنوبیچهارمحال بختیاریایلامکهکیلویه و بویراحمدهمه‌ی دسته‌بندی‌هافروش و بازاریابیوب،‌ برنامه‌نویسی و نرم‌افزارمالی و حسابداریمسئول دفتر، اجرائی و اداریتولید و مدیریت محتوادیجیتال مارکتینگپشتیبانی و امور مشتریانطراحیIT / D       N/A      N/A          N/A          N/A           N/A             N/A        N/A    N/A             N/A\n"
     ]
    }
   ],
   "source": [
    "import requests\n",
    "from bs4 import BeautifulSoup\n",
    "import time\n",
    "import pandas as pd\n",
    "import os\n",
    "\n",
    "class JobinjaScraper:\n",
    "    def __init__(self, base_url, headers):\n",
    "        self.base_url = base_url\n",
    "        self.headers = headers\n",
    "        self.subpage_links = set()\n",
    "        self.all_jobs_data = []\n",
    "\n",
    "    def get_links(self):\n",
    "        try:\n",
    "            response = requests.get(self.base_url, headers=self.headers, verify=False, timeout=10)\n",
    "            response.raise_for_status()\n",
    "\n",
    "            soup = BeautifulSoup(response.text, 'html.parser')\n",
    "            links = soup.find_all('a', href=True)\n",
    "\n",
    "            for link in links:\n",
    "                href = link['href']\n",
    "                if href.startswith('/'):  # It's a relative link\n",
    "                    full_url = self.base_url + href\n",
    "                elif href.startswith('http'):\n",
    "                    full_url = href\n",
    "                else:\n",
    "                    continue  # Skip if the href doesn't look like a valid link\n",
    "\n",
    "                self.subpage_links.add(full_url)\n",
    "\n",
    "        except requests.exceptions.SSLError as e:\n",
    "            print(f\"SSL error occurred: {e}\")\n",
    "        except requests.exceptions.RequestException as e:\n",
    "            print(f\"An error occurred: {e}\")\n",
    "\n",
    "    def extract_subpage_text(self):\n",
    "        for subpage_url in self.subpage_links:\n",
    "            try:\n",
    "                subpage_response = requests.get(subpage_url, headers=self.headers, verify=False, timeout=10)\n",
    "                subpage_response.raise_for_status()\n",
    "\n",
    "                subpage_soup = BeautifulSoup(subpage_response.text, 'html.parser')\n",
    "                subpage_text = subpage_soup.get_text(strip=True)\n",
    "                \n",
    "                # Extract additional job data for sorting\n",
    "                job_title = subpage_soup.find('h1', {'class': 'job-title'})\n",
    "                job_type = subpage_soup.find('div', {'class': 'job-type'})\n",
    "                job_location = subpage_soup.find('div', {'class': 'job-location'})\n",
    "                company_name = subpage_soup.find('div', {'class': 'company-name'})\n",
    "                contract_type = subpage_soup.find('div', {'class': 'contract-type'})\n",
    "                work_experience = subpage_soup.find('div', {'class': 'work-experience'})\n",
    "                min_salary = subpage_soup.find('div', {'class': 'min-salary'})\n",
    "                gender = subpage_soup.find('div', {'class': 'gender'})\n",
    "                education_level = subpage_soup.find('div', {'class': 'education-level'})\n",
    "\n",
    "                job_data = {\n",
    "                    \"url\": subpage_url,\n",
    "                    \"content_snippet\": subpage_text[:1000],\n",
    "                    \"job_title\": job_title.get_text(strip=True) if job_title else \"N/A\",\n",
    "                    \"job_type\": job_type.get_text(strip=True) if job_type else \"N/A\",\n",
    "                    \"job_location\": job_location.get_text(strip=True) if job_location else \"N/A\",\n",
    "                    \"company_name\": company_name.get_text(strip=True) if company_name else \"N/A\",\n",
    "                    \"contract_type\": contract_type.get_text(strip=True) if contract_type else \"N/A\",\n",
    "                    \"work_experience\": work_experience.get_text(strip=True) if work_experience else \"N/A\",\n",
    "                    \"min_salary\": min_salary.get_text(strip=True) if min_salary else \"N/A\",\n",
    "                    \"gender\": gender.get_text(strip=True) if gender else \"N/A\",\n",
    "                    \"education_level\": education_level.get_text(strip=True) if education_level else \"N/A\",\n",
    "                }\n",
    "                self.all_jobs_data.append(job_data)\n",
    "\n",
    "                print(f\"URL: {subpage_url}\\nContent Snippet: {subpage_text[:1000]}\\n\")\n",
    "                time.sleep(1)  # To avoid overwhelming the server\n",
    "\n",
    "            except requests.exceptions.RequestException as e:\n",
    "                print(f\"An error occurred while accessing {subpage_url}: {e}\")\n",
    "\n",
    "    def scrape(self):\n",
    "        self.get_links()\n",
    "        if not self.subpage_links:\n",
    "            print(\"No links found to scrape.\")\n",
    "            return\n",
    "        self.extract_subpage_text()\n",
    "\n",
    "    def descriptive_statistics(self):\n",
    "        # Generate descriptive statistics for the dataset\n",
    "        df = pd.DataFrame(self.all_jobs_data)\n",
    "        if not df.empty:\n",
    "            print(df.describe(include='all'))\n",
    "        else:\n",
    "            print(\"No data available to generate statistics.\")\n",
    "\n",
    "    def sort_data(self):\n",
    "        # Convert all_jobs_data to a DataFrame and sort by multiple columns\n",
    "        df = pd.DataFrame(self.all_jobs_data)\n",
    "        if not df.empty:\n",
    "            df_sorted = df.sort_values(by=['job_title', 'job_type', 'job_location', 'contract_type', 'work_experience', 'min_salary', 'gender', 'education_level'])\n",
    "            print(\"Sorted Data:\")\n",
    "            print(df_sorted)\n",
    "\n",
    "            # Display sorted data as a matrix\n",
    "            print(\"Data Matrix:\")\n",
    "            print(df_sorted.to_string(index=False))\n",
    "\n",
    "            # Save each sorted job data to a .txt file in the specified directory\n",
    "            save_dir = \"C:/Users/negin/jobinja_sorted_data\"\n",
    "            if not os.path.exists(save_dir):\n",
    "                os.makedirs(save_dir)\n",
    "            \n",
    "            for index, row in df_sorted.iterrows():\n",
    "                job_title_safe = row['job_title'].replace('/', '_').replace(' ', '_')\n",
    "                file_path = os.path.join(save_dir, f\"job_{index + 1}_{job_title_safe}.txt\")\n",
    "                with open(file_path, 'w', encoding='utf-8') as file:\n",
    "                    for key, value in row.items():\n",
    "                        file.write(f\"{key.capitalize()}: {value}\\n\")\n",
    "        else:\n",
    "            print(\"No data available to sort.\")\n",
    "\n",
    "# Example usage\n",
    "if __name__ == \"__main__\":\n",
    "    url = \"https://jobinja.ir/\"\n",
    "    headers = {\n",
    "        \"User-Agent\": \"Mozilla/5.0 (Windows NT 10.0; Win64; x64) AppleWebKit/537.36 (KHTML, like Gecko) Chrome/58.0.3029.110 Safari/537.3\"\n",
    "    }\n",
    "    scraper = JobinjaScraper(url, headers)\n",
    "    scraper.scrape()\n",
    "    scraper.descriptive_statistics()\n",
    "    scraper.sort_data()\n"
   ]
  },
  {
   "cell_type": "code",
   "execution_count": null,
   "id": "d6d501b8-4460-40c5-801d-6eb5934d45ce",
   "metadata": {},
   "outputs": [],
   "source": []
  }
 ],
 "metadata": {
  "kernelspec": {
   "display_name": "Python 3 (ipykernel)",
   "language": "python",
   "name": "python3"
  },
  "language_info": {
   "codemirror_mode": {
    "name": "ipython",
    "version": 3
   },
   "file_extension": ".py",
   "mimetype": "text/x-python",
   "name": "python",
   "nbconvert_exporter": "python",
   "pygments_lexer": "ipython3",
   "version": "3.12.4"
  }
 },
 "nbformat": 4,
 "nbformat_minor": 5
}
