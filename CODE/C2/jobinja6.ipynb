{
 "cells": [
  {
   "cell_type": "code",
   "execution_count": 1,
   "id": "e2cd0b2e-7142-4f17-9cce-4efd568f7abc",
   "metadata": {},
   "outputs": [
    {
     "name": "stderr",
     "output_type": "stream",
     "text": [
      "C:\\Users\\negin\\anaconda3\\Lib\\site-packages\\urllib3\\connectionpool.py:1099: InsecureRequestWarning: Unverified HTTPS request is being made to host 'jobinja.ir'. Adding certificate verification is strongly advised. See: https://urllib3.readthedocs.io/en/latest/advanced-usage.html#tls-warnings\n",
      "  warnings.warn(\n",
      "C:\\Users\\negin\\anaconda3\\Lib\\site-packages\\urllib3\\connectionpool.py:1099: InsecureRequestWarning: Unverified HTTPS request is being made to host 'jobinja.ir'. Adding certificate verification is strongly advised. See: https://urllib3.readthedocs.io/en/latest/advanced-usage.html#tls-warnings\n",
      "  warnings.warn(\n"
     ]
    },
    {
     "name": "stdout",
     "output_type": "stream",
     "text": [
      "URL: https://jobinja.ir/companies/hami-4\n",
      "Content Snippet: استخدام در شرکت حامی پیشگامان ، آگهی های استخدام Hamipishgaman | جابینجاامکان جدید:همین حالا رزومه خود را در کمتر از ۱۰ دقیقه بسازید،برو به رزومه‌سازJobinja | جابینجا | استخدام، آگهی استخدام، کاریابی، استخدامی جدید، بازار کار، نیازمندیها، ساخت رزومه رایگان، کار و استخدام دولتی، اشتغال، جستجوگر حرفه ای استخدام و شغلخانهجستجوی مشاغلرزومه‌ساز۵۰ شرکت برتربخش کارفرمایانورود کارجوثبت‌نام کارجوورود کارجوثبت‌نام کارجو۱جابینجا چطور به استخدام شدن من کمک می‌کند؟مشاهدهمشاهده بیشترحامی پیشگامان|Hamipishgamanتاسیس در  ۱۳۹۷تبلیغات، بازاریابی و برندسازی۱۱ تا ۵۰ نفرhamipishgaman.com/در یک نگاهمعرفیفرصت‌های شغلی۴مجموعه حامی پیشگامان توسعه یکی از سازمان‌های پیشرو در حوزه IT است که در حوزه‌های مختلفی از جمله بورس، فروشگاه آرایشی و بهداشتی و آژانس تبلیغات دیجیتال مارکتینگ فعالیت می‌کند و شرکت‌های میس و مستر، ادمود و حامی بورس را شامل می‌شود.موقعیت مکانیتهران، تهراناعضای شرکتمهدی حسنیمدیر عاملجذابیت چالش و هیجان در حامی همیشه شروعی پر انرژی را رقم میزند.احسان ملائیمدیر ادمودمهمترین ویژگی تیم ادمود همکاری ه\n",
      "\n"
     ]
    },
    {
     "name": "stderr",
     "output_type": "stream",
     "text": [
      "C:\\Users\\negin\\anaconda3\\Lib\\site-packages\\urllib3\\connectionpool.py:1099: InsecureRequestWarning: Unverified HTTPS request is being made to host 'jobinja.ir'. Adding certificate verification is strongly advised. See: https://urllib3.readthedocs.io/en/latest/advanced-usage.html#tls-warnings\n",
      "  warnings.warn(\n",
      "C:\\Users\\negin\\anaconda3\\Lib\\site-packages\\urllib3\\connectionpool.py:1099: InsecureRequestWarning: Unverified HTTPS request is being made to host 'jobinja.ir'. Adding certificate verification is strongly advised. See: https://urllib3.readthedocs.io/en/latest/advanced-usage.html#tls-warnings\n",
      "  warnings.warn(\n"
     ]
    },
    {
     "name": "stdout",
     "output_type": "stream",
     "text": [
      "URL: https://jobinja.ir/jobs?filters%5Bjob_categories%5D%5B%5D=%D8%B5%D9%86%D8%A7%DB%8C%D8%B9+%D8%BA%D8%B0%D8%A7%DB%8C%DB%8C\n",
      "Content Snippet: استخدام صنایع غذایی | استخدام مهندس صنایع غذایی | استخدام کارشناس صنایع غذایی\n",
      " | جابینجاامکان جدید:همین حالا رزومه خود را در کمتر از ۱۰ دقیقه بسازید،برو به رزومه‌سازJobinja | جابینجا | استخدام، آگهی استخدام، کاریابی، استخدامی جدید، بازار کار، نیازمندیها، ساخت رزومه رایگان، کار و استخدام دولتی، اشتغال، جستجوگر حرفه ای استخدام و شغلخانهجستجوی مشاغلرزومه‌ساز۵۰ شرکت برتربخش کارفرمایانورود کارجوثبت‌نام کارجوورود کارجوثبت‌نام کارجو۱جابینجا چطور به استخدام شدن من کمک می‌کند؟مشاهدهمشاهده بیشترجستجودرخواست‌های مننشان‌شده‌هاآگهی‌های پیشنهادیاز آگهی‌های جدید باخبر شوبهترین فرصت های شغلی در جابینجاهمه‌ی استان‌هاتهرانخراسان رضویاصفهانالبرزفارسقمآذربایجان شرقیمازندرانگیلانخوزستانکرمانیزدقزوینمرکزیهرمزگانگلستانزنجانسیستان و بلوچستانبوشهرآذربایجان غربیسمنانکرمانشاههمداناردبیللرستانکردستانخراسان شمالیایلامخراسان جنوبیچهارمحال بختیاریکهکیلویه و بویراحمدهمه‌ی دسته‌بندی‌هاصنایع غذاییفروش و بازاریابیوب،‌ برنامه‌نویسی و نرم‌افزارمالی و حسابداریمسئول دفتر، اجرائی و اداریتولید و مدیریت محتوادیجیتال مارکتینگپش\n",
      "\n"
     ]
    },
    {
     "name": "stderr",
     "output_type": "stream",
     "text": [
      "C:\\Users\\negin\\anaconda3\\Lib\\site-packages\\urllib3\\connectionpool.py:1099: InsecureRequestWarning: Unverified HTTPS request is being made to host 'jobinja.ir'. Adding certificate verification is strongly advised. See: https://urllib3.readthedocs.io/en/latest/advanced-usage.html#tls-warnings\n",
      "  warnings.warn(\n"
     ]
    },
    {
     "name": "stdout",
     "output_type": "stream",
     "text": [
      "URL: https://jobinja.ir/jobs?filters%5Bkeywords%5D%5B0%5D=%DA%A9%D8%A7%D8%B1%D9%85%D9%86%D8%AF+%D8%A7%D8%AF%D8%A7%D8%B1%DB%8C\n",
      "Content Snippet: فرصت های شغلی کارمند اداری\n",
      " | جابینجاامکان جدید:همین حالا رزومه خود را در کمتر از ۱۰ دقیقه بسازید،برو به رزومه‌سازJobinja | جابینجا | استخدام، آگهی استخدام، کاریابی، استخدامی جدید، بازار کار، نیازمندیها، ساخت رزومه رایگان، کار و استخدام دولتی، اشتغال، جستجوگر حرفه ای استخدام و شغلخانهجستجوی مشاغلرزومه‌ساز۵۰ شرکت برتربخش کارفرمایانورود کارجوثبت‌نام کارجوورود کارجوثبت‌نام کارجو۱جابینجا چطور به استخدام شدن من کمک می‌کند؟مشاهدهمشاهده بیشترجستجودرخواست‌های مننشان‌شده‌هاآگهی‌های پیشنهادیاز آگهی‌های جدید باخبر شوبهترین فرصت های شغلی در جابینجاهمه‌ی استان‌هاتهرانخراسان رضویاصفهانالبرزفارسقمآذربایجان شرقیمازندرانگیلانخوزستانکرمانیزدقزوینمرکزیهرمزگانگلستانزنجانسیستان و بلوچستانبوشهرآذربایجان غربیسمنانکرمانشاههمداناردبیللرستانکردستانخراسان شمالیایلامخراسان جنوبیچهارمحال بختیاریکهکیلویه و بویراحمدهمه‌ی دسته‌بندی‌هافروش و بازاریابیوب،‌ برنامه‌نویسی و نرم‌افزارمالی و حسابداریمسئول دفتر، اجرائی و اداریتولید و مدیریت محتوادیجیتال مارکتینگپشتیبانی و امور مشتریانطراحیIT / DevOps / Serverمهندسی صنایع و م\n",
      "\n"
     ]
    },
    {
     "name": "stderr",
     "output_type": "stream",
     "text": [
      "C:\\Users\\negin\\anaconda3\\Lib\\site-packages\\urllib3\\connectionpool.py:1099: InsecureRequestWarning: Unverified HTTPS request is being made to host 'jobinja.ir'. Adding certificate verification is strongly advised. See: https://urllib3.readthedocs.io/en/latest/advanced-usage.html#tls-warnings\n",
      "  warnings.warn(\n",
      "C:\\Users\\negin\\anaconda3\\Lib\\site-packages\\urllib3\\connectionpool.py:1099: InsecureRequestWarning: Unverified HTTPS request is being made to host 'jobinja.ir'. Adding certificate verification is strongly advised. See: https://urllib3.readthedocs.io/en/latest/advanced-usage.html#tls-warnings\n",
      "  warnings.warn(\n"
     ]
    },
    {
     "name": "stdout",
     "output_type": "stream",
     "text": [
      "URL: https://jobinja.ir/jobs?filters%5Bjob_categories%5D%5B%5D=%D9%85%D9%87%D9%86%D8%AF%D8%B3%DB%8C+%D9%BE%D9%84%DB%8C%D9%85%D8%B1\n",
      "Content Snippet: استخدام کارشناس پلیمر | استخدام مهندس پلیمر | جابینجا\n",
      " | جابینجاامکان جدید:همین حالا رزومه خود را در کمتر از ۱۰ دقیقه بسازید،برو به رزومه‌سازJobinja | جابینجا | استخدام، آگهی استخدام، کاریابی، استخدامی جدید، بازار کار، نیازمندیها، ساخت رزومه رایگان، کار و استخدام دولتی، اشتغال، جستجوگر حرفه ای استخدام و شغلخانهجستجوی مشاغلرزومه‌ساز۵۰ شرکت برتربخش کارفرمایانورود کارجوثبت‌نام کارجوورود کارجوثبت‌نام کارجو۱جابینجا چطور به استخدام شدن من کمک می‌کند؟مشاهدهمشاهده بیشترجستجودرخواست‌های مننشان‌شده‌هاآگهی‌های پیشنهادیاز آگهی‌های جدید باخبر شوبهترین فرصت های شغلی در جابینجاهمه‌ی استان‌هاتهرانخراسان رضویاصفهانالبرزفارسقمآذربایجان شرقیمازندرانگیلانخوزستانکرمانیزدقزوینمرکزیهرمزگانگلستانزنجانسیستان و بلوچستانبوشهرآذربایجان غربیسمنانکرمانشاههمداناردبیللرستانکردستانخراسان شمالیایلامخراسان جنوبیچهارمحال بختیاریکهکیلویه و بویراحمدهمه‌ی دسته‌بندی‌هامهندسی پلیمرفروش و بازاریابیوب،‌ برنامه‌نویسی و نرم‌افزارمالی و حسابداریمسئول دفتر، اجرائی و اداریتولید و مدیریت محتوادیجیتال مارکتینگپشتیبانی و امور مشتریانطر\n",
      "\n"
     ]
    },
    {
     "name": "stderr",
     "output_type": "stream",
     "text": [
      "C:\\Users\\negin\\anaconda3\\Lib\\site-packages\\urllib3\\connectionpool.py:1099: InsecureRequestWarning: Unverified HTTPS request is being made to host 'jobinja.ir'. Adding certificate verification is strongly advised. See: https://urllib3.readthedocs.io/en/latest/advanced-usage.html#tls-warnings\n",
      "  warnings.warn(\n",
      "C:\\Users\\negin\\anaconda3\\Lib\\site-packages\\urllib3\\connectionpool.py:1099: InsecureRequestWarning: Unverified HTTPS request is being made to host 'jobinja.ir'. Adding certificate verification is strongly advised. See: https://urllib3.readthedocs.io/en/latest/advanced-usage.html#tls-warnings\n",
      "  warnings.warn(\n"
     ]
    },
    {
     "name": "stdout",
     "output_type": "stream",
     "text": [
      "URL: https://jobinja.ir/jobs?filters%5Blocations%5D%5B%5D=%D8%AE%D9%88%D8%B2%D8%B3%D8%AA%D8%A7%D9%86\n",
      "Content Snippet: آگهی استخدام خوزستان | استخدام خوزستان | کاریابی خوزستان\n",
      " | جابینجاامکان جدید:همین حالا رزومه خود را در کمتر از ۱۰ دقیقه بسازید،برو به رزومه‌سازJobinja | جابینجا | استخدام، آگهی استخدام، کاریابی، استخدامی جدید، بازار کار، نیازمندیها، ساخت رزومه رایگان، کار و استخدام دولتی، اشتغال، جستجوگر حرفه ای استخدام و شغلخانهجستجوی مشاغلرزومه‌ساز۵۰ شرکت برتربخش کارفرمایانورود کارجوثبت‌نام کارجوورود کارجوثبت‌نام کارجو۱جابینجا چطور به استخدام شدن من کمک می‌کند؟مشاهدهمشاهده بیشترجستجودرخواست‌های مننشان‌شده‌هاآگهی‌های پیشنهادیاز آگهی‌های جدید باخبر شوبهترین فرصت های شغلی در جابینجاهمه‌ی استان‌هاخوزستانتهرانخراسان رضویاصفهانالبرزفارسقمآذربایجان شرقیمازندرانگیلانکرمانیزدقزوینمرکزیهرمزگانگلستانزنجانسیستان و بلوچستانبوشهرآذربایجان غربیسمنانکرمانشاههمداناردبیللرستانکردستانخراسان شمالیایلامخراسان جنوبیچهارمحال بختیاریکهکیلویه و بویراحمدهمه‌ی دسته‌بندی‌هافروش و بازاریابیوب،‌ برنامه‌نویسی و نرم‌افزارمالی و حسابداریمسئول دفتر، اجرائی و اداریتولید و مدیریت محتوادیجیتال مارکتینگپشتیبانی و امور مشتریانطراحیIT / D\n",
      "\n"
     ]
    },
    {
     "name": "stderr",
     "output_type": "stream",
     "text": [
      "C:\\Users\\negin\\anaconda3\\Lib\\site-packages\\urllib3\\connectionpool.py:1099: InsecureRequestWarning: Unverified HTTPS request is being made to host 'jobinja.ir'. Adding certificate verification is strongly advised. See: https://urllib3.readthedocs.io/en/latest/advanced-usage.html#tls-warnings\n",
      "  warnings.warn(\n"
     ]
    },
    {
     "name": "stdout",
     "output_type": "stream",
     "text": [
      "URL: https://jobinja.ir/knowledge/job-seeker-faq/pages/job-seeker-tos\n",
      "Content Snippet: قوانین و شرایط استفاده کارجویان | جابینجاامکان جدید:همین حالا رزومه خود را در کمتر از ۱۰ دقیقه بسازید،برو به رزومه‌سازJobinja | جابینجا | استخدام، آگهی استخدام، کاریابی، استخدامی جدید، بازار کار، نیازمندیها، ساخت رزومه رایگان، کار و استخدام دولتی، اشتغال، جستجوگر حرفه ای استخدام و شغلخانهجستجوی مشاغلرزومه‌ساز۵۰ شرکت برتربخش کارفرمایانورود کارجوثبت‌نام کارجوورود کارجوثبت‌نام کارجو۱جابینجا چطور به استخدام شدن من کمک می‌کند؟مشاهدهمشاهده بیشترسوالات متداول کارجویانقوانین و شرایط استفاده کارجویانقوانین و شرایط استفاده کارجویانقوانین و شرایط استفاده کاربران کارجوهرگونه استفاده از جابینجا به معنی پذیرفتن شرایط مندرج در این سایت است.جابینجا هیچ توافقی با کاربران خارج از این شرایط ندارد. شرایط زیر مربوط به کسانی است که به هر شکلی در جابینجا پروفایل دارند یا رزومه‌ی خود را در سایت جابینجا منتشر می‌کنند.موارد زیر منجر به عدم انتشار رزومه و پروفایل خواهد شد:مغایرت با قوانین جاری جمهوری اسلامی ایران و عرف جامعه، ناقض حریم شخصی افرادنقص در اطلاعات اولیه (مانند نام و نام خانوادگی، تخصص، شماره تلفن یا\n",
      "\n"
     ]
    },
    {
     "name": "stderr",
     "output_type": "stream",
     "text": [
      "C:\\Users\\negin\\anaconda3\\Lib\\site-packages\\urllib3\\connectionpool.py:1099: InsecureRequestWarning: Unverified HTTPS request is being made to host 'jobinja.ir'. Adding certificate verification is strongly advised. See: https://urllib3.readthedocs.io/en/latest/advanced-usage.html#tls-warnings\n",
      "  warnings.warn(\n",
      "C:\\Users\\negin\\anaconda3\\Lib\\site-packages\\urllib3\\connectionpool.py:1099: InsecureRequestWarning: Unverified HTTPS request is being made to host 'jobinja.ir'. Adding certificate verification is strongly advised. See: https://urllib3.readthedocs.io/en/latest/advanced-usage.html#tls-warnings\n",
      "  warnings.warn(\n"
     ]
    },
    {
     "name": "stdout",
     "output_type": "stream",
     "text": [
      "URL: https://jobinja.ir/jobs?filters%5Bjob_categories%5D%5B%5D=%D8%A7%D9%86%D8%A8%D8%A7%D8%B1%D8%AF%D8%A7%D8%B1%DB%8C\n",
      "Content Snippet: استخدام انباردار | آگهی استخدام کمک انباردار\n",
      " | جابینجاامکان جدید:همین حالا رزومه خود را در کمتر از ۱۰ دقیقه بسازید،برو به رزومه‌سازJobinja | جابینجا | استخدام، آگهی استخدام، کاریابی، استخدامی جدید، بازار کار، نیازمندیها، ساخت رزومه رایگان، کار و استخدام دولتی، اشتغال، جستجوگر حرفه ای استخدام و شغلخانهجستجوی مشاغلرزومه‌ساز۵۰ شرکت برتربخش کارفرمایانورود کارجوثبت‌نام کارجوورود کارجوثبت‌نام کارجو۱جابینجا چطور به استخدام شدن من کمک می‌کند؟مشاهدهمشاهده بیشترجستجودرخواست‌های مننشان‌شده‌هاآگهی‌های پیشنهادیاز آگهی‌های جدید باخبر شوبهترین فرصت های شغلی در جابینجاهمه‌ی استان‌هاتهرانخراسان رضویاصفهانالبرزفارسقمآذربایجان شرقیمازندرانگیلانخوزستانکرمانیزدقزوینمرکزیهرمزگانگلستانزنجانسیستان و بلوچستانبوشهرآذربایجان غربیسمنانکرمانشاههمداناردبیللرستانکردستانخراسان شمالیایلامخراسان جنوبیچهارمحال بختیاریکهکیلویه و بویراحمدهمه‌ی دسته‌بندی‌هاانبارداریفروش و بازاریابیوب،‌ برنامه‌نویسی و نرم‌افزارمالی و حسابداریمسئول دفتر، اجرائی و اداریتولید و مدیریت محتوادیجیتال مارکتینگپشتیبانی و امور مشتریانطراحیIT / DevO\n",
      "\n"
     ]
    },
    {
     "name": "stderr",
     "output_type": "stream",
     "text": [
      "C:\\Users\\negin\\anaconda3\\Lib\\site-packages\\urllib3\\connectionpool.py:1099: InsecureRequestWarning: Unverified HTTPS request is being made to host 'jobinja.ir'. Adding certificate verification is strongly advised. See: https://urllib3.readthedocs.io/en/latest/advanced-usage.html#tls-warnings\n",
      "  warnings.warn(\n"
     ]
    },
    {
     "name": "stdout",
     "output_type": "stream",
     "text": [
      "URL: https://jobinja.ir/jobs?filters%5Bkeywords%5D%5B0%5D=%D8%B7%D8%B1%D8%A7%D8%AD+%D8%B3%D8%A7%DB%8C%D8%AA\n",
      "Content Snippet: فرصت های شغلی طراح سایت\n",
      " | جابینجاامکان جدید:همین حالا رزومه خود را در کمتر از ۱۰ دقیقه بسازید،برو به رزومه‌سازJobinja | جابینجا | استخدام، آگهی استخدام، کاریابی، استخدامی جدید، بازار کار، نیازمندیها، ساخت رزومه رایگان، کار و استخدام دولتی، اشتغال، جستجوگر حرفه ای استخدام و شغلخانهجستجوی مشاغلرزومه‌ساز۵۰ شرکت برتربخش کارفرمایانورود کارجوثبت‌نام کارجوورود کارجوثبت‌نام کارجو۱جابینجا چطور به استخدام شدن من کمک می‌کند؟مشاهدهمشاهده بیشترجستجودرخواست‌های مننشان‌شده‌هاآگهی‌های پیشنهادیاز آگهی‌های جدید باخبر شوبهترین فرصت های شغلی در جابینجاهمه‌ی استان‌هاتهرانخراسان رضویاصفهانالبرزفارسقمآذربایجان شرقیمازندرانگیلانخوزستانکرمانیزدقزوینمرکزیهرمزگانگلستانزنجانسیستان و بلوچستانبوشهرآذربایجان غربیسمنانکرمانشاههمداناردبیللرستانکردستانخراسان شمالیایلامخراسان جنوبیچهارمحال بختیاریکهکیلویه و بویراحمدهمه‌ی دسته‌بندی‌هافروش و بازاریابیوب،‌ برنامه‌نویسی و نرم‌افزارمالی و حسابداریمسئول دفتر، اجرائی و اداریتولید و مدیریت محتوادیجیتال مارکتینگپشتیبانی و امور مشتریانطراحیIT / DevOps / Serverمهندسی صنایع و مدیر\n",
      "\n"
     ]
    },
    {
     "name": "stderr",
     "output_type": "stream",
     "text": [
      "C:\\Users\\negin\\anaconda3\\Lib\\site-packages\\urllib3\\connectionpool.py:1099: InsecureRequestWarning: Unverified HTTPS request is being made to host 'blog.jobinja.ir'. Adding certificate verification is strongly advised. See: https://urllib3.readthedocs.io/en/latest/advanced-usage.html#tls-warnings\n",
      "  warnings.warn(\n"
     ]
    },
    {
     "name": "stdout",
     "output_type": "stream",
     "text": [
      "URL: https://blog.jobinja.ir\n",
      "Content Snippet: صفحه اصلی - وبلاگ جابینجااشتراک گذاریبا استفاده از روش‌های زیر می‌توانید این صفحه را با دوستان خود به اشتراک بگذارید.کپی لینککارجو ⏷رزومه نویسیمسیر شغلیمصاحبه کاریمهارت های فردیکارفرما ⏷منابع انسانیفضای کاریاخبار جابینجارزومه سازایجاد آگهی جدیدکارجو ⏷رزومه نویسیمسیر شغلیمصاحبه کاریمهارت های فردیکارفرما ⏷منابع انسانیفضای کاریاخبار جابینجارزومه سازایجاد آگهی جدیدمرا به خاطر بسپارنام کاربری :ایمیل :نام :نام خانوادگیآدرس وب سایت :تاریخ ثبت نام :نقش کاربر:تکنیک‌های ارزیابی عملکرد کارکنانآموزش تکنیک‌های مصاحبه شغلی برای مدیران منابع انسانیآشنایی با بهترین روش‌های جذب و استخدامآموزش کاورلتر و رزومه نویسیآخرین مقالاتتکنیک‌های ارزیابی عملکرد کارکنان۲ هفته پیشآموزش تکنیک‌های مصاحبه شغلی برای مدیران منابع انسانی۲ ماه پیشآشنایی با بهترین روش‌های جذب و استخدام۲ ماه پیشآموزش کاورلتر و رزومه نویسی۱۲ ماه پیشرزومه نویسیآموزش کاورلتر و رزومه نویسی۱۲ ماه پیشکاورلتر اختصاصی برای رزومه شخصی شما۱۲ ماه پیشتعیین هدف شغلی: راهنمای کامل۱ سال پیشتدوین رزومه و نکات آن۱ سال پیشمسیر شغلی۱۶ دلیل برای اینکه هنوز بیکا\n",
      "\n"
     ]
    },
    {
     "name": "stderr",
     "output_type": "stream",
     "text": [
      "C:\\Users\\negin\\anaconda3\\Lib\\site-packages\\urllib3\\connectionpool.py:1099: InsecureRequestWarning: Unverified HTTPS request is being made to host 'jobinja.ir'. Adding certificate verification is strongly advised. See: https://urllib3.readthedocs.io/en/latest/advanced-usage.html#tls-warnings\n",
      "  warnings.warn(\n",
      "C:\\Users\\negin\\anaconda3\\Lib\\site-packages\\urllib3\\connectionpool.py:1099: InsecureRequestWarning: Unverified HTTPS request is being made to host 'jobinja.ir'. Adding certificate verification is strongly advised. See: https://urllib3.readthedocs.io/en/latest/advanced-usage.html#tls-warnings\n",
      "  warnings.warn(\n"
     ]
    },
    {
     "name": "stdout",
     "output_type": "stream",
     "text": [
      "URL: https://jobinja.ir/jobs?filters%5Bjob_categories%5D%5B%5D=%D8%AA%D8%AD%D9%82%DB%8C%D9%82+%D9%88+%D8%AA%D9%88%D8%B3%D8%B9%D9%87\n",
      "Content Snippet: استخدام کارشناس تحقیق و توسعه | استخدام کارشناس R&D\n",
      " | جابینجاامکان جدید:همین حالا رزومه خود را در کمتر از ۱۰ دقیقه بسازید،برو به رزومه‌سازJobinja | جابینجا | استخدام، آگهی استخدام، کاریابی، استخدامی جدید، بازار کار، نیازمندیها، ساخت رزومه رایگان، کار و استخدام دولتی، اشتغال، جستجوگر حرفه ای استخدام و شغلخانهجستجوی مشاغلرزومه‌ساز۵۰ شرکت برتربخش کارفرمایانورود کارجوثبت‌نام کارجوورود کارجوثبت‌نام کارجو۱جابینجا چطور به استخدام شدن من کمک می‌کند؟مشاهدهمشاهده بیشترجستجودرخواست‌های مننشان‌شده‌هاآگهی‌های پیشنهادیاز آگهی‌های جدید باخبر شوبهترین فرصت های شغلی در جابینجاهمه‌ی استان‌هاتهرانخراسان رضویاصفهانالبرزفارسقمآذربایجان شرقیمازندرانگیلانخوزستانکرمانیزدقزوینمرکزیهرمزگانگلستانزنجانسیستان و بلوچستانبوشهرآذربایجان غربیسمنانکرمانشاههمداناردبیللرستانکردستانخراسان شمالیایلامخراسان جنوبیچهارمحال بختیاریکهکیلویه و بویراحمدهمه‌ی دسته‌بندی‌هاتحقیق و توسعهفروش و بازاریابیوب،‌ برنامه‌نویسی و نرم‌افزارمالی و حسابداریمسئول دفتر، اجرائی و اداریتولید و مدیریت محتوادیجیتال مارکتینگپشتیبانی و امور مشتریانطرا\n",
      "\n"
     ]
    },
    {
     "name": "stderr",
     "output_type": "stream",
     "text": [
      "C:\\Users\\negin\\anaconda3\\Lib\\site-packages\\urllib3\\connectionpool.py:1099: InsecureRequestWarning: Unverified HTTPS request is being made to host 'blog.jobinja.ir'. Adding certificate verification is strongly advised. See: https://urllib3.readthedocs.io/en/latest/advanced-usage.html#tls-warnings\n",
      "  warnings.warn(\n"
     ]
    },
    {
     "name": "stdout",
     "output_type": "stream",
     "text": [
      "URL: https://blog.jobinja.ir/%d8%a8%d9%87%d8%aa%d8%b1%db%8c%d9%86-%d8%b1%d9%88%d8%b4%d9%87%d8%a7%db%8c-%d8%ac%d8%b0%d8%a8-%d9%88-%d8%a7%d8%b3%d8%aa%d8%ae%d8%af%d8%a7%d9%85/\n",
      "Content Snippet: آشنایی با بهترین روش‌های جذب و استخدام - وبلاگ جابینجااشتراک گذاریبا استفاده از روش‌های زیر می‌توانید این صفحه را با دوستان خود به اشتراک بگذارید.کپی لینککارجو ⏷رزومه نویسیمسیر شغلیمصاحبه کاریمهارت های فردیکارفرما ⏷منابع انسانیفضای کاریاخبار جابینجارزومه سازایجاد آگهی جدیدکارجو ⏷رزومه نویسیمسیر شغلیمصاحبه کاریمهارت های فردیکارفرما ⏷منابع انسانیفضای کاریاخبار جابینجارزومه سازایجاد آگهی جدیدParkingGasFoodCoffeeMiscمرا به خاطر بسپارنام کاربری :ایمیل :نام :نام خانوادگیآدرس وب سایت :تاریخ ثبت نام :نقش کاربر:کارفرمامنابع انسانیآشنایی با بهترین روش‌های جذب و استخدامبازدید 438تیم تولید محتوا65 روز پیشاشتراک گذاریبا استفاده از روش‌های زیر می‌توانید این صفحه را با دوستان خود به اشتراک بگذارید.کپی لینکبدون دیدگاهکارفرمامنابع انسانیآشنایی با بهترین روش‌های جذب و استخدامسازمان‌ها از روش‌های مختلفی برای استخدام و جذب بهترین کارکنان استفاده می‌کنند. هر شغلی ویژگی‌های مختص به خود را دارد و البته شرکت‌ها نیز نیازهای متفاوتی دارند. کارفرمایان موفق، از بهترین روش‌های جذب و استخدام برای در اختیار گرفتن نی\n",
      "\n"
     ]
    },
    {
     "name": "stderr",
     "output_type": "stream",
     "text": [
      "C:\\Users\\negin\\anaconda3\\Lib\\site-packages\\urllib3\\connectionpool.py:1099: InsecureRequestWarning: Unverified HTTPS request is being made to host 'jobinja.ir'. Adding certificate verification is strongly advised. See: https://urllib3.readthedocs.io/en/latest/advanced-usage.html#tls-warnings\n",
      "  warnings.warn(\n"
     ]
    },
    {
     "name": "stdout",
     "output_type": "stream",
     "text": [
      "URL: https://jobinja.ir/companies/rahbord-5/jobs\n",
      "Content Snippet: فرصت‌های شغلی فعال در  ایده پردازان هوشمند راهبرد | Smart Ideas Strategies Rahbord | جابینجاامکان جدید:همین حالا رزومه خود را در کمتر از ۱۰ دقیقه بسازید،برو به رزومه‌سازJobinja | جابینجا | استخدام، آگهی استخدام، کاریابی، استخدامی جدید، بازار کار، نیازمندیها، ساخت رزومه رایگان، کار و استخدام دولتی، اشتغال، جستجوگر حرفه ای استخدام و شغلخانهجستجوی مشاغلرزومه‌ساز۵۰ شرکت برتربخش کارفرمایانورود کارجوثبت‌نام کارجوورود کارجوثبت‌نام کارجو۱جابینجا چطور به استخدام شدن من کمک می‌کند؟مشاهدهمشاهده بیشترایده پردازان هوشمند راهبرد|Smart Ideas Strategies Rahbordتاسیس در  ۱۳۹۴کامپیوتر، فناوری اطلاعات و اینترنت۱۱ تا ۵۰ نفرrahbord.orgدر یک نگاهمعرفیفرصت‌های شغلی۲معرفی  ایده پردازان هوشمند راهبردشرکت دانش‌بنیان ایده‌پردازان هوشمند راهبردشرکت راهبرد از سال 1394 با رویکردی نوآورانه و تخصصی در حوزه‌های اتوماسیون اداری، اصناف و پلتفرم‌های مبتنی بر بلاکچین و رمزارز فعالیت خود را آغاز کرده است. با توجه به رشد روزافزون تکنولوژی و صنعت بلاکچین، این مجموعه همواره تلاش می‌کند تا با تحقیق و ایده‌پردازی، به طراحی و پی\n",
      "\n"
     ]
    },
    {
     "name": "stderr",
     "output_type": "stream",
     "text": [
      "C:\\Users\\negin\\anaconda3\\Lib\\site-packages\\urllib3\\connectionpool.py:1099: InsecureRequestWarning: Unverified HTTPS request is being made to host 'jobinja.ir'. Adding certificate verification is strongly advised. See: https://urllib3.readthedocs.io/en/latest/advanced-usage.html#tls-warnings\n",
      "  warnings.warn(\n",
      "C:\\Users\\negin\\anaconda3\\Lib\\site-packages\\urllib3\\connectionpool.py:1099: InsecureRequestWarning: Unverified HTTPS request is being made to host 'jobinja.ir'. Adding certificate verification is strongly advised. See: https://urllib3.readthedocs.io/en/latest/advanced-usage.html#tls-warnings\n",
      "  warnings.warn(\n"
     ]
    },
    {
     "name": "stdout",
     "output_type": "stream",
     "text": [
      "URL: https://jobinja.ir/jobs?filters%5Blocations%5D%5B%5D=%D8%B3%D9%85%D9%86%D8%A7%D9%86\n",
      "Content Snippet: استخدام سمنان | کاریابی سمنان | آگهی استخدام سمنان\n",
      " | جابینجاامکان جدید:همین حالا رزومه خود را در کمتر از ۱۰ دقیقه بسازید،برو به رزومه‌سازJobinja | جابینجا | استخدام، آگهی استخدام، کاریابی، استخدامی جدید، بازار کار، نیازمندیها، ساخت رزومه رایگان، کار و استخدام دولتی، اشتغال، جستجوگر حرفه ای استخدام و شغلخانهجستجوی مشاغلرزومه‌ساز۵۰ شرکت برتربخش کارفرمایانورود کارجوثبت‌نام کارجوورود کارجوثبت‌نام کارجو۱جابینجا چطور به استخدام شدن من کمک می‌کند؟مشاهدهمشاهده بیشترجستجودرخواست‌های مننشان‌شده‌هاآگهی‌های پیشنهادیاز آگهی‌های جدید باخبر شوبهترین فرصت های شغلی در جابینجاهمه‌ی استان‌هاسمنانتهرانخراسان رضویاصفهانالبرزفارسقمآذربایجان شرقیمازندرانگیلانخوزستانکرمانیزدقزوینمرکزیهرمزگانگلستانزنجانسیستان و بلوچستانبوشهرآذربایجان غربیکرمانشاههمداناردبیللرستانکردستانخراسان شمالیایلامخراسان جنوبیچهارمحال بختیاریکهکیلویه و بویراحمدهمه‌ی دسته‌بندی‌هافروش و بازاریابیوب،‌ برنامه‌نویسی و نرم‌افزارمالی و حسابداریمسئول دفتر، اجرائی و اداریتولید و مدیریت محتوادیجیتال مارکتینگپشتیبانی و امور مشتریانطراحیIT / DevOps \n",
      "\n"
     ]
    },
    {
     "name": "stderr",
     "output_type": "stream",
     "text": [
      "C:\\Users\\negin\\anaconda3\\Lib\\site-packages\\urllib3\\connectionpool.py:1099: InsecureRequestWarning: Unverified HTTPS request is being made to host 'jobinja.ir'. Adding certificate verification is strongly advised. See: https://urllib3.readthedocs.io/en/latest/advanced-usage.html#tls-warnings\n",
      "  warnings.warn(\n"
     ]
    },
    {
     "name": "stdout",
     "output_type": "stream",
     "text": [
      "URL: https://jobinja.ir/jobs?filters%5Bkeywords%5D%5B0%5D=%D8%AF%D9%88%D8%B1+%DA%A9%D8%A7%D8%B1%DB%8C\n",
      "Content Snippet: فرصت های شغلی دور کاری\n",
      " | جابینجاامکان جدید:همین حالا رزومه خود را در کمتر از ۱۰ دقیقه بسازید،برو به رزومه‌سازJobinja | جابینجا | استخدام، آگهی استخدام، کاریابی، استخدامی جدید، بازار کار، نیازمندیها، ساخت رزومه رایگان، کار و استخدام دولتی، اشتغال، جستجوگر حرفه ای استخدام و شغلخانهجستجوی مشاغلرزومه‌ساز۵۰ شرکت برتربخش کارفرمایانورود کارجوثبت‌نام کارجوورود کارجوثبت‌نام کارجو۱جابینجا چطور به استخدام شدن من کمک می‌کند؟مشاهدهمشاهده بیشترجستجودرخواست‌های مننشان‌شده‌هاآگهی‌های پیشنهادیاز آگهی‌های جدید باخبر شوبهترین فرصت های شغلی در جابینجاهمه‌ی استان‌هاتهرانخراسان رضویاصفهانالبرزفارسقمآذربایجان شرقیمازندرانگیلانخوزستانکرمانیزدقزوینمرکزیهرمزگانگلستانزنجانسیستان و بلوچستانبوشهرآذربایجان غربیسمنانکرمانشاههمداناردبیللرستانکردستانخراسان شمالیایلامخراسان جنوبیچهارمحال بختیاریکهکیلویه و بویراحمدهمه‌ی دسته‌بندی‌هافروش و بازاریابیوب،‌ برنامه‌نویسی و نرم‌افزارمالی و حسابداریمسئول دفتر، اجرائی و اداریتولید و مدیریت محتوادیجیتال مارکتینگپشتیبانی و امور مشتریانطراحیIT / DevOps / Serverمهندسی صنایع و مدیری\n",
      "\n"
     ]
    },
    {
     "name": "stderr",
     "output_type": "stream",
     "text": [
      "C:\\Users\\negin\\anaconda3\\Lib\\site-packages\\urllib3\\connectionpool.py:1099: InsecureRequestWarning: Unverified HTTPS request is being made to host 'jobinja.ir'. Adding certificate verification is strongly advised. See: https://urllib3.readthedocs.io/en/latest/advanced-usage.html#tls-warnings\n",
      "  warnings.warn(\n"
     ]
    },
    {
     "name": "stdout",
     "output_type": "stream",
     "text": [
      "URL: https://jobinja.ir/jobs?filters%5Bkeywords%5D%5B0%5D=%D9%85%D8%AA%D8%B1%D8%AC%D9%85\n",
      "Content Snippet: فرصت های شغلی مترجم\n",
      " | جابینجاامکان جدید:همین حالا رزومه خود را در کمتر از ۱۰ دقیقه بسازید،برو به رزومه‌سازJobinja | جابینجا | استخدام، آگهی استخدام، کاریابی، استخدامی جدید، بازار کار، نیازمندیها، ساخت رزومه رایگان، کار و استخدام دولتی، اشتغال، جستجوگر حرفه ای استخدام و شغلخانهجستجوی مشاغلرزومه‌ساز۵۰ شرکت برتربخش کارفرمایانورود کارجوثبت‌نام کارجوورود کارجوثبت‌نام کارجو۱جابینجا چطور به استخدام شدن من کمک می‌کند؟مشاهدهمشاهده بیشترجستجودرخواست‌های مننشان‌شده‌هاآگهی‌های پیشنهادیاز آگهی‌های جدید باخبر شوبهترین فرصت های شغلی در جابینجاهمه‌ی استان‌هاتهرانخراسان رضویاصفهانالبرزفارسقمآذربایجان شرقیمازندرانگیلانخوزستانکرمانیزدقزوینمرکزیهرمزگانگلستانزنجانسیستان و بلوچستانبوشهرآذربایجان غربیسمنانکرمانشاههمداناردبیللرستانکردستانخراسان شمالیایلامخراسان جنوبیچهارمحال بختیاریکهکیلویه و بویراحمدهمه‌ی دسته‌بندی‌هافروش و بازاریابیوب،‌ برنامه‌نویسی و نرم‌افزارمالی و حسابداریمسئول دفتر، اجرائی و اداریتولید و مدیریت محتوادیجیتال مارکتینگپشتیبانی و امور مشتریانطراحیIT / DevOps / Serverمهندسی صنایع و مدیریت ص\n",
      "\n"
     ]
    },
    {
     "name": "stderr",
     "output_type": "stream",
     "text": [
      "C:\\Users\\negin\\anaconda3\\Lib\\site-packages\\urllib3\\connectionpool.py:1099: InsecureRequestWarning: Unverified HTTPS request is being made to host 'jobinja.ir'. Adding certificate verification is strongly advised. See: https://urllib3.readthedocs.io/en/latest/advanced-usage.html#tls-warnings\n",
      "  warnings.warn(\n"
     ]
    },
    {
     "name": "stdout",
     "output_type": "stream",
     "text": [
      "URL: https://jobinja.ir/companies/abarsayande-1\n",
      "Content Snippet: استخدام در شرکت برنادل، آگهی های استخدام Borna Del | جابینجاامکان جدید:همین حالا رزومه خود را در کمتر از ۱۰ دقیقه بسازید،برو به رزومه‌سازJobinja | جابینجا | استخدام، آگهی استخدام، کاریابی، استخدامی جدید، بازار کار، نیازمندیها، ساخت رزومه رایگان، کار و استخدام دولتی، اشتغال، جستجوگر حرفه ای استخدام و شغلخانهجستجوی مشاغلرزومه‌ساز۵۰ شرکت برتربخش کارفرمایانورود کارجوثبت‌نام کارجوورود کارجوثبت‌نام کارجو۱جابینجا چطور به استخدام شدن من کمک می‌کند؟مشاهدهمشاهده بیشتربرنادل|Borna Delتاسیس در  ۱۳۹۹آموزش، مدارس و دانشگاه‌ها۱۱ تا ۵۰ نفرbornadel.academy/در یک نگاهمعرفیفرصت‌های شغلی۲۶شرکت برنادل در زمینه آموزش‌های تخصصی (آنلاین و آفلاین) با استفاده از تکنیک‌های نوین و اساتید مجرب فعالیت می‌کند تا ورود افراد به بازار کار آسان‌تر شود.موقعیت مکانیتهران، تهراناعضای شرکتآرتادخت ده نمکیمدیر دیجیتال مارکتینگچالش اصلی، حل کردن مسائل در واحدهای زمانی کم است، اما ته همه‌ی این ماجراها شیرینه، و اون زمانیه که دانش پذیران از مهارتشون بواسطه برنادل تونستن کسب درآمد کنند و شغل ایده آلشون برسن.فهام غنیcreative manag\n",
      "\n"
     ]
    },
    {
     "name": "stderr",
     "output_type": "stream",
     "text": [
      "C:\\Users\\negin\\anaconda3\\Lib\\site-packages\\urllib3\\connectionpool.py:1099: InsecureRequestWarning: Unverified HTTPS request is being made to host 'jobinja.ir'. Adding certificate verification is strongly advised. See: https://urllib3.readthedocs.io/en/latest/advanced-usage.html#tls-warnings\n",
      "  warnings.warn(\n"
     ]
    },
    {
     "name": "stdout",
     "output_type": "stream",
     "text": [
      "URL: https://jobinja.ir/%D8%A2%DA%AF%D9%87%DB%8C-%D8%A7%D8%B3%D8%AA%D8%AE%D8%AF%D8%A7%D9%85\n",
      "Content Snippet: جذب نیرو | ثبت آگهی استخدام | جابینجاخانهتعرفه‌هابخش کارجویانورود کارفرماثبت نام کارفرماخانهتعرفه‌هاورود کارفرماثبت نام کارفرمابخش کارجویان|ورود کارفرما|ثبت نام کارفرماسریع‌ترین و به‌صرفه‌ترین ابزار استخدامبا درج آگهی استخدام در جابینجا، همین امروز فرصت شغلی شرکت خود را به متخصصان ایرانی اطلاع‌رسانی کنید.٪۶۰تخفیفدرج آگهی استخدامانتشار اولین آگهی با ۶۰٪ تخفیف - ۹۰ هزار تومانانتشار در فهرست فرصت‌های شغلیآگهی شما  ۶۰ روز در فهرست فرصت‌های شغلی سایت جابینجا منتشر می‌شود و در معرض دید میلیون‌ها کارجو قرار می‌گیرد.اطلاع‌رسانی گسترده به کارجویان مرتبطآگهی  شما به کارجویانی که سابقه مرتبط با آن دارند به صورت گسترده از روش‌های مختلف اطلاع‌رسانی می‌شود.گارانتی ۱۰۰٪ رضایت و بازگشت پولبا خیال راحت از امکانات جابینجا استفاده کنید در صورت عدم رضایت، بدون هیچ قید و شرط مبلغ پرداختی را دریافت کنید.جابینجا چه ویژگی‌هایی دارد؟انتشار آگهی استخداممدیریت رزومه‌هاتعیین وضعیت رزومهتیم استخدامجستجو در رزومه‌هانشان کردن رزومه‌یادداشت‌های رزومه‌برند کارفرماییآمار عملکردرزومه‌های پیشنهادیشتابدهی آگهیپشتیبانی درج\n",
      "\n"
     ]
    },
    {
     "name": "stderr",
     "output_type": "stream",
     "text": [
      "C:\\Users\\negin\\anaconda3\\Lib\\site-packages\\urllib3\\connectionpool.py:1099: InsecureRequestWarning: Unverified HTTPS request is being made to host 'jobinja.ir'. Adding certificate verification is strongly advised. See: https://urllib3.readthedocs.io/en/latest/advanced-usage.html#tls-warnings\n",
      "  warnings.warn(\n",
      "C:\\Users\\negin\\anaconda3\\Lib\\site-packages\\urllib3\\connectionpool.py:1099: InsecureRequestWarning: Unverified HTTPS request is being made to host 'jobinja.ir'. Adding certificate verification is strongly advised. See: https://urllib3.readthedocs.io/en/latest/advanced-usage.html#tls-warnings\n",
      "  warnings.warn(\n"
     ]
    },
    {
     "name": "stdout",
     "output_type": "stream",
     "text": [
      "URL: https://jobinja.ir/jobs?filters%5Bjob_categories%5D%5B%5D=%D9%85%D9%86%D8%A7%D8%A8%D8%B9+%D8%A7%D9%86%D8%B3%D8%A7%D9%86%DB%8C+%D9%88+%DA%A9%D8%A7%D8%B1%DA%AF%D8%B2%DB%8C%D9%86%DB%8C\n",
      "Content Snippet: آگهی استخدام کارشناس منابع انسانی | استخدام مدیر منابع انسانی (HR) | جابینجا\n",
      " | جابینجاامکان جدید:همین حالا رزومه خود را در کمتر از ۱۰ دقیقه بسازید،برو به رزومه‌سازJobinja | جابینجا | استخدام، آگهی استخدام، کاریابی، استخدامی جدید، بازار کار، نیازمندیها، ساخت رزومه رایگان، کار و استخدام دولتی، اشتغال، جستجوگر حرفه ای استخدام و شغلخانهجستجوی مشاغلرزومه‌ساز۵۰ شرکت برتربخش کارفرمایانورود کارجوثبت‌نام کارجوورود کارجوثبت‌نام کارجو۱جابینجا چطور به استخدام شدن من کمک می‌کند؟مشاهدهمشاهده بیشترجستجودرخواست‌های مننشان‌شده‌هاآگهی‌های پیشنهادیاز آگهی‌های جدید باخبر شوبهترین فرصت های شغلی در جابینجاهمه‌ی استان‌هاتهرانخراسان رضویاصفهانالبرزفارسقمآذربایجان شرقیمازندرانگیلانخوزستانکرمانیزدقزوینمرکزیهرمزگانگلستانزنجانسیستان و بلوچستانبوشهرآذربایجان غربیسمنانکرمانشاههمداناردبیللرستانکردستانخراسان شمالیایلامخراسان جنوبیچهارمحال بختیاریکهکیلویه و بویراحمدهمه‌ی دسته‌بندی‌هامنابع انسانی و کارگزینیفروش و بازاریابیوب،‌ برنامه‌نویسی و نرم‌افزارمالی و حسابداریمسئول دفتر، اجرائی و اداریتولید و مدیریت محتوادیجیتال\n",
      "\n"
     ]
    },
    {
     "name": "stderr",
     "output_type": "stream",
     "text": [
      "C:\\Users\\negin\\anaconda3\\Lib\\site-packages\\urllib3\\connectionpool.py:1099: InsecureRequestWarning: Unverified HTTPS request is being made to host 'blog.jobinja.ir'. Adding certificate verification is strongly advised. See: https://urllib3.readthedocs.io/en/latest/advanced-usage.html#tls-warnings\n",
      "  warnings.warn(\n"
     ]
    },
    {
     "name": "stdout",
     "output_type": "stream",
     "text": [
      "URL: https://blog.jobinja.ir/%d8%a2%d9%85%d9%88%d8%b2%d8%b4-%d8%aa%da%a9%d9%86%db%8c%da%a9%d9%87%d8%a7%db%8c-%d9%85%d8%b5%d8%a7%d8%ad%d8%a8%d9%87-%d8%b4%d8%ba%d9%84%db%8c/\n",
      "Content Snippet: آموزش تکنیک‌های مصاحبه شغلی برای مدیران منابع انسانی - وبلاگ جابینجااشتراک گذاریبا استفاده از روش‌های زیر می‌توانید این صفحه را با دوستان خود به اشتراک بگذارید.کپی لینککارجو ⏷رزومه نویسیمسیر شغلیمصاحبه کاریمهارت های فردیکارفرما ⏷منابع انسانیفضای کاریاخبار جابینجارزومه سازایجاد آگهی جدیدکارجو ⏷رزومه نویسیمسیر شغلیمصاحبه کاریمهارت های فردیکارفرما ⏷منابع انسانیفضای کاریاخبار جابینجارزومه سازایجاد آگهی جدیدParkingGasFoodCoffeeMiscمرا به خاطر بسپارنام کاربری :ایمیل :نام :نام خانوادگیآدرس وب سایت :تاریخ ثبت نام :نقش کاربر:کارفرمامنابع انسانیآموزش تکنیک‌های مصاحبه شغلی برای مدیران منابع انسانیبازدید 522تیم تولید محتوا54 روز پیشاشتراک گذاریبا استفاده از روش‌های زیر می‌توانید این صفحه را با دوستان خود به اشتراک بگذارید.کپی لینکبدون دیدگاهکارفرمامنابع انسانیآموزش تکنیک‌های مصاحبه شغلی برای مدیران منابع انسانیجذب و استخدام نیروی انسانی کارآمد از مهمترین وظایف مدیران منابع انسانی است. مدیران واحد HR در هر سازمانی باید بهترین شیوه‌ها را برای مصاحبه شغلی به کار گیرند تا مستعدترین نیروها را شناسایی و\n",
      "\n"
     ]
    },
    {
     "name": "stderr",
     "output_type": "stream",
     "text": [
      "C:\\Users\\negin\\anaconda3\\Lib\\site-packages\\urllib3\\connectionpool.py:1099: InsecureRequestWarning: Unverified HTTPS request is being made to host 'jobinja.ir'. Adding certificate verification is strongly advised. See: https://urllib3.readthedocs.io/en/latest/advanced-usage.html#tls-warnings\n",
      "  warnings.warn(\n",
      "C:\\Users\\negin\\anaconda3\\Lib\\site-packages\\urllib3\\connectionpool.py:1099: InsecureRequestWarning: Unverified HTTPS request is being made to host 'jobinja.ir'. Adding certificate verification is strongly advised. See: https://urllib3.readthedocs.io/en/latest/advanced-usage.html#tls-warnings\n",
      "  warnings.warn(\n"
     ]
    },
    {
     "name": "stdout",
     "output_type": "stream",
     "text": [
      "URL: https://jobinja.ir/jobs?filters%5Bjob_categories%5D%5B%5D=%D9%85%D8%A7%D9%84%DB%8C+%D9%88+%D8%AD%D8%B3%D8%A7%D8%A8%D8%AF%D8%A7%D8%B1%DB%8C\n",
      "Content Snippet: استخدام حسابدار | آگهی استخدام حسابدار | استخدام کمک حسابدار\n",
      " | جابینجاامکان جدید:همین حالا رزومه خود را در کمتر از ۱۰ دقیقه بسازید،برو به رزومه‌سازJobinja | جابینجا | استخدام، آگهی استخدام، کاریابی، استخدامی جدید، بازار کار، نیازمندیها، ساخت رزومه رایگان، کار و استخدام دولتی، اشتغال، جستجوگر حرفه ای استخدام و شغلخانهجستجوی مشاغلرزومه‌ساز۵۰ شرکت برتربخش کارفرمایانورود کارجوثبت‌نام کارجوورود کارجوثبت‌نام کارجو۱جابینجا چطور به استخدام شدن من کمک می‌کند؟مشاهدهمشاهده بیشترجستجودرخواست‌های مننشان‌شده‌هاآگهی‌های پیشنهادیاز آگهی‌های جدید باخبر شوبهترین فرصت های شغلی در جابینجاهمه‌ی استان‌هاتهرانخراسان رضویاصفهانالبرزفارسقمآذربایجان شرقیمازندرانگیلانخوزستانکرمانیزدقزوینمرکزیهرمزگانگلستانزنجانسیستان و بلوچستانبوشهرآذربایجان غربیسمنانکرمانشاههمداناردبیللرستانکردستانخراسان شمالیایلامخراسان جنوبیچهارمحال بختیاریکهکیلویه و بویراحمدهمه‌ی دسته‌بندی‌هامالی و حسابداریفروش و بازاریابیوب،‌ برنامه‌نویسی و نرم‌افزارمسئول دفتر، اجرائی و اداریتولید و مدیریت محتوادیجیتال مارکتینگپشتیبانی و امور مشتریانطراحیIT\n",
      "\n"
     ]
    },
    {
     "name": "stderr",
     "output_type": "stream",
     "text": [
      "C:\\Users\\negin\\anaconda3\\Lib\\site-packages\\urllib3\\connectionpool.py:1099: InsecureRequestWarning: Unverified HTTPS request is being made to host 'jobinja.ir'. Adding certificate verification is strongly advised. See: https://urllib3.readthedocs.io/en/latest/advanced-usage.html#tls-warnings\n",
      "  warnings.warn(\n"
     ]
    },
    {
     "name": "stdout",
     "output_type": "stream",
     "text": [
      "URL: https://jobinja.ir/jobs?filters%5Bkeywords%5D%5B0%5D=%D8%AA%D8%AF%D9%88%DB%8C%D9%86%DA%AF%D8%B1\n",
      "Content Snippet: فرصت های شغلی تدوینگر\n",
      " | جابینجاامکان جدید:همین حالا رزومه خود را در کمتر از ۱۰ دقیقه بسازید،برو به رزومه‌سازJobinja | جابینجا | استخدام، آگهی استخدام، کاریابی، استخدامی جدید، بازار کار، نیازمندیها، ساخت رزومه رایگان، کار و استخدام دولتی، اشتغال، جستجوگر حرفه ای استخدام و شغلخانهجستجوی مشاغلرزومه‌ساز۵۰ شرکت برتربخش کارفرمایانورود کارجوثبت‌نام کارجوورود کارجوثبت‌نام کارجو۱جابینجا چطور به استخدام شدن من کمک می‌کند؟مشاهدهمشاهده بیشترجستجودرخواست‌های مننشان‌شده‌هاآگهی‌های پیشنهادیاز آگهی‌های جدید باخبر شوبهترین فرصت های شغلی در جابینجاهمه‌ی استان‌هاتهرانخراسان رضویاصفهانالبرزفارسقمآذربایجان شرقیمازندرانگیلانخوزستانکرمانیزدقزوینمرکزیهرمزگانگلستانزنجانسیستان و بلوچستانبوشهرآذربایجان غربیسمنانکرمانشاههمداناردبیللرستانکردستانخراسان شمالیایلامخراسان جنوبیچهارمحال بختیاریکهکیلویه و بویراحمدهمه‌ی دسته‌بندی‌هافروش و بازاریابیوب،‌ برنامه‌نویسی و نرم‌افزارمالی و حسابداریمسئول دفتر، اجرائی و اداریتولید و مدیریت محتوادیجیتال مارکتینگپشتیبانی و امور مشتریانطراحیIT / DevOps / Serverمهندسی صنایع و مدیریت\n",
      "\n"
     ]
    },
    {
     "name": "stderr",
     "output_type": "stream",
     "text": [
      "C:\\Users\\negin\\anaconda3\\Lib\\site-packages\\urllib3\\connectionpool.py:1099: InsecureRequestWarning: Unverified HTTPS request is being made to host 'jobinja.ir'. Adding certificate verification is strongly advised. See: https://urllib3.readthedocs.io/en/latest/advanced-usage.html#tls-warnings\n",
      "  warnings.warn(\n"
     ]
    },
    {
     "name": "stdout",
     "output_type": "stream",
     "text": [
      "URL: https://jobinja.ir/contact\n",
      "Content Snippet: تماس با ما | جابینجاامکان جدید:همین حالا رزومه خود را در کمتر از ۱۰ دقیقه بسازید،برو به رزومه‌سازJobinja | جابینجا | استخدام، آگهی استخدام، کاریابی، استخدامی جدید، بازار کار، نیازمندیها، ساخت رزومه رایگان، کار و استخدام دولتی، اشتغال، جستجوگر حرفه ای استخدام و شغلخانهجستجوی مشاغلرزومه‌ساز۵۰ شرکت برتربخش کارفرمایانورود کارجوثبت‌نام کارجوورود کارجوثبت‌نام کارجو۱جابینجا چطور به استخدام شدن من کمک می‌کند؟مشاهدهمشاهده بیشترتماس با مااگر سوالی دارید، یک مشکل در وب‌سایت پیدا کرده‌اید و می‌خواهید به ما اطلاع دهید، برای جاب‌اینجا\n",
      "                        پیشنهادی دارید، اگر حتی فقط قصد آشنا شدن با ما را دارید، یک لحظه هم درنگ نکنید! همین حالا با ما\n",
      "                        تماس بگیرید‌ :)hi@jobinja.irایمیل شمافرمت ایمیل صحیح نیست.ایمیل را وارد کنیدشماره موبایل شمافرمت شماره موبایل صحیح نیست.شماره موبایل را وارد کنیدپیام شمامتن پیام را وارد کنید.پیام شما با موفقیت ارسال شد.کارجویانسوالات متداول کارجویانقوانین و مقررات کارجویانلیست مشاغلآگهی‌های استخدامورود / ثبت‌نام کارجوایمیل‌های اطلاع‌رسانیرزومه\n",
      "\n"
     ]
    },
    {
     "name": "stderr",
     "output_type": "stream",
     "text": [
      "C:\\Users\\negin\\anaconda3\\Lib\\site-packages\\urllib3\\connectionpool.py:1099: InsecureRequestWarning: Unverified HTTPS request is being made to host 'jobinja.ir'. Adding certificate verification is strongly advised. See: https://urllib3.readthedocs.io/en/latest/advanced-usage.html#tls-warnings\n",
      "  warnings.warn(\n",
      "C:\\Users\\negin\\anaconda3\\Lib\\site-packages\\urllib3\\connectionpool.py:1099: InsecureRequestWarning: Unverified HTTPS request is being made to host 'jobinja.ir'. Adding certificate verification is strongly advised. See: https://urllib3.readthedocs.io/en/latest/advanced-usage.html#tls-warnings\n",
      "  warnings.warn(\n"
     ]
    },
    {
     "name": "stdout",
     "output_type": "stream",
     "text": [
      "URL: https://jobinja.ir/jobs?filters%5Bjob_categories%5D%5B%5D=%D9%85%D9%87%D9%86%D8%AF%D8%B3%DB%8C+%D8%B9%D9%85%D8%B1%D8%A7%D9%86+%D9%88+%D9%85%D8%B9%D9%85%D8%A7%D8%B1%DB%8C\n",
      "Content Snippet: استخدام مهندس عمران و معماری\n",
      " | جابینجاامکان جدید:همین حالا رزومه خود را در کمتر از ۱۰ دقیقه بسازید،برو به رزومه‌سازJobinja | جابینجا | استخدام، آگهی استخدام، کاریابی، استخدامی جدید، بازار کار، نیازمندیها، ساخت رزومه رایگان، کار و استخدام دولتی، اشتغال، جستجوگر حرفه ای استخدام و شغلخانهجستجوی مشاغلرزومه‌ساز۵۰ شرکت برتربخش کارفرمایانورود کارجوثبت‌نام کارجوورود کارجوثبت‌نام کارجو۱جابینجا چطور به استخدام شدن من کمک می‌کند؟مشاهدهمشاهده بیشترجستجودرخواست‌های مننشان‌شده‌هاآگهی‌های پیشنهادیاز آگهی‌های جدید باخبر شوبهترین فرصت های شغلی در جابینجاهمه‌ی استان‌هاتهرانخراسان رضویاصفهانالبرزفارسقمآذربایجان شرقیمازندرانگیلانخوزستانکرمانیزدقزوینمرکزیهرمزگانگلستانزنجانسیستان و بلوچستانبوشهرآذربایجان غربیسمنانکرمانشاههمداناردبیللرستانکردستانخراسان شمالیایلامخراسان جنوبیچهارمحال بختیاریکهکیلویه و بویراحمدهمه‌ی دسته‌بندی‌هامهندسی عمران و معماریفروش و بازاریابیوب،‌ برنامه‌نویسی و نرم‌افزارمالی و حسابداریمسئول دفتر، اجرائی و اداریتولید و مدیریت محتوادیجیتال مارکتینگپشتیبانی و امور مشتریانطراحیIT / DevOps /\n",
      "\n"
     ]
    },
    {
     "name": "stderr",
     "output_type": "stream",
     "text": [
      "C:\\Users\\negin\\anaconda3\\Lib\\site-packages\\urllib3\\connectionpool.py:1099: InsecureRequestWarning: Unverified HTTPS request is being made to host 'jobinja.ir'. Adding certificate verification is strongly advised. See: https://urllib3.readthedocs.io/en/latest/advanced-usage.html#tls-warnings\n",
      "  warnings.warn(\n"
     ]
    },
    {
     "name": "stdout",
     "output_type": "stream",
     "text": [
      "URL: https://jobinja.ir/companies/chargoon\n",
      "Content Snippet: استخدام در شرکت چارگون، آگهی های استخدام Chargoon | جابینجاامکان جدید:همین حالا رزومه خود را در کمتر از ۱۰ دقیقه بسازید،برو به رزومه‌سازJobinja | جابینجا | استخدام، آگهی استخدام، کاریابی، استخدامی جدید، بازار کار، نیازمندیها، ساخت رزومه رایگان، کار و استخدام دولتی، اشتغال، جستجوگر حرفه ای استخدام و شغلخانهجستجوی مشاغلرزومه‌ساز۵۰ شرکت برتربخش کارفرمایانورود کارجوثبت‌نام کارجوورود کارجوثبت‌نام کارجو۱جابینجا چطور به استخدام شدن من کمک می‌کند؟مشاهدهمشاهده بیشترچارگون|Chargoonتاسیس در  ۱۳۷۷کامپیوتر، فناوری اطلاعات و اینترنت۲۰۱ تا ۵۰۰ نفرchargoon.comدر یک نگاهمعرفیفرصت‌های شغلی۱۸در چارگون پویایی و تلاش برای رسیدن به اهداف باعث توسعه توانایی‌ها شده و بهره گیری از ابزار مناسب کنار تیم حرفه‌ای موجب رشد شخصی و کاری افراد سازمان می‌شود.موقعیت مکانیتهران، تهراناعضای شرکتفرزاد  رحمانیمدیرعاملاز بدو تاسیس شرکت چارگون که جمعی کوچک، سنگ بنای آن‌ را نهادند تا به امروز که بیش از 350 جوان با انگیزه و خلاق با اتکا به دانش و توانمندی فنی خود، محصولاتی بومی و سازگار با ساختار اداری کشور را طراحی و تولید می‌\n",
      "\n"
     ]
    },
    {
     "name": "stderr",
     "output_type": "stream",
     "text": [
      "C:\\Users\\negin\\anaconda3\\Lib\\site-packages\\urllib3\\connectionpool.py:1099: InsecureRequestWarning: Unverified HTTPS request is being made to host 'jobinja.ir'. Adding certificate verification is strongly advised. See: https://urllib3.readthedocs.io/en/latest/advanced-usage.html#tls-warnings\n",
      "  warnings.warn(\n"
     ]
    },
    {
     "name": "stdout",
     "output_type": "stream",
     "text": [
      "URL: https://jobinja.ir/jobs?filters%5Bkeywords%5D%5B0%5D=%D8%A7%D8%AF%D9%85%DB%8C%D9%86+%D9%BE%D8%A7%D8%B3%D8%AE%DA%AF%D9%88%DB%8C%DB%8C\n",
      "Content Snippet: فرصت های شغلی ادمین پاسخگویی\n",
      " | جابینجاامکان جدید:همین حالا رزومه خود را در کمتر از ۱۰ دقیقه بسازید،برو به رزومه‌سازJobinja | جابینجا | استخدام، آگهی استخدام، کاریابی، استخدامی جدید، بازار کار، نیازمندیها، ساخت رزومه رایگان، کار و استخدام دولتی، اشتغال، جستجوگر حرفه ای استخدام و شغلخانهجستجوی مشاغلرزومه‌ساز۵۰ شرکت برتربخش کارفرمایانورود کارجوثبت‌نام کارجوورود کارجوثبت‌نام کارجو۱جابینجا چطور به استخدام شدن من کمک می‌کند؟مشاهدهمشاهده بیشترجستجودرخواست‌های مننشان‌شده‌هاآگهی‌های پیشنهادیاز آگهی‌های جدید باخبر شوبهترین فرصت های شغلی در جابینجاهمه‌ی استان‌هاتهرانخراسان رضویاصفهانالبرزفارسقمآذربایجان شرقیمازندرانگیلانخوزستانکرمانیزدقزوینمرکزیهرمزگانگلستانزنجانسیستان و بلوچستانبوشهرآذربایجان غربیسمنانکرمانشاههمداناردبیللرستانکردستانخراسان شمالیایلامخراسان جنوبیچهارمحال بختیاریکهکیلویه و بویراحمدهمه‌ی دسته‌بندی‌هافروش و بازاریابیوب،‌ برنامه‌نویسی و نرم‌افزارمالی و حسابداریمسئول دفتر، اجرائی و اداریتولید و مدیریت محتوادیجیتال مارکتینگپشتیبانی و امور مشتریانطراحیIT / DevOps / Serverمهندسی صنایع و\n",
      "\n"
     ]
    },
    {
     "name": "stderr",
     "output_type": "stream",
     "text": [
      "C:\\Users\\negin\\anaconda3\\Lib\\site-packages\\urllib3\\connectionpool.py:1099: InsecureRequestWarning: Unverified HTTPS request is being made to host 'jobinja.ir'. Adding certificate verification is strongly advised. See: https://urllib3.readthedocs.io/en/latest/advanced-usage.html#tls-warnings\n",
      "  warnings.warn(\n",
      "C:\\Users\\negin\\anaconda3\\Lib\\site-packages\\urllib3\\connectionpool.py:1099: InsecureRequestWarning: Unverified HTTPS request is being made to host 'jobinja.ir'. Adding certificate verification is strongly advised. See: https://urllib3.readthedocs.io/en/latest/advanced-usage.html#tls-warnings\n",
      "  warnings.warn(\n"
     ]
    },
    {
     "name": "stdout",
     "output_type": "stream",
     "text": [
      "URL: https://jobinja.ir/jobs?filters%5Blocations%5D%5B%5D=%D9%82%D8%B2%D9%88%DB%8C%D9%86\n",
      "Content Snippet: استخدامی قزوین | استخدام قزوین | آگهی استخدام قزوین\n",
      " | جابینجاامکان جدید:همین حالا رزومه خود را در کمتر از ۱۰ دقیقه بسازید،برو به رزومه‌سازJobinja | جابینجا | استخدام، آگهی استخدام، کاریابی، استخدامی جدید، بازار کار، نیازمندیها، ساخت رزومه رایگان، کار و استخدام دولتی، اشتغال، جستجوگر حرفه ای استخدام و شغلخانهجستجوی مشاغلرزومه‌ساز۵۰ شرکت برتربخش کارفرمایانورود کارجوثبت‌نام کارجوورود کارجوثبت‌نام کارجو۱جابینجا چطور به استخدام شدن من کمک می‌کند؟مشاهدهمشاهده بیشترجستجودرخواست‌های مننشان‌شده‌هاآگهی‌های پیشنهادیاز آگهی‌های جدید باخبر شوبهترین فرصت های شغلی در جابینجاهمه‌ی استان‌هاقزوینتهرانخراسان رضویاصفهانالبرزفارسقمآذربایجان شرقیمازندرانگیلانخوزستانکرمانیزدمرکزیهرمزگانگلستانزنجانسیستان و بلوچستانبوشهرآذربایجان غربیسمنانکرمانشاههمداناردبیللرستانکردستانخراسان شمالیایلامخراسان جنوبیچهارمحال بختیاریکهکیلویه و بویراحمدهمه‌ی دسته‌بندی‌هافروش و بازاریابیوب،‌ برنامه‌نویسی و نرم‌افزارمالی و حسابداریمسئول دفتر، اجرائی و اداریتولید و مدیریت محتوادیجیتال مارکتینگپشتیبانی و امور مشتریانطراحیIT / DevOps\n",
      "\n"
     ]
    },
    {
     "name": "stderr",
     "output_type": "stream",
     "text": [
      "C:\\Users\\negin\\anaconda3\\Lib\\site-packages\\urllib3\\connectionpool.py:1099: InsecureRequestWarning: Unverified HTTPS request is being made to host 'jobinja.ir'. Adding certificate verification is strongly advised. See: https://urllib3.readthedocs.io/en/latest/advanced-usage.html#tls-warnings\n",
      "  warnings.warn(\n"
     ]
    },
    {
     "name": "stdout",
     "output_type": "stream",
     "text": [
      "URL: https://jobinja.ir/jobs\n",
      "Content Snippet: فرصت های شغلی | موقعیت شغلی\n",
      " | جابینجاامکان جدید:همین حالا رزومه خود را در کمتر از ۱۰ دقیقه بسازید،برو به رزومه‌سازJobinja | جابینجا | استخدام، آگهی استخدام، کاریابی، استخدامی جدید، بازار کار، نیازمندیها، ساخت رزومه رایگان، کار و استخدام دولتی، اشتغال، جستجوگر حرفه ای استخدام و شغلخانهجستجوی مشاغلرزومه‌ساز۵۰ شرکت برتربخش کارفرمایانورود کارجوثبت‌نام کارجوورود کارجوثبت‌نام کارجو۱جابینجا چطور به استخدام شدن من کمک می‌کند؟مشاهدهمشاهده بیشترجستجودرخواست‌های مننشان‌شده‌هاآگهی‌های پیشنهادیاز آگهی‌های جدید باخبر شوبهترین فرصت های شغلی در جابینجاهمه‌ی استان‌هاتهرانخراسان رضویاصفهانالبرزفارسقمآذربایجان شرقیمازندرانگیلانخوزستانکرمانیزدقزوینمرکزیهرمزگانگلستانزنجانسیستان و بلوچستانبوشهرآذربایجان غربیسمنانکرمانشاههمداناردبیللرستانکردستانخراسان شمالیایلامخراسان جنوبیچهارمحال بختیاریکهکیلویه و بویراحمدهمه‌ی دسته‌بندی‌هافروش و بازاریابیوب،‌ برنامه‌نویسی و نرم‌افزارمالی و حسابداریمسئول دفتر، اجرائی و اداریتولید و مدیریت محتوادیجیتال مارکتینگپشتیبانی و امور مشتریانطراحیIT / DevOps / Serverمهندسی صنایع و \n",
      "\n"
     ]
    },
    {
     "name": "stderr",
     "output_type": "stream",
     "text": [
      "C:\\Users\\negin\\anaconda3\\Lib\\site-packages\\urllib3\\connectionpool.py:1099: InsecureRequestWarning: Unverified HTTPS request is being made to host 'jobinja.ir'. Adding certificate verification is strongly advised. See: https://urllib3.readthedocs.io/en/latest/advanced-usage.html#tls-warnings\n",
      "  warnings.warn(\n",
      "C:\\Users\\negin\\anaconda3\\Lib\\site-packages\\urllib3\\connectionpool.py:1099: InsecureRequestWarning: Unverified HTTPS request is being made to host 'jobinja.ir'. Adding certificate verification is strongly advised. See: https://urllib3.readthedocs.io/en/latest/advanced-usage.html#tls-warnings\n",
      "  warnings.warn(\n"
     ]
    },
    {
     "name": "stdout",
     "output_type": "stream",
     "text": [
      "URL: https://jobinja.ir/jobs?filters%5Bjob_categories%5D%5B%5D=%D8%AA%D8%AD%D9%82%DB%8C%D9%82+%D8%A8%D8%A7%D8%B2%D8%A7%D8%B1+%D9%88+%D8%AA%D8%AD%D9%84%DB%8C%D9%84+%D8%A7%D9%82%D8%AA%D8%B5%D8%A7%D8%AF%DB%8C\n",
      "Content Snippet: استخدام تحلیلگر بازار و اقتصاد\n",
      " | جابینجاامکان جدید:همین حالا رزومه خود را در کمتر از ۱۰ دقیقه بسازید،برو به رزومه‌سازJobinja | جابینجا | استخدام، آگهی استخدام، کاریابی، استخدامی جدید، بازار کار، نیازمندیها، ساخت رزومه رایگان، کار و استخدام دولتی، اشتغال، جستجوگر حرفه ای استخدام و شغلخانهجستجوی مشاغلرزومه‌ساز۵۰ شرکت برتربخش کارفرمایانورود کارجوثبت‌نام کارجوورود کارجوثبت‌نام کارجو۱جابینجا چطور به استخدام شدن من کمک می‌کند؟مشاهدهمشاهده بیشترجستجودرخواست‌های مننشان‌شده‌هاآگهی‌های پیشنهادیاز آگهی‌های جدید باخبر شوبهترین فرصت های شغلی در جابینجاهمه‌ی استان‌هاتهرانخراسان رضویاصفهانالبرزفارسقمآذربایجان شرقیمازندرانگیلانخوزستانکرمانیزدقزوینمرکزیهرمزگانگلستانزنجانسیستان و بلوچستانبوشهرآذربایجان غربیسمنانکرمانشاههمداناردبیللرستانکردستانخراسان شمالیایلامخراسان جنوبیچهارمحال بختیاریکهکیلویه و بویراحمدهمه‌ی دسته‌بندی‌هاتحقیق بازار و تحلیل اقتصادیفروش و بازاریابیوب،‌ برنامه‌نویسی و نرم‌افزارمالی و حسابداریمسئول دفتر، اجرائی و اداریتولید و مدیریت محتوادیجیتال مارکتینگپشتیبانی و امور مشتریانطراحیIT / \n",
      "\n"
     ]
    },
    {
     "name": "stderr",
     "output_type": "stream",
     "text": [
      "C:\\Users\\negin\\anaconda3\\Lib\\site-packages\\urllib3\\connectionpool.py:1099: InsecureRequestWarning: Unverified HTTPS request is being made to host 'jobinja.ir'. Adding certificate verification is strongly advised. See: https://urllib3.readthedocs.io/en/latest/advanced-usage.html#tls-warnings\n",
      "  warnings.warn(\n"
     ]
    },
    {
     "name": "stdout",
     "output_type": "stream",
     "text": [
      "URL: https://jobinja.ir/knowledge/employer-faq/pages/employer-account-faq\n",
      "Content Snippet: سوالات متداول حساب کاربری کارفرمایان | جابینجاامکان جدید:همین حالا رزومه خود را در کمتر از ۱۰ دقیقه بسازید،برو به رزومه‌سازJobinja | جابینجا | استخدام، آگهی استخدام، کاریابی، استخدامی جدید، بازار کار، نیازمندیها، ساخت رزومه رایگان، کار و استخدام دولتی، اشتغال، جستجوگر حرفه ای استخدام و شغلخانهجستجوی مشاغلرزومه‌ساز۵۰ شرکت برتربخش کارفرمایانورود کارجوثبت‌نام کارجوورود کارجوثبت‌نام کارجو۱جابینجا چطور به استخدام شدن من کمک می‌کند؟مشاهدهمشاهده بیشترسوالات متداول کارفرمایانسوالات متداول حساب کاربری کارفرمایانسوالات متداول حساب کاربری کارفرمایانثبت‌نام و ورود به پنل شرکت:۱- اقدامات لازم جهت ایجاد پنل کارفرمایی چیست؟چنانچه در حال جذب نیرو هستید، وارد سایت جابینجا (www.jobinja.ir)\n",
      "                شده و سپس از بخش کارفرمایان گزینه ثبت‌نام کارفرما را انتخاب نمایید و پس از تکمیل اطلاعات، از پنل ایجاد شده برای درج آگهی استخدام استفاده نمایید.۲- چنانچه پنل کارفرمایی شرکت موقتا غیرفعال شده چگونه آن را فعال کنم؟مجموعه شما پنل فعال داخل سایت جابینجا دارد یا پروفایل دیگری که با نام مجموعه شما، تشابه اس\n",
      "\n"
     ]
    },
    {
     "name": "stderr",
     "output_type": "stream",
     "text": [
      "C:\\Users\\negin\\anaconda3\\Lib\\site-packages\\urllib3\\connectionpool.py:1099: InsecureRequestWarning: Unverified HTTPS request is being made to host 'jobinja.ir'. Adding certificate verification is strongly advised. See: https://urllib3.readthedocs.io/en/latest/advanced-usage.html#tls-warnings\n",
      "  warnings.warn(\n"
     ]
    },
    {
     "name": "stdout",
     "output_type": "stream",
     "text": [
      "URL: https://jobinja.ir/companies/daira-hamrah/jobs\n",
      "Content Snippet: فرصت‌های شغلی فعال در داریا همراه پایتخت  | Daria Hamrah | جابینجاامکان جدید:همین حالا رزومه خود را در کمتر از ۱۰ دقیقه بسازید،برو به رزومه‌سازJobinja | جابینجا | استخدام، آگهی استخدام، کاریابی، استخدامی جدید، بازار کار، نیازمندیها، ساخت رزومه رایگان، کار و استخدام دولتی، اشتغال، جستجوگر حرفه ای استخدام و شغلخانهجستجوی مشاغلرزومه‌ساز۵۰ شرکت برتربخش کارفرمایانورود کارجوثبت‌نام کارجوورود کارجوثبت‌نام کارجو۱جابینجا چطور به استخدام شدن من کمک می‌کند؟مشاهدهمشاهده بیشترداریا همراه پایتخت|Daria Hamrahتاسیس در  ۱۳۹۹مخابرات و ارتباطات (تلکام)۵۰۱ تا ۱۰۰۰ نفرdariahamrah.ir/در یک نگاهمعرفیفرصت‌های شغلی۲۷معرفی داریا همراه پایتختبا توجه به پیشرفت روز افزون تکنولوژی و ارتقای تلفن‌های همراه هوشمند در سطح جهانی، داریا به عنوان یکی از فعالان در این زمینه و علاقمند به حرکت به سمت قله‌های تکنولوژی، با طراحی و مدیریت تولید گوشی هوشمند bond با همکاری شرکای خارجی خود، وارد این عرصه شده ‌است. در سال‌های اخیر داریا توسط سامانه جامع گارانتی به عنوان برترین شرکت خدمات پس از فروش تلفن‌های همراه هوشمند برگزیده شده\n",
      "\n"
     ]
    },
    {
     "name": "stderr",
     "output_type": "stream",
     "text": [
      "C:\\Users\\negin\\anaconda3\\Lib\\site-packages\\urllib3\\connectionpool.py:1099: InsecureRequestWarning: Unverified HTTPS request is being made to host 'jobinja.ir'. Adding certificate verification is strongly advised. See: https://urllib3.readthedocs.io/en/latest/advanced-usage.html#tls-warnings\n",
      "  warnings.warn(\n"
     ]
    },
    {
     "name": "stdout",
     "output_type": "stream",
     "text": [
      "URL: https://jobinja.ir\n",
      "Content Snippet: استخدام | آگهی استخدام | سایت کاریابی | جابینجاJobinja | جابینجا | استخدام، آگهی استخدام، کاریابی، استخدامی جدید، بازار کار، نیازمندیها، ساخت رزومه رایگان، کار و استخدام دولتی، اشتغال، جستجوگر حرفه ای استخدام و شغلخانهجستجوی مشاغلرزومه‌ساز۵۰ شرکت برتربخش کارفرمایانورود کارجوثبت‌نام کارجوورود کارجوثبت‌نام کارجو۱جابینجا چطور به استخدام شدن من کمک می‌کند؟مشاهدهمشاهده بیشتر۲۵,۴۶۴آگهی استخدام فعال در۱۰,۹۸۷شرکت ایرانیجابینجا:سامانهکاریابی آنلاین با بیشترین تعداد آگهی استخدام در ایرانهمه‌ی استان‌هاتهرانخراسان رضویاصفهانالبرزفارسقمآذربایجان شرقیمازندرانگیلانخوزستانکرمانیزدقزوینمرکزیهرمزگانگلستانزنجانسیستان و بلوچستانبوشهرآذربایجان غربیسمنانکرمانشاههمداناردبیللرستانکردستانخراسان شمالیایلامخراسان جنوبیچهارمحال بختیاریکهکیلویه و بویراحمدهمه‌ی دسته‌بندی‌هافروش و بازاریابیوب،‌ برنامه‌نویسی و نرم‌افزارمالی و حسابداریمسئول دفتر، اجرائی و اداریتولید و مدیریت محتوادیجیتال مارکتینگپشتیبانی و امور مشتریانطراحیIT / DevOps / Serverمهندسی صنایع و مدیریت صنعتیکارگر ساده، نیروی خدماتیمهندسی برق و الکترونیکمنا\n",
      "\n"
     ]
    },
    {
     "name": "stderr",
     "output_type": "stream",
     "text": [
      "C:\\Users\\negin\\anaconda3\\Lib\\site-packages\\urllib3\\connectionpool.py:1099: InsecureRequestWarning: Unverified HTTPS request is being made to host 'jobinja.ir'. Adding certificate verification is strongly advised. See: https://urllib3.readthedocs.io/en/latest/advanced-usage.html#tls-warnings\n",
      "  warnings.warn(\n"
     ]
    },
    {
     "name": "stdout",
     "output_type": "stream",
     "text": [
      "URL: https://jobinja.ir/companies/falnic-%28iranhp%29/jobs\n",
      "Content Snippet: فرصت‌های شغلی فعال در فالنیک (ایران اچ پی) | Falnic-IranHP | جابینجاامکان جدید:همین حالا رزومه خود را در کمتر از ۱۰ دقیقه بسازید،برو به رزومه‌سازJobinja | جابینجا | استخدام، آگهی استخدام، کاریابی، استخدامی جدید، بازار کار، نیازمندیها، ساخت رزومه رایگان، کار و استخدام دولتی، اشتغال، جستجوگر حرفه ای استخدام و شغلخانهجستجوی مشاغلرزومه‌ساز۵۰ شرکت برتربخش کارفرمایانورود کارجوثبت‌نام کارجوورود کارجوثبت‌نام کارجو۱جابینجا چطور به استخدام شدن من کمک می‌کند؟مشاهدهمشاهده بیشترفالنیک (ایران اچ پی)|Falnic-IranHPتاسیس در  ۱۳۷۴کامپیوتر، فناوری اطلاعات و اینترنت۵۱ تا ۲۰۰ نفرfalnic.comدر یک نگاهمعرفیفرصت‌های شغلی۱۰معرفی فالنیک (ایران اچ پی)فالنیک ایران اچ پی شرکتی در حوزه فروش تجیهزات و ارائه خدمات IT است که از سال 1374 فعالیت خود را آغاز کرده است. تا امروز محصولات و خدمات ما به بیش از 30 هزار فرد حقیقی و حقوقی و بیش از 9 هزار سازمان و شرکت مختلف کمک کرده تا به اهداف‌شان برسند.•\tبانک مرکزی•\tوزارت کشاوری•\tسازمان سنجش و آموزش کشور•\tفدراسیون والیبال•\tسازمان لیگ فوتبال•\tشرکت کاله•\tشکت داداش برادر (شونیز)•\t\n",
      "\n"
     ]
    },
    {
     "name": "stderr",
     "output_type": "stream",
     "text": [
      "C:\\Users\\negin\\anaconda3\\Lib\\site-packages\\urllib3\\connectionpool.py:1099: InsecureRequestWarning: Unverified HTTPS request is being made to host 'jobinja.ir'. Adding certificate verification is strongly advised. See: https://urllib3.readthedocs.io/en/latest/advanced-usage.html#tls-warnings\n",
      "  warnings.warn(\n",
      "C:\\Users\\negin\\anaconda3\\Lib\\site-packages\\urllib3\\connectionpool.py:1099: InsecureRequestWarning: Unverified HTTPS request is being made to host 'jobinja.ir'. Adding certificate verification is strongly advised. See: https://urllib3.readthedocs.io/en/latest/advanced-usage.html#tls-warnings\n",
      "  warnings.warn(\n"
     ]
    },
    {
     "name": "stdout",
     "output_type": "stream",
     "text": [
      "URL: https://jobinja.ir/jobs?filters%5Blocations%5D%5B%5D=%DA%A9%D8%B1%D8%AF%D8%B3%D8%AA%D8%A7%D9%86\n",
      "Content Snippet: استخدام کردستان | کاریابی کردستان | آگهی استخدام کردستان\n",
      " | جابینجاامکان جدید:همین حالا رزومه خود را در کمتر از ۱۰ دقیقه بسازید،برو به رزومه‌سازJobinja | جابینجا | استخدام، آگهی استخدام، کاریابی، استخدامی جدید، بازار کار، نیازمندیها، ساخت رزومه رایگان، کار و استخدام دولتی، اشتغال، جستجوگر حرفه ای استخدام و شغلخانهجستجوی مشاغلرزومه‌ساز۵۰ شرکت برتربخش کارفرمایانورود کارجوثبت‌نام کارجوورود کارجوثبت‌نام کارجو۱جابینجا چطور به استخدام شدن من کمک می‌کند؟مشاهدهمشاهده بیشترجستجودرخواست‌های مننشان‌شده‌هاآگهی‌های پیشنهادیاز آگهی‌های جدید باخبر شوبهترین فرصت های شغلی در جابینجاهمه‌ی استان‌هاکردستانتهرانخراسان رضویاصفهانالبرزفارسقمآذربایجان شرقیمازندرانگیلانخوزستانکرمانیزدقزوینمرکزیهرمزگانگلستانزنجانسیستان و بلوچستانبوشهرآذربایجان غربیسمنانکرمانشاههمداناردبیللرستانخراسان شمالیایلامخراسان جنوبیچهارمحال بختیاریکهکیلویه و بویراحمدهمه‌ی دسته‌بندی‌هافروش و بازاریابیوب،‌ برنامه‌نویسی و نرم‌افزارمالی و حسابداریمسئول دفتر، اجرائی و اداریتولید و مدیریت محتوادیجیتال مارکتینگپشتیبانی و امور مشتریانطراحیIT / D\n",
      "\n"
     ]
    },
    {
     "name": "stderr",
     "output_type": "stream",
     "text": [
      "C:\\Users\\negin\\anaconda3\\Lib\\site-packages\\urllib3\\connectionpool.py:1099: InsecureRequestWarning: Unverified HTTPS request is being made to host 'jobinja.ir'. Adding certificate verification is strongly advised. See: https://urllib3.readthedocs.io/en/latest/advanced-usage.html#tls-warnings\n",
      "  warnings.warn(\n",
      "C:\\Users\\negin\\anaconda3\\Lib\\site-packages\\urllib3\\connectionpool.py:1099: InsecureRequestWarning: Unverified HTTPS request is being made to host 'jobinja.ir'. Adding certificate verification is strongly advised. See: https://urllib3.readthedocs.io/en/latest/advanced-usage.html#tls-warnings\n",
      "  warnings.warn(\n"
     ]
    },
    {
     "name": "stdout",
     "output_type": "stream",
     "text": [
      "URL: https://jobinja.ir/jobs?filters%5Bjob_categories%5D%5B%5D=%D9%85%D9%87%D9%86%D8%AF%D8%B3%DB%8C+%D8%B5%D9%86%D8%A7%DB%8C%D8%B9+%D9%88+%D9%85%D8%AF%DB%8C%D8%B1%DB%8C%D8%AA+%D8%B5%D9%86%D8%B9%D8%AA%DB%8C\n",
      "Content Snippet: استخدام مهندس صنايع و مدیریت صنعتی\n",
      " | جابینجاامکان جدید:همین حالا رزومه خود را در کمتر از ۱۰ دقیقه بسازید،برو به رزومه‌سازJobinja | جابینجا | استخدام، آگهی استخدام، کاریابی، استخدامی جدید، بازار کار، نیازمندیها، ساخت رزومه رایگان، کار و استخدام دولتی، اشتغال، جستجوگر حرفه ای استخدام و شغلخانهجستجوی مشاغلرزومه‌ساز۵۰ شرکت برتربخش کارفرمایانورود کارجوثبت‌نام کارجوورود کارجوثبت‌نام کارجو۱جابینجا چطور به استخدام شدن من کمک می‌کند؟مشاهدهمشاهده بیشترجستجودرخواست‌های مننشان‌شده‌هاآگهی‌های پیشنهادیاز آگهی‌های جدید باخبر شوبهترین فرصت های شغلی در جابینجاهمه‌ی استان‌هاتهرانخراسان رضویاصفهانالبرزفارسقمآذربایجان شرقیمازندرانگیلانخوزستانکرمانیزدقزوینمرکزیهرمزگانگلستانزنجانسیستان و بلوچستانبوشهرآذربایجان غربیسمنانکرمانشاههمداناردبیللرستانکردستانخراسان شمالیایلامخراسان جنوبیچهارمحال بختیاریکهکیلویه و بویراحمدهمه‌ی دسته‌بندی‌هامهندسی صنایع و مدیریت صنعتیفروش و بازاریابیوب،‌ برنامه‌نویسی و نرم‌افزارمالی و حسابداریمسئول دفتر، اجرائی و اداریتولید و مدیریت محتوادیجیتال مارکتینگپشتیبانی و امور مشتریانطراحیI\n",
      "\n"
     ]
    },
    {
     "name": "stderr",
     "output_type": "stream",
     "text": [
      "C:\\Users\\negin\\anaconda3\\Lib\\site-packages\\urllib3\\connectionpool.py:1099: InsecureRequestWarning: Unverified HTTPS request is being made to host 'jobinja.ir'. Adding certificate verification is strongly advised. See: https://urllib3.readthedocs.io/en/latest/advanced-usage.html#tls-warnings\n",
      "  warnings.warn(\n"
     ]
    },
    {
     "name": "stdout",
     "output_type": "stream",
     "text": [
      "URL: https://jobinja.ir/%D8%B1%D8%B2%D9%88%D9%85%D9%87-%D8%B3%D8%A7%D8%B2-%D8%A2%D9%86%D9%84%D8%A7%DB%8C%D9%86\n",
      "Content Snippet: رزومه ساز | ساخت رزومه | رزومه ساز آنلاین | جابینجاJobinja | جابینجا | استخدام، آگهی استخدام، کاریابی، استخدامی جدید، بازار کار، نیازمندیها، ساخت رزومه رایگان، کار و استخدام دولتی، اشتغال، جستجوگر حرفه ای استخدام و شغلخانهجستجوی مشاغلرزومه‌ساز۵۰ شرکت برتربخش کارفرمایانورود کارجوثبت‌نام کارجوورود کارجوثبت‌نام کارجو۱جابینجا چطور به استخدام شدن من کمک می‌کند؟مشاهدهمشاهده بیشتربا رزومه ساز رایگان جابینجا،رزومهکاری حرفه ای بسازید!در کمتر از ۱۰ دقیقه یک رزومه‌ی کامل و استاندارد داشته باشیدبرای شروع ایمیل و رمز عبور خود را انتخاب کنیدشروع ساخت رزومهحساب کاربری دارید؟وارد شویدویژگی‌های رزومه‌ساز جابینجابه‌روزرسانی همیشگیشما می‌توانید با یک بار ساختن رزومه در جابینجا آن را برای همیشه به‌روز کنیددر دید کارفرمایانبا داشتن این رزومه\n",
      "                            کارفرمایان شما را راحت‌تر و سریع‌تر پیدا می‌کنندبه اشتراک گذاری رزومهبعد از ساختن این رزومه\n",
      "                            می‌توانید آن را در شبکه‌های اجتماعی به اشتراک بگذاریدپرستو زورقیطراح گرافیکاستفاده از رزومه‌ساز جابینجا برای من تجربه خوب\n",
      "\n"
     ]
    },
    {
     "name": "stderr",
     "output_type": "stream",
     "text": [
      "C:\\Users\\negin\\anaconda3\\Lib\\site-packages\\urllib3\\connectionpool.py:1099: InsecureRequestWarning: Unverified HTTPS request is being made to host 'jobinja.ir'. Adding certificate verification is strongly advised. See: https://urllib3.readthedocs.io/en/latest/advanced-usage.html#tls-warnings\n",
      "  warnings.warn(\n"
     ]
    },
    {
     "name": "stdout",
     "output_type": "stream",
     "text": [
      "URL: https://jobinja.ir/companies/rahbord-5\n",
      "Content Snippet: استخدام در شرکت  ایده پردازان هوشمند راهبرد، آگهی های استخدام Smart Ideas Strategies Rahbord | جابینجاامکان جدید:همین حالا رزومه خود را در کمتر از ۱۰ دقیقه بسازید،برو به رزومه‌سازJobinja | جابینجا | استخدام، آگهی استخدام، کاریابی، استخدامی جدید، بازار کار، نیازمندیها، ساخت رزومه رایگان، کار و استخدام دولتی، اشتغال، جستجوگر حرفه ای استخدام و شغلخانهجستجوی مشاغلرزومه‌ساز۵۰ شرکت برتربخش کارفرمایانورود کارجوثبت‌نام کارجوورود کارجوثبت‌نام کارجو۱جابینجا چطور به استخدام شدن من کمک می‌کند؟مشاهدهمشاهده بیشترایده پردازان هوشمند راهبرد|Smart Ideas Strategies Rahbordتاسیس در  ۱۳۹۴کامپیوتر، فناوری اطلاعات و اینترنت۱۱ تا ۵۰ نفرrahbord.orgدر یک نگاهمعرفیفرصت‌های شغلی۲شرکت راهبرد از سال 1394 با رویکردی نوآورانه و تخصصی در حوزه‌های اتوماسیون اداری، اصناف و پلتفرم‌های مبتنی بر بلاکچین و رمزارز فعالیت خود را آغاز کرده است.موقعیت مکانیتهران، تهراناعضای شرکتمهرداد خانبانیمدیرعاملنوآوری در سطح بین المللی و حضور در کنار تیمی جوان و متخصص تجربه ی کاری لذت بخشی را برای تک تک اعضای مجموعه فراهم کرده و صمیمیت سا\n",
      "\n"
     ]
    },
    {
     "name": "stderr",
     "output_type": "stream",
     "text": [
      "C:\\Users\\negin\\anaconda3\\Lib\\site-packages\\urllib3\\connectionpool.py:1099: InsecureRequestWarning: Unverified HTTPS request is being made to host 'jobinja.ir'. Adding certificate verification is strongly advised. See: https://urllib3.readthedocs.io/en/latest/advanced-usage.html#tls-warnings\n",
      "  warnings.warn(\n"
     ]
    },
    {
     "name": "stdout",
     "output_type": "stream",
     "text": [
      "URL: https://jobinja.ir/join/user\n",
      "Content Snippet: ثبت نام کارجو | جابینجاثبت نام کارجو | جابینجاJobinjaکارفرما هستید؟ایجاد حساب کاربریورود کارجوثبت‌‌نام کارجوimage/svg+xmlbtn_google_light_normal_iosbtn_google_light_normal_iosCreated with Sketch.ثبت نام با گوگلثبت نام با لینکدینآدرس ایمیلنام و نام‌ خانوادگیانتخاب رمز عبورتکرار رمز عبورجابینجا چه کمکی به من می‌کنه؟رایگانهمین حالا در جابینجا ثبت‌نام کن و رزومه‌ات رو برای آگهی‌های استخدام شرکت‌های معتبر بفرست.جستجوی در آگهی‌های استخدام ۱۰,۹۸۷ شرکت معتبر و ارسال رزومه با یک کلیکدریافت فرصت‌های شغلیجدیدمرتبط از طریق ایمیل\n",
      "                (Job Alert)رزومه‌ساز استانداردشناخت محیط کار و فرهنگ سازمانی شرکت‌های در حال استخدام\n",
      "\n"
     ]
    },
    {
     "name": "stderr",
     "output_type": "stream",
     "text": [
      "C:\\Users\\negin\\anaconda3\\Lib\\site-packages\\urllib3\\connectionpool.py:1099: InsecureRequestWarning: Unverified HTTPS request is being made to host 'jobinja.ir'. Adding certificate verification is strongly advised. See: https://urllib3.readthedocs.io/en/latest/advanced-usage.html#tls-warnings\n",
      "  warnings.warn(\n",
      "C:\\Users\\negin\\anaconda3\\Lib\\site-packages\\urllib3\\connectionpool.py:1099: InsecureRequestWarning: Unverified HTTPS request is being made to host 'jobinja.ir'. Adding certificate verification is strongly advised. See: https://urllib3.readthedocs.io/en/latest/advanced-usage.html#tls-warnings\n",
      "  warnings.warn(\n"
     ]
    },
    {
     "name": "stdout",
     "output_type": "stream",
     "text": [
      "URL: https://jobinja.ir/jobs?filters%5Bjob_categories%5D%5B%5D=%DA%A9%D8%A7%D8%B1%D8%B4%D9%86%D8%A7%D8%B3+%D8%AD%D9%82%D9%88%D9%82%DB%8C%D8%8C%E2%80%8C+%D9%88%DA%A9%D8%A7%D9%84%D8%AA\n",
      "Content Snippet: استخدام وکیل | استخدام مشاور حقوقی | استخدام کارشناس حقوقی\n",
      " | جابینجاامکان جدید:همین حالا رزومه خود را در کمتر از ۱۰ دقیقه بسازید،برو به رزومه‌سازJobinja | جابینجا | استخدام، آگهی استخدام، کاریابی، استخدامی جدید، بازار کار، نیازمندیها، ساخت رزومه رایگان، کار و استخدام دولتی، اشتغال، جستجوگر حرفه ای استخدام و شغلخانهجستجوی مشاغلرزومه‌ساز۵۰ شرکت برتربخش کارفرمایانورود کارجوثبت‌نام کارجوورود کارجوثبت‌نام کارجو۱جابینجا چطور به استخدام شدن من کمک می‌کند؟مشاهدهمشاهده بیشترجستجودرخواست‌های مننشان‌شده‌هاآگهی‌های پیشنهادیاز آگهی‌های جدید باخبر شوبهترین فرصت های شغلی در جابینجاهمه‌ی استان‌هاتهرانخراسان رضویاصفهانالبرزفارسقمآذربایجان شرقیمازندرانگیلانخوزستانکرمانیزدقزوینمرکزیهرمزگانگلستانزنجانسیستان و بلوچستانبوشهرآذربایجان غربیسمنانکرمانشاههمداناردبیللرستانکردستانخراسان شمالیایلامخراسان جنوبیچهارمحال بختیاریکهکیلویه و بویراحمدهمه‌ی دسته‌بندی‌هاکارشناس حقوقی،‌ وکالتفروش و بازاریابیوب،‌ برنامه‌نویسی و نرم‌افزارمالی و حسابداریمسئول دفتر، اجرائی و اداریتولید و مدیریت محتوادیجیتال مارکتینگپشتیبانی و \n",
      "\n"
     ]
    },
    {
     "name": "stderr",
     "output_type": "stream",
     "text": [
      "C:\\Users\\negin\\anaconda3\\Lib\\site-packages\\urllib3\\connectionpool.py:1099: InsecureRequestWarning: Unverified HTTPS request is being made to host 'jobinja.ir'. Adding certificate verification is strongly advised. See: https://urllib3.readthedocs.io/en/latest/advanced-usage.html#tls-warnings\n",
      "  warnings.warn(\n"
     ]
    },
    {
     "name": "stdout",
     "output_type": "stream",
     "text": [
      "URL: https://jobinja.ir/companies/hasin\n",
      "Content Snippet: استخدام در شرکت گروه حصین، آگهی های استخدام Hasin Technology | جابینجاامکان جدید:همین حالا رزومه خود را در کمتر از ۱۰ دقیقه بسازید،برو به رزومه‌سازJobinja | جابینجا | استخدام، آگهی استخدام، کاریابی، استخدامی جدید، بازار کار، نیازمندیها، ساخت رزومه رایگان، کار و استخدام دولتی، اشتغال، جستجوگر حرفه ای استخدام و شغلخانهجستجوی مشاغلرزومه‌ساز۵۰ شرکت برتربخش کارفرمایانورود کارجوثبت‌نام کارجوورود کارجوثبت‌نام کارجو۱جابینجا چطور به استخدام شدن من کمک می‌کند؟مشاهدهمشاهده بیشترگروه حصین|Hasin Technologyتاسیس در  ۱۳۸۳کامپیوتر، فناوری اطلاعات و اینترنت۵۰۱ تا ۱۰۰۰ نفرwww.hasin.irدر یک نگاهمعرفیفرصت‌های شغلی۲۱محیط کاری حصین جاییه که استعدادها شکوفا می‌شن، ایده‌ها به وجود میان و نوآوری هیچ حد و مرزی نمی‌شناسه.موقعیت مکانیتهران، تهراناعضای شرکتکمیل کمالمدیر فنی شرکت مایکتکار کردن با همکا‌رهای حرفه‌ای در محیطی صمیمی و پویا، از ویژگی‌های بارزی است که می‌شه تو حصین تجربه کرد. حصین به همه این فرصت رو می‌ده که نتیجهٔ ایده‌ها و پیشنهادات خلاقانهٔ خود رو در جهت بهبود تجربهٔ کاربری میلیون‌ها نفر مشاهده کنند.م\n",
      "\n"
     ]
    },
    {
     "name": "stderr",
     "output_type": "stream",
     "text": [
      "C:\\Users\\negin\\anaconda3\\Lib\\site-packages\\urllib3\\connectionpool.py:1099: InsecureRequestWarning: Unverified HTTPS request is being made to host 'jobinja.ir'. Adding certificate verification is strongly advised. See: https://urllib3.readthedocs.io/en/latest/advanced-usage.html#tls-warnings\n",
      "  warnings.warn(\n"
     ]
    },
    {
     "name": "stdout",
     "output_type": "stream",
     "text": [
      "URL: https://jobinja.ir/companies/graph-inc\n",
      "Content Snippet: استخدام در شرکت گراف، آگهی های استخدام Graph | جابینجاامکان جدید:همین حالا رزومه خود را در کمتر از ۱۰ دقیقه بسازید،برو به رزومه‌سازJobinja | جابینجا | استخدام، آگهی استخدام، کاریابی، استخدامی جدید، بازار کار، نیازمندیها، ساخت رزومه رایگان، کار و استخدام دولتی، اشتغال، جستجوگر حرفه ای استخدام و شغلخانهجستجوی مشاغلرزومه‌ساز۵۰ شرکت برتربخش کارفرمایانورود کارجوثبت‌نام کارجوورود کارجوثبت‌نام کارجو۱جابینجا چطور به استخدام شدن من کمک می‌کند؟مشاهدهمشاهده بیشترگراف|Graphتاسیس در  ۱۳۹۴کامپیوتر، فناوری اطلاعات و اینترنت۵۱ تا ۲۰۰ نفرgraph-inc.irدر یک نگاهمعرفیفرصت‌های شغلی۵ما در گراف قبل از اینکه باهم همکار باشیم، دوستِ هم هستیم. اینجا در گراف فارغ از چارچوب‌های خشک سازمانی رابطه‌هایی صمیمانه و در قالب احترام ایجاد کردیم.موقعیت مکانیتهران، تهراناعضای شرکتمصطفی عزیزیمدیرعاملما تو گراف سعی می‌کنیم به ماهیت دانش‌بنیان بودنمون پایبند باشیم و تو محیطی دوستانه محصولات با کیفیتی رو تولید کنیم تا از این طریق بتونیم تو حوزه امنیت به شرکت‌ها و موسسات مختلف کمک کنیم تا اطلاعاتشون از آسیب‌های احتمالی در امان \n",
      "\n"
     ]
    },
    {
     "name": "stderr",
     "output_type": "stream",
     "text": [
      "C:\\Users\\negin\\anaconda3\\Lib\\site-packages\\urllib3\\connectionpool.py:1099: InsecureRequestWarning: Unverified HTTPS request is being made to host 'jobinja.ir'. Adding certificate verification is strongly advised. See: https://urllib3.readthedocs.io/en/latest/advanced-usage.html#tls-warnings\n",
      "  warnings.warn(\n",
      "C:\\Users\\negin\\anaconda3\\Lib\\site-packages\\urllib3\\connectionpool.py:1099: InsecureRequestWarning: Unverified HTTPS request is being made to host 'jobinja.ir'. Adding certificate verification is strongly advised. See: https://urllib3.readthedocs.io/en/latest/advanced-usage.html#tls-warnings\n",
      "  warnings.warn(\n"
     ]
    },
    {
     "name": "stdout",
     "output_type": "stream",
     "text": [
      "URL: https://jobinja.ir/jobs?filters%5Bjob_categories%5D%5B%5D=%D8%AE%D8%B1%DB%8C%D8%AF+%D9%88+%D8%A8%D8%A7%D8%B2%D8%B1%DA%AF%D8%A7%D9%86%DB%8C\n",
      "Content Snippet: استخدام کارشناس خرید | استخدام کارشناس تدارکات | استخدام کارشناس بازرگانی | جابینجا\n",
      " | جابینجاامکان جدید:همین حالا رزومه خود را در کمتر از ۱۰ دقیقه بسازید،برو به رزومه‌سازJobinja | جابینجا | استخدام، آگهی استخدام، کاریابی، استخدامی جدید، بازار کار، نیازمندیها، ساخت رزومه رایگان، کار و استخدام دولتی، اشتغال، جستجوگر حرفه ای استخدام و شغلخانهجستجوی مشاغلرزومه‌ساز۵۰ شرکت برتربخش کارفرمایانورود کارجوثبت‌نام کارجوورود کارجوثبت‌نام کارجو۱جابینجا چطور به استخدام شدن من کمک می‌کند؟مشاهدهمشاهده بیشترجستجودرخواست‌های مننشان‌شده‌هاآگهی‌های پیشنهادیاز آگهی‌های جدید باخبر شوبهترین فرصت های شغلی در جابینجاهمه‌ی استان‌هاتهرانخراسان رضویاصفهانالبرزفارسقمآذربایجان شرقیمازندرانگیلانخوزستانکرمانیزدقزوینمرکزیهرمزگانگلستانزنجانسیستان و بلوچستانبوشهرآذربایجان غربیسمنانکرمانشاههمداناردبیللرستانکردستانخراسان شمالیایلامخراسان جنوبیچهارمحال بختیاریکهکیلویه و بویراحمدهمه‌ی دسته‌بندی‌هاخرید و بازرگانیفروش و بازاریابیوب،‌ برنامه‌نویسی و نرم‌افزارمالی و حسابداریمسئول دفتر، اجرائی و اداریتولید و مدیریت محتوادیجیتال \n",
      "\n"
     ]
    },
    {
     "name": "stderr",
     "output_type": "stream",
     "text": [
      "C:\\Users\\negin\\anaconda3\\Lib\\site-packages\\urllib3\\connectionpool.py:1099: InsecureRequestWarning: Unverified HTTPS request is being made to host 'jobinja.ir'. Adding certificate verification is strongly advised. See: https://urllib3.readthedocs.io/en/latest/advanced-usage.html#tls-warnings\n",
      "  warnings.warn(\n",
      "C:\\Users\\negin\\anaconda3\\Lib\\site-packages\\urllib3\\connectionpool.py:1099: InsecureRequestWarning: Unverified HTTPS request is being made to host 'jobinja.ir'. Adding certificate verification is strongly advised. See: https://urllib3.readthedocs.io/en/latest/advanced-usage.html#tls-warnings\n",
      "  warnings.warn(\n"
     ]
    },
    {
     "name": "stdout",
     "output_type": "stream",
     "text": [
      "URL: https://jobinja.ir/jobs?filters%5Bjob_categories%5D%5B%5D=%D8%B4%DB%8C%D9%85%DB%8C%D8%8C+%D8%AF%D8%A7%D8%B1%D9%88%D8%B3%D8%A7%D8%B2%DB%8C\n",
      "Content Snippet: استخدام داروساز | استخدام شیمی دارویی | جابینجا\n",
      " | جابینجاامکان جدید:همین حالا رزومه خود را در کمتر از ۱۰ دقیقه بسازید،برو به رزومه‌سازJobinja | جابینجا | استخدام، آگهی استخدام، کاریابی، استخدامی جدید، بازار کار، نیازمندیها، ساخت رزومه رایگان، کار و استخدام دولتی، اشتغال، جستجوگر حرفه ای استخدام و شغلخانهجستجوی مشاغلرزومه‌ساز۵۰ شرکت برتربخش کارفرمایانورود کارجوثبت‌نام کارجوورود کارجوثبت‌نام کارجو۱جابینجا چطور به استخدام شدن من کمک می‌کند؟مشاهدهمشاهده بیشترجستجودرخواست‌های مننشان‌شده‌هاآگهی‌های پیشنهادیاز آگهی‌های جدید باخبر شوبهترین فرصت های شغلی در جابینجاهمه‌ی استان‌هاتهرانخراسان رضویاصفهانالبرزفارسقمآذربایجان شرقیمازندرانگیلانخوزستانکرمانیزدقزوینمرکزیهرمزگانگلستانزنجانسیستان و بلوچستانبوشهرآذربایجان غربیسمنانکرمانشاههمداناردبیللرستانکردستانخراسان شمالیایلامخراسان جنوبیچهارمحال بختیاریکهکیلویه و بویراحمدهمه‌ی دسته‌بندی‌هاشیمی، داروسازیفروش و بازاریابیوب،‌ برنامه‌نویسی و نرم‌افزارمالی و حسابداریمسئول دفتر، اجرائی و اداریتولید و مدیریت محتوادیجیتال مارکتینگپشتیبانی و امور مشتریانطراحیI\n",
      "\n"
     ]
    },
    {
     "name": "stderr",
     "output_type": "stream",
     "text": [
      "C:\\Users\\negin\\anaconda3\\Lib\\site-packages\\urllib3\\connectionpool.py:1099: InsecureRequestWarning: Unverified HTTPS request is being made to host 'jobinja.ir'. Adding certificate verification is strongly advised. See: https://urllib3.readthedocs.io/en/latest/advanced-usage.html#tls-warnings\n",
      "  warnings.warn(\n",
      "C:\\Users\\negin\\anaconda3\\Lib\\site-packages\\urllib3\\connectionpool.py:1099: InsecureRequestWarning: Unverified HTTPS request is being made to host 'jobinja.ir'. Adding certificate verification is strongly advised. See: https://urllib3.readthedocs.io/en/latest/advanced-usage.html#tls-warnings\n",
      "  warnings.warn(\n"
     ]
    },
    {
     "name": "stdout",
     "output_type": "stream",
     "text": [
      "URL: https://jobinja.ir/jobs?filters%5Blocations%5D%5B%5D=%DA%AF%D9%84%D8%B3%D8%AA%D8%A7%D9%86\n",
      "Content Snippet: آگهی استخدام گلستان | استخدام گلستان | کاریابی گلستان | جابینجا\n",
      " | جابینجاامکان جدید:همین حالا رزومه خود را در کمتر از ۱۰ دقیقه بسازید،برو به رزومه‌سازJobinja | جابینجا | استخدام، آگهی استخدام، کاریابی، استخدامی جدید، بازار کار، نیازمندیها، ساخت رزومه رایگان، کار و استخدام دولتی، اشتغال، جستجوگر حرفه ای استخدام و شغلخانهجستجوی مشاغلرزومه‌ساز۵۰ شرکت برتربخش کارفرمایانورود کارجوثبت‌نام کارجوورود کارجوثبت‌نام کارجو۱جابینجا چطور به استخدام شدن من کمک می‌کند؟مشاهدهمشاهده بیشترجستجودرخواست‌های مننشان‌شده‌هاآگهی‌های پیشنهادیاز آگهی‌های جدید باخبر شوبهترین فرصت های شغلی در جابینجاهمه‌ی استان‌هاگلستانتهرانخراسان رضویاصفهانالبرزفارسقمآذربایجان شرقیمازندرانگیلانخوزستانکرمانیزدقزوینمرکزیهرمزگانزنجانسیستان و بلوچستانبوشهرآذربایجان غربیسمنانکرمانشاههمداناردبیللرستانکردستانخراسان شمالیایلامخراسان جنوبیچهارمحال بختیاریکهکیلویه و بویراحمدهمه‌ی دسته‌بندی‌هافروش و بازاریابیوب،‌ برنامه‌نویسی و نرم‌افزارمالی و حسابداریمسئول دفتر، اجرائی و اداریتولید و مدیریت محتوادیجیتال مارکتینگپشتیبانی و امور مشتریانطراح\n",
      "\n"
     ]
    },
    {
     "name": "stderr",
     "output_type": "stream",
     "text": [
      "C:\\Users\\negin\\anaconda3\\Lib\\site-packages\\urllib3\\connectionpool.py:1099: InsecureRequestWarning: Unverified HTTPS request is being made to host 'jobinja.ir'. Adding certificate verification is strongly advised. See: https://urllib3.readthedocs.io/en/latest/advanced-usage.html#tls-warnings\n",
      "  warnings.warn(\n"
     ]
    },
    {
     "name": "stdout",
     "output_type": "stream",
     "text": [
      "URL: https://jobinja.ir/jobs?filters%5Bkeywords%5D%5B0%5D=%D8%AF%DB%8C%D8%AC%DB%8C+%DA%A9%D8%A7%D9%84%D8%A7\n",
      "Content Snippet: فرصت های شغلی دیجی کالا\n",
      " | جابینجاامکان جدید:همین حالا رزومه خود را در کمتر از ۱۰ دقیقه بسازید،برو به رزومه‌سازJobinja | جابینجا | استخدام، آگهی استخدام، کاریابی، استخدامی جدید، بازار کار، نیازمندیها، ساخت رزومه رایگان، کار و استخدام دولتی، اشتغال، جستجوگر حرفه ای استخدام و شغلخانهجستجوی مشاغلرزومه‌ساز۵۰ شرکت برتربخش کارفرمایانورود کارجوثبت‌نام کارجوورود کارجوثبت‌نام کارجو۱جابینجا چطور به استخدام شدن من کمک می‌کند؟مشاهدهمشاهده بیشترجستجودرخواست‌های مننشان‌شده‌هاآگهی‌های پیشنهادیاز آگهی‌های جدید باخبر شوبهترین فرصت های شغلی در جابینجاهمه‌ی استان‌هاتهرانخراسان رضویاصفهانالبرزفارسقمآذربایجان شرقیمازندرانگیلانخوزستانکرمانیزدقزوینمرکزیهرمزگانگلستانزنجانسیستان و بلوچستانبوشهرآذربایجان غربیسمنانکرمانشاههمداناردبیللرستانکردستانخراسان شمالیایلامخراسان جنوبیچهارمحال بختیاریکهکیلویه و بویراحمدهمه‌ی دسته‌بندی‌هافروش و بازاریابیوب،‌ برنامه‌نویسی و نرم‌افزارمالی و حسابداریمسئول دفتر، اجرائی و اداریتولید و مدیریت محتوادیجیتال مارکتینگپشتیبانی و امور مشتریانطراحیIT / DevOps / Serverمهندسی صنایع و مدیر\n",
      "\n"
     ]
    },
    {
     "name": "stderr",
     "output_type": "stream",
     "text": [
      "C:\\Users\\negin\\anaconda3\\Lib\\site-packages\\urllib3\\connectionpool.py:1099: InsecureRequestWarning: Unverified HTTPS request is being made to host 'jobinja.ir'. Adding certificate verification is strongly advised. See: https://urllib3.readthedocs.io/en/latest/advanced-usage.html#tls-warnings\n",
      "  warnings.warn(\n"
     ]
    },
    {
     "name": "stdout",
     "output_type": "stream",
     "text": [
      "URL: https://jobinja.ir/companies\n",
      "Content Snippet: استخدام شركت ها | جابینجاامکان جدید:همین حالا رزومه خود را در کمتر از ۱۰ دقیقه بسازید،برو به رزومه‌سازJobinja | جابینجا | استخدام، آگهی استخدام، کاریابی، استخدامی جدید، بازار کار، نیازمندیها، ساخت رزومه رایگان، کار و استخدام دولتی، اشتغال، جستجوگر حرفه ای استخدام و شغلخانهجستجوی مشاغلرزومه‌ساز۵۰ شرکت برتربخش کارفرمایانورود کارجوثبت‌نام کارجوورود کارجوثبت‌نام کارجو۱جابینجا چطور به استخدام شدن من کمک می‌کند؟مشاهدهمشاهده بیشترشرکت‌هافهرست۵۰ شرکت برترپول نو|Poolenoتهران، تهرانکامپیوتر، فناوری اطلاعات و اینترنتدر حال استخدامگروه بوران|Booran Groupتهران، تهرانکامپیوتر، فناوری اطلاعات و اینترنتدر حال استخدامپیمان|Paymanتهران، تهرانکامپیوتر، فناوری اطلاعات و اینترنتدر حال استخدامجاباما|Jabamaتهران، تهرانگردشگری و هتل‌هادر حال استخدامگلکسی ویژن|Galaxy Visionتهران، تهرانکامپیوتر، فناوری اطلاعات و اینترنتدر حال استخدامپردازشگران عصر اطلاعات|Mitwelt Data Processorsتهران، تهرانمخابرات و ارتباطات (تلکام)در حال استخداممارجینکس|Marginexتهران، تهرانمالی و اعتباریدر حال استخدامفنحاب|FanHubتهران، بومهنبی\n",
      "\n"
     ]
    },
    {
     "name": "stderr",
     "output_type": "stream",
     "text": [
      "C:\\Users\\negin\\anaconda3\\Lib\\site-packages\\urllib3\\connectionpool.py:1099: InsecureRequestWarning: Unverified HTTPS request is being made to host 'jobinja.ir'. Adding certificate verification is strongly advised. See: https://urllib3.readthedocs.io/en/latest/advanced-usage.html#tls-warnings\n",
      "  warnings.warn(\n"
     ]
    },
    {
     "name": "stdout",
     "output_type": "stream",
     "text": [
      "URL: https://jobinja.ir/jobs?filters%5Bkeywords%5D%5B0%5D=%D8%AA%D9%BE%D8%B3%DB%8C\n",
      "Content Snippet: فرصت های شغلی تپسی\n",
      " | جابینجاامکان جدید:همین حالا رزومه خود را در کمتر از ۱۰ دقیقه بسازید،برو به رزومه‌سازJobinja | جابینجا | استخدام، آگهی استخدام، کاریابی، استخدامی جدید، بازار کار، نیازمندیها، ساخت رزومه رایگان، کار و استخدام دولتی، اشتغال، جستجوگر حرفه ای استخدام و شغلخانهجستجوی مشاغلرزومه‌ساز۵۰ شرکت برتربخش کارفرمایانورود کارجوثبت‌نام کارجوورود کارجوثبت‌نام کارجو۱جابینجا چطور به استخدام شدن من کمک می‌کند؟مشاهدهمشاهده بیشترجستجودرخواست‌های مننشان‌شده‌هاآگهی‌های پیشنهادیاز آگهی‌های جدید باخبر شوبهترین فرصت های شغلی در جابینجاهمه‌ی استان‌هاتهرانخراسان رضویاصفهانالبرزفارسقمآذربایجان شرقیمازندرانگیلانخوزستانکرمانیزدقزوینمرکزیهرمزگانگلستانزنجانسیستان و بلوچستانبوشهرآذربایجان غربیسمنانکرمانشاههمداناردبیللرستانکردستانخراسان شمالیایلامخراسان جنوبیچهارمحال بختیاریکهکیلویه و بویراحمدهمه‌ی دسته‌بندی‌هافروش و بازاریابیوب،‌ برنامه‌نویسی و نرم‌افزارمالی و حسابداریمسئول دفتر، اجرائی و اداریتولید و مدیریت محتوادیجیتال مارکتینگپشتیبانی و امور مشتریانطراحیIT / DevOps / Serverمهندسی صنایع و مدیریت صن\n",
      "\n"
     ]
    },
    {
     "name": "stderr",
     "output_type": "stream",
     "text": [
      "C:\\Users\\negin\\anaconda3\\Lib\\site-packages\\urllib3\\connectionpool.py:1099: InsecureRequestWarning: Unverified HTTPS request is being made to host 'jobinja.ir'. Adding certificate verification is strongly advised. See: https://urllib3.readthedocs.io/en/latest/advanced-usage.html#tls-warnings\n",
      "  warnings.warn(\n"
     ]
    },
    {
     "name": "stdout",
     "output_type": "stream",
     "text": [
      "URL: https://jobinja.ir/jobs?filters%5Bkeywords%5D%5B0%5D=%D8%AF%DB%8C%D8%AC%DB%8C%D8%AA%D8%A7%D9%84+%D9%85%D8%A7%D8%B1%DA%A9%D8%AA%DB%8C%D9%86%DA%AF\n",
      "Content Snippet: فرصت های شغلی دیجیتال مارکتینگ\n",
      " | جابینجاامکان جدید:همین حالا رزومه خود را در کمتر از ۱۰ دقیقه بسازید،برو به رزومه‌سازJobinja | جابینجا | استخدام، آگهی استخدام، کاریابی، استخدامی جدید، بازار کار، نیازمندیها، ساخت رزومه رایگان، کار و استخدام دولتی، اشتغال، جستجوگر حرفه ای استخدام و شغلخانهجستجوی مشاغلرزومه‌ساز۵۰ شرکت برتربخش کارفرمایانورود کارجوثبت‌نام کارجوورود کارجوثبت‌نام کارجو۱جابینجا چطور به استخدام شدن من کمک می‌کند؟مشاهدهمشاهده بیشترجستجودرخواست‌های مننشان‌شده‌هاآگهی‌های پیشنهادیاز آگهی‌های جدید باخبر شوبهترین فرصت های شغلی در جابینجاهمه‌ی استان‌هاتهرانخراسان رضویاصفهانالبرزفارسقمآذربایجان شرقیمازندرانگیلانخوزستانکرمانیزدقزوینمرکزیهرمزگانگلستانزنجانسیستان و بلوچستانبوشهرآذربایجان غربیسمنانکرمانشاههمداناردبیللرستانکردستانخراسان شمالیایلامخراسان جنوبیچهارمحال بختیاریکهکیلویه و بویراحمدهمه‌ی دسته‌بندی‌هافروش و بازاریابیوب،‌ برنامه‌نویسی و نرم‌افزارمالی و حسابداریمسئول دفتر، اجرائی و اداریتولید و مدیریت محتوادیجیتال مارکتینگپشتیبانی و امور مشتریانطراحیIT / DevOps / Serverمهندسی صنایع\n",
      "\n"
     ]
    },
    {
     "name": "stderr",
     "output_type": "stream",
     "text": [
      "C:\\Users\\negin\\anaconda3\\Lib\\site-packages\\urllib3\\connectionpool.py:1099: InsecureRequestWarning: Unverified HTTPS request is being made to host 'jobinja.ir'. Adding certificate verification is strongly advised. See: https://urllib3.readthedocs.io/en/latest/advanced-usage.html#tls-warnings\n",
      "  warnings.warn(\n",
      "C:\\Users\\negin\\anaconda3\\Lib\\site-packages\\urllib3\\connectionpool.py:1099: InsecureRequestWarning: Unverified HTTPS request is being made to host 'jobinja.ir'. Adding certificate verification is strongly advised. See: https://urllib3.readthedocs.io/en/latest/advanced-usage.html#tls-warnings\n",
      "  warnings.warn(\n"
     ]
    },
    {
     "name": "stdout",
     "output_type": "stream",
     "text": [
      "URL: https://jobinja.ir/jobs?filters%5Blocations%5D%5B%5D=%D8%A7%D8%B5%D9%81%D9%87%D8%A7%D9%86\n",
      "Content Snippet: استخدام اصفهان | کاریابی اصفهان\n",
      " | جابینجاامکان جدید:همین حالا رزومه خود را در کمتر از ۱۰ دقیقه بسازید،برو به رزومه‌سازJobinja | جابینجا | استخدام، آگهی استخدام، کاریابی، استخدامی جدید، بازار کار، نیازمندیها، ساخت رزومه رایگان، کار و استخدام دولتی، اشتغال، جستجوگر حرفه ای استخدام و شغلخانهجستجوی مشاغلرزومه‌ساز۵۰ شرکت برتربخش کارفرمایانورود کارجوثبت‌نام کارجوورود کارجوثبت‌نام کارجو۱جابینجا چطور به استخدام شدن من کمک می‌کند؟مشاهدهمشاهده بیشترجستجودرخواست‌های مننشان‌شده‌هاآگهی‌های پیشنهادیاز آگهی‌های جدید باخبر شوبهترین فرصت های شغلی در جابینجاهمه‌ی استان‌هااصفهانتهرانخراسان رضویالبرزفارسقمآذربایجان شرقیمازندرانگیلانخوزستانکرمانیزدقزوینمرکزیهرمزگانگلستانزنجانسیستان و بلوچستانبوشهرآذربایجان غربیسمنانکرمانشاههمداناردبیللرستانکردستانخراسان شمالیایلامخراسان جنوبیچهارمحال بختیاریکهکیلویه و بویراحمدهمه‌ی دسته‌بندی‌هافروش و بازاریابیوب،‌ برنامه‌نویسی و نرم‌افزارمالی و حسابداریمسئول دفتر، اجرائی و اداریتولید و مدیریت محتوادیجیتال مارکتینگپشتیبانی و امور مشتریانطراحیIT / DevOps / Serverمهندسی صنای\n",
      "\n"
     ]
    },
    {
     "name": "stderr",
     "output_type": "stream",
     "text": [
      "C:\\Users\\negin\\anaconda3\\Lib\\site-packages\\urllib3\\connectionpool.py:1099: InsecureRequestWarning: Unverified HTTPS request is being made to host 'jobinja.ir'. Adding certificate verification is strongly advised. See: https://urllib3.readthedocs.io/en/latest/advanced-usage.html#tls-warnings\n",
      "  warnings.warn(\n"
     ]
    },
    {
     "name": "stdout",
     "output_type": "stream",
     "text": [
      "URL: https://jobinja.ir/companies/smilinno-innovation-hub/jobs/Ao9x/%D8%A7%D8%B3%D8%AA%D8%AE%D8%AF%D8%A7%D9%85-senior-back-end-developer-dotnet-%D8%AF%D8%B1-%D8%A7%D8%B3%D9%85%D8%A7%DB%8C%D9%84%DB%8C%D9%86%D9%88?_ref=18\n",
      "Content Snippet: استخدام (Senior Back-End Developer(.DotNet در اسمایلینو | جابینجاامکان جدید:همین حالا رزومه خود را در کمتر از ۱۰ دقیقه بسازید،برو به رزومه‌سازJobinja | جابینجا | استخدام، آگهی استخدام، کاریابی، استخدامی جدید، بازار کار، نیازمندیها، ساخت رزومه رایگان، کار و استخدام دولتی، اشتغال، جستجوگر حرفه ای استخدام و شغلخانهجستجوی مشاغلرزومه‌ساز۵۰ شرکت برتربخش کارفرمایانورود کارجوثبت‌نام کارجوورود کارجوثبت‌نام کارجو۱جابینجا چطور به استخدام شدن من کمک می‌کند؟مشاهدهمشاهده بیشتراسمایلینو|Smilinnoتاسیس در  ۱۳۹۹کامپیوتر، فناوری اطلاعات و اینترنت۱۱ تا ۵۰ نفرsmilinno.com/در یک نگاهمعرفیفرصت‌های شغلی۱۰استخدام (Senior Back-End Developer(.DotNetلطفا برای مشاهده‌ی جزییات و ارسال رزومهیکی از راه‌های زیر را انتخاب کنیدورود / ثبت‌نام با ایمیلimage/svg+xmlbtn_google_light_normal_iosbtn_google_light_normal_iosCreated with Sketch.ورود / ثبت‌نام با گوگل\n",
      "                    (Gmail)ورود / ثبت‌نام با لینکدیناستخدام (Senior Back-End Developer(.DotNet{{ tooltipText }}{{ hoverTitle }}نشان کردنحذف نشاندسته‌بندی شغلیوب،‌ بر\n",
      "\n"
     ]
    },
    {
     "name": "stderr",
     "output_type": "stream",
     "text": [
      "C:\\Users\\negin\\anaconda3\\Lib\\site-packages\\urllib3\\connectionpool.py:1099: InsecureRequestWarning: Unverified HTTPS request is being made to host 'jobinja.ir'. Adding certificate verification is strongly advised. See: https://urllib3.readthedocs.io/en/latest/advanced-usage.html#tls-warnings\n",
      "  warnings.warn(\n",
      "C:\\Users\\negin\\anaconda3\\Lib\\site-packages\\urllib3\\connectionpool.py:1099: InsecureRequestWarning: Unverified HTTPS request is being made to host 'jobinja.ir'. Adding certificate verification is strongly advised. See: https://urllib3.readthedocs.io/en/latest/advanced-usage.html#tls-warnings\n",
      "  warnings.warn(\n"
     ]
    },
    {
     "name": "stdout",
     "output_type": "stream",
     "text": [
      "URL: https://jobinja.ir/jobs?filters%5Bjob_categories%5D%5B%5D=%D9%86%DA%AF%D9%87%D8%A8%D8%A7%D9%86\n",
      "Content Snippet: استخدام حراست | استخدام نگهبان\n",
      " | جابینجاامکان جدید:همین حالا رزومه خود را در کمتر از ۱۰ دقیقه بسازید،برو به رزومه‌سازJobinja | جابینجا | استخدام، آگهی استخدام، کاریابی، استخدامی جدید، بازار کار، نیازمندیها، ساخت رزومه رایگان، کار و استخدام دولتی، اشتغال، جستجوگر حرفه ای استخدام و شغلخانهجستجوی مشاغلرزومه‌ساز۵۰ شرکت برتربخش کارفرمایانورود کارجوثبت‌نام کارجوورود کارجوثبت‌نام کارجو۱جابینجا چطور به استخدام شدن من کمک می‌کند؟مشاهدهمشاهده بیشترجستجودرخواست‌های مننشان‌شده‌هاآگهی‌های پیشنهادیاز آگهی‌های جدید باخبر شوبهترین فرصت های شغلی در جابینجاهمه‌ی استان‌هاتهرانخراسان رضویاصفهانالبرزفارسقمآذربایجان شرقیمازندرانگیلانخوزستانکرمانیزدقزوینمرکزیهرمزگانگلستانزنجانسیستان و بلوچستانبوشهرآذربایجان غربیسمنانکرمانشاههمداناردبیللرستانکردستانخراسان شمالیایلامخراسان جنوبیچهارمحال بختیاریکهکیلویه و بویراحمدهمه‌ی دسته‌بندی‌هانگهبانفروش و بازاریابیوب،‌ برنامه‌نویسی و نرم‌افزارمالی و حسابداریمسئول دفتر، اجرائی و اداریتولید و مدیریت محتوادیجیتال مارکتینگپشتیبانی و امور مشتریانطراحیIT / DevOps / Serverمهندسی\n",
      "\n"
     ]
    },
    {
     "name": "stderr",
     "output_type": "stream",
     "text": [
      "C:\\Users\\negin\\anaconda3\\Lib\\site-packages\\urllib3\\connectionpool.py:1099: InsecureRequestWarning: Unverified HTTPS request is being made to host 'jobinja.ir'. Adding certificate verification is strongly advised. See: https://urllib3.readthedocs.io/en/latest/advanced-usage.html#tls-warnings\n",
      "  warnings.warn(\n"
     ]
    },
    {
     "name": "stdout",
     "output_type": "stream",
     "text": [
      "URL: https://jobinja.ir/jobs?filters%5Bkeywords%5D%5B0%5D=%DA%A9%D8%A7%D8%B1%D8%A2%D9%85%D9%88%D8%B2\n",
      "Content Snippet: فرصت های شغلی کارآموز\n",
      " | جابینجاامکان جدید:همین حالا رزومه خود را در کمتر از ۱۰ دقیقه بسازید،برو به رزومه‌سازJobinja | جابینجا | استخدام، آگهی استخدام، کاریابی، استخدامی جدید، بازار کار، نیازمندیها، ساخت رزومه رایگان، کار و استخدام دولتی، اشتغال، جستجوگر حرفه ای استخدام و شغلخانهجستجوی مشاغلرزومه‌ساز۵۰ شرکت برتربخش کارفرمایانورود کارجوثبت‌نام کارجوورود کارجوثبت‌نام کارجو۱جابینجا چطور به استخدام شدن من کمک می‌کند؟مشاهدهمشاهده بیشترجستجودرخواست‌های مننشان‌شده‌هاآگهی‌های پیشنهادیاز آگهی‌های جدید باخبر شوبهترین فرصت های شغلی در جابینجاهمه‌ی استان‌هاتهرانخراسان رضویاصفهانالبرزفارسقمآذربایجان شرقیمازندرانگیلانخوزستانکرمانیزدقزوینمرکزیهرمزگانگلستانزنجانسیستان و بلوچستانبوشهرآذربایجان غربیسمنانکرمانشاههمداناردبیللرستانکردستانخراسان شمالیایلامخراسان جنوبیچهارمحال بختیاریکهکیلویه و بویراحمدهمه‌ی دسته‌بندی‌هافروش و بازاریابیوب،‌ برنامه‌نویسی و نرم‌افزارمالی و حسابداریمسئول دفتر، اجرائی و اداریتولید و مدیریت محتوادیجیتال مارکتینگپشتیبانی و امور مشتریانطراحیIT / DevOps / Serverمهندسی صنایع و مدیریت\n",
      "\n"
     ]
    },
    {
     "name": "stderr",
     "output_type": "stream",
     "text": [
      "C:\\Users\\negin\\anaconda3\\Lib\\site-packages\\urllib3\\connectionpool.py:1099: InsecureRequestWarning: Unverified HTTPS request is being made to host 'jobinja.ir'. Adding certificate verification is strongly advised. See: https://urllib3.readthedocs.io/en/latest/advanced-usage.html#tls-warnings\n",
      "  warnings.warn(\n",
      "C:\\Users\\negin\\anaconda3\\Lib\\site-packages\\urllib3\\connectionpool.py:1099: InsecureRequestWarning: Unverified HTTPS request is being made to host 'jobinja.ir'. Adding certificate verification is strongly advised. See: https://urllib3.readthedocs.io/en/latest/advanced-usage.html#tls-warnings\n",
      "  warnings.warn(\n"
     ]
    },
    {
     "name": "stdout",
     "output_type": "stream",
     "text": [
      "URL: https://jobinja.ir/jobs?filters%5Blocations%5D%5B%5D=%D9%85%D8%A7%D8%B2%D9%86%D8%AF%D8%B1%D8%A7%D9%86\n",
      "Content Snippet: استخدام مازندران | کاریابی مازندران | آگهی استخدام مازندران\n",
      " | جابینجاامکان جدید:همین حالا رزومه خود را در کمتر از ۱۰ دقیقه بسازید،برو به رزومه‌سازJobinja | جابینجا | استخدام، آگهی استخدام، کاریابی، استخدامی جدید، بازار کار، نیازمندیها، ساخت رزومه رایگان، کار و استخدام دولتی، اشتغال، جستجوگر حرفه ای استخدام و شغلخانهجستجوی مشاغلرزومه‌ساز۵۰ شرکت برتربخش کارفرمایانورود کارجوثبت‌نام کارجوورود کارجوثبت‌نام کارجو۱جابینجا چطور به استخدام شدن من کمک می‌کند؟مشاهدهمشاهده بیشترجستجودرخواست‌های مننشان‌شده‌هاآگهی‌های پیشنهادیاز آگهی‌های جدید باخبر شوبهترین فرصت های شغلی در جابینجاهمه‌ی استان‌هامازندرانتهرانخراسان رضویاصفهانالبرزفارسقمآذربایجان شرقیگیلانخوزستانکرمانیزدقزوینمرکزیهرمزگانگلستانزنجانسیستان و بلوچستانبوشهرآذربایجان غربیسمنانکرمانشاههمداناردبیللرستانکردستانخراسان شمالیایلامخراسان جنوبیچهارمحال بختیاریکهکیلویه و بویراحمدهمه‌ی دسته‌بندی‌هافروش و بازاریابیوب،‌ برنامه‌نویسی و نرم‌افزارمالی و حسابداریمسئول دفتر، اجرائی و اداریتولید و مدیریت محتوادیجیتال مارکتینگپشتیبانی و امور مشتریانطراحیIT \n",
      "\n"
     ]
    },
    {
     "name": "stderr",
     "output_type": "stream",
     "text": [
      "C:\\Users\\negin\\anaconda3\\Lib\\site-packages\\urllib3\\connectionpool.py:1099: InsecureRequestWarning: Unverified HTTPS request is being made to host 'jobinja.ir'. Adding certificate verification is strongly advised. See: https://urllib3.readthedocs.io/en/latest/advanced-usage.html#tls-warnings\n",
      "  warnings.warn(\n"
     ]
    },
    {
     "name": "stdout",
     "output_type": "stream",
     "text": [
      "URL: https://jobinja.ir/companies/soshyant-1\n",
      "Content Snippet: استخدام در شرکت توسعه فناوری سوشیانت، آگهی های استخدام Soshyant | جابینجاامکان جدید:همین حالا رزومه خود را در کمتر از ۱۰ دقیقه بسازید،برو به رزومه‌سازJobinja | جابینجا | استخدام، آگهی استخدام، کاریابی، استخدامی جدید، بازار کار، نیازمندیها، ساخت رزومه رایگان، کار و استخدام دولتی، اشتغال، جستجوگر حرفه ای استخدام و شغلخانهجستجوی مشاغلرزومه‌ساز۵۰ شرکت برتربخش کارفرمایانورود کارجوثبت‌نام کارجوورود کارجوثبت‌نام کارجو۱جابینجا چطور به استخدام شدن من کمک می‌کند؟مشاهدهمشاهده بیشترتوسعه فناوری سوشیانت|Soshyantتاسیس در  ۱۳۹۲کامپیوتر، فناوری اطلاعات و اینترنت۵۱ تا ۲۰۰ نفرsoshyant.co/در یک نگاهمعرفیفرصت‌های شغلی۷طی سال‌های گذشته استفاده از فناوری‌های فینتکی به بخش جدایی ناپذیری از زندگی ما تبدیل شده است.موقعیت مکانیتهران، تهراناعضای شرکتبیتا حلت آبادیکارشناس تحلیل سیستم‌ها و روش‌هااينجا جاییه كه به رشد و یادگیری آدما فكر كردن و براشون مهمه كاری که بهت محول میكنن رو حتما دوست داشته باشی تا بتونی با علاقه و انگیزه انجامش بدی. برای همین در كنار رشد تیمی كه شاهدش هستی متوجه میشی كه روز به روز خودت هم دا\n",
      "\n"
     ]
    },
    {
     "name": "stderr",
     "output_type": "stream",
     "text": [
      "C:\\Users\\negin\\anaconda3\\Lib\\site-packages\\urllib3\\connectionpool.py:1099: InsecureRequestWarning: Unverified HTTPS request is being made to host 'jobinja.ir'. Adding certificate verification is strongly advised. See: https://urllib3.readthedocs.io/en/latest/advanced-usage.html#tls-warnings\n",
      "  warnings.warn(\n"
     ]
    },
    {
     "name": "stdout",
     "output_type": "stream",
     "text": [
      "URL: https://jobinja.ir/jobs?filters%5Bkeywords%5D%5B0%5D=django\n",
      "Content Snippet: فرصت های شغلی django\n",
      " | جابینجاامکان جدید:همین حالا رزومه خود را در کمتر از ۱۰ دقیقه بسازید،برو به رزومه‌سازJobinja | جابینجا | استخدام، آگهی استخدام، کاریابی، استخدامی جدید، بازار کار، نیازمندیها، ساخت رزومه رایگان، کار و استخدام دولتی، اشتغال، جستجوگر حرفه ای استخدام و شغلخانهجستجوی مشاغلرزومه‌ساز۵۰ شرکت برتربخش کارفرمایانورود کارجوثبت‌نام کارجوورود کارجوثبت‌نام کارجو۱جابینجا چطور به استخدام شدن من کمک می‌کند؟مشاهدهمشاهده بیشترجستجودرخواست‌های مننشان‌شده‌هاآگهی‌های پیشنهادیاز آگهی‌های جدید باخبر شوبهترین فرصت های شغلی در جابینجاهمه‌ی استان‌هاتهرانخراسان رضویاصفهانالبرزفارسقمآذربایجان شرقیمازندرانگیلانخوزستانکرمانیزدقزوینمرکزیهرمزگانگلستانزنجانسیستان و بلوچستانبوشهرآذربایجان غربیسمنانکرمانشاههمداناردبیللرستانکردستانخراسان شمالیایلامخراسان جنوبیچهارمحال بختیاریکهکیلویه و بویراحمدهمه‌ی دسته‌بندی‌هافروش و بازاریابیوب،‌ برنامه‌نویسی و نرم‌افزارمالی و حسابداریمسئول دفتر، اجرائی و اداریتولید و مدیریت محتوادیجیتال مارکتینگپشتیبانی و امور مشتریانطراحیIT / DevOps / Serverمهندسی صنایع و مدیریت \n",
      "\n"
     ]
    },
    {
     "name": "stderr",
     "output_type": "stream",
     "text": [
      "C:\\Users\\negin\\anaconda3\\Lib\\site-packages\\urllib3\\connectionpool.py:1099: InsecureRequestWarning: Unverified HTTPS request is being made to host 'jobinja.ir'. Adding certificate verification is strongly advised. See: https://urllib3.readthedocs.io/en/latest/advanced-usage.html#tls-warnings\n",
      "  warnings.warn(\n"
     ]
    },
    {
     "name": "stdout",
     "output_type": "stream",
     "text": [
      "URL: https://jobinja.ir/jobs?filters%5Bkeywords%5D%5B0%5D=%D8%A7%D8%AF%D9%85%DB%8C%D9%86+%D8%AF%D9%88%D8%B1+%DA%A9%D8%A7%D8%B1%DB%8C\n",
      "Content Snippet: فرصت های شغلی ادمین دور کاری\n",
      " | جابینجاامکان جدید:همین حالا رزومه خود را در کمتر از ۱۰ دقیقه بسازید،برو به رزومه‌سازJobinja | جابینجا | استخدام، آگهی استخدام، کاریابی، استخدامی جدید، بازار کار، نیازمندیها، ساخت رزومه رایگان، کار و استخدام دولتی، اشتغال، جستجوگر حرفه ای استخدام و شغلخانهجستجوی مشاغلرزومه‌ساز۵۰ شرکت برتربخش کارفرمایانورود کارجوثبت‌نام کارجوورود کارجوثبت‌نام کارجو۱جابینجا چطور به استخدام شدن من کمک می‌کند؟مشاهدهمشاهده بیشترجستجودرخواست‌های مننشان‌شده‌هاآگهی‌های پیشنهادیاز آگهی‌های جدید باخبر شوبهترین فرصت های شغلی در جابینجاهمه‌ی استان‌هاتهرانخراسان رضویاصفهانالبرزفارسقمآذربایجان شرقیمازندرانگیلانخوزستانکرمانیزدقزوینمرکزیهرمزگانگلستانزنجانسیستان و بلوچستانبوشهرآذربایجان غربیسمنانکرمانشاههمداناردبیللرستانکردستانخراسان شمالیایلامخراسان جنوبیچهارمحال بختیاریکهکیلویه و بویراحمدهمه‌ی دسته‌بندی‌هافروش و بازاریابیوب،‌ برنامه‌نویسی و نرم‌افزارمالی و حسابداریمسئول دفتر، اجرائی و اداریتولید و مدیریت محتوادیجیتال مارکتینگپشتیبانی و امور مشتریانطراحیIT / DevOps / Serverمهندسی صنایع و\n",
      "\n"
     ]
    },
    {
     "name": "stderr",
     "output_type": "stream",
     "text": [
      "C:\\Users\\negin\\anaconda3\\Lib\\site-packages\\urllib3\\connectionpool.py:1099: InsecureRequestWarning: Unverified HTTPS request is being made to host 'jobinja.ir'. Adding certificate verification is strongly advised. See: https://urllib3.readthedocs.io/en/latest/advanced-usage.html#tls-warnings\n",
      "  warnings.warn(\n",
      "C:\\Users\\negin\\anaconda3\\Lib\\site-packages\\urllib3\\connectionpool.py:1099: InsecureRequestWarning: Unverified HTTPS request is being made to host 'jobinja.ir'. Adding certificate verification is strongly advised. See: https://urllib3.readthedocs.io/en/latest/advanced-usage.html#tls-warnings\n",
      "  warnings.warn(\n"
     ]
    },
    {
     "name": "stdout",
     "output_type": "stream",
     "text": [
      "URL: https://jobinja.ir/jobs?filters%5Bjob_categories%5D%5B%5D=%D8%AD%D9%85%D9%84+%D9%88+%D9%86%D9%82%D9%84\n",
      "Content Snippet: استخدام کارشناس حمل و نقل | استخدام کارشناس لجستیک | جابینجا\n",
      " | جابینجاامکان جدید:همین حالا رزومه خود را در کمتر از ۱۰ دقیقه بسازید،برو به رزومه‌سازJobinja | جابینجا | استخدام، آگهی استخدام، کاریابی، استخدامی جدید، بازار کار، نیازمندیها، ساخت رزومه رایگان، کار و استخدام دولتی، اشتغال، جستجوگر حرفه ای استخدام و شغلخانهجستجوی مشاغلرزومه‌ساز۵۰ شرکت برتربخش کارفرمایانورود کارجوثبت‌نام کارجوورود کارجوثبت‌نام کارجو۱جابینجا چطور به استخدام شدن من کمک می‌کند؟مشاهدهمشاهده بیشترجستجودرخواست‌های مننشان‌شده‌هاآگهی‌های پیشنهادیاز آگهی‌های جدید باخبر شوبهترین فرصت های شغلی در جابینجاهمه‌ی استان‌هاتهرانخراسان رضویاصفهانالبرزفارسقمآذربایجان شرقیمازندرانگیلانخوزستانکرمانیزدقزوینمرکزیهرمزگانگلستانزنجانسیستان و بلوچستانبوشهرآذربایجان غربیسمنانکرمانشاههمداناردبیللرستانکردستانخراسان شمالیایلامخراسان جنوبیچهارمحال بختیاریکهکیلویه و بویراحمدهمه‌ی دسته‌بندی‌هاحمل و نقلفروش و بازاریابیوب،‌ برنامه‌نویسی و نرم‌افزارمالی و حسابداریمسئول دفتر، اجرائی و اداریتولید و مدیریت محتوادیجیتال مارکتینگپشتیبانی و امور مشتری\n",
      "\n"
     ]
    },
    {
     "name": "stderr",
     "output_type": "stream",
     "text": [
      "C:\\Users\\negin\\anaconda3\\Lib\\site-packages\\urllib3\\connectionpool.py:1099: InsecureRequestWarning: Unverified HTTPS request is being made to host 'jobinja.ir'. Adding certificate verification is strongly advised. See: https://urllib3.readthedocs.io/en/latest/advanced-usage.html#tls-warnings\n",
      "  warnings.warn(\n",
      "C:\\Users\\negin\\anaconda3\\Lib\\site-packages\\urllib3\\connectionpool.py:1099: InsecureRequestWarning: Unverified HTTPS request is being made to host 'jobinja.ir'. Adding certificate verification is strongly advised. See: https://urllib3.readthedocs.io/en/latest/advanced-usage.html#tls-warnings\n",
      "  warnings.warn(\n"
     ]
    },
    {
     "name": "stdout",
     "output_type": "stream",
     "text": [
      "URL: https://jobinja.ir/jobs?filters%5Bjob_categories%5D%5B%5D=%D9%85%D9%87%D9%86%D8%AF%D8%B3%DB%8C+%D9%85%D8%B9%D8%AF%D9%86+%D9%88+%D9%85%D8%AA%D8%A7%D9%84%D9%88%D8%B1%DA%98%DB%8C\n",
      "Content Snippet: استخدام کارشناس متالورژی | استخدام مهندس مواد\t | جابینجا\n",
      " | جابینجاامکان جدید:همین حالا رزومه خود را در کمتر از ۱۰ دقیقه بسازید،برو به رزومه‌سازJobinja | جابینجا | استخدام، آگهی استخدام، کاریابی، استخدامی جدید، بازار کار، نیازمندیها، ساخت رزومه رایگان، کار و استخدام دولتی، اشتغال، جستجوگر حرفه ای استخدام و شغلخانهجستجوی مشاغلرزومه‌ساز۵۰ شرکت برتربخش کارفرمایانورود کارجوثبت‌نام کارجوورود کارجوثبت‌نام کارجو۱جابینجا چطور به استخدام شدن من کمک می‌کند؟مشاهدهمشاهده بیشترجستجودرخواست‌های مننشان‌شده‌هاآگهی‌های پیشنهادیاز آگهی‌های جدید باخبر شوبهترین فرصت های شغلی در جابینجاهمه‌ی استان‌هاتهرانخراسان رضویاصفهانالبرزفارسقمآذربایجان شرقیمازندرانگیلانخوزستانکرمانیزدقزوینمرکزیهرمزگانگلستانزنجانسیستان و بلوچستانبوشهرآذربایجان غربیسمنانکرمانشاههمداناردبیللرستانکردستانخراسان شمالیایلامخراسان جنوبیچهارمحال بختیاریکهکیلویه و بویراحمدهمه‌ی دسته‌بندی‌هامهندسی معدن و متالورژیفروش و بازاریابیوب،‌ برنامه‌نویسی و نرم‌افزارمالی و حسابداریمسئول دفتر، اجرائی و اداریتولید و مدیریت محتوادیجیتال مارکتینگپشتیبانی و ا\n",
      "\n"
     ]
    },
    {
     "name": "stderr",
     "output_type": "stream",
     "text": [
      "C:\\Users\\negin\\anaconda3\\Lib\\site-packages\\urllib3\\connectionpool.py:1099: InsecureRequestWarning: Unverified HTTPS request is being made to host 'jobinja.ir'. Adding certificate verification is strongly advised. See: https://urllib3.readthedocs.io/en/latest/advanced-usage.html#tls-warnings\n",
      "  warnings.warn(\n",
      "C:\\Users\\negin\\anaconda3\\Lib\\site-packages\\urllib3\\connectionpool.py:1099: InsecureRequestWarning: Unverified HTTPS request is being made to host 'jobinja.ir'. Adding certificate verification is strongly advised. See: https://urllib3.readthedocs.io/en/latest/advanced-usage.html#tls-warnings\n",
      "  warnings.warn(\n"
     ]
    },
    {
     "name": "stdout",
     "output_type": "stream",
     "text": [
      "URL: https://jobinja.ir/jobs?filters%5Bjob_categories%5D%5B%5D=%D8%B7%D8%B1%D8%A7%D8%AD%DB%8C\n",
      "Content Snippet: استخدام طراحی\n",
      " | جابینجاامکان جدید:همین حالا رزومه خود را در کمتر از ۱۰ دقیقه بسازید،برو به رزومه‌سازJobinja | جابینجا | استخدام، آگهی استخدام، کاریابی، استخدامی جدید، بازار کار، نیازمندیها، ساخت رزومه رایگان، کار و استخدام دولتی، اشتغال، جستجوگر حرفه ای استخدام و شغلخانهجستجوی مشاغلرزومه‌ساز۵۰ شرکت برتربخش کارفرمایانورود کارجوثبت‌نام کارجوورود کارجوثبت‌نام کارجو۱جابینجا چطور به استخدام شدن من کمک می‌کند؟مشاهدهمشاهده بیشترجستجودرخواست‌های مننشان‌شده‌هاآگهی‌های پیشنهادیاز آگهی‌های جدید باخبر شوبهترین فرصت های شغلی در جابینجاهمه‌ی استان‌هاتهرانخراسان رضویاصفهانالبرزفارسقمآذربایجان شرقیمازندرانگیلانخوزستانکرمانیزدقزوینمرکزیهرمزگانگلستانزنجانسیستان و بلوچستانبوشهرآذربایجان غربیسمنانکرمانشاههمداناردبیللرستانکردستانخراسان شمالیایلامخراسان جنوبیچهارمحال بختیاریکهکیلویه و بویراحمدهمه‌ی دسته‌بندی‌هاطراحیفروش و بازاریابیوب،‌ برنامه‌نویسی و نرم‌افزارمالی و حسابداریمسئول دفتر، اجرائی و اداریتولید و مدیریت محتوادیجیتال مارکتینگپشتیبانی و امور مشتریانIT / DevOps / Serverمهندسی صنایع و مدیریت صنعتیکا\n",
      "\n"
     ]
    },
    {
     "name": "stderr",
     "output_type": "stream",
     "text": [
      "C:\\Users\\negin\\anaconda3\\Lib\\site-packages\\urllib3\\connectionpool.py:1099: InsecureRequestWarning: Unverified HTTPS request is being made to host 'jobinja.ir'. Adding certificate verification is strongly advised. See: https://urllib3.readthedocs.io/en/latest/advanced-usage.html#tls-warnings\n",
      "  warnings.warn(\n"
     ]
    },
    {
     "name": "stdout",
     "output_type": "stream",
     "text": [
      "URL: https://jobinja.ir/companies/yasspa/jobs/AmyE/%D8%A7%D8%B3%D8%AA%D8%AE%D8%AF%D8%A7%D9%85-%DA%A9%D8%A7%D8%B1%D9%85%D9%86%D8%AF-%D9%BE%D8%B0%DB%8C%D8%B1%D8%B4-%D8%AE%D8%A7%D9%86%D9%85-%D8%B4%DB%8C%D8%B1%D8%A7%D8%B2-%D8%AF%D8%B1-%DB%8C%D8%A7%D8%B3-%D8%A7%D8%B3%D9%BE%D8%A7?_ref=18\n",
      "Content Snippet: استخدام کارمند پذیرش (خانم-شیراز) در یاس اسپا | جابینجاامکان جدید:همین حالا رزومه خود را در کمتر از ۱۰ دقیقه بسازید،برو به رزومه‌سازJobinja | جابینجا | استخدام، آگهی استخدام، کاریابی، استخدامی جدید، بازار کار، نیازمندیها، ساخت رزومه رایگان، کار و استخدام دولتی، اشتغال، جستجوگر حرفه ای استخدام و شغلخانهجستجوی مشاغلرزومه‌ساز۵۰ شرکت برتربخش کارفرمایانورود کارجوثبت‌نام کارجوورود کارجوثبت‌نام کارجو۱جابینجا چطور به استخدام شدن من کمک می‌کند؟مشاهدهمشاهده بیشتریاس اسپا|YasSpaگردشگری و هتل‌ها۵۱ تا ۲۰۰ نفرفرصت‌های شغلی۱استخدام کارمند پذیرش (خانم-شیراز)لطفا برای مشاهده‌ی جزییات و ارسال رزومهیکی از راه‌های زیر را انتخاب کنیدورود / ثبت‌نام با ایمیلimage/svg+xmlbtn_google_light_normal_iosbtn_google_light_normal_iosCreated with Sketch.ورود / ثبت‌نام با گوگل\n",
      "                    (Gmail)ورود / ثبت‌نام با لینکدیناستخدام کارمند پذیرش (خانم-شیراز){{ tooltipText }}{{ hoverTitle }}نشان کردنحذف نشاندسته‌بندی شغلیروابط عمومیموقعیت مکانیفارس\n",
      "                                                ، شیرازنوع همکاریتمام \n",
      "\n"
     ]
    },
    {
     "name": "stderr",
     "output_type": "stream",
     "text": [
      "C:\\Users\\negin\\anaconda3\\Lib\\site-packages\\urllib3\\connectionpool.py:1099: InsecureRequestWarning: Unverified HTTPS request is being made to host 'jobinja.ir'. Adding certificate verification is strongly advised. See: https://urllib3.readthedocs.io/en/latest/advanced-usage.html#tls-warnings\n",
      "  warnings.warn(\n"
     ]
    },
    {
     "name": "stdout",
     "output_type": "stream",
     "text": [
      "URL: https://jobinja.ir/companies/keihan-tabdil/jobs\n",
      "Content Snippet: فرصت‌های شغلی فعال در کیهان تبدیل | Keihan Tabdil | جابینجاامکان جدید:همین حالا رزومه خود را در کمتر از ۱۰ دقیقه بسازید،برو به رزومه‌سازJobinja | جابینجا | استخدام، آگهی استخدام، کاریابی، استخدامی جدید، بازار کار، نیازمندیها، ساخت رزومه رایگان، کار و استخدام دولتی، اشتغال، جستجوگر حرفه ای استخدام و شغلخانهجستجوی مشاغلرزومه‌ساز۵۰ شرکت برتربخش کارفرمایانورود کارجوثبت‌نام کارجوورود کارجوثبت‌نام کارجو۱جابینجا چطور به استخدام شدن من کمک می‌کند؟مشاهدهمشاهده بیشترکیهان تبدیل|Keihan Tabdilنفت و گاز۲ - ۱۰ نفرkeihantabdil.comفرصت‌های شغلی۲معرفی کیهان تبدیلپیمانکار حوزه نفت و گاز با رویکرد خدمات تخصصی HSE از قبیل :1) تامین نیروی انسانی2) تامین تجهیزات3) نگارش دستور العمل ها و...فرصت‌های شغلی فعال در کیهان تبدیل|Keihan Tabdilکارمند اداری(۱۸ روز پیش)کیهان تبدیل | Keihan Tabdilتهران، تهرانقرارداد\n",
      "              تمام‌وقت(برای\n",
      "                مشاهده حقوق وارد شوید)ارسال\n",
      "              رزومه{{ tooltipText }}{{ hoverTitle }}نشان کردنحذف نشانحسابدار(۵۶ روز پیش)کیهان تبدیل | Keihan Tabdilتهران، تهرانقرارداد\n",
      "\n"
     ]
    },
    {
     "name": "stderr",
     "output_type": "stream",
     "text": [
      "C:\\Users\\negin\\anaconda3\\Lib\\site-packages\\urllib3\\connectionpool.py:1099: InsecureRequestWarning: Unverified HTTPS request is being made to host 'jobinja.ir'. Adding certificate verification is strongly advised. See: https://urllib3.readthedocs.io/en/latest/advanced-usage.html#tls-warnings\n",
      "  warnings.warn(\n"
     ]
    },
    {
     "name": "stdout",
     "output_type": "stream",
     "text": [
      "URL: https://jobinja.ir/companies/zhaket/jobs/AmyT/%D8%A7%D8%B3%D8%AA%D8%AE%D8%AF%D8%A7%D9%85-%DA%A9%D8%A7%D8%B1%D8%B4%D9%86%D8%A7%D8%B3-%D8%A7%D8%B1%D8%B4%D8%AF-%D8%B3%D8%A6%D9%88-seo-%D8%AF%D8%B1-%DA%98%D8%A7%DA%A9%D8%AA?_ref=18\n",
      "Content Snippet: استخدام کارشناس ارشد سئو (SEO) در ژاکت | جابینجاامکان جدید:همین حالا رزومه خود را در کمتر از ۱۰ دقیقه بسازید،برو به رزومه‌سازJobinja | جابینجا | استخدام، آگهی استخدام، کاریابی، استخدامی جدید، بازار کار، نیازمندیها، ساخت رزومه رایگان، کار و استخدام دولتی، اشتغال، جستجوگر حرفه ای استخدام و شغلخانهجستجوی مشاغلرزومه‌ساز۵۰ شرکت برتربخش کارفرمایانورود کارجوثبت‌نام کارجوورود کارجوثبت‌نام کارجو۱جابینجا چطور به استخدام شدن من کمک می‌کند؟مشاهدهمشاهده بیشترژاکت|Zhaketکامپیوتر، فناوری اطلاعات و اینترنت۵۱ تا ۲۰۰ نفرzhaket.comفرصت‌های شغلی۶استخدام کارشناس ارشد سئو (SEO)لطفا برای مشاهده‌ی جزییات و ارسال رزومهیکی از راه‌های زیر را انتخاب کنیدورود / ثبت‌نام با ایمیلimage/svg+xmlbtn_google_light_normal_iosbtn_google_light_normal_iosCreated with Sketch.ورود / ثبت‌نام با گوگل\n",
      "                    (Gmail)ورود / ثبت‌نام با لینکدیناستخدام کارشناس ارشد سئو (SEO){{ tooltipText }}{{ hoverTitle }}نشان کردنحذف نشاندسته‌بندی شغلیدیجیتال مارکتینگموقعیت مکانیتهران\n",
      "                                                ، تهر\n",
      "\n"
     ]
    },
    {
     "name": "stderr",
     "output_type": "stream",
     "text": [
      "C:\\Users\\negin\\anaconda3\\Lib\\site-packages\\urllib3\\connectionpool.py:1099: InsecureRequestWarning: Unverified HTTPS request is being made to host 'jobinja.ir'. Adding certificate verification is strongly advised. See: https://urllib3.readthedocs.io/en/latest/advanced-usage.html#tls-warnings\n",
      "  warnings.warn(\n",
      "C:\\Users\\negin\\anaconda3\\Lib\\site-packages\\urllib3\\connectionpool.py:1099: InsecureRequestWarning: Unverified HTTPS request is being made to host 'jobinja.ir'. Adding certificate verification is strongly advised. See: https://urllib3.readthedocs.io/en/latest/advanced-usage.html#tls-warnings\n",
      "  warnings.warn(\n"
     ]
    },
    {
     "name": "stdout",
     "output_type": "stream",
     "text": [
      "URL: https://jobinja.ir/jobs?filters%5Bjob_categories%5D%5B%5D=%D9%85%D9%87%D9%86%D8%AF%D8%B3%DB%8C+%D9%86%D8%B3%D8%A7%D8%AC%DB%8C%D8%8C+%D8%B7%D8%B1%D8%A7%D8%AD%DB%8C+%D9%BE%D8%A7%D8%B1%DA%86%D9%87+%D9%88+%D9%84%D8%A8%D8%A7%D8%B3\n",
      "Content Snippet: استخدام طراح لباس | استخدام مهندس نساجی\n",
      " | جابینجاامکان جدید:همین حالا رزومه خود را در کمتر از ۱۰ دقیقه بسازید،برو به رزومه‌سازJobinja | جابینجا | استخدام، آگهی استخدام، کاریابی، استخدامی جدید، بازار کار، نیازمندیها، ساخت رزومه رایگان، کار و استخدام دولتی، اشتغال، جستجوگر حرفه ای استخدام و شغلخانهجستجوی مشاغلرزومه‌ساز۵۰ شرکت برتربخش کارفرمایانورود کارجوثبت‌نام کارجوورود کارجوثبت‌نام کارجو۱جابینجا چطور به استخدام شدن من کمک می‌کند؟مشاهدهمشاهده بیشترجستجودرخواست‌های مننشان‌شده‌هاآگهی‌های پیشنهادیاز آگهی‌های جدید باخبر شوبهترین فرصت های شغلی در جابینجاهمه‌ی استان‌هاتهرانخراسان رضویاصفهانالبرزفارسقمآذربایجان شرقیمازندرانگیلانخوزستانکرمانیزدقزوینمرکزیهرمزگانگلستانزنجانسیستان و بلوچستانبوشهرآذربایجان غربیسمنانکرمانشاههمداناردبیللرستانکردستانخراسان شمالیایلامخراسان جنوبیچهارمحال بختیاریکهکیلویه و بویراحمدهمه‌ی دسته‌بندی‌هامهندسی نساجی، طراحی پارچه و لباسفروش و بازاریابیوب،‌ برنامه‌نویسی و نرم‌افزارمالی و حسابداریمسئول دفتر، اجرائی و اداریتولید و مدیریت محتوادیجیتال مارکتینگپشتیبانی و امور مشت\n",
      "\n"
     ]
    },
    {
     "name": "stderr",
     "output_type": "stream",
     "text": [
      "C:\\Users\\negin\\anaconda3\\Lib\\site-packages\\urllib3\\connectionpool.py:1099: InsecureRequestWarning: Unverified HTTPS request is being made to host 'jobinja.ir'. Adding certificate verification is strongly advised. See: https://urllib3.readthedocs.io/en/latest/advanced-usage.html#tls-warnings\n",
      "  warnings.warn(\n"
     ]
    },
    {
     "name": "stdout",
     "output_type": "stream",
     "text": [
      "URL: https://jobinja.ir/jobs?filters%5Bkeywords%5D%5B0%5D=%D8%B4%D8%A8%DA%A9%D9%87\n",
      "Content Snippet: فرصت های شغلی شبکه\n",
      " | جابینجاامکان جدید:همین حالا رزومه خود را در کمتر از ۱۰ دقیقه بسازید،برو به رزومه‌سازJobinja | جابینجا | استخدام، آگهی استخدام، کاریابی، استخدامی جدید، بازار کار، نیازمندیها، ساخت رزومه رایگان، کار و استخدام دولتی، اشتغال، جستجوگر حرفه ای استخدام و شغلخانهجستجوی مشاغلرزومه‌ساز۵۰ شرکت برتربخش کارفرمایانورود کارجوثبت‌نام کارجوورود کارجوثبت‌نام کارجو۱جابینجا چطور به استخدام شدن من کمک می‌کند؟مشاهدهمشاهده بیشترجستجودرخواست‌های مننشان‌شده‌هاآگهی‌های پیشنهادیاز آگهی‌های جدید باخبر شوبهترین فرصت های شغلی در جابینجاهمه‌ی استان‌هاتهرانخراسان رضویاصفهانالبرزفارسقمآذربایجان شرقیمازندرانگیلانخوزستانکرمانیزدقزوینمرکزیهرمزگانگلستانزنجانسیستان و بلوچستانبوشهرآذربایجان غربیسمنانکرمانشاههمداناردبیللرستانکردستانخراسان شمالیایلامخراسان جنوبیچهارمحال بختیاریکهکیلویه و بویراحمدهمه‌ی دسته‌بندی‌هافروش و بازاریابیوب،‌ برنامه‌نویسی و نرم‌افزارمالی و حسابداریمسئول دفتر، اجرائی و اداریتولید و مدیریت محتوادیجیتال مارکتینگپشتیبانی و امور مشتریانطراحیIT / DevOps / Serverمهندسی صنایع و مدیریت صن\n",
      "\n"
     ]
    },
    {
     "name": "stderr",
     "output_type": "stream",
     "text": [
      "C:\\Users\\negin\\anaconda3\\Lib\\site-packages\\urllib3\\connectionpool.py:1099: InsecureRequestWarning: Unverified HTTPS request is being made to host 'jobinja.ir'. Adding certificate verification is strongly advised. See: https://urllib3.readthedocs.io/en/latest/advanced-usage.html#tls-warnings\n",
      "  warnings.warn(\n",
      "C:\\Users\\negin\\anaconda3\\Lib\\site-packages\\urllib3\\connectionpool.py:1099: InsecureRequestWarning: Unverified HTTPS request is being made to host 'jobinja.ir'. Adding certificate verification is strongly advised. See: https://urllib3.readthedocs.io/en/latest/advanced-usage.html#tls-warnings\n",
      "  warnings.warn(\n"
     ]
    },
    {
     "name": "stdout",
     "output_type": "stream",
     "text": [
      "URL: https://jobinja.ir/jobs?filters%5Bjob_categories%5D%5B%5D=%D8%B1%D9%88%D8%A7%D8%A8%D8%B7+%D8%B9%D9%85%D9%88%D9%85%DB%8C\n",
      "Content Snippet: استخدام مدیر روابط عمومی | استخدام روابط عمومی \n",
      " | جابینجاامکان جدید:همین حالا رزومه خود را در کمتر از ۱۰ دقیقه بسازید،برو به رزومه‌سازJobinja | جابینجا | استخدام، آگهی استخدام، کاریابی، استخدامی جدید، بازار کار، نیازمندیها، ساخت رزومه رایگان، کار و استخدام دولتی، اشتغال، جستجوگر حرفه ای استخدام و شغلخانهجستجوی مشاغلرزومه‌ساز۵۰ شرکت برتربخش کارفرمایانورود کارجوثبت‌نام کارجوورود کارجوثبت‌نام کارجو۱جابینجا چطور به استخدام شدن من کمک می‌کند؟مشاهدهمشاهده بیشترجستجودرخواست‌های مننشان‌شده‌هاآگهی‌های پیشنهادیاز آگهی‌های جدید باخبر شوبهترین فرصت های شغلی در جابینجاهمه‌ی استان‌هاتهرانخراسان رضویاصفهانالبرزفارسقمآذربایجان شرقیمازندرانگیلانخوزستانکرمانیزدقزوینمرکزیهرمزگانگلستانزنجانسیستان و بلوچستانبوشهرآذربایجان غربیسمنانکرمانشاههمداناردبیللرستانکردستانخراسان شمالیایلامخراسان جنوبیچهارمحال بختیاریکهکیلویه و بویراحمدهمه‌ی دسته‌بندی‌هاروابط عمومیفروش و بازاریابیوب،‌ برنامه‌نویسی و نرم‌افزارمالی و حسابداریمسئول دفتر، اجرائی و اداریتولید و مدیریت محتوادیجیتال مارکتینگپشتیبانی و امور مشتریانطراحیIT /\n",
      "\n"
     ]
    },
    {
     "name": "stderr",
     "output_type": "stream",
     "text": [
      "C:\\Users\\negin\\anaconda3\\Lib\\site-packages\\urllib3\\connectionpool.py:1099: InsecureRequestWarning: Unverified HTTPS request is being made to host 'jobinja.ir'. Adding certificate verification is strongly advised. See: https://urllib3.readthedocs.io/en/latest/advanced-usage.html#tls-warnings\n",
      "  warnings.warn(\n"
     ]
    },
    {
     "name": "stdout",
     "output_type": "stream",
     "text": [
      "URL: https://jobinja.ir/in-press\n",
      "Content Snippet: جابینجا در رسانه‌ها | جابینجاامکان جدید:همین حالا رزومه خود را در کمتر از ۱۰ دقیقه بسازید،برو به رزومه‌سازJobinja | جابینجا | استخدام، آگهی استخدام، کاریابی، استخدامی جدید، بازار کار، نیازمندیها، ساخت رزومه رایگان، کار و استخدام دولتی، اشتغال، جستجوگر حرفه ای استخدام و شغلخانهجستجوی مشاغلرزومه‌ساز۵۰ شرکت برتربخش کارفرمایانورود کارجوثبت‌نام کارجوورود کارجوثبت‌نام کارجو۱جابینجا چطور به استخدام شدن من کمک می‌کند؟مشاهدهمشاهده بیشترجابینجا در رسانه‌هاگزارش اخبار رسمی از فهرست ۵۰ شرکت برتر ایران برای کار(۱۳۹۵/۱۲/۲۳)بازار کار ایران نیز در مسیر رشد خود،‌ بیش از پیش به اهمیت منابع انسانی در موفقیت سازمان واقف شده است و هدف جابینجا از انتشار فهرست شرکت‌های برتر ایران برای کار،‌ تاکید بر تلاش مثبت سازمان‌ها در برندسازی منابع انسانی است.گزارش تکرا از فهرست ۵۰ شرکت برتر ایران برای کار(۱۳۹۵/۱۲/۲۲)با نزدیک شدن به آخرین روزهای سال،‌ جابینجا فهرست ۵۰ شرکت برتر ایران در جذب و استخدام نیرو را در سه ماه پایانی سال ۱۳۹۵منتشر کرده است. این فهرست بر اساس بررسی شاخص‌های مختلف در ۹۰ روز اخیر تهیه شده است و به \n",
      "\n"
     ]
    },
    {
     "name": "stderr",
     "output_type": "stream",
     "text": [
      "C:\\Users\\negin\\anaconda3\\Lib\\site-packages\\urllib3\\connectionpool.py:1099: InsecureRequestWarning: Unverified HTTPS request is being made to host 'jobinja.ir'. Adding certificate verification is strongly advised. See: https://urllib3.readthedocs.io/en/latest/advanced-usage.html#tls-warnings\n",
      "  warnings.warn(\n",
      "C:\\Users\\negin\\anaconda3\\Lib\\site-packages\\urllib3\\connectionpool.py:1099: InsecureRequestWarning: Unverified HTTPS request is being made to host 'jobinja.ir'. Adding certificate verification is strongly advised. See: https://urllib3.readthedocs.io/en/latest/advanced-usage.html#tls-warnings\n",
      "  warnings.warn(\n"
     ]
    },
    {
     "name": "stdout",
     "output_type": "stream",
     "text": [
      "URL: https://jobinja.ir/jobs?filters%5Blocations%5D%5B%5D=%D8%AE%D8%B1%D8%A7%D8%B3%D8%A7%D9%86+%D8%AC%D9%86%D9%88%D8%A8%DB%8C\n",
      "Content Snippet: آگهی استخدام خراسان جنوبی | استخدام خراسان جنوبی | کاریابی خراسان جنوبی\n",
      " | جابینجاامکان جدید:همین حالا رزومه خود را در کمتر از ۱۰ دقیقه بسازید،برو به رزومه‌سازJobinja | جابینجا | استخدام، آگهی استخدام، کاریابی، استخدامی جدید، بازار کار، نیازمندیها، ساخت رزومه رایگان، کار و استخدام دولتی، اشتغال، جستجوگر حرفه ای استخدام و شغلخانهجستجوی مشاغلرزومه‌ساز۵۰ شرکت برتربخش کارفرمایانورود کارجوثبت‌نام کارجوورود کارجوثبت‌نام کارجو۱جابینجا چطور به استخدام شدن من کمک می‌کند؟مشاهدهمشاهده بیشترجستجودرخواست‌های مننشان‌شده‌هاآگهی‌های پیشنهادیاز آگهی‌های جدید باخبر شوبهترین فرصت های شغلی در جابینجاهمه‌ی استان‌هاخراسان جنوبیتهرانخراسان رضویاصفهانالبرزفارسقمآذربایجان شرقیمازندرانگیلانخوزستانکرمانیزدقزوینمرکزیهرمزگانگلستانزنجانسیستان و بلوچستانبوشهرآذربایجان غربیسمنانکرمانشاههمداناردبیللرستانکردستانخراسان شمالیایلامچهارمحال بختیاریکهکیلویه و بویراحمدهمه‌ی دسته‌بندی‌هافروش و بازاریابیوب،‌ برنامه‌نویسی و نرم‌افزارمالی و حسابداریمسئول دفتر، اجرائی و اداریتولید و مدیریت محتوادیجیتال مارکتینگپشتیبانی و امور مشت\n",
      "\n"
     ]
    },
    {
     "name": "stderr",
     "output_type": "stream",
     "text": [
      "C:\\Users\\negin\\anaconda3\\Lib\\site-packages\\urllib3\\connectionpool.py:1099: InsecureRequestWarning: Unverified HTTPS request is being made to host 'jobinja.ir'. Adding certificate verification is strongly advised. See: https://urllib3.readthedocs.io/en/latest/advanced-usage.html#tls-warnings\n",
      "  warnings.warn(\n",
      "C:\\Users\\negin\\anaconda3\\Lib\\site-packages\\urllib3\\connectionpool.py:1099: InsecureRequestWarning: Unverified HTTPS request is being made to host 'jobinja.ir'. Adding certificate verification is strongly advised. See: https://urllib3.readthedocs.io/en/latest/advanced-usage.html#tls-warnings\n",
      "  warnings.warn(\n"
     ]
    },
    {
     "name": "stdout",
     "output_type": "stream",
     "text": [
      "URL: https://jobinja.ir/jobs?filters%5Blocations%5D%5B%5D=%D9%87%D8%B1%D9%85%D8%B2%DA%AF%D8%A7%D9%86\n",
      "Content Snippet: استخدام هرمزگان | جابینجا\n",
      " | جابینجاامکان جدید:همین حالا رزومه خود را در کمتر از ۱۰ دقیقه بسازید،برو به رزومه‌سازJobinja | جابینجا | استخدام، آگهی استخدام، کاریابی، استخدامی جدید، بازار کار، نیازمندیها، ساخت رزومه رایگان، کار و استخدام دولتی، اشتغال، جستجوگر حرفه ای استخدام و شغلخانهجستجوی مشاغلرزومه‌ساز۵۰ شرکت برتربخش کارفرمایانورود کارجوثبت‌نام کارجوورود کارجوثبت‌نام کارجو۱جابینجا چطور به استخدام شدن من کمک می‌کند؟مشاهدهمشاهده بیشترجستجودرخواست‌های مننشان‌شده‌هاآگهی‌های پیشنهادیاز آگهی‌های جدید باخبر شوبهترین فرصت های شغلی در جابینجاهمه‌ی استان‌هاهرمزگانتهرانخراسان رضویاصفهانالبرزفارسقمآذربایجان شرقیمازندرانگیلانخوزستانکرمانیزدقزوینمرکزیگلستانزنجانسیستان و بلوچستانبوشهرآذربایجان غربیسمنانکرمانشاههمداناردبیللرستانکردستانخراسان شمالیایلامخراسان جنوبیچهارمحال بختیاریکهکیلویه و بویراحمدهمه‌ی دسته‌بندی‌هافروش و بازاریابیوب،‌ برنامه‌نویسی و نرم‌افزارمالی و حسابداریمسئول دفتر، اجرائی و اداریتولید و مدیریت محتوادیجیتال مارکتینگپشتیبانی و امور مشتریانطراحیIT / DevOps / Serverمهندسی صنایع و مد\n",
      "\n"
     ]
    },
    {
     "name": "stderr",
     "output_type": "stream",
     "text": [
      "C:\\Users\\negin\\anaconda3\\Lib\\site-packages\\urllib3\\connectionpool.py:1099: InsecureRequestWarning: Unverified HTTPS request is being made to host 'jobinja.ir'. Adding certificate verification is strongly advised. See: https://urllib3.readthedocs.io/en/latest/advanced-usage.html#tls-warnings\n",
      "  warnings.warn(\n"
     ]
    },
    {
     "name": "stdout",
     "output_type": "stream",
     "text": [
      "URL: https://jobinja.ir/jobs?filters%5Bkeywords%5D%5B0%5D=%D8%A7%D8%AF%DB%8C%D8%AA%D9%88%D8%B1\n",
      "Content Snippet: فرصت های شغلی ادیتور\n",
      " | جابینجاامکان جدید:همین حالا رزومه خود را در کمتر از ۱۰ دقیقه بسازید،برو به رزومه‌سازJobinja | جابینجا | استخدام، آگهی استخدام، کاریابی، استخدامی جدید، بازار کار، نیازمندیها، ساخت رزومه رایگان، کار و استخدام دولتی، اشتغال، جستجوگر حرفه ای استخدام و شغلخانهجستجوی مشاغلرزومه‌ساز۵۰ شرکت برتربخش کارفرمایانورود کارجوثبت‌نام کارجوورود کارجوثبت‌نام کارجو۱جابینجا چطور به استخدام شدن من کمک می‌کند؟مشاهدهمشاهده بیشترجستجودرخواست‌های مننشان‌شده‌هاآگهی‌های پیشنهادیاز آگهی‌های جدید باخبر شوبهترین فرصت های شغلی در جابینجاهمه‌ی استان‌هاتهرانخراسان رضویاصفهانالبرزفارسقمآذربایجان شرقیمازندرانگیلانخوزستانکرمانیزدقزوینمرکزیهرمزگانگلستانزنجانسیستان و بلوچستانبوشهرآذربایجان غربیسمنانکرمانشاههمداناردبیللرستانکردستانخراسان شمالیایلامخراسان جنوبیچهارمحال بختیاریکهکیلویه و بویراحمدهمه‌ی دسته‌بندی‌هافروش و بازاریابیوب،‌ برنامه‌نویسی و نرم‌افزارمالی و حسابداریمسئول دفتر، اجرائی و اداریتولید و مدیریت محتوادیجیتال مارکتینگپشتیبانی و امور مشتریانطراحیIT / DevOps / Serverمهندسی صنایع و مدیریت \n",
      "\n"
     ]
    },
    {
     "name": "stderr",
     "output_type": "stream",
     "text": [
      "C:\\Users\\negin\\anaconda3\\Lib\\site-packages\\urllib3\\connectionpool.py:1099: InsecureRequestWarning: Unverified HTTPS request is being made to host 'jobinja.ir'. Adding certificate verification is strongly advised. See: https://urllib3.readthedocs.io/en/latest/advanced-usage.html#tls-warnings\n",
      "  warnings.warn(\n",
      "C:\\Users\\negin\\anaconda3\\Lib\\site-packages\\urllib3\\connectionpool.py:1099: InsecureRequestWarning: Unverified HTTPS request is being made to host 'jobinja.ir'. Adding certificate verification is strongly advised. See: https://urllib3.readthedocs.io/en/latest/advanced-usage.html#tls-warnings\n",
      "  warnings.warn(\n"
     ]
    },
    {
     "name": "stdout",
     "output_type": "stream",
     "text": [
      "URL: https://jobinja.ir/jobs?filters%5Bjob_categories%5D%5B%5D=%D9%85%D8%B3%D8%A6%D9%88%D9%84+%D8%AF%D9%81%D8%AA%D8%B1%D8%8C+%D8%A7%D8%AC%D8%B1%D8%A7%D8%A6%DB%8C+%D9%88+%D8%A7%D8%AF%D8%A7%D8%B1%DB%8C\n",
      "Content Snippet: استخدام منشی | استخدام کارمند دفتری | استخدام کارمند اداری | جابینجا\n",
      " | جابینجاامکان جدید:همین حالا رزومه خود را در کمتر از ۱۰ دقیقه بسازید،برو به رزومه‌سازJobinja | جابینجا | استخدام، آگهی استخدام، کاریابی، استخدامی جدید، بازار کار، نیازمندیها، ساخت رزومه رایگان، کار و استخدام دولتی، اشتغال، جستجوگر حرفه ای استخدام و شغلخانهجستجوی مشاغلرزومه‌ساز۵۰ شرکت برتربخش کارفرمایانورود کارجوثبت‌نام کارجوورود کارجوثبت‌نام کارجو۱جابینجا چطور به استخدام شدن من کمک می‌کند؟مشاهدهمشاهده بیشترجستجودرخواست‌های مننشان‌شده‌هاآگهی‌های پیشنهادیاز آگهی‌های جدید باخبر شوبهترین فرصت های شغلی در جابینجاهمه‌ی استان‌هاتهرانخراسان رضویاصفهانالبرزفارسقمآذربایجان شرقیمازندرانگیلانخوزستانکرمانیزدقزوینمرکزیهرمزگانگلستانزنجانسیستان و بلوچستانبوشهرآذربایجان غربیسمنانکرمانشاههمداناردبیللرستانکردستانخراسان شمالیایلامخراسان جنوبیچهارمحال بختیاریکهکیلویه و بویراحمدهمه‌ی دسته‌بندی‌هامسئول دفتر، اجرائی و اداریفروش و بازاریابیوب،‌ برنامه‌نویسی و نرم‌افزارمالی و حسابداریتولید و مدیریت محتوادیجیتال مارکتینگپشتیبانی و امور مشتریا\n",
      "\n"
     ]
    },
    {
     "name": "stderr",
     "output_type": "stream",
     "text": [
      "C:\\Users\\negin\\anaconda3\\Lib\\site-packages\\urllib3\\connectionpool.py:1099: InsecureRequestWarning: Unverified HTTPS request is being made to host 'jobinja.ir'. Adding certificate verification is strongly advised. See: https://urllib3.readthedocs.io/en/latest/advanced-usage.html#tls-warnings\n",
      "  warnings.warn(\n"
     ]
    },
    {
     "name": "stdout",
     "output_type": "stream",
     "text": [
      "URL: https://jobinja.ir/jobs?filters%5Bkeywords%5D%5B0%5D=%D8%AD%D8%B3%D8%A7%D8%A8%D8%AF%D8%A7%D8%B1%DB%8C\n",
      "Content Snippet: فرصت های شغلی حسابداری\n",
      " | جابینجاامکان جدید:همین حالا رزومه خود را در کمتر از ۱۰ دقیقه بسازید،برو به رزومه‌سازJobinja | جابینجا | استخدام، آگهی استخدام، کاریابی، استخدامی جدید، بازار کار، نیازمندیها، ساخت رزومه رایگان، کار و استخدام دولتی، اشتغال، جستجوگر حرفه ای استخدام و شغلخانهجستجوی مشاغلرزومه‌ساز۵۰ شرکت برتربخش کارفرمایانورود کارجوثبت‌نام کارجوورود کارجوثبت‌نام کارجو۱جابینجا چطور به استخدام شدن من کمک می‌کند؟مشاهدهمشاهده بیشترجستجودرخواست‌های مننشان‌شده‌هاآگهی‌های پیشنهادیاز آگهی‌های جدید باخبر شوبهترین فرصت های شغلی در جابینجاهمه‌ی استان‌هاتهرانخراسان رضویاصفهانالبرزفارسقمآذربایجان شرقیمازندرانگیلانخوزستانکرمانیزدقزوینمرکزیهرمزگانگلستانزنجانسیستان و بلوچستانبوشهرآذربایجان غربیسمنانکرمانشاههمداناردبیللرستانکردستانخراسان شمالیایلامخراسان جنوبیچهارمحال بختیاریکهکیلویه و بویراحمدهمه‌ی دسته‌بندی‌هافروش و بازاریابیوب،‌ برنامه‌نویسی و نرم‌افزارمالی و حسابداریمسئول دفتر، اجرائی و اداریتولید و مدیریت محتوادیجیتال مارکتینگپشتیبانی و امور مشتریانطراحیIT / DevOps / Serverمهندسی صنایع و مدیری\n",
      "\n"
     ]
    },
    {
     "name": "stderr",
     "output_type": "stream",
     "text": [
      "C:\\Users\\negin\\anaconda3\\Lib\\site-packages\\urllib3\\connectionpool.py:1099: InsecureRequestWarning: Unverified HTTPS request is being made to host 'jobinja.ir'. Adding certificate verification is strongly advised. See: https://urllib3.readthedocs.io/en/latest/advanced-usage.html#tls-warnings\n",
      "  warnings.warn(\n"
     ]
    },
    {
     "name": "stdout",
     "output_type": "stream",
     "text": [
      "URL: https://jobinja.ir/jobs?filters%5Bkeywords%5D%5B0%5D=python\n",
      "Content Snippet: فرصت های شغلی python\n",
      " | جابینجاامکان جدید:همین حالا رزومه خود را در کمتر از ۱۰ دقیقه بسازید،برو به رزومه‌سازJobinja | جابینجا | استخدام، آگهی استخدام، کاریابی، استخدامی جدید، بازار کار، نیازمندیها، ساخت رزومه رایگان، کار و استخدام دولتی، اشتغال، جستجوگر حرفه ای استخدام و شغلخانهجستجوی مشاغلرزومه‌ساز۵۰ شرکت برتربخش کارفرمایانورود کارجوثبت‌نام کارجوورود کارجوثبت‌نام کارجو۱جابینجا چطور به استخدام شدن من کمک می‌کند؟مشاهدهمشاهده بیشترجستجودرخواست‌های مننشان‌شده‌هاآگهی‌های پیشنهادیاز آگهی‌های جدید باخبر شوبهترین فرصت های شغلی در جابینجاهمه‌ی استان‌هاتهرانخراسان رضویاصفهانالبرزفارسقمآذربایجان شرقیمازندرانگیلانخوزستانکرمانیزدقزوینمرکزیهرمزگانگلستانزنجانسیستان و بلوچستانبوشهرآذربایجان غربیسمنانکرمانشاههمداناردبیللرستانکردستانخراسان شمالیایلامخراسان جنوبیچهارمحال بختیاریکهکیلویه و بویراحمدهمه‌ی دسته‌بندی‌هافروش و بازاریابیوب،‌ برنامه‌نویسی و نرم‌افزارمالی و حسابداریمسئول دفتر، اجرائی و اداریتولید و مدیریت محتوادیجیتال مارکتینگپشتیبانی و امور مشتریانطراحیIT / DevOps / Serverمهندسی صنایع و مدیریت \n",
      "\n"
     ]
    },
    {
     "name": "stderr",
     "output_type": "stream",
     "text": [
      "C:\\Users\\negin\\anaconda3\\Lib\\site-packages\\urllib3\\connectionpool.py:1099: InsecureRequestWarning: Unverified HTTPS request is being made to host 'jobinja.ir'. Adding certificate verification is strongly advised. See: https://urllib3.readthedocs.io/en/latest/advanced-usage.html#tls-warnings\n",
      "  warnings.warn(\n"
     ]
    },
    {
     "name": "stdout",
     "output_type": "stream",
     "text": [
      "URL: https://jobinja.ir/companies/flightio\n",
      "Content Snippet: استخدام در شرکت فلایتیو، آگهی های استخدام Flightio | جابینجاامکان جدید:همین حالا رزومه خود را در کمتر از ۱۰ دقیقه بسازید،برو به رزومه‌سازJobinja | جابینجا | استخدام، آگهی استخدام، کاریابی، استخدامی جدید، بازار کار، نیازمندیها، ساخت رزومه رایگان، کار و استخدام دولتی، اشتغال، جستجوگر حرفه ای استخدام و شغلخانهجستجوی مشاغلرزومه‌ساز۵۰ شرکت برتربخش کارفرمایانورود کارجوثبت‌نام کارجوورود کارجوثبت‌نام کارجو۱جابینجا چطور به استخدام شدن من کمک می‌کند؟مشاهدهمشاهده بیشترفلایتیو|Flightioگردشگری و هتل‌ها۲۰۱ تا ۵۰۰ نفرflightio.comدر یک نگاهمعرفیفرصت‌های شغلی۲فلایتیو کسب و کاری آنلاین در حوزه‌ی گردشگری است.موقعیت مکانیتهران، تهراناعضای شرکتنایبمدیر عاملفعالیت در کنار حرفه‌ای‌های حوزه‌ی گردشگری و تکنولوژینیکوییمدیر امور مشتریانمحور فعالیت ما برای ارتقا تجربه‌ی کاربری است چرا که مشتری اولویت اول است.حیدریپشتیبانفعالیت ما قبل و بعد از فروش ادامه دارد و شنیدن رضایت‌مندی مشتری انگیزه‌ی ادامه‌ی راه برای ما است.حفظ و احترام به حقوق مشتری از اصول اولیه‌ی فرهنگ سازمانی فلایتیو است.کارجویانسوالات متداول کارجویان\n",
      "\n"
     ]
    },
    {
     "name": "stderr",
     "output_type": "stream",
     "text": [
      "C:\\Users\\negin\\anaconda3\\Lib\\site-packages\\urllib3\\connectionpool.py:1099: InsecureRequestWarning: Unverified HTTPS request is being made to host 'jobinja.ir'. Adding certificate verification is strongly advised. See: https://urllib3.readthedocs.io/en/latest/advanced-usage.html#tls-warnings\n",
      "  warnings.warn(\n"
     ]
    },
    {
     "name": "stdout",
     "output_type": "stream",
     "text": [
      "URL: https://jobinja.ir/jobs?filters%5Bjob_categories%5D%5B%5D=%DA%A9%D8%A7%D8%B1%DA%AF%D8%B1+%D8%B3%D8%A7%D8%AF%D9%87%D8%8C+%D9%86%DB%8C%D8%B1%D9%88%DB%8C+%D8%AE%D8%AF%D9%85%D8%A7%D8%AA%DB%8C\n",
      "Content Snippet: فرصت های شغلی در دسته بندی کارگر ساده، نیروی خدماتی\n",
      " | جابینجاامکان جدید:همین حالا رزومه خود را در کمتر از ۱۰ دقیقه بسازید،برو به رزومه‌سازJobinja | جابینجا | استخدام، آگهی استخدام، کاریابی، استخدامی جدید، بازار کار، نیازمندیها، ساخت رزومه رایگان، کار و استخدام دولتی، اشتغال، جستجوگر حرفه ای استخدام و شغلخانهجستجوی مشاغلرزومه‌ساز۵۰ شرکت برتربخش کارفرمایانورود کارجوثبت‌نام کارجوورود کارجوثبت‌نام کارجو۱جابینجا چطور به استخدام شدن من کمک می‌کند؟مشاهدهمشاهده بیشترجستجودرخواست‌های مننشان‌شده‌هاآگهی‌های پیشنهادیاز آگهی‌های جدید باخبر شوبهترین فرصت های شغلی در جابینجاهمه‌ی استان‌هاتهرانخراسان رضویاصفهانالبرزفارسقمآذربایجان شرقیمازندرانگیلانخوزستانکرمانیزدقزوینمرکزیهرمزگانگلستانزنجانسیستان و بلوچستانبوشهرآذربایجان غربیسمنانکرمانشاههمداناردبیللرستانکردستانخراسان شمالیایلامخراسان جنوبیچهارمحال بختیاریکهکیلویه و بویراحمدهمه‌ی دسته‌بندی‌هاکارگر ساده، نیروی خدماتیفروش و بازاریابیوب،‌ برنامه‌نویسی و نرم‌افزارمالی و حسابداریمسئول دفتر، اجرائی و اداریتولید و مدیریت محتوادیجیتال مارکتینگپشتیبانی و امور\n",
      "\n",
      "An error occurred while accessing https://twitter.com/Jobinja_ir: ('Connection aborted.', ConnectionResetError(10054, 'An existing connection was forcibly closed by the remote host', None, 10054, None))\n"
     ]
    },
    {
     "name": "stderr",
     "output_type": "stream",
     "text": [
      "C:\\Users\\negin\\anaconda3\\Lib\\site-packages\\urllib3\\connectionpool.py:1099: InsecureRequestWarning: Unverified HTTPS request is being made to host 'jobinja.ir'. Adding certificate verification is strongly advised. See: https://urllib3.readthedocs.io/en/latest/advanced-usage.html#tls-warnings\n",
      "  warnings.warn(\n",
      "C:\\Users\\negin\\anaconda3\\Lib\\site-packages\\urllib3\\connectionpool.py:1099: InsecureRequestWarning: Unverified HTTPS request is being made to host 'jobinja.ir'. Adding certificate verification is strongly advised. See: https://urllib3.readthedocs.io/en/latest/advanced-usage.html#tls-warnings\n",
      "  warnings.warn(\n"
     ]
    },
    {
     "name": "stdout",
     "output_type": "stream",
     "text": [
      "URL: https://jobinja.ir/jobs?filters%5Bjob_categories%5D%5B%5D=%D8%AF%DB%8C%D8%AC%DB%8C%D8%AA%D8%A7%D9%84+%D9%85%D8%A7%D8%B1%DA%A9%D8%AA%DB%8C%D9%86%DA%AF\n",
      "Content Snippet: استخدام دیجیتال مارکتینگ | آگهی استخدام دیجیتال مارکتینگ (Digital Marketing)\n",
      " | جابینجاامکان جدید:همین حالا رزومه خود را در کمتر از ۱۰ دقیقه بسازید،برو به رزومه‌سازJobinja | جابینجا | استخدام، آگهی استخدام، کاریابی، استخدامی جدید، بازار کار، نیازمندیها، ساخت رزومه رایگان، کار و استخدام دولتی، اشتغال، جستجوگر حرفه ای استخدام و شغلخانهجستجوی مشاغلرزومه‌ساز۵۰ شرکت برتربخش کارفرمایانورود کارجوثبت‌نام کارجوورود کارجوثبت‌نام کارجو۱جابینجا چطور به استخدام شدن من کمک می‌کند؟مشاهدهمشاهده بیشترجستجودرخواست‌های مننشان‌شده‌هاآگهی‌های پیشنهادیاز آگهی‌های جدید باخبر شوبهترین فرصت های شغلی در جابینجاهمه‌ی استان‌هاتهرانخراسان رضویاصفهانالبرزفارسقمآذربایجان شرقیمازندرانگیلانخوزستانکرمانیزدقزوینمرکزیهرمزگانگلستانزنجانسیستان و بلوچستانبوشهرآذربایجان غربیسمنانکرمانشاههمداناردبیللرستانکردستانخراسان شمالیایلامخراسان جنوبیچهارمحال بختیاریکهکیلویه و بویراحمدهمه‌ی دسته‌بندی‌هادیجیتال مارکتینگفروش و بازاریابیوب،‌ برنامه‌نویسی و نرم‌افزارمالی و حسابداریمسئول دفتر، اجرائی و اداریتولید و مدیریت محتواپشتیبانی و امو\n",
      "\n"
     ]
    },
    {
     "name": "stderr",
     "output_type": "stream",
     "text": [
      "C:\\Users\\negin\\anaconda3\\Lib\\site-packages\\urllib3\\connectionpool.py:1099: InsecureRequestWarning: Unverified HTTPS request is being made to host 'jobinja.ir'. Adding certificate verification is strongly advised. See: https://urllib3.readthedocs.io/en/latest/advanced-usage.html#tls-warnings\n",
      "  warnings.warn(\n",
      "C:\\Users\\negin\\anaconda3\\Lib\\site-packages\\urllib3\\connectionpool.py:1099: InsecureRequestWarning: Unverified HTTPS request is being made to host 'jobinja.ir'. Adding certificate verification is strongly advised. See: https://urllib3.readthedocs.io/en/latest/advanced-usage.html#tls-warnings\n",
      "  warnings.warn(\n"
     ]
    },
    {
     "name": "stdout",
     "output_type": "stream",
     "text": [
      "URL: https://jobinja.ir/jobs?filters%5Blocations%5D%5B%5D=%D8%A7%D8%B1%D8%AF%D8%A8%DB%8C%D9%84\n",
      "Content Snippet: آگهی استخدام اردبیل | استخدام اردبیل | کاریابی اردبیل | جابینجا\n",
      " | جابینجاامکان جدید:همین حالا رزومه خود را در کمتر از ۱۰ دقیقه بسازید،برو به رزومه‌سازJobinja | جابینجا | استخدام، آگهی استخدام، کاریابی، استخدامی جدید، بازار کار، نیازمندیها، ساخت رزومه رایگان، کار و استخدام دولتی، اشتغال، جستجوگر حرفه ای استخدام و شغلخانهجستجوی مشاغلرزومه‌ساز۵۰ شرکت برتربخش کارفرمایانورود کارجوثبت‌نام کارجوورود کارجوثبت‌نام کارجو۱جابینجا چطور به استخدام شدن من کمک می‌کند؟مشاهدهمشاهده بیشترجستجودرخواست‌های مننشان‌شده‌هاآگهی‌های پیشنهادیاز آگهی‌های جدید باخبر شوبهترین فرصت های شغلی در جابینجاهمه‌ی استان‌هااردبیلتهرانخراسان رضویاصفهانالبرزفارسقمآذربایجان شرقیمازندرانگیلانخوزستانکرمانیزدقزوینمرکزیهرمزگانگلستانزنجانسیستان و بلوچستانبوشهرآذربایجان غربیسمنانکرمانشاههمدانلرستانکردستانخراسان شمالیایلامخراسان جنوبیچهارمحال بختیاریکهکیلویه و بویراحمدهمه‌ی دسته‌بندی‌هافروش و بازاریابیوب،‌ برنامه‌نویسی و نرم‌افزارمالی و حسابداریمسئول دفتر، اجرائی و اداریتولید و مدیریت محتوادیجیتال مارکتینگپشتیبانی و امور مشتریانطراح\n",
      "\n"
     ]
    },
    {
     "name": "stderr",
     "output_type": "stream",
     "text": [
      "C:\\Users\\negin\\anaconda3\\Lib\\site-packages\\urllib3\\connectionpool.py:1099: InsecureRequestWarning: Unverified HTTPS request is being made to host 'jobinja.ir'. Adding certificate verification is strongly advised. See: https://urllib3.readthedocs.io/en/latest/advanced-usage.html#tls-warnings\n",
      "  warnings.warn(\n",
      "C:\\Users\\negin\\anaconda3\\Lib\\site-packages\\urllib3\\connectionpool.py:1099: InsecureRequestWarning: Unverified HTTPS request is being made to host 'jobinja.ir'. Adding certificate verification is strongly advised. See: https://urllib3.readthedocs.io/en/latest/advanced-usage.html#tls-warnings\n",
      "  warnings.warn(\n"
     ]
    },
    {
     "name": "stdout",
     "output_type": "stream",
     "text": [
      "URL: https://jobinja.ir/jobs?filters%5Bjob_categories%5D%5B%5D=%D9%85%D8%AF%DB%8C%D8%B1%DB%8C%D8%AA+%D8%A8%DB%8C%D9%85%D9%87\n",
      "Content Snippet: استخدام کارشناس بیمه | آگهی استخدام بیمه | استخدام کارشناس صدور بیمه | جابینجا\n",
      " | جابینجاامکان جدید:همین حالا رزومه خود را در کمتر از ۱۰ دقیقه بسازید،برو به رزومه‌سازJobinja | جابینجا | استخدام، آگهی استخدام، کاریابی، استخدامی جدید، بازار کار، نیازمندیها، ساخت رزومه رایگان، کار و استخدام دولتی، اشتغال، جستجوگر حرفه ای استخدام و شغلخانهجستجوی مشاغلرزومه‌ساز۵۰ شرکت برتربخش کارفرمایانورود کارجوثبت‌نام کارجوورود کارجوثبت‌نام کارجو۱جابینجا چطور به استخدام شدن من کمک می‌کند؟مشاهدهمشاهده بیشترجستجودرخواست‌های مننشان‌شده‌هاآگهی‌های پیشنهادیاز آگهی‌های جدید باخبر شوبهترین فرصت های شغلی در جابینجاهمه‌ی استان‌هاتهرانخراسان رضویاصفهانالبرزفارسقمآذربایجان شرقیمازندرانگیلانخوزستانکرمانیزدقزوینمرکزیهرمزگانگلستانزنجانسیستان و بلوچستانبوشهرآذربایجان غربیسمنانکرمانشاههمداناردبیللرستانکردستانخراسان شمالیایلامخراسان جنوبیچهارمحال بختیاریکهکیلویه و بویراحمدهمه‌ی دسته‌بندی‌هامدیریت بیمهفروش و بازاریابیوب،‌ برنامه‌نویسی و نرم‌افزارمالی و حسابداریمسئول دفتر، اجرائی و اداریتولید و مدیریت محتوادیجیتال مارکتینگپ\n",
      "\n"
     ]
    },
    {
     "name": "stderr",
     "output_type": "stream",
     "text": [
      "C:\\Users\\negin\\anaconda3\\Lib\\site-packages\\urllib3\\connectionpool.py:1099: InsecureRequestWarning: Unverified HTTPS request is being made to host 'jobinja.ir'. Adding certificate verification is strongly advised. See: https://urllib3.readthedocs.io/en/latest/advanced-usage.html#tls-warnings\n",
      "  warnings.warn(\n"
     ]
    },
    {
     "name": "stdout",
     "output_type": "stream",
     "text": [
      "URL: https://jobinja.ir/companies/salem-tejarat-asia-1/jobs\n",
      "Content Snippet: فرصت‌های شغلی فعال در پیوان | Pivan | جابینجاامکان جدید:همین حالا رزومه خود را در کمتر از ۱۰ دقیقه بسازید،برو به رزومه‌سازJobinja | جابینجا | استخدام، آگهی استخدام، کاریابی، استخدامی جدید، بازار کار، نیازمندیها، ساخت رزومه رایگان، کار و استخدام دولتی، اشتغال، جستجوگر حرفه ای استخدام و شغلخانهجستجوی مشاغلرزومه‌ساز۵۰ شرکت برتربخش کارفرمایانورود کارجوثبت‌نام کارجوورود کارجوثبت‌نام کارجو۱جابینجا چطور به استخدام شدن من کمک می‌کند؟مشاهدهمشاهده بیشترپیوان|Pivanتاسیس در  ۱۳۸۹واردات و صادرات۵۱ تا ۲۰۰ نفرpivan.co/در یک نگاهمعرفیفرصت‌های شغلی۷معرفی پیوانشرکت پیوان ثمره پنج دهه فعالیت مستمر بر دو اصل مشتری‌مداری و تعهد صادقانه در صنعت ایران است. ریشه‌های ما در خاکِ بازار آهن و فولاد قوام گرفته‌اند و حالا، شاخ و برگ‌هایمان با حضور متخصصان جوان و کاربلد در عرصه فروش آنلاین، بار داده است.در همه این سال‌ها، هدف ما رفع نیاز صنایع داخلی به کالای باکیفیت بوده است. ما در راستای این هدف به‌عنوان بازرگانِ آهن و فولاد همواره برای داشتن ثبات قیمت و سبد تخصصی کالا تلاش کرده‌ایم. مشاوران متخصص و کارآزموده ما در\n",
      "\n"
     ]
    },
    {
     "name": "stderr",
     "output_type": "stream",
     "text": [
      "C:\\Users\\negin\\anaconda3\\Lib\\site-packages\\urllib3\\connectionpool.py:1099: InsecureRequestWarning: Unverified HTTPS request is being made to host 'jobinja.ir'. Adding certificate verification is strongly advised. See: https://urllib3.readthedocs.io/en/latest/advanced-usage.html#tls-warnings\n",
      "  warnings.warn(\n"
     ]
    },
    {
     "name": "stdout",
     "output_type": "stream",
     "text": [
      "URL: https://jobinja.ir/companies/amoot\n",
      "Content Snippet: استخدام در شرکت نرم افزاری آموت، آگهی های استخدام Amoot Software | جابینجاامکان جدید:همین حالا رزومه خود را در کمتر از ۱۰ دقیقه بسازید،برو به رزومه‌سازJobinja | جابینجا | استخدام، آگهی استخدام، کاریابی، استخدامی جدید، بازار کار، نیازمندیها، ساخت رزومه رایگان، کار و استخدام دولتی، اشتغال، جستجوگر حرفه ای استخدام و شغلخانهجستجوی مشاغلرزومه‌ساز۵۰ شرکت برتربخش کارفرمایانورود کارجوثبت‌نام کارجوورود کارجوثبت‌نام کارجو۱جابینجا چطور به استخدام شدن من کمک می‌کند؟مشاهدهمشاهده بیشترنرم افزاری آموت|Amoot Softwareتاسیس در  ۱۳۸۵کامپیوتر، فناوری اطلاعات و اینترنت۵۱ تا ۲۰۰ نفرwww.amootsoft.com/در یک نگاهمعرفیفرصت‌های شغلی۴۲آموت در سال 1386 با هدف ارائه‌ی خدمات communication و Telecommunication کار خود را آغاز کرد و سهم بزرگی در این بازار بدست آورد.موقعیت مکانیخراسان رضوی، مشهداعضای شرکتیوسف مذهبمدیر عاملما آموت را باهم ساخته‌ایم و رمز موفقیت‌مان در تشکیل تیم‌های خلاق و میدان دادن به آنهاستزکیه نسیمیکارشناس منابع انسانی و آموزشدر آموت، آموختن هرگز متوقف نمی‌شود.برای ما موفقیت مقصد نهایی نیست، بلکه پیمو\n",
      "\n"
     ]
    },
    {
     "name": "stderr",
     "output_type": "stream",
     "text": [
      "C:\\Users\\negin\\anaconda3\\Lib\\site-packages\\urllib3\\connectionpool.py:1099: InsecureRequestWarning: Unverified HTTPS request is being made to host 'jobinja.ir'. Adding certificate verification is strongly advised. See: https://urllib3.readthedocs.io/en/latest/advanced-usage.html#tls-warnings\n",
      "  warnings.warn(\n"
     ]
    },
    {
     "name": "stdout",
     "output_type": "stream",
     "text": [
      "URL: https://jobinja.ir/jobs?filters%5Bkeywords%5D%5B0%5D=%D8%AA%D8%A7%DB%8C%D9%BE\n",
      "Content Snippet: فرصت های شغلی تایپ\n",
      " | جابینجاامکان جدید:همین حالا رزومه خود را در کمتر از ۱۰ دقیقه بسازید،برو به رزومه‌سازJobinja | جابینجا | استخدام، آگهی استخدام، کاریابی، استخدامی جدید، بازار کار، نیازمندیها، ساخت رزومه رایگان، کار و استخدام دولتی، اشتغال، جستجوگر حرفه ای استخدام و شغلخانهجستجوی مشاغلرزومه‌ساز۵۰ شرکت برتربخش کارفرمایانورود کارجوثبت‌نام کارجوورود کارجوثبت‌نام کارجو۱جابینجا چطور به استخدام شدن من کمک می‌کند؟مشاهدهمشاهده بیشترجستجودرخواست‌های مننشان‌شده‌هاآگهی‌های پیشنهادیاز آگهی‌های جدید باخبر شوبهترین فرصت های شغلی در جابینجاهمه‌ی استان‌هاتهرانخراسان رضویاصفهانالبرزفارسقمآذربایجان شرقیمازندرانگیلانخوزستانکرمانیزدقزوینمرکزیهرمزگانگلستانزنجانسیستان و بلوچستانبوشهرآذربایجان غربیسمنانکرمانشاههمداناردبیللرستانکردستانخراسان شمالیایلامخراسان جنوبیچهارمحال بختیاریکهکیلویه و بویراحمدهمه‌ی دسته‌بندی‌هافروش و بازاریابیوب،‌ برنامه‌نویسی و نرم‌افزارمالی و حسابداریمسئول دفتر، اجرائی و اداریتولید و مدیریت محتوادیجیتال مارکتینگپشتیبانی و امور مشتریانطراحیIT / DevOps / Serverمهندسی صنایع و مدیریت صن\n",
      "\n"
     ]
    },
    {
     "name": "stderr",
     "output_type": "stream",
     "text": [
      "C:\\Users\\negin\\anaconda3\\Lib\\site-packages\\urllib3\\connectionpool.py:1099: InsecureRequestWarning: Unverified HTTPS request is being made to host 'jobinja.ir'. Adding certificate verification is strongly advised. See: https://urllib3.readthedocs.io/en/latest/advanced-usage.html#tls-warnings\n",
      "  warnings.warn(\n"
     ]
    },
    {
     "name": "stdout",
     "output_type": "stream",
     "text": [
      "URL: https://jobinja.ir/jobs?filters%5Bkeywords%5D%5B0%5D=%D8%A7%D8%AF%D8%A7%D8%B1%DB%8C\n",
      "Content Snippet: فرصت های شغلی اداری\n",
      " | جابینجاامکان جدید:همین حالا رزومه خود را در کمتر از ۱۰ دقیقه بسازید،برو به رزومه‌سازJobinja | جابینجا | استخدام، آگهی استخدام، کاریابی، استخدامی جدید، بازار کار، نیازمندیها، ساخت رزومه رایگان، کار و استخدام دولتی، اشتغال، جستجوگر حرفه ای استخدام و شغلخانهجستجوی مشاغلرزومه‌ساز۵۰ شرکت برتربخش کارفرمایانورود کارجوثبت‌نام کارجوورود کارجوثبت‌نام کارجو۱جابینجا چطور به استخدام شدن من کمک می‌کند؟مشاهدهمشاهده بیشترجستجودرخواست‌های مننشان‌شده‌هاآگهی‌های پیشنهادیاز آگهی‌های جدید باخبر شوبهترین فرصت های شغلی در جابینجاهمه‌ی استان‌هاتهرانخراسان رضویاصفهانالبرزفارسقمآذربایجان شرقیمازندرانگیلانخوزستانکرمانیزدقزوینمرکزیهرمزگانگلستانزنجانسیستان و بلوچستانبوشهرآذربایجان غربیسمنانکرمانشاههمداناردبیللرستانکردستانخراسان شمالیایلامخراسان جنوبیچهارمحال بختیاریکهکیلویه و بویراحمدهمه‌ی دسته‌بندی‌هافروش و بازاریابیوب،‌ برنامه‌نویسی و نرم‌افزارمالی و حسابداریمسئول دفتر، اجرائی و اداریتولید و مدیریت محتوادیجیتال مارکتینگپشتیبانی و امور مشتریانطراحیIT / DevOps / Serverمهندسی صنایع و مدیریت ص\n",
      "\n"
     ]
    },
    {
     "name": "stderr",
     "output_type": "stream",
     "text": [
      "C:\\Users\\negin\\anaconda3\\Lib\\site-packages\\urllib3\\connectionpool.py:1099: InsecureRequestWarning: Unverified HTTPS request is being made to host 'jobinja.ir'. Adding certificate verification is strongly advised. See: https://urllib3.readthedocs.io/en/latest/advanced-usage.html#tls-warnings\n",
      "  warnings.warn(\n"
     ]
    },
    {
     "name": "stdout",
     "output_type": "stream",
     "text": [
      "URL: https://jobinja.ir/jobs?filters%5Bkeywords%5D%5B0%5D=%D8%A8%D8%B1%D9%86%D8%A7%D9%85%D9%87+%D9%86%D9%88%DB%8C%D8%B3%DB%8C\n",
      "Content Snippet: فرصت های شغلی برنامه نویسی\n",
      " | جابینجاامکان جدید:همین حالا رزومه خود را در کمتر از ۱۰ دقیقه بسازید،برو به رزومه‌سازJobinja | جابینجا | استخدام، آگهی استخدام، کاریابی، استخدامی جدید، بازار کار، نیازمندیها، ساخت رزومه رایگان، کار و استخدام دولتی، اشتغال، جستجوگر حرفه ای استخدام و شغلخانهجستجوی مشاغلرزومه‌ساز۵۰ شرکت برتربخش کارفرمایانورود کارجوثبت‌نام کارجوورود کارجوثبت‌نام کارجو۱جابینجا چطور به استخدام شدن من کمک می‌کند؟مشاهدهمشاهده بیشترجستجودرخواست‌های مننشان‌شده‌هاآگهی‌های پیشنهادیاز آگهی‌های جدید باخبر شوبهترین فرصت های شغلی در جابینجاهمه‌ی استان‌هاتهرانخراسان رضویاصفهانالبرزفارسقمآذربایجان شرقیمازندرانگیلانخوزستانکرمانیزدقزوینمرکزیهرمزگانگلستانزنجانسیستان و بلوچستانبوشهرآذربایجان غربیسمنانکرمانشاههمداناردبیللرستانکردستانخراسان شمالیایلامخراسان جنوبیچهارمحال بختیاریکهکیلویه و بویراحمدهمه‌ی دسته‌بندی‌هافروش و بازاریابیوب،‌ برنامه‌نویسی و نرم‌افزارمالی و حسابداریمسئول دفتر، اجرائی و اداریتولید و مدیریت محتوادیجیتال مارکتینگپشتیبانی و امور مشتریانطراحیIT / DevOps / Serverمهندسی صنایع و م\n",
      "\n"
     ]
    },
    {
     "name": "stderr",
     "output_type": "stream",
     "text": [
      "C:\\Users\\negin\\anaconda3\\Lib\\site-packages\\urllib3\\connectionpool.py:1099: InsecureRequestWarning: Unverified HTTPS request is being made to host 'jobinja.ir'. Adding certificate verification is strongly advised. See: https://urllib3.readthedocs.io/en/latest/advanced-usage.html#tls-warnings\n",
      "  warnings.warn(\n"
     ]
    },
    {
     "name": "stdout",
     "output_type": "stream",
     "text": [
      "URL: https://jobinja.ir/jobs?filters%5Bkeywords%5D%5B0%5D=%D8%AF%D9%88%D8%B1%DA%A9%D8%A7%D8%B1%DB%8C\n",
      "Content Snippet: فرصت های شغلی دورکاری\n",
      " | جابینجاامکان جدید:همین حالا رزومه خود را در کمتر از ۱۰ دقیقه بسازید،برو به رزومه‌سازJobinja | جابینجا | استخدام، آگهی استخدام، کاریابی، استخدامی جدید، بازار کار، نیازمندیها، ساخت رزومه رایگان، کار و استخدام دولتی، اشتغال، جستجوگر حرفه ای استخدام و شغلخانهجستجوی مشاغلرزومه‌ساز۵۰ شرکت برتربخش کارفرمایانورود کارجوثبت‌نام کارجوورود کارجوثبت‌نام کارجو۱جابینجا چطور به استخدام شدن من کمک می‌کند؟مشاهدهمشاهده بیشترجستجودرخواست‌های مننشان‌شده‌هاآگهی‌های پیشنهادیاز آگهی‌های جدید باخبر شوبهترین فرصت های شغلی در جابینجاهمه‌ی استان‌هاتهرانخراسان رضویاصفهانالبرزفارسقمآذربایجان شرقیمازندرانگیلانخوزستانکرمانیزدقزوینمرکزیهرمزگانگلستانزنجانسیستان و بلوچستانبوشهرآذربایجان غربیسمنانکرمانشاههمداناردبیللرستانکردستانخراسان شمالیایلامخراسان جنوبیچهارمحال بختیاریکهکیلویه و بویراحمدهمه‌ی دسته‌بندی‌هافروش و بازاریابیوب،‌ برنامه‌نویسی و نرم‌افزارمالی و حسابداریمسئول دفتر، اجرائی و اداریتولید و مدیریت محتوادیجیتال مارکتینگپشتیبانی و امور مشتریانطراحیIT / DevOps / Serverمهندسی صنایع و مدیریت\n",
      "\n"
     ]
    },
    {
     "name": "stderr",
     "output_type": "stream",
     "text": [
      "C:\\Users\\negin\\anaconda3\\Lib\\site-packages\\urllib3\\connectionpool.py:1099: InsecureRequestWarning: Unverified HTTPS request is being made to host 'jobinja.ir'. Adding certificate verification is strongly advised. See: https://urllib3.readthedocs.io/en/latest/advanced-usage.html#tls-warnings\n",
      "  warnings.warn(\n"
     ]
    },
    {
     "name": "stdout",
     "output_type": "stream",
     "text": [
      "URL: https://jobinja.ir/jobs?filters%5Bkeywords%5D%5B0%5D=%D9%85%D9%86%D8%A7%D8%A8%D8%B9+%D8%A7%D9%86%D8%B3%D8%A7%D9%86%DB%8C\n",
      "Content Snippet: فرصت های شغلی منابع انسانی\n",
      " | جابینجاامکان جدید:همین حالا رزومه خود را در کمتر از ۱۰ دقیقه بسازید،برو به رزومه‌سازJobinja | جابینجا | استخدام، آگهی استخدام، کاریابی، استخدامی جدید، بازار کار، نیازمندیها، ساخت رزومه رایگان، کار و استخدام دولتی، اشتغال، جستجوگر حرفه ای استخدام و شغلخانهجستجوی مشاغلرزومه‌ساز۵۰ شرکت برتربخش کارفرمایانورود کارجوثبت‌نام کارجوورود کارجوثبت‌نام کارجو۱جابینجا چطور به استخدام شدن من کمک می‌کند؟مشاهدهمشاهده بیشترجستجودرخواست‌های مننشان‌شده‌هاآگهی‌های پیشنهادیاز آگهی‌های جدید باخبر شوبهترین فرصت های شغلی در جابینجاهمه‌ی استان‌هاتهرانخراسان رضویاصفهانالبرزفارسقمآذربایجان شرقیمازندرانگیلانخوزستانکرمانیزدقزوینمرکزیهرمزگانگلستانزنجانسیستان و بلوچستانبوشهرآذربایجان غربیسمنانکرمانشاههمداناردبیللرستانکردستانخراسان شمالیایلامخراسان جنوبیچهارمحال بختیاریکهکیلویه و بویراحمدهمه‌ی دسته‌بندی‌هافروش و بازاریابیوب،‌ برنامه‌نویسی و نرم‌افزارمالی و حسابداریمسئول دفتر، اجرائی و اداریتولید و مدیریت محتوادیجیتال مارکتینگپشتیبانی و امور مشتریانطراحیIT / DevOps / Serverمهندسی صنایع و م\n",
      "\n"
     ]
    },
    {
     "name": "stderr",
     "output_type": "stream",
     "text": [
      "C:\\Users\\negin\\anaconda3\\Lib\\site-packages\\urllib3\\connectionpool.py:1099: InsecureRequestWarning: Unverified HTTPS request is being made to host 'jobinja.ir'. Adding certificate verification is strongly advised. See: https://urllib3.readthedocs.io/en/latest/advanced-usage.html#tls-warnings\n",
      "  warnings.warn(\n"
     ]
    },
    {
     "name": "stdout",
     "output_type": "stream",
     "text": [
      "URL: https://jobinja.ir/companies/zarinpal/jobs\n",
      "Content Snippet: فرصت‌های شغلی فعال در زرین‌پال | ZarinPal | جابینجاامکان جدید:همین حالا رزومه خود را در کمتر از ۱۰ دقیقه بسازید،برو به رزومه‌سازJobinja | جابینجا | استخدام، آگهی استخدام، کاریابی، استخدامی جدید، بازار کار، نیازمندیها، ساخت رزومه رایگان، کار و استخدام دولتی، اشتغال، جستجوگر حرفه ای استخدام و شغلخانهجستجوی مشاغلرزومه‌ساز۵۰ شرکت برتربخش کارفرمایانورود کارجوثبت‌نام کارجوورود کارجوثبت‌نام کارجو۱جابینجا چطور به استخدام شدن من کمک می‌کند؟مشاهدهمشاهده بیشترزرین‌پال|ZarinPalتاسیس در  ۱۳۸۹کامپیوتر، فناوری اطلاعات و اینترنت۵۱ تا ۲۰۰ نفرwww.zarinpal.comدر یک نگاهمعرفیفرصت‌های شغلی۱۶معرفی زرین‌پالزرین‌پال، اولین پرداخت‌یار پیشگامِ کشور است که با سبک و استانداردهای جدید، برترین سرویس‌های پرداخت الکترونیک را برای کسب‌وکارهای آنلاین و آفلاین ارائه کرده است. ما هر روزه، میلیاردها تومان را در بستر وبِ کشور، بدون کوچک‌‌ترین خطایی به گردش در‌می‌آوریم. هدف ما در زرین‌پال، افزایش سهم تجارت الکترونیک در تولید ناخالص ملی و کمک به رشد و توسعه‌ی کسب‌وکارهاست، و قصد داریم در این مسیر، با افراد پُرانرژی و کارآمد \n",
      "\n"
     ]
    },
    {
     "name": "stderr",
     "output_type": "stream",
     "text": [
      "C:\\Users\\negin\\anaconda3\\Lib\\site-packages\\urllib3\\connectionpool.py:1099: InsecureRequestWarning: Unverified HTTPS request is being made to host 'jobinja.ir'. Adding certificate verification is strongly advised. See: https://urllib3.readthedocs.io/en/latest/advanced-usage.html#tls-warnings\n",
      "  warnings.warn(\n",
      "C:\\Users\\negin\\anaconda3\\Lib\\site-packages\\urllib3\\connectionpool.py:1099: InsecureRequestWarning: Unverified HTTPS request is being made to host 'jobinja.ir'. Adding certificate verification is strongly advised. See: https://urllib3.readthedocs.io/en/latest/advanced-usage.html#tls-warnings\n",
      "  warnings.warn(\n"
     ]
    },
    {
     "name": "stdout",
     "output_type": "stream",
     "text": [
      "URL: https://jobinja.ir/jobs?filters%5Blocations%5D%5B%5D=%D9%85%D8%B1%DA%A9%D8%B2%DB%8C\n",
      "Content Snippet: آگهی استخدام مرکزی | استخدام مرکزی | کاریابی مرکزی\n",
      " | جابینجاامکان جدید:همین حالا رزومه خود را در کمتر از ۱۰ دقیقه بسازید،برو به رزومه‌سازJobinja | جابینجا | استخدام، آگهی استخدام، کاریابی، استخدامی جدید، بازار کار، نیازمندیها، ساخت رزومه رایگان، کار و استخدام دولتی، اشتغال، جستجوگر حرفه ای استخدام و شغلخانهجستجوی مشاغلرزومه‌ساز۵۰ شرکت برتربخش کارفرمایانورود کارجوثبت‌نام کارجوورود کارجوثبت‌نام کارجو۱جابینجا چطور به استخدام شدن من کمک می‌کند؟مشاهدهمشاهده بیشترجستجودرخواست‌های مننشان‌شده‌هاآگهی‌های پیشنهادیاز آگهی‌های جدید باخبر شوبهترین فرصت های شغلی در جابینجاهمه‌ی استان‌هامرکزیتهرانخراسان رضویاصفهانالبرزفارسقمآذربایجان شرقیمازندرانگیلانخوزستانکرمانیزدقزوینهرمزگانگلستانزنجانسیستان و بلوچستانبوشهرآذربایجان غربیسمنانکرمانشاههمداناردبیللرستانکردستانخراسان شمالیایلامخراسان جنوبیچهارمحال بختیاریکهکیلویه و بویراحمدهمه‌ی دسته‌بندی‌هافروش و بازاریابیوب،‌ برنامه‌نویسی و نرم‌افزارمالی و حسابداریمسئول دفتر، اجرائی و اداریتولید و مدیریت محتوادیجیتال مارکتینگپشتیبانی و امور مشتریانطراحیIT / DevOps \n",
      "\n"
     ]
    },
    {
     "name": "stderr",
     "output_type": "stream",
     "text": [
      "C:\\Users\\negin\\anaconda3\\Lib\\site-packages\\urllib3\\connectionpool.py:1099: InsecureRequestWarning: Unverified HTTPS request is being made to host 'jobinja.ir'. Adding certificate verification is strongly advised. See: https://urllib3.readthedocs.io/en/latest/advanced-usage.html#tls-warnings\n",
      "  warnings.warn(\n"
     ]
    },
    {
     "name": "stdout",
     "output_type": "stream",
     "text": [
      "URL: https://jobinja.ir/companies/doornian-teb-group/jobs/AmyP/%D8%A7%D8%B3%D8%AA%D8%AE%D8%AF%D8%A7%D9%85-%DA%A9%D8%A7%D8%B1%D8%B4%D9%86%D8%A7%D8%B3-%D8%A2%D8%B2%D9%85%D8%A7%DB%8C%D8%B4%DA%AF%D8%A7%D9%87-%D8%AA%D8%B4%D8%AE%DB%8C%D8%B5-%D8%B7%D8%A8%DB%8C-%D8%AF%D8%B1-%DA%AF%D8%B1%D9%88%D9%87-%D9%BE%D8%B2%D8%B4%DA%A9%DB%8C-%D8%AF%D8%B1%D9%86%DB%8C%D8%A7%D9%86-%D8%B7%D8%A8?_ref=18\n",
      "Content Snippet: استخدام کارشناس آزمایشگاه (تشخیص طبی) در گروه پزشکی درنیان طب | جابینجاامکان جدید:همین حالا رزومه خود را در کمتر از ۱۰ دقیقه بسازید،برو به رزومه‌سازJobinja | جابینجا | استخدام، آگهی استخدام، کاریابی، استخدامی جدید، بازار کار، نیازمندیها، ساخت رزومه رایگان، کار و استخدام دولتی، اشتغال، جستجوگر حرفه ای استخدام و شغلخانهجستجوی مشاغلرزومه‌ساز۵۰ شرکت برتربخش کارفرمایانورود کارجوثبت‌نام کارجوورود کارجوثبت‌نام کارجو۱جابینجا چطور به استخدام شدن من کمک می‌کند؟مشاهدهمشاهده بیشترگروه پزشکی درنیان طب|Doornian Teb Groupخدمات درمانی، پزشکی و سلامت۵۱ تا ۲۰۰ نفرwww.doornian.irفرصت‌های شغلی۳استخدام کارشناس آزمایشگاه (تشخیص طبی)لطفا برای مشاهده‌ی جزییات و ارسال رزومهیکی از راه‌های زیر را انتخاب کنیدورود / ثبت‌نام با ایمیلimage/svg+xmlbtn_google_light_normal_iosbtn_google_light_normal_iosCreated with Sketch.ورود / ثبت‌نام با گوگل\n",
      "                    (Gmail)ورود / ثبت‌نام با لینکدیناستخدام کارشناس آزمایشگاه (تشخیص طبی){{ tooltipText }}{{ hoverTitle }}نشان کردنحذف نشاندسته‌بندی شغلیعلوم زیستی و آزمایشگاهیم\n",
      "\n"
     ]
    },
    {
     "name": "stderr",
     "output_type": "stream",
     "text": [
      "C:\\Users\\negin\\anaconda3\\Lib\\site-packages\\urllib3\\connectionpool.py:1099: InsecureRequestWarning: Unverified HTTPS request is being made to host 'jobinja.ir'. Adding certificate verification is strongly advised. See: https://urllib3.readthedocs.io/en/latest/advanced-usage.html#tls-warnings\n",
      "  warnings.warn(\n"
     ]
    },
    {
     "name": "stdout",
     "output_type": "stream",
     "text": [
      "URL: https://jobinja.ir/jobs?filters%5Bkeywords%5D%5B0%5D=%D9%85%D8%AF%DB%8C%D8%B1\n",
      "Content Snippet: فرصت های شغلی مدیر\n",
      " | جابینجاامکان جدید:همین حالا رزومه خود را در کمتر از ۱۰ دقیقه بسازید،برو به رزومه‌سازJobinja | جابینجا | استخدام، آگهی استخدام، کاریابی، استخدامی جدید، بازار کار، نیازمندیها، ساخت رزومه رایگان، کار و استخدام دولتی، اشتغال، جستجوگر حرفه ای استخدام و شغلخانهجستجوی مشاغلرزومه‌ساز۵۰ شرکت برتربخش کارفرمایانورود کارجوثبت‌نام کارجوورود کارجوثبت‌نام کارجو۱جابینجا چطور به استخدام شدن من کمک می‌کند؟مشاهدهمشاهده بیشترجستجودرخواست‌های مننشان‌شده‌هاآگهی‌های پیشنهادیاز آگهی‌های جدید باخبر شوبهترین فرصت های شغلی در جابینجاهمه‌ی استان‌هاتهرانخراسان رضویاصفهانالبرزفارسقمآذربایجان شرقیمازندرانگیلانخوزستانکرمانیزدقزوینمرکزیهرمزگانگلستانزنجانسیستان و بلوچستانبوشهرآذربایجان غربیسمنانکرمانشاههمداناردبیللرستانکردستانخراسان شمالیایلامخراسان جنوبیچهارمحال بختیاریکهکیلویه و بویراحمدهمه‌ی دسته‌بندی‌هافروش و بازاریابیوب،‌ برنامه‌نویسی و نرم‌افزارمالی و حسابداریمسئول دفتر، اجرائی و اداریتولید و مدیریت محتوادیجیتال مارکتینگپشتیبانی و امور مشتریانطراحیIT / DevOps / Serverمهندسی صنایع و مدیریت صن\n",
      "\n"
     ]
    },
    {
     "name": "stderr",
     "output_type": "stream",
     "text": [
      "C:\\Users\\negin\\anaconda3\\Lib\\site-packages\\urllib3\\connectionpool.py:1099: InsecureRequestWarning: Unverified HTTPS request is being made to host 'jobinja.ir'. Adding certificate verification is strongly advised. See: https://urllib3.readthedocs.io/en/latest/advanced-usage.html#tls-warnings\n",
      "  warnings.warn(\n",
      "C:\\Users\\negin\\anaconda3\\Lib\\site-packages\\urllib3\\connectionpool.py:1099: InsecureRequestWarning: Unverified HTTPS request is being made to host 'jobinja.ir'. Adding certificate verification is strongly advised. See: https://urllib3.readthedocs.io/en/latest/advanced-usage.html#tls-warnings\n",
      "  warnings.warn(\n"
     ]
    },
    {
     "name": "stdout",
     "output_type": "stream",
     "text": [
      "URL: https://jobinja.ir/jobs?filters%5Bjob_categories%5D%5B%5D=%D8%AA%D9%88%D9%84%DB%8C%D8%AF+%D9%88+%D9%85%D8%AF%DB%8C%D8%B1%DB%8C%D8%AA+%D9%85%D8%AD%D8%AA%D9%88%D8%A7\n",
      "Content Snippet: استخدام تولید کننده و مدیر محتوا\n",
      " | جابینجاامکان جدید:همین حالا رزومه خود را در کمتر از ۱۰ دقیقه بسازید،برو به رزومه‌سازJobinja | جابینجا | استخدام، آگهی استخدام، کاریابی، استخدامی جدید، بازار کار، نیازمندیها، ساخت رزومه رایگان، کار و استخدام دولتی، اشتغال، جستجوگر حرفه ای استخدام و شغلخانهجستجوی مشاغلرزومه‌ساز۵۰ شرکت برتربخش کارفرمایانورود کارجوثبت‌نام کارجوورود کارجوثبت‌نام کارجو۱جابینجا چطور به استخدام شدن من کمک می‌کند؟مشاهدهمشاهده بیشترجستجودرخواست‌های مننشان‌شده‌هاآگهی‌های پیشنهادیاز آگهی‌های جدید باخبر شوبهترین فرصت های شغلی در جابینجاهمه‌ی استان‌هاتهرانخراسان رضویاصفهانالبرزفارسقمآذربایجان شرقیمازندرانگیلانخوزستانکرمانیزدقزوینمرکزیهرمزگانگلستانزنجانسیستان و بلوچستانبوشهرآذربایجان غربیسمنانکرمانشاههمداناردبیللرستانکردستانخراسان شمالیایلامخراسان جنوبیچهارمحال بختیاریکهکیلویه و بویراحمدهمه‌ی دسته‌بندی‌هاتولید و مدیریت محتوافروش و بازاریابیوب،‌ برنامه‌نویسی و نرم‌افزارمالی و حسابداریمسئول دفتر، اجرائی و اداریدیجیتال مارکتینگپشتیبانی و امور مشتریانطراحیIT / DevOps / Serverمهندسی صنا\n",
      "\n"
     ]
    },
    {
     "name": "stderr",
     "output_type": "stream",
     "text": [
      "C:\\Users\\negin\\anaconda3\\Lib\\site-packages\\urllib3\\connectionpool.py:1099: InsecureRequestWarning: Unverified HTTPS request is being made to host 'jobinja.ir'. Adding certificate verification is strongly advised. See: https://urllib3.readthedocs.io/en/latest/advanced-usage.html#tls-warnings\n",
      "  warnings.warn(\n",
      "C:\\Users\\negin\\anaconda3\\Lib\\site-packages\\urllib3\\connectionpool.py:1099: InsecureRequestWarning: Unverified HTTPS request is being made to host 'jobinja.ir'. Adding certificate verification is strongly advised. See: https://urllib3.readthedocs.io/en/latest/advanced-usage.html#tls-warnings\n",
      "  warnings.warn(\n"
     ]
    },
    {
     "name": "stdout",
     "output_type": "stream",
     "text": [
      "URL: https://jobinja.ir/jobs?filters%5Bjob_categories%5D%5B%5D=CEO\n",
      "Content Snippet: استخدام مدیر عامل | استخدام CEO | استخدام مدیر کارخانه\n",
      " | جابینجاامکان جدید:همین حالا رزومه خود را در کمتر از ۱۰ دقیقه بسازید،برو به رزومه‌سازJobinja | جابینجا | استخدام، آگهی استخدام، کاریابی، استخدامی جدید، بازار کار، نیازمندیها، ساخت رزومه رایگان، کار و استخدام دولتی، اشتغال، جستجوگر حرفه ای استخدام و شغلخانهجستجوی مشاغلرزومه‌ساز۵۰ شرکت برتربخش کارفرمایانورود کارجوثبت‌نام کارجوورود کارجوثبت‌نام کارجو۱جابینجا چطور به استخدام شدن من کمک می‌کند؟مشاهدهمشاهده بیشترجستجودرخواست‌های مننشان‌شده‌هاآگهی‌های پیشنهادیاز آگهی‌های جدید باخبر شوبهترین فرصت های شغلی در جابینجاهمه‌ی استان‌هاتهرانخراسان رضویاصفهانالبرزفارسقمآذربایجان شرقیمازندرانگیلانخوزستانکرمانیزدقزوینمرکزیهرمزگانگلستانزنجانسیستان و بلوچستانبوشهرآذربایجان غربیسمنانکرمانشاههمداناردبیللرستانکردستانخراسان شمالیایلامخراسان جنوبیچهارمحال بختیاریکهکیلویه و بویراحمدهمه‌ی دسته‌بندی‌هاCEOفروش و بازاریابیوب،‌ برنامه‌نویسی و نرم‌افزارمالی و حسابداریمسئول دفتر، اجرائی و اداریتولید و مدیریت محتوادیجیتال مارکتینگپشتیبانی و امور مشتریانطراحیIT / \n",
      "\n"
     ]
    },
    {
     "name": "stderr",
     "output_type": "stream",
     "text": [
      "C:\\Users\\negin\\anaconda3\\Lib\\site-packages\\urllib3\\connectionpool.py:1099: InsecureRequestWarning: Unverified HTTPS request is being made to host 'www.linkedin.com'. Adding certificate verification is strongly advised. See: https://urllib3.readthedocs.io/en/latest/advanced-usage.html#tls-warnings\n",
      "  warnings.warn(\n"
     ]
    },
    {
     "name": "stdout",
     "output_type": "stream",
     "text": [
      "An error occurred while accessing https://www.linkedin.com/company/10081041: 403 Client Error: Forbidden for url: https://www.linkedin.com/company/10081041\n"
     ]
    },
    {
     "name": "stderr",
     "output_type": "stream",
     "text": [
      "C:\\Users\\negin\\anaconda3\\Lib\\site-packages\\urllib3\\connectionpool.py:1099: InsecureRequestWarning: Unverified HTTPS request is being made to host 'jobinja.ir'. Adding certificate verification is strongly advised. See: https://urllib3.readthedocs.io/en/latest/advanced-usage.html#tls-warnings\n",
      "  warnings.warn(\n"
     ]
    },
    {
     "name": "stdout",
     "output_type": "stream",
     "text": [
      "URL: https://jobinja.ir/jobs?filters%5Bkeywords%5D%5B0%5D=%D8%AA%D8%A7%DB%8C%D9%BE%DB%8C%D8%B3%D8%AA\n",
      "Content Snippet: فرصت های شغلی تایپیست\n",
      " | جابینجاامکان جدید:همین حالا رزومه خود را در کمتر از ۱۰ دقیقه بسازید،برو به رزومه‌سازJobinja | جابینجا | استخدام، آگهی استخدام، کاریابی، استخدامی جدید، بازار کار، نیازمندیها، ساخت رزومه رایگان، کار و استخدام دولتی، اشتغال، جستجوگر حرفه ای استخدام و شغلخانهجستجوی مشاغلرزومه‌ساز۵۰ شرکت برتربخش کارفرمایانورود کارجوثبت‌نام کارجوورود کارجوثبت‌نام کارجو۱جابینجا چطور به استخدام شدن من کمک می‌کند؟مشاهدهمشاهده بیشترجستجودرخواست‌های مننشان‌شده‌هاآگهی‌های پیشنهادیاز آگهی‌های جدید باخبر شوبهترین فرصت های شغلی در جابینجاهمه‌ی استان‌هاتهرانخراسان رضویاصفهانالبرزفارسقمآذربایجان شرقیمازندرانگیلانخوزستانکرمانیزدقزوینمرکزیهرمزگانگلستانزنجانسیستان و بلوچستانبوشهرآذربایجان غربیسمنانکرمانشاههمداناردبیللرستانکردستانخراسان شمالیایلامخراسان جنوبیچهارمحال بختیاریکهکیلویه و بویراحمدهمه‌ی دسته‌بندی‌هافروش و بازاریابیوب،‌ برنامه‌نویسی و نرم‌افزارمالی و حسابداریمسئول دفتر، اجرائی و اداریتولید و مدیریت محتوادیجیتال مارکتینگپشتیبانی و امور مشتریانطراحیIT / DevOps / Serverمهندسی صنایع و مدیریت\n",
      "\n"
     ]
    },
    {
     "name": "stderr",
     "output_type": "stream",
     "text": [
      "C:\\Users\\negin\\anaconda3\\Lib\\site-packages\\urllib3\\connectionpool.py:1099: InsecureRequestWarning: Unverified HTTPS request is being made to host 'jobinja.ir'. Adding certificate verification is strongly advised. See: https://urllib3.readthedocs.io/en/latest/advanced-usage.html#tls-warnings\n",
      "  warnings.warn(\n"
     ]
    },
    {
     "name": "stdout",
     "output_type": "stream",
     "text": [
      "URL: https://jobinja.ir/employer\n",
      "Content Snippet: جذب نیرو | ثبت آگهی استخدام | جابینجاخانهتعرفه‌هابخش کارجویانورود کارفرماثبت نام کارفرماخانهتعرفه‌هاورود کارفرماثبت نام کارفرمابخش کارجویان|ورود کارفرما|ثبت نام کارفرماسریع‌ترین و به‌صرفه‌ترین ابزار استخدامبا درج آگهی استخدام در جابینجا، همین امروز فرصت شغلی شرکت خود را به متخصصان ایرانی اطلاع‌رسانی کنید.٪۶۰تخفیفدرج آگهی استخدامانتشار اولین آگهی با ۶۰٪ تخفیف - ۹۰ هزار تومانانتشار در فهرست فرصت‌های شغلیآگهی شما  ۶۰ روز در فهرست فرصت‌های شغلی سایت جابینجا منتشر می‌شود و در معرض دید میلیون‌ها کارجو قرار می‌گیرد.اطلاع‌رسانی گسترده به کارجویان مرتبطآگهی  شما به کارجویانی که سابقه مرتبط با آن دارند به صورت گسترده از روش‌های مختلف اطلاع‌رسانی می‌شود.گارانتی ۱۰۰٪ رضایت و بازگشت پولبا خیال راحت از امکانات جابینجا استفاده کنید در صورت عدم رضایت، بدون هیچ قید و شرط مبلغ پرداختی را دریافت کنید.جابینجا چه ویژگی‌هایی دارد؟انتشار آگهی استخداممدیریت رزومه‌هاتعیین وضعیت رزومهتیم استخدامجستجو در رزومه‌هانشان کردن رزومه‌یادداشت‌های رزومه‌برند کارفرماییآمار عملکردرزومه‌های پیشنهادیشتابدهی آگهیپشتیبانی درج\n",
      "\n"
     ]
    },
    {
     "name": "stderr",
     "output_type": "stream",
     "text": [
      "C:\\Users\\negin\\anaconda3\\Lib\\site-packages\\urllib3\\connectionpool.py:1099: InsecureRequestWarning: Unverified HTTPS request is being made to host 'jobinja.ir'. Adding certificate verification is strongly advised. See: https://urllib3.readthedocs.io/en/latest/advanced-usage.html#tls-warnings\n",
      "  warnings.warn(\n"
     ]
    },
    {
     "name": "stdout",
     "output_type": "stream",
     "text": [
      "URL: https://jobinja.ir/companies/norahand/jobs/Amqc/%D8%A7%D8%B3%D8%AA%D8%AE%D8%AF%D8%A7%D9%85-%D8%A8%D8%B1%D9%86%D8%A7%D9%85%D9%87-%D9%86%D9%88%DB%8C%D8%B3-front-end-vue-js-%D8%AF%D8%B1-%D9%86%D9%88-%D8%B1%D9%87-%D8%A7%D9%86%D8%AF%DB%8C%D8%B4%D8%A7%D9%86-%D8%AA%DB%8C%D8%B3%D8%A7-%D9%86%D9%88-%D8%B1%D9%87%D9%86%D8%AF?_ref=18\n",
      "Content Snippet: استخدام برنامه‌نویس (Front-End (Vue.Js در نو ره‌اندیشان تیسا (نو رهند) | جابینجاامکان جدید:همین حالا رزومه خود را در کمتر از ۱۰ دقیقه بسازید،برو به رزومه‌سازJobinja | جابینجا | استخدام، آگهی استخدام، کاریابی، استخدامی جدید، بازار کار، نیازمندیها، ساخت رزومه رایگان، کار و استخدام دولتی، اشتغال، جستجوگر حرفه ای استخدام و شغلخانهجستجوی مشاغلرزومه‌ساز۵۰ شرکت برتربخش کارفرمایانورود کارجوثبت‌نام کارجوورود کارجوثبت‌نام کارجو۱جابینجا چطور به استخدام شدن من کمک می‌کند؟مشاهدهمشاهده بیشترنو ره‌اندیشان تیسا (نو رهند)|Norahandکامپیوتر، فناوری اطلاعات و اینترنت۲ - ۱۰ نفرNorahand.comفرصت‌های شغلی۱استخدام برنامه‌نویس (Front-End (Vue.Jsلطفا برای مشاهده‌ی جزییات و ارسال رزومهیکی از راه‌های زیر را انتخاب کنیدورود / ثبت‌نام با ایمیلimage/svg+xmlbtn_google_light_normal_iosbtn_google_light_normal_iosCreated with Sketch.ورود / ثبت‌نام با گوگل\n",
      "                    (Gmail)ورود / ثبت‌نام با لینکدیناستخدام برنامه‌نویس (Front-End (Vue.Js{{ tooltipText }}{{ hoverTitle }}نشان کردنحذف نشاندسته‌بندی شغلیوب،‌ برنامه‌نو\n",
      "\n"
     ]
    },
    {
     "name": "stderr",
     "output_type": "stream",
     "text": [
      "C:\\Users\\negin\\anaconda3\\Lib\\site-packages\\urllib3\\connectionpool.py:1099: InsecureRequestWarning: Unverified HTTPS request is being made to host 'jobinja.ir'. Adding certificate verification is strongly advised. See: https://urllib3.readthedocs.io/en/latest/advanced-usage.html#tls-warnings\n",
      "  warnings.warn(\n"
     ]
    },
    {
     "name": "stdout",
     "output_type": "stream",
     "text": [
      "URL: https://jobinja.ir/companies/asa-1\n",
      "Content Snippet: استخدام در شرکت ویستا سامانه آسا، آگهی های استخدام ASA | جابینجاامکان جدید:همین حالا رزومه خود را در کمتر از ۱۰ دقیقه بسازید،برو به رزومه‌سازJobinja | جابینجا | استخدام، آگهی استخدام، کاریابی، استخدامی جدید، بازار کار، نیازمندیها، ساخت رزومه رایگان، کار و استخدام دولتی، اشتغال، جستجوگر حرفه ای استخدام و شغلخانهجستجوی مشاغلرزومه‌ساز۵۰ شرکت برتربخش کارفرمایانورود کارجوثبت‌نام کارجوورود کارجوثبت‌نام کارجو۱جابینجا چطور به استخدام شدن من کمک می‌کند؟مشاهدهمشاهده بیشترویستا سامانه آسا|ASAتاسیس در  ۱۳۹۱کامپیوتر، فناوری اطلاعات و اینترنت۵۰۱ تا ۱۰۰۰ نفرasax.irدر یک نگاهمعرفیفرصت‌های شغلی۲۵شرکت دانش بنیان آسا از مجموعه ای از افراد پرتلاش و خلاق تشکیل شده که تلاش می‌کنند تا آسا را به یک شرکت نرم افزاری در حوزه بازارهای مالی تبدیل کنند.موقعیت مکانیتهران، تهراناعضای شرکتشهروز جعفریمدیر واحد عملیات نرم افزارپیشرفت مداوم .... محیط صمیمی .... چالش های جذاب برای حل کردنسوگند شمستحلیلگر نرم افزاردر آسا با وجود میزان اهمیت پروژه ها و محصولاتی که مسوولیتش را برعهده داریم؛ محیطی پرتلاش، با امید و صمیمی برقر\n",
      "\n"
     ]
    },
    {
     "name": "stderr",
     "output_type": "stream",
     "text": [
      "C:\\Users\\negin\\anaconda3\\Lib\\site-packages\\urllib3\\connectionpool.py:1099: InsecureRequestWarning: Unverified HTTPS request is being made to host 'jobinja.ir'. Adding certificate verification is strongly advised. See: https://urllib3.readthedocs.io/en/latest/advanced-usage.html#tls-warnings\n",
      "  warnings.warn(\n"
     ]
    },
    {
     "name": "stdout",
     "output_type": "stream",
     "text": [
      "URL: https://jobinja.ir/jobs?filters%5Bkeywords%5D%5B0%5D=%D8%B7%D8%B1%D8%A7%D8%AD%DB%8C+%D8%B3%D8%A7%DB%8C%D8%AA\n",
      "Content Snippet: فرصت های شغلی طراحی سایت\n",
      " | جابینجاامکان جدید:همین حالا رزومه خود را در کمتر از ۱۰ دقیقه بسازید،برو به رزومه‌سازJobinja | جابینجا | استخدام، آگهی استخدام، کاریابی، استخدامی جدید، بازار کار، نیازمندیها، ساخت رزومه رایگان، کار و استخدام دولتی، اشتغال، جستجوگر حرفه ای استخدام و شغلخانهجستجوی مشاغلرزومه‌ساز۵۰ شرکت برتربخش کارفرمایانورود کارجوثبت‌نام کارجوورود کارجوثبت‌نام کارجو۱جابینجا چطور به استخدام شدن من کمک می‌کند؟مشاهدهمشاهده بیشترجستجودرخواست‌های مننشان‌شده‌هاآگهی‌های پیشنهادیاز آگهی‌های جدید باخبر شوبهترین فرصت های شغلی در جابینجاهمه‌ی استان‌هاتهرانخراسان رضویاصفهانالبرزفارسقمآذربایجان شرقیمازندرانگیلانخوزستانکرمانیزدقزوینمرکزیهرمزگانگلستانزنجانسیستان و بلوچستانبوشهرآذربایجان غربیسمنانکرمانشاههمداناردبیللرستانکردستانخراسان شمالیایلامخراسان جنوبیچهارمحال بختیاریکهکیلویه و بویراحمدهمه‌ی دسته‌بندی‌هافروش و بازاریابیوب،‌ برنامه‌نویسی و نرم‌افزارمالی و حسابداریمسئول دفتر، اجرائی و اداریتولید و مدیریت محتوادیجیتال مارکتینگپشتیبانی و امور مشتریانطراحیIT / DevOps / Serverمهندسی صنایع و مدی\n",
      "\n"
     ]
    },
    {
     "name": "stderr",
     "output_type": "stream",
     "text": [
      "C:\\Users\\negin\\anaconda3\\Lib\\site-packages\\urllib3\\connectionpool.py:1099: InsecureRequestWarning: Unverified HTTPS request is being made to host 'jobinja.ir'. Adding certificate verification is strongly advised. See: https://urllib3.readthedocs.io/en/latest/advanced-usage.html#tls-warnings\n",
      "  warnings.warn(\n"
     ]
    },
    {
     "name": "stdout",
     "output_type": "stream",
     "text": [
      "URL: https://jobinja.ir/jobs?filters%5Bkeywords%5D%5B0%5D=react\n",
      "Content Snippet: فرصت های شغلی react\n",
      " | جابینجاامکان جدید:همین حالا رزومه خود را در کمتر از ۱۰ دقیقه بسازید،برو به رزومه‌سازJobinja | جابینجا | استخدام، آگهی استخدام، کاریابی، استخدامی جدید، بازار کار، نیازمندیها، ساخت رزومه رایگان، کار و استخدام دولتی، اشتغال، جستجوگر حرفه ای استخدام و شغلخانهجستجوی مشاغلرزومه‌ساز۵۰ شرکت برتربخش کارفرمایانورود کارجوثبت‌نام کارجوورود کارجوثبت‌نام کارجو۱جابینجا چطور به استخدام شدن من کمک می‌کند؟مشاهدهمشاهده بیشترجستجودرخواست‌های مننشان‌شده‌هاآگهی‌های پیشنهادیاز آگهی‌های جدید باخبر شوبهترین فرصت های شغلی در جابینجاهمه‌ی استان‌هاتهرانخراسان رضویاصفهانالبرزفارسقمآذربایجان شرقیمازندرانگیلانخوزستانکرمانیزدقزوینمرکزیهرمزگانگلستانزنجانسیستان و بلوچستانبوشهرآذربایجان غربیسمنانکرمانشاههمداناردبیللرستانکردستانخراسان شمالیایلامخراسان جنوبیچهارمحال بختیاریکهکیلویه و بویراحمدهمه‌ی دسته‌بندی‌هافروش و بازاریابیوب،‌ برنامه‌نویسی و نرم‌افزارمالی و حسابداریمسئول دفتر، اجرائی و اداریتولید و مدیریت محتوادیجیتال مارکتینگپشتیبانی و امور مشتریانطراحیIT / DevOps / Serverمهندسی صنایع و مدیریت ص\n",
      "\n"
     ]
    },
    {
     "name": "stderr",
     "output_type": "stream",
     "text": [
      "C:\\Users\\negin\\anaconda3\\Lib\\site-packages\\urllib3\\connectionpool.py:1099: InsecureRequestWarning: Unverified HTTPS request is being made to host 'jobinja.ir'. Adding certificate verification is strongly advised. See: https://urllib3.readthedocs.io/en/latest/advanced-usage.html#tls-warnings\n",
      "  warnings.warn(\n"
     ]
    },
    {
     "name": "stdout",
     "output_type": "stream",
     "text": [
      "URL: https://jobinja.ir/browsejobs\n",
      "Content Snippet: لیست مشاغل | آگهی کار | جستجوی کار\n",
      " | جابینجاامکان جدید:همین حالا رزومه خود را در کمتر از ۱۰ دقیقه بسازید،برو به رزومه‌سازJobinja | جابینجا | استخدام، آگهی استخدام، کاریابی، استخدامی جدید، بازار کار، نیازمندیها، ساخت رزومه رایگان، کار و استخدام دولتی، اشتغال، جستجوگر حرفه ای استخدام و شغلخانهجستجوی مشاغلرزومه‌ساز۵۰ شرکت برتربخش کارفرمایانورود کارجوثبت‌نام کارجوورود کارجوثبت‌نام کارجو۱جابینجا چطور به استخدام شدن من کمک می‌کند؟مشاهدهمشاهده بیشترلیست مشاغللیست مشاغل بر اساس دسته‌بندی شغلی:وب، برنامه‌نویسی و نرم‌افزارفروش و بازاریابیتولید و مدیریت محتوامالی و حسابداریکارمند دفتری، اجرائی و اداریطراحیپشتیبانی و امور مشتریانمهندسی برق و الکترونیکمهندسی صنایع و مدیریت صنعتیخرید و بازرگانیمنابع انسانی و کارگزینیمهندسی مکانیک و هوافضاآموزشمهندسی عمران و معماریانبارداریمدیر محصولتحقیق بازار و تحلیل اقتصادیتحقیق و توسعهگردشگریترجمهپزشکی، پرستاری و داروییمهندسی شیمی و نفتحمل و نقلروابط عمومیکارشناس حقوقی، وکالتمهندسی معدن و متالورژیصنایع غذاییمدیریت بیمهمهندسی نساجی، طراحی پارچه و لباسمهندسی پزشکی\n",
      "\n"
     ]
    },
    {
     "name": "stderr",
     "output_type": "stream",
     "text": [
      "C:\\Users\\negin\\anaconda3\\Lib\\site-packages\\urllib3\\connectionpool.py:1099: InsecureRequestWarning: Unverified HTTPS request is being made to host 'jobinja.ir'. Adding certificate verification is strongly advised. See: https://urllib3.readthedocs.io/en/latest/advanced-usage.html#tls-warnings\n",
      "  warnings.warn(\n",
      "C:\\Users\\negin\\anaconda3\\Lib\\site-packages\\urllib3\\connectionpool.py:1099: InsecureRequestWarning: Unverified HTTPS request is being made to host 'jobinja.ir'. Adding certificate verification is strongly advised. See: https://urllib3.readthedocs.io/en/latest/advanced-usage.html#tls-warnings\n",
      "  warnings.warn(\n"
     ]
    },
    {
     "name": "stdout",
     "output_type": "stream",
     "text": [
      "URL: https://jobinja.ir/jobs?filters%5Blocations%5D%5B%5D=%D9%87%D9%85%D8%AF%D8%A7%D9%86\n",
      "Content Snippet: کاریابی همدان | استخدامی همدان | آگهی استخدام همدان\n",
      " | جابینجاامکان جدید:همین حالا رزومه خود را در کمتر از ۱۰ دقیقه بسازید،برو به رزومه‌سازJobinja | جابینجا | استخدام، آگهی استخدام، کاریابی، استخدامی جدید، بازار کار، نیازمندیها، ساخت رزومه رایگان، کار و استخدام دولتی، اشتغال، جستجوگر حرفه ای استخدام و شغلخانهجستجوی مشاغلرزومه‌ساز۵۰ شرکت برتربخش کارفرمایانورود کارجوثبت‌نام کارجوورود کارجوثبت‌نام کارجو۱جابینجا چطور به استخدام شدن من کمک می‌کند؟مشاهدهمشاهده بیشترجستجودرخواست‌های مننشان‌شده‌هاآگهی‌های پیشنهادیاز آگهی‌های جدید باخبر شوبهترین فرصت های شغلی در جابینجاهمه‌ی استان‌هاهمدانتهرانخراسان رضویاصفهانالبرزفارسقمآذربایجان شرقیمازندرانگیلانخوزستانکرمانیزدقزوینمرکزیهرمزگانگلستانزنجانسیستان و بلوچستانبوشهرآذربایجان غربیسمنانکرمانشاهاردبیللرستانکردستانخراسان شمالیایلامخراسان جنوبیچهارمحال بختیاریکهکیلویه و بویراحمدهمه‌ی دسته‌بندی‌هافروش و بازاریابیوب،‌ برنامه‌نویسی و نرم‌افزارمالی و حسابداریمسئول دفتر، اجرائی و اداریتولید و مدیریت محتوادیجیتال مارکتینگپشتیبانی و امور مشتریانطراحیIT / DevOps\n",
      "\n"
     ]
    },
    {
     "name": "stderr",
     "output_type": "stream",
     "text": [
      "C:\\Users\\negin\\anaconda3\\Lib\\site-packages\\urllib3\\connectionpool.py:1099: InsecureRequestWarning: Unverified HTTPS request is being made to host 'jobinja.ir'. Adding certificate verification is strongly advised. See: https://urllib3.readthedocs.io/en/latest/advanced-usage.html#tls-warnings\n",
      "  warnings.warn(\n",
      "C:\\Users\\negin\\anaconda3\\Lib\\site-packages\\urllib3\\connectionpool.py:1099: InsecureRequestWarning: Unverified HTTPS request is being made to host 'jobinja.ir'. Adding certificate verification is strongly advised. See: https://urllib3.readthedocs.io/en/latest/advanced-usage.html#tls-warnings\n",
      "  warnings.warn(\n"
     ]
    },
    {
     "name": "stdout",
     "output_type": "stream",
     "text": [
      "URL: https://jobinja.ir/jobs?filters%5Bjob_categories%5D%5B%5D=%D8%A2%D9%85%D9%88%D8%B2%D8%B4\n",
      "Content Snippet: استخدام کارشناس آموزش | استخدام مشاور تحصیلی | استخدام مدرس زبان | استخدام معلم\n",
      " | جابینجاامکان جدید:همین حالا رزومه خود را در کمتر از ۱۰ دقیقه بسازید،برو به رزومه‌سازJobinja | جابینجا | استخدام، آگهی استخدام، کاریابی، استخدامی جدید، بازار کار، نیازمندیها، ساخت رزومه رایگان، کار و استخدام دولتی، اشتغال، جستجوگر حرفه ای استخدام و شغلخانهجستجوی مشاغلرزومه‌ساز۵۰ شرکت برتربخش کارفرمایانورود کارجوثبت‌نام کارجوورود کارجوثبت‌نام کارجو۱جابینجا چطور به استخدام شدن من کمک می‌کند؟مشاهدهمشاهده بیشترجستجودرخواست‌های مننشان‌شده‌هاآگهی‌های پیشنهادیاز آگهی‌های جدید باخبر شوبهترین فرصت های شغلی در جابینجاهمه‌ی استان‌هاتهرانخراسان رضویاصفهانالبرزفارسقمآذربایجان شرقیمازندرانگیلانخوزستانکرمانیزدقزوینمرکزیهرمزگانگلستانزنجانسیستان و بلوچستانبوشهرآذربایجان غربیسمنانکرمانشاههمداناردبیللرستانکردستانخراسان شمالیایلامخراسان جنوبیچهارمحال بختیاریکهکیلویه و بویراحمدهمه‌ی دسته‌بندی‌هاآموزشفروش و بازاریابیوب،‌ برنامه‌نویسی و نرم‌افزارمالی و حسابداریمسئول دفتر، اجرائی و اداریتولید و مدیریت محتوادیجیتال مارکتینگپشتیبا\n",
      "\n"
     ]
    },
    {
     "name": "stderr",
     "output_type": "stream",
     "text": [
      "C:\\Users\\negin\\anaconda3\\Lib\\site-packages\\urllib3\\connectionpool.py:1099: InsecureRequestWarning: Unverified HTTPS request is being made to host 'jobinja.ir'. Adding certificate verification is strongly advised. See: https://urllib3.readthedocs.io/en/latest/advanced-usage.html#tls-warnings\n",
      "  warnings.warn(\n",
      "C:\\Users\\negin\\anaconda3\\Lib\\site-packages\\urllib3\\connectionpool.py:1099: InsecureRequestWarning: Unverified HTTPS request is being made to host 'jobinja.ir'. Adding certificate verification is strongly advised. See: https://urllib3.readthedocs.io/en/latest/advanced-usage.html#tls-warnings\n",
      "  warnings.warn(\n"
     ]
    },
    {
     "name": "stdout",
     "output_type": "stream",
     "text": [
      "URL: https://jobinja.ir/jobs?filters%5Bjob_categories%5D%5B%5D=%D9%85%D9%87%D9%86%D8%AF%D8%B3%DB%8C+%D8%A8%D8%B1%D9%82+%D9%88+%D8%A7%D9%84%DA%A9%D8%AA%D8%B1%D9%88%D9%86%DB%8C%DA%A9\n",
      "Content Snippet: استخدام مهندس برق و الکترونیک\n",
      " | جابینجاامکان جدید:همین حالا رزومه خود را در کمتر از ۱۰ دقیقه بسازید،برو به رزومه‌سازJobinja | جابینجا | استخدام، آگهی استخدام، کاریابی، استخدامی جدید، بازار کار، نیازمندیها، ساخت رزومه رایگان، کار و استخدام دولتی، اشتغال، جستجوگر حرفه ای استخدام و شغلخانهجستجوی مشاغلرزومه‌ساز۵۰ شرکت برتربخش کارفرمایانورود کارجوثبت‌نام کارجوورود کارجوثبت‌نام کارجو۱جابینجا چطور به استخدام شدن من کمک می‌کند؟مشاهدهمشاهده بیشترجستجودرخواست‌های مننشان‌شده‌هاآگهی‌های پیشنهادیاز آگهی‌های جدید باخبر شوبهترین فرصت های شغلی در جابینجاهمه‌ی استان‌هاتهرانخراسان رضویاصفهانالبرزفارسقمآذربایجان شرقیمازندرانگیلانخوزستانکرمانیزدقزوینمرکزیهرمزگانگلستانزنجانسیستان و بلوچستانبوشهرآذربایجان غربیسمنانکرمانشاههمداناردبیللرستانکردستانخراسان شمالیایلامخراسان جنوبیچهارمحال بختیاریکهکیلویه و بویراحمدهمه‌ی دسته‌بندی‌هامهندسی برق و الکترونیکفروش و بازاریابیوب،‌ برنامه‌نویسی و نرم‌افزارمالی و حسابداریمسئول دفتر، اجرائی و اداریتولید و مدیریت محتوادیجیتال مارکتینگپشتیبانی و امور مشتریانطراحیIT / DevOps\n",
      "\n"
     ]
    },
    {
     "name": "stderr",
     "output_type": "stream",
     "text": [
      "C:\\Users\\negin\\anaconda3\\Lib\\site-packages\\urllib3\\connectionpool.py:1099: InsecureRequestWarning: Unverified HTTPS request is being made to host 'jobinja.ir'. Adding certificate verification is strongly advised. See: https://urllib3.readthedocs.io/en/latest/advanced-usage.html#tls-warnings\n",
      "  warnings.warn(\n",
      "C:\\Users\\negin\\anaconda3\\Lib\\site-packages\\urllib3\\connectionpool.py:1099: InsecureRequestWarning: Unverified HTTPS request is being made to host 'jobinja.ir'. Adding certificate verification is strongly advised. See: https://urllib3.readthedocs.io/en/latest/advanced-usage.html#tls-warnings\n",
      "  warnings.warn(\n"
     ]
    },
    {
     "name": "stdout",
     "output_type": "stream",
     "text": [
      "URL: https://jobinja.ir/jobs?filters%5Blocations%5D%5B%5D=%D9%81%D8%A7%D8%B1%D8%B3\n",
      "Content Snippet: آگهی استخدام فارس | استخدام فارس | کاریابی فارس\n",
      " | جابینجاامکان جدید:همین حالا رزومه خود را در کمتر از ۱۰ دقیقه بسازید،برو به رزومه‌سازJobinja | جابینجا | استخدام، آگهی استخدام، کاریابی، استخدامی جدید، بازار کار، نیازمندیها، ساخت رزومه رایگان، کار و استخدام دولتی، اشتغال، جستجوگر حرفه ای استخدام و شغلخانهجستجوی مشاغلرزومه‌ساز۵۰ شرکت برتربخش کارفرمایانورود کارجوثبت‌نام کارجوورود کارجوثبت‌نام کارجو۱جابینجا چطور به استخدام شدن من کمک می‌کند؟مشاهدهمشاهده بیشترجستجودرخواست‌های مننشان‌شده‌هاآگهی‌های پیشنهادیاز آگهی‌های جدید باخبر شوبهترین فرصت های شغلی در جابینجاهمه‌ی استان‌هافارستهرانخراسان رضویاصفهانالبرزقمآذربایجان شرقیمازندرانگیلانخوزستانکرمانیزدقزوینمرکزیهرمزگانگلستانزنجانسیستان و بلوچستانبوشهرآذربایجان غربیسمنانکرمانشاههمداناردبیللرستانکردستانخراسان شمالیایلامخراسان جنوبیچهارمحال بختیاریکهکیلویه و بویراحمدهمه‌ی دسته‌بندی‌هافروش و بازاریابیوب،‌ برنامه‌نویسی و نرم‌افزارمالی و حسابداریمسئول دفتر، اجرائی و اداریتولید و مدیریت محتوادیجیتال مارکتینگپشتیبانی و امور مشتریانطراحیIT / DevOps / S\n",
      "\n"
     ]
    },
    {
     "name": "stderr",
     "output_type": "stream",
     "text": [
      "C:\\Users\\negin\\anaconda3\\Lib\\site-packages\\urllib3\\connectionpool.py:1099: InsecureRequestWarning: Unverified HTTPS request is being made to host 'jobinja.ir'. Adding certificate verification is strongly advised. See: https://urllib3.readthedocs.io/en/latest/advanced-usage.html#tls-warnings\n",
      "  warnings.warn(\n",
      "C:\\Users\\negin\\anaconda3\\Lib\\site-packages\\urllib3\\connectionpool.py:1099: InsecureRequestWarning: Unverified HTTPS request is being made to host 'jobinja.ir'. Adding certificate verification is strongly advised. See: https://urllib3.readthedocs.io/en/latest/advanced-usage.html#tls-warnings\n",
      "  warnings.warn(\n"
     ]
    },
    {
     "name": "stdout",
     "output_type": "stream",
     "text": [
      "URL: https://jobinja.ir/jobs?filters%5Blocations%5D%5B%5D=%DA%AF%DB%8C%D9%84%D8%A7%D9%86\n",
      "Content Snippet: آگهی استخدام گیلان | استخدام گیلان | کاریابی گیلان\n",
      " | جابینجاامکان جدید:همین حالا رزومه خود را در کمتر از ۱۰ دقیقه بسازید،برو به رزومه‌سازJobinja | جابینجا | استخدام، آگهی استخدام، کاریابی، استخدامی جدید، بازار کار، نیازمندیها، ساخت رزومه رایگان، کار و استخدام دولتی، اشتغال، جستجوگر حرفه ای استخدام و شغلخانهجستجوی مشاغلرزومه‌ساز۵۰ شرکت برتربخش کارفرمایانورود کارجوثبت‌نام کارجوورود کارجوثبت‌نام کارجو۱جابینجا چطور به استخدام شدن من کمک می‌کند؟مشاهدهمشاهده بیشترجستجودرخواست‌های مننشان‌شده‌هاآگهی‌های پیشنهادیاز آگهی‌های جدید باخبر شوبهترین فرصت های شغلی در جابینجاهمه‌ی استان‌هاگیلانتهرانخراسان رضویاصفهانالبرزفارسقمآذربایجان شرقیمازندرانخوزستانکرمانیزدقزوینمرکزیهرمزگانگلستانزنجانسیستان و بلوچستانبوشهرآذربایجان غربیسمنانکرمانشاههمداناردبیللرستانکردستانخراسان شمالیایلامخراسان جنوبیچهارمحال بختیاریکهکیلویه و بویراحمدهمه‌ی دسته‌بندی‌هافروش و بازاریابیوب،‌ برنامه‌نویسی و نرم‌افزارمالی و حسابداریمسئول دفتر، اجرائی و اداریتولید و مدیریت محتوادیجیتال مارکتینگپشتیبانی و امور مشتریانطراحیIT / DevOps \n",
      "\n"
     ]
    },
    {
     "name": "stderr",
     "output_type": "stream",
     "text": [
      "C:\\Users\\negin\\anaconda3\\Lib\\site-packages\\urllib3\\connectionpool.py:1099: InsecureRequestWarning: Unverified HTTPS request is being made to host 'jobinja.ir'. Adding certificate verification is strongly advised. See: https://urllib3.readthedocs.io/en/latest/advanced-usage.html#tls-warnings\n",
      "  warnings.warn(\n"
     ]
    },
    {
     "name": "stdout",
     "output_type": "stream",
     "text": [
      "URL: https://jobinja.ir/companies/dental-office-41/jobs/AmqX/%D8%A7%D8%B3%D8%AA%D8%AE%D8%AF%D8%A7%D9%85-%D8%B9%DA%A9%D8%A7%D8%B3-%D9%88-%D8%A7%D8%AF%DB%8C%D8%AA%D9%88%D8%B1-%D8%AF%D8%B1-%D8%AF%D8%B1%D8%AA%D8%A7-%D8%AF%D9%86%D8%AA%D8%A7%D9%84?_ref=18\n",
      "Content Snippet: استخدام عکاس و ادیتور در درتا دنتال | جابینجاامکان جدید:همین حالا رزومه خود را در کمتر از ۱۰ دقیقه بسازید،برو به رزومه‌سازJobinja | جابینجا | استخدام، آگهی استخدام، کاریابی، استخدامی جدید، بازار کار، نیازمندیها، ساخت رزومه رایگان، کار و استخدام دولتی، اشتغال، جستجوگر حرفه ای استخدام و شغلخانهجستجوی مشاغلرزومه‌ساز۵۰ شرکت برتربخش کارفرمایانورود کارجوثبت‌نام کارجوورود کارجوثبت‌نام کارجو۱جابینجا چطور به استخدام شدن من کمک می‌کند؟مشاهدهمشاهده بیشتردرتا دنتال|Dorta Dentalخدمات درمانی، پزشکی و سلامت۲ - ۱۰ نفرفرصت‌های شغلی۱استخدام عکاس و ادیتورلطفا برای مشاهده‌ی جزییات و ارسال رزومهیکی از راه‌های زیر را انتخاب کنیدورود / ثبت‌نام با ایمیلimage/svg+xmlbtn_google_light_normal_iosbtn_google_light_normal_iosCreated with Sketch.ورود / ثبت‌نام با گوگل\n",
      "                    (Gmail)ورود / ثبت‌نام با لینکدیناستخدام عکاس و ادیتور{{ tooltipText }}{{ hoverTitle }}نشان کردنحذف نشاندسته‌بندی شغلیتولید و مدیریت محتواموقعیت مکانیتهران\n",
      "                                                ، تهراننوع همکاریتمام وقتحداقل\n",
      "\n"
     ]
    },
    {
     "name": "stderr",
     "output_type": "stream",
     "text": [
      "C:\\Users\\negin\\anaconda3\\Lib\\site-packages\\urllib3\\connectionpool.py:1099: InsecureRequestWarning: Unverified HTTPS request is being made to host 'jobinja.ir'. Adding certificate verification is strongly advised. See: https://urllib3.readthedocs.io/en/latest/advanced-usage.html#tls-warnings\n",
      "  warnings.warn(\n",
      "C:\\Users\\negin\\anaconda3\\Lib\\site-packages\\urllib3\\connectionpool.py:1099: InsecureRequestWarning: Unverified HTTPS request is being made to host 'jobinja.ir'. Adding certificate verification is strongly advised. See: https://urllib3.readthedocs.io/en/latest/advanced-usage.html#tls-warnings\n",
      "  warnings.warn(\n"
     ]
    },
    {
     "name": "stdout",
     "output_type": "stream",
     "text": [
      "URL: https://jobinja.ir/jobs?filters%5Blocations%5D%5B%5D=%DA%A9%D9%87%DA%A9%DB%8C%D9%84%D9%88%DB%8C%D9%87+%D9%88+%D8%A8%D9%88%DB%8C%D8%B1%D8%A7%D8%AD%D9%85%D8%AF\n",
      "Content Snippet: آگهی استخدام کهگیلویه و بویراحمد | استخدام کهگیلویه و بویراحمد | کاریابی کهگیلویه و بویراحمد\n",
      " | جابینجاامکان جدید:همین حالا رزومه خود را در کمتر از ۱۰ دقیقه بسازید،برو به رزومه‌سازJobinja | جابینجا | استخدام، آگهی استخدام، کاریابی، استخدامی جدید، بازار کار، نیازمندیها، ساخت رزومه رایگان، کار و استخدام دولتی، اشتغال، جستجوگر حرفه ای استخدام و شغلخانهجستجوی مشاغلرزومه‌ساز۵۰ شرکت برتربخش کارفرمایانورود کارجوثبت‌نام کارجوورود کارجوثبت‌نام کارجو۱جابینجا چطور به استخدام شدن من کمک می‌کند؟مشاهدهمشاهده بیشترجستجودرخواست‌های مننشان‌شده‌هاآگهی‌های پیشنهادیاز آگهی‌های جدید باخبر شوبهترین فرصت های شغلی در جابینجاهمه‌ی استان‌هاکهکیلویه و بویراحمدتهرانخراسان رضویاصفهانالبرزفارسقمآذربایجان شرقیمازندرانگیلانخوزستانکرمانیزدقزوینمرکزیهرمزگانگلستانزنجانسیستان و بلوچستانبوشهرآذربایجان غربیسمنانکرمانشاههمداناردبیللرستانکردستانخراسان شمالیایلامخراسان جنوبیچهارمحال بختیاریهمه‌ی دسته‌بندی‌هافروش و بازاریابیوب،‌ برنامه‌نویسی و نرم‌افزارمالی و حسابداریمسئول دفتر، اجرائی و اداریتولید و مدیریت محتوادیجیتال مارکتی\n",
      "\n"
     ]
    },
    {
     "name": "stderr",
     "output_type": "stream",
     "text": [
      "C:\\Users\\negin\\anaconda3\\Lib\\site-packages\\urllib3\\connectionpool.py:1099: InsecureRequestWarning: Unverified HTTPS request is being made to host 'blog.jobinja.ir'. Adding certificate verification is strongly advised. See: https://urllib3.readthedocs.io/en/latest/advanced-usage.html#tls-warnings\n",
      "  warnings.warn(\n"
     ]
    },
    {
     "name": "stdout",
     "output_type": "stream",
     "text": [
      "URL: https://blog.jobinja.ir/%d8%aa%da%a9%d9%86%db%8c%da%a9%d9%87%d8%a7%db%8c-%d8%a7%d8%b1%d8%b2%db%8c%d8%a7%d8%a8%db%8c-%d8%b9%d9%85%d9%84%da%a9%d8%b1%d8%af-%da%a9%d8%a7%d8%b1%da%a9%d9%86%d8%a7%d9%86/\n",
      "Content Snippet: تکنیک‌های ارزیابی عملکرد کارکنان - وبلاگ جابینجااشتراک گذاریبا استفاده از روش‌های زیر می‌توانید این صفحه را با دوستان خود به اشتراک بگذارید.کپی لینککارجو ⏷رزومه نویسیمسیر شغلیمصاحبه کاریمهارت های فردیکارفرما ⏷منابع انسانیفضای کاریاخبار جابینجارزومه سازایجاد آگهی جدیدکارجو ⏷رزومه نویسیمسیر شغلیمصاحبه کاریمهارت های فردیکارفرما ⏷منابع انسانیفضای کاریاخبار جابینجارزومه سازایجاد آگهی جدیدParkingGasFoodCoffeeMiscمرا به خاطر بسپارنام کاربری :ایمیل :نام :نام خانوادگیآدرس وب سایت :تاریخ ثبت نام :نقش کاربر:کارفرمامنابع انسانیتکنیک‌های ارزیابی عملکرد کارکنانبازدید 53تیم تولید محتوا13 روز پیشاشتراک گذاریبا استفاده از روش‌های زیر می‌توانید این صفحه را با دوستان خود به اشتراک بگذارید.کپی لینکبدون دیدگاهکارفرمامنابع انسانیتکنیک‌های ارزیابی عملکرد کارکنانهر سازمانی برای دستیابی به موفقیت بلندمدت باید نیروی کار موثر را جذب و حفظ کند. برای حفظ نیروی انسانی باید رضایت شغلی کارکنان بهبود یابد. کسب‌وکارهای پیشرو با استفاده از تکنیک‌های ارزیابی عملکرد کارکنان به‌طور متناسب به نیروهای انسانی پاداش و مزایا می\n",
      "\n"
     ]
    },
    {
     "name": "stderr",
     "output_type": "stream",
     "text": [
      "C:\\Users\\negin\\anaconda3\\Lib\\site-packages\\urllib3\\connectionpool.py:1099: InsecureRequestWarning: Unverified HTTPS request is being made to host 'jobinja.ir'. Adding certificate verification is strongly advised. See: https://urllib3.readthedocs.io/en/latest/advanced-usage.html#tls-warnings\n",
      "  warnings.warn(\n"
     ]
    },
    {
     "name": "stdout",
     "output_type": "stream",
     "text": [
      "URL: https://jobinja.ir/jobs?filters%5Bkeywords%5D%5B0%5D=%D8%A7%D8%B3%D9%86%D9%BE\n",
      "Content Snippet: فرصت های شغلی اسنپ\n",
      " | جابینجاامکان جدید:همین حالا رزومه خود را در کمتر از ۱۰ دقیقه بسازید،برو به رزومه‌سازJobinja | جابینجا | استخدام، آگهی استخدام، کاریابی، استخدامی جدید، بازار کار، نیازمندیها، ساخت رزومه رایگان، کار و استخدام دولتی، اشتغال، جستجوگر حرفه ای استخدام و شغلخانهجستجوی مشاغلرزومه‌ساز۵۰ شرکت برتربخش کارفرمایانورود کارجوثبت‌نام کارجوورود کارجوثبت‌نام کارجو۱جابینجا چطور به استخدام شدن من کمک می‌کند؟مشاهدهمشاهده بیشترجستجودرخواست‌های مننشان‌شده‌هاآگهی‌های پیشنهادیاز آگهی‌های جدید باخبر شوبهترین فرصت های شغلی در جابینجاهمه‌ی استان‌هاتهرانخراسان رضویاصفهانالبرزفارسقمآذربایجان شرقیمازندرانگیلانخوزستانکرمانیزدقزوینمرکزیهرمزگانگلستانزنجانسیستان و بلوچستانبوشهرآذربایجان غربیسمنانکرمانشاههمداناردبیللرستانکردستانخراسان شمالیایلامخراسان جنوبیچهارمحال بختیاریکهکیلویه و بویراحمدهمه‌ی دسته‌بندی‌هافروش و بازاریابیوب،‌ برنامه‌نویسی و نرم‌افزارمالی و حسابداریمسئول دفتر، اجرائی و اداریتولید و مدیریت محتوادیجیتال مارکتینگپشتیبانی و امور مشتریانطراحیIT / DevOps / Serverمهندسی صنایع و مدیریت صن\n",
      "\n"
     ]
    },
    {
     "name": "stderr",
     "output_type": "stream",
     "text": [
      "C:\\Users\\negin\\anaconda3\\Lib\\site-packages\\urllib3\\connectionpool.py:1099: InsecureRequestWarning: Unverified HTTPS request is being made to host 'jobinja.ir'. Adding certificate verification is strongly advised. See: https://urllib3.readthedocs.io/en/latest/advanced-usage.html#tls-warnings\n",
      "  warnings.warn(\n"
     ]
    },
    {
     "name": "stdout",
     "output_type": "stream",
     "text": [
      "URL: https://jobinja.ir/companies/dotin/jobs\n",
      "Content Snippet: فرصت‌های شغلی فعال در داتین | Dotin | جابینجاامکان جدید:همین حالا رزومه خود را در کمتر از ۱۰ دقیقه بسازید،برو به رزومه‌سازJobinja | جابینجا | استخدام، آگهی استخدام، کاریابی، استخدامی جدید، بازار کار، نیازمندیها، ساخت رزومه رایگان، کار و استخدام دولتی، اشتغال، جستجوگر حرفه ای استخدام و شغلخانهجستجوی مشاغلرزومه‌ساز۵۰ شرکت برتربخش کارفرمایانورود کارجوثبت‌نام کارجوورود کارجوثبت‌نام کارجو۱جابینجا چطور به استخدام شدن من کمک می‌کند؟مشاهدهمشاهده بیشترداتین|Dotinتاسیس در  ۱۳۹۰کامپیوتر، فناوری اطلاعات و اینترنتبیش از ۱۰۰۰ نفرdotin.irدر یک نگاهمعرفیفرصت‌های شغلی۴۲معرفی داتینداتین، بزرگترین زیرمجموعه فناپ -هلدینگ فناوری اطلاعات و ارتباطات گروه مالی-پاسارگاد است که راهکارهای نرم‌افزاری بانکی، مالی و بیمه را به بانک‌ها، موسسات مالی و اعتباری، بیمه‌ها و سازمان‌های مرتبط ارائه می‌دهد. فلسفه وجودی این شرکت، «توسعه فراگیری مالی» است و در مسیر فراهم‌کردن دسترسی آسان، سریع و امن به خدمات مالی برای تمامی اقشار جامعه تلاش می‌کند.فرصت‌های شغلی فعال در داتین|Dotinکارشناس سخت افزار(۱ روز پیش)داتین | Dotinتهران\n",
      "\n"
     ]
    },
    {
     "name": "stderr",
     "output_type": "stream",
     "text": [
      "C:\\Users\\negin\\anaconda3\\Lib\\site-packages\\urllib3\\connectionpool.py:1099: InsecureRequestWarning: Unverified HTTPS request is being made to host 'jobinja.ir'. Adding certificate verification is strongly advised. See: https://urllib3.readthedocs.io/en/latest/advanced-usage.html#tls-warnings\n",
      "  warnings.warn(\n",
      "C:\\Users\\negin\\anaconda3\\Lib\\site-packages\\urllib3\\connectionpool.py:1099: InsecureRequestWarning: Unverified HTTPS request is being made to host 'jobinja.ir'. Adding certificate verification is strongly advised. See: https://urllib3.readthedocs.io/en/latest/advanced-usage.html#tls-warnings\n",
      "  warnings.warn(\n"
     ]
    },
    {
     "name": "stdout",
     "output_type": "stream",
     "text": [
      "URL: https://jobinja.ir/jobs?filters%5Bjob_categories%5D%5B%5D=%D9%85%D9%87%D9%86%D8%AF%D8%B3%DB%8C+%D9%85%DA%A9%D8%A7%D9%86%DB%8C%DA%A9+%D9%88+%D9%87%D9%88%D8%A7%D9%81%D8%B6%D8%A7\n",
      "Content Snippet: استخدام مهندس مکانیک و هوافضا\n",
      " | جابینجاامکان جدید:همین حالا رزومه خود را در کمتر از ۱۰ دقیقه بسازید،برو به رزومه‌سازJobinja | جابینجا | استخدام، آگهی استخدام، کاریابی، استخدامی جدید، بازار کار، نیازمندیها، ساخت رزومه رایگان، کار و استخدام دولتی، اشتغال، جستجوگر حرفه ای استخدام و شغلخانهجستجوی مشاغلرزومه‌ساز۵۰ شرکت برتربخش کارفرمایانورود کارجوثبت‌نام کارجوورود کارجوثبت‌نام کارجو۱جابینجا چطور به استخدام شدن من کمک می‌کند؟مشاهدهمشاهده بیشترجستجودرخواست‌های مننشان‌شده‌هاآگهی‌های پیشنهادیاز آگهی‌های جدید باخبر شوبهترین فرصت های شغلی در جابینجاهمه‌ی استان‌هاتهرانخراسان رضویاصفهانالبرزفارسقمآذربایجان شرقیمازندرانگیلانخوزستانکرمانیزدقزوینمرکزیهرمزگانگلستانزنجانسیستان و بلوچستانبوشهرآذربایجان غربیسمنانکرمانشاههمداناردبیللرستانکردستانخراسان شمالیایلامخراسان جنوبیچهارمحال بختیاریکهکیلویه و بویراحمدهمه‌ی دسته‌بندی‌هامهندسی مکانیک و هوافضافروش و بازاریابیوب،‌ برنامه‌نویسی و نرم‌افزارمالی و حسابداریمسئول دفتر، اجرائی و اداریتولید و مدیریت محتوادیجیتال مارکتینگپشتیبانی و امور مشتریانطراحیIT / DevOps\n",
      "\n"
     ]
    },
    {
     "name": "stderr",
     "output_type": "stream",
     "text": [
      "C:\\Users\\negin\\anaconda3\\Lib\\site-packages\\urllib3\\connectionpool.py:1099: InsecureRequestWarning: Unverified HTTPS request is being made to host 'jobinja.ir'. Adding certificate verification is strongly advised. See: https://urllib3.readthedocs.io/en/latest/advanced-usage.html#tls-warnings\n",
      "  warnings.warn(\n"
     ]
    },
    {
     "name": "stdout",
     "output_type": "stream",
     "text": [
      "URL: https://jobinja.ir/companies/hesabo\n",
      "Content Snippet: استخدام در شرکت حسابو، آگهی های استخدام Hesabo | جابینجاامکان جدید:همین حالا رزومه خود را در کمتر از ۱۰ دقیقه بسازید،برو به رزومه‌سازJobinja | جابینجا | استخدام، آگهی استخدام، کاریابی، استخدامی جدید، بازار کار، نیازمندیها، ساخت رزومه رایگان، کار و استخدام دولتی، اشتغال، جستجوگر حرفه ای استخدام و شغلخانهجستجوی مشاغلرزومه‌ساز۵۰ شرکت برتربخش کارفرمایانورود کارجوثبت‌نام کارجوورود کارجوثبت‌نام کارجو۱جابینجا چطور به استخدام شدن من کمک می‌کند؟مشاهدهمشاهده بیشترحسابو|Hesaboتاسیس در  ۱۳۹۴کامپیوتر، فناوری اطلاعات و اینترنت۵۱ تا ۲۰۰ نفرhesabo.comدر یک نگاهمعرفیفرصت‌های شغلی۵شرکت حسابو فراهم کنندهٔ یک پلتفرم است تا کارفرماها بتوانند به کارمندانشان این امکان را بدهند که بتوانند به حقوق خودشان دسترسی داشته باشند در روزهای مختلف و نیازی نیست که برای پرداخت بعدی منتظر بمانند.موقعیت مکانیتهران، تهراناعضای شرکتمسعود کیمیاییمدیر امنیتمحیط پویای حسابو این امکان را برای افراد فراهم می کند، تا روی ارتقا و پیشرفت خودشان تمرکز کنند. حسابو برای توسعه فردی اهمیت زیادی قائل است و به دنبال بازیکن تیمی ایده آل می \n",
      "\n"
     ]
    },
    {
     "name": "stderr",
     "output_type": "stream",
     "text": [
      "C:\\Users\\negin\\anaconda3\\Lib\\site-packages\\urllib3\\connectionpool.py:1099: InsecureRequestWarning: Unverified HTTPS request is being made to host 'jobinja.ir'. Adding certificate verification is strongly advised. See: https://urllib3.readthedocs.io/en/latest/advanced-usage.html#tls-warnings\n",
      "  warnings.warn(\n"
     ]
    },
    {
     "name": "stdout",
     "output_type": "stream",
     "text": [
      "URL: https://jobinja.ir/companies/flightio/jobs\n",
      "Content Snippet: فرصت‌های شغلی فعال در فلایتیو | Flightio | جابینجاامکان جدید:همین حالا رزومه خود را در کمتر از ۱۰ دقیقه بسازید،برو به رزومه‌سازJobinja | جابینجا | استخدام، آگهی استخدام، کاریابی، استخدامی جدید، بازار کار، نیازمندیها، ساخت رزومه رایگان، کار و استخدام دولتی، اشتغال، جستجوگر حرفه ای استخدام و شغلخانهجستجوی مشاغلرزومه‌ساز۵۰ شرکت برتربخش کارفرمایانورود کارجوثبت‌نام کارجوورود کارجوثبت‌نام کارجو۱جابینجا چطور به استخدام شدن من کمک می‌کند؟مشاهدهمشاهده بیشترفلایتیو|Flightioگردشگری و هتل‌ها۲۰۱ تا ۵۰۰ نفرflightio.comدر یک نگاهمعرفیفرصت‌های شغلی۲معرفی فلایتیوفلایتیو سیستم جامع رزرو آنلاین گردشگری، با تمرکز بر هدف ارائه بهترین خدمات به مشتریان خود می باشد. فلایتیو از یک همفکری پویا و خلاقانه در سال 1393 جوانه زد و طی سال 1394 زیر ساخت های آن بال و پر گرفت، این روند چنان به سرعت پیش رفت که دربهمن ماه سال 1394 نسخه اولیه فلایتیو راه اندازی شد.در جامعه امروز ایران دسترسی گسترده و آسان به اینترنت هر روز بیش از پیش قوت می گیرد، به طوری که ارائه خدمات آنلاین و فروش کالای آنلاین یکی از مهمترین عرصه های تجا\n",
      "\n"
     ]
    },
    {
     "name": "stderr",
     "output_type": "stream",
     "text": [
      "C:\\Users\\negin\\anaconda3\\Lib\\site-packages\\urllib3\\connectionpool.py:1099: InsecureRequestWarning: Unverified HTTPS request is being made to host 'jobinja.ir'. Adding certificate verification is strongly advised. See: https://urllib3.readthedocs.io/en/latest/advanced-usage.html#tls-warnings\n",
      "  warnings.warn(\n",
      "C:\\Users\\negin\\anaconda3\\Lib\\site-packages\\urllib3\\connectionpool.py:1099: InsecureRequestWarning: Unverified HTTPS request is being made to host 'jobinja.ir'. Adding certificate verification is strongly advised. See: https://urllib3.readthedocs.io/en/latest/advanced-usage.html#tls-warnings\n",
      "  warnings.warn(\n"
     ]
    },
    {
     "name": "stdout",
     "output_type": "stream",
     "text": [
      "URL: https://jobinja.ir/jobs?filters%5Bjob_categories%5D%5B%5D=%D9%85%D9%87%D9%86%D8%AF%D8%B3%DB%8C+%DA%A9%D8%B4%D8%A7%D9%88%D8%B1%D8%B2%DB%8C\n",
      "Content Snippet: استخدام مهندس کشاورزی | استخدام مهندس آبیاری | استخدام کارشناس باغبانی | جابینجا\n",
      " | جابینجاامکان جدید:همین حالا رزومه خود را در کمتر از ۱۰ دقیقه بسازید،برو به رزومه‌سازJobinja | جابینجا | استخدام، آگهی استخدام، کاریابی، استخدامی جدید، بازار کار، نیازمندیها، ساخت رزومه رایگان، کار و استخدام دولتی، اشتغال، جستجوگر حرفه ای استخدام و شغلخانهجستجوی مشاغلرزومه‌ساز۵۰ شرکت برتربخش کارفرمایانورود کارجوثبت‌نام کارجوورود کارجوثبت‌نام کارجو۱جابینجا چطور به استخدام شدن من کمک می‌کند؟مشاهدهمشاهده بیشترجستجودرخواست‌های مننشان‌شده‌هاآگهی‌های پیشنهادیاز آگهی‌های جدید باخبر شوبهترین فرصت های شغلی در جابینجاهمه‌ی استان‌هاتهرانخراسان رضویاصفهانالبرزفارسقمآذربایجان شرقیمازندرانگیلانخوزستانکرمانیزدقزوینمرکزیهرمزگانگلستانزنجانسیستان و بلوچستانبوشهرآذربایجان غربیسمنانکرمانشاههمداناردبیللرستانکردستانخراسان شمالیایلامخراسان جنوبیچهارمحال بختیاریکهکیلویه و بویراحمدهمه‌ی دسته‌بندی‌هامهندسی کشاورزیفروش و بازاریابیوب،‌ برنامه‌نویسی و نرم‌افزارمالی و حسابداریمسئول دفتر، اجرائی و اداریتولید و مدیریت محتوادیجیتال مارک\n",
      "\n"
     ]
    },
    {
     "name": "stderr",
     "output_type": "stream",
     "text": [
      "C:\\Users\\negin\\anaconda3\\Lib\\site-packages\\urllib3\\connectionpool.py:1099: InsecureRequestWarning: Unverified HTTPS request is being made to host 'jobinja.ir'. Adding certificate verification is strongly advised. See: https://urllib3.readthedocs.io/en/latest/advanced-usage.html#tls-warnings\n",
      "  warnings.warn(\n"
     ]
    },
    {
     "name": "stdout",
     "output_type": "stream",
     "text": [
      "URL: https://jobinja.ir/companies/iranicard\n",
      "Content Snippet: استخدام در شرکت ایرانیکارت، آگهی های استخدام IraniCard | جابینجاامکان جدید:همین حالا رزومه خود را در کمتر از ۱۰ دقیقه بسازید،برو به رزومه‌سازJobinja | جابینجا | استخدام، آگهی استخدام، کاریابی، استخدامی جدید، بازار کار، نیازمندیها، ساخت رزومه رایگان، کار و استخدام دولتی، اشتغال، جستجوگر حرفه ای استخدام و شغلخانهجستجوی مشاغلرزومه‌ساز۵۰ شرکت برتربخش کارفرمایانورود کارجوثبت‌نام کارجوورود کارجوثبت‌نام کارجو۱جابینجا چطور به استخدام شدن من کمک می‌کند؟مشاهدهمشاهده بیشترایرانیکارت|IraniCardتاسیس در  ۱۳۹۰کامپیوتر، فناوری اطلاعات و اینترنت۵۱ تا ۲۰۰ نفرwww.IraniCard.irدر یک نگاهمعرفیفرصت‌های شغلی۲۰ایرانیکارت گروهی جوان اما با تجربه است که سال‌ها در امور مالی بین المللی به صدها شرکت و هزاران شخص کمک رسانده و می‌رساند.موقعیت مکانیاصفهان، اصفهاناعضای شرکتسارا هاشمیمدیر تبلیغاتهدف ما در بخش تبلیغات پیدا کردن راه‌های تازه و خلاقانه برای معرفی خدمات، رسیدن به مخاطبان و حفظ رضایت آنهاست.امیر بیگدلیمدیر ایرانیکارتایرانیکارت محل خلق ایده‌های جدید است و ما برای تحقق این ایده ها همواره در تلاش هستیم . ایرانی\n",
      "\n"
     ]
    },
    {
     "name": "stderr",
     "output_type": "stream",
     "text": [
      "C:\\Users\\negin\\anaconda3\\Lib\\site-packages\\urllib3\\connectionpool.py:1099: InsecureRequestWarning: Unverified HTTPS request is being made to host 'jobinja.ir'. Adding certificate verification is strongly advised. See: https://urllib3.readthedocs.io/en/latest/advanced-usage.html#tls-warnings\n",
      "  warnings.warn(\n",
      "C:\\Users\\negin\\anaconda3\\Lib\\site-packages\\urllib3\\connectionpool.py:1099: InsecureRequestWarning: Unverified HTTPS request is being made to host 'jobinja.ir'. Adding certificate verification is strongly advised. See: https://urllib3.readthedocs.io/en/latest/advanced-usage.html#tls-warnings\n",
      "  warnings.warn(\n"
     ]
    },
    {
     "name": "stdout",
     "output_type": "stream",
     "text": [
      "URL: https://jobinja.ir/jobs?filters%5Bjob_categories%5D%5B%5D=%D8%AA%DA%A9%D9%86%D8%B3%DB%8C%D9%86+%D9%81%D9%86%DB%8C%D8%8C+%D8%AA%D8%B9%D9%85%DB%8C%D8%B1%DA%A9%D8%A7%D8%B1\n",
      "Content Snippet: استخدام تکنسین فنی تاسیسات | جابینجا\n",
      " | جابینجاامکان جدید:همین حالا رزومه خود را در کمتر از ۱۰ دقیقه بسازید،برو به رزومه‌سازJobinja | جابینجا | استخدام، آگهی استخدام، کاریابی، استخدامی جدید، بازار کار، نیازمندیها، ساخت رزومه رایگان، کار و استخدام دولتی، اشتغال، جستجوگر حرفه ای استخدام و شغلخانهجستجوی مشاغلرزومه‌ساز۵۰ شرکت برتربخش کارفرمایانورود کارجوثبت‌نام کارجوورود کارجوثبت‌نام کارجو۱جابینجا چطور به استخدام شدن من کمک می‌کند؟مشاهدهمشاهده بیشترجستجودرخواست‌های مننشان‌شده‌هاآگهی‌های پیشنهادیاز آگهی‌های جدید باخبر شوبهترین فرصت های شغلی در جابینجاهمه‌ی استان‌هاتهرانخراسان رضویاصفهانالبرزفارسقمآذربایجان شرقیمازندرانگیلانخوزستانکرمانیزدقزوینمرکزیهرمزگانگلستانزنجانسیستان و بلوچستانبوشهرآذربایجان غربیسمنانکرمانشاههمداناردبیللرستانکردستانخراسان شمالیایلامخراسان جنوبیچهارمحال بختیاریکهکیلویه و بویراحمدهمه‌ی دسته‌بندی‌هاتکنسین فنی، تعمیرکارفروش و بازاریابیوب،‌ برنامه‌نویسی و نرم‌افزارمالی و حسابداریمسئول دفتر، اجرائی و اداریتولید و مدیریت محتوادیجیتال مارکتینگپشتیبانی و امور مشتریانطراحیIT / D\n",
      "\n"
     ]
    },
    {
     "name": "stderr",
     "output_type": "stream",
     "text": [
      "C:\\Users\\negin\\anaconda3\\Lib\\site-packages\\urllib3\\connectionpool.py:1099: InsecureRequestWarning: Unverified HTTPS request is being made to host 'jobinja.ir'. Adding certificate verification is strongly advised. See: https://urllib3.readthedocs.io/en/latest/advanced-usage.html#tls-warnings\n",
      "  warnings.warn(\n",
      "C:\\Users\\negin\\anaconda3\\Lib\\site-packages\\urllib3\\connectionpool.py:1099: InsecureRequestWarning: Unverified HTTPS request is being made to host 'jobinja.ir'. Adding certificate verification is strongly advised. See: https://urllib3.readthedocs.io/en/latest/advanced-usage.html#tls-warnings\n",
      "  warnings.warn(\n"
     ]
    },
    {
     "name": "stdout",
     "output_type": "stream",
     "text": [
      "URL: https://jobinja.ir/jobs?filters%5Blocations%5D%5B%5D=%D8%B3%DB%8C%D8%B3%D8%AA%D8%A7%D9%86+%D9%88+%D8%A8%D9%84%D9%88%DA%86%D8%B3%D8%AA%D8%A7%D9%86\n",
      "Content Snippet: آگهی استخدام سیستان و بلوچستان | استخدام سیستان و بلوچستان | کاریابی سیستان و بلوچستان\n",
      " | جابینجاامکان جدید:همین حالا رزومه خود را در کمتر از ۱۰ دقیقه بسازید،برو به رزومه‌سازJobinja | جابینجا | استخدام، آگهی استخدام، کاریابی، استخدامی جدید، بازار کار، نیازمندیها، ساخت رزومه رایگان، کار و استخدام دولتی، اشتغال، جستجوگر حرفه ای استخدام و شغلخانهجستجوی مشاغلرزومه‌ساز۵۰ شرکت برتربخش کارفرمایانورود کارجوثبت‌نام کارجوورود کارجوثبت‌نام کارجو۱جابینجا چطور به استخدام شدن من کمک می‌کند؟مشاهدهمشاهده بیشترجستجودرخواست‌های مننشان‌شده‌هاآگهی‌های پیشنهادیاز آگهی‌های جدید باخبر شوبهترین فرصت های شغلی در جابینجاهمه‌ی استان‌هاسیستان و بلوچستانتهرانخراسان رضویاصفهانالبرزفارسقمآذربایجان شرقیمازندرانگیلانخوزستانکرمانیزدقزوینمرکزیهرمزگانگلستانزنجانبوشهرآذربایجان غربیسمنانکرمانشاههمداناردبیللرستانکردستانخراسان شمالیایلامخراسان جنوبیچهارمحال بختیاریکهکیلویه و بویراحمدهمه‌ی دسته‌بندی‌هافروش و بازاریابیوب،‌ برنامه‌نویسی و نرم‌افزارمالی و حسابداریمسئول دفتر، اجرائی و اداریتولید و مدیریت محتوادیجیتال مارکتینگپشتی\n",
      "\n"
     ]
    },
    {
     "name": "stderr",
     "output_type": "stream",
     "text": [
      "C:\\Users\\negin\\anaconda3\\Lib\\site-packages\\urllib3\\connectionpool.py:1099: InsecureRequestWarning: Unverified HTTPS request is being made to host 'jobinja.ir'. Adding certificate verification is strongly advised. See: https://urllib3.readthedocs.io/en/latest/advanced-usage.html#tls-warnings\n",
      "  warnings.warn(\n",
      "C:\\Users\\negin\\anaconda3\\Lib\\site-packages\\urllib3\\connectionpool.py:1099: InsecureRequestWarning: Unverified HTTPS request is being made to host 'jobinja.ir'. Adding certificate verification is strongly advised. See: https://urllib3.readthedocs.io/en/latest/advanced-usage.html#tls-warnings\n",
      "  warnings.warn(\n"
     ]
    },
    {
     "name": "stdout",
     "output_type": "stream",
     "text": [
      "URL: https://jobinja.ir/jobs?filters%5Bjob_categories%5D%5B%5D=%D8%B1%D8%A7%D9%86%D9%86%D8%AF%D9%87%D8%8C+%D9%BE%DB%8C%DA%A9+%D9%85%D9%88%D8%AA%D9%88%D8%B1%DB%8C\n",
      "Content Snippet: استخدام راننده | استخدام پیک موتوری | استخدام راننده مدیرعامل\n",
      " | جابینجاامکان جدید:همین حالا رزومه خود را در کمتر از ۱۰ دقیقه بسازید،برو به رزومه‌سازJobinja | جابینجا | استخدام، آگهی استخدام، کاریابی، استخدامی جدید، بازار کار، نیازمندیها، ساخت رزومه رایگان، کار و استخدام دولتی، اشتغال، جستجوگر حرفه ای استخدام و شغلخانهجستجوی مشاغلرزومه‌ساز۵۰ شرکت برتربخش کارفرمایانورود کارجوثبت‌نام کارجوورود کارجوثبت‌نام کارجو۱جابینجا چطور به استخدام شدن من کمک می‌کند؟مشاهدهمشاهده بیشترجستجودرخواست‌های مننشان‌شده‌هاآگهی‌های پیشنهادیاز آگهی‌های جدید باخبر شوبهترین فرصت های شغلی در جابینجاهمه‌ی استان‌هاتهرانخراسان رضویاصفهانالبرزفارسقمآذربایجان شرقیمازندرانگیلانخوزستانکرمانیزدقزوینمرکزیهرمزگانگلستانزنجانسیستان و بلوچستانبوشهرآذربایجان غربیسمنانکرمانشاههمداناردبیللرستانکردستانخراسان شمالیایلامخراسان جنوبیچهارمحال بختیاریکهکیلویه و بویراحمدهمه‌ی دسته‌بندی‌هاراننده، پیک موتوریفروش و بازاریابیوب،‌ برنامه‌نویسی و نرم‌افزارمالی و حسابداریمسئول دفتر، اجرائی و اداریتولید و مدیریت محتوادیجیتال مارکتینگپشتیبانی و \n",
      "\n"
     ]
    },
    {
     "name": "stderr",
     "output_type": "stream",
     "text": [
      "C:\\Users\\negin\\anaconda3\\Lib\\site-packages\\urllib3\\connectionpool.py:1099: InsecureRequestWarning: Unverified HTTPS request is being made to host 'jobinja.ir'. Adding certificate verification is strongly advised. See: https://urllib3.readthedocs.io/en/latest/advanced-usage.html#tls-warnings\n",
      "  warnings.warn(\n",
      "C:\\Users\\negin\\anaconda3\\Lib\\site-packages\\urllib3\\connectionpool.py:1099: InsecureRequestWarning: Unverified HTTPS request is being made to host 'jobinja.ir'. Adding certificate verification is strongly advised. See: https://urllib3.readthedocs.io/en/latest/advanced-usage.html#tls-warnings\n",
      "  warnings.warn(\n"
     ]
    },
    {
     "name": "stdout",
     "output_type": "stream",
     "text": [
      "URL: https://jobinja.ir/jobs?filters%5Blocations%5D%5B%5D=%D8%AE%D8%B1%D8%A7%D8%B3%D8%A7%D9%86+%D8%B4%D9%85%D8%A7%D9%84%DB%8C\n",
      "Content Snippet: آگهی استخدام خراسان شمالی | استخدام خراسان شمالی | کاریابی خراسان شمالی\n",
      " | جابینجاامکان جدید:همین حالا رزومه خود را در کمتر از ۱۰ دقیقه بسازید،برو به رزومه‌سازJobinja | جابینجا | استخدام، آگهی استخدام، کاریابی، استخدامی جدید، بازار کار، نیازمندیها، ساخت رزومه رایگان، کار و استخدام دولتی، اشتغال، جستجوگر حرفه ای استخدام و شغلخانهجستجوی مشاغلرزومه‌ساز۵۰ شرکت برتربخش کارفرمایانورود کارجوثبت‌نام کارجوورود کارجوثبت‌نام کارجو۱جابینجا چطور به استخدام شدن من کمک می‌کند؟مشاهدهمشاهده بیشترجستجودرخواست‌های مننشان‌شده‌هاآگهی‌های پیشنهادیاز آگهی‌های جدید باخبر شوبهترین فرصت های شغلی در جابینجاهمه‌ی استان‌هاخراسان شمالیتهرانخراسان رضویاصفهانالبرزفارسقمآذربایجان شرقیمازندرانگیلانخوزستانکرمانیزدقزوینمرکزیهرمزگانگلستانزنجانسیستان و بلوچستانبوشهرآذربایجان غربیسمنانکرمانشاههمداناردبیللرستانکردستانایلامخراسان جنوبیچهارمحال بختیاریکهکیلویه و بویراحمدهمه‌ی دسته‌بندی‌هافروش و بازاریابیوب،‌ برنامه‌نویسی و نرم‌افزارمالی و حسابداریمسئول دفتر، اجرائی و اداریتولید و مدیریت محتوادیجیتال مارکتینگپشتیبانی و امور مشت\n",
      "\n"
     ]
    },
    {
     "name": "stderr",
     "output_type": "stream",
     "text": [
      "C:\\Users\\negin\\anaconda3\\Lib\\site-packages\\urllib3\\connectionpool.py:1099: InsecureRequestWarning: Unverified HTTPS request is being made to host 'jobinja.ir'. Adding certificate verification is strongly advised. See: https://urllib3.readthedocs.io/en/latest/advanced-usage.html#tls-warnings\n",
      "  warnings.warn(\n",
      "C:\\Users\\negin\\anaconda3\\Lib\\site-packages\\urllib3\\connectionpool.py:1099: InsecureRequestWarning: Unverified HTTPS request is being made to host 'jobinja.ir'. Adding certificate verification is strongly advised. See: https://urllib3.readthedocs.io/en/latest/advanced-usage.html#tls-warnings\n",
      "  warnings.warn(\n"
     ]
    },
    {
     "name": "stdout",
     "output_type": "stream",
     "text": [
      "URL: https://jobinja.ir/jobs?filters%5Blocations%5D%5B%5D=%D8%A7%D9%84%D8%A8%D8%B1%D8%B2\n",
      "Content Snippet: استخدام کرج | کاریابی کرج | استخدامی البرز\n",
      " | جابینجاامکان جدید:همین حالا رزومه خود را در کمتر از ۱۰ دقیقه بسازید،برو به رزومه‌سازJobinja | جابینجا | استخدام، آگهی استخدام، کاریابی، استخدامی جدید، بازار کار، نیازمندیها، ساخت رزومه رایگان، کار و استخدام دولتی، اشتغال، جستجوگر حرفه ای استخدام و شغلخانهجستجوی مشاغلرزومه‌ساز۵۰ شرکت برتربخش کارفرمایانورود کارجوثبت‌نام کارجوورود کارجوثبت‌نام کارجو۱جابینجا چطور به استخدام شدن من کمک می‌کند؟مشاهدهمشاهده بیشترجستجودرخواست‌های مننشان‌شده‌هاآگهی‌های پیشنهادیاز آگهی‌های جدید باخبر شوبهترین فرصت های شغلی در جابینجاهمه‌ی استان‌هاالبرزتهرانخراسان رضویاصفهانفارسقمآذربایجان شرقیمازندرانگیلانخوزستانکرمانیزدقزوینمرکزیهرمزگانگلستانزنجانسیستان و بلوچستانبوشهرآذربایجان غربیسمنانکرمانشاههمداناردبیللرستانکردستانخراسان شمالیایلامخراسان جنوبیچهارمحال بختیاریکهکیلویه و بویراحمدهمه‌ی دسته‌بندی‌هافروش و بازاریابیوب،‌ برنامه‌نویسی و نرم‌افزارمالی و حسابداریمسئول دفتر، اجرائی و اداریتولید و مدیریت محتوادیجیتال مارکتینگپشتیبانی و امور مشتریانطراحیIT / DevOps / Server\n",
      "\n"
     ]
    },
    {
     "name": "stderr",
     "output_type": "stream",
     "text": [
      "C:\\Users\\negin\\anaconda3\\Lib\\site-packages\\urllib3\\connectionpool.py:1099: InsecureRequestWarning: Unverified HTTPS request is being made to host 'jobinja.ir'. Adding certificate verification is strongly advised. See: https://urllib3.readthedocs.io/en/latest/advanced-usage.html#tls-warnings\n",
      "  warnings.warn(\n",
      "C:\\Users\\negin\\anaconda3\\Lib\\site-packages\\urllib3\\connectionpool.py:1099: InsecureRequestWarning: Unverified HTTPS request is being made to host 'jobinja.ir'. Adding certificate verification is strongly advised. See: https://urllib3.readthedocs.io/en/latest/advanced-usage.html#tls-warnings\n",
      "  warnings.warn(\n"
     ]
    },
    {
     "name": "stdout",
     "output_type": "stream",
     "text": [
      "URL: https://jobinja.ir/jobs?filters%5Bjob_categories%5D%5B%5D=%D9%85%D9%87%D9%86%D8%AF%D8%B3%DB%8C+%D9%BE%D8%B2%D8%B4%DA%A9%DB%8C\n",
      "Content Snippet: استخدام مهندسی پزشکی | استخدام کارشناس مهندسی پزشکی\n",
      " | جابینجاامکان جدید:همین حالا رزومه خود را در کمتر از ۱۰ دقیقه بسازید،برو به رزومه‌سازJobinja | جابینجا | استخدام، آگهی استخدام، کاریابی، استخدامی جدید، بازار کار، نیازمندیها، ساخت رزومه رایگان، کار و استخدام دولتی، اشتغال، جستجوگر حرفه ای استخدام و شغلخانهجستجوی مشاغلرزومه‌ساز۵۰ شرکت برتربخش کارفرمایانورود کارجوثبت‌نام کارجوورود کارجوثبت‌نام کارجو۱جابینجا چطور به استخدام شدن من کمک می‌کند؟مشاهدهمشاهده بیشترجستجودرخواست‌های مننشان‌شده‌هاآگهی‌های پیشنهادیاز آگهی‌های جدید باخبر شوبهترین فرصت های شغلی در جابینجاهمه‌ی استان‌هاتهرانخراسان رضویاصفهانالبرزفارسقمآذربایجان شرقیمازندرانگیلانخوزستانکرمانیزدقزوینمرکزیهرمزگانگلستانزنجانسیستان و بلوچستانبوشهرآذربایجان غربیسمنانکرمانشاههمداناردبیللرستانکردستانخراسان شمالیایلامخراسان جنوبیچهارمحال بختیاریکهکیلویه و بویراحمدهمه‌ی دسته‌بندی‌هامهندسی پزشکیفروش و بازاریابیوب،‌ برنامه‌نویسی و نرم‌افزارمالی و حسابداریمسئول دفتر، اجرائی و اداریتولید و مدیریت محتوادیجیتال مارکتینگپشتیبانی و امور مشتریانطراح\n",
      "\n"
     ]
    },
    {
     "name": "stderr",
     "output_type": "stream",
     "text": [
      "C:\\Users\\negin\\anaconda3\\Lib\\site-packages\\urllib3\\connectionpool.py:1099: InsecureRequestWarning: Unverified HTTPS request is being made to host 'jobinja.ir'. Adding certificate verification is strongly advised. See: https://urllib3.readthedocs.io/en/latest/advanced-usage.html#tls-warnings\n",
      "  warnings.warn(\n"
     ]
    },
    {
     "name": "stdout",
     "output_type": "stream",
     "text": [
      "URL: https://jobinja.ir/login/user\n",
      "Content Snippet: ورود کارجو | جابینجاورود کارجو | جابینجاJobinjaکارفرما هستید؟ورود کارجوورود کارجوثبت‌نام کارجوimage/svg+xmlbtn_google_light_normal_iosbtn_google_light_normal_iosCreated with Sketch.ورود با گوگلورود با لینکدینآدرس ایمیلرمز عبورمرا به خاطرت نگه دار!بازیابی رمز عبورجابینجا چه کمکی به من می‌کنه؟رایگانهمین حالا در جابینجا ثبت‌نام کن و رزومه‌ات رو برای آگهی‌های استخدام شرکت‌های معتبر بفرست.جستجوی در آگهی‌های استخدام ۱۰,۹۸۷ شرکت معتبر و ارسال رزومه با یک کلیکدریافت فرصت‌های شغلیجدیدمرتبط از طریق ایمیل\n",
      "                (Job Alert)رزومه‌ساز استانداردشناخت محیط کار و فرهنگ سازمانی شرکت‌های در حال استخدام\n",
      "\n"
     ]
    },
    {
     "name": "stderr",
     "output_type": "stream",
     "text": [
      "C:\\Users\\negin\\anaconda3\\Lib\\site-packages\\urllib3\\connectionpool.py:1099: InsecureRequestWarning: Unverified HTTPS request is being made to host 'jobinja.ir'. Adding certificate verification is strongly advised. See: https://urllib3.readthedocs.io/en/latest/advanced-usage.html#tls-warnings\n",
      "  warnings.warn(\n"
     ]
    },
    {
     "name": "stdout",
     "output_type": "stream",
     "text": [
      "URL: https://jobinja.ir/jobs?filters%5Bkeywords%5D%5B0%5D=%D9%85%D8%B4%D8%A7%D9%88%D8%B1+%D8%AA%D8%AD%D8%B5%DB%8C%D9%84%DB%8C\n",
      "Content Snippet: فرصت های شغلی مشاور تحصیلی\n",
      " | جابینجاامکان جدید:همین حالا رزومه خود را در کمتر از ۱۰ دقیقه بسازید،برو به رزومه‌سازJobinja | جابینجا | استخدام، آگهی استخدام، کاریابی، استخدامی جدید، بازار کار، نیازمندیها، ساخت رزومه رایگان، کار و استخدام دولتی، اشتغال، جستجوگر حرفه ای استخدام و شغلخانهجستجوی مشاغلرزومه‌ساز۵۰ شرکت برتربخش کارفرمایانورود کارجوثبت‌نام کارجوورود کارجوثبت‌نام کارجو۱جابینجا چطور به استخدام شدن من کمک می‌کند؟مشاهدهمشاهده بیشترجستجودرخواست‌های مننشان‌شده‌هاآگهی‌های پیشنهادیاز آگهی‌های جدید باخبر شوبهترین فرصت های شغلی در جابینجاهمه‌ی استان‌هاتهرانخراسان رضویاصفهانالبرزفارسقمآذربایجان شرقیمازندرانگیلانخوزستانکرمانیزدقزوینمرکزیهرمزگانگلستانزنجانسیستان و بلوچستانبوشهرآذربایجان غربیسمنانکرمانشاههمداناردبیللرستانکردستانخراسان شمالیایلامخراسان جنوبیچهارمحال بختیاریکهکیلویه و بویراحمدهمه‌ی دسته‌بندی‌هافروش و بازاریابیوب،‌ برنامه‌نویسی و نرم‌افزارمالی و حسابداریمسئول دفتر، اجرائی و اداریتولید و مدیریت محتوادیجیتال مارکتینگپشتیبانی و امور مشتریانطراحیIT / DevOps / Serverمهندسی صنایع و م\n",
      "\n"
     ]
    },
    {
     "name": "stderr",
     "output_type": "stream",
     "text": [
      "C:\\Users\\negin\\anaconda3\\Lib\\site-packages\\urllib3\\connectionpool.py:1099: InsecureRequestWarning: Unverified HTTPS request is being made to host 'jobinja.ir'. Adding certificate verification is strongly advised. See: https://urllib3.readthedocs.io/en/latest/advanced-usage.html#tls-warnings\n",
      "  warnings.warn(\n",
      "C:\\Users\\negin\\anaconda3\\Lib\\site-packages\\urllib3\\connectionpool.py:1099: InsecureRequestWarning: Unverified HTTPS request is being made to host 'jobinja.ir'. Adding certificate verification is strongly advised. See: https://urllib3.readthedocs.io/en/latest/advanced-usage.html#tls-warnings\n",
      "  warnings.warn(\n"
     ]
    },
    {
     "name": "stdout",
     "output_type": "stream",
     "text": [
      "URL: https://jobinja.ir/jobs?filters%5Blocations%5D%5B%5D=%D8%A7%DB%8C%D9%84%D8%A7%D9%85\n",
      "Content Snippet: آگهی استخدام ایلام | استخدام ایلام | کاریابی ایلام\n",
      " | جابینجاامکان جدید:همین حالا رزومه خود را در کمتر از ۱۰ دقیقه بسازید،برو به رزومه‌سازJobinja | جابینجا | استخدام، آگهی استخدام، کاریابی، استخدامی جدید، بازار کار، نیازمندیها، ساخت رزومه رایگان، کار و استخدام دولتی، اشتغال، جستجوگر حرفه ای استخدام و شغلخانهجستجوی مشاغلرزومه‌ساز۵۰ شرکت برتربخش کارفرمایانورود کارجوثبت‌نام کارجوورود کارجوثبت‌نام کارجو۱جابینجا چطور به استخدام شدن من کمک می‌کند؟مشاهدهمشاهده بیشترجستجودرخواست‌های مننشان‌شده‌هاآگهی‌های پیشنهادیاز آگهی‌های جدید باخبر شوبهترین فرصت های شغلی در جابینجاهمه‌ی استان‌هاایلامتهرانخراسان رضویاصفهانالبرزفارسقمآذربایجان شرقیمازندرانگیلانخوزستانکرمانیزدقزوینمرکزیهرمزگانگلستانزنجانسیستان و بلوچستانبوشهرآذربایجان غربیسمنانکرمانشاههمداناردبیللرستانکردستانخراسان شمالیخراسان جنوبیچهارمحال بختیاریکهکیلویه و بویراحمدهمه‌ی دسته‌بندی‌هافروش و بازاریابیوب،‌ برنامه‌نویسی و نرم‌افزارمالی و حسابداریمسئول دفتر، اجرائی و اداریتولید و مدیریت محتوادیجیتال مارکتینگپشتیبانی و امور مشتریانطراحیIT / DevOps \n",
      "\n"
     ]
    },
    {
     "name": "stderr",
     "output_type": "stream",
     "text": [
      "C:\\Users\\negin\\anaconda3\\Lib\\site-packages\\urllib3\\connectionpool.py:1099: InsecureRequestWarning: Unverified HTTPS request is being made to host 'jobinja.ir'. Adding certificate verification is strongly advised. See: https://urllib3.readthedocs.io/en/latest/advanced-usage.html#tls-warnings\n",
      "  warnings.warn(\n"
     ]
    },
    {
     "name": "stdout",
     "output_type": "stream",
     "text": [
      "URL: https://jobinja.ir/companies/miare\n",
      "Content Snippet: استخدام در شرکت میاره، آگهی های استخدام Miare | جابینجاامکان جدید:همین حالا رزومه خود را در کمتر از ۱۰ دقیقه بسازید،برو به رزومه‌سازJobinja | جابینجا | استخدام، آگهی استخدام، کاریابی، استخدامی جدید، بازار کار، نیازمندیها، ساخت رزومه رایگان، کار و استخدام دولتی، اشتغال، جستجوگر حرفه ای استخدام و شغلخانهجستجوی مشاغلرزومه‌ساز۵۰ شرکت برتربخش کارفرمایانورود کارجوثبت‌نام کارجوورود کارجوثبت‌نام کارجو۱جابینجا چطور به استخدام شدن من کمک می‌کند؟مشاهدهمشاهده بیشترمیاره|Miareکامپیوتر، فناوری اطلاعات و اینترنت۲۰۱ تا ۵۰۰ نفرmiare.irدر یک نگاهمعرفیفرصت‌های شغلی۴میاره» استارت‌آپی خلاق و پویاست. فضایی است بدون سقف برای بلندپروازان. «میاره» با ایجاد بهره‌وری از طریق نرم‌افزار پیچیده‌ی خود، روزانه ده‌ها هزار سفارش را با بالاترین استانداردهای کیفیت خدمات برای کسب‌وکارها ارسال می‌کند.موقعیت مکانیتهران، تهراناعضای شرکتامیراحمد برکتینمدیر عاملمدیریت «میاره» مثل مربیگری فوتباله. چالش اصلی، حل کردن کلی مساله‌ در واحدهای زمانی خیلی کمه با این تفاوت که کلی المان غیرقطعی هست که باید خودت رو برای اونها هم آماده کن\n",
      "\n"
     ]
    },
    {
     "name": "stderr",
     "output_type": "stream",
     "text": [
      "C:\\Users\\negin\\anaconda3\\Lib\\site-packages\\urllib3\\connectionpool.py:1099: InsecureRequestWarning: Unverified HTTPS request is being made to host 'jobinja.ir'. Adding certificate verification is strongly advised. See: https://urllib3.readthedocs.io/en/latest/advanced-usage.html#tls-warnings\n",
      "  warnings.warn(\n",
      "C:\\Users\\negin\\anaconda3\\Lib\\site-packages\\urllib3\\connectionpool.py:1099: InsecureRequestWarning: Unverified HTTPS request is being made to host 'jobinja.ir'. Adding certificate verification is strongly advised. See: https://urllib3.readthedocs.io/en/latest/advanced-usage.html#tls-warnings\n",
      "  warnings.warn(\n"
     ]
    },
    {
     "name": "stdout",
     "output_type": "stream",
     "text": [
      "URL: https://jobinja.ir/jobs?filters%5Bjob_categories%5D%5B%5D=%D9%85%D8%AF%DB%8C%D8%B1+%D9%85%D8%AD%D8%B5%D9%88%D9%84\n",
      "Content Snippet: استخدام مدیر محصول | آگهی استخدام مالک محصول\n",
      " | جابینجاامکان جدید:همین حالا رزومه خود را در کمتر از ۱۰ دقیقه بسازید،برو به رزومه‌سازJobinja | جابینجا | استخدام، آگهی استخدام، کاریابی، استخدامی جدید، بازار کار، نیازمندیها، ساخت رزومه رایگان، کار و استخدام دولتی، اشتغال، جستجوگر حرفه ای استخدام و شغلخانهجستجوی مشاغلرزومه‌ساز۵۰ شرکت برتربخش کارفرمایانورود کارجوثبت‌نام کارجوورود کارجوثبت‌نام کارجو۱جابینجا چطور به استخدام شدن من کمک می‌کند؟مشاهدهمشاهده بیشترجستجودرخواست‌های مننشان‌شده‌هاآگهی‌های پیشنهادیاز آگهی‌های جدید باخبر شوبهترین فرصت های شغلی در جابینجاهمه‌ی استان‌هاتهرانخراسان رضویاصفهانالبرزفارسقمآذربایجان شرقیمازندرانگیلانخوزستانکرمانیزدقزوینمرکزیهرمزگانگلستانزنجانسیستان و بلوچستانبوشهرآذربایجان غربیسمنانکرمانشاههمداناردبیللرستانکردستانخراسان شمالیایلامخراسان جنوبیچهارمحال بختیاریکهکیلویه و بویراحمدهمه‌ی دسته‌بندی‌هامدیر محصولفروش و بازاریابیوب،‌ برنامه‌نویسی و نرم‌افزارمالی و حسابداریمسئول دفتر، اجرائی و اداریتولید و مدیریت محتوادیجیتال مارکتینگپشتیبانی و امور مشتریانطراحیIT / Dev\n",
      "\n"
     ]
    },
    {
     "name": "stderr",
     "output_type": "stream",
     "text": [
      "C:\\Users\\negin\\anaconda3\\Lib\\site-packages\\urllib3\\connectionpool.py:1099: InsecureRequestWarning: Unverified HTTPS request is being made to host 'jobinja.ir'. Adding certificate verification is strongly advised. See: https://urllib3.readthedocs.io/en/latest/advanced-usage.html#tls-warnings\n",
      "  warnings.warn(\n",
      "C:\\Users\\negin\\anaconda3\\Lib\\site-packages\\urllib3\\connectionpool.py:1099: InsecureRequestWarning: Unverified HTTPS request is being made to host 'jobinja.ir'. Adding certificate verification is strongly advised. See: https://urllib3.readthedocs.io/en/latest/advanced-usage.html#tls-warnings\n",
      "  warnings.warn(\n"
     ]
    },
    {
     "name": "stdout",
     "output_type": "stream",
     "text": [
      "URL: https://jobinja.ir/jobs?filters%5Bjob_categories%5D%5B%5D=%D9%BE%D8%B4%D8%AA%DB%8C%D8%A8%D8%A7%D9%86%DB%8C+%D9%88+%D8%A7%D9%85%D9%88%D8%B1+%D9%85%D8%B4%D8%AA%D8%B1%DB%8C%D8%A7%D9%86\n",
      "Content Snippet: استخدام پشتیبانی و امور مشتریان\n",
      " | جابینجاامکان جدید:همین حالا رزومه خود را در کمتر از ۱۰ دقیقه بسازید،برو به رزومه‌سازJobinja | جابینجا | استخدام، آگهی استخدام، کاریابی، استخدامی جدید، بازار کار، نیازمندیها، ساخت رزومه رایگان، کار و استخدام دولتی، اشتغال، جستجوگر حرفه ای استخدام و شغلخانهجستجوی مشاغلرزومه‌ساز۵۰ شرکت برتربخش کارفرمایانورود کارجوثبت‌نام کارجوورود کارجوثبت‌نام کارجو۱جابینجا چطور به استخدام شدن من کمک می‌کند؟مشاهدهمشاهده بیشترجستجودرخواست‌های مننشان‌شده‌هاآگهی‌های پیشنهادیاز آگهی‌های جدید باخبر شوبهترین فرصت های شغلی در جابینجاهمه‌ی استان‌هاتهرانخراسان رضویاصفهانالبرزفارسقمآذربایجان شرقیمازندرانگیلانخوزستانکرمانیزدقزوینمرکزیهرمزگانگلستانزنجانسیستان و بلوچستانبوشهرآذربایجان غربیسمنانکرمانشاههمداناردبیللرستانکردستانخراسان شمالیایلامخراسان جنوبیچهارمحال بختیاریکهکیلویه و بویراحمدهمه‌ی دسته‌بندی‌هاپشتیبانی و امور مشتریانفروش و بازاریابیوب،‌ برنامه‌نویسی و نرم‌افزارمالی و حسابداریمسئول دفتر، اجرائی و اداریتولید و مدیریت محتوادیجیتال مارکتینگطراحیIT / DevOps / Serverمهندسی صنای\n",
      "\n"
     ]
    },
    {
     "name": "stderr",
     "output_type": "stream",
     "text": [
      "C:\\Users\\negin\\anaconda3\\Lib\\site-packages\\urllib3\\connectionpool.py:1099: InsecureRequestWarning: Unverified HTTPS request is being made to host 'jobinja.ir'. Adding certificate verification is strongly advised. See: https://urllib3.readthedocs.io/en/latest/advanced-usage.html#tls-warnings\n",
      "  warnings.warn(\n",
      "C:\\Users\\negin\\anaconda3\\Lib\\site-packages\\urllib3\\connectionpool.py:1099: InsecureRequestWarning: Unverified HTTPS request is being made to host 'jobinja.ir'. Adding certificate verification is strongly advised. See: https://urllib3.readthedocs.io/en/latest/advanced-usage.html#tls-warnings\n",
      "  warnings.warn(\n"
     ]
    },
    {
     "name": "stdout",
     "output_type": "stream",
     "text": [
      "URL: https://jobinja.ir/jobs?filters%5Bjob_categories%5D%5B%5D=%D9%88%D8%A8%D8%8C%E2%80%8C+%D8%A8%D8%B1%D9%86%D8%A7%D9%85%D9%87%E2%80%8C%D9%86%D9%88%DB%8C%D8%B3%DB%8C+%D9%88+%D9%86%D8%B1%D9%85%E2%80%8C%D8%A7%D9%81%D8%B2%D8%A7%D8%B1\n",
      "Content Snippet: استخدام برنامه نویس | استخدام طراح سایت| استخدام برنامه نویس وب\n",
      " | جابینجاامکان جدید:همین حالا رزومه خود را در کمتر از ۱۰ دقیقه بسازید،برو به رزومه‌سازJobinja | جابینجا | استخدام، آگهی استخدام، کاریابی، استخدامی جدید، بازار کار، نیازمندیها، ساخت رزومه رایگان، کار و استخدام دولتی، اشتغال، جستجوگر حرفه ای استخدام و شغلخانهجستجوی مشاغلرزومه‌ساز۵۰ شرکت برتربخش کارفرمایانورود کارجوثبت‌نام کارجوورود کارجوثبت‌نام کارجو۱جابینجا چطور به استخدام شدن من کمک می‌کند؟مشاهدهمشاهده بیشترجستجودرخواست‌های مننشان‌شده‌هاآگهی‌های پیشنهادیاز آگهی‌های جدید باخبر شوبهترین فرصت های شغلی در جابینجاهمه‌ی استان‌هاتهرانخراسان رضویاصفهانالبرزفارسقمآذربایجان شرقیمازندرانگیلانخوزستانکرمانیزدقزوینمرکزیهرمزگانگلستانزنجانسیستان و بلوچستانبوشهرآذربایجان غربیسمنانکرمانشاههمداناردبیللرستانکردستانخراسان شمالیایلامخراسان جنوبیچهارمحال بختیاریکهکیلویه و بویراحمدهمه‌ی دسته‌بندی‌هاوب،‌ برنامه‌نویسی و نرم‌افزارفروش و بازاریابیمالی و حسابداریمسئول دفتر، اجرائی و اداریتولید و مدیریت محتوادیجیتال مارکتینگپشتیبانی و امور مشتریانطراح\n",
      "\n"
     ]
    },
    {
     "name": "stderr",
     "output_type": "stream",
     "text": [
      "C:\\Users\\negin\\anaconda3\\Lib\\site-packages\\urllib3\\connectionpool.py:1099: InsecureRequestWarning: Unverified HTTPS request is being made to host 'jobinja.ir'. Adding certificate verification is strongly advised. See: https://urllib3.readthedocs.io/en/latest/advanced-usage.html#tls-warnings\n",
      "  warnings.warn(\n"
     ]
    },
    {
     "name": "stdout",
     "output_type": "stream",
     "text": [
      "URL: https://jobinja.ir/top50\n",
      "Content Snippet: فهرست ۵۰ شرکت برتر ایران برای کار | جابینجاامکان جدید:همین حالا رزومه خود را در کمتر از ۱۰ دقیقه بسازید،برو به رزومه‌سازJobinja | جابینجا | استخدام، آگهی استخدام، کاریابی، استخدامی جدید، بازار کار، نیازمندیها، ساخت رزومه رایگان، کار و استخدام دولتی، اشتغال، جستجوگر حرفه ای استخدام و شغلخانهجستجوی مشاغلرزومه‌ساز۵۰ شرکت برتربخش کارفرمایانورود کارجوثبت‌نام کارجوورود کارجوثبت‌نام کارجو۱جابینجا چطور به استخدام شدن من کمک می‌کند؟مشاهدهمشاهده بیشترفهرست ۵۰ شرکت برتر ایران برای کارپیش از انتخاب شغل و مسیر حرفه‌ای خود، رتبه‌بندی شرکت‌های برتر ایران را در جابینجا مشاهده کنید!این فهرست بر اساس بررسی شاخص‌های مختلف در ۹۰ روز اخیر تهیه شده است.فهرست ۵۰ شرکت برتر ایرانهمه شرکت‌ها۱ویستا سامانه آسا | ASA۹/۶مشاهده صفحه شرکتکامپیوتر، فناوری اطلاعات و اینترنت۵۰۱ تا ۱۰۰۰ نفر۲۴\n",
      "                                                    شغل فعال۱۰محبوبیت میان کارجویان۱۰تعدد و تنوع فرصت‌های شغلی۹بررسی رزومه‌های دریافتیشرکت دانش بنیان آسا از مجموعه ای از افراد پرتلاش و خلاق تشکیل شده که تلاش می‌کنند تا آسا را به یک \n",
      "\n"
     ]
    },
    {
     "name": "stderr",
     "output_type": "stream",
     "text": [
      "C:\\Users\\negin\\anaconda3\\Lib\\site-packages\\urllib3\\connectionpool.py:1099: InsecureRequestWarning: Unverified HTTPS request is being made to host 'jobinja.ir'. Adding certificate verification is strongly advised. See: https://urllib3.readthedocs.io/en/latest/advanced-usage.html#tls-warnings\n",
      "  warnings.warn(\n"
     ]
    },
    {
     "name": "stdout",
     "output_type": "stream",
     "text": [
      "URL: https://jobinja.ir/jobs?filters%5Bkeywords%5D%5B0%5D=%D9%88%D8%B1%D8%AF%D9%BE%D8%B1%D8%B3\n",
      "Content Snippet: فرصت های شغلی وردپرس\n",
      " | جابینجاامکان جدید:همین حالا رزومه خود را در کمتر از ۱۰ دقیقه بسازید،برو به رزومه‌سازJobinja | جابینجا | استخدام، آگهی استخدام، کاریابی، استخدامی جدید، بازار کار، نیازمندیها، ساخت رزومه رایگان، کار و استخدام دولتی، اشتغال، جستجوگر حرفه ای استخدام و شغلخانهجستجوی مشاغلرزومه‌ساز۵۰ شرکت برتربخش کارفرمایانورود کارجوثبت‌نام کارجوورود کارجوثبت‌نام کارجو۱جابینجا چطور به استخدام شدن من کمک می‌کند؟مشاهدهمشاهده بیشترجستجودرخواست‌های مننشان‌شده‌هاآگهی‌های پیشنهادیاز آگهی‌های جدید باخبر شوبهترین فرصت های شغلی در جابینجاهمه‌ی استان‌هاتهرانخراسان رضویاصفهانالبرزفارسقمآذربایجان شرقیمازندرانگیلانخوزستانکرمانیزدقزوینمرکزیهرمزگانگلستانزنجانسیستان و بلوچستانبوشهرآذربایجان غربیسمنانکرمانشاههمداناردبیللرستانکردستانخراسان شمالیایلامخراسان جنوبیچهارمحال بختیاریکهکیلویه و بویراحمدهمه‌ی دسته‌بندی‌هافروش و بازاریابیوب،‌ برنامه‌نویسی و نرم‌افزارمالی و حسابداریمسئول دفتر، اجرائی و اداریتولید و مدیریت محتوادیجیتال مارکتینگپشتیبانی و امور مشتریانطراحیIT / DevOps / Serverمهندسی صنایع و مدیریت \n",
      "\n"
     ]
    },
    {
     "name": "stderr",
     "output_type": "stream",
     "text": [
      "C:\\Users\\negin\\anaconda3\\Lib\\site-packages\\urllib3\\connectionpool.py:1099: InsecureRequestWarning: Unverified HTTPS request is being made to host 'jobinja.ir'. Adding certificate verification is strongly advised. See: https://urllib3.readthedocs.io/en/latest/advanced-usage.html#tls-warnings\n",
      "  warnings.warn(\n"
     ]
    },
    {
     "name": "stdout",
     "output_type": "stream",
     "text": [
      "URL: https://jobinja.ir/how-to\n",
      "Content Snippet: جابینجا به چه شکلی به استخدام شدن من کمک می‌کنه؟ | جابینجاامکان جدید:همین حالا رزومه خود را در کمتر از ۱۰ دقیقه بسازید،برو به رزومه‌سازJobinja | جابینجا | استخدام، آگهی استخدام، کاریابی، استخدامی جدید، بازار کار، نیازمندیها، ساخت رزومه رایگان، کار و استخدام دولتی، اشتغال، جستجوگر حرفه ای استخدام و شغلخانهجستجوی مشاغلرزومه‌ساز۵۰ شرکت برتربخش کارفرمایانورود کارجوثبت‌نام کارجوورود کارجوثبت‌نام کارجو۱جابینجا چطور به استخدام شدن من کمک می‌کند؟مشاهدهمشاهده بیشترجستجودرخواست‌های مننشان‌شده‌هاآگهی‌های پیشنهادیاز آگهی‌های جدید باخبر شوجابینجا به چه شکلی به استخدام شدن\n",
      "                                من\n",
      "                                کمک می‌کنه؟رایگان۱ثبت‌نام به عنوان کارجوقبل از هرکاری شما باید به عنوان کارجو در سرویس استخدامی جابینجا ثبت نام کنید، با ثبت‌نام کردن ما اطلاعات بیشتری از شما داریم و بر اساس همین می‌تونیم سرویس‌های بهتری رو به شما ارائه بدیم.ثبت‌نام به عنوان کارجو۲جستجو در آگهی‌های استخدام و ارسال رزومهبا جستجو در آگهی‌های استخدام بیش از ۳۰۰۰ شرکت معتبر ایرانی می‌تونید رزومتون رو \n",
      "\n"
     ]
    },
    {
     "name": "stderr",
     "output_type": "stream",
     "text": [
      "C:\\Users\\negin\\anaconda3\\Lib\\site-packages\\urllib3\\connectionpool.py:1099: InsecureRequestWarning: Unverified HTTPS request is being made to host 'jobinja.ir'. Adding certificate verification is strongly advised. See: https://urllib3.readthedocs.io/en/latest/advanced-usage.html#tls-warnings\n",
      "  warnings.warn(\n"
     ]
    },
    {
     "name": "stdout",
     "output_type": "stream",
     "text": [
      "URL: https://jobinja.ir/companies/daira-hamrah\n",
      "Content Snippet: استخدام در شرکت داریا همراه پایتخت ، آگهی های استخدام Daria Hamrah | جابینجاامکان جدید:همین حالا رزومه خود را در کمتر از ۱۰ دقیقه بسازید،برو به رزومه‌سازJobinja | جابینجا | استخدام، آگهی استخدام، کاریابی، استخدامی جدید، بازار کار، نیازمندیها، ساخت رزومه رایگان، کار و استخدام دولتی، اشتغال، جستجوگر حرفه ای استخدام و شغلخانهجستجوی مشاغلرزومه‌ساز۵۰ شرکت برتربخش کارفرمایانورود کارجوثبت‌نام کارجوورود کارجوثبت‌نام کارجو۱جابینجا چطور به استخدام شدن من کمک می‌کند؟مشاهدهمشاهده بیشترداریا همراه پایتخت|Daria Hamrahتاسیس در  ۱۳۹۹مخابرات و ارتباطات (تلکام)۵۰۱ تا ۱۰۰۰ نفرdariahamrah.ir/در یک نگاهمعرفیفرصت‌های شغلی۲۷سعی کرده ایم با رعایت ارزش های بنیادین داریا، محیطی مناسب برای شکوفایی توانمندی همکاران خود فراهم آوریم.موقعیت مکانیتهران، تهراناعضای شرکتمریم کارگرمدیر منابع انسانیهدف ما در داریا همراه این است که با انتقال دانش و یادگیری مستمر برای ارتقا و کسب مهارت تمامی افراد سازمان تلاش کنیم. بر این باوریم که نیل به اهداف، با ایجاد بستری برای پیشرفت و نوآوری در کنار سایر فعالیت‌های کاری امکان پذیر خو\n",
      "\n"
     ]
    },
    {
     "name": "stderr",
     "output_type": "stream",
     "text": [
      "C:\\Users\\negin\\anaconda3\\Lib\\site-packages\\urllib3\\connectionpool.py:1099: InsecureRequestWarning: Unverified HTTPS request is being made to host 'jobinja.ir'. Adding certificate verification is strongly advised. See: https://urllib3.readthedocs.io/en/latest/advanced-usage.html#tls-warnings\n",
      "  warnings.warn(\n",
      "C:\\Users\\negin\\anaconda3\\Lib\\site-packages\\urllib3\\connectionpool.py:1099: InsecureRequestWarning: Unverified HTTPS request is being made to host 'jobinja.ir'. Adding certificate verification is strongly advised. See: https://urllib3.readthedocs.io/en/latest/advanced-usage.html#tls-warnings\n",
      "  warnings.warn(\n"
     ]
    },
    {
     "name": "stdout",
     "output_type": "stream",
     "text": [
      "URL: https://jobinja.ir/jobs?filters%5Bjob_categories%5D%5B%5D=IT+%2F+DevOps+%2F+Server\n",
      "Content Snippet: استخدام متخصص امنیت شبکه | استخدام کارشناس شبکه | استخدام help desk | جابینجا\n",
      " | جابینجاامکان جدید:همین حالا رزومه خود را در کمتر از ۱۰ دقیقه بسازید،برو به رزومه‌سازJobinja | جابینجا | استخدام، آگهی استخدام، کاریابی، استخدامی جدید، بازار کار، نیازمندیها، ساخت رزومه رایگان، کار و استخدام دولتی، اشتغال، جستجوگر حرفه ای استخدام و شغلخانهجستجوی مشاغلرزومه‌ساز۵۰ شرکت برتربخش کارفرمایانورود کارجوثبت‌نام کارجوورود کارجوثبت‌نام کارجو۱جابینجا چطور به استخدام شدن من کمک می‌کند؟مشاهدهمشاهده بیشترجستجودرخواست‌های مننشان‌شده‌هاآگهی‌های پیشنهادیاز آگهی‌های جدید باخبر شوبهترین فرصت های شغلی در جابینجاهمه‌ی استان‌هاتهرانخراسان رضویاصفهانالبرزفارسقمآذربایجان شرقیمازندرانگیلانخوزستانکرمانیزدقزوینمرکزیهرمزگانگلستانزنجانسیستان و بلوچستانبوشهرآذربایجان غربیسمنانکرمانشاههمداناردبیللرستانکردستانخراسان شمالیایلامخراسان جنوبیچهارمحال بختیاریکهکیلویه و بویراحمدهمه‌ی دسته‌بندی‌هاIT / DevOps / Serverفروش و بازاریابیوب،‌ برنامه‌نویسی و نرم‌افزارمالی و حسابداریمسئول دفتر، اجرائی و اداریتولید و مدیریت محتوادیجیتال م\n",
      "\n"
     ]
    },
    {
     "name": "stderr",
     "output_type": "stream",
     "text": [
      "C:\\Users\\negin\\anaconda3\\Lib\\site-packages\\urllib3\\connectionpool.py:1099: InsecureRequestWarning: Unverified HTTPS request is being made to host 'jobinja.ir'. Adding certificate verification is strongly advised. See: https://urllib3.readthedocs.io/en/latest/advanced-usage.html#tls-warnings\n",
      "  warnings.warn(\n"
     ]
    },
    {
     "name": "stdout",
     "output_type": "stream",
     "text": [
      "URL: https://jobinja.ir/jobs?filters%5Bkeywords%5D%5B0%5D=%DA%AF%D8%B1%D8%A7%D9%81%DB%8C%D8%B3%D8%AA\n",
      "Content Snippet: فرصت های شغلی گرافیست\n",
      " | جابینجاامکان جدید:همین حالا رزومه خود را در کمتر از ۱۰ دقیقه بسازید،برو به رزومه‌سازJobinja | جابینجا | استخدام، آگهی استخدام، کاریابی، استخدامی جدید، بازار کار، نیازمندیها، ساخت رزومه رایگان، کار و استخدام دولتی، اشتغال، جستجوگر حرفه ای استخدام و شغلخانهجستجوی مشاغلرزومه‌ساز۵۰ شرکت برتربخش کارفرمایانورود کارجوثبت‌نام کارجوورود کارجوثبت‌نام کارجو۱جابینجا چطور به استخدام شدن من کمک می‌کند؟مشاهدهمشاهده بیشترجستجودرخواست‌های مننشان‌شده‌هاآگهی‌های پیشنهادیاز آگهی‌های جدید باخبر شوبهترین فرصت های شغلی در جابینجاهمه‌ی استان‌هاتهرانخراسان رضویاصفهانالبرزفارسقمآذربایجان شرقیمازندرانگیلانخوزستانکرمانیزدقزوینمرکزیهرمزگانگلستانزنجانسیستان و بلوچستانبوشهرآذربایجان غربیسمنانکرمانشاههمداناردبیللرستانکردستانخراسان شمالیایلامخراسان جنوبیچهارمحال بختیاریکهکیلویه و بویراحمدهمه‌ی دسته‌بندی‌هافروش و بازاریابیوب،‌ برنامه‌نویسی و نرم‌افزارمالی و حسابداریمسئول دفتر، اجرائی و اداریتولید و مدیریت محتوادیجیتال مارکتینگپشتیبانی و امور مشتریانطراحیIT / DevOps / Serverمهندسی صنایع و مدیریت\n",
      "\n"
     ]
    },
    {
     "name": "stderr",
     "output_type": "stream",
     "text": [
      "C:\\Users\\negin\\anaconda3\\Lib\\site-packages\\urllib3\\connectionpool.py:1099: InsecureRequestWarning: Unverified HTTPS request is being made to host 'jobinja.ir'. Adding certificate verification is strongly advised. See: https://urllib3.readthedocs.io/en/latest/advanced-usage.html#tls-warnings\n",
      "  warnings.warn(\n"
     ]
    },
    {
     "name": "stdout",
     "output_type": "stream",
     "text": [
      "URL: https://jobinja.ir/companies/asa-1/jobs\n",
      "Content Snippet: فرصت‌های شغلی فعال در ویستا سامانه آسا | ASA | جابینجاامکان جدید:همین حالا رزومه خود را در کمتر از ۱۰ دقیقه بسازید،برو به رزومه‌سازJobinja | جابینجا | استخدام، آگهی استخدام، کاریابی، استخدامی جدید، بازار کار، نیازمندیها، ساخت رزومه رایگان، کار و استخدام دولتی، اشتغال، جستجوگر حرفه ای استخدام و شغلخانهجستجوی مشاغلرزومه‌ساز۵۰ شرکت برتربخش کارفرمایانورود کارجوثبت‌نام کارجوورود کارجوثبت‌نام کارجو۱جابینجا چطور به استخدام شدن من کمک می‌کند؟مشاهدهمشاهده بیشترویستا سامانه آسا|ASAتاسیس در  ۱۳۹۱کامپیوتر، فناوری اطلاعات و اینترنت۵۰۱ تا ۱۰۰۰ نفرasax.irدر یک نگاهمعرفیفرصت‌های شغلی۲۵معرفی ویستا سامانه آساشرکت دانش بنیان آسا از مجموعه ای از افراد پرتلاش و خلاق تشکیل شده که تلاش می کنند تا آسا را به یک شرکت نرم افزاری در حوزه بازارهای مالی تبدیل کنند و برای دست یافتن به این اهداف نیاز به اعضای بیشتری دارد.آسا سقف پرواز ندارد و تلاش می کند مسیر رشد برای هر فرد کوشایی را در یک محیط صمیمی هموار سازد.ما آسایی ها مشتاقیم که بعد از آگاهی از توان علمی و حرفه ای یکدیگر، در کنار هم به موفقیت های بزرگتری دست یا\n",
      "\n"
     ]
    },
    {
     "name": "stderr",
     "output_type": "stream",
     "text": [
      "C:\\Users\\negin\\anaconda3\\Lib\\site-packages\\urllib3\\connectionpool.py:1099: InsecureRequestWarning: Unverified HTTPS request is being made to host 'jobinja.ir'. Adding certificate verification is strongly advised. See: https://urllib3.readthedocs.io/en/latest/advanced-usage.html#tls-warnings\n",
      "  warnings.warn(\n"
     ]
    },
    {
     "name": "stdout",
     "output_type": "stream",
     "text": [
      "URL: https://jobinja.ir/jobs?filters%5Bkeywords%5D%5B0%5D=%D9%81%D8%B1%D9%88%D8%B4%D9%86%D8%AF%D9%87\n",
      "Content Snippet: فرصت های شغلی فروشنده\n",
      " | جابینجاامکان جدید:همین حالا رزومه خود را در کمتر از ۱۰ دقیقه بسازید،برو به رزومه‌سازJobinja | جابینجا | استخدام، آگهی استخدام، کاریابی، استخدامی جدید، بازار کار، نیازمندیها، ساخت رزومه رایگان، کار و استخدام دولتی، اشتغال، جستجوگر حرفه ای استخدام و شغلخانهجستجوی مشاغلرزومه‌ساز۵۰ شرکت برتربخش کارفرمایانورود کارجوثبت‌نام کارجوورود کارجوثبت‌نام کارجو۱جابینجا چطور به استخدام شدن من کمک می‌کند؟مشاهدهمشاهده بیشترجستجودرخواست‌های مننشان‌شده‌هاآگهی‌های پیشنهادیاز آگهی‌های جدید باخبر شوبهترین فرصت های شغلی در جابینجاهمه‌ی استان‌هاتهرانخراسان رضویاصفهانالبرزفارسقمآذربایجان شرقیمازندرانگیلانخوزستانکرمانیزدقزوینمرکزیهرمزگانگلستانزنجانسیستان و بلوچستانبوشهرآذربایجان غربیسمنانکرمانشاههمداناردبیللرستانکردستانخراسان شمالیایلامخراسان جنوبیچهارمحال بختیاریکهکیلویه و بویراحمدهمه‌ی دسته‌بندی‌هافروش و بازاریابیوب،‌ برنامه‌نویسی و نرم‌افزارمالی و حسابداریمسئول دفتر، اجرائی و اداریتولید و مدیریت محتوادیجیتال مارکتینگپشتیبانی و امور مشتریانطراحیIT / DevOps / Serverمهندسی صنایع و مدیریت\n",
      "\n"
     ]
    },
    {
     "name": "stderr",
     "output_type": "stream",
     "text": [
      "C:\\Users\\negin\\anaconda3\\Lib\\site-packages\\urllib3\\connectionpool.py:1099: InsecureRequestWarning: Unverified HTTPS request is being made to host 'jobinja.ir'. Adding certificate verification is strongly advised. See: https://urllib3.readthedocs.io/en/latest/advanced-usage.html#tls-warnings\n",
      "  warnings.warn(\n"
     ]
    },
    {
     "name": "stdout",
     "output_type": "stream",
     "text": [
      "URL: https://jobinja.ir/jobs?filters%5Bkeywords%5D%5B0%5D=%DA%A9%D8%A7%D8%B1%D8%B4%D9%86%D8%A7%D8%B3+%D9%81%D8%B1%D9%88%D8%B4\n",
      "Content Snippet: فرصت های شغلی کارشناس فروش\n",
      " | جابینجاامکان جدید:همین حالا رزومه خود را در کمتر از ۱۰ دقیقه بسازید،برو به رزومه‌سازJobinja | جابینجا | استخدام، آگهی استخدام، کاریابی، استخدامی جدید، بازار کار، نیازمندیها، ساخت رزومه رایگان، کار و استخدام دولتی، اشتغال، جستجوگر حرفه ای استخدام و شغلخانهجستجوی مشاغلرزومه‌ساز۵۰ شرکت برتربخش کارفرمایانورود کارجوثبت‌نام کارجوورود کارجوثبت‌نام کارجو۱جابینجا چطور به استخدام شدن من کمک می‌کند؟مشاهدهمشاهده بیشترجستجودرخواست‌های مننشان‌شده‌هاآگهی‌های پیشنهادیاز آگهی‌های جدید باخبر شوبهترین فرصت های شغلی در جابینجاهمه‌ی استان‌هاتهرانخراسان رضویاصفهانالبرزفارسقمآذربایجان شرقیمازندرانگیلانخوزستانکرمانیزدقزوینمرکزیهرمزگانگلستانزنجانسیستان و بلوچستانبوشهرآذربایجان غربیسمنانکرمانشاههمداناردبیللرستانکردستانخراسان شمالیایلامخراسان جنوبیچهارمحال بختیاریکهکیلویه و بویراحمدهمه‌ی دسته‌بندی‌هافروش و بازاریابیوب،‌ برنامه‌نویسی و نرم‌افزارمالی و حسابداریمسئول دفتر، اجرائی و اداریتولید و مدیریت محتوادیجیتال مارکتینگپشتیبانی و امور مشتریانطراحیIT / DevOps / Serverمهندسی صنایع و م\n",
      "\n"
     ]
    },
    {
     "name": "stderr",
     "output_type": "stream",
     "text": [
      "C:\\Users\\negin\\anaconda3\\Lib\\site-packages\\urllib3\\connectionpool.py:1099: InsecureRequestWarning: Unverified HTTPS request is being made to host 'jobinja.ir'. Adding certificate verification is strongly advised. See: https://urllib3.readthedocs.io/en/latest/advanced-usage.html#tls-warnings\n",
      "  warnings.warn(\n"
     ]
    },
    {
     "name": "stdout",
     "output_type": "stream",
     "text": [
      "URL: https://jobinja.ir/jobs?filters%5Bkeywords%5D%5B0%5D=%DA%A9%D9%85%DA%A9+%D8%AD%D8%B3%D8%A7%D8%A8%D8%AF%D8%A7%D8%B1\n",
      "Content Snippet: فرصت های شغلی کمک حسابدار\n",
      " | جابینجاامکان جدید:همین حالا رزومه خود را در کمتر از ۱۰ دقیقه بسازید،برو به رزومه‌سازJobinja | جابینجا | استخدام، آگهی استخدام، کاریابی، استخدامی جدید، بازار کار، نیازمندیها، ساخت رزومه رایگان، کار و استخدام دولتی، اشتغال، جستجوگر حرفه ای استخدام و شغلخانهجستجوی مشاغلرزومه‌ساز۵۰ شرکت برتربخش کارفرمایانورود کارجوثبت‌نام کارجوورود کارجوثبت‌نام کارجو۱جابینجا چطور به استخدام شدن من کمک می‌کند؟مشاهدهمشاهده بیشترجستجودرخواست‌های مننشان‌شده‌هاآگهی‌های پیشنهادیاز آگهی‌های جدید باخبر شوبهترین فرصت های شغلی در جابینجاهمه‌ی استان‌هاتهرانخراسان رضویاصفهانالبرزفارسقمآذربایجان شرقیمازندرانگیلانخوزستانکرمانیزدقزوینمرکزیهرمزگانگلستانزنجانسیستان و بلوچستانبوشهرآذربایجان غربیسمنانکرمانشاههمداناردبیللرستانکردستانخراسان شمالیایلامخراسان جنوبیچهارمحال بختیاریکهکیلویه و بویراحمدهمه‌ی دسته‌بندی‌هافروش و بازاریابیوب،‌ برنامه‌نویسی و نرم‌افزارمالی و حسابداریمسئول دفتر، اجرائی و اداریتولید و مدیریت محتوادیجیتال مارکتینگپشتیبانی و امور مشتریانطراحیIT / DevOps / Serverمهندسی صنایع و مد\n",
      "\n"
     ]
    },
    {
     "name": "stderr",
     "output_type": "stream",
     "text": [
      "C:\\Users\\negin\\anaconda3\\Lib\\site-packages\\urllib3\\connectionpool.py:1099: InsecureRequestWarning: Unverified HTTPS request is being made to host 'panel.jobinja.ir'. Adding certificate verification is strongly advised. See: https://urllib3.readthedocs.io/en/latest/advanced-usage.html#tls-warnings\n",
      "  warnings.warn(\n"
     ]
    },
    {
     "name": "stdout",
     "output_type": "stream",
     "text": [
      "URL: https://panel.jobinja.ir/auth/sign-in\n",
      "Content Snippet: ورود به حساب کارفرمایی | جابینجاحساب کارفرمایی ندارید؟ثبت نام کارفرمایانکارفرمایانورود به حساب کارفرماییایمیل یا شماره موبایلرمز عبورورودرمز عبور خود را فراموش کرده‌اید؟فراموشی رمز عبور۰۲۱-۹۱۰۷۱۳۹۴تماس با ما×ساعات کاری:شنبه تا چهارشنبه از ۹:۰۰ تا ۱۷:۳۰ به استثنای تعطیلی‌های رسمی۰۲۱-۹۱۰۷۱۳۹۴شرکت فناوران سرمایه انسانی جاویدان (جابینجا)\n",
      "\n"
     ]
    },
    {
     "name": "stderr",
     "output_type": "stream",
     "text": [
      "C:\\Users\\negin\\anaconda3\\Lib\\site-packages\\urllib3\\connectionpool.py:1099: InsecureRequestWarning: Unverified HTTPS request is being made to host 'jobinja.ir'. Adding certificate verification is strongly advised. See: https://urllib3.readthedocs.io/en/latest/advanced-usage.html#tls-warnings\n",
      "  warnings.warn(\n"
     ]
    },
    {
     "name": "stdout",
     "output_type": "stream",
     "text": [
      "URL: https://jobinja.ir/companies/nobitex-1\n",
      "Content Snippet: استخدام در شرکت نوبیتکس، آگهی های استخدام Nobitex | جابینجاامکان جدید:همین حالا رزومه خود را در کمتر از ۱۰ دقیقه بسازید،برو به رزومه‌سازJobinja | جابینجا | استخدام، آگهی استخدام، کاریابی، استخدامی جدید، بازار کار، نیازمندیها، ساخت رزومه رایگان، کار و استخدام دولتی، اشتغال، جستجوگر حرفه ای استخدام و شغلخانهجستجوی مشاغلرزومه‌ساز۵۰ شرکت برتربخش کارفرمایانورود کارجوثبت‌نام کارجوورود کارجوثبت‌نام کارجو۱جابینجا چطور به استخدام شدن من کمک می‌کند؟مشاهدهمشاهده بیشترنوبیتکس|Nobitexتاسیس در  ۱۳۹۶کامپیوتر، فناوری اطلاعات و اینترنت۲۰۱ تا ۵۰۰ نفرnobitex.irدر یک نگاهمعرفیفرصت‌های شغلی۱۰این جا نوبیتکسه: بزرگترین بستر مبادله دارایی‌های دیجیتال در ایران که از سال ۱۳۹۶ شروع به کار کرد. ما تلاش می‌کنیم تا کاربران ایرانی به سادگی دارایی‌های دیجیتال خودشون رو معامله یا نگهداری کننموقعیت مکانیتهران، تهراناعضای شرکتمهدی سیلاویمدیر محصولنوبیتکس به عنوان رهبر بازار رمزارزی ایران، با استفاده از تکنولوژی بلاکچین نه تنها به دنبال خلق ارزش در کشور،‌ بلکه به دنبال نوآوری و حرف تازه در دنیاست. اگه فکر می‌کنی می‌تونی \n",
      "\n"
     ]
    },
    {
     "name": "stderr",
     "output_type": "stream",
     "text": [
      "C:\\Users\\negin\\anaconda3\\Lib\\site-packages\\urllib3\\connectionpool.py:1099: InsecureRequestWarning: Unverified HTTPS request is being made to host 'jobinja.ir'. Adding certificate verification is strongly advised. See: https://urllib3.readthedocs.io/en/latest/advanced-usage.html#tls-warnings\n",
      "  warnings.warn(\n",
      "C:\\Users\\negin\\anaconda3\\Lib\\site-packages\\urllib3\\connectionpool.py:1099: InsecureRequestWarning: Unverified HTTPS request is being made to host 'jobinja.ir'. Adding certificate verification is strongly advised. See: https://urllib3.readthedocs.io/en/latest/advanced-usage.html#tls-warnings\n",
      "  warnings.warn(\n"
     ]
    },
    {
     "name": "stdout",
     "output_type": "stream",
     "text": [
      "URL: https://jobinja.ir/jobs?filters%5Blocations%5D%5B%5D=%D9%84%D8%B1%D8%B3%D8%AA%D8%A7%D9%86\n",
      "Content Snippet: آگهی استخدام لرستان | استخدام لرستان | کاریابی لرستان\n",
      " | جابینجاامکان جدید:همین حالا رزومه خود را در کمتر از ۱۰ دقیقه بسازید،برو به رزومه‌سازJobinja | جابینجا | استخدام، آگهی استخدام، کاریابی، استخدامی جدید، بازار کار، نیازمندیها، ساخت رزومه رایگان، کار و استخدام دولتی، اشتغال، جستجوگر حرفه ای استخدام و شغلخانهجستجوی مشاغلرزومه‌ساز۵۰ شرکت برتربخش کارفرمایانورود کارجوثبت‌نام کارجوورود کارجوثبت‌نام کارجو۱جابینجا چطور به استخدام شدن من کمک می‌کند؟مشاهدهمشاهده بیشترجستجودرخواست‌های مننشان‌شده‌هاآگهی‌های پیشنهادیاز آگهی‌های جدید باخبر شوبهترین فرصت های شغلی در جابینجاهمه‌ی استان‌هالرستانتهرانخراسان رضویاصفهانالبرزفارسقمآذربایجان شرقیمازندرانگیلانخوزستانکرمانیزدقزوینمرکزیهرمزگانگلستانزنجانسیستان و بلوچستانبوشهرآذربایجان غربیسمنانکرمانشاههمداناردبیلکردستانخراسان شمالیایلامخراسان جنوبیچهارمحال بختیاریکهکیلویه و بویراحمدهمه‌ی دسته‌بندی‌هافروش و بازاریابیوب،‌ برنامه‌نویسی و نرم‌افزارمالی و حسابداریمسئول دفتر، اجرائی و اداریتولید و مدیریت محتوادیجیتال مارکتینگپشتیبانی و امور مشتریانطراحیIT / DevO\n",
      "\n"
     ]
    },
    {
     "name": "stderr",
     "output_type": "stream",
     "text": [
      "C:\\Users\\negin\\anaconda3\\Lib\\site-packages\\urllib3\\connectionpool.py:1099: InsecureRequestWarning: Unverified HTTPS request is being made to host 'jobinja.ir'. Adding certificate verification is strongly advised. See: https://urllib3.readthedocs.io/en/latest/advanced-usage.html#tls-warnings\n",
      "  warnings.warn(\n"
     ]
    },
    {
     "name": "stdout",
     "output_type": "stream",
     "text": [
      "URL: https://jobinja.ir/companies/bugloos\n",
      "Content Snippet: استخدام در شرکت باگلوس، آگهی های استخدام Bugloos | جابینجاامکان جدید:همین حالا رزومه خود را در کمتر از ۱۰ دقیقه بسازید،برو به رزومه‌سازJobinja | جابینجا | استخدام، آگهی استخدام، کاریابی، استخدامی جدید، بازار کار، نیازمندیها، ساخت رزومه رایگان، کار و استخدام دولتی، اشتغال، جستجوگر حرفه ای استخدام و شغلخانهجستجوی مشاغلرزومه‌ساز۵۰ شرکت برتربخش کارفرمایانورود کارجوثبت‌نام کارجوورود کارجوثبت‌نام کارجو۱جابینجا چطور به استخدام شدن من کمک می‌کند؟مشاهدهمشاهده بیشترباگلوس|Bugloosتاسیس در  ۲۰۰۶کامپیوتر، فناوری اطلاعات و اینترنت۵۱ تا ۲۰۰ نفرbugloos.com/در یک نگاهمعرفیفرصت‌های شغلی۹باگلوس یک شرکت درزمینه فناوری اطلاعات است که در سال 2006 درهلند تاسیس گردیده است.موقعیت مکانیتهران، تهراناعضای شرکتکمال زرندیمدیر فنیما در باگلوس تونستیم ترکیبی از فرهنگ و خونگرمی ایرانی رو با نظم و کیفیت اروپایی ترکیب کنیم و محیطی پویا، منظم و با خروجی بالا ایجاد کنیم که بتونیم پروژه‌های قابل رقابت با اروپا تولید و به مشتریان ارائه کنیم.هیمن عبداللهی حقیمسئول منابع انسانیدر مجموعه باگلوس شما می‌توانید حس فعالیت در یک خا\n",
      "\n"
     ]
    },
    {
     "name": "stderr",
     "output_type": "stream",
     "text": [
      "C:\\Users\\negin\\anaconda3\\Lib\\site-packages\\urllib3\\connectionpool.py:1099: InsecureRequestWarning: Unverified HTTPS request is being made to host 'jobinja.ir'. Adding certificate verification is strongly advised. See: https://urllib3.readthedocs.io/en/latest/advanced-usage.html#tls-warnings\n",
      "  warnings.warn(\n"
     ]
    },
    {
     "name": "stdout",
     "output_type": "stream",
     "text": [
      "URL: https://jobinja.ir/jobs?filters%5Bkeywords%5D%5B0%5D=%D8%A7%D8%AF%D9%85%DB%8C%D9%86+%D8%AF%D9%88%D8%B1%DA%A9%D8%A7%D8%B1%DB%8C\n",
      "Content Snippet: فرصت های شغلی ادمین دورکاری\n",
      " | جابینجاامکان جدید:همین حالا رزومه خود را در کمتر از ۱۰ دقیقه بسازید،برو به رزومه‌سازJobinja | جابینجا | استخدام، آگهی استخدام، کاریابی، استخدامی جدید، بازار کار، نیازمندیها، ساخت رزومه رایگان، کار و استخدام دولتی، اشتغال، جستجوگر حرفه ای استخدام و شغلخانهجستجوی مشاغلرزومه‌ساز۵۰ شرکت برتربخش کارفرمایانورود کارجوثبت‌نام کارجوورود کارجوثبت‌نام کارجو۱جابینجا چطور به استخدام شدن من کمک می‌کند؟مشاهدهمشاهده بیشترجستجودرخواست‌های مننشان‌شده‌هاآگهی‌های پیشنهادیاز آگهی‌های جدید باخبر شوبهترین فرصت های شغلی در جابینجاهمه‌ی استان‌هاتهرانخراسان رضویاصفهانالبرزفارسقمآذربایجان شرقیمازندرانگیلانخوزستانکرمانیزدقزوینمرکزیهرمزگانگلستانزنجانسیستان و بلوچستانبوشهرآذربایجان غربیسمنانکرمانشاههمداناردبیللرستانکردستانخراسان شمالیایلامخراسان جنوبیچهارمحال بختیاریکهکیلویه و بویراحمدهمه‌ی دسته‌بندی‌هافروش و بازاریابیوب،‌ برنامه‌نویسی و نرم‌افزارمالی و حسابداریمسئول دفتر، اجرائی و اداریتولید و مدیریت محتوادیجیتال مارکتینگپشتیبانی و امور مشتریانطراحیIT / DevOps / Serverمهندسی صنایع و \n",
      "\n"
     ]
    },
    {
     "name": "stderr",
     "output_type": "stream",
     "text": [
      "C:\\Users\\negin\\anaconda3\\Lib\\site-packages\\urllib3\\connectionpool.py:1099: InsecureRequestWarning: Unverified HTTPS request is being made to host 'jobinja.ir'. Adding certificate verification is strongly advised. See: https://urllib3.readthedocs.io/en/latest/advanced-usage.html#tls-warnings\n",
      "  warnings.warn(\n",
      "C:\\Users\\negin\\anaconda3\\Lib\\site-packages\\urllib3\\connectionpool.py:1099: InsecureRequestWarning: Unverified HTTPS request is being made to host 'jobinja.ir'. Adding certificate verification is strongly advised. See: https://urllib3.readthedocs.io/en/latest/advanced-usage.html#tls-warnings\n",
      "  warnings.warn(\n"
     ]
    },
    {
     "name": "stdout",
     "output_type": "stream",
     "text": [
      "URL: https://jobinja.ir/%D8%B3%D9%88%D8%A7%D9%84%D8%A7%D8%AA-%D9%85%D8%AA%D8%AF%D8%A7%D9%88%D9%84-%D8%AF%D8%B1%D8%AC-%D8%A2%DA%AF%D9%87%DB%8C-%D8%A7%D8%B3%D8%AA%D8%AE%D8%AF%D8%A7%D9%85\n",
      "Content Snippet: سوالات متداول کارفرمایان | جابینجاامکان جدید:همین حالا رزومه خود را در کمتر از ۱۰ دقیقه بسازید،برو به رزومه‌سازJobinja | جابینجا | استخدام، آگهی استخدام، کاریابی، استخدامی جدید، بازار کار، نیازمندیها، ساخت رزومه رایگان، کار و استخدام دولتی، اشتغال، جستجوگر حرفه ای استخدام و شغلخانهجستجوی مشاغلرزومه‌ساز۵۰ شرکت برتربخش کارفرمایانورود کارجوثبت‌نام کارجوورود کارجوثبت‌نام کارجو۱جابینجا چطور به استخدام شدن من کمک می‌کند؟مشاهدهمشاهده بیشترسوالات متداول کارفرمایانسوالات متداول حساب کاربری کارفرمایانثبت‌نام و ور...قوانین و شرایط استفاده کارفرمایانهرگونه استفاده از جابینجا به معنی پذیرفتن شرایط مندرج در این سایت است. جابینجا هیچ ت...بخش‌های دانشنامهنمونه رزومه کاریسوالات متداول کارجویانسوالات متداول کارفرمایانکارجویانسوالات متداول کارجویانقوانین و مقررات کارجویانلیست مشاغلآگهی‌های استخدامورود / ثبت‌نام کارجوایمیل‌های اطلاع‌رسانیرزومه‌ساز آنلاینآشنایی با شرکت‌هاکارفرمایانسوالات متداول کارفرمایانقوانین و مقررات کارفرمایاندرج آگهی استخدامورود به بخش کارفرمایانتعرفه‌ی انتشار آگهیسؤالات متداولجابینجا\n",
      "\n"
     ]
    },
    {
     "name": "stderr",
     "output_type": "stream",
     "text": [
      "C:\\Users\\negin\\anaconda3\\Lib\\site-packages\\urllib3\\connectionpool.py:1099: InsecureRequestWarning: Unverified HTTPS request is being made to host 'jobinja.ir'. Adding certificate verification is strongly advised. See: https://urllib3.readthedocs.io/en/latest/advanced-usage.html#tls-warnings\n",
      "  warnings.warn(\n",
      "C:\\Users\\negin\\anaconda3\\Lib\\site-packages\\urllib3\\connectionpool.py:1099: InsecureRequestWarning: Unverified HTTPS request is being made to host 'jobinja.ir'. Adding certificate verification is strongly advised. See: https://urllib3.readthedocs.io/en/latest/advanced-usage.html#tls-warnings\n",
      "  warnings.warn(\n"
     ]
    },
    {
     "name": "stdout",
     "output_type": "stream",
     "text": [
      "URL: https://jobinja.ir/jobs?filters%5Bjob_categories%5D%5B%5D=%D9%81%D8%B1%D9%88%D8%B4+%D9%88+%D8%A8%D8%A7%D8%B2%D8%A7%D8%B1%DB%8C%D8%A7%D8%A8%DB%8C\n",
      "Content Snippet: استخدام فروش و بازاریابی | استخدام بازاریابی و فروش | جابینجا\n",
      " | جابینجاامکان جدید:همین حالا رزومه خود را در کمتر از ۱۰ دقیقه بسازید،برو به رزومه‌سازJobinja | جابینجا | استخدام، آگهی استخدام، کاریابی، استخدامی جدید، بازار کار، نیازمندیها، ساخت رزومه رایگان، کار و استخدام دولتی، اشتغال، جستجوگر حرفه ای استخدام و شغلخانهجستجوی مشاغلرزومه‌ساز۵۰ شرکت برتربخش کارفرمایانورود کارجوثبت‌نام کارجوورود کارجوثبت‌نام کارجو۱جابینجا چطور به استخدام شدن من کمک می‌کند؟مشاهدهمشاهده بیشترجستجودرخواست‌های مننشان‌شده‌هاآگهی‌های پیشنهادیاز آگهی‌های جدید باخبر شوبهترین فرصت های شغلی در جابینجاهمه‌ی استان‌هاتهرانخراسان رضویاصفهانالبرزفارسقمآذربایجان شرقیمازندرانگیلانخوزستانکرمانیزدقزوینمرکزیهرمزگانگلستانزنجانسیستان و بلوچستانبوشهرآذربایجان غربیسمنانکرمانشاههمداناردبیللرستانکردستانخراسان شمالیایلامخراسان جنوبیچهارمحال بختیاریکهکیلویه و بویراحمدهمه‌ی دسته‌بندی‌هافروش و بازاریابیوب،‌ برنامه‌نویسی و نرم‌افزارمالی و حسابداریمسئول دفتر، اجرائی و اداریتولید و مدیریت محتوادیجیتال مارکتینگپشتیبانی و امور مشتریانطراحیI\n",
      "\n"
     ]
    },
    {
     "name": "stderr",
     "output_type": "stream",
     "text": [
      "C:\\Users\\negin\\anaconda3\\Lib\\site-packages\\urllib3\\connectionpool.py:1099: InsecureRequestWarning: Unverified HTTPS request is being made to host 'jobinja.ir'. Adding certificate verification is strongly advised. See: https://urllib3.readthedocs.io/en/latest/advanced-usage.html#tls-warnings\n",
      "  warnings.warn(\n",
      "C:\\Users\\negin\\anaconda3\\Lib\\site-packages\\urllib3\\connectionpool.py:1099: InsecureRequestWarning: Unverified HTTPS request is being made to host 'jobinja.ir'. Adding certificate verification is strongly advised. See: https://urllib3.readthedocs.io/en/latest/advanced-usage.html#tls-warnings\n",
      "  warnings.warn(\n"
     ]
    },
    {
     "name": "stdout",
     "output_type": "stream",
     "text": [
      "URL: https://jobinja.ir/jobs?filters%5Bjob_categories%5D%5B%5D=%DA%AF%D8%B1%D8%AF%D8%B4%DA%AF%D8%B1%DB%8C\n",
      "Content Snippet: کارشناس امور مهاجرت | استخدام کارمند آژانس مسافرتی | کارشناس امور ویزا | جابینجا\n",
      " | جابینجاامکان جدید:همین حالا رزومه خود را در کمتر از ۱۰ دقیقه بسازید،برو به رزومه‌سازJobinja | جابینجا | استخدام، آگهی استخدام، کاریابی، استخدامی جدید، بازار کار، نیازمندیها، ساخت رزومه رایگان، کار و استخدام دولتی، اشتغال، جستجوگر حرفه ای استخدام و شغلخانهجستجوی مشاغلرزومه‌ساز۵۰ شرکت برتربخش کارفرمایانورود کارجوثبت‌نام کارجوورود کارجوثبت‌نام کارجو۱جابینجا چطور به استخدام شدن من کمک می‌کند؟مشاهدهمشاهده بیشترجستجودرخواست‌های مننشان‌شده‌هاآگهی‌های پیشنهادیاز آگهی‌های جدید باخبر شوبهترین فرصت های شغلی در جابینجاهمه‌ی استان‌هاتهرانخراسان رضویاصفهانالبرزفارسقمآذربایجان شرقیمازندرانگیلانخوزستانکرمانیزدقزوینمرکزیهرمزگانگلستانزنجانسیستان و بلوچستانبوشهرآذربایجان غربیسمنانکرمانشاههمداناردبیللرستانکردستانخراسان شمالیایلامخراسان جنوبیچهارمحال بختیاریکهکیلویه و بویراحمدهمه‌ی دسته‌بندی‌هاگردشگریفروش و بازاریابیوب،‌ برنامه‌نویسی و نرم‌افزارمالی و حسابداریمسئول دفتر، اجرائی و اداریتولید و مدیریت محتوادیجیتال مارکتینگپشت\n",
      "\n"
     ]
    },
    {
     "name": "stderr",
     "output_type": "stream",
     "text": [
      "C:\\Users\\negin\\anaconda3\\Lib\\site-packages\\urllib3\\connectionpool.py:1099: InsecureRequestWarning: Unverified HTTPS request is being made to host 'jobinja.ir'. Adding certificate verification is strongly advised. See: https://urllib3.readthedocs.io/en/latest/advanced-usage.html#tls-warnings\n",
      "  warnings.warn(\n"
     ]
    },
    {
     "name": "stdout",
     "output_type": "stream",
     "text": [
      "URL: https://jobinja.ir/jobs?filters%5Bkeywords%5D%5B0%5D=Php\n",
      "Content Snippet: فرصت های شغلی Php\n",
      " | جابینجاامکان جدید:همین حالا رزومه خود را در کمتر از ۱۰ دقیقه بسازید،برو به رزومه‌سازJobinja | جابینجا | استخدام، آگهی استخدام، کاریابی، استخدامی جدید، بازار کار، نیازمندیها، ساخت رزومه رایگان، کار و استخدام دولتی، اشتغال، جستجوگر حرفه ای استخدام و شغلخانهجستجوی مشاغلرزومه‌ساز۵۰ شرکت برتربخش کارفرمایانورود کارجوثبت‌نام کارجوورود کارجوثبت‌نام کارجو۱جابینجا چطور به استخدام شدن من کمک می‌کند؟مشاهدهمشاهده بیشترجستجودرخواست‌های مننشان‌شده‌هاآگهی‌های پیشنهادیاز آگهی‌های جدید باخبر شوبهترین فرصت های شغلی در جابینجاهمه‌ی استان‌هاتهرانخراسان رضویاصفهانالبرزفارسقمآذربایجان شرقیمازندرانگیلانخوزستانکرمانیزدقزوینمرکزیهرمزگانگلستانزنجانسیستان و بلوچستانبوشهرآذربایجان غربیسمنانکرمانشاههمداناردبیللرستانکردستانخراسان شمالیایلامخراسان جنوبیچهارمحال بختیاریکهکیلویه و بویراحمدهمه‌ی دسته‌بندی‌هافروش و بازاریابیوب،‌ برنامه‌نویسی و نرم‌افزارمالی و حسابداریمسئول دفتر، اجرائی و اداریتولید و مدیریت محتوادیجیتال مارکتینگپشتیبانی و امور مشتریانطراحیIT / DevOps / Serverمهندسی صنایع و مدیریت صنع\n",
      "\n"
     ]
    },
    {
     "name": "stderr",
     "output_type": "stream",
     "text": [
      "C:\\Users\\negin\\anaconda3\\Lib\\site-packages\\urllib3\\connectionpool.py:1099: InsecureRequestWarning: Unverified HTTPS request is being made to host 'jobinja.ir'. Adding certificate verification is strongly advised. See: https://urllib3.readthedocs.io/en/latest/advanced-usage.html#tls-warnings\n",
      "  warnings.warn(\n",
      "C:\\Users\\negin\\anaconda3\\Lib\\site-packages\\urllib3\\connectionpool.py:1099: InsecureRequestWarning: Unverified HTTPS request is being made to host 'jobinja.ir'. Adding certificate verification is strongly advised. See: https://urllib3.readthedocs.io/en/latest/advanced-usage.html#tls-warnings\n",
      "  warnings.warn(\n"
     ]
    },
    {
     "name": "stdout",
     "output_type": "stream",
     "text": [
      "URL: https://jobinja.ir/jobs?filters%5Bjob_categories%5D%5B%5D=%D8%AD%D9%88%D8%B2%D9%87%E2%80%8C+%D8%B3%DB%8C%D9%86%D9%85%D8%A7+%D9%88+%D8%AA%D8%B5%D9%88%DB%8C%D8%B1\n",
      "Content Snippet: استخدام تصویربردار | استخدام مجری\n",
      " | جابینجاامکان جدید:همین حالا رزومه خود را در کمتر از ۱۰ دقیقه بسازید،برو به رزومه‌سازJobinja | جابینجا | استخدام، آگهی استخدام، کاریابی، استخدامی جدید، بازار کار، نیازمندیها، ساخت رزومه رایگان، کار و استخدام دولتی، اشتغال، جستجوگر حرفه ای استخدام و شغلخانهجستجوی مشاغلرزومه‌ساز۵۰ شرکت برتربخش کارفرمایانورود کارجوثبت‌نام کارجوورود کارجوثبت‌نام کارجو۱جابینجا چطور به استخدام شدن من کمک می‌کند؟مشاهدهمشاهده بیشترجستجودرخواست‌های مننشان‌شده‌هاآگهی‌های پیشنهادیاز آگهی‌های جدید باخبر شوبهترین فرصت های شغلی در جابینجاهمه‌ی استان‌هاتهرانخراسان رضویاصفهانالبرزفارسقمآذربایجان شرقیمازندرانگیلانخوزستانکرمانیزدقزوینمرکزیهرمزگانگلستانزنجانسیستان و بلوچستانبوشهرآذربایجان غربیسمنانکرمانشاههمداناردبیللرستانکردستانخراسان شمالیایلامخراسان جنوبیچهارمحال بختیاریکهکیلویه و بویراحمدهمه‌ی دسته‌بندی‌هاحوزه‌ سینما و تصویرفروش و بازاریابیوب،‌ برنامه‌نویسی و نرم‌افزارمالی و حسابداریمسئول دفتر، اجرائی و اداریتولید و مدیریت محتوادیجیتال مارکتینگپشتیبانی و امور مشتریانطراحیIT / DevOp\n",
      "\n"
     ]
    },
    {
     "name": "stderr",
     "output_type": "stream",
     "text": [
      "C:\\Users\\negin\\anaconda3\\Lib\\site-packages\\urllib3\\connectionpool.py:1099: InsecureRequestWarning: Unverified HTTPS request is being made to host 'jobinja.ir'. Adding certificate verification is strongly advised. See: https://urllib3.readthedocs.io/en/latest/advanced-usage.html#tls-warnings\n",
      "  warnings.warn(\n",
      "C:\\Users\\negin\\anaconda3\\Lib\\site-packages\\urllib3\\connectionpool.py:1099: InsecureRequestWarning: Unverified HTTPS request is being made to host 'jobinja.ir'. Adding certificate verification is strongly advised. See: https://urllib3.readthedocs.io/en/latest/advanced-usage.html#tls-warnings\n",
      "  warnings.warn(\n"
     ]
    },
    {
     "name": "stdout",
     "output_type": "stream",
     "text": [
      "URL: https://jobinja.ir/jobs?filters%5Blocations%5D%5B%5D=%DA%86%D9%87%D8%A7%D8%B1%D9%85%D8%AD%D8%A7%D9%84+%D8%A8%D8%AE%D8%AA%DB%8C%D8%A7%D8%B1%DB%8C\n",
      "Content Snippet: آگهی استخدام چهارمحال بختیاری | استخدام چهارمحال بختیاری | کاریابی چهارمحال بختیاری\n",
      " | جابینجاامکان جدید:همین حالا رزومه خود را در کمتر از ۱۰ دقیقه بسازید،برو به رزومه‌سازJobinja | جابینجا | استخدام، آگهی استخدام، کاریابی، استخدامی جدید، بازار کار، نیازمندیها، ساخت رزومه رایگان، کار و استخدام دولتی، اشتغال، جستجوگر حرفه ای استخدام و شغلخانهجستجوی مشاغلرزومه‌ساز۵۰ شرکت برتربخش کارفرمایانورود کارجوثبت‌نام کارجوورود کارجوثبت‌نام کارجو۱جابینجا چطور به استخدام شدن من کمک می‌کند؟مشاهدهمشاهده بیشترجستجودرخواست‌های مننشان‌شده‌هاآگهی‌های پیشنهادیاز آگهی‌های جدید باخبر شوبهترین فرصت های شغلی در جابینجاهمه‌ی استان‌هاچهارمحال بختیاریتهرانخراسان رضویاصفهانالبرزفارسقمآذربایجان شرقیمازندرانگیلانخوزستانکرمانیزدقزوینمرکزیهرمزگانگلستانزنجانسیستان و بلوچستانبوشهرآذربایجان غربیسمنانکرمانشاههمداناردبیللرستانکردستانخراسان شمالیایلامخراسان جنوبیکهکیلویه و بویراحمدهمه‌ی دسته‌بندی‌هافروش و بازاریابیوب،‌ برنامه‌نویسی و نرم‌افزارمالی و حسابداریمسئول دفتر، اجرائی و اداریتولید و مدیریت محتوادیجیتال مارکتینگپشتیبان\n",
      "\n"
     ]
    },
    {
     "name": "stderr",
     "output_type": "stream",
     "text": [
      "C:\\Users\\negin\\anaconda3\\Lib\\site-packages\\urllib3\\connectionpool.py:1099: InsecureRequestWarning: Unverified HTTPS request is being made to host 'jobinja.ir'. Adding certificate verification is strongly advised. See: https://urllib3.readthedocs.io/en/latest/advanced-usage.html#tls-warnings\n",
      "  warnings.warn(\n",
      "C:\\Users\\negin\\anaconda3\\Lib\\site-packages\\urllib3\\connectionpool.py:1099: InsecureRequestWarning: Unverified HTTPS request is being made to host 'jobinja.ir'. Adding certificate verification is strongly advised. See: https://urllib3.readthedocs.io/en/latest/advanced-usage.html#tls-warnings\n",
      "  warnings.warn(\n"
     ]
    },
    {
     "name": "stdout",
     "output_type": "stream",
     "text": [
      "URL: https://jobinja.ir/jobs?filters%5Blocations%5D%5B%5D=%D8%AE%D8%B1%D8%A7%D8%B3%D8%A7%D9%86+%D8%B1%D8%B6%D9%88%DB%8C\n",
      "Content Snippet: آگهی استخدام خراسان رضوی | استخدام خراسان رضوی | کاریابی خراسان رضوی\n",
      " | جابینجاامکان جدید:همین حالا رزومه خود را در کمتر از ۱۰ دقیقه بسازید،برو به رزومه‌سازJobinja | جابینجا | استخدام، آگهی استخدام، کاریابی، استخدامی جدید، بازار کار، نیازمندیها، ساخت رزومه رایگان، کار و استخدام دولتی، اشتغال، جستجوگر حرفه ای استخدام و شغلخانهجستجوی مشاغلرزومه‌ساز۵۰ شرکت برتربخش کارفرمایانورود کارجوثبت‌نام کارجوورود کارجوثبت‌نام کارجو۱جابینجا چطور به استخدام شدن من کمک می‌کند؟مشاهدهمشاهده بیشترجستجودرخواست‌های مننشان‌شده‌هاآگهی‌های پیشنهادیاز آگهی‌های جدید باخبر شوبهترین فرصت های شغلی در جابینجاهمه‌ی استان‌هاخراسان رضویتهراناصفهانالبرزفارسقمآذربایجان شرقیمازندرانگیلانخوزستانکرمانیزدقزوینمرکزیهرمزگانگلستانزنجانسیستان و بلوچستانبوشهرآذربایجان غربیسمنانکرمانشاههمداناردبیللرستانکردستانخراسان شمالیایلامخراسان جنوبیچهارمحال بختیاریکهکیلویه و بویراحمدهمه‌ی دسته‌بندی‌هافروش و بازاریابیوب،‌ برنامه‌نویسی و نرم‌افزارمالی و حسابداریمسئول دفتر، اجرائی و اداریتولید و مدیریت محتوادیجیتال مارکتینگپشتیبانی و امور مشتریا\n",
      "\n"
     ]
    },
    {
     "name": "stderr",
     "output_type": "stream",
     "text": [
      "C:\\Users\\negin\\anaconda3\\Lib\\site-packages\\urllib3\\connectionpool.py:1099: InsecureRequestWarning: Unverified HTTPS request is being made to host 'jobinja.ir'. Adding certificate verification is strongly advised. See: https://urllib3.readthedocs.io/en/latest/advanced-usage.html#tls-warnings\n",
      "  warnings.warn(\n"
     ]
    },
    {
     "name": "stdout",
     "output_type": "stream",
     "text": [
      "URL: https://jobinja.ir/knowledge/employer-faq/pages/employer-tos\n",
      "Content Snippet: قوانین و شرایط استفاده کارفرمایان | جابینجاامکان جدید:همین حالا رزومه خود را در کمتر از ۱۰ دقیقه بسازید،برو به رزومه‌سازJobinja | جابینجا | استخدام، آگهی استخدام، کاریابی، استخدامی جدید، بازار کار، نیازمندیها، ساخت رزومه رایگان، کار و استخدام دولتی، اشتغال، جستجوگر حرفه ای استخدام و شغلخانهجستجوی مشاغلرزومه‌ساز۵۰ شرکت برتربخش کارفرمایانورود کارجوثبت‌نام کارجوورود کارجوثبت‌نام کارجو۱جابینجا چطور به استخدام شدن من کمک می‌کند؟مشاهدهمشاهده بیشترسوالات متداول کارفرمایانقوانین و شرایط استفاده کارفرمایانقوانین و شرایط استفاده کارفرمایانهرگونه استفاده از جابینجا به معنی پذیرفتن شرایط مندرج در این سایت است. جابینجا هیچ توافقی با کاربران خارج از این شرایط ندارد. شرایط زیر مربوط به کسانی است که به هر شکلی از آگهی‌های منتشر شده‌ جابینجا استفاده می‌کنند.موارد زیر منجر به عدم انتشار آگهی و یا تغییر آن خواهد شد:مغایرت با قوانین جاری جمهوری اسلامی ایران و عرف جامعه، ناقض حریم شخصی افراد، نقص در اطلاعات شرکت (مانند لوگو، شرح فعالیت، آدرس وب‌سایت، شماره تلفن و...)، هر گونه توهین به ادیان رسمی کشور، آداب\n",
      "\n"
     ]
    },
    {
     "name": "stderr",
     "output_type": "stream",
     "text": [
      "C:\\Users\\negin\\anaconda3\\Lib\\site-packages\\urllib3\\connectionpool.py:1099: InsecureRequestWarning: Unverified HTTPS request is being made to host 'jobinja.ir'. Adding certificate verification is strongly advised. See: https://urllib3.readthedocs.io/en/latest/advanced-usage.html#tls-warnings\n",
      "  warnings.warn(\n"
     ]
    },
    {
     "name": "stdout",
     "output_type": "stream",
     "text": [
      "URL: https://jobinja.ir/companies/falnic-%28iranhp%29\n",
      "Content Snippet: استخدام در شرکت فالنیک (ایران اچ پی)، آگهی های استخدام Falnic-IranHP | جابینجاامکان جدید:همین حالا رزومه خود را در کمتر از ۱۰ دقیقه بسازید،برو به رزومه‌سازJobinja | جابینجا | استخدام، آگهی استخدام، کاریابی، استخدامی جدید، بازار کار، نیازمندیها، ساخت رزومه رایگان، کار و استخدام دولتی، اشتغال، جستجوگر حرفه ای استخدام و شغلخانهجستجوی مشاغلرزومه‌ساز۵۰ شرکت برتربخش کارفرمایانورود کارجوثبت‌نام کارجوورود کارجوثبت‌نام کارجو۱جابینجا چطور به استخدام شدن من کمک می‌کند؟مشاهدهمشاهده بیشترفالنیک (ایران اچ پی)|Falnic-IranHPتاسیس در  ۱۳۷۴کامپیوتر، فناوری اطلاعات و اینترنت۵۱ تا ۲۰۰ نفرfalnic.comدر یک نگاهمعرفیفرصت‌های شغلی۱۰فالنیک (ایران اچ پی)، دارنده بزرگترین سبد محصولات و خدمات اچ پی در ایران است و اولین شرکتی است که برای محصولات اچ پی گارانتی رسمی ارائه می‌کند.موقعیت مکانیتهران، تهراناعضای شرکتسیدغلامحسین بشیرنژادموسس و مدیرعاملما، در ایران اچ پی که امروز تبدیل به فالِ نیکِ مشتریان خود شده است، با تعهد و مسئول دانستن خود نسبت به مشتری می‌کوشیم تا فراتر از انتظار او را فراهم سازیم.ندا حبیب الهمدیر و\n",
      "\n"
     ]
    },
    {
     "name": "stderr",
     "output_type": "stream",
     "text": [
      "C:\\Users\\negin\\anaconda3\\Lib\\site-packages\\urllib3\\connectionpool.py:1099: InsecureRequestWarning: Unverified HTTPS request is being made to host 'jobinja.ir'. Adding certificate verification is strongly advised. See: https://urllib3.readthedocs.io/en/latest/advanced-usage.html#tls-warnings\n",
      "  warnings.warn(\n",
      "C:\\Users\\negin\\anaconda3\\Lib\\site-packages\\urllib3\\connectionpool.py:1099: InsecureRequestWarning: Unverified HTTPS request is being made to host 'jobinja.ir'. Adding certificate verification is strongly advised. See: https://urllib3.readthedocs.io/en/latest/advanced-usage.html#tls-warnings\n",
      "  warnings.warn(\n"
     ]
    },
    {
     "name": "stdout",
     "output_type": "stream",
     "text": [
      "URL: https://jobinja.ir/jobs?filters%5Bjob_categories%5D%5B%5D=%D9%87%D8%AA%D9%84%D8%AF%D8%A7%D8%B1%DB%8C\n",
      "Content Snippet: استخدام کارشناس هتلداری | آگهی استخدام هتلداری\n",
      " | جابینجاامکان جدید:همین حالا رزومه خود را در کمتر از ۱۰ دقیقه بسازید،برو به رزومه‌سازJobinja | جابینجا | استخدام، آگهی استخدام، کاریابی، استخدامی جدید، بازار کار، نیازمندیها، ساخت رزومه رایگان، کار و استخدام دولتی، اشتغال، جستجوگر حرفه ای استخدام و شغلخانهجستجوی مشاغلرزومه‌ساز۵۰ شرکت برتربخش کارفرمایانورود کارجوثبت‌نام کارجوورود کارجوثبت‌نام کارجو۱جابینجا چطور به استخدام شدن من کمک می‌کند؟مشاهدهمشاهده بیشترجستجودرخواست‌های مننشان‌شده‌هاآگهی‌های پیشنهادیاز آگهی‌های جدید باخبر شوبهترین فرصت های شغلی در جابینجاهمه‌ی استان‌هاتهرانخراسان رضویاصفهانالبرزفارسقمآذربایجان شرقیمازندرانگیلانخوزستانکرمانیزدقزوینمرکزیهرمزگانگلستانزنجانسیستان و بلوچستانبوشهرآذربایجان غربیسمنانکرمانشاههمداناردبیللرستانکردستانخراسان شمالیایلامخراسان جنوبیچهارمحال بختیاریکهکیلویه و بویراحمدهمه‌ی دسته‌بندی‌هاهتلداریفروش و بازاریابیوب،‌ برنامه‌نویسی و نرم‌افزارمالی و حسابداریمسئول دفتر، اجرائی و اداریتولید و مدیریت محتوادیجیتال مارکتینگپشتیبانی و امور مشتریانطراحیIT / DevO\n",
      "\n"
     ]
    },
    {
     "name": "stderr",
     "output_type": "stream",
     "text": [
      "C:\\Users\\negin\\anaconda3\\Lib\\site-packages\\urllib3\\connectionpool.py:1099: InsecureRequestWarning: Unverified HTTPS request is being made to host 'jobinja.ir'. Adding certificate verification is strongly advised. See: https://urllib3.readthedocs.io/en/latest/advanced-usage.html#tls-warnings\n",
      "  warnings.warn(\n",
      "C:\\Users\\negin\\anaconda3\\Lib\\site-packages\\urllib3\\connectionpool.py:1099: InsecureRequestWarning: Unverified HTTPS request is being made to host 'jobinja.ir'. Adding certificate verification is strongly advised. See: https://urllib3.readthedocs.io/en/latest/advanced-usage.html#tls-warnings\n",
      "  warnings.warn(\n"
     ]
    },
    {
     "name": "stdout",
     "output_type": "stream",
     "text": [
      "URL: https://jobinja.ir/jobs?filters%5Blocations%5D%5B%5D=%DA%A9%D8%B1%D9%85%D8%A7%D9%86%D8%B4%D8%A7%D9%87\n",
      "Content Snippet: استخدام کرمانشاه | کاریابی کرمانشاه | آگهی استخدام کرمانشاه\n",
      " | جابینجاامکان جدید:همین حالا رزومه خود را در کمتر از ۱۰ دقیقه بسازید،برو به رزومه‌سازJobinja | جابینجا | استخدام، آگهی استخدام، کاریابی، استخدامی جدید، بازار کار، نیازمندیها، ساخت رزومه رایگان، کار و استخدام دولتی، اشتغال، جستجوگر حرفه ای استخدام و شغلخانهجستجوی مشاغلرزومه‌ساز۵۰ شرکت برتربخش کارفرمایانورود کارجوثبت‌نام کارجوورود کارجوثبت‌نام کارجو۱جابینجا چطور به استخدام شدن من کمک می‌کند؟مشاهدهمشاهده بیشترجستجودرخواست‌های مننشان‌شده‌هاآگهی‌های پیشنهادیاز آگهی‌های جدید باخبر شوبهترین فرصت های شغلی در جابینجاهمه‌ی استان‌هاکرمانشاهتهرانخراسان رضویاصفهانالبرزفارسقمآذربایجان شرقیمازندرانگیلانخوزستانکرمانیزدقزوینمرکزیهرمزگانگلستانزنجانسیستان و بلوچستانبوشهرآذربایجان غربیسمنانهمداناردبیللرستانکردستانخراسان شمالیایلامخراسان جنوبیچهارمحال بختیاریکهکیلویه و بویراحمدهمه‌ی دسته‌بندی‌هافروش و بازاریابیوب،‌ برنامه‌نویسی و نرم‌افزارمالی و حسابداریمسئول دفتر، اجرائی و اداریتولید و مدیریت محتوادیجیتال مارکتینگپشتیبانی و امور مشتریانطراحیIT \n",
      "\n"
     ]
    },
    {
     "name": "stderr",
     "output_type": "stream",
     "text": [
      "C:\\Users\\negin\\anaconda3\\Lib\\site-packages\\urllib3\\connectionpool.py:1099: InsecureRequestWarning: Unverified HTTPS request is being made to host 'jobinja.ir'. Adding certificate verification is strongly advised. See: https://urllib3.readthedocs.io/en/latest/advanced-usage.html#tls-warnings\n",
      "  warnings.warn(\n",
      "C:\\Users\\negin\\anaconda3\\Lib\\site-packages\\urllib3\\connectionpool.py:1099: InsecureRequestWarning: Unverified HTTPS request is being made to host 'jobinja.ir'. Adding certificate verification is strongly advised. See: https://urllib3.readthedocs.io/en/latest/advanced-usage.html#tls-warnings\n",
      "  warnings.warn(\n"
     ]
    },
    {
     "name": "stdout",
     "output_type": "stream",
     "text": [
      "URL: https://jobinja.ir/jobs?filters%5Bkeywords%5D%5B0%5D=%D8%AA%D9%88%D9%84%DB%8C%D8%AF+%D9%85%D8%AD%D8%AA%D9%88%D8%A7\n",
      "Content Snippet: استخدام تولید محتوا | استخدام کارشناس تولید محتوا و کپی رایتر\n",
      " | جابینجاامکان جدید:همین حالا رزومه خود را در کمتر از ۱۰ دقیقه بسازید،برو به رزومه‌سازJobinja | جابینجا | استخدام، آگهی استخدام، کاریابی، استخدامی جدید، بازار کار، نیازمندیها، ساخت رزومه رایگان، کار و استخدام دولتی، اشتغال، جستجوگر حرفه ای استخدام و شغلخانهجستجوی مشاغلرزومه‌ساز۵۰ شرکت برتربخش کارفرمایانورود کارجوثبت‌نام کارجوورود کارجوثبت‌نام کارجو۱جابینجا چطور به استخدام شدن من کمک می‌کند؟مشاهدهمشاهده بیشترجستجودرخواست‌های مننشان‌شده‌هاآگهی‌های پیشنهادیاز آگهی‌های جدید باخبر شوبهترین فرصت های شغلی در جابینجاهمه‌ی استان‌هاتهرانخراسان رضویاصفهانالبرزفارسقمآذربایجان شرقیمازندرانگیلانخوزستانکرمانیزدقزوینمرکزیهرمزگانگلستانزنجانسیستان و بلوچستانبوشهرآذربایجان غربیسمنانکرمانشاههمداناردبیللرستانکردستانخراسان شمالیایلامخراسان جنوبیچهارمحال بختیاریکهکیلویه و بویراحمدهمه‌ی دسته‌بندی‌هافروش و بازاریابیوب،‌ برنامه‌نویسی و نرم‌افزارمالی و حسابداریمسئول دفتر، اجرائی و اداریتولید و مدیریت محتوادیجیتال مارکتینگپشتیبانی و امور مشتریانطراحیI\n",
      "\n"
     ]
    },
    {
     "name": "stderr",
     "output_type": "stream",
     "text": [
      "C:\\Users\\negin\\anaconda3\\Lib\\site-packages\\urllib3\\connectionpool.py:1099: InsecureRequestWarning: Unverified HTTPS request is being made to host 'jobinja.ir'. Adding certificate verification is strongly advised. See: https://urllib3.readthedocs.io/en/latest/advanced-usage.html#tls-warnings\n",
      "  warnings.warn(\n"
     ]
    },
    {
     "name": "stdout",
     "output_type": "stream",
     "text": [
      "URL: https://jobinja.ir/jobs?filters%5Bkeywords%5D%5B0%5D=%D9%BE%D8%A7%DB%8C%D8%AA%D9%88%D9%86\n",
      "Content Snippet: فرصت های شغلی پایتون\n",
      " | جابینجاامکان جدید:همین حالا رزومه خود را در کمتر از ۱۰ دقیقه بسازید،برو به رزومه‌سازJobinja | جابینجا | استخدام، آگهی استخدام، کاریابی، استخدامی جدید، بازار کار، نیازمندیها، ساخت رزومه رایگان، کار و استخدام دولتی، اشتغال، جستجوگر حرفه ای استخدام و شغلخانهجستجوی مشاغلرزومه‌ساز۵۰ شرکت برتربخش کارفرمایانورود کارجوثبت‌نام کارجوورود کارجوثبت‌نام کارجو۱جابینجا چطور به استخدام شدن من کمک می‌کند؟مشاهدهمشاهده بیشترجستجودرخواست‌های مننشان‌شده‌هاآگهی‌های پیشنهادیاز آگهی‌های جدید باخبر شوبهترین فرصت های شغلی در جابینجاهمه‌ی استان‌هاتهرانخراسان رضویاصفهانالبرزفارسقمآذربایجان شرقیمازندرانگیلانخوزستانکرمانیزدقزوینمرکزیهرمزگانگلستانزنجانسیستان و بلوچستانبوشهرآذربایجان غربیسمنانکرمانشاههمداناردبیللرستانکردستانخراسان شمالیایلامخراسان جنوبیچهارمحال بختیاریکهکیلویه و بویراحمدهمه‌ی دسته‌بندی‌هافروش و بازاریابیوب،‌ برنامه‌نویسی و نرم‌افزارمالی و حسابداریمسئول دفتر، اجرائی و اداریتولید و مدیریت محتوادیجیتال مارکتینگپشتیبانی و امور مشتریانطراحیIT / DevOps / Serverمهندسی صنایع و مدیریت \n",
      "\n"
     ]
    },
    {
     "name": "stderr",
     "output_type": "stream",
     "text": [
      "C:\\Users\\negin\\anaconda3\\Lib\\site-packages\\urllib3\\connectionpool.py:1099: InsecureRequestWarning: Unverified HTTPS request is being made to host 'jobinja.ir'. Adding certificate verification is strongly advised. See: https://urllib3.readthedocs.io/en/latest/advanced-usage.html#tls-warnings\n",
      "  warnings.warn(\n"
     ]
    },
    {
     "name": "stdout",
     "output_type": "stream",
     "text": [
      "URL: https://jobinja.ir/companies/doornian-teb-group/jobs/AmyU/%D8%A7%D8%B3%D8%AA%D8%AE%D8%AF%D8%A7%D9%85-%DA%A9%D8%A7%D8%B1%D8%B4%D9%86%D8%A7%D8%B3-%D8%A7%D8%B1%D8%AA%D8%A8%D8%A7%D8%B7-%D8%A8%D8%A7-%D9%85%D8%B4%D8%AA%D8%B1%DB%8C-crm-%D8%AE%D8%A7%D9%86%D9%85-%D8%AF%D8%B1-%DA%AF%D8%B1%D9%88%D9%87-%D9%BE%D8%B2%D8%B4%DA%A9%DB%8C-%D8%AF%D8%B1%D9%86%DB%8C%D8%A7%D9%86-%D8%B7%D8%A8?_ref=18\n",
      "Content Snippet: استخدام کارشناس ارتباط با مشتری (CRM-خانم) در گروه پزشکی درنیان طب | جابینجاامکان جدید:همین حالا رزومه خود را در کمتر از ۱۰ دقیقه بسازید،برو به رزومه‌سازJobinja | جابینجا | استخدام، آگهی استخدام، کاریابی، استخدامی جدید، بازار کار، نیازمندیها، ساخت رزومه رایگان، کار و استخدام دولتی، اشتغال، جستجوگر حرفه ای استخدام و شغلخانهجستجوی مشاغلرزومه‌ساز۵۰ شرکت برتربخش کارفرمایانورود کارجوثبت‌نام کارجوورود کارجوثبت‌نام کارجو۱جابینجا چطور به استخدام شدن من کمک می‌کند؟مشاهدهمشاهده بیشترگروه پزشکی درنیان طب|Doornian Teb Groupخدمات درمانی، پزشکی و سلامت۵۱ تا ۲۰۰ نفرwww.doornian.irفرصت‌های شغلی۳استخدام کارشناس ارتباط با مشتری (CRM-خانم)لطفا برای مشاهده‌ی جزییات و ارسال رزومهیکی از راه‌های زیر را انتخاب کنیدورود / ثبت‌نام با ایمیلimage/svg+xmlbtn_google_light_normal_iosbtn_google_light_normal_iosCreated with Sketch.ورود / ثبت‌نام با گوگل\n",
      "                    (Gmail)ورود / ثبت‌نام با لینکدیناستخدام کارشناس ارتباط با مشتری (CRM-خانم){{ tooltipText }}{{ hoverTitle }}نشان کردنحذف نشاندسته‌بندی شغلیپشتیبانی \n",
      "\n"
     ]
    },
    {
     "name": "stderr",
     "output_type": "stream",
     "text": [
      "C:\\Users\\negin\\anaconda3\\Lib\\site-packages\\urllib3\\connectionpool.py:1099: InsecureRequestWarning: Unverified HTTPS request is being made to host 'jobinja.ir'. Adding certificate verification is strongly advised. See: https://urllib3.readthedocs.io/en/latest/advanced-usage.html#tls-warnings\n",
      "  warnings.warn(\n"
     ]
    },
    {
     "name": "stdout",
     "output_type": "stream",
     "text": [
      "URL: https://jobinja.ir/companies/salem-tejarat-asia-1\n",
      "Content Snippet: استخدام در شرکت پیوان، آگهی های استخدام Pivan | جابینجاامکان جدید:همین حالا رزومه خود را در کمتر از ۱۰ دقیقه بسازید،برو به رزومه‌سازJobinja | جابینجا | استخدام، آگهی استخدام، کاریابی، استخدامی جدید، بازار کار، نیازمندیها، ساخت رزومه رایگان، کار و استخدام دولتی، اشتغال، جستجوگر حرفه ای استخدام و شغلخانهجستجوی مشاغلرزومه‌ساز۵۰ شرکت برتربخش کارفرمایانورود کارجوثبت‌نام کارجوورود کارجوثبت‌نام کارجو۱جابینجا چطور به استخدام شدن من کمک می‌کند؟مشاهدهمشاهده بیشترپیوان|Pivanتاسیس در  ۱۳۸۹واردات و صادرات۵۱ تا ۲۰۰ نفرpivan.co/در یک نگاهمعرفیفرصت‌های شغلی۷با اتکا به بیش از نیم قرن تجربه گروه موسسین ، \"شرکت پیوان\" با برند تجاری STA در حوزه تامین و فروش انواع محصولات فولادی بامسئولیت محدود تاسیس گردید.موقعیت مکانیتهران، تهراناعضای شرکتامیرحسین عربسرپرست فروشجو صمیمی و دوستانه حاکم بر شرکت و همدلی بسیار قوی در جهت دستیابی به اهداف مشترک و پذیرش یکدیگر با نقاط ضعف و قوت و همکاری با یکدیگر در جهت رشد کاری و شخصیتی از بهترین نکات همکاری در پیوان است.الهه محمدخانیمسئول بازرگانیایجاد صمیمیت ، رفاقت ،امنیت و\n",
      "\n"
     ]
    },
    {
     "name": "stderr",
     "output_type": "stream",
     "text": [
      "C:\\Users\\negin\\anaconda3\\Lib\\site-packages\\urllib3\\connectionpool.py:1099: InsecureRequestWarning: Unverified HTTPS request is being made to host 'jobinja.ir'. Adding certificate verification is strongly advised. See: https://urllib3.readthedocs.io/en/latest/advanced-usage.html#tls-warnings\n",
      "  warnings.warn(\n",
      "C:\\Users\\negin\\anaconda3\\Lib\\site-packages\\urllib3\\connectionpool.py:1099: InsecureRequestWarning: Unverified HTTPS request is being made to host 'jobinja.ir'. Adding certificate verification is strongly advised. See: https://urllib3.readthedocs.io/en/latest/advanced-usage.html#tls-warnings\n",
      "  warnings.warn(\n"
     ]
    },
    {
     "name": "stdout",
     "output_type": "stream",
     "text": [
      "URL: https://jobinja.ir/jobs?filters%5Blocations%5D%5B%5D=%DB%8C%D8%B2%D8%AF\n",
      "Content Snippet: استخدام یزد | کاریابی یزد | آگهی استخدام یزد\n",
      " | جابینجاامکان جدید:همین حالا رزومه خود را در کمتر از ۱۰ دقیقه بسازید،برو به رزومه‌سازJobinja | جابینجا | استخدام، آگهی استخدام، کاریابی، استخدامی جدید، بازار کار، نیازمندیها، ساخت رزومه رایگان، کار و استخدام دولتی، اشتغال، جستجوگر حرفه ای استخدام و شغلخانهجستجوی مشاغلرزومه‌ساز۵۰ شرکت برتربخش کارفرمایانورود کارجوثبت‌نام کارجوورود کارجوثبت‌نام کارجو۱جابینجا چطور به استخدام شدن من کمک می‌کند؟مشاهدهمشاهده بیشترجستجودرخواست‌های مننشان‌شده‌هاآگهی‌های پیشنهادیاز آگهی‌های جدید باخبر شوبهترین فرصت های شغلی در جابینجاهمه‌ی استان‌هایزدتهرانخراسان رضویاصفهانالبرزفارسقمآذربایجان شرقیمازندرانگیلانخوزستانکرمانقزوینمرکزیهرمزگانگلستانزنجانسیستان و بلوچستانبوشهرآذربایجان غربیسمنانکرمانشاههمداناردبیللرستانکردستانخراسان شمالیایلامخراسان جنوبیچهارمحال بختیاریکهکیلویه و بویراحمدهمه‌ی دسته‌بندی‌هافروش و بازاریابیوب،‌ برنامه‌نویسی و نرم‌افزارمالی و حسابداریمسئول دفتر، اجرائی و اداریتولید و مدیریت محتوادیجیتال مارکتینگپشتیبانی و امور مشتریانطراحیIT / DevOps / Serv\n",
      "\n"
     ]
    },
    {
     "name": "stderr",
     "output_type": "stream",
     "text": [
      "C:\\Users\\negin\\anaconda3\\Lib\\site-packages\\urllib3\\connectionpool.py:1099: InsecureRequestWarning: Unverified HTTPS request is being made to host 'jobinja.ir'. Adding certificate verification is strongly advised. See: https://urllib3.readthedocs.io/en/latest/advanced-usage.html#tls-warnings\n",
      "  warnings.warn(\n",
      "C:\\Users\\negin\\anaconda3\\Lib\\site-packages\\urllib3\\connectionpool.py:1099: InsecureRequestWarning: Unverified HTTPS request is being made to host 'jobinja.ir'. Adding certificate verification is strongly advised. See: https://urllib3.readthedocs.io/en/latest/advanced-usage.html#tls-warnings\n",
      "  warnings.warn(\n"
     ]
    },
    {
     "name": "stdout",
     "output_type": "stream",
     "text": [
      "URL: https://jobinja.ir/jobs?filters%5Bjob_categories%5D%5B%5D=%D9%BE%D8%B2%D8%B4%DA%A9%DB%8C%D8%8C%E2%80%8C+%D9%BE%D8%B1%D8%B3%D8%AA%D8%A7%D8%B1%DB%8C+%D9%88+%D8%AF%D8%A7%D8%B1%D9%88%DB%8C%DB%8C\n",
      "Content Snippet: استخدام پرستار | استخدام پزشک عمومی | استخدام روانشناس\n",
      " | جابینجاامکان جدید:همین حالا رزومه خود را در کمتر از ۱۰ دقیقه بسازید،برو به رزومه‌سازJobinja | جابینجا | استخدام، آگهی استخدام، کاریابی، استخدامی جدید، بازار کار، نیازمندیها، ساخت رزومه رایگان، کار و استخدام دولتی، اشتغال، جستجوگر حرفه ای استخدام و شغلخانهجستجوی مشاغلرزومه‌ساز۵۰ شرکت برتربخش کارفرمایانورود کارجوثبت‌نام کارجوورود کارجوثبت‌نام کارجو۱جابینجا چطور به استخدام شدن من کمک می‌کند؟مشاهدهمشاهده بیشترجستجودرخواست‌های مننشان‌شده‌هاآگهی‌های پیشنهادیاز آگهی‌های جدید باخبر شوبهترین فرصت های شغلی در جابینجاهمه‌ی استان‌هاتهرانخراسان رضویاصفهانالبرزفارسقمآذربایجان شرقیمازندرانگیلانخوزستانکرمانیزدقزوینمرکزیهرمزگانگلستانزنجانسیستان و بلوچستانبوشهرآذربایجان غربیسمنانکرمانشاههمداناردبیللرستانکردستانخراسان شمالیایلامخراسان جنوبیچهارمحال بختیاریکهکیلویه و بویراحمدهمه‌ی دسته‌بندی‌هاپزشکی،‌ پرستاری و داروییفروش و بازاریابیوب،‌ برنامه‌نویسی و نرم‌افزارمالی و حسابداریمسئول دفتر، اجرائی و اداریتولید و مدیریت محتوادیجیتال مارکتینگپشتیبانی و ا\n",
      "\n"
     ]
    },
    {
     "name": "stderr",
     "output_type": "stream",
     "text": [
      "C:\\Users\\negin\\anaconda3\\Lib\\site-packages\\urllib3\\connectionpool.py:1099: InsecureRequestWarning: Unverified HTTPS request is being made to host 'jobinja.ir'. Adding certificate verification is strongly advised. See: https://urllib3.readthedocs.io/en/latest/advanced-usage.html#tls-warnings\n",
      "  warnings.warn(\n"
     ]
    },
    {
     "name": "stdout",
     "output_type": "stream",
     "text": [
      "URL: https://jobinja.ir/companies/soroush-nirou/jobs/AmRf/%D8%A7%D8%B3%D8%AA%D8%AE%D8%AF%D8%A7%D9%85-%D9%85%D8%AF%DB%8C%D8%B1-%D9%81%D8%B1%D9%88%D8%B4-%D8%A2%D9%82%D8%A7-%D8%AF%D8%B1-%D8%B3%D8%B1%D9%88%D8%B4-%D9%86%DB%8C%D8%B1%D9%88?_ref=18\n",
      "Content Snippet: استخدام مدیر فروش(آقا) در سروش نیرو | جابینجاامکان جدید:همین حالا رزومه خود را در کمتر از ۱۰ دقیقه بسازید،برو به رزومه‌سازJobinja | جابینجا | استخدام، آگهی استخدام، کاریابی، استخدامی جدید، بازار کار، نیازمندیها، ساخت رزومه رایگان، کار و استخدام دولتی، اشتغال، جستجوگر حرفه ای استخدام و شغلخانهجستجوی مشاغلرزومه‌ساز۵۰ شرکت برتربخش کارفرمایانورود کارجوثبت‌نام کارجوورود کارجوثبت‌نام کارجو۱جابینجا چطور به استخدام شدن من کمک می‌کند؟مشاهدهمشاهده بیشترسروش نیرو|Soroush Nirouواردات و صادرات۲ - ۱۰ نفرWww.soroushnirou.comفرصت‌های شغلی۱استخدام مدیر فروش(آقا)لطفا برای مشاهده‌ی جزییات و ارسال رزومهیکی از راه‌های زیر را انتخاب کنیدورود / ثبت‌نام با ایمیلimage/svg+xmlbtn_google_light_normal_iosbtn_google_light_normal_iosCreated with Sketch.ورود / ثبت‌نام با گوگل\n",
      "                    (Gmail)ورود / ثبت‌نام با لینکدیناستخدام مدیر فروش(آقا){{ tooltipText }}{{ hoverTitle }}نشان کردنحذف نشاندسته‌بندی شغلیفروش و بازاریابیموقعیت مکانیتهران\n",
      "                                                ، تهراننوع همکاریتمام وق\n",
      "\n"
     ]
    },
    {
     "name": "stderr",
     "output_type": "stream",
     "text": [
      "C:\\Users\\negin\\anaconda3\\Lib\\site-packages\\urllib3\\connectionpool.py:1099: InsecureRequestWarning: Unverified HTTPS request is being made to host 'jobinja.ir'. Adding certificate verification is strongly advised. See: https://urllib3.readthedocs.io/en/latest/advanced-usage.html#tls-warnings\n",
      "  warnings.warn(\n"
     ]
    },
    {
     "name": "stdout",
     "output_type": "stream",
     "text": [
      "URL: https://jobinja.ir/jobs?filters%5Bkeywords%5D%5B0%5D=%D8%A7%D8%AF%D9%85%DB%8C%D9%86\n",
      "Content Snippet: فرصت های شغلی ادمین\n",
      " | جابینجاامکان جدید:همین حالا رزومه خود را در کمتر از ۱۰ دقیقه بسازید،برو به رزومه‌سازJobinja | جابینجا | استخدام، آگهی استخدام، کاریابی، استخدامی جدید، بازار کار، نیازمندیها، ساخت رزومه رایگان، کار و استخدام دولتی، اشتغال، جستجوگر حرفه ای استخدام و شغلخانهجستجوی مشاغلرزومه‌ساز۵۰ شرکت برتربخش کارفرمایانورود کارجوثبت‌نام کارجوورود کارجوثبت‌نام کارجو۱جابینجا چطور به استخدام شدن من کمک می‌کند؟مشاهدهمشاهده بیشترجستجودرخواست‌های مننشان‌شده‌هاآگهی‌های پیشنهادیاز آگهی‌های جدید باخبر شوبهترین فرصت های شغلی در جابینجاهمه‌ی استان‌هاتهرانخراسان رضویاصفهانالبرزفارسقمآذربایجان شرقیمازندرانگیلانخوزستانکرمانیزدقزوینمرکزیهرمزگانگلستانزنجانسیستان و بلوچستانبوشهرآذربایجان غربیسمنانکرمانشاههمداناردبیللرستانکردستانخراسان شمالیایلامخراسان جنوبیچهارمحال بختیاریکهکیلویه و بویراحمدهمه‌ی دسته‌بندی‌هافروش و بازاریابیوب،‌ برنامه‌نویسی و نرم‌افزارمالی و حسابداریمسئول دفتر، اجرائی و اداریتولید و مدیریت محتوادیجیتال مارکتینگپشتیبانی و امور مشتریانطراحیIT / DevOps / Serverمهندسی صنایع و مدیریت ص\n",
      "\n"
     ]
    },
    {
     "name": "stderr",
     "output_type": "stream",
     "text": [
      "C:\\Users\\negin\\anaconda3\\Lib\\site-packages\\urllib3\\connectionpool.py:1099: InsecureRequestWarning: Unverified HTTPS request is being made to host 'jobinja.ir'. Adding certificate verification is strongly advised. See: https://urllib3.readthedocs.io/en/latest/advanced-usage.html#tls-warnings\n",
      "  warnings.warn(\n"
     ]
    },
    {
     "name": "stdout",
     "output_type": "stream",
     "text": [
      "URL: https://jobinja.ir/job-alert/landing\n",
      "Content Snippet: جابینجاJobinja | جابینجا | استخدام، آگهی استخدام، کاریابی، استخدامی جدید، بازار کار، نیازمندیها، ساخت رزومه رایگان، کار و استخدام دولتی، اشتغال، جستجوگر حرفه ای استخدام و شغلخانهجستجوی مشاغلرزومه‌ساز۵۰ شرکت برتربخش کارفرمایانورود کارجوثبت‌نام کارجوورود کارجوثبت‌نام کارجو۱جابینجا چطور به استخدام شدن من کمک می‌کند؟مشاهدهمشاهده بیشترفرصت‌های شغلی جدید در ایمیل شما!اولین نفری که برای کارفرمایان رزومه ارسال می‌کند شما باشید. هر هفته فرصت‌های شغلی جدید برای شما ارسال می‌شود.دسته‌بندی شغلی؟هیچ دسته‌بندی شغلی مرتبطی انتخاب نشده است{{ item.text }}عنوان شغلی، مهارت یا کلمات کلیدی(اختیاری)؟نوع قرارداد(اختیاری)؟شهر شغل؟هیچ شهر یا استان مرتبطی انتخاب نشده است.{{ item.text }}ارسال به صورت؟ایمیل شما؟نمی‌خواهم مطلع شومimage/svg+xml\n",
      "\n"
     ]
    },
    {
     "name": "stderr",
     "output_type": "stream",
     "text": [
      "C:\\Users\\negin\\anaconda3\\Lib\\site-packages\\urllib3\\connectionpool.py:1099: InsecureRequestWarning: Unverified HTTPS request is being made to host 'jobinja.ir'. Adding certificate verification is strongly advised. See: https://urllib3.readthedocs.io/en/latest/advanced-usage.html#tls-warnings\n",
      "  warnings.warn(\n"
     ]
    },
    {
     "name": "stdout",
     "output_type": "stream",
     "text": [
      "URL: https://jobinja.ir/companies/abarsayande-1/jobs\n",
      "Content Snippet: فرصت‌های شغلی فعال در برنادل | Borna Del | جابینجاامکان جدید:همین حالا رزومه خود را در کمتر از ۱۰ دقیقه بسازید،برو به رزومه‌سازJobinja | جابینجا | استخدام، آگهی استخدام، کاریابی، استخدامی جدید، بازار کار، نیازمندیها، ساخت رزومه رایگان، کار و استخدام دولتی، اشتغال، جستجوگر حرفه ای استخدام و شغلخانهجستجوی مشاغلرزومه‌ساز۵۰ شرکت برتربخش کارفرمایانورود کارجوثبت‌نام کارجوورود کارجوثبت‌نام کارجو۱جابینجا چطور به استخدام شدن من کمک می‌کند؟مشاهدهمشاهده بیشتربرنادل|Borna Delتاسیس در  ۱۳۹۹آموزش، مدارس و دانشگاه‌ها۱۱ تا ۵۰ نفرbornadel.academy/در یک نگاهمعرفیفرصت‌های شغلی۲۶معرفی برنادلشرکت برنادل در زمینه آموزش آنلاین با استفاده از تکنیک های نوین و اساتید مجرب فعالیت می کند. ما تیمی متشکل از نیروهایی جوان، متخصص و نوآور در مکانی بسیار پویا و مستقل هستیم و همواره در صدد جذب نیروهای علاقمند، با انگیزه و مشتاق در زمینه های مختلف جهت همکاری بلندمدت هستیم.فرصت‌های شغلی فعال در برنادل|Borna Delمدرس دوره HSE(۱ روز پیش)برنادل | Borna Delتهران، تهرانقرارداد\n",
      "              پاره‌وقت(برای\n",
      "                مشاهده \n",
      "\n"
     ]
    },
    {
     "name": "stderr",
     "output_type": "stream",
     "text": [
      "C:\\Users\\negin\\anaconda3\\Lib\\site-packages\\urllib3\\connectionpool.py:1099: InsecureRequestWarning: Unverified HTTPS request is being made to host 'jobinja.ir'. Adding certificate verification is strongly advised. See: https://urllib3.readthedocs.io/en/latest/advanced-usage.html#tls-warnings\n",
      "  warnings.warn(\n"
     ]
    },
    {
     "name": "stdout",
     "output_type": "stream",
     "text": [
      "URL: https://jobinja.ir/jobs?filters%5Bkeywords%5D%5B0%5D=%D8%B7%D8%B1%D8%A7%D8%AD+%DA%AF%D8%B1%D8%A7%D9%81%DB%8C%DA%A9\n",
      "Content Snippet: فرصت های شغلی طراح گرافیک\n",
      " | جابینجاامکان جدید:همین حالا رزومه خود را در کمتر از ۱۰ دقیقه بسازید،برو به رزومه‌سازJobinja | جابینجا | استخدام، آگهی استخدام، کاریابی، استخدامی جدید، بازار کار، نیازمندیها، ساخت رزومه رایگان، کار و استخدام دولتی، اشتغال، جستجوگر حرفه ای استخدام و شغلخانهجستجوی مشاغلرزومه‌ساز۵۰ شرکت برتربخش کارفرمایانورود کارجوثبت‌نام کارجوورود کارجوثبت‌نام کارجو۱جابینجا چطور به استخدام شدن من کمک می‌کند؟مشاهدهمشاهده بیشترجستجودرخواست‌های مننشان‌شده‌هاآگهی‌های پیشنهادیاز آگهی‌های جدید باخبر شوبهترین فرصت های شغلی در جابینجاهمه‌ی استان‌هاتهرانخراسان رضویاصفهانالبرزفارسقمآذربایجان شرقیمازندرانگیلانخوزستانکرمانیزدقزوینمرکزیهرمزگانگلستانزنجانسیستان و بلوچستانبوشهرآذربایجان غربیسمنانکرمانشاههمداناردبیللرستانکردستانخراسان شمالیایلامخراسان جنوبیچهارمحال بختیاریکهکیلویه و بویراحمدهمه‌ی دسته‌بندی‌هافروش و بازاریابیوب،‌ برنامه‌نویسی و نرم‌افزارمالی و حسابداریمسئول دفتر، اجرائی و اداریتولید و مدیریت محتوادیجیتال مارکتینگپشتیبانی و امور مشتریانطراحیIT / DevOps / Serverمهندسی صنایع و مد\n",
      "\n"
     ]
    },
    {
     "name": "stderr",
     "output_type": "stream",
     "text": [
      "C:\\Users\\negin\\anaconda3\\Lib\\site-packages\\urllib3\\connectionpool.py:1099: InsecureRequestWarning: Unverified HTTPS request is being made to host 'jobinja.ir'. Adding certificate verification is strongly advised. See: https://urllib3.readthedocs.io/en/latest/advanced-usage.html#tls-warnings\n",
      "  warnings.warn(\n"
     ]
    },
    {
     "name": "stdout",
     "output_type": "stream",
     "text": [
      "URL: https://jobinja.ir/jobs?filters%5Bkeywords%5D%5B0%5D=%D8%AD%D8%B3%D8%A7%D8%A8%D8%AF%D8%A7%D8%B1\n",
      "Content Snippet: فرصت های شغلی حسابدار\n",
      " | جابینجاامکان جدید:همین حالا رزومه خود را در کمتر از ۱۰ دقیقه بسازید،برو به رزومه‌سازJobinja | جابینجا | استخدام، آگهی استخدام، کاریابی، استخدامی جدید، بازار کار، نیازمندیها، ساخت رزومه رایگان، کار و استخدام دولتی، اشتغال، جستجوگر حرفه ای استخدام و شغلخانهجستجوی مشاغلرزومه‌ساز۵۰ شرکت برتربخش کارفرمایانورود کارجوثبت‌نام کارجوورود کارجوثبت‌نام کارجو۱جابینجا چطور به استخدام شدن من کمک می‌کند؟مشاهدهمشاهده بیشترجستجودرخواست‌های مننشان‌شده‌هاآگهی‌های پیشنهادیاز آگهی‌های جدید باخبر شوبهترین فرصت های شغلی در جابینجاهمه‌ی استان‌هاتهرانخراسان رضویاصفهانالبرزفارسقمآذربایجان شرقیمازندرانگیلانخوزستانکرمانیزدقزوینمرکزیهرمزگانگلستانزنجانسیستان و بلوچستانبوشهرآذربایجان غربیسمنانکرمانشاههمداناردبیللرستانکردستانخراسان شمالیایلامخراسان جنوبیچهارمحال بختیاریکهکیلویه و بویراحمدهمه‌ی دسته‌بندی‌هافروش و بازاریابیوب،‌ برنامه‌نویسی و نرم‌افزارمالی و حسابداریمسئول دفتر، اجرائی و اداریتولید و مدیریت محتوادیجیتال مارکتینگپشتیبانی و امور مشتریانطراحیIT / DevOps / Serverمهندسی صنایع و مدیریت\n",
      "\n"
     ]
    },
    {
     "name": "stderr",
     "output_type": "stream",
     "text": [
      "C:\\Users\\negin\\anaconda3\\Lib\\site-packages\\urllib3\\connectionpool.py:1099: InsecureRequestWarning: Unverified HTTPS request is being made to host 'jobinja.ir'. Adding certificate verification is strongly advised. See: https://urllib3.readthedocs.io/en/latest/advanced-usage.html#tls-warnings\n",
      "  warnings.warn(\n",
      "C:\\Users\\negin\\anaconda3\\Lib\\site-packages\\urllib3\\connectionpool.py:1099: InsecureRequestWarning: Unverified HTTPS request is being made to host 'jobinja.ir'. Adding certificate verification is strongly advised. See: https://urllib3.readthedocs.io/en/latest/advanced-usage.html#tls-warnings\n",
      "  warnings.warn(\n"
     ]
    },
    {
     "name": "stdout",
     "output_type": "stream",
     "text": [
      "URL: https://jobinja.ir/jobs?filters%5Bkeywords%5D%5B0%5D=%D8%B3%D8%A6%D9%88\n",
      "Content Snippet: سئو کار | استخدام کارشناس سئو | استخدام متخصص سئو (seo)\n",
      " | جابینجاامکان جدید:همین حالا رزومه خود را در کمتر از ۱۰ دقیقه بسازید،برو به رزومه‌سازJobinja | جابینجا | استخدام، آگهی استخدام، کاریابی، استخدامی جدید، بازار کار، نیازمندیها، ساخت رزومه رایگان، کار و استخدام دولتی، اشتغال، جستجوگر حرفه ای استخدام و شغلخانهجستجوی مشاغلرزومه‌ساز۵۰ شرکت برتربخش کارفرمایانورود کارجوثبت‌نام کارجوورود کارجوثبت‌نام کارجو۱جابینجا چطور به استخدام شدن من کمک می‌کند؟مشاهدهمشاهده بیشترجستجودرخواست‌های مننشان‌شده‌هاآگهی‌های پیشنهادیاز آگهی‌های جدید باخبر شوبهترین فرصت های شغلی در جابینجاهمه‌ی استان‌هاتهرانخراسان رضویاصفهانالبرزفارسقمآذربایجان شرقیمازندرانگیلانخوزستانکرمانیزدقزوینمرکزیهرمزگانگلستانزنجانسیستان و بلوچستانبوشهرآذربایجان غربیسمنانکرمانشاههمداناردبیللرستانکردستانخراسان شمالیایلامخراسان جنوبیچهارمحال بختیاریکهکیلویه و بویراحمدهمه‌ی دسته‌بندی‌هافروش و بازاریابیوب،‌ برنامه‌نویسی و نرم‌افزارمالی و حسابداریمسئول دفتر، اجرائی و اداریتولید و مدیریت محتوادیجیتال مارکتینگپشتیبانی و امور مشتریانطراحیIT / De\n",
      "\n"
     ]
    },
    {
     "name": "stderr",
     "output_type": "stream",
     "text": [
      "C:\\Users\\negin\\anaconda3\\Lib\\site-packages\\urllib3\\connectionpool.py:1099: InsecureRequestWarning: Unverified HTTPS request is being made to host 'jobinja.ir'. Adding certificate verification is strongly advised. See: https://urllib3.readthedocs.io/en/latest/advanced-usage.html#tls-warnings\n",
      "  warnings.warn(\n"
     ]
    },
    {
     "name": "stdout",
     "output_type": "stream",
     "text": [
      "URL: https://jobinja.ir/companies/graph-inc/jobs\n",
      "Content Snippet: فرصت‌های شغلی فعال در گراف | Graph | جابینجاامکان جدید:همین حالا رزومه خود را در کمتر از ۱۰ دقیقه بسازید،برو به رزومه‌سازJobinja | جابینجا | استخدام، آگهی استخدام، کاریابی، استخدامی جدید، بازار کار، نیازمندیها، ساخت رزومه رایگان، کار و استخدام دولتی، اشتغال، جستجوگر حرفه ای استخدام و شغلخانهجستجوی مشاغلرزومه‌ساز۵۰ شرکت برتربخش کارفرمایانورود کارجوثبت‌نام کارجوورود کارجوثبت‌نام کارجو۱جابینجا چطور به استخدام شدن من کمک می‌کند؟مشاهدهمشاهده بیشترگراف|Graphتاسیس در  ۱۳۹۴کامپیوتر، فناوری اطلاعات و اینترنت۵۱ تا ۲۰۰ نفرgraph-inc.irدر یک نگاهمعرفیفرصت‌های شغلی۵معرفی گراف\"گراف\" شرکتی نرم‌افزاری فعال در حوزه امنیت اطلاعات است که فعالیت خود را در سال ۱۳۹۴ آغاز نمود.توسعه نرم‌افزارهای امنیتی و ارائه راه‌کارهای حوزه امنیت در اطلاعات و ارتباطات بخش عمده فعالیت‌های ما در گراف را تشکیل می‌دهند.فرصت‌های شغلی فعال در گراف|GraphLinux Software Engineer (Golang)(۲ روز پیش)گراف | Graphتهران، تهرانقرارداد\n",
      "              تمام‌وقت(برای\n",
      "                مشاهده حقوق وارد شوید)ارسال\n",
      "              رزومه{{ tooltipText\n",
      "\n"
     ]
    },
    {
     "name": "stderr",
     "output_type": "stream",
     "text": [
      "C:\\Users\\negin\\anaconda3\\Lib\\site-packages\\urllib3\\connectionpool.py:1099: InsecureRequestWarning: Unverified HTTPS request is being made to host 'jobinja.ir'. Adding certificate verification is strongly advised. See: https://urllib3.readthedocs.io/en/latest/advanced-usage.html#tls-warnings\n",
      "  warnings.warn(\n",
      "C:\\Users\\negin\\anaconda3\\Lib\\site-packages\\urllib3\\connectionpool.py:1099: InsecureRequestWarning: Unverified HTTPS request is being made to host 'jobinja.ir'. Adding certificate verification is strongly advised. See: https://urllib3.readthedocs.io/en/latest/advanced-usage.html#tls-warnings\n",
      "  warnings.warn(\n"
     ]
    },
    {
     "name": "stdout",
     "output_type": "stream",
     "text": [
      "URL: https://jobinja.ir/jobs?filters%5Bjob_categories%5D%5B%5D=%D8%B9%D9%84%D9%88%D9%85+%D8%B2%DB%8C%D8%B3%D8%AA%DB%8C+%D9%88+%D8%A2%D8%B2%D9%85%D8%A7%DB%8C%D8%B4%DA%AF%D8%A7%D9%87%DB%8C\n",
      "Content Snippet: استخدام میکروبیولوژیست | استخدام علوم آزمایشگاهی | استخدام بیوتکنولوژی\n",
      " | جابینجاامکان جدید:همین حالا رزومه خود را در کمتر از ۱۰ دقیقه بسازید،برو به رزومه‌سازJobinja | جابینجا | استخدام، آگهی استخدام، کاریابی، استخدامی جدید، بازار کار، نیازمندیها، ساخت رزومه رایگان، کار و استخدام دولتی، اشتغال، جستجوگر حرفه ای استخدام و شغلخانهجستجوی مشاغلرزومه‌ساز۵۰ شرکت برتربخش کارفرمایانورود کارجوثبت‌نام کارجوورود کارجوثبت‌نام کارجو۱جابینجا چطور به استخدام شدن من کمک می‌کند؟مشاهدهمشاهده بیشترجستجودرخواست‌های مننشان‌شده‌هاآگهی‌های پیشنهادیاز آگهی‌های جدید باخبر شوبهترین فرصت های شغلی در جابینجاهمه‌ی استان‌هاتهرانخراسان رضویاصفهانالبرزفارسقمآذربایجان شرقیمازندرانگیلانخوزستانکرمانیزدقزوینمرکزیهرمزگانگلستانزنجانسیستان و بلوچستانبوشهرآذربایجان غربیسمنانکرمانشاههمداناردبیللرستانکردستانخراسان شمالیایلامخراسان جنوبیچهارمحال بختیاریکهکیلویه و بویراحمدهمه‌ی دسته‌بندی‌هاعلوم زیستی و آزمایشگاهیفروش و بازاریابیوب،‌ برنامه‌نویسی و نرم‌افزارمالی و حسابداریمسئول دفتر، اجرائی و اداریتولید و مدیریت محتوادیجیتال مارکت\n",
      "\n"
     ]
    },
    {
     "name": "stderr",
     "output_type": "stream",
     "text": [
      "C:\\Users\\negin\\anaconda3\\Lib\\site-packages\\urllib3\\connectionpool.py:1099: InsecureRequestWarning: Unverified HTTPS request is being made to host 'jobinja.ir'. Adding certificate verification is strongly advised. See: https://urllib3.readthedocs.io/en/latest/advanced-usage.html#tls-warnings\n",
      "  warnings.warn(\n",
      "C:\\Users\\negin\\anaconda3\\Lib\\site-packages\\urllib3\\connectionpool.py:1099: InsecureRequestWarning: Unverified HTTPS request is being made to host 'jobinja.ir'. Adding certificate verification is strongly advised. See: https://urllib3.readthedocs.io/en/latest/advanced-usage.html#tls-warnings\n",
      "  warnings.warn(\n"
     ]
    },
    {
     "name": "stdout",
     "output_type": "stream",
     "text": [
      "URL: https://jobinja.ir/jobs?filters%5Bjob_categories%5D%5B%5D=%DA%A9%D8%A7%D8%B1%DA%AF%D8%B1+%D9%85%D8%A7%D9%87%D8%B1%D8%8C+%DA%A9%D8%A7%D8%B1%DA%AF%D8%B1+%D8%B5%D9%86%D8%B9%D8%AA%DB%8C\n",
      "Content Snippet: استخدام کارگر ماهر | استخدام کارگر صنعتی | استخدام فنی کار | جابینجا\n",
      " | جابینجاامکان جدید:همین حالا رزومه خود را در کمتر از ۱۰ دقیقه بسازید،برو به رزومه‌سازJobinja | جابینجا | استخدام، آگهی استخدام، کاریابی، استخدامی جدید، بازار کار، نیازمندیها، ساخت رزومه رایگان، کار و استخدام دولتی، اشتغال، جستجوگر حرفه ای استخدام و شغلخانهجستجوی مشاغلرزومه‌ساز۵۰ شرکت برتربخش کارفرمایانورود کارجوثبت‌نام کارجوورود کارجوثبت‌نام کارجو۱جابینجا چطور به استخدام شدن من کمک می‌کند؟مشاهدهمشاهده بیشترجستجودرخواست‌های مننشان‌شده‌هاآگهی‌های پیشنهادیاز آگهی‌های جدید باخبر شوبهترین فرصت های شغلی در جابینجاهمه‌ی استان‌هاتهرانخراسان رضویاصفهانالبرزفارسقمآذربایجان شرقیمازندرانگیلانخوزستانکرمانیزدقزوینمرکزیهرمزگانگلستانزنجانسیستان و بلوچستانبوشهرآذربایجان غربیسمنانکرمانشاههمداناردبیللرستانکردستانخراسان شمالیایلامخراسان جنوبیچهارمحال بختیاریکهکیلویه و بویراحمدهمه‌ی دسته‌بندی‌هاکارگر ماهر، کارگر صنعتیفروش و بازاریابیوب،‌ برنامه‌نویسی و نرم‌افزارمالی و حسابداریمسئول دفتر، اجرائی و اداریتولید و مدیریت محتوادیجیتال مارکتین\n",
      "\n"
     ]
    },
    {
     "name": "stderr",
     "output_type": "stream",
     "text": [
      "C:\\Users\\negin\\anaconda3\\Lib\\site-packages\\urllib3\\connectionpool.py:1099: InsecureRequestWarning: Unverified HTTPS request is being made to host 'jobinja.ir'. Adding certificate verification is strongly advised. See: https://urllib3.readthedocs.io/en/latest/advanced-usage.html#tls-warnings\n",
      "  warnings.warn(\n",
      "C:\\Users\\negin\\anaconda3\\Lib\\site-packages\\urllib3\\connectionpool.py:1099: InsecureRequestWarning: Unverified HTTPS request is being made to host 'jobinja.ir'. Adding certificate verification is strongly advised. See: https://urllib3.readthedocs.io/en/latest/advanced-usage.html#tls-warnings\n",
      "  warnings.warn(\n"
     ]
    },
    {
     "name": "stdout",
     "output_type": "stream",
     "text": [
      "URL: https://jobinja.ir/jobs?filters%5Blocations%5D%5B%5D=%D8%A2%D8%B0%D8%B1%D8%A8%D8%A7%DB%8C%D8%AC%D8%A7%D9%86+%D8%B4%D8%B1%D9%82%DB%8C\n",
      "Content Snippet: آگهی استخدام آذربایجان شرقی | استخدام آذربایجان شرقی | کاریابی آذربایجان شرقی\n",
      " | جابینجاامکان جدید:همین حالا رزومه خود را در کمتر از ۱۰ دقیقه بسازید،برو به رزومه‌سازJobinja | جابینجا | استخدام، آگهی استخدام، کاریابی، استخدامی جدید، بازار کار، نیازمندیها، ساخت رزومه رایگان، کار و استخدام دولتی، اشتغال، جستجوگر حرفه ای استخدام و شغلخانهجستجوی مشاغلرزومه‌ساز۵۰ شرکت برتربخش کارفرمایانورود کارجوثبت‌نام کارجوورود کارجوثبت‌نام کارجو۱جابینجا چطور به استخدام شدن من کمک می‌کند؟مشاهدهمشاهده بیشترجستجودرخواست‌های مننشان‌شده‌هاآگهی‌های پیشنهادیاز آگهی‌های جدید باخبر شوبهترین فرصت های شغلی در جابینجاهمه‌ی استان‌هاآذربایجان شرقیتهرانخراسان رضویاصفهانالبرزفارسقممازندرانگیلانخوزستانکرمانیزدقزوینمرکزیهرمزگانگلستانزنجانسیستان و بلوچستانبوشهرآذربایجان غربیسمنانکرمانشاههمداناردبیللرستانکردستانخراسان شمالیایلامخراسان جنوبیچهارمحال بختیاریکهکیلویه و بویراحمدهمه‌ی دسته‌بندی‌هافروش و بازاریابیوب،‌ برنامه‌نویسی و نرم‌افزارمالی و حسابداریمسئول دفتر، اجرائی و اداریتولید و مدیریت محتوادیجیتال مارکتینگپشتیبانی و ام\n",
      "\n"
     ]
    },
    {
     "name": "stderr",
     "output_type": "stream",
     "text": [
      "C:\\Users\\negin\\anaconda3\\Lib\\site-packages\\urllib3\\connectionpool.py:1099: InsecureRequestWarning: Unverified HTTPS request is being made to host 'jobinja.ir'. Adding certificate verification is strongly advised. See: https://urllib3.readthedocs.io/en/latest/advanced-usage.html#tls-warnings\n",
      "  warnings.warn(\n"
     ]
    },
    {
     "name": "stdout",
     "output_type": "stream",
     "text": [
      "URL: https://jobinja.ir/jobs?filters%5Bkeywords%5D%5B0%5D=%D9%BE%D8%A7%D8%B1%D9%87+%D9%88%D9%82%D8%AA\n",
      "Content Snippet: فرصت های شغلی پاره وقت\n",
      " | جابینجاامکان جدید:همین حالا رزومه خود را در کمتر از ۱۰ دقیقه بسازید،برو به رزومه‌سازJobinja | جابینجا | استخدام، آگهی استخدام، کاریابی، استخدامی جدید، بازار کار، نیازمندیها، ساخت رزومه رایگان، کار و استخدام دولتی، اشتغال، جستجوگر حرفه ای استخدام و شغلخانهجستجوی مشاغلرزومه‌ساز۵۰ شرکت برتربخش کارفرمایانورود کارجوثبت‌نام کارجوورود کارجوثبت‌نام کارجو۱جابینجا چطور به استخدام شدن من کمک می‌کند؟مشاهدهمشاهده بیشترجستجودرخواست‌های مننشان‌شده‌هاآگهی‌های پیشنهادیاز آگهی‌های جدید باخبر شوبهترین فرصت های شغلی در جابینجاهمه‌ی استان‌هاتهرانخراسان رضویاصفهانالبرزفارسقمآذربایجان شرقیمازندرانگیلانخوزستانکرمانیزدقزوینمرکزیهرمزگانگلستانزنجانسیستان و بلوچستانبوشهرآذربایجان غربیسمنانکرمانشاههمداناردبیللرستانکردستانخراسان شمالیایلامخراسان جنوبیچهارمحال بختیاریکهکیلویه و بویراحمدهمه‌ی دسته‌بندی‌هافروش و بازاریابیوب،‌ برنامه‌نویسی و نرم‌افزارمالی و حسابداریمسئول دفتر، اجرائی و اداریتولید و مدیریت محتوادیجیتال مارکتینگپشتیبانی و امور مشتریانطراحیIT / DevOps / Serverمهندسی صنایع و مدیری\n",
      "\n"
     ]
    },
    {
     "name": "stderr",
     "output_type": "stream",
     "text": [
      "C:\\Users\\negin\\anaconda3\\Lib\\site-packages\\urllib3\\connectionpool.py:1099: InsecureRequestWarning: Unverified HTTPS request is being made to host 'jobinja.ir'. Adding certificate verification is strongly advised. See: https://urllib3.readthedocs.io/en/latest/advanced-usage.html#tls-warnings\n",
      "  warnings.warn(\n",
      "C:\\Users\\negin\\anaconda3\\Lib\\site-packages\\urllib3\\connectionpool.py:1099: InsecureRequestWarning: Unverified HTTPS request is being made to host 'jobinja.ir'. Adding certificate verification is strongly advised. See: https://urllib3.readthedocs.io/en/latest/advanced-usage.html#tls-warnings\n",
      "  warnings.warn(\n"
     ]
    },
    {
     "name": "stdout",
     "output_type": "stream",
     "text": [
      "URL: https://jobinja.ir/jobs?filters%5Bjob_categories%5D%5B%5D=%D9%85%D9%87%D9%86%D8%AF%D8%B3%DB%8C+%D8%B4%DB%8C%D9%85%DB%8C+%D9%88+%D9%86%D9%81%D8%AA\n",
      "Content Snippet: استخدام مهندس شیمی | استخدام کارشناس شیمی\n",
      " | جابینجاامکان جدید:همین حالا رزومه خود را در کمتر از ۱۰ دقیقه بسازید،برو به رزومه‌سازJobinja | جابینجا | استخدام، آگهی استخدام، کاریابی، استخدامی جدید، بازار کار، نیازمندیها، ساخت رزومه رایگان، کار و استخدام دولتی، اشتغال، جستجوگر حرفه ای استخدام و شغلخانهجستجوی مشاغلرزومه‌ساز۵۰ شرکت برتربخش کارفرمایانورود کارجوثبت‌نام کارجوورود کارجوثبت‌نام کارجو۱جابینجا چطور به استخدام شدن من کمک می‌کند؟مشاهدهمشاهده بیشترجستجودرخواست‌های مننشان‌شده‌هاآگهی‌های پیشنهادیاز آگهی‌های جدید باخبر شوبهترین فرصت های شغلی در جابینجاهمه‌ی استان‌هاتهرانخراسان رضویاصفهانالبرزفارسقمآذربایجان شرقیمازندرانگیلانخوزستانکرمانیزدقزوینمرکزیهرمزگانگلستانزنجانسیستان و بلوچستانبوشهرآذربایجان غربیسمنانکرمانشاههمداناردبیللرستانکردستانخراسان شمالیایلامخراسان جنوبیچهارمحال بختیاریکهکیلویه و بویراحمدهمه‌ی دسته‌بندی‌هامهندسی شیمی و نفتفروش و بازاریابیوب،‌ برنامه‌نویسی و نرم‌افزارمالی و حسابداریمسئول دفتر، اجرائی و اداریتولید و مدیریت محتوادیجیتال مارکتینگپشتیبانی و امور مشتریانطراحیIT /\n",
      "\n"
     ]
    },
    {
     "name": "stderr",
     "output_type": "stream",
     "text": [
      "C:\\Users\\negin\\anaconda3\\Lib\\site-packages\\urllib3\\connectionpool.py:1099: InsecureRequestWarning: Unverified HTTPS request is being made to host 'jobinja.ir'. Adding certificate verification is strongly advised. See: https://urllib3.readthedocs.io/en/latest/advanced-usage.html#tls-warnings\n",
      "  warnings.warn(\n",
      "C:\\Users\\negin\\anaconda3\\Lib\\site-packages\\urllib3\\connectionpool.py:1099: InsecureRequestWarning: Unverified HTTPS request is being made to host 'jobinja.ir'. Adding certificate verification is strongly advised. See: https://urllib3.readthedocs.io/en/latest/advanced-usage.html#tls-warnings\n",
      "  warnings.warn(\n"
     ]
    },
    {
     "name": "stdout",
     "output_type": "stream",
     "text": [
      "URL: https://jobinja.ir/jobs?filters%5Blocations%5D%5B%5D=%D8%A2%D8%B0%D8%B1%D8%A8%D8%A7%DB%8C%D8%AC%D8%A7%D9%86+%D8%BA%D8%B1%D8%A8%DB%8C\n",
      "Content Snippet: آگهی استخدام آذربایجان غربی | استخدام آذربایجان غربی | کاریابی آذربایجان غربی | جابینجا\n",
      " | جابینجاامکان جدید:همین حالا رزومه خود را در کمتر از ۱۰ دقیقه بسازید،برو به رزومه‌سازJobinja | جابینجا | استخدام، آگهی استخدام، کاریابی، استخدامی جدید، بازار کار، نیازمندیها، ساخت رزومه رایگان، کار و استخدام دولتی، اشتغال، جستجوگر حرفه ای استخدام و شغلخانهجستجوی مشاغلرزومه‌ساز۵۰ شرکت برتربخش کارفرمایانورود کارجوثبت‌نام کارجوورود کارجوثبت‌نام کارجو۱جابینجا چطور به استخدام شدن من کمک می‌کند؟مشاهدهمشاهده بیشترجستجودرخواست‌های مننشان‌شده‌هاآگهی‌های پیشنهادیاز آگهی‌های جدید باخبر شوبهترین فرصت های شغلی در جابینجاهمه‌ی استان‌هاآذربایجان غربیتهرانخراسان رضویاصفهانالبرزفارسقمآذربایجان شرقیمازندرانگیلانخوزستانکرمانیزدقزوینمرکزیهرمزگانگلستانزنجانسیستان و بلوچستانبوشهرسمنانکرمانشاههمداناردبیللرستانکردستانخراسان شمالیایلامخراسان جنوبیچهارمحال بختیاریکهکیلویه و بویراحمدهمه‌ی دسته‌بندی‌هافروش و بازاریابیوب،‌ برنامه‌نویسی و نرم‌افزارمالی و حسابداریمسئول دفتر، اجرائی و اداریتولید و مدیریت محتوادیجیتال مارکتینگپشت\n",
      "\n"
     ]
    },
    {
     "name": "stderr",
     "output_type": "stream",
     "text": [
      "C:\\Users\\negin\\anaconda3\\Lib\\site-packages\\urllib3\\connectionpool.py:1099: InsecureRequestWarning: Unverified HTTPS request is being made to host 'jobinja.ir'. Adding certificate verification is strongly advised. See: https://urllib3.readthedocs.io/en/latest/advanced-usage.html#tls-warnings\n",
      "  warnings.warn(\n",
      "C:\\Users\\negin\\anaconda3\\Lib\\site-packages\\urllib3\\connectionpool.py:1099: InsecureRequestWarning: Unverified HTTPS request is being made to host 'jobinja.ir'. Adding certificate verification is strongly advised. See: https://urllib3.readthedocs.io/en/latest/advanced-usage.html#tls-warnings\n",
      "  warnings.warn(\n"
     ]
    },
    {
     "name": "stdout",
     "output_type": "stream",
     "text": [
      "URL: https://jobinja.ir/jobs?filters%5Bjob_categories%5D%5B%5D=%D8%AE%D8%A8%D8%B1%E2%80%8C%D9%86%DA%AF%D8%A7%D8%B1%DB%8C\n",
      "Content Snippet: استخدام خبرنگار | استخدام روزنامه نگار | جذب خبرنگار\n",
      " | جابینجاامکان جدید:همین حالا رزومه خود را در کمتر از ۱۰ دقیقه بسازید،برو به رزومه‌سازJobinja | جابینجا | استخدام، آگهی استخدام، کاریابی، استخدامی جدید، بازار کار، نیازمندیها، ساخت رزومه رایگان، کار و استخدام دولتی، اشتغال، جستجوگر حرفه ای استخدام و شغلخانهجستجوی مشاغلرزومه‌ساز۵۰ شرکت برتربخش کارفرمایانورود کارجوثبت‌نام کارجوورود کارجوثبت‌نام کارجو۱جابینجا چطور به استخدام شدن من کمک می‌کند؟مشاهدهمشاهده بیشترجستجودرخواست‌های مننشان‌شده‌هاآگهی‌های پیشنهادیاز آگهی‌های جدید باخبر شوبهترین فرصت های شغلی در جابینجاهمه‌ی استان‌هاتهرانخراسان رضویاصفهانالبرزفارسقمآذربایجان شرقیمازندرانگیلانخوزستانکرمانیزدقزوینمرکزیهرمزگانگلستانزنجانسیستان و بلوچستانبوشهرآذربایجان غربیسمنانکرمانشاههمداناردبیللرستانکردستانخراسان شمالیایلامخراسان جنوبیچهارمحال بختیاریکهکیلویه و بویراحمدهمه‌ی دسته‌بندی‌هاخبر‌نگاریفروش و بازاریابیوب،‌ برنامه‌نویسی و نرم‌افزارمالی و حسابداریمسئول دفتر، اجرائی و اداریتولید و مدیریت محتوادیجیتال مارکتینگپشتیبانی و امور مشتریانطراحیI\n",
      "\n"
     ]
    },
    {
     "name": "stderr",
     "output_type": "stream",
     "text": [
      "C:\\Users\\negin\\anaconda3\\Lib\\site-packages\\urllib3\\connectionpool.py:1099: InsecureRequestWarning: Unverified HTTPS request is being made to host 'jobinja.ir'. Adding certificate verification is strongly advised. See: https://urllib3.readthedocs.io/en/latest/advanced-usage.html#tls-warnings\n",
      "  warnings.warn(\n"
     ]
    },
    {
     "name": "stdout",
     "output_type": "stream",
     "text": [
      "URL: https://jobinja.ir/jobs?filters%5Bkeywords%5D%5B0%5D=%D9%BE%D8%B4%D8%AA%DB%8C%D8%A8%D8%A7%D9%86%DB%8C\n",
      "Content Snippet: فرصت های شغلی پشتیبانی\n",
      " | جابینجاامکان جدید:همین حالا رزومه خود را در کمتر از ۱۰ دقیقه بسازید،برو به رزومه‌سازJobinja | جابینجا | استخدام، آگهی استخدام، کاریابی، استخدامی جدید، بازار کار، نیازمندیها، ساخت رزومه رایگان، کار و استخدام دولتی، اشتغال، جستجوگر حرفه ای استخدام و شغلخانهجستجوی مشاغلرزومه‌ساز۵۰ شرکت برتربخش کارفرمایانورود کارجوثبت‌نام کارجوورود کارجوثبت‌نام کارجو۱جابینجا چطور به استخدام شدن من کمک می‌کند؟مشاهدهمشاهده بیشترجستجودرخواست‌های مننشان‌شده‌هاآگهی‌های پیشنهادیاز آگهی‌های جدید باخبر شوبهترین فرصت های شغلی در جابینجاهمه‌ی استان‌هاتهرانخراسان رضویاصفهانالبرزفارسقمآذربایجان شرقیمازندرانگیلانخوزستانکرمانیزدقزوینمرکزیهرمزگانگلستانزنجانسیستان و بلوچستانبوشهرآذربایجان غربیسمنانکرمانشاههمداناردبیللرستانکردستانخراسان شمالیایلامخراسان جنوبیچهارمحال بختیاریکهکیلویه و بویراحمدهمه‌ی دسته‌بندی‌هافروش و بازاریابیوب،‌ برنامه‌نویسی و نرم‌افزارمالی و حسابداریمسئول دفتر، اجرائی و اداریتولید و مدیریت محتوادیجیتال مارکتینگپشتیبانی و امور مشتریانطراحیIT / DevOps / Serverمهندسی صنایع و مدیری\n",
      "\n"
     ]
    },
    {
     "name": "stderr",
     "output_type": "stream",
     "text": [
      "C:\\Users\\negin\\anaconda3\\Lib\\site-packages\\urllib3\\connectionpool.py:1099: InsecureRequestWarning: Unverified HTTPS request is being made to host 'jobinja.ir'. Adding certificate verification is strongly advised. See: https://urllib3.readthedocs.io/en/latest/advanced-usage.html#tls-warnings\n",
      "  warnings.warn(\n"
     ]
    },
    {
     "name": "stdout",
     "output_type": "stream",
     "text": [
      "URL: https://jobinja.ir/jobs?filters%5Bkeywords%5D%5B0%5D=%D8%A7%D8%AF%D9%85%DB%8C%D9%86%DB%8C\n",
      "Content Snippet: فرصت های شغلی ادمینی\n",
      " | جابینجاامکان جدید:همین حالا رزومه خود را در کمتر از ۱۰ دقیقه بسازید،برو به رزومه‌سازJobinja | جابینجا | استخدام، آگهی استخدام، کاریابی، استخدامی جدید، بازار کار، نیازمندیها، ساخت رزومه رایگان، کار و استخدام دولتی، اشتغال، جستجوگر حرفه ای استخدام و شغلخانهجستجوی مشاغلرزومه‌ساز۵۰ شرکت برتربخش کارفرمایانورود کارجوثبت‌نام کارجوورود کارجوثبت‌نام کارجو۱جابینجا چطور به استخدام شدن من کمک می‌کند؟مشاهدهمشاهده بیشترجستجودرخواست‌های مننشان‌شده‌هاآگهی‌های پیشنهادیاز آگهی‌های جدید باخبر شوبهترین فرصت های شغلی در جابینجاهمه‌ی استان‌هاتهرانخراسان رضویاصفهانالبرزفارسقمآذربایجان شرقیمازندرانگیلانخوزستانکرمانیزدقزوینمرکزیهرمزگانگلستانزنجانسیستان و بلوچستانبوشهرآذربایجان غربیسمنانکرمانشاههمداناردبیللرستانکردستانخراسان شمالیایلامخراسان جنوبیچهارمحال بختیاریکهکیلویه و بویراحمدهمه‌ی دسته‌بندی‌هافروش و بازاریابیوب،‌ برنامه‌نویسی و نرم‌افزارمالی و حسابداریمسئول دفتر، اجرائی و اداریتولید و مدیریت محتوادیجیتال مارکتینگپشتیبانی و امور مشتریانطراحیIT / DevOps / Serverمهندسی صنایع و مدیریت \n",
      "\n"
     ]
    },
    {
     "name": "stderr",
     "output_type": "stream",
     "text": [
      "C:\\Users\\negin\\anaconda3\\Lib\\site-packages\\urllib3\\connectionpool.py:1099: InsecureRequestWarning: Unverified HTTPS request is being made to host 'jobinja.ir'. Adding certificate verification is strongly advised. See: https://urllib3.readthedocs.io/en/latest/advanced-usage.html#tls-warnings\n",
      "  warnings.warn(\n",
      "C:\\Users\\negin\\anaconda3\\Lib\\site-packages\\urllib3\\connectionpool.py:1099: InsecureRequestWarning: Unverified HTTPS request is being made to host 'jobinja.ir'. Adding certificate verification is strongly advised. See: https://urllib3.readthedocs.io/en/latest/advanced-usage.html#tls-warnings\n",
      "  warnings.warn(\n"
     ]
    },
    {
     "name": "stdout",
     "output_type": "stream",
     "text": [
      "URL: https://jobinja.ir/jobs?filters%5Bjob_categories%5D%5B%5D=%D8%AA%D8%B1%D8%A8%DB%8C%D8%AA+%D8%A8%D8%AF%D9%86%DB%8C\n",
      "Content Snippet: استخدام مربی بدنسازی | استخدام کارشناس ورزش و سلامت\n",
      " | جابینجاامکان جدید:همین حالا رزومه خود را در کمتر از ۱۰ دقیقه بسازید،برو به رزومه‌سازJobinja | جابینجا | استخدام، آگهی استخدام، کاریابی، استخدامی جدید، بازار کار، نیازمندیها، ساخت رزومه رایگان، کار و استخدام دولتی، اشتغال، جستجوگر حرفه ای استخدام و شغلخانهجستجوی مشاغلرزومه‌ساز۵۰ شرکت برتربخش کارفرمایانورود کارجوثبت‌نام کارجوورود کارجوثبت‌نام کارجو۱جابینجا چطور به استخدام شدن من کمک می‌کند؟مشاهدهمشاهده بیشترجستجودرخواست‌های مننشان‌شده‌هاآگهی‌های پیشنهادیاز آگهی‌های جدید باخبر شوبهترین فرصت های شغلی در جابینجاهمه‌ی استان‌هاتهرانخراسان رضویاصفهانالبرزفارسقمآذربایجان شرقیمازندرانگیلانخوزستانکرمانیزدقزوینمرکزیهرمزگانگلستانزنجانسیستان و بلوچستانبوشهرآذربایجان غربیسمنانکرمانشاههمداناردبیللرستانکردستانخراسان شمالیایلامخراسان جنوبیچهارمحال بختیاریکهکیلویه و بویراحمدهمه‌ی دسته‌بندی‌هاتربیت بدنیفروش و بازاریابیوب،‌ برنامه‌نویسی و نرم‌افزارمالی و حسابداریمسئول دفتر، اجرائی و اداریتولید و مدیریت محتوادیجیتال مارکتینگپشتیبانی و امور مشتریانطراحیI\n",
      "\n"
     ]
    },
    {
     "name": "stderr",
     "output_type": "stream",
     "text": [
      "C:\\Users\\negin\\anaconda3\\Lib\\site-packages\\urllib3\\connectionpool.py:1099: InsecureRequestWarning: Unverified HTTPS request is being made to host 'jobinja.ir'. Adding certificate verification is strongly advised. See: https://urllib3.readthedocs.io/en/latest/advanced-usage.html#tls-warnings\n",
      "  warnings.warn(\n",
      "C:\\Users\\negin\\anaconda3\\Lib\\site-packages\\urllib3\\connectionpool.py:1099: InsecureRequestWarning: Unverified HTTPS request is being made to host 'jobinja.ir'. Adding certificate verification is strongly advised. See: https://urllib3.readthedocs.io/en/latest/advanced-usage.html#tls-warnings\n",
      "  warnings.warn(\n"
     ]
    },
    {
     "name": "stdout",
     "output_type": "stream",
     "text": [
      "URL: https://jobinja.ir/jobs?filters%5Blocations%5D%5B%5D=%DA%A9%D8%B1%D9%85%D8%A7%D9%86\n",
      "Content Snippet: آگهی استخدام کرمان | استخدام کرمان | کاریابی کرمان\n",
      " | جابینجاامکان جدید:همین حالا رزومه خود را در کمتر از ۱۰ دقیقه بسازید،برو به رزومه‌سازJobinja | جابینجا | استخدام، آگهی استخدام، کاریابی، استخدامی جدید، بازار کار، نیازمندیها، ساخت رزومه رایگان، کار و استخدام دولتی، اشتغال، جستجوگر حرفه ای استخدام و شغلخانهجستجوی مشاغلرزومه‌ساز۵۰ شرکت برتربخش کارفرمایانورود کارجوثبت‌نام کارجوورود کارجوثبت‌نام کارجو۱جابینجا چطور به استخدام شدن من کمک می‌کند؟مشاهدهمشاهده بیشترجستجودرخواست‌های مننشان‌شده‌هاآگهی‌های پیشنهادیاز آگهی‌های جدید باخبر شوبهترین فرصت های شغلی در جابینجاهمه‌ی استان‌هاکرمانتهرانخراسان رضویاصفهانالبرزفارسقمآذربایجان شرقیمازندرانگیلانخوزستانیزدقزوینمرکزیهرمزگانگلستانزنجانسیستان و بلوچستانبوشهرآذربایجان غربیسمنانکرمانشاههمداناردبیللرستانکردستانخراسان شمالیایلامخراسان جنوبیچهارمحال بختیاریکهکیلویه و بویراحمدهمه‌ی دسته‌بندی‌هافروش و بازاریابیوب،‌ برنامه‌نویسی و نرم‌افزارمالی و حسابداریمسئول دفتر، اجرائی و اداریتولید و مدیریت محتوادیجیتال مارکتینگپشتیبانی و امور مشتریانطراحیIT / DevOps \n",
      "\n"
     ]
    },
    {
     "name": "stderr",
     "output_type": "stream",
     "text": [
      "C:\\Users\\negin\\anaconda3\\Lib\\site-packages\\urllib3\\connectionpool.py:1099: InsecureRequestWarning: Unverified HTTPS request is being made to host 'jobinja.ir'. Adding certificate verification is strongly advised. See: https://urllib3.readthedocs.io/en/latest/advanced-usage.html#tls-warnings\n",
      "  warnings.warn(\n",
      "C:\\Users\\negin\\anaconda3\\Lib\\site-packages\\urllib3\\connectionpool.py:1099: InsecureRequestWarning: Unverified HTTPS request is being made to host 'jobinja.ir'. Adding certificate verification is strongly advised. See: https://urllib3.readthedocs.io/en/latest/advanced-usage.html#tls-warnings\n",
      "  warnings.warn(\n"
     ]
    },
    {
     "name": "stdout",
     "output_type": "stream",
     "text": [
      "URL: https://jobinja.ir/jobs?filters%5Blocations%5D%5B%5D=%D8%B2%D9%86%D8%AC%D8%A7%D9%86\n",
      "Content Snippet: استخدام زنجان | کاریابی زنجان | آگهی استخدام زنجان\n",
      " | جابینجاامکان جدید:همین حالا رزومه خود را در کمتر از ۱۰ دقیقه بسازید،برو به رزومه‌سازJobinja | جابینجا | استخدام، آگهی استخدام، کاریابی، استخدامی جدید، بازار کار، نیازمندیها، ساخت رزومه رایگان، کار و استخدام دولتی، اشتغال، جستجوگر حرفه ای استخدام و شغلخانهجستجوی مشاغلرزومه‌ساز۵۰ شرکت برتربخش کارفرمایانورود کارجوثبت‌نام کارجوورود کارجوثبت‌نام کارجو۱جابینجا چطور به استخدام شدن من کمک می‌کند؟مشاهدهمشاهده بیشترجستجودرخواست‌های مننشان‌شده‌هاآگهی‌های پیشنهادیاز آگهی‌های جدید باخبر شوبهترین فرصت های شغلی در جابینجاهمه‌ی استان‌هازنجانتهرانخراسان رضویاصفهانالبرزفارسقمآذربایجان شرقیمازندرانگیلانخوزستانکرمانیزدقزوینمرکزیهرمزگانگلستانسیستان و بلوچستانبوشهرآذربایجان غربیسمنانکرمانشاههمداناردبیللرستانکردستانخراسان شمالیایلامخراسان جنوبیچهارمحال بختیاریکهکیلویه و بویراحمدهمه‌ی دسته‌بندی‌هافروش و بازاریابیوب،‌ برنامه‌نویسی و نرم‌افزارمالی و حسابداریمسئول دفتر، اجرائی و اداریتولید و مدیریت محتوادیجیتال مارکتینگپشتیبانی و امور مشتریانطراحیIT / DevOps \n",
      "\n"
     ]
    },
    {
     "name": "stderr",
     "output_type": "stream",
     "text": [
      "C:\\Users\\negin\\anaconda3\\Lib\\site-packages\\urllib3\\connectionpool.py:1099: InsecureRequestWarning: Unverified HTTPS request is being made to host 'jobinja.ir'. Adding certificate verification is strongly advised. See: https://urllib3.readthedocs.io/en/latest/advanced-usage.html#tls-warnings\n",
      "  warnings.warn(\n",
      "C:\\Users\\negin\\anaconda3\\Lib\\site-packages\\urllib3\\connectionpool.py:1099: InsecureRequestWarning: Unverified HTTPS request is being made to host 'jobinja.ir'. Adding certificate verification is strongly advised. See: https://urllib3.readthedocs.io/en/latest/advanced-usage.html#tls-warnings\n",
      "  warnings.warn(\n"
     ]
    },
    {
     "name": "stdout",
     "output_type": "stream",
     "text": [
      "URL: https://jobinja.ir/jobs?filters%5Bjob_categories%5D%5B%5D=HSE\n",
      "Content Snippet: استخدام HSE | استخدام ایمنی و بهداشت حرفه ای\n",
      " | جابینجاامکان جدید:همین حالا رزومه خود را در کمتر از ۱۰ دقیقه بسازید،برو به رزومه‌سازJobinja | جابینجا | استخدام، آگهی استخدام، کاریابی، استخدامی جدید، بازار کار، نیازمندیها، ساخت رزومه رایگان، کار و استخدام دولتی، اشتغال، جستجوگر حرفه ای استخدام و شغلخانهجستجوی مشاغلرزومه‌ساز۵۰ شرکت برتربخش کارفرمایانورود کارجوثبت‌نام کارجوورود کارجوثبت‌نام کارجو۱جابینجا چطور به استخدام شدن من کمک می‌کند؟مشاهدهمشاهده بیشترجستجودرخواست‌های مننشان‌شده‌هاآگهی‌های پیشنهادیاز آگهی‌های جدید باخبر شوبهترین فرصت های شغلی در جابینجاهمه‌ی استان‌هاتهرانخراسان رضویاصفهانالبرزفارسقمآذربایجان شرقیمازندرانگیلانخوزستانکرمانیزدقزوینمرکزیهرمزگانگلستانزنجانسیستان و بلوچستانبوشهرآذربایجان غربیسمنانکرمانشاههمداناردبیللرستانکردستانخراسان شمالیایلامخراسان جنوبیچهارمحال بختیاریکهکیلویه و بویراحمدهمه‌ی دسته‌بندی‌هاHSEفروش و بازاریابیوب،‌ برنامه‌نویسی و نرم‌افزارمالی و حسابداریمسئول دفتر، اجرائی و اداریتولید و مدیریت محتوادیجیتال مارکتینگپشتیبانی و امور مشتریانطراحیIT / DevOps / S\n",
      "\n",
      "An error occurred while accessing https://www.instagram.com/myjobinja/: ('Connection aborted.', ConnectionResetError(10054, 'An existing connection was forcibly closed by the remote host', None, 10054, None))\n"
     ]
    },
    {
     "name": "stderr",
     "output_type": "stream",
     "text": [
      "C:\\Users\\negin\\anaconda3\\Lib\\site-packages\\urllib3\\connectionpool.py:1099: InsecureRequestWarning: Unverified HTTPS request is being made to host 'jobinja.ir'. Adding certificate verification is strongly advised. See: https://urllib3.readthedocs.io/en/latest/advanced-usage.html#tls-warnings\n",
      "  warnings.warn(\n"
     ]
    },
    {
     "name": "stdout",
     "output_type": "stream",
     "text": [
      "URL: https://jobinja.ir/jobs?filters%5Bkeywords%5D%5B0%5D=%D9%87%D9%88%D8%B4+%D9%85%D8%B5%D9%86%D9%88%D8%B9%DB%8C\n",
      "Content Snippet: فرصت های شغلی هوش مصنوعی\n",
      " | جابینجاامکان جدید:همین حالا رزومه خود را در کمتر از ۱۰ دقیقه بسازید،برو به رزومه‌سازJobinja | جابینجا | استخدام، آگهی استخدام، کاریابی، استخدامی جدید، بازار کار، نیازمندیها، ساخت رزومه رایگان، کار و استخدام دولتی، اشتغال، جستجوگر حرفه ای استخدام و شغلخانهجستجوی مشاغلرزومه‌ساز۵۰ شرکت برتربخش کارفرمایانورود کارجوثبت‌نام کارجوورود کارجوثبت‌نام کارجو۱جابینجا چطور به استخدام شدن من کمک می‌کند؟مشاهدهمشاهده بیشترجستجودرخواست‌های مننشان‌شده‌هاآگهی‌های پیشنهادیاز آگهی‌های جدید باخبر شوبهترین فرصت های شغلی در جابینجاهمه‌ی استان‌هاتهرانخراسان رضویاصفهانالبرزفارسقمآذربایجان شرقیمازندرانگیلانخوزستانکرمانیزدقزوینمرکزیهرمزگانگلستانزنجانسیستان و بلوچستانبوشهرآذربایجان غربیسمنانکرمانشاههمداناردبیللرستانکردستانخراسان شمالیایلامخراسان جنوبیچهارمحال بختیاریکهکیلویه و بویراحمدهمه‌ی دسته‌بندی‌هافروش و بازاریابیوب،‌ برنامه‌نویسی و نرم‌افزارمالی و حسابداریمسئول دفتر، اجرائی و اداریتولید و مدیریت محتوادیجیتال مارکتینگپشتیبانی و امور مشتریانطراحیIT / DevOps / Serverمهندسی صنایع و مدی\n",
      "\n"
     ]
    },
    {
     "name": "stderr",
     "output_type": "stream",
     "text": [
      "C:\\Users\\negin\\anaconda3\\Lib\\site-packages\\urllib3\\connectionpool.py:1099: InsecureRequestWarning: Unverified HTTPS request is being made to host 'jobinja.ir'. Adding certificate verification is strongly advised. See: https://urllib3.readthedocs.io/en/latest/advanced-usage.html#tls-warnings\n",
      "  warnings.warn(\n"
     ]
    },
    {
     "name": "stdout",
     "output_type": "stream",
     "text": [
      "URL: https://jobinja.ir/companies/algorock/jobs\n",
      "Content Snippet: فرصت‌های شغلی فعال در الگوراک | Algo Rock | جابینجاامکان جدید:همین حالا رزومه خود را در کمتر از ۱۰ دقیقه بسازید،برو به رزومه‌سازJobinja | جابینجا | استخدام، آگهی استخدام، کاریابی، استخدامی جدید، بازار کار، نیازمندیها، ساخت رزومه رایگان، کار و استخدام دولتی، اشتغال، جستجوگر حرفه ای استخدام و شغلخانهجستجوی مشاغلرزومه‌ساز۵۰ شرکت برتربخش کارفرمایانورود کارجوثبت‌نام کارجوورود کارجوثبت‌نام کارجو۱جابینجا چطور به استخدام شدن من کمک می‌کند؟مشاهدهمشاهده بیشترالگوراک|Algo Rockکامپیوتر، فناوری اطلاعات و اینترنت۵۱ تا ۲۰۰ نفرalgorock.comفرصت‌های شغلی۶معرفی الگوراکما یک مجموعه استارت آپی و فعال در بازارهای اقتصادی و مالی با تمرکز بر هوش مصنوعی و الگوریتم‌های پیشرفته در حال فعالیت هستیم.فرصت‌های شغلی فعال در الگوراک|Algo RockMarketing Manager(۴ روز پیش)الگوراک | Algo Rockتهران، تهرانقرارداد\n",
      "              تمام‌وقت(برای\n",
      "                مشاهده حقوق وارد شوید)ارسال\n",
      "              رزومه{{ tooltipText }}{{ hoverTitle }}نشان کردنحذف نشانCreative Director(۴ روز پیش)الگوراک | Algo Rockتهران، تهرانقرارداد\n",
      "      \n",
      "\n"
     ]
    },
    {
     "name": "stderr",
     "output_type": "stream",
     "text": [
      "C:\\Users\\negin\\anaconda3\\Lib\\site-packages\\urllib3\\connectionpool.py:1099: InsecureRequestWarning: Unverified HTTPS request is being made to host 'jobinja.ir'. Adding certificate verification is strongly advised. See: https://urllib3.readthedocs.io/en/latest/advanced-usage.html#tls-warnings\n",
      "  warnings.warn(\n"
     ]
    },
    {
     "name": "stdout",
     "output_type": "stream",
     "text": [
      "URL: https://jobinja.ir/companies/apllybuddy/jobs/Amyp/%D8%A7%D8%B3%D8%AA%D8%AE%D8%AF%D8%A7%D9%85-senior-graphic-designer-%D8%AF%D8%B1-%D8%A7%D9%BE%D9%84%D8%A7%DB%8C-%D8%A8%D9%88%D8%AF%DB%8C?_ref=18\n",
      "Content Snippet: استخدام Senior Graphic Designer در اپلای بودی | جابینجاامکان جدید:همین حالا رزومه خود را در کمتر از ۱۰ دقیقه بسازید،برو به رزومه‌سازJobinja | جابینجا | استخدام، آگهی استخدام، کاریابی، استخدامی جدید، بازار کار، نیازمندیها، ساخت رزومه رایگان، کار و استخدام دولتی، اشتغال، جستجوگر حرفه ای استخدام و شغلخانهجستجوی مشاغلرزومه‌ساز۵۰ شرکت برتربخش کارفرمایانورود کارجوثبت‌نام کارجوورود کارجوثبت‌نام کارجو۱جابینجا چطور به استخدام شدن من کمک می‌کند؟مشاهدهمشاهده بیشتراپلای بودی|Apllybuddyآموزش، مدارس و دانشگاه‌ها۲ - ۱۰ نفرWww.myapplybuddy.comفرصت‌های شغلی۵استخدام Senior Graphic Designerلطفا برای مشاهده‌ی جزییات و ارسال رزومهیکی از راه‌های زیر را انتخاب کنیدورود / ثبت‌نام با ایمیلimage/svg+xmlbtn_google_light_normal_iosbtn_google_light_normal_iosCreated with Sketch.ورود / ثبت‌نام با گوگل\n",
      "                    (Gmail)ورود / ثبت‌نام با لینکدیناستخدام Senior Graphic Designer{{ tooltipText }}{{ hoverTitle }}نشان کردنحذف نشاندسته‌بندی شغلیطراحیموقعیت مکانیتهران\n",
      "                                               \n",
      "\n"
     ]
    },
    {
     "name": "stderr",
     "output_type": "stream",
     "text": [
      "C:\\Users\\negin\\anaconda3\\Lib\\site-packages\\urllib3\\connectionpool.py:1099: InsecureRequestWarning: Unverified HTTPS request is being made to host 'jobinja.ir'. Adding certificate verification is strongly advised. See: https://urllib3.readthedocs.io/en/latest/advanced-usage.html#tls-warnings\n",
      "  warnings.warn(\n"
     ]
    },
    {
     "name": "stdout",
     "output_type": "stream",
     "text": [
      "URL: https://jobinja.ir/companies/ofv-co-1/jobs/AmyM/%D8%A7%D8%B3%D8%AA%D8%AE%D8%AF%D8%A7%D9%85-%D8%B7%D8%B1%D8%A7%D8%AD-%DA%AF%D8%B1%D8%A7%D9%81%DB%8C%DA%A9-%D8%AF%D8%B1-%D8%A7%D9%81%D9%82-%D9%81%D8%B1%D8%A7-%D9%88%DB%8C%DA%98%D9%86?_ref=18\n",
      "Content Snippet: استخدام طراح گرافیک در افق فرا ویژن | جابینجاامکان جدید:همین حالا رزومه خود را در کمتر از ۱۰ دقیقه بسازید،برو به رزومه‌سازJobinja | جابینجا | استخدام، آگهی استخدام، کاریابی، استخدامی جدید، بازار کار، نیازمندیها، ساخت رزومه رایگان، کار و استخدام دولتی، اشتغال، جستجوگر حرفه ای استخدام و شغلخانهجستجوی مشاغلرزومه‌ساز۵۰ شرکت برتربخش کارفرمایانورود کارجوثبت‌نام کارجوورود کارجوثبت‌نام کارجو۱جابینجا چطور به استخدام شدن من کمک می‌کند؟مشاهدهمشاهده بیشترافق فرا ویژن|OFV Coتاسیس در  ۱۳۸۶کامپیوتر، فناوری اطلاعات و اینترنت۱۱ تا ۵۰ نفرofv-co.comدر یک نگاهمعرفیفرصت‌های شغلی۳استخدام طراح گرافیکلطفا برای مشاهده‌ی جزییات و ارسال رزومهیکی از راه‌های زیر را انتخاب کنیدورود / ثبت‌نام با ایمیلimage/svg+xmlbtn_google_light_normal_iosbtn_google_light_normal_iosCreated with Sketch.ورود / ثبت‌نام با گوگل\n",
      "                    (Gmail)ورود / ثبت‌نام با لینکدیناستخدام طراح گرافیک{{ tooltipText }}{{ hoverTitle }}نشان کردنحذف نشاندسته‌بندی شغلیطراحیموقعیت مکانیتهران\n",
      "                                                ، تهر\n",
      "\n"
     ]
    },
    {
     "name": "stderr",
     "output_type": "stream",
     "text": [
      "C:\\Users\\negin\\anaconda3\\Lib\\site-packages\\urllib3\\connectionpool.py:1099: InsecureRequestWarning: Unverified HTTPS request is being made to host 'jobinja.ir'. Adding certificate verification is strongly advised. See: https://urllib3.readthedocs.io/en/latest/advanced-usage.html#tls-warnings\n",
      "  warnings.warn(\n",
      "C:\\Users\\negin\\anaconda3\\Lib\\site-packages\\urllib3\\connectionpool.py:1099: InsecureRequestWarning: Unverified HTTPS request is being made to host 'jobinja.ir'. Adding certificate verification is strongly advised. See: https://urllib3.readthedocs.io/en/latest/advanced-usage.html#tls-warnings\n",
      "  warnings.warn(\n"
     ]
    },
    {
     "name": "stdout",
     "output_type": "stream",
     "text": [
      "URL: https://jobinja.ir/jobs?filters%5Bjob_categories%5D%5B%5D=%D8%AA%D8%B1%D8%AC%D9%85%D9%87\n",
      "Content Snippet: استخدام مترجم | استخدام مترجم زبان انگلیسی | استخدام مترجم زیرنویس | جابینجا\n",
      " | جابینجاامکان جدید:همین حالا رزومه خود را در کمتر از ۱۰ دقیقه بسازید،برو به رزومه‌سازJobinja | جابینجا | استخدام، آگهی استخدام، کاریابی، استخدامی جدید، بازار کار، نیازمندیها، ساخت رزومه رایگان، کار و استخدام دولتی، اشتغال، جستجوگر حرفه ای استخدام و شغلخانهجستجوی مشاغلرزومه‌ساز۵۰ شرکت برتربخش کارفرمایانورود کارجوثبت‌نام کارجوورود کارجوثبت‌نام کارجو۱جابینجا چطور به استخدام شدن من کمک می‌کند؟مشاهدهمشاهده بیشترجستجودرخواست‌های مننشان‌شده‌هاآگهی‌های پیشنهادیاز آگهی‌های جدید باخبر شوبهترین فرصت های شغلی در جابینجاهمه‌ی استان‌هاتهرانخراسان رضویاصفهانالبرزفارسقمآذربایجان شرقیمازندرانگیلانخوزستانکرمانیزدقزوینمرکزیهرمزگانگلستانزنجانسیستان و بلوچستانبوشهرآذربایجان غربیسمنانکرمانشاههمداناردبیللرستانکردستانخراسان شمالیایلامخراسان جنوبیچهارمحال بختیاریکهکیلویه و بویراحمدهمه‌ی دسته‌بندی‌هاترجمهفروش و بازاریابیوب،‌ برنامه‌نویسی و نرم‌افزارمالی و حسابداریمسئول دفتر، اجرائی و اداریتولید و مدیریت محتوادیجیتال مارکتینگپشتیبانی \n",
      "\n"
     ]
    },
    {
     "name": "stderr",
     "output_type": "stream",
     "text": [
      "C:\\Users\\negin\\anaconda3\\Lib\\site-packages\\urllib3\\connectionpool.py:1099: InsecureRequestWarning: Unverified HTTPS request is being made to host 'jobinja.ir'. Adding certificate verification is strongly advised. See: https://urllib3.readthedocs.io/en/latest/advanced-usage.html#tls-warnings\n",
      "  warnings.warn(\n"
     ]
    },
    {
     "name": "stdout",
     "output_type": "stream",
     "text": [
      "URL: https://jobinja.ir/companies/tazmin-sanat\n",
      "Content Snippet: استخدام در شرکت مالتینا، آگهی های استخدام Malltina | جابینجاامکان جدید:همین حالا رزومه خود را در کمتر از ۱۰ دقیقه بسازید،برو به رزومه‌سازJobinja | جابینجا | استخدام، آگهی استخدام، کاریابی، استخدامی جدید، بازار کار، نیازمندیها، ساخت رزومه رایگان، کار و استخدام دولتی، اشتغال، جستجوگر حرفه ای استخدام و شغلخانهجستجوی مشاغلرزومه‌ساز۵۰ شرکت برتربخش کارفرمایانورود کارجوثبت‌نام کارجوورود کارجوثبت‌نام کارجو۱جابینجا چطور به استخدام شدن من کمک می‌کند؟مشاهدهمشاهده بیشترمالتینا|Malltinaکامپیوتر، فناوری اطلاعات و اینترنت۵۱ تا ۲۰۰ نفرmalltina.comدر یک نگاهمعرفیفرصت‌های شغلی۸ما در مالتینا برای نوآوری و خلاقیت ارزش بسیار زیادی قائل هستیم و کوچکترین دستاوردها را جشن می‌گیریم.موقعیت مکانیالبرز، کرجاعضای شرکتمهدی مختاریموسس و مدیرعاملشما در مالتینا کار نمی‌کنید؛ بلکه زندگی می‌کنید. پس ما بهترین فضای کاری را برایتان ایجاد می‌کنیم تا لحظاتی جذاب را در کنار هم تجربه کرده و با هم، خاطراتی به یادماندنی بسازیم.هادی مختاریهم بنیان گذاردر مالتینا بهترین‌ها کنار هم جمع شده‌اند تا بهترین شرایط خدمت رسانی را ایجاد ن\n",
      "\n"
     ]
    },
    {
     "name": "stderr",
     "output_type": "stream",
     "text": [
      "C:\\Users\\negin\\anaconda3\\Lib\\site-packages\\urllib3\\connectionpool.py:1099: InsecureRequestWarning: Unverified HTTPS request is being made to host 'jobinja.ir'. Adding certificate verification is strongly advised. See: https://urllib3.readthedocs.io/en/latest/advanced-usage.html#tls-warnings\n",
      "  warnings.warn(\n"
     ]
    },
    {
     "name": "stdout",
     "output_type": "stream",
     "text": [
      "URL: https://jobinja.ir/companies/zarinpal\n",
      "Content Snippet: استخدام در شرکت زرین‌پال، آگهی های استخدام ZarinPal | جابینجاامکان جدید:همین حالا رزومه خود را در کمتر از ۱۰ دقیقه بسازید،برو به رزومه‌سازJobinja | جابینجا | استخدام، آگهی استخدام، کاریابی، استخدامی جدید، بازار کار، نیازمندیها، ساخت رزومه رایگان، کار و استخدام دولتی، اشتغال، جستجوگر حرفه ای استخدام و شغلخانهجستجوی مشاغلرزومه‌ساز۵۰ شرکت برتربخش کارفرمایانورود کارجوثبت‌نام کارجوورود کارجوثبت‌نام کارجو۱جابینجا چطور به استخدام شدن من کمک می‌کند؟مشاهدهمشاهده بیشترزرین‌پال|ZarinPalتاسیس در  ۱۳۸۹کامپیوتر، فناوری اطلاعات و اینترنت۵۱ تا ۲۰۰ نفرwww.zarinpal.comدر یک نگاهمعرفیفرصت‌های شغلی۱۶زرین‌پال اولین ارائه‌دهنده‌ی درگاه پرداخت واسط در کشور است.موقعیت مکانیتهران، تهراناعضای شرکتمصطفی امیریمدیرعاملزرین‌پال، به عنوان برترین سرویس پرداخت الکترونیک، همواره در ارائه‌ی راه‌کارهای نوین پیشگام است و عامل این موفقیت را حضور نیروهای جوان، پُرانرژی، با انگیزه و مستعد می‌داند.علی امیریرئیس هیئت مدیرهدر زرین‌پال اخلاق و روحیه‌ی کار تیمی، از تحصیلات و سابقه‌‌ی کاری اهمیت بیش‌تری دارد. من معتقدم نیروی انسان\n",
      "\n"
     ]
    },
    {
     "name": "stderr",
     "output_type": "stream",
     "text": [
      "C:\\Users\\negin\\anaconda3\\Lib\\site-packages\\urllib3\\connectionpool.py:1099: InsecureRequestWarning: Unverified HTTPS request is being made to host 'jobinja.ir'. Adding certificate verification is strongly advised. See: https://urllib3.readthedocs.io/en/latest/advanced-usage.html#tls-warnings\n",
      "  warnings.warn(\n"
     ]
    },
    {
     "name": "stdout",
     "output_type": "stream",
     "text": [
      "URL: https://jobinja.ir/companies/hami-4/jobs\n",
      "Content Snippet: فرصت‌های شغلی فعال در حامی پیشگامان  | Hamipishgaman | جابینجاامکان جدید:همین حالا رزومه خود را در کمتر از ۱۰ دقیقه بسازید،برو به رزومه‌سازJobinja | جابینجا | استخدام، آگهی استخدام، کاریابی، استخدامی جدید، بازار کار، نیازمندیها، ساخت رزومه رایگان، کار و استخدام دولتی، اشتغال، جستجوگر حرفه ای استخدام و شغلخانهجستجوی مشاغلرزومه‌ساز۵۰ شرکت برتربخش کارفرمایانورود کارجوثبت‌نام کارجوورود کارجوثبت‌نام کارجو۱جابینجا چطور به استخدام شدن من کمک می‌کند؟مشاهدهمشاهده بیشترحامی پیشگامان|Hamipishgamanتاسیس در  ۱۳۹۷تبلیغات، بازاریابی و برندسازی۱۱ تا ۵۰ نفرhamipishgaman.com/در یک نگاهمعرفیفرصت‌های شغلی۴معرفی حامی پیشگامانشرکت حامی پیشگامان ، تعاملات سازنده داخل سازمانی را در جهت رشد منابع انسانی با فرهنگ هم‌افزایی گره زده و برای پیشرفت در کسب‌وکار با تکیه بر تکنولوژی، سعی در ایجاد و توسعه محصولاتی در صنعت آی‌تی دارد که ضمن ایجاد ارزش‌های اقتصادی، در راستای تکمیل یک زنجیره ارزشمند، در آینده کسب‌وکارها نیز سهیم باشد.شرکت حامی مجموعه‌ای فعال در IT و فناوری اطلاعات است که در زمینه دیجیتال مارکتینگ، مدیریت \n",
      "\n"
     ]
    },
    {
     "name": "stderr",
     "output_type": "stream",
     "text": [
      "C:\\Users\\negin\\anaconda3\\Lib\\site-packages\\urllib3\\connectionpool.py:1099: InsecureRequestWarning: Unverified HTTPS request is being made to host 'jobinja.ir'. Adding certificate verification is strongly advised. See: https://urllib3.readthedocs.io/en/latest/advanced-usage.html#tls-warnings\n",
      "  warnings.warn(\n"
     ]
    },
    {
     "name": "stdout",
     "output_type": "stream",
     "text": [
      "URL: https://jobinja.ir/companies/dot-studio/jobs/Amyu/%D8%A7%D8%B3%D8%AA%D8%AE%D8%AF%D8%A7%D9%85-%D8%B7%D8%B1%D8%A7%D8%AD-%DA%AF%D8%B1%D8%A7%D9%81%DB%8C%DA%A9-%D8%AF%D8%B1-%D8%AF%D8%A7%D8%AA-%D8%A7%D8%B3%D8%AA%D9%88%D8%AF%DB%8C%D9%88?_ref=18\n",
      "Content Snippet: استخدام طراح گرافیک در دات استودیو | جابینجاامکان جدید:همین حالا رزومه خود را در کمتر از ۱۰ دقیقه بسازید،برو به رزومه‌سازJobinja | جابینجا | استخدام، آگهی استخدام، کاریابی، استخدامی جدید، بازار کار، نیازمندیها، ساخت رزومه رایگان، کار و استخدام دولتی، اشتغال، جستجوگر حرفه ای استخدام و شغلخانهجستجوی مشاغلرزومه‌ساز۵۰ شرکت برتربخش کارفرمایانورود کارجوثبت‌نام کارجوورود کارجوثبت‌نام کارجو۱جابینجا چطور به استخدام شدن من کمک می‌کند؟مشاهدهمشاهده بیشتردات استودیو|DOT Studioتبلیغات، بازاریابی و برندسازی۲ - ۱۰ نفرwww.dot-studio.irفرصت‌های شغلی۲استخدام طراح گرافیکلطفا برای مشاهده‌ی جزییات و ارسال رزومهیکی از راه‌های زیر را انتخاب کنیدورود / ثبت‌نام با ایمیلimage/svg+xmlbtn_google_light_normal_iosbtn_google_light_normal_iosCreated with Sketch.ورود / ثبت‌نام با گوگل\n",
      "                    (Gmail)ورود / ثبت‌نام با لینکدیناستخدام طراح گرافیک{{ tooltipText }}{{ hoverTitle }}نشان کردنحذف نشاندسته‌بندی شغلیطراحیموقعیت مکانیتهران\n",
      "                                                ، تهراننوع همکاریتمام وقتحداقل س\n",
      "\n"
     ]
    },
    {
     "name": "stderr",
     "output_type": "stream",
     "text": [
      "C:\\Users\\negin\\anaconda3\\Lib\\site-packages\\urllib3\\connectionpool.py:1099: InsecureRequestWarning: Unverified HTTPS request is being made to host 'jobinja.ir'. Adding certificate verification is strongly advised. See: https://urllib3.readthedocs.io/en/latest/advanced-usage.html#tls-warnings\n",
      "  warnings.warn(\n"
     ]
    },
    {
     "name": "stdout",
     "output_type": "stream",
     "text": [
      "URL: https://jobinja.ir/companies/daftareshoma\n",
      "Content Snippet: استخدام در شرکت دفتر شما، آگهی های استخدام Daftareshoma | جابینجاامکان جدید:همین حالا رزومه خود را در کمتر از ۱۰ دقیقه بسازید،برو به رزومه‌سازJobinja | جابینجا | استخدام، آگهی استخدام، کاریابی، استخدامی جدید، بازار کار، نیازمندیها، ساخت رزومه رایگان، کار و استخدام دولتی، اشتغال، جستجوگر حرفه ای استخدام و شغلخانهجستجوی مشاغلرزومه‌ساز۵۰ شرکت برتربخش کارفرمایانورود کارجوثبت‌نام کارجوورود کارجوثبت‌نام کارجو۱جابینجا چطور به استخدام شدن من کمک می‌کند؟مشاهدهمشاهده بیشتردفتر شما|Daftareshomaتاسیس در  ۱۳۸۳کامپیوتر، فناوری اطلاعات و اینترنت۵۱ تا ۲۰۰ نفرdaftareshoma.comدر یک نگاهمعرفیفرصت‌های شغلی۷تیم ما از بخش‌های شبکه، برنامه‌نویسی، فروش، بازاریابی و اپراتوری تشکیل شده است که هر بخش با تخصص منحصر به فرد خود در حوزه مربوطه فعالیت می‌کند.موقعیت مکانیتهران، تهراناعضای شرکتعلی دشتیمدیر عاملکار در کنار دوستان و همکاران خوبم در «دفترشما»، مثل یک رویاست و هر روز بابت این شانس قدردانم.شاهین شوشتریمدیر فنیدر همکاری چند ساله با «دفتر شما»، محیطی سالم، صمیمی و به دور از حاشیه را تجربه کردم.علی دادگرمدیر ا\n",
      "\n"
     ]
    },
    {
     "name": "stderr",
     "output_type": "stream",
     "text": [
      "C:\\Users\\negin\\anaconda3\\Lib\\site-packages\\urllib3\\connectionpool.py:1099: InsecureRequestWarning: Unverified HTTPS request is being made to host 'jobinja.ir'. Adding certificate verification is strongly advised. See: https://urllib3.readthedocs.io/en/latest/advanced-usage.html#tls-warnings\n",
      "  warnings.warn(\n"
     ]
    },
    {
     "name": "stdout",
     "output_type": "stream",
     "text": [
      "URL: https://jobinja.ir/jobs?filters%5Bkeywords%5D%5B0%5D=%D8%A7%D8%AF%D9%85%DB%8C%D9%86+%D8%A7%DB%8C%D9%86%D8%B3%D8%AA%D8%A7%DA%AF%D8%B1%D8%A7%D9%85\n",
      "Content Snippet: فرصت های شغلی ادمین اینستاگرام\n",
      " | جابینجاامکان جدید:همین حالا رزومه خود را در کمتر از ۱۰ دقیقه بسازید،برو به رزومه‌سازJobinja | جابینجا | استخدام، آگهی استخدام، کاریابی، استخدامی جدید، بازار کار، نیازمندیها، ساخت رزومه رایگان، کار و استخدام دولتی، اشتغال، جستجوگر حرفه ای استخدام و شغلخانهجستجوی مشاغلرزومه‌ساز۵۰ شرکت برتربخش کارفرمایانورود کارجوثبت‌نام کارجوورود کارجوثبت‌نام کارجو۱جابینجا چطور به استخدام شدن من کمک می‌کند؟مشاهدهمشاهده بیشترجستجودرخواست‌های مننشان‌شده‌هاآگهی‌های پیشنهادیاز آگهی‌های جدید باخبر شوبهترین فرصت های شغلی در جابینجاهمه‌ی استان‌هاتهرانخراسان رضویاصفهانالبرزفارسقمآذربایجان شرقیمازندرانگیلانخوزستانکرمانیزدقزوینمرکزیهرمزگانگلستانزنجانسیستان و بلوچستانبوشهرآذربایجان غربیسمنانکرمانشاههمداناردبیللرستانکردستانخراسان شمالیایلامخراسان جنوبیچهارمحال بختیاریکهکیلویه و بویراحمدهمه‌ی دسته‌بندی‌هافروش و بازاریابیوب،‌ برنامه‌نویسی و نرم‌افزارمالی و حسابداریمسئول دفتر، اجرائی و اداریتولید و مدیریت محتوادیجیتال مارکتینگپشتیبانی و امور مشتریانطراحیIT / DevOps / Serverمهندسی صنایع\n",
      "\n"
     ]
    },
    {
     "name": "stderr",
     "output_type": "stream",
     "text": [
      "C:\\Users\\negin\\anaconda3\\Lib\\site-packages\\urllib3\\connectionpool.py:1099: InsecureRequestWarning: Unverified HTTPS request is being made to host 'jobinja.ir'. Adding certificate verification is strongly advised. See: https://urllib3.readthedocs.io/en/latest/advanced-usage.html#tls-warnings\n",
      "  warnings.warn(\n"
     ]
    },
    {
     "name": "stdout",
     "output_type": "stream",
     "text": [
      "URL: https://jobinja.ir/knowledge/job-seeker-faq/pages/job-seeker-account-faq\n",
      "Content Snippet: سوالات متداول حساب کاربری کارجویان | جابینجاامکان جدید:همین حالا رزومه خود را در کمتر از ۱۰ دقیقه بسازید،برو به رزومه‌سازJobinja | جابینجا | استخدام، آگهی استخدام، کاریابی، استخدامی جدید، بازار کار، نیازمندیها، ساخت رزومه رایگان، کار و استخدام دولتی، اشتغال، جستجوگر حرفه ای استخدام و شغلخانهجستجوی مشاغلرزومه‌ساز۵۰ شرکت برتربخش کارفرمایانورود کارجوثبت‌نام کارجوورود کارجوثبت‌نام کارجو۱جابینجا چطور به استخدام شدن من کمک می‌کند؟مشاهدهمشاهده بیشترسوالات متداول کارجویانسوالات متداول حساب کاربری کارجویانسوالات متداول حساب کاربری کارجویانثبت نام  و ورود به پنل کارجویی:چگونه می‌توانم در جابینجا حساب کاربری ایجاد کنم؟برای ایجاد حساب کاربری وارد سایت jobinja.ir شوید و از نوار بالای صفحه روی قسمت ثبت نام کارجو کلیک نمایید. بعد از وارد کردن آدرس ایمیل، نام و نام خانوادگی و رمز عبور روی گزینه ثبت نام کلیک کنید تا حساب کاربری شما ساخته شود.چگونه می‌توانم وارد حساب کاربری خود شوم؟بعد از ورود به سایت jobinja.ir از نوار بالای صفحه روی قسمت ورود کارجو کلیک نمایید و با وارد کردن آدرس ایمیل و رمز عبور خود \n",
      "\n"
     ]
    },
    {
     "name": "stderr",
     "output_type": "stream",
     "text": [
      "C:\\Users\\negin\\anaconda3\\Lib\\site-packages\\urllib3\\connectionpool.py:1099: InsecureRequestWarning: Unverified HTTPS request is being made to host 'jobinja.ir'. Adding certificate verification is strongly advised. See: https://urllib3.readthedocs.io/en/latest/advanced-usage.html#tls-warnings\n",
      "  warnings.warn(\n"
     ]
    },
    {
     "name": "stdout",
     "output_type": "stream",
     "text": [
      "URL: https://jobinja.ir/jobs?filters%5Bkeywords%5D%5B0%5D=%D8%A8%D8%B1%D9%86%D8%A7%D9%85%D9%87+%D9%86%D9%88%DB%8C%D8%B3\n",
      "Content Snippet: فرصت های شغلی برنامه نویس\n",
      " | جابینجاامکان جدید:همین حالا رزومه خود را در کمتر از ۱۰ دقیقه بسازید،برو به رزومه‌سازJobinja | جابینجا | استخدام، آگهی استخدام، کاریابی، استخدامی جدید، بازار کار، نیازمندیها، ساخت رزومه رایگان، کار و استخدام دولتی، اشتغال، جستجوگر حرفه ای استخدام و شغلخانهجستجوی مشاغلرزومه‌ساز۵۰ شرکت برتربخش کارفرمایانورود کارجوثبت‌نام کارجوورود کارجوثبت‌نام کارجو۱جابینجا چطور به استخدام شدن من کمک می‌کند؟مشاهدهمشاهده بیشترجستجودرخواست‌های مننشان‌شده‌هاآگهی‌های پیشنهادیاز آگهی‌های جدید باخبر شوبهترین فرصت های شغلی در جابینجاهمه‌ی استان‌هاتهرانخراسان رضویاصفهانالبرزفارسقمآذربایجان شرقیمازندرانگیلانخوزستانکرمانیزدقزوینمرکزیهرمزگانگلستانزنجانسیستان و بلوچستانبوشهرآذربایجان غربیسمنانکرمانشاههمداناردبیللرستانکردستانخراسان شمالیایلامخراسان جنوبیچهارمحال بختیاریکهکیلویه و بویراحمدهمه‌ی دسته‌بندی‌هافروش و بازاریابیوب،‌ برنامه‌نویسی و نرم‌افزارمالی و حسابداریمسئول دفتر، اجرائی و اداریتولید و مدیریت محتوادیجیتال مارکتینگپشتیبانی و امور مشتریانطراحیIT / DevOps / Serverمهندسی صنایع و مد\n",
      "\n"
     ]
    },
    {
     "name": "stderr",
     "output_type": "stream",
     "text": [
      "C:\\Users\\negin\\anaconda3\\Lib\\site-packages\\urllib3\\connectionpool.py:1099: InsecureRequestWarning: Unverified HTTPS request is being made to host 'jobinja.ir'. Adding certificate verification is strongly advised. See: https://urllib3.readthedocs.io/en/latest/advanced-usage.html#tls-warnings\n",
      "  warnings.warn(\n",
      "C:\\Users\\negin\\anaconda3\\Lib\\site-packages\\urllib3\\connectionpool.py:1099: InsecureRequestWarning: Unverified HTTPS request is being made to host 'jobinja.ir'. Adding certificate verification is strongly advised. See: https://urllib3.readthedocs.io/en/latest/advanced-usage.html#tls-warnings\n",
      "  warnings.warn(\n"
     ]
    },
    {
     "name": "stdout",
     "output_type": "stream",
     "text": [
      "URL: https://jobinja.ir/jobs?sort_by=published_at_desc\n",
      "Content Snippet: استخدامی جدید | آگهی استخدام امروز | استخدامی های امروز\n",
      " | جابینجاامکان جدید:همین حالا رزومه خود را در کمتر از ۱۰ دقیقه بسازید،برو به رزومه‌سازJobinja | جابینجا | استخدام، آگهی استخدام، کاریابی، استخدامی جدید، بازار کار، نیازمندیها، ساخت رزومه رایگان، کار و استخدام دولتی، اشتغال، جستجوگر حرفه ای استخدام و شغلخانهجستجوی مشاغلرزومه‌ساز۵۰ شرکت برتربخش کارفرمایانورود کارجوثبت‌نام کارجوورود کارجوثبت‌نام کارجو۱جابینجا چطور به استخدام شدن من کمک می‌کند؟مشاهدهمشاهده بیشترجستجودرخواست‌های مننشان‌شده‌هاآگهی‌های پیشنهادیاز آگهی‌های جدید باخبر شوبهترین فرصت های شغلی در جابینجاهمه‌ی استان‌هاتهرانخراسان رضویاصفهانالبرزفارسقمآذربایجان شرقیمازندرانگیلانخوزستانکرمانیزدقزوینمرکزیهرمزگانگلستانزنجانسیستان و بلوچستانبوشهرآذربایجان غربیسمنانکرمانشاههمداناردبیللرستانکردستانخراسان شمالیایلامخراسان جنوبیچهارمحال بختیاریکهکیلویه و بویراحمدهمه‌ی دسته‌بندی‌هافروش و بازاریابیوب،‌ برنامه‌نویسی و نرم‌افزارمالی و حسابداریمسئول دفتر، اجرائی و اداریتولید و مدیریت محتوادیجیتال مارکتینگپشتیبانی و امور مشتریانطراحیIT / De\n",
      "\n"
     ]
    },
    {
     "name": "stderr",
     "output_type": "stream",
     "text": [
      "C:\\Users\\negin\\anaconda3\\Lib\\site-packages\\urllib3\\connectionpool.py:1099: InsecureRequestWarning: Unverified HTTPS request is being made to host 'jobinja.ir'. Adding certificate verification is strongly advised. See: https://urllib3.readthedocs.io/en/latest/advanced-usage.html#tls-warnings\n",
      "  warnings.warn(\n",
      "C:\\Users\\negin\\anaconda3\\Lib\\site-packages\\urllib3\\connectionpool.py:1099: InsecureRequestWarning: Unverified HTTPS request is being made to host 'jobinja.ir'. Adding certificate verification is strongly advised. See: https://urllib3.readthedocs.io/en/latest/advanced-usage.html#tls-warnings\n",
      "  warnings.warn(\n"
     ]
    },
    {
     "name": "stdout",
     "output_type": "stream",
     "text": [
      "URL: https://jobinja.ir/jobs?filters%5Blocations%5D%5B%5D=%D8%A8%D9%88%D8%B4%D9%87%D8%B1\n",
      "Content Snippet: آگهی استخدام بوشهر | کاریابی بوشهر | جابینجا\n",
      " | جابینجاامکان جدید:همین حالا رزومه خود را در کمتر از ۱۰ دقیقه بسازید،برو به رزومه‌سازJobinja | جابینجا | استخدام، آگهی استخدام، کاریابی، استخدامی جدید، بازار کار، نیازمندیها، ساخت رزومه رایگان، کار و استخدام دولتی، اشتغال، جستجوگر حرفه ای استخدام و شغلخانهجستجوی مشاغلرزومه‌ساز۵۰ شرکت برتربخش کارفرمایانورود کارجوثبت‌نام کارجوورود کارجوثبت‌نام کارجو۱جابینجا چطور به استخدام شدن من کمک می‌کند؟مشاهدهمشاهده بیشترجستجودرخواست‌های مننشان‌شده‌هاآگهی‌های پیشنهادیاز آگهی‌های جدید باخبر شوبهترین فرصت های شغلی در جابینجاهمه‌ی استان‌هابوشهرتهرانخراسان رضویاصفهانالبرزفارسقمآذربایجان شرقیمازندرانگیلانخوزستانکرمانیزدقزوینمرکزیهرمزگانگلستانزنجانسیستان و بلوچستانآذربایجان غربیسمنانکرمانشاههمداناردبیللرستانکردستانخراسان شمالیایلامخراسان جنوبیچهارمحال بختیاریکهکیلویه و بویراحمدهمه‌ی دسته‌بندی‌هافروش و بازاریابیوب،‌ برنامه‌نویسی و نرم‌افزارمالی و حسابداریمسئول دفتر، اجرائی و اداریتولید و مدیریت محتوادیجیتال مارکتینگپشتیبانی و امور مشتریانطراحیIT / DevOps / Serv\n",
      "\n"
     ]
    },
    {
     "name": "stderr",
     "output_type": "stream",
     "text": [
      "C:\\Users\\negin\\anaconda3\\Lib\\site-packages\\urllib3\\connectionpool.py:1099: InsecureRequestWarning: Unverified HTTPS request is being made to host 'jobinja.ir'. Adding certificate verification is strongly advised. See: https://urllib3.readthedocs.io/en/latest/advanced-usage.html#tls-warnings\n",
      "  warnings.warn(\n",
      "C:\\Users\\negin\\anaconda3\\Lib\\site-packages\\urllib3\\connectionpool.py:1099: InsecureRequestWarning: Unverified HTTPS request is being made to host 'jobinja.ir'. Adding certificate verification is strongly advised. See: https://urllib3.readthedocs.io/en/latest/advanced-usage.html#tls-warnings\n",
      "  warnings.warn(\n"
     ]
    },
    {
     "name": "stdout",
     "output_type": "stream",
     "text": [
      "URL: https://jobinja.ir/jobs?filters%5Bjob_categories%5D%5B%5D=%D8%AD%D9%88%D8%B2%D9%87%E2%80%8C+%D9%85%D9%88%D8%B3%DB%8C%D9%82%DB%8C+%D9%88+%D8%B5%D8%AF%D8%A7\n",
      "Content Snippet: استخدام گوینده | استخدام دوبلور | استخدام آهنگساز و تنظیم کننده\n",
      " | جابینجاامکان جدید:همین حالا رزومه خود را در کمتر از ۱۰ دقیقه بسازید،برو به رزومه‌سازJobinja | جابینجا | استخدام، آگهی استخدام، کاریابی، استخدامی جدید، بازار کار، نیازمندیها، ساخت رزومه رایگان، کار و استخدام دولتی، اشتغال، جستجوگر حرفه ای استخدام و شغلخانهجستجوی مشاغلرزومه‌ساز۵۰ شرکت برتربخش کارفرمایانورود کارجوثبت‌نام کارجوورود کارجوثبت‌نام کارجو۱جابینجا چطور به استخدام شدن من کمک می‌کند؟مشاهدهمشاهده بیشترجستجودرخواست‌های مننشان‌شده‌هاآگهی‌های پیشنهادیاز آگهی‌های جدید باخبر شوبهترین فرصت های شغلی در جابینجاهمه‌ی استان‌هاتهرانخراسان رضویاصفهانالبرزفارسقمآذربایجان شرقیمازندرانگیلانخوزستانکرمانیزدقزوینمرکزیهرمزگانگلستانزنجانسیستان و بلوچستانبوشهرآذربایجان غربیسمنانکرمانشاههمداناردبیللرستانکردستانخراسان شمالیایلامخراسان جنوبیچهارمحال بختیاریکهکیلویه و بویراحمدهمه‌ی دسته‌بندی‌هاحوزه‌ موسیقی و صدافروش و بازاریابیوب،‌ برنامه‌نویسی و نرم‌افزارمالی و حسابداریمسئول دفتر، اجرائی و اداریتولید و مدیریت محتوادیجیتال مارکتینگپشتیبانی \n",
      "\n"
     ]
    },
    {
     "name": "stderr",
     "output_type": "stream",
     "text": [
      "C:\\Users\\negin\\anaconda3\\Lib\\site-packages\\urllib3\\connectionpool.py:1099: InsecureRequestWarning: Unverified HTTPS request is being made to host 'jobinja.ir'. Adding certificate verification is strongly advised. See: https://urllib3.readthedocs.io/en/latest/advanced-usage.html#tls-warnings\n",
      "  warnings.warn(\n"
     ]
    },
    {
     "name": "stdout",
     "output_type": "stream",
     "text": [
      "URL: https://jobinja.ir/companies/dotin\n",
      "Content Snippet: استخدام در شرکت داتین، آگهی های استخدام Dotin | جابینجاامکان جدید:همین حالا رزومه خود را در کمتر از ۱۰ دقیقه بسازید،برو به رزومه‌سازJobinja | جابینجا | استخدام، آگهی استخدام، کاریابی، استخدامی جدید، بازار کار، نیازمندیها، ساخت رزومه رایگان، کار و استخدام دولتی، اشتغال، جستجوگر حرفه ای استخدام و شغلخانهجستجوی مشاغلرزومه‌ساز۵۰ شرکت برتربخش کارفرمایانورود کارجوثبت‌نام کارجوورود کارجوثبت‌نام کارجو۱جابینجا چطور به استخدام شدن من کمک می‌کند؟مشاهدهمشاهده بیشترداتین|Dotinتاسیس در  ۱۳۹۰کامپیوتر، فناوری اطلاعات و اینترنتبیش از ۱۰۰۰ نفرdotin.irدر یک نگاهمعرفیفرصت‌های شغلی۴۲شرکت نرم‌افزارى داتیس آرین قشم (داتین) یکى از شرکت‌هاى ایرانى پیشرو و دانش‌بنیان است که بیش از ۲۰ سازمان در سراسر کشور از جمله ۹ بانک و موسسه مالی و چهار شرکت بیمه، برای پردازش تعاملات مالی و تراکنش‌های مشتریان خود به آن متکی هستند.موقعیت مکانیتهران، تهراناعضای شرکتمسعود موسی‌پورمدیر محصول مدیریت کارت مرکز توسعه راهکار پرداخت داتیننکته قابل توجه‌ایی که داتین برای من داشته، انتقال دانش و تجربه و همینطور توجه‌اش به توسعه و ارتقا \n",
      "\n"
     ]
    },
    {
     "name": "stderr",
     "output_type": "stream",
     "text": [
      "C:\\Users\\negin\\anaconda3\\Lib\\site-packages\\urllib3\\connectionpool.py:1099: InsecureRequestWarning: Unverified HTTPS request is being made to host 'jobinja.ir'. Adding certificate verification is strongly advised. See: https://urllib3.readthedocs.io/en/latest/advanced-usage.html#tls-warnings\n",
      "  warnings.warn(\n"
     ]
    },
    {
     "name": "stdout",
     "output_type": "stream",
     "text": [
      "URL: https://jobinja.ir/companies/jeanstore/jobs/Amy4/%D8%A7%D8%B3%D8%AA%D8%AE%D8%AF%D8%A7%D9%85-%D8%B7%D8%B1%D8%A7%D8%AD-%D9%84%D8%A8%D8%A7%D8%B3-%D9%85%D8%B3%D9%84%D8%B7-%D8%A8%D9%87-%D8%AC%D9%85%DB%8C%D9%86%DB%8C-%D8%AF%D8%B1-%D8%AC%DB%8C%D9%86-%D8%A7%D8%B3%D8%AA%D9%88%D8%B1?_ref=18\n",
      "Content Snippet: استخدام طراح لباس (مسلط به جمینی) در جین استور | جابینجاامکان جدید:همین حالا رزومه خود را در کمتر از ۱۰ دقیقه بسازید،برو به رزومه‌سازJobinja | جابینجا | استخدام، آگهی استخدام، کاریابی، استخدامی جدید، بازار کار، نیازمندیها، ساخت رزومه رایگان، کار و استخدام دولتی، اشتغال، جستجوگر حرفه ای استخدام و شغلخانهجستجوی مشاغلرزومه‌ساز۵۰ شرکت برتربخش کارفرمایانورود کارجوثبت‌نام کارجوورود کارجوثبت‌نام کارجو۱جابینجا چطور به استخدام شدن من کمک می‌کند؟مشاهدهمشاهده بیشترجین استور|Jeanstoreتولید و صنایع۱۱ تا ۵۰ نفرwww.jeanstarco.irفرصت‌های شغلی۱استخدام طراح لباس (مسلط به جمینی)لطفا برای مشاهده‌ی جزییات و ارسال رزومهیکی از راه‌های زیر را انتخاب کنیدورود / ثبت‌نام با ایمیلimage/svg+xmlbtn_google_light_normal_iosbtn_google_light_normal_iosCreated with Sketch.ورود / ثبت‌نام با گوگل\n",
      "                    (Gmail)ورود / ثبت‌نام با لینکدیناستخدام طراح لباس (مسلط به جمینی){{ tooltipText }}{{ hoverTitle }}نشان کردنحذف نشاندسته‌بندی شغلیمهندسی نساجی، طراحی پارچه و لباسموقعیت مکانیتهران\n",
      "                              \n",
      "\n"
     ]
    },
    {
     "name": "stderr",
     "output_type": "stream",
     "text": [
      "C:\\Users\\negin\\anaconda3\\Lib\\site-packages\\urllib3\\connectionpool.py:1099: InsecureRequestWarning: Unverified HTTPS request is being made to host 'jobinja.ir'. Adding certificate verification is strongly advised. See: https://urllib3.readthedocs.io/en/latest/advanced-usage.html#tls-warnings\n",
      "  warnings.warn(\n"
     ]
    },
    {
     "name": "stdout",
     "output_type": "stream",
     "text": [
      "An error occurred while accessing https://jobinja.ir/telegram: ('Connection aborted.', ConnectionResetError(10054, 'An existing connection was forcibly closed by the remote host', None, 10054, None))\n"
     ]
    },
    {
     "name": "stderr",
     "output_type": "stream",
     "text": [
      "C:\\Users\\negin\\anaconda3\\Lib\\site-packages\\urllib3\\connectionpool.py:1099: InsecureRequestWarning: Unverified HTTPS request is being made to host 'jobinja.ir'. Adding certificate verification is strongly advised. See: https://urllib3.readthedocs.io/en/latest/advanced-usage.html#tls-warnings\n",
      "  warnings.warn(\n",
      "C:\\Users\\negin\\anaconda3\\Lib\\site-packages\\urllib3\\connectionpool.py:1099: InsecureRequestWarning: Unverified HTTPS request is being made to host 'jobinja.ir'. Adding certificate verification is strongly advised. See: https://urllib3.readthedocs.io/en/latest/advanced-usage.html#tls-warnings\n",
      "  warnings.warn(\n"
     ]
    },
    {
     "name": "stdout",
     "output_type": "stream",
     "text": [
      "URL: https://jobinja.ir/jobs?filters%5Blocations%5D%5B%5D=%D9%82%D9%85\n",
      "Content Snippet: استخدام قم | کاریابی قم | آگهی استخدام قم\n",
      " | جابینجاامکان جدید:همین حالا رزومه خود را در کمتر از ۱۰ دقیقه بسازید،برو به رزومه‌سازJobinja | جابینجا | استخدام، آگهی استخدام، کاریابی، استخدامی جدید، بازار کار، نیازمندیها، ساخت رزومه رایگان، کار و استخدام دولتی، اشتغال، جستجوگر حرفه ای استخدام و شغلخانهجستجوی مشاغلرزومه‌ساز۵۰ شرکت برتربخش کارفرمایانورود کارجوثبت‌نام کارجوورود کارجوثبت‌نام کارجو۱جابینجا چطور به استخدام شدن من کمک می‌کند؟مشاهدهمشاهده بیشترجستجودرخواست‌های مننشان‌شده‌هاآگهی‌های پیشنهادیاز آگهی‌های جدید باخبر شوبهترین فرصت های شغلی در جابینجاهمه‌ی استان‌هاقمتهرانخراسان رضویاصفهانالبرزفارسآذربایجان شرقیمازندرانگیلانخوزستانکرمانیزدقزوینمرکزیهرمزگانگلستانزنجانسیستان و بلوچستانبوشهرآذربایجان غربیسمنانکرمانشاههمداناردبیللرستانکردستانخراسان شمالیایلامخراسان جنوبیچهارمحال بختیاریکهکیلویه و بویراحمدهمه‌ی دسته‌بندی‌هافروش و بازاریابیوب،‌ برنامه‌نویسی و نرم‌افزارمالی و حسابداریمسئول دفتر، اجرائی و اداریتولید و مدیریت محتوادیجیتال مارکتینگپشتیبانی و امور مشتریانطراحیIT / DevOps / Serverم\n",
      "\n"
     ]
    },
    {
     "name": "stderr",
     "output_type": "stream",
     "text": [
      "C:\\Users\\negin\\anaconda3\\Lib\\site-packages\\urllib3\\connectionpool.py:1099: InsecureRequestWarning: Unverified HTTPS request is being made to host 'jobinja.ir'. Adding certificate verification is strongly advised. See: https://urllib3.readthedocs.io/en/latest/advanced-usage.html#tls-warnings\n",
      "  warnings.warn(\n"
     ]
    },
    {
     "name": "stdout",
     "output_type": "stream",
     "text": [
      "URL: https://jobinja.ir/companies/chargoon/jobs\n",
      "Content Snippet: فرصت‌های شغلی فعال در چارگون | Chargoon | جابینجاامکان جدید:همین حالا رزومه خود را در کمتر از ۱۰ دقیقه بسازید،برو به رزومه‌سازJobinja | جابینجا | استخدام، آگهی استخدام، کاریابی، استخدامی جدید، بازار کار، نیازمندیها، ساخت رزومه رایگان، کار و استخدام دولتی، اشتغال، جستجوگر حرفه ای استخدام و شغلخانهجستجوی مشاغلرزومه‌ساز۵۰ شرکت برتربخش کارفرمایانورود کارجوثبت‌نام کارجوورود کارجوثبت‌نام کارجو۱جابینجا چطور به استخدام شدن من کمک می‌کند؟مشاهدهمشاهده بیشترچارگون|Chargoonتاسیس در  ۱۳۷۷کامپیوتر، فناوری اطلاعات و اینترنت۲۰۱ تا ۵۰۰ نفرchargoon.comدر یک نگاهمعرفیفرصت‌های شغلی۱۸معرفی چارگونشرکت چارگون با تمرکز بر نیازمندی‌های آشکار و پنهان بازار، مجموعه‌ای از نرم‌افزارهای یکپارچه ارائه کرده که از طریق راهکارهای خلاق و بومی‌سازی شده، پاسخگوی نیازها و مشکلات سازمان‌های ایرانی هستند.نوآوری و نشاط اولین جلوه‌ای است که در چارگون به چشم می‌خورد. محیط کار صمیمی در کنار راهکارهای نوین تصمیم‌سازی مشارکتی، رشد و هم‌افزایی قابل توجهی در چارگون ایجاد کرده و نهایتا با تکیه بر پتانسیل‌های ایجاد شده ضمن توسعه سیستم\n",
      "\n"
     ]
    },
    {
     "name": "stderr",
     "output_type": "stream",
     "text": [
      "C:\\Users\\negin\\anaconda3\\Lib\\site-packages\\urllib3\\connectionpool.py:1099: InsecureRequestWarning: Unverified HTTPS request is being made to host 'jobinja.ir'. Adding certificate verification is strongly advised. See: https://urllib3.readthedocs.io/en/latest/advanced-usage.html#tls-warnings\n",
      "  warnings.warn(\n"
     ]
    },
    {
     "name": "stdout",
     "output_type": "stream",
     "text": [
      "URL: https://jobinja.ir/jobs?filters%5Bkeywords%5D%5B0%5D=%D9%81%D8%B1%D8%A7%D9%86%D8%AA+%D8%A7%D9%86%D8%AF\n",
      "Content Snippet: فرصت های شغلی فرانت اند\n",
      " | جابینجاامکان جدید:همین حالا رزومه خود را در کمتر از ۱۰ دقیقه بسازید،برو به رزومه‌سازJobinja | جابینجا | استخدام، آگهی استخدام، کاریابی، استخدامی جدید، بازار کار، نیازمندیها، ساخت رزومه رایگان، کار و استخدام دولتی، اشتغال، جستجوگر حرفه ای استخدام و شغلخانهجستجوی مشاغلرزومه‌ساز۵۰ شرکت برتربخش کارفرمایانورود کارجوثبت‌نام کارجوورود کارجوثبت‌نام کارجو۱جابینجا چطور به استخدام شدن من کمک می‌کند؟مشاهدهمشاهده بیشترجستجودرخواست‌های مننشان‌شده‌هاآگهی‌های پیشنهادیاز آگهی‌های جدید باخبر شوبهترین فرصت های شغلی در جابینجاهمه‌ی استان‌هاتهرانخراسان رضویاصفهانالبرزفارسقمآذربایجان شرقیمازندرانگیلانخوزستانکرمانیزدقزوینمرکزیهرمزگانگلستانزنجانسیستان و بلوچستانبوشهرآذربایجان غربیسمنانکرمانشاههمداناردبیللرستانکردستانخراسان شمالیایلامخراسان جنوبیچهارمحال بختیاریکهکیلویه و بویراحمدهمه‌ی دسته‌بندی‌هافروش و بازاریابیوب،‌ برنامه‌نویسی و نرم‌افزارمالی و حسابداریمسئول دفتر، اجرائی و اداریتولید و مدیریت محتوادیجیتال مارکتینگپشتیبانی و امور مشتریانطراحیIT / DevOps / Serverمهندسی صنایع و مدیر\n",
      "\n"
     ]
    },
    {
     "name": "stderr",
     "output_type": "stream",
     "text": [
      "C:\\Users\\negin\\anaconda3\\Lib\\site-packages\\urllib3\\connectionpool.py:1099: InsecureRequestWarning: Unverified HTTPS request is being made to host 'jobinja.ir'. Adding certificate verification is strongly advised. See: https://urllib3.readthedocs.io/en/latest/advanced-usage.html#tls-warnings\n",
      "  warnings.warn(\n",
      "C:\\Users\\negin\\anaconda3\\Lib\\site-packages\\urllib3\\connectionpool.py:1099: InsecureRequestWarning: Unverified HTTPS request is being made to host 'jobinja.ir'. Adding certificate verification is strongly advised. See: https://urllib3.readthedocs.io/en/latest/advanced-usage.html#tls-warnings\n",
      "  warnings.warn(\n"
     ]
    },
    {
     "name": "stdout",
     "output_type": "stream",
     "text": [
      "URL: https://jobinja.ir/jobs?filters%5Blocations%5D%5B%5D=%D8%AA%D9%87%D8%B1%D8%A7%D9%86\n",
      "Content Snippet: آگهی استخدام امروز تهران | کاریابی تهران | استخدام تهران\n",
      " | جابینجاامکان جدید:همین حالا رزومه خود را در کمتر از ۱۰ دقیقه بسازید،برو به رزومه‌سازJobinja | جابینجا | استخدام، آگهی استخدام، کاریابی، استخدامی جدید، بازار کار، نیازمندیها، ساخت رزومه رایگان، کار و استخدام دولتی، اشتغال، جستجوگر حرفه ای استخدام و شغلخانهجستجوی مشاغلرزومه‌ساز۵۰ شرکت برتربخش کارفرمایانورود کارجوثبت‌نام کارجوورود کارجوثبت‌نام کارجو۱جابینجا چطور به استخدام شدن من کمک می‌کند؟مشاهدهمشاهده بیشترجستجودرخواست‌های مننشان‌شده‌هاآگهی‌های پیشنهادیاز آگهی‌های جدید باخبر شوبهترین فرصت های شغلی در جابینجاهمه‌ی استان‌هاتهرانخراسان رضویاصفهانالبرزفارسقمآذربایجان شرقیمازندرانگیلانخوزستانکرمانیزدقزوینمرکزیهرمزگانگلستانزنجانسیستان و بلوچستانبوشهرآذربایجان غربیسمنانکرمانشاههمداناردبیللرستانکردستانخراسان شمالیایلامخراسان جنوبیچهارمحال بختیاریکهکیلویه و بویراحمدهمه‌ی دسته‌بندی‌هافروش و بازاریابیوب،‌ برنامه‌نویسی و نرم‌افزارمالی و حسابداریمسئول دفتر، اجرائی و اداریتولید و مدیریت محتوادیجیتال مارکتینگپشتیبانی و امور مشتریانطراحیIT / D\n",
      "\n"
     ]
    },
    {
     "name": "stderr",
     "output_type": "stream",
     "text": [
      "C:\\Users\\negin\\anaconda3\\Lib\\site-packages\\urllib3\\connectionpool.py:1099: InsecureRequestWarning: Unverified HTTPS request is being made to host 'jobinja.ir'. Adding certificate verification is strongly advised. See: https://urllib3.readthedocs.io/en/latest/advanced-usage.html#tls-warnings\n",
      "  warnings.warn(\n"
     ]
    },
    {
     "name": "stdout",
     "output_type": "stream",
     "text": [
      "URL: https://jobinja.ir/companies/Zarrino/jobs\n",
      "Content Snippet: فرصت‌های شغلی فعال در زرینو | Zarrino | جابینجاامکان جدید:همین حالا رزومه خود را در کمتر از ۱۰ دقیقه بسازید،برو به رزومه‌سازJobinja | جابینجا | استخدام، آگهی استخدام، کاریابی، استخدامی جدید، بازار کار، نیازمندیها، ساخت رزومه رایگان، کار و استخدام دولتی، اشتغال، جستجوگر حرفه ای استخدام و شغلخانهجستجوی مشاغلرزومه‌ساز۵۰ شرکت برتربخش کارفرمایانورود کارجوثبت‌نام کارجوورود کارجوثبت‌نام کارجو۱جابینجا چطور به استخدام شدن من کمک می‌کند؟مشاهدهمشاهده بیشترزرینو|Zarrinoکامپیوتر، فناوری اطلاعات و اینترنت۵۱ تا ۲۰۰ نفرzarrino.io/فرصت‌های شغلی۱۴معرفی زرینوزرینو، مالک و توسعه‌دهنده‌ی دو نام تجاری «Herlife» و «Pindis» است. هرلایف، اپلیکیشنی است که در زمینه‌ی سلامت و سبک زندگی و همین‌طور آگاهی‌بخشی در حوزه‌ی زنان فعالیت می‌کند و پیندیس، پلتفرمی‌ست که به کسب‌وکارهای خرد کمک می‌کند تا تجربه‌ و خرید بهتری برای مشتریان خود خلق کنند.چشم‌انداز ما تولید، توسعه و رشد محصولات فناورانه‌ایست که راه‌کارهایی نوآورانه برای حل مشکلات بزرگ داشته باشند. ما محصولات تازه‌ و برندهای جدیدی خلق می‌کنیم که زندگی را برای هم‌کار\n",
      "\n"
     ]
    },
    {
     "name": "stderr",
     "output_type": "stream",
     "text": [
      "C:\\Users\\negin\\anaconda3\\Lib\\site-packages\\urllib3\\connectionpool.py:1099: InsecureRequestWarning: Unverified HTTPS request is being made to host 'jobinja.ir'. Adding certificate verification is strongly advised. See: https://urllib3.readthedocs.io/en/latest/advanced-usage.html#tls-warnings\n",
      "  warnings.warn(\n"
     ]
    },
    {
     "name": "stdout",
     "output_type": "stream",
     "text": [
      "URL: https://jobinja.ir/jobs?filters%5Bkeywords%5D%5B0%5D=%D9%85%D9%86%D8%B4%DB%8C\n",
      "Content Snippet: فرصت های شغلی منشی\n",
      " | جابینجاامکان جدید:همین حالا رزومه خود را در کمتر از ۱۰ دقیقه بسازید،برو به رزومه‌سازJobinja | جابینجا | استخدام، آگهی استخدام، کاریابی، استخدامی جدید، بازار کار، نیازمندیها، ساخت رزومه رایگان، کار و استخدام دولتی، اشتغال، جستجوگر حرفه ای استخدام و شغلخانهجستجوی مشاغلرزومه‌ساز۵۰ شرکت برتربخش کارفرمایانورود کارجوثبت‌نام کارجوورود کارجوثبت‌نام کارجو۱جابینجا چطور به استخدام شدن من کمک می‌کند؟مشاهدهمشاهده بیشترجستجودرخواست‌های مننشان‌شده‌هاآگهی‌های پیشنهادیاز آگهی‌های جدید باخبر شوبهترین فرصت های شغلی در جابینجاهمه‌ی استان‌هاتهرانخراسان رضویاصفهانالبرزفارسقمآذربایجان شرقیمازندرانگیلانخوزستانکرمانیزدقزوینمرکزیهرمزگانگلستانزنجانسیستان و بلوچستانبوشهرآذربایجان غربیسمنانکرمانشاههمداناردبیللرستانکردستانخراسان شمالیایلامخراسان جنوبیچهارمحال بختیاریکهکیلویه و بویراحمدهمه‌ی دسته‌بندی‌هافروش و بازاریابیوب،‌ برنامه‌نویسی و نرم‌افزارمالی و حسابداریمسئول دفتر، اجرائی و اداریتولید و مدیریت محتوادیجیتال مارکتینگپشتیبانی و امور مشتریانطراحیIT / DevOps / Serverمهندسی صنایع و مدیریت صن\n",
      "\n",
      "                                        url  \\\n",
      "count                                   201   \n",
      "unique                                  201   \n",
      "top     https://jobinja.ir/companies/hami-4   \n",
      "freq                                      1   \n",
      "\n",
      "                                          content_snippet job_title job_type  \\\n",
      "count                                                 201       201      201   \n",
      "unique                                                200         1        1   \n",
      "top     جذب نیرو | ثبت آگهی استخدام | جابینجاخانهتعرفه...       N/A      N/A   \n",
      "freq                                                    2       201      201   \n",
      "\n",
      "       job_location company_name contract_type work_experience min_salary  \\\n",
      "count           201          201           201             201        201   \n",
      "unique            1            1             1               1          1   \n",
      "top             N/A          N/A           N/A             N/A        N/A   \n",
      "freq            201          201           201             201        201   \n",
      "\n",
      "       gender education_level  \n",
      "count     201             201  \n",
      "unique      1               1  \n",
      "top       N/A             N/A  \n",
      "freq      201             201  \n",
      "Sorted Data:\n",
      "                                                   url  \\\n",
      "0                  https://jobinja.ir/companies/hami-4   \n",
      "1    https://jobinja.ir/jobs?filters%5Bjob_categori...   \n",
      "2    https://jobinja.ir/jobs?filters%5Bkeywords%5D%...   \n",
      "3    https://jobinja.ir/jobs?filters%5Bjob_categori...   \n",
      "4    https://jobinja.ir/jobs?filters%5Blocations%5D...   \n",
      "..                                                 ...   \n",
      "196         https://jobinja.ir/companies/chargoon/jobs   \n",
      "197  https://jobinja.ir/jobs?filters%5Bkeywords%5D%...   \n",
      "198  https://jobinja.ir/jobs?filters%5Blocations%5D...   \n",
      "199          https://jobinja.ir/companies/Zarrino/jobs   \n",
      "200  https://jobinja.ir/jobs?filters%5Bkeywords%5D%...   \n",
      "\n",
      "                                       content_snippet job_title job_type  \\\n",
      "0    استخدام در شرکت حامی پیشگامان ، آگهی های استخد...       N/A      N/A   \n",
      "1    استخدام صنایع غذایی | استخدام مهندس صنایع غذای...       N/A      N/A   \n",
      "2    فرصت های شغلی کارمند اداری\\n | جابینجاامکان جد...       N/A      N/A   \n",
      "3    استخدام کارشناس پلیمر | استخدام مهندس پلیمر | ...       N/A      N/A   \n",
      "4    آگهی استخدام خوزستان | استخدام خوزستان | کاریا...       N/A      N/A   \n",
      "..                                                 ...       ...      ...   \n",
      "196  فرصت‌های شغلی فعال در چارگون | Chargoon | جابی...       N/A      N/A   \n",
      "197  فرصت های شغلی فرانت اند\\n | جابینجاامکان جدید:...       N/A      N/A   \n",
      "198  آگهی استخدام امروز تهران | کاریابی تهران | است...       N/A      N/A   \n",
      "199  فرصت‌های شغلی فعال در زرینو | Zarrino | جابینج...       N/A      N/A   \n",
      "200  فرصت های شغلی منشی\\n | جابینجاامکان جدید:همین ...       N/A      N/A   \n",
      "\n",
      "    job_location company_name contract_type work_experience min_salary gender  \\\n",
      "0            N/A          N/A           N/A             N/A        N/A    N/A   \n",
      "1            N/A          N/A           N/A             N/A        N/A    N/A   \n",
      "2            N/A          N/A           N/A             N/A        N/A    N/A   \n",
      "3            N/A          N/A           N/A             N/A        N/A    N/A   \n",
      "4            N/A          N/A           N/A             N/A        N/A    N/A   \n",
      "..           ...          ...           ...             ...        ...    ...   \n",
      "196          N/A          N/A           N/A             N/A        N/A    N/A   \n",
      "197          N/A          N/A           N/A             N/A        N/A    N/A   \n",
      "198          N/A          N/A           N/A             N/A        N/A    N/A   \n",
      "199          N/A          N/A           N/A             N/A        N/A    N/A   \n",
      "200          N/A          N/A           N/A             N/A        N/A    N/A   \n",
      "\n",
      "    education_level  \n",
      "0               N/A  \n",
      "1               N/A  \n",
      "2               N/A  \n",
      "3               N/A  \n",
      "4               N/A  \n",
      "..              ...  \n",
      "196             N/A  \n",
      "197             N/A  \n",
      "198             N/A  \n",
      "199             N/A  \n",
      "200             N/A  \n",
      "\n",
      "[201 rows x 11 columns]\n",
      "Data Matrix:\n",
      "                                                                                                                                                                                                                                                                                                                                                                                         url                                                                                                                                                                                                                                                                                                                                                                                                                                                                                                                                                                                                                                                                                                                                                                                                                                                                                                                                                                                                                                  content_snippet job_title job_type job_location company_name contract_type work_experience min_salary gender education_level\n",
      "                                                                                                                                                                                                                                                                                                                                                         https://jobinja.ir/companies/hami-4         استخدام در شرکت حامی پیشگامان ، آگهی های استخدام Hamipishgaman | جابینجاامکان جدید:همین حالا رزومه خود را در کمتر از ۱۰ دقیقه بسازید،برو به رزومه‌سازJobinja | جابینجا | استخدام، آگهی استخدام، کاریابی، استخدامی جدید، بازار کار، نیازمندیها، ساخت رزومه رایگان، کار و استخدام دولتی، اشتغال، جستجوگر حرفه ای استخدام و شغلخانهجستجوی مشاغلرزومه‌ساز۵۰ شرکت برتربخش کارفرمایانورود کارجوثبت‌نام کارجوورود کارجوثبت‌نام کارجو۱جابینجا چطور به استخدام شدن من کمک می‌کند؟مشاهدهمشاهده بیشترحامی پیشگامان|Hamipishgamanتاسیس در  ۱۳۹۷تبلیغات، بازاریابی و برندسازی۱۱ تا ۵۰ نفرhamipishgaman.com/در یک نگاهمعرفیفرصت‌های شغلی۴مجموعه حامی پیشگامان توسعه یکی از سازمان‌های پیشرو در حوزه IT است که در حوزه‌های مختلفی از جمله بورس، فروشگاه آرایشی و بهداشتی و آژانس تبلیغات دیجیتال مارکتینگ فعالیت می‌کند و شرکت‌های میس و مستر، ادمود و حامی بورس را شامل می‌شود.موقعیت مکانیتهران، تهراناعضای شرکتمهدی حسنیمدیر عاملجذابیت چالش و هیجان در حامی همیشه شروعی پر انرژی را رقم میزند.احسان ملائیمدیر ادمودمهمترین ویژگی تیم ادمود همکاری ه       N/A      N/A          N/A          N/A           N/A             N/A        N/A    N/A             N/A\n",
      "                                                                                                                                                                                                                                                                     https://jobinja.ir/jobs?filters%5Bjob_categories%5D%5B%5D=%D8%B5%D9%86%D8%A7%DB%8C%D8%B9+%D8%BA%D8%B0%D8%A7%DB%8C%DB%8C        استخدام صنایع غذایی | استخدام مهندس صنایع غذایی | استخدام کارشناس صنایع غذایی\\n | جابینجاامکان جدید:همین حالا رزومه خود را در کمتر از ۱۰ دقیقه بسازید،برو به رزومه‌سازJobinja | جابینجا | استخدام، آگهی استخدام، کاریابی، استخدامی جدید، بازار کار، نیازمندیها، ساخت رزومه رایگان، کار و استخدام دولتی، اشتغال، جستجوگر حرفه ای استخدام و شغلخانهجستجوی مشاغلرزومه‌ساز۵۰ شرکت برتربخش کارفرمایانورود کارجوثبت‌نام کارجوورود کارجوثبت‌نام کارجو۱جابینجا چطور به استخدام شدن من کمک می‌کند؟مشاهدهمشاهده بیشترجستجودرخواست‌های مننشان‌شده‌هاآگهی‌های پیشنهادیاز آگهی‌های جدید باخبر شوبهترین فرصت های شغلی در جابینجاهمه‌ی استان‌هاتهرانخراسان رضویاصفهانالبرزفارسقمآذربایجان شرقیمازندرانگیلانخوزستانکرمانیزدقزوینمرکزیهرمزگانگلستانزنجانسیستان و بلوچستانبوشهرآذربایجان غربیسمنانکرمانشاههمداناردبیللرستانکردستانخراسان شمالیایلامخراسان جنوبیچهارمحال بختیاریکهکیلویه و بویراحمدهمه‌ی دسته‌بندی‌هاصنایع غذاییفروش و بازاریابیوب،‌ برنامه‌نویسی و نرم‌افزارمالی و حسابداریمسئول دفتر، اجرائی و اداریتولید و مدیریت محتوادیجیتال مارکتینگپش       N/A      N/A          N/A          N/A           N/A             N/A        N/A    N/A             N/A\n",
      "                                                                                                                                                                                                                                                                    https://jobinja.ir/jobs?filters%5Bkeywords%5D%5B0%5D=%DA%A9%D8%A7%D8%B1%D9%85%D9%86%D8%AF+%D8%A7%D8%AF%D8%A7%D8%B1%DB%8C        فرصت های شغلی کارمند اداری\\n | جابینجاامکان جدید:همین حالا رزومه خود را در کمتر از ۱۰ دقیقه بسازید،برو به رزومه‌سازJobinja | جابینجا | استخدام، آگهی استخدام، کاریابی، استخدامی جدید، بازار کار، نیازمندیها، ساخت رزومه رایگان، کار و استخدام دولتی، اشتغال، جستجوگر حرفه ای استخدام و شغلخانهجستجوی مشاغلرزومه‌ساز۵۰ شرکت برتربخش کارفرمایانورود کارجوثبت‌نام کارجوورود کارجوثبت‌نام کارجو۱جابینجا چطور به استخدام شدن من کمک می‌کند؟مشاهدهمشاهده بیشترجستجودرخواست‌های مننشان‌شده‌هاآگهی‌های پیشنهادیاز آگهی‌های جدید باخبر شوبهترین فرصت های شغلی در جابینجاهمه‌ی استان‌هاتهرانخراسان رضویاصفهانالبرزفارسقمآذربایجان شرقیمازندرانگیلانخوزستانکرمانیزدقزوینمرکزیهرمزگانگلستانزنجانسیستان و بلوچستانبوشهرآذربایجان غربیسمنانکرمانشاههمداناردبیللرستانکردستانخراسان شمالیایلامخراسان جنوبیچهارمحال بختیاریکهکیلویه و بویراحمدهمه‌ی دسته‌بندی‌هافروش و بازاریابیوب،‌ برنامه‌نویسی و نرم‌افزارمالی و حسابداریمسئول دفتر، اجرائی و اداریتولید و مدیریت محتوادیجیتال مارکتینگپشتیبانی و امور مشتریانطراحیIT / DevOps / Serverمهندسی صنایع و م       N/A      N/A          N/A          N/A           N/A             N/A        N/A    N/A             N/A\n",
      "                                                                                                                                                                                                                                                               https://jobinja.ir/jobs?filters%5Bjob_categories%5D%5B%5D=%D9%85%D9%87%D9%86%D8%AF%D8%B3%DB%8C+%D9%BE%D9%84%DB%8C%D9%85%D8%B1        استخدام کارشناس پلیمر | استخدام مهندس پلیمر | جابینجا\\n | جابینجاامکان جدید:همین حالا رزومه خود را در کمتر از ۱۰ دقیقه بسازید،برو به رزومه‌سازJobinja | جابینجا | استخدام، آگهی استخدام، کاریابی، استخدامی جدید، بازار کار، نیازمندیها، ساخت رزومه رایگان، کار و استخدام دولتی، اشتغال، جستجوگر حرفه ای استخدام و شغلخانهجستجوی مشاغلرزومه‌ساز۵۰ شرکت برتربخش کارفرمایانورود کارجوثبت‌نام کارجوورود کارجوثبت‌نام کارجو۱جابینجا چطور به استخدام شدن من کمک می‌کند؟مشاهدهمشاهده بیشترجستجودرخواست‌های مننشان‌شده‌هاآگهی‌های پیشنهادیاز آگهی‌های جدید باخبر شوبهترین فرصت های شغلی در جابینجاهمه‌ی استان‌هاتهرانخراسان رضویاصفهانالبرزفارسقمآذربایجان شرقیمازندرانگیلانخوزستانکرمانیزدقزوینمرکزیهرمزگانگلستانزنجانسیستان و بلوچستانبوشهرآذربایجان غربیسمنانکرمانشاههمداناردبیللرستانکردستانخراسان شمالیایلامخراسان جنوبیچهارمحال بختیاریکهکیلویه و بویراحمدهمه‌ی دسته‌بندی‌هامهندسی پلیمرفروش و بازاریابیوب،‌ برنامه‌نویسی و نرم‌افزارمالی و حسابداریمسئول دفتر، اجرائی و اداریتولید و مدیریت محتوادیجیتال مارکتینگپشتیبانی و امور مشتریانطر       N/A      N/A          N/A          N/A           N/A             N/A        N/A    N/A             N/A\n",
      "                                                                                                                                                                                                                                                                                             https://jobinja.ir/jobs?filters%5Blocations%5D%5B%5D=%D8%AE%D9%88%D8%B2%D8%B3%D8%AA%D8%A7%D9%86        آگهی استخدام خوزستان | استخدام خوزستان | کاریابی خوزستان\\n | جابینجاامکان جدید:همین حالا رزومه خود را در کمتر از ۱۰ دقیقه بسازید،برو به رزومه‌سازJobinja | جابینجا | استخدام، آگهی استخدام، کاریابی، استخدامی جدید، بازار کار، نیازمندیها، ساخت رزومه رایگان، کار و استخدام دولتی، اشتغال، جستجوگر حرفه ای استخدام و شغلخانهجستجوی مشاغلرزومه‌ساز۵۰ شرکت برتربخش کارفرمایانورود کارجوثبت‌نام کارجوورود کارجوثبت‌نام کارجو۱جابینجا چطور به استخدام شدن من کمک می‌کند؟مشاهدهمشاهده بیشترجستجودرخواست‌های مننشان‌شده‌هاآگهی‌های پیشنهادیاز آگهی‌های جدید باخبر شوبهترین فرصت های شغلی در جابینجاهمه‌ی استان‌هاخوزستانتهرانخراسان رضویاصفهانالبرزفارسقمآذربایجان شرقیمازندرانگیلانکرمانیزدقزوینمرکزیهرمزگانگلستانزنجانسیستان و بلوچستانبوشهرآذربایجان غربیسمنانکرمانشاههمداناردبیللرستانکردستانخراسان شمالیایلامخراسان جنوبیچهارمحال بختیاریکهکیلویه و بویراحمدهمه‌ی دسته‌بندی‌هافروش و بازاریابیوب،‌ برنامه‌نویسی و نرم‌افزارمالی و حسابداریمسئول دفتر، اجرائی و اداریتولید و مدیریت محتوادیجیتال مارکتینگپشتیبانی و امور مشتریانطراحیIT / D       N/A      N/A          N/A          N/A           N/A             N/A        N/A    N/A             N/A\n",
      "                                                                                                                                                                                                                                                                                                                            https://jobinja.ir/knowledge/job-seeker-faq/pages/job-seeker-tos         قوانین و شرایط استفاده کارجویان | جابینجاامکان جدید:همین حالا رزومه خود را در کمتر از ۱۰ دقیقه بسازید،برو به رزومه‌سازJobinja | جابینجا | استخدام، آگهی استخدام، کاریابی، استخدامی جدید، بازار کار، نیازمندیها، ساخت رزومه رایگان، کار و استخدام دولتی، اشتغال، جستجوگر حرفه ای استخدام و شغلخانهجستجوی مشاغلرزومه‌ساز۵۰ شرکت برتربخش کارفرمایانورود کارجوثبت‌نام کارجوورود کارجوثبت‌نام کارجو۱جابینجا چطور به استخدام شدن من کمک می‌کند؟مشاهدهمشاهده بیشترسوالات متداول کارجویانقوانین و شرایط استفاده کارجویانقوانین و شرایط استفاده کارجویانقوانین و شرایط استفاده کاربران کارجوهرگونه استفاده از جابینجا به معنی پذیرفتن شرایط مندرج در این سایت است.جابینجا هیچ توافقی با کاربران خارج از این شرایط ندارد. شرایط زیر مربوط به کسانی است که به هر شکلی در جابینجا پروفایل دارند یا رزومه‌ی خود را در سایت جابینجا منتشر می‌کنند.موارد زیر منجر به عدم انتشار رزومه و پروفایل خواهد شد:مغایرت با قوانین جاری جمهوری اسلامی ایران و عرف جامعه، ناقض حریم شخصی افرادنقص در اطلاعات اولیه (مانند نام و نام خانوادگی، تخصص، شماره تلفن یا       N/A      N/A          N/A          N/A           N/A             N/A        N/A    N/A             N/A\n",
      "                                                                                                                                                                                                                                                                            https://jobinja.ir/jobs?filters%5Bjob_categories%5D%5B%5D=%D8%A7%D9%86%D8%A8%D8%A7%D8%B1%D8%AF%D8%A7%D8%B1%DB%8C        استخدام انباردار | آگهی استخدام کمک انباردار\\n | جابینجاامکان جدید:همین حالا رزومه خود را در کمتر از ۱۰ دقیقه بسازید،برو به رزومه‌سازJobinja | جابینجا | استخدام، آگهی استخدام، کاریابی، استخدامی جدید، بازار کار، نیازمندیها، ساخت رزومه رایگان، کار و استخدام دولتی، اشتغال، جستجوگر حرفه ای استخدام و شغلخانهجستجوی مشاغلرزومه‌ساز۵۰ شرکت برتربخش کارفرمایانورود کارجوثبت‌نام کارجوورود کارجوثبت‌نام کارجو۱جابینجا چطور به استخدام شدن من کمک می‌کند؟مشاهدهمشاهده بیشترجستجودرخواست‌های مننشان‌شده‌هاآگهی‌های پیشنهادیاز آگهی‌های جدید باخبر شوبهترین فرصت های شغلی در جابینجاهمه‌ی استان‌هاتهرانخراسان رضویاصفهانالبرزفارسقمآذربایجان شرقیمازندرانگیلانخوزستانکرمانیزدقزوینمرکزیهرمزگانگلستانزنجانسیستان و بلوچستانبوشهرآذربایجان غربیسمنانکرمانشاههمداناردبیللرستانکردستانخراسان شمالیایلامخراسان جنوبیچهارمحال بختیاریکهکیلویه و بویراحمدهمه‌ی دسته‌بندی‌هاانبارداریفروش و بازاریابیوب،‌ برنامه‌نویسی و نرم‌افزارمالی و حسابداریمسئول دفتر، اجرائی و اداریتولید و مدیریت محتوادیجیتال مارکتینگپشتیبانی و امور مشتریانطراحیIT / DevO       N/A      N/A          N/A          N/A           N/A             N/A        N/A    N/A             N/A\n",
      "                                                                                                                                                                                                                                                                                      https://jobinja.ir/jobs?filters%5Bkeywords%5D%5B0%5D=%D8%B7%D8%B1%D8%A7%D8%AD+%D8%B3%D8%A7%DB%8C%D8%AA        فرصت های شغلی طراح سایت\\n | جابینجاامکان جدید:همین حالا رزومه خود را در کمتر از ۱۰ دقیقه بسازید،برو به رزومه‌سازJobinja | جابینجا | استخدام، آگهی استخدام، کاریابی، استخدامی جدید، بازار کار، نیازمندیها، ساخت رزومه رایگان، کار و استخدام دولتی، اشتغال، جستجوگر حرفه ای استخدام و شغلخانهجستجوی مشاغلرزومه‌ساز۵۰ شرکت برتربخش کارفرمایانورود کارجوثبت‌نام کارجوورود کارجوثبت‌نام کارجو۱جابینجا چطور به استخدام شدن من کمک می‌کند؟مشاهدهمشاهده بیشترجستجودرخواست‌های مننشان‌شده‌هاآگهی‌های پیشنهادیاز آگهی‌های جدید باخبر شوبهترین فرصت های شغلی در جابینجاهمه‌ی استان‌هاتهرانخراسان رضویاصفهانالبرزفارسقمآذربایجان شرقیمازندرانگیلانخوزستانکرمانیزدقزوینمرکزیهرمزگانگلستانزنجانسیستان و بلوچستانبوشهرآذربایجان غربیسمنانکرمانشاههمداناردبیللرستانکردستانخراسان شمالیایلامخراسان جنوبیچهارمحال بختیاریکهکیلویه و بویراحمدهمه‌ی دسته‌بندی‌هافروش و بازاریابیوب،‌ برنامه‌نویسی و نرم‌افزارمالی و حسابداریمسئول دفتر، اجرائی و اداریتولید و مدیریت محتوادیجیتال مارکتینگپشتیبانی و امور مشتریانطراحیIT / DevOps / Serverمهندسی صنایع و مدیر       N/A      N/A          N/A          N/A           N/A             N/A        N/A    N/A             N/A\n",
      "                                                                                                                                                                                                                                                                                                                                                                     https://blog.jobinja.ir         صفحه اصلی - وبلاگ جابینجااشتراک گذاریبا استفاده از روش‌های زیر می‌توانید این صفحه را با دوستان خود به اشتراک بگذارید.کپی لینککارجو ⏷رزومه نویسیمسیر شغلیمصاحبه کاریمهارت های فردیکارفرما ⏷منابع انسانیفضای کاریاخبار جابینجارزومه سازایجاد آگهی جدیدکارجو ⏷رزومه نویسیمسیر شغلیمصاحبه کاریمهارت های فردیکارفرما ⏷منابع انسانیفضای کاریاخبار جابینجارزومه سازایجاد آگهی جدیدمرا به خاطر بسپارنام کاربری :ایمیل :نام :نام خانوادگیآدرس وب سایت :تاریخ ثبت نام :نقش کاربر:تکنیک‌های ارزیابی عملکرد کارکنانآموزش تکنیک‌های مصاحبه شغلی برای مدیران منابع انسانیآشنایی با بهترین روش‌های جذب و استخدامآموزش کاورلتر و رزومه نویسیآخرین مقالاتتکنیک‌های ارزیابی عملکرد کارکنان۲ هفته پیشآموزش تکنیک‌های مصاحبه شغلی برای مدیران منابع انسانی۲ ماه پیشآشنایی با بهترین روش‌های جذب و استخدام۲ ماه پیشآموزش کاورلتر و رزومه نویسی۱۲ ماه پیشرزومه نویسیآموزش کاورلتر و رزومه نویسی۱۲ ماه پیشکاورلتر اختصاصی برای رزومه شخصی شما۱۲ ماه پیشتعیین هدف شغلی: راهنمای کامل۱ سال پیشتدوین رزومه و نکات آن۱ سال پیشمسیر شغلی۱۶ دلیل برای اینکه هنوز بیکا       N/A      N/A          N/A          N/A           N/A             N/A        N/A    N/A             N/A\n",
      "                                                                                                                                                                                                                                                              https://jobinja.ir/jobs?filters%5Bjob_categories%5D%5B%5D=%D8%AA%D8%AD%D9%82%DB%8C%D9%82+%D9%88+%D8%AA%D9%88%D8%B3%D8%B9%D9%87        استخدام کارشناس تحقیق و توسعه | استخدام کارشناس R&D\\n | جابینجاامکان جدید:همین حالا رزومه خود را در کمتر از ۱۰ دقیقه بسازید،برو به رزومه‌سازJobinja | جابینجا | استخدام، آگهی استخدام، کاریابی، استخدامی جدید، بازار کار، نیازمندیها، ساخت رزومه رایگان، کار و استخدام دولتی، اشتغال، جستجوگر حرفه ای استخدام و شغلخانهجستجوی مشاغلرزومه‌ساز۵۰ شرکت برتربخش کارفرمایانورود کارجوثبت‌نام کارجوورود کارجوثبت‌نام کارجو۱جابینجا چطور به استخدام شدن من کمک می‌کند؟مشاهدهمشاهده بیشترجستجودرخواست‌های مننشان‌شده‌هاآگهی‌های پیشنهادیاز آگهی‌های جدید باخبر شوبهترین فرصت های شغلی در جابینجاهمه‌ی استان‌هاتهرانخراسان رضویاصفهانالبرزفارسقمآذربایجان شرقیمازندرانگیلانخوزستانکرمانیزدقزوینمرکزیهرمزگانگلستانزنجانسیستان و بلوچستانبوشهرآذربایجان غربیسمنانکرمانشاههمداناردبیللرستانکردستانخراسان شمالیایلامخراسان جنوبیچهارمحال بختیاریکهکیلویه و بویراحمدهمه‌ی دسته‌بندی‌هاتحقیق و توسعهفروش و بازاریابیوب،‌ برنامه‌نویسی و نرم‌افزارمالی و حسابداریمسئول دفتر، اجرائی و اداریتولید و مدیریت محتوادیجیتال مارکتینگپشتیبانی و امور مشتریانطرا       N/A      N/A          N/A          N/A           N/A             N/A        N/A    N/A             N/A\n",
      "                                                                                                                                                                                                                     https://blog.jobinja.ir/%d8%a8%d9%87%d8%aa%d8%b1%db%8c%d9%86-%d8%b1%d9%88%d8%b4%d9%87%d8%a7%db%8c-%d8%ac%d8%b0%d8%a8-%d9%88-%d8%a7%d8%b3%d8%aa%d8%ae%d8%af%d8%a7%d9%85/         آشنایی با بهترین روش‌های جذب و استخدام - وبلاگ جابینجااشتراک گذاریبا استفاده از روش‌های زیر می‌توانید این صفحه را با دوستان خود به اشتراک بگذارید.کپی لینککارجو ⏷رزومه نویسیمسیر شغلیمصاحبه کاریمهارت های فردیکارفرما ⏷منابع انسانیفضای کاریاخبار جابینجارزومه سازایجاد آگهی جدیدکارجو ⏷رزومه نویسیمسیر شغلیمصاحبه کاریمهارت های فردیکارفرما ⏷منابع انسانیفضای کاریاخبار جابینجارزومه سازایجاد آگهی جدیدParkingGasFoodCoffeeMiscمرا به خاطر بسپارنام کاربری :ایمیل :نام :نام خانوادگیآدرس وب سایت :تاریخ ثبت نام :نقش کاربر:کارفرمامنابع انسانیآشنایی با بهترین روش‌های جذب و استخدامبازدید 438تیم تولید محتوا65 روز پیشاشتراک گذاریبا استفاده از روش‌های زیر می‌توانید این صفحه را با دوستان خود به اشتراک بگذارید.کپی لینکبدون دیدگاهکارفرمامنابع انسانیآشنایی با بهترین روش‌های جذب و استخدامسازمان‌ها از روش‌های مختلفی برای استخدام و جذب بهترین کارکنان استفاده می‌کنند. هر شغلی ویژگی‌های مختص به خود را دارد و البته شرکت‌ها نیز نیازهای متفاوتی دارند. کارفرمایان موفق، از بهترین روش‌های جذب و استخدام برای در اختیار گرفتن نی       N/A      N/A          N/A          N/A           N/A             N/A        N/A    N/A             N/A\n",
      "                                                                                                                                                                                                                                                                                                                                                 https://jobinja.ir/companies/rahbord-5/jobs         فرصت‌های شغلی فعال در  ایده پردازان هوشمند راهبرد | Smart Ideas Strategies Rahbord | جابینجاامکان جدید:همین حالا رزومه خود را در کمتر از ۱۰ دقیقه بسازید،برو به رزومه‌سازJobinja | جابینجا | استخدام، آگهی استخدام، کاریابی، استخدامی جدید، بازار کار، نیازمندیها، ساخت رزومه رایگان، کار و استخدام دولتی، اشتغال، جستجوگر حرفه ای استخدام و شغلخانهجستجوی مشاغلرزومه‌ساز۵۰ شرکت برتربخش کارفرمایانورود کارجوثبت‌نام کارجوورود کارجوثبت‌نام کارجو۱جابینجا چطور به استخدام شدن من کمک می‌کند؟مشاهدهمشاهده بیشترایده پردازان هوشمند راهبرد|Smart Ideas Strategies Rahbordتاسیس در  ۱۳۹۴کامپیوتر، فناوری اطلاعات و اینترنت۱۱ تا ۵۰ نفرrahbord.orgدر یک نگاهمعرفیفرصت‌های شغلی۲معرفی  ایده پردازان هوشمند راهبردشرکت دانش‌بنیان ایده‌پردازان هوشمند راهبردشرکت راهبرد از سال 1394 با رویکردی نوآورانه و تخصصی در حوزه‌های اتوماسیون اداری، اصناف و پلتفرم‌های مبتنی بر بلاکچین و رمزارز فعالیت خود را آغاز کرده است. با توجه به رشد روزافزون تکنولوژی و صنعت بلاکچین، این مجموعه همواره تلاش می‌کند تا با تحقیق و ایده‌پردازی، به طراحی و پی       N/A      N/A          N/A          N/A           N/A             N/A        N/A    N/A             N/A\n",
      "                                                                                                                                                                                                                                                                                                         https://jobinja.ir/jobs?filters%5Blocations%5D%5B%5D=%D8%B3%D9%85%D9%86%D8%A7%D9%86        استخدام سمنان | کاریابی سمنان | آگهی استخدام سمنان\\n | جابینجاامکان جدید:همین حالا رزومه خود را در کمتر از ۱۰ دقیقه بسازید،برو به رزومه‌سازJobinja | جابینجا | استخدام، آگهی استخدام، کاریابی، استخدامی جدید، بازار کار، نیازمندیها، ساخت رزومه رایگان، کار و استخدام دولتی، اشتغال، جستجوگر حرفه ای استخدام و شغلخانهجستجوی مشاغلرزومه‌ساز۵۰ شرکت برتربخش کارفرمایانورود کارجوثبت‌نام کارجوورود کارجوثبت‌نام کارجو۱جابینجا چطور به استخدام شدن من کمک می‌کند؟مشاهدهمشاهده بیشترجستجودرخواست‌های مننشان‌شده‌هاآگهی‌های پیشنهادیاز آگهی‌های جدید باخبر شوبهترین فرصت های شغلی در جابینجاهمه‌ی استان‌هاسمنانتهرانخراسان رضویاصفهانالبرزفارسقمآذربایجان شرقیمازندرانگیلانخوزستانکرمانیزدقزوینمرکزیهرمزگانگلستانزنجانسیستان و بلوچستانبوشهرآذربایجان غربیکرمانشاههمداناردبیللرستانکردستانخراسان شمالیایلامخراسان جنوبیچهارمحال بختیاریکهکیلویه و بویراحمدهمه‌ی دسته‌بندی‌هافروش و بازاریابیوب،‌ برنامه‌نویسی و نرم‌افزارمالی و حسابداریمسئول دفتر، اجرائی و اداریتولید و مدیریت محتوادیجیتال مارکتینگپشتیبانی و امور مشتریانطراحیIT / DevOps        N/A      N/A          N/A          N/A           N/A             N/A        N/A    N/A             N/A\n",
      "                                                                                                                                                                                                                                                                                            https://jobinja.ir/jobs?filters%5Bkeywords%5D%5B0%5D=%D8%AF%D9%88%D8%B1+%DA%A9%D8%A7%D8%B1%DB%8C        فرصت های شغلی دور کاری\\n | جابینجاامکان جدید:همین حالا رزومه خود را در کمتر از ۱۰ دقیقه بسازید،برو به رزومه‌سازJobinja | جابینجا | استخدام، آگهی استخدام، کاریابی، استخدامی جدید، بازار کار، نیازمندیها، ساخت رزومه رایگان، کار و استخدام دولتی، اشتغال، جستجوگر حرفه ای استخدام و شغلخانهجستجوی مشاغلرزومه‌ساز۵۰ شرکت برتربخش کارفرمایانورود کارجوثبت‌نام کارجوورود کارجوثبت‌نام کارجو۱جابینجا چطور به استخدام شدن من کمک می‌کند؟مشاهدهمشاهده بیشترجستجودرخواست‌های مننشان‌شده‌هاآگهی‌های پیشنهادیاز آگهی‌های جدید باخبر شوبهترین فرصت های شغلی در جابینجاهمه‌ی استان‌هاتهرانخراسان رضویاصفهانالبرزفارسقمآذربایجان شرقیمازندرانگیلانخوزستانکرمانیزدقزوینمرکزیهرمزگانگلستانزنجانسیستان و بلوچستانبوشهرآذربایجان غربیسمنانکرمانشاههمداناردبیللرستانکردستانخراسان شمالیایلامخراسان جنوبیچهارمحال بختیاریکهکیلویه و بویراحمدهمه‌ی دسته‌بندی‌هافروش و بازاریابیوب،‌ برنامه‌نویسی و نرم‌افزارمالی و حسابداریمسئول دفتر، اجرائی و اداریتولید و مدیریت محتوادیجیتال مارکتینگپشتیبانی و امور مشتریانطراحیIT / DevOps / Serverمهندسی صنایع و مدیری       N/A      N/A          N/A          N/A           N/A             N/A        N/A    N/A             N/A\n",
      "                                                                                                                                                                                                                                                                                                         https://jobinja.ir/jobs?filters%5Bkeywords%5D%5B0%5D=%D9%85%D8%AA%D8%B1%D8%AC%D9%85        فرصت های شغلی مترجم\\n | جابینجاامکان جدید:همین حالا رزومه خود را در کمتر از ۱۰ دقیقه بسازید،برو به رزومه‌سازJobinja | جابینجا | استخدام، آگهی استخدام، کاریابی، استخدامی جدید، بازار کار، نیازمندیها، ساخت رزومه رایگان، کار و استخدام دولتی، اشتغال، جستجوگر حرفه ای استخدام و شغلخانهجستجوی مشاغلرزومه‌ساز۵۰ شرکت برتربخش کارفرمایانورود کارجوثبت‌نام کارجوورود کارجوثبت‌نام کارجو۱جابینجا چطور به استخدام شدن من کمک می‌کند؟مشاهدهمشاهده بیشترجستجودرخواست‌های مننشان‌شده‌هاآگهی‌های پیشنهادیاز آگهی‌های جدید باخبر شوبهترین فرصت های شغلی در جابینجاهمه‌ی استان‌هاتهرانخراسان رضویاصفهانالبرزفارسقمآذربایجان شرقیمازندرانگیلانخوزستانکرمانیزدقزوینمرکزیهرمزگانگلستانزنجانسیستان و بلوچستانبوشهرآذربایجان غربیسمنانکرمانشاههمداناردبیللرستانکردستانخراسان شمالیایلامخراسان جنوبیچهارمحال بختیاریکهکیلویه و بویراحمدهمه‌ی دسته‌بندی‌هافروش و بازاریابیوب،‌ برنامه‌نویسی و نرم‌افزارمالی و حسابداریمسئول دفتر، اجرائی و اداریتولید و مدیریت محتوادیجیتال مارکتینگپشتیبانی و امور مشتریانطراحیIT / DevOps / Serverمهندسی صنایع و مدیریت ص       N/A      N/A          N/A          N/A           N/A             N/A        N/A    N/A             N/A\n",
      "                                                                                                                                                                                                                                                                                                                                                  https://jobinja.ir/companies/abarsayande-1         استخدام در شرکت برنادل، آگهی های استخدام Borna Del | جابینجاامکان جدید:همین حالا رزومه خود را در کمتر از ۱۰ دقیقه بسازید،برو به رزومه‌سازJobinja | جابینجا | استخدام، آگهی استخدام، کاریابی، استخدامی جدید، بازار کار، نیازمندیها، ساخت رزومه رایگان، کار و استخدام دولتی، اشتغال، جستجوگر حرفه ای استخدام و شغلخانهجستجوی مشاغلرزومه‌ساز۵۰ شرکت برتربخش کارفرمایانورود کارجوثبت‌نام کارجوورود کارجوثبت‌نام کارجو۱جابینجا چطور به استخدام شدن من کمک می‌کند؟مشاهدهمشاهده بیشتربرنادل|Borna Delتاسیس در  ۱۳۹۹آموزش، مدارس و دانشگاه‌ها۱۱ تا ۵۰ نفرbornadel.academy/در یک نگاهمعرفیفرصت‌های شغلی۲۶شرکت برنادل در زمینه آموزش‌های تخصصی (آنلاین و آفلاین) با استفاده از تکنیک‌های نوین و اساتید مجرب فعالیت می‌کند تا ورود افراد به بازار کار آسان‌تر شود.موقعیت مکانیتهران، تهراناعضای شرکتآرتادخت ده نمکیمدیر دیجیتال مارکتینگچالش اصلی، حل کردن مسائل در واحدهای زمانی کم است، اما ته همه‌ی این ماجراها شیرینه، و اون زمانیه که دانش پذیران از مهارتشون بواسطه برنادل تونستن کسب درآمد کنند و شغل ایده آلشون برسن.فهام غنیcreative manag       N/A      N/A          N/A          N/A           N/A             N/A        N/A    N/A             N/A\n",
      "                                                                                                                                                                                                                                                                                                      https://jobinja.ir/%D8%A2%DA%AF%D9%87%DB%8C-%D8%A7%D8%B3%D8%AA%D8%AE%D8%AF%D8%A7%D9%85         جذب نیرو | ثبت آگهی استخدام | جابینجاخانهتعرفه‌هابخش کارجویانورود کارفرماثبت نام کارفرماخانهتعرفه‌هاورود کارفرماثبت نام کارفرمابخش کارجویان|ورود کارفرما|ثبت نام کارفرماسریع‌ترین و به‌صرفه‌ترین ابزار استخدامبا درج آگهی استخدام در جابینجا، همین امروز فرصت شغلی شرکت خود را به متخصصان ایرانی اطلاع‌رسانی کنید.٪۶۰تخفیفدرج آگهی استخدامانتشار اولین آگهی با ۶۰٪ تخفیف - ۹۰ هزار تومانانتشار در فهرست فرصت‌های شغلیآگهی شما  ۶۰ روز در فهرست فرصت‌های شغلی سایت جابینجا منتشر می‌شود و در معرض دید میلیون‌ها کارجو قرار می‌گیرد.اطلاع‌رسانی گسترده به کارجویان مرتبطآگهی  شما به کارجویانی که سابقه مرتبط با آن دارند به صورت گسترده از روش‌های مختلف اطلاع‌رسانی می‌شود.گارانتی ۱۰۰٪ رضایت و بازگشت پولبا خیال راحت از امکانات جابینجا استفاده کنید در صورت عدم رضایت، بدون هیچ قید و شرط مبلغ پرداختی را دریافت کنید.جابینجا چه ویژگی‌هایی دارد؟انتشار آگهی استخداممدیریت رزومه‌هاتعیین وضعیت رزومهتیم استخدامجستجو در رزومه‌هانشان کردن رزومه‌یادداشت‌های رزومه‌برند کارفرماییآمار عملکردرزومه‌های پیشنهادیشتابدهی آگهیپشتیبانی درج       N/A      N/A          N/A          N/A           N/A             N/A        N/A    N/A             N/A\n",
      "                                                                                                                                                                                                       https://jobinja.ir/jobs?filters%5Bjob_categories%5D%5B%5D=%D9%85%D9%86%D8%A7%D8%A8%D8%B9+%D8%A7%D9%86%D8%B3%D8%A7%D9%86%DB%8C+%D9%88+%DA%A9%D8%A7%D8%B1%DA%AF%D8%B2%DB%8C%D9%86%DB%8C        آگهی استخدام کارشناس منابع انسانی | استخدام مدیر منابع انسانی (HR) | جابینجا\\n | جابینجاامکان جدید:همین حالا رزومه خود را در کمتر از ۱۰ دقیقه بسازید،برو به رزومه‌سازJobinja | جابینجا | استخدام، آگهی استخدام، کاریابی، استخدامی جدید، بازار کار، نیازمندیها، ساخت رزومه رایگان، کار و استخدام دولتی، اشتغال، جستجوگر حرفه ای استخدام و شغلخانهجستجوی مشاغلرزومه‌ساز۵۰ شرکت برتربخش کارفرمایانورود کارجوثبت‌نام کارجوورود کارجوثبت‌نام کارجو۱جابینجا چطور به استخدام شدن من کمک می‌کند؟مشاهدهمشاهده بیشترجستجودرخواست‌های مننشان‌شده‌هاآگهی‌های پیشنهادیاز آگهی‌های جدید باخبر شوبهترین فرصت های شغلی در جابینجاهمه‌ی استان‌هاتهرانخراسان رضویاصفهانالبرزفارسقمآذربایجان شرقیمازندرانگیلانخوزستانکرمانیزدقزوینمرکزیهرمزگانگلستانزنجانسیستان و بلوچستانبوشهرآذربایجان غربیسمنانکرمانشاههمداناردبیللرستانکردستانخراسان شمالیایلامخراسان جنوبیچهارمحال بختیاریکهکیلویه و بویراحمدهمه‌ی دسته‌بندی‌هامنابع انسانی و کارگزینیفروش و بازاریابیوب،‌ برنامه‌نویسی و نرم‌افزارمالی و حسابداریمسئول دفتر، اجرائی و اداریتولید و مدیریت محتوادیجیتال       N/A      N/A          N/A          N/A           N/A             N/A        N/A    N/A             N/A\n",
      "                                                                                                                                                                                                                      https://blog.jobinja.ir/%d8%a2%d9%85%d9%88%d8%b2%d8%b4-%d8%aa%da%a9%d9%86%db%8c%da%a9%d9%87%d8%a7%db%8c-%d9%85%d8%b5%d8%a7%d8%ad%d8%a8%d9%87-%d8%b4%d8%ba%d9%84%db%8c/         آموزش تکنیک‌های مصاحبه شغلی برای مدیران منابع انسانی - وبلاگ جابینجااشتراک گذاریبا استفاده از روش‌های زیر می‌توانید این صفحه را با دوستان خود به اشتراک بگذارید.کپی لینککارجو ⏷رزومه نویسیمسیر شغلیمصاحبه کاریمهارت های فردیکارفرما ⏷منابع انسانیفضای کاریاخبار جابینجارزومه سازایجاد آگهی جدیدکارجو ⏷رزومه نویسیمسیر شغلیمصاحبه کاریمهارت های فردیکارفرما ⏷منابع انسانیفضای کاریاخبار جابینجارزومه سازایجاد آگهی جدیدParkingGasFoodCoffeeMiscمرا به خاطر بسپارنام کاربری :ایمیل :نام :نام خانوادگیآدرس وب سایت :تاریخ ثبت نام :نقش کاربر:کارفرمامنابع انسانیآموزش تکنیک‌های مصاحبه شغلی برای مدیران منابع انسانیبازدید 522تیم تولید محتوا54 روز پیشاشتراک گذاریبا استفاده از روش‌های زیر می‌توانید این صفحه را با دوستان خود به اشتراک بگذارید.کپی لینکبدون دیدگاهکارفرمامنابع انسانیآموزش تکنیک‌های مصاحبه شغلی برای مدیران منابع انسانیجذب و استخدام نیروی انسانی کارآمد از مهمترین وظایف مدیران منابع انسانی است. مدیران واحد HR در هر سازمانی باید بهترین شیوه‌ها را برای مصاحبه شغلی به کار گیرند تا مستعدترین نیروها را شناسایی و       N/A      N/A          N/A          N/A           N/A             N/A        N/A    N/A             N/A\n",
      "                                                                                                                                                                                                                                                  https://jobinja.ir/jobs?filters%5Bjob_categories%5D%5B%5D=%D9%85%D8%A7%D9%84%DB%8C+%D9%88+%D8%AD%D8%B3%D8%A7%D8%A8%D8%AF%D8%A7%D8%B1%DB%8C        استخدام حسابدار | آگهی استخدام حسابدار | استخدام کمک حسابدار\\n | جابینجاامکان جدید:همین حالا رزومه خود را در کمتر از ۱۰ دقیقه بسازید،برو به رزومه‌سازJobinja | جابینجا | استخدام، آگهی استخدام، کاریابی، استخدامی جدید، بازار کار، نیازمندیها، ساخت رزومه رایگان، کار و استخدام دولتی، اشتغال، جستجوگر حرفه ای استخدام و شغلخانهجستجوی مشاغلرزومه‌ساز۵۰ شرکت برتربخش کارفرمایانورود کارجوثبت‌نام کارجوورود کارجوثبت‌نام کارجو۱جابینجا چطور به استخدام شدن من کمک می‌کند؟مشاهدهمشاهده بیشترجستجودرخواست‌های مننشان‌شده‌هاآگهی‌های پیشنهادیاز آگهی‌های جدید باخبر شوبهترین فرصت های شغلی در جابینجاهمه‌ی استان‌هاتهرانخراسان رضویاصفهانالبرزفارسقمآذربایجان شرقیمازندرانگیلانخوزستانکرمانیزدقزوینمرکزیهرمزگانگلستانزنجانسیستان و بلوچستانبوشهرآذربایجان غربیسمنانکرمانشاههمداناردبیللرستانکردستانخراسان شمالیایلامخراسان جنوبیچهارمحال بختیاریکهکیلویه و بویراحمدهمه‌ی دسته‌بندی‌هامالی و حسابداریفروش و بازاریابیوب،‌ برنامه‌نویسی و نرم‌افزارمسئول دفتر، اجرائی و اداریتولید و مدیریت محتوادیجیتال مارکتینگپشتیبانی و امور مشتریانطراحیIT       N/A      N/A          N/A          N/A           N/A             N/A        N/A    N/A             N/A\n",
      "                                                                                                                                                                                                                                                                                             https://jobinja.ir/jobs?filters%5Bkeywords%5D%5B0%5D=%D8%AA%D8%AF%D9%88%DB%8C%D9%86%DA%AF%D8%B1        فرصت های شغلی تدوینگر\\n | جابینجاامکان جدید:همین حالا رزومه خود را در کمتر از ۱۰ دقیقه بسازید،برو به رزومه‌سازJobinja | جابینجا | استخدام، آگهی استخدام، کاریابی، استخدامی جدید، بازار کار، نیازمندیها، ساخت رزومه رایگان، کار و استخدام دولتی، اشتغال، جستجوگر حرفه ای استخدام و شغلخانهجستجوی مشاغلرزومه‌ساز۵۰ شرکت برتربخش کارفرمایانورود کارجوثبت‌نام کارجوورود کارجوثبت‌نام کارجو۱جابینجا چطور به استخدام شدن من کمک می‌کند؟مشاهدهمشاهده بیشترجستجودرخواست‌های مننشان‌شده‌هاآگهی‌های پیشنهادیاز آگهی‌های جدید باخبر شوبهترین فرصت های شغلی در جابینجاهمه‌ی استان‌هاتهرانخراسان رضویاصفهانالبرزفارسقمآذربایجان شرقیمازندرانگیلانخوزستانکرمانیزدقزوینمرکزیهرمزگانگلستانزنجانسیستان و بلوچستانبوشهرآذربایجان غربیسمنانکرمانشاههمداناردبیللرستانکردستانخراسان شمالیایلامخراسان جنوبیچهارمحال بختیاریکهکیلویه و بویراحمدهمه‌ی دسته‌بندی‌هافروش و بازاریابیوب،‌ برنامه‌نویسی و نرم‌افزارمالی و حسابداریمسئول دفتر، اجرائی و اداریتولید و مدیریت محتوادیجیتال مارکتینگپشتیبانی و امور مشتریانطراحیIT / DevOps / Serverمهندسی صنایع و مدیریت       N/A      N/A          N/A          N/A           N/A             N/A        N/A    N/A             N/A\n",
      "                                                                                                                                                                                                                                                                                                                                                                  https://jobinja.ir/contact       تماس با ما | جابینجاامکان جدید:همین حالا رزومه خود را در کمتر از ۱۰ دقیقه بسازید،برو به رزومه‌سازJobinja | جابینجا | استخدام، آگهی استخدام، کاریابی، استخدامی جدید، بازار کار، نیازمندیها، ساخت رزومه رایگان، کار و استخدام دولتی، اشتغال، جستجوگر حرفه ای استخدام و شغلخانهجستجوی مشاغلرزومه‌ساز۵۰ شرکت برتربخش کارفرمایانورود کارجوثبت‌نام کارجوورود کارجوثبت‌نام کارجو۱جابینجا چطور به استخدام شدن من کمک می‌کند؟مشاهدهمشاهده بیشترتماس با مااگر سوالی دارید، یک مشکل در وب‌سایت پیدا کرده‌اید و می‌خواهید به ما اطلاع دهید، برای جاب‌اینجا\\n                        پیشنهادی دارید، اگر حتی فقط قصد آشنا شدن با ما را دارید، یک لحظه هم درنگ نکنید! همین حالا با ما\\n                        تماس بگیرید‌ :)hi@jobinja.irایمیل شمافرمت ایمیل صحیح نیست.ایمیل را وارد کنیدشماره موبایل شمافرمت شماره موبایل صحیح نیست.شماره موبایل را وارد کنیدپیام شمامتن پیام را وارد کنید.پیام شما با موفقیت ارسال شد.کارجویانسوالات متداول کارجویانقوانین و مقررات کارجویانلیست مشاغلآگهی‌های استخدامورود / ثبت‌نام کارجوایمیل‌های اطلاع‌رسانیرزومه       N/A      N/A          N/A          N/A           N/A             N/A        N/A    N/A             N/A\n",
      "                                                                                                                                                                                                                   https://jobinja.ir/jobs?filters%5Bjob_categories%5D%5B%5D=%D9%85%D9%87%D9%86%D8%AF%D8%B3%DB%8C+%D8%B9%D9%85%D8%B1%D8%A7%D9%86+%D9%88+%D9%85%D8%B9%D9%85%D8%A7%D8%B1%DB%8C        استخدام مهندس عمران و معماری\\n | جابینجاامکان جدید:همین حالا رزومه خود را در کمتر از ۱۰ دقیقه بسازید،برو به رزومه‌سازJobinja | جابینجا | استخدام، آگهی استخدام، کاریابی، استخدامی جدید، بازار کار، نیازمندیها، ساخت رزومه رایگان، کار و استخدام دولتی، اشتغال، جستجوگر حرفه ای استخدام و شغلخانهجستجوی مشاغلرزومه‌ساز۵۰ شرکت برتربخش کارفرمایانورود کارجوثبت‌نام کارجوورود کارجوثبت‌نام کارجو۱جابینجا چطور به استخدام شدن من کمک می‌کند؟مشاهدهمشاهده بیشترجستجودرخواست‌های مننشان‌شده‌هاآگهی‌های پیشنهادیاز آگهی‌های جدید باخبر شوبهترین فرصت های شغلی در جابینجاهمه‌ی استان‌هاتهرانخراسان رضویاصفهانالبرزفارسقمآذربایجان شرقیمازندرانگیلانخوزستانکرمانیزدقزوینمرکزیهرمزگانگلستانزنجانسیستان و بلوچستانبوشهرآذربایجان غربیسمنانکرمانشاههمداناردبیللرستانکردستانخراسان شمالیایلامخراسان جنوبیچهارمحال بختیاریکهکیلویه و بویراحمدهمه‌ی دسته‌بندی‌هامهندسی عمران و معماریفروش و بازاریابیوب،‌ برنامه‌نویسی و نرم‌افزارمالی و حسابداریمسئول دفتر، اجرائی و اداریتولید و مدیریت محتوادیجیتال مارکتینگپشتیبانی و امور مشتریانطراحیIT / DevOps /       N/A      N/A          N/A          N/A           N/A             N/A        N/A    N/A             N/A\n",
      "                                                                                                                                                                                                                                                                                                                                                       https://jobinja.ir/companies/chargoon         استخدام در شرکت چارگون، آگهی های استخدام Chargoon | جابینجاامکان جدید:همین حالا رزومه خود را در کمتر از ۱۰ دقیقه بسازید،برو به رزومه‌سازJobinja | جابینجا | استخدام، آگهی استخدام، کاریابی، استخدامی جدید، بازار کار، نیازمندیها، ساخت رزومه رایگان، کار و استخدام دولتی، اشتغال، جستجوگر حرفه ای استخدام و شغلخانهجستجوی مشاغلرزومه‌ساز۵۰ شرکت برتربخش کارفرمایانورود کارجوثبت‌نام کارجوورود کارجوثبت‌نام کارجو۱جابینجا چطور به استخدام شدن من کمک می‌کند؟مشاهدهمشاهده بیشترچارگون|Chargoonتاسیس در  ۱۳۷۷کامپیوتر، فناوری اطلاعات و اینترنت۲۰۱ تا ۵۰۰ نفرchargoon.comدر یک نگاهمعرفیفرصت‌های شغلی۱۸در چارگون پویایی و تلاش برای رسیدن به اهداف باعث توسعه توانایی‌ها شده و بهره گیری از ابزار مناسب کنار تیم حرفه‌ای موجب رشد شخصی و کاری افراد سازمان می‌شود.موقعیت مکانیتهران، تهراناعضای شرکتفرزاد  رحمانیمدیرعاملاز بدو تاسیس شرکت چارگون که جمعی کوچک، سنگ بنای آن‌ را نهادند تا به امروز که بیش از 350 جوان با انگیزه و خلاق با اتکا به دانش و توانمندی فنی خود، محصولاتی بومی و سازگار با ساختار اداری کشور را طراحی و تولید می‌       N/A      N/A          N/A          N/A           N/A             N/A        N/A    N/A             N/A\n",
      "                                                                                                                                                                                                                                                        https://jobinja.ir/jobs?filters%5Bkeywords%5D%5B0%5D=%D8%A7%D8%AF%D9%85%DB%8C%D9%86+%D9%BE%D8%A7%D8%B3%D8%AE%DA%AF%D9%88%DB%8C%DB%8C        فرصت های شغلی ادمین پاسخگویی\\n | جابینجاامکان جدید:همین حالا رزومه خود را در کمتر از ۱۰ دقیقه بسازید،برو به رزومه‌سازJobinja | جابینجا | استخدام، آگهی استخدام، کاریابی، استخدامی جدید، بازار کار، نیازمندیها، ساخت رزومه رایگان، کار و استخدام دولتی، اشتغال، جستجوگر حرفه ای استخدام و شغلخانهجستجوی مشاغلرزومه‌ساز۵۰ شرکت برتربخش کارفرمایانورود کارجوثبت‌نام کارجوورود کارجوثبت‌نام کارجو۱جابینجا چطور به استخدام شدن من کمک می‌کند؟مشاهدهمشاهده بیشترجستجودرخواست‌های مننشان‌شده‌هاآگهی‌های پیشنهادیاز آگهی‌های جدید باخبر شوبهترین فرصت های شغلی در جابینجاهمه‌ی استان‌هاتهرانخراسان رضویاصفهانالبرزفارسقمآذربایجان شرقیمازندرانگیلانخوزستانکرمانیزدقزوینمرکزیهرمزگانگلستانزنجانسیستان و بلوچستانبوشهرآذربایجان غربیسمنانکرمانشاههمداناردبیللرستانکردستانخراسان شمالیایلامخراسان جنوبیچهارمحال بختیاریکهکیلویه و بویراحمدهمه‌ی دسته‌بندی‌هافروش و بازاریابیوب،‌ برنامه‌نویسی و نرم‌افزارمالی و حسابداریمسئول دفتر، اجرائی و اداریتولید و مدیریت محتوادیجیتال مارکتینگپشتیبانی و امور مشتریانطراحیIT / DevOps / Serverمهندسی صنایع و       N/A      N/A          N/A          N/A           N/A             N/A        N/A    N/A             N/A\n",
      "                                                                                                                                                                                                                                                                                                         https://jobinja.ir/jobs?filters%5Blocations%5D%5B%5D=%D9%82%D8%B2%D9%88%DB%8C%D9%86        استخدامی قزوین | استخدام قزوین | آگهی استخدام قزوین\\n | جابینجاامکان جدید:همین حالا رزومه خود را در کمتر از ۱۰ دقیقه بسازید،برو به رزومه‌سازJobinja | جابینجا | استخدام، آگهی استخدام، کاریابی، استخدامی جدید، بازار کار، نیازمندیها، ساخت رزومه رایگان، کار و استخدام دولتی، اشتغال، جستجوگر حرفه ای استخدام و شغلخانهجستجوی مشاغلرزومه‌ساز۵۰ شرکت برتربخش کارفرمایانورود کارجوثبت‌نام کارجوورود کارجوثبت‌نام کارجو۱جابینجا چطور به استخدام شدن من کمک می‌کند؟مشاهدهمشاهده بیشترجستجودرخواست‌های مننشان‌شده‌هاآگهی‌های پیشنهادیاز آگهی‌های جدید باخبر شوبهترین فرصت های شغلی در جابینجاهمه‌ی استان‌هاقزوینتهرانخراسان رضویاصفهانالبرزفارسقمآذربایجان شرقیمازندرانگیلانخوزستانکرمانیزدمرکزیهرمزگانگلستانزنجانسیستان و بلوچستانبوشهرآذربایجان غربیسمنانکرمانشاههمداناردبیللرستانکردستانخراسان شمالیایلامخراسان جنوبیچهارمحال بختیاریکهکیلویه و بویراحمدهمه‌ی دسته‌بندی‌هافروش و بازاریابیوب،‌ برنامه‌نویسی و نرم‌افزارمالی و حسابداریمسئول دفتر، اجرائی و اداریتولید و مدیریت محتوادیجیتال مارکتینگپشتیبانی و امور مشتریانطراحیIT / DevOps       N/A      N/A          N/A          N/A           N/A             N/A        N/A    N/A             N/A\n",
      "                                                                                                                                                                                                                                                                                                                                                                     https://jobinja.ir/jobs        فرصت های شغلی | موقعیت شغلی\\n | جابینجاامکان جدید:همین حالا رزومه خود را در کمتر از ۱۰ دقیقه بسازید،برو به رزومه‌سازJobinja | جابینجا | استخدام، آگهی استخدام، کاریابی، استخدامی جدید، بازار کار، نیازمندیها، ساخت رزومه رایگان، کار و استخدام دولتی، اشتغال، جستجوگر حرفه ای استخدام و شغلخانهجستجوی مشاغلرزومه‌ساز۵۰ شرکت برتربخش کارفرمایانورود کارجوثبت‌نام کارجوورود کارجوثبت‌نام کارجو۱جابینجا چطور به استخدام شدن من کمک می‌کند؟مشاهدهمشاهده بیشترجستجودرخواست‌های مننشان‌شده‌هاآگهی‌های پیشنهادیاز آگهی‌های جدید باخبر شوبهترین فرصت های شغلی در جابینجاهمه‌ی استان‌هاتهرانخراسان رضویاصفهانالبرزفارسقمآذربایجان شرقیمازندرانگیلانخوزستانکرمانیزدقزوینمرکزیهرمزگانگلستانزنجانسیستان و بلوچستانبوشهرآذربایجان غربیسمنانکرمانشاههمداناردبیللرستانکردستانخراسان شمالیایلامخراسان جنوبیچهارمحال بختیاریکهکیلویه و بویراحمدهمه‌ی دسته‌بندی‌هافروش و بازاریابیوب،‌ برنامه‌نویسی و نرم‌افزارمالی و حسابداریمسئول دفتر، اجرائی و اداریتولید و مدیریت محتوادیجیتال مارکتینگپشتیبانی و امور مشتریانطراحیIT / DevOps / Serverمهندسی صنایع و        N/A      N/A          N/A          N/A           N/A             N/A        N/A    N/A             N/A\n",
      "                                                                                                                                                                                    https://jobinja.ir/jobs?filters%5Bjob_categories%5D%5B%5D=%D8%AA%D8%AD%D9%82%DB%8C%D9%82+%D8%A8%D8%A7%D8%B2%D8%A7%D8%B1+%D9%88+%D8%AA%D8%AD%D9%84%DB%8C%D9%84+%D8%A7%D9%82%D8%AA%D8%B5%D8%A7%D8%AF%DB%8C        استخدام تحلیلگر بازار و اقتصاد\\n | جابینجاامکان جدید:همین حالا رزومه خود را در کمتر از ۱۰ دقیقه بسازید،برو به رزومه‌سازJobinja | جابینجا | استخدام، آگهی استخدام، کاریابی، استخدامی جدید، بازار کار، نیازمندیها، ساخت رزومه رایگان، کار و استخدام دولتی، اشتغال، جستجوگر حرفه ای استخدام و شغلخانهجستجوی مشاغلرزومه‌ساز۵۰ شرکت برتربخش کارفرمایانورود کارجوثبت‌نام کارجوورود کارجوثبت‌نام کارجو۱جابینجا چطور به استخدام شدن من کمک می‌کند؟مشاهدهمشاهده بیشترجستجودرخواست‌های مننشان‌شده‌هاآگهی‌های پیشنهادیاز آگهی‌های جدید باخبر شوبهترین فرصت های شغلی در جابینجاهمه‌ی استان‌هاتهرانخراسان رضویاصفهانالبرزفارسقمآذربایجان شرقیمازندرانگیلانخوزستانکرمانیزدقزوینمرکزیهرمزگانگلستانزنجانسیستان و بلوچستانبوشهرآذربایجان غربیسمنانکرمانشاههمداناردبیللرستانکردستانخراسان شمالیایلامخراسان جنوبیچهارمحال بختیاریکهکیلویه و بویراحمدهمه‌ی دسته‌بندی‌هاتحقیق بازار و تحلیل اقتصادیفروش و بازاریابیوب،‌ برنامه‌نویسی و نرم‌افزارمالی و حسابداریمسئول دفتر، اجرائی و اداریتولید و مدیریت محتوادیجیتال مارکتینگپشتیبانی و امور مشتریانطراحیIT /        N/A      N/A          N/A          N/A           N/A             N/A        N/A    N/A             N/A\n",
      "                                                                                                                                                                                                                                                                                                                        https://jobinja.ir/knowledge/employer-faq/pages/employer-account-faq       سوالات متداول حساب کاربری کارفرمایان | جابینجاامکان جدید:همین حالا رزومه خود را در کمتر از ۱۰ دقیقه بسازید،برو به رزومه‌سازJobinja | جابینجا | استخدام، آگهی استخدام، کاریابی، استخدامی جدید، بازار کار، نیازمندیها، ساخت رزومه رایگان، کار و استخدام دولتی، اشتغال، جستجوگر حرفه ای استخدام و شغلخانهجستجوی مشاغلرزومه‌ساز۵۰ شرکت برتربخش کارفرمایانورود کارجوثبت‌نام کارجوورود کارجوثبت‌نام کارجو۱جابینجا چطور به استخدام شدن من کمک می‌کند؟مشاهدهمشاهده بیشترسوالات متداول کارفرمایانسوالات متداول حساب کاربری کارفرمایانسوالات متداول حساب کاربری کارفرمایانثبت‌نام و ورود به پنل شرکت:۱- اقدامات لازم جهت ایجاد پنل کارفرمایی چیست؟چنانچه در حال جذب نیرو هستید، وارد سایت جابینجا (www.jobinja.ir)\\r\\n                شده و سپس از بخش کارفرمایان گزینه ثبت‌نام کارفرما را انتخاب نمایید و پس از تکمیل اطلاعات، از پنل ایجاد شده برای درج آگهی استخدام استفاده نمایید.۲- چنانچه پنل کارفرمایی شرکت موقتا غیرفعال شده چگونه آن را فعال کنم؟مجموعه شما پنل فعال داخل سایت جابینجا دارد یا پروفایل دیگری که با نام مجموعه شما، تشابه اس       N/A      N/A          N/A          N/A           N/A             N/A        N/A    N/A             N/A\n",
      "                                                                                                                                                                                                                                                                                                                                              https://jobinja.ir/companies/daira-hamrah/jobs         فرصت‌های شغلی فعال در داریا همراه پایتخت  | Daria Hamrah | جابینجاامکان جدید:همین حالا رزومه خود را در کمتر از ۱۰ دقیقه بسازید،برو به رزومه‌سازJobinja | جابینجا | استخدام، آگهی استخدام، کاریابی، استخدامی جدید، بازار کار، نیازمندیها، ساخت رزومه رایگان، کار و استخدام دولتی، اشتغال، جستجوگر حرفه ای استخدام و شغلخانهجستجوی مشاغلرزومه‌ساز۵۰ شرکت برتربخش کارفرمایانورود کارجوثبت‌نام کارجوورود کارجوثبت‌نام کارجو۱جابینجا چطور به استخدام شدن من کمک می‌کند؟مشاهدهمشاهده بیشترداریا همراه پایتخت|Daria Hamrahتاسیس در  ۱۳۹۹مخابرات و ارتباطات (تلکام)۵۰۱ تا ۱۰۰۰ نفرdariahamrah.ir/در یک نگاهمعرفیفرصت‌های شغلی۲۷معرفی داریا همراه پایتختبا توجه به پیشرفت روز افزون تکنولوژی و ارتقای تلفن‌های همراه هوشمند در سطح جهانی، داریا به عنوان یکی از فعالان در این زمینه و علاقمند به حرکت به سمت قله‌های تکنولوژی، با طراحی و مدیریت تولید گوشی هوشمند bond با همکاری شرکای خارجی خود، وارد این عرصه شده ‌است. در سال‌های اخیر داریا توسط سامانه جامع گارانتی به عنوان برترین شرکت خدمات پس از فروش تلفن‌های همراه هوشمند برگزیده شده       N/A      N/A          N/A          N/A           N/A             N/A        N/A    N/A             N/A\n",
      "                                                                                                                                                                                                                                                                                                                                                                          https://jobinja.ir         استخدام | آگهی استخدام | سایت کاریابی | جابینجاJobinja | جابینجا | استخدام، آگهی استخدام، کاریابی، استخدامی جدید، بازار کار، نیازمندیها، ساخت رزومه رایگان، کار و استخدام دولتی، اشتغال، جستجوگر حرفه ای استخدام و شغلخانهجستجوی مشاغلرزومه‌ساز۵۰ شرکت برتربخش کارفرمایانورود کارجوثبت‌نام کارجوورود کارجوثبت‌نام کارجو۱جابینجا چطور به استخدام شدن من کمک می‌کند؟مشاهدهمشاهده بیشتر۲۵,۴۶۴آگهی استخدام فعال در۱۰,۹۸۷شرکت ایرانیجابینجا:سامانهکاریابی آنلاین با بیشترین تعداد آگهی استخدام در ایرانهمه‌ی استان‌هاتهرانخراسان رضویاصفهانالبرزفارسقمآذربایجان شرقیمازندرانگیلانخوزستانکرمانیزدقزوینمرکزیهرمزگانگلستانزنجانسیستان و بلوچستانبوشهرآذربایجان غربیسمنانکرمانشاههمداناردبیللرستانکردستانخراسان شمالیایلامخراسان جنوبیچهارمحال بختیاریکهکیلویه و بویراحمدهمه‌ی دسته‌بندی‌هافروش و بازاریابیوب،‌ برنامه‌نویسی و نرم‌افزارمالی و حسابداریمسئول دفتر، اجرائی و اداریتولید و مدیریت محتوادیجیتال مارکتینگپشتیبانی و امور مشتریانطراحیIT / DevOps / Serverمهندسی صنایع و مدیریت صنعتیکارگر ساده، نیروی خدماتیمهندسی برق و الکترونیکمنا       N/A      N/A          N/A          N/A           N/A             N/A        N/A    N/A             N/A\n",
      "                                                                                                                                                                                                                                                                                                                                       https://jobinja.ir/companies/falnic-%28iranhp%29/jobs فرصت‌های شغلی فعال در فالنیک (ایران اچ پی) | Falnic-IranHP | جابینجاامکان جدید:همین حالا رزومه خود را در کمتر از ۱۰ دقیقه بسازید،برو به رزومه‌سازJobinja | جابینجا | استخدام، آگهی استخدام، کاریابی، استخدامی جدید، بازار کار، نیازمندیها، ساخت رزومه رایگان، کار و استخدام دولتی، اشتغال، جستجوگر حرفه ای استخدام و شغلخانهجستجوی مشاغلرزومه‌ساز۵۰ شرکت برتربخش کارفرمایانورود کارجوثبت‌نام کارجوورود کارجوثبت‌نام کارجو۱جابینجا چطور به استخدام شدن من کمک می‌کند؟مشاهدهمشاهده بیشترفالنیک (ایران اچ پی)|Falnic-IranHPتاسیس در  ۱۳۷۴کامپیوتر، فناوری اطلاعات و اینترنت۵۱ تا ۲۰۰ نفرfalnic.comدر یک نگاهمعرفیفرصت‌های شغلی۱۰معرفی فالنیک (ایران اچ پی)فالنیک ایران اچ پی شرکتی در حوزه فروش تجیهزات و ارائه خدمات IT است که از سال 1374 فعالیت خود را آغاز کرده است. تا امروز محصولات و خدمات ما به بیش از 30 هزار فرد حقیقی و حقوقی و بیش از 9 هزار سازمان و شرکت مختلف کمک کرده تا به اهداف‌شان برسند.•\\tبانک مرکزی•\\tوزارت کشاوری•\\tسازمان سنجش و آموزش کشور•\\tفدراسیون والیبال•\\tسازمان لیگ فوتبال•\\tشرکت کاله•\\tشکت داداش برادر (شونیز)•\\t       N/A      N/A          N/A          N/A           N/A             N/A        N/A    N/A             N/A\n",
      "                                                                                                                                                                                                                                                                                             https://jobinja.ir/jobs?filters%5Blocations%5D%5B%5D=%DA%A9%D8%B1%D8%AF%D8%B3%D8%AA%D8%A7%D9%86        استخدام کردستان | کاریابی کردستان | آگهی استخدام کردستان\\n | جابینجاامکان جدید:همین حالا رزومه خود را در کمتر از ۱۰ دقیقه بسازید،برو به رزومه‌سازJobinja | جابینجا | استخدام، آگهی استخدام، کاریابی، استخدامی جدید، بازار کار، نیازمندیها، ساخت رزومه رایگان، کار و استخدام دولتی، اشتغال، جستجوگر حرفه ای استخدام و شغلخانهجستجوی مشاغلرزومه‌ساز۵۰ شرکت برتربخش کارفرمایانورود کارجوثبت‌نام کارجوورود کارجوثبت‌نام کارجو۱جابینجا چطور به استخدام شدن من کمک می‌کند؟مشاهدهمشاهده بیشترجستجودرخواست‌های مننشان‌شده‌هاآگهی‌های پیشنهادیاز آگهی‌های جدید باخبر شوبهترین فرصت های شغلی در جابینجاهمه‌ی استان‌هاکردستانتهرانخراسان رضویاصفهانالبرزفارسقمآذربایجان شرقیمازندرانگیلانخوزستانکرمانیزدقزوینمرکزیهرمزگانگلستانزنجانسیستان و بلوچستانبوشهرآذربایجان غربیسمنانکرمانشاههمداناردبیللرستانخراسان شمالیایلامخراسان جنوبیچهارمحال بختیاریکهکیلویه و بویراحمدهمه‌ی دسته‌بندی‌هافروش و بازاریابیوب،‌ برنامه‌نویسی و نرم‌افزارمالی و حسابداریمسئول دفتر، اجرائی و اداریتولید و مدیریت محتوادیجیتال مارکتینگپشتیبانی و امور مشتریانطراحیIT / D       N/A      N/A          N/A          N/A           N/A             N/A        N/A    N/A             N/A\n",
      "                                                                                                                                                                                    https://jobinja.ir/jobs?filters%5Bjob_categories%5D%5B%5D=%D9%85%D9%87%D9%86%D8%AF%D8%B3%DB%8C+%D8%B5%D9%86%D8%A7%DB%8C%D8%B9+%D9%88+%D9%85%D8%AF%DB%8C%D8%B1%DB%8C%D8%AA+%D8%B5%D9%86%D8%B9%D8%AA%DB%8C        استخدام مهندس صنايع و مدیریت صنعتی\\n | جابینجاامکان جدید:همین حالا رزومه خود را در کمتر از ۱۰ دقیقه بسازید،برو به رزومه‌سازJobinja | جابینجا | استخدام، آگهی استخدام، کاریابی، استخدامی جدید، بازار کار، نیازمندیها، ساخت رزومه رایگان، کار و استخدام دولتی، اشتغال، جستجوگر حرفه ای استخدام و شغلخانهجستجوی مشاغلرزومه‌ساز۵۰ شرکت برتربخش کارفرمایانورود کارجوثبت‌نام کارجوورود کارجوثبت‌نام کارجو۱جابینجا چطور به استخدام شدن من کمک می‌کند؟مشاهدهمشاهده بیشترجستجودرخواست‌های مننشان‌شده‌هاآگهی‌های پیشنهادیاز آگهی‌های جدید باخبر شوبهترین فرصت های شغلی در جابینجاهمه‌ی استان‌هاتهرانخراسان رضویاصفهانالبرزفارسقمآذربایجان شرقیمازندرانگیلانخوزستانکرمانیزدقزوینمرکزیهرمزگانگلستانزنجانسیستان و بلوچستانبوشهرآذربایجان غربیسمنانکرمانشاههمداناردبیللرستانکردستانخراسان شمالیایلامخراسان جنوبیچهارمحال بختیاریکهکیلویه و بویراحمدهمه‌ی دسته‌بندی‌هامهندسی صنایع و مدیریت صنعتیفروش و بازاریابیوب،‌ برنامه‌نویسی و نرم‌افزارمالی و حسابداریمسئول دفتر، اجرائی و اداریتولید و مدیریت محتوادیجیتال مارکتینگپشتیبانی و امور مشتریانطراحیI       N/A      N/A          N/A          N/A           N/A             N/A        N/A    N/A             N/A\n",
      "                                                                                                                                                                                                                                                                                   https://jobinja.ir/%D8%B1%D8%B2%D9%88%D9%85%D9%87-%D8%B3%D8%A7%D8%B2-%D8%A2%D9%86%D9%84%D8%A7%DB%8C%D9%86       رزومه ساز | ساخت رزومه | رزومه ساز آنلاین | جابینجاJobinja | جابینجا | استخدام، آگهی استخدام، کاریابی، استخدامی جدید، بازار کار، نیازمندیها، ساخت رزومه رایگان، کار و استخدام دولتی، اشتغال، جستجوگر حرفه ای استخدام و شغلخانهجستجوی مشاغلرزومه‌ساز۵۰ شرکت برتربخش کارفرمایانورود کارجوثبت‌نام کارجوورود کارجوثبت‌نام کارجو۱جابینجا چطور به استخدام شدن من کمک می‌کند؟مشاهدهمشاهده بیشتربا رزومه ساز رایگان جابینجا،رزومهکاری حرفه ای بسازید!در کمتر از ۱۰ دقیقه یک رزومه‌ی کامل و استاندارد داشته باشیدبرای شروع ایمیل و رمز عبور خود را انتخاب کنیدشروع ساخت رزومهحساب کاربری دارید؟وارد شویدویژگی‌های رزومه‌ساز جابینجابه‌روزرسانی همیشگیشما می‌توانید با یک بار ساختن رزومه در جابینجا آن را برای همیشه به‌روز کنیددر دید کارفرمایانبا داشتن این رزومه\\n                            کارفرمایان شما را راحت‌تر و سریع‌تر پیدا می‌کنندبه اشتراک گذاری رزومهبعد از ساختن این رزومه\\n                            می‌توانید آن را در شبکه‌های اجتماعی به اشتراک بگذاریدپرستو زورقیطراح گرافیکاستفاده از رزومه‌ساز جابینجا برای من تجربه خوب       N/A      N/A          N/A          N/A           N/A             N/A        N/A    N/A             N/A\n",
      "                                                                                                                                                                                                                                                                                                                                                      https://jobinja.ir/companies/rahbord-5         استخدام در شرکت  ایده پردازان هوشمند راهبرد، آگهی های استخدام Smart Ideas Strategies Rahbord | جابینجاامکان جدید:همین حالا رزومه خود را در کمتر از ۱۰ دقیقه بسازید،برو به رزومه‌سازJobinja | جابینجا | استخدام، آگهی استخدام، کاریابی، استخدامی جدید، بازار کار، نیازمندیها، ساخت رزومه رایگان، کار و استخدام دولتی، اشتغال، جستجوگر حرفه ای استخدام و شغلخانهجستجوی مشاغلرزومه‌ساز۵۰ شرکت برتربخش کارفرمایانورود کارجوثبت‌نام کارجوورود کارجوثبت‌نام کارجو۱جابینجا چطور به استخدام شدن من کمک می‌کند؟مشاهدهمشاهده بیشترایده پردازان هوشمند راهبرد|Smart Ideas Strategies Rahbordتاسیس در  ۱۳۹۴کامپیوتر، فناوری اطلاعات و اینترنت۱۱ تا ۵۰ نفرrahbord.orgدر یک نگاهمعرفیفرصت‌های شغلی۲شرکت راهبرد از سال 1394 با رویکردی نوآورانه و تخصصی در حوزه‌های اتوماسیون اداری، اصناف و پلتفرم‌های مبتنی بر بلاکچین و رمزارز فعالیت خود را آغاز کرده است.موقعیت مکانیتهران، تهراناعضای شرکتمهرداد خانبانیمدیرعاملنوآوری در سطح بین المللی و حضور در کنار تیمی جوان و متخصص تجربه ی کاری لذت بخشی را برای تک تک اعضای مجموعه فراهم کرده و صمیمیت سا       N/A      N/A          N/A          N/A           N/A             N/A        N/A    N/A             N/A\n",
      "                                                                                                                                                                                                                                                                                                                                                                https://jobinja.ir/join/user                                                                                                                                                                                                                                                                                                                                                                                                 ثبت نام کارجو | جابینجاثبت نام کارجو | جابینجاJobinjaکارفرما هستید؟ایجاد حساب کاربریورود کارجوثبت‌‌نام کارجوimage/svg+xmlbtn_google_light_normal_iosbtn_google_light_normal_iosCreated with Sketch.ثبت نام با گوگلثبت نام با لینکدینآدرس ایمیلنام و نام‌ خانوادگیانتخاب رمز عبورتکرار رمز عبورجابینجا چه کمکی به من می‌کنه؟رایگانهمین حالا در جابینجا ثبت‌نام کن و رزومه‌ات رو برای آگهی‌های استخدام شرکت‌های معتبر بفرست.جستجوی در آگهی‌های استخدام ۱۰,۹۸۷ شرکت معتبر و ارسال رزومه با یک کلیکدریافت فرصت‌های شغلیجدیدمرتبط از طریق ایمیل\\n                (Job Alert)رزومه‌ساز استانداردشناخت محیط کار و فرهنگ سازمانی شرکت‌های در حال استخدام       N/A      N/A          N/A          N/A           N/A             N/A        N/A    N/A             N/A\n",
      "                                                                                                                                                                                                           https://jobinja.ir/jobs?filters%5Bjob_categories%5D%5B%5D=%DA%A9%D8%A7%D8%B1%D8%B4%D9%86%D8%A7%D8%B3+%D8%AD%D9%82%D9%88%D9%82%DB%8C%D8%8C%E2%80%8C+%D9%88%DA%A9%D8%A7%D9%84%D8%AA        استخدام وکیل | استخدام مشاور حقوقی | استخدام کارشناس حقوقی\\n | جابینجاامکان جدید:همین حالا رزومه خود را در کمتر از ۱۰ دقیقه بسازید،برو به رزومه‌سازJobinja | جابینجا | استخدام، آگهی استخدام، کاریابی، استخدامی جدید، بازار کار، نیازمندیها، ساخت رزومه رایگان، کار و استخدام دولتی، اشتغال، جستجوگر حرفه ای استخدام و شغلخانهجستجوی مشاغلرزومه‌ساز۵۰ شرکت برتربخش کارفرمایانورود کارجوثبت‌نام کارجوورود کارجوثبت‌نام کارجو۱جابینجا چطور به استخدام شدن من کمک می‌کند؟مشاهدهمشاهده بیشترجستجودرخواست‌های مننشان‌شده‌هاآگهی‌های پیشنهادیاز آگهی‌های جدید باخبر شوبهترین فرصت های شغلی در جابینجاهمه‌ی استان‌هاتهرانخراسان رضویاصفهانالبرزفارسقمآذربایجان شرقیمازندرانگیلانخوزستانکرمانیزدقزوینمرکزیهرمزگانگلستانزنجانسیستان و بلوچستانبوشهرآذربایجان غربیسمنانکرمانشاههمداناردبیللرستانکردستانخراسان شمالیایلامخراسان جنوبیچهارمحال بختیاریکهکیلویه و بویراحمدهمه‌ی دسته‌بندی‌هاکارشناس حقوقی،‌ وکالتفروش و بازاریابیوب،‌ برنامه‌نویسی و نرم‌افزارمالی و حسابداریمسئول دفتر، اجرائی و اداریتولید و مدیریت محتوادیجیتال مارکتینگپشتیبانی و        N/A      N/A          N/A          N/A           N/A             N/A        N/A    N/A             N/A\n",
      "                                                                                                                                                                                                                                                                                                                                                          https://jobinja.ir/companies/hasin         استخدام در شرکت گروه حصین، آگهی های استخدام Hasin Technology | جابینجاامکان جدید:همین حالا رزومه خود را در کمتر از ۱۰ دقیقه بسازید،برو به رزومه‌سازJobinja | جابینجا | استخدام، آگهی استخدام، کاریابی، استخدامی جدید، بازار کار، نیازمندیها، ساخت رزومه رایگان، کار و استخدام دولتی، اشتغال، جستجوگر حرفه ای استخدام و شغلخانهجستجوی مشاغلرزومه‌ساز۵۰ شرکت برتربخش کارفرمایانورود کارجوثبت‌نام کارجوورود کارجوثبت‌نام کارجو۱جابینجا چطور به استخدام شدن من کمک می‌کند؟مشاهدهمشاهده بیشترگروه حصین|Hasin Technologyتاسیس در  ۱۳۸۳کامپیوتر، فناوری اطلاعات و اینترنت۵۰۱ تا ۱۰۰۰ نفرwww.hasin.irدر یک نگاهمعرفیفرصت‌های شغلی۲۱محیط کاری حصین جاییه که استعدادها شکوفا می‌شن، ایده‌ها به وجود میان و نوآوری هیچ حد و مرزی نمی‌شناسه.موقعیت مکانیتهران، تهراناعضای شرکتکمیل کمالمدیر فنی شرکت مایکتکار کردن با همکا‌رهای حرفه‌ای در محیطی صمیمی و پویا، از ویژگی‌های بارزی است که می‌شه تو حصین تجربه کرد. حصین به همه این فرصت رو می‌ده که نتیجهٔ ایده‌ها و پیشنهادات خلاقانهٔ خود رو در جهت بهبود تجربهٔ کاربری میلیون‌ها نفر مشاهده کنند.م       N/A      N/A          N/A          N/A           N/A             N/A        N/A    N/A             N/A\n",
      "                                                                                                                                                                                                                                                                                                                                                      https://jobinja.ir/companies/graph-inc         استخدام در شرکت گراف، آگهی های استخدام Graph | جابینجاامکان جدید:همین حالا رزومه خود را در کمتر از ۱۰ دقیقه بسازید،برو به رزومه‌سازJobinja | جابینجا | استخدام، آگهی استخدام، کاریابی، استخدامی جدید، بازار کار، نیازمندیها، ساخت رزومه رایگان، کار و استخدام دولتی، اشتغال، جستجوگر حرفه ای استخدام و شغلخانهجستجوی مشاغلرزومه‌ساز۵۰ شرکت برتربخش کارفرمایانورود کارجوثبت‌نام کارجوورود کارجوثبت‌نام کارجو۱جابینجا چطور به استخدام شدن من کمک می‌کند؟مشاهدهمشاهده بیشترگراف|Graphتاسیس در  ۱۳۹۴کامپیوتر، فناوری اطلاعات و اینترنت۵۱ تا ۲۰۰ نفرgraph-inc.irدر یک نگاهمعرفیفرصت‌های شغلی۵ما در گراف قبل از اینکه باهم همکار باشیم، دوستِ هم هستیم. اینجا در گراف فارغ از چارچوب‌های خشک سازمانی رابطه‌هایی صمیمانه و در قالب احترام ایجاد کردیم.موقعیت مکانیتهران، تهراناعضای شرکتمصطفی عزیزیمدیرعاملما تو گراف سعی می‌کنیم به ماهیت دانش‌بنیان بودنمون پایبند باشیم و تو محیطی دوستانه محصولات با کیفیتی رو تولید کنیم تا از این طریق بتونیم تو حوزه امنیت به شرکت‌ها و موسسات مختلف کمک کنیم تا اطلاعاتشون از آسیب‌های احتمالی در امان        N/A      N/A          N/A          N/A           N/A             N/A        N/A    N/A             N/A\n",
      "                                                                                                                                                                                                                                                  https://jobinja.ir/jobs?filters%5Bjob_categories%5D%5B%5D=%D8%AE%D8%B1%DB%8C%D8%AF+%D9%88+%D8%A8%D8%A7%D8%B2%D8%B1%DA%AF%D8%A7%D9%86%DB%8C        استخدام کارشناس خرید | استخدام کارشناس تدارکات | استخدام کارشناس بازرگانی | جابینجا\\n | جابینجاامکان جدید:همین حالا رزومه خود را در کمتر از ۱۰ دقیقه بسازید،برو به رزومه‌سازJobinja | جابینجا | استخدام، آگهی استخدام، کاریابی، استخدامی جدید، بازار کار، نیازمندیها، ساخت رزومه رایگان، کار و استخدام دولتی، اشتغال، جستجوگر حرفه ای استخدام و شغلخانهجستجوی مشاغلرزومه‌ساز۵۰ شرکت برتربخش کارفرمایانورود کارجوثبت‌نام کارجوورود کارجوثبت‌نام کارجو۱جابینجا چطور به استخدام شدن من کمک می‌کند؟مشاهدهمشاهده بیشترجستجودرخواست‌های مننشان‌شده‌هاآگهی‌های پیشنهادیاز آگهی‌های جدید باخبر شوبهترین فرصت های شغلی در جابینجاهمه‌ی استان‌هاتهرانخراسان رضویاصفهانالبرزفارسقمآذربایجان شرقیمازندرانگیلانخوزستانکرمانیزدقزوینمرکزیهرمزگانگلستانزنجانسیستان و بلوچستانبوشهرآذربایجان غربیسمنانکرمانشاههمداناردبیللرستانکردستانخراسان شمالیایلامخراسان جنوبیچهارمحال بختیاریکهکیلویه و بویراحمدهمه‌ی دسته‌بندی‌هاخرید و بازرگانیفروش و بازاریابیوب،‌ برنامه‌نویسی و نرم‌افزارمالی و حسابداریمسئول دفتر، اجرائی و اداریتولید و مدیریت محتوادیجیتال        N/A      N/A          N/A          N/A           N/A             N/A        N/A    N/A             N/A\n",
      "                                                                                                                                                                                                                                                   https://jobinja.ir/jobs?filters%5Bjob_categories%5D%5B%5D=%D8%B4%DB%8C%D9%85%DB%8C%D8%8C+%D8%AF%D8%A7%D8%B1%D9%88%D8%B3%D8%A7%D8%B2%DB%8C        استخدام داروساز | استخدام شیمی دارویی | جابینجا\\n | جابینجاامکان جدید:همین حالا رزومه خود را در کمتر از ۱۰ دقیقه بسازید،برو به رزومه‌سازJobinja | جابینجا | استخدام، آگهی استخدام، کاریابی، استخدامی جدید، بازار کار، نیازمندیها، ساخت رزومه رایگان، کار و استخدام دولتی، اشتغال، جستجوگر حرفه ای استخدام و شغلخانهجستجوی مشاغلرزومه‌ساز۵۰ شرکت برتربخش کارفرمایانورود کارجوثبت‌نام کارجوورود کارجوثبت‌نام کارجو۱جابینجا چطور به استخدام شدن من کمک می‌کند؟مشاهدهمشاهده بیشترجستجودرخواست‌های مننشان‌شده‌هاآگهی‌های پیشنهادیاز آگهی‌های جدید باخبر شوبهترین فرصت های شغلی در جابینجاهمه‌ی استان‌هاتهرانخراسان رضویاصفهانالبرزفارسقمآذربایجان شرقیمازندرانگیلانخوزستانکرمانیزدقزوینمرکزیهرمزگانگلستانزنجانسیستان و بلوچستانبوشهرآذربایجان غربیسمنانکرمانشاههمداناردبیللرستانکردستانخراسان شمالیایلامخراسان جنوبیچهارمحال بختیاریکهکیلویه و بویراحمدهمه‌ی دسته‌بندی‌هاشیمی، داروسازیفروش و بازاریابیوب،‌ برنامه‌نویسی و نرم‌افزارمالی و حسابداریمسئول دفتر، اجرائی و اداریتولید و مدیریت محتوادیجیتال مارکتینگپشتیبانی و امور مشتریانطراحیI       N/A      N/A          N/A          N/A           N/A             N/A        N/A    N/A             N/A\n",
      "                                                                                                                                                                                                                                                                                                   https://jobinja.ir/jobs?filters%5Blocations%5D%5B%5D=%DA%AF%D9%84%D8%B3%D8%AA%D8%A7%D9%86        آگهی استخدام گلستان | استخدام گلستان | کاریابی گلستان | جابینجا\\n | جابینجاامکان جدید:همین حالا رزومه خود را در کمتر از ۱۰ دقیقه بسازید،برو به رزومه‌سازJobinja | جابینجا | استخدام، آگهی استخدام، کاریابی، استخدامی جدید، بازار کار، نیازمندیها، ساخت رزومه رایگان، کار و استخدام دولتی، اشتغال، جستجوگر حرفه ای استخدام و شغلخانهجستجوی مشاغلرزومه‌ساز۵۰ شرکت برتربخش کارفرمایانورود کارجوثبت‌نام کارجوورود کارجوثبت‌نام کارجو۱جابینجا چطور به استخدام شدن من کمک می‌کند؟مشاهدهمشاهده بیشترجستجودرخواست‌های مننشان‌شده‌هاآگهی‌های پیشنهادیاز آگهی‌های جدید باخبر شوبهترین فرصت های شغلی در جابینجاهمه‌ی استان‌هاگلستانتهرانخراسان رضویاصفهانالبرزفارسقمآذربایجان شرقیمازندرانگیلانخوزستانکرمانیزدقزوینمرکزیهرمزگانزنجانسیستان و بلوچستانبوشهرآذربایجان غربیسمنانکرمانشاههمداناردبیللرستانکردستانخراسان شمالیایلامخراسان جنوبیچهارمحال بختیاریکهکیلویه و بویراحمدهمه‌ی دسته‌بندی‌هافروش و بازاریابیوب،‌ برنامه‌نویسی و نرم‌افزارمالی و حسابداریمسئول دفتر، اجرائی و اداریتولید و مدیریت محتوادیجیتال مارکتینگپشتیبانی و امور مشتریانطراح       N/A      N/A          N/A          N/A           N/A             N/A        N/A    N/A             N/A\n",
      "                                                                                                                                                                                                                                                                                      https://jobinja.ir/jobs?filters%5Bkeywords%5D%5B0%5D=%D8%AF%DB%8C%D8%AC%DB%8C+%DA%A9%D8%A7%D9%84%D8%A7        فرصت های شغلی دیجی کالا\\n | جابینجاامکان جدید:همین حالا رزومه خود را در کمتر از ۱۰ دقیقه بسازید،برو به رزومه‌سازJobinja | جابینجا | استخدام، آگهی استخدام، کاریابی، استخدامی جدید، بازار کار، نیازمندیها، ساخت رزومه رایگان، کار و استخدام دولتی، اشتغال، جستجوگر حرفه ای استخدام و شغلخانهجستجوی مشاغلرزومه‌ساز۵۰ شرکت برتربخش کارفرمایانورود کارجوثبت‌نام کارجوورود کارجوثبت‌نام کارجو۱جابینجا چطور به استخدام شدن من کمک می‌کند؟مشاهدهمشاهده بیشترجستجودرخواست‌های مننشان‌شده‌هاآگهی‌های پیشنهادیاز آگهی‌های جدید باخبر شوبهترین فرصت های شغلی در جابینجاهمه‌ی استان‌هاتهرانخراسان رضویاصفهانالبرزفارسقمآذربایجان شرقیمازندرانگیلانخوزستانکرمانیزدقزوینمرکزیهرمزگانگلستانزنجانسیستان و بلوچستانبوشهرآذربایجان غربیسمنانکرمانشاههمداناردبیللرستانکردستانخراسان شمالیایلامخراسان جنوبیچهارمحال بختیاریکهکیلویه و بویراحمدهمه‌ی دسته‌بندی‌هافروش و بازاریابیوب،‌ برنامه‌نویسی و نرم‌افزارمالی و حسابداریمسئول دفتر، اجرائی و اداریتولید و مدیریت محتوادیجیتال مارکتینگپشتیبانی و امور مشتریانطراحیIT / DevOps / Serverمهندسی صنایع و مدیر       N/A      N/A          N/A          N/A           N/A             N/A        N/A    N/A             N/A\n",
      "                                                                                                                                                                                                                                                                                                                                                                https://jobinja.ir/companies         استخدام شركت ها | جابینجاامکان جدید:همین حالا رزومه خود را در کمتر از ۱۰ دقیقه بسازید،برو به رزومه‌سازJobinja | جابینجا | استخدام، آگهی استخدام، کاریابی، استخدامی جدید، بازار کار، نیازمندیها، ساخت رزومه رایگان، کار و استخدام دولتی، اشتغال، جستجوگر حرفه ای استخدام و شغلخانهجستجوی مشاغلرزومه‌ساز۵۰ شرکت برتربخش کارفرمایانورود کارجوثبت‌نام کارجوورود کارجوثبت‌نام کارجو۱جابینجا چطور به استخدام شدن من کمک می‌کند؟مشاهدهمشاهده بیشترشرکت‌هافهرست۵۰ شرکت برترپول نو|Poolenoتهران، تهرانکامپیوتر، فناوری اطلاعات و اینترنتدر حال استخدامگروه بوران|Booran Groupتهران، تهرانکامپیوتر، فناوری اطلاعات و اینترنتدر حال استخدامپیمان|Paymanتهران، تهرانکامپیوتر، فناوری اطلاعات و اینترنتدر حال استخدامجاباما|Jabamaتهران، تهرانگردشگری و هتل‌هادر حال استخدامگلکسی ویژن|Galaxy Visionتهران، تهرانکامپیوتر، فناوری اطلاعات و اینترنتدر حال استخدامپردازشگران عصر اطلاعات|Mitwelt Data Processorsتهران، تهرانمخابرات و ارتباطات (تلکام)در حال استخداممارجینکس|Marginexتهران، تهرانمالی و اعتباریدر حال استخدامفنحاب|FanHubتهران، بومهنبی       N/A      N/A          N/A          N/A           N/A             N/A        N/A    N/A             N/A\n",
      "                                                                                                                                                                                                                                                                                                               https://jobinja.ir/jobs?filters%5Bkeywords%5D%5B0%5D=%D8%AA%D9%BE%D8%B3%DB%8C        فرصت های شغلی تپسی\\n | جابینجاامکان جدید:همین حالا رزومه خود را در کمتر از ۱۰ دقیقه بسازید،برو به رزومه‌سازJobinja | جابینجا | استخدام، آگهی استخدام، کاریابی، استخدامی جدید، بازار کار، نیازمندیها، ساخت رزومه رایگان، کار و استخدام دولتی، اشتغال، جستجوگر حرفه ای استخدام و شغلخانهجستجوی مشاغلرزومه‌ساز۵۰ شرکت برتربخش کارفرمایانورود کارجوثبت‌نام کارجوورود کارجوثبت‌نام کارجو۱جابینجا چطور به استخدام شدن من کمک می‌کند؟مشاهدهمشاهده بیشترجستجودرخواست‌های مننشان‌شده‌هاآگهی‌های پیشنهادیاز آگهی‌های جدید باخبر شوبهترین فرصت های شغلی در جابینجاهمه‌ی استان‌هاتهرانخراسان رضویاصفهانالبرزفارسقمآذربایجان شرقیمازندرانگیلانخوزستانکرمانیزدقزوینمرکزیهرمزگانگلستانزنجانسیستان و بلوچستانبوشهرآذربایجان غربیسمنانکرمانشاههمداناردبیللرستانکردستانخراسان شمالیایلامخراسان جنوبیچهارمحال بختیاریکهکیلویه و بویراحمدهمه‌ی دسته‌بندی‌هافروش و بازاریابیوب،‌ برنامه‌نویسی و نرم‌افزارمالی و حسابداریمسئول دفتر، اجرائی و اداریتولید و مدیریت محتوادیجیتال مارکتینگپشتیبانی و امور مشتریانطراحیIT / DevOps / Serverمهندسی صنایع و مدیریت صن       N/A      N/A          N/A          N/A           N/A             N/A        N/A    N/A             N/A\n",
      "                                                                                                                                                                                                                                            https://jobinja.ir/jobs?filters%5Bkeywords%5D%5B0%5D=%D8%AF%DB%8C%D8%AC%DB%8C%D8%AA%D8%A7%D9%84+%D9%85%D8%A7%D8%B1%DA%A9%D8%AA%DB%8C%D9%86%DA%AF        فرصت های شغلی دیجیتال مارکتینگ\\n | جابینجاامکان جدید:همین حالا رزومه خود را در کمتر از ۱۰ دقیقه بسازید،برو به رزومه‌سازJobinja | جابینجا | استخدام، آگهی استخدام، کاریابی، استخدامی جدید، بازار کار، نیازمندیها، ساخت رزومه رایگان، کار و استخدام دولتی، اشتغال، جستجوگر حرفه ای استخدام و شغلخانهجستجوی مشاغلرزومه‌ساز۵۰ شرکت برتربخش کارفرمایانورود کارجوثبت‌نام کارجوورود کارجوثبت‌نام کارجو۱جابینجا چطور به استخدام شدن من کمک می‌کند؟مشاهدهمشاهده بیشترجستجودرخواست‌های مننشان‌شده‌هاآگهی‌های پیشنهادیاز آگهی‌های جدید باخبر شوبهترین فرصت های شغلی در جابینجاهمه‌ی استان‌هاتهرانخراسان رضویاصفهانالبرزفارسقمآذربایجان شرقیمازندرانگیلانخوزستانکرمانیزدقزوینمرکزیهرمزگانگلستانزنجانسیستان و بلوچستانبوشهرآذربایجان غربیسمنانکرمانشاههمداناردبیللرستانکردستانخراسان شمالیایلامخراسان جنوبیچهارمحال بختیاریکهکیلویه و بویراحمدهمه‌ی دسته‌بندی‌هافروش و بازاریابیوب،‌ برنامه‌نویسی و نرم‌افزارمالی و حسابداریمسئول دفتر، اجرائی و اداریتولید و مدیریت محتوادیجیتال مارکتینگپشتیبانی و امور مشتریانطراحیIT / DevOps / Serverمهندسی صنایع       N/A      N/A          N/A          N/A           N/A             N/A        N/A    N/A             N/A\n",
      "                                                                                                                                                                                                                                                                                                   https://jobinja.ir/jobs?filters%5Blocations%5D%5B%5D=%D8%A7%D8%B5%D9%81%D9%87%D8%A7%D9%86        استخدام اصفهان | کاریابی اصفهان\\n | جابینجاامکان جدید:همین حالا رزومه خود را در کمتر از ۱۰ دقیقه بسازید،برو به رزومه‌سازJobinja | جابینجا | استخدام، آگهی استخدام، کاریابی، استخدامی جدید، بازار کار، نیازمندیها، ساخت رزومه رایگان، کار و استخدام دولتی، اشتغال، جستجوگر حرفه ای استخدام و شغلخانهجستجوی مشاغلرزومه‌ساز۵۰ شرکت برتربخش کارفرمایانورود کارجوثبت‌نام کارجوورود کارجوثبت‌نام کارجو۱جابینجا چطور به استخدام شدن من کمک می‌کند؟مشاهدهمشاهده بیشترجستجودرخواست‌های مننشان‌شده‌هاآگهی‌های پیشنهادیاز آگهی‌های جدید باخبر شوبهترین فرصت های شغلی در جابینجاهمه‌ی استان‌هااصفهانتهرانخراسان رضویالبرزفارسقمآذربایجان شرقیمازندرانگیلانخوزستانکرمانیزدقزوینمرکزیهرمزگانگلستانزنجانسیستان و بلوچستانبوشهرآذربایجان غربیسمنانکرمانشاههمداناردبیللرستانکردستانخراسان شمالیایلامخراسان جنوبیچهارمحال بختیاریکهکیلویه و بویراحمدهمه‌ی دسته‌بندی‌هافروش و بازاریابیوب،‌ برنامه‌نویسی و نرم‌افزارمالی و حسابداریمسئول دفتر، اجرائی و اداریتولید و مدیریت محتوادیجیتال مارکتینگپشتیبانی و امور مشتریانطراحیIT / DevOps / Serverمهندسی صنای       N/A      N/A          N/A          N/A           N/A             N/A        N/A    N/A             N/A\n",
      "                                                                                                                                                                      https://jobinja.ir/companies/smilinno-innovation-hub/jobs/Ao9x/%D8%A7%D8%B3%D8%AA%D8%AE%D8%AF%D8%A7%D9%85-senior-back-end-developer-dotnet-%D8%AF%D8%B1-%D8%A7%D8%B3%D9%85%D8%A7%DB%8C%D9%84%DB%8C%D9%86%D9%88?_ref=18        استخدام (Senior Back-End Developer(.DotNet در اسمایلینو | جابینجاامکان جدید:همین حالا رزومه خود را در کمتر از ۱۰ دقیقه بسازید،برو به رزومه‌سازJobinja | جابینجا | استخدام، آگهی استخدام، کاریابی، استخدامی جدید، بازار کار، نیازمندیها، ساخت رزومه رایگان، کار و استخدام دولتی، اشتغال، جستجوگر حرفه ای استخدام و شغلخانهجستجوی مشاغلرزومه‌ساز۵۰ شرکت برتربخش کارفرمایانورود کارجوثبت‌نام کارجوورود کارجوثبت‌نام کارجو۱جابینجا چطور به استخدام شدن من کمک می‌کند؟مشاهدهمشاهده بیشتراسمایلینو|Smilinnoتاسیس در  ۱۳۹۹کامپیوتر، فناوری اطلاعات و اینترنت۱۱ تا ۵۰ نفرsmilinno.com/در یک نگاهمعرفیفرصت‌های شغلی۱۰استخدام (Senior Back-End Developer(.DotNetلطفا برای مشاهده‌ی جزییات و ارسال رزومهیکی از راه‌های زیر را انتخاب کنیدورود / ثبت‌نام با ایمیلimage/svg+xmlbtn_google_light_normal_iosbtn_google_light_normal_iosCreated with Sketch.ورود / ثبت‌نام با گوگل\\n                    (Gmail)ورود / ثبت‌نام با لینکدیناستخدام (Senior Back-End Developer(.DotNet{{ tooltipText }}{{ hoverTitle }}نشان کردنحذف نشاندسته‌بندی شغلیوب،‌ بر       N/A      N/A          N/A          N/A           N/A             N/A        N/A    N/A             N/A\n",
      "                                                                                                                                                                                                                                                                                              https://jobinja.ir/jobs?filters%5Bjob_categories%5D%5B%5D=%D9%86%DA%AF%D9%87%D8%A8%D8%A7%D9%86        استخدام حراست | استخدام نگهبان\\n | جابینجاامکان جدید:همین حالا رزومه خود را در کمتر از ۱۰ دقیقه بسازید،برو به رزومه‌سازJobinja | جابینجا | استخدام، آگهی استخدام، کاریابی، استخدامی جدید، بازار کار، نیازمندیها، ساخت رزومه رایگان، کار و استخدام دولتی، اشتغال، جستجوگر حرفه ای استخدام و شغلخانهجستجوی مشاغلرزومه‌ساز۵۰ شرکت برتربخش کارفرمایانورود کارجوثبت‌نام کارجوورود کارجوثبت‌نام کارجو۱جابینجا چطور به استخدام شدن من کمک می‌کند؟مشاهدهمشاهده بیشترجستجودرخواست‌های مننشان‌شده‌هاآگهی‌های پیشنهادیاز آگهی‌های جدید باخبر شوبهترین فرصت های شغلی در جابینجاهمه‌ی استان‌هاتهرانخراسان رضویاصفهانالبرزفارسقمآذربایجان شرقیمازندرانگیلانخوزستانکرمانیزدقزوینمرکزیهرمزگانگلستانزنجانسیستان و بلوچستانبوشهرآذربایجان غربیسمنانکرمانشاههمداناردبیللرستانکردستانخراسان شمالیایلامخراسان جنوبیچهارمحال بختیاریکهکیلویه و بویراحمدهمه‌ی دسته‌بندی‌هانگهبانفروش و بازاریابیوب،‌ برنامه‌نویسی و نرم‌افزارمالی و حسابداریمسئول دفتر، اجرائی و اداریتولید و مدیریت محتوادیجیتال مارکتینگپشتیبانی و امور مشتریانطراحیIT / DevOps / Serverمهندسی       N/A      N/A          N/A          N/A           N/A             N/A        N/A    N/A             N/A\n",
      "                                                                                                                                                                                                                                                                                             https://jobinja.ir/jobs?filters%5Bkeywords%5D%5B0%5D=%DA%A9%D8%A7%D8%B1%D8%A2%D9%85%D9%88%D8%B2        فرصت های شغلی کارآموز\\n | جابینجاامکان جدید:همین حالا رزومه خود را در کمتر از ۱۰ دقیقه بسازید،برو به رزومه‌سازJobinja | جابینجا | استخدام، آگهی استخدام، کاریابی، استخدامی جدید، بازار کار، نیازمندیها، ساخت رزومه رایگان، کار و استخدام دولتی، اشتغال، جستجوگر حرفه ای استخدام و شغلخانهجستجوی مشاغلرزومه‌ساز۵۰ شرکت برتربخش کارفرمایانورود کارجوثبت‌نام کارجوورود کارجوثبت‌نام کارجو۱جابینجا چطور به استخدام شدن من کمک می‌کند؟مشاهدهمشاهده بیشترجستجودرخواست‌های مننشان‌شده‌هاآگهی‌های پیشنهادیاز آگهی‌های جدید باخبر شوبهترین فرصت های شغلی در جابینجاهمه‌ی استان‌هاتهرانخراسان رضویاصفهانالبرزفارسقمآذربایجان شرقیمازندرانگیلانخوزستانکرمانیزدقزوینمرکزیهرمزگانگلستانزنجانسیستان و بلوچستانبوشهرآذربایجان غربیسمنانکرمانشاههمداناردبیللرستانکردستانخراسان شمالیایلامخراسان جنوبیچهارمحال بختیاریکهکیلویه و بویراحمدهمه‌ی دسته‌بندی‌هافروش و بازاریابیوب،‌ برنامه‌نویسی و نرم‌افزارمالی و حسابداریمسئول دفتر، اجرائی و اداریتولید و مدیریت محتوادیجیتال مارکتینگپشتیبانی و امور مشتریانطراحیIT / DevOps / Serverمهندسی صنایع و مدیریت       N/A      N/A          N/A          N/A           N/A             N/A        N/A    N/A             N/A\n",
      "                                                                                                                                                                                                                                                                                       https://jobinja.ir/jobs?filters%5Blocations%5D%5B%5D=%D9%85%D8%A7%D8%B2%D9%86%D8%AF%D8%B1%D8%A7%D9%86        استخدام مازندران | کاریابی مازندران | آگهی استخدام مازندران\\n | جابینجاامکان جدید:همین حالا رزومه خود را در کمتر از ۱۰ دقیقه بسازید،برو به رزومه‌سازJobinja | جابینجا | استخدام، آگهی استخدام، کاریابی، استخدامی جدید، بازار کار، نیازمندیها، ساخت رزومه رایگان، کار و استخدام دولتی، اشتغال، جستجوگر حرفه ای استخدام و شغلخانهجستجوی مشاغلرزومه‌ساز۵۰ شرکت برتربخش کارفرمایانورود کارجوثبت‌نام کارجوورود کارجوثبت‌نام کارجو۱جابینجا چطور به استخدام شدن من کمک می‌کند؟مشاهدهمشاهده بیشترجستجودرخواست‌های مننشان‌شده‌هاآگهی‌های پیشنهادیاز آگهی‌های جدید باخبر شوبهترین فرصت های شغلی در جابینجاهمه‌ی استان‌هامازندرانتهرانخراسان رضویاصفهانالبرزفارسقمآذربایجان شرقیگیلانخوزستانکرمانیزدقزوینمرکزیهرمزگانگلستانزنجانسیستان و بلوچستانبوشهرآذربایجان غربیسمنانکرمانشاههمداناردبیللرستانکردستانخراسان شمالیایلامخراسان جنوبیچهارمحال بختیاریکهکیلویه و بویراحمدهمه‌ی دسته‌بندی‌هافروش و بازاریابیوب،‌ برنامه‌نویسی و نرم‌افزارمالی و حسابداریمسئول دفتر، اجرائی و اداریتولید و مدیریت محتوادیجیتال مارکتینگپشتیبانی و امور مشتریانطراحیIT        N/A      N/A          N/A          N/A           N/A             N/A        N/A    N/A             N/A\n",
      "                                                                                                                                                                                                                                                                                                                                                     https://jobinja.ir/companies/soshyant-1         استخدام در شرکت توسعه فناوری سوشیانت، آگهی های استخدام Soshyant | جابینجاامکان جدید:همین حالا رزومه خود را در کمتر از ۱۰ دقیقه بسازید،برو به رزومه‌سازJobinja | جابینجا | استخدام، آگهی استخدام، کاریابی، استخدامی جدید، بازار کار، نیازمندیها، ساخت رزومه رایگان، کار و استخدام دولتی، اشتغال، جستجوگر حرفه ای استخدام و شغلخانهجستجوی مشاغلرزومه‌ساز۵۰ شرکت برتربخش کارفرمایانورود کارجوثبت‌نام کارجوورود کارجوثبت‌نام کارجو۱جابینجا چطور به استخدام شدن من کمک می‌کند؟مشاهدهمشاهده بیشترتوسعه فناوری سوشیانت|Soshyantتاسیس در  ۱۳۹۲کامپیوتر، فناوری اطلاعات و اینترنت۵۱ تا ۲۰۰ نفرsoshyant.co/در یک نگاهمعرفیفرصت‌های شغلی۷طی سال‌های گذشته استفاده از فناوری‌های فینتکی به بخش جدایی ناپذیری از زندگی ما تبدیل شده است.موقعیت مکانیتهران، تهراناعضای شرکتبیتا حلت آبادیکارشناس تحلیل سیستم‌ها و روش‌هااينجا جاییه كه به رشد و یادگیری آدما فكر كردن و براشون مهمه كاری که بهت محول میكنن رو حتما دوست داشته باشی تا بتونی با علاقه و انگیزه انجامش بدی. برای همین در كنار رشد تیمی كه شاهدش هستی متوجه میشی كه روز به روز خودت هم دا       N/A      N/A          N/A          N/A           N/A             N/A        N/A    N/A             N/A\n",
      "                                                                                                                                                                                                                                                                                                                                 https://jobinja.ir/jobs?filters%5Bkeywords%5D%5B0%5D=django        فرصت های شغلی django\\n | جابینجاامکان جدید:همین حالا رزومه خود را در کمتر از ۱۰ دقیقه بسازید،برو به رزومه‌سازJobinja | جابینجا | استخدام، آگهی استخدام، کاریابی، استخدامی جدید، بازار کار، نیازمندیها، ساخت رزومه رایگان، کار و استخدام دولتی، اشتغال، جستجوگر حرفه ای استخدام و شغلخانهجستجوی مشاغلرزومه‌ساز۵۰ شرکت برتربخش کارفرمایانورود کارجوثبت‌نام کارجوورود کارجوثبت‌نام کارجو۱جابینجا چطور به استخدام شدن من کمک می‌کند؟مشاهدهمشاهده بیشترجستجودرخواست‌های مننشان‌شده‌هاآگهی‌های پیشنهادیاز آگهی‌های جدید باخبر شوبهترین فرصت های شغلی در جابینجاهمه‌ی استان‌هاتهرانخراسان رضویاصفهانالبرزفارسقمآذربایجان شرقیمازندرانگیلانخوزستانکرمانیزدقزوینمرکزیهرمزگانگلستانزنجانسیستان و بلوچستانبوشهرآذربایجان غربیسمنانکرمانشاههمداناردبیللرستانکردستانخراسان شمالیایلامخراسان جنوبیچهارمحال بختیاریکهکیلویه و بویراحمدهمه‌ی دسته‌بندی‌هافروش و بازاریابیوب،‌ برنامه‌نویسی و نرم‌افزارمالی و حسابداریمسئول دفتر، اجرائی و اداریتولید و مدیریت محتوادیجیتال مارکتینگپشتیبانی و امور مشتریانطراحیIT / DevOps / Serverمهندسی صنایع و مدیریت        N/A      N/A          N/A          N/A           N/A             N/A        N/A    N/A             N/A\n",
      "                                                                                                                                                                                                                                                             https://jobinja.ir/jobs?filters%5Bkeywords%5D%5B0%5D=%D8%A7%D8%AF%D9%85%DB%8C%D9%86+%D8%AF%D9%88%D8%B1+%DA%A9%D8%A7%D8%B1%DB%8C        فرصت های شغلی ادمین دور کاری\\n | جابینجاامکان جدید:همین حالا رزومه خود را در کمتر از ۱۰ دقیقه بسازید،برو به رزومه‌سازJobinja | جابینجا | استخدام، آگهی استخدام، کاریابی، استخدامی جدید، بازار کار، نیازمندیها، ساخت رزومه رایگان، کار و استخدام دولتی، اشتغال، جستجوگر حرفه ای استخدام و شغلخانهجستجوی مشاغلرزومه‌ساز۵۰ شرکت برتربخش کارفرمایانورود کارجوثبت‌نام کارجوورود کارجوثبت‌نام کارجو۱جابینجا چطور به استخدام شدن من کمک می‌کند؟مشاهدهمشاهده بیشترجستجودرخواست‌های مننشان‌شده‌هاآگهی‌های پیشنهادیاز آگهی‌های جدید باخبر شوبهترین فرصت های شغلی در جابینجاهمه‌ی استان‌هاتهرانخراسان رضویاصفهانالبرزفارسقمآذربایجان شرقیمازندرانگیلانخوزستانکرمانیزدقزوینمرکزیهرمزگانگلستانزنجانسیستان و بلوچستانبوشهرآذربایجان غربیسمنانکرمانشاههمداناردبیللرستانکردستانخراسان شمالیایلامخراسان جنوبیچهارمحال بختیاریکهکیلویه و بویراحمدهمه‌ی دسته‌بندی‌هافروش و بازاریابیوب،‌ برنامه‌نویسی و نرم‌افزارمالی و حسابداریمسئول دفتر، اجرائی و اداریتولید و مدیریت محتوادیجیتال مارکتینگپشتیبانی و امور مشتریانطراحیIT / DevOps / Serverمهندسی صنایع و       N/A      N/A          N/A          N/A           N/A             N/A        N/A    N/A             N/A\n",
      "                                                                                                                                                                                                                                                                                      https://jobinja.ir/jobs?filters%5Bjob_categories%5D%5B%5D=%D8%AD%D9%85%D9%84+%D9%88+%D9%86%D9%82%D9%84        استخدام کارشناس حمل و نقل | استخدام کارشناس لجستیک | جابینجا\\n | جابینجاامکان جدید:همین حالا رزومه خود را در کمتر از ۱۰ دقیقه بسازید،برو به رزومه‌سازJobinja | جابینجا | استخدام، آگهی استخدام، کاریابی، استخدامی جدید، بازار کار، نیازمندیها، ساخت رزومه رایگان، کار و استخدام دولتی، اشتغال، جستجوگر حرفه ای استخدام و شغلخانهجستجوی مشاغلرزومه‌ساز۵۰ شرکت برتربخش کارفرمایانورود کارجوثبت‌نام کارجوورود کارجوثبت‌نام کارجو۱جابینجا چطور به استخدام شدن من کمک می‌کند؟مشاهدهمشاهده بیشترجستجودرخواست‌های مننشان‌شده‌هاآگهی‌های پیشنهادیاز آگهی‌های جدید باخبر شوبهترین فرصت های شغلی در جابینجاهمه‌ی استان‌هاتهرانخراسان رضویاصفهانالبرزفارسقمآذربایجان شرقیمازندرانگیلانخوزستانکرمانیزدقزوینمرکزیهرمزگانگلستانزنجانسیستان و بلوچستانبوشهرآذربایجان غربیسمنانکرمانشاههمداناردبیللرستانکردستانخراسان شمالیایلامخراسان جنوبیچهارمحال بختیاریکهکیلویه و بویراحمدهمه‌ی دسته‌بندی‌هاحمل و نقلفروش و بازاریابیوب،‌ برنامه‌نویسی و نرم‌افزارمالی و حسابداریمسئول دفتر، اجرائی و اداریتولید و مدیریت محتوادیجیتال مارکتینگپشتیبانی و امور مشتری       N/A      N/A          N/A          N/A           N/A             N/A        N/A    N/A             N/A\n",
      "                                                                                                                                                                                                             https://jobinja.ir/jobs?filters%5Bjob_categories%5D%5B%5D=%D9%85%D9%87%D9%86%D8%AF%D8%B3%DB%8C+%D9%85%D8%B9%D8%AF%D9%86+%D9%88+%D9%85%D8%AA%D8%A7%D9%84%D9%88%D8%B1%DA%98%DB%8C       استخدام کارشناس متالورژی | استخدام مهندس مواد\\t | جابینجا\\n | جابینجاامکان جدید:همین حالا رزومه خود را در کمتر از ۱۰ دقیقه بسازید،برو به رزومه‌سازJobinja | جابینجا | استخدام، آگهی استخدام، کاریابی، استخدامی جدید، بازار کار، نیازمندیها، ساخت رزومه رایگان، کار و استخدام دولتی، اشتغال، جستجوگر حرفه ای استخدام و شغلخانهجستجوی مشاغلرزومه‌ساز۵۰ شرکت برتربخش کارفرمایانورود کارجوثبت‌نام کارجوورود کارجوثبت‌نام کارجو۱جابینجا چطور به استخدام شدن من کمک می‌کند؟مشاهدهمشاهده بیشترجستجودرخواست‌های مننشان‌شده‌هاآگهی‌های پیشنهادیاز آگهی‌های جدید باخبر شوبهترین فرصت های شغلی در جابینجاهمه‌ی استان‌هاتهرانخراسان رضویاصفهانالبرزفارسقمآذربایجان شرقیمازندرانگیلانخوزستانکرمانیزدقزوینمرکزیهرمزگانگلستانزنجانسیستان و بلوچستانبوشهرآذربایجان غربیسمنانکرمانشاههمداناردبیللرستانکردستانخراسان شمالیایلامخراسان جنوبیچهارمحال بختیاریکهکیلویه و بویراحمدهمه‌ی دسته‌بندی‌هامهندسی معدن و متالورژیفروش و بازاریابیوب،‌ برنامه‌نویسی و نرم‌افزارمالی و حسابداریمسئول دفتر، اجرائی و اداریتولید و مدیریت محتوادیجیتال مارکتینگپشتیبانی و ا       N/A      N/A          N/A          N/A           N/A             N/A        N/A    N/A             N/A\n",
      "                                                                                                                                                                                                                                                                                                    https://jobinja.ir/jobs?filters%5Bjob_categories%5D%5B%5D=%D8%B7%D8%B1%D8%A7%D8%AD%DB%8C        استخدام طراحی\\n | جابینجاامکان جدید:همین حالا رزومه خود را در کمتر از ۱۰ دقیقه بسازید،برو به رزومه‌سازJobinja | جابینجا | استخدام، آگهی استخدام، کاریابی، استخدامی جدید، بازار کار، نیازمندیها، ساخت رزومه رایگان، کار و استخدام دولتی، اشتغال، جستجوگر حرفه ای استخدام و شغلخانهجستجوی مشاغلرزومه‌ساز۵۰ شرکت برتربخش کارفرمایانورود کارجوثبت‌نام کارجوورود کارجوثبت‌نام کارجو۱جابینجا چطور به استخدام شدن من کمک می‌کند؟مشاهدهمشاهده بیشترجستجودرخواست‌های مننشان‌شده‌هاآگهی‌های پیشنهادیاز آگهی‌های جدید باخبر شوبهترین فرصت های شغلی در جابینجاهمه‌ی استان‌هاتهرانخراسان رضویاصفهانالبرزفارسقمآذربایجان شرقیمازندرانگیلانخوزستانکرمانیزدقزوینمرکزیهرمزگانگلستانزنجانسیستان و بلوچستانبوشهرآذربایجان غربیسمنانکرمانشاههمداناردبیللرستانکردستانخراسان شمالیایلامخراسان جنوبیچهارمحال بختیاریکهکیلویه و بویراحمدهمه‌ی دسته‌بندی‌هاطراحیفروش و بازاریابیوب،‌ برنامه‌نویسی و نرم‌افزارمالی و حسابداریمسئول دفتر، اجرائی و اداریتولید و مدیریت محتوادیجیتال مارکتینگپشتیبانی و امور مشتریانIT / DevOps / Serverمهندسی صنایع و مدیریت صنعتیکا       N/A      N/A          N/A          N/A           N/A             N/A        N/A    N/A             N/A\n",
      "                                                                                                       https://jobinja.ir/companies/yasspa/jobs/AmyE/%D8%A7%D8%B3%D8%AA%D8%AE%D8%AF%D8%A7%D9%85-%DA%A9%D8%A7%D8%B1%D9%85%D9%86%D8%AF-%D9%BE%D8%B0%DB%8C%D8%B1%D8%B4-%D8%AE%D8%A7%D9%86%D9%85-%D8%B4%DB%8C%D8%B1%D8%A7%D8%B2-%D8%AF%D8%B1-%DB%8C%D8%A7%D8%B3-%D8%A7%D8%B3%D9%BE%D8%A7?_ref=18       استخدام کارمند پذیرش (خانم-شیراز) در یاس اسپا | جابینجاامکان جدید:همین حالا رزومه خود را در کمتر از ۱۰ دقیقه بسازید،برو به رزومه‌سازJobinja | جابینجا | استخدام، آگهی استخدام، کاریابی، استخدامی جدید، بازار کار، نیازمندیها، ساخت رزومه رایگان، کار و استخدام دولتی، اشتغال، جستجوگر حرفه ای استخدام و شغلخانهجستجوی مشاغلرزومه‌ساز۵۰ شرکت برتربخش کارفرمایانورود کارجوثبت‌نام کارجوورود کارجوثبت‌نام کارجو۱جابینجا چطور به استخدام شدن من کمک می‌کند؟مشاهدهمشاهده بیشتریاس اسپا|YasSpaگردشگری و هتل‌ها۵۱ تا ۲۰۰ نفرفرصت‌های شغلی۱استخدام کارمند پذیرش (خانم-شیراز)لطفا برای مشاهده‌ی جزییات و ارسال رزومهیکی از راه‌های زیر را انتخاب کنیدورود / ثبت‌نام با ایمیلimage/svg+xmlbtn_google_light_normal_iosbtn_google_light_normal_iosCreated with Sketch.ورود / ثبت‌نام با گوگل\\n                    (Gmail)ورود / ثبت‌نام با لینکدیناستخدام کارمند پذیرش (خانم-شیراز){{ tooltipText }}{{ hoverTitle }}نشان کردنحذف نشاندسته‌بندی شغلیروابط عمومیموقعیت مکانیفارس\\n                                                ، شیرازنوع همکاریتمام        N/A      N/A          N/A          N/A           N/A             N/A        N/A    N/A             N/A\n",
      "                                                                                                                                                                                                                                                                                                                                             https://jobinja.ir/companies/keihan-tabdil/jobs      فرصت‌های شغلی فعال در کیهان تبدیل | Keihan Tabdil | جابینجاامکان جدید:همین حالا رزومه خود را در کمتر از ۱۰ دقیقه بسازید،برو به رزومه‌سازJobinja | جابینجا | استخدام، آگهی استخدام، کاریابی، استخدامی جدید، بازار کار، نیازمندیها، ساخت رزومه رایگان، کار و استخدام دولتی، اشتغال، جستجوگر حرفه ای استخدام و شغلخانهجستجوی مشاغلرزومه‌ساز۵۰ شرکت برتربخش کارفرمایانورود کارجوثبت‌نام کارجوورود کارجوثبت‌نام کارجو۱جابینجا چطور به استخدام شدن من کمک می‌کند؟مشاهدهمشاهده بیشترکیهان تبدیل|Keihan Tabdilنفت و گاز۲ - ۱۰ نفرkeihantabdil.comفرصت‌های شغلی۲معرفی کیهان تبدیلپیمانکار حوزه نفت و گاز با رویکرد خدمات تخصصی HSE از قبیل :1) تامین نیروی انسانی2) تامین تجهیزات3) نگارش دستور العمل ها و...فرصت‌های شغلی فعال در کیهان تبدیل|Keihan Tabdilکارمند اداری(۱۸ روز پیش)کیهان تبدیل | Keihan Tabdilتهران، تهرانقرارداد\\n              تمام‌وقت(برای\\n                مشاهده حقوق وارد شوید)ارسال\\n              رزومه{{ tooltipText }}{{ hoverTitle }}نشان کردنحذف نشانحسابدار(۵۶ روز پیش)کیهان تبدیل | Keihan Tabdilتهران، تهرانقرارداد       N/A      N/A          N/A          N/A           N/A             N/A        N/A    N/A             N/A\n",
      "                                                                                                                                                           https://jobinja.ir/companies/zhaket/jobs/AmyT/%D8%A7%D8%B3%D8%AA%D8%AE%D8%AF%D8%A7%D9%85-%DA%A9%D8%A7%D8%B1%D8%B4%D9%86%D8%A7%D8%B3-%D8%A7%D8%B1%D8%B4%D8%AF-%D8%B3%D8%A6%D9%88-seo-%D8%AF%D8%B1-%DA%98%D8%A7%DA%A9%D8%AA?_ref=18       استخدام کارشناس ارشد سئو (SEO) در ژاکت | جابینجاامکان جدید:همین حالا رزومه خود را در کمتر از ۱۰ دقیقه بسازید،برو به رزومه‌سازJobinja | جابینجا | استخدام، آگهی استخدام، کاریابی، استخدامی جدید، بازار کار، نیازمندیها، ساخت رزومه رایگان، کار و استخدام دولتی، اشتغال، جستجوگر حرفه ای استخدام و شغلخانهجستجوی مشاغلرزومه‌ساز۵۰ شرکت برتربخش کارفرمایانورود کارجوثبت‌نام کارجوورود کارجوثبت‌نام کارجو۱جابینجا چطور به استخدام شدن من کمک می‌کند؟مشاهدهمشاهده بیشترژاکت|Zhaketکامپیوتر، فناوری اطلاعات و اینترنت۵۱ تا ۲۰۰ نفرzhaket.comفرصت‌های شغلی۶استخدام کارشناس ارشد سئو (SEO)لطفا برای مشاهده‌ی جزییات و ارسال رزومهیکی از راه‌های زیر را انتخاب کنیدورود / ثبت‌نام با ایمیلimage/svg+xmlbtn_google_light_normal_iosbtn_google_light_normal_iosCreated with Sketch.ورود / ثبت‌نام با گوگل\\n                    (Gmail)ورود / ثبت‌نام با لینکدیناستخدام کارشناس ارشد سئو (SEO){{ tooltipText }}{{ hoverTitle }}نشان کردنحذف نشاندسته‌بندی شغلیدیجیتال مارکتینگموقعیت مکانیتهران\\n                                                ، تهر       N/A      N/A          N/A          N/A           N/A             N/A        N/A    N/A             N/A\n",
      "                                                                                                                                                           https://jobinja.ir/jobs?filters%5Bjob_categories%5D%5B%5D=%D9%85%D9%87%D9%86%D8%AF%D8%B3%DB%8C+%D9%86%D8%B3%D8%A7%D8%AC%DB%8C%D8%8C+%D8%B7%D8%B1%D8%A7%D8%AD%DB%8C+%D9%BE%D8%A7%D8%B1%DA%86%D9%87+%D9%88+%D9%84%D8%A8%D8%A7%D8%B3        استخدام طراح لباس | استخدام مهندس نساجی\\n | جابینجاامکان جدید:همین حالا رزومه خود را در کمتر از ۱۰ دقیقه بسازید،برو به رزومه‌سازJobinja | جابینجا | استخدام، آگهی استخدام، کاریابی، استخدامی جدید، بازار کار، نیازمندیها، ساخت رزومه رایگان، کار و استخدام دولتی، اشتغال، جستجوگر حرفه ای استخدام و شغلخانهجستجوی مشاغلرزومه‌ساز۵۰ شرکت برتربخش کارفرمایانورود کارجوثبت‌نام کارجوورود کارجوثبت‌نام کارجو۱جابینجا چطور به استخدام شدن من کمک می‌کند؟مشاهدهمشاهده بیشترجستجودرخواست‌های مننشان‌شده‌هاآگهی‌های پیشنهادیاز آگهی‌های جدید باخبر شوبهترین فرصت های شغلی در جابینجاهمه‌ی استان‌هاتهرانخراسان رضویاصفهانالبرزفارسقمآذربایجان شرقیمازندرانگیلانخوزستانکرمانیزدقزوینمرکزیهرمزگانگلستانزنجانسیستان و بلوچستانبوشهرآذربایجان غربیسمنانکرمانشاههمداناردبیللرستانکردستانخراسان شمالیایلامخراسان جنوبیچهارمحال بختیاریکهکیلویه و بویراحمدهمه‌ی دسته‌بندی‌هامهندسی نساجی، طراحی پارچه و لباسفروش و بازاریابیوب،‌ برنامه‌نویسی و نرم‌افزارمالی و حسابداریمسئول دفتر، اجرائی و اداریتولید و مدیریت محتوادیجیتال مارکتینگپشتیبانی و امور مشت       N/A      N/A          N/A          N/A           N/A             N/A        N/A    N/A             N/A\n",
      "                                                                                                                                                                                                                                                                                                               https://jobinja.ir/jobs?filters%5Bkeywords%5D%5B0%5D=%D8%B4%D8%A8%DA%A9%D9%87        فرصت های شغلی شبکه\\n | جابینجاامکان جدید:همین حالا رزومه خود را در کمتر از ۱۰ دقیقه بسازید،برو به رزومه‌سازJobinja | جابینجا | استخدام، آگهی استخدام، کاریابی، استخدامی جدید، بازار کار، نیازمندیها، ساخت رزومه رایگان، کار و استخدام دولتی، اشتغال، جستجوگر حرفه ای استخدام و شغلخانهجستجوی مشاغلرزومه‌ساز۵۰ شرکت برتربخش کارفرمایانورود کارجوثبت‌نام کارجوورود کارجوثبت‌نام کارجو۱جابینجا چطور به استخدام شدن من کمک می‌کند؟مشاهدهمشاهده بیشترجستجودرخواست‌های مننشان‌شده‌هاآگهی‌های پیشنهادیاز آگهی‌های جدید باخبر شوبهترین فرصت های شغلی در جابینجاهمه‌ی استان‌هاتهرانخراسان رضویاصفهانالبرزفارسقمآذربایجان شرقیمازندرانگیلانخوزستانکرمانیزدقزوینمرکزیهرمزگانگلستانزنجانسیستان و بلوچستانبوشهرآذربایجان غربیسمنانکرمانشاههمداناردبیللرستانکردستانخراسان شمالیایلامخراسان جنوبیچهارمحال بختیاریکهکیلویه و بویراحمدهمه‌ی دسته‌بندی‌هافروش و بازاریابیوب،‌ برنامه‌نویسی و نرم‌افزارمالی و حسابداریمسئول دفتر، اجرائی و اداریتولید و مدیریت محتوادیجیتال مارکتینگپشتیبانی و امور مشتریانطراحیIT / DevOps / Serverمهندسی صنایع و مدیریت صن       N/A      N/A          N/A          N/A           N/A             N/A        N/A    N/A             N/A\n",
      "                                                                                                                                                                                                                                                                     https://jobinja.ir/jobs?filters%5Bjob_categories%5D%5B%5D=%D8%B1%D9%88%D8%A7%D8%A8%D8%B7+%D8%B9%D9%85%D9%88%D9%85%DB%8C        استخدام مدیر روابط عمومی | استخدام روابط عمومی \\n | جابینجاامکان جدید:همین حالا رزومه خود را در کمتر از ۱۰ دقیقه بسازید،برو به رزومه‌سازJobinja | جابینجا | استخدام، آگهی استخدام، کاریابی، استخدامی جدید، بازار کار، نیازمندیها، ساخت رزومه رایگان، کار و استخدام دولتی، اشتغال، جستجوگر حرفه ای استخدام و شغلخانهجستجوی مشاغلرزومه‌ساز۵۰ شرکت برتربخش کارفرمایانورود کارجوثبت‌نام کارجوورود کارجوثبت‌نام کارجو۱جابینجا چطور به استخدام شدن من کمک می‌کند؟مشاهدهمشاهده بیشترجستجودرخواست‌های مننشان‌شده‌هاآگهی‌های پیشنهادیاز آگهی‌های جدید باخبر شوبهترین فرصت های شغلی در جابینجاهمه‌ی استان‌هاتهرانخراسان رضویاصفهانالبرزفارسقمآذربایجان شرقیمازندرانگیلانخوزستانکرمانیزدقزوینمرکزیهرمزگانگلستانزنجانسیستان و بلوچستانبوشهرآذربایجان غربیسمنانکرمانشاههمداناردبیللرستانکردستانخراسان شمالیایلامخراسان جنوبیچهارمحال بختیاریکهکیلویه و بویراحمدهمه‌ی دسته‌بندی‌هاروابط عمومیفروش و بازاریابیوب،‌ برنامه‌نویسی و نرم‌افزارمالی و حسابداریمسئول دفتر، اجرائی و اداریتولید و مدیریت محتوادیجیتال مارکتینگپشتیبانی و امور مشتریانطراحیIT /       N/A      N/A          N/A          N/A           N/A             N/A        N/A    N/A             N/A\n",
      "                                                                                                                                                                                                                                                                                                                                                                 https://jobinja.ir/in-press         جابینجا در رسانه‌ها | جابینجاامکان جدید:همین حالا رزومه خود را در کمتر از ۱۰ دقیقه بسازید،برو به رزومه‌سازJobinja | جابینجا | استخدام، آگهی استخدام، کاریابی، استخدامی جدید، بازار کار، نیازمندیها، ساخت رزومه رایگان، کار و استخدام دولتی، اشتغال، جستجوگر حرفه ای استخدام و شغلخانهجستجوی مشاغلرزومه‌ساز۵۰ شرکت برتربخش کارفرمایانورود کارجوثبت‌نام کارجوورود کارجوثبت‌نام کارجو۱جابینجا چطور به استخدام شدن من کمک می‌کند؟مشاهدهمشاهده بیشترجابینجا در رسانه‌هاگزارش اخبار رسمی از فهرست ۵۰ شرکت برتر ایران برای کار(۱۳۹۵/۱۲/۲۳)بازار کار ایران نیز در مسیر رشد خود،‌ بیش از پیش به اهمیت منابع انسانی در موفقیت سازمان واقف شده است و هدف جابینجا از انتشار فهرست شرکت‌های برتر ایران برای کار،‌ تاکید بر تلاش مثبت سازمان‌ها در برندسازی منابع انسانی است.گزارش تکرا از فهرست ۵۰ شرکت برتر ایران برای کار(۱۳۹۵/۱۲/۲۲)با نزدیک شدن به آخرین روزهای سال،‌ جابینجا فهرست ۵۰ شرکت برتر ایران در جذب و استخدام نیرو را در سه ماه پایانی سال ۱۳۹۵منتشر کرده است. این فهرست بر اساس بررسی شاخص‌های مختلف در ۹۰ روز اخیر تهیه شده است و به        N/A      N/A          N/A          N/A           N/A             N/A        N/A    N/A             N/A\n",
      "                                                                                                                                                                                                                                                                    https://jobinja.ir/jobs?filters%5Blocations%5D%5B%5D=%D8%AE%D8%B1%D8%A7%D8%B3%D8%A7%D9%86+%D8%AC%D9%86%D9%88%D8%A8%DB%8C        آگهی استخدام خراسان جنوبی | استخدام خراسان جنوبی | کاریابی خراسان جنوبی\\n | جابینجاامکان جدید:همین حالا رزومه خود را در کمتر از ۱۰ دقیقه بسازید،برو به رزومه‌سازJobinja | جابینجا | استخدام، آگهی استخدام، کاریابی، استخدامی جدید، بازار کار، نیازمندیها، ساخت رزومه رایگان، کار و استخدام دولتی، اشتغال، جستجوگر حرفه ای استخدام و شغلخانهجستجوی مشاغلرزومه‌ساز۵۰ شرکت برتربخش کارفرمایانورود کارجوثبت‌نام کارجوورود کارجوثبت‌نام کارجو۱جابینجا چطور به استخدام شدن من کمک می‌کند؟مشاهدهمشاهده بیشترجستجودرخواست‌های مننشان‌شده‌هاآگهی‌های پیشنهادیاز آگهی‌های جدید باخبر شوبهترین فرصت های شغلی در جابینجاهمه‌ی استان‌هاخراسان جنوبیتهرانخراسان رضویاصفهانالبرزفارسقمآذربایجان شرقیمازندرانگیلانخوزستانکرمانیزدقزوینمرکزیهرمزگانگلستانزنجانسیستان و بلوچستانبوشهرآذربایجان غربیسمنانکرمانشاههمداناردبیللرستانکردستانخراسان شمالیایلامچهارمحال بختیاریکهکیلویه و بویراحمدهمه‌ی دسته‌بندی‌هافروش و بازاریابیوب،‌ برنامه‌نویسی و نرم‌افزارمالی و حسابداریمسئول دفتر، اجرائی و اداریتولید و مدیریت محتوادیجیتال مارکتینگپشتیبانی و امور مشت       N/A      N/A          N/A          N/A           N/A             N/A        N/A    N/A             N/A\n",
      "                                                                                                                                                                                                                                                                                             https://jobinja.ir/jobs?filters%5Blocations%5D%5B%5D=%D9%87%D8%B1%D9%85%D8%B2%DA%AF%D8%A7%D9%86        استخدام هرمزگان | جابینجا\\n | جابینجاامکان جدید:همین حالا رزومه خود را در کمتر از ۱۰ دقیقه بسازید،برو به رزومه‌سازJobinja | جابینجا | استخدام، آگهی استخدام، کاریابی، استخدامی جدید، بازار کار، نیازمندیها، ساخت رزومه رایگان، کار و استخدام دولتی، اشتغال، جستجوگر حرفه ای استخدام و شغلخانهجستجوی مشاغلرزومه‌ساز۵۰ شرکت برتربخش کارفرمایانورود کارجوثبت‌نام کارجوورود کارجوثبت‌نام کارجو۱جابینجا چطور به استخدام شدن من کمک می‌کند؟مشاهدهمشاهده بیشترجستجودرخواست‌های مننشان‌شده‌هاآگهی‌های پیشنهادیاز آگهی‌های جدید باخبر شوبهترین فرصت های شغلی در جابینجاهمه‌ی استان‌هاهرمزگانتهرانخراسان رضویاصفهانالبرزفارسقمآذربایجان شرقیمازندرانگیلانخوزستانکرمانیزدقزوینمرکزیگلستانزنجانسیستان و بلوچستانبوشهرآذربایجان غربیسمنانکرمانشاههمداناردبیللرستانکردستانخراسان شمالیایلامخراسان جنوبیچهارمحال بختیاریکهکیلویه و بویراحمدهمه‌ی دسته‌بندی‌هافروش و بازاریابیوب،‌ برنامه‌نویسی و نرم‌افزارمالی و حسابداریمسئول دفتر، اجرائی و اداریتولید و مدیریت محتوادیجیتال مارکتینگپشتیبانی و امور مشتریانطراحیIT / DevOps / Serverمهندسی صنایع و مد       N/A      N/A          N/A          N/A           N/A             N/A        N/A    N/A             N/A\n",
      "                                                                                                                                                                                                                                                                                                   https://jobinja.ir/jobs?filters%5Bkeywords%5D%5B0%5D=%D8%A7%D8%AF%DB%8C%D8%AA%D9%88%D8%B1        فرصت های شغلی ادیتور\\n | جابینجاامکان جدید:همین حالا رزومه خود را در کمتر از ۱۰ دقیقه بسازید،برو به رزومه‌سازJobinja | جابینجا | استخدام، آگهی استخدام، کاریابی، استخدامی جدید، بازار کار، نیازمندیها، ساخت رزومه رایگان، کار و استخدام دولتی، اشتغال، جستجوگر حرفه ای استخدام و شغلخانهجستجوی مشاغلرزومه‌ساز۵۰ شرکت برتربخش کارفرمایانورود کارجوثبت‌نام کارجوورود کارجوثبت‌نام کارجو۱جابینجا چطور به استخدام شدن من کمک می‌کند؟مشاهدهمشاهده بیشترجستجودرخواست‌های مننشان‌شده‌هاآگهی‌های پیشنهادیاز آگهی‌های جدید باخبر شوبهترین فرصت های شغلی در جابینجاهمه‌ی استان‌هاتهرانخراسان رضویاصفهانالبرزفارسقمآذربایجان شرقیمازندرانگیلانخوزستانکرمانیزدقزوینمرکزیهرمزگانگلستانزنجانسیستان و بلوچستانبوشهرآذربایجان غربیسمنانکرمانشاههمداناردبیللرستانکردستانخراسان شمالیایلامخراسان جنوبیچهارمحال بختیاریکهکیلویه و بویراحمدهمه‌ی دسته‌بندی‌هافروش و بازاریابیوب،‌ برنامه‌نویسی و نرم‌افزارمالی و حسابداریمسئول دفتر، اجرائی و اداریتولید و مدیریت محتوادیجیتال مارکتینگپشتیبانی و امور مشتریانطراحیIT / DevOps / Serverمهندسی صنایع و مدیریت        N/A      N/A          N/A          N/A           N/A             N/A        N/A    N/A             N/A\n",
      "                                                                                                                                                                                          https://jobinja.ir/jobs?filters%5Bjob_categories%5D%5B%5D=%D9%85%D8%B3%D8%A6%D9%88%D9%84+%D8%AF%D9%81%D8%AA%D8%B1%D8%8C+%D8%A7%D8%AC%D8%B1%D8%A7%D8%A6%DB%8C+%D9%88+%D8%A7%D8%AF%D8%A7%D8%B1%DB%8C        استخدام منشی | استخدام کارمند دفتری | استخدام کارمند اداری | جابینجا\\n | جابینجاامکان جدید:همین حالا رزومه خود را در کمتر از ۱۰ دقیقه بسازید،برو به رزومه‌سازJobinja | جابینجا | استخدام، آگهی استخدام، کاریابی، استخدامی جدید، بازار کار، نیازمندیها، ساخت رزومه رایگان، کار و استخدام دولتی، اشتغال، جستجوگر حرفه ای استخدام و شغلخانهجستجوی مشاغلرزومه‌ساز۵۰ شرکت برتربخش کارفرمایانورود کارجوثبت‌نام کارجوورود کارجوثبت‌نام کارجو۱جابینجا چطور به استخدام شدن من کمک می‌کند؟مشاهدهمشاهده بیشترجستجودرخواست‌های مننشان‌شده‌هاآگهی‌های پیشنهادیاز آگهی‌های جدید باخبر شوبهترین فرصت های شغلی در جابینجاهمه‌ی استان‌هاتهرانخراسان رضویاصفهانالبرزفارسقمآذربایجان شرقیمازندرانگیلانخوزستانکرمانیزدقزوینمرکزیهرمزگانگلستانزنجانسیستان و بلوچستانبوشهرآذربایجان غربیسمنانکرمانشاههمداناردبیللرستانکردستانخراسان شمالیایلامخراسان جنوبیچهارمحال بختیاریکهکیلویه و بویراحمدهمه‌ی دسته‌بندی‌هامسئول دفتر، اجرائی و اداریفروش و بازاریابیوب،‌ برنامه‌نویسی و نرم‌افزارمالی و حسابداریتولید و مدیریت محتوادیجیتال مارکتینگپشتیبانی و امور مشتریا       N/A      N/A          N/A          N/A           N/A             N/A        N/A    N/A             N/A\n",
      "                                                                                                                                                                                                                                                                                       https://jobinja.ir/jobs?filters%5Bkeywords%5D%5B0%5D=%D8%AD%D8%B3%D8%A7%D8%A8%D8%AF%D8%A7%D8%B1%DB%8C        فرصت های شغلی حسابداری\\n | جابینجاامکان جدید:همین حالا رزومه خود را در کمتر از ۱۰ دقیقه بسازید،برو به رزومه‌سازJobinja | جابینجا | استخدام، آگهی استخدام، کاریابی، استخدامی جدید، بازار کار، نیازمندیها، ساخت رزومه رایگان، کار و استخدام دولتی، اشتغال، جستجوگر حرفه ای استخدام و شغلخانهجستجوی مشاغلرزومه‌ساز۵۰ شرکت برتربخش کارفرمایانورود کارجوثبت‌نام کارجوورود کارجوثبت‌نام کارجو۱جابینجا چطور به استخدام شدن من کمک می‌کند؟مشاهدهمشاهده بیشترجستجودرخواست‌های مننشان‌شده‌هاآگهی‌های پیشنهادیاز آگهی‌های جدید باخبر شوبهترین فرصت های شغلی در جابینجاهمه‌ی استان‌هاتهرانخراسان رضویاصفهانالبرزفارسقمآذربایجان شرقیمازندرانگیلانخوزستانکرمانیزدقزوینمرکزیهرمزگانگلستانزنجانسیستان و بلوچستانبوشهرآذربایجان غربیسمنانکرمانشاههمداناردبیللرستانکردستانخراسان شمالیایلامخراسان جنوبیچهارمحال بختیاریکهکیلویه و بویراحمدهمه‌ی دسته‌بندی‌هافروش و بازاریابیوب،‌ برنامه‌نویسی و نرم‌افزارمالی و حسابداریمسئول دفتر، اجرائی و اداریتولید و مدیریت محتوادیجیتال مارکتینگپشتیبانی و امور مشتریانطراحیIT / DevOps / Serverمهندسی صنایع و مدیری       N/A      N/A          N/A          N/A           N/A             N/A        N/A    N/A             N/A\n",
      "                                                                                                                                                                                                                                                                                                                                 https://jobinja.ir/jobs?filters%5Bkeywords%5D%5B0%5D=python        فرصت های شغلی python\\n | جابینجاامکان جدید:همین حالا رزومه خود را در کمتر از ۱۰ دقیقه بسازید،برو به رزومه‌سازJobinja | جابینجا | استخدام، آگهی استخدام، کاریابی، استخدامی جدید، بازار کار، نیازمندیها، ساخت رزومه رایگان، کار و استخدام دولتی، اشتغال، جستجوگر حرفه ای استخدام و شغلخانهجستجوی مشاغلرزومه‌ساز۵۰ شرکت برتربخش کارفرمایانورود کارجوثبت‌نام کارجوورود کارجوثبت‌نام کارجو۱جابینجا چطور به استخدام شدن من کمک می‌کند؟مشاهدهمشاهده بیشترجستجودرخواست‌های مننشان‌شده‌هاآگهی‌های پیشنهادیاز آگهی‌های جدید باخبر شوبهترین فرصت های شغلی در جابینجاهمه‌ی استان‌هاتهرانخراسان رضویاصفهانالبرزفارسقمآذربایجان شرقیمازندرانگیلانخوزستانکرمانیزدقزوینمرکزیهرمزگانگلستانزنجانسیستان و بلوچستانبوشهرآذربایجان غربیسمنانکرمانشاههمداناردبیللرستانکردستانخراسان شمالیایلامخراسان جنوبیچهارمحال بختیاریکهکیلویه و بویراحمدهمه‌ی دسته‌بندی‌هافروش و بازاریابیوب،‌ برنامه‌نویسی و نرم‌افزارمالی و حسابداریمسئول دفتر، اجرائی و اداریتولید و مدیریت محتوادیجیتال مارکتینگپشتیبانی و امور مشتریانطراحیIT / DevOps / Serverمهندسی صنایع و مدیریت        N/A      N/A          N/A          N/A           N/A             N/A        N/A    N/A             N/A\n",
      "                                                                                                                                                                                                                                                                                                                                                       https://jobinja.ir/companies/flightio         استخدام در شرکت فلایتیو، آگهی های استخدام Flightio | جابینجاامکان جدید:همین حالا رزومه خود را در کمتر از ۱۰ دقیقه بسازید،برو به رزومه‌سازJobinja | جابینجا | استخدام، آگهی استخدام، کاریابی، استخدامی جدید، بازار کار، نیازمندیها، ساخت رزومه رایگان، کار و استخدام دولتی، اشتغال، جستجوگر حرفه ای استخدام و شغلخانهجستجوی مشاغلرزومه‌ساز۵۰ شرکت برتربخش کارفرمایانورود کارجوثبت‌نام کارجوورود کارجوثبت‌نام کارجو۱جابینجا چطور به استخدام شدن من کمک می‌کند؟مشاهدهمشاهده بیشترفلایتیو|Flightioگردشگری و هتل‌ها۲۰۱ تا ۵۰۰ نفرflightio.comدر یک نگاهمعرفیفرصت‌های شغلی۲فلایتیو کسب و کاری آنلاین در حوزه‌ی گردشگری است.موقعیت مکانیتهران، تهراناعضای شرکتنایبمدیر عاملفعالیت در کنار حرفه‌ای‌های حوزه‌ی گردشگری و تکنولوژینیکوییمدیر امور مشتریانمحور فعالیت ما برای ارتقا تجربه‌ی کاربری است چرا که مشتری اولویت اول است.حیدریپشتیبانفعالیت ما قبل و بعد از فروش ادامه دارد و شنیدن رضایت‌مندی مشتری انگیزه‌ی ادامه‌ی راه برای ما است.حفظ و احترام به حقوق مشتری از اصول اولیه‌ی فرهنگ سازمانی فلایتیو است.کارجویانسوالات متداول کارجویان       N/A      N/A          N/A          N/A           N/A             N/A        N/A    N/A             N/A\n",
      "                                                                                                                                                                                                 https://jobinja.ir/jobs?filters%5Bjob_categories%5D%5B%5D=%DA%A9%D8%A7%D8%B1%DA%AF%D8%B1+%D8%B3%D8%A7%D8%AF%D9%87%D8%8C+%D9%86%DB%8C%D8%B1%D9%88%DB%8C+%D8%AE%D8%AF%D9%85%D8%A7%D8%AA%DB%8C        فرصت های شغلی در دسته بندی کارگر ساده، نیروی خدماتی\\n | جابینجاامکان جدید:همین حالا رزومه خود را در کمتر از ۱۰ دقیقه بسازید،برو به رزومه‌سازJobinja | جابینجا | استخدام، آگهی استخدام، کاریابی، استخدامی جدید، بازار کار، نیازمندیها، ساخت رزومه رایگان، کار و استخدام دولتی، اشتغال، جستجوگر حرفه ای استخدام و شغلخانهجستجوی مشاغلرزومه‌ساز۵۰ شرکت برتربخش کارفرمایانورود کارجوثبت‌نام کارجوورود کارجوثبت‌نام کارجو۱جابینجا چطور به استخدام شدن من کمک می‌کند؟مشاهدهمشاهده بیشترجستجودرخواست‌های مننشان‌شده‌هاآگهی‌های پیشنهادیاز آگهی‌های جدید باخبر شوبهترین فرصت های شغلی در جابینجاهمه‌ی استان‌هاتهرانخراسان رضویاصفهانالبرزفارسقمآذربایجان شرقیمازندرانگیلانخوزستانکرمانیزدقزوینمرکزیهرمزگانگلستانزنجانسیستان و بلوچستانبوشهرآذربایجان غربیسمنانکرمانشاههمداناردبیللرستانکردستانخراسان شمالیایلامخراسان جنوبیچهارمحال بختیاریکهکیلویه و بویراحمدهمه‌ی دسته‌بندی‌هاکارگر ساده، نیروی خدماتیفروش و بازاریابیوب،‌ برنامه‌نویسی و نرم‌افزارمالی و حسابداریمسئول دفتر، اجرائی و اداریتولید و مدیریت محتوادیجیتال مارکتینگپشتیبانی و امور       N/A      N/A          N/A          N/A           N/A             N/A        N/A    N/A             N/A\n",
      "                                                                                                                                                                                                                                       https://jobinja.ir/jobs?filters%5Bjob_categories%5D%5B%5D=%D8%AF%DB%8C%D8%AC%DB%8C%D8%AA%D8%A7%D9%84+%D9%85%D8%A7%D8%B1%DA%A9%D8%AA%DB%8C%D9%86%DA%AF        استخدام دیجیتال مارکتینگ | آگهی استخدام دیجیتال مارکتینگ (Digital Marketing)\\n | جابینجاامکان جدید:همین حالا رزومه خود را در کمتر از ۱۰ دقیقه بسازید،برو به رزومه‌سازJobinja | جابینجا | استخدام، آگهی استخدام، کاریابی، استخدامی جدید، بازار کار، نیازمندیها، ساخت رزومه رایگان، کار و استخدام دولتی، اشتغال، جستجوگر حرفه ای استخدام و شغلخانهجستجوی مشاغلرزومه‌ساز۵۰ شرکت برتربخش کارفرمایانورود کارجوثبت‌نام کارجوورود کارجوثبت‌نام کارجو۱جابینجا چطور به استخدام شدن من کمک می‌کند؟مشاهدهمشاهده بیشترجستجودرخواست‌های مننشان‌شده‌هاآگهی‌های پیشنهادیاز آگهی‌های جدید باخبر شوبهترین فرصت های شغلی در جابینجاهمه‌ی استان‌هاتهرانخراسان رضویاصفهانالبرزفارسقمآذربایجان شرقیمازندرانگیلانخوزستانکرمانیزدقزوینمرکزیهرمزگانگلستانزنجانسیستان و بلوچستانبوشهرآذربایجان غربیسمنانکرمانشاههمداناردبیللرستانکردستانخراسان شمالیایلامخراسان جنوبیچهارمحال بختیاریکهکیلویه و بویراحمدهمه‌ی دسته‌بندی‌هادیجیتال مارکتینگفروش و بازاریابیوب،‌ برنامه‌نویسی و نرم‌افزارمالی و حسابداریمسئول دفتر، اجرائی و اداریتولید و مدیریت محتواپشتیبانی و امو       N/A      N/A          N/A          N/A           N/A             N/A        N/A    N/A             N/A\n",
      "                                                                                                                                                                                                                                                                                                   https://jobinja.ir/jobs?filters%5Blocations%5D%5B%5D=%D8%A7%D8%B1%D8%AF%D8%A8%DB%8C%D9%84        آگهی استخدام اردبیل | استخدام اردبیل | کاریابی اردبیل | جابینجا\\n | جابینجاامکان جدید:همین حالا رزومه خود را در کمتر از ۱۰ دقیقه بسازید،برو به رزومه‌سازJobinja | جابینجا | استخدام، آگهی استخدام، کاریابی، استخدامی جدید، بازار کار، نیازمندیها، ساخت رزومه رایگان، کار و استخدام دولتی، اشتغال، جستجوگر حرفه ای استخدام و شغلخانهجستجوی مشاغلرزومه‌ساز۵۰ شرکت برتربخش کارفرمایانورود کارجوثبت‌نام کارجوورود کارجوثبت‌نام کارجو۱جابینجا چطور به استخدام شدن من کمک می‌کند؟مشاهدهمشاهده بیشترجستجودرخواست‌های مننشان‌شده‌هاآگهی‌های پیشنهادیاز آگهی‌های جدید باخبر شوبهترین فرصت های شغلی در جابینجاهمه‌ی استان‌هااردبیلتهرانخراسان رضویاصفهانالبرزفارسقمآذربایجان شرقیمازندرانگیلانخوزستانکرمانیزدقزوینمرکزیهرمزگانگلستانزنجانسیستان و بلوچستانبوشهرآذربایجان غربیسمنانکرمانشاههمدانلرستانکردستانخراسان شمالیایلامخراسان جنوبیچهارمحال بختیاریکهکیلویه و بویراحمدهمه‌ی دسته‌بندی‌هافروش و بازاریابیوب،‌ برنامه‌نویسی و نرم‌افزارمالی و حسابداریمسئول دفتر، اجرائی و اداریتولید و مدیریت محتوادیجیتال مارکتینگپشتیبانی و امور مشتریانطراح       N/A      N/A          N/A          N/A           N/A             N/A        N/A    N/A             N/A\n",
      "                                                                                                                                                                                                                                                                     https://jobinja.ir/jobs?filters%5Bjob_categories%5D%5B%5D=%D9%85%D8%AF%DB%8C%D8%B1%DB%8C%D8%AA+%D8%A8%DB%8C%D9%85%D9%87        استخدام کارشناس بیمه | آگهی استخدام بیمه | استخدام کارشناس صدور بیمه | جابینجا\\n | جابینجاامکان جدید:همین حالا رزومه خود را در کمتر از ۱۰ دقیقه بسازید،برو به رزومه‌سازJobinja | جابینجا | استخدام، آگهی استخدام، کاریابی، استخدامی جدید، بازار کار، نیازمندیها، ساخت رزومه رایگان، کار و استخدام دولتی، اشتغال، جستجوگر حرفه ای استخدام و شغلخانهجستجوی مشاغلرزومه‌ساز۵۰ شرکت برتربخش کارفرمایانورود کارجوثبت‌نام کارجوورود کارجوثبت‌نام کارجو۱جابینجا چطور به استخدام شدن من کمک می‌کند؟مشاهدهمشاهده بیشترجستجودرخواست‌های مننشان‌شده‌هاآگهی‌های پیشنهادیاز آگهی‌های جدید باخبر شوبهترین فرصت های شغلی در جابینجاهمه‌ی استان‌هاتهرانخراسان رضویاصفهانالبرزفارسقمآذربایجان شرقیمازندرانگیلانخوزستانکرمانیزدقزوینمرکزیهرمزگانگلستانزنجانسیستان و بلوچستانبوشهرآذربایجان غربیسمنانکرمانشاههمداناردبیللرستانکردستانخراسان شمالیایلامخراسان جنوبیچهارمحال بختیاریکهکیلویه و بویراحمدهمه‌ی دسته‌بندی‌هامدیریت بیمهفروش و بازاریابیوب،‌ برنامه‌نویسی و نرم‌افزارمالی و حسابداریمسئول دفتر، اجرائی و اداریتولید و مدیریت محتوادیجیتال مارکتینگپ       N/A      N/A          N/A          N/A           N/A             N/A        N/A    N/A             N/A\n",
      "                                                                                                                                                                                                                                                                                                                                      https://jobinja.ir/companies/salem-tejarat-asia-1/jobs         فرصت‌های شغلی فعال در پیوان | Pivan | جابینجاامکان جدید:همین حالا رزومه خود را در کمتر از ۱۰ دقیقه بسازید،برو به رزومه‌سازJobinja | جابینجا | استخدام، آگهی استخدام، کاریابی، استخدامی جدید، بازار کار، نیازمندیها، ساخت رزومه رایگان، کار و استخدام دولتی، اشتغال، جستجوگر حرفه ای استخدام و شغلخانهجستجوی مشاغلرزومه‌ساز۵۰ شرکت برتربخش کارفرمایانورود کارجوثبت‌نام کارجوورود کارجوثبت‌نام کارجو۱جابینجا چطور به استخدام شدن من کمک می‌کند؟مشاهدهمشاهده بیشترپیوان|Pivanتاسیس در  ۱۳۸۹واردات و صادرات۵۱ تا ۲۰۰ نفرpivan.co/در یک نگاهمعرفیفرصت‌های شغلی۷معرفی پیوانشرکت پیوان ثمره پنج دهه فعالیت مستمر بر دو اصل مشتری‌مداری و تعهد صادقانه در صنعت ایران است. ریشه‌های ما در خاکِ بازار آهن و فولاد قوام گرفته‌اند و حالا، شاخ و برگ‌هایمان با حضور متخصصان جوان و کاربلد در عرصه فروش آنلاین، بار داده است.در همه این سال‌ها، هدف ما رفع نیاز صنایع داخلی به کالای باکیفیت بوده است. ما در راستای این هدف به‌عنوان بازرگانِ آهن و فولاد همواره برای داشتن ثبات قیمت و سبد تخصصی کالا تلاش کرده‌ایم. مشاوران متخصص و کارآزموده ما در       N/A      N/A          N/A          N/A           N/A             N/A        N/A    N/A             N/A\n",
      "                                                                                                                                                                                                                                                                                                                                                          https://jobinja.ir/companies/amoot         استخدام در شرکت نرم افزاری آموت، آگهی های استخدام Amoot Software | جابینجاامکان جدید:همین حالا رزومه خود را در کمتر از ۱۰ دقیقه بسازید،برو به رزومه‌سازJobinja | جابینجا | استخدام، آگهی استخدام، کاریابی، استخدامی جدید، بازار کار، نیازمندیها، ساخت رزومه رایگان، کار و استخدام دولتی، اشتغال، جستجوگر حرفه ای استخدام و شغلخانهجستجوی مشاغلرزومه‌ساز۵۰ شرکت برتربخش کارفرمایانورود کارجوثبت‌نام کارجوورود کارجوثبت‌نام کارجو۱جابینجا چطور به استخدام شدن من کمک می‌کند؟مشاهدهمشاهده بیشترنرم افزاری آموت|Amoot Softwareتاسیس در  ۱۳۸۵کامپیوتر، فناوری اطلاعات و اینترنت۵۱ تا ۲۰۰ نفرwww.amootsoft.com/در یک نگاهمعرفیفرصت‌های شغلی۴۲آموت در سال 1386 با هدف ارائه‌ی خدمات communication و Telecommunication کار خود را آغاز کرد و سهم بزرگی در این بازار بدست آورد.موقعیت مکانیخراسان رضوی، مشهداعضای شرکتیوسف مذهبمدیر عاملما آموت را باهم ساخته‌ایم و رمز موفقیت‌مان در تشکیل تیم‌های خلاق و میدان دادن به آنهاستزکیه نسیمیکارشناس منابع انسانی و آموزشدر آموت، آموختن هرگز متوقف نمی‌شود.برای ما موفقیت مقصد نهایی نیست، بلکه پیمو       N/A      N/A          N/A          N/A           N/A             N/A        N/A    N/A             N/A\n",
      "                                                                                                                                                                                                                                                                                                               https://jobinja.ir/jobs?filters%5Bkeywords%5D%5B0%5D=%D8%AA%D8%A7%DB%8C%D9%BE        فرصت های شغلی تایپ\\n | جابینجاامکان جدید:همین حالا رزومه خود را در کمتر از ۱۰ دقیقه بسازید،برو به رزومه‌سازJobinja | جابینجا | استخدام، آگهی استخدام، کاریابی، استخدامی جدید، بازار کار، نیازمندیها، ساخت رزومه رایگان، کار و استخدام دولتی، اشتغال، جستجوگر حرفه ای استخدام و شغلخانهجستجوی مشاغلرزومه‌ساز۵۰ شرکت برتربخش کارفرمایانورود کارجوثبت‌نام کارجوورود کارجوثبت‌نام کارجو۱جابینجا چطور به استخدام شدن من کمک می‌کند؟مشاهدهمشاهده بیشترجستجودرخواست‌های مننشان‌شده‌هاآگهی‌های پیشنهادیاز آگهی‌های جدید باخبر شوبهترین فرصت های شغلی در جابینجاهمه‌ی استان‌هاتهرانخراسان رضویاصفهانالبرزفارسقمآذربایجان شرقیمازندرانگیلانخوزستانکرمانیزدقزوینمرکزیهرمزگانگلستانزنجانسیستان و بلوچستانبوشهرآذربایجان غربیسمنانکرمانشاههمداناردبیللرستانکردستانخراسان شمالیایلامخراسان جنوبیچهارمحال بختیاریکهکیلویه و بویراحمدهمه‌ی دسته‌بندی‌هافروش و بازاریابیوب،‌ برنامه‌نویسی و نرم‌افزارمالی و حسابداریمسئول دفتر، اجرائی و اداریتولید و مدیریت محتوادیجیتال مارکتینگپشتیبانی و امور مشتریانطراحیIT / DevOps / Serverمهندسی صنایع و مدیریت صن       N/A      N/A          N/A          N/A           N/A             N/A        N/A    N/A             N/A\n",
      "                                                                                                                                                                                                                                                                                                         https://jobinja.ir/jobs?filters%5Bkeywords%5D%5B0%5D=%D8%A7%D8%AF%D8%A7%D8%B1%DB%8C        فرصت های شغلی اداری\\n | جابینجاامکان جدید:همین حالا رزومه خود را در کمتر از ۱۰ دقیقه بسازید،برو به رزومه‌سازJobinja | جابینجا | استخدام، آگهی استخدام، کاریابی، استخدامی جدید، بازار کار، نیازمندیها، ساخت رزومه رایگان، کار و استخدام دولتی، اشتغال، جستجوگر حرفه ای استخدام و شغلخانهجستجوی مشاغلرزومه‌ساز۵۰ شرکت برتربخش کارفرمایانورود کارجوثبت‌نام کارجوورود کارجوثبت‌نام کارجو۱جابینجا چطور به استخدام شدن من کمک می‌کند؟مشاهدهمشاهده بیشترجستجودرخواست‌های مننشان‌شده‌هاآگهی‌های پیشنهادیاز آگهی‌های جدید باخبر شوبهترین فرصت های شغلی در جابینجاهمه‌ی استان‌هاتهرانخراسان رضویاصفهانالبرزفارسقمآذربایجان شرقیمازندرانگیلانخوزستانکرمانیزدقزوینمرکزیهرمزگانگلستانزنجانسیستان و بلوچستانبوشهرآذربایجان غربیسمنانکرمانشاههمداناردبیللرستانکردستانخراسان شمالیایلامخراسان جنوبیچهارمحال بختیاریکهکیلویه و بویراحمدهمه‌ی دسته‌بندی‌هافروش و بازاریابیوب،‌ برنامه‌نویسی و نرم‌افزارمالی و حسابداریمسئول دفتر، اجرائی و اداریتولید و مدیریت محتوادیجیتال مارکتینگپشتیبانی و امور مشتریانطراحیIT / DevOps / Serverمهندسی صنایع و مدیریت ص       N/A      N/A          N/A          N/A           N/A             N/A        N/A    N/A             N/A\n",
      "                                                                                                                                                                                                                                                                    https://jobinja.ir/jobs?filters%5Bkeywords%5D%5B0%5D=%D8%A8%D8%B1%D9%86%D8%A7%D9%85%D9%87+%D9%86%D9%88%DB%8C%D8%B3%DB%8C        فرصت های شغلی برنامه نویسی\\n | جابینجاامکان جدید:همین حالا رزومه خود را در کمتر از ۱۰ دقیقه بسازید،برو به رزومه‌سازJobinja | جابینجا | استخدام، آگهی استخدام، کاریابی، استخدامی جدید، بازار کار، نیازمندیها، ساخت رزومه رایگان، کار و استخدام دولتی، اشتغال، جستجوگر حرفه ای استخدام و شغلخانهجستجوی مشاغلرزومه‌ساز۵۰ شرکت برتربخش کارفرمایانورود کارجوثبت‌نام کارجوورود کارجوثبت‌نام کارجو۱جابینجا چطور به استخدام شدن من کمک می‌کند؟مشاهدهمشاهده بیشترجستجودرخواست‌های مننشان‌شده‌هاآگهی‌های پیشنهادیاز آگهی‌های جدید باخبر شوبهترین فرصت های شغلی در جابینجاهمه‌ی استان‌هاتهرانخراسان رضویاصفهانالبرزفارسقمآذربایجان شرقیمازندرانگیلانخوزستانکرمانیزدقزوینمرکزیهرمزگانگلستانزنجانسیستان و بلوچستانبوشهرآذربایجان غربیسمنانکرمانشاههمداناردبیللرستانکردستانخراسان شمالیایلامخراسان جنوبیچهارمحال بختیاریکهکیلویه و بویراحمدهمه‌ی دسته‌بندی‌هافروش و بازاریابیوب،‌ برنامه‌نویسی و نرم‌افزارمالی و حسابداریمسئول دفتر، اجرائی و اداریتولید و مدیریت محتوادیجیتال مارکتینگپشتیبانی و امور مشتریانطراحیIT / DevOps / Serverمهندسی صنایع و م       N/A      N/A          N/A          N/A           N/A             N/A        N/A    N/A             N/A\n",
      "                                                                                                                                                                                                                                                                                             https://jobinja.ir/jobs?filters%5Bkeywords%5D%5B0%5D=%D8%AF%D9%88%D8%B1%DA%A9%D8%A7%D8%B1%DB%8C        فرصت های شغلی دورکاری\\n | جابینجاامکان جدید:همین حالا رزومه خود را در کمتر از ۱۰ دقیقه بسازید،برو به رزومه‌سازJobinja | جابینجا | استخدام، آگهی استخدام، کاریابی، استخدامی جدید، بازار کار، نیازمندیها، ساخت رزومه رایگان، کار و استخدام دولتی، اشتغال، جستجوگر حرفه ای استخدام و شغلخانهجستجوی مشاغلرزومه‌ساز۵۰ شرکت برتربخش کارفرمایانورود کارجوثبت‌نام کارجوورود کارجوثبت‌نام کارجو۱جابینجا چطور به استخدام شدن من کمک می‌کند؟مشاهدهمشاهده بیشترجستجودرخواست‌های مننشان‌شده‌هاآگهی‌های پیشنهادیاز آگهی‌های جدید باخبر شوبهترین فرصت های شغلی در جابینجاهمه‌ی استان‌هاتهرانخراسان رضویاصفهانالبرزفارسقمآذربایجان شرقیمازندرانگیلانخوزستانکرمانیزدقزوینمرکزیهرمزگانگلستانزنجانسیستان و بلوچستانبوشهرآذربایجان غربیسمنانکرمانشاههمداناردبیللرستانکردستانخراسان شمالیایلامخراسان جنوبیچهارمحال بختیاریکهکیلویه و بویراحمدهمه‌ی دسته‌بندی‌هافروش و بازاریابیوب،‌ برنامه‌نویسی و نرم‌افزارمالی و حسابداریمسئول دفتر، اجرائی و اداریتولید و مدیریت محتوادیجیتال مارکتینگپشتیبانی و امور مشتریانطراحیIT / DevOps / Serverمهندسی صنایع و مدیریت       N/A      N/A          N/A          N/A           N/A             N/A        N/A    N/A             N/A\n",
      "                                                                                                                                                                                                                                                                    https://jobinja.ir/jobs?filters%5Bkeywords%5D%5B0%5D=%D9%85%D9%86%D8%A7%D8%A8%D8%B9+%D8%A7%D9%86%D8%B3%D8%A7%D9%86%DB%8C        فرصت های شغلی منابع انسانی\\n | جابینجاامکان جدید:همین حالا رزومه خود را در کمتر از ۱۰ دقیقه بسازید،برو به رزومه‌سازJobinja | جابینجا | استخدام، آگهی استخدام، کاریابی، استخدامی جدید، بازار کار، نیازمندیها، ساخت رزومه رایگان، کار و استخدام دولتی، اشتغال، جستجوگر حرفه ای استخدام و شغلخانهجستجوی مشاغلرزومه‌ساز۵۰ شرکت برتربخش کارفرمایانورود کارجوثبت‌نام کارجوورود کارجوثبت‌نام کارجو۱جابینجا چطور به استخدام شدن من کمک می‌کند؟مشاهدهمشاهده بیشترجستجودرخواست‌های مننشان‌شده‌هاآگهی‌های پیشنهادیاز آگهی‌های جدید باخبر شوبهترین فرصت های شغلی در جابینجاهمه‌ی استان‌هاتهرانخراسان رضویاصفهانالبرزفارسقمآذربایجان شرقیمازندرانگیلانخوزستانکرمانیزدقزوینمرکزیهرمزگانگلستانزنجانسیستان و بلوچستانبوشهرآذربایجان غربیسمنانکرمانشاههمداناردبیللرستانکردستانخراسان شمالیایلامخراسان جنوبیچهارمحال بختیاریکهکیلویه و بویراحمدهمه‌ی دسته‌بندی‌هافروش و بازاریابیوب،‌ برنامه‌نویسی و نرم‌افزارمالی و حسابداریمسئول دفتر، اجرائی و اداریتولید و مدیریت محتوادیجیتال مارکتینگپشتیبانی و امور مشتریانطراحیIT / DevOps / Serverمهندسی صنایع و م       N/A      N/A          N/A          N/A           N/A             N/A        N/A    N/A             N/A\n",
      "                                                                                                                                                                                                                                                                                                                                                  https://jobinja.ir/companies/zarinpal/jobs         فرصت‌های شغلی فعال در زرین‌پال | ZarinPal | جابینجاامکان جدید:همین حالا رزومه خود را در کمتر از ۱۰ دقیقه بسازید،برو به رزومه‌سازJobinja | جابینجا | استخدام، آگهی استخدام، کاریابی، استخدامی جدید، بازار کار، نیازمندیها، ساخت رزومه رایگان، کار و استخدام دولتی، اشتغال، جستجوگر حرفه ای استخدام و شغلخانهجستجوی مشاغلرزومه‌ساز۵۰ شرکت برتربخش کارفرمایانورود کارجوثبت‌نام کارجوورود کارجوثبت‌نام کارجو۱جابینجا چطور به استخدام شدن من کمک می‌کند؟مشاهدهمشاهده بیشترزرین‌پال|ZarinPalتاسیس در  ۱۳۸۹کامپیوتر، فناوری اطلاعات و اینترنت۵۱ تا ۲۰۰ نفرwww.zarinpal.comدر یک نگاهمعرفیفرصت‌های شغلی۱۶معرفی زرین‌پالزرین‌پال، اولین پرداخت‌یار پیشگامِ کشور است که با سبک و استانداردهای جدید، برترین سرویس‌های پرداخت الکترونیک را برای کسب‌وکارهای آنلاین و آفلاین ارائه کرده است. ما هر روزه، میلیاردها تومان را در بستر وبِ کشور، بدون کوچک‌‌ترین خطایی به گردش در‌می‌آوریم. هدف ما در زرین‌پال، افزایش سهم تجارت الکترونیک در تولید ناخالص ملی و کمک به رشد و توسعه‌ی کسب‌وکارهاست، و قصد داریم در این مسیر، با افراد پُرانرژی و کارآمد        N/A      N/A          N/A          N/A           N/A             N/A        N/A    N/A             N/A\n",
      "                                                                                                                                                                                                                                                                                                         https://jobinja.ir/jobs?filters%5Blocations%5D%5B%5D=%D9%85%D8%B1%DA%A9%D8%B2%DB%8C        آگهی استخدام مرکزی | استخدام مرکزی | کاریابی مرکزی\\n | جابینجاامکان جدید:همین حالا رزومه خود را در کمتر از ۱۰ دقیقه بسازید،برو به رزومه‌سازJobinja | جابینجا | استخدام، آگهی استخدام، کاریابی، استخدامی جدید، بازار کار، نیازمندیها، ساخت رزومه رایگان، کار و استخدام دولتی، اشتغال، جستجوگر حرفه ای استخدام و شغلخانهجستجوی مشاغلرزومه‌ساز۵۰ شرکت برتربخش کارفرمایانورود کارجوثبت‌نام کارجوورود کارجوثبت‌نام کارجو۱جابینجا چطور به استخدام شدن من کمک می‌کند؟مشاهدهمشاهده بیشترجستجودرخواست‌های مننشان‌شده‌هاآگهی‌های پیشنهادیاز آگهی‌های جدید باخبر شوبهترین فرصت های شغلی در جابینجاهمه‌ی استان‌هامرکزیتهرانخراسان رضویاصفهانالبرزفارسقمآذربایجان شرقیمازندرانگیلانخوزستانکرمانیزدقزوینهرمزگانگلستانزنجانسیستان و بلوچستانبوشهرآذربایجان غربیسمنانکرمانشاههمداناردبیللرستانکردستانخراسان شمالیایلامخراسان جنوبیچهارمحال بختیاریکهکیلویه و بویراحمدهمه‌ی دسته‌بندی‌هافروش و بازاریابیوب،‌ برنامه‌نویسی و نرم‌افزارمالی و حسابداریمسئول دفتر، اجرائی و اداریتولید و مدیریت محتوادیجیتال مارکتینگپشتیبانی و امور مشتریانطراحیIT / DevOps        N/A      N/A          N/A          N/A           N/A             N/A        N/A    N/A             N/A\n",
      "     https://jobinja.ir/companies/doornian-teb-group/jobs/AmyP/%D8%A7%D8%B3%D8%AA%D8%AE%D8%AF%D8%A7%D9%85-%DA%A9%D8%A7%D8%B1%D8%B4%D9%86%D8%A7%D8%B3-%D8%A2%D8%B2%D9%85%D8%A7%DB%8C%D8%B4%DA%AF%D8%A7%D9%87-%D8%AA%D8%B4%D8%AE%DB%8C%D8%B5-%D8%B7%D8%A8%DB%8C-%D8%AF%D8%B1-%DA%AF%D8%B1%D9%88%D9%87-%D9%BE%D8%B2%D8%B4%DA%A9%DB%8C-%D8%AF%D8%B1%D9%86%DB%8C%D8%A7%D9%86-%D8%B7%D8%A8?_ref=18        استخدام کارشناس آزمایشگاه (تشخیص طبی) در گروه پزشکی درنیان طب | جابینجاامکان جدید:همین حالا رزومه خود را در کمتر از ۱۰ دقیقه بسازید،برو به رزومه‌سازJobinja | جابینجا | استخدام، آگهی استخدام، کاریابی، استخدامی جدید، بازار کار، نیازمندیها، ساخت رزومه رایگان، کار و استخدام دولتی، اشتغال، جستجوگر حرفه ای استخدام و شغلخانهجستجوی مشاغلرزومه‌ساز۵۰ شرکت برتربخش کارفرمایانورود کارجوثبت‌نام کارجوورود کارجوثبت‌نام کارجو۱جابینجا چطور به استخدام شدن من کمک می‌کند؟مشاهدهمشاهده بیشترگروه پزشکی درنیان طب|Doornian Teb Groupخدمات درمانی، پزشکی و سلامت۵۱ تا ۲۰۰ نفرwww.doornian.irفرصت‌های شغلی۳استخدام کارشناس آزمایشگاه (تشخیص طبی)لطفا برای مشاهده‌ی جزییات و ارسال رزومهیکی از راه‌های زیر را انتخاب کنیدورود / ثبت‌نام با ایمیلimage/svg+xmlbtn_google_light_normal_iosbtn_google_light_normal_iosCreated with Sketch.ورود / ثبت‌نام با گوگل\\n                    (Gmail)ورود / ثبت‌نام با لینکدیناستخدام کارشناس آزمایشگاه (تشخیص طبی){{ tooltipText }}{{ hoverTitle }}نشان کردنحذف نشاندسته‌بندی شغلیعلوم زیستی و آزمایشگاهیم       N/A      N/A          N/A          N/A           N/A             N/A        N/A    N/A             N/A\n",
      "                                                                                                                                                                                                                                                                                                               https://jobinja.ir/jobs?filters%5Bkeywords%5D%5B0%5D=%D9%85%D8%AF%DB%8C%D8%B1        فرصت های شغلی مدیر\\n | جابینجاامکان جدید:همین حالا رزومه خود را در کمتر از ۱۰ دقیقه بسازید،برو به رزومه‌سازJobinja | جابینجا | استخدام، آگهی استخدام، کاریابی، استخدامی جدید، بازار کار، نیازمندیها، ساخت رزومه رایگان، کار و استخدام دولتی، اشتغال، جستجوگر حرفه ای استخدام و شغلخانهجستجوی مشاغلرزومه‌ساز۵۰ شرکت برتربخش کارفرمایانورود کارجوثبت‌نام کارجوورود کارجوثبت‌نام کارجو۱جابینجا چطور به استخدام شدن من کمک می‌کند؟مشاهدهمشاهده بیشترجستجودرخواست‌های مننشان‌شده‌هاآگهی‌های پیشنهادیاز آگهی‌های جدید باخبر شوبهترین فرصت های شغلی در جابینجاهمه‌ی استان‌هاتهرانخراسان رضویاصفهانالبرزفارسقمآذربایجان شرقیمازندرانگیلانخوزستانکرمانیزدقزوینمرکزیهرمزگانگلستانزنجانسیستان و بلوچستانبوشهرآذربایجان غربیسمنانکرمانشاههمداناردبیللرستانکردستانخراسان شمالیایلامخراسان جنوبیچهارمحال بختیاریکهکیلویه و بویراحمدهمه‌ی دسته‌بندی‌هافروش و بازاریابیوب،‌ برنامه‌نویسی و نرم‌افزارمالی و حسابداریمسئول دفتر، اجرائی و اداریتولید و مدیریت محتوادیجیتال مارکتینگپشتیبانی و امور مشتریانطراحیIT / DevOps / Serverمهندسی صنایع و مدیریت صن       N/A      N/A          N/A          N/A           N/A             N/A        N/A    N/A             N/A\n",
      "                                                                                                                                                                                                                         https://jobinja.ir/jobs?filters%5Bjob_categories%5D%5B%5D=%D8%AA%D9%88%D9%84%DB%8C%D8%AF+%D9%88+%D9%85%D8%AF%DB%8C%D8%B1%DB%8C%D8%AA+%D9%85%D8%AD%D8%AA%D9%88%D8%A7        استخدام تولید کننده و مدیر محتوا\\n | جابینجاامکان جدید:همین حالا رزومه خود را در کمتر از ۱۰ دقیقه بسازید،برو به رزومه‌سازJobinja | جابینجا | استخدام، آگهی استخدام، کاریابی، استخدامی جدید، بازار کار، نیازمندیها، ساخت رزومه رایگان، کار و استخدام دولتی، اشتغال، جستجوگر حرفه ای استخدام و شغلخانهجستجوی مشاغلرزومه‌ساز۵۰ شرکت برتربخش کارفرمایانورود کارجوثبت‌نام کارجوورود کارجوثبت‌نام کارجو۱جابینجا چطور به استخدام شدن من کمک می‌کند؟مشاهدهمشاهده بیشترجستجودرخواست‌های مننشان‌شده‌هاآگهی‌های پیشنهادیاز آگهی‌های جدید باخبر شوبهترین فرصت های شغلی در جابینجاهمه‌ی استان‌هاتهرانخراسان رضویاصفهانالبرزفارسقمآذربایجان شرقیمازندرانگیلانخوزستانکرمانیزدقزوینمرکزیهرمزگانگلستانزنجانسیستان و بلوچستانبوشهرآذربایجان غربیسمنانکرمانشاههمداناردبیللرستانکردستانخراسان شمالیایلامخراسان جنوبیچهارمحال بختیاریکهکیلویه و بویراحمدهمه‌ی دسته‌بندی‌هاتولید و مدیریت محتوافروش و بازاریابیوب،‌ برنامه‌نویسی و نرم‌افزارمالی و حسابداریمسئول دفتر، اجرائی و اداریدیجیتال مارکتینگپشتیبانی و امور مشتریانطراحیIT / DevOps / Serverمهندسی صنا       N/A      N/A          N/A          N/A           N/A             N/A        N/A    N/A             N/A\n",
      "                                                                                                                                                                                                                                                                                                                               https://jobinja.ir/jobs?filters%5Bjob_categories%5D%5B%5D=CEO        استخدام مدیر عامل | استخدام CEO | استخدام مدیر کارخانه\\n | جابینجاامکان جدید:همین حالا رزومه خود را در کمتر از ۱۰ دقیقه بسازید،برو به رزومه‌سازJobinja | جابینجا | استخدام، آگهی استخدام، کاریابی، استخدامی جدید، بازار کار، نیازمندیها، ساخت رزومه رایگان، کار و استخدام دولتی، اشتغال، جستجوگر حرفه ای استخدام و شغلخانهجستجوی مشاغلرزومه‌ساز۵۰ شرکت برتربخش کارفرمایانورود کارجوثبت‌نام کارجوورود کارجوثبت‌نام کارجو۱جابینجا چطور به استخدام شدن من کمک می‌کند؟مشاهدهمشاهده بیشترجستجودرخواست‌های مننشان‌شده‌هاآگهی‌های پیشنهادیاز آگهی‌های جدید باخبر شوبهترین فرصت های شغلی در جابینجاهمه‌ی استان‌هاتهرانخراسان رضویاصفهانالبرزفارسقمآذربایجان شرقیمازندرانگیلانخوزستانکرمانیزدقزوینمرکزیهرمزگانگلستانزنجانسیستان و بلوچستانبوشهرآذربایجان غربیسمنانکرمانشاههمداناردبیللرستانکردستانخراسان شمالیایلامخراسان جنوبیچهارمحال بختیاریکهکیلویه و بویراحمدهمه‌ی دسته‌بندی‌هاCEOفروش و بازاریابیوب،‌ برنامه‌نویسی و نرم‌افزارمالی و حسابداریمسئول دفتر، اجرائی و اداریتولید و مدیریت محتوادیجیتال مارکتینگپشتیبانی و امور مشتریانطراحیIT /        N/A      N/A          N/A          N/A           N/A             N/A        N/A    N/A             N/A\n",
      "                                                                                                                                                                                                                                                                                             https://jobinja.ir/jobs?filters%5Bkeywords%5D%5B0%5D=%D8%AA%D8%A7%DB%8C%D9%BE%DB%8C%D8%B3%D8%AA        فرصت های شغلی تایپیست\\n | جابینجاامکان جدید:همین حالا رزومه خود را در کمتر از ۱۰ دقیقه بسازید،برو به رزومه‌سازJobinja | جابینجا | استخدام، آگهی استخدام، کاریابی، استخدامی جدید، بازار کار، نیازمندیها، ساخت رزومه رایگان، کار و استخدام دولتی، اشتغال، جستجوگر حرفه ای استخدام و شغلخانهجستجوی مشاغلرزومه‌ساز۵۰ شرکت برتربخش کارفرمایانورود کارجوثبت‌نام کارجوورود کارجوثبت‌نام کارجو۱جابینجا چطور به استخدام شدن من کمک می‌کند؟مشاهدهمشاهده بیشترجستجودرخواست‌های مننشان‌شده‌هاآگهی‌های پیشنهادیاز آگهی‌های جدید باخبر شوبهترین فرصت های شغلی در جابینجاهمه‌ی استان‌هاتهرانخراسان رضویاصفهانالبرزفارسقمآذربایجان شرقیمازندرانگیلانخوزستانکرمانیزدقزوینمرکزیهرمزگانگلستانزنجانسیستان و بلوچستانبوشهرآذربایجان غربیسمنانکرمانشاههمداناردبیللرستانکردستانخراسان شمالیایلامخراسان جنوبیچهارمحال بختیاریکهکیلویه و بویراحمدهمه‌ی دسته‌بندی‌هافروش و بازاریابیوب،‌ برنامه‌نویسی و نرم‌افزارمالی و حسابداریمسئول دفتر، اجرائی و اداریتولید و مدیریت محتوادیجیتال مارکتینگپشتیبانی و امور مشتریانطراحیIT / DevOps / Serverمهندسی صنایع و مدیریت       N/A      N/A          N/A          N/A           N/A             N/A        N/A    N/A             N/A\n",
      "                                                                                                                                                                                                                                                                                                                                                                 https://jobinja.ir/employer         جذب نیرو | ثبت آگهی استخدام | جابینجاخانهتعرفه‌هابخش کارجویانورود کارفرماثبت نام کارفرماخانهتعرفه‌هاورود کارفرماثبت نام کارفرمابخش کارجویان|ورود کارفرما|ثبت نام کارفرماسریع‌ترین و به‌صرفه‌ترین ابزار استخدامبا درج آگهی استخدام در جابینجا، همین امروز فرصت شغلی شرکت خود را به متخصصان ایرانی اطلاع‌رسانی کنید.٪۶۰تخفیفدرج آگهی استخدامانتشار اولین آگهی با ۶۰٪ تخفیف - ۹۰ هزار تومانانتشار در فهرست فرصت‌های شغلیآگهی شما  ۶۰ روز در فهرست فرصت‌های شغلی سایت جابینجا منتشر می‌شود و در معرض دید میلیون‌ها کارجو قرار می‌گیرد.اطلاع‌رسانی گسترده به کارجویان مرتبطآگهی  شما به کارجویانی که سابقه مرتبط با آن دارند به صورت گسترده از روش‌های مختلف اطلاع‌رسانی می‌شود.گارانتی ۱۰۰٪ رضایت و بازگشت پولبا خیال راحت از امکانات جابینجا استفاده کنید در صورت عدم رضایت، بدون هیچ قید و شرط مبلغ پرداختی را دریافت کنید.جابینجا چه ویژگی‌هایی دارد؟انتشار آگهی استخداممدیریت رزومه‌هاتعیین وضعیت رزومهتیم استخدامجستجو در رزومه‌هانشان کردن رزومه‌یادداشت‌های رزومه‌برند کارفرماییآمار عملکردرزومه‌های پیشنهادیشتابدهی آگهیپشتیبانی درج       N/A      N/A          N/A          N/A           N/A             N/A        N/A    N/A             N/A\n",
      "                                                          https://jobinja.ir/companies/norahand/jobs/Amqc/%D8%A7%D8%B3%D8%AA%D8%AE%D8%AF%D8%A7%D9%85-%D8%A8%D8%B1%D9%86%D8%A7%D9%85%D9%87-%D9%86%D9%88%DB%8C%D8%B3-front-end-vue-js-%D8%AF%D8%B1-%D9%86%D9%88-%D8%B1%D9%87-%D8%A7%D9%86%D8%AF%DB%8C%D8%B4%D8%A7%D9%86-%D8%AA%DB%8C%D8%B3%D8%A7-%D9%86%D9%88-%D8%B1%D9%87%D9%86%D8%AF?_ref=18        استخدام برنامه‌نویس (Front-End (Vue.Js در نو ره‌اندیشان تیسا (نو رهند) | جابینجاامکان جدید:همین حالا رزومه خود را در کمتر از ۱۰ دقیقه بسازید،برو به رزومه‌سازJobinja | جابینجا | استخدام، آگهی استخدام، کاریابی، استخدامی جدید، بازار کار، نیازمندیها، ساخت رزومه رایگان، کار و استخدام دولتی، اشتغال، جستجوگر حرفه ای استخدام و شغلخانهجستجوی مشاغلرزومه‌ساز۵۰ شرکت برتربخش کارفرمایانورود کارجوثبت‌نام کارجوورود کارجوثبت‌نام کارجو۱جابینجا چطور به استخدام شدن من کمک می‌کند؟مشاهدهمشاهده بیشترنو ره‌اندیشان تیسا (نو رهند)|Norahandکامپیوتر، فناوری اطلاعات و اینترنت۲ - ۱۰ نفرNorahand.comفرصت‌های شغلی۱استخدام برنامه‌نویس (Front-End (Vue.Jsلطفا برای مشاهده‌ی جزییات و ارسال رزومهیکی از راه‌های زیر را انتخاب کنیدورود / ثبت‌نام با ایمیلimage/svg+xmlbtn_google_light_normal_iosbtn_google_light_normal_iosCreated with Sketch.ورود / ثبت‌نام با گوگل\\n                    (Gmail)ورود / ثبت‌نام با لینکدیناستخدام برنامه‌نویس (Front-End (Vue.Js{{ tooltipText }}{{ hoverTitle }}نشان کردنحذف نشاندسته‌بندی شغلیوب،‌ برنامه‌نو       N/A      N/A          N/A          N/A           N/A             N/A        N/A    N/A             N/A\n",
      "                                                                                                                                                                                                                                                                                                                                                          https://jobinja.ir/companies/asa-1         استخدام در شرکت ویستا سامانه آسا، آگهی های استخدام ASA | جابینجاامکان جدید:همین حالا رزومه خود را در کمتر از ۱۰ دقیقه بسازید،برو به رزومه‌سازJobinja | جابینجا | استخدام، آگهی استخدام، کاریابی، استخدامی جدید، بازار کار، نیازمندیها، ساخت رزومه رایگان، کار و استخدام دولتی، اشتغال، جستجوگر حرفه ای استخدام و شغلخانهجستجوی مشاغلرزومه‌ساز۵۰ شرکت برتربخش کارفرمایانورود کارجوثبت‌نام کارجوورود کارجوثبت‌نام کارجو۱جابینجا چطور به استخدام شدن من کمک می‌کند؟مشاهدهمشاهده بیشترویستا سامانه آسا|ASAتاسیس در  ۱۳۹۱کامپیوتر، فناوری اطلاعات و اینترنت۵۰۱ تا ۱۰۰۰ نفرasax.irدر یک نگاهمعرفیفرصت‌های شغلی۲۵شرکت دانش بنیان آسا از مجموعه ای از افراد پرتلاش و خلاق تشکیل شده که تلاش می‌کنند تا آسا را به یک شرکت نرم افزاری در حوزه بازارهای مالی تبدیل کنند.موقعیت مکانیتهران، تهراناعضای شرکتشهروز جعفریمدیر واحد عملیات نرم افزارپیشرفت مداوم .... محیط صمیمی .... چالش های جذاب برای حل کردنسوگند شمستحلیلگر نرم افزاردر آسا با وجود میزان اهمیت پروژه ها و محصولاتی که مسوولیتش را برعهده داریم؛ محیطی پرتلاش، با امید و صمیمی برقر       N/A      N/A          N/A          N/A           N/A             N/A        N/A    N/A             N/A\n",
      "                                                                                                                                                                                                                                                                                https://jobinja.ir/jobs?filters%5Bkeywords%5D%5B0%5D=%D8%B7%D8%B1%D8%A7%D8%AD%DB%8C+%D8%B3%D8%A7%DB%8C%D8%AA        فرصت های شغلی طراحی سایت\\n | جابینجاامکان جدید:همین حالا رزومه خود را در کمتر از ۱۰ دقیقه بسازید،برو به رزومه‌سازJobinja | جابینجا | استخدام، آگهی استخدام، کاریابی، استخدامی جدید، بازار کار، نیازمندیها، ساخت رزومه رایگان، کار و استخدام دولتی، اشتغال، جستجوگر حرفه ای استخدام و شغلخانهجستجوی مشاغلرزومه‌ساز۵۰ شرکت برتربخش کارفرمایانورود کارجوثبت‌نام کارجوورود کارجوثبت‌نام کارجو۱جابینجا چطور به استخدام شدن من کمک می‌کند؟مشاهدهمشاهده بیشترجستجودرخواست‌های مننشان‌شده‌هاآگهی‌های پیشنهادیاز آگهی‌های جدید باخبر شوبهترین فرصت های شغلی در جابینجاهمه‌ی استان‌هاتهرانخراسان رضویاصفهانالبرزفارسقمآذربایجان شرقیمازندرانگیلانخوزستانکرمانیزدقزوینمرکزیهرمزگانگلستانزنجانسیستان و بلوچستانبوشهرآذربایجان غربیسمنانکرمانشاههمداناردبیللرستانکردستانخراسان شمالیایلامخراسان جنوبیچهارمحال بختیاریکهکیلویه و بویراحمدهمه‌ی دسته‌بندی‌هافروش و بازاریابیوب،‌ برنامه‌نویسی و نرم‌افزارمالی و حسابداریمسئول دفتر، اجرائی و اداریتولید و مدیریت محتوادیجیتال مارکتینگپشتیبانی و امور مشتریانطراحیIT / DevOps / Serverمهندسی صنایع و مدی       N/A      N/A          N/A          N/A           N/A             N/A        N/A    N/A             N/A\n",
      "                                                                                                                                                                                                                                                                                                                                  https://jobinja.ir/jobs?filters%5Bkeywords%5D%5B0%5D=react        فرصت های شغلی react\\n | جابینجاامکان جدید:همین حالا رزومه خود را در کمتر از ۱۰ دقیقه بسازید،برو به رزومه‌سازJobinja | جابینجا | استخدام، آگهی استخدام، کاریابی، استخدامی جدید، بازار کار، نیازمندیها، ساخت رزومه رایگان، کار و استخدام دولتی، اشتغال، جستجوگر حرفه ای استخدام و شغلخانهجستجوی مشاغلرزومه‌ساز۵۰ شرکت برتربخش کارفرمایانورود کارجوثبت‌نام کارجوورود کارجوثبت‌نام کارجو۱جابینجا چطور به استخدام شدن من کمک می‌کند؟مشاهدهمشاهده بیشترجستجودرخواست‌های مننشان‌شده‌هاآگهی‌های پیشنهادیاز آگهی‌های جدید باخبر شوبهترین فرصت های شغلی در جابینجاهمه‌ی استان‌هاتهرانخراسان رضویاصفهانالبرزفارسقمآذربایجان شرقیمازندرانگیلانخوزستانکرمانیزدقزوینمرکزیهرمزگانگلستانزنجانسیستان و بلوچستانبوشهرآذربایجان غربیسمنانکرمانشاههمداناردبیللرستانکردستانخراسان شمالیایلامخراسان جنوبیچهارمحال بختیاریکهکیلویه و بویراحمدهمه‌ی دسته‌بندی‌هافروش و بازاریابیوب،‌ برنامه‌نویسی و نرم‌افزارمالی و حسابداریمسئول دفتر، اجرائی و اداریتولید و مدیریت محتوادیجیتال مارکتینگپشتیبانی و امور مشتریانطراحیIT / DevOps / Serverمهندسی صنایع و مدیریت ص       N/A      N/A          N/A          N/A           N/A             N/A        N/A    N/A             N/A\n",
      "                                                                                                                                                                                                                                                                                                                                                               https://jobinja.ir/browsejobs        لیست مشاغل | آگهی کار | جستجوی کار\\n | جابینجاامکان جدید:همین حالا رزومه خود را در کمتر از ۱۰ دقیقه بسازید،برو به رزومه‌سازJobinja | جابینجا | استخدام، آگهی استخدام، کاریابی، استخدامی جدید، بازار کار، نیازمندیها، ساخت رزومه رایگان، کار و استخدام دولتی، اشتغال، جستجوگر حرفه ای استخدام و شغلخانهجستجوی مشاغلرزومه‌ساز۵۰ شرکت برتربخش کارفرمایانورود کارجوثبت‌نام کارجوورود کارجوثبت‌نام کارجو۱جابینجا چطور به استخدام شدن من کمک می‌کند؟مشاهدهمشاهده بیشترلیست مشاغللیست مشاغل بر اساس دسته‌بندی شغلی:وب، برنامه‌نویسی و نرم‌افزارفروش و بازاریابیتولید و مدیریت محتوامالی و حسابداریکارمند دفتری، اجرائی و اداریطراحیپشتیبانی و امور مشتریانمهندسی برق و الکترونیکمهندسی صنایع و مدیریت صنعتیخرید و بازرگانیمنابع انسانی و کارگزینیمهندسی مکانیک و هوافضاآموزشمهندسی عمران و معماریانبارداریمدیر محصولتحقیق بازار و تحلیل اقتصادیتحقیق و توسعهگردشگریترجمهپزشکی، پرستاری و داروییمهندسی شیمی و نفتحمل و نقلروابط عمومیکارشناس حقوقی، وکالتمهندسی معدن و متالورژیصنایع غذاییمدیریت بیمهمهندسی نساجی، طراحی پارچه و لباسمهندسی پزشکی       N/A      N/A          N/A          N/A           N/A             N/A        N/A    N/A             N/A\n",
      "                                                                                                                                                                                                                                                                                                         https://jobinja.ir/jobs?filters%5Blocations%5D%5B%5D=%D9%87%D9%85%D8%AF%D8%A7%D9%86        کاریابی همدان | استخدامی همدان | آگهی استخدام همدان\\n | جابینجاامکان جدید:همین حالا رزومه خود را در کمتر از ۱۰ دقیقه بسازید،برو به رزومه‌سازJobinja | جابینجا | استخدام، آگهی استخدام، کاریابی، استخدامی جدید، بازار کار، نیازمندیها، ساخت رزومه رایگان، کار و استخدام دولتی، اشتغال، جستجوگر حرفه ای استخدام و شغلخانهجستجوی مشاغلرزومه‌ساز۵۰ شرکت برتربخش کارفرمایانورود کارجوثبت‌نام کارجوورود کارجوثبت‌نام کارجو۱جابینجا چطور به استخدام شدن من کمک می‌کند؟مشاهدهمشاهده بیشترجستجودرخواست‌های مننشان‌شده‌هاآگهی‌های پیشنهادیاز آگهی‌های جدید باخبر شوبهترین فرصت های شغلی در جابینجاهمه‌ی استان‌هاهمدانتهرانخراسان رضویاصفهانالبرزفارسقمآذربایجان شرقیمازندرانگیلانخوزستانکرمانیزدقزوینمرکزیهرمزگانگلستانزنجانسیستان و بلوچستانبوشهرآذربایجان غربیسمنانکرمانشاهاردبیللرستانکردستانخراسان شمالیایلامخراسان جنوبیچهارمحال بختیاریکهکیلویه و بویراحمدهمه‌ی دسته‌بندی‌هافروش و بازاریابیوب،‌ برنامه‌نویسی و نرم‌افزارمالی و حسابداریمسئول دفتر، اجرائی و اداریتولید و مدیریت محتوادیجیتال مارکتینگپشتیبانی و امور مشتریانطراحیIT / DevOps       N/A      N/A          N/A          N/A           N/A             N/A        N/A    N/A             N/A\n",
      "                                                                                                                                                                                                                                                                                                    https://jobinja.ir/jobs?filters%5Bjob_categories%5D%5B%5D=%D8%A2%D9%85%D9%88%D8%B2%D8%B4        استخدام کارشناس آموزش | استخدام مشاور تحصیلی | استخدام مدرس زبان | استخدام معلم\\n | جابینجاامکان جدید:همین حالا رزومه خود را در کمتر از ۱۰ دقیقه بسازید،برو به رزومه‌سازJobinja | جابینجا | استخدام، آگهی استخدام، کاریابی، استخدامی جدید، بازار کار، نیازمندیها، ساخت رزومه رایگان، کار و استخدام دولتی، اشتغال، جستجوگر حرفه ای استخدام و شغلخانهجستجوی مشاغلرزومه‌ساز۵۰ شرکت برتربخش کارفرمایانورود کارجوثبت‌نام کارجوورود کارجوثبت‌نام کارجو۱جابینجا چطور به استخدام شدن من کمک می‌کند؟مشاهدهمشاهده بیشترجستجودرخواست‌های مننشان‌شده‌هاآگهی‌های پیشنهادیاز آگهی‌های جدید باخبر شوبهترین فرصت های شغلی در جابینجاهمه‌ی استان‌هاتهرانخراسان رضویاصفهانالبرزفارسقمآذربایجان شرقیمازندرانگیلانخوزستانکرمانیزدقزوینمرکزیهرمزگانگلستانزنجانسیستان و بلوچستانبوشهرآذربایجان غربیسمنانکرمانشاههمداناردبیللرستانکردستانخراسان شمالیایلامخراسان جنوبیچهارمحال بختیاریکهکیلویه و بویراحمدهمه‌ی دسته‌بندی‌هاآموزشفروش و بازاریابیوب،‌ برنامه‌نویسی و نرم‌افزارمالی و حسابداریمسئول دفتر، اجرائی و اداریتولید و مدیریت محتوادیجیتال مارکتینگپشتیبا       N/A      N/A          N/A          N/A           N/A             N/A        N/A    N/A             N/A\n",
      "                                                                                                                                                                                                             https://jobinja.ir/jobs?filters%5Bjob_categories%5D%5B%5D=%D9%85%D9%87%D9%86%D8%AF%D8%B3%DB%8C+%D8%A8%D8%B1%D9%82+%D9%88+%D8%A7%D9%84%DA%A9%D8%AA%D8%B1%D9%88%D9%86%DB%8C%DA%A9        استخدام مهندس برق و الکترونیک\\n | جابینجاامکان جدید:همین حالا رزومه خود را در کمتر از ۱۰ دقیقه بسازید،برو به رزومه‌سازJobinja | جابینجا | استخدام، آگهی استخدام، کاریابی، استخدامی جدید، بازار کار، نیازمندیها، ساخت رزومه رایگان، کار و استخدام دولتی، اشتغال، جستجوگر حرفه ای استخدام و شغلخانهجستجوی مشاغلرزومه‌ساز۵۰ شرکت برتربخش کارفرمایانورود کارجوثبت‌نام کارجوورود کارجوثبت‌نام کارجو۱جابینجا چطور به استخدام شدن من کمک می‌کند؟مشاهدهمشاهده بیشترجستجودرخواست‌های مننشان‌شده‌هاآگهی‌های پیشنهادیاز آگهی‌های جدید باخبر شوبهترین فرصت های شغلی در جابینجاهمه‌ی استان‌هاتهرانخراسان رضویاصفهانالبرزفارسقمآذربایجان شرقیمازندرانگیلانخوزستانکرمانیزدقزوینمرکزیهرمزگانگلستانزنجانسیستان و بلوچستانبوشهرآذربایجان غربیسمنانکرمانشاههمداناردبیللرستانکردستانخراسان شمالیایلامخراسان جنوبیچهارمحال بختیاریکهکیلویه و بویراحمدهمه‌ی دسته‌بندی‌هامهندسی برق و الکترونیکفروش و بازاریابیوب،‌ برنامه‌نویسی و نرم‌افزارمالی و حسابداریمسئول دفتر، اجرائی و اداریتولید و مدیریت محتوادیجیتال مارکتینگپشتیبانی و امور مشتریانطراحیIT / DevOps       N/A      N/A          N/A          N/A           N/A             N/A        N/A    N/A             N/A\n",
      "                                                                                                                                                                                                                                                                                                               https://jobinja.ir/jobs?filters%5Blocations%5D%5B%5D=%D9%81%D8%A7%D8%B1%D8%B3        آگهی استخدام فارس | استخدام فارس | کاریابی فارس\\n | جابینجاامکان جدید:همین حالا رزومه خود را در کمتر از ۱۰ دقیقه بسازید،برو به رزومه‌سازJobinja | جابینجا | استخدام، آگهی استخدام، کاریابی، استخدامی جدید، بازار کار، نیازمندیها، ساخت رزومه رایگان، کار و استخدام دولتی، اشتغال، جستجوگر حرفه ای استخدام و شغلخانهجستجوی مشاغلرزومه‌ساز۵۰ شرکت برتربخش کارفرمایانورود کارجوثبت‌نام کارجوورود کارجوثبت‌نام کارجو۱جابینجا چطور به استخدام شدن من کمک می‌کند؟مشاهدهمشاهده بیشترجستجودرخواست‌های مننشان‌شده‌هاآگهی‌های پیشنهادیاز آگهی‌های جدید باخبر شوبهترین فرصت های شغلی در جابینجاهمه‌ی استان‌هافارستهرانخراسان رضویاصفهانالبرزقمآذربایجان شرقیمازندرانگیلانخوزستانکرمانیزدقزوینمرکزیهرمزگانگلستانزنجانسیستان و بلوچستانبوشهرآذربایجان غربیسمنانکرمانشاههمداناردبیللرستانکردستانخراسان شمالیایلامخراسان جنوبیچهارمحال بختیاریکهکیلویه و بویراحمدهمه‌ی دسته‌بندی‌هافروش و بازاریابیوب،‌ برنامه‌نویسی و نرم‌افزارمالی و حسابداریمسئول دفتر، اجرائی و اداریتولید و مدیریت محتوادیجیتال مارکتینگپشتیبانی و امور مشتریانطراحیIT / DevOps / S       N/A      N/A          N/A          N/A           N/A             N/A        N/A    N/A             N/A\n",
      "                                                                                                                                                                                                                                                                                                         https://jobinja.ir/jobs?filters%5Blocations%5D%5B%5D=%DA%AF%DB%8C%D9%84%D8%A7%D9%86        آگهی استخدام گیلان | استخدام گیلان | کاریابی گیلان\\n | جابینجاامکان جدید:همین حالا رزومه خود را در کمتر از ۱۰ دقیقه بسازید،برو به رزومه‌سازJobinja | جابینجا | استخدام، آگهی استخدام، کاریابی، استخدامی جدید، بازار کار، نیازمندیها، ساخت رزومه رایگان، کار و استخدام دولتی، اشتغال، جستجوگر حرفه ای استخدام و شغلخانهجستجوی مشاغلرزومه‌ساز۵۰ شرکت برتربخش کارفرمایانورود کارجوثبت‌نام کارجوورود کارجوثبت‌نام کارجو۱جابینجا چطور به استخدام شدن من کمک می‌کند؟مشاهدهمشاهده بیشترجستجودرخواست‌های مننشان‌شده‌هاآگهی‌های پیشنهادیاز آگهی‌های جدید باخبر شوبهترین فرصت های شغلی در جابینجاهمه‌ی استان‌هاگیلانتهرانخراسان رضویاصفهانالبرزفارسقمآذربایجان شرقیمازندرانخوزستانکرمانیزدقزوینمرکزیهرمزگانگلستانزنجانسیستان و بلوچستانبوشهرآذربایجان غربیسمنانکرمانشاههمداناردبیللرستانکردستانخراسان شمالیایلامخراسان جنوبیچهارمحال بختیاریکهکیلویه و بویراحمدهمه‌ی دسته‌بندی‌هافروش و بازاریابیوب،‌ برنامه‌نویسی و نرم‌افزارمالی و حسابداریمسئول دفتر، اجرائی و اداریتولید و مدیریت محتوادیجیتال مارکتینگپشتیبانی و امور مشتریانطراحیIT / DevOps        N/A      N/A          N/A          N/A           N/A             N/A        N/A    N/A             N/A\n",
      "                                                                                                                                        https://jobinja.ir/companies/dental-office-41/jobs/AmqX/%D8%A7%D8%B3%D8%AA%D8%AE%D8%AF%D8%A7%D9%85-%D8%B9%DA%A9%D8%A7%D8%B3-%D9%88-%D8%A7%D8%AF%DB%8C%D8%AA%D9%88%D8%B1-%D8%AF%D8%B1-%D8%AF%D8%B1%D8%AA%D8%A7-%D8%AF%D9%86%D8%AA%D8%A7%D9%84?_ref=18       استخدام عکاس و ادیتور در درتا دنتال | جابینجاامکان جدید:همین حالا رزومه خود را در کمتر از ۱۰ دقیقه بسازید،برو به رزومه‌سازJobinja | جابینجا | استخدام، آگهی استخدام، کاریابی، استخدامی جدید، بازار کار، نیازمندیها، ساخت رزومه رایگان، کار و استخدام دولتی، اشتغال، جستجوگر حرفه ای استخدام و شغلخانهجستجوی مشاغلرزومه‌ساز۵۰ شرکت برتربخش کارفرمایانورود کارجوثبت‌نام کارجوورود کارجوثبت‌نام کارجو۱جابینجا چطور به استخدام شدن من کمک می‌کند؟مشاهدهمشاهده بیشتردرتا دنتال|Dorta Dentalخدمات درمانی، پزشکی و سلامت۲ - ۱۰ نفرفرصت‌های شغلی۱استخدام عکاس و ادیتورلطفا برای مشاهده‌ی جزییات و ارسال رزومهیکی از راه‌های زیر را انتخاب کنیدورود / ثبت‌نام با ایمیلimage/svg+xmlbtn_google_light_normal_iosbtn_google_light_normal_iosCreated with Sketch.ورود / ثبت‌نام با گوگل\\n                    (Gmail)ورود / ثبت‌نام با لینکدیناستخدام عکاس و ادیتور{{ tooltipText }}{{ hoverTitle }}نشان کردنحذف نشاندسته‌بندی شغلیتولید و مدیریت محتواموقعیت مکانیتهران\\n                                                ، تهراننوع همکاریتمام وقتحداقل       N/A      N/A          N/A          N/A           N/A             N/A        N/A    N/A             N/A\n",
      "                                                                                                                                                                                                                               https://jobinja.ir/jobs?filters%5Blocations%5D%5B%5D=%DA%A9%D9%87%DA%A9%DB%8C%D9%84%D9%88%DB%8C%D9%87+%D9%88+%D8%A8%D9%88%DB%8C%D8%B1%D8%A7%D8%AD%D9%85%D8%AF        آگهی استخدام کهگیلویه و بویراحمد | استخدام کهگیلویه و بویراحمد | کاریابی کهگیلویه و بویراحمد\\n | جابینجاامکان جدید:همین حالا رزومه خود را در کمتر از ۱۰ دقیقه بسازید،برو به رزومه‌سازJobinja | جابینجا | استخدام، آگهی استخدام، کاریابی، استخدامی جدید، بازار کار، نیازمندیها، ساخت رزومه رایگان، کار و استخدام دولتی، اشتغال، جستجوگر حرفه ای استخدام و شغلخانهجستجوی مشاغلرزومه‌ساز۵۰ شرکت برتربخش کارفرمایانورود کارجوثبت‌نام کارجوورود کارجوثبت‌نام کارجو۱جابینجا چطور به استخدام شدن من کمک می‌کند؟مشاهدهمشاهده بیشترجستجودرخواست‌های مننشان‌شده‌هاآگهی‌های پیشنهادیاز آگهی‌های جدید باخبر شوبهترین فرصت های شغلی در جابینجاهمه‌ی استان‌هاکهکیلویه و بویراحمدتهرانخراسان رضویاصفهانالبرزفارسقمآذربایجان شرقیمازندرانگیلانخوزستانکرمانیزدقزوینمرکزیهرمزگانگلستانزنجانسیستان و بلوچستانبوشهرآذربایجان غربیسمنانکرمانشاههمداناردبیللرستانکردستانخراسان شمالیایلامخراسان جنوبیچهارمحال بختیاریهمه‌ی دسته‌بندی‌هافروش و بازاریابیوب،‌ برنامه‌نویسی و نرم‌افزارمالی و حسابداریمسئول دفتر، اجرائی و اداریتولید و مدیریت محتوادیجیتال مارکتی       N/A      N/A          N/A          N/A           N/A             N/A        N/A    N/A             N/A\n",
      "                                                                                                                                                                                        https://blog.jobinja.ir/%d8%aa%da%a9%d9%86%db%8c%da%a9%d9%87%d8%a7%db%8c-%d8%a7%d8%b1%d8%b2%db%8c%d8%a7%d8%a8%db%8c-%d8%b9%d9%85%d9%84%da%a9%d8%b1%d8%af-%da%a9%d8%a7%d8%b1%da%a9%d9%86%d8%a7%d9%86/         تکنیک‌های ارزیابی عملکرد کارکنان - وبلاگ جابینجااشتراک گذاریبا استفاده از روش‌های زیر می‌توانید این صفحه را با دوستان خود به اشتراک بگذارید.کپی لینککارجو ⏷رزومه نویسیمسیر شغلیمصاحبه کاریمهارت های فردیکارفرما ⏷منابع انسانیفضای کاریاخبار جابینجارزومه سازایجاد آگهی جدیدکارجو ⏷رزومه نویسیمسیر شغلیمصاحبه کاریمهارت های فردیکارفرما ⏷منابع انسانیفضای کاریاخبار جابینجارزومه سازایجاد آگهی جدیدParkingGasFoodCoffeeMiscمرا به خاطر بسپارنام کاربری :ایمیل :نام :نام خانوادگیآدرس وب سایت :تاریخ ثبت نام :نقش کاربر:کارفرمامنابع انسانیتکنیک‌های ارزیابی عملکرد کارکنانبازدید 53تیم تولید محتوا13 روز پیشاشتراک گذاریبا استفاده از روش‌های زیر می‌توانید این صفحه را با دوستان خود به اشتراک بگذارید.کپی لینکبدون دیدگاهکارفرمامنابع انسانیتکنیک‌های ارزیابی عملکرد کارکنانهر سازمانی برای دستیابی به موفقیت بلندمدت باید نیروی کار موثر را جذب و حفظ کند. برای حفظ نیروی انسانی باید رضایت شغلی کارکنان بهبود یابد. کسب‌وکارهای پیشرو با استفاده از تکنیک‌های ارزیابی عملکرد کارکنان به‌طور متناسب به نیروهای انسانی پاداش و مزایا می       N/A      N/A          N/A          N/A           N/A             N/A        N/A    N/A             N/A\n",
      "                                                                                                                                                                                                                                                                                                               https://jobinja.ir/jobs?filters%5Bkeywords%5D%5B0%5D=%D8%A7%D8%B3%D9%86%D9%BE        فرصت های شغلی اسنپ\\n | جابینجاامکان جدید:همین حالا رزومه خود را در کمتر از ۱۰ دقیقه بسازید،برو به رزومه‌سازJobinja | جابینجا | استخدام، آگهی استخدام، کاریابی، استخدامی جدید، بازار کار، نیازمندیها، ساخت رزومه رایگان، کار و استخدام دولتی، اشتغال، جستجوگر حرفه ای استخدام و شغلخانهجستجوی مشاغلرزومه‌ساز۵۰ شرکت برتربخش کارفرمایانورود کارجوثبت‌نام کارجوورود کارجوثبت‌نام کارجو۱جابینجا چطور به استخدام شدن من کمک می‌کند؟مشاهدهمشاهده بیشترجستجودرخواست‌های مننشان‌شده‌هاآگهی‌های پیشنهادیاز آگهی‌های جدید باخبر شوبهترین فرصت های شغلی در جابینجاهمه‌ی استان‌هاتهرانخراسان رضویاصفهانالبرزفارسقمآذربایجان شرقیمازندرانگیلانخوزستانکرمانیزدقزوینمرکزیهرمزگانگلستانزنجانسیستان و بلوچستانبوشهرآذربایجان غربیسمنانکرمانشاههمداناردبیللرستانکردستانخراسان شمالیایلامخراسان جنوبیچهارمحال بختیاریکهکیلویه و بویراحمدهمه‌ی دسته‌بندی‌هافروش و بازاریابیوب،‌ برنامه‌نویسی و نرم‌افزارمالی و حسابداریمسئول دفتر، اجرائی و اداریتولید و مدیریت محتوادیجیتال مارکتینگپشتیبانی و امور مشتریانطراحیIT / DevOps / Serverمهندسی صنایع و مدیریت صن       N/A      N/A          N/A          N/A           N/A             N/A        N/A    N/A             N/A\n",
      "                                                                                                                                                                                                                                                                                                                                                     https://jobinja.ir/companies/dotin/jobs         فرصت‌های شغلی فعال در داتین | Dotin | جابینجاامکان جدید:همین حالا رزومه خود را در کمتر از ۱۰ دقیقه بسازید،برو به رزومه‌سازJobinja | جابینجا | استخدام، آگهی استخدام، کاریابی، استخدامی جدید، بازار کار، نیازمندیها، ساخت رزومه رایگان، کار و استخدام دولتی، اشتغال، جستجوگر حرفه ای استخدام و شغلخانهجستجوی مشاغلرزومه‌ساز۵۰ شرکت برتربخش کارفرمایانورود کارجوثبت‌نام کارجوورود کارجوثبت‌نام کارجو۱جابینجا چطور به استخدام شدن من کمک می‌کند؟مشاهدهمشاهده بیشترداتین|Dotinتاسیس در  ۱۳۹۰کامپیوتر، فناوری اطلاعات و اینترنتبیش از ۱۰۰۰ نفرdotin.irدر یک نگاهمعرفیفرصت‌های شغلی۴۲معرفی داتینداتین، بزرگترین زیرمجموعه فناپ -هلدینگ فناوری اطلاعات و ارتباطات گروه مالی-پاسارگاد است که راهکارهای نرم‌افزاری بانکی، مالی و بیمه را به بانک‌ها، موسسات مالی و اعتباری، بیمه‌ها و سازمان‌های مرتبط ارائه می‌دهد. فلسفه وجودی این شرکت، «توسعه فراگیری مالی» است و در مسیر فراهم‌کردن دسترسی آسان، سریع و امن به خدمات مالی برای تمامی اقشار جامعه تلاش می‌کند.فرصت‌های شغلی فعال در داتین|Dotinکارشناس سخت افزار(۱ روز پیش)داتین | Dotinتهران       N/A      N/A          N/A          N/A           N/A             N/A        N/A    N/A             N/A\n",
      "                                                                                                                                                                                                             https://jobinja.ir/jobs?filters%5Bjob_categories%5D%5B%5D=%D9%85%D9%87%D9%86%D8%AF%D8%B3%DB%8C+%D9%85%DA%A9%D8%A7%D9%86%DB%8C%DA%A9+%D9%88+%D9%87%D9%88%D8%A7%D9%81%D8%B6%D8%A7        استخدام مهندس مکانیک و هوافضا\\n | جابینجاامکان جدید:همین حالا رزومه خود را در کمتر از ۱۰ دقیقه بسازید،برو به رزومه‌سازJobinja | جابینجا | استخدام، آگهی استخدام، کاریابی، استخدامی جدید، بازار کار، نیازمندیها، ساخت رزومه رایگان، کار و استخدام دولتی، اشتغال، جستجوگر حرفه ای استخدام و شغلخانهجستجوی مشاغلرزومه‌ساز۵۰ شرکت برتربخش کارفرمایانورود کارجوثبت‌نام کارجوورود کارجوثبت‌نام کارجو۱جابینجا چطور به استخدام شدن من کمک می‌کند؟مشاهدهمشاهده بیشترجستجودرخواست‌های مننشان‌شده‌هاآگهی‌های پیشنهادیاز آگهی‌های جدید باخبر شوبهترین فرصت های شغلی در جابینجاهمه‌ی استان‌هاتهرانخراسان رضویاصفهانالبرزفارسقمآذربایجان شرقیمازندرانگیلانخوزستانکرمانیزدقزوینمرکزیهرمزگانگلستانزنجانسیستان و بلوچستانبوشهرآذربایجان غربیسمنانکرمانشاههمداناردبیللرستانکردستانخراسان شمالیایلامخراسان جنوبیچهارمحال بختیاریکهکیلویه و بویراحمدهمه‌ی دسته‌بندی‌هامهندسی مکانیک و هوافضافروش و بازاریابیوب،‌ برنامه‌نویسی و نرم‌افزارمالی و حسابداریمسئول دفتر، اجرائی و اداریتولید و مدیریت محتوادیجیتال مارکتینگپشتیبانی و امور مشتریانطراحیIT / DevOps       N/A      N/A          N/A          N/A           N/A             N/A        N/A    N/A             N/A\n",
      "                                                                                                                                                                                                                                                                                                                                                         https://jobinja.ir/companies/hesabo         استخدام در شرکت حسابو، آگهی های استخدام Hesabo | جابینجاامکان جدید:همین حالا رزومه خود را در کمتر از ۱۰ دقیقه بسازید،برو به رزومه‌سازJobinja | جابینجا | استخدام، آگهی استخدام، کاریابی، استخدامی جدید، بازار کار، نیازمندیها، ساخت رزومه رایگان، کار و استخدام دولتی، اشتغال، جستجوگر حرفه ای استخدام و شغلخانهجستجوی مشاغلرزومه‌ساز۵۰ شرکت برتربخش کارفرمایانورود کارجوثبت‌نام کارجوورود کارجوثبت‌نام کارجو۱جابینجا چطور به استخدام شدن من کمک می‌کند؟مشاهدهمشاهده بیشترحسابو|Hesaboتاسیس در  ۱۳۹۴کامپیوتر، فناوری اطلاعات و اینترنت۵۱ تا ۲۰۰ نفرhesabo.comدر یک نگاهمعرفیفرصت‌های شغلی۵شرکت حسابو فراهم کنندهٔ یک پلتفرم است تا کارفرماها بتوانند به کارمندانشان این امکان را بدهند که بتوانند به حقوق خودشان دسترسی داشته باشند در روزهای مختلف و نیازی نیست که برای پرداخت بعدی منتظر بمانند.موقعیت مکانیتهران، تهراناعضای شرکتمسعود کیمیاییمدیر امنیتمحیط پویای حسابو این امکان را برای افراد فراهم می کند، تا روی ارتقا و پیشرفت خودشان تمرکز کنند. حسابو برای توسعه فردی اهمیت زیادی قائل است و به دنبال بازیکن تیمی ایده آل می        N/A      N/A          N/A          N/A           N/A             N/A        N/A    N/A             N/A\n",
      "                                                                                                                                                                                                                                                                                                                                                  https://jobinja.ir/companies/flightio/jobs         فرصت‌های شغلی فعال در فلایتیو | Flightio | جابینجاامکان جدید:همین حالا رزومه خود را در کمتر از ۱۰ دقیقه بسازید،برو به رزومه‌سازJobinja | جابینجا | استخدام، آگهی استخدام، کاریابی، استخدامی جدید، بازار کار، نیازمندیها، ساخت رزومه رایگان، کار و استخدام دولتی، اشتغال، جستجوگر حرفه ای استخدام و شغلخانهجستجوی مشاغلرزومه‌ساز۵۰ شرکت برتربخش کارفرمایانورود کارجوثبت‌نام کارجوورود کارجوثبت‌نام کارجو۱جابینجا چطور به استخدام شدن من کمک می‌کند؟مشاهدهمشاهده بیشترفلایتیو|Flightioگردشگری و هتل‌ها۲۰۱ تا ۵۰۰ نفرflightio.comدر یک نگاهمعرفیفرصت‌های شغلی۲معرفی فلایتیوفلایتیو سیستم جامع رزرو آنلاین گردشگری، با تمرکز بر هدف ارائه بهترین خدمات به مشتریان خود می باشد. فلایتیو از یک همفکری پویا و خلاقانه در سال 1393 جوانه زد و طی سال 1394 زیر ساخت های آن بال و پر گرفت، این روند چنان به سرعت پیش رفت که دربهمن ماه سال 1394 نسخه اولیه فلایتیو راه اندازی شد.در جامعه امروز ایران دسترسی گسترده و آسان به اینترنت هر روز بیش از پیش قوت می گیرد، به طوری که ارائه خدمات آنلاین و فروش کالای آنلاین یکی از مهمترین عرصه های تجا       N/A      N/A          N/A          N/A           N/A             N/A        N/A    N/A             N/A\n",
      "                                                                                                                                                                                                                                                   https://jobinja.ir/jobs?filters%5Bjob_categories%5D%5B%5D=%D9%85%D9%87%D9%86%D8%AF%D8%B3%DB%8C+%DA%A9%D8%B4%D8%A7%D9%88%D8%B1%D8%B2%DB%8C        استخدام مهندس کشاورزی | استخدام مهندس آبیاری | استخدام کارشناس باغبانی | جابینجا\\n | جابینجاامکان جدید:همین حالا رزومه خود را در کمتر از ۱۰ دقیقه بسازید،برو به رزومه‌سازJobinja | جابینجا | استخدام، آگهی استخدام، کاریابی، استخدامی جدید، بازار کار، نیازمندیها، ساخت رزومه رایگان، کار و استخدام دولتی، اشتغال، جستجوگر حرفه ای استخدام و شغلخانهجستجوی مشاغلرزومه‌ساز۵۰ شرکت برتربخش کارفرمایانورود کارجوثبت‌نام کارجوورود کارجوثبت‌نام کارجو۱جابینجا چطور به استخدام شدن من کمک می‌کند؟مشاهدهمشاهده بیشترجستجودرخواست‌های مننشان‌شده‌هاآگهی‌های پیشنهادیاز آگهی‌های جدید باخبر شوبهترین فرصت های شغلی در جابینجاهمه‌ی استان‌هاتهرانخراسان رضویاصفهانالبرزفارسقمآذربایجان شرقیمازندرانگیلانخوزستانکرمانیزدقزوینمرکزیهرمزگانگلستانزنجانسیستان و بلوچستانبوشهرآذربایجان غربیسمنانکرمانشاههمداناردبیللرستانکردستانخراسان شمالیایلامخراسان جنوبیچهارمحال بختیاریکهکیلویه و بویراحمدهمه‌ی دسته‌بندی‌هامهندسی کشاورزیفروش و بازاریابیوب،‌ برنامه‌نویسی و نرم‌افزارمالی و حسابداریمسئول دفتر، اجرائی و اداریتولید و مدیریت محتوادیجیتال مارک       N/A      N/A          N/A          N/A           N/A             N/A        N/A    N/A             N/A\n",
      "                                                                                                                                                                                                                                                                                                                                                      https://jobinja.ir/companies/iranicard         استخدام در شرکت ایرانیکارت، آگهی های استخدام IraniCard | جابینجاامکان جدید:همین حالا رزومه خود را در کمتر از ۱۰ دقیقه بسازید،برو به رزومه‌سازJobinja | جابینجا | استخدام، آگهی استخدام، کاریابی، استخدامی جدید، بازار کار، نیازمندیها، ساخت رزومه رایگان، کار و استخدام دولتی، اشتغال، جستجوگر حرفه ای استخدام و شغلخانهجستجوی مشاغلرزومه‌ساز۵۰ شرکت برتربخش کارفرمایانورود کارجوثبت‌نام کارجوورود کارجوثبت‌نام کارجو۱جابینجا چطور به استخدام شدن من کمک می‌کند؟مشاهدهمشاهده بیشترایرانیکارت|IraniCardتاسیس در  ۱۳۹۰کامپیوتر، فناوری اطلاعات و اینترنت۵۱ تا ۲۰۰ نفرwww.IraniCard.irدر یک نگاهمعرفیفرصت‌های شغلی۲۰ایرانیکارت گروهی جوان اما با تجربه است که سال‌ها در امور مالی بین المللی به صدها شرکت و هزاران شخص کمک رسانده و می‌رساند.موقعیت مکانیاصفهان، اصفهاناعضای شرکتسارا هاشمیمدیر تبلیغاتهدف ما در بخش تبلیغات پیدا کردن راه‌های تازه و خلاقانه برای معرفی خدمات، رسیدن به مخاطبان و حفظ رضایت آنهاست.امیر بیگدلیمدیر ایرانیکارتایرانیکارت محل خلق ایده‌های جدید است و ما برای تحقق این ایده ها همواره در تلاش هستیم . ایرانی       N/A      N/A          N/A          N/A           N/A             N/A        N/A    N/A             N/A\n",
      "                                                                                                                                                                                                                    https://jobinja.ir/jobs?filters%5Bjob_categories%5D%5B%5D=%D8%AA%DA%A9%D9%86%D8%B3%DB%8C%D9%86+%D9%81%D9%86%DB%8C%D8%8C+%D8%AA%D8%B9%D9%85%DB%8C%D8%B1%DA%A9%D8%A7%D8%B1        استخدام تکنسین فنی تاسیسات | جابینجا\\n | جابینجاامکان جدید:همین حالا رزومه خود را در کمتر از ۱۰ دقیقه بسازید،برو به رزومه‌سازJobinja | جابینجا | استخدام، آگهی استخدام، کاریابی، استخدامی جدید، بازار کار، نیازمندیها، ساخت رزومه رایگان، کار و استخدام دولتی، اشتغال، جستجوگر حرفه ای استخدام و شغلخانهجستجوی مشاغلرزومه‌ساز۵۰ شرکت برتربخش کارفرمایانورود کارجوثبت‌نام کارجوورود کارجوثبت‌نام کارجو۱جابینجا چطور به استخدام شدن من کمک می‌کند؟مشاهدهمشاهده بیشترجستجودرخواست‌های مننشان‌شده‌هاآگهی‌های پیشنهادیاز آگهی‌های جدید باخبر شوبهترین فرصت های شغلی در جابینجاهمه‌ی استان‌هاتهرانخراسان رضویاصفهانالبرزفارسقمآذربایجان شرقیمازندرانگیلانخوزستانکرمانیزدقزوینمرکزیهرمزگانگلستانزنجانسیستان و بلوچستانبوشهرآذربایجان غربیسمنانکرمانشاههمداناردبیللرستانکردستانخراسان شمالیایلامخراسان جنوبیچهارمحال بختیاریکهکیلویه و بویراحمدهمه‌ی دسته‌بندی‌هاتکنسین فنی، تعمیرکارفروش و بازاریابیوب،‌ برنامه‌نویسی و نرم‌افزارمالی و حسابداریمسئول دفتر، اجرائی و اداریتولید و مدیریت محتوادیجیتال مارکتینگپشتیبانی و امور مشتریانطراحیIT / D       N/A      N/A          N/A          N/A           N/A             N/A        N/A    N/A             N/A\n",
      "                                                                                                                                                                                                                                           https://jobinja.ir/jobs?filters%5Blocations%5D%5B%5D=%D8%B3%DB%8C%D8%B3%D8%AA%D8%A7%D9%86+%D9%88+%D8%A8%D9%84%D9%88%DA%86%D8%B3%D8%AA%D8%A7%D9%86        آگهی استخدام سیستان و بلوچستان | استخدام سیستان و بلوچستان | کاریابی سیستان و بلوچستان\\n | جابینجاامکان جدید:همین حالا رزومه خود را در کمتر از ۱۰ دقیقه بسازید،برو به رزومه‌سازJobinja | جابینجا | استخدام، آگهی استخدام، کاریابی، استخدامی جدید، بازار کار، نیازمندیها، ساخت رزومه رایگان، کار و استخدام دولتی، اشتغال، جستجوگر حرفه ای استخدام و شغلخانهجستجوی مشاغلرزومه‌ساز۵۰ شرکت برتربخش کارفرمایانورود کارجوثبت‌نام کارجوورود کارجوثبت‌نام کارجو۱جابینجا چطور به استخدام شدن من کمک می‌کند؟مشاهدهمشاهده بیشترجستجودرخواست‌های مننشان‌شده‌هاآگهی‌های پیشنهادیاز آگهی‌های جدید باخبر شوبهترین فرصت های شغلی در جابینجاهمه‌ی استان‌هاسیستان و بلوچستانتهرانخراسان رضویاصفهانالبرزفارسقمآذربایجان شرقیمازندرانگیلانخوزستانکرمانیزدقزوینمرکزیهرمزگانگلستانزنجانبوشهرآذربایجان غربیسمنانکرمانشاههمداناردبیللرستانکردستانخراسان شمالیایلامخراسان جنوبیچهارمحال بختیاریکهکیلویه و بویراحمدهمه‌ی دسته‌بندی‌هافروش و بازاریابیوب،‌ برنامه‌نویسی و نرم‌افزارمالی و حسابداریمسئول دفتر، اجرائی و اداریتولید و مدیریت محتوادیجیتال مارکتینگپشتی       N/A      N/A          N/A          N/A           N/A             N/A        N/A    N/A             N/A\n",
      "                                                                                                                                                                                                                                https://jobinja.ir/jobs?filters%5Bjob_categories%5D%5B%5D=%D8%B1%D8%A7%D9%86%D9%86%D8%AF%D9%87%D8%8C+%D9%BE%DB%8C%DA%A9+%D9%85%D9%88%D8%AA%D9%88%D8%B1%DB%8C        استخدام راننده | استخدام پیک موتوری | استخدام راننده مدیرعامل\\n | جابینجاامکان جدید:همین حالا رزومه خود را در کمتر از ۱۰ دقیقه بسازید،برو به رزومه‌سازJobinja | جابینجا | استخدام، آگهی استخدام، کاریابی، استخدامی جدید، بازار کار، نیازمندیها، ساخت رزومه رایگان، کار و استخدام دولتی، اشتغال، جستجوگر حرفه ای استخدام و شغلخانهجستجوی مشاغلرزومه‌ساز۵۰ شرکت برتربخش کارفرمایانورود کارجوثبت‌نام کارجوورود کارجوثبت‌نام کارجو۱جابینجا چطور به استخدام شدن من کمک می‌کند؟مشاهدهمشاهده بیشترجستجودرخواست‌های مننشان‌شده‌هاآگهی‌های پیشنهادیاز آگهی‌های جدید باخبر شوبهترین فرصت های شغلی در جابینجاهمه‌ی استان‌هاتهرانخراسان رضویاصفهانالبرزفارسقمآذربایجان شرقیمازندرانگیلانخوزستانکرمانیزدقزوینمرکزیهرمزگانگلستانزنجانسیستان و بلوچستانبوشهرآذربایجان غربیسمنانکرمانشاههمداناردبیللرستانکردستانخراسان شمالیایلامخراسان جنوبیچهارمحال بختیاریکهکیلویه و بویراحمدهمه‌ی دسته‌بندی‌هاراننده، پیک موتوریفروش و بازاریابیوب،‌ برنامه‌نویسی و نرم‌افزارمالی و حسابداریمسئول دفتر، اجرائی و اداریتولید و مدیریت محتوادیجیتال مارکتینگپشتیبانی و        N/A      N/A          N/A          N/A           N/A             N/A        N/A    N/A             N/A\n",
      "                                                                                                                                                                                                                                                                    https://jobinja.ir/jobs?filters%5Blocations%5D%5B%5D=%D8%AE%D8%B1%D8%A7%D8%B3%D8%A7%D9%86+%D8%B4%D9%85%D8%A7%D9%84%DB%8C        آگهی استخدام خراسان شمالی | استخدام خراسان شمالی | کاریابی خراسان شمالی\\n | جابینجاامکان جدید:همین حالا رزومه خود را در کمتر از ۱۰ دقیقه بسازید،برو به رزومه‌سازJobinja | جابینجا | استخدام، آگهی استخدام، کاریابی، استخدامی جدید، بازار کار، نیازمندیها، ساخت رزومه رایگان، کار و استخدام دولتی، اشتغال، جستجوگر حرفه ای استخدام و شغلخانهجستجوی مشاغلرزومه‌ساز۵۰ شرکت برتربخش کارفرمایانورود کارجوثبت‌نام کارجوورود کارجوثبت‌نام کارجو۱جابینجا چطور به استخدام شدن من کمک می‌کند؟مشاهدهمشاهده بیشترجستجودرخواست‌های مننشان‌شده‌هاآگهی‌های پیشنهادیاز آگهی‌های جدید باخبر شوبهترین فرصت های شغلی در جابینجاهمه‌ی استان‌هاخراسان شمالیتهرانخراسان رضویاصفهانالبرزفارسقمآذربایجان شرقیمازندرانگیلانخوزستانکرمانیزدقزوینمرکزیهرمزگانگلستانزنجانسیستان و بلوچستانبوشهرآذربایجان غربیسمنانکرمانشاههمداناردبیللرستانکردستانایلامخراسان جنوبیچهارمحال بختیاریکهکیلویه و بویراحمدهمه‌ی دسته‌بندی‌هافروش و بازاریابیوب،‌ برنامه‌نویسی و نرم‌افزارمالی و حسابداریمسئول دفتر، اجرائی و اداریتولید و مدیریت محتوادیجیتال مارکتینگپشتیبانی و امور مشت       N/A      N/A          N/A          N/A           N/A             N/A        N/A    N/A             N/A\n",
      "                                                                                                                                                                                                                                                                                                         https://jobinja.ir/jobs?filters%5Blocations%5D%5B%5D=%D8%A7%D9%84%D8%A8%D8%B1%D8%B2        استخدام کرج | کاریابی کرج | استخدامی البرز\\n | جابینجاامکان جدید:همین حالا رزومه خود را در کمتر از ۱۰ دقیقه بسازید،برو به رزومه‌سازJobinja | جابینجا | استخدام، آگهی استخدام، کاریابی، استخدامی جدید، بازار کار، نیازمندیها، ساخت رزومه رایگان، کار و استخدام دولتی، اشتغال، جستجوگر حرفه ای استخدام و شغلخانهجستجوی مشاغلرزومه‌ساز۵۰ شرکت برتربخش کارفرمایانورود کارجوثبت‌نام کارجوورود کارجوثبت‌نام کارجو۱جابینجا چطور به استخدام شدن من کمک می‌کند؟مشاهدهمشاهده بیشترجستجودرخواست‌های مننشان‌شده‌هاآگهی‌های پیشنهادیاز آگهی‌های جدید باخبر شوبهترین فرصت های شغلی در جابینجاهمه‌ی استان‌هاالبرزتهرانخراسان رضویاصفهانفارسقمآذربایجان شرقیمازندرانگیلانخوزستانکرمانیزدقزوینمرکزیهرمزگانگلستانزنجانسیستان و بلوچستانبوشهرآذربایجان غربیسمنانکرمانشاههمداناردبیللرستانکردستانخراسان شمالیایلامخراسان جنوبیچهارمحال بختیاریکهکیلویه و بویراحمدهمه‌ی دسته‌بندی‌هافروش و بازاریابیوب،‌ برنامه‌نویسی و نرم‌افزارمالی و حسابداریمسئول دفتر، اجرائی و اداریتولید و مدیریت محتوادیجیتال مارکتینگپشتیبانی و امور مشتریانطراحیIT / DevOps / Server       N/A      N/A          N/A          N/A           N/A             N/A        N/A    N/A             N/A\n",
      "                                                                                                                                                                                                                                                               https://jobinja.ir/jobs?filters%5Bjob_categories%5D%5B%5D=%D9%85%D9%87%D9%86%D8%AF%D8%B3%DB%8C+%D9%BE%D8%B2%D8%B4%DA%A9%DB%8C        استخدام مهندسی پزشکی | استخدام کارشناس مهندسی پزشکی\\n | جابینجاامکان جدید:همین حالا رزومه خود را در کمتر از ۱۰ دقیقه بسازید،برو به رزومه‌سازJobinja | جابینجا | استخدام، آگهی استخدام، کاریابی، استخدامی جدید، بازار کار، نیازمندیها، ساخت رزومه رایگان، کار و استخدام دولتی، اشتغال، جستجوگر حرفه ای استخدام و شغلخانهجستجوی مشاغلرزومه‌ساز۵۰ شرکت برتربخش کارفرمایانورود کارجوثبت‌نام کارجوورود کارجوثبت‌نام کارجو۱جابینجا چطور به استخدام شدن من کمک می‌کند؟مشاهدهمشاهده بیشترجستجودرخواست‌های مننشان‌شده‌هاآگهی‌های پیشنهادیاز آگهی‌های جدید باخبر شوبهترین فرصت های شغلی در جابینجاهمه‌ی استان‌هاتهرانخراسان رضویاصفهانالبرزفارسقمآذربایجان شرقیمازندرانگیلانخوزستانکرمانیزدقزوینمرکزیهرمزگانگلستانزنجانسیستان و بلوچستانبوشهرآذربایجان غربیسمنانکرمانشاههمداناردبیللرستانکردستانخراسان شمالیایلامخراسان جنوبیچهارمحال بختیاریکهکیلویه و بویراحمدهمه‌ی دسته‌بندی‌هامهندسی پزشکیفروش و بازاریابیوب،‌ برنامه‌نویسی و نرم‌افزارمالی و حسابداریمسئول دفتر، اجرائی و اداریتولید و مدیریت محتوادیجیتال مارکتینگپشتیبانی و امور مشتریانطراح       N/A      N/A          N/A          N/A           N/A             N/A        N/A    N/A             N/A\n",
      "                                                                                                                                                                                                                                                                                                                                                               https://jobinja.ir/login/user                                                                                                                                                                                                                                                                                                                                                                                                                        ورود کارجو | جابینجاورود کارجو | جابینجاJobinjaکارفرما هستید؟ورود کارجوورود کارجوثبت‌نام کارجوimage/svg+xmlbtn_google_light_normal_iosbtn_google_light_normal_iosCreated with Sketch.ورود با گوگلورود با لینکدینآدرس ایمیلرمز عبورمرا به خاطرت نگه دار!بازیابی رمز عبورجابینجا چه کمکی به من می‌کنه؟رایگانهمین حالا در جابینجا ثبت‌نام کن و رزومه‌ات رو برای آگهی‌های استخدام شرکت‌های معتبر بفرست.جستجوی در آگهی‌های استخدام ۱۰,۹۸۷ شرکت معتبر و ارسال رزومه با یک کلیکدریافت فرصت‌های شغلیجدیدمرتبط از طریق ایمیل\\n                (Job Alert)رزومه‌ساز استانداردشناخت محیط کار و فرهنگ سازمانی شرکت‌های در حال استخدام       N/A      N/A          N/A          N/A           N/A             N/A        N/A    N/A             N/A\n",
      "                                                                                                                                                                                                                                                                    https://jobinja.ir/jobs?filters%5Bkeywords%5D%5B0%5D=%D9%85%D8%B4%D8%A7%D9%88%D8%B1+%D8%AA%D8%AD%D8%B5%DB%8C%D9%84%DB%8C        فرصت های شغلی مشاور تحصیلی\\n | جابینجاامکان جدید:همین حالا رزومه خود را در کمتر از ۱۰ دقیقه بسازید،برو به رزومه‌سازJobinja | جابینجا | استخدام، آگهی استخدام، کاریابی، استخدامی جدید، بازار کار، نیازمندیها، ساخت رزومه رایگان، کار و استخدام دولتی، اشتغال، جستجوگر حرفه ای استخدام و شغلخانهجستجوی مشاغلرزومه‌ساز۵۰ شرکت برتربخش کارفرمایانورود کارجوثبت‌نام کارجوورود کارجوثبت‌نام کارجو۱جابینجا چطور به استخدام شدن من کمک می‌کند؟مشاهدهمشاهده بیشترجستجودرخواست‌های مننشان‌شده‌هاآگهی‌های پیشنهادیاز آگهی‌های جدید باخبر شوبهترین فرصت های شغلی در جابینجاهمه‌ی استان‌هاتهرانخراسان رضویاصفهانالبرزفارسقمآذربایجان شرقیمازندرانگیلانخوزستانکرمانیزدقزوینمرکزیهرمزگانگلستانزنجانسیستان و بلوچستانبوشهرآذربایجان غربیسمنانکرمانشاههمداناردبیللرستانکردستانخراسان شمالیایلامخراسان جنوبیچهارمحال بختیاریکهکیلویه و بویراحمدهمه‌ی دسته‌بندی‌هافروش و بازاریابیوب،‌ برنامه‌نویسی و نرم‌افزارمالی و حسابداریمسئول دفتر، اجرائی و اداریتولید و مدیریت محتوادیجیتال مارکتینگپشتیبانی و امور مشتریانطراحیIT / DevOps / Serverمهندسی صنایع و م       N/A      N/A          N/A          N/A           N/A             N/A        N/A    N/A             N/A\n",
      "                                                                                                                                                                                                                                                                                                         https://jobinja.ir/jobs?filters%5Blocations%5D%5B%5D=%D8%A7%DB%8C%D9%84%D8%A7%D9%85        آگهی استخدام ایلام | استخدام ایلام | کاریابی ایلام\\n | جابینجاامکان جدید:همین حالا رزومه خود را در کمتر از ۱۰ دقیقه بسازید،برو به رزومه‌سازJobinja | جابینجا | استخدام، آگهی استخدام، کاریابی، استخدامی جدید، بازار کار، نیازمندیها، ساخت رزومه رایگان، کار و استخدام دولتی، اشتغال، جستجوگر حرفه ای استخدام و شغلخانهجستجوی مشاغلرزومه‌ساز۵۰ شرکت برتربخش کارفرمایانورود کارجوثبت‌نام کارجوورود کارجوثبت‌نام کارجو۱جابینجا چطور به استخدام شدن من کمک می‌کند؟مشاهدهمشاهده بیشترجستجودرخواست‌های مننشان‌شده‌هاآگهی‌های پیشنهادیاز آگهی‌های جدید باخبر شوبهترین فرصت های شغلی در جابینجاهمه‌ی استان‌هاایلامتهرانخراسان رضویاصفهانالبرزفارسقمآذربایجان شرقیمازندرانگیلانخوزستانکرمانیزدقزوینمرکزیهرمزگانگلستانزنجانسیستان و بلوچستانبوشهرآذربایجان غربیسمنانکرمانشاههمداناردبیللرستانکردستانخراسان شمالیخراسان جنوبیچهارمحال بختیاریکهکیلویه و بویراحمدهمه‌ی دسته‌بندی‌هافروش و بازاریابیوب،‌ برنامه‌نویسی و نرم‌افزارمالی و حسابداریمسئول دفتر، اجرائی و اداریتولید و مدیریت محتوادیجیتال مارکتینگپشتیبانی و امور مشتریانطراحیIT / DevOps        N/A      N/A          N/A          N/A           N/A             N/A        N/A    N/A             N/A\n",
      "                                                                                                                                                                                                                                                                                                                                                          https://jobinja.ir/companies/miare         استخدام در شرکت میاره، آگهی های استخدام Miare | جابینجاامکان جدید:همین حالا رزومه خود را در کمتر از ۱۰ دقیقه بسازید،برو به رزومه‌سازJobinja | جابینجا | استخدام، آگهی استخدام، کاریابی، استخدامی جدید، بازار کار، نیازمندیها، ساخت رزومه رایگان، کار و استخدام دولتی، اشتغال، جستجوگر حرفه ای استخدام و شغلخانهجستجوی مشاغلرزومه‌ساز۵۰ شرکت برتربخش کارفرمایانورود کارجوثبت‌نام کارجوورود کارجوثبت‌نام کارجو۱جابینجا چطور به استخدام شدن من کمک می‌کند؟مشاهدهمشاهده بیشترمیاره|Miareکامپیوتر، فناوری اطلاعات و اینترنت۲۰۱ تا ۵۰۰ نفرmiare.irدر یک نگاهمعرفیفرصت‌های شغلی۴میاره» استارت‌آپی خلاق و پویاست. فضایی است بدون سقف برای بلندپروازان. «میاره» با ایجاد بهره‌وری از طریق نرم‌افزار پیچیده‌ی خود، روزانه ده‌ها هزار سفارش را با بالاترین استانداردهای کیفیت خدمات برای کسب‌وکارها ارسال می‌کند.موقعیت مکانیتهران، تهراناعضای شرکتامیراحمد برکتینمدیر عاملمدیریت «میاره» مثل مربیگری فوتباله. چالش اصلی، حل کردن کلی مساله‌ در واحدهای زمانی خیلی کمه با این تفاوت که کلی المان غیرقطعی هست که باید خودت رو برای اونها هم آماده کن       N/A      N/A          N/A          N/A           N/A             N/A        N/A    N/A             N/A\n",
      "                                                                                                                                                                                                                                                                           https://jobinja.ir/jobs?filters%5Bjob_categories%5D%5B%5D=%D9%85%D8%AF%DB%8C%D8%B1+%D9%85%D8%AD%D8%B5%D9%88%D9%84        استخدام مدیر محصول | آگهی استخدام مالک محصول\\n | جابینجاامکان جدید:همین حالا رزومه خود را در کمتر از ۱۰ دقیقه بسازید،برو به رزومه‌سازJobinja | جابینجا | استخدام، آگهی استخدام، کاریابی، استخدامی جدید، بازار کار، نیازمندیها، ساخت رزومه رایگان، کار و استخدام دولتی، اشتغال، جستجوگر حرفه ای استخدام و شغلخانهجستجوی مشاغلرزومه‌ساز۵۰ شرکت برتربخش کارفرمایانورود کارجوثبت‌نام کارجوورود کارجوثبت‌نام کارجو۱جابینجا چطور به استخدام شدن من کمک می‌کند؟مشاهدهمشاهده بیشترجستجودرخواست‌های مننشان‌شده‌هاآگهی‌های پیشنهادیاز آگهی‌های جدید باخبر شوبهترین فرصت های شغلی در جابینجاهمه‌ی استان‌هاتهرانخراسان رضویاصفهانالبرزفارسقمآذربایجان شرقیمازندرانگیلانخوزستانکرمانیزدقزوینمرکزیهرمزگانگلستانزنجانسیستان و بلوچستانبوشهرآذربایجان غربیسمنانکرمانشاههمداناردبیللرستانکردستانخراسان شمالیایلامخراسان جنوبیچهارمحال بختیاریکهکیلویه و بویراحمدهمه‌ی دسته‌بندی‌هامدیر محصولفروش و بازاریابیوب،‌ برنامه‌نویسی و نرم‌افزارمالی و حسابداریمسئول دفتر، اجرائی و اداریتولید و مدیریت محتوادیجیتال مارکتینگپشتیبانی و امور مشتریانطراحیIT / Dev       N/A      N/A          N/A          N/A           N/A             N/A        N/A    N/A             N/A\n",
      "                                                                                                                                                                                                       https://jobinja.ir/jobs?filters%5Bjob_categories%5D%5B%5D=%D9%BE%D8%B4%D8%AA%DB%8C%D8%A8%D8%A7%D9%86%DB%8C+%D9%88+%D8%A7%D9%85%D9%88%D8%B1+%D9%85%D8%B4%D8%AA%D8%B1%DB%8C%D8%A7%D9%86        استخدام پشتیبانی و امور مشتریان\\n | جابینجاامکان جدید:همین حالا رزومه خود را در کمتر از ۱۰ دقیقه بسازید،برو به رزومه‌سازJobinja | جابینجا | استخدام، آگهی استخدام، کاریابی، استخدامی جدید، بازار کار، نیازمندیها، ساخت رزومه رایگان، کار و استخدام دولتی، اشتغال، جستجوگر حرفه ای استخدام و شغلخانهجستجوی مشاغلرزومه‌ساز۵۰ شرکت برتربخش کارفرمایانورود کارجوثبت‌نام کارجوورود کارجوثبت‌نام کارجو۱جابینجا چطور به استخدام شدن من کمک می‌کند؟مشاهدهمشاهده بیشترجستجودرخواست‌های مننشان‌شده‌هاآگهی‌های پیشنهادیاز آگهی‌های جدید باخبر شوبهترین فرصت های شغلی در جابینجاهمه‌ی استان‌هاتهرانخراسان رضویاصفهانالبرزفارسقمآذربایجان شرقیمازندرانگیلانخوزستانکرمانیزدقزوینمرکزیهرمزگانگلستانزنجانسیستان و بلوچستانبوشهرآذربایجان غربیسمنانکرمانشاههمداناردبیللرستانکردستانخراسان شمالیایلامخراسان جنوبیچهارمحال بختیاریکهکیلویه و بویراحمدهمه‌ی دسته‌بندی‌هاپشتیبانی و امور مشتریانفروش و بازاریابیوب،‌ برنامه‌نویسی و نرم‌افزارمالی و حسابداریمسئول دفتر، اجرائی و اداریتولید و مدیریت محتوادیجیتال مارکتینگطراحیIT / DevOps / Serverمهندسی صنای       N/A      N/A          N/A          N/A           N/A             N/A        N/A    N/A             N/A\n",
      "                                                                                                                                                          https://jobinja.ir/jobs?filters%5Bjob_categories%5D%5B%5D=%D9%88%D8%A8%D8%8C%E2%80%8C+%D8%A8%D8%B1%D9%86%D8%A7%D9%85%D9%87%E2%80%8C%D9%86%D9%88%DB%8C%D8%B3%DB%8C+%D9%88+%D9%86%D8%B1%D9%85%E2%80%8C%D8%A7%D9%81%D8%B2%D8%A7%D8%B1        استخدام برنامه نویس | استخدام طراح سایت| استخدام برنامه نویس وب\\n | جابینجاامکان جدید:همین حالا رزومه خود را در کمتر از ۱۰ دقیقه بسازید،برو به رزومه‌سازJobinja | جابینجا | استخدام، آگهی استخدام، کاریابی، استخدامی جدید، بازار کار، نیازمندیها، ساخت رزومه رایگان، کار و استخدام دولتی، اشتغال، جستجوگر حرفه ای استخدام و شغلخانهجستجوی مشاغلرزومه‌ساز۵۰ شرکت برتربخش کارفرمایانورود کارجوثبت‌نام کارجوورود کارجوثبت‌نام کارجو۱جابینجا چطور به استخدام شدن من کمک می‌کند؟مشاهدهمشاهده بیشترجستجودرخواست‌های مننشان‌شده‌هاآگهی‌های پیشنهادیاز آگهی‌های جدید باخبر شوبهترین فرصت های شغلی در جابینجاهمه‌ی استان‌هاتهرانخراسان رضویاصفهانالبرزفارسقمآذربایجان شرقیمازندرانگیلانخوزستانکرمانیزدقزوینمرکزیهرمزگانگلستانزنجانسیستان و بلوچستانبوشهرآذربایجان غربیسمنانکرمانشاههمداناردبیللرستانکردستانخراسان شمالیایلامخراسان جنوبیچهارمحال بختیاریکهکیلویه و بویراحمدهمه‌ی دسته‌بندی‌هاوب،‌ برنامه‌نویسی و نرم‌افزارفروش و بازاریابیمالی و حسابداریمسئول دفتر، اجرائی و اداریتولید و مدیریت محتوادیجیتال مارکتینگپشتیبانی و امور مشتریانطراح       N/A      N/A          N/A          N/A           N/A             N/A        N/A    N/A             N/A\n",
      "                                                                                                                                                                                                                                                                                                                                                                    https://jobinja.ir/top50        فهرست ۵۰ شرکت برتر ایران برای کار | جابینجاامکان جدید:همین حالا رزومه خود را در کمتر از ۱۰ دقیقه بسازید،برو به رزومه‌سازJobinja | جابینجا | استخدام، آگهی استخدام، کاریابی، استخدامی جدید، بازار کار، نیازمندیها، ساخت رزومه رایگان، کار و استخدام دولتی، اشتغال، جستجوگر حرفه ای استخدام و شغلخانهجستجوی مشاغلرزومه‌ساز۵۰ شرکت برتربخش کارفرمایانورود کارجوثبت‌نام کارجوورود کارجوثبت‌نام کارجو۱جابینجا چطور به استخدام شدن من کمک می‌کند؟مشاهدهمشاهده بیشترفهرست ۵۰ شرکت برتر ایران برای کارپیش از انتخاب شغل و مسیر حرفه‌ای خود، رتبه‌بندی شرکت‌های برتر ایران را در جابینجا مشاهده کنید!این فهرست بر اساس بررسی شاخص‌های مختلف در ۹۰ روز اخیر تهیه شده است.فهرست ۵۰ شرکت برتر ایرانهمه شرکت‌ها۱ویستا سامانه آسا | ASA۹/۶مشاهده صفحه شرکتکامپیوتر، فناوری اطلاعات و اینترنت۵۰۱ تا ۱۰۰۰ نفر۲۴\\n                                                    شغل فعال۱۰محبوبیت میان کارجویان۱۰تعدد و تنوع فرصت‌های شغلی۹بررسی رزومه‌های دریافتیشرکت دانش بنیان آسا از مجموعه ای از افراد پرتلاش و خلاق تشکیل شده که تلاش می‌کنند تا آسا را به یک        N/A      N/A          N/A          N/A           N/A             N/A        N/A    N/A             N/A\n",
      "                                                                                                                                                                                                                                                                                                   https://jobinja.ir/jobs?filters%5Bkeywords%5D%5B0%5D=%D9%88%D8%B1%D8%AF%D9%BE%D8%B1%D8%B3        فرصت های شغلی وردپرس\\n | جابینجاامکان جدید:همین حالا رزومه خود را در کمتر از ۱۰ دقیقه بسازید،برو به رزومه‌سازJobinja | جابینجا | استخدام، آگهی استخدام، کاریابی، استخدامی جدید، بازار کار، نیازمندیها، ساخت رزومه رایگان، کار و استخدام دولتی، اشتغال، جستجوگر حرفه ای استخدام و شغلخانهجستجوی مشاغلرزومه‌ساز۵۰ شرکت برتربخش کارفرمایانورود کارجوثبت‌نام کارجوورود کارجوثبت‌نام کارجو۱جابینجا چطور به استخدام شدن من کمک می‌کند؟مشاهدهمشاهده بیشترجستجودرخواست‌های مننشان‌شده‌هاآگهی‌های پیشنهادیاز آگهی‌های جدید باخبر شوبهترین فرصت های شغلی در جابینجاهمه‌ی استان‌هاتهرانخراسان رضویاصفهانالبرزفارسقمآذربایجان شرقیمازندرانگیلانخوزستانکرمانیزدقزوینمرکزیهرمزگانگلستانزنجانسیستان و بلوچستانبوشهرآذربایجان غربیسمنانکرمانشاههمداناردبیللرستانکردستانخراسان شمالیایلامخراسان جنوبیچهارمحال بختیاریکهکیلویه و بویراحمدهمه‌ی دسته‌بندی‌هافروش و بازاریابیوب،‌ برنامه‌نویسی و نرم‌افزارمالی و حسابداریمسئول دفتر، اجرائی و اداریتولید و مدیریت محتوادیجیتال مارکتینگپشتیبانی و امور مشتریانطراحیIT / DevOps / Serverمهندسی صنایع و مدیریت        N/A      N/A          N/A          N/A           N/A             N/A        N/A    N/A             N/A\n",
      "                                                                                                                                                                                                                                                                                                                                                                   https://jobinja.ir/how-to       جابینجا به چه شکلی به استخدام شدن من کمک می‌کنه؟ | جابینجاامکان جدید:همین حالا رزومه خود را در کمتر از ۱۰ دقیقه بسازید،برو به رزومه‌سازJobinja | جابینجا | استخدام، آگهی استخدام، کاریابی، استخدامی جدید، بازار کار، نیازمندیها، ساخت رزومه رایگان، کار و استخدام دولتی، اشتغال، جستجوگر حرفه ای استخدام و شغلخانهجستجوی مشاغلرزومه‌ساز۵۰ شرکت برتربخش کارفرمایانورود کارجوثبت‌نام کارجوورود کارجوثبت‌نام کارجو۱جابینجا چطور به استخدام شدن من کمک می‌کند؟مشاهدهمشاهده بیشترجستجودرخواست‌های مننشان‌شده‌هاآگهی‌های پیشنهادیاز آگهی‌های جدید باخبر شوجابینجا به چه شکلی به استخدام شدن\\n                                من\\n                                کمک می‌کنه؟رایگان۱ثبت‌نام به عنوان کارجوقبل از هرکاری شما باید به عنوان کارجو در سرویس استخدامی جابینجا ثبت نام کنید، با ثبت‌نام کردن ما اطلاعات بیشتری از شما داریم و بر اساس همین می‌تونیم سرویس‌های بهتری رو به شما ارائه بدیم.ثبت‌نام به عنوان کارجو۲جستجو در آگهی‌های استخدام و ارسال رزومهبا جستجو در آگهی‌های استخدام بیش از ۳۰۰۰ شرکت معتبر ایرانی می‌تونید رزومتون رو        N/A      N/A          N/A          N/A           N/A             N/A        N/A    N/A             N/A\n",
      "                                                                                                                                                                                                                                                                                                                                                   https://jobinja.ir/companies/daira-hamrah         استخدام در شرکت داریا همراه پایتخت ، آگهی های استخدام Daria Hamrah | جابینجاامکان جدید:همین حالا رزومه خود را در کمتر از ۱۰ دقیقه بسازید،برو به رزومه‌سازJobinja | جابینجا | استخدام، آگهی استخدام، کاریابی، استخدامی جدید، بازار کار، نیازمندیها، ساخت رزومه رایگان، کار و استخدام دولتی، اشتغال، جستجوگر حرفه ای استخدام و شغلخانهجستجوی مشاغلرزومه‌ساز۵۰ شرکت برتربخش کارفرمایانورود کارجوثبت‌نام کارجوورود کارجوثبت‌نام کارجو۱جابینجا چطور به استخدام شدن من کمک می‌کند؟مشاهدهمشاهده بیشترداریا همراه پایتخت|Daria Hamrahتاسیس در  ۱۳۹۹مخابرات و ارتباطات (تلکام)۵۰۱ تا ۱۰۰۰ نفرdariahamrah.ir/در یک نگاهمعرفیفرصت‌های شغلی۲۷سعی کرده ایم با رعایت ارزش های بنیادین داریا، محیطی مناسب برای شکوفایی توانمندی همکاران خود فراهم آوریم.موقعیت مکانیتهران، تهراناعضای شرکتمریم کارگرمدیر منابع انسانیهدف ما در داریا همراه این است که با انتقال دانش و یادگیری مستمر برای ارتقا و کسب مهارت تمامی افراد سازمان تلاش کنیم. بر این باوریم که نیل به اهداف، با ایجاد بستری برای پیشرفت و نوآوری در کنار سایر فعالیت‌های کاری امکان پذیر خو       N/A      N/A          N/A          N/A           N/A             N/A        N/A    N/A             N/A\n",
      "                                                                                                                                                                                                                                                                                                          https://jobinja.ir/jobs?filters%5Bjob_categories%5D%5B%5D=IT+%2F+DevOps+%2F+Server        استخدام متخصص امنیت شبکه | استخدام کارشناس شبکه | استخدام help desk | جابینجا\\n | جابینجاامکان جدید:همین حالا رزومه خود را در کمتر از ۱۰ دقیقه بسازید،برو به رزومه‌سازJobinja | جابینجا | استخدام، آگهی استخدام، کاریابی، استخدامی جدید، بازار کار، نیازمندیها، ساخت رزومه رایگان، کار و استخدام دولتی، اشتغال، جستجوگر حرفه ای استخدام و شغلخانهجستجوی مشاغلرزومه‌ساز۵۰ شرکت برتربخش کارفرمایانورود کارجوثبت‌نام کارجوورود کارجوثبت‌نام کارجو۱جابینجا چطور به استخدام شدن من کمک می‌کند؟مشاهدهمشاهده بیشترجستجودرخواست‌های مننشان‌شده‌هاآگهی‌های پیشنهادیاز آگهی‌های جدید باخبر شوبهترین فرصت های شغلی در جابینجاهمه‌ی استان‌هاتهرانخراسان رضویاصفهانالبرزفارسقمآذربایجان شرقیمازندرانگیلانخوزستانکرمانیزدقزوینمرکزیهرمزگانگلستانزنجانسیستان و بلوچستانبوشهرآذربایجان غربیسمنانکرمانشاههمداناردبیللرستانکردستانخراسان شمالیایلامخراسان جنوبیچهارمحال بختیاریکهکیلویه و بویراحمدهمه‌ی دسته‌بندی‌هاIT / DevOps / Serverفروش و بازاریابیوب،‌ برنامه‌نویسی و نرم‌افزارمالی و حسابداریمسئول دفتر، اجرائی و اداریتولید و مدیریت محتوادیجیتال م       N/A      N/A          N/A          N/A           N/A             N/A        N/A    N/A             N/A\n",
      "                                                                                                                                                                                                                                                                                             https://jobinja.ir/jobs?filters%5Bkeywords%5D%5B0%5D=%DA%AF%D8%B1%D8%A7%D9%81%DB%8C%D8%B3%D8%AA        فرصت های شغلی گرافیست\\n | جابینجاامکان جدید:همین حالا رزومه خود را در کمتر از ۱۰ دقیقه بسازید،برو به رزومه‌سازJobinja | جابینجا | استخدام، آگهی استخدام، کاریابی، استخدامی جدید، بازار کار، نیازمندیها، ساخت رزومه رایگان، کار و استخدام دولتی، اشتغال، جستجوگر حرفه ای استخدام و شغلخانهجستجوی مشاغلرزومه‌ساز۵۰ شرکت برتربخش کارفرمایانورود کارجوثبت‌نام کارجوورود کارجوثبت‌نام کارجو۱جابینجا چطور به استخدام شدن من کمک می‌کند؟مشاهدهمشاهده بیشترجستجودرخواست‌های مننشان‌شده‌هاآگهی‌های پیشنهادیاز آگهی‌های جدید باخبر شوبهترین فرصت های شغلی در جابینجاهمه‌ی استان‌هاتهرانخراسان رضویاصفهانالبرزفارسقمآذربایجان شرقیمازندرانگیلانخوزستانکرمانیزدقزوینمرکزیهرمزگانگلستانزنجانسیستان و بلوچستانبوشهرآذربایجان غربیسمنانکرمانشاههمداناردبیللرستانکردستانخراسان شمالیایلامخراسان جنوبیچهارمحال بختیاریکهکیلویه و بویراحمدهمه‌ی دسته‌بندی‌هافروش و بازاریابیوب،‌ برنامه‌نویسی و نرم‌افزارمالی و حسابداریمسئول دفتر، اجرائی و اداریتولید و مدیریت محتوادیجیتال مارکتینگپشتیبانی و امور مشتریانطراحیIT / DevOps / Serverمهندسی صنایع و مدیریت       N/A      N/A          N/A          N/A           N/A             N/A        N/A    N/A             N/A\n",
      "                                                                                                                                                                                                                                                                                                                                                     https://jobinja.ir/companies/asa-1/jobs         فرصت‌های شغلی فعال در ویستا سامانه آسا | ASA | جابینجاامکان جدید:همین حالا رزومه خود را در کمتر از ۱۰ دقیقه بسازید،برو به رزومه‌سازJobinja | جابینجا | استخدام، آگهی استخدام، کاریابی، استخدامی جدید، بازار کار، نیازمندیها، ساخت رزومه رایگان، کار و استخدام دولتی، اشتغال، جستجوگر حرفه ای استخدام و شغلخانهجستجوی مشاغلرزومه‌ساز۵۰ شرکت برتربخش کارفرمایانورود کارجوثبت‌نام کارجوورود کارجوثبت‌نام کارجو۱جابینجا چطور به استخدام شدن من کمک می‌کند؟مشاهدهمشاهده بیشترویستا سامانه آسا|ASAتاسیس در  ۱۳۹۱کامپیوتر، فناوری اطلاعات و اینترنت۵۰۱ تا ۱۰۰۰ نفرasax.irدر یک نگاهمعرفیفرصت‌های شغلی۲۵معرفی ویستا سامانه آساشرکت دانش بنیان آسا از مجموعه ای از افراد پرتلاش و خلاق تشکیل شده که تلاش می کنند تا آسا را به یک شرکت نرم افزاری در حوزه بازارهای مالی تبدیل کنند و برای دست یافتن به این اهداف نیاز به اعضای بیشتری دارد.آسا سقف پرواز ندارد و تلاش می کند مسیر رشد برای هر فرد کوشایی را در یک محیط صمیمی هموار سازد.ما آسایی ها مشتاقیم که بعد از آگاهی از توان علمی و حرفه ای یکدیگر، در کنار هم به موفقیت های بزرگتری دست یا       N/A      N/A          N/A          N/A           N/A             N/A        N/A    N/A             N/A\n",
      "                                                                                                                                                                                                                                                                                             https://jobinja.ir/jobs?filters%5Bkeywords%5D%5B0%5D=%D9%81%D8%B1%D9%88%D8%B4%D9%86%D8%AF%D9%87        فرصت های شغلی فروشنده\\n | جابینجاامکان جدید:همین حالا رزومه خود را در کمتر از ۱۰ دقیقه بسازید،برو به رزومه‌سازJobinja | جابینجا | استخدام، آگهی استخدام، کاریابی، استخدامی جدید، بازار کار، نیازمندیها، ساخت رزومه رایگان، کار و استخدام دولتی، اشتغال، جستجوگر حرفه ای استخدام و شغلخانهجستجوی مشاغلرزومه‌ساز۵۰ شرکت برتربخش کارفرمایانورود کارجوثبت‌نام کارجوورود کارجوثبت‌نام کارجو۱جابینجا چطور به استخدام شدن من کمک می‌کند؟مشاهدهمشاهده بیشترجستجودرخواست‌های مننشان‌شده‌هاآگهی‌های پیشنهادیاز آگهی‌های جدید باخبر شوبهترین فرصت های شغلی در جابینجاهمه‌ی استان‌هاتهرانخراسان رضویاصفهانالبرزفارسقمآذربایجان شرقیمازندرانگیلانخوزستانکرمانیزدقزوینمرکزیهرمزگانگلستانزنجانسیستان و بلوچستانبوشهرآذربایجان غربیسمنانکرمانشاههمداناردبیللرستانکردستانخراسان شمالیایلامخراسان جنوبیچهارمحال بختیاریکهکیلویه و بویراحمدهمه‌ی دسته‌بندی‌هافروش و بازاریابیوب،‌ برنامه‌نویسی و نرم‌افزارمالی و حسابداریمسئول دفتر، اجرائی و اداریتولید و مدیریت محتوادیجیتال مارکتینگپشتیبانی و امور مشتریانطراحیIT / DevOps / Serverمهندسی صنایع و مدیریت       N/A      N/A          N/A          N/A           N/A             N/A        N/A    N/A             N/A\n",
      "                                                                                                                                                                                                                                                                    https://jobinja.ir/jobs?filters%5Bkeywords%5D%5B0%5D=%DA%A9%D8%A7%D8%B1%D8%B4%D9%86%D8%A7%D8%B3+%D9%81%D8%B1%D9%88%D8%B4        فرصت های شغلی کارشناس فروش\\n | جابینجاامکان جدید:همین حالا رزومه خود را در کمتر از ۱۰ دقیقه بسازید،برو به رزومه‌سازJobinja | جابینجا | استخدام، آگهی استخدام، کاریابی، استخدامی جدید، بازار کار، نیازمندیها، ساخت رزومه رایگان، کار و استخدام دولتی، اشتغال، جستجوگر حرفه ای استخدام و شغلخانهجستجوی مشاغلرزومه‌ساز۵۰ شرکت برتربخش کارفرمایانورود کارجوثبت‌نام کارجوورود کارجوثبت‌نام کارجو۱جابینجا چطور به استخدام شدن من کمک می‌کند؟مشاهدهمشاهده بیشترجستجودرخواست‌های مننشان‌شده‌هاآگهی‌های پیشنهادیاز آگهی‌های جدید باخبر شوبهترین فرصت های شغلی در جابینجاهمه‌ی استان‌هاتهرانخراسان رضویاصفهانالبرزفارسقمآذربایجان شرقیمازندرانگیلانخوزستانکرمانیزدقزوینمرکزیهرمزگانگلستانزنجانسیستان و بلوچستانبوشهرآذربایجان غربیسمنانکرمانشاههمداناردبیللرستانکردستانخراسان شمالیایلامخراسان جنوبیچهارمحال بختیاریکهکیلویه و بویراحمدهمه‌ی دسته‌بندی‌هافروش و بازاریابیوب،‌ برنامه‌نویسی و نرم‌افزارمالی و حسابداریمسئول دفتر، اجرائی و اداریتولید و مدیریت محتوادیجیتال مارکتینگپشتیبانی و امور مشتریانطراحیIT / DevOps / Serverمهندسی صنایع و م       N/A      N/A          N/A          N/A           N/A             N/A        N/A    N/A             N/A\n",
      "                                                                                                                                                                                                                                                                          https://jobinja.ir/jobs?filters%5Bkeywords%5D%5B0%5D=%DA%A9%D9%85%DA%A9+%D8%AD%D8%B3%D8%A7%D8%A8%D8%AF%D8%A7%D8%B1        فرصت های شغلی کمک حسابدار\\n | جابینجاامکان جدید:همین حالا رزومه خود را در کمتر از ۱۰ دقیقه بسازید،برو به رزومه‌سازJobinja | جابینجا | استخدام، آگهی استخدام، کاریابی، استخدامی جدید، بازار کار، نیازمندیها، ساخت رزومه رایگان، کار و استخدام دولتی، اشتغال، جستجوگر حرفه ای استخدام و شغلخانهجستجوی مشاغلرزومه‌ساز۵۰ شرکت برتربخش کارفرمایانورود کارجوثبت‌نام کارجوورود کارجوثبت‌نام کارجو۱جابینجا چطور به استخدام شدن من کمک می‌کند؟مشاهدهمشاهده بیشترجستجودرخواست‌های مننشان‌شده‌هاآگهی‌های پیشنهادیاز آگهی‌های جدید باخبر شوبهترین فرصت های شغلی در جابینجاهمه‌ی استان‌هاتهرانخراسان رضویاصفهانالبرزفارسقمآذربایجان شرقیمازندرانگیلانخوزستانکرمانیزدقزوینمرکزیهرمزگانگلستانزنجانسیستان و بلوچستانبوشهرآذربایجان غربیسمنانکرمانشاههمداناردبیللرستانکردستانخراسان شمالیایلامخراسان جنوبیچهارمحال بختیاریکهکیلویه و بویراحمدهمه‌ی دسته‌بندی‌هافروش و بازاریابیوب،‌ برنامه‌نویسی و نرم‌افزارمالی و حسابداریمسئول دفتر، اجرائی و اداریتولید و مدیریت محتوادیجیتال مارکتینگپشتیبانی و امور مشتریانطراحیIT / DevOps / Serverمهندسی صنایع و مد       N/A      N/A          N/A          N/A           N/A             N/A        N/A    N/A             N/A\n",
      "                                                                                                                                                                                                                                                                                                                                                       https://panel.jobinja.ir/auth/sign-in                                                                                                                                                                                                                                                                                                                                                                                                                                                                                                                                                                                                                                                                                                  ورود به حساب کارفرمایی | جابینجاحساب کارفرمایی ندارید؟ثبت نام کارفرمایانکارفرمایانورود به حساب کارفرماییایمیل یا شماره موبایلرمز عبورورودرمز عبور خود را فراموش کرده‌اید؟فراموشی رمز عبور۰۲۱-۹۱۰۷۱۳۹۴تماس با ما×ساعات کاری:شنبه تا چهارشنبه از ۹:۰۰ تا ۱۷:۳۰ به استثنای تعطیلی‌های رسمی۰۲۱-۹۱۰۷۱۳۹۴شرکت فناوران سرمایه انسانی جاویدان (جابینجا)       N/A      N/A          N/A          N/A           N/A             N/A        N/A    N/A             N/A\n",
      "                                                                                                                                                                                                                                                                                                                                                      https://jobinja.ir/companies/nobitex-1         استخدام در شرکت نوبیتکس، آگهی های استخدام Nobitex | جابینجاامکان جدید:همین حالا رزومه خود را در کمتر از ۱۰ دقیقه بسازید،برو به رزومه‌سازJobinja | جابینجا | استخدام، آگهی استخدام، کاریابی، استخدامی جدید، بازار کار، نیازمندیها، ساخت رزومه رایگان، کار و استخدام دولتی، اشتغال، جستجوگر حرفه ای استخدام و شغلخانهجستجوی مشاغلرزومه‌ساز۵۰ شرکت برتربخش کارفرمایانورود کارجوثبت‌نام کارجوورود کارجوثبت‌نام کارجو۱جابینجا چطور به استخدام شدن من کمک می‌کند؟مشاهدهمشاهده بیشترنوبیتکس|Nobitexتاسیس در  ۱۳۹۶کامپیوتر، فناوری اطلاعات و اینترنت۲۰۱ تا ۵۰۰ نفرnobitex.irدر یک نگاهمعرفیفرصت‌های شغلی۱۰این جا نوبیتکسه: بزرگترین بستر مبادله دارایی‌های دیجیتال در ایران که از سال ۱۳۹۶ شروع به کار کرد. ما تلاش می‌کنیم تا کاربران ایرانی به سادگی دارایی‌های دیجیتال خودشون رو معامله یا نگهداری کننموقعیت مکانیتهران، تهراناعضای شرکتمهدی سیلاویمدیر محصولنوبیتکس به عنوان رهبر بازار رمزارزی ایران، با استفاده از تکنولوژی بلاکچین نه تنها به دنبال خلق ارزش در کشور،‌ بلکه به دنبال نوآوری و حرف تازه در دنیاست. اگه فکر می‌کنی می‌تونی        N/A      N/A          N/A          N/A           N/A             N/A        N/A    N/A             N/A\n",
      "                                                                                                                                                                                                                                                                                                   https://jobinja.ir/jobs?filters%5Blocations%5D%5B%5D=%D9%84%D8%B1%D8%B3%D8%AA%D8%A7%D9%86        آگهی استخدام لرستان | استخدام لرستان | کاریابی لرستان\\n | جابینجاامکان جدید:همین حالا رزومه خود را در کمتر از ۱۰ دقیقه بسازید،برو به رزومه‌سازJobinja | جابینجا | استخدام، آگهی استخدام، کاریابی، استخدامی جدید، بازار کار، نیازمندیها، ساخت رزومه رایگان، کار و استخدام دولتی، اشتغال، جستجوگر حرفه ای استخدام و شغلخانهجستجوی مشاغلرزومه‌ساز۵۰ شرکت برتربخش کارفرمایانورود کارجوثبت‌نام کارجوورود کارجوثبت‌نام کارجو۱جابینجا چطور به استخدام شدن من کمک می‌کند؟مشاهدهمشاهده بیشترجستجودرخواست‌های مننشان‌شده‌هاآگهی‌های پیشنهادیاز آگهی‌های جدید باخبر شوبهترین فرصت های شغلی در جابینجاهمه‌ی استان‌هالرستانتهرانخراسان رضویاصفهانالبرزفارسقمآذربایجان شرقیمازندرانگیلانخوزستانکرمانیزدقزوینمرکزیهرمزگانگلستانزنجانسیستان و بلوچستانبوشهرآذربایجان غربیسمنانکرمانشاههمداناردبیلکردستانخراسان شمالیایلامخراسان جنوبیچهارمحال بختیاریکهکیلویه و بویراحمدهمه‌ی دسته‌بندی‌هافروش و بازاریابیوب،‌ برنامه‌نویسی و نرم‌افزارمالی و حسابداریمسئول دفتر، اجرائی و اداریتولید و مدیریت محتوادیجیتال مارکتینگپشتیبانی و امور مشتریانطراحیIT / DevO       N/A      N/A          N/A          N/A           N/A             N/A        N/A    N/A             N/A\n",
      "                                                                                                                                                                                                                                                                                                                                                        https://jobinja.ir/companies/bugloos         استخدام در شرکت باگلوس، آگهی های استخدام Bugloos | جابینجاامکان جدید:همین حالا رزومه خود را در کمتر از ۱۰ دقیقه بسازید،برو به رزومه‌سازJobinja | جابینجا | استخدام، آگهی استخدام، کاریابی، استخدامی جدید، بازار کار، نیازمندیها، ساخت رزومه رایگان، کار و استخدام دولتی، اشتغال، جستجوگر حرفه ای استخدام و شغلخانهجستجوی مشاغلرزومه‌ساز۵۰ شرکت برتربخش کارفرمایانورود کارجوثبت‌نام کارجوورود کارجوثبت‌نام کارجو۱جابینجا چطور به استخدام شدن من کمک می‌کند؟مشاهدهمشاهده بیشترباگلوس|Bugloosتاسیس در  ۲۰۰۶کامپیوتر، فناوری اطلاعات و اینترنت۵۱ تا ۲۰۰ نفرbugloos.com/در یک نگاهمعرفیفرصت‌های شغلی۹باگلوس یک شرکت درزمینه فناوری اطلاعات است که در سال 2006 درهلند تاسیس گردیده است.موقعیت مکانیتهران، تهراناعضای شرکتکمال زرندیمدیر فنیما در باگلوس تونستیم ترکیبی از فرهنگ و خونگرمی ایرانی رو با نظم و کیفیت اروپایی ترکیب کنیم و محیطی پویا، منظم و با خروجی بالا ایجاد کنیم که بتونیم پروژه‌های قابل رقابت با اروپا تولید و به مشتریان ارائه کنیم.هیمن عبداللهی حقیمسئول منابع انسانیدر مجموعه باگلوس شما می‌توانید حس فعالیت در یک خا       N/A      N/A          N/A          N/A           N/A             N/A        N/A    N/A             N/A\n",
      "                                                                                                                                                                                                                                                              https://jobinja.ir/jobs?filters%5Bkeywords%5D%5B0%5D=%D8%A7%D8%AF%D9%85%DB%8C%D9%86+%D8%AF%D9%88%D8%B1%DA%A9%D8%A7%D8%B1%DB%8C        فرصت های شغلی ادمین دورکاری\\n | جابینجاامکان جدید:همین حالا رزومه خود را در کمتر از ۱۰ دقیقه بسازید،برو به رزومه‌سازJobinja | جابینجا | استخدام، آگهی استخدام، کاریابی، استخدامی جدید، بازار کار، نیازمندیها، ساخت رزومه رایگان، کار و استخدام دولتی، اشتغال، جستجوگر حرفه ای استخدام و شغلخانهجستجوی مشاغلرزومه‌ساز۵۰ شرکت برتربخش کارفرمایانورود کارجوثبت‌نام کارجوورود کارجوثبت‌نام کارجو۱جابینجا چطور به استخدام شدن من کمک می‌کند؟مشاهدهمشاهده بیشترجستجودرخواست‌های مننشان‌شده‌هاآگهی‌های پیشنهادیاز آگهی‌های جدید باخبر شوبهترین فرصت های شغلی در جابینجاهمه‌ی استان‌هاتهرانخراسان رضویاصفهانالبرزفارسقمآذربایجان شرقیمازندرانگیلانخوزستانکرمانیزدقزوینمرکزیهرمزگانگلستانزنجانسیستان و بلوچستانبوشهرآذربایجان غربیسمنانکرمانشاههمداناردبیللرستانکردستانخراسان شمالیایلامخراسان جنوبیچهارمحال بختیاریکهکیلویه و بویراحمدهمه‌ی دسته‌بندی‌هافروش و بازاریابیوب،‌ برنامه‌نویسی و نرم‌افزارمالی و حسابداریمسئول دفتر، اجرائی و اداریتولید و مدیریت محتوادیجیتال مارکتینگپشتیبانی و امور مشتریانطراحیIT / DevOps / Serverمهندسی صنایع و        N/A      N/A          N/A          N/A           N/A             N/A        N/A    N/A             N/A\n",
      "                                                                                                                                                                                                         https://jobinja.ir/%D8%B3%D9%88%D8%A7%D9%84%D8%A7%D8%AA-%D9%85%D8%AA%D8%AF%D8%A7%D9%88%D9%84-%D8%AF%D8%B1%D8%AC-%D8%A2%DA%AF%D9%87%DB%8C-%D8%A7%D8%B3%D8%AA%D8%AE%D8%AF%D8%A7%D9%85         سوالات متداول کارفرمایان | جابینجاامکان جدید:همین حالا رزومه خود را در کمتر از ۱۰ دقیقه بسازید،برو به رزومه‌سازJobinja | جابینجا | استخدام، آگهی استخدام، کاریابی، استخدامی جدید، بازار کار، نیازمندیها، ساخت رزومه رایگان، کار و استخدام دولتی، اشتغال، جستجوگر حرفه ای استخدام و شغلخانهجستجوی مشاغلرزومه‌ساز۵۰ شرکت برتربخش کارفرمایانورود کارجوثبت‌نام کارجوورود کارجوثبت‌نام کارجو۱جابینجا چطور به استخدام شدن من کمک می‌کند؟مشاهدهمشاهده بیشترسوالات متداول کارفرمایانسوالات متداول حساب کاربری کارفرمایانثبت‌نام و ور...قوانین و شرایط استفاده کارفرمایانهرگونه استفاده از جابینجا به معنی پذیرفتن شرایط مندرج در این سایت است. جابینجا هیچ ت...بخش‌های دانشنامهنمونه رزومه کاریسوالات متداول کارجویانسوالات متداول کارفرمایانکارجویانسوالات متداول کارجویانقوانین و مقررات کارجویانلیست مشاغلآگهی‌های استخدامورود / ثبت‌نام کارجوایمیل‌های اطلاع‌رسانیرزومه‌ساز آنلاینآشنایی با شرکت‌هاکارفرمایانسوالات متداول کارفرمایانقوانین و مقررات کارفرمایاندرج آگهی استخدامورود به بخش کارفرمایانتعرفه‌ی انتشار آگهیسؤالات متداولجابینجا       N/A      N/A          N/A          N/A           N/A             N/A        N/A    N/A             N/A\n",
      "                                                                                                                                                                                                                                            https://jobinja.ir/jobs?filters%5Bjob_categories%5D%5B%5D=%D9%81%D8%B1%D9%88%D8%B4+%D9%88+%D8%A8%D8%A7%D8%B2%D8%A7%D8%B1%DB%8C%D8%A7%D8%A8%DB%8C        استخدام فروش و بازاریابی | استخدام بازاریابی و فروش | جابینجا\\n | جابینجاامکان جدید:همین حالا رزومه خود را در کمتر از ۱۰ دقیقه بسازید،برو به رزومه‌سازJobinja | جابینجا | استخدام، آگهی استخدام، کاریابی، استخدامی جدید، بازار کار، نیازمندیها، ساخت رزومه رایگان، کار و استخدام دولتی، اشتغال، جستجوگر حرفه ای استخدام و شغلخانهجستجوی مشاغلرزومه‌ساز۵۰ شرکت برتربخش کارفرمایانورود کارجوثبت‌نام کارجوورود کارجوثبت‌نام کارجو۱جابینجا چطور به استخدام شدن من کمک می‌کند؟مشاهدهمشاهده بیشترجستجودرخواست‌های مننشان‌شده‌هاآگهی‌های پیشنهادیاز آگهی‌های جدید باخبر شوبهترین فرصت های شغلی در جابینجاهمه‌ی استان‌هاتهرانخراسان رضویاصفهانالبرزفارسقمآذربایجان شرقیمازندرانگیلانخوزستانکرمانیزدقزوینمرکزیهرمزگانگلستانزنجانسیستان و بلوچستانبوشهرآذربایجان غربیسمنانکرمانشاههمداناردبیللرستانکردستانخراسان شمالیایلامخراسان جنوبیچهارمحال بختیاریکهکیلویه و بویراحمدهمه‌ی دسته‌بندی‌هافروش و بازاریابیوب،‌ برنامه‌نویسی و نرم‌افزارمالی و حسابداریمسئول دفتر، اجرائی و اداریتولید و مدیریت محتوادیجیتال مارکتینگپشتیبانی و امور مشتریانطراحیI       N/A      N/A          N/A          N/A           N/A             N/A        N/A    N/A             N/A\n",
      "                                                                                                                                                                                                                                                                                        https://jobinja.ir/jobs?filters%5Bjob_categories%5D%5B%5D=%DA%AF%D8%B1%D8%AF%D8%B4%DA%AF%D8%B1%DB%8C        کارشناس امور مهاجرت | استخدام کارمند آژانس مسافرتی | کارشناس امور ویزا | جابینجا\\n | جابینجاامکان جدید:همین حالا رزومه خود را در کمتر از ۱۰ دقیقه بسازید،برو به رزومه‌سازJobinja | جابینجا | استخدام، آگهی استخدام، کاریابی، استخدامی جدید، بازار کار، نیازمندیها، ساخت رزومه رایگان، کار و استخدام دولتی، اشتغال، جستجوگر حرفه ای استخدام و شغلخانهجستجوی مشاغلرزومه‌ساز۵۰ شرکت برتربخش کارفرمایانورود کارجوثبت‌نام کارجوورود کارجوثبت‌نام کارجو۱جابینجا چطور به استخدام شدن من کمک می‌کند؟مشاهدهمشاهده بیشترجستجودرخواست‌های مننشان‌شده‌هاآگهی‌های پیشنهادیاز آگهی‌های جدید باخبر شوبهترین فرصت های شغلی در جابینجاهمه‌ی استان‌هاتهرانخراسان رضویاصفهانالبرزفارسقمآذربایجان شرقیمازندرانگیلانخوزستانکرمانیزدقزوینمرکزیهرمزگانگلستانزنجانسیستان و بلوچستانبوشهرآذربایجان غربیسمنانکرمانشاههمداناردبیللرستانکردستانخراسان شمالیایلامخراسان جنوبیچهارمحال بختیاریکهکیلویه و بویراحمدهمه‌ی دسته‌بندی‌هاگردشگریفروش و بازاریابیوب،‌ برنامه‌نویسی و نرم‌افزارمالی و حسابداریمسئول دفتر، اجرائی و اداریتولید و مدیریت محتوادیجیتال مارکتینگپشت       N/A      N/A          N/A          N/A           N/A             N/A        N/A    N/A             N/A\n",
      "                                                                                                                                                                                                                                                                                                                                    https://jobinja.ir/jobs?filters%5Bkeywords%5D%5B0%5D=Php        فرصت های شغلی Php\\n | جابینجاامکان جدید:همین حالا رزومه خود را در کمتر از ۱۰ دقیقه بسازید،برو به رزومه‌سازJobinja | جابینجا | استخدام، آگهی استخدام، کاریابی، استخدامی جدید، بازار کار، نیازمندیها، ساخت رزومه رایگان، کار و استخدام دولتی، اشتغال، جستجوگر حرفه ای استخدام و شغلخانهجستجوی مشاغلرزومه‌ساز۵۰ شرکت برتربخش کارفرمایانورود کارجوثبت‌نام کارجوورود کارجوثبت‌نام کارجو۱جابینجا چطور به استخدام شدن من کمک می‌کند؟مشاهدهمشاهده بیشترجستجودرخواست‌های مننشان‌شده‌هاآگهی‌های پیشنهادیاز آگهی‌های جدید باخبر شوبهترین فرصت های شغلی در جابینجاهمه‌ی استان‌هاتهرانخراسان رضویاصفهانالبرزفارسقمآذربایجان شرقیمازندرانگیلانخوزستانکرمانیزدقزوینمرکزیهرمزگانگلستانزنجانسیستان و بلوچستانبوشهرآذربایجان غربیسمنانکرمانشاههمداناردبیللرستانکردستانخراسان شمالیایلامخراسان جنوبیچهارمحال بختیاریکهکیلویه و بویراحمدهمه‌ی دسته‌بندی‌هافروش و بازاریابیوب،‌ برنامه‌نویسی و نرم‌افزارمالی و حسابداریمسئول دفتر، اجرائی و اداریتولید و مدیریت محتوادیجیتال مارکتینگپشتیبانی و امور مشتریانطراحیIT / DevOps / Serverمهندسی صنایع و مدیریت صنع       N/A      N/A          N/A          N/A           N/A             N/A        N/A    N/A             N/A\n",
      "                                                                                                                                                                                                                            https://jobinja.ir/jobs?filters%5Bjob_categories%5D%5B%5D=%D8%AD%D9%88%D8%B2%D9%87%E2%80%8C+%D8%B3%DB%8C%D9%86%D9%85%D8%A7+%D9%88+%D8%AA%D8%B5%D9%88%DB%8C%D8%B1        استخدام تصویربردار | استخدام مجری\\n | جابینجاامکان جدید:همین حالا رزومه خود را در کمتر از ۱۰ دقیقه بسازید،برو به رزومه‌سازJobinja | جابینجا | استخدام، آگهی استخدام، کاریابی، استخدامی جدید، بازار کار، نیازمندیها، ساخت رزومه رایگان، کار و استخدام دولتی، اشتغال، جستجوگر حرفه ای استخدام و شغلخانهجستجوی مشاغلرزومه‌ساز۵۰ شرکت برتربخش کارفرمایانورود کارجوثبت‌نام کارجوورود کارجوثبت‌نام کارجو۱جابینجا چطور به استخدام شدن من کمک می‌کند؟مشاهدهمشاهده بیشترجستجودرخواست‌های مننشان‌شده‌هاآگهی‌های پیشنهادیاز آگهی‌های جدید باخبر شوبهترین فرصت های شغلی در جابینجاهمه‌ی استان‌هاتهرانخراسان رضویاصفهانالبرزفارسقمآذربایجان شرقیمازندرانگیلانخوزستانکرمانیزدقزوینمرکزیهرمزگانگلستانزنجانسیستان و بلوچستانبوشهرآذربایجان غربیسمنانکرمانشاههمداناردبیللرستانکردستانخراسان شمالیایلامخراسان جنوبیچهارمحال بختیاریکهکیلویه و بویراحمدهمه‌ی دسته‌بندی‌هاحوزه‌ سینما و تصویرفروش و بازاریابیوب،‌ برنامه‌نویسی و نرم‌افزارمالی و حسابداریمسئول دفتر، اجرائی و اداریتولید و مدیریت محتوادیجیتال مارکتینگپشتیبانی و امور مشتریانطراحیIT / DevOp       N/A      N/A          N/A          N/A           N/A             N/A        N/A    N/A             N/A\n",
      "                                                                                                                                                                                                                                            https://jobinja.ir/jobs?filters%5Blocations%5D%5B%5D=%DA%86%D9%87%D8%A7%D8%B1%D9%85%D8%AD%D8%A7%D9%84+%D8%A8%D8%AE%D8%AA%DB%8C%D8%A7%D8%B1%DB%8C        آگهی استخدام چهارمحال بختیاری | استخدام چهارمحال بختیاری | کاریابی چهارمحال بختیاری\\n | جابینجاامکان جدید:همین حالا رزومه خود را در کمتر از ۱۰ دقیقه بسازید،برو به رزومه‌سازJobinja | جابینجا | استخدام، آگهی استخدام، کاریابی، استخدامی جدید، بازار کار، نیازمندیها، ساخت رزومه رایگان، کار و استخدام دولتی، اشتغال، جستجوگر حرفه ای استخدام و شغلخانهجستجوی مشاغلرزومه‌ساز۵۰ شرکت برتربخش کارفرمایانورود کارجوثبت‌نام کارجوورود کارجوثبت‌نام کارجو۱جابینجا چطور به استخدام شدن من کمک می‌کند؟مشاهدهمشاهده بیشترجستجودرخواست‌های مننشان‌شده‌هاآگهی‌های پیشنهادیاز آگهی‌های جدید باخبر شوبهترین فرصت های شغلی در جابینجاهمه‌ی استان‌هاچهارمحال بختیاریتهرانخراسان رضویاصفهانالبرزفارسقمآذربایجان شرقیمازندرانگیلانخوزستانکرمانیزدقزوینمرکزیهرمزگانگلستانزنجانسیستان و بلوچستانبوشهرآذربایجان غربیسمنانکرمانشاههمداناردبیللرستانکردستانخراسان شمالیایلامخراسان جنوبیکهکیلویه و بویراحمدهمه‌ی دسته‌بندی‌هافروش و بازاریابیوب،‌ برنامه‌نویسی و نرم‌افزارمالی و حسابداریمسئول دفتر، اجرائی و اداریتولید و مدیریت محتوادیجیتال مارکتینگپشتیبان       N/A      N/A          N/A          N/A           N/A             N/A        N/A    N/A             N/A\n",
      "                                                                                                                                                                                                                                                                          https://jobinja.ir/jobs?filters%5Blocations%5D%5B%5D=%D8%AE%D8%B1%D8%A7%D8%B3%D8%A7%D9%86+%D8%B1%D8%B6%D9%88%DB%8C        آگهی استخدام خراسان رضوی | استخدام خراسان رضوی | کاریابی خراسان رضوی\\n | جابینجاامکان جدید:همین حالا رزومه خود را در کمتر از ۱۰ دقیقه بسازید،برو به رزومه‌سازJobinja | جابینجا | استخدام، آگهی استخدام، کاریابی، استخدامی جدید، بازار کار، نیازمندیها، ساخت رزومه رایگان، کار و استخدام دولتی، اشتغال، جستجوگر حرفه ای استخدام و شغلخانهجستجوی مشاغلرزومه‌ساز۵۰ شرکت برتربخش کارفرمایانورود کارجوثبت‌نام کارجوورود کارجوثبت‌نام کارجو۱جابینجا چطور به استخدام شدن من کمک می‌کند؟مشاهدهمشاهده بیشترجستجودرخواست‌های مننشان‌شده‌هاآگهی‌های پیشنهادیاز آگهی‌های جدید باخبر شوبهترین فرصت های شغلی در جابینجاهمه‌ی استان‌هاخراسان رضویتهراناصفهانالبرزفارسقمآذربایجان شرقیمازندرانگیلانخوزستانکرمانیزدقزوینمرکزیهرمزگانگلستانزنجانسیستان و بلوچستانبوشهرآذربایجان غربیسمنانکرمانشاههمداناردبیللرستانکردستانخراسان شمالیایلامخراسان جنوبیچهارمحال بختیاریکهکیلویه و بویراحمدهمه‌ی دسته‌بندی‌هافروش و بازاریابیوب،‌ برنامه‌نویسی و نرم‌افزارمالی و حسابداریمسئول دفتر، اجرائی و اداریتولید و مدیریت محتوادیجیتال مارکتینگپشتیبانی و امور مشتریا       N/A      N/A          N/A          N/A           N/A             N/A        N/A    N/A             N/A\n",
      "                                                                                                                                                                                                                                                                                                                                https://jobinja.ir/knowledge/employer-faq/pages/employer-tos         قوانین و شرایط استفاده کارفرمایان | جابینجاامکان جدید:همین حالا رزومه خود را در کمتر از ۱۰ دقیقه بسازید،برو به رزومه‌سازJobinja | جابینجا | استخدام، آگهی استخدام، کاریابی، استخدامی جدید، بازار کار، نیازمندیها، ساخت رزومه رایگان، کار و استخدام دولتی، اشتغال، جستجوگر حرفه ای استخدام و شغلخانهجستجوی مشاغلرزومه‌ساز۵۰ شرکت برتربخش کارفرمایانورود کارجوثبت‌نام کارجوورود کارجوثبت‌نام کارجو۱جابینجا چطور به استخدام شدن من کمک می‌کند؟مشاهدهمشاهده بیشترسوالات متداول کارفرمایانقوانین و شرایط استفاده کارفرمایانقوانین و شرایط استفاده کارفرمایانهرگونه استفاده از جابینجا به معنی پذیرفتن شرایط مندرج در این سایت است. جابینجا هیچ توافقی با کاربران خارج از این شرایط ندارد. شرایط زیر مربوط به کسانی است که به هر شکلی از آگهی‌های منتشر شده‌ جابینجا استفاده می‌کنند.موارد زیر منجر به عدم انتشار آگهی و یا تغییر آن خواهد شد:مغایرت با قوانین جاری جمهوری اسلامی ایران و عرف جامعه، ناقض حریم شخصی افراد، نقص در اطلاعات شرکت (مانند لوگو، شرح فعالیت، آدرس وب‌سایت، شماره تلفن و...)، هر گونه توهین به ادیان رسمی کشور، آداب       N/A      N/A          N/A          N/A           N/A             N/A        N/A    N/A             N/A\n",
      "                                                                                                                                                                                                                                                                                                                                            https://jobinja.ir/companies/falnic-%28iranhp%29         استخدام در شرکت فالنیک (ایران اچ پی)، آگهی های استخدام Falnic-IranHP | جابینجاامکان جدید:همین حالا رزومه خود را در کمتر از ۱۰ دقیقه بسازید،برو به رزومه‌سازJobinja | جابینجا | استخدام، آگهی استخدام، کاریابی، استخدامی جدید، بازار کار، نیازمندیها، ساخت رزومه رایگان، کار و استخدام دولتی، اشتغال، جستجوگر حرفه ای استخدام و شغلخانهجستجوی مشاغلرزومه‌ساز۵۰ شرکت برتربخش کارفرمایانورود کارجوثبت‌نام کارجوورود کارجوثبت‌نام کارجو۱جابینجا چطور به استخدام شدن من کمک می‌کند؟مشاهدهمشاهده بیشترفالنیک (ایران اچ پی)|Falnic-IranHPتاسیس در  ۱۳۷۴کامپیوتر، فناوری اطلاعات و اینترنت۵۱ تا ۲۰۰ نفرfalnic.comدر یک نگاهمعرفیفرصت‌های شغلی۱۰فالنیک (ایران اچ پی)، دارنده بزرگترین سبد محصولات و خدمات اچ پی در ایران است و اولین شرکتی است که برای محصولات اچ پی گارانتی رسمی ارائه می‌کند.موقعیت مکانیتهران، تهراناعضای شرکتسیدغلامحسین بشیرنژادموسس و مدیرعاملما، در ایران اچ پی که امروز تبدیل به فالِ نیکِ مشتریان خود شده است، با تعهد و مسئول دانستن خود نسبت به مشتری می‌کوشیم تا فراتر از انتظار او را فراهم سازیم.ندا حبیب الهمدیر و       N/A      N/A          N/A          N/A           N/A             N/A        N/A    N/A             N/A\n",
      "                                                                                                                                                                                                                                                                                        https://jobinja.ir/jobs?filters%5Bjob_categories%5D%5B%5D=%D9%87%D8%AA%D9%84%D8%AF%D8%A7%D8%B1%DB%8C        استخدام کارشناس هتلداری | آگهی استخدام هتلداری\\n | جابینجاامکان جدید:همین حالا رزومه خود را در کمتر از ۱۰ دقیقه بسازید،برو به رزومه‌سازJobinja | جابینجا | استخدام، آگهی استخدام، کاریابی، استخدامی جدید، بازار کار، نیازمندیها، ساخت رزومه رایگان، کار و استخدام دولتی، اشتغال، جستجوگر حرفه ای استخدام و شغلخانهجستجوی مشاغلرزومه‌ساز۵۰ شرکت برتربخش کارفرمایانورود کارجوثبت‌نام کارجوورود کارجوثبت‌نام کارجو۱جابینجا چطور به استخدام شدن من کمک می‌کند؟مشاهدهمشاهده بیشترجستجودرخواست‌های مننشان‌شده‌هاآگهی‌های پیشنهادیاز آگهی‌های جدید باخبر شوبهترین فرصت های شغلی در جابینجاهمه‌ی استان‌هاتهرانخراسان رضویاصفهانالبرزفارسقمآذربایجان شرقیمازندرانگیلانخوزستانکرمانیزدقزوینمرکزیهرمزگانگلستانزنجانسیستان و بلوچستانبوشهرآذربایجان غربیسمنانکرمانشاههمداناردبیللرستانکردستانخراسان شمالیایلامخراسان جنوبیچهارمحال بختیاریکهکیلویه و بویراحمدهمه‌ی دسته‌بندی‌هاهتلداریفروش و بازاریابیوب،‌ برنامه‌نویسی و نرم‌افزارمالی و حسابداریمسئول دفتر، اجرائی و اداریتولید و مدیریت محتوادیجیتال مارکتینگپشتیبانی و امور مشتریانطراحیIT / DevO       N/A      N/A          N/A          N/A           N/A             N/A        N/A    N/A             N/A\n",
      "                                                                                                                                                                                                                                                                                       https://jobinja.ir/jobs?filters%5Blocations%5D%5B%5D=%DA%A9%D8%B1%D9%85%D8%A7%D9%86%D8%B4%D8%A7%D9%87        استخدام کرمانشاه | کاریابی کرمانشاه | آگهی استخدام کرمانشاه\\n | جابینجاامکان جدید:همین حالا رزومه خود را در کمتر از ۱۰ دقیقه بسازید،برو به رزومه‌سازJobinja | جابینجا | استخدام، آگهی استخدام، کاریابی، استخدامی جدید، بازار کار، نیازمندیها، ساخت رزومه رایگان، کار و استخدام دولتی، اشتغال، جستجوگر حرفه ای استخدام و شغلخانهجستجوی مشاغلرزومه‌ساز۵۰ شرکت برتربخش کارفرمایانورود کارجوثبت‌نام کارجوورود کارجوثبت‌نام کارجو۱جابینجا چطور به استخدام شدن من کمک می‌کند؟مشاهدهمشاهده بیشترجستجودرخواست‌های مننشان‌شده‌هاآگهی‌های پیشنهادیاز آگهی‌های جدید باخبر شوبهترین فرصت های شغلی در جابینجاهمه‌ی استان‌هاکرمانشاهتهرانخراسان رضویاصفهانالبرزفارسقمآذربایجان شرقیمازندرانگیلانخوزستانکرمانیزدقزوینمرکزیهرمزگانگلستانزنجانسیستان و بلوچستانبوشهرآذربایجان غربیسمنانهمداناردبیللرستانکردستانخراسان شمالیایلامخراسان جنوبیچهارمحال بختیاریکهکیلویه و بویراحمدهمه‌ی دسته‌بندی‌هافروش و بازاریابیوب،‌ برنامه‌نویسی و نرم‌افزارمالی و حسابداریمسئول دفتر، اجرائی و اداریتولید و مدیریت محتوادیجیتال مارکتینگپشتیبانی و امور مشتریانطراحیIT        N/A      N/A          N/A          N/A           N/A             N/A        N/A    N/A             N/A\n",
      "                                                                                                                                                                                                                                                                          https://jobinja.ir/jobs?filters%5Bkeywords%5D%5B0%5D=%D8%AA%D9%88%D9%84%DB%8C%D8%AF+%D9%85%D8%AD%D8%AA%D9%88%D8%A7        استخدام تولید محتوا | استخدام کارشناس تولید محتوا و کپی رایتر\\n | جابینجاامکان جدید:همین حالا رزومه خود را در کمتر از ۱۰ دقیقه بسازید،برو به رزومه‌سازJobinja | جابینجا | استخدام، آگهی استخدام، کاریابی، استخدامی جدید، بازار کار، نیازمندیها، ساخت رزومه رایگان، کار و استخدام دولتی، اشتغال، جستجوگر حرفه ای استخدام و شغلخانهجستجوی مشاغلرزومه‌ساز۵۰ شرکت برتربخش کارفرمایانورود کارجوثبت‌نام کارجوورود کارجوثبت‌نام کارجو۱جابینجا چطور به استخدام شدن من کمک می‌کند؟مشاهدهمشاهده بیشترجستجودرخواست‌های مننشان‌شده‌هاآگهی‌های پیشنهادیاز آگهی‌های جدید باخبر شوبهترین فرصت های شغلی در جابینجاهمه‌ی استان‌هاتهرانخراسان رضویاصفهانالبرزفارسقمآذربایجان شرقیمازندرانگیلانخوزستانکرمانیزدقزوینمرکزیهرمزگانگلستانزنجانسیستان و بلوچستانبوشهرآذربایجان غربیسمنانکرمانشاههمداناردبیللرستانکردستانخراسان شمالیایلامخراسان جنوبیچهارمحال بختیاریکهکیلویه و بویراحمدهمه‌ی دسته‌بندی‌هافروش و بازاریابیوب،‌ برنامه‌نویسی و نرم‌افزارمالی و حسابداریمسئول دفتر، اجرائی و اداریتولید و مدیریت محتوادیجیتال مارکتینگپشتیبانی و امور مشتریانطراحیI       N/A      N/A          N/A          N/A           N/A             N/A        N/A    N/A             N/A\n",
      "                                                                                                                                                                                                                                                                                                   https://jobinja.ir/jobs?filters%5Bkeywords%5D%5B0%5D=%D9%BE%D8%A7%DB%8C%D8%AA%D9%88%D9%86        فرصت های شغلی پایتون\\n | جابینجاامکان جدید:همین حالا رزومه خود را در کمتر از ۱۰ دقیقه بسازید،برو به رزومه‌سازJobinja | جابینجا | استخدام، آگهی استخدام، کاریابی، استخدامی جدید، بازار کار، نیازمندیها، ساخت رزومه رایگان، کار و استخدام دولتی، اشتغال، جستجوگر حرفه ای استخدام و شغلخانهجستجوی مشاغلرزومه‌ساز۵۰ شرکت برتربخش کارفرمایانورود کارجوثبت‌نام کارجوورود کارجوثبت‌نام کارجو۱جابینجا چطور به استخدام شدن من کمک می‌کند؟مشاهدهمشاهده بیشترجستجودرخواست‌های مننشان‌شده‌هاآگهی‌های پیشنهادیاز آگهی‌های جدید باخبر شوبهترین فرصت های شغلی در جابینجاهمه‌ی استان‌هاتهرانخراسان رضویاصفهانالبرزفارسقمآذربایجان شرقیمازندرانگیلانخوزستانکرمانیزدقزوینمرکزیهرمزگانگلستانزنجانسیستان و بلوچستانبوشهرآذربایجان غربیسمنانکرمانشاههمداناردبیللرستانکردستانخراسان شمالیایلامخراسان جنوبیچهارمحال بختیاریکهکیلویه و بویراحمدهمه‌ی دسته‌بندی‌هافروش و بازاریابیوب،‌ برنامه‌نویسی و نرم‌افزارمالی و حسابداریمسئول دفتر، اجرائی و اداریتولید و مدیریت محتوادیجیتال مارکتینگپشتیبانی و امور مشتریانطراحیIT / DevOps / Serverمهندسی صنایع و مدیریت        N/A      N/A          N/A          N/A           N/A             N/A        N/A    N/A             N/A\n",
      "https://jobinja.ir/companies/doornian-teb-group/jobs/AmyU/%D8%A7%D8%B3%D8%AA%D8%AE%D8%AF%D8%A7%D9%85-%DA%A9%D8%A7%D8%B1%D8%B4%D9%86%D8%A7%D8%B3-%D8%A7%D8%B1%D8%AA%D8%A8%D8%A7%D8%B7-%D8%A8%D8%A7-%D9%85%D8%B4%D8%AA%D8%B1%DB%8C-crm-%D8%AE%D8%A7%D9%86%D9%85-%D8%AF%D8%B1-%DA%AF%D8%B1%D9%88%D9%87-%D9%BE%D8%B2%D8%B4%DA%A9%DB%8C-%D8%AF%D8%B1%D9%86%DB%8C%D8%A7%D9%86-%D8%B7%D8%A8?_ref=18        استخدام کارشناس ارتباط با مشتری (CRM-خانم) در گروه پزشکی درنیان طب | جابینجاامکان جدید:همین حالا رزومه خود را در کمتر از ۱۰ دقیقه بسازید،برو به رزومه‌سازJobinja | جابینجا | استخدام، آگهی استخدام، کاریابی، استخدامی جدید، بازار کار، نیازمندیها، ساخت رزومه رایگان، کار و استخدام دولتی، اشتغال، جستجوگر حرفه ای استخدام و شغلخانهجستجوی مشاغلرزومه‌ساز۵۰ شرکت برتربخش کارفرمایانورود کارجوثبت‌نام کارجوورود کارجوثبت‌نام کارجو۱جابینجا چطور به استخدام شدن من کمک می‌کند؟مشاهدهمشاهده بیشترگروه پزشکی درنیان طب|Doornian Teb Groupخدمات درمانی، پزشکی و سلامت۵۱ تا ۲۰۰ نفرwww.doornian.irفرصت‌های شغلی۳استخدام کارشناس ارتباط با مشتری (CRM-خانم)لطفا برای مشاهده‌ی جزییات و ارسال رزومهیکی از راه‌های زیر را انتخاب کنیدورود / ثبت‌نام با ایمیلimage/svg+xmlbtn_google_light_normal_iosbtn_google_light_normal_iosCreated with Sketch.ورود / ثبت‌نام با گوگل\\n                    (Gmail)ورود / ثبت‌نام با لینکدیناستخدام کارشناس ارتباط با مشتری (CRM-خانم){{ tooltipText }}{{ hoverTitle }}نشان کردنحذف نشاندسته‌بندی شغلیپشتیبانی        N/A      N/A          N/A          N/A           N/A             N/A        N/A    N/A             N/A\n",
      "                                                                                                                                                                                                                                                                                                                                           https://jobinja.ir/companies/salem-tejarat-asia-1         استخدام در شرکت پیوان، آگهی های استخدام Pivan | جابینجاامکان جدید:همین حالا رزومه خود را در کمتر از ۱۰ دقیقه بسازید،برو به رزومه‌سازJobinja | جابینجا | استخدام، آگهی استخدام، کاریابی، استخدامی جدید، بازار کار، نیازمندیها، ساخت رزومه رایگان، کار و استخدام دولتی، اشتغال، جستجوگر حرفه ای استخدام و شغلخانهجستجوی مشاغلرزومه‌ساز۵۰ شرکت برتربخش کارفرمایانورود کارجوثبت‌نام کارجوورود کارجوثبت‌نام کارجو۱جابینجا چطور به استخدام شدن من کمک می‌کند؟مشاهدهمشاهده بیشترپیوان|Pivanتاسیس در  ۱۳۸۹واردات و صادرات۵۱ تا ۲۰۰ نفرpivan.co/در یک نگاهمعرفیفرصت‌های شغلی۷با اتکا به بیش از نیم قرن تجربه گروه موسسین ، \"شرکت پیوان\" با برند تجاری STA در حوزه تامین و فروش انواع محصولات فولادی بامسئولیت محدود تاسیس گردید.موقعیت مکانیتهران، تهراناعضای شرکتامیرحسین عربسرپرست فروشجو صمیمی و دوستانه حاکم بر شرکت و همدلی بسیار قوی در جهت دستیابی به اهداف مشترک و پذیرش یکدیگر با نقاط ضعف و قوت و همکاری با یکدیگر در جهت رشد کاری و شخصیتی از بهترین نکات همکاری در پیوان است.الهه محمدخانیمسئول بازرگانیایجاد صمیمیت ، رفاقت ،امنیت و       N/A      N/A          N/A          N/A           N/A             N/A        N/A    N/A             N/A\n",
      "                                                                                                                                                                                                                                                                                                                     https://jobinja.ir/jobs?filters%5Blocations%5D%5B%5D=%DB%8C%D8%B2%D8%AF        استخدام یزد | کاریابی یزد | آگهی استخدام یزد\\n | جابینجاامکان جدید:همین حالا رزومه خود را در کمتر از ۱۰ دقیقه بسازید،برو به رزومه‌سازJobinja | جابینجا | استخدام، آگهی استخدام، کاریابی، استخدامی جدید، بازار کار، نیازمندیها، ساخت رزومه رایگان، کار و استخدام دولتی، اشتغال، جستجوگر حرفه ای استخدام و شغلخانهجستجوی مشاغلرزومه‌ساز۵۰ شرکت برتربخش کارفرمایانورود کارجوثبت‌نام کارجوورود کارجوثبت‌نام کارجو۱جابینجا چطور به استخدام شدن من کمک می‌کند؟مشاهدهمشاهده بیشترجستجودرخواست‌های مننشان‌شده‌هاآگهی‌های پیشنهادیاز آگهی‌های جدید باخبر شوبهترین فرصت های شغلی در جابینجاهمه‌ی استان‌هایزدتهرانخراسان رضویاصفهانالبرزفارسقمآذربایجان شرقیمازندرانگیلانخوزستانکرمانقزوینمرکزیهرمزگانگلستانزنجانسیستان و بلوچستانبوشهرآذربایجان غربیسمنانکرمانشاههمداناردبیللرستانکردستانخراسان شمالیایلامخراسان جنوبیچهارمحال بختیاریکهکیلویه و بویراحمدهمه‌ی دسته‌بندی‌هافروش و بازاریابیوب،‌ برنامه‌نویسی و نرم‌افزارمالی و حسابداریمسئول دفتر، اجرائی و اداریتولید و مدیریت محتوادیجیتال مارکتینگپشتیبانی و امور مشتریانطراحیIT / DevOps / Serv       N/A      N/A          N/A          N/A           N/A             N/A        N/A    N/A             N/A\n",
      "                                                                                                                                                                                              https://jobinja.ir/jobs?filters%5Bjob_categories%5D%5B%5D=%D9%BE%D8%B2%D8%B4%DA%A9%DB%8C%D8%8C%E2%80%8C+%D9%BE%D8%B1%D8%B3%D8%AA%D8%A7%D8%B1%DB%8C+%D9%88+%D8%AF%D8%A7%D8%B1%D9%88%DB%8C%DB%8C        استخدام پرستار | استخدام پزشک عمومی | استخدام روانشناس\\n | جابینجاامکان جدید:همین حالا رزومه خود را در کمتر از ۱۰ دقیقه بسازید،برو به رزومه‌سازJobinja | جابینجا | استخدام، آگهی استخدام، کاریابی، استخدامی جدید، بازار کار، نیازمندیها، ساخت رزومه رایگان، کار و استخدام دولتی، اشتغال، جستجوگر حرفه ای استخدام و شغلخانهجستجوی مشاغلرزومه‌ساز۵۰ شرکت برتربخش کارفرمایانورود کارجوثبت‌نام کارجوورود کارجوثبت‌نام کارجو۱جابینجا چطور به استخدام شدن من کمک می‌کند؟مشاهدهمشاهده بیشترجستجودرخواست‌های مننشان‌شده‌هاآگهی‌های پیشنهادیاز آگهی‌های جدید باخبر شوبهترین فرصت های شغلی در جابینجاهمه‌ی استان‌هاتهرانخراسان رضویاصفهانالبرزفارسقمآذربایجان شرقیمازندرانگیلانخوزستانکرمانیزدقزوینمرکزیهرمزگانگلستانزنجانسیستان و بلوچستانبوشهرآذربایجان غربیسمنانکرمانشاههمداناردبیللرستانکردستانخراسان شمالیایلامخراسان جنوبیچهارمحال بختیاریکهکیلویه و بویراحمدهمه‌ی دسته‌بندی‌هاپزشکی،‌ پرستاری و داروییفروش و بازاریابیوب،‌ برنامه‌نویسی و نرم‌افزارمالی و حسابداریمسئول دفتر، اجرائی و اداریتولید و مدیریت محتوادیجیتال مارکتینگپشتیبانی و ا       N/A      N/A          N/A          N/A           N/A             N/A        N/A    N/A             N/A\n",
      "                                                                                                                                                 https://jobinja.ir/companies/soroush-nirou/jobs/AmRf/%D8%A7%D8%B3%D8%AA%D8%AE%D8%AF%D8%A7%D9%85-%D9%85%D8%AF%DB%8C%D8%B1-%D9%81%D8%B1%D9%88%D8%B4-%D8%A2%D9%82%D8%A7-%D8%AF%D8%B1-%D8%B3%D8%B1%D9%88%D8%B4-%D9%86%DB%8C%D8%B1%D9%88?_ref=18       استخدام مدیر فروش(آقا) در سروش نیرو | جابینجاامکان جدید:همین حالا رزومه خود را در کمتر از ۱۰ دقیقه بسازید،برو به رزومه‌سازJobinja | جابینجا | استخدام، آگهی استخدام، کاریابی، استخدامی جدید، بازار کار، نیازمندیها، ساخت رزومه رایگان، کار و استخدام دولتی، اشتغال، جستجوگر حرفه ای استخدام و شغلخانهجستجوی مشاغلرزومه‌ساز۵۰ شرکت برتربخش کارفرمایانورود کارجوثبت‌نام کارجوورود کارجوثبت‌نام کارجو۱جابینجا چطور به استخدام شدن من کمک می‌کند؟مشاهدهمشاهده بیشترسروش نیرو|Soroush Nirouواردات و صادرات۲ - ۱۰ نفرWww.soroushnirou.comفرصت‌های شغلی۱استخدام مدیر فروش(آقا)لطفا برای مشاهده‌ی جزییات و ارسال رزومهیکی از راه‌های زیر را انتخاب کنیدورود / ثبت‌نام با ایمیلimage/svg+xmlbtn_google_light_normal_iosbtn_google_light_normal_iosCreated with Sketch.ورود / ثبت‌نام با گوگل\\n                    (Gmail)ورود / ثبت‌نام با لینکدیناستخدام مدیر فروش(آقا){{ tooltipText }}{{ hoverTitle }}نشان کردنحذف نشاندسته‌بندی شغلیفروش و بازاریابیموقعیت مکانیتهران\\n                                                ، تهراننوع همکاریتمام وق       N/A      N/A          N/A          N/A           N/A             N/A        N/A    N/A             N/A\n",
      "                                                                                                                                                                                                                                                                                                         https://jobinja.ir/jobs?filters%5Bkeywords%5D%5B0%5D=%D8%A7%D8%AF%D9%85%DB%8C%D9%86        فرصت های شغلی ادمین\\n | جابینجاامکان جدید:همین حالا رزومه خود را در کمتر از ۱۰ دقیقه بسازید،برو به رزومه‌سازJobinja | جابینجا | استخدام، آگهی استخدام، کاریابی، استخدامی جدید، بازار کار، نیازمندیها، ساخت رزومه رایگان، کار و استخدام دولتی، اشتغال، جستجوگر حرفه ای استخدام و شغلخانهجستجوی مشاغلرزومه‌ساز۵۰ شرکت برتربخش کارفرمایانورود کارجوثبت‌نام کارجوورود کارجوثبت‌نام کارجو۱جابینجا چطور به استخدام شدن من کمک می‌کند؟مشاهدهمشاهده بیشترجستجودرخواست‌های مننشان‌شده‌هاآگهی‌های پیشنهادیاز آگهی‌های جدید باخبر شوبهترین فرصت های شغلی در جابینجاهمه‌ی استان‌هاتهرانخراسان رضویاصفهانالبرزفارسقمآذربایجان شرقیمازندرانگیلانخوزستانکرمانیزدقزوینمرکزیهرمزگانگلستانزنجانسیستان و بلوچستانبوشهرآذربایجان غربیسمنانکرمانشاههمداناردبیللرستانکردستانخراسان شمالیایلامخراسان جنوبیچهارمحال بختیاریکهکیلویه و بویراحمدهمه‌ی دسته‌بندی‌هافروش و بازاریابیوب،‌ برنامه‌نویسی و نرم‌افزارمالی و حسابداریمسئول دفتر، اجرائی و اداریتولید و مدیریت محتوادیجیتال مارکتینگپشتیبانی و امور مشتریانطراحیIT / DevOps / Serverمهندسی صنایع و مدیریت ص       N/A      N/A          N/A          N/A           N/A             N/A        N/A    N/A             N/A\n",
      "                                                                                                                                                                                                                                                                                                                                                        https://jobinja.ir/job-alert/landing                                                                                                                                                                                                                                                                                            جابینجاJobinja | جابینجا | استخدام، آگهی استخدام، کاریابی، استخدامی جدید، بازار کار، نیازمندیها، ساخت رزومه رایگان، کار و استخدام دولتی، اشتغال، جستجوگر حرفه ای استخدام و شغلخانهجستجوی مشاغلرزومه‌ساز۵۰ شرکت برتربخش کارفرمایانورود کارجوثبت‌نام کارجوورود کارجوثبت‌نام کارجو۱جابینجا چطور به استخدام شدن من کمک می‌کند؟مشاهدهمشاهده بیشترفرصت‌های شغلی جدید در ایمیل شما!اولین نفری که برای کارفرمایان رزومه ارسال می‌کند شما باشید. هر هفته فرصت‌های شغلی جدید برای شما ارسال می‌شود.دسته‌بندی شغلی؟هیچ دسته‌بندی شغلی مرتبطی انتخاب نشده است{{ item.text }}عنوان شغلی، مهارت یا کلمات کلیدی(اختیاری)؟نوع قرارداد(اختیاری)؟شهر شغل؟هیچ شهر یا استان مرتبطی انتخاب نشده است.{{ item.text }}ارسال به صورت؟ایمیل شما؟نمی‌خواهم مطلع شومimage/svg+xml       N/A      N/A          N/A          N/A           N/A             N/A        N/A    N/A             N/A\n",
      "                                                                                                                                                                                                                                                                                                                                             https://jobinja.ir/companies/abarsayande-1/jobs       فرصت‌های شغلی فعال در برنادل | Borna Del | جابینجاامکان جدید:همین حالا رزومه خود را در کمتر از ۱۰ دقیقه بسازید،برو به رزومه‌سازJobinja | جابینجا | استخدام، آگهی استخدام، کاریابی، استخدامی جدید، بازار کار، نیازمندیها، ساخت رزومه رایگان، کار و استخدام دولتی، اشتغال، جستجوگر حرفه ای استخدام و شغلخانهجستجوی مشاغلرزومه‌ساز۵۰ شرکت برتربخش کارفرمایانورود کارجوثبت‌نام کارجوورود کارجوثبت‌نام کارجو۱جابینجا چطور به استخدام شدن من کمک می‌کند؟مشاهدهمشاهده بیشتربرنادل|Borna Delتاسیس در  ۱۳۹۹آموزش، مدارس و دانشگاه‌ها۱۱ تا ۵۰ نفرbornadel.academy/در یک نگاهمعرفیفرصت‌های شغلی۲۶معرفی برنادلشرکت برنادل در زمینه آموزش آنلاین با استفاده از تکنیک های نوین و اساتید مجرب فعالیت می کند. ما تیمی متشکل از نیروهایی جوان، متخصص و نوآور در مکانی بسیار پویا و مستقل هستیم و همواره در صدد جذب نیروهای علاقمند، با انگیزه و مشتاق در زمینه های مختلف جهت همکاری بلندمدت هستیم.فرصت‌های شغلی فعال در برنادل|Borna Delمدرس دوره HSE(۱ روز پیش)برنادل | Borna Delتهران، تهرانقرارداد\\n              پاره‌وقت(برای\\n                مشاهده        N/A      N/A          N/A          N/A           N/A             N/A        N/A    N/A             N/A\n",
      "                                                                                                                                                                                                                                                                          https://jobinja.ir/jobs?filters%5Bkeywords%5D%5B0%5D=%D8%B7%D8%B1%D8%A7%D8%AD+%DA%AF%D8%B1%D8%A7%D9%81%DB%8C%DA%A9        فرصت های شغلی طراح گرافیک\\n | جابینجاامکان جدید:همین حالا رزومه خود را در کمتر از ۱۰ دقیقه بسازید،برو به رزومه‌سازJobinja | جابینجا | استخدام، آگهی استخدام، کاریابی، استخدامی جدید، بازار کار، نیازمندیها، ساخت رزومه رایگان، کار و استخدام دولتی، اشتغال، جستجوگر حرفه ای استخدام و شغلخانهجستجوی مشاغلرزومه‌ساز۵۰ شرکت برتربخش کارفرمایانورود کارجوثبت‌نام کارجوورود کارجوثبت‌نام کارجو۱جابینجا چطور به استخدام شدن من کمک می‌کند؟مشاهدهمشاهده بیشترجستجودرخواست‌های مننشان‌شده‌هاآگهی‌های پیشنهادیاز آگهی‌های جدید باخبر شوبهترین فرصت های شغلی در جابینجاهمه‌ی استان‌هاتهرانخراسان رضویاصفهانالبرزفارسقمآذربایجان شرقیمازندرانگیلانخوزستانکرمانیزدقزوینمرکزیهرمزگانگلستانزنجانسیستان و بلوچستانبوشهرآذربایجان غربیسمنانکرمانشاههمداناردبیللرستانکردستانخراسان شمالیایلامخراسان جنوبیچهارمحال بختیاریکهکیلویه و بویراحمدهمه‌ی دسته‌بندی‌هافروش و بازاریابیوب،‌ برنامه‌نویسی و نرم‌افزارمالی و حسابداریمسئول دفتر، اجرائی و اداریتولید و مدیریت محتوادیجیتال مارکتینگپشتیبانی و امور مشتریانطراحیIT / DevOps / Serverمهندسی صنایع و مد       N/A      N/A          N/A          N/A           N/A             N/A        N/A    N/A             N/A\n",
      "                                                                                                                                                                                                                                                                                             https://jobinja.ir/jobs?filters%5Bkeywords%5D%5B0%5D=%D8%AD%D8%B3%D8%A7%D8%A8%D8%AF%D8%A7%D8%B1        فرصت های شغلی حسابدار\\n | جابینجاامکان جدید:همین حالا رزومه خود را در کمتر از ۱۰ دقیقه بسازید،برو به رزومه‌سازJobinja | جابینجا | استخدام، آگهی استخدام، کاریابی، استخدامی جدید، بازار کار، نیازمندیها، ساخت رزومه رایگان، کار و استخدام دولتی، اشتغال، جستجوگر حرفه ای استخدام و شغلخانهجستجوی مشاغلرزومه‌ساز۵۰ شرکت برتربخش کارفرمایانورود کارجوثبت‌نام کارجوورود کارجوثبت‌نام کارجو۱جابینجا چطور به استخدام شدن من کمک می‌کند؟مشاهدهمشاهده بیشترجستجودرخواست‌های مننشان‌شده‌هاآگهی‌های پیشنهادیاز آگهی‌های جدید باخبر شوبهترین فرصت های شغلی در جابینجاهمه‌ی استان‌هاتهرانخراسان رضویاصفهانالبرزفارسقمآذربایجان شرقیمازندرانگیلانخوزستانکرمانیزدقزوینمرکزیهرمزگانگلستانزنجانسیستان و بلوچستانبوشهرآذربایجان غربیسمنانکرمانشاههمداناردبیللرستانکردستانخراسان شمالیایلامخراسان جنوبیچهارمحال بختیاریکهکیلویه و بویراحمدهمه‌ی دسته‌بندی‌هافروش و بازاریابیوب،‌ برنامه‌نویسی و نرم‌افزارمالی و حسابداریمسئول دفتر، اجرائی و اداریتولید و مدیریت محتوادیجیتال مارکتینگپشتیبانی و امور مشتریانطراحیIT / DevOps / Serverمهندسی صنایع و مدیریت       N/A      N/A          N/A          N/A           N/A             N/A        N/A    N/A             N/A\n",
      "                                                                                                                                                                                                                                                                                                                     https://jobinja.ir/jobs?filters%5Bkeywords%5D%5B0%5D=%D8%B3%D8%A6%D9%88        سئو کار | استخدام کارشناس سئو | استخدام متخصص سئو (seo)\\n | جابینجاامکان جدید:همین حالا رزومه خود را در کمتر از ۱۰ دقیقه بسازید،برو به رزومه‌سازJobinja | جابینجا | استخدام، آگهی استخدام، کاریابی، استخدامی جدید، بازار کار، نیازمندیها، ساخت رزومه رایگان، کار و استخدام دولتی، اشتغال، جستجوگر حرفه ای استخدام و شغلخانهجستجوی مشاغلرزومه‌ساز۵۰ شرکت برتربخش کارفرمایانورود کارجوثبت‌نام کارجوورود کارجوثبت‌نام کارجو۱جابینجا چطور به استخدام شدن من کمک می‌کند؟مشاهدهمشاهده بیشترجستجودرخواست‌های مننشان‌شده‌هاآگهی‌های پیشنهادیاز آگهی‌های جدید باخبر شوبهترین فرصت های شغلی در جابینجاهمه‌ی استان‌هاتهرانخراسان رضویاصفهانالبرزفارسقمآذربایجان شرقیمازندرانگیلانخوزستانکرمانیزدقزوینمرکزیهرمزگانگلستانزنجانسیستان و بلوچستانبوشهرآذربایجان غربیسمنانکرمانشاههمداناردبیللرستانکردستانخراسان شمالیایلامخراسان جنوبیچهارمحال بختیاریکهکیلویه و بویراحمدهمه‌ی دسته‌بندی‌هافروش و بازاریابیوب،‌ برنامه‌نویسی و نرم‌افزارمالی و حسابداریمسئول دفتر، اجرائی و اداریتولید و مدیریت محتوادیجیتال مارکتینگپشتیبانی و امور مشتریانطراحیIT / De       N/A      N/A          N/A          N/A           N/A             N/A        N/A    N/A             N/A\n",
      "                                                                                                                                                                                                                                                                                                                                                 https://jobinja.ir/companies/graph-inc/jobs      فرصت‌های شغلی فعال در گراف | Graph | جابینجاامکان جدید:همین حالا رزومه خود را در کمتر از ۱۰ دقیقه بسازید،برو به رزومه‌سازJobinja | جابینجا | استخدام، آگهی استخدام، کاریابی، استخدامی جدید، بازار کار، نیازمندیها، ساخت رزومه رایگان، کار و استخدام دولتی، اشتغال، جستجوگر حرفه ای استخدام و شغلخانهجستجوی مشاغلرزومه‌ساز۵۰ شرکت برتربخش کارفرمایانورود کارجوثبت‌نام کارجوورود کارجوثبت‌نام کارجو۱جابینجا چطور به استخدام شدن من کمک می‌کند؟مشاهدهمشاهده بیشترگراف|Graphتاسیس در  ۱۳۹۴کامپیوتر، فناوری اطلاعات و اینترنت۵۱ تا ۲۰۰ نفرgraph-inc.irدر یک نگاهمعرفیفرصت‌های شغلی۵معرفی گراف\"گراف\" شرکتی نرم‌افزاری فعال در حوزه امنیت اطلاعات است که فعالیت خود را در سال ۱۳۹۴ آغاز نمود.توسعه نرم‌افزارهای امنیتی و ارائه راه‌کارهای حوزه امنیت در اطلاعات و ارتباطات بخش عمده فعالیت‌های ما در گراف را تشکیل می‌دهند.فرصت‌های شغلی فعال در گراف|GraphLinux Software Engineer (Golang)(۲ روز پیش)گراف | Graphتهران، تهرانقرارداد\\n              تمام‌وقت(برای\\n                مشاهده حقوق وارد شوید)ارسال\\n              رزومه{{ tooltipText       N/A      N/A          N/A          N/A           N/A             N/A        N/A    N/A             N/A\n",
      "                                                                                                                                                                                                       https://jobinja.ir/jobs?filters%5Bjob_categories%5D%5B%5D=%D8%B9%D9%84%D9%88%D9%85+%D8%B2%DB%8C%D8%B3%D8%AA%DB%8C+%D9%88+%D8%A2%D8%B2%D9%85%D8%A7%DB%8C%D8%B4%DA%AF%D8%A7%D9%87%DB%8C        استخدام میکروبیولوژیست | استخدام علوم آزمایشگاهی | استخدام بیوتکنولوژی\\n | جابینجاامکان جدید:همین حالا رزومه خود را در کمتر از ۱۰ دقیقه بسازید،برو به رزومه‌سازJobinja | جابینجا | استخدام، آگهی استخدام، کاریابی، استخدامی جدید، بازار کار، نیازمندیها، ساخت رزومه رایگان، کار و استخدام دولتی، اشتغال، جستجوگر حرفه ای استخدام و شغلخانهجستجوی مشاغلرزومه‌ساز۵۰ شرکت برتربخش کارفرمایانورود کارجوثبت‌نام کارجوورود کارجوثبت‌نام کارجو۱جابینجا چطور به استخدام شدن من کمک می‌کند؟مشاهدهمشاهده بیشترجستجودرخواست‌های مننشان‌شده‌هاآگهی‌های پیشنهادیاز آگهی‌های جدید باخبر شوبهترین فرصت های شغلی در جابینجاهمه‌ی استان‌هاتهرانخراسان رضویاصفهانالبرزفارسقمآذربایجان شرقیمازندرانگیلانخوزستانکرمانیزدقزوینمرکزیهرمزگانگلستانزنجانسیستان و بلوچستانبوشهرآذربایجان غربیسمنانکرمانشاههمداناردبیللرستانکردستانخراسان شمالیایلامخراسان جنوبیچهارمحال بختیاریکهکیلویه و بویراحمدهمه‌ی دسته‌بندی‌هاعلوم زیستی و آزمایشگاهیفروش و بازاریابیوب،‌ برنامه‌نویسی و نرم‌افزارمالی و حسابداریمسئول دفتر، اجرائی و اداریتولید و مدیریت محتوادیجیتال مارکت       N/A      N/A          N/A          N/A           N/A             N/A        N/A    N/A             N/A\n",
      "                                                                                                                                                                                                       https://jobinja.ir/jobs?filters%5Bjob_categories%5D%5B%5D=%DA%A9%D8%A7%D8%B1%DA%AF%D8%B1+%D9%85%D8%A7%D9%87%D8%B1%D8%8C+%DA%A9%D8%A7%D8%B1%DA%AF%D8%B1+%D8%B5%D9%86%D8%B9%D8%AA%DB%8C        استخدام کارگر ماهر | استخدام کارگر صنعتی | استخدام فنی کار | جابینجا\\n | جابینجاامکان جدید:همین حالا رزومه خود را در کمتر از ۱۰ دقیقه بسازید،برو به رزومه‌سازJobinja | جابینجا | استخدام، آگهی استخدام، کاریابی، استخدامی جدید، بازار کار، نیازمندیها، ساخت رزومه رایگان، کار و استخدام دولتی، اشتغال، جستجوگر حرفه ای استخدام و شغلخانهجستجوی مشاغلرزومه‌ساز۵۰ شرکت برتربخش کارفرمایانورود کارجوثبت‌نام کارجوورود کارجوثبت‌نام کارجو۱جابینجا چطور به استخدام شدن من کمک می‌کند؟مشاهدهمشاهده بیشترجستجودرخواست‌های مننشان‌شده‌هاآگهی‌های پیشنهادیاز آگهی‌های جدید باخبر شوبهترین فرصت های شغلی در جابینجاهمه‌ی استان‌هاتهرانخراسان رضویاصفهانالبرزفارسقمآذربایجان شرقیمازندرانگیلانخوزستانکرمانیزدقزوینمرکزیهرمزگانگلستانزنجانسیستان و بلوچستانبوشهرآذربایجان غربیسمنانکرمانشاههمداناردبیللرستانکردستانخراسان شمالیایلامخراسان جنوبیچهارمحال بختیاریکهکیلویه و بویراحمدهمه‌ی دسته‌بندی‌هاکارگر ماهر، کارگر صنعتیفروش و بازاریابیوب،‌ برنامه‌نویسی و نرم‌افزارمالی و حسابداریمسئول دفتر، اجرائی و اداریتولید و مدیریت محتوادیجیتال مارکتین       N/A      N/A          N/A          N/A           N/A             N/A        N/A    N/A             N/A\n",
      "                                                                                                                                                                                                                                                        https://jobinja.ir/jobs?filters%5Blocations%5D%5B%5D=%D8%A2%D8%B0%D8%B1%D8%A8%D8%A7%DB%8C%D8%AC%D8%A7%D9%86+%D8%B4%D8%B1%D9%82%DB%8C        آگهی استخدام آذربایجان شرقی | استخدام آذربایجان شرقی | کاریابی آذربایجان شرقی\\n | جابینجاامکان جدید:همین حالا رزومه خود را در کمتر از ۱۰ دقیقه بسازید،برو به رزومه‌سازJobinja | جابینجا | استخدام، آگهی استخدام، کاریابی، استخدامی جدید، بازار کار، نیازمندیها، ساخت رزومه رایگان، کار و استخدام دولتی، اشتغال، جستجوگر حرفه ای استخدام و شغلخانهجستجوی مشاغلرزومه‌ساز۵۰ شرکت برتربخش کارفرمایانورود کارجوثبت‌نام کارجوورود کارجوثبت‌نام کارجو۱جابینجا چطور به استخدام شدن من کمک می‌کند؟مشاهدهمشاهده بیشترجستجودرخواست‌های مننشان‌شده‌هاآگهی‌های پیشنهادیاز آگهی‌های جدید باخبر شوبهترین فرصت های شغلی در جابینجاهمه‌ی استان‌هاآذربایجان شرقیتهرانخراسان رضویاصفهانالبرزفارسقممازندرانگیلانخوزستانکرمانیزدقزوینمرکزیهرمزگانگلستانزنجانسیستان و بلوچستانبوشهرآذربایجان غربیسمنانکرمانشاههمداناردبیللرستانکردستانخراسان شمالیایلامخراسان جنوبیچهارمحال بختیاریکهکیلویه و بویراحمدهمه‌ی دسته‌بندی‌هافروش و بازاریابیوب،‌ برنامه‌نویسی و نرم‌افزارمالی و حسابداریمسئول دفتر، اجرائی و اداریتولید و مدیریت محتوادیجیتال مارکتینگپشتیبانی و ام       N/A      N/A          N/A          N/A           N/A             N/A        N/A    N/A             N/A\n",
      "                                                                                                                                                                                                                                                                                            https://jobinja.ir/jobs?filters%5Bkeywords%5D%5B0%5D=%D9%BE%D8%A7%D8%B1%D9%87+%D9%88%D9%82%D8%AA        فرصت های شغلی پاره وقت\\n | جابینجاامکان جدید:همین حالا رزومه خود را در کمتر از ۱۰ دقیقه بسازید،برو به رزومه‌سازJobinja | جابینجا | استخدام، آگهی استخدام، کاریابی، استخدامی جدید، بازار کار، نیازمندیها، ساخت رزومه رایگان، کار و استخدام دولتی، اشتغال، جستجوگر حرفه ای استخدام و شغلخانهجستجوی مشاغلرزومه‌ساز۵۰ شرکت برتربخش کارفرمایانورود کارجوثبت‌نام کارجوورود کارجوثبت‌نام کارجو۱جابینجا چطور به استخدام شدن من کمک می‌کند؟مشاهدهمشاهده بیشترجستجودرخواست‌های مننشان‌شده‌هاآگهی‌های پیشنهادیاز آگهی‌های جدید باخبر شوبهترین فرصت های شغلی در جابینجاهمه‌ی استان‌هاتهرانخراسان رضویاصفهانالبرزفارسقمآذربایجان شرقیمازندرانگیلانخوزستانکرمانیزدقزوینمرکزیهرمزگانگلستانزنجانسیستان و بلوچستانبوشهرآذربایجان غربیسمنانکرمانشاههمداناردبیللرستانکردستانخراسان شمالیایلامخراسان جنوبیچهارمحال بختیاریکهکیلویه و بویراحمدهمه‌ی دسته‌بندی‌هافروش و بازاریابیوب،‌ برنامه‌نویسی و نرم‌افزارمالی و حسابداریمسئول دفتر، اجرائی و اداریتولید و مدیریت محتوادیجیتال مارکتینگپشتیبانی و امور مشتریانطراحیIT / DevOps / Serverمهندسی صنایع و مدیری       N/A      N/A          N/A          N/A           N/A             N/A        N/A    N/A             N/A\n",
      "                                                                                                                                                                                                                                           https://jobinja.ir/jobs?filters%5Bjob_categories%5D%5B%5D=%D9%85%D9%87%D9%86%D8%AF%D8%B3%DB%8C+%D8%B4%DB%8C%D9%85%DB%8C+%D9%88+%D9%86%D9%81%D8%AA        استخدام مهندس شیمی | استخدام کارشناس شیمی\\n | جابینجاامکان جدید:همین حالا رزومه خود را در کمتر از ۱۰ دقیقه بسازید،برو به رزومه‌سازJobinja | جابینجا | استخدام، آگهی استخدام، کاریابی، استخدامی جدید، بازار کار، نیازمندیها، ساخت رزومه رایگان، کار و استخدام دولتی، اشتغال، جستجوگر حرفه ای استخدام و شغلخانهجستجوی مشاغلرزومه‌ساز۵۰ شرکت برتربخش کارفرمایانورود کارجوثبت‌نام کارجوورود کارجوثبت‌نام کارجو۱جابینجا چطور به استخدام شدن من کمک می‌کند؟مشاهدهمشاهده بیشترجستجودرخواست‌های مننشان‌شده‌هاآگهی‌های پیشنهادیاز آگهی‌های جدید باخبر شوبهترین فرصت های شغلی در جابینجاهمه‌ی استان‌هاتهرانخراسان رضویاصفهانالبرزفارسقمآذربایجان شرقیمازندرانگیلانخوزستانکرمانیزدقزوینمرکزیهرمزگانگلستانزنجانسیستان و بلوچستانبوشهرآذربایجان غربیسمنانکرمانشاههمداناردبیللرستانکردستانخراسان شمالیایلامخراسان جنوبیچهارمحال بختیاریکهکیلویه و بویراحمدهمه‌ی دسته‌بندی‌هامهندسی شیمی و نفتفروش و بازاریابیوب،‌ برنامه‌نویسی و نرم‌افزارمالی و حسابداریمسئول دفتر، اجرائی و اداریتولید و مدیریت محتوادیجیتال مارکتینگپشتیبانی و امور مشتریانطراحیIT /       N/A      N/A          N/A          N/A           N/A             N/A        N/A    N/A             N/A\n",
      "                                                                                                                                                                                                                                                        https://jobinja.ir/jobs?filters%5Blocations%5D%5B%5D=%D8%A2%D8%B0%D8%B1%D8%A8%D8%A7%DB%8C%D8%AC%D8%A7%D9%86+%D8%BA%D8%B1%D8%A8%DB%8C        آگهی استخدام آذربایجان غربی | استخدام آذربایجان غربی | کاریابی آذربایجان غربی | جابینجا\\n | جابینجاامکان جدید:همین حالا رزومه خود را در کمتر از ۱۰ دقیقه بسازید،برو به رزومه‌سازJobinja | جابینجا | استخدام، آگهی استخدام، کاریابی، استخدامی جدید، بازار کار، نیازمندیها، ساخت رزومه رایگان، کار و استخدام دولتی، اشتغال، جستجوگر حرفه ای استخدام و شغلخانهجستجوی مشاغلرزومه‌ساز۵۰ شرکت برتربخش کارفرمایانورود کارجوثبت‌نام کارجوورود کارجوثبت‌نام کارجو۱جابینجا چطور به استخدام شدن من کمک می‌کند؟مشاهدهمشاهده بیشترجستجودرخواست‌های مننشان‌شده‌هاآگهی‌های پیشنهادیاز آگهی‌های جدید باخبر شوبهترین فرصت های شغلی در جابینجاهمه‌ی استان‌هاآذربایجان غربیتهرانخراسان رضویاصفهانالبرزفارسقمآذربایجان شرقیمازندرانگیلانخوزستانکرمانیزدقزوینمرکزیهرمزگانگلستانزنجانسیستان و بلوچستانبوشهرسمنانکرمانشاههمداناردبیللرستانکردستانخراسان شمالیایلامخراسان جنوبیچهارمحال بختیاریکهکیلویه و بویراحمدهمه‌ی دسته‌بندی‌هافروش و بازاریابیوب،‌ برنامه‌نویسی و نرم‌افزارمالی و حسابداریمسئول دفتر، اجرائی و اداریتولید و مدیریت محتوادیجیتال مارکتینگپشت       N/A      N/A          N/A          N/A           N/A             N/A        N/A    N/A             N/A\n",
      "                                                                                                                                                                                                                                                                         https://jobinja.ir/jobs?filters%5Bjob_categories%5D%5B%5D=%D8%AE%D8%A8%D8%B1%E2%80%8C%D9%86%DA%AF%D8%A7%D8%B1%DB%8C        استخدام خبرنگار | استخدام روزنامه نگار | جذب خبرنگار\\n | جابینجاامکان جدید:همین حالا رزومه خود را در کمتر از ۱۰ دقیقه بسازید،برو به رزومه‌سازJobinja | جابینجا | استخدام، آگهی استخدام، کاریابی، استخدامی جدید، بازار کار، نیازمندیها، ساخت رزومه رایگان، کار و استخدام دولتی، اشتغال، جستجوگر حرفه ای استخدام و شغلخانهجستجوی مشاغلرزومه‌ساز۵۰ شرکت برتربخش کارفرمایانورود کارجوثبت‌نام کارجوورود کارجوثبت‌نام کارجو۱جابینجا چطور به استخدام شدن من کمک می‌کند؟مشاهدهمشاهده بیشترجستجودرخواست‌های مننشان‌شده‌هاآگهی‌های پیشنهادیاز آگهی‌های جدید باخبر شوبهترین فرصت های شغلی در جابینجاهمه‌ی استان‌هاتهرانخراسان رضویاصفهانالبرزفارسقمآذربایجان شرقیمازندرانگیلانخوزستانکرمانیزدقزوینمرکزیهرمزگانگلستانزنجانسیستان و بلوچستانبوشهرآذربایجان غربیسمنانکرمانشاههمداناردبیللرستانکردستانخراسان شمالیایلامخراسان جنوبیچهارمحال بختیاریکهکیلویه و بویراحمدهمه‌ی دسته‌بندی‌هاخبر‌نگاریفروش و بازاریابیوب،‌ برنامه‌نویسی و نرم‌افزارمالی و حسابداریمسئول دفتر، اجرائی و اداریتولید و مدیریت محتوادیجیتال مارکتینگپشتیبانی و امور مشتریانطراحیI       N/A      N/A          N/A          N/A           N/A             N/A        N/A    N/A             N/A\n",
      "                                                                                                                                                                                                                                                                                       https://jobinja.ir/jobs?filters%5Bkeywords%5D%5B0%5D=%D9%BE%D8%B4%D8%AA%DB%8C%D8%A8%D8%A7%D9%86%DB%8C        فرصت های شغلی پشتیبانی\\n | جابینجاامکان جدید:همین حالا رزومه خود را در کمتر از ۱۰ دقیقه بسازید،برو به رزومه‌سازJobinja | جابینجا | استخدام، آگهی استخدام، کاریابی، استخدامی جدید، بازار کار، نیازمندیها، ساخت رزومه رایگان، کار و استخدام دولتی، اشتغال، جستجوگر حرفه ای استخدام و شغلخانهجستجوی مشاغلرزومه‌ساز۵۰ شرکت برتربخش کارفرمایانورود کارجوثبت‌نام کارجوورود کارجوثبت‌نام کارجو۱جابینجا چطور به استخدام شدن من کمک می‌کند؟مشاهدهمشاهده بیشترجستجودرخواست‌های مننشان‌شده‌هاآگهی‌های پیشنهادیاز آگهی‌های جدید باخبر شوبهترین فرصت های شغلی در جابینجاهمه‌ی استان‌هاتهرانخراسان رضویاصفهانالبرزفارسقمآذربایجان شرقیمازندرانگیلانخوزستانکرمانیزدقزوینمرکزیهرمزگانگلستانزنجانسیستان و بلوچستانبوشهرآذربایجان غربیسمنانکرمانشاههمداناردبیللرستانکردستانخراسان شمالیایلامخراسان جنوبیچهارمحال بختیاریکهکیلویه و بویراحمدهمه‌ی دسته‌بندی‌هافروش و بازاریابیوب،‌ برنامه‌نویسی و نرم‌افزارمالی و حسابداریمسئول دفتر، اجرائی و اداریتولید و مدیریت محتوادیجیتال مارکتینگپشتیبانی و امور مشتریانطراحیIT / DevOps / Serverمهندسی صنایع و مدیری       N/A      N/A          N/A          N/A           N/A             N/A        N/A    N/A             N/A\n",
      "                                                                                                                                                                                                                                                                                                   https://jobinja.ir/jobs?filters%5Bkeywords%5D%5B0%5D=%D8%A7%D8%AF%D9%85%DB%8C%D9%86%DB%8C        فرصت های شغلی ادمینی\\n | جابینجاامکان جدید:همین حالا رزومه خود را در کمتر از ۱۰ دقیقه بسازید،برو به رزومه‌سازJobinja | جابینجا | استخدام، آگهی استخدام، کاریابی، استخدامی جدید، بازار کار، نیازمندیها، ساخت رزومه رایگان، کار و استخدام دولتی، اشتغال، جستجوگر حرفه ای استخدام و شغلخانهجستجوی مشاغلرزومه‌ساز۵۰ شرکت برتربخش کارفرمایانورود کارجوثبت‌نام کارجوورود کارجوثبت‌نام کارجو۱جابینجا چطور به استخدام شدن من کمک می‌کند؟مشاهدهمشاهده بیشترجستجودرخواست‌های مننشان‌شده‌هاآگهی‌های پیشنهادیاز آگهی‌های جدید باخبر شوبهترین فرصت های شغلی در جابینجاهمه‌ی استان‌هاتهرانخراسان رضویاصفهانالبرزفارسقمآذربایجان شرقیمازندرانگیلانخوزستانکرمانیزدقزوینمرکزیهرمزگانگلستانزنجانسیستان و بلوچستانبوشهرآذربایجان غربیسمنانکرمانشاههمداناردبیللرستانکردستانخراسان شمالیایلامخراسان جنوبیچهارمحال بختیاریکهکیلویه و بویراحمدهمه‌ی دسته‌بندی‌هافروش و بازاریابیوب،‌ برنامه‌نویسی و نرم‌افزارمالی و حسابداریمسئول دفتر، اجرائی و اداریتولید و مدیریت محتوادیجیتال مارکتینگپشتیبانی و امور مشتریانطراحیIT / DevOps / Serverمهندسی صنایع و مدیریت        N/A      N/A          N/A          N/A           N/A             N/A        N/A    N/A             N/A\n",
      "                                                                                                                                                                                                                                                                           https://jobinja.ir/jobs?filters%5Bjob_categories%5D%5B%5D=%D8%AA%D8%B1%D8%A8%DB%8C%D8%AA+%D8%A8%D8%AF%D9%86%DB%8C        استخدام مربی بدنسازی | استخدام کارشناس ورزش و سلامت\\n | جابینجاامکان جدید:همین حالا رزومه خود را در کمتر از ۱۰ دقیقه بسازید،برو به رزومه‌سازJobinja | جابینجا | استخدام، آگهی استخدام، کاریابی، استخدامی جدید، بازار کار، نیازمندیها، ساخت رزومه رایگان، کار و استخدام دولتی، اشتغال، جستجوگر حرفه ای استخدام و شغلخانهجستجوی مشاغلرزومه‌ساز۵۰ شرکت برتربخش کارفرمایانورود کارجوثبت‌نام کارجوورود کارجوثبت‌نام کارجو۱جابینجا چطور به استخدام شدن من کمک می‌کند؟مشاهدهمشاهده بیشترجستجودرخواست‌های مننشان‌شده‌هاآگهی‌های پیشنهادیاز آگهی‌های جدید باخبر شوبهترین فرصت های شغلی در جابینجاهمه‌ی استان‌هاتهرانخراسان رضویاصفهانالبرزفارسقمآذربایجان شرقیمازندرانگیلانخوزستانکرمانیزدقزوینمرکزیهرمزگانگلستانزنجانسیستان و بلوچستانبوشهرآذربایجان غربیسمنانکرمانشاههمداناردبیللرستانکردستانخراسان شمالیایلامخراسان جنوبیچهارمحال بختیاریکهکیلویه و بویراحمدهمه‌ی دسته‌بندی‌هاتربیت بدنیفروش و بازاریابیوب،‌ برنامه‌نویسی و نرم‌افزارمالی و حسابداریمسئول دفتر، اجرائی و اداریتولید و مدیریت محتوادیجیتال مارکتینگپشتیبانی و امور مشتریانطراحیI       N/A      N/A          N/A          N/A           N/A             N/A        N/A    N/A             N/A\n",
      "                                                                                                                                                                                                                                                                                                         https://jobinja.ir/jobs?filters%5Blocations%5D%5B%5D=%DA%A9%D8%B1%D9%85%D8%A7%D9%86        آگهی استخدام کرمان | استخدام کرمان | کاریابی کرمان\\n | جابینجاامکان جدید:همین حالا رزومه خود را در کمتر از ۱۰ دقیقه بسازید،برو به رزومه‌سازJobinja | جابینجا | استخدام، آگهی استخدام، کاریابی، استخدامی جدید، بازار کار، نیازمندیها، ساخت رزومه رایگان، کار و استخدام دولتی، اشتغال، جستجوگر حرفه ای استخدام و شغلخانهجستجوی مشاغلرزومه‌ساز۵۰ شرکت برتربخش کارفرمایانورود کارجوثبت‌نام کارجوورود کارجوثبت‌نام کارجو۱جابینجا چطور به استخدام شدن من کمک می‌کند؟مشاهدهمشاهده بیشترجستجودرخواست‌های مننشان‌شده‌هاآگهی‌های پیشنهادیاز آگهی‌های جدید باخبر شوبهترین فرصت های شغلی در جابینجاهمه‌ی استان‌هاکرمانتهرانخراسان رضویاصفهانالبرزفارسقمآذربایجان شرقیمازندرانگیلانخوزستانیزدقزوینمرکزیهرمزگانگلستانزنجانسیستان و بلوچستانبوشهرآذربایجان غربیسمنانکرمانشاههمداناردبیللرستانکردستانخراسان شمالیایلامخراسان جنوبیچهارمحال بختیاریکهکیلویه و بویراحمدهمه‌ی دسته‌بندی‌هافروش و بازاریابیوب،‌ برنامه‌نویسی و نرم‌افزارمالی و حسابداریمسئول دفتر، اجرائی و اداریتولید و مدیریت محتوادیجیتال مارکتینگپشتیبانی و امور مشتریانطراحیIT / DevOps        N/A      N/A          N/A          N/A           N/A             N/A        N/A    N/A             N/A\n",
      "                                                                                                                                                                                                                                                                                                         https://jobinja.ir/jobs?filters%5Blocations%5D%5B%5D=%D8%B2%D9%86%D8%AC%D8%A7%D9%86        استخدام زنجان | کاریابی زنجان | آگهی استخدام زنجان\\n | جابینجاامکان جدید:همین حالا رزومه خود را در کمتر از ۱۰ دقیقه بسازید،برو به رزومه‌سازJobinja | جابینجا | استخدام، آگهی استخدام، کاریابی، استخدامی جدید، بازار کار، نیازمندیها، ساخت رزومه رایگان، کار و استخدام دولتی، اشتغال، جستجوگر حرفه ای استخدام و شغلخانهجستجوی مشاغلرزومه‌ساز۵۰ شرکت برتربخش کارفرمایانورود کارجوثبت‌نام کارجوورود کارجوثبت‌نام کارجو۱جابینجا چطور به استخدام شدن من کمک می‌کند؟مشاهدهمشاهده بیشترجستجودرخواست‌های مننشان‌شده‌هاآگهی‌های پیشنهادیاز آگهی‌های جدید باخبر شوبهترین فرصت های شغلی در جابینجاهمه‌ی استان‌هازنجانتهرانخراسان رضویاصفهانالبرزفارسقمآذربایجان شرقیمازندرانگیلانخوزستانکرمانیزدقزوینمرکزیهرمزگانگلستانسیستان و بلوچستانبوشهرآذربایجان غربیسمنانکرمانشاههمداناردبیللرستانکردستانخراسان شمالیایلامخراسان جنوبیچهارمحال بختیاریکهکیلویه و بویراحمدهمه‌ی دسته‌بندی‌هافروش و بازاریابیوب،‌ برنامه‌نویسی و نرم‌افزارمالی و حسابداریمسئول دفتر، اجرائی و اداریتولید و مدیریت محتوادیجیتال مارکتینگپشتیبانی و امور مشتریانطراحیIT / DevOps        N/A      N/A          N/A          N/A           N/A             N/A        N/A    N/A             N/A\n",
      "                                                                                                                                                                                                                                                                                                                               https://jobinja.ir/jobs?filters%5Bjob_categories%5D%5B%5D=HSE        استخدام HSE | استخدام ایمنی و بهداشت حرفه ای\\n | جابینجاامکان جدید:همین حالا رزومه خود را در کمتر از ۱۰ دقیقه بسازید،برو به رزومه‌سازJobinja | جابینجا | استخدام، آگهی استخدام، کاریابی، استخدامی جدید، بازار کار، نیازمندیها، ساخت رزومه رایگان، کار و استخدام دولتی، اشتغال، جستجوگر حرفه ای استخدام و شغلخانهجستجوی مشاغلرزومه‌ساز۵۰ شرکت برتربخش کارفرمایانورود کارجوثبت‌نام کارجوورود کارجوثبت‌نام کارجو۱جابینجا چطور به استخدام شدن من کمک می‌کند؟مشاهدهمشاهده بیشترجستجودرخواست‌های مننشان‌شده‌هاآگهی‌های پیشنهادیاز آگهی‌های جدید باخبر شوبهترین فرصت های شغلی در جابینجاهمه‌ی استان‌هاتهرانخراسان رضویاصفهانالبرزفارسقمآذربایجان شرقیمازندرانگیلانخوزستانکرمانیزدقزوینمرکزیهرمزگانگلستانزنجانسیستان و بلوچستانبوشهرآذربایجان غربیسمنانکرمانشاههمداناردبیللرستانکردستانخراسان شمالیایلامخراسان جنوبیچهارمحال بختیاریکهکیلویه و بویراحمدهمه‌ی دسته‌بندی‌هاHSEفروش و بازاریابیوب،‌ برنامه‌نویسی و نرم‌افزارمالی و حسابداریمسئول دفتر، اجرائی و اداریتولید و مدیریت محتوادیجیتال مارکتینگپشتیبانی و امور مشتریانطراحیIT / DevOps / S       N/A      N/A          N/A          N/A           N/A             N/A        N/A    N/A             N/A\n",
      "                                                                                                                                                                                                                                                                                https://jobinja.ir/jobs?filters%5Bkeywords%5D%5B0%5D=%D9%87%D9%88%D8%B4+%D9%85%D8%B5%D9%86%D9%88%D8%B9%DB%8C        فرصت های شغلی هوش مصنوعی\\n | جابینجاامکان جدید:همین حالا رزومه خود را در کمتر از ۱۰ دقیقه بسازید،برو به رزومه‌سازJobinja | جابینجا | استخدام، آگهی استخدام، کاریابی، استخدامی جدید، بازار کار، نیازمندیها، ساخت رزومه رایگان، کار و استخدام دولتی، اشتغال، جستجوگر حرفه ای استخدام و شغلخانهجستجوی مشاغلرزومه‌ساز۵۰ شرکت برتربخش کارفرمایانورود کارجوثبت‌نام کارجوورود کارجوثبت‌نام کارجو۱جابینجا چطور به استخدام شدن من کمک می‌کند؟مشاهدهمشاهده بیشترجستجودرخواست‌های مننشان‌شده‌هاآگهی‌های پیشنهادیاز آگهی‌های جدید باخبر شوبهترین فرصت های شغلی در جابینجاهمه‌ی استان‌هاتهرانخراسان رضویاصفهانالبرزفارسقمآذربایجان شرقیمازندرانگیلانخوزستانکرمانیزدقزوینمرکزیهرمزگانگلستانزنجانسیستان و بلوچستانبوشهرآذربایجان غربیسمنانکرمانشاههمداناردبیللرستانکردستانخراسان شمالیایلامخراسان جنوبیچهارمحال بختیاریکهکیلویه و بویراحمدهمه‌ی دسته‌بندی‌هافروش و بازاریابیوب،‌ برنامه‌نویسی و نرم‌افزارمالی و حسابداریمسئول دفتر، اجرائی و اداریتولید و مدیریت محتوادیجیتال مارکتینگپشتیبانی و امور مشتریانطراحیIT / DevOps / Serverمهندسی صنایع و مدی       N/A      N/A          N/A          N/A           N/A             N/A        N/A    N/A             N/A\n",
      "                                                                                                                                                                                                                                                                                                                                                  https://jobinja.ir/companies/algorock/jobs     فرصت‌های شغلی فعال در الگوراک | Algo Rock | جابینجاامکان جدید:همین حالا رزومه خود را در کمتر از ۱۰ دقیقه بسازید،برو به رزومه‌سازJobinja | جابینجا | استخدام، آگهی استخدام، کاریابی، استخدامی جدید، بازار کار، نیازمندیها، ساخت رزومه رایگان، کار و استخدام دولتی، اشتغال، جستجوگر حرفه ای استخدام و شغلخانهجستجوی مشاغلرزومه‌ساز۵۰ شرکت برتربخش کارفرمایانورود کارجوثبت‌نام کارجوورود کارجوثبت‌نام کارجو۱جابینجا چطور به استخدام شدن من کمک می‌کند؟مشاهدهمشاهده بیشترالگوراک|Algo Rockکامپیوتر، فناوری اطلاعات و اینترنت۵۱ تا ۲۰۰ نفرalgorock.comفرصت‌های شغلی۶معرفی الگوراکما یک مجموعه استارت آپی و فعال در بازارهای اقتصادی و مالی با تمرکز بر هوش مصنوعی و الگوریتم‌های پیشرفته در حال فعالیت هستیم.فرصت‌های شغلی فعال در الگوراک|Algo RockMarketing Manager(۴ روز پیش)الگوراک | Algo Rockتهران، تهرانقرارداد\\n              تمام‌وقت(برای\\n                مشاهده حقوق وارد شوید)ارسال\\n              رزومه{{ tooltipText }}{{ hoverTitle }}نشان کردنحذف نشانCreative Director(۴ روز پیش)الگوراک | Algo Rockتهران، تهرانقرارداد\\n             N/A      N/A          N/A          N/A           N/A             N/A        N/A    N/A             N/A\n",
      "                                                                                                                                                                                           https://jobinja.ir/companies/apllybuddy/jobs/Amyp/%D8%A7%D8%B3%D8%AA%D8%AE%D8%AF%D8%A7%D9%85-senior-graphic-designer-%D8%AF%D8%B1-%D8%A7%D9%BE%D9%84%D8%A7%DB%8C-%D8%A8%D9%88%D8%AF%DB%8C?_ref=18       استخدام Senior Graphic Designer در اپلای بودی | جابینجاامکان جدید:همین حالا رزومه خود را در کمتر از ۱۰ دقیقه بسازید،برو به رزومه‌سازJobinja | جابینجا | استخدام، آگهی استخدام، کاریابی، استخدامی جدید، بازار کار، نیازمندیها، ساخت رزومه رایگان، کار و استخدام دولتی، اشتغال، جستجوگر حرفه ای استخدام و شغلخانهجستجوی مشاغلرزومه‌ساز۵۰ شرکت برتربخش کارفرمایانورود کارجوثبت‌نام کارجوورود کارجوثبت‌نام کارجو۱جابینجا چطور به استخدام شدن من کمک می‌کند؟مشاهدهمشاهده بیشتراپلای بودی|Apllybuddyآموزش، مدارس و دانشگاه‌ها۲ - ۱۰ نفرWww.myapplybuddy.comفرصت‌های شغلی۵استخدام Senior Graphic Designerلطفا برای مشاهده‌ی جزییات و ارسال رزومهیکی از راه‌های زیر را انتخاب کنیدورود / ثبت‌نام با ایمیلimage/svg+xmlbtn_google_light_normal_iosbtn_google_light_normal_iosCreated with Sketch.ورود / ثبت‌نام با گوگل\\n                    (Gmail)ورود / ثبت‌نام با لینکدیناستخدام Senior Graphic Designer{{ tooltipText }}{{ hoverTitle }}نشان کردنحذف نشاندسته‌بندی شغلیطراحیموقعیت مکانیتهران\\n                                                      N/A      N/A          N/A          N/A           N/A             N/A        N/A    N/A             N/A\n",
      "                                                                                                                                                https://jobinja.ir/companies/ofv-co-1/jobs/AmyM/%D8%A7%D8%B3%D8%AA%D8%AE%D8%AF%D8%A7%D9%85-%D8%B7%D8%B1%D8%A7%D8%AD-%DA%AF%D8%B1%D8%A7%D9%81%DB%8C%DA%A9-%D8%AF%D8%B1-%D8%A7%D9%81%D9%82-%D9%81%D8%B1%D8%A7-%D9%88%DB%8C%DA%98%D9%86?_ref=18       استخدام طراح گرافیک در افق فرا ویژن | جابینجاامکان جدید:همین حالا رزومه خود را در کمتر از ۱۰ دقیقه بسازید،برو به رزومه‌سازJobinja | جابینجا | استخدام، آگهی استخدام، کاریابی، استخدامی جدید، بازار کار، نیازمندیها، ساخت رزومه رایگان، کار و استخدام دولتی، اشتغال، جستجوگر حرفه ای استخدام و شغلخانهجستجوی مشاغلرزومه‌ساز۵۰ شرکت برتربخش کارفرمایانورود کارجوثبت‌نام کارجوورود کارجوثبت‌نام کارجو۱جابینجا چطور به استخدام شدن من کمک می‌کند؟مشاهدهمشاهده بیشترافق فرا ویژن|OFV Coتاسیس در  ۱۳۸۶کامپیوتر، فناوری اطلاعات و اینترنت۱۱ تا ۵۰ نفرofv-co.comدر یک نگاهمعرفیفرصت‌های شغلی۳استخدام طراح گرافیکلطفا برای مشاهده‌ی جزییات و ارسال رزومهیکی از راه‌های زیر را انتخاب کنیدورود / ثبت‌نام با ایمیلimage/svg+xmlbtn_google_light_normal_iosbtn_google_light_normal_iosCreated with Sketch.ورود / ثبت‌نام با گوگل\\n                    (Gmail)ورود / ثبت‌نام با لینکدیناستخدام طراح گرافیک{{ tooltipText }}{{ hoverTitle }}نشان کردنحذف نشاندسته‌بندی شغلیطراحیموقعیت مکانیتهران\\n                                                ، تهر       N/A      N/A          N/A          N/A           N/A             N/A        N/A    N/A             N/A\n",
      "                                                                                                                                                                                                                                                                                                    https://jobinja.ir/jobs?filters%5Bjob_categories%5D%5B%5D=%D8%AA%D8%B1%D8%AC%D9%85%D9%87        استخدام مترجم | استخدام مترجم زبان انگلیسی | استخدام مترجم زیرنویس | جابینجا\\n | جابینجاامکان جدید:همین حالا رزومه خود را در کمتر از ۱۰ دقیقه بسازید،برو به رزومه‌سازJobinja | جابینجا | استخدام، آگهی استخدام، کاریابی، استخدامی جدید، بازار کار، نیازمندیها، ساخت رزومه رایگان، کار و استخدام دولتی، اشتغال، جستجوگر حرفه ای استخدام و شغلخانهجستجوی مشاغلرزومه‌ساز۵۰ شرکت برتربخش کارفرمایانورود کارجوثبت‌نام کارجوورود کارجوثبت‌نام کارجو۱جابینجا چطور به استخدام شدن من کمک می‌کند؟مشاهدهمشاهده بیشترجستجودرخواست‌های مننشان‌شده‌هاآگهی‌های پیشنهادیاز آگهی‌های جدید باخبر شوبهترین فرصت های شغلی در جابینجاهمه‌ی استان‌هاتهرانخراسان رضویاصفهانالبرزفارسقمآذربایجان شرقیمازندرانگیلانخوزستانکرمانیزدقزوینمرکزیهرمزگانگلستانزنجانسیستان و بلوچستانبوشهرآذربایجان غربیسمنانکرمانشاههمداناردبیللرستانکردستانخراسان شمالیایلامخراسان جنوبیچهارمحال بختیاریکهکیلویه و بویراحمدهمه‌ی دسته‌بندی‌هاترجمهفروش و بازاریابیوب،‌ برنامه‌نویسی و نرم‌افزارمالی و حسابداریمسئول دفتر، اجرائی و اداریتولید و مدیریت محتوادیجیتال مارکتینگپشتیبانی        N/A      N/A          N/A          N/A           N/A             N/A        N/A    N/A             N/A\n",
      "                                                                                                                                                                                                                                                                                                                                                   https://jobinja.ir/companies/tazmin-sanat         استخدام در شرکت مالتینا، آگهی های استخدام Malltina | جابینجاامکان جدید:همین حالا رزومه خود را در کمتر از ۱۰ دقیقه بسازید،برو به رزومه‌سازJobinja | جابینجا | استخدام، آگهی استخدام، کاریابی، استخدامی جدید، بازار کار، نیازمندیها، ساخت رزومه رایگان، کار و استخدام دولتی، اشتغال، جستجوگر حرفه ای استخدام و شغلخانهجستجوی مشاغلرزومه‌ساز۵۰ شرکت برتربخش کارفرمایانورود کارجوثبت‌نام کارجوورود کارجوثبت‌نام کارجو۱جابینجا چطور به استخدام شدن من کمک می‌کند؟مشاهدهمشاهده بیشترمالتینا|Malltinaکامپیوتر، فناوری اطلاعات و اینترنت۵۱ تا ۲۰۰ نفرmalltina.comدر یک نگاهمعرفیفرصت‌های شغلی۸ما در مالتینا برای نوآوری و خلاقیت ارزش بسیار زیادی قائل هستیم و کوچکترین دستاوردها را جشن می‌گیریم.موقعیت مکانیالبرز، کرجاعضای شرکتمهدی مختاریموسس و مدیرعاملشما در مالتینا کار نمی‌کنید؛ بلکه زندگی می‌کنید. پس ما بهترین فضای کاری را برایتان ایجاد می‌کنیم تا لحظاتی جذاب را در کنار هم تجربه کرده و با هم، خاطراتی به یادماندنی بسازیم.هادی مختاریهم بنیان گذاردر مالتینا بهترین‌ها کنار هم جمع شده‌اند تا بهترین شرایط خدمت رسانی را ایجاد ن       N/A      N/A          N/A          N/A           N/A             N/A        N/A    N/A             N/A\n",
      "                                                                                                                                                                                                                                                                                                                                                       https://jobinja.ir/companies/zarinpal         استخدام در شرکت زرین‌پال، آگهی های استخدام ZarinPal | جابینجاامکان جدید:همین حالا رزومه خود را در کمتر از ۱۰ دقیقه بسازید،برو به رزومه‌سازJobinja | جابینجا | استخدام، آگهی استخدام، کاریابی، استخدامی جدید، بازار کار، نیازمندیها، ساخت رزومه رایگان، کار و استخدام دولتی، اشتغال، جستجوگر حرفه ای استخدام و شغلخانهجستجوی مشاغلرزومه‌ساز۵۰ شرکت برتربخش کارفرمایانورود کارجوثبت‌نام کارجوورود کارجوثبت‌نام کارجو۱جابینجا چطور به استخدام شدن من کمک می‌کند؟مشاهدهمشاهده بیشترزرین‌پال|ZarinPalتاسیس در  ۱۳۸۹کامپیوتر، فناوری اطلاعات و اینترنت۵۱ تا ۲۰۰ نفرwww.zarinpal.comدر یک نگاهمعرفیفرصت‌های شغلی۱۶زرین‌پال اولین ارائه‌دهنده‌ی درگاه پرداخت واسط در کشور است.موقعیت مکانیتهران، تهراناعضای شرکتمصطفی امیریمدیرعاملزرین‌پال، به عنوان برترین سرویس پرداخت الکترونیک، همواره در ارائه‌ی راه‌کارهای نوین پیشگام است و عامل این موفقیت را حضور نیروهای جوان، پُرانرژی، با انگیزه و مستعد می‌داند.علی امیریرئیس هیئت مدیرهدر زرین‌پال اخلاق و روحیه‌ی کار تیمی، از تحصیلات و سابقه‌‌ی کاری اهمیت بیش‌تری دارد. من معتقدم نیروی انسان       N/A      N/A          N/A          N/A           N/A             N/A        N/A    N/A             N/A\n",
      "                                                                                                                                                                                                                                                                                                                                                    https://jobinja.ir/companies/hami-4/jobs         فرصت‌های شغلی فعال در حامی پیشگامان  | Hamipishgaman | جابینجاامکان جدید:همین حالا رزومه خود را در کمتر از ۱۰ دقیقه بسازید،برو به رزومه‌سازJobinja | جابینجا | استخدام، آگهی استخدام، کاریابی، استخدامی جدید، بازار کار، نیازمندیها، ساخت رزومه رایگان، کار و استخدام دولتی، اشتغال، جستجوگر حرفه ای استخدام و شغلخانهجستجوی مشاغلرزومه‌ساز۵۰ شرکت برتربخش کارفرمایانورود کارجوثبت‌نام کارجوورود کارجوثبت‌نام کارجو۱جابینجا چطور به استخدام شدن من کمک می‌کند؟مشاهدهمشاهده بیشترحامی پیشگامان|Hamipishgamanتاسیس در  ۱۳۹۷تبلیغات، بازاریابی و برندسازی۱۱ تا ۵۰ نفرhamipishgaman.com/در یک نگاهمعرفیفرصت‌های شغلی۴معرفی حامی پیشگامانشرکت حامی پیشگامان ، تعاملات سازنده داخل سازمانی را در جهت رشد منابع انسانی با فرهنگ هم‌افزایی گره زده و برای پیشرفت در کسب‌وکار با تکیه بر تکنولوژی، سعی در ایجاد و توسعه محصولاتی در صنعت آی‌تی دارد که ضمن ایجاد ارزش‌های اقتصادی، در راستای تکمیل یک زنجیره ارزشمند، در آینده کسب‌وکارها نیز سهیم باشد.شرکت حامی مجموعه‌ای فعال در IT و فناوری اطلاعات است که در زمینه دیجیتال مارکتینگ، مدیریت        N/A      N/A          N/A          N/A           N/A             N/A        N/A    N/A             N/A\n",
      "                                                                                                                                               https://jobinja.ir/companies/dot-studio/jobs/Amyu/%D8%A7%D8%B3%D8%AA%D8%AE%D8%AF%D8%A7%D9%85-%D8%B7%D8%B1%D8%A7%D8%AD-%DA%AF%D8%B1%D8%A7%D9%81%DB%8C%DA%A9-%D8%AF%D8%B1-%D8%AF%D8%A7%D8%AA-%D8%A7%D8%B3%D8%AA%D9%88%D8%AF%DB%8C%D9%88?_ref=18       استخدام طراح گرافیک در دات استودیو | جابینجاامکان جدید:همین حالا رزومه خود را در کمتر از ۱۰ دقیقه بسازید،برو به رزومه‌سازJobinja | جابینجا | استخدام، آگهی استخدام، کاریابی، استخدامی جدید، بازار کار، نیازمندیها، ساخت رزومه رایگان، کار و استخدام دولتی، اشتغال، جستجوگر حرفه ای استخدام و شغلخانهجستجوی مشاغلرزومه‌ساز۵۰ شرکت برتربخش کارفرمایانورود کارجوثبت‌نام کارجوورود کارجوثبت‌نام کارجو۱جابینجا چطور به استخدام شدن من کمک می‌کند؟مشاهدهمشاهده بیشتردات استودیو|DOT Studioتبلیغات، بازاریابی و برندسازی۲ - ۱۰ نفرwww.dot-studio.irفرصت‌های شغلی۲استخدام طراح گرافیکلطفا برای مشاهده‌ی جزییات و ارسال رزومهیکی از راه‌های زیر را انتخاب کنیدورود / ثبت‌نام با ایمیلimage/svg+xmlbtn_google_light_normal_iosbtn_google_light_normal_iosCreated with Sketch.ورود / ثبت‌نام با گوگل\\n                    (Gmail)ورود / ثبت‌نام با لینکدیناستخدام طراح گرافیک{{ tooltipText }}{{ hoverTitle }}نشان کردنحذف نشاندسته‌بندی شغلیطراحیموقعیت مکانیتهران\\n                                                ، تهراننوع همکاریتمام وقتحداقل س       N/A      N/A          N/A          N/A           N/A             N/A        N/A    N/A             N/A\n",
      "                                                                                                                                                                                                                                                                                                                                                   https://jobinja.ir/companies/daftareshoma         استخدام در شرکت دفتر شما، آگهی های استخدام Daftareshoma | جابینجاامکان جدید:همین حالا رزومه خود را در کمتر از ۱۰ دقیقه بسازید،برو به رزومه‌سازJobinja | جابینجا | استخدام، آگهی استخدام، کاریابی، استخدامی جدید، بازار کار، نیازمندیها، ساخت رزومه رایگان، کار و استخدام دولتی، اشتغال، جستجوگر حرفه ای استخدام و شغلخانهجستجوی مشاغلرزومه‌ساز۵۰ شرکت برتربخش کارفرمایانورود کارجوثبت‌نام کارجوورود کارجوثبت‌نام کارجو۱جابینجا چطور به استخدام شدن من کمک می‌کند؟مشاهدهمشاهده بیشتردفتر شما|Daftareshomaتاسیس در  ۱۳۸۳کامپیوتر، فناوری اطلاعات و اینترنت۵۱ تا ۲۰۰ نفرdaftareshoma.comدر یک نگاهمعرفیفرصت‌های شغلی۷تیم ما از بخش‌های شبکه، برنامه‌نویسی، فروش، بازاریابی و اپراتوری تشکیل شده است که هر بخش با تخصص منحصر به فرد خود در حوزه مربوطه فعالیت می‌کند.موقعیت مکانیتهران، تهراناعضای شرکتعلی دشتیمدیر عاملکار در کنار دوستان و همکاران خوبم در «دفترشما»، مثل یک رویاست و هر روز بابت این شانس قدردانم.شاهین شوشتریمدیر فنیدر همکاری چند ساله با «دفتر شما»، محیطی سالم، صمیمی و به دور از حاشیه را تجربه کردم.علی دادگرمدیر ا       N/A      N/A          N/A          N/A           N/A             N/A        N/A    N/A             N/A\n",
      "                                                                                                                                                                                                                                            https://jobinja.ir/jobs?filters%5Bkeywords%5D%5B0%5D=%D8%A7%D8%AF%D9%85%DB%8C%D9%86+%D8%A7%DB%8C%D9%86%D8%B3%D8%AA%D8%A7%DA%AF%D8%B1%D8%A7%D9%85        فرصت های شغلی ادمین اینستاگرام\\n | جابینجاامکان جدید:همین حالا رزومه خود را در کمتر از ۱۰ دقیقه بسازید،برو به رزومه‌سازJobinja | جابینجا | استخدام، آگهی استخدام، کاریابی، استخدامی جدید، بازار کار، نیازمندیها، ساخت رزومه رایگان، کار و استخدام دولتی، اشتغال، جستجوگر حرفه ای استخدام و شغلخانهجستجوی مشاغلرزومه‌ساز۵۰ شرکت برتربخش کارفرمایانورود کارجوثبت‌نام کارجوورود کارجوثبت‌نام کارجو۱جابینجا چطور به استخدام شدن من کمک می‌کند؟مشاهدهمشاهده بیشترجستجودرخواست‌های مننشان‌شده‌هاآگهی‌های پیشنهادیاز آگهی‌های جدید باخبر شوبهترین فرصت های شغلی در جابینجاهمه‌ی استان‌هاتهرانخراسان رضویاصفهانالبرزفارسقمآذربایجان شرقیمازندرانگیلانخوزستانکرمانیزدقزوینمرکزیهرمزگانگلستانزنجانسیستان و بلوچستانبوشهرآذربایجان غربیسمنانکرمانشاههمداناردبیللرستانکردستانخراسان شمالیایلامخراسان جنوبیچهارمحال بختیاریکهکیلویه و بویراحمدهمه‌ی دسته‌بندی‌هافروش و بازاریابیوب،‌ برنامه‌نویسی و نرم‌افزارمالی و حسابداریمسئول دفتر، اجرائی و اداریتولید و مدیریت محتوادیجیتال مارکتینگپشتیبانی و امور مشتریانطراحیIT / DevOps / Serverمهندسی صنایع       N/A      N/A          N/A          N/A           N/A             N/A        N/A    N/A             N/A\n",
      "                                                                                                                                                                                                                                                                                                                    https://jobinja.ir/knowledge/job-seeker-faq/pages/job-seeker-account-faq         سوالات متداول حساب کاربری کارجویان | جابینجاامکان جدید:همین حالا رزومه خود را در کمتر از ۱۰ دقیقه بسازید،برو به رزومه‌سازJobinja | جابینجا | استخدام، آگهی استخدام، کاریابی، استخدامی جدید، بازار کار، نیازمندیها، ساخت رزومه رایگان، کار و استخدام دولتی، اشتغال، جستجوگر حرفه ای استخدام و شغلخانهجستجوی مشاغلرزومه‌ساز۵۰ شرکت برتربخش کارفرمایانورود کارجوثبت‌نام کارجوورود کارجوثبت‌نام کارجو۱جابینجا چطور به استخدام شدن من کمک می‌کند؟مشاهدهمشاهده بیشترسوالات متداول کارجویانسوالات متداول حساب کاربری کارجویانسوالات متداول حساب کاربری کارجویانثبت نام  و ورود به پنل کارجویی:چگونه می‌توانم در جابینجا حساب کاربری ایجاد کنم؟برای ایجاد حساب کاربری وارد سایت jobinja.ir شوید و از نوار بالای صفحه روی قسمت ثبت نام کارجو کلیک نمایید. بعد از وارد کردن آدرس ایمیل، نام و نام خانوادگی و رمز عبور روی گزینه ثبت نام کلیک کنید تا حساب کاربری شما ساخته شود.چگونه می‌توانم وارد حساب کاربری خود شوم؟بعد از ورود به سایت jobinja.ir از نوار بالای صفحه روی قسمت ورود کارجو کلیک نمایید و با وارد کردن آدرس ایمیل و رمز عبور خود        N/A      N/A          N/A          N/A           N/A             N/A        N/A    N/A             N/A\n",
      "                                                                                                                                                                                                                                                                          https://jobinja.ir/jobs?filters%5Bkeywords%5D%5B0%5D=%D8%A8%D8%B1%D9%86%D8%A7%D9%85%D9%87+%D9%86%D9%88%DB%8C%D8%B3        فرصت های شغلی برنامه نویس\\n | جابینجاامکان جدید:همین حالا رزومه خود را در کمتر از ۱۰ دقیقه بسازید،برو به رزومه‌سازJobinja | جابینجا | استخدام، آگهی استخدام، کاریابی، استخدامی جدید، بازار کار، نیازمندیها، ساخت رزومه رایگان، کار و استخدام دولتی، اشتغال، جستجوگر حرفه ای استخدام و شغلخانهجستجوی مشاغلرزومه‌ساز۵۰ شرکت برتربخش کارفرمایانورود کارجوثبت‌نام کارجوورود کارجوثبت‌نام کارجو۱جابینجا چطور به استخدام شدن من کمک می‌کند؟مشاهدهمشاهده بیشترجستجودرخواست‌های مننشان‌شده‌هاآگهی‌های پیشنهادیاز آگهی‌های جدید باخبر شوبهترین فرصت های شغلی در جابینجاهمه‌ی استان‌هاتهرانخراسان رضویاصفهانالبرزفارسقمآذربایجان شرقیمازندرانگیلانخوزستانکرمانیزدقزوینمرکزیهرمزگانگلستانزنجانسیستان و بلوچستانبوشهرآذربایجان غربیسمنانکرمانشاههمداناردبیللرستانکردستانخراسان شمالیایلامخراسان جنوبیچهارمحال بختیاریکهکیلویه و بویراحمدهمه‌ی دسته‌بندی‌هافروش و بازاریابیوب،‌ برنامه‌نویسی و نرم‌افزارمالی و حسابداریمسئول دفتر، اجرائی و اداریتولید و مدیریت محتوادیجیتال مارکتینگپشتیبانی و امور مشتریانطراحیIT / DevOps / Serverمهندسی صنایع و مد       N/A      N/A          N/A          N/A           N/A             N/A        N/A    N/A             N/A\n",
      "                                                                                                                                                                                                                                                                                                                                           https://jobinja.ir/jobs?sort_by=published_at_desc        استخدامی جدید | آگهی استخدام امروز | استخدامی های امروز\\n | جابینجاامکان جدید:همین حالا رزومه خود را در کمتر از ۱۰ دقیقه بسازید،برو به رزومه‌سازJobinja | جابینجا | استخدام، آگهی استخدام، کاریابی، استخدامی جدید، بازار کار، نیازمندیها، ساخت رزومه رایگان، کار و استخدام دولتی، اشتغال، جستجوگر حرفه ای استخدام و شغلخانهجستجوی مشاغلرزومه‌ساز۵۰ شرکت برتربخش کارفرمایانورود کارجوثبت‌نام کارجوورود کارجوثبت‌نام کارجو۱جابینجا چطور به استخدام شدن من کمک می‌کند؟مشاهدهمشاهده بیشترجستجودرخواست‌های مننشان‌شده‌هاآگهی‌های پیشنهادیاز آگهی‌های جدید باخبر شوبهترین فرصت های شغلی در جابینجاهمه‌ی استان‌هاتهرانخراسان رضویاصفهانالبرزفارسقمآذربایجان شرقیمازندرانگیلانخوزستانکرمانیزدقزوینمرکزیهرمزگانگلستانزنجانسیستان و بلوچستانبوشهرآذربایجان غربیسمنانکرمانشاههمداناردبیللرستانکردستانخراسان شمالیایلامخراسان جنوبیچهارمحال بختیاریکهکیلویه و بویراحمدهمه‌ی دسته‌بندی‌هافروش و بازاریابیوب،‌ برنامه‌نویسی و نرم‌افزارمالی و حسابداریمسئول دفتر، اجرائی و اداریتولید و مدیریت محتوادیجیتال مارکتینگپشتیبانی و امور مشتریانطراحیIT / De       N/A      N/A          N/A          N/A           N/A             N/A        N/A    N/A             N/A\n",
      "                                                                                                                                                                                                                                                                                                         https://jobinja.ir/jobs?filters%5Blocations%5D%5B%5D=%D8%A8%D9%88%D8%B4%D9%87%D8%B1        آگهی استخدام بوشهر | کاریابی بوشهر | جابینجا\\n | جابینجاامکان جدید:همین حالا رزومه خود را در کمتر از ۱۰ دقیقه بسازید،برو به رزومه‌سازJobinja | جابینجا | استخدام، آگهی استخدام، کاریابی، استخدامی جدید، بازار کار، نیازمندیها، ساخت رزومه رایگان، کار و استخدام دولتی، اشتغال، جستجوگر حرفه ای استخدام و شغلخانهجستجوی مشاغلرزومه‌ساز۵۰ شرکت برتربخش کارفرمایانورود کارجوثبت‌نام کارجوورود کارجوثبت‌نام کارجو۱جابینجا چطور به استخدام شدن من کمک می‌کند؟مشاهدهمشاهده بیشترجستجودرخواست‌های مننشان‌شده‌هاآگهی‌های پیشنهادیاز آگهی‌های جدید باخبر شوبهترین فرصت های شغلی در جابینجاهمه‌ی استان‌هابوشهرتهرانخراسان رضویاصفهانالبرزفارسقمآذربایجان شرقیمازندرانگیلانخوزستانکرمانیزدقزوینمرکزیهرمزگانگلستانزنجانسیستان و بلوچستانآذربایجان غربیسمنانکرمانشاههمداناردبیللرستانکردستانخراسان شمالیایلامخراسان جنوبیچهارمحال بختیاریکهکیلویه و بویراحمدهمه‌ی دسته‌بندی‌هافروش و بازاریابیوب،‌ برنامه‌نویسی و نرم‌افزارمالی و حسابداریمسئول دفتر، اجرائی و اداریتولید و مدیریت محتوادیجیتال مارکتینگپشتیبانی و امور مشتریانطراحیIT / DevOps / Serv       N/A      N/A          N/A          N/A           N/A             N/A        N/A    N/A             N/A\n",
      "                                                                                                                                                                                                                                  https://jobinja.ir/jobs?filters%5Bjob_categories%5D%5B%5D=%D8%AD%D9%88%D8%B2%D9%87%E2%80%8C+%D9%85%D9%88%D8%B3%DB%8C%D9%82%DB%8C+%D9%88+%D8%B5%D8%AF%D8%A7        استخدام گوینده | استخدام دوبلور | استخدام آهنگساز و تنظیم کننده\\n | جابینجاامکان جدید:همین حالا رزومه خود را در کمتر از ۱۰ دقیقه بسازید،برو به رزومه‌سازJobinja | جابینجا | استخدام، آگهی استخدام، کاریابی، استخدامی جدید، بازار کار، نیازمندیها، ساخت رزومه رایگان، کار و استخدام دولتی، اشتغال، جستجوگر حرفه ای استخدام و شغلخانهجستجوی مشاغلرزومه‌ساز۵۰ شرکت برتربخش کارفرمایانورود کارجوثبت‌نام کارجوورود کارجوثبت‌نام کارجو۱جابینجا چطور به استخدام شدن من کمک می‌کند؟مشاهدهمشاهده بیشترجستجودرخواست‌های مننشان‌شده‌هاآگهی‌های پیشنهادیاز آگهی‌های جدید باخبر شوبهترین فرصت های شغلی در جابینجاهمه‌ی استان‌هاتهرانخراسان رضویاصفهانالبرزفارسقمآذربایجان شرقیمازندرانگیلانخوزستانکرمانیزدقزوینمرکزیهرمزگانگلستانزنجانسیستان و بلوچستانبوشهرآذربایجان غربیسمنانکرمانشاههمداناردبیللرستانکردستانخراسان شمالیایلامخراسان جنوبیچهارمحال بختیاریکهکیلویه و بویراحمدهمه‌ی دسته‌بندی‌هاحوزه‌ موسیقی و صدافروش و بازاریابیوب،‌ برنامه‌نویسی و نرم‌افزارمالی و حسابداریمسئول دفتر، اجرائی و اداریتولید و مدیریت محتوادیجیتال مارکتینگپشتیبانی        N/A      N/A          N/A          N/A           N/A             N/A        N/A    N/A             N/A\n",
      "                                                                                                                                                                                                                                                                                                                                                          https://jobinja.ir/companies/dotin         استخدام در شرکت داتین، آگهی های استخدام Dotin | جابینجاامکان جدید:همین حالا رزومه خود را در کمتر از ۱۰ دقیقه بسازید،برو به رزومه‌سازJobinja | جابینجا | استخدام، آگهی استخدام، کاریابی، استخدامی جدید، بازار کار، نیازمندیها، ساخت رزومه رایگان، کار و استخدام دولتی، اشتغال، جستجوگر حرفه ای استخدام و شغلخانهجستجوی مشاغلرزومه‌ساز۵۰ شرکت برتربخش کارفرمایانورود کارجوثبت‌نام کارجوورود کارجوثبت‌نام کارجو۱جابینجا چطور به استخدام شدن من کمک می‌کند؟مشاهدهمشاهده بیشترداتین|Dotinتاسیس در  ۱۳۹۰کامپیوتر، فناوری اطلاعات و اینترنتبیش از ۱۰۰۰ نفرdotin.irدر یک نگاهمعرفیفرصت‌های شغلی۴۲شرکت نرم‌افزارى داتیس آرین قشم (داتین) یکى از شرکت‌هاى ایرانى پیشرو و دانش‌بنیان است که بیش از ۲۰ سازمان در سراسر کشور از جمله ۹ بانک و موسسه مالی و چهار شرکت بیمه، برای پردازش تعاملات مالی و تراکنش‌های مشتریان خود به آن متکی هستند.موقعیت مکانیتهران، تهراناعضای شرکتمسعود موسی‌پورمدیر محصول مدیریت کارت مرکز توسعه راهکار پرداخت داتیننکته قابل توجه‌ایی که داتین برای من داشته، انتقال دانش و تجربه و همینطور توجه‌اش به توسعه و ارتقا        N/A      N/A          N/A          N/A           N/A             N/A        N/A    N/A             N/A\n",
      "                                                                                                   https://jobinja.ir/companies/jeanstore/jobs/Amy4/%D8%A7%D8%B3%D8%AA%D8%AE%D8%AF%D8%A7%D9%85-%D8%B7%D8%B1%D8%A7%D8%AD-%D9%84%D8%A8%D8%A7%D8%B3-%D9%85%D8%B3%D9%84%D8%B7-%D8%A8%D9%87-%D8%AC%D9%85%DB%8C%D9%86%DB%8C-%D8%AF%D8%B1-%D8%AC%DB%8C%D9%86-%D8%A7%D8%B3%D8%AA%D9%88%D8%B1?_ref=18       استخدام طراح لباس (مسلط به جمینی) در جین استور | جابینجاامکان جدید:همین حالا رزومه خود را در کمتر از ۱۰ دقیقه بسازید،برو به رزومه‌سازJobinja | جابینجا | استخدام، آگهی استخدام، کاریابی، استخدامی جدید، بازار کار، نیازمندیها، ساخت رزومه رایگان، کار و استخدام دولتی، اشتغال، جستجوگر حرفه ای استخدام و شغلخانهجستجوی مشاغلرزومه‌ساز۵۰ شرکت برتربخش کارفرمایانورود کارجوثبت‌نام کارجوورود کارجوثبت‌نام کارجو۱جابینجا چطور به استخدام شدن من کمک می‌کند؟مشاهدهمشاهده بیشترجین استور|Jeanstoreتولید و صنایع۱۱ تا ۵۰ نفرwww.jeanstarco.irفرصت‌های شغلی۱استخدام طراح لباس (مسلط به جمینی)لطفا برای مشاهده‌ی جزییات و ارسال رزومهیکی از راه‌های زیر را انتخاب کنیدورود / ثبت‌نام با ایمیلimage/svg+xmlbtn_google_light_normal_iosbtn_google_light_normal_iosCreated with Sketch.ورود / ثبت‌نام با گوگل\\n                    (Gmail)ورود / ثبت‌نام با لینکدیناستخدام طراح لباس (مسلط به جمینی){{ tooltipText }}{{ hoverTitle }}نشان کردنحذف نشاندسته‌بندی شغلیمهندسی نساجی، طراحی پارچه و لباسموقعیت مکانیتهران\\n                                     N/A      N/A          N/A          N/A           N/A             N/A        N/A    N/A             N/A\n",
      "                                                                                                                                                                                                                                                                                                                           https://jobinja.ir/jobs?filters%5Blocations%5D%5B%5D=%D9%82%D9%85        استخدام قم | کاریابی قم | آگهی استخدام قم\\n | جابینجاامکان جدید:همین حالا رزومه خود را در کمتر از ۱۰ دقیقه بسازید،برو به رزومه‌سازJobinja | جابینجا | استخدام، آگهی استخدام، کاریابی، استخدامی جدید، بازار کار، نیازمندیها، ساخت رزومه رایگان، کار و استخدام دولتی، اشتغال، جستجوگر حرفه ای استخدام و شغلخانهجستجوی مشاغلرزومه‌ساز۵۰ شرکت برتربخش کارفرمایانورود کارجوثبت‌نام کارجوورود کارجوثبت‌نام کارجو۱جابینجا چطور به استخدام شدن من کمک می‌کند؟مشاهدهمشاهده بیشترجستجودرخواست‌های مننشان‌شده‌هاآگهی‌های پیشنهادیاز آگهی‌های جدید باخبر شوبهترین فرصت های شغلی در جابینجاهمه‌ی استان‌هاقمتهرانخراسان رضویاصفهانالبرزفارسآذربایجان شرقیمازندرانگیلانخوزستانکرمانیزدقزوینمرکزیهرمزگانگلستانزنجانسیستان و بلوچستانبوشهرآذربایجان غربیسمنانکرمانشاههمداناردبیللرستانکردستانخراسان شمالیایلامخراسان جنوبیچهارمحال بختیاریکهکیلویه و بویراحمدهمه‌ی دسته‌بندی‌هافروش و بازاریابیوب،‌ برنامه‌نویسی و نرم‌افزارمالی و حسابداریمسئول دفتر، اجرائی و اداریتولید و مدیریت محتوادیجیتال مارکتینگپشتیبانی و امور مشتریانطراحیIT / DevOps / Serverم       N/A      N/A          N/A          N/A           N/A             N/A        N/A    N/A             N/A\n",
      "                                                                                                                                                                                                                                                                                                                                                  https://jobinja.ir/companies/chargoon/jobs         فرصت‌های شغلی فعال در چارگون | Chargoon | جابینجاامکان جدید:همین حالا رزومه خود را در کمتر از ۱۰ دقیقه بسازید،برو به رزومه‌سازJobinja | جابینجا | استخدام، آگهی استخدام، کاریابی، استخدامی جدید، بازار کار، نیازمندیها، ساخت رزومه رایگان، کار و استخدام دولتی، اشتغال، جستجوگر حرفه ای استخدام و شغلخانهجستجوی مشاغلرزومه‌ساز۵۰ شرکت برتربخش کارفرمایانورود کارجوثبت‌نام کارجوورود کارجوثبت‌نام کارجو۱جابینجا چطور به استخدام شدن من کمک می‌کند؟مشاهدهمشاهده بیشترچارگون|Chargoonتاسیس در  ۱۳۷۷کامپیوتر، فناوری اطلاعات و اینترنت۲۰۱ تا ۵۰۰ نفرchargoon.comدر یک نگاهمعرفیفرصت‌های شغلی۱۸معرفی چارگونشرکت چارگون با تمرکز بر نیازمندی‌های آشکار و پنهان بازار، مجموعه‌ای از نرم‌افزارهای یکپارچه ارائه کرده که از طریق راهکارهای خلاق و بومی‌سازی شده، پاسخگوی نیازها و مشکلات سازمان‌های ایرانی هستند.نوآوری و نشاط اولین جلوه‌ای است که در چارگون به چشم می‌خورد. محیط کار صمیمی در کنار راهکارهای نوین تصمیم‌سازی مشارکتی، رشد و هم‌افزایی قابل توجهی در چارگون ایجاد کرده و نهایتا با تکیه بر پتانسیل‌های ایجاد شده ضمن توسعه سیستم       N/A      N/A          N/A          N/A           N/A             N/A        N/A    N/A             N/A\n",
      "                                                                                                                                                                                                                                                                                      https://jobinja.ir/jobs?filters%5Bkeywords%5D%5B0%5D=%D9%81%D8%B1%D8%A7%D9%86%D8%AA+%D8%A7%D9%86%D8%AF        فرصت های شغلی فرانت اند\\n | جابینجاامکان جدید:همین حالا رزومه خود را در کمتر از ۱۰ دقیقه بسازید،برو به رزومه‌سازJobinja | جابینجا | استخدام، آگهی استخدام، کاریابی، استخدامی جدید، بازار کار، نیازمندیها، ساخت رزومه رایگان، کار و استخدام دولتی، اشتغال، جستجوگر حرفه ای استخدام و شغلخانهجستجوی مشاغلرزومه‌ساز۵۰ شرکت برتربخش کارفرمایانورود کارجوثبت‌نام کارجوورود کارجوثبت‌نام کارجو۱جابینجا چطور به استخدام شدن من کمک می‌کند؟مشاهدهمشاهده بیشترجستجودرخواست‌های مننشان‌شده‌هاآگهی‌های پیشنهادیاز آگهی‌های جدید باخبر شوبهترین فرصت های شغلی در جابینجاهمه‌ی استان‌هاتهرانخراسان رضویاصفهانالبرزفارسقمآذربایجان شرقیمازندرانگیلانخوزستانکرمانیزدقزوینمرکزیهرمزگانگلستانزنجانسیستان و بلوچستانبوشهرآذربایجان غربیسمنانکرمانشاههمداناردبیللرستانکردستانخراسان شمالیایلامخراسان جنوبیچهارمحال بختیاریکهکیلویه و بویراحمدهمه‌ی دسته‌بندی‌هافروش و بازاریابیوب،‌ برنامه‌نویسی و نرم‌افزارمالی و حسابداریمسئول دفتر، اجرائی و اداریتولید و مدیریت محتوادیجیتال مارکتینگپشتیبانی و امور مشتریانطراحیIT / DevOps / Serverمهندسی صنایع و مدیر       N/A      N/A          N/A          N/A           N/A             N/A        N/A    N/A             N/A\n",
      "                                                                                                                                                                                                                                                                                                         https://jobinja.ir/jobs?filters%5Blocations%5D%5B%5D=%D8%AA%D9%87%D8%B1%D8%A7%D9%86        آگهی استخدام امروز تهران | کاریابی تهران | استخدام تهران\\n | جابینجاامکان جدید:همین حالا رزومه خود را در کمتر از ۱۰ دقیقه بسازید،برو به رزومه‌سازJobinja | جابینجا | استخدام، آگهی استخدام، کاریابی، استخدامی جدید، بازار کار، نیازمندیها، ساخت رزومه رایگان، کار و استخدام دولتی، اشتغال، جستجوگر حرفه ای استخدام و شغلخانهجستجوی مشاغلرزومه‌ساز۵۰ شرکت برتربخش کارفرمایانورود کارجوثبت‌نام کارجوورود کارجوثبت‌نام کارجو۱جابینجا چطور به استخدام شدن من کمک می‌کند؟مشاهدهمشاهده بیشترجستجودرخواست‌های مننشان‌شده‌هاآگهی‌های پیشنهادیاز آگهی‌های جدید باخبر شوبهترین فرصت های شغلی در جابینجاهمه‌ی استان‌هاتهرانخراسان رضویاصفهانالبرزفارسقمآذربایجان شرقیمازندرانگیلانخوزستانکرمانیزدقزوینمرکزیهرمزگانگلستانزنجانسیستان و بلوچستانبوشهرآذربایجان غربیسمنانکرمانشاههمداناردبیللرستانکردستانخراسان شمالیایلامخراسان جنوبیچهارمحال بختیاریکهکیلویه و بویراحمدهمه‌ی دسته‌بندی‌هافروش و بازاریابیوب،‌ برنامه‌نویسی و نرم‌افزارمالی و حسابداریمسئول دفتر، اجرائی و اداریتولید و مدیریت محتوادیجیتال مارکتینگپشتیبانی و امور مشتریانطراحیIT / D       N/A      N/A          N/A          N/A           N/A             N/A        N/A    N/A             N/A\n",
      "                                                                                                                                                                                                                                                                                                                                                   https://jobinja.ir/companies/Zarrino/jobs         فرصت‌های شغلی فعال در زرینو | Zarrino | جابینجاامکان جدید:همین حالا رزومه خود را در کمتر از ۱۰ دقیقه بسازید،برو به رزومه‌سازJobinja | جابینجا | استخدام، آگهی استخدام، کاریابی، استخدامی جدید، بازار کار، نیازمندیها، ساخت رزومه رایگان، کار و استخدام دولتی، اشتغال، جستجوگر حرفه ای استخدام و شغلخانهجستجوی مشاغلرزومه‌ساز۵۰ شرکت برتربخش کارفرمایانورود کارجوثبت‌نام کارجوورود کارجوثبت‌نام کارجو۱جابینجا چطور به استخدام شدن من کمک می‌کند؟مشاهدهمشاهده بیشترزرینو|Zarrinoکامپیوتر، فناوری اطلاعات و اینترنت۵۱ تا ۲۰۰ نفرzarrino.io/فرصت‌های شغلی۱۴معرفی زرینوزرینو، مالک و توسعه‌دهنده‌ی دو نام تجاری «Herlife» و «Pindis» است. هرلایف، اپلیکیشنی است که در زمینه‌ی سلامت و سبک زندگی و همین‌طور آگاهی‌بخشی در حوزه‌ی زنان فعالیت می‌کند و پیندیس، پلتفرمی‌ست که به کسب‌وکارهای خرد کمک می‌کند تا تجربه‌ و خرید بهتری برای مشتریان خود خلق کنند.چشم‌انداز ما تولید، توسعه و رشد محصولات فناورانه‌ایست که راه‌کارهایی نوآورانه برای حل مشکلات بزرگ داشته باشند. ما محصولات تازه‌ و برندهای جدیدی خلق می‌کنیم که زندگی را برای هم‌کار       N/A      N/A          N/A          N/A           N/A             N/A        N/A    N/A             N/A\n",
      "                                                                                                                                                                                                                                                                                                               https://jobinja.ir/jobs?filters%5Bkeywords%5D%5B0%5D=%D9%85%D9%86%D8%B4%DB%8C        فرصت های شغلی منشی\\n | جابینجاامکان جدید:همین حالا رزومه خود را در کمتر از ۱۰ دقیقه بسازید،برو به رزومه‌سازJobinja | جابینجا | استخدام، آگهی استخدام، کاریابی، استخدامی جدید، بازار کار، نیازمندیها، ساخت رزومه رایگان، کار و استخدام دولتی، اشتغال، جستجوگر حرفه ای استخدام و شغلخانهجستجوی مشاغلرزومه‌ساز۵۰ شرکت برتربخش کارفرمایانورود کارجوثبت‌نام کارجوورود کارجوثبت‌نام کارجو۱جابینجا چطور به استخدام شدن من کمک می‌کند؟مشاهدهمشاهده بیشترجستجودرخواست‌های مننشان‌شده‌هاآگهی‌های پیشنهادیاز آگهی‌های جدید باخبر شوبهترین فرصت های شغلی در جابینجاهمه‌ی استان‌هاتهرانخراسان رضویاصفهانالبرزفارسقمآذربایجان شرقیمازندرانگیلانخوزستانکرمانیزدقزوینمرکزیهرمزگانگلستانزنجانسیستان و بلوچستانبوشهرآذربایجان غربیسمنانکرمانشاههمداناردبیللرستانکردستانخراسان شمالیایلامخراسان جنوبیچهارمحال بختیاریکهکیلویه و بویراحمدهمه‌ی دسته‌بندی‌هافروش و بازاریابیوب،‌ برنامه‌نویسی و نرم‌افزارمالی و حسابداریمسئول دفتر، اجرائی و اداریتولید و مدیریت محتوادیجیتال مارکتینگپشتیبانی و امور مشتریانطراحیIT / DevOps / Serverمهندسی صنایع و مدیریت صن       N/A      N/A          N/A          N/A           N/A             N/A        N/A    N/A             N/A\n"
     ]
    }
   ],
   "source": [
    "import requests\n",
    "from bs4 import BeautifulSoup\n",
    "import time\n",
    "import pandas as pd\n",
    "import os\n",
    "\n",
    "class JobinjaScraper:\n",
    "    def __init__(self, base_url, headers):\n",
    "        self.base_url = base_url\n",
    "        self.headers = headers\n",
    "        self.subpage_links = set()\n",
    "        self.all_jobs_data = []\n",
    "\n",
    "    def get_links(self):\n",
    "        try:\n",
    "            response = requests.get(self.base_url, headers=self.headers, verify=False, timeout=10)\n",
    "            response.raise_for_status()\n",
    "\n",
    "            soup = BeautifulSoup(response.text, 'html.parser')\n",
    "            links = soup.find_all('a', href=True)\n",
    "\n",
    "            for link in links:\n",
    "                href = link['href']\n",
    "                if href.startswith('/'):  # It's a relative link\n",
    "                    full_url = self.base_url + href\n",
    "                elif href.startswith('http'):\n",
    "                    full_url = href\n",
    "                else:\n",
    "                    continue  # Skip if the href doesn't look like a valid link\n",
    "\n",
    "                self.subpage_links.add(full_url)\n",
    "\n",
    "        except requests.exceptions.SSLError as e:\n",
    "            print(f\"SSL error occurred: {e}\")\n",
    "        except requests.exceptions.RequestException as e:\n",
    "            print(f\"An error occurred: {e}\")\n",
    "\n",
    "    def extract_subpage_text(self):\n",
    "        for subpage_url in self.subpage_links:\n",
    "            try:\n",
    "                subpage_response = requests.get(subpage_url, headers=self.headers, verify=False, timeout=10)\n",
    "                subpage_response.raise_for_status()\n",
    "\n",
    "                subpage_soup = BeautifulSoup(subpage_response.text, 'html.parser')\n",
    "                subpage_text = subpage_soup.get_text(strip=True)\n",
    "                \n",
    "                # Extract additional job data for sorting\n",
    "                job_title = subpage_soup.find('h1', {'class': 'job-title'})\n",
    "                job_type = subpage_soup.find('div', {'class': 'job-type'})\n",
    "                job_location = subpage_soup.find('div', {'class': 'job-location'})\n",
    "                company_name = subpage_soup.find('div', {'class': 'company-name'})\n",
    "                contract_type = subpage_soup.find('div', {'class': 'contract-type'})\n",
    "                work_experience = subpage_soup.find('div', {'class': 'work-experience'})\n",
    "                min_salary = subpage_soup.find('div', {'class': 'min-salary'})\n",
    "                gender = subpage_soup.find('div', {'class': 'gender'})\n",
    "                education_level = subpage_soup.find('div', {'class': 'education-level'})\n",
    "\n",
    "                job_data = {\n",
    "                    \"url\": subpage_url,\n",
    "                    \"content_snippet\": subpage_text[:1000],\n",
    "                    \"job_title\": job_title.get_text(strip=True) if job_title else \"N/A\",\n",
    "                    \"job_type\": job_type.get_text(strip=True) if job_type else \"N/A\",\n",
    "                    \"job_location\": job_location.get_text(strip=True) if job_location else \"N/A\",\n",
    "                    \"company_name\": company_name.get_text(strip=True) if company_name else \"N/A\",\n",
    "                    \"contract_type\": contract_type.get_text(strip=True) if contract_type else \"N/A\",\n",
    "                    \"work_experience\": work_experience.get_text(strip=True) if work_experience else \"N/A\",\n",
    "                    \"min_salary\": min_salary.get_text(strip=True) if min_salary else \"N/A\",\n",
    "                    \"gender\": gender.get_text(strip=True) if gender else \"N/A\",\n",
    "                    \"education_level\": education_level.get_text(strip=True) if education_level else \"N/A\",\n",
    "                }\n",
    "                self.all_jobs_data.append(job_data)\n",
    "\n",
    "                print(f\"URL: {subpage_url}\\nContent Snippet: {subpage_text[:1000]}\\n\")\n",
    "                time.sleep(1)  # To avoid overwhelming the server\n",
    "\n",
    "            except requests.exceptions.RequestException as e:\n",
    "                print(f\"An error occurred while accessing {subpage_url}: {e}\")\n",
    "\n",
    "    def scrape(self):\n",
    "        self.get_links()\n",
    "        if not self.subpage_links:\n",
    "            print(\"No links found to scrape.\")\n",
    "            return\n",
    "        self.extract_subpage_text()\n",
    "\n",
    "    def descriptive_statistics(self):\n",
    "        # Generate descriptive statistics for the dataset\n",
    "        df = pd.DataFrame(self.all_jobs_data)\n",
    "        if not df.empty:\n",
    "            print(df.describe(include='all'))\n",
    "        else:\n",
    "            print(\"No data available to generate statistics.\")\n",
    "\n",
    "    def sort_data(self):\n",
    "        # Convert all_jobs_data to a DataFrame and sort by multiple columns\n",
    "        df = pd.DataFrame(self.all_jobs_data)\n",
    "        if not df.empty:\n",
    "            df_sorted = df.sort_values(by=['job_title', 'job_type', 'job_location', 'contract_type', 'work_experience', 'min_salary', 'gender', 'education_level'])\n",
    "            print(\"Sorted Data:\")\n",
    "            print(df_sorted)\n",
    "\n",
    "            # Display sorted data as a matrix\n",
    "            print(\"Data Matrix:\")\n",
    "            print(df_sorted.to_string(index=False))\n",
    "\n",
    "            # Save each sorted job data to a .txt file in the specified directory\n",
    "            save_dir = \"C:/Users/negin/jobinja_sorted_data\"\n",
    "            if not os.path.exists(save_dir):\n",
    "                os.makedirs(save_dir)\n",
    "            \n",
    "            for index, row in df_sorted.iterrows():\n",
    "                file_path = os.path.join(save_dir, f\"job_{index + 1}.txt\")\n",
    "                with open(file_path, 'w', encoding='utf-8') as file:\n",
    "                    for key, value in row.items():\n",
    "                        file.write(f\"{key.capitalize()}: {value}\\n\")\n",
    "        else:\n",
    "            print(\"No data available to sort.\")\n",
    "\n",
    "# Example usage\n",
    "if __name__ == \"__main__\":\n",
    "    url = \"https://jobinja.ir/\"\n",
    "    headers = {\n",
    "        \"User-Agent\": \"Mozilla/5.0 (Windows NT 10.0; Win64; x64) AppleWebKit/537.36 (KHTML, like Gecko) Chrome/58.0.3029.110 Safari/537.3\"\n",
    "    }\n",
    "    scraper = JobinjaScraper(url, headers)\n",
    "    scraper.scrape()\n",
    "    scraper.descriptive_statistics()\n",
    "    scraper.sort_data()\n"
   ]
  },
  {
   "cell_type": "code",
   "execution_count": null,
   "id": "81ef34b4-d88e-454f-aec3-6fd103cbeef3",
   "metadata": {},
   "outputs": [],
   "source": []
  }
 ],
 "metadata": {
  "kernelspec": {
   "display_name": "Python 3 (ipykernel)",
   "language": "python",
   "name": "python3"
  },
  "language_info": {
   "codemirror_mode": {
    "name": "ipython",
    "version": 3
   },
   "file_extension": ".py",
   "mimetype": "text/x-python",
   "name": "python",
   "nbconvert_exporter": "python",
   "pygments_lexer": "ipython3",
   "version": "3.12.4"
  }
 },
 "nbformat": 4,
 "nbformat_minor": 5
}
